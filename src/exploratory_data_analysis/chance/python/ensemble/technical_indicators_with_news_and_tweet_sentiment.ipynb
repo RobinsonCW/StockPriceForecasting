{
 "cells": [
  {
   "cell_type": "code",
   "execution_count": 72,
   "metadata": {},
   "outputs": [],
   "source": [
    "%matplotlib inline\n",
    "\n",
    "import os\n",
    "import datetime\n",
    "\n",
    "import IPython\n",
    "import IPython.display\n",
    "import matplotlib as mpl\n",
    "import matplotlib.pyplot as plt\n",
    "import numpy as np\n",
    "import pandas as pd\n",
    "import seaborn as sns\n",
    "import tensorflow as tf\n",
    "\n",
    "mpl.rcParams['figure.figsize'] = (8, 6)\n",
    "mpl.rcParams['axes.grid'] = False"
   ]
  },
  {
   "cell_type": "code",
   "execution_count": 73,
   "metadata": {},
   "outputs": [],
   "source": [
    "pd. set_option('display.max_columns', 500)\n",
    "pd.set_option('display.max_colwidth', 0)"
   ]
  },
  {
   "cell_type": "markdown",
   "metadata": {},
   "source": [
    "# Alpha Vantage\n",
    "\n",
    "This is the main dataframe with stock market technical indicators"
   ]
  },
  {
   "cell_type": "code",
   "execution_count": 74,
   "metadata": {},
   "outputs": [],
   "source": [
    "alphavantage_csv_path = \"/app/StockPricePredictions/data/alphavantage/time_series_daily_adjusted/AAPL.csv\""
   ]
  },
  {
   "cell_type": "code",
   "execution_count": 75,
   "metadata": {},
   "outputs": [],
   "source": [
    "df = pd.read_csv(alphavantage_csv_path, low_memory=False)\n",
    "df.sort_values(by=[\"date\"], ascending=True, inplace=True)\n",
    "\n",
    "df = df[df[\"date\"]>='2010-01-01']\n",
    "\n",
    "df[\"date\"] = pd.to_datetime(df['date'])\n",
    "\n",
    "df.set_index(\"date\", inplace=True)"
   ]
  },
  {
   "cell_type": "code",
   "execution_count": 76,
   "metadata": {},
   "outputs": [
    {
     "data": {
      "text/plain": [
       "3064"
      ]
     },
     "execution_count": 76,
     "metadata": {},
     "output_type": "execute_result"
    }
   ],
   "source": [
    "df.shape[0]"
   ]
  },
  {
   "cell_type": "code",
   "execution_count": 77,
   "metadata": {},
   "outputs": [
    {
     "name": "stdout",
     "output_type": "stream",
     "text": [
      "<class 'pandas.core.frame.DataFrame'>\n",
      "DatetimeIndex: 3064 entries, 2010-01-04 to 2022-03-04\n",
      "Data columns (total 8 columns):\n",
      " #   Column                Non-Null Count  Dtype  \n",
      "---  ------                --------------  -----  \n",
      " 0   1. open               3064 non-null   float64\n",
      " 1   2. high               3064 non-null   float64\n",
      " 2   3. low                3064 non-null   float64\n",
      " 3   4. close              3064 non-null   float64\n",
      " 4   5. adjusted close     3064 non-null   float64\n",
      " 5   6. volume             3064 non-null   float64\n",
      " 6   7. dividend amount    3064 non-null   float64\n",
      " 7   8. split coefficient  3064 non-null   float64\n",
      "dtypes: float64(8)\n",
      "memory usage: 215.4 KB\n"
     ]
    }
   ],
   "source": [
    "df.info()"
   ]
  },
  {
   "cell_type": "code",
   "execution_count": 78,
   "metadata": {},
   "outputs": [
    {
     "data": {
      "text/html": [
       "<div>\n",
       "<style scoped>\n",
       "    .dataframe tbody tr th:only-of-type {\n",
       "        vertical-align: middle;\n",
       "    }\n",
       "\n",
       "    .dataframe tbody tr th {\n",
       "        vertical-align: top;\n",
       "    }\n",
       "\n",
       "    .dataframe thead th {\n",
       "        text-align: right;\n",
       "    }\n",
       "</style>\n",
       "<table border=\"1\" class=\"dataframe\">\n",
       "  <thead>\n",
       "    <tr style=\"text-align: right;\">\n",
       "      <th></th>\n",
       "      <th>1. open</th>\n",
       "      <th>2. high</th>\n",
       "      <th>3. low</th>\n",
       "      <th>4. close</th>\n",
       "      <th>5. adjusted close</th>\n",
       "      <th>6. volume</th>\n",
       "      <th>7. dividend amount</th>\n",
       "      <th>8. split coefficient</th>\n",
       "    </tr>\n",
       "    <tr>\n",
       "      <th>date</th>\n",
       "      <th></th>\n",
       "      <th></th>\n",
       "      <th></th>\n",
       "      <th></th>\n",
       "      <th></th>\n",
       "      <th></th>\n",
       "      <th></th>\n",
       "      <th></th>\n",
       "    </tr>\n",
       "  </thead>\n",
       "  <tbody>\n",
       "    <tr>\n",
       "      <th>2010-01-04</th>\n",
       "      <td>213.43</td>\n",
       "      <td>214.50</td>\n",
       "      <td>212.38</td>\n",
       "      <td>214.01</td>\n",
       "      <td>6.543876</td>\n",
       "      <td>17633200.0</td>\n",
       "      <td>0.0</td>\n",
       "      <td>1.0</td>\n",
       "    </tr>\n",
       "    <tr>\n",
       "      <th>2010-01-05</th>\n",
       "      <td>214.60</td>\n",
       "      <td>215.59</td>\n",
       "      <td>213.25</td>\n",
       "      <td>214.38</td>\n",
       "      <td>6.555190</td>\n",
       "      <td>21496600.0</td>\n",
       "      <td>0.0</td>\n",
       "      <td>1.0</td>\n",
       "    </tr>\n",
       "    <tr>\n",
       "      <th>2010-01-06</th>\n",
       "      <td>214.38</td>\n",
       "      <td>215.23</td>\n",
       "      <td>210.75</td>\n",
       "      <td>210.97</td>\n",
       "      <td>6.450921</td>\n",
       "      <td>19720000.0</td>\n",
       "      <td>0.0</td>\n",
       "      <td>1.0</td>\n",
       "    </tr>\n",
       "    <tr>\n",
       "      <th>2010-01-07</th>\n",
       "      <td>211.75</td>\n",
       "      <td>212.00</td>\n",
       "      <td>209.05</td>\n",
       "      <td>210.58</td>\n",
       "      <td>6.438996</td>\n",
       "      <td>17040400.0</td>\n",
       "      <td>0.0</td>\n",
       "      <td>1.0</td>\n",
       "    </tr>\n",
       "    <tr>\n",
       "      <th>2010-01-08</th>\n",
       "      <td>210.30</td>\n",
       "      <td>212.00</td>\n",
       "      <td>209.06</td>\n",
       "      <td>211.98</td>\n",
       "      <td>6.481804</td>\n",
       "      <td>15986100.0</td>\n",
       "      <td>0.0</td>\n",
       "      <td>1.0</td>\n",
       "    </tr>\n",
       "  </tbody>\n",
       "</table>\n",
       "</div>"
      ],
      "text/plain": [
       "            1. open  2. high  3. low  4. close  5. adjusted close   6. volume  \\\n",
       "date                                                                            \n",
       "2010-01-04  213.43   214.50   212.38  214.01    6.543876           17633200.0   \n",
       "2010-01-05  214.60   215.59   213.25  214.38    6.555190           21496600.0   \n",
       "2010-01-06  214.38   215.23   210.75  210.97    6.450921           19720000.0   \n",
       "2010-01-07  211.75   212.00   209.05  210.58    6.438996           17040400.0   \n",
       "2010-01-08  210.30   212.00   209.06  211.98    6.481804           15986100.0   \n",
       "\n",
       "            7. dividend amount  8. split coefficient  \n",
       "date                                                  \n",
       "2010-01-04  0.0                 1.0                   \n",
       "2010-01-05  0.0                 1.0                   \n",
       "2010-01-06  0.0                 1.0                   \n",
       "2010-01-07  0.0                 1.0                   \n",
       "2010-01-08  0.0                 1.0                   "
      ]
     },
     "execution_count": 78,
     "metadata": {},
     "output_type": "execute_result"
    }
   ],
   "source": [
    "df.head()"
   ]
  },
  {
   "cell_type": "markdown",
   "metadata": {},
   "source": [
    "# Benzinga"
   ]
  },
  {
   "cell_type": "code",
   "execution_count": 79,
   "metadata": {},
   "outputs": [],
   "source": [
    "benzinga_csv_path = \"/app/StockPricePredictions/data/benzinga/aapl_non_dupes.csv\""
   ]
  },
  {
   "cell_type": "code",
   "execution_count": 80,
   "metadata": {},
   "outputs": [],
   "source": [
    "df_benzinga = pd.read_csv(benzinga_csv_path, low_memory=False)"
   ]
  },
  {
   "cell_type": "code",
   "execution_count": 81,
   "metadata": {},
   "outputs": [],
   "source": [
    "df_benzinga['date'] = pd.to_datetime(df_benzinga['date'])"
   ]
  },
  {
   "cell_type": "code",
   "execution_count": 82,
   "metadata": {},
   "outputs": [
    {
     "name": "stdout",
     "output_type": "stream",
     "text": [
      "<class 'pandas.core.frame.DataFrame'>\n",
      "RangeIndex: 29077 entries, 0 to 29076\n",
      "Data columns (total 19 columns):\n",
      " #   Column    Non-Null Count  Dtype         \n",
      "---  ------    --------------  -----         \n",
      " 0   date      29077 non-null  datetime64[ns]\n",
      " 1   author    29077 non-null  object        \n",
      " 2   created   29077 non-null  object        \n",
      " 3   updated   29077 non-null  object        \n",
      " 4   title     29077 non-null  object        \n",
      " 5   teaser    4824 non-null   object        \n",
      " 6   body      23916 non-null  object        \n",
      " 7   url       29077 non-null  object        \n",
      " 8   image     29077 non-null  object        \n",
      " 9   channels  29077 non-null  object        \n",
      " 10  stocks    29077 non-null  object        \n",
      " 11  tags      29077 non-null  object        \n",
      " 12  AAPL      29077 non-null  bool          \n",
      " 13  MSFT      29077 non-null  bool          \n",
      " 14  AMZN      29077 non-null  bool          \n",
      " 15  FB        29077 non-null  bool          \n",
      " 16  NVDA      29077 non-null  bool          \n",
      " 17  INTC      29077 non-null  bool          \n",
      " 18  NFLX      29077 non-null  bool          \n",
      "dtypes: bool(7), datetime64[ns](1), object(11)\n",
      "memory usage: 2.9+ MB\n"
     ]
    }
   ],
   "source": [
    "df_benzinga.info()"
   ]
  },
  {
   "cell_type": "code",
   "execution_count": 83,
   "metadata": {},
   "outputs": [
    {
     "data": {
      "text/plain": [
       "Index(['date', 'author', 'created', 'updated', 'title', 'teaser', 'body',\n",
       "       'url', 'image', 'channels', 'stocks', 'tags', 'AAPL', 'MSFT', 'AMZN',\n",
       "       'FB', 'NVDA', 'INTC', 'NFLX'],\n",
       "      dtype='object')"
      ]
     },
     "execution_count": 83,
     "metadata": {},
     "output_type": "execute_result"
    }
   ],
   "source": [
    "df_benzinga.columns"
   ]
  },
  {
   "cell_type": "code",
   "execution_count": 84,
   "metadata": {},
   "outputs": [],
   "source": [
    "df_benzinga[\"text\"] = df_benzinga[\"title\"] + \" \" + df_benzinga[\"body\"]"
   ]
  },
  {
   "cell_type": "code",
   "execution_count": 85,
   "metadata": {},
   "outputs": [],
   "source": [
    "df_benzinga['text'] = np.where(df_benzinga[\"text\"], df_benzinga[\"title\"], df_benzinga[\"text\"])"
   ]
  },
  {
   "cell_type": "code",
   "execution_count": 86,
   "metadata": {},
   "outputs": [],
   "source": [
    "df_benzinga = df_benzinga[[ \"date\", \"text\"]]"
   ]
  },
  {
   "cell_type": "code",
   "execution_count": 87,
   "metadata": {},
   "outputs": [
    {
     "name": "stdout",
     "output_type": "stream",
     "text": [
      "<class 'pandas.core.frame.DataFrame'>\n",
      "RangeIndex: 29077 entries, 0 to 29076\n",
      "Data columns (total 2 columns):\n",
      " #   Column  Non-Null Count  Dtype         \n",
      "---  ------  --------------  -----         \n",
      " 0   date    29077 non-null  datetime64[ns]\n",
      " 1   text    29077 non-null  object        \n",
      "dtypes: datetime64[ns](1), object(1)\n",
      "memory usage: 454.5+ KB\n"
     ]
    }
   ],
   "source": [
    "df_benzinga.info()"
   ]
  },
  {
   "cell_type": "code",
   "execution_count": 88,
   "metadata": {},
   "outputs": [
    {
     "data": {
      "text/html": [
       "<div>\n",
       "<style scoped>\n",
       "    .dataframe tbody tr th:only-of-type {\n",
       "        vertical-align: middle;\n",
       "    }\n",
       "\n",
       "    .dataframe tbody tr th {\n",
       "        vertical-align: top;\n",
       "    }\n",
       "\n",
       "    .dataframe thead th {\n",
       "        text-align: right;\n",
       "    }\n",
       "</style>\n",
       "<table border=\"1\" class=\"dataframe\">\n",
       "  <thead>\n",
       "    <tr style=\"text-align: right;\">\n",
       "      <th></th>\n",
       "      <th>date</th>\n",
       "      <th>text</th>\n",
       "    </tr>\n",
       "  </thead>\n",
       "  <tbody>\n",
       "    <tr>\n",
       "      <th>0</th>\n",
       "      <td>2010-01-02</td>\n",
       "      <td>Time to Sell Apple Puts</td>\n",
       "    </tr>\n",
       "    <tr>\n",
       "      <th>1</th>\n",
       "      <td>2010-01-04</td>\n",
       "      <td>Nexus – Will It Change Telecom Industry Dynamics? (GOOG, AAPL, RIMM, ATT, VZ)</td>\n",
       "    </tr>\n",
       "    <tr>\n",
       "      <th>2</th>\n",
       "      <td>2010-01-04</td>\n",
       "      <td>Company News for January 04, 2010 - Corporate Summary</td>\n",
       "    </tr>\n",
       "    <tr>\n",
       "      <th>3</th>\n",
       "      <td>2010-01-04</td>\n",
       "      <td>Technology Industry Update (DELL, AAPL, AMD, INTC, NVD)</td>\n",
       "    </tr>\n",
       "    <tr>\n",
       "      <th>4</th>\n",
       "      <td>2010-01-04</td>\n",
       "      <td>Apple Defies Gravity</td>\n",
       "    </tr>\n",
       "  </tbody>\n",
       "</table>\n",
       "</div>"
      ],
      "text/plain": [
       "        date  \\\n",
       "0 2010-01-02   \n",
       "1 2010-01-04   \n",
       "2 2010-01-04   \n",
       "3 2010-01-04   \n",
       "4 2010-01-04   \n",
       "\n",
       "                                                                            text  \n",
       "0  Time to Sell Apple Puts                                                        \n",
       "1  Nexus – Will It Change Telecom Industry Dynamics? (GOOG, AAPL, RIMM, ATT, VZ)  \n",
       "2  Company News for January 04, 2010 - Corporate Summary                          \n",
       "3  Technology Industry Update (DELL, AAPL, AMD, INTC, NVD)                        \n",
       "4  Apple Defies Gravity                                                           "
      ]
     },
     "execution_count": 88,
     "metadata": {},
     "output_type": "execute_result"
    }
   ],
   "source": [
    "df_benzinga.head()"
   ]
  },
  {
   "cell_type": "markdown",
   "metadata": {},
   "source": [
    "# Tweets\n",
    "\n",
    "Data collected from twint api"
   ]
  },
  {
   "cell_type": "code",
   "execution_count": 89,
   "metadata": {},
   "outputs": [],
   "source": [
    "twint_csv_path = \"/app/StockPricePredictions/data/twint/AAPL_20100101_to_20220304.csv\""
   ]
  },
  {
   "cell_type": "code",
   "execution_count": 90,
   "metadata": {},
   "outputs": [],
   "source": [
    "df_twint = pd.read_csv(twint_csv_path, low_memory=False, lineterminator='\\n')"
   ]
  },
  {
   "cell_type": "code",
   "execution_count": 91,
   "metadata": {},
   "outputs": [],
   "source": [
    "df_twint['date'] = pd.to_datetime(df_twint['date'])"
   ]
  },
  {
   "cell_type": "code",
   "execution_count": 92,
   "metadata": {},
   "outputs": [],
   "source": [
    "df_twint = df_twint[[ \"id\", \"date\", \"created_at\", \"tweet\", \"hashtags\", \"cashtags\", \"day\", \"hour\", \"nlikes\", \"nretweets\"]]"
   ]
  },
  {
   "cell_type": "code",
   "execution_count": 93,
   "metadata": {},
   "outputs": [
    {
     "name": "stdout",
     "output_type": "stream",
     "text": [
      "<class 'pandas.core.frame.DataFrame'>\n",
      "RangeIndex: 41056 entries, 0 to 41055\n",
      "Data columns (total 10 columns):\n",
      " #   Column      Non-Null Count  Dtype         \n",
      "---  ------      --------------  -----         \n",
      " 0   id          41056 non-null  int64         \n",
      " 1   date        41056 non-null  datetime64[ns]\n",
      " 2   created_at  41056 non-null  float64       \n",
      " 3   tweet       41056 non-null  object        \n",
      " 4   hashtags    41056 non-null  object        \n",
      " 5   cashtags    41056 non-null  object        \n",
      " 6   day         41056 non-null  int64         \n",
      " 7   hour        41056 non-null  int64         \n",
      " 8   nlikes      41056 non-null  int64         \n",
      " 9   nretweets   41056 non-null  int64         \n",
      "dtypes: datetime64[ns](1), float64(1), int64(5), object(3)\n",
      "memory usage: 3.1+ MB\n"
     ]
    }
   ],
   "source": [
    "df_twint.info()"
   ]
  },
  {
   "cell_type": "code",
   "execution_count": 94,
   "metadata": {},
   "outputs": [],
   "source": [
    "def clean_tweet(df, source):\n",
    "    # replace URLs with a whitespace\n",
    "\n",
    "    if source == \"benzinga\":\n",
    "        df['text'] = df['text'].str.replace('http[s]?://(?:[a-zA-Z]|[0-9]|[$-_@.&+]|[!*\\(\\),]|(?:%[0-9a-fA-F][0-9a-fA-F]))+', ' ')\n",
    "    elif source == \"twint\":\n",
    "        df['tweet'] = df['tweet'].str.replace('http[s]?://(?:[a-zA-Z]|[0-9]|[$-_@.&+]|[!*\\(\\),]|(?:%[0-9a-fA-F][0-9a-fA-F]))+', ' ')\n",
    "    \n",
    "    return df"
   ]
  },
  {
   "cell_type": "code",
   "execution_count": 95,
   "metadata": {},
   "outputs": [
    {
     "name": "stderr",
     "output_type": "stream",
     "text": [
      "<ipython-input-94-f565cf0694ea>:5: FutureWarning: The default value of regex will change from True to False in a future version.\n",
      "  df['text'] = df['text'].str.replace('http[s]?://(?:[a-zA-Z]|[0-9]|[$-_@.&+]|[!*\\(\\),]|(?:%[0-9a-fA-F][0-9a-fA-F]))+', ' ')\n"
     ]
    }
   ],
   "source": [
    "df_benzinga = clean_tweet(df_benzinga, \"benzinga\")"
   ]
  },
  {
   "cell_type": "code",
   "execution_count": 96,
   "metadata": {},
   "outputs": [
    {
     "name": "stderr",
     "output_type": "stream",
     "text": [
      "<ipython-input-94-f565cf0694ea>:7: FutureWarning: The default value of regex will change from True to False in a future version.\n",
      "  df['tweet'] = df['tweet'].str.replace('http[s]?://(?:[a-zA-Z]|[0-9]|[$-_@.&+]|[!*\\(\\),]|(?:%[0-9a-fA-F][0-9a-fA-F]))+', ' ')\n"
     ]
    }
   ],
   "source": [
    "df_twint = clean_tweet(df_twint, \"twint\")"
   ]
  },
  {
   "cell_type": "code",
   "execution_count": 97,
   "metadata": {},
   "outputs": [
    {
     "data": {
      "text/html": [
       "<div>\n",
       "<style scoped>\n",
       "    .dataframe tbody tr th:only-of-type {\n",
       "        vertical-align: middle;\n",
       "    }\n",
       "\n",
       "    .dataframe tbody tr th {\n",
       "        vertical-align: top;\n",
       "    }\n",
       "\n",
       "    .dataframe thead th {\n",
       "        text-align: right;\n",
       "    }\n",
       "</style>\n",
       "<table border=\"1\" class=\"dataframe\">\n",
       "  <thead>\n",
       "    <tr style=\"text-align: right;\">\n",
       "      <th></th>\n",
       "      <th>date</th>\n",
       "      <th>text</th>\n",
       "    </tr>\n",
       "  </thead>\n",
       "  <tbody>\n",
       "    <tr>\n",
       "      <th>0</th>\n",
       "      <td>2010-01-02</td>\n",
       "      <td>Time to Sell Apple Puts</td>\n",
       "    </tr>\n",
       "    <tr>\n",
       "      <th>1</th>\n",
       "      <td>2010-01-04</td>\n",
       "      <td>Nexus – Will It Change Telecom Industry Dynamics? (GOOG, AAPL, RIMM, ATT, VZ)</td>\n",
       "    </tr>\n",
       "    <tr>\n",
       "      <th>2</th>\n",
       "      <td>2010-01-04</td>\n",
       "      <td>Company News for January 04, 2010 - Corporate Summary</td>\n",
       "    </tr>\n",
       "    <tr>\n",
       "      <th>3</th>\n",
       "      <td>2010-01-04</td>\n",
       "      <td>Technology Industry Update (DELL, AAPL, AMD, INTC, NVD)</td>\n",
       "    </tr>\n",
       "    <tr>\n",
       "      <th>4</th>\n",
       "      <td>2010-01-04</td>\n",
       "      <td>Apple Defies Gravity</td>\n",
       "    </tr>\n",
       "  </tbody>\n",
       "</table>\n",
       "</div>"
      ],
      "text/plain": [
       "        date  \\\n",
       "0 2010-01-02   \n",
       "1 2010-01-04   \n",
       "2 2010-01-04   \n",
       "3 2010-01-04   \n",
       "4 2010-01-04   \n",
       "\n",
       "                                                                            text  \n",
       "0  Time to Sell Apple Puts                                                        \n",
       "1  Nexus – Will It Change Telecom Industry Dynamics? (GOOG, AAPL, RIMM, ATT, VZ)  \n",
       "2  Company News for January 04, 2010 - Corporate Summary                          \n",
       "3  Technology Industry Update (DELL, AAPL, AMD, INTC, NVD)                        \n",
       "4  Apple Defies Gravity                                                           "
      ]
     },
     "execution_count": 97,
     "metadata": {},
     "output_type": "execute_result"
    }
   ],
   "source": [
    "df_benzinga.head()"
   ]
  },
  {
   "cell_type": "markdown",
   "metadata": {},
   "source": [
    "# Vader Sentiment"
   ]
  },
  {
   "cell_type": "code",
   "execution_count": 98,
   "metadata": {},
   "outputs": [],
   "source": [
    "idx = 0"
   ]
  },
  {
   "cell_type": "code",
   "execution_count": 99,
   "metadata": {},
   "outputs": [
    {
     "name": "stdout",
     "output_type": "stream",
     "text": [
      "Time to Sell Apple Puts------------------------------------------ {'neg': 0.0, 'neu': 1.0, 'pos': 0.0, 'compound': 0.0}\n"
     ]
    }
   ],
   "source": [
    "from vaderSentiment.vaderSentiment import SentimentIntensityAnalyzer\n",
    "\n",
    "analyzer = SentimentIntensityAnalyzer()\n",
    "sentence = df_benzinga[\"text\"][idx] \n",
    "vs = analyzer.polarity_scores(sentence)\n",
    "print(\"{:-<65} {}\".format(sentence, str(vs)))"
   ]
  },
  {
   "cell_type": "code",
   "execution_count": 100,
   "metadata": {},
   "outputs": [],
   "source": [
    "def getSIA(text):\n",
    "    sia = SentimentIntensityAnalyzer()\n",
    "    sentiment = sia.polarity_scores(text)\n",
    "    return sentiment"
   ]
  },
  {
   "cell_type": "code",
   "execution_count": 101,
   "metadata": {},
   "outputs": [],
   "source": [
    "negative = []\n",
    "neutral = []\n",
    "positive = []\n",
    "compound = []\n",
    "\n",
    "for i in range(0, len(df_benzinga[\"text\"])):\n",
    "    sia = getSIA(df_benzinga[\"text\"][i])\n",
    "    negative.append(sia[\"neg\"])\n",
    "    neutral.append(sia[\"neu\"])\n",
    "    positive.append(sia[\"pos\"])\n",
    "    compound.append(sia[\"compound\"])\n",
    "\n",
    "df_benzinga[\"negative\"] = negative\n",
    "df_benzinga[\"neutral\"] = neutral\n",
    "df_benzinga[\"positive\"] = positive\n",
    "df_benzinga[\"compound\"] = compound"
   ]
  },
  {
   "cell_type": "code",
   "execution_count": 103,
   "metadata": {},
   "outputs": [],
   "source": [
    "negative = []\n",
    "neutral = []\n",
    "positive = []\n",
    "compound = []\n",
    "\n",
    "for i in range(0, len(df_twint[\"tweet\"])):\n",
    "    sia = getSIA(df_twint[\"tweet\"][i])\n",
    "    negative.append(sia[\"neg\"])\n",
    "    neutral.append(sia[\"neu\"])\n",
    "    positive.append(sia[\"pos\"])\n",
    "    compound.append(sia[\"compound\"])\n",
    "\n",
    "df_twint[\"negative\"] = negative\n",
    "df_twint[\"neutral\"] = neutral\n",
    "df_twint[\"positive\"] = positive\n",
    "df_twint[\"compound\"] = compound"
   ]
  },
  {
   "cell_type": "markdown",
   "metadata": {},
   "source": [
    "## Benzinga Group By Date"
   ]
  },
  {
   "cell_type": "code",
   "execution_count": 104,
   "metadata": {},
   "outputs": [],
   "source": [
    "df_benzinga.set_index(\"date\", inplace=True)"
   ]
  },
  {
   "cell_type": "code",
   "execution_count": 105,
   "metadata": {},
   "outputs": [
    {
     "data": {
      "text/html": [
       "<div>\n",
       "<style scoped>\n",
       "    .dataframe tbody tr th:only-of-type {\n",
       "        vertical-align: middle;\n",
       "    }\n",
       "\n",
       "    .dataframe tbody tr th {\n",
       "        vertical-align: top;\n",
       "    }\n",
       "\n",
       "    .dataframe thead th {\n",
       "        text-align: right;\n",
       "    }\n",
       "</style>\n",
       "<table border=\"1\" class=\"dataframe\">\n",
       "  <thead>\n",
       "    <tr style=\"text-align: right;\">\n",
       "      <th></th>\n",
       "      <th>text</th>\n",
       "      <th>negative</th>\n",
       "      <th>neutral</th>\n",
       "      <th>positive</th>\n",
       "      <th>compound</th>\n",
       "    </tr>\n",
       "    <tr>\n",
       "      <th>date</th>\n",
       "      <th></th>\n",
       "      <th></th>\n",
       "      <th></th>\n",
       "      <th></th>\n",
       "      <th></th>\n",
       "    </tr>\n",
       "  </thead>\n",
       "  <tbody>\n",
       "    <tr>\n",
       "      <th>2010-01-02</th>\n",
       "      <td>Time to Sell Apple Puts</td>\n",
       "      <td>0.0</td>\n",
       "      <td>1.000</td>\n",
       "      <td>0.000</td>\n",
       "      <td>0.0000</td>\n",
       "    </tr>\n",
       "    <tr>\n",
       "      <th>2010-01-04</th>\n",
       "      <td>Nexus – Will It Change Telecom Industry Dynamics? (GOOG, AAPL, RIMM, ATT, VZ)</td>\n",
       "      <td>0.0</td>\n",
       "      <td>0.851</td>\n",
       "      <td>0.149</td>\n",
       "      <td>0.2732</td>\n",
       "    </tr>\n",
       "    <tr>\n",
       "      <th>2010-01-04</th>\n",
       "      <td>Company News for January 04, 2010 - Corporate Summary</td>\n",
       "      <td>0.0</td>\n",
       "      <td>1.000</td>\n",
       "      <td>0.000</td>\n",
       "      <td>0.0000</td>\n",
       "    </tr>\n",
       "    <tr>\n",
       "      <th>2010-01-04</th>\n",
       "      <td>Technology Industry Update (DELL, AAPL, AMD, INTC, NVD)</td>\n",
       "      <td>0.0</td>\n",
       "      <td>1.000</td>\n",
       "      <td>0.000</td>\n",
       "      <td>0.0000</td>\n",
       "    </tr>\n",
       "    <tr>\n",
       "      <th>2010-01-04</th>\n",
       "      <td>Apple Defies Gravity</td>\n",
       "      <td>0.0</td>\n",
       "      <td>1.000</td>\n",
       "      <td>0.000</td>\n",
       "      <td>0.0000</td>\n",
       "    </tr>\n",
       "  </tbody>\n",
       "</table>\n",
       "</div>"
      ],
      "text/plain": [
       "                                                                                     text  \\\n",
       "date                                                                                        \n",
       "2010-01-02  Time to Sell Apple Puts                                                         \n",
       "2010-01-04  Nexus – Will It Change Telecom Industry Dynamics? (GOOG, AAPL, RIMM, ATT, VZ)   \n",
       "2010-01-04  Company News for January 04, 2010 - Corporate Summary                           \n",
       "2010-01-04  Technology Industry Update (DELL, AAPL, AMD, INTC, NVD)                         \n",
       "2010-01-04  Apple Defies Gravity                                                            \n",
       "\n",
       "            negative  neutral  positive  compound  \n",
       "date                                               \n",
       "2010-01-02  0.0       1.000    0.000     0.0000    \n",
       "2010-01-04  0.0       0.851    0.149     0.2732    \n",
       "2010-01-04  0.0       1.000    0.000     0.0000    \n",
       "2010-01-04  0.0       1.000    0.000     0.0000    \n",
       "2010-01-04  0.0       1.000    0.000     0.0000    "
      ]
     },
     "execution_count": 105,
     "metadata": {},
     "output_type": "execute_result"
    }
   ],
   "source": [
    "df_benzinga.head()"
   ]
  },
  {
   "cell_type": "code",
   "execution_count": 106,
   "metadata": {},
   "outputs": [],
   "source": [
    "df_benzinga_duplicated_index = df_benzinga[df_benzinga.index.duplicated(keep=False)]"
   ]
  },
  {
   "cell_type": "code",
   "execution_count": 107,
   "metadata": {},
   "outputs": [
    {
     "data": {
      "text/plain": [
       "28562"
      ]
     },
     "execution_count": 107,
     "metadata": {},
     "output_type": "execute_result"
    }
   ],
   "source": [
    "df_benzinga_duplicated_index.shape[0]"
   ]
  },
  {
   "cell_type": "code",
   "execution_count": 108,
   "metadata": {},
   "outputs": [],
   "source": [
    "df_benzinga_nonduplicated_index = df_benzinga[~df_benzinga.index.duplicated(keep=False)]"
   ]
  },
  {
   "cell_type": "code",
   "execution_count": 109,
   "metadata": {},
   "outputs": [
    {
     "data": {
      "text/plain": [
       "515"
      ]
     },
     "execution_count": 109,
     "metadata": {},
     "output_type": "execute_result"
    }
   ],
   "source": [
    "df_benzinga_nonduplicated_index.shape[0]"
   ]
  },
  {
   "cell_type": "code",
   "execution_count": 110,
   "metadata": {},
   "outputs": [],
   "source": [
    "df_benzinga_groupby = df_benzinga.groupby(\"date\").agg(\n",
    "     negative = (\"negative\", \"mean\"),\n",
    "     nuetral = (\"neutral\", \"mean\"),\n",
    "     positive = (\"positive\", \"mean\"),\n",
    "     compound = (\"compound\", \"mean\"),\n",
    "     )\n"
   ]
  },
  {
   "cell_type": "code",
   "execution_count": 111,
   "metadata": {},
   "outputs": [
    {
     "data": {
      "text/html": [
       "<div>\n",
       "<style scoped>\n",
       "    .dataframe tbody tr th:only-of-type {\n",
       "        vertical-align: middle;\n",
       "    }\n",
       "\n",
       "    .dataframe tbody tr th {\n",
       "        vertical-align: top;\n",
       "    }\n",
       "\n",
       "    .dataframe thead th {\n",
       "        text-align: right;\n",
       "    }\n",
       "</style>\n",
       "<table border=\"1\" class=\"dataframe\">\n",
       "  <thead>\n",
       "    <tr style=\"text-align: right;\">\n",
       "      <th></th>\n",
       "      <th>negative</th>\n",
       "      <th>nuetral</th>\n",
       "      <th>positive</th>\n",
       "      <th>compound</th>\n",
       "    </tr>\n",
       "    <tr>\n",
       "      <th>date</th>\n",
       "      <th></th>\n",
       "      <th></th>\n",
       "      <th></th>\n",
       "      <th></th>\n",
       "    </tr>\n",
       "  </thead>\n",
       "  <tbody>\n",
       "    <tr>\n",
       "      <th>2010-01-02</th>\n",
       "      <td>0.000000</td>\n",
       "      <td>1.000000</td>\n",
       "      <td>0.000000</td>\n",
       "      <td>0.000000</td>\n",
       "    </tr>\n",
       "    <tr>\n",
       "      <th>2010-01-04</th>\n",
       "      <td>0.023300</td>\n",
       "      <td>0.946500</td>\n",
       "      <td>0.030200</td>\n",
       "      <td>0.012850</td>\n",
       "    </tr>\n",
       "    <tr>\n",
       "      <th>2010-01-05</th>\n",
       "      <td>0.039714</td>\n",
       "      <td>0.917929</td>\n",
       "      <td>0.042357</td>\n",
       "      <td>0.019529</td>\n",
       "    </tr>\n",
       "    <tr>\n",
       "      <th>2010-01-06</th>\n",
       "      <td>0.000000</td>\n",
       "      <td>0.929800</td>\n",
       "      <td>0.070200</td>\n",
       "      <td>0.090833</td>\n",
       "    </tr>\n",
       "    <tr>\n",
       "      <th>2010-01-07</th>\n",
       "      <td>0.000000</td>\n",
       "      <td>0.862250</td>\n",
       "      <td>0.137750</td>\n",
       "      <td>0.279775</td>\n",
       "    </tr>\n",
       "    <tr>\n",
       "      <th>...</th>\n",
       "      <td>...</td>\n",
       "      <td>...</td>\n",
       "      <td>...</td>\n",
       "      <td>...</td>\n",
       "    </tr>\n",
       "    <tr>\n",
       "      <th>2022-02-28</th>\n",
       "      <td>0.090125</td>\n",
       "      <td>0.785000</td>\n",
       "      <td>0.124875</td>\n",
       "      <td>-0.053988</td>\n",
       "    </tr>\n",
       "    <tr>\n",
       "      <th>2022-03-01</th>\n",
       "      <td>0.104500</td>\n",
       "      <td>0.841750</td>\n",
       "      <td>0.053750</td>\n",
       "      <td>-0.057088</td>\n",
       "    </tr>\n",
       "    <tr>\n",
       "      <th>2022-03-02</th>\n",
       "      <td>0.039500</td>\n",
       "      <td>0.894333</td>\n",
       "      <td>0.066167</td>\n",
       "      <td>0.014058</td>\n",
       "    </tr>\n",
       "    <tr>\n",
       "      <th>2022-03-03</th>\n",
       "      <td>0.054462</td>\n",
       "      <td>0.930231</td>\n",
       "      <td>0.015308</td>\n",
       "      <td>-0.082885</td>\n",
       "    </tr>\n",
       "    <tr>\n",
       "      <th>2022-03-04</th>\n",
       "      <td>0.028875</td>\n",
       "      <td>0.954500</td>\n",
       "      <td>0.016625</td>\n",
       "      <td>0.038625</td>\n",
       "    </tr>\n",
       "  </tbody>\n",
       "</table>\n",
       "<p>3846 rows × 4 columns</p>\n",
       "</div>"
      ],
      "text/plain": [
       "            negative   nuetral  positive  compound\n",
       "date                                              \n",
       "2010-01-02  0.000000  1.000000  0.000000  0.000000\n",
       "2010-01-04  0.023300  0.946500  0.030200  0.012850\n",
       "2010-01-05  0.039714  0.917929  0.042357  0.019529\n",
       "2010-01-06  0.000000  0.929800  0.070200  0.090833\n",
       "2010-01-07  0.000000  0.862250  0.137750  0.279775\n",
       "...              ...       ...       ...       ...\n",
       "2022-02-28  0.090125  0.785000  0.124875 -0.053988\n",
       "2022-03-01  0.104500  0.841750  0.053750 -0.057088\n",
       "2022-03-02  0.039500  0.894333  0.066167  0.014058\n",
       "2022-03-03  0.054462  0.930231  0.015308 -0.082885\n",
       "2022-03-04  0.028875  0.954500  0.016625  0.038625\n",
       "\n",
       "[3846 rows x 4 columns]"
      ]
     },
     "execution_count": 111,
     "metadata": {},
     "output_type": "execute_result"
    }
   ],
   "source": [
    "df_benzinga_groupby"
   ]
  },
  {
   "cell_type": "code",
   "execution_count": 112,
   "metadata": {},
   "outputs": [],
   "source": [
    "df_merge = pd.merge(df, df_benzinga_groupby, how=\"left\", left_index=True, right_index=True)"
   ]
  },
  {
   "cell_type": "code",
   "execution_count": 116,
   "metadata": {},
   "outputs": [],
   "source": [
    "df_merge.drop([\"negative\", \"nuetral\", \"positive\"], axis=1, inplace=True)"
   ]
  },
  {
   "cell_type": "code",
   "execution_count": 118,
   "metadata": {},
   "outputs": [],
   "source": [
    "df_merge.rename(columns={\"compound\": \"compound_financial_news\"}, inplace=True)"
   ]
  },
  {
   "cell_type": "code",
   "execution_count": 119,
   "metadata": {},
   "outputs": [
    {
     "data": {
      "text/html": [
       "<div>\n",
       "<style scoped>\n",
       "    .dataframe tbody tr th:only-of-type {\n",
       "        vertical-align: middle;\n",
       "    }\n",
       "\n",
       "    .dataframe tbody tr th {\n",
       "        vertical-align: top;\n",
       "    }\n",
       "\n",
       "    .dataframe thead th {\n",
       "        text-align: right;\n",
       "    }\n",
       "</style>\n",
       "<table border=\"1\" class=\"dataframe\">\n",
       "  <thead>\n",
       "    <tr style=\"text-align: right;\">\n",
       "      <th></th>\n",
       "      <th>1. open</th>\n",
       "      <th>2. high</th>\n",
       "      <th>3. low</th>\n",
       "      <th>4. close</th>\n",
       "      <th>5. adjusted close</th>\n",
       "      <th>6. volume</th>\n",
       "      <th>7. dividend amount</th>\n",
       "      <th>8. split coefficient</th>\n",
       "      <th>compound_financial_news</th>\n",
       "    </tr>\n",
       "    <tr>\n",
       "      <th>date</th>\n",
       "      <th></th>\n",
       "      <th></th>\n",
       "      <th></th>\n",
       "      <th></th>\n",
       "      <th></th>\n",
       "      <th></th>\n",
       "      <th></th>\n",
       "      <th></th>\n",
       "      <th></th>\n",
       "    </tr>\n",
       "  </thead>\n",
       "  <tbody>\n",
       "    <tr>\n",
       "      <th>2010-01-04</th>\n",
       "      <td>213.430</td>\n",
       "      <td>214.50</td>\n",
       "      <td>212.38</td>\n",
       "      <td>214.01</td>\n",
       "      <td>6.543876</td>\n",
       "      <td>17633200.0</td>\n",
       "      <td>0.0</td>\n",
       "      <td>1.0</td>\n",
       "      <td>0.012850</td>\n",
       "    </tr>\n",
       "    <tr>\n",
       "      <th>2010-01-05</th>\n",
       "      <td>214.600</td>\n",
       "      <td>215.59</td>\n",
       "      <td>213.25</td>\n",
       "      <td>214.38</td>\n",
       "      <td>6.555190</td>\n",
       "      <td>21496600.0</td>\n",
       "      <td>0.0</td>\n",
       "      <td>1.0</td>\n",
       "      <td>0.019529</td>\n",
       "    </tr>\n",
       "    <tr>\n",
       "      <th>2010-01-06</th>\n",
       "      <td>214.380</td>\n",
       "      <td>215.23</td>\n",
       "      <td>210.75</td>\n",
       "      <td>210.97</td>\n",
       "      <td>6.450921</td>\n",
       "      <td>19720000.0</td>\n",
       "      <td>0.0</td>\n",
       "      <td>1.0</td>\n",
       "      <td>0.090833</td>\n",
       "    </tr>\n",
       "    <tr>\n",
       "      <th>2010-01-07</th>\n",
       "      <td>211.750</td>\n",
       "      <td>212.00</td>\n",
       "      <td>209.05</td>\n",
       "      <td>210.58</td>\n",
       "      <td>6.438996</td>\n",
       "      <td>17040400.0</td>\n",
       "      <td>0.0</td>\n",
       "      <td>1.0</td>\n",
       "      <td>0.279775</td>\n",
       "    </tr>\n",
       "    <tr>\n",
       "      <th>2010-01-08</th>\n",
       "      <td>210.300</td>\n",
       "      <td>212.00</td>\n",
       "      <td>209.06</td>\n",
       "      <td>211.98</td>\n",
       "      <td>6.481804</td>\n",
       "      <td>15986100.0</td>\n",
       "      <td>0.0</td>\n",
       "      <td>1.0</td>\n",
       "      <td>0.070060</td>\n",
       "    </tr>\n",
       "    <tr>\n",
       "      <th>...</th>\n",
       "      <td>...</td>\n",
       "      <td>...</td>\n",
       "      <td>...</td>\n",
       "      <td>...</td>\n",
       "      <td>...</td>\n",
       "      <td>...</td>\n",
       "      <td>...</td>\n",
       "      <td>...</td>\n",
       "      <td>...</td>\n",
       "    </tr>\n",
       "    <tr>\n",
       "      <th>2022-02-28</th>\n",
       "      <td>163.060</td>\n",
       "      <td>165.42</td>\n",
       "      <td>162.43</td>\n",
       "      <td>165.12</td>\n",
       "      <td>165.120000</td>\n",
       "      <td>95056629.0</td>\n",
       "      <td>0.0</td>\n",
       "      <td>1.0</td>\n",
       "      <td>-0.053988</td>\n",
       "    </tr>\n",
       "    <tr>\n",
       "      <th>2022-03-01</th>\n",
       "      <td>164.695</td>\n",
       "      <td>166.60</td>\n",
       "      <td>161.97</td>\n",
       "      <td>163.20</td>\n",
       "      <td>163.200000</td>\n",
       "      <td>83474425.0</td>\n",
       "      <td>0.0</td>\n",
       "      <td>1.0</td>\n",
       "      <td>-0.057088</td>\n",
       "    </tr>\n",
       "    <tr>\n",
       "      <th>2022-03-02</th>\n",
       "      <td>164.390</td>\n",
       "      <td>167.36</td>\n",
       "      <td>162.95</td>\n",
       "      <td>166.56</td>\n",
       "      <td>166.560000</td>\n",
       "      <td>79724750.0</td>\n",
       "      <td>0.0</td>\n",
       "      <td>1.0</td>\n",
       "      <td>0.014058</td>\n",
       "    </tr>\n",
       "    <tr>\n",
       "      <th>2022-03-03</th>\n",
       "      <td>168.470</td>\n",
       "      <td>168.91</td>\n",
       "      <td>165.55</td>\n",
       "      <td>166.23</td>\n",
       "      <td>166.230000</td>\n",
       "      <td>76678441.0</td>\n",
       "      <td>0.0</td>\n",
       "      <td>1.0</td>\n",
       "      <td>-0.082885</td>\n",
       "    </tr>\n",
       "    <tr>\n",
       "      <th>2022-03-04</th>\n",
       "      <td>164.490</td>\n",
       "      <td>165.55</td>\n",
       "      <td>162.10</td>\n",
       "      <td>163.17</td>\n",
       "      <td>163.170000</td>\n",
       "      <td>83819592.0</td>\n",
       "      <td>0.0</td>\n",
       "      <td>1.0</td>\n",
       "      <td>0.038625</td>\n",
       "    </tr>\n",
       "  </tbody>\n",
       "</table>\n",
       "<p>3064 rows × 9 columns</p>\n",
       "</div>"
      ],
      "text/plain": [
       "            1. open  2. high  3. low  4. close  5. adjusted close   6. volume  \\\n",
       "date                                                                            \n",
       "2010-01-04  213.430  214.50   212.38  214.01    6.543876           17633200.0   \n",
       "2010-01-05  214.600  215.59   213.25  214.38    6.555190           21496600.0   \n",
       "2010-01-06  214.380  215.23   210.75  210.97    6.450921           19720000.0   \n",
       "2010-01-07  211.750  212.00   209.05  210.58    6.438996           17040400.0   \n",
       "2010-01-08  210.300  212.00   209.06  211.98    6.481804           15986100.0   \n",
       "...             ...     ...      ...     ...         ...                  ...   \n",
       "2022-02-28  163.060  165.42   162.43  165.12    165.120000         95056629.0   \n",
       "2022-03-01  164.695  166.60   161.97  163.20    163.200000         83474425.0   \n",
       "2022-03-02  164.390  167.36   162.95  166.56    166.560000         79724750.0   \n",
       "2022-03-03  168.470  168.91   165.55  166.23    166.230000         76678441.0   \n",
       "2022-03-04  164.490  165.55   162.10  163.17    163.170000         83819592.0   \n",
       "\n",
       "            7. dividend amount  8. split coefficient  compound_financial_news  \n",
       "date                                                                           \n",
       "2010-01-04  0.0                 1.0                   0.012850                 \n",
       "2010-01-05  0.0                 1.0                   0.019529                 \n",
       "2010-01-06  0.0                 1.0                   0.090833                 \n",
       "2010-01-07  0.0                 1.0                   0.279775                 \n",
       "2010-01-08  0.0                 1.0                   0.070060                 \n",
       "...         ...                 ...                        ...                 \n",
       "2022-02-28  0.0                 1.0                  -0.053988                 \n",
       "2022-03-01  0.0                 1.0                  -0.057088                 \n",
       "2022-03-02  0.0                 1.0                   0.014058                 \n",
       "2022-03-03  0.0                 1.0                  -0.082885                 \n",
       "2022-03-04  0.0                 1.0                   0.038625                 \n",
       "\n",
       "[3064 rows x 9 columns]"
      ]
     },
     "execution_count": 119,
     "metadata": {},
     "output_type": "execute_result"
    }
   ],
   "source": [
    "df_merge"
   ]
  },
  {
   "cell_type": "code",
   "execution_count": 114,
   "metadata": {},
   "outputs": [
    {
     "data": {
      "text/plain": [
       "(20, 12)"
      ]
     },
     "execution_count": 114,
     "metadata": {},
     "output_type": "execute_result"
    }
   ],
   "source": [
    "df_merge[df_merge.compound.isnull()].shape"
   ]
  },
  {
   "cell_type": "markdown",
   "metadata": {},
   "source": [
    "## Twint Group by Date"
   ]
  },
  {
   "cell_type": "code",
   "execution_count": 120,
   "metadata": {},
   "outputs": [],
   "source": [
    "df_twint.set_index(\"date\", inplace=True)"
   ]
  },
  {
   "cell_type": "code",
   "execution_count": 121,
   "metadata": {},
   "outputs": [
    {
     "data": {
      "text/html": [
       "<div>\n",
       "<style scoped>\n",
       "    .dataframe tbody tr th:only-of-type {\n",
       "        vertical-align: middle;\n",
       "    }\n",
       "\n",
       "    .dataframe tbody tr th {\n",
       "        vertical-align: top;\n",
       "    }\n",
       "\n",
       "    .dataframe thead th {\n",
       "        text-align: right;\n",
       "    }\n",
       "</style>\n",
       "<table border=\"1\" class=\"dataframe\">\n",
       "  <thead>\n",
       "    <tr style=\"text-align: right;\">\n",
       "      <th></th>\n",
       "      <th>id</th>\n",
       "      <th>created_at</th>\n",
       "      <th>tweet</th>\n",
       "      <th>hashtags</th>\n",
       "      <th>cashtags</th>\n",
       "      <th>day</th>\n",
       "      <th>hour</th>\n",
       "      <th>nlikes</th>\n",
       "      <th>nretweets</th>\n",
       "      <th>negative</th>\n",
       "      <th>neutral</th>\n",
       "      <th>positive</th>\n",
       "      <th>compound</th>\n",
       "    </tr>\n",
       "    <tr>\n",
       "      <th>date</th>\n",
       "      <th></th>\n",
       "      <th></th>\n",
       "      <th></th>\n",
       "      <th></th>\n",
       "      <th></th>\n",
       "      <th></th>\n",
       "      <th></th>\n",
       "      <th></th>\n",
       "      <th></th>\n",
       "      <th></th>\n",
       "      <th></th>\n",
       "      <th></th>\n",
       "      <th></th>\n",
       "    </tr>\n",
       "  </thead>\n",
       "  <tbody>\n",
       "    <tr>\n",
       "      <th>2010-01-01</th>\n",
       "      <td>7273036289</td>\n",
       "      <td>1.262365e+12</td>\n",
       "      <td>Apple 2.0: Tablet: Big iPhone or thin MacBook?    $AAPL</td>\n",
       "      <td>[]</td>\n",
       "      <td>['aapl']</td>\n",
       "      <td>5</td>\n",
       "      <td>16</td>\n",
       "      <td>2</td>\n",
       "      <td>7</td>\n",
       "      <td>0.0</td>\n",
       "      <td>1.0</td>\n",
       "      <td>0.0</td>\n",
       "      <td>0.0</td>\n",
       "    </tr>\n",
       "    <tr>\n",
       "      <th>2010-01-04</th>\n",
       "      <td>7382848163</td>\n",
       "      <td>1.262647e+12</td>\n",
       "      <td>Apple 2.0: Apple tablet to ship in March, sources say    $AAPL</td>\n",
       "      <td>[]</td>\n",
       "      <td>['aapl']</td>\n",
       "      <td>1</td>\n",
       "      <td>23</td>\n",
       "      <td>1</td>\n",
       "      <td>6</td>\n",
       "      <td>0.0</td>\n",
       "      <td>1.0</td>\n",
       "      <td>0.0</td>\n",
       "      <td>0.0</td>\n",
       "    </tr>\n",
       "    <tr>\n",
       "      <th>2010-01-04</th>\n",
       "      <td>7380526126</td>\n",
       "      <td>1.262643e+12</td>\n",
       "      <td>Apple Tablet Will Be 10-11 Inches, Ships In March, Says WSJ $AAPL by @jwyarow</td>\n",
       "      <td>[]</td>\n",
       "      <td>['aapl']</td>\n",
       "      <td>1</td>\n",
       "      <td>22</td>\n",
       "      <td>4</td>\n",
       "      <td>9</td>\n",
       "      <td>0.0</td>\n",
       "      <td>1.0</td>\n",
       "      <td>0.0</td>\n",
       "      <td>0.0</td>\n",
       "    </tr>\n",
       "    <tr>\n",
       "      <th>2010-01-04</th>\n",
       "      <td>7377981409</td>\n",
       "      <td>1.262637e+12</td>\n",
       "      <td>CHART OF THE DAY: Android Taking Wind Out Of iPhone's Sails $GOOG $AAPL $RIMM</td>\n",
       "      <td>[]</td>\n",
       "      <td>['goog', 'aapl', 'rimm']</td>\n",
       "      <td>1</td>\n",
       "      <td>20</td>\n",
       "      <td>11</td>\n",
       "      <td>7</td>\n",
       "      <td>0.0</td>\n",
       "      <td>1.0</td>\n",
       "      <td>0.0</td>\n",
       "      <td>0.0</td>\n",
       "    </tr>\n",
       "    <tr>\n",
       "      <th>2010-01-04</th>\n",
       "      <td>7350195565</td>\n",
       "      <td>1.262568e+12</td>\n",
       "      <td>Apple 2.0: How many iPhones did Apple sell?    $AAPL</td>\n",
       "      <td>[]</td>\n",
       "      <td>['aapl']</td>\n",
       "      <td>1</td>\n",
       "      <td>1</td>\n",
       "      <td>6</td>\n",
       "      <td>10</td>\n",
       "      <td>0.0</td>\n",
       "      <td>1.0</td>\n",
       "      <td>0.0</td>\n",
       "      <td>0.0</td>\n",
       "    </tr>\n",
       "  </tbody>\n",
       "</table>\n",
       "</div>"
      ],
      "text/plain": [
       "                    id    created_at  \\\n",
       "date                                   \n",
       "2010-01-01  7273036289  1.262365e+12   \n",
       "2010-01-04  7382848163  1.262647e+12   \n",
       "2010-01-04  7380526126  1.262643e+12   \n",
       "2010-01-04  7377981409  1.262637e+12   \n",
       "2010-01-04  7350195565  1.262568e+12   \n",
       "\n",
       "                                                                                       tweet  \\\n",
       "date                                                                                           \n",
       "2010-01-01  Apple 2.0: Tablet: Big iPhone or thin MacBook?    $AAPL                            \n",
       "2010-01-04  Apple 2.0: Apple tablet to ship in March, sources say    $AAPL                     \n",
       "2010-01-04  Apple Tablet Will Be 10-11 Inches, Ships In March, Says WSJ $AAPL by @jwyarow      \n",
       "2010-01-04  CHART OF THE DAY: Android Taking Wind Out Of iPhone's Sails $GOOG $AAPL $RIMM      \n",
       "2010-01-04  Apple 2.0: How many iPhones did Apple sell?    $AAPL                               \n",
       "\n",
       "           hashtags                  cashtags  day  hour  nlikes  nretweets  \\\n",
       "date                                                                          \n",
       "2010-01-01  []       ['aapl']                  5    16    2       7           \n",
       "2010-01-04  []       ['aapl']                  1    23    1       6           \n",
       "2010-01-04  []       ['aapl']                  1    22    4       9           \n",
       "2010-01-04  []       ['goog', 'aapl', 'rimm']  1    20    11      7           \n",
       "2010-01-04  []       ['aapl']                  1    1     6       10          \n",
       "\n",
       "            negative  neutral  positive  compound  \n",
       "date                                               \n",
       "2010-01-01  0.0       1.0      0.0       0.0       \n",
       "2010-01-04  0.0       1.0      0.0       0.0       \n",
       "2010-01-04  0.0       1.0      0.0       0.0       \n",
       "2010-01-04  0.0       1.0      0.0       0.0       \n",
       "2010-01-04  0.0       1.0      0.0       0.0       "
      ]
     },
     "execution_count": 121,
     "metadata": {},
     "output_type": "execute_result"
    }
   ],
   "source": [
    "df_twint.head()"
   ]
  },
  {
   "cell_type": "code",
   "execution_count": 122,
   "metadata": {},
   "outputs": [],
   "source": [
    "df_twint_duplicated_index = df_twint[df_twint.index.duplicated(keep=False)]"
   ]
  },
  {
   "cell_type": "code",
   "execution_count": 123,
   "metadata": {},
   "outputs": [
    {
     "data": {
      "text/plain": [
       "40779"
      ]
     },
     "execution_count": 123,
     "metadata": {},
     "output_type": "execute_result"
    }
   ],
   "source": [
    "df_twint_duplicated_index.shape[0]"
   ]
  },
  {
   "cell_type": "code",
   "execution_count": 124,
   "metadata": {},
   "outputs": [],
   "source": [
    "df_twint_nonduplicated_index = df_twint[~df_twint.index.duplicated(keep=False)]"
   ]
  },
  {
   "cell_type": "code",
   "execution_count": 125,
   "metadata": {},
   "outputs": [
    {
     "data": {
      "text/plain": [
       "277"
      ]
     },
     "execution_count": 125,
     "metadata": {},
     "output_type": "execute_result"
    }
   ],
   "source": [
    "df_twint_nonduplicated_index.shape[0]"
   ]
  },
  {
   "cell_type": "code",
   "execution_count": 126,
   "metadata": {},
   "outputs": [],
   "source": [
    "df_twint_groupby = df_twint.groupby(\"date\").agg(\n",
    "     negative = (\"negative\", \"mean\"),\n",
    "     nuetral = (\"neutral\", \"mean\"),\n",
    "     positive = (\"positive\", \"mean\"),\n",
    "     compound = (\"compound\", \"mean\"),\n",
    "     nlikes = (\"nlikes\", \"sum\"),\n",
    "     nretweets = (\"nretweets\", \"sum\"),\n",
    "     )"
   ]
  },
  {
   "cell_type": "code",
   "execution_count": 127,
   "metadata": {},
   "outputs": [
    {
     "data": {
      "text/html": [
       "<div>\n",
       "<style scoped>\n",
       "    .dataframe tbody tr th:only-of-type {\n",
       "        vertical-align: middle;\n",
       "    }\n",
       "\n",
       "    .dataframe tbody tr th {\n",
       "        vertical-align: top;\n",
       "    }\n",
       "\n",
       "    .dataframe thead th {\n",
       "        text-align: right;\n",
       "    }\n",
       "</style>\n",
       "<table border=\"1\" class=\"dataframe\">\n",
       "  <thead>\n",
       "    <tr style=\"text-align: right;\">\n",
       "      <th></th>\n",
       "      <th>negative</th>\n",
       "      <th>nuetral</th>\n",
       "      <th>positive</th>\n",
       "      <th>compound</th>\n",
       "      <th>nlikes</th>\n",
       "      <th>nretweets</th>\n",
       "    </tr>\n",
       "    <tr>\n",
       "      <th>date</th>\n",
       "      <th></th>\n",
       "      <th></th>\n",
       "      <th></th>\n",
       "      <th></th>\n",
       "      <th></th>\n",
       "      <th></th>\n",
       "    </tr>\n",
       "  </thead>\n",
       "  <tbody>\n",
       "    <tr>\n",
       "      <th>2010-01-01</th>\n",
       "      <td>0.000000</td>\n",
       "      <td>1.000000</td>\n",
       "      <td>0.000000</td>\n",
       "      <td>0.000000</td>\n",
       "      <td>2</td>\n",
       "      <td>7</td>\n",
       "    </tr>\n",
       "    <tr>\n",
       "      <th>2010-01-04</th>\n",
       "      <td>0.000000</td>\n",
       "      <td>1.000000</td>\n",
       "      <td>0.000000</td>\n",
       "      <td>0.000000</td>\n",
       "      <td>22</td>\n",
       "      <td>32</td>\n",
       "    </tr>\n",
       "    <tr>\n",
       "      <th>2010-01-05</th>\n",
       "      <td>0.100000</td>\n",
       "      <td>0.900000</td>\n",
       "      <td>0.000000</td>\n",
       "      <td>-0.229400</td>\n",
       "      <td>5</td>\n",
       "      <td>11</td>\n",
       "    </tr>\n",
       "    <tr>\n",
       "      <th>2010-01-06</th>\n",
       "      <td>0.154000</td>\n",
       "      <td>0.846000</td>\n",
       "      <td>0.000000</td>\n",
       "      <td>-0.476700</td>\n",
       "      <td>4</td>\n",
       "      <td>6</td>\n",
       "    </tr>\n",
       "    <tr>\n",
       "      <th>2010-01-07</th>\n",
       "      <td>0.000000</td>\n",
       "      <td>0.875500</td>\n",
       "      <td>0.124500</td>\n",
       "      <td>0.371500</td>\n",
       "      <td>12</td>\n",
       "      <td>13</td>\n",
       "    </tr>\n",
       "    <tr>\n",
       "      <th>...</th>\n",
       "      <td>...</td>\n",
       "      <td>...</td>\n",
       "      <td>...</td>\n",
       "      <td>...</td>\n",
       "      <td>...</td>\n",
       "      <td>...</td>\n",
       "    </tr>\n",
       "    <tr>\n",
       "      <th>2022-02-28</th>\n",
       "      <td>0.045889</td>\n",
       "      <td>0.892222</td>\n",
       "      <td>0.061833</td>\n",
       "      <td>0.138461</td>\n",
       "      <td>3813</td>\n",
       "      <td>442</td>\n",
       "    </tr>\n",
       "    <tr>\n",
       "      <th>2022-03-01</th>\n",
       "      <td>0.044458</td>\n",
       "      <td>0.939958</td>\n",
       "      <td>0.015583</td>\n",
       "      <td>-0.085358</td>\n",
       "      <td>4824</td>\n",
       "      <td>684</td>\n",
       "    </tr>\n",
       "    <tr>\n",
       "      <th>2022-03-02</th>\n",
       "      <td>0.044267</td>\n",
       "      <td>0.895467</td>\n",
       "      <td>0.060400</td>\n",
       "      <td>0.060020</td>\n",
       "      <td>4161</td>\n",
       "      <td>470</td>\n",
       "    </tr>\n",
       "    <tr>\n",
       "      <th>2022-03-03</th>\n",
       "      <td>0.030533</td>\n",
       "      <td>0.933133</td>\n",
       "      <td>0.036333</td>\n",
       "      <td>0.025033</td>\n",
       "      <td>1987</td>\n",
       "      <td>248</td>\n",
       "    </tr>\n",
       "    <tr>\n",
       "      <th>2022-03-05</th>\n",
       "      <td>0.016556</td>\n",
       "      <td>0.867667</td>\n",
       "      <td>0.115722</td>\n",
       "      <td>0.362694</td>\n",
       "      <td>3584</td>\n",
       "      <td>545</td>\n",
       "    </tr>\n",
       "  </tbody>\n",
       "</table>\n",
       "<p>4175 rows × 6 columns</p>\n",
       "</div>"
      ],
      "text/plain": [
       "            negative   nuetral  positive  compound  nlikes  nretweets\n",
       "date                                                                 \n",
       "2010-01-01  0.000000  1.000000  0.000000  0.000000  2       7        \n",
       "2010-01-04  0.000000  1.000000  0.000000  0.000000  22      32       \n",
       "2010-01-05  0.100000  0.900000  0.000000 -0.229400  5       11       \n",
       "2010-01-06  0.154000  0.846000  0.000000 -0.476700  4       6        \n",
       "2010-01-07  0.000000  0.875500  0.124500  0.371500  12      13       \n",
       "...              ...       ...       ...       ... ..      ..        \n",
       "2022-02-28  0.045889  0.892222  0.061833  0.138461  3813    442      \n",
       "2022-03-01  0.044458  0.939958  0.015583 -0.085358  4824    684      \n",
       "2022-03-02  0.044267  0.895467  0.060400  0.060020  4161    470      \n",
       "2022-03-03  0.030533  0.933133  0.036333  0.025033  1987    248      \n",
       "2022-03-05  0.016556  0.867667  0.115722  0.362694  3584    545      \n",
       "\n",
       "[4175 rows x 6 columns]"
      ]
     },
     "execution_count": 127,
     "metadata": {},
     "output_type": "execute_result"
    }
   ],
   "source": [
    "df_twint_groupby"
   ]
  },
  {
   "cell_type": "code",
   "execution_count": 128,
   "metadata": {},
   "outputs": [],
   "source": [
    "df_merge_two = pd.merge(df_merge, df_twint_groupby, how=\"left\", left_index=True, right_index=True)"
   ]
  },
  {
   "cell_type": "code",
   "execution_count": 130,
   "metadata": {},
   "outputs": [],
   "source": [
    "df_merge_two.drop([\"negative\", \"nuetral\", \"positive\"], axis=1, inplace=True)"
   ]
  },
  {
   "cell_type": "code",
   "execution_count": 131,
   "metadata": {},
   "outputs": [],
   "source": [
    "df_merge_two.rename(columns={\"compound\": \"compound_financial_tweets\"}, inplace=True)"
   ]
  },
  {
   "cell_type": "code",
   "execution_count": 132,
   "metadata": {},
   "outputs": [
    {
     "data": {
      "text/html": [
       "<div>\n",
       "<style scoped>\n",
       "    .dataframe tbody tr th:only-of-type {\n",
       "        vertical-align: middle;\n",
       "    }\n",
       "\n",
       "    .dataframe tbody tr th {\n",
       "        vertical-align: top;\n",
       "    }\n",
       "\n",
       "    .dataframe thead th {\n",
       "        text-align: right;\n",
       "    }\n",
       "</style>\n",
       "<table border=\"1\" class=\"dataframe\">\n",
       "  <thead>\n",
       "    <tr style=\"text-align: right;\">\n",
       "      <th></th>\n",
       "      <th>1. open</th>\n",
       "      <th>2. high</th>\n",
       "      <th>3. low</th>\n",
       "      <th>4. close</th>\n",
       "      <th>5. adjusted close</th>\n",
       "      <th>6. volume</th>\n",
       "      <th>7. dividend amount</th>\n",
       "      <th>8. split coefficient</th>\n",
       "      <th>compound_financial_news</th>\n",
       "      <th>compound_financial_tweets</th>\n",
       "      <th>nlikes</th>\n",
       "      <th>nretweets</th>\n",
       "    </tr>\n",
       "    <tr>\n",
       "      <th>date</th>\n",
       "      <th></th>\n",
       "      <th></th>\n",
       "      <th></th>\n",
       "      <th></th>\n",
       "      <th></th>\n",
       "      <th></th>\n",
       "      <th></th>\n",
       "      <th></th>\n",
       "      <th></th>\n",
       "      <th></th>\n",
       "      <th></th>\n",
       "      <th></th>\n",
       "    </tr>\n",
       "  </thead>\n",
       "  <tbody>\n",
       "    <tr>\n",
       "      <th>2010-01-04</th>\n",
       "      <td>213.43</td>\n",
       "      <td>214.50</td>\n",
       "      <td>212.38</td>\n",
       "      <td>214.01</td>\n",
       "      <td>6.543876</td>\n",
       "      <td>17633200.0</td>\n",
       "      <td>0.0</td>\n",
       "      <td>1.0</td>\n",
       "      <td>0.012850</td>\n",
       "      <td>0.0000</td>\n",
       "      <td>22.0</td>\n",
       "      <td>32.0</td>\n",
       "    </tr>\n",
       "    <tr>\n",
       "      <th>2010-01-05</th>\n",
       "      <td>214.60</td>\n",
       "      <td>215.59</td>\n",
       "      <td>213.25</td>\n",
       "      <td>214.38</td>\n",
       "      <td>6.555190</td>\n",
       "      <td>21496600.0</td>\n",
       "      <td>0.0</td>\n",
       "      <td>1.0</td>\n",
       "      <td>0.019529</td>\n",
       "      <td>-0.2294</td>\n",
       "      <td>5.0</td>\n",
       "      <td>11.0</td>\n",
       "    </tr>\n",
       "    <tr>\n",
       "      <th>2010-01-06</th>\n",
       "      <td>214.38</td>\n",
       "      <td>215.23</td>\n",
       "      <td>210.75</td>\n",
       "      <td>210.97</td>\n",
       "      <td>6.450921</td>\n",
       "      <td>19720000.0</td>\n",
       "      <td>0.0</td>\n",
       "      <td>1.0</td>\n",
       "      <td>0.090833</td>\n",
       "      <td>-0.4767</td>\n",
       "      <td>4.0</td>\n",
       "      <td>6.0</td>\n",
       "    </tr>\n",
       "    <tr>\n",
       "      <th>2010-01-07</th>\n",
       "      <td>211.75</td>\n",
       "      <td>212.00</td>\n",
       "      <td>209.05</td>\n",
       "      <td>210.58</td>\n",
       "      <td>6.438996</td>\n",
       "      <td>17040400.0</td>\n",
       "      <td>0.0</td>\n",
       "      <td>1.0</td>\n",
       "      <td>0.279775</td>\n",
       "      <td>0.3715</td>\n",
       "      <td>12.0</td>\n",
       "      <td>13.0</td>\n",
       "    </tr>\n",
       "    <tr>\n",
       "      <th>2010-01-08</th>\n",
       "      <td>210.30</td>\n",
       "      <td>212.00</td>\n",
       "      <td>209.06</td>\n",
       "      <td>211.98</td>\n",
       "      <td>6.481804</td>\n",
       "      <td>15986100.0</td>\n",
       "      <td>0.0</td>\n",
       "      <td>1.0</td>\n",
       "      <td>0.070060</td>\n",
       "      <td>0.0000</td>\n",
       "      <td>18.0</td>\n",
       "      <td>19.0</td>\n",
       "    </tr>\n",
       "  </tbody>\n",
       "</table>\n",
       "</div>"
      ],
      "text/plain": [
       "            1. open  2. high  3. low  4. close  5. adjusted close   6. volume  \\\n",
       "date                                                                            \n",
       "2010-01-04  213.43   214.50   212.38  214.01    6.543876           17633200.0   \n",
       "2010-01-05  214.60   215.59   213.25  214.38    6.555190           21496600.0   \n",
       "2010-01-06  214.38   215.23   210.75  210.97    6.450921           19720000.0   \n",
       "2010-01-07  211.75   212.00   209.05  210.58    6.438996           17040400.0   \n",
       "2010-01-08  210.30   212.00   209.06  211.98    6.481804           15986100.0   \n",
       "\n",
       "            7. dividend amount  8. split coefficient  compound_financial_news  \\\n",
       "date                                                                            \n",
       "2010-01-04  0.0                 1.0                   0.012850                  \n",
       "2010-01-05  0.0                 1.0                   0.019529                  \n",
       "2010-01-06  0.0                 1.0                   0.090833                  \n",
       "2010-01-07  0.0                 1.0                   0.279775                  \n",
       "2010-01-08  0.0                 1.0                   0.070060                  \n",
       "\n",
       "            compound_financial_tweets  nlikes  nretweets  \n",
       "date                                                      \n",
       "2010-01-04  0.0000                     22.0    32.0       \n",
       "2010-01-05 -0.2294                     5.0     11.0       \n",
       "2010-01-06 -0.4767                     4.0     6.0        \n",
       "2010-01-07  0.3715                     12.0    13.0       \n",
       "2010-01-08  0.0000                     18.0    19.0       "
      ]
     },
     "execution_count": 132,
     "metadata": {},
     "output_type": "execute_result"
    }
   ],
   "source": [
    "df_merge_two.head()"
   ]
  },
  {
   "cell_type": "code",
   "execution_count": 133,
   "metadata": {},
   "outputs": [
    {
     "data": {
      "text/plain": [
       "(3846, 4)"
      ]
     },
     "execution_count": 133,
     "metadata": {},
     "output_type": "execute_result"
    }
   ],
   "source": [
    "df_benzinga_groupby.shape"
   ]
  },
  {
   "cell_type": "code",
   "execution_count": 135,
   "metadata": {},
   "outputs": [
    {
     "data": {
      "text/plain": [
       "(4175, 6)"
      ]
     },
     "execution_count": 135,
     "metadata": {},
     "output_type": "execute_result"
    }
   ],
   "source": [
    "df_twint_groupby.shape"
   ]
  },
  {
   "cell_type": "code",
   "execution_count": 136,
   "metadata": {},
   "outputs": [
    {
     "data": {
      "text/plain": [
       "(3064, 8)"
      ]
     },
     "execution_count": 136,
     "metadata": {},
     "output_type": "execute_result"
    }
   ],
   "source": [
    "df.shape"
   ]
  },
  {
   "cell_type": "code",
   "execution_count": 138,
   "metadata": {},
   "outputs": [
    {
     "data": {
      "text/plain": [
       "(20, 12)"
      ]
     },
     "execution_count": 138,
     "metadata": {},
     "output_type": "execute_result"
    }
   ],
   "source": [
    "df_merge_two[df_merge_two.compound_financial_news.isnull()].shape"
   ]
  },
  {
   "cell_type": "code",
   "execution_count": 139,
   "metadata": {},
   "outputs": [
    {
     "data": {
      "text/plain": [
       "(122, 12)"
      ]
     },
     "execution_count": 139,
     "metadata": {},
     "output_type": "execute_result"
    }
   ],
   "source": [
    "df_merge_two[df_merge_two.compound_financial_tweets.isnull()].shape"
   ]
  },
  {
   "cell_type": "code",
   "execution_count": 140,
   "metadata": {},
   "outputs": [],
   "source": [
    "df_merge_two.fillna(method=\"ffill\", inplace=True)"
   ]
  },
  {
   "cell_type": "code",
   "execution_count": 141,
   "metadata": {},
   "outputs": [
    {
     "data": {
      "text/plain": [
       "(0, 12)"
      ]
     },
     "execution_count": 141,
     "metadata": {},
     "output_type": "execute_result"
    }
   ],
   "source": [
    "df_merge_two[df_merge_two.compound_financial_news.isnull()].shape"
   ]
  },
  {
   "cell_type": "code",
   "execution_count": 142,
   "metadata": {},
   "outputs": [
    {
     "data": {
      "text/plain": [
       "(0, 12)"
      ]
     },
     "execution_count": 142,
     "metadata": {},
     "output_type": "execute_result"
    }
   ],
   "source": [
    "df_merge_two[df_merge_two.compound_financial_tweets.isnull()].shape"
   ]
  },
  {
   "cell_type": "code",
   "execution_count": 145,
   "metadata": {},
   "outputs": [
    {
     "data": {
      "text/html": [
       "<div>\n",
       "<style scoped>\n",
       "    .dataframe tbody tr th:only-of-type {\n",
       "        vertical-align: middle;\n",
       "    }\n",
       "\n",
       "    .dataframe tbody tr th {\n",
       "        vertical-align: top;\n",
       "    }\n",
       "\n",
       "    .dataframe thead th {\n",
       "        text-align: right;\n",
       "    }\n",
       "</style>\n",
       "<table border=\"1\" class=\"dataframe\">\n",
       "  <thead>\n",
       "    <tr style=\"text-align: right;\">\n",
       "      <th></th>\n",
       "      <th>1. open</th>\n",
       "      <th>2. high</th>\n",
       "      <th>3. low</th>\n",
       "      <th>4. close</th>\n",
       "      <th>5. adjusted close</th>\n",
       "      <th>6. volume</th>\n",
       "      <th>7. dividend amount</th>\n",
       "      <th>8. split coefficient</th>\n",
       "      <th>compound_financial_news</th>\n",
       "      <th>compound_financial_tweets</th>\n",
       "      <th>nlikes</th>\n",
       "      <th>nretweets</th>\n",
       "    </tr>\n",
       "    <tr>\n",
       "      <th>date</th>\n",
       "      <th></th>\n",
       "      <th></th>\n",
       "      <th></th>\n",
       "      <th></th>\n",
       "      <th></th>\n",
       "      <th></th>\n",
       "      <th></th>\n",
       "      <th></th>\n",
       "      <th></th>\n",
       "      <th></th>\n",
       "      <th></th>\n",
       "      <th></th>\n",
       "    </tr>\n",
       "  </thead>\n",
       "  <tbody>\n",
       "    <tr>\n",
       "      <th>2010-01-04</th>\n",
       "      <td>213.43</td>\n",
       "      <td>214.50</td>\n",
       "      <td>212.38</td>\n",
       "      <td>214.01</td>\n",
       "      <td>6.543876</td>\n",
       "      <td>17633200.0</td>\n",
       "      <td>0.0</td>\n",
       "      <td>1.0</td>\n",
       "      <td>0.012850</td>\n",
       "      <td>0.0000</td>\n",
       "      <td>22.0</td>\n",
       "      <td>32.0</td>\n",
       "    </tr>\n",
       "    <tr>\n",
       "      <th>2010-01-05</th>\n",
       "      <td>214.60</td>\n",
       "      <td>215.59</td>\n",
       "      <td>213.25</td>\n",
       "      <td>214.38</td>\n",
       "      <td>6.555190</td>\n",
       "      <td>21496600.0</td>\n",
       "      <td>0.0</td>\n",
       "      <td>1.0</td>\n",
       "      <td>0.019529</td>\n",
       "      <td>-0.2294</td>\n",
       "      <td>5.0</td>\n",
       "      <td>11.0</td>\n",
       "    </tr>\n",
       "    <tr>\n",
       "      <th>2010-01-06</th>\n",
       "      <td>214.38</td>\n",
       "      <td>215.23</td>\n",
       "      <td>210.75</td>\n",
       "      <td>210.97</td>\n",
       "      <td>6.450921</td>\n",
       "      <td>19720000.0</td>\n",
       "      <td>0.0</td>\n",
       "      <td>1.0</td>\n",
       "      <td>0.090833</td>\n",
       "      <td>-0.4767</td>\n",
       "      <td>4.0</td>\n",
       "      <td>6.0</td>\n",
       "    </tr>\n",
       "    <tr>\n",
       "      <th>2010-01-07</th>\n",
       "      <td>211.75</td>\n",
       "      <td>212.00</td>\n",
       "      <td>209.05</td>\n",
       "      <td>210.58</td>\n",
       "      <td>6.438996</td>\n",
       "      <td>17040400.0</td>\n",
       "      <td>0.0</td>\n",
       "      <td>1.0</td>\n",
       "      <td>0.279775</td>\n",
       "      <td>0.3715</td>\n",
       "      <td>12.0</td>\n",
       "      <td>13.0</td>\n",
       "    </tr>\n",
       "    <tr>\n",
       "      <th>2010-01-08</th>\n",
       "      <td>210.30</td>\n",
       "      <td>212.00</td>\n",
       "      <td>209.06</td>\n",
       "      <td>211.98</td>\n",
       "      <td>6.481804</td>\n",
       "      <td>15986100.0</td>\n",
       "      <td>0.0</td>\n",
       "      <td>1.0</td>\n",
       "      <td>0.070060</td>\n",
       "      <td>0.0000</td>\n",
       "      <td>18.0</td>\n",
       "      <td>19.0</td>\n",
       "    </tr>\n",
       "  </tbody>\n",
       "</table>\n",
       "</div>"
      ],
      "text/plain": [
       "            1. open  2. high  3. low  4. close  5. adjusted close   6. volume  \\\n",
       "date                                                                            \n",
       "2010-01-04  213.43   214.50   212.38  214.01    6.543876           17633200.0   \n",
       "2010-01-05  214.60   215.59   213.25  214.38    6.555190           21496600.0   \n",
       "2010-01-06  214.38   215.23   210.75  210.97    6.450921           19720000.0   \n",
       "2010-01-07  211.75   212.00   209.05  210.58    6.438996           17040400.0   \n",
       "2010-01-08  210.30   212.00   209.06  211.98    6.481804           15986100.0   \n",
       "\n",
       "            7. dividend amount  8. split coefficient  compound_financial_news  \\\n",
       "date                                                                            \n",
       "2010-01-04  0.0                 1.0                   0.012850                  \n",
       "2010-01-05  0.0                 1.0                   0.019529                  \n",
       "2010-01-06  0.0                 1.0                   0.090833                  \n",
       "2010-01-07  0.0                 1.0                   0.279775                  \n",
       "2010-01-08  0.0                 1.0                   0.070060                  \n",
       "\n",
       "            compound_financial_tweets  nlikes  nretweets  \n",
       "date                                                      \n",
       "2010-01-04  0.0000                     22.0    32.0       \n",
       "2010-01-05 -0.2294                     5.0     11.0       \n",
       "2010-01-06 -0.4767                     4.0     6.0        \n",
       "2010-01-07  0.3715                     12.0    13.0       \n",
       "2010-01-08  0.0000                     18.0    19.0       "
      ]
     },
     "execution_count": 145,
     "metadata": {},
     "output_type": "execute_result"
    }
   ],
   "source": [
    "# df_merge_two.to_csv(\"/app/StockPricePredictions/data/alphavantage/time_series_daily_adjusted/AAPL_WITH_FINANCIAL_NEWS_AND_TWEETS.csv\")\n",
    "df_merge_two.head()"
   ]
  },
  {
   "cell_type": "markdown",
   "metadata": {},
   "source": [
    "# Spacy TextBlob"
   ]
  },
  {
   "cell_type": "code",
   "execution_count": 119,
   "metadata": {},
   "outputs": [],
   "source": [
    "import spacy\n",
    "from spacytextblob.spacytextblob import SpacyTextBlob\n",
    "\n",
    "nlp = spacy.load('en_core_web_md')\n",
    "nlp.add_pipe('spacytextblob')\n",
    "text = 'Nexus – Will It Change Telecom Industry Dynamics? '\n",
    "doc = nlp(text)"
   ]
  },
  {
   "cell_type": "code",
   "execution_count": 120,
   "metadata": {},
   "outputs": [
    {
     "name": "stdout",
     "output_type": "stream",
     "text": [
      "0.0\n",
      "0.0\n"
     ]
    }
   ],
   "source": [
    "print(doc._.blob.polarity)\n",
    "# -0.125\n",
    "\n",
    "print(doc._.blob.subjectivity)\n",
    "# 0.9"
   ]
  },
  {
   "cell_type": "markdown",
   "metadata": {},
   "source": [
    "# TextBlob"
   ]
  },
  {
   "cell_type": "code",
   "execution_count": 122,
   "metadata": {},
   "outputs": [
    {
     "name": "stdout",
     "output_type": "stream",
     "text": [
      "Subjectivity: 0.0\n",
      "Polarity: 0.0\n",
      "Analysis: Neutral\n"
     ]
    },
    {
     "data": {
      "text/plain": [
       "'Why Apple Bought Quattro Wireless And Is Getting Into Advertising $AAPL $GOOG by @fromedome   '"
      ]
     },
     "execution_count": 122,
     "metadata": {},
     "output_type": "execute_result"
    }
   ],
   "source": [
    "from textblob import TextBlob\n",
    "\n",
    "def sentiment_analysis(tweet):\n",
    "\n",
    " def getSubjectivity(text):\n",
    "   return TextBlob(text).sentiment.subjectivity\n",
    "  \n",
    " #Create a function to get the polarity\n",
    " def getPolarity(text):\n",
    "   return TextBlob(text).sentiment.polarity\n",
    "  \n",
    " #Create two new columns ‘Subjectivity’ & ‘Polarity’\n",
    "\n",
    " subjectivity = getSubjectivity(tweet)\n",
    " polarity = getPolarity(tweet)\n",
    "\n",
    " def getAnalysis(score):\n",
    "  if score < 0:\n",
    "    return \"Negative\"\n",
    "  elif score == 0:\n",
    "    return \"Neutral\"\n",
    "  else:\n",
    "    return \"Positive\"\n",
    "\n",
    " # tweet [‘TextBlob_Analysis’] = tweet  [‘TextBlob_Polarity’].apply(getAnalysis )\n",
    "\n",
    " result = getAnalysis(polarity)\n",
    "\n",
    " print('Subjectivity:', subjectivity)\n",
    " print('Polarity:', polarity)\n",
    " print('Analysis:', result)\n",
    " # print('Sentiment:', sentiment)\n",
    "\n",
    "idx = 5\n",
    "\n",
    "sentiment_analysis(df_twint[\"tweet\"][idx])\n",
    "\n",
    "df_twint[\"tweet\"][idx]"
   ]
  }
 ],
 "metadata": {
  "kernelspec": {
   "display_name": "Python 3",
   "language": "python",
   "name": "python3"
  },
  "language_info": {
   "codemirror_mode": {
    "name": "ipython",
    "version": 3
   },
   "file_extension": ".py",
   "mimetype": "text/x-python",
   "name": "python",
   "nbconvert_exporter": "python",
   "pygments_lexer": "ipython3",
   "version": "3.8.10"
  },
  "orig_nbformat": 4
 },
 "nbformat": 4,
 "nbformat_minor": 2
}
