{
 "cells": [
  {
   "cell_type": "code",
   "execution_count": 1044,
   "metadata": {},
   "outputs": [],
   "source": [
    "%matplotlib inline\n",
    "\n",
    "import os\n",
    "import datetime\n",
    "\n",
    "import IPython\n",
    "import IPython.display\n",
    "import matplotlib as mpl\n",
    "import matplotlib.pyplot as plt\n",
    "import numpy as np\n",
    "import pandas as pd\n",
    "import seaborn as sns\n",
    "import tensorflow as tf\n",
    "\n",
    "mpl.rcParams['figure.figsize'] = (8, 6)\n",
    "mpl.rcParams['axes.grid'] = False"
   ]
  },
  {
   "cell_type": "code",
   "execution_count": 1045,
   "metadata": {},
   "outputs": [],
   "source": [
    "pd. set_option('display.max_columns', 500)\n",
    "pd.set_option('display.max_colwidth', 0)"
   ]
  },
  {
   "cell_type": "code",
   "execution_count": 1046,
   "metadata": {},
   "outputs": [
    {
     "name": "stdout",
     "output_type": "stream",
     "text": [
      "AMZN\n"
     ]
    }
   ],
   "source": [
    "ticker_list = [\"aapl\", \"amzn\", \"msft\"]\n",
    "\n",
    "ticker = ticker_list[1]\n",
    "\n",
    "ticker_upper = ticker.upper()\n",
    "\n",
    "print(ticker_upper)"
   ]
  },
  {
   "cell_type": "code",
   "execution_count": 1047,
   "metadata": {},
   "outputs": [],
   "source": [
    "alphavantage_csv_path = f\"/app/StockPricePredictions/data/alphavantage/time_series_daily_adjusted/{ticker_upper}/{ticker_upper}.csv\""
   ]
  },
  {
   "cell_type": "code",
   "execution_count": 1048,
   "metadata": {},
   "outputs": [],
   "source": [
    "df = pd.read_csv(alphavantage_csv_path, low_memory=False)\n",
    "df.sort_values(by=[\"date\"], ascending=True, inplace=True)\n",
    "\n",
    "df = df[df[\"date\"]>='2010-01-01']\n",
    "\n",
    "df[\"date_time\"] = pd.to_datetime(df['date'])\n",
    "\n",
    "df[\"day_of_week\"] = df[\"date_time\"].dt.dayofweek\n",
    "\n",
    "df[\"adjusted_close_shift\"] = df[\"5. adjusted close\"].shift(-1)\n",
    "\n",
    "df[\"percentage_change\"] = (df[\"adjusted_close_shift\"] - df[\"5. adjusted close\"]) / df[\"5. adjusted close\"] * 100.0\n",
    "\n",
    "df[\"increase\"] = df[\"percentage_change\"].apply(lambda x: 1 if x > 0 else 0)\n",
    "\n",
    "df.set_index(\"date\", inplace=True)"
   ]
  },
  {
   "cell_type": "code",
   "execution_count": 1049,
   "metadata": {},
   "outputs": [
    {
     "data": {
      "text/plain": [
       "3064"
      ]
     },
     "execution_count": 1049,
     "metadata": {},
     "output_type": "execute_result"
    }
   ],
   "source": [
    "df.shape[0]"
   ]
  },
  {
   "cell_type": "code",
   "execution_count": 1050,
   "metadata": {},
   "outputs": [
    {
     "name": "stdout",
     "output_type": "stream",
     "text": [
      "<class 'pandas.core.frame.DataFrame'>\n",
      "Index: 3064 entries, 2010-01-04 to 2022-03-04\n",
      "Data columns (total 13 columns):\n",
      " #   Column                Non-Null Count  Dtype         \n",
      "---  ------                --------------  -----         \n",
      " 0   1. open               3064 non-null   float64       \n",
      " 1   2. high               3064 non-null   float64       \n",
      " 2   3. low                3064 non-null   float64       \n",
      " 3   4. close              3064 non-null   float64       \n",
      " 4   5. adjusted close     3064 non-null   float64       \n",
      " 5   6. volume             3064 non-null   float64       \n",
      " 6   7. dividend amount    3064 non-null   float64       \n",
      " 7   8. split coefficient  3064 non-null   float64       \n",
      " 8   date_time             3064 non-null   datetime64[ns]\n",
      " 9   day_of_week           3064 non-null   int64         \n",
      " 10  adjusted_close_shift  3063 non-null   float64       \n",
      " 11  percentage_change     3063 non-null   float64       \n",
      " 12  increase              3064 non-null   int64         \n",
      "dtypes: datetime64[ns](1), float64(10), int64(2)\n",
      "memory usage: 335.1+ KB\n"
     ]
    }
   ],
   "source": [
    "df.info()"
   ]
  },
  {
   "cell_type": "code",
   "execution_count": 1051,
   "metadata": {},
   "outputs": [
    {
     "data": {
      "text/html": [
       "<div>\n",
       "<style scoped>\n",
       "    .dataframe tbody tr th:only-of-type {\n",
       "        vertical-align: middle;\n",
       "    }\n",
       "\n",
       "    .dataframe tbody tr th {\n",
       "        vertical-align: top;\n",
       "    }\n",
       "\n",
       "    .dataframe thead th {\n",
       "        text-align: right;\n",
       "    }\n",
       "</style>\n",
       "<table border=\"1\" class=\"dataframe\">\n",
       "  <thead>\n",
       "    <tr style=\"text-align: right;\">\n",
       "      <th></th>\n",
       "      <th>1. open</th>\n",
       "      <th>2. high</th>\n",
       "      <th>3. low</th>\n",
       "      <th>4. close</th>\n",
       "      <th>5. adjusted close</th>\n",
       "      <th>6. volume</th>\n",
       "      <th>7. dividend amount</th>\n",
       "      <th>8. split coefficient</th>\n",
       "      <th>date_time</th>\n",
       "      <th>day_of_week</th>\n",
       "      <th>adjusted_close_shift</th>\n",
       "      <th>percentage_change</th>\n",
       "      <th>increase</th>\n",
       "    </tr>\n",
       "    <tr>\n",
       "      <th>date</th>\n",
       "      <th></th>\n",
       "      <th></th>\n",
       "      <th></th>\n",
       "      <th></th>\n",
       "      <th></th>\n",
       "      <th></th>\n",
       "      <th></th>\n",
       "      <th></th>\n",
       "      <th></th>\n",
       "      <th></th>\n",
       "      <th></th>\n",
       "      <th></th>\n",
       "      <th></th>\n",
       "    </tr>\n",
       "  </thead>\n",
       "  <tbody>\n",
       "    <tr>\n",
       "      <th>2022-02-28</th>\n",
       "      <td>3048.50</td>\n",
       "      <td>3089.00</td>\n",
       "      <td>3017.00</td>\n",
       "      <td>3071.26</td>\n",
       "      <td>3071.26</td>\n",
       "      <td>2884171.0</td>\n",
       "      <td>0.0</td>\n",
       "      <td>1.0</td>\n",
       "      <td>2022-02-28</td>\n",
       "      <td>0</td>\n",
       "      <td>3022.84</td>\n",
       "      <td>-1.576552</td>\n",
       "      <td>0</td>\n",
       "    </tr>\n",
       "    <tr>\n",
       "      <th>2022-03-01</th>\n",
       "      <td>3054.65</td>\n",
       "      <td>3081.98</td>\n",
       "      <td>2999.54</td>\n",
       "      <td>3022.84</td>\n",
       "      <td>3022.84</td>\n",
       "      <td>2243679.0</td>\n",
       "      <td>0.0</td>\n",
       "      <td>1.0</td>\n",
       "      <td>2022-03-01</td>\n",
       "      <td>1</td>\n",
       "      <td>3041.05</td>\n",
       "      <td>0.602414</td>\n",
       "      <td>1</td>\n",
       "    </tr>\n",
       "    <tr>\n",
       "      <th>2022-03-02</th>\n",
       "      <td>3016.98</td>\n",
       "      <td>3059.99</td>\n",
       "      <td>2975.00</td>\n",
       "      <td>3041.05</td>\n",
       "      <td>3041.05</td>\n",
       "      <td>2366736.0</td>\n",
       "      <td>0.0</td>\n",
       "      <td>1.0</td>\n",
       "      <td>2022-03-02</td>\n",
       "      <td>2</td>\n",
       "      <td>2957.97</td>\n",
       "      <td>-2.731951</td>\n",
       "      <td>0</td>\n",
       "    </tr>\n",
       "    <tr>\n",
       "      <th>2022-03-03</th>\n",
       "      <td>3070.63</td>\n",
       "      <td>3078.58</td>\n",
       "      <td>2937.12</td>\n",
       "      <td>2957.97</td>\n",
       "      <td>2957.97</td>\n",
       "      <td>3259860.0</td>\n",
       "      <td>0.0</td>\n",
       "      <td>1.0</td>\n",
       "      <td>2022-03-03</td>\n",
       "      <td>3</td>\n",
       "      <td>2912.82</td>\n",
       "      <td>-1.526385</td>\n",
       "      <td>0</td>\n",
       "    </tr>\n",
       "    <tr>\n",
       "      <th>2022-03-04</th>\n",
       "      <td>2943.18</td>\n",
       "      <td>2957.00</td>\n",
       "      <td>2876.14</td>\n",
       "      <td>2912.82</td>\n",
       "      <td>2912.82</td>\n",
       "      <td>3049156.0</td>\n",
       "      <td>0.0</td>\n",
       "      <td>1.0</td>\n",
       "      <td>2022-03-04</td>\n",
       "      <td>4</td>\n",
       "      <td>NaN</td>\n",
       "      <td>NaN</td>\n",
       "      <td>0</td>\n",
       "    </tr>\n",
       "  </tbody>\n",
       "</table>\n",
       "</div>"
      ],
      "text/plain": [
       "            1. open  2. high   3. low  4. close  5. adjusted close  6. volume  \\\n",
       "date                                                                            \n",
       "2022-02-28  3048.50  3089.00  3017.00  3071.26   3071.26            2884171.0   \n",
       "2022-03-01  3054.65  3081.98  2999.54  3022.84   3022.84            2243679.0   \n",
       "2022-03-02  3016.98  3059.99  2975.00  3041.05   3041.05            2366736.0   \n",
       "2022-03-03  3070.63  3078.58  2937.12  2957.97   2957.97            3259860.0   \n",
       "2022-03-04  2943.18  2957.00  2876.14  2912.82   2912.82            3049156.0   \n",
       "\n",
       "            7. dividend amount  8. split coefficient  date_time  day_of_week  \\\n",
       "date                                                                           \n",
       "2022-02-28  0.0                 1.0                  2022-02-28  0             \n",
       "2022-03-01  0.0                 1.0                  2022-03-01  1             \n",
       "2022-03-02  0.0                 1.0                  2022-03-02  2             \n",
       "2022-03-03  0.0                 1.0                  2022-03-03  3             \n",
       "2022-03-04  0.0                 1.0                  2022-03-04  4             \n",
       "\n",
       "            adjusted_close_shift  percentage_change  increase  \n",
       "date                                                           \n",
       "2022-02-28  3022.84              -1.576552           0         \n",
       "2022-03-01  3041.05               0.602414           1         \n",
       "2022-03-02  2957.97              -2.731951           0         \n",
       "2022-03-03  2912.82              -1.526385           0         \n",
       "2022-03-04 NaN                   NaN                 0         "
      ]
     },
     "execution_count": 1051,
     "metadata": {},
     "output_type": "execute_result"
    }
   ],
   "source": [
    "df.tail()\n",
    "# df[df.percentage_change == 0]"
   ]
  },
  {
   "cell_type": "code",
   "execution_count": 1052,
   "metadata": {},
   "outputs": [
    {
     "data": {
      "text/plain": [
       "1    1623\n",
       "0    1441\n",
       "Name: increase, dtype: int64"
      ]
     },
     "execution_count": 1052,
     "metadata": {},
     "output_type": "execute_result"
    }
   ],
   "source": [
    "df.increase.value_counts()"
   ]
  },
  {
   "cell_type": "code",
   "execution_count": 1053,
   "metadata": {},
   "outputs": [
    {
     "data": {
      "text/plain": [
       "1    629\n",
       "2    628\n",
       "3    619\n",
       "4    614\n",
       "0    574\n",
       "Name: day_of_week, dtype: int64"
      ]
     },
     "execution_count": 1053,
     "metadata": {},
     "output_type": "execute_result"
    }
   ],
   "source": [
    "# The day of the week with Monday=0, Sunday=6.\n",
    "\n",
    "# 5 = Saturday\n",
    "# 6 = Sunday\n",
    "df.day_of_week.value_counts()"
   ]
  },
  {
   "cell_type": "code",
   "execution_count": 1054,
   "metadata": {},
   "outputs": [
    {
     "name": "stdout",
     "output_type": "stream",
     "text": [
      "1\n"
     ]
    },
    {
     "data": {
      "text/plain": [
       "'2010-01-05'"
      ]
     },
     "execution_count": 1054,
     "metadata": {},
     "output_type": "execute_result"
    }
   ],
   "source": [
    "loc = df.index.get_loc('2010-01-05')\n",
    "loc\n",
    "\n",
    "print(loc)\n",
    "\n",
    "df.iloc[loc][\"date_time\"].strftime(\"%Y-%m-%d\")"
   ]
  },
  {
   "cell_type": "code",
   "execution_count": null,
   "metadata": {},
   "outputs": [],
   "source": []
  },
  {
   "cell_type": "code",
   "execution_count": null,
   "metadata": {},
   "outputs": [],
   "source": []
  },
  {
   "cell_type": "code",
   "execution_count": 1055,
   "metadata": {},
   "outputs": [],
   "source": [
    "benzinga_csv_path = f\"/app/StockPricePredictions/data/alphavantage/time_series_daily_adjusted/{ticker_upper}/{ticker}_finbert_20100101_20220304.csv\""
   ]
  },
  {
   "cell_type": "code",
   "execution_count": 1056,
   "metadata": {},
   "outputs": [],
   "source": [
    "df_benzinga = pd.read_csv(benzinga_csv_path, low_memory=False)"
   ]
  },
  {
   "cell_type": "code",
   "execution_count": 1057,
   "metadata": {},
   "outputs": [],
   "source": [
    "df_benzinga['date'] = pd.to_datetime(df_benzinga['Stock'])"
   ]
  },
  {
   "cell_type": "code",
   "execution_count": 1058,
   "metadata": {},
   "outputs": [],
   "source": [
    "df_benzinga[\"day_of_week\"] = df_benzinga[\"date\"].dt.dayofweek"
   ]
  },
  {
   "cell_type": "code",
   "execution_count": 1059,
   "metadata": {},
   "outputs": [
    {
     "name": "stdout",
     "output_type": "stream",
     "text": [
      "<class 'pandas.core.frame.DataFrame'>\n",
      "RangeIndex: 12394 entries, 0 to 12393\n",
      "Data columns (total 7 columns):\n",
      " #   Column       Non-Null Count  Dtype         \n",
      "---  ------       --------------  -----         \n",
      " 0   Headline     12394 non-null  object        \n",
      " 1   Stock        12394 non-null  object        \n",
      " 2   Positive     12394 non-null  float64       \n",
      " 3   Negative     12394 non-null  float64       \n",
      " 4   Neutral      12394 non-null  float64       \n",
      " 5   date         12394 non-null  datetime64[ns]\n",
      " 6   day_of_week  12394 non-null  int64         \n",
      "dtypes: datetime64[ns](1), float64(3), int64(1), object(2)\n",
      "memory usage: 677.9+ KB\n"
     ]
    }
   ],
   "source": [
    "df_benzinga.info()"
   ]
  },
  {
   "cell_type": "code",
   "execution_count": 1060,
   "metadata": {},
   "outputs": [
    {
     "data": {
      "text/html": [
       "<div>\n",
       "<style scoped>\n",
       "    .dataframe tbody tr th:only-of-type {\n",
       "        vertical-align: middle;\n",
       "    }\n",
       "\n",
       "    .dataframe tbody tr th {\n",
       "        vertical-align: top;\n",
       "    }\n",
       "\n",
       "    .dataframe thead th {\n",
       "        text-align: right;\n",
       "    }\n",
       "</style>\n",
       "<table border=\"1\" class=\"dataframe\">\n",
       "  <thead>\n",
       "    <tr style=\"text-align: right;\">\n",
       "      <th></th>\n",
       "      <th>Headline</th>\n",
       "      <th>Stock</th>\n",
       "      <th>Positive</th>\n",
       "      <th>Negative</th>\n",
       "      <th>Neutral</th>\n",
       "      <th>date</th>\n",
       "      <th>day_of_week</th>\n",
       "    </tr>\n",
       "  </thead>\n",
       "  <tbody>\n",
       "    <tr>\n",
       "      <th>0</th>\n",
       "      <td>Benzinga’s Volume Movers (FFBC, NFLX, GNTX, ALGN, UTHR) First Financial Bancorp  shares gained 6.94% to $16.19. The volume of FFBC shares traded was 1311% higher than normal. FFBC has entered into an underwriting agreement for the sale of about 85 million common shares.    Netflix Inc  shares jumped 22.48% to $62.43. The volume of NFLX shares traded was 804% higher than normal. NFLX has hinted at expanding its operations to overseas markets.    Gentex Corporation  shares climbed 8.02% to $18.85. The volume of GNTX shares traded was 372% higher than normal. Robert W Baird has upgraded GNTX from “neutral” to “outperform.”    Align Technology Inc  shares rose 11.44% to $18.60. The volume of ALGN shares traded was 355% higher than normal. GNTX has posted a 45% increase in its net sales for Q4.    United Therapeutics Corporation  shares moved up 2.90% to $59.23. The volume of UTHR shares traded was 350% higher than normal. UTHR’s shares have surpassed their ten-day moving average of $58.23.    Read more from Benzinga's Markets.</td>\n",
       "      <td>2010-01-28</td>\n",
       "      <td>0.952805</td>\n",
       "      <td>0.017886</td>\n",
       "      <td>0.029309</td>\n",
       "      <td>2010-01-28</td>\n",
       "      <td>3</td>\n",
       "    </tr>\n",
       "  </tbody>\n",
       "</table>\n",
       "</div>"
      ],
      "text/plain": [
       "                                                                                                                                                                                                                                                                                                                                                                                                                                                                                                                                                                                                                                                                                                                                                                                                                                                                                                                                                                                                                                                                          Headline  \\\n",
       "0  Benzinga’s Volume Movers (FFBC, NFLX, GNTX, ALGN, UTHR) First Financial Bancorp  shares gained 6.94% to $16.19. The volume of FFBC shares traded was 1311% higher than normal. FFBC has entered into an underwriting agreement for the sale of about 85 million common shares.    Netflix Inc  shares jumped 22.48% to $62.43. The volume of NFLX shares traded was 804% higher than normal. NFLX has hinted at expanding its operations to overseas markets.    Gentex Corporation  shares climbed 8.02% to $18.85. The volume of GNTX shares traded was 372% higher than normal. Robert W Baird has upgraded GNTX from “neutral” to “outperform.”    Align Technology Inc  shares rose 11.44% to $18.60. The volume of ALGN shares traded was 355% higher than normal. GNTX has posted a 45% increase in its net sales for Q4.    United Therapeutics Corporation  shares moved up 2.90% to $59.23. The volume of UTHR shares traded was 350% higher than normal. UTHR’s shares have surpassed their ten-day moving average of $58.23.    Read more from Benzinga's Markets.    \n",
       "\n",
       "        Stock  Positive  Negative   Neutral       date  day_of_week  \n",
       "0  2010-01-28  0.952805  0.017886  0.029309 2010-01-28  3            "
      ]
     },
     "execution_count": 1060,
     "metadata": {},
     "output_type": "execute_result"
    }
   ],
   "source": [
    "df_benzinga.head(1)"
   ]
  },
  {
   "cell_type": "code",
   "execution_count": 1061,
   "metadata": {},
   "outputs": [
    {
     "name": "stdout",
     "output_type": "stream",
     "text": [
      "<class 'pandas.core.frame.DataFrame'>\n",
      "RangeIndex: 12394 entries, 0 to 12393\n",
      "Data columns (total 7 columns):\n",
      " #   Column       Non-Null Count  Dtype         \n",
      "---  ------       --------------  -----         \n",
      " 0   Headline     12394 non-null  object        \n",
      " 1   Stock        12394 non-null  object        \n",
      " 2   Positive     12394 non-null  float64       \n",
      " 3   Negative     12394 non-null  float64       \n",
      " 4   Neutral      12394 non-null  float64       \n",
      " 5   date         12394 non-null  datetime64[ns]\n",
      " 6   day_of_week  12394 non-null  int64         \n",
      "dtypes: datetime64[ns](1), float64(3), int64(1), object(2)\n",
      "memory usage: 677.9+ KB\n"
     ]
    }
   ],
   "source": [
    "df_benzinga.info()"
   ]
  },
  {
   "cell_type": "code",
   "execution_count": 1062,
   "metadata": {},
   "outputs": [
    {
     "data": {
      "text/plain": [
       "3    2712\n",
       "2    2620\n",
       "1    2358\n",
       "0    2229\n",
       "4    1980\n",
       "6    283 \n",
       "5    212 \n",
       "Name: day_of_week, dtype: int64"
      ]
     },
     "execution_count": 1062,
     "metadata": {},
     "output_type": "execute_result"
    }
   ],
   "source": [
    "# The day of the week with Monday=0, Sunday=6.\n",
    "\n",
    "# 5 = Saturday\n",
    "# 6 = Sunday\n",
    "\n",
    "df_benzinga.day_of_week.value_counts()"
   ]
  },
  {
   "cell_type": "code",
   "execution_count": 1063,
   "metadata": {},
   "outputs": [
    {
     "data": {
      "text/html": [
       "<div>\n",
       "<style scoped>\n",
       "    .dataframe tbody tr th:only-of-type {\n",
       "        vertical-align: middle;\n",
       "    }\n",
       "\n",
       "    .dataframe tbody tr th {\n",
       "        vertical-align: top;\n",
       "    }\n",
       "\n",
       "    .dataframe thead th {\n",
       "        text-align: right;\n",
       "    }\n",
       "</style>\n",
       "<table border=\"1\" class=\"dataframe\">\n",
       "  <thead>\n",
       "    <tr style=\"text-align: right;\">\n",
       "      <th></th>\n",
       "      <th>Headline</th>\n",
       "      <th>Stock</th>\n",
       "      <th>Positive</th>\n",
       "      <th>Negative</th>\n",
       "      <th>Neutral</th>\n",
       "      <th>date</th>\n",
       "      <th>day_of_week</th>\n",
       "    </tr>\n",
       "  </thead>\n",
       "  <tbody>\n",
       "    <tr>\n",
       "      <th>0</th>\n",
       "      <td>Benzinga’s Volume Movers (FFBC, NFLX, GNTX, ALGN, UTHR) First Financial Bancorp  shares gained 6.94% to $16.19. The volume of FFBC shares traded was 1311% higher than normal. FFBC has entered into an underwriting agreement for the sale of about 85 million common shares.    Netflix Inc  shares jumped 22.48% to $62.43. The volume of NFLX shares traded was 804% higher than normal. NFLX has hinted at expanding its operations to overseas markets.    Gentex Corporation  shares climbed 8.02% to $18.85. The volume of GNTX shares traded was 372% higher than normal. Robert W Baird has upgraded GNTX from “neutral” to “outperform.”    Align Technology Inc  shares rose 11.44% to $18.60. The volume of ALGN shares traded was 355% higher than normal. GNTX has posted a 45% increase in its net sales for Q4.    United Therapeutics Corporation  shares moved up 2.90% to $59.23. The volume of UTHR shares traded was 350% higher than normal. UTHR’s shares have surpassed their ten-day moving average of $58.23.    Read more from Benzinga's Markets.</td>\n",
       "      <td>2010-01-28</td>\n",
       "      <td>0.952805</td>\n",
       "      <td>0.017886</td>\n",
       "      <td>0.029309</td>\n",
       "      <td>2010-01-28</td>\n",
       "      <td>3</td>\n",
       "    </tr>\n",
       "  </tbody>\n",
       "</table>\n",
       "</div>"
      ],
      "text/plain": [
       "                                                                                                                                                                                                                                                                                                                                                                                                                                                                                                                                                                                                                                                                                                                                                                                                                                                                                                                                                                                                                                                                          Headline  \\\n",
       "0  Benzinga’s Volume Movers (FFBC, NFLX, GNTX, ALGN, UTHR) First Financial Bancorp  shares gained 6.94% to $16.19. The volume of FFBC shares traded was 1311% higher than normal. FFBC has entered into an underwriting agreement for the sale of about 85 million common shares.    Netflix Inc  shares jumped 22.48% to $62.43. The volume of NFLX shares traded was 804% higher than normal. NFLX has hinted at expanding its operations to overseas markets.    Gentex Corporation  shares climbed 8.02% to $18.85. The volume of GNTX shares traded was 372% higher than normal. Robert W Baird has upgraded GNTX from “neutral” to “outperform.”    Align Technology Inc  shares rose 11.44% to $18.60. The volume of ALGN shares traded was 355% higher than normal. GNTX has posted a 45% increase in its net sales for Q4.    United Therapeutics Corporation  shares moved up 2.90% to $59.23. The volume of UTHR shares traded was 350% higher than normal. UTHR’s shares have surpassed their ten-day moving average of $58.23.    Read more from Benzinga's Markets.    \n",
       "\n",
       "        Stock  Positive  Negative   Neutral       date  day_of_week  \n",
       "0  2010-01-28  0.952805  0.017886  0.029309 2010-01-28  3            "
      ]
     },
     "execution_count": 1063,
     "metadata": {},
     "output_type": "execute_result"
    }
   ],
   "source": [
    "df_benzinga.head(1)"
   ]
  },
  {
   "cell_type": "code",
   "execution_count": 1064,
   "metadata": {},
   "outputs": [],
   "source": [
    "df_benzinga[\"in_index\"] = df_benzinga[\"Stock\"].apply(lambda x: True if x in df.index else False)"
   ]
  },
  {
   "cell_type": "code",
   "execution_count": 1065,
   "metadata": {},
   "outputs": [
    {
     "data": {
      "text/plain": [
       "6    283\n",
       "5    212\n",
       "0    31 \n",
       "2    5  \n",
       "4    4  \n",
       "1    3  \n",
       "Name: day_of_week, dtype: int64"
      ]
     },
     "execution_count": 1065,
     "metadata": {},
     "output_type": "execute_result"
    }
   ],
   "source": [
    "df_benzinga[df_benzinga.in_index==False][\"day_of_week\"].value_counts()"
   ]
  },
  {
   "cell_type": "code",
   "execution_count": 1066,
   "metadata": {},
   "outputs": [
    {
     "data": {
      "text/plain": [
       "0"
      ]
     },
     "execution_count": 1066,
     "metadata": {},
     "output_type": "execute_result"
    }
   ],
   "source": [
    "df.index.get_loc('2010-01-04')\n"
   ]
  },
  {
   "cell_type": "code",
   "execution_count": 1067,
   "metadata": {},
   "outputs": [],
   "source": [
    "from datetime import date, datetime, timedelta"
   ]
  },
  {
   "cell_type": "code",
   "execution_count": 1068,
   "metadata": {},
   "outputs": [
    {
     "name": "stdout",
     "output_type": "stream",
     "text": [
      "2010-01-09 00:00:00\n",
      "2 days, 0:00:00\n"
     ]
    },
    {
     "data": {
      "text/plain": [
       "'2010-01-07'"
      ]
     },
     "execution_count": 1068,
     "metadata": {},
     "output_type": "execute_result"
    }
   ],
   "source": [
    "test2 =  '2010-01-09'\n",
    "\n",
    "dtobj1 = datetime.strptime(test2, \"%Y-%m-%d\")\n",
    "\n",
    "print(dtobj1)\n",
    "\n",
    "days = timedelta(2)\n",
    "\n",
    "print(days)\n",
    "\n",
    "\n",
    "\n",
    "dtobj2 = (dtobj1 - days).strftime(\"%Y-%m-%d\")\n",
    "dtobj2"
   ]
  },
  {
   "cell_type": "code",
   "execution_count": 1069,
   "metadata": {},
   "outputs": [],
   "source": [
    "def update_date(x):\n",
    "\n",
    "    global ERROR_COUNTER\n",
    "\n",
    "    if x.in_index == True:\n",
    "        return x.Stock\n",
    "    else:\n",
    "        # try:\n",
    "\n",
    "            dt_time = datetime.strptime(x.Stock, \"%Y-%m-%d\")\n",
    "\n",
    "            # loc = df.index.get_loc(date_part)\n",
    "            if x.day_of_week == 6: # Sunday to Thursday\n",
    "                days = timedelta(3)\n",
    "                idx_lookup = (dt_time - days).strftime(\"%Y-%m-%d\")\n",
    "                print(idx_lookup)\n",
    "                try:\n",
    "                    loc = df.index.get_loc(idx_lookup)\n",
    "                    return df.iloc[loc][\"date_time\"].strftime(\"%Y-%m-%d\")\n",
    "                except Exception as e1:\n",
    "                    ERROR_COUNTER += 1\n",
    "                    print(str(e1))\n",
    "                    return x.Stock\n",
    "            if x.day_of_week == 5: # Saturday to Thursday\n",
    "                days = timedelta(2)\n",
    "                idx_lookup = (dt_time - days).strftime(\"%Y-%m-%d\")\n",
    "                print(idx_lookup)\n",
    "                try:\n",
    "                    loc = df.index.get_loc(idx_lookup)\n",
    "                    return df.iloc[loc][\"date_time\"].strftime(\"%Y-%m-%d\")\n",
    "                except Exception as e2:\n",
    "                    ERROR_COUNTER += 1\n",
    "                    print(str(e2))\n",
    "                    return x.Stock\n",
    "            if x.day_of_week == 4: # Friday to Thursday\n",
    "                days = timedelta(1)\n",
    "                idx_lookup = (dt_time - days).strftime(\"%Y-%m-%d\")\n",
    "                print(idx_lookup)\n",
    "                try:\n",
    "                    loc = df.index.get_loc(idx_lookup)\n",
    "                    return df.iloc[loc][\"date_time\"].strftime(\"%Y-%m-%d\")\n",
    "                except Exception as e3:\n",
    "                    ERROR_COUNTER += 1\n",
    "                    print(str(3))\n",
    "                    return x.Stock\n",
    "            if x.day_of_week == 0: # Monday to Thursday\n",
    "                days = timedelta(4)\n",
    "                idx_lookup = (dt_time - days).strftime(\"%Y-%m-%d\")\n",
    "                print(idx_lookup)\n",
    "                try:\n",
    "                    loc = df.index.get_loc(idx_lookup)\n",
    "                    return df.iloc[loc][\"date_time\"].strftime(\"%Y-%m-%d\")\n",
    "                except Exception as e3:\n",
    "                    ERROR_COUNTER += 1\n",
    "                    print(str(3))\n",
    "                    return x.Stock\n",
    "\n",
    "            else:\n",
    "                return x.Stock\n",
    "\n",
    "        # except Exception as e:\n",
    "        #     ERROR_COUNTER += 1\n",
    "        #     print(str(e))\n",
    "        #     print(x.day_of_week, x.Stock, x.in_index)\n",
    "        #     return x.Stock\n",
    "    # loc = df.index.get_loc('2010-01-01')\n",
    "    # loc\n",
    "\n"
   ]
  },
  {
   "cell_type": "code",
   "execution_count": 1070,
   "metadata": {},
   "outputs": [],
   "source": [
    "# The day of the week with Monday=0, Sunday=6.\n",
    "\n",
    "# 5 = Saturday\n",
    "# 6 = Sunday\n",
    "\n",
    "ERROR_COUNTER = 0 \n",
    "\n",
    "df_benzinga[\"backfill_date\"] = df_benzinga[\"Stock\"] # df_benzinga.apply(update_date, axis=1)\n"
   ]
  },
  {
   "cell_type": "code",
   "execution_count": 1071,
   "metadata": {},
   "outputs": [
    {
     "data": {
      "text/plain": [
       "0"
      ]
     },
     "execution_count": 1071,
     "metadata": {},
     "output_type": "execute_result"
    }
   ],
   "source": [
    "ERROR_COUNTER"
   ]
  },
  {
   "cell_type": "code",
   "execution_count": 1072,
   "metadata": {},
   "outputs": [],
   "source": [
    "df_benzinga[\"in_index\"] = df_benzinga[\"backfill_date\"].apply(lambda x: True if x in df.index else False)"
   ]
  },
  {
   "cell_type": "code",
   "execution_count": 1073,
   "metadata": {},
   "outputs": [
    {
     "data": {
      "text/plain": [
       "6    283\n",
       "5    212\n",
       "0    31 \n",
       "2    5  \n",
       "4    4  \n",
       "1    3  \n",
       "Name: day_of_week, dtype: int64"
      ]
     },
     "execution_count": 1073,
     "metadata": {},
     "output_type": "execute_result"
    }
   ],
   "source": [
    "df_benzinga[df_benzinga.in_index==False][\"day_of_week\"].value_counts()"
   ]
  },
  {
   "cell_type": "code",
   "execution_count": 1074,
   "metadata": {},
   "outputs": [
    {
     "data": {
      "text/plain": [
       "(538, 9)"
      ]
     },
     "execution_count": 1074,
     "metadata": {},
     "output_type": "execute_result"
    }
   ],
   "source": [
    "df_benzinga[df_benzinga.in_index==False].shape"
   ]
  },
  {
   "cell_type": "code",
   "execution_count": 1075,
   "metadata": {},
   "outputs": [],
   "source": [
    "# df_benzinga[\"text\"] = df_benzinga[\"title\"] + \" \" + df_benzinga[\"body\"]"
   ]
  },
  {
   "cell_type": "code",
   "execution_count": 1076,
   "metadata": {},
   "outputs": [],
   "source": [
    "# df_benzinga['text'] = np.where(df_benzinga[\"text\"], df_benzinga[\"title\"], df_benzinga[\"text\"])"
   ]
  },
  {
   "cell_type": "code",
   "execution_count": 1077,
   "metadata": {},
   "outputs": [],
   "source": [
    "df_benzinga = df_benzinga[[\"backfill_date\", \"Positive\", \"Negative\", \"Neutral\"]]"
   ]
  },
  {
   "cell_type": "code",
   "execution_count": 1078,
   "metadata": {},
   "outputs": [
    {
     "name": "stdout",
     "output_type": "stream",
     "text": [
      "<class 'pandas.core.frame.DataFrame'>\n",
      "RangeIndex: 12394 entries, 0 to 12393\n",
      "Data columns (total 4 columns):\n",
      " #   Column         Non-Null Count  Dtype  \n",
      "---  ------         --------------  -----  \n",
      " 0   backfill_date  12394 non-null  object \n",
      " 1   Positive       12394 non-null  float64\n",
      " 2   Negative       12394 non-null  float64\n",
      " 3   Neutral        12394 non-null  float64\n",
      "dtypes: float64(3), object(1)\n",
      "memory usage: 387.4+ KB\n"
     ]
    }
   ],
   "source": [
    "df_benzinga.info()"
   ]
  },
  {
   "cell_type": "code",
   "execution_count": 1079,
   "metadata": {},
   "outputs": [
    {
     "data": {
      "text/html": [
       "<div>\n",
       "<style scoped>\n",
       "    .dataframe tbody tr th:only-of-type {\n",
       "        vertical-align: middle;\n",
       "    }\n",
       "\n",
       "    .dataframe tbody tr th {\n",
       "        vertical-align: top;\n",
       "    }\n",
       "\n",
       "    .dataframe thead th {\n",
       "        text-align: right;\n",
       "    }\n",
       "</style>\n",
       "<table border=\"1\" class=\"dataframe\">\n",
       "  <thead>\n",
       "    <tr style=\"text-align: right;\">\n",
       "      <th></th>\n",
       "      <th>backfill_date</th>\n",
       "      <th>Positive</th>\n",
       "      <th>Negative</th>\n",
       "      <th>Neutral</th>\n",
       "    </tr>\n",
       "  </thead>\n",
       "  <tbody>\n",
       "    <tr>\n",
       "      <th>0</th>\n",
       "      <td>2010-01-28</td>\n",
       "      <td>0.952805</td>\n",
       "      <td>0.017886</td>\n",
       "      <td>0.029309</td>\n",
       "    </tr>\n",
       "    <tr>\n",
       "      <th>1</th>\n",
       "      <td>2010-03-10</td>\n",
       "      <td>0.773691</td>\n",
       "      <td>0.028808</td>\n",
       "      <td>0.197501</td>\n",
       "    </tr>\n",
       "    <tr>\n",
       "      <th>2</th>\n",
       "      <td>2010-03-29</td>\n",
       "      <td>0.096045</td>\n",
       "      <td>0.584013</td>\n",
       "      <td>0.319942</td>\n",
       "    </tr>\n",
       "    <tr>\n",
       "      <th>3</th>\n",
       "      <td>2010-04-01</td>\n",
       "      <td>0.066259</td>\n",
       "      <td>0.024507</td>\n",
       "      <td>0.909235</td>\n",
       "    </tr>\n",
       "    <tr>\n",
       "      <th>4</th>\n",
       "      <td>2010-05-17</td>\n",
       "      <td>0.028561</td>\n",
       "      <td>0.616754</td>\n",
       "      <td>0.354685</td>\n",
       "    </tr>\n",
       "  </tbody>\n",
       "</table>\n",
       "</div>"
      ],
      "text/plain": [
       "  backfill_date  Positive  Negative   Neutral\n",
       "0  2010-01-28    0.952805  0.017886  0.029309\n",
       "1  2010-03-10    0.773691  0.028808  0.197501\n",
       "2  2010-03-29    0.096045  0.584013  0.319942\n",
       "3  2010-04-01    0.066259  0.024507  0.909235\n",
       "4  2010-05-17    0.028561  0.616754  0.354685"
      ]
     },
     "execution_count": 1079,
     "metadata": {},
     "output_type": "execute_result"
    }
   ],
   "source": [
    "df_benzinga.head()"
   ]
  },
  {
   "cell_type": "code",
   "execution_count": 1080,
   "metadata": {},
   "outputs": [],
   "source": [
    "df_benzinga.rename(columns={\"backfill_date\": \"date\"}, inplace=True)"
   ]
  },
  {
   "cell_type": "code",
   "execution_count": 1081,
   "metadata": {},
   "outputs": [],
   "source": [
    "def clean_tweet(df):\n",
    "    # replace URLs with a whitespace\n",
    "    df['text'] = df['text'].str.replace('http[s]?://(?:[a-zA-Z]|[0-9]|[$-_@.&+]|[!*\\(\\),]|(?:%[0-9a-fA-F][0-9a-fA-F]))+', ' ')\n",
    "    \n",
    "    return df"
   ]
  },
  {
   "cell_type": "code",
   "execution_count": 1082,
   "metadata": {},
   "outputs": [
    {
     "data": {
      "text/html": [
       "<div>\n",
       "<style scoped>\n",
       "    .dataframe tbody tr th:only-of-type {\n",
       "        vertical-align: middle;\n",
       "    }\n",
       "\n",
       "    .dataframe tbody tr th {\n",
       "        vertical-align: top;\n",
       "    }\n",
       "\n",
       "    .dataframe thead th {\n",
       "        text-align: right;\n",
       "    }\n",
       "</style>\n",
       "<table border=\"1\" class=\"dataframe\">\n",
       "  <thead>\n",
       "    <tr style=\"text-align: right;\">\n",
       "      <th></th>\n",
       "      <th>date</th>\n",
       "      <th>Positive</th>\n",
       "      <th>Negative</th>\n",
       "      <th>Neutral</th>\n",
       "    </tr>\n",
       "  </thead>\n",
       "  <tbody>\n",
       "    <tr>\n",
       "      <th>0</th>\n",
       "      <td>2010-01-28</td>\n",
       "      <td>0.952805</td>\n",
       "      <td>0.017886</td>\n",
       "      <td>0.029309</td>\n",
       "    </tr>\n",
       "    <tr>\n",
       "      <th>1</th>\n",
       "      <td>2010-03-10</td>\n",
       "      <td>0.773691</td>\n",
       "      <td>0.028808</td>\n",
       "      <td>0.197501</td>\n",
       "    </tr>\n",
       "    <tr>\n",
       "      <th>2</th>\n",
       "      <td>2010-03-29</td>\n",
       "      <td>0.096045</td>\n",
       "      <td>0.584013</td>\n",
       "      <td>0.319942</td>\n",
       "    </tr>\n",
       "    <tr>\n",
       "      <th>3</th>\n",
       "      <td>2010-04-01</td>\n",
       "      <td>0.066259</td>\n",
       "      <td>0.024507</td>\n",
       "      <td>0.909235</td>\n",
       "    </tr>\n",
       "    <tr>\n",
       "      <th>4</th>\n",
       "      <td>2010-05-17</td>\n",
       "      <td>0.028561</td>\n",
       "      <td>0.616754</td>\n",
       "      <td>0.354685</td>\n",
       "    </tr>\n",
       "  </tbody>\n",
       "</table>\n",
       "</div>"
      ],
      "text/plain": [
       "         date  Positive  Negative   Neutral\n",
       "0  2010-01-28  0.952805  0.017886  0.029309\n",
       "1  2010-03-10  0.773691  0.028808  0.197501\n",
       "2  2010-03-29  0.096045  0.584013  0.319942\n",
       "3  2010-04-01  0.066259  0.024507  0.909235\n",
       "4  2010-05-17  0.028561  0.616754  0.354685"
      ]
     },
     "execution_count": 1082,
     "metadata": {},
     "output_type": "execute_result"
    }
   ],
   "source": [
    "df_benzinga.head()"
   ]
  },
  {
   "cell_type": "code",
   "execution_count": 1083,
   "metadata": {},
   "outputs": [],
   "source": [
    "# df_benzinga = clean_tweet(df_benzinga)"
   ]
  },
  {
   "cell_type": "code",
   "execution_count": 1084,
   "metadata": {},
   "outputs": [],
   "source": [
    "df_benzinga.set_index(\"date\", inplace=True)"
   ]
  },
  {
   "cell_type": "code",
   "execution_count": 1085,
   "metadata": {},
   "outputs": [
    {
     "data": {
      "text/html": [
       "<div>\n",
       "<style scoped>\n",
       "    .dataframe tbody tr th:only-of-type {\n",
       "        vertical-align: middle;\n",
       "    }\n",
       "\n",
       "    .dataframe tbody tr th {\n",
       "        vertical-align: top;\n",
       "    }\n",
       "\n",
       "    .dataframe thead th {\n",
       "        text-align: right;\n",
       "    }\n",
       "</style>\n",
       "<table border=\"1\" class=\"dataframe\">\n",
       "  <thead>\n",
       "    <tr style=\"text-align: right;\">\n",
       "      <th></th>\n",
       "      <th>Positive</th>\n",
       "      <th>Negative</th>\n",
       "      <th>Neutral</th>\n",
       "    </tr>\n",
       "    <tr>\n",
       "      <th>date</th>\n",
       "      <th></th>\n",
       "      <th></th>\n",
       "      <th></th>\n",
       "    </tr>\n",
       "  </thead>\n",
       "  <tbody>\n",
       "    <tr>\n",
       "      <th>2010-01-28</th>\n",
       "      <td>0.952805</td>\n",
       "      <td>0.017886</td>\n",
       "      <td>0.029309</td>\n",
       "    </tr>\n",
       "    <tr>\n",
       "      <th>2010-03-10</th>\n",
       "      <td>0.773691</td>\n",
       "      <td>0.028808</td>\n",
       "      <td>0.197501</td>\n",
       "    </tr>\n",
       "    <tr>\n",
       "      <th>2010-03-29</th>\n",
       "      <td>0.096045</td>\n",
       "      <td>0.584013</td>\n",
       "      <td>0.319942</td>\n",
       "    </tr>\n",
       "    <tr>\n",
       "      <th>2010-04-01</th>\n",
       "      <td>0.066259</td>\n",
       "      <td>0.024507</td>\n",
       "      <td>0.909235</td>\n",
       "    </tr>\n",
       "    <tr>\n",
       "      <th>2010-05-17</th>\n",
       "      <td>0.028561</td>\n",
       "      <td>0.616754</td>\n",
       "      <td>0.354685</td>\n",
       "    </tr>\n",
       "  </tbody>\n",
       "</table>\n",
       "</div>"
      ],
      "text/plain": [
       "            Positive  Negative   Neutral\n",
       "date                                    \n",
       "2010-01-28  0.952805  0.017886  0.029309\n",
       "2010-03-10  0.773691  0.028808  0.197501\n",
       "2010-03-29  0.096045  0.584013  0.319942\n",
       "2010-04-01  0.066259  0.024507  0.909235\n",
       "2010-05-17  0.028561  0.616754  0.354685"
      ]
     },
     "execution_count": 1085,
     "metadata": {},
     "output_type": "execute_result"
    }
   ],
   "source": [
    "df_benzinga.head()"
   ]
  },
  {
   "cell_type": "code",
   "execution_count": 1086,
   "metadata": {},
   "outputs": [],
   "source": [
    "df_benzinga_duplicated_index = df_benzinga[df_benzinga.index.duplicated(keep=False)]"
   ]
  },
  {
   "cell_type": "code",
   "execution_count": 1087,
   "metadata": {},
   "outputs": [
    {
     "data": {
      "text/plain": [
       "11770"
      ]
     },
     "execution_count": 1087,
     "metadata": {},
     "output_type": "execute_result"
    }
   ],
   "source": [
    "df_benzinga_duplicated_index.shape[0]"
   ]
  },
  {
   "cell_type": "code",
   "execution_count": 1088,
   "metadata": {},
   "outputs": [],
   "source": [
    "df_benzinga_nonduplicated_index = df_benzinga[~df_benzinga.index.duplicated(keep=False)]"
   ]
  },
  {
   "cell_type": "code",
   "execution_count": 1089,
   "metadata": {},
   "outputs": [
    {
     "data": {
      "text/plain": [
       "624"
      ]
     },
     "execution_count": 1089,
     "metadata": {},
     "output_type": "execute_result"
    }
   ],
   "source": [
    "df_benzinga_nonduplicated_index.shape[0]"
   ]
  },
  {
   "cell_type": "code",
   "execution_count": 1090,
   "metadata": {},
   "outputs": [],
   "source": [
    "# df_twint.groupby('date')['negative'].mean()\n",
    "\n",
    "df_benzinga_groupby = df_benzinga.groupby(\"date\").agg(\n",
    "     negative = (\"Negative\", \"mean\"),\n",
    "     nuetral = (\"Neutral\", \"mean\"),\n",
    "     positive = (\"Positive\", \"mean\"),\n",
    "     # compound = (\"compound\", \"mean\"),\n",
    "     # nlikes = (\"nlikes\", \"sum\"),\n",
    "     # nretweets = (\"nretweets\", \"sum\"),\n",
    "     )\n"
   ]
  },
  {
   "cell_type": "code",
   "execution_count": 1091,
   "metadata": {},
   "outputs": [
    {
     "data": {
      "text/html": [
       "<div>\n",
       "<style scoped>\n",
       "    .dataframe tbody tr th:only-of-type {\n",
       "        vertical-align: middle;\n",
       "    }\n",
       "\n",
       "    .dataframe tbody tr th {\n",
       "        vertical-align: top;\n",
       "    }\n",
       "\n",
       "    .dataframe thead th {\n",
       "        text-align: right;\n",
       "    }\n",
       "</style>\n",
       "<table border=\"1\" class=\"dataframe\">\n",
       "  <thead>\n",
       "    <tr style=\"text-align: right;\">\n",
       "      <th></th>\n",
       "      <th>negative</th>\n",
       "      <th>nuetral</th>\n",
       "      <th>positive</th>\n",
       "    </tr>\n",
       "    <tr>\n",
       "      <th>date</th>\n",
       "      <th></th>\n",
       "      <th></th>\n",
       "      <th></th>\n",
       "    </tr>\n",
       "  </thead>\n",
       "  <tbody>\n",
       "    <tr>\n",
       "      <th>2010-01-28</th>\n",
       "      <td>0.017886</td>\n",
       "      <td>0.029309</td>\n",
       "      <td>0.952805</td>\n",
       "    </tr>\n",
       "    <tr>\n",
       "      <th>2010-03-10</th>\n",
       "      <td>0.028808</td>\n",
       "      <td>0.197501</td>\n",
       "      <td>0.773691</td>\n",
       "    </tr>\n",
       "    <tr>\n",
       "      <th>2010-03-29</th>\n",
       "      <td>0.584013</td>\n",
       "      <td>0.319942</td>\n",
       "      <td>0.096045</td>\n",
       "    </tr>\n",
       "    <tr>\n",
       "      <th>2010-04-01</th>\n",
       "      <td>0.024507</td>\n",
       "      <td>0.909235</td>\n",
       "      <td>0.066259</td>\n",
       "    </tr>\n",
       "    <tr>\n",
       "      <th>2010-05-17</th>\n",
       "      <td>0.616754</td>\n",
       "      <td>0.354685</td>\n",
       "      <td>0.028561</td>\n",
       "    </tr>\n",
       "    <tr>\n",
       "      <th>...</th>\n",
       "      <td>...</td>\n",
       "      <td>...</td>\n",
       "      <td>...</td>\n",
       "    </tr>\n",
       "    <tr>\n",
       "      <th>2022-02-28</th>\n",
       "      <td>0.448063</td>\n",
       "      <td>0.392553</td>\n",
       "      <td>0.159384</td>\n",
       "    </tr>\n",
       "    <tr>\n",
       "      <th>2022-03-01</th>\n",
       "      <td>0.600509</td>\n",
       "      <td>0.265521</td>\n",
       "      <td>0.133970</td>\n",
       "    </tr>\n",
       "    <tr>\n",
       "      <th>2022-03-02</th>\n",
       "      <td>0.368508</td>\n",
       "      <td>0.540080</td>\n",
       "      <td>0.091412</td>\n",
       "    </tr>\n",
       "    <tr>\n",
       "      <th>2022-03-03</th>\n",
       "      <td>0.133283</td>\n",
       "      <td>0.630151</td>\n",
       "      <td>0.236567</td>\n",
       "    </tr>\n",
       "    <tr>\n",
       "      <th>2022-03-04</th>\n",
       "      <td>0.511864</td>\n",
       "      <td>0.461260</td>\n",
       "      <td>0.026875</td>\n",
       "    </tr>\n",
       "  </tbody>\n",
       "</table>\n",
       "<p>2782 rows × 3 columns</p>\n",
       "</div>"
      ],
      "text/plain": [
       "            negative   nuetral  positive\n",
       "date                                    \n",
       "2010-01-28  0.017886  0.029309  0.952805\n",
       "2010-03-10  0.028808  0.197501  0.773691\n",
       "2010-03-29  0.584013  0.319942  0.096045\n",
       "2010-04-01  0.024507  0.909235  0.066259\n",
       "2010-05-17  0.616754  0.354685  0.028561\n",
       "...              ...       ...       ...\n",
       "2022-02-28  0.448063  0.392553  0.159384\n",
       "2022-03-01  0.600509  0.265521  0.133970\n",
       "2022-03-02  0.368508  0.540080  0.091412\n",
       "2022-03-03  0.133283  0.630151  0.236567\n",
       "2022-03-04  0.511864  0.461260  0.026875\n",
       "\n",
       "[2782 rows x 3 columns]"
      ]
     },
     "execution_count": 1091,
     "metadata": {},
     "output_type": "execute_result"
    }
   ],
   "source": [
    "df_benzinga_groupby"
   ]
  },
  {
   "cell_type": "code",
   "execution_count": 1092,
   "metadata": {},
   "outputs": [],
   "source": [
    "df_merge = pd.merge(df, df_benzinga_groupby, how=\"inner\", left_index=True, right_index=True)"
   ]
  },
  {
   "cell_type": "code",
   "execution_count": 1093,
   "metadata": {},
   "outputs": [
    {
     "data": {
      "text/plain": [
       "(2400, 16)"
      ]
     },
     "execution_count": 1093,
     "metadata": {},
     "output_type": "execute_result"
    }
   ],
   "source": [
    "df_merge.shape"
   ]
  },
  {
   "cell_type": "code",
   "execution_count": 1094,
   "metadata": {},
   "outputs": [
    {
     "data": {
      "text/plain": [
       "1    495\n",
       "2    494\n",
       "3    482\n",
       "4    470\n",
       "0    459\n",
       "Name: day_of_week, dtype: int64"
      ]
     },
     "execution_count": 1094,
     "metadata": {},
     "output_type": "execute_result"
    }
   ],
   "source": [
    "df_merge.day_of_week.value_counts()"
   ]
  },
  {
   "cell_type": "code",
   "execution_count": 1095,
   "metadata": {},
   "outputs": [
    {
     "data": {
      "text/html": [
       "<div>\n",
       "<style scoped>\n",
       "    .dataframe tbody tr th:only-of-type {\n",
       "        vertical-align: middle;\n",
       "    }\n",
       "\n",
       "    .dataframe tbody tr th {\n",
       "        vertical-align: top;\n",
       "    }\n",
       "\n",
       "    .dataframe thead th {\n",
       "        text-align: right;\n",
       "    }\n",
       "</style>\n",
       "<table border=\"1\" class=\"dataframe\">\n",
       "  <thead>\n",
       "    <tr style=\"text-align: right;\">\n",
       "      <th></th>\n",
       "      <th>1. open</th>\n",
       "      <th>2. high</th>\n",
       "      <th>3. low</th>\n",
       "      <th>4. close</th>\n",
       "      <th>5. adjusted close</th>\n",
       "      <th>6. volume</th>\n",
       "      <th>7. dividend amount</th>\n",
       "      <th>8. split coefficient</th>\n",
       "      <th>date_time</th>\n",
       "      <th>day_of_week</th>\n",
       "      <th>adjusted_close_shift</th>\n",
       "      <th>percentage_change</th>\n",
       "      <th>increase</th>\n",
       "      <th>negative</th>\n",
       "      <th>nuetral</th>\n",
       "      <th>positive</th>\n",
       "    </tr>\n",
       "    <tr>\n",
       "      <th>date</th>\n",
       "      <th></th>\n",
       "      <th></th>\n",
       "      <th></th>\n",
       "      <th></th>\n",
       "      <th></th>\n",
       "      <th></th>\n",
       "      <th></th>\n",
       "      <th></th>\n",
       "      <th></th>\n",
       "      <th></th>\n",
       "      <th></th>\n",
       "      <th></th>\n",
       "      <th></th>\n",
       "      <th></th>\n",
       "      <th></th>\n",
       "      <th></th>\n",
       "    </tr>\n",
       "  </thead>\n",
       "  <tbody>\n",
       "  </tbody>\n",
       "</table>\n",
       "</div>"
      ],
      "text/plain": [
       "Empty DataFrame\n",
       "Columns: [1. open, 2. high, 3. low, 4. close, 5. adjusted close, 6. volume, 7. dividend amount, 8. split coefficient, date_time, day_of_week, adjusted_close_shift, percentage_change, increase, negative, nuetral, positive]\n",
       "Index: []"
      ]
     },
     "execution_count": 1095,
     "metadata": {},
     "output_type": "execute_result"
    }
   ],
   "source": [
    "# df.index\n",
    "# df_text.index\n",
    "df_merge[df_merge.negative.isnull()]\n",
    "# df_merge.shape"
   ]
  },
  {
   "cell_type": "code",
   "execution_count": 1096,
   "metadata": {},
   "outputs": [
    {
     "data": {
      "text/plain": [
       "(3064, 13)"
      ]
     },
     "execution_count": 1096,
     "metadata": {},
     "output_type": "execute_result"
    }
   ],
   "source": [
    "df.shape"
   ]
  },
  {
   "cell_type": "code",
   "execution_count": 1097,
   "metadata": {},
   "outputs": [
    {
     "data": {
      "text/plain": [
       "(2782, 3)"
      ]
     },
     "execution_count": 1097,
     "metadata": {},
     "output_type": "execute_result"
    }
   ],
   "source": [
    "df_benzinga_groupby.shape"
   ]
  },
  {
   "cell_type": "code",
   "execution_count": 1098,
   "metadata": {},
   "outputs": [],
   "source": [
    "# df_merge.fillna(0.0, inplace=True)\n",
    "# df_merge.fillna(method=\"ffill\", inplace=True)"
   ]
  },
  {
   "cell_type": "code",
   "execution_count": 1099,
   "metadata": {},
   "outputs": [
    {
     "data": {
      "text/plain": [
       "(0, 16)"
      ]
     },
     "execution_count": 1099,
     "metadata": {},
     "output_type": "execute_result"
    }
   ],
   "source": [
    "df_merge[df_merge.negative.isnull()].shape"
   ]
  },
  {
   "cell_type": "code",
   "execution_count": 1100,
   "metadata": {},
   "outputs": [
    {
     "name": "stdout",
     "output_type": "stream",
     "text": [
      "<class 'pandas.core.frame.DataFrame'>\n",
      "Index: 2400 entries, 2010-01-28 to 2022-03-04\n",
      "Data columns (total 16 columns):\n",
      " #   Column                Non-Null Count  Dtype         \n",
      "---  ------                --------------  -----         \n",
      " 0   1. open               2400 non-null   float64       \n",
      " 1   2. high               2400 non-null   float64       \n",
      " 2   3. low                2400 non-null   float64       \n",
      " 3   4. close              2400 non-null   float64       \n",
      " 4   5. adjusted close     2400 non-null   float64       \n",
      " 5   6. volume             2400 non-null   float64       \n",
      " 6   7. dividend amount    2400 non-null   float64       \n",
      " 7   8. split coefficient  2400 non-null   float64       \n",
      " 8   date_time             2400 non-null   datetime64[ns]\n",
      " 9   day_of_week           2400 non-null   int64         \n",
      " 10  adjusted_close_shift  2399 non-null   float64       \n",
      " 11  percentage_change     2399 non-null   float64       \n",
      " 12  increase              2400 non-null   int64         \n",
      " 13  negative              2400 non-null   float64       \n",
      " 14  nuetral               2400 non-null   float64       \n",
      " 15  positive              2400 non-null   float64       \n",
      "dtypes: datetime64[ns](1), float64(13), int64(2)\n",
      "memory usage: 318.8+ KB\n"
     ]
    }
   ],
   "source": [
    "df_merge.info()"
   ]
  },
  {
   "cell_type": "code",
   "execution_count": 1101,
   "metadata": {},
   "outputs": [],
   "source": [
    "# df_merge.fillna(0.0, inplace=True)"
   ]
  },
  {
   "cell_type": "code",
   "execution_count": 1102,
   "metadata": {},
   "outputs": [
    {
     "data": {
      "text/html": [
       "<div>\n",
       "<style scoped>\n",
       "    .dataframe tbody tr th:only-of-type {\n",
       "        vertical-align: middle;\n",
       "    }\n",
       "\n",
       "    .dataframe tbody tr th {\n",
       "        vertical-align: top;\n",
       "    }\n",
       "\n",
       "    .dataframe thead th {\n",
       "        text-align: right;\n",
       "    }\n",
       "</style>\n",
       "<table border=\"1\" class=\"dataframe\">\n",
       "  <thead>\n",
       "    <tr style=\"text-align: right;\">\n",
       "      <th></th>\n",
       "      <th>1. open</th>\n",
       "      <th>2. high</th>\n",
       "      <th>3. low</th>\n",
       "      <th>4. close</th>\n",
       "      <th>5. adjusted close</th>\n",
       "      <th>6. volume</th>\n",
       "      <th>7. dividend amount</th>\n",
       "      <th>8. split coefficient</th>\n",
       "      <th>date_time</th>\n",
       "      <th>day_of_week</th>\n",
       "      <th>adjusted_close_shift</th>\n",
       "      <th>percentage_change</th>\n",
       "      <th>increase</th>\n",
       "      <th>negative</th>\n",
       "      <th>nuetral</th>\n",
       "      <th>positive</th>\n",
       "    </tr>\n",
       "    <tr>\n",
       "      <th>date</th>\n",
       "      <th></th>\n",
       "      <th></th>\n",
       "      <th></th>\n",
       "      <th></th>\n",
       "      <th></th>\n",
       "      <th></th>\n",
       "      <th></th>\n",
       "      <th></th>\n",
       "      <th></th>\n",
       "      <th></th>\n",
       "      <th></th>\n",
       "      <th></th>\n",
       "      <th></th>\n",
       "      <th></th>\n",
       "      <th></th>\n",
       "      <th></th>\n",
       "    </tr>\n",
       "  </thead>\n",
       "  <tbody>\n",
       "    <tr>\n",
       "      <th>2010-01-28</th>\n",
       "      <td>124.43</td>\n",
       "      <td>127.20</td>\n",
       "      <td>122.80</td>\n",
       "      <td>126.03</td>\n",
       "      <td>126.03</td>\n",
       "      <td>27293100.0</td>\n",
       "      <td>0.0</td>\n",
       "      <td>1.0</td>\n",
       "      <td>2010-01-28</td>\n",
       "      <td>3</td>\n",
       "      <td>125.410</td>\n",
       "      <td>-0.491946</td>\n",
       "      <td>0</td>\n",
       "      <td>0.017886</td>\n",
       "      <td>0.029309</td>\n",
       "      <td>0.952805</td>\n",
       "    </tr>\n",
       "    <tr>\n",
       "      <th>2010-03-10</th>\n",
       "      <td>129.11</td>\n",
       "      <td>131.17</td>\n",
       "      <td>128.48</td>\n",
       "      <td>130.51</td>\n",
       "      <td>130.51</td>\n",
       "      <td>5625700.0</td>\n",
       "      <td>0.0</td>\n",
       "      <td>1.0</td>\n",
       "      <td>2010-03-10</td>\n",
       "      <td>2</td>\n",
       "      <td>133.580</td>\n",
       "      <td>2.352310</td>\n",
       "      <td>1</td>\n",
       "      <td>0.028808</td>\n",
       "      <td>0.197501</td>\n",
       "      <td>0.773691</td>\n",
       "    </tr>\n",
       "    <tr>\n",
       "      <th>2010-03-29</th>\n",
       "      <td>135.37</td>\n",
       "      <td>136.63</td>\n",
       "      <td>134.33</td>\n",
       "      <td>135.12</td>\n",
       "      <td>135.12</td>\n",
       "      <td>4626900.0</td>\n",
       "      <td>0.0</td>\n",
       "      <td>1.0</td>\n",
       "      <td>2010-03-29</td>\n",
       "      <td>0</td>\n",
       "      <td>136.579</td>\n",
       "      <td>1.079781</td>\n",
       "      <td>1</td>\n",
       "      <td>0.584013</td>\n",
       "      <td>0.319942</td>\n",
       "      <td>0.096045</td>\n",
       "    </tr>\n",
       "    <tr>\n",
       "      <th>2010-04-01</th>\n",
       "      <td>135.80</td>\n",
       "      <td>136.51</td>\n",
       "      <td>131.18</td>\n",
       "      <td>131.81</td>\n",
       "      <td>131.81</td>\n",
       "      <td>8785800.0</td>\n",
       "      <td>0.0</td>\n",
       "      <td>1.0</td>\n",
       "      <td>2010-04-01</td>\n",
       "      <td>3</td>\n",
       "      <td>131.490</td>\n",
       "      <td>-0.242774</td>\n",
       "      <td>0</td>\n",
       "      <td>0.024507</td>\n",
       "      <td>0.909235</td>\n",
       "      <td>0.066259</td>\n",
       "    </tr>\n",
       "    <tr>\n",
       "      <th>2010-05-17</th>\n",
       "      <td>128.24</td>\n",
       "      <td>129.95</td>\n",
       "      <td>125.80</td>\n",
       "      <td>128.91</td>\n",
       "      <td>128.91</td>\n",
       "      <td>5642200.0</td>\n",
       "      <td>0.0</td>\n",
       "      <td>1.0</td>\n",
       "      <td>2010-05-17</td>\n",
       "      <td>0</td>\n",
       "      <td>126.280</td>\n",
       "      <td>-2.040183</td>\n",
       "      <td>0</td>\n",
       "      <td>0.616754</td>\n",
       "      <td>0.354685</td>\n",
       "      <td>0.028561</td>\n",
       "    </tr>\n",
       "  </tbody>\n",
       "</table>\n",
       "</div>"
      ],
      "text/plain": [
       "            1. open  2. high  3. low  4. close  5. adjusted close   6. volume  \\\n",
       "date                                                                            \n",
       "2010-01-28  124.43   127.20   122.80  126.03    126.03             27293100.0   \n",
       "2010-03-10  129.11   131.17   128.48  130.51    130.51             5625700.0    \n",
       "2010-03-29  135.37   136.63   134.33  135.12    135.12             4626900.0    \n",
       "2010-04-01  135.80   136.51   131.18  131.81    131.81             8785800.0    \n",
       "2010-05-17  128.24   129.95   125.80  128.91    128.91             5642200.0    \n",
       "\n",
       "            7. dividend amount  8. split coefficient  date_time  day_of_week  \\\n",
       "date                                                                           \n",
       "2010-01-28  0.0                 1.0                  2010-01-28  3             \n",
       "2010-03-10  0.0                 1.0                  2010-03-10  2             \n",
       "2010-03-29  0.0                 1.0                  2010-03-29  0             \n",
       "2010-04-01  0.0                 1.0                  2010-04-01  3             \n",
       "2010-05-17  0.0                 1.0                  2010-05-17  0             \n",
       "\n",
       "            adjusted_close_shift  percentage_change  increase  negative  \\\n",
       "date                                                                      \n",
       "2010-01-28  125.410              -0.491946           0         0.017886   \n",
       "2010-03-10  133.580               2.352310           1         0.028808   \n",
       "2010-03-29  136.579               1.079781           1         0.584013   \n",
       "2010-04-01  131.490              -0.242774           0         0.024507   \n",
       "2010-05-17  126.280              -2.040183           0         0.616754   \n",
       "\n",
       "             nuetral  positive  \n",
       "date                            \n",
       "2010-01-28  0.029309  0.952805  \n",
       "2010-03-10  0.197501  0.773691  \n",
       "2010-03-29  0.319942  0.096045  \n",
       "2010-04-01  0.909235  0.066259  \n",
       "2010-05-17  0.354685  0.028561  "
      ]
     },
     "execution_count": 1102,
     "metadata": {},
     "output_type": "execute_result"
    }
   ],
   "source": [
    "##############df_merge.to_csv(f\"/app/StockPricePredictions/data/alphavantage/time_series_daily_adjusted/{ticker_upper}/{ticker_upper}_WITH_BENZINGA_FINBERT_SA.csv\")\n",
    "df_merge.head()"
   ]
  },
  {
   "cell_type": "code",
   "execution_count": 1103,
   "metadata": {},
   "outputs": [],
   "source": [
    "# df_merge = df_merge.sample(frac=1).reset_index(drop=True)"
   ]
  },
  {
   "cell_type": "code",
   "execution_count": 1104,
   "metadata": {},
   "outputs": [
    {
     "data": {
      "text/plain": [
       "(2400, 16)"
      ]
     },
     "execution_count": 1104,
     "metadata": {},
     "output_type": "execute_result"
    }
   ],
   "source": [
    "df_merge.shape"
   ]
  },
  {
   "cell_type": "code",
   "execution_count": 1105,
   "metadata": {},
   "outputs": [],
   "source": [
    "# df_merge[(df_merge[\"negative\"]==0.0) & (df_merge[\"nuetral\"]==0.0) & (df_merge[\"positive\"]==0.0)].shape"
   ]
  },
  {
   "cell_type": "code",
   "execution_count": 1106,
   "metadata": {},
   "outputs": [],
   "source": [
    "# df_merge = df_merge[~(df_merge[\"negative\"]==0.0) & ~(df_merge[\"nuetral\"]==0.0) & ~(df_merge[\"positive\"]==0.0)].copy()"
   ]
  },
  {
   "cell_type": "code",
   "execution_count": 1107,
   "metadata": {},
   "outputs": [],
   "source": [
    "X = df_merge[[\"negative\", \"nuetral\", \"positive\"]]\n",
    "y = df_merge[\"increase\"]"
   ]
  },
  {
   "cell_type": "code",
   "execution_count": 1108,
   "metadata": {},
   "outputs": [
    {
     "data": {
      "text/plain": [
       "date\n",
       "2010-01-28    0\n",
       "2010-03-10    1\n",
       "2010-03-29    1\n",
       "2010-04-01    0\n",
       "2010-05-17    0\n",
       "Name: increase, dtype: int64"
      ]
     },
     "execution_count": 1108,
     "metadata": {},
     "output_type": "execute_result"
    }
   ],
   "source": [
    "y.head()"
   ]
  },
  {
   "cell_type": "code",
   "execution_count": 1109,
   "metadata": {},
   "outputs": [],
   "source": [
    "from sklearn.model_selection import train_test_split"
   ]
  },
  {
   "cell_type": "code",
   "execution_count": 1110,
   "metadata": {},
   "outputs": [],
   "source": [
    "# X_train, X_test, y_train, y_test = train_test_split(X, y, test_size=0.20, stratify=y)\n",
    "\n"
   ]
  },
  {
   "cell_type": "code",
   "execution_count": 1111,
   "metadata": {},
   "outputs": [],
   "source": [
    "SPLIT = int(0.8 * len(df_merge))\n",
    "\n",
    "X_train = X[:SPLIT]\n",
    "X_test = X[SPLIT:]\n",
    "\n",
    "y_train = y[:SPLIT]\n",
    "y_test = y[SPLIT:]\n",
    "\n"
   ]
  },
  {
   "cell_type": "code",
   "execution_count": 1112,
   "metadata": {},
   "outputs": [
    {
     "data": {
      "text/html": [
       "<div>\n",
       "<style scoped>\n",
       "    .dataframe tbody tr th:only-of-type {\n",
       "        vertical-align: middle;\n",
       "    }\n",
       "\n",
       "    .dataframe tbody tr th {\n",
       "        vertical-align: top;\n",
       "    }\n",
       "\n",
       "    .dataframe thead th {\n",
       "        text-align: right;\n",
       "    }\n",
       "</style>\n",
       "<table border=\"1\" class=\"dataframe\">\n",
       "  <thead>\n",
       "    <tr style=\"text-align: right;\">\n",
       "      <th></th>\n",
       "      <th>negative</th>\n",
       "      <th>nuetral</th>\n",
       "      <th>positive</th>\n",
       "    </tr>\n",
       "    <tr>\n",
       "      <th>date</th>\n",
       "      <th></th>\n",
       "      <th></th>\n",
       "      <th></th>\n",
       "    </tr>\n",
       "  </thead>\n",
       "  <tbody>\n",
       "    <tr>\n",
       "      <th>2010-01-28</th>\n",
       "      <td>0.017886</td>\n",
       "      <td>0.029309</td>\n",
       "      <td>0.952805</td>\n",
       "    </tr>\n",
       "    <tr>\n",
       "      <th>2010-03-10</th>\n",
       "      <td>0.028808</td>\n",
       "      <td>0.197501</td>\n",
       "      <td>0.773691</td>\n",
       "    </tr>\n",
       "    <tr>\n",
       "      <th>2010-03-29</th>\n",
       "      <td>0.584013</td>\n",
       "      <td>0.319942</td>\n",
       "      <td>0.096045</td>\n",
       "    </tr>\n",
       "    <tr>\n",
       "      <th>2010-04-01</th>\n",
       "      <td>0.024507</td>\n",
       "      <td>0.909235</td>\n",
       "      <td>0.066259</td>\n",
       "    </tr>\n",
       "    <tr>\n",
       "      <th>2010-05-17</th>\n",
       "      <td>0.616754</td>\n",
       "      <td>0.354685</td>\n",
       "      <td>0.028561</td>\n",
       "    </tr>\n",
       "    <tr>\n",
       "      <th>...</th>\n",
       "      <td>...</td>\n",
       "      <td>...</td>\n",
       "      <td>...</td>\n",
       "    </tr>\n",
       "    <tr>\n",
       "      <th>2020-03-31</th>\n",
       "      <td>0.331296</td>\n",
       "      <td>0.302237</td>\n",
       "      <td>0.366467</td>\n",
       "    </tr>\n",
       "    <tr>\n",
       "      <th>2020-04-01</th>\n",
       "      <td>0.111791</td>\n",
       "      <td>0.863226</td>\n",
       "      <td>0.024983</td>\n",
       "    </tr>\n",
       "    <tr>\n",
       "      <th>2020-04-02</th>\n",
       "      <td>0.378922</td>\n",
       "      <td>0.504308</td>\n",
       "      <td>0.116769</td>\n",
       "    </tr>\n",
       "    <tr>\n",
       "      <th>2020-04-03</th>\n",
       "      <td>0.932175</td>\n",
       "      <td>0.043062</td>\n",
       "      <td>0.024762</td>\n",
       "    </tr>\n",
       "    <tr>\n",
       "      <th>2020-04-06</th>\n",
       "      <td>0.031872</td>\n",
       "      <td>0.023392</td>\n",
       "      <td>0.944736</td>\n",
       "    </tr>\n",
       "  </tbody>\n",
       "</table>\n",
       "<p>1920 rows × 3 columns</p>\n",
       "</div>"
      ],
      "text/plain": [
       "            negative   nuetral  positive\n",
       "date                                    \n",
       "2010-01-28  0.017886  0.029309  0.952805\n",
       "2010-03-10  0.028808  0.197501  0.773691\n",
       "2010-03-29  0.584013  0.319942  0.096045\n",
       "2010-04-01  0.024507  0.909235  0.066259\n",
       "2010-05-17  0.616754  0.354685  0.028561\n",
       "...              ...       ...       ...\n",
       "2020-03-31  0.331296  0.302237  0.366467\n",
       "2020-04-01  0.111791  0.863226  0.024983\n",
       "2020-04-02  0.378922  0.504308  0.116769\n",
       "2020-04-03  0.932175  0.043062  0.024762\n",
       "2020-04-06  0.031872  0.023392  0.944736\n",
       "\n",
       "[1920 rows x 3 columns]"
      ]
     },
     "execution_count": 1112,
     "metadata": {},
     "output_type": "execute_result"
    }
   ],
   "source": [
    "X_train"
   ]
  },
  {
   "cell_type": "code",
   "execution_count": 1113,
   "metadata": {},
   "outputs": [],
   "source": [
    "from sklearn.ensemble import RandomForestClassifier"
   ]
  },
  {
   "cell_type": "code",
   "execution_count": 1114,
   "metadata": {},
   "outputs": [
    {
     "data": {
      "text/plain": [
       "RandomForestClassifier(criterion='entropy', n_estimators=200)"
      ]
     },
     "execution_count": 1114,
     "metadata": {},
     "output_type": "execute_result"
    }
   ],
   "source": [
    "rfc = RandomForestClassifier(n_estimators=200, criterion=\"entropy\")\n",
    "rfc.fit(X_train, y_train)"
   ]
  },
  {
   "cell_type": "code",
   "execution_count": 1115,
   "metadata": {},
   "outputs": [],
   "source": [
    "preds = rfc.predict(X_test)"
   ]
  },
  {
   "cell_type": "code",
   "execution_count": 1116,
   "metadata": {},
   "outputs": [],
   "source": [
    "from sklearn.metrics import classification_report, confusion_matrix, accuracy_score"
   ]
  },
  {
   "cell_type": "code",
   "execution_count": 1117,
   "metadata": {},
   "outputs": [],
   "source": [
    "matrix = confusion_matrix(y_test, preds)"
   ]
  },
  {
   "cell_type": "code",
   "execution_count": 1118,
   "metadata": {},
   "outputs": [
    {
     "data": {
      "text/plain": [
       "array([[103, 124],\n",
       "       [107, 146]])"
      ]
     },
     "execution_count": 1118,
     "metadata": {},
     "output_type": "execute_result"
    }
   ],
   "source": [
    "matrix"
   ]
  },
  {
   "cell_type": "code",
   "execution_count": 1119,
   "metadata": {},
   "outputs": [],
   "source": [
    "score = accuracy_score(y_test, preds)"
   ]
  },
  {
   "cell_type": "code",
   "execution_count": 1120,
   "metadata": {},
   "outputs": [
    {
     "data": {
      "text/plain": [
       "0.51875"
      ]
     },
     "execution_count": 1120,
     "metadata": {},
     "output_type": "execute_result"
    }
   ],
   "source": [
    "score"
   ]
  },
  {
   "cell_type": "code",
   "execution_count": 1125,
   "metadata": {},
   "outputs": [
    {
     "data": {
      "text/plain": [
       "0.5270833333333333"
      ]
     },
     "execution_count": 1125,
     "metadata": {},
     "output_type": "execute_result"
    }
   ],
   "source": [
    "y_test.mean()"
   ]
  },
  {
   "cell_type": "code",
   "execution_count": 1121,
   "metadata": {},
   "outputs": [
    {
     "name": "stdout",
     "output_type": "stream",
     "text": [
      "              precision    recall  f1-score   support\n",
      "\n",
      "           0       0.49      0.45      0.47       227\n",
      "           1       0.54      0.58      0.56       253\n",
      "\n",
      "    accuracy                           0.52       480\n",
      "   macro avg       0.52      0.52      0.51       480\n",
      "weighted avg       0.52      0.52      0.52       480\n",
      "\n"
     ]
    }
   ],
   "source": [
    "print(classification_report(y_test, preds))\n"
   ]
  },
  {
   "cell_type": "code",
   "execution_count": 1122,
   "metadata": {},
   "outputs": [
    {
     "name": "stdout",
     "output_type": "stream",
     "text": [
      "          negative   nuetral  positive  increase\n",
      "negative  1.000000 -0.639092 -0.438490 -0.003441\n",
      "nuetral  -0.639092  1.000000 -0.411010  0.026577\n",
      "positive -0.438490 -0.411010  1.000000 -0.026976\n",
      "increase -0.003441  0.026577 -0.026976  1.000000\n"
     ]
    }
   ],
   "source": [
    "corr_matrix = df_merge[[\"negative\", \"nuetral\", \"positive\", \"increase\"]].corr()\n",
    "print (corr_matrix)"
   ]
  },
  {
   "cell_type": "code",
   "execution_count": 1123,
   "metadata": {},
   "outputs": [],
   "source": [
    "from statsmodels.tsa.stattools import grangercausalitytests"
   ]
  },
  {
   "cell_type": "code",
   "execution_count": 1124,
   "metadata": {},
   "outputs": [
    {
     "name": "stdout",
     "output_type": "stream",
     "text": [
      "\n",
      "Granger Causality\n",
      "number of lags (no zero) 1\n",
      "ssr based F test:         F=10.8093 , p=0.0010  , df_denom=2396, df_num=1\n",
      "ssr based chi2 test:   chi2=10.8228 , p=0.0010  , df=1\n",
      "likelihood ratio test: chi2=10.7985 , p=0.0010  , df=1\n",
      "parameter F test:         F=10.8093 , p=0.0010  , df_denom=2396, df_num=1\n"
     ]
    },
    {
     "data": {
      "text/plain": [
       "{1: ({'ssr_ftest': (10.809256421552075, 0.0010245325738089497, 2396.0, 1),\n",
       "   'ssr_chi2test': (10.822790548958023, 0.0010025826464876721, 1),\n",
       "   'lrtest': (10.798450887380568, 0.0010158506649942394, 1),\n",
       "   'params_ftest': (10.809256421551833, 0.0010245325738091333, 2396.0, 1.0)},\n",
       "  [<statsmodels.regression.linear_model.RegressionResultsWrapper at 0x7fb019c82490>,\n",
       "   <statsmodels.regression.linear_model.RegressionResultsWrapper at 0x7fb019c824f0>,\n",
       "   array([[0., 1., 0.]])])}"
      ]
     },
     "execution_count": 1124,
     "metadata": {},
     "output_type": "execute_result"
    }
   ],
   "source": [
    "#perform Granger-Causality test\n",
    "grangercausalitytests(df_merge[[\"positive\", \"increase\"]], maxlag=[1])"
   ]
  }
 ],
 "metadata": {
  "interpreter": {
   "hash": "d4d1e4263499bec80672ea0156c357c1ee493ec2b1c70f0acce89fc37c4a6abe"
  },
  "kernelspec": {
   "display_name": "Python 3",
   "language": "python",
   "name": "python3"
  },
  "language_info": {
   "codemirror_mode": {
    "name": "ipython",
    "version": 3
   },
   "file_extension": ".py",
   "mimetype": "text/x-python",
   "name": "python",
   "nbconvert_exporter": "python",
   "pygments_lexer": "ipython3",
   "version": "3.8.10"
  },
  "orig_nbformat": 4
 },
 "nbformat": 4,
 "nbformat_minor": 2
}
