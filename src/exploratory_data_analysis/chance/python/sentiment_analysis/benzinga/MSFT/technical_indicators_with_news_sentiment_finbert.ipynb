{
 "cells": [
  {
   "cell_type": "code",
   "execution_count": 1,
   "metadata": {},
   "outputs": [
    {
     "name": "stderr",
     "output_type": "stream",
     "text": [
      "/usr/lib/python3/dist-packages/requests/__init__.py:89: RequestsDependencyWarning: urllib3 (1.26.9) or chardet (3.0.4) doesn't match a supported version!\n",
      "  warnings.warn(\"urllib3 ({}) or chardet ({}) doesn't match a supported \"\n"
     ]
    }
   ],
   "source": [
    "%matplotlib inline\n",
    "\n",
    "import os\n",
    "import datetime\n",
    "\n",
    "import IPython\n",
    "import IPython.display\n",
    "import matplotlib as mpl\n",
    "import matplotlib.pyplot as plt\n",
    "import numpy as np\n",
    "import pandas as pd\n",
    "import seaborn as sns\n",
    "import tensorflow as tf\n",
    "\n",
    "mpl.rcParams['figure.figsize'] = (8, 6)\n",
    "mpl.rcParams['axes.grid'] = False"
   ]
  },
  {
   "cell_type": "code",
   "execution_count": 2,
   "metadata": {},
   "outputs": [],
   "source": [
    "pd. set_option('display.max_columns', 500)\n",
    "pd.set_option('display.max_colwidth', 0)"
   ]
  },
  {
   "cell_type": "code",
   "execution_count": 3,
   "metadata": {},
   "outputs": [
    {
     "name": "stdout",
     "output_type": "stream",
     "text": [
      "MSFT\n"
     ]
    }
   ],
   "source": [
    "ticker_list = [\"aapl\", \"amzn\", \"msft\"]\n",
    "\n",
    "ticker = ticker_list[2]\n",
    "\n",
    "ticker_upper = ticker.upper()\n",
    "\n",
    "print(ticker_upper)"
   ]
  },
  {
   "cell_type": "code",
   "execution_count": 4,
   "metadata": {},
   "outputs": [],
   "source": [
    "alphavantage_csv_path = f\"/app/StockPricePredictions/data/alphavantage/time_series_daily_adjusted/{ticker_upper}/{ticker_upper}.csv\""
   ]
  },
  {
   "cell_type": "code",
   "execution_count": 5,
   "metadata": {},
   "outputs": [],
   "source": [
    "df = pd.read_csv(alphavantage_csv_path, low_memory=False)\n",
    "df.sort_values(by=[\"date\"], ascending=True, inplace=True)\n",
    "\n",
    "df = df[df[\"date\"]>='2010-01-01']\n",
    "\n",
    "df[\"date_time\"] = pd.to_datetime(df['date'])\n",
    "\n",
    "df[\"day_of_week\"] = df[\"date_time\"].dt.dayofweek\n",
    "\n",
    "df[\"adjusted_close_shift\"] = df[\"5. adjusted close\"].shift(-1)\n",
    "\n",
    "df[\"percentage_change\"] = (df[\"adjusted_close_shift\"] - df[\"5. adjusted close\"]) / df[\"5. adjusted close\"] * 100.0\n",
    "\n",
    "df[\"increase\"] = df[\"percentage_change\"].apply(lambda x: 1 if x > 0 else 0)\n",
    "\n",
    "df.set_index(\"date\", inplace=True)"
   ]
  },
  {
   "cell_type": "code",
   "execution_count": 6,
   "metadata": {},
   "outputs": [
    {
     "data": {
      "text/plain": [
       "3064"
      ]
     },
     "execution_count": 6,
     "metadata": {},
     "output_type": "execute_result"
    }
   ],
   "source": [
    "df.shape[0]"
   ]
  },
  {
   "cell_type": "code",
   "execution_count": 7,
   "metadata": {},
   "outputs": [
    {
     "name": "stdout",
     "output_type": "stream",
     "text": [
      "<class 'pandas.core.frame.DataFrame'>\n",
      "Index: 3064 entries, 2010-01-04 to 2022-03-04\n",
      "Data columns (total 13 columns):\n",
      " #   Column                Non-Null Count  Dtype         \n",
      "---  ------                --------------  -----         \n",
      " 0   1. open               3064 non-null   float64       \n",
      " 1   2. high               3064 non-null   float64       \n",
      " 2   3. low                3064 non-null   float64       \n",
      " 3   4. close              3064 non-null   float64       \n",
      " 4   5. adjusted close     3064 non-null   float64       \n",
      " 5   6. volume             3064 non-null   float64       \n",
      " 6   7. dividend amount    3064 non-null   float64       \n",
      " 7   8. split coefficient  3064 non-null   float64       \n",
      " 8   date_time             3064 non-null   datetime64[ns]\n",
      " 9   day_of_week           3064 non-null   int64         \n",
      " 10  adjusted_close_shift  3063 non-null   float64       \n",
      " 11  percentage_change     3063 non-null   float64       \n",
      " 12  increase              3064 non-null   int64         \n",
      "dtypes: datetime64[ns](1), float64(10), int64(2)\n",
      "memory usage: 335.1+ KB\n"
     ]
    }
   ],
   "source": [
    "df.info()"
   ]
  },
  {
   "cell_type": "code",
   "execution_count": 8,
   "metadata": {},
   "outputs": [
    {
     "data": {
      "text/html": [
       "<div>\n",
       "<style scoped>\n",
       "    .dataframe tbody tr th:only-of-type {\n",
       "        vertical-align: middle;\n",
       "    }\n",
       "\n",
       "    .dataframe tbody tr th {\n",
       "        vertical-align: top;\n",
       "    }\n",
       "\n",
       "    .dataframe thead th {\n",
       "        text-align: right;\n",
       "    }\n",
       "</style>\n",
       "<table border=\"1\" class=\"dataframe\">\n",
       "  <thead>\n",
       "    <tr style=\"text-align: right;\">\n",
       "      <th></th>\n",
       "      <th>1. open</th>\n",
       "      <th>2. high</th>\n",
       "      <th>3. low</th>\n",
       "      <th>4. close</th>\n",
       "      <th>5. adjusted close</th>\n",
       "      <th>6. volume</th>\n",
       "      <th>7. dividend amount</th>\n",
       "      <th>8. split coefficient</th>\n",
       "      <th>date_time</th>\n",
       "      <th>day_of_week</th>\n",
       "      <th>adjusted_close_shift</th>\n",
       "      <th>percentage_change</th>\n",
       "      <th>increase</th>\n",
       "    </tr>\n",
       "    <tr>\n",
       "      <th>date</th>\n",
       "      <th></th>\n",
       "      <th></th>\n",
       "      <th></th>\n",
       "      <th></th>\n",
       "      <th></th>\n",
       "      <th></th>\n",
       "      <th></th>\n",
       "      <th></th>\n",
       "      <th></th>\n",
       "      <th></th>\n",
       "      <th></th>\n",
       "      <th></th>\n",
       "      <th></th>\n",
       "    </tr>\n",
       "  </thead>\n",
       "  <tbody>\n",
       "    <tr>\n",
       "      <th>2022-02-28</th>\n",
       "      <td>294.31</td>\n",
       "      <td>299.14</td>\n",
       "      <td>293.000</td>\n",
       "      <td>298.79</td>\n",
       "      <td>298.79</td>\n",
       "      <td>34627457.0</td>\n",
       "      <td>0.0</td>\n",
       "      <td>1.0</td>\n",
       "      <td>2022-02-28</td>\n",
       "      <td>0</td>\n",
       "      <td>294.95</td>\n",
       "      <td>-1.285184</td>\n",
       "      <td>0</td>\n",
       "    </tr>\n",
       "    <tr>\n",
       "      <th>2022-03-01</th>\n",
       "      <td>296.40</td>\n",
       "      <td>299.97</td>\n",
       "      <td>292.150</td>\n",
       "      <td>294.95</td>\n",
       "      <td>294.95</td>\n",
       "      <td>31217778.0</td>\n",
       "      <td>0.0</td>\n",
       "      <td>1.0</td>\n",
       "      <td>2022-03-01</td>\n",
       "      <td>1</td>\n",
       "      <td>300.19</td>\n",
       "      <td>1.776572</td>\n",
       "      <td>1</td>\n",
       "    </tr>\n",
       "    <tr>\n",
       "      <th>2022-03-02</th>\n",
       "      <td>295.36</td>\n",
       "      <td>301.47</td>\n",
       "      <td>293.698</td>\n",
       "      <td>300.19</td>\n",
       "      <td>300.19</td>\n",
       "      <td>31873007.0</td>\n",
       "      <td>0.0</td>\n",
       "      <td>1.0</td>\n",
       "      <td>2022-03-02</td>\n",
       "      <td>2</td>\n",
       "      <td>295.92</td>\n",
       "      <td>-1.422432</td>\n",
       "      <td>0</td>\n",
       "    </tr>\n",
       "    <tr>\n",
       "      <th>2022-03-03</th>\n",
       "      <td>302.89</td>\n",
       "      <td>303.13</td>\n",
       "      <td>294.050</td>\n",
       "      <td>295.92</td>\n",
       "      <td>295.92</td>\n",
       "      <td>27314469.0</td>\n",
       "      <td>0.0</td>\n",
       "      <td>1.0</td>\n",
       "      <td>2022-03-03</td>\n",
       "      <td>3</td>\n",
       "      <td>289.86</td>\n",
       "      <td>-2.047851</td>\n",
       "      <td>0</td>\n",
       "    </tr>\n",
       "    <tr>\n",
       "      <th>2022-03-04</th>\n",
       "      <td>294.29</td>\n",
       "      <td>295.66</td>\n",
       "      <td>287.165</td>\n",
       "      <td>289.86</td>\n",
       "      <td>289.86</td>\n",
       "      <td>32369655.0</td>\n",
       "      <td>0.0</td>\n",
       "      <td>1.0</td>\n",
       "      <td>2022-03-04</td>\n",
       "      <td>4</td>\n",
       "      <td>NaN</td>\n",
       "      <td>NaN</td>\n",
       "      <td>0</td>\n",
       "    </tr>\n",
       "  </tbody>\n",
       "</table>\n",
       "</div>"
      ],
      "text/plain": [
       "            1. open  2. high   3. low  4. close  5. adjusted close  \\\n",
       "date                                                                 \n",
       "2022-02-28  294.31   299.14   293.000  298.79    298.79              \n",
       "2022-03-01  296.40   299.97   292.150  294.95    294.95              \n",
       "2022-03-02  295.36   301.47   293.698  300.19    300.19              \n",
       "2022-03-03  302.89   303.13   294.050  295.92    295.92              \n",
       "2022-03-04  294.29   295.66   287.165  289.86    289.86              \n",
       "\n",
       "             6. volume  7. dividend amount  8. split coefficient  date_time  \\\n",
       "date                                                                          \n",
       "2022-02-28  34627457.0  0.0                 1.0                  2022-02-28   \n",
       "2022-03-01  31217778.0  0.0                 1.0                  2022-03-01   \n",
       "2022-03-02  31873007.0  0.0                 1.0                  2022-03-02   \n",
       "2022-03-03  27314469.0  0.0                 1.0                  2022-03-03   \n",
       "2022-03-04  32369655.0  0.0                 1.0                  2022-03-04   \n",
       "\n",
       "            day_of_week  adjusted_close_shift  percentage_change  increase  \n",
       "date                                                                        \n",
       "2022-02-28  0            294.95               -1.285184           0         \n",
       "2022-03-01  1            300.19                1.776572           1         \n",
       "2022-03-02  2            295.92               -1.422432           0         \n",
       "2022-03-03  3            289.86               -2.047851           0         \n",
       "2022-03-04  4           NaN                   NaN                 0         "
      ]
     },
     "execution_count": 8,
     "metadata": {},
     "output_type": "execute_result"
    }
   ],
   "source": [
    "df.tail()\n",
    "# df[df.percentage_change == 0]"
   ]
  },
  {
   "cell_type": "code",
   "execution_count": 9,
   "metadata": {},
   "outputs": [
    {
     "data": {
      "text/plain": [
       "1    1608\n",
       "0    1456\n",
       "Name: increase, dtype: int64"
      ]
     },
     "execution_count": 9,
     "metadata": {},
     "output_type": "execute_result"
    }
   ],
   "source": [
    "df.increase.value_counts()"
   ]
  },
  {
   "cell_type": "code",
   "execution_count": 10,
   "metadata": {},
   "outputs": [
    {
     "data": {
      "text/plain": [
       "1    629\n",
       "2    628\n",
       "3    619\n",
       "4    614\n",
       "0    574\n",
       "Name: day_of_week, dtype: int64"
      ]
     },
     "execution_count": 10,
     "metadata": {},
     "output_type": "execute_result"
    }
   ],
   "source": [
    "# The day of the week with Monday=0, Sunday=6.\n",
    "\n",
    "# 5 = Saturday\n",
    "# 6 = Sunday\n",
    "df.day_of_week.value_counts()"
   ]
  },
  {
   "cell_type": "code",
   "execution_count": 11,
   "metadata": {},
   "outputs": [
    {
     "name": "stdout",
     "output_type": "stream",
     "text": [
      "1\n"
     ]
    },
    {
     "data": {
      "text/plain": [
       "'2010-01-05'"
      ]
     },
     "execution_count": 11,
     "metadata": {},
     "output_type": "execute_result"
    }
   ],
   "source": [
    "loc = df.index.get_loc('2010-01-05')\n",
    "loc\n",
    "\n",
    "print(loc)\n",
    "\n",
    "df.iloc[loc][\"date_time\"].strftime(\"%Y-%m-%d\")"
   ]
  },
  {
   "cell_type": "code",
   "execution_count": null,
   "metadata": {},
   "outputs": [],
   "source": []
  },
  {
   "cell_type": "code",
   "execution_count": null,
   "metadata": {},
   "outputs": [],
   "source": []
  },
  {
   "cell_type": "code",
   "execution_count": 12,
   "metadata": {},
   "outputs": [],
   "source": [
    "benzinga_csv_path = f\"/app/StockPricePredictions/data/alphavantage/time_series_daily_adjusted/{ticker_upper}/{ticker}_finbert_20100101_20220304.csv\""
   ]
  },
  {
   "cell_type": "code",
   "execution_count": 13,
   "metadata": {},
   "outputs": [],
   "source": [
    "df_benzinga = pd.read_csv(benzinga_csv_path, low_memory=False)"
   ]
  },
  {
   "cell_type": "code",
   "execution_count": 14,
   "metadata": {},
   "outputs": [],
   "source": [
    "df_benzinga['date'] = pd.to_datetime(df_benzinga['Stock'])"
   ]
  },
  {
   "cell_type": "code",
   "execution_count": 15,
   "metadata": {},
   "outputs": [],
   "source": [
    "df_benzinga[\"day_of_week\"] = df_benzinga[\"date\"].dt.dayofweek"
   ]
  },
  {
   "cell_type": "code",
   "execution_count": 16,
   "metadata": {},
   "outputs": [
    {
     "name": "stdout",
     "output_type": "stream",
     "text": [
      "<class 'pandas.core.frame.DataFrame'>\n",
      "RangeIndex: 11106 entries, 0 to 11105\n",
      "Data columns (total 7 columns):\n",
      " #   Column       Non-Null Count  Dtype         \n",
      "---  ------       --------------  -----         \n",
      " 0   Headline     11106 non-null  object        \n",
      " 1   Stock        11106 non-null  object        \n",
      " 2   Positive     11106 non-null  float64       \n",
      " 3   Negative     11106 non-null  float64       \n",
      " 4   Neutral      11106 non-null  float64       \n",
      " 5   date         11106 non-null  datetime64[ns]\n",
      " 6   day_of_week  11106 non-null  int64         \n",
      "dtypes: datetime64[ns](1), float64(3), int64(1), object(2)\n",
      "memory usage: 607.5+ KB\n"
     ]
    }
   ],
   "source": [
    "df_benzinga.info()"
   ]
  },
  {
   "cell_type": "code",
   "execution_count": 17,
   "metadata": {},
   "outputs": [
    {
     "data": {
      "text/html": [
       "<div>\n",
       "<style scoped>\n",
       "    .dataframe tbody tr th:only-of-type {\n",
       "        vertical-align: middle;\n",
       "    }\n",
       "\n",
       "    .dataframe tbody tr th {\n",
       "        vertical-align: top;\n",
       "    }\n",
       "\n",
       "    .dataframe thead th {\n",
       "        text-align: right;\n",
       "    }\n",
       "</style>\n",
       "<table border=\"1\" class=\"dataframe\">\n",
       "  <thead>\n",
       "    <tr style=\"text-align: right;\">\n",
       "      <th></th>\n",
       "      <th>Headline</th>\n",
       "      <th>Stock</th>\n",
       "      <th>Positive</th>\n",
       "      <th>Negative</th>\n",
       "      <th>Neutral</th>\n",
       "      <th>date</th>\n",
       "      <th>day_of_week</th>\n",
       "    </tr>\n",
       "  </thead>\n",
       "  <tbody>\n",
       "    <tr>\n",
       "      <th>0</th>\n",
       "      <td>Stock Market News for January 04, 2010 - Market News U.S. stocks fell broadly on the last trading day of an otherwise great year for equities as a better-than-estimated report on initial jobless claims stoked investors’ concern that the Federal Reserve would soon begin winding up stimulus measures.  The Dow Jones industrial average lost 120.46 points, or 1.1%, to 10,428.05 as 29 of its 30 components ended in the red in a thinly traded session.  The broader S&amp;P 500 index slid more than 11 points, or 1%, to 1,115.1 points, narrowing its 2009 gain to 23%.  The tech-laden Nasdaq closed down 22.13 points, or about 1%, at 2,269.15.  This morning’s stock futures suggest Wall Street is headed for a higher opening on 2010’s first trading day.  Dow Jones industrial average futures are up 58 points, or 0.6%, to 10,423.  Standard &amp; Poor's 500 index futures are up 6.60 points, or 0.6%, to 1,117.30, while Nasdaq 100 index futures are up 21.75, or 1.2%, to 1,880.50. During the year, the S&amp;P 500 gained 23.4%, fed by recovery hopes.  The DJIA finished the year up 18.8%, or 1652 points, for its best run since 2003, led by a flamboyant 118.4% jump over the year in American Express  , a 56.8% surge in Microsoft  , and a 55.5% gain in IBM  .  Nasdaq, helped by strength in its technology components, jumped 44% and recorded a 6.9% fourth-quarter gain.  Technology stocks were the leading gainers among the S&amp;P 500 industry sectors, surging 60% as a group, followed by a 45% rise in raw-materials producers and an almost 40% surge in consumer-related companies.   The upcoming week witnesses increased activity on the Fed front, with the Wednesday FOMC minutes commanding the most attention.  Yesterday Lockhart, Kohn and Bernanke took to the podium; today Lockhart and Duke are slated to speak; on Tuesday Hoenig would take to the podium; Bullard is slated on Friday.               Of note is the recent advance in Treasury yields, as the US government funds the rising deficit.  The 10-year yield has climbed about 65 basis points in December to 3.85%, rising to a multi-month high of 3.91% Thursday, as investors grew concerned that Fed would slowly raise interest rate due to the improved economic data, which in turn engendered less safe-haven buying.Zacks Investment Research</td>\n",
       "      <td>2010-01-04</td>\n",
       "      <td>0.208157</td>\n",
       "      <td>0.760072</td>\n",
       "      <td>0.031771</td>\n",
       "      <td>2010-01-04</td>\n",
       "      <td>0</td>\n",
       "    </tr>\n",
       "  </tbody>\n",
       "</table>\n",
       "</div>"
      ],
      "text/plain": [
       "                                                                                                                                                                                                                                                                                                                                                                                                                                                                                                                                                                                                                                                                                                                                                                                                                                                                                                                                                                                                                                                                                                                                                                                                                                                                                                                                                                                                                                                                                                                                                                                                                                                                                                                                                                                                                                                                                                                                                                                                                                                                                                                                                                                                                                                                                                                                                                  Headline  \\\n",
       "0  Stock Market News for January 04, 2010 - Market News U.S. stocks fell broadly on the last trading day of an otherwise great year for equities as a better-than-estimated report on initial jobless claims stoked investors’ concern that the Federal Reserve would soon begin winding up stimulus measures.  The Dow Jones industrial average lost 120.46 points, or 1.1%, to 10,428.05 as 29 of its 30 components ended in the red in a thinly traded session.  The broader S&P 500 index slid more than 11 points, or 1%, to 1,115.1 points, narrowing its 2009 gain to 23%.  The tech-laden Nasdaq closed down 22.13 points, or about 1%, at 2,269.15.  This morning’s stock futures suggest Wall Street is headed for a higher opening on 2010’s first trading day.  Dow Jones industrial average futures are up 58 points, or 0.6%, to 10,423.  Standard & Poor's 500 index futures are up 6.60 points, or 0.6%, to 1,117.30, while Nasdaq 100 index futures are up 21.75, or 1.2%, to 1,880.50. During the year, the S&P 500 gained 23.4%, fed by recovery hopes.  The DJIA finished the year up 18.8%, or 1652 points, for its best run since 2003, led by a flamboyant 118.4% jump over the year in American Express  , a 56.8% surge in Microsoft  , and a 55.5% gain in IBM  .  Nasdaq, helped by strength in its technology components, jumped 44% and recorded a 6.9% fourth-quarter gain.  Technology stocks were the leading gainers among the S&P 500 industry sectors, surging 60% as a group, followed by a 45% rise in raw-materials producers and an almost 40% surge in consumer-related companies.   The upcoming week witnesses increased activity on the Fed front, with the Wednesday FOMC minutes commanding the most attention.  Yesterday Lockhart, Kohn and Bernanke took to the podium; today Lockhart and Duke are slated to speak; on Tuesday Hoenig would take to the podium; Bullard is slated on Friday.               Of note is the recent advance in Treasury yields, as the US government funds the rising deficit.  The 10-year yield has climbed about 65 basis points in December to 3.85%, rising to a multi-month high of 3.91% Thursday, as investors grew concerned that Fed would slowly raise interest rate due to the improved economic data, which in turn engendered less safe-haven buying.Zacks Investment Research   \n",
       "\n",
       "        Stock  Positive  Negative   Neutral       date  day_of_week  \n",
       "0  2010-01-04  0.208157  0.760072  0.031771 2010-01-04  0            "
      ]
     },
     "execution_count": 17,
     "metadata": {},
     "output_type": "execute_result"
    }
   ],
   "source": [
    "df_benzinga.head(1)"
   ]
  },
  {
   "cell_type": "code",
   "execution_count": 18,
   "metadata": {},
   "outputs": [
    {
     "name": "stdout",
     "output_type": "stream",
     "text": [
      "<class 'pandas.core.frame.DataFrame'>\n",
      "RangeIndex: 11106 entries, 0 to 11105\n",
      "Data columns (total 7 columns):\n",
      " #   Column       Non-Null Count  Dtype         \n",
      "---  ------       --------------  -----         \n",
      " 0   Headline     11106 non-null  object        \n",
      " 1   Stock        11106 non-null  object        \n",
      " 2   Positive     11106 non-null  float64       \n",
      " 3   Negative     11106 non-null  float64       \n",
      " 4   Neutral      11106 non-null  float64       \n",
      " 5   date         11106 non-null  datetime64[ns]\n",
      " 6   day_of_week  11106 non-null  int64         \n",
      "dtypes: datetime64[ns](1), float64(3), int64(1), object(2)\n",
      "memory usage: 607.5+ KB\n"
     ]
    }
   ],
   "source": [
    "df_benzinga.info()"
   ]
  },
  {
   "cell_type": "code",
   "execution_count": 19,
   "metadata": {},
   "outputs": [
    {
     "data": {
      "text/plain": [
       "2    2278\n",
       "3    2237\n",
       "1    2222\n",
       "0    1984\n",
       "4    1887\n",
       "6    276 \n",
       "5    222 \n",
       "Name: day_of_week, dtype: int64"
      ]
     },
     "execution_count": 19,
     "metadata": {},
     "output_type": "execute_result"
    }
   ],
   "source": [
    "# The day of the week with Monday=0, Sunday=6.\n",
    "\n",
    "# 5 = Saturday\n",
    "# 6 = Sunday\n",
    "\n",
    "df_benzinga.day_of_week.value_counts()"
   ]
  },
  {
   "cell_type": "code",
   "execution_count": 20,
   "metadata": {},
   "outputs": [
    {
     "data": {
      "text/html": [
       "<div>\n",
       "<style scoped>\n",
       "    .dataframe tbody tr th:only-of-type {\n",
       "        vertical-align: middle;\n",
       "    }\n",
       "\n",
       "    .dataframe tbody tr th {\n",
       "        vertical-align: top;\n",
       "    }\n",
       "\n",
       "    .dataframe thead th {\n",
       "        text-align: right;\n",
       "    }\n",
       "</style>\n",
       "<table border=\"1\" class=\"dataframe\">\n",
       "  <thead>\n",
       "    <tr style=\"text-align: right;\">\n",
       "      <th></th>\n",
       "      <th>Headline</th>\n",
       "      <th>Stock</th>\n",
       "      <th>Positive</th>\n",
       "      <th>Negative</th>\n",
       "      <th>Neutral</th>\n",
       "      <th>date</th>\n",
       "      <th>day_of_week</th>\n",
       "    </tr>\n",
       "  </thead>\n",
       "  <tbody>\n",
       "    <tr>\n",
       "      <th>0</th>\n",
       "      <td>Stock Market News for January 04, 2010 - Market News U.S. stocks fell broadly on the last trading day of an otherwise great year for equities as a better-than-estimated report on initial jobless claims stoked investors’ concern that the Federal Reserve would soon begin winding up stimulus measures.  The Dow Jones industrial average lost 120.46 points, or 1.1%, to 10,428.05 as 29 of its 30 components ended in the red in a thinly traded session.  The broader S&amp;P 500 index slid more than 11 points, or 1%, to 1,115.1 points, narrowing its 2009 gain to 23%.  The tech-laden Nasdaq closed down 22.13 points, or about 1%, at 2,269.15.  This morning’s stock futures suggest Wall Street is headed for a higher opening on 2010’s first trading day.  Dow Jones industrial average futures are up 58 points, or 0.6%, to 10,423.  Standard &amp; Poor's 500 index futures are up 6.60 points, or 0.6%, to 1,117.30, while Nasdaq 100 index futures are up 21.75, or 1.2%, to 1,880.50. During the year, the S&amp;P 500 gained 23.4%, fed by recovery hopes.  The DJIA finished the year up 18.8%, or 1652 points, for its best run since 2003, led by a flamboyant 118.4% jump over the year in American Express  , a 56.8% surge in Microsoft  , and a 55.5% gain in IBM  .  Nasdaq, helped by strength in its technology components, jumped 44% and recorded a 6.9% fourth-quarter gain.  Technology stocks were the leading gainers among the S&amp;P 500 industry sectors, surging 60% as a group, followed by a 45% rise in raw-materials producers and an almost 40% surge in consumer-related companies.   The upcoming week witnesses increased activity on the Fed front, with the Wednesday FOMC minutes commanding the most attention.  Yesterday Lockhart, Kohn and Bernanke took to the podium; today Lockhart and Duke are slated to speak; on Tuesday Hoenig would take to the podium; Bullard is slated on Friday.               Of note is the recent advance in Treasury yields, as the US government funds the rising deficit.  The 10-year yield has climbed about 65 basis points in December to 3.85%, rising to a multi-month high of 3.91% Thursday, as investors grew concerned that Fed would slowly raise interest rate due to the improved economic data, which in turn engendered less safe-haven buying.Zacks Investment Research</td>\n",
       "      <td>2010-01-04</td>\n",
       "      <td>0.208157</td>\n",
       "      <td>0.760072</td>\n",
       "      <td>0.031771</td>\n",
       "      <td>2010-01-04</td>\n",
       "      <td>0</td>\n",
       "    </tr>\n",
       "  </tbody>\n",
       "</table>\n",
       "</div>"
      ],
      "text/plain": [
       "                                                                                                                                                                                                                                                                                                                                                                                                                                                                                                                                                                                                                                                                                                                                                                                                                                                                                                                                                                                                                                                                                                                                                                                                                                                                                                                                                                                                                                                                                                                                                                                                                                                                                                                                                                                                                                                                                                                                                                                                                                                                                                                                                                                                                                                                                                                                                                  Headline  \\\n",
       "0  Stock Market News for January 04, 2010 - Market News U.S. stocks fell broadly on the last trading day of an otherwise great year for equities as a better-than-estimated report on initial jobless claims stoked investors’ concern that the Federal Reserve would soon begin winding up stimulus measures.  The Dow Jones industrial average lost 120.46 points, or 1.1%, to 10,428.05 as 29 of its 30 components ended in the red in a thinly traded session.  The broader S&P 500 index slid more than 11 points, or 1%, to 1,115.1 points, narrowing its 2009 gain to 23%.  The tech-laden Nasdaq closed down 22.13 points, or about 1%, at 2,269.15.  This morning’s stock futures suggest Wall Street is headed for a higher opening on 2010’s first trading day.  Dow Jones industrial average futures are up 58 points, or 0.6%, to 10,423.  Standard & Poor's 500 index futures are up 6.60 points, or 0.6%, to 1,117.30, while Nasdaq 100 index futures are up 21.75, or 1.2%, to 1,880.50. During the year, the S&P 500 gained 23.4%, fed by recovery hopes.  The DJIA finished the year up 18.8%, or 1652 points, for its best run since 2003, led by a flamboyant 118.4% jump over the year in American Express  , a 56.8% surge in Microsoft  , and a 55.5% gain in IBM  .  Nasdaq, helped by strength in its technology components, jumped 44% and recorded a 6.9% fourth-quarter gain.  Technology stocks were the leading gainers among the S&P 500 industry sectors, surging 60% as a group, followed by a 45% rise in raw-materials producers and an almost 40% surge in consumer-related companies.   The upcoming week witnesses increased activity on the Fed front, with the Wednesday FOMC minutes commanding the most attention.  Yesterday Lockhart, Kohn and Bernanke took to the podium; today Lockhart and Duke are slated to speak; on Tuesday Hoenig would take to the podium; Bullard is slated on Friday.               Of note is the recent advance in Treasury yields, as the US government funds the rising deficit.  The 10-year yield has climbed about 65 basis points in December to 3.85%, rising to a multi-month high of 3.91% Thursday, as investors grew concerned that Fed would slowly raise interest rate due to the improved economic data, which in turn engendered less safe-haven buying.Zacks Investment Research   \n",
       "\n",
       "        Stock  Positive  Negative   Neutral       date  day_of_week  \n",
       "0  2010-01-04  0.208157  0.760072  0.031771 2010-01-04  0            "
      ]
     },
     "execution_count": 20,
     "metadata": {},
     "output_type": "execute_result"
    }
   ],
   "source": [
    "df_benzinga.head(1)"
   ]
  },
  {
   "cell_type": "code",
   "execution_count": 21,
   "metadata": {},
   "outputs": [],
   "source": [
    "df_benzinga[\"in_index\"] = df_benzinga[\"Stock\"].apply(lambda x: True if x in df.index else False)"
   ]
  },
  {
   "cell_type": "code",
   "execution_count": 22,
   "metadata": {},
   "outputs": [
    {
     "data": {
      "text/plain": [
       "6    276\n",
       "5    222\n",
       "0    39 \n",
       "4    7  \n",
       "1    3  \n",
       "3    2  \n",
       "2    1  \n",
       "Name: day_of_week, dtype: int64"
      ]
     },
     "execution_count": 22,
     "metadata": {},
     "output_type": "execute_result"
    }
   ],
   "source": [
    "df_benzinga[df_benzinga.in_index==False][\"day_of_week\"].value_counts()"
   ]
  },
  {
   "cell_type": "code",
   "execution_count": 23,
   "metadata": {},
   "outputs": [
    {
     "data": {
      "text/plain": [
       "0"
      ]
     },
     "execution_count": 23,
     "metadata": {},
     "output_type": "execute_result"
    }
   ],
   "source": [
    "df.index.get_loc('2010-01-04')\n"
   ]
  },
  {
   "cell_type": "code",
   "execution_count": 24,
   "metadata": {},
   "outputs": [],
   "source": [
    "from datetime import date, datetime, timedelta"
   ]
  },
  {
   "cell_type": "code",
   "execution_count": 25,
   "metadata": {},
   "outputs": [
    {
     "name": "stdout",
     "output_type": "stream",
     "text": [
      "2010-01-09 00:00:00\n",
      "2 days, 0:00:00\n"
     ]
    },
    {
     "data": {
      "text/plain": [
       "'2010-01-07'"
      ]
     },
     "execution_count": 25,
     "metadata": {},
     "output_type": "execute_result"
    }
   ],
   "source": [
    "test2 =  '2010-01-09'\n",
    "\n",
    "dtobj1 = datetime.strptime(test2, \"%Y-%m-%d\")\n",
    "\n",
    "print(dtobj1)\n",
    "\n",
    "days = timedelta(2)\n",
    "\n",
    "print(days)\n",
    "\n",
    "\n",
    "\n",
    "dtobj2 = (dtobj1 - days).strftime(\"%Y-%m-%d\")\n",
    "dtobj2"
   ]
  },
  {
   "cell_type": "code",
   "execution_count": 26,
   "metadata": {},
   "outputs": [],
   "source": [
    "def update_date(x):\n",
    "\n",
    "    global ERROR_COUNTER\n",
    "\n",
    "    if x.in_index == True:\n",
    "        return x.Stock\n",
    "    else:\n",
    "        # try:\n",
    "\n",
    "            dt_time = datetime.strptime(x.Stock, \"%Y-%m-%d\")\n",
    "\n",
    "            # loc = df.index.get_loc(date_part)\n",
    "            if x.day_of_week == 6: # Sunday to Thursday\n",
    "                days = timedelta(3)\n",
    "                idx_lookup = (dt_time - days).strftime(\"%Y-%m-%d\")\n",
    "                print(idx_lookup)\n",
    "                try:\n",
    "                    loc = df.index.get_loc(idx_lookup)\n",
    "                    return df.iloc[loc][\"date_time\"].strftime(\"%Y-%m-%d\")\n",
    "                except Exception as e1:\n",
    "                    ERROR_COUNTER += 1\n",
    "                    print(str(e1))\n",
    "                    return x.Stock\n",
    "            if x.day_of_week == 5: # Saturday to Thursday\n",
    "                days = timedelta(2)\n",
    "                idx_lookup = (dt_time - days).strftime(\"%Y-%m-%d\")\n",
    "                print(idx_lookup)\n",
    "                try:\n",
    "                    loc = df.index.get_loc(idx_lookup)\n",
    "                    return df.iloc[loc][\"date_time\"].strftime(\"%Y-%m-%d\")\n",
    "                except Exception as e2:\n",
    "                    ERROR_COUNTER += 1\n",
    "                    print(str(e2))\n",
    "                    return x.Stock\n",
    "            if x.day_of_week == 4: # Friday to Thursday\n",
    "                days = timedelta(1)\n",
    "                idx_lookup = (dt_time - days).strftime(\"%Y-%m-%d\")\n",
    "                print(idx_lookup)\n",
    "                try:\n",
    "                    loc = df.index.get_loc(idx_lookup)\n",
    "                    return df.iloc[loc][\"date_time\"].strftime(\"%Y-%m-%d\")\n",
    "                except Exception as e3:\n",
    "                    ERROR_COUNTER += 1\n",
    "                    print(str(3))\n",
    "                    return x.Stock\n",
    "            if x.day_of_week == 0: # Monday to Thursday\n",
    "                days = timedelta(4)\n",
    "                idx_lookup = (dt_time - days).strftime(\"%Y-%m-%d\")\n",
    "                print(idx_lookup)\n",
    "                try:\n",
    "                    loc = df.index.get_loc(idx_lookup)\n",
    "                    return df.iloc[loc][\"date_time\"].strftime(\"%Y-%m-%d\")\n",
    "                except Exception as e3:\n",
    "                    ERROR_COUNTER += 1\n",
    "                    print(str(3))\n",
    "                    return x.Stock\n",
    "\n",
    "            else:\n",
    "                return x.Stock\n",
    "\n",
    "        # except Exception as e:\n",
    "        #     ERROR_COUNTER += 1\n",
    "        #     print(str(e))\n",
    "        #     print(x.day_of_week, x.Stock, x.in_index)\n",
    "        #     return x.Stock\n",
    "    # loc = df.index.get_loc('2010-01-01')\n",
    "    # loc\n",
    "\n"
   ]
  },
  {
   "cell_type": "code",
   "execution_count": 27,
   "metadata": {},
   "outputs": [],
   "source": [
    "# The day of the week with Monday=0, Sunday=6.\n",
    "\n",
    "# 5 = Saturday\n",
    "# 6 = Sunday\n",
    "\n",
    "ERROR_COUNTER = 0 \n",
    "\n",
    "df_benzinga[\"backfill_date\"] = df_benzinga[\"Stock\"] # df_benzinga.apply(update_date, axis=1)\n"
   ]
  },
  {
   "cell_type": "code",
   "execution_count": 28,
   "metadata": {},
   "outputs": [
    {
     "data": {
      "text/plain": [
       "0"
      ]
     },
     "execution_count": 28,
     "metadata": {},
     "output_type": "execute_result"
    }
   ],
   "source": [
    "ERROR_COUNTER"
   ]
  },
  {
   "cell_type": "code",
   "execution_count": 29,
   "metadata": {},
   "outputs": [],
   "source": [
    "df_benzinga[\"in_index\"] = df_benzinga[\"backfill_date\"].apply(lambda x: True if x in df.index else False)"
   ]
  },
  {
   "cell_type": "code",
   "execution_count": 30,
   "metadata": {},
   "outputs": [
    {
     "data": {
      "text/plain": [
       "6    276\n",
       "5    222\n",
       "0    39 \n",
       "4    7  \n",
       "1    3  \n",
       "3    2  \n",
       "2    1  \n",
       "Name: day_of_week, dtype: int64"
      ]
     },
     "execution_count": 30,
     "metadata": {},
     "output_type": "execute_result"
    }
   ],
   "source": [
    "df_benzinga[df_benzinga.in_index==False][\"day_of_week\"].value_counts()"
   ]
  },
  {
   "cell_type": "code",
   "execution_count": 31,
   "metadata": {},
   "outputs": [
    {
     "data": {
      "text/plain": [
       "(550, 9)"
      ]
     },
     "execution_count": 31,
     "metadata": {},
     "output_type": "execute_result"
    }
   ],
   "source": [
    "df_benzinga[df_benzinga.in_index==False].shape"
   ]
  },
  {
   "cell_type": "code",
   "execution_count": 32,
   "metadata": {},
   "outputs": [],
   "source": [
    "# df_benzinga[\"text\"] = df_benzinga[\"title\"] + \" \" + df_benzinga[\"body\"]"
   ]
  },
  {
   "cell_type": "code",
   "execution_count": 33,
   "metadata": {},
   "outputs": [],
   "source": [
    "# df_benzinga['text'] = np.where(df_benzinga[\"text\"], df_benzinga[\"title\"], df_benzinga[\"text\"])"
   ]
  },
  {
   "cell_type": "code",
   "execution_count": 34,
   "metadata": {},
   "outputs": [],
   "source": [
    "df_benzinga = df_benzinga[[\"backfill_date\", \"Positive\", \"Negative\", \"Neutral\"]]"
   ]
  },
  {
   "cell_type": "code",
   "execution_count": 35,
   "metadata": {},
   "outputs": [
    {
     "name": "stdout",
     "output_type": "stream",
     "text": [
      "<class 'pandas.core.frame.DataFrame'>\n",
      "RangeIndex: 11106 entries, 0 to 11105\n",
      "Data columns (total 4 columns):\n",
      " #   Column         Non-Null Count  Dtype  \n",
      "---  ------         --------------  -----  \n",
      " 0   backfill_date  11106 non-null  object \n",
      " 1   Positive       11106 non-null  float64\n",
      " 2   Negative       11106 non-null  float64\n",
      " 3   Neutral        11106 non-null  float64\n",
      "dtypes: float64(3), object(1)\n",
      "memory usage: 347.2+ KB\n"
     ]
    }
   ],
   "source": [
    "df_benzinga.info()"
   ]
  },
  {
   "cell_type": "code",
   "execution_count": 36,
   "metadata": {},
   "outputs": [
    {
     "data": {
      "text/html": [
       "<div>\n",
       "<style scoped>\n",
       "    .dataframe tbody tr th:only-of-type {\n",
       "        vertical-align: middle;\n",
       "    }\n",
       "\n",
       "    .dataframe tbody tr th {\n",
       "        vertical-align: top;\n",
       "    }\n",
       "\n",
       "    .dataframe thead th {\n",
       "        text-align: right;\n",
       "    }\n",
       "</style>\n",
       "<table border=\"1\" class=\"dataframe\">\n",
       "  <thead>\n",
       "    <tr style=\"text-align: right;\">\n",
       "      <th></th>\n",
       "      <th>backfill_date</th>\n",
       "      <th>Positive</th>\n",
       "      <th>Negative</th>\n",
       "      <th>Neutral</th>\n",
       "    </tr>\n",
       "  </thead>\n",
       "  <tbody>\n",
       "    <tr>\n",
       "      <th>0</th>\n",
       "      <td>2010-01-04</td>\n",
       "      <td>0.208157</td>\n",
       "      <td>0.760072</td>\n",
       "      <td>0.031771</td>\n",
       "    </tr>\n",
       "    <tr>\n",
       "      <th>1</th>\n",
       "      <td>2010-01-04</td>\n",
       "      <td>0.024145</td>\n",
       "      <td>0.808129</td>\n",
       "      <td>0.167726</td>\n",
       "    </tr>\n",
       "    <tr>\n",
       "      <th>2</th>\n",
       "      <td>2010-01-04</td>\n",
       "      <td>0.922880</td>\n",
       "      <td>0.023758</td>\n",
       "      <td>0.053362</td>\n",
       "    </tr>\n",
       "    <tr>\n",
       "      <th>3</th>\n",
       "      <td>2010-01-04</td>\n",
       "      <td>0.143269</td>\n",
       "      <td>0.012789</td>\n",
       "      <td>0.843941</td>\n",
       "    </tr>\n",
       "    <tr>\n",
       "      <th>4</th>\n",
       "      <td>2010-01-05</td>\n",
       "      <td>0.874124</td>\n",
       "      <td>0.063757</td>\n",
       "      <td>0.062120</td>\n",
       "    </tr>\n",
       "  </tbody>\n",
       "</table>\n",
       "</div>"
      ],
      "text/plain": [
       "  backfill_date  Positive  Negative   Neutral\n",
       "0  2010-01-04    0.208157  0.760072  0.031771\n",
       "1  2010-01-04    0.024145  0.808129  0.167726\n",
       "2  2010-01-04    0.922880  0.023758  0.053362\n",
       "3  2010-01-04    0.143269  0.012789  0.843941\n",
       "4  2010-01-05    0.874124  0.063757  0.062120"
      ]
     },
     "execution_count": 36,
     "metadata": {},
     "output_type": "execute_result"
    }
   ],
   "source": [
    "df_benzinga.head()"
   ]
  },
  {
   "cell_type": "code",
   "execution_count": 37,
   "metadata": {},
   "outputs": [],
   "source": [
    "df_benzinga.rename(columns={\"backfill_date\": \"date\"}, inplace=True)"
   ]
  },
  {
   "cell_type": "code",
   "execution_count": 38,
   "metadata": {},
   "outputs": [],
   "source": [
    "def clean_tweet(df):\n",
    "    # replace URLs with a whitespace\n",
    "    df['text'] = df['text'].str.replace('http[s]?://(?:[a-zA-Z]|[0-9]|[$-_@.&+]|[!*\\(\\),]|(?:%[0-9a-fA-F][0-9a-fA-F]))+', ' ')\n",
    "    \n",
    "    return df"
   ]
  },
  {
   "cell_type": "code",
   "execution_count": 39,
   "metadata": {},
   "outputs": [
    {
     "data": {
      "text/html": [
       "<div>\n",
       "<style scoped>\n",
       "    .dataframe tbody tr th:only-of-type {\n",
       "        vertical-align: middle;\n",
       "    }\n",
       "\n",
       "    .dataframe tbody tr th {\n",
       "        vertical-align: top;\n",
       "    }\n",
       "\n",
       "    .dataframe thead th {\n",
       "        text-align: right;\n",
       "    }\n",
       "</style>\n",
       "<table border=\"1\" class=\"dataframe\">\n",
       "  <thead>\n",
       "    <tr style=\"text-align: right;\">\n",
       "      <th></th>\n",
       "      <th>date</th>\n",
       "      <th>Positive</th>\n",
       "      <th>Negative</th>\n",
       "      <th>Neutral</th>\n",
       "    </tr>\n",
       "  </thead>\n",
       "  <tbody>\n",
       "    <tr>\n",
       "      <th>0</th>\n",
       "      <td>2010-01-04</td>\n",
       "      <td>0.208157</td>\n",
       "      <td>0.760072</td>\n",
       "      <td>0.031771</td>\n",
       "    </tr>\n",
       "    <tr>\n",
       "      <th>1</th>\n",
       "      <td>2010-01-04</td>\n",
       "      <td>0.024145</td>\n",
       "      <td>0.808129</td>\n",
       "      <td>0.167726</td>\n",
       "    </tr>\n",
       "    <tr>\n",
       "      <th>2</th>\n",
       "      <td>2010-01-04</td>\n",
       "      <td>0.922880</td>\n",
       "      <td>0.023758</td>\n",
       "      <td>0.053362</td>\n",
       "    </tr>\n",
       "    <tr>\n",
       "      <th>3</th>\n",
       "      <td>2010-01-04</td>\n",
       "      <td>0.143269</td>\n",
       "      <td>0.012789</td>\n",
       "      <td>0.843941</td>\n",
       "    </tr>\n",
       "    <tr>\n",
       "      <th>4</th>\n",
       "      <td>2010-01-05</td>\n",
       "      <td>0.874124</td>\n",
       "      <td>0.063757</td>\n",
       "      <td>0.062120</td>\n",
       "    </tr>\n",
       "  </tbody>\n",
       "</table>\n",
       "</div>"
      ],
      "text/plain": [
       "         date  Positive  Negative   Neutral\n",
       "0  2010-01-04  0.208157  0.760072  0.031771\n",
       "1  2010-01-04  0.024145  0.808129  0.167726\n",
       "2  2010-01-04  0.922880  0.023758  0.053362\n",
       "3  2010-01-04  0.143269  0.012789  0.843941\n",
       "4  2010-01-05  0.874124  0.063757  0.062120"
      ]
     },
     "execution_count": 39,
     "metadata": {},
     "output_type": "execute_result"
    }
   ],
   "source": [
    "df_benzinga.head()"
   ]
  },
  {
   "cell_type": "code",
   "execution_count": 40,
   "metadata": {},
   "outputs": [],
   "source": [
    "# df_benzinga = clean_tweet(df_benzinga)"
   ]
  },
  {
   "cell_type": "code",
   "execution_count": 41,
   "metadata": {},
   "outputs": [],
   "source": [
    "df_benzinga.set_index(\"date\", inplace=True)"
   ]
  },
  {
   "cell_type": "code",
   "execution_count": 42,
   "metadata": {},
   "outputs": [
    {
     "data": {
      "text/html": [
       "<div>\n",
       "<style scoped>\n",
       "    .dataframe tbody tr th:only-of-type {\n",
       "        vertical-align: middle;\n",
       "    }\n",
       "\n",
       "    .dataframe tbody tr th {\n",
       "        vertical-align: top;\n",
       "    }\n",
       "\n",
       "    .dataframe thead th {\n",
       "        text-align: right;\n",
       "    }\n",
       "</style>\n",
       "<table border=\"1\" class=\"dataframe\">\n",
       "  <thead>\n",
       "    <tr style=\"text-align: right;\">\n",
       "      <th></th>\n",
       "      <th>Positive</th>\n",
       "      <th>Negative</th>\n",
       "      <th>Neutral</th>\n",
       "    </tr>\n",
       "    <tr>\n",
       "      <th>date</th>\n",
       "      <th></th>\n",
       "      <th></th>\n",
       "      <th></th>\n",
       "    </tr>\n",
       "  </thead>\n",
       "  <tbody>\n",
       "    <tr>\n",
       "      <th>2010-01-04</th>\n",
       "      <td>0.208157</td>\n",
       "      <td>0.760072</td>\n",
       "      <td>0.031771</td>\n",
       "    </tr>\n",
       "    <tr>\n",
       "      <th>2010-01-04</th>\n",
       "      <td>0.024145</td>\n",
       "      <td>0.808129</td>\n",
       "      <td>0.167726</td>\n",
       "    </tr>\n",
       "    <tr>\n",
       "      <th>2010-01-04</th>\n",
       "      <td>0.922880</td>\n",
       "      <td>0.023758</td>\n",
       "      <td>0.053362</td>\n",
       "    </tr>\n",
       "    <tr>\n",
       "      <th>2010-01-04</th>\n",
       "      <td>0.143269</td>\n",
       "      <td>0.012789</td>\n",
       "      <td>0.843941</td>\n",
       "    </tr>\n",
       "    <tr>\n",
       "      <th>2010-01-05</th>\n",
       "      <td>0.874124</td>\n",
       "      <td>0.063757</td>\n",
       "      <td>0.062120</td>\n",
       "    </tr>\n",
       "  </tbody>\n",
       "</table>\n",
       "</div>"
      ],
      "text/plain": [
       "            Positive  Negative   Neutral\n",
       "date                                    \n",
       "2010-01-04  0.208157  0.760072  0.031771\n",
       "2010-01-04  0.024145  0.808129  0.167726\n",
       "2010-01-04  0.922880  0.023758  0.053362\n",
       "2010-01-04  0.143269  0.012789  0.843941\n",
       "2010-01-05  0.874124  0.063757  0.062120"
      ]
     },
     "execution_count": 42,
     "metadata": {},
     "output_type": "execute_result"
    }
   ],
   "source": [
    "df_benzinga.head()"
   ]
  },
  {
   "cell_type": "code",
   "execution_count": 43,
   "metadata": {},
   "outputs": [],
   "source": [
    "df_benzinga_duplicated_index = df_benzinga[df_benzinga.index.duplicated(keep=False)]"
   ]
  },
  {
   "cell_type": "code",
   "execution_count": 44,
   "metadata": {},
   "outputs": [
    {
     "data": {
      "text/plain": [
       "10228"
      ]
     },
     "execution_count": 44,
     "metadata": {},
     "output_type": "execute_result"
    }
   ],
   "source": [
    "df_benzinga_duplicated_index.shape[0]"
   ]
  },
  {
   "cell_type": "code",
   "execution_count": 45,
   "metadata": {},
   "outputs": [],
   "source": [
    "df_benzinga_nonduplicated_index = df_benzinga[~df_benzinga.index.duplicated(keep=False)]"
   ]
  },
  {
   "cell_type": "code",
   "execution_count": 46,
   "metadata": {},
   "outputs": [
    {
     "data": {
      "text/plain": [
       "878"
      ]
     },
     "execution_count": 46,
     "metadata": {},
     "output_type": "execute_result"
    }
   ],
   "source": [
    "df_benzinga_nonduplicated_index.shape[0]"
   ]
  },
  {
   "cell_type": "code",
   "execution_count": 47,
   "metadata": {},
   "outputs": [],
   "source": [
    "# df_twint.groupby('date')['negative'].mean()\n",
    "\n",
    "df_benzinga_groupby = df_benzinga.groupby(\"date\").agg(\n",
    "     negative = (\"Negative\", \"mean\"),\n",
    "     nuetral = (\"Neutral\", \"mean\"),\n",
    "     positive = (\"Positive\", \"mean\"),\n",
    "     # compound = (\"compound\", \"mean\"),\n",
    "     # nlikes = (\"nlikes\", \"sum\"),\n",
    "     # nretweets = (\"nretweets\", \"sum\"),\n",
    "     )\n"
   ]
  },
  {
   "cell_type": "code",
   "execution_count": 48,
   "metadata": {},
   "outputs": [
    {
     "data": {
      "text/html": [
       "<div>\n",
       "<style scoped>\n",
       "    .dataframe tbody tr th:only-of-type {\n",
       "        vertical-align: middle;\n",
       "    }\n",
       "\n",
       "    .dataframe tbody tr th {\n",
       "        vertical-align: top;\n",
       "    }\n",
       "\n",
       "    .dataframe thead th {\n",
       "        text-align: right;\n",
       "    }\n",
       "</style>\n",
       "<table border=\"1\" class=\"dataframe\">\n",
       "  <thead>\n",
       "    <tr style=\"text-align: right;\">\n",
       "      <th></th>\n",
       "      <th>negative</th>\n",
       "      <th>nuetral</th>\n",
       "      <th>positive</th>\n",
       "    </tr>\n",
       "    <tr>\n",
       "      <th>date</th>\n",
       "      <th></th>\n",
       "      <th></th>\n",
       "      <th></th>\n",
       "    </tr>\n",
       "  </thead>\n",
       "  <tbody>\n",
       "    <tr>\n",
       "      <th>2010-01-04</th>\n",
       "      <td>0.401187</td>\n",
       "      <td>0.274200</td>\n",
       "      <td>0.324613</td>\n",
       "    </tr>\n",
       "    <tr>\n",
       "      <th>2010-01-05</th>\n",
       "      <td>0.108230</td>\n",
       "      <td>0.176608</td>\n",
       "      <td>0.715163</td>\n",
       "    </tr>\n",
       "    <tr>\n",
       "      <th>2010-01-06</th>\n",
       "      <td>0.050018</td>\n",
       "      <td>0.339652</td>\n",
       "      <td>0.610330</td>\n",
       "    </tr>\n",
       "    <tr>\n",
       "      <th>2010-01-07</th>\n",
       "      <td>0.029928</td>\n",
       "      <td>0.195104</td>\n",
       "      <td>0.774968</td>\n",
       "    </tr>\n",
       "    <tr>\n",
       "      <th>2010-01-08</th>\n",
       "      <td>0.319698</td>\n",
       "      <td>0.402485</td>\n",
       "      <td>0.277817</td>\n",
       "    </tr>\n",
       "    <tr>\n",
       "      <th>...</th>\n",
       "      <td>...</td>\n",
       "      <td>...</td>\n",
       "      <td>...</td>\n",
       "    </tr>\n",
       "    <tr>\n",
       "      <th>2022-02-28</th>\n",
       "      <td>0.397671</td>\n",
       "      <td>0.531703</td>\n",
       "      <td>0.070626</td>\n",
       "    </tr>\n",
       "    <tr>\n",
       "      <th>2022-03-01</th>\n",
       "      <td>0.083546</td>\n",
       "      <td>0.596145</td>\n",
       "      <td>0.320308</td>\n",
       "    </tr>\n",
       "    <tr>\n",
       "      <th>2022-03-02</th>\n",
       "      <td>0.522847</td>\n",
       "      <td>0.434464</td>\n",
       "      <td>0.042689</td>\n",
       "    </tr>\n",
       "    <tr>\n",
       "      <th>2022-03-03</th>\n",
       "      <td>0.422825</td>\n",
       "      <td>0.495848</td>\n",
       "      <td>0.081327</td>\n",
       "    </tr>\n",
       "    <tr>\n",
       "      <th>2022-03-04</th>\n",
       "      <td>0.965844</td>\n",
       "      <td>0.018870</td>\n",
       "      <td>0.015286</td>\n",
       "    </tr>\n",
       "  </tbody>\n",
       "</table>\n",
       "<p>3105 rows × 3 columns</p>\n",
       "</div>"
      ],
      "text/plain": [
       "            negative   nuetral  positive\n",
       "date                                    \n",
       "2010-01-04  0.401187  0.274200  0.324613\n",
       "2010-01-05  0.108230  0.176608  0.715163\n",
       "2010-01-06  0.050018  0.339652  0.610330\n",
       "2010-01-07  0.029928  0.195104  0.774968\n",
       "2010-01-08  0.319698  0.402485  0.277817\n",
       "...              ...       ...       ...\n",
       "2022-02-28  0.397671  0.531703  0.070626\n",
       "2022-03-01  0.083546  0.596145  0.320308\n",
       "2022-03-02  0.522847  0.434464  0.042689\n",
       "2022-03-03  0.422825  0.495848  0.081327\n",
       "2022-03-04  0.965844  0.018870  0.015286\n",
       "\n",
       "[3105 rows x 3 columns]"
      ]
     },
     "execution_count": 48,
     "metadata": {},
     "output_type": "execute_result"
    }
   ],
   "source": [
    "df_benzinga_groupby"
   ]
  },
  {
   "cell_type": "code",
   "execution_count": 49,
   "metadata": {},
   "outputs": [],
   "source": [
    "df_merge = pd.merge(df, df_benzinga_groupby, how=\"inner\", left_index=True, right_index=True)"
   ]
  },
  {
   "cell_type": "code",
   "execution_count": 50,
   "metadata": {},
   "outputs": [
    {
     "data": {
      "text/plain": [
       "(2682, 16)"
      ]
     },
     "execution_count": 50,
     "metadata": {},
     "output_type": "execute_result"
    }
   ],
   "source": [
    "df_merge.shape"
   ]
  },
  {
   "cell_type": "code",
   "execution_count": 51,
   "metadata": {},
   "outputs": [
    {
     "data": {
      "text/plain": [
       "1    565\n",
       "2    555\n",
       "3    545\n",
       "4    513\n",
       "0    504\n",
       "Name: day_of_week, dtype: int64"
      ]
     },
     "execution_count": 51,
     "metadata": {},
     "output_type": "execute_result"
    }
   ],
   "source": [
    "df_merge.day_of_week.value_counts()"
   ]
  },
  {
   "cell_type": "code",
   "execution_count": 52,
   "metadata": {},
   "outputs": [
    {
     "data": {
      "text/html": [
       "<div>\n",
       "<style scoped>\n",
       "    .dataframe tbody tr th:only-of-type {\n",
       "        vertical-align: middle;\n",
       "    }\n",
       "\n",
       "    .dataframe tbody tr th {\n",
       "        vertical-align: top;\n",
       "    }\n",
       "\n",
       "    .dataframe thead th {\n",
       "        text-align: right;\n",
       "    }\n",
       "</style>\n",
       "<table border=\"1\" class=\"dataframe\">\n",
       "  <thead>\n",
       "    <tr style=\"text-align: right;\">\n",
       "      <th></th>\n",
       "      <th>1. open</th>\n",
       "      <th>2. high</th>\n",
       "      <th>3. low</th>\n",
       "      <th>4. close</th>\n",
       "      <th>5. adjusted close</th>\n",
       "      <th>6. volume</th>\n",
       "      <th>7. dividend amount</th>\n",
       "      <th>8. split coefficient</th>\n",
       "      <th>date_time</th>\n",
       "      <th>day_of_week</th>\n",
       "      <th>adjusted_close_shift</th>\n",
       "      <th>percentage_change</th>\n",
       "      <th>increase</th>\n",
       "      <th>negative</th>\n",
       "      <th>nuetral</th>\n",
       "      <th>positive</th>\n",
       "    </tr>\n",
       "    <tr>\n",
       "      <th>date</th>\n",
       "      <th></th>\n",
       "      <th></th>\n",
       "      <th></th>\n",
       "      <th></th>\n",
       "      <th></th>\n",
       "      <th></th>\n",
       "      <th></th>\n",
       "      <th></th>\n",
       "      <th></th>\n",
       "      <th></th>\n",
       "      <th></th>\n",
       "      <th></th>\n",
       "      <th></th>\n",
       "      <th></th>\n",
       "      <th></th>\n",
       "      <th></th>\n",
       "    </tr>\n",
       "  </thead>\n",
       "  <tbody>\n",
       "  </tbody>\n",
       "</table>\n",
       "</div>"
      ],
      "text/plain": [
       "Empty DataFrame\n",
       "Columns: [1. open, 2. high, 3. low, 4. close, 5. adjusted close, 6. volume, 7. dividend amount, 8. split coefficient, date_time, day_of_week, adjusted_close_shift, percentage_change, increase, negative, nuetral, positive]\n",
       "Index: []"
      ]
     },
     "execution_count": 52,
     "metadata": {},
     "output_type": "execute_result"
    }
   ],
   "source": [
    "# df.index\n",
    "# df_text.index\n",
    "df_merge[df_merge.negative.isnull()]\n",
    "# df_merge.shape"
   ]
  },
  {
   "cell_type": "code",
   "execution_count": 53,
   "metadata": {},
   "outputs": [
    {
     "data": {
      "text/plain": [
       "(3064, 13)"
      ]
     },
     "execution_count": 53,
     "metadata": {},
     "output_type": "execute_result"
    }
   ],
   "source": [
    "df.shape"
   ]
  },
  {
   "cell_type": "code",
   "execution_count": 54,
   "metadata": {},
   "outputs": [
    {
     "data": {
      "text/plain": [
       "(3105, 3)"
      ]
     },
     "execution_count": 54,
     "metadata": {},
     "output_type": "execute_result"
    }
   ],
   "source": [
    "df_benzinga_groupby.shape"
   ]
  },
  {
   "cell_type": "code",
   "execution_count": 55,
   "metadata": {},
   "outputs": [],
   "source": [
    "# df_merge.fillna(0.0, inplace=True)\n",
    "# df_merge.fillna(method=\"ffill\", inplace=True)"
   ]
  },
  {
   "cell_type": "code",
   "execution_count": 56,
   "metadata": {},
   "outputs": [
    {
     "data": {
      "text/plain": [
       "(0, 16)"
      ]
     },
     "execution_count": 56,
     "metadata": {},
     "output_type": "execute_result"
    }
   ],
   "source": [
    "df_merge[df_merge.negative.isnull()].shape"
   ]
  },
  {
   "cell_type": "code",
   "execution_count": 57,
   "metadata": {},
   "outputs": [
    {
     "name": "stdout",
     "output_type": "stream",
     "text": [
      "<class 'pandas.core.frame.DataFrame'>\n",
      "Index: 2682 entries, 2010-01-04 to 2022-03-04\n",
      "Data columns (total 16 columns):\n",
      " #   Column                Non-Null Count  Dtype         \n",
      "---  ------                --------------  -----         \n",
      " 0   1. open               2682 non-null   float64       \n",
      " 1   2. high               2682 non-null   float64       \n",
      " 2   3. low                2682 non-null   float64       \n",
      " 3   4. close              2682 non-null   float64       \n",
      " 4   5. adjusted close     2682 non-null   float64       \n",
      " 5   6. volume             2682 non-null   float64       \n",
      " 6   7. dividend amount    2682 non-null   float64       \n",
      " 7   8. split coefficient  2682 non-null   float64       \n",
      " 8   date_time             2682 non-null   datetime64[ns]\n",
      " 9   day_of_week           2682 non-null   int64         \n",
      " 10  adjusted_close_shift  2681 non-null   float64       \n",
      " 11  percentage_change     2681 non-null   float64       \n",
      " 12  increase              2682 non-null   int64         \n",
      " 13  negative              2682 non-null   float64       \n",
      " 14  nuetral               2682 non-null   float64       \n",
      " 15  positive              2682 non-null   float64       \n",
      "dtypes: datetime64[ns](1), float64(13), int64(2)\n",
      "memory usage: 356.2+ KB\n"
     ]
    }
   ],
   "source": [
    "df_merge.info()"
   ]
  },
  {
   "cell_type": "code",
   "execution_count": 58,
   "metadata": {},
   "outputs": [],
   "source": [
    "# df_merge.fillna(0.0, inplace=True)"
   ]
  },
  {
   "cell_type": "code",
   "execution_count": 59,
   "metadata": {},
   "outputs": [
    {
     "data": {
      "text/html": [
       "<div>\n",
       "<style scoped>\n",
       "    .dataframe tbody tr th:only-of-type {\n",
       "        vertical-align: middle;\n",
       "    }\n",
       "\n",
       "    .dataframe tbody tr th {\n",
       "        vertical-align: top;\n",
       "    }\n",
       "\n",
       "    .dataframe thead th {\n",
       "        text-align: right;\n",
       "    }\n",
       "</style>\n",
       "<table border=\"1\" class=\"dataframe\">\n",
       "  <thead>\n",
       "    <tr style=\"text-align: right;\">\n",
       "      <th></th>\n",
       "      <th>1. open</th>\n",
       "      <th>2. high</th>\n",
       "      <th>3. low</th>\n",
       "      <th>4. close</th>\n",
       "      <th>5. adjusted close</th>\n",
       "      <th>6. volume</th>\n",
       "      <th>7. dividend amount</th>\n",
       "      <th>8. split coefficient</th>\n",
       "      <th>date_time</th>\n",
       "      <th>day_of_week</th>\n",
       "      <th>adjusted_close_shift</th>\n",
       "      <th>percentage_change</th>\n",
       "      <th>increase</th>\n",
       "      <th>negative</th>\n",
       "      <th>nuetral</th>\n",
       "      <th>positive</th>\n",
       "    </tr>\n",
       "    <tr>\n",
       "      <th>date</th>\n",
       "      <th></th>\n",
       "      <th></th>\n",
       "      <th></th>\n",
       "      <th></th>\n",
       "      <th></th>\n",
       "      <th></th>\n",
       "      <th></th>\n",
       "      <th></th>\n",
       "      <th></th>\n",
       "      <th></th>\n",
       "      <th></th>\n",
       "      <th></th>\n",
       "      <th></th>\n",
       "      <th></th>\n",
       "      <th></th>\n",
       "      <th></th>\n",
       "    </tr>\n",
       "  </thead>\n",
       "  <tbody>\n",
       "    <tr>\n",
       "      <th>2010-01-04</th>\n",
       "      <td>30.62</td>\n",
       "      <td>31.10</td>\n",
       "      <td>30.59</td>\n",
       "      <td>30.950</td>\n",
       "      <td>23.857347</td>\n",
       "      <td>38409100.0</td>\n",
       "      <td>0.0</td>\n",
       "      <td>1.0</td>\n",
       "      <td>2010-01-04</td>\n",
       "      <td>0</td>\n",
       "      <td>23.865055</td>\n",
       "      <td>0.032310</td>\n",
       "      <td>1</td>\n",
       "      <td>0.401187</td>\n",
       "      <td>0.274200</td>\n",
       "      <td>0.324613</td>\n",
       "    </tr>\n",
       "    <tr>\n",
       "      <th>2010-01-05</th>\n",
       "      <td>30.85</td>\n",
       "      <td>31.10</td>\n",
       "      <td>30.64</td>\n",
       "      <td>30.960</td>\n",
       "      <td>23.865055</td>\n",
       "      <td>49749600.0</td>\n",
       "      <td>0.0</td>\n",
       "      <td>1.0</td>\n",
       "      <td>2010-01-05</td>\n",
       "      <td>1</td>\n",
       "      <td>23.718596</td>\n",
       "      <td>-0.613695</td>\n",
       "      <td>0</td>\n",
       "      <td>0.108230</td>\n",
       "      <td>0.176608</td>\n",
       "      <td>0.715163</td>\n",
       "    </tr>\n",
       "    <tr>\n",
       "      <th>2010-01-06</th>\n",
       "      <td>30.88</td>\n",
       "      <td>31.08</td>\n",
       "      <td>30.52</td>\n",
       "      <td>30.770</td>\n",
       "      <td>23.718596</td>\n",
       "      <td>58182400.0</td>\n",
       "      <td>0.0</td>\n",
       "      <td>1.0</td>\n",
       "      <td>2010-01-06</td>\n",
       "      <td>2</td>\n",
       "      <td>23.473471</td>\n",
       "      <td>-1.033474</td>\n",
       "      <td>0</td>\n",
       "      <td>0.050018</td>\n",
       "      <td>0.339652</td>\n",
       "      <td>0.610330</td>\n",
       "    </tr>\n",
       "    <tr>\n",
       "      <th>2010-01-07</th>\n",
       "      <td>30.63</td>\n",
       "      <td>30.70</td>\n",
       "      <td>30.19</td>\n",
       "      <td>30.452</td>\n",
       "      <td>23.473471</td>\n",
       "      <td>50559700.0</td>\n",
       "      <td>0.0</td>\n",
       "      <td>1.0</td>\n",
       "      <td>2010-01-07</td>\n",
       "      <td>3</td>\n",
       "      <td>23.633805</td>\n",
       "      <td>0.683042</td>\n",
       "      <td>1</td>\n",
       "      <td>0.029928</td>\n",
       "      <td>0.195104</td>\n",
       "      <td>0.774968</td>\n",
       "    </tr>\n",
       "    <tr>\n",
       "      <th>2010-01-08</th>\n",
       "      <td>30.28</td>\n",
       "      <td>30.88</td>\n",
       "      <td>30.24</td>\n",
       "      <td>30.660</td>\n",
       "      <td>23.633805</td>\n",
       "      <td>51197400.0</td>\n",
       "      <td>0.0</td>\n",
       "      <td>1.0</td>\n",
       "      <td>2010-01-08</td>\n",
       "      <td>4</td>\n",
       "      <td>23.333179</td>\n",
       "      <td>-1.272016</td>\n",
       "      <td>0</td>\n",
       "      <td>0.319698</td>\n",
       "      <td>0.402485</td>\n",
       "      <td>0.277817</td>\n",
       "    </tr>\n",
       "  </tbody>\n",
       "</table>\n",
       "</div>"
      ],
      "text/plain": [
       "            1. open  2. high  3. low  4. close  5. adjusted close   6. volume  \\\n",
       "date                                                                            \n",
       "2010-01-04  30.62    31.10    30.59   30.950    23.857347          38409100.0   \n",
       "2010-01-05  30.85    31.10    30.64   30.960    23.865055          49749600.0   \n",
       "2010-01-06  30.88    31.08    30.52   30.770    23.718596          58182400.0   \n",
       "2010-01-07  30.63    30.70    30.19   30.452    23.473471          50559700.0   \n",
       "2010-01-08  30.28    30.88    30.24   30.660    23.633805          51197400.0   \n",
       "\n",
       "            7. dividend amount  8. split coefficient  date_time  day_of_week  \\\n",
       "date                                                                           \n",
       "2010-01-04  0.0                 1.0                  2010-01-04  0             \n",
       "2010-01-05  0.0                 1.0                  2010-01-05  1             \n",
       "2010-01-06  0.0                 1.0                  2010-01-06  2             \n",
       "2010-01-07  0.0                 1.0                  2010-01-07  3             \n",
       "2010-01-08  0.0                 1.0                  2010-01-08  4             \n",
       "\n",
       "            adjusted_close_shift  percentage_change  increase  negative  \\\n",
       "date                                                                      \n",
       "2010-01-04  23.865055             0.032310           1         0.401187   \n",
       "2010-01-05  23.718596            -0.613695           0         0.108230   \n",
       "2010-01-06  23.473471            -1.033474           0         0.050018   \n",
       "2010-01-07  23.633805             0.683042           1         0.029928   \n",
       "2010-01-08  23.333179            -1.272016           0         0.319698   \n",
       "\n",
       "             nuetral  positive  \n",
       "date                            \n",
       "2010-01-04  0.274200  0.324613  \n",
       "2010-01-05  0.176608  0.715163  \n",
       "2010-01-06  0.339652  0.610330  \n",
       "2010-01-07  0.195104  0.774968  \n",
       "2010-01-08  0.402485  0.277817  "
      ]
     },
     "execution_count": 59,
     "metadata": {},
     "output_type": "execute_result"
    }
   ],
   "source": [
    "##############df_merge.to_csv(f\"/app/StockPricePredictions/data/alphavantage/time_series_daily_adjusted/{ticker_upper}/{ticker_upper}_WITH_BENZINGA_FINBERT_SA.csv\")\n",
    "df_merge.head()"
   ]
  },
  {
   "cell_type": "code",
   "execution_count": 60,
   "metadata": {},
   "outputs": [],
   "source": [
    "# df_merge = df_merge.sample(frac=1).reset_index(drop=True)"
   ]
  },
  {
   "cell_type": "code",
   "execution_count": 61,
   "metadata": {},
   "outputs": [
    {
     "data": {
      "text/plain": [
       "(2682, 16)"
      ]
     },
     "execution_count": 61,
     "metadata": {},
     "output_type": "execute_result"
    }
   ],
   "source": [
    "df_merge.shape"
   ]
  },
  {
   "cell_type": "code",
   "execution_count": 62,
   "metadata": {},
   "outputs": [],
   "source": [
    "# df_merge[(df_merge[\"negative\"]==0.0) & (df_merge[\"nuetral\"]==0.0) & (df_merge[\"positive\"]==0.0)].shape"
   ]
  },
  {
   "cell_type": "code",
   "execution_count": 63,
   "metadata": {},
   "outputs": [],
   "source": [
    "# df_merge = df_merge[~(df_merge[\"negative\"]==0.0) & ~(df_merge[\"nuetral\"]==0.0) & ~(df_merge[\"positive\"]==0.0)].copy()"
   ]
  },
  {
   "cell_type": "code",
   "execution_count": 64,
   "metadata": {},
   "outputs": [],
   "source": [
    "X = df_merge[[\"negative\", \"nuetral\", \"positive\"]]\n",
    "y = df_merge[\"increase\"]"
   ]
  },
  {
   "cell_type": "code",
   "execution_count": 65,
   "metadata": {},
   "outputs": [
    {
     "data": {
      "text/plain": [
       "date\n",
       "2010-01-04    1\n",
       "2010-01-05    0\n",
       "2010-01-06    0\n",
       "2010-01-07    1\n",
       "2010-01-08    0\n",
       "Name: increase, dtype: int64"
      ]
     },
     "execution_count": 65,
     "metadata": {},
     "output_type": "execute_result"
    }
   ],
   "source": [
    "y.head()"
   ]
  },
  {
   "cell_type": "code",
   "execution_count": null,
   "metadata": {},
   "outputs": [],
   "source": []
  },
  {
   "cell_type": "code",
   "execution_count": 66,
   "metadata": {},
   "outputs": [],
   "source": [
    "SPLIT = int(0.8 * len(df_merge))\n",
    "\n",
    "X_train = X[:SPLIT]\n",
    "X_test = X[SPLIT:]\n",
    "\n",
    "y_train = y[:SPLIT]\n",
    "y_test = y[SPLIT:]\n",
    "\n"
   ]
  },
  {
   "cell_type": "code",
   "execution_count": 67,
   "metadata": {},
   "outputs": [
    {
     "data": {
      "text/html": [
       "<div>\n",
       "<style scoped>\n",
       "    .dataframe tbody tr th:only-of-type {\n",
       "        vertical-align: middle;\n",
       "    }\n",
       "\n",
       "    .dataframe tbody tr th {\n",
       "        vertical-align: top;\n",
       "    }\n",
       "\n",
       "    .dataframe thead th {\n",
       "        text-align: right;\n",
       "    }\n",
       "</style>\n",
       "<table border=\"1\" class=\"dataframe\">\n",
       "  <thead>\n",
       "    <tr style=\"text-align: right;\">\n",
       "      <th></th>\n",
       "      <th>negative</th>\n",
       "      <th>nuetral</th>\n",
       "      <th>positive</th>\n",
       "    </tr>\n",
       "    <tr>\n",
       "      <th>date</th>\n",
       "      <th></th>\n",
       "      <th></th>\n",
       "      <th></th>\n",
       "    </tr>\n",
       "  </thead>\n",
       "  <tbody>\n",
       "    <tr>\n",
       "      <th>2010-01-04</th>\n",
       "      <td>0.401187</td>\n",
       "      <td>0.274200</td>\n",
       "      <td>0.324613</td>\n",
       "    </tr>\n",
       "    <tr>\n",
       "      <th>2010-01-05</th>\n",
       "      <td>0.108230</td>\n",
       "      <td>0.176608</td>\n",
       "      <td>0.715163</td>\n",
       "    </tr>\n",
       "    <tr>\n",
       "      <th>2010-01-06</th>\n",
       "      <td>0.050018</td>\n",
       "      <td>0.339652</td>\n",
       "      <td>0.610330</td>\n",
       "    </tr>\n",
       "    <tr>\n",
       "      <th>2010-01-07</th>\n",
       "      <td>0.029928</td>\n",
       "      <td>0.195104</td>\n",
       "      <td>0.774968</td>\n",
       "    </tr>\n",
       "    <tr>\n",
       "      <th>2010-01-08</th>\n",
       "      <td>0.319698</td>\n",
       "      <td>0.402485</td>\n",
       "      <td>0.277817</td>\n",
       "    </tr>\n",
       "    <tr>\n",
       "      <th>...</th>\n",
       "      <td>...</td>\n",
       "      <td>...</td>\n",
       "      <td>...</td>\n",
       "    </tr>\n",
       "    <tr>\n",
       "      <th>2019-12-09</th>\n",
       "      <td>0.255585</td>\n",
       "      <td>0.556354</td>\n",
       "      <td>0.188062</td>\n",
       "    </tr>\n",
       "    <tr>\n",
       "      <th>2019-12-10</th>\n",
       "      <td>0.105180</td>\n",
       "      <td>0.348350</td>\n",
       "      <td>0.546470</td>\n",
       "    </tr>\n",
       "    <tr>\n",
       "      <th>2019-12-11</th>\n",
       "      <td>0.968667</td>\n",
       "      <td>0.019348</td>\n",
       "      <td>0.011984</td>\n",
       "    </tr>\n",
       "    <tr>\n",
       "      <th>2019-12-12</th>\n",
       "      <td>0.303410</td>\n",
       "      <td>0.356044</td>\n",
       "      <td>0.340546</td>\n",
       "    </tr>\n",
       "    <tr>\n",
       "      <th>2019-12-13</th>\n",
       "      <td>0.114559</td>\n",
       "      <td>0.325465</td>\n",
       "      <td>0.559976</td>\n",
       "    </tr>\n",
       "  </tbody>\n",
       "</table>\n",
       "<p>2145 rows × 3 columns</p>\n",
       "</div>"
      ],
      "text/plain": [
       "            negative   nuetral  positive\n",
       "date                                    \n",
       "2010-01-04  0.401187  0.274200  0.324613\n",
       "2010-01-05  0.108230  0.176608  0.715163\n",
       "2010-01-06  0.050018  0.339652  0.610330\n",
       "2010-01-07  0.029928  0.195104  0.774968\n",
       "2010-01-08  0.319698  0.402485  0.277817\n",
       "...              ...       ...       ...\n",
       "2019-12-09  0.255585  0.556354  0.188062\n",
       "2019-12-10  0.105180  0.348350  0.546470\n",
       "2019-12-11  0.968667  0.019348  0.011984\n",
       "2019-12-12  0.303410  0.356044  0.340546\n",
       "2019-12-13  0.114559  0.325465  0.559976\n",
       "\n",
       "[2145 rows x 3 columns]"
      ]
     },
     "execution_count": 67,
     "metadata": {},
     "output_type": "execute_result"
    }
   ],
   "source": [
    "X_train"
   ]
  },
  {
   "cell_type": "code",
   "execution_count": 68,
   "metadata": {},
   "outputs": [],
   "source": [
    "from sklearn.ensemble import RandomForestClassifier"
   ]
  },
  {
   "cell_type": "code",
   "execution_count": 69,
   "metadata": {},
   "outputs": [
    {
     "data": {
      "text/plain": [
       "RandomForestClassifier(criterion='entropy', n_estimators=200)"
      ]
     },
     "execution_count": 69,
     "metadata": {},
     "output_type": "execute_result"
    }
   ],
   "source": [
    "rfc = RandomForestClassifier(n_estimators=200, criterion=\"entropy\")\n",
    "rfc.fit(X_train, y_train)"
   ]
  },
  {
   "cell_type": "code",
   "execution_count": 70,
   "metadata": {},
   "outputs": [],
   "source": [
    "preds = rfc.predict(X_test)"
   ]
  },
  {
   "cell_type": "code",
   "execution_count": 71,
   "metadata": {},
   "outputs": [],
   "source": [
    "from sklearn.metrics import classification_report, confusion_matrix, accuracy_score"
   ]
  },
  {
   "cell_type": "code",
   "execution_count": 72,
   "metadata": {},
   "outputs": [],
   "source": [
    "matrix = confusion_matrix(y_test, preds)"
   ]
  },
  {
   "cell_type": "code",
   "execution_count": 73,
   "metadata": {},
   "outputs": [
    {
     "data": {
      "text/plain": [
       "array([[117, 131],\n",
       "       [133, 156]])"
      ]
     },
     "execution_count": 73,
     "metadata": {},
     "output_type": "execute_result"
    }
   ],
   "source": [
    "matrix"
   ]
  },
  {
   "cell_type": "code",
   "execution_count": 74,
   "metadata": {},
   "outputs": [],
   "source": [
    "score = accuracy_score(y_test, preds)"
   ]
  },
  {
   "cell_type": "code",
   "execution_count": 75,
   "metadata": {},
   "outputs": [
    {
     "data": {
      "text/plain": [
       "0.5083798882681564"
      ]
     },
     "execution_count": 75,
     "metadata": {},
     "output_type": "execute_result"
    }
   ],
   "source": [
    "score"
   ]
  },
  {
   "cell_type": "code",
   "execution_count": 76,
   "metadata": {},
   "outputs": [
    {
     "name": "stdout",
     "output_type": "stream",
     "text": [
      "              precision    recall  f1-score   support\n",
      "\n",
      "           0       0.47      0.47      0.47       248\n",
      "           1       0.54      0.54      0.54       289\n",
      "\n",
      "    accuracy                           0.51       537\n",
      "   macro avg       0.51      0.51      0.51       537\n",
      "weighted avg       0.51      0.51      0.51       537\n",
      "\n"
     ]
    }
   ],
   "source": [
    "print(classification_report(y_test, preds))\n"
   ]
  },
  {
   "cell_type": "code",
   "execution_count": 77,
   "metadata": {},
   "outputs": [
    {
     "name": "stdout",
     "output_type": "stream",
     "text": [
      "          negative   nuetral  positive  increase\n",
      "negative  1.000000 -0.622238 -0.417345  0.028612\n",
      "nuetral  -0.622238  1.000000 -0.451706 -0.015453\n",
      "positive -0.417345 -0.451706  1.000000 -0.014669\n",
      "increase  0.028612 -0.015453 -0.014669  1.000000\n"
     ]
    }
   ],
   "source": [
    "corr_matrix = df_merge[[\"negative\", \"nuetral\", \"positive\", \"increase\"]].corr()\n",
    "print (corr_matrix)"
   ]
  },
  {
   "cell_type": "code",
   "execution_count": 78,
   "metadata": {},
   "outputs": [],
   "source": [
    "from statsmodels.tsa.stattools import grangercausalitytests"
   ]
  },
  {
   "cell_type": "code",
   "execution_count": 79,
   "metadata": {},
   "outputs": [
    {
     "name": "stdout",
     "output_type": "stream",
     "text": [
      "\n",
      "Granger Causality\n",
      "number of lags (no zero) 1\n",
      "ssr based F test:         F=17.6963 , p=0.0000  , df_denom=2678, df_num=1\n",
      "ssr based chi2 test:   chi2=17.7161 , p=0.0000  , df=1\n",
      "likelihood ratio test: chi2=17.6579 , p=0.0000  , df=1\n",
      "parameter F test:         F=17.6963 , p=0.0000  , df_denom=2678, df_num=1\n"
     ]
    },
    {
     "data": {
      "text/plain": [
       "{1: ({'ssr_ftest': (17.69632311036183, 2.6764302447569563e-05, 2678.0, 1),\n",
       "   'ssr_chi2test': (17.716147221389125, 2.564405310415813e-05, 1),\n",
       "   'lrtest': (17.65786933720483, 2.644189870165294e-05, 1),\n",
       "   'params_ftest': (17.696323110361906, 2.6764302447569563e-05, 2678.0, 1.0)},\n",
       "  [<statsmodels.regression.linear_model.RegressionResultsWrapper at 0x7fbc8d067700>,\n",
       "   <statsmodels.regression.linear_model.RegressionResultsWrapper at 0x7fbc8e220640>,\n",
       "   array([[0., 1., 0.]])])}"
      ]
     },
     "execution_count": 79,
     "metadata": {},
     "output_type": "execute_result"
    }
   ],
   "source": [
    "#perform Granger-Causality test\n",
    "grangercausalitytests(df_merge[[\"positive\", \"increase\"]], maxlag=[1])"
   ]
  }
 ],
 "metadata": {
  "interpreter": {
   "hash": "d4d1e4263499bec80672ea0156c357c1ee493ec2b1c70f0acce89fc37c4a6abe"
  },
  "kernelspec": {
   "display_name": "Python 3",
   "language": "python",
   "name": "python3"
  },
  "language_info": {
   "codemirror_mode": {
    "name": "ipython",
    "version": 3
   },
   "file_extension": ".py",
   "mimetype": "text/x-python",
   "name": "python",
   "nbconvert_exporter": "python",
   "pygments_lexer": "ipython3",
   "version": "3.8.10"
  },
  "orig_nbformat": 4
 },
 "nbformat": 4,
 "nbformat_minor": 2
}
