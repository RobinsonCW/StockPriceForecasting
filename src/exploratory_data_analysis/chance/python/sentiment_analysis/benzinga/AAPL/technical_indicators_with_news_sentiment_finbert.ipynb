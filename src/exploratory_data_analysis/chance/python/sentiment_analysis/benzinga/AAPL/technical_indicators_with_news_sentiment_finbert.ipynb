{
 "cells": [
  {
   "cell_type": "code",
   "execution_count": 1,
   "metadata": {},
   "outputs": [
    {
     "name": "stderr",
     "output_type": "stream",
     "text": [
      "/usr/lib/python3/dist-packages/requests/__init__.py:89: RequestsDependencyWarning: urllib3 (1.26.9) or chardet (3.0.4) doesn't match a supported version!\n",
      "  warnings.warn(\"urllib3 ({}) or chardet ({}) doesn't match a supported \"\n"
     ]
    }
   ],
   "source": [
    "%matplotlib inline\n",
    "\n",
    "import os\n",
    "import datetime\n",
    "\n",
    "import IPython\n",
    "import IPython.display\n",
    "import matplotlib as mpl\n",
    "import matplotlib.pyplot as plt\n",
    "import numpy as np\n",
    "import pandas as pd\n",
    "import seaborn as sns\n",
    "import tensorflow as tf\n",
    "\n",
    "mpl.rcParams['figure.figsize'] = (8, 6)\n",
    "mpl.rcParams['axes.grid'] = False"
   ]
  },
  {
   "cell_type": "code",
   "execution_count": 2,
   "metadata": {},
   "outputs": [],
   "source": [
    "pd. set_option('display.max_columns', 500)\n",
    "pd.set_option('display.max_colwidth', 0)"
   ]
  },
  {
   "cell_type": "code",
   "execution_count": 3,
   "metadata": {},
   "outputs": [
    {
     "name": "stdout",
     "output_type": "stream",
     "text": [
      "AAPL\n"
     ]
    }
   ],
   "source": [
    "ticker_list = [\"aapl\", \"amzn\", \"msft\"]\n",
    "\n",
    "ticker = ticker_list[0]\n",
    "\n",
    "ticker_upper = ticker.upper()\n",
    "\n",
    "print(ticker_upper)"
   ]
  },
  {
   "cell_type": "code",
   "execution_count": 4,
   "metadata": {},
   "outputs": [],
   "source": [
    "alphavantage_csv_path = f\"/app/StockPricePredictions/data/alphavantage/time_series_daily_adjusted/{ticker_upper}/{ticker_upper}.csv\""
   ]
  },
  {
   "cell_type": "code",
   "execution_count": 5,
   "metadata": {},
   "outputs": [],
   "source": [
    "df = pd.read_csv(alphavantage_csv_path, low_memory=False)\n",
    "df.sort_values(by=[\"date\"], ascending=True, inplace=True)\n",
    "\n",
    "df = df[df[\"date\"]>='2010-01-01']\n",
    "\n",
    "df[\"date_time\"] = pd.to_datetime(df['date'])\n",
    "\n",
    "df[\"day_of_week\"] = df[\"date_time\"].dt.dayofweek\n",
    "\n",
    "df[\"adjusted_close_shift\"] = df[\"5. adjusted close\"].shift(-1)\n",
    "\n",
    "df[\"percentage_change\"] = (df[\"adjusted_close_shift\"] - df[\"5. adjusted close\"]) / df[\"5. adjusted close\"] * 100.0\n",
    "\n",
    "df[\"increase\"] = df[\"percentage_change\"].apply(lambda x: 1 if x > 0 else 0)\n",
    "\n",
    "df.set_index(\"date\", inplace=True)"
   ]
  },
  {
   "cell_type": "code",
   "execution_count": 6,
   "metadata": {},
   "outputs": [
    {
     "data": {
      "text/plain": [
       "3064"
      ]
     },
     "execution_count": 6,
     "metadata": {},
     "output_type": "execute_result"
    }
   ],
   "source": [
    "df.shape[0]"
   ]
  },
  {
   "cell_type": "code",
   "execution_count": 7,
   "metadata": {},
   "outputs": [
    {
     "name": "stdout",
     "output_type": "stream",
     "text": [
      "<class 'pandas.core.frame.DataFrame'>\n",
      "Index: 3064 entries, 2010-01-04 to 2022-03-04\n",
      "Data columns (total 13 columns):\n",
      " #   Column                Non-Null Count  Dtype         \n",
      "---  ------                --------------  -----         \n",
      " 0   1. open               3064 non-null   float64       \n",
      " 1   2. high               3064 non-null   float64       \n",
      " 2   3. low                3064 non-null   float64       \n",
      " 3   4. close              3064 non-null   float64       \n",
      " 4   5. adjusted close     3064 non-null   float64       \n",
      " 5   6. volume             3064 non-null   float64       \n",
      " 6   7. dividend amount    3064 non-null   float64       \n",
      " 7   8. split coefficient  3064 non-null   float64       \n",
      " 8   date_time             3064 non-null   datetime64[ns]\n",
      " 9   day_of_week           3064 non-null   int64         \n",
      " 10  adjusted_close_shift  3063 non-null   float64       \n",
      " 11  percentage_change     3063 non-null   float64       \n",
      " 12  increase              3064 non-null   int64         \n",
      "dtypes: datetime64[ns](1), float64(10), int64(2)\n",
      "memory usage: 335.1+ KB\n"
     ]
    }
   ],
   "source": [
    "df.info()"
   ]
  },
  {
   "cell_type": "code",
   "execution_count": 8,
   "metadata": {},
   "outputs": [
    {
     "data": {
      "text/html": [
       "<div>\n",
       "<style scoped>\n",
       "    .dataframe tbody tr th:only-of-type {\n",
       "        vertical-align: middle;\n",
       "    }\n",
       "\n",
       "    .dataframe tbody tr th {\n",
       "        vertical-align: top;\n",
       "    }\n",
       "\n",
       "    .dataframe thead th {\n",
       "        text-align: right;\n",
       "    }\n",
       "</style>\n",
       "<table border=\"1\" class=\"dataframe\">\n",
       "  <thead>\n",
       "    <tr style=\"text-align: right;\">\n",
       "      <th></th>\n",
       "      <th>1. open</th>\n",
       "      <th>2. high</th>\n",
       "      <th>3. low</th>\n",
       "      <th>4. close</th>\n",
       "      <th>5. adjusted close</th>\n",
       "      <th>6. volume</th>\n",
       "      <th>7. dividend amount</th>\n",
       "      <th>8. split coefficient</th>\n",
       "      <th>date_time</th>\n",
       "      <th>day_of_week</th>\n",
       "      <th>adjusted_close_shift</th>\n",
       "      <th>percentage_change</th>\n",
       "      <th>increase</th>\n",
       "    </tr>\n",
       "    <tr>\n",
       "      <th>date</th>\n",
       "      <th></th>\n",
       "      <th></th>\n",
       "      <th></th>\n",
       "      <th></th>\n",
       "      <th></th>\n",
       "      <th></th>\n",
       "      <th></th>\n",
       "      <th></th>\n",
       "      <th></th>\n",
       "      <th></th>\n",
       "      <th></th>\n",
       "      <th></th>\n",
       "      <th></th>\n",
       "    </tr>\n",
       "  </thead>\n",
       "  <tbody>\n",
       "    <tr>\n",
       "      <th>2022-02-28</th>\n",
       "      <td>163.060</td>\n",
       "      <td>165.42</td>\n",
       "      <td>162.43</td>\n",
       "      <td>165.12</td>\n",
       "      <td>165.12</td>\n",
       "      <td>95056629.0</td>\n",
       "      <td>0.0</td>\n",
       "      <td>1.0</td>\n",
       "      <td>2022-02-28</td>\n",
       "      <td>0</td>\n",
       "      <td>163.20</td>\n",
       "      <td>-1.162791</td>\n",
       "      <td>0</td>\n",
       "    </tr>\n",
       "    <tr>\n",
       "      <th>2022-03-01</th>\n",
       "      <td>164.695</td>\n",
       "      <td>166.60</td>\n",
       "      <td>161.97</td>\n",
       "      <td>163.20</td>\n",
       "      <td>163.20</td>\n",
       "      <td>83474425.0</td>\n",
       "      <td>0.0</td>\n",
       "      <td>1.0</td>\n",
       "      <td>2022-03-01</td>\n",
       "      <td>1</td>\n",
       "      <td>166.56</td>\n",
       "      <td>2.058824</td>\n",
       "      <td>1</td>\n",
       "    </tr>\n",
       "    <tr>\n",
       "      <th>2022-03-02</th>\n",
       "      <td>164.390</td>\n",
       "      <td>167.36</td>\n",
       "      <td>162.95</td>\n",
       "      <td>166.56</td>\n",
       "      <td>166.56</td>\n",
       "      <td>79724750.0</td>\n",
       "      <td>0.0</td>\n",
       "      <td>1.0</td>\n",
       "      <td>2022-03-02</td>\n",
       "      <td>2</td>\n",
       "      <td>166.23</td>\n",
       "      <td>-0.198127</td>\n",
       "      <td>0</td>\n",
       "    </tr>\n",
       "    <tr>\n",
       "      <th>2022-03-03</th>\n",
       "      <td>168.470</td>\n",
       "      <td>168.91</td>\n",
       "      <td>165.55</td>\n",
       "      <td>166.23</td>\n",
       "      <td>166.23</td>\n",
       "      <td>76678441.0</td>\n",
       "      <td>0.0</td>\n",
       "      <td>1.0</td>\n",
       "      <td>2022-03-03</td>\n",
       "      <td>3</td>\n",
       "      <td>163.17</td>\n",
       "      <td>-1.840823</td>\n",
       "      <td>0</td>\n",
       "    </tr>\n",
       "    <tr>\n",
       "      <th>2022-03-04</th>\n",
       "      <td>164.490</td>\n",
       "      <td>165.55</td>\n",
       "      <td>162.10</td>\n",
       "      <td>163.17</td>\n",
       "      <td>163.17</td>\n",
       "      <td>83819592.0</td>\n",
       "      <td>0.0</td>\n",
       "      <td>1.0</td>\n",
       "      <td>2022-03-04</td>\n",
       "      <td>4</td>\n",
       "      <td>NaN</td>\n",
       "      <td>NaN</td>\n",
       "      <td>0</td>\n",
       "    </tr>\n",
       "  </tbody>\n",
       "</table>\n",
       "</div>"
      ],
      "text/plain": [
       "            1. open  2. high  3. low  4. close  5. adjusted close   6. volume  \\\n",
       "date                                                                            \n",
       "2022-02-28  163.060  165.42   162.43  165.12    165.12             95056629.0   \n",
       "2022-03-01  164.695  166.60   161.97  163.20    163.20             83474425.0   \n",
       "2022-03-02  164.390  167.36   162.95  166.56    166.56             79724750.0   \n",
       "2022-03-03  168.470  168.91   165.55  166.23    166.23             76678441.0   \n",
       "2022-03-04  164.490  165.55   162.10  163.17    163.17             83819592.0   \n",
       "\n",
       "            7. dividend amount  8. split coefficient  date_time  day_of_week  \\\n",
       "date                                                                           \n",
       "2022-02-28  0.0                 1.0                  2022-02-28  0             \n",
       "2022-03-01  0.0                 1.0                  2022-03-01  1             \n",
       "2022-03-02  0.0                 1.0                  2022-03-02  2             \n",
       "2022-03-03  0.0                 1.0                  2022-03-03  3             \n",
       "2022-03-04  0.0                 1.0                  2022-03-04  4             \n",
       "\n",
       "            adjusted_close_shift  percentage_change  increase  \n",
       "date                                                           \n",
       "2022-02-28  163.20               -1.162791           0         \n",
       "2022-03-01  166.56                2.058824           1         \n",
       "2022-03-02  166.23               -0.198127           0         \n",
       "2022-03-03  163.17               -1.840823           0         \n",
       "2022-03-04 NaN                   NaN                 0         "
      ]
     },
     "execution_count": 8,
     "metadata": {},
     "output_type": "execute_result"
    }
   ],
   "source": [
    "df.tail()\n",
    "# df[df.percentage_change == 0]"
   ]
  },
  {
   "cell_type": "code",
   "execution_count": 9,
   "metadata": {},
   "outputs": [
    {
     "data": {
      "text/plain": [
       "1    1621\n",
       "0    1443\n",
       "Name: increase, dtype: int64"
      ]
     },
     "execution_count": 9,
     "metadata": {},
     "output_type": "execute_result"
    }
   ],
   "source": [
    "df.increase.value_counts()"
   ]
  },
  {
   "cell_type": "code",
   "execution_count": 10,
   "metadata": {},
   "outputs": [
    {
     "data": {
      "text/plain": [
       "1    629\n",
       "2    628\n",
       "3    619\n",
       "4    614\n",
       "0    574\n",
       "Name: day_of_week, dtype: int64"
      ]
     },
     "execution_count": 10,
     "metadata": {},
     "output_type": "execute_result"
    }
   ],
   "source": [
    "# The day of the week with Monday=0, Sunday=6.\n",
    "\n",
    "# 5 = Saturday\n",
    "# 6 = Sunday\n",
    "df.day_of_week.value_counts()"
   ]
  },
  {
   "cell_type": "code",
   "execution_count": 11,
   "metadata": {},
   "outputs": [
    {
     "name": "stdout",
     "output_type": "stream",
     "text": [
      "1\n"
     ]
    },
    {
     "data": {
      "text/plain": [
       "'2010-01-05'"
      ]
     },
     "execution_count": 11,
     "metadata": {},
     "output_type": "execute_result"
    }
   ],
   "source": [
    "loc = df.index.get_loc('2010-01-05')\n",
    "loc\n",
    "\n",
    "print(loc)\n",
    "\n",
    "df.iloc[loc][\"date_time\"].strftime(\"%Y-%m-%d\")"
   ]
  },
  {
   "cell_type": "code",
   "execution_count": null,
   "metadata": {},
   "outputs": [],
   "source": []
  },
  {
   "cell_type": "code",
   "execution_count": null,
   "metadata": {},
   "outputs": [],
   "source": []
  },
  {
   "cell_type": "code",
   "execution_count": 12,
   "metadata": {},
   "outputs": [],
   "source": [
    "benzinga_csv_path = f\"/app/StockPricePredictions/data/alphavantage/time_series_daily_adjusted/{ticker_upper}/{ticker}_finbert_20100101_20220304.csv\""
   ]
  },
  {
   "cell_type": "code",
   "execution_count": 13,
   "metadata": {},
   "outputs": [],
   "source": [
    "df_benzinga = pd.read_csv(benzinga_csv_path, low_memory=False)"
   ]
  },
  {
   "cell_type": "code",
   "execution_count": 14,
   "metadata": {},
   "outputs": [],
   "source": [
    "df_benzinga['date'] = pd.to_datetime(df_benzinga['Stock'])"
   ]
  },
  {
   "cell_type": "code",
   "execution_count": 15,
   "metadata": {},
   "outputs": [],
   "source": [
    "df_benzinga[\"day_of_week\"] = df_benzinga[\"date\"].dt.dayofweek"
   ]
  },
  {
   "cell_type": "code",
   "execution_count": 16,
   "metadata": {},
   "outputs": [
    {
     "name": "stdout",
     "output_type": "stream",
     "text": [
      "<class 'pandas.core.frame.DataFrame'>\n",
      "RangeIndex: 29077 entries, 0 to 29076\n",
      "Data columns (total 7 columns):\n",
      " #   Column       Non-Null Count  Dtype         \n",
      "---  ------       --------------  -----         \n",
      " 0   Headline     29077 non-null  object        \n",
      " 1   Stock        29077 non-null  object        \n",
      " 2   Positive     29077 non-null  float64       \n",
      " 3   Negative     29077 non-null  float64       \n",
      " 4   Neutral      29077 non-null  float64       \n",
      " 5   date         29077 non-null  datetime64[ns]\n",
      " 6   day_of_week  29077 non-null  int64         \n",
      "dtypes: datetime64[ns](1), float64(3), int64(1), object(2)\n",
      "memory usage: 1.6+ MB\n"
     ]
    }
   ],
   "source": [
    "df_benzinga.info()"
   ]
  },
  {
   "cell_type": "code",
   "execution_count": 17,
   "metadata": {},
   "outputs": [
    {
     "data": {
      "text/html": [
       "<div>\n",
       "<style scoped>\n",
       "    .dataframe tbody tr th:only-of-type {\n",
       "        vertical-align: middle;\n",
       "    }\n",
       "\n",
       "    .dataframe tbody tr th {\n",
       "        vertical-align: top;\n",
       "    }\n",
       "\n",
       "    .dataframe thead th {\n",
       "        text-align: right;\n",
       "    }\n",
       "</style>\n",
       "<table border=\"1\" class=\"dataframe\">\n",
       "  <thead>\n",
       "    <tr style=\"text-align: right;\">\n",
       "      <th></th>\n",
       "      <th>Headline</th>\n",
       "      <th>Stock</th>\n",
       "      <th>Positive</th>\n",
       "      <th>Negative</th>\n",
       "      <th>Neutral</th>\n",
       "      <th>date</th>\n",
       "      <th>day_of_week</th>\n",
       "    </tr>\n",
       "  </thead>\n",
       "  <tbody>\n",
       "    <tr>\n",
       "      <th>0</th>\n",
       "      <td>Time to Sell Apple Puts In case you missed the meteoric run in Apple  over the last several months, there may still be a way to profit without having to chase the stock at these lofty levels: selling puts. When you sell puts you in a sense become an insurance salesman. You agree to buy the stock at some point in the future, should the stock fall to that level or lower before a given date. For this agreement, you receive a premium up front.    With Apple currently trading at $210/share, just off its 52-week high, I propose selling out-of-the-money puts for April or July. The April $190 contract bids at $8.15 and the July $180 contract bids at $10.25.     I chose such long-dated contracts for their healty premiums. Just a reminder that the first rule of thumb with selling puts is to only sell puts on a stock you would be willing to own. Since I firmly believe in Apple's fundamentals and future business prospects, I would willingly buy the stock at $190 in April. However, nothing is certain, and Apple shares currently have a lot of positive news already \"baked in\".     If the upcoming tablet is a flop or never arrives at all, or if the company somehow misses earnings forecasts, the stock price may fall sharply. Since I agree with most analysts that Apple will earn roughly $11-12 in non-GAAP EPS in FY2010 and that a $240-260 price target is reasonable, selling out-of-the-money puts appears to be a great way to generate income and set the price you would be willing to pay for Apple shares. Therefore, it is my bet that Apple will stay above $190 by April and $180 by July and the put options will expire worthless, giving the seller a nice premium for either contract.</td>\n",
       "      <td>2010-01-02</td>\n",
       "      <td>0.085465</td>\n",
       "      <td>0.15849</td>\n",
       "      <td>0.756044</td>\n",
       "      <td>2010-01-02</td>\n",
       "      <td>5</td>\n",
       "    </tr>\n",
       "  </tbody>\n",
       "</table>\n",
       "</div>"
      ],
      "text/plain": [
       "                                                                                                                                                                                                                                                                                                                                                                                                                                                                                                                                                                                                                                                                                                                                                                                                                                                                                                                                                                                                                                                                                                                                                                                                                                                                                                                                                                                                                                                                                                                                                                                                                                                                                                                                                   Headline  \\\n",
       "0  Time to Sell Apple Puts In case you missed the meteoric run in Apple  over the last several months, there may still be a way to profit without having to chase the stock at these lofty levels: selling puts. When you sell puts you in a sense become an insurance salesman. You agree to buy the stock at some point in the future, should the stock fall to that level or lower before a given date. For this agreement, you receive a premium up front.    With Apple currently trading at $210/share, just off its 52-week high, I propose selling out-of-the-money puts for April or July. The April $190 contract bids at $8.15 and the July $180 contract bids at $10.25.     I chose such long-dated contracts for their healty premiums. Just a reminder that the first rule of thumb with selling puts is to only sell puts on a stock you would be willing to own. Since I firmly believe in Apple's fundamentals and future business prospects, I would willingly buy the stock at $190 in April. However, nothing is certain, and Apple shares currently have a lot of positive news already \"baked in\".     If the upcoming tablet is a flop or never arrives at all, or if the company somehow misses earnings forecasts, the stock price may fall sharply. Since I agree with most analysts that Apple will earn roughly $11-12 in non-GAAP EPS in FY2010 and that a $240-260 price target is reasonable, selling out-of-the-money puts appears to be a great way to generate income and set the price you would be willing to pay for Apple shares. Therefore, it is my bet that Apple will stay above $190 by April and $180 by July and the put options will expire worthless, giving the seller a nice premium for either contract.   \n",
       "\n",
       "        Stock  Positive  Negative   Neutral       date  day_of_week  \n",
       "0  2010-01-02  0.085465  0.15849   0.756044 2010-01-02  5            "
      ]
     },
     "execution_count": 17,
     "metadata": {},
     "output_type": "execute_result"
    }
   ],
   "source": [
    "df_benzinga.head(1)"
   ]
  },
  {
   "cell_type": "code",
   "execution_count": 18,
   "metadata": {},
   "outputs": [
    {
     "name": "stdout",
     "output_type": "stream",
     "text": [
      "<class 'pandas.core.frame.DataFrame'>\n",
      "RangeIndex: 29077 entries, 0 to 29076\n",
      "Data columns (total 7 columns):\n",
      " #   Column       Non-Null Count  Dtype         \n",
      "---  ------       --------------  -----         \n",
      " 0   Headline     29077 non-null  object        \n",
      " 1   Stock        29077 non-null  object        \n",
      " 2   Positive     29077 non-null  float64       \n",
      " 3   Negative     29077 non-null  float64       \n",
      " 4   Neutral      29077 non-null  float64       \n",
      " 5   date         29077 non-null  datetime64[ns]\n",
      " 6   day_of_week  29077 non-null  int64         \n",
      "dtypes: datetime64[ns](1), float64(3), int64(1), object(2)\n",
      "memory usage: 1.6+ MB\n"
     ]
    }
   ],
   "source": [
    "df_benzinga.info()"
   ]
  },
  {
   "cell_type": "code",
   "execution_count": 19,
   "metadata": {},
   "outputs": [
    {
     "data": {
      "text/plain": [
       "1    6598\n",
       "2    5977\n",
       "0    5639\n",
       "3    5184\n",
       "4    4465\n",
       "6    667 \n",
       "5    547 \n",
       "Name: day_of_week, dtype: int64"
      ]
     },
     "execution_count": 19,
     "metadata": {},
     "output_type": "execute_result"
    }
   ],
   "source": [
    "# The day of the week with Monday=0, Sunday=6.\n",
    "\n",
    "# 5 = Saturday\n",
    "# 6 = Sunday\n",
    "\n",
    "df_benzinga.day_of_week.value_counts()"
   ]
  },
  {
   "cell_type": "code",
   "execution_count": 20,
   "metadata": {},
   "outputs": [
    {
     "data": {
      "text/html": [
       "<div>\n",
       "<style scoped>\n",
       "    .dataframe tbody tr th:only-of-type {\n",
       "        vertical-align: middle;\n",
       "    }\n",
       "\n",
       "    .dataframe tbody tr th {\n",
       "        vertical-align: top;\n",
       "    }\n",
       "\n",
       "    .dataframe thead th {\n",
       "        text-align: right;\n",
       "    }\n",
       "</style>\n",
       "<table border=\"1\" class=\"dataframe\">\n",
       "  <thead>\n",
       "    <tr style=\"text-align: right;\">\n",
       "      <th></th>\n",
       "      <th>Headline</th>\n",
       "      <th>Stock</th>\n",
       "      <th>Positive</th>\n",
       "      <th>Negative</th>\n",
       "      <th>Neutral</th>\n",
       "      <th>date</th>\n",
       "      <th>day_of_week</th>\n",
       "    </tr>\n",
       "  </thead>\n",
       "  <tbody>\n",
       "    <tr>\n",
       "      <th>0</th>\n",
       "      <td>Time to Sell Apple Puts In case you missed the meteoric run in Apple  over the last several months, there may still be a way to profit without having to chase the stock at these lofty levels: selling puts. When you sell puts you in a sense become an insurance salesman. You agree to buy the stock at some point in the future, should the stock fall to that level or lower before a given date. For this agreement, you receive a premium up front.    With Apple currently trading at $210/share, just off its 52-week high, I propose selling out-of-the-money puts for April or July. The April $190 contract bids at $8.15 and the July $180 contract bids at $10.25.     I chose such long-dated contracts for their healty premiums. Just a reminder that the first rule of thumb with selling puts is to only sell puts on a stock you would be willing to own. Since I firmly believe in Apple's fundamentals and future business prospects, I would willingly buy the stock at $190 in April. However, nothing is certain, and Apple shares currently have a lot of positive news already \"baked in\".     If the upcoming tablet is a flop or never arrives at all, or if the company somehow misses earnings forecasts, the stock price may fall sharply. Since I agree with most analysts that Apple will earn roughly $11-12 in non-GAAP EPS in FY2010 and that a $240-260 price target is reasonable, selling out-of-the-money puts appears to be a great way to generate income and set the price you would be willing to pay for Apple shares. Therefore, it is my bet that Apple will stay above $190 by April and $180 by July and the put options will expire worthless, giving the seller a nice premium for either contract.</td>\n",
       "      <td>2010-01-02</td>\n",
       "      <td>0.085465</td>\n",
       "      <td>0.15849</td>\n",
       "      <td>0.756044</td>\n",
       "      <td>2010-01-02</td>\n",
       "      <td>5</td>\n",
       "    </tr>\n",
       "  </tbody>\n",
       "</table>\n",
       "</div>"
      ],
      "text/plain": [
       "                                                                                                                                                                                                                                                                                                                                                                                                                                                                                                                                                                                                                                                                                                                                                                                                                                                                                                                                                                                                                                                                                                                                                                                                                                                                                                                                                                                                                                                                                                                                                                                                                                                                                                                                                   Headline  \\\n",
       "0  Time to Sell Apple Puts In case you missed the meteoric run in Apple  over the last several months, there may still be a way to profit without having to chase the stock at these lofty levels: selling puts. When you sell puts you in a sense become an insurance salesman. You agree to buy the stock at some point in the future, should the stock fall to that level or lower before a given date. For this agreement, you receive a premium up front.    With Apple currently trading at $210/share, just off its 52-week high, I propose selling out-of-the-money puts for April or July. The April $190 contract bids at $8.15 and the July $180 contract bids at $10.25.     I chose such long-dated contracts for their healty premiums. Just a reminder that the first rule of thumb with selling puts is to only sell puts on a stock you would be willing to own. Since I firmly believe in Apple's fundamentals and future business prospects, I would willingly buy the stock at $190 in April. However, nothing is certain, and Apple shares currently have a lot of positive news already \"baked in\".     If the upcoming tablet is a flop or never arrives at all, or if the company somehow misses earnings forecasts, the stock price may fall sharply. Since I agree with most analysts that Apple will earn roughly $11-12 in non-GAAP EPS in FY2010 and that a $240-260 price target is reasonable, selling out-of-the-money puts appears to be a great way to generate income and set the price you would be willing to pay for Apple shares. Therefore, it is my bet that Apple will stay above $190 by April and $180 by July and the put options will expire worthless, giving the seller a nice premium for either contract.   \n",
       "\n",
       "        Stock  Positive  Negative   Neutral       date  day_of_week  \n",
       "0  2010-01-02  0.085465  0.15849   0.756044 2010-01-02  5            "
      ]
     },
     "execution_count": 20,
     "metadata": {},
     "output_type": "execute_result"
    }
   ],
   "source": [
    "df_benzinga.head(1)"
   ]
  },
  {
   "cell_type": "code",
   "execution_count": 21,
   "metadata": {},
   "outputs": [],
   "source": [
    "df_benzinga[\"in_index\"] = df_benzinga[\"Stock\"].apply(lambda x: True if x in df.index else False)"
   ]
  },
  {
   "cell_type": "code",
   "execution_count": 22,
   "metadata": {},
   "outputs": [
    {
     "data": {
      "text/plain": [
       "6    667\n",
       "5    547\n",
       "0    109\n",
       "4    22 \n",
       "3    13 \n",
       "1    10 \n",
       "2    4  \n",
       "Name: day_of_week, dtype: int64"
      ]
     },
     "execution_count": 22,
     "metadata": {},
     "output_type": "execute_result"
    }
   ],
   "source": [
    "df_benzinga[df_benzinga.in_index==False][\"day_of_week\"].value_counts()"
   ]
  },
  {
   "cell_type": "code",
   "execution_count": 23,
   "metadata": {},
   "outputs": [
    {
     "data": {
      "text/plain": [
       "0"
      ]
     },
     "execution_count": 23,
     "metadata": {},
     "output_type": "execute_result"
    }
   ],
   "source": [
    "df.index.get_loc('2010-01-04')\n"
   ]
  },
  {
   "cell_type": "code",
   "execution_count": 24,
   "metadata": {},
   "outputs": [],
   "source": [
    "from datetime import date, datetime, timedelta"
   ]
  },
  {
   "cell_type": "code",
   "execution_count": 25,
   "metadata": {},
   "outputs": [
    {
     "name": "stdout",
     "output_type": "stream",
     "text": [
      "2010-01-09 00:00:00\n",
      "2 days, 0:00:00\n"
     ]
    },
    {
     "data": {
      "text/plain": [
       "'2010-01-07'"
      ]
     },
     "execution_count": 25,
     "metadata": {},
     "output_type": "execute_result"
    }
   ],
   "source": [
    "test2 =  '2010-01-09'\n",
    "\n",
    "dtobj1 = datetime.strptime(test2, \"%Y-%m-%d\")\n",
    "\n",
    "print(dtobj1)\n",
    "\n",
    "days = timedelta(2)\n",
    "\n",
    "print(days)\n",
    "\n",
    "\n",
    "\n",
    "dtobj2 = (dtobj1 - days).strftime(\"%Y-%m-%d\")\n",
    "dtobj2"
   ]
  },
  {
   "cell_type": "code",
   "execution_count": 26,
   "metadata": {},
   "outputs": [],
   "source": [
    "def update_date(x):\n",
    "\n",
    "    global ERROR_COUNTER\n",
    "\n",
    "    if x.in_index == True:\n",
    "        return x.Stock\n",
    "    else:\n",
    "        # try:\n",
    "\n",
    "            dt_time = datetime.strptime(x.Stock, \"%Y-%m-%d\")\n",
    "\n",
    "            # loc = df.index.get_loc(date_part)\n",
    "            if x.day_of_week == 6: # Sunday to Thursday\n",
    "                days = timedelta(3)\n",
    "                idx_lookup = (dt_time - days).strftime(\"%Y-%m-%d\")\n",
    "                print(idx_lookup)\n",
    "                try:\n",
    "                    loc = df.index.get_loc(idx_lookup)\n",
    "                    return df.iloc[loc][\"date_time\"].strftime(\"%Y-%m-%d\")\n",
    "                except Exception as e1:\n",
    "                    ERROR_COUNTER += 1\n",
    "                    print(str(e1))\n",
    "                    return x.Stock\n",
    "            if x.day_of_week == 5: # Saturday to Thursday\n",
    "                days = timedelta(2)\n",
    "                idx_lookup = (dt_time - days).strftime(\"%Y-%m-%d\")\n",
    "                print(idx_lookup)\n",
    "                try:\n",
    "                    loc = df.index.get_loc(idx_lookup)\n",
    "                    return df.iloc[loc][\"date_time\"].strftime(\"%Y-%m-%d\")\n",
    "                except Exception as e2:\n",
    "                    ERROR_COUNTER += 1\n",
    "                    print(str(e2))\n",
    "                    return x.Stock\n",
    "            if x.day_of_week == 4: # Friday to Thursday\n",
    "                days = timedelta(1)\n",
    "                idx_lookup = (dt_time - days).strftime(\"%Y-%m-%d\")\n",
    "                print(idx_lookup)\n",
    "                try:\n",
    "                    loc = df.index.get_loc(idx_lookup)\n",
    "                    return df.iloc[loc][\"date_time\"].strftime(\"%Y-%m-%d\")\n",
    "                except Exception as e3:\n",
    "                    ERROR_COUNTER += 1\n",
    "                    print(str(3))\n",
    "                    return x.Stock\n",
    "            if x.day_of_week == 0: # Monday to Thursday\n",
    "                days = timedelta(4)\n",
    "                idx_lookup = (dt_time - days).strftime(\"%Y-%m-%d\")\n",
    "                print(idx_lookup)\n",
    "                try:\n",
    "                    loc = df.index.get_loc(idx_lookup)\n",
    "                    return df.iloc[loc][\"date_time\"].strftime(\"%Y-%m-%d\")\n",
    "                except Exception as e3:\n",
    "                    ERROR_COUNTER += 1\n",
    "                    print(str(3))\n",
    "                    return x.Stock\n",
    "\n",
    "            else:\n",
    "                return x.Stock\n",
    "\n",
    "        # except Exception as e:\n",
    "        #     ERROR_COUNTER += 1\n",
    "        #     print(str(e))\n",
    "        #     print(x.day_of_week, x.Stock, x.in_index)\n",
    "        #     return x.Stock\n",
    "    # loc = df.index.get_loc('2010-01-01')\n",
    "    # loc\n",
    "\n"
   ]
  },
  {
   "cell_type": "code",
   "execution_count": 27,
   "metadata": {},
   "outputs": [],
   "source": [
    "# The day of the week with Monday=0, Sunday=6.\n",
    "\n",
    "# 5 = Saturday\n",
    "# 6 = Sunday\n",
    "\n",
    "ERROR_COUNTER = 0 \n",
    "\n",
    "df_benzinga[\"backfill_date\"] = df_benzinga[\"Stock\"] # df_benzinga.apply(update_date, axis=1)\n"
   ]
  },
  {
   "cell_type": "code",
   "execution_count": 28,
   "metadata": {},
   "outputs": [
    {
     "data": {
      "text/plain": [
       "0"
      ]
     },
     "execution_count": 28,
     "metadata": {},
     "output_type": "execute_result"
    }
   ],
   "source": [
    "ERROR_COUNTER"
   ]
  },
  {
   "cell_type": "code",
   "execution_count": 29,
   "metadata": {},
   "outputs": [],
   "source": [
    "df_benzinga[\"in_index\"] = df_benzinga[\"backfill_date\"].apply(lambda x: True if x in df.index else False)"
   ]
  },
  {
   "cell_type": "code",
   "execution_count": 30,
   "metadata": {},
   "outputs": [
    {
     "data": {
      "text/plain": [
       "6    667\n",
       "5    547\n",
       "0    109\n",
       "4    22 \n",
       "3    13 \n",
       "1    10 \n",
       "2    4  \n",
       "Name: day_of_week, dtype: int64"
      ]
     },
     "execution_count": 30,
     "metadata": {},
     "output_type": "execute_result"
    }
   ],
   "source": [
    "df_benzinga[df_benzinga.in_index==False][\"day_of_week\"].value_counts()"
   ]
  },
  {
   "cell_type": "code",
   "execution_count": 31,
   "metadata": {},
   "outputs": [
    {
     "data": {
      "text/plain": [
       "(1372, 9)"
      ]
     },
     "execution_count": 31,
     "metadata": {},
     "output_type": "execute_result"
    }
   ],
   "source": [
    "df_benzinga[df_benzinga.in_index==False].shape"
   ]
  },
  {
   "cell_type": "code",
   "execution_count": 32,
   "metadata": {},
   "outputs": [],
   "source": [
    "# df_benzinga[\"text\"] = df_benzinga[\"title\"] + \" \" + df_benzinga[\"body\"]"
   ]
  },
  {
   "cell_type": "code",
   "execution_count": 33,
   "metadata": {},
   "outputs": [],
   "source": [
    "# df_benzinga['text'] = np.where(df_benzinga[\"text\"], df_benzinga[\"title\"], df_benzinga[\"text\"])"
   ]
  },
  {
   "cell_type": "code",
   "execution_count": 34,
   "metadata": {},
   "outputs": [],
   "source": [
    "df_benzinga = df_benzinga[[\"backfill_date\", \"Positive\", \"Negative\", \"Neutral\"]]"
   ]
  },
  {
   "cell_type": "code",
   "execution_count": 35,
   "metadata": {},
   "outputs": [
    {
     "name": "stdout",
     "output_type": "stream",
     "text": [
      "<class 'pandas.core.frame.DataFrame'>\n",
      "RangeIndex: 29077 entries, 0 to 29076\n",
      "Data columns (total 4 columns):\n",
      " #   Column         Non-Null Count  Dtype  \n",
      "---  ------         --------------  -----  \n",
      " 0   backfill_date  29077 non-null  object \n",
      " 1   Positive       29077 non-null  float64\n",
      " 2   Negative       29077 non-null  float64\n",
      " 3   Neutral        29077 non-null  float64\n",
      "dtypes: float64(3), object(1)\n",
      "memory usage: 908.8+ KB\n"
     ]
    }
   ],
   "source": [
    "df_benzinga.info()"
   ]
  },
  {
   "cell_type": "code",
   "execution_count": 36,
   "metadata": {},
   "outputs": [
    {
     "data": {
      "text/html": [
       "<div>\n",
       "<style scoped>\n",
       "    .dataframe tbody tr th:only-of-type {\n",
       "        vertical-align: middle;\n",
       "    }\n",
       "\n",
       "    .dataframe tbody tr th {\n",
       "        vertical-align: top;\n",
       "    }\n",
       "\n",
       "    .dataframe thead th {\n",
       "        text-align: right;\n",
       "    }\n",
       "</style>\n",
       "<table border=\"1\" class=\"dataframe\">\n",
       "  <thead>\n",
       "    <tr style=\"text-align: right;\">\n",
       "      <th></th>\n",
       "      <th>backfill_date</th>\n",
       "      <th>Positive</th>\n",
       "      <th>Negative</th>\n",
       "      <th>Neutral</th>\n",
       "    </tr>\n",
       "  </thead>\n",
       "  <tbody>\n",
       "    <tr>\n",
       "      <th>0</th>\n",
       "      <td>2010-01-02</td>\n",
       "      <td>0.085465</td>\n",
       "      <td>0.158490</td>\n",
       "      <td>0.756044</td>\n",
       "    </tr>\n",
       "    <tr>\n",
       "      <th>1</th>\n",
       "      <td>2010-01-04</td>\n",
       "      <td>0.044536</td>\n",
       "      <td>0.688256</td>\n",
       "      <td>0.267208</td>\n",
       "    </tr>\n",
       "    <tr>\n",
       "      <th>2</th>\n",
       "      <td>2010-01-04</td>\n",
       "      <td>0.943631</td>\n",
       "      <td>0.022050</td>\n",
       "      <td>0.034319</td>\n",
       "    </tr>\n",
       "    <tr>\n",
       "      <th>3</th>\n",
       "      <td>2010-01-04</td>\n",
       "      <td>0.016127</td>\n",
       "      <td>0.955271</td>\n",
       "      <td>0.028602</td>\n",
       "    </tr>\n",
       "    <tr>\n",
       "      <th>4</th>\n",
       "      <td>2010-01-04</td>\n",
       "      <td>0.818431</td>\n",
       "      <td>0.036988</td>\n",
       "      <td>0.144581</td>\n",
       "    </tr>\n",
       "  </tbody>\n",
       "</table>\n",
       "</div>"
      ],
      "text/plain": [
       "  backfill_date  Positive  Negative   Neutral\n",
       "0  2010-01-02    0.085465  0.158490  0.756044\n",
       "1  2010-01-04    0.044536  0.688256  0.267208\n",
       "2  2010-01-04    0.943631  0.022050  0.034319\n",
       "3  2010-01-04    0.016127  0.955271  0.028602\n",
       "4  2010-01-04    0.818431  0.036988  0.144581"
      ]
     },
     "execution_count": 36,
     "metadata": {},
     "output_type": "execute_result"
    }
   ],
   "source": [
    "df_benzinga.head()"
   ]
  },
  {
   "cell_type": "code",
   "execution_count": 37,
   "metadata": {},
   "outputs": [],
   "source": [
    "df_benzinga.rename(columns={\"backfill_date\": \"date\"}, inplace=True)"
   ]
  },
  {
   "cell_type": "code",
   "execution_count": 38,
   "metadata": {},
   "outputs": [],
   "source": [
    "def clean_tweet(df):\n",
    "    # replace URLs with a whitespace\n",
    "    df['text'] = df['text'].str.replace('http[s]?://(?:[a-zA-Z]|[0-9]|[$-_@.&+]|[!*\\(\\),]|(?:%[0-9a-fA-F][0-9a-fA-F]))+', ' ')\n",
    "    \n",
    "    return df"
   ]
  },
  {
   "cell_type": "code",
   "execution_count": 39,
   "metadata": {},
   "outputs": [
    {
     "data": {
      "text/html": [
       "<div>\n",
       "<style scoped>\n",
       "    .dataframe tbody tr th:only-of-type {\n",
       "        vertical-align: middle;\n",
       "    }\n",
       "\n",
       "    .dataframe tbody tr th {\n",
       "        vertical-align: top;\n",
       "    }\n",
       "\n",
       "    .dataframe thead th {\n",
       "        text-align: right;\n",
       "    }\n",
       "</style>\n",
       "<table border=\"1\" class=\"dataframe\">\n",
       "  <thead>\n",
       "    <tr style=\"text-align: right;\">\n",
       "      <th></th>\n",
       "      <th>date</th>\n",
       "      <th>Positive</th>\n",
       "      <th>Negative</th>\n",
       "      <th>Neutral</th>\n",
       "    </tr>\n",
       "  </thead>\n",
       "  <tbody>\n",
       "    <tr>\n",
       "      <th>0</th>\n",
       "      <td>2010-01-02</td>\n",
       "      <td>0.085465</td>\n",
       "      <td>0.158490</td>\n",
       "      <td>0.756044</td>\n",
       "    </tr>\n",
       "    <tr>\n",
       "      <th>1</th>\n",
       "      <td>2010-01-04</td>\n",
       "      <td>0.044536</td>\n",
       "      <td>0.688256</td>\n",
       "      <td>0.267208</td>\n",
       "    </tr>\n",
       "    <tr>\n",
       "      <th>2</th>\n",
       "      <td>2010-01-04</td>\n",
       "      <td>0.943631</td>\n",
       "      <td>0.022050</td>\n",
       "      <td>0.034319</td>\n",
       "    </tr>\n",
       "    <tr>\n",
       "      <th>3</th>\n",
       "      <td>2010-01-04</td>\n",
       "      <td>0.016127</td>\n",
       "      <td>0.955271</td>\n",
       "      <td>0.028602</td>\n",
       "    </tr>\n",
       "    <tr>\n",
       "      <th>4</th>\n",
       "      <td>2010-01-04</td>\n",
       "      <td>0.818431</td>\n",
       "      <td>0.036988</td>\n",
       "      <td>0.144581</td>\n",
       "    </tr>\n",
       "  </tbody>\n",
       "</table>\n",
       "</div>"
      ],
      "text/plain": [
       "         date  Positive  Negative   Neutral\n",
       "0  2010-01-02  0.085465  0.158490  0.756044\n",
       "1  2010-01-04  0.044536  0.688256  0.267208\n",
       "2  2010-01-04  0.943631  0.022050  0.034319\n",
       "3  2010-01-04  0.016127  0.955271  0.028602\n",
       "4  2010-01-04  0.818431  0.036988  0.144581"
      ]
     },
     "execution_count": 39,
     "metadata": {},
     "output_type": "execute_result"
    }
   ],
   "source": [
    "df_benzinga.head()"
   ]
  },
  {
   "cell_type": "code",
   "execution_count": 40,
   "metadata": {},
   "outputs": [],
   "source": [
    "# df_benzinga = clean_tweet(df_benzinga)"
   ]
  },
  {
   "cell_type": "code",
   "execution_count": 41,
   "metadata": {},
   "outputs": [],
   "source": [
    "df_benzinga.set_index(\"date\", inplace=True)"
   ]
  },
  {
   "cell_type": "code",
   "execution_count": 42,
   "metadata": {},
   "outputs": [
    {
     "data": {
      "text/html": [
       "<div>\n",
       "<style scoped>\n",
       "    .dataframe tbody tr th:only-of-type {\n",
       "        vertical-align: middle;\n",
       "    }\n",
       "\n",
       "    .dataframe tbody tr th {\n",
       "        vertical-align: top;\n",
       "    }\n",
       "\n",
       "    .dataframe thead th {\n",
       "        text-align: right;\n",
       "    }\n",
       "</style>\n",
       "<table border=\"1\" class=\"dataframe\">\n",
       "  <thead>\n",
       "    <tr style=\"text-align: right;\">\n",
       "      <th></th>\n",
       "      <th>Positive</th>\n",
       "      <th>Negative</th>\n",
       "      <th>Neutral</th>\n",
       "    </tr>\n",
       "    <tr>\n",
       "      <th>date</th>\n",
       "      <th></th>\n",
       "      <th></th>\n",
       "      <th></th>\n",
       "    </tr>\n",
       "  </thead>\n",
       "  <tbody>\n",
       "    <tr>\n",
       "      <th>2010-01-02</th>\n",
       "      <td>0.085465</td>\n",
       "      <td>0.158490</td>\n",
       "      <td>0.756044</td>\n",
       "    </tr>\n",
       "    <tr>\n",
       "      <th>2010-01-04</th>\n",
       "      <td>0.044536</td>\n",
       "      <td>0.688256</td>\n",
       "      <td>0.267208</td>\n",
       "    </tr>\n",
       "    <tr>\n",
       "      <th>2010-01-04</th>\n",
       "      <td>0.943631</td>\n",
       "      <td>0.022050</td>\n",
       "      <td>0.034319</td>\n",
       "    </tr>\n",
       "    <tr>\n",
       "      <th>2010-01-04</th>\n",
       "      <td>0.016127</td>\n",
       "      <td>0.955271</td>\n",
       "      <td>0.028602</td>\n",
       "    </tr>\n",
       "    <tr>\n",
       "      <th>2010-01-04</th>\n",
       "      <td>0.818431</td>\n",
       "      <td>0.036988</td>\n",
       "      <td>0.144581</td>\n",
       "    </tr>\n",
       "  </tbody>\n",
       "</table>\n",
       "</div>"
      ],
      "text/plain": [
       "            Positive  Negative   Neutral\n",
       "date                                    \n",
       "2010-01-02  0.085465  0.158490  0.756044\n",
       "2010-01-04  0.044536  0.688256  0.267208\n",
       "2010-01-04  0.943631  0.022050  0.034319\n",
       "2010-01-04  0.016127  0.955271  0.028602\n",
       "2010-01-04  0.818431  0.036988  0.144581"
      ]
     },
     "execution_count": 42,
     "metadata": {},
     "output_type": "execute_result"
    }
   ],
   "source": [
    "df_benzinga.head()"
   ]
  },
  {
   "cell_type": "code",
   "execution_count": 43,
   "metadata": {},
   "outputs": [],
   "source": [
    "df_benzinga_duplicated_index = df_benzinga[df_benzinga.index.duplicated(keep=False)]"
   ]
  },
  {
   "cell_type": "code",
   "execution_count": 44,
   "metadata": {},
   "outputs": [
    {
     "data": {
      "text/plain": [
       "28562"
      ]
     },
     "execution_count": 44,
     "metadata": {},
     "output_type": "execute_result"
    }
   ],
   "source": [
    "df_benzinga_duplicated_index.shape[0]"
   ]
  },
  {
   "cell_type": "code",
   "execution_count": 45,
   "metadata": {},
   "outputs": [],
   "source": [
    "df_benzinga_nonduplicated_index = df_benzinga[~df_benzinga.index.duplicated(keep=False)]"
   ]
  },
  {
   "cell_type": "code",
   "execution_count": 46,
   "metadata": {},
   "outputs": [
    {
     "data": {
      "text/plain": [
       "515"
      ]
     },
     "execution_count": 46,
     "metadata": {},
     "output_type": "execute_result"
    }
   ],
   "source": [
    "df_benzinga_nonduplicated_index.shape[0]"
   ]
  },
  {
   "cell_type": "code",
   "execution_count": 47,
   "metadata": {},
   "outputs": [],
   "source": [
    "# df_twint.groupby('date')['negative'].mean()\n",
    "\n",
    "df_benzinga_groupby = df_benzinga.groupby(\"date\").agg(\n",
    "     negative = (\"Negative\", \"mean\"),\n",
    "     nuetral = (\"Neutral\", \"mean\"),\n",
    "     positive = (\"Positive\", \"mean\"),\n",
    "     # compound = (\"compound\", \"mean\"),\n",
    "     # nlikes = (\"nlikes\", \"sum\"),\n",
    "     # nretweets = (\"nretweets\", \"sum\"),\n",
    "     )\n"
   ]
  },
  {
   "cell_type": "code",
   "execution_count": 48,
   "metadata": {},
   "outputs": [
    {
     "data": {
      "text/html": [
       "<div>\n",
       "<style scoped>\n",
       "    .dataframe tbody tr th:only-of-type {\n",
       "        vertical-align: middle;\n",
       "    }\n",
       "\n",
       "    .dataframe tbody tr th {\n",
       "        vertical-align: top;\n",
       "    }\n",
       "\n",
       "    .dataframe thead th {\n",
       "        text-align: right;\n",
       "    }\n",
       "</style>\n",
       "<table border=\"1\" class=\"dataframe\">\n",
       "  <thead>\n",
       "    <tr style=\"text-align: right;\">\n",
       "      <th></th>\n",
       "      <th>negative</th>\n",
       "      <th>nuetral</th>\n",
       "      <th>positive</th>\n",
       "    </tr>\n",
       "    <tr>\n",
       "      <th>date</th>\n",
       "      <th></th>\n",
       "      <th></th>\n",
       "      <th></th>\n",
       "    </tr>\n",
       "  </thead>\n",
       "  <tbody>\n",
       "    <tr>\n",
       "      <th>2010-01-02</th>\n",
       "      <td>0.158490</td>\n",
       "      <td>0.756044</td>\n",
       "      <td>0.085465</td>\n",
       "    </tr>\n",
       "    <tr>\n",
       "      <th>2010-01-04</th>\n",
       "      <td>0.215179</td>\n",
       "      <td>0.370223</td>\n",
       "      <td>0.414598</td>\n",
       "    </tr>\n",
       "    <tr>\n",
       "      <th>2010-01-05</th>\n",
       "      <td>0.243738</td>\n",
       "      <td>0.529363</td>\n",
       "      <td>0.226900</td>\n",
       "    </tr>\n",
       "    <tr>\n",
       "      <th>2010-01-06</th>\n",
       "      <td>0.077748</td>\n",
       "      <td>0.422044</td>\n",
       "      <td>0.500207</td>\n",
       "    </tr>\n",
       "    <tr>\n",
       "      <th>2010-01-07</th>\n",
       "      <td>0.251646</td>\n",
       "      <td>0.076096</td>\n",
       "      <td>0.672258</td>\n",
       "    </tr>\n",
       "    <tr>\n",
       "      <th>...</th>\n",
       "      <td>...</td>\n",
       "      <td>...</td>\n",
       "      <td>...</td>\n",
       "    </tr>\n",
       "    <tr>\n",
       "      <th>2022-02-28</th>\n",
       "      <td>0.637912</td>\n",
       "      <td>0.302927</td>\n",
       "      <td>0.059162</td>\n",
       "    </tr>\n",
       "    <tr>\n",
       "      <th>2022-03-01</th>\n",
       "      <td>0.468003</td>\n",
       "      <td>0.407704</td>\n",
       "      <td>0.124294</td>\n",
       "    </tr>\n",
       "    <tr>\n",
       "      <th>2022-03-02</th>\n",
       "      <td>0.442909</td>\n",
       "      <td>0.424314</td>\n",
       "      <td>0.132777</td>\n",
       "    </tr>\n",
       "    <tr>\n",
       "      <th>2022-03-03</th>\n",
       "      <td>0.317731</td>\n",
       "      <td>0.523530</td>\n",
       "      <td>0.158739</td>\n",
       "    </tr>\n",
       "    <tr>\n",
       "      <th>2022-03-04</th>\n",
       "      <td>0.255765</td>\n",
       "      <td>0.641111</td>\n",
       "      <td>0.103125</td>\n",
       "    </tr>\n",
       "  </tbody>\n",
       "</table>\n",
       "<p>3846 rows × 3 columns</p>\n",
       "</div>"
      ],
      "text/plain": [
       "            negative   nuetral  positive\n",
       "date                                    \n",
       "2010-01-02  0.158490  0.756044  0.085465\n",
       "2010-01-04  0.215179  0.370223  0.414598\n",
       "2010-01-05  0.243738  0.529363  0.226900\n",
       "2010-01-06  0.077748  0.422044  0.500207\n",
       "2010-01-07  0.251646  0.076096  0.672258\n",
       "...              ...       ...       ...\n",
       "2022-02-28  0.637912  0.302927  0.059162\n",
       "2022-03-01  0.468003  0.407704  0.124294\n",
       "2022-03-02  0.442909  0.424314  0.132777\n",
       "2022-03-03  0.317731  0.523530  0.158739\n",
       "2022-03-04  0.255765  0.641111  0.103125\n",
       "\n",
       "[3846 rows x 3 columns]"
      ]
     },
     "execution_count": 48,
     "metadata": {},
     "output_type": "execute_result"
    }
   ],
   "source": [
    "df_benzinga_groupby"
   ]
  },
  {
   "cell_type": "code",
   "execution_count": 49,
   "metadata": {},
   "outputs": [],
   "source": [
    "df_merge = pd.merge(df, df_benzinga_groupby, how=\"inner\", left_index=True, right_index=True)"
   ]
  },
  {
   "cell_type": "code",
   "execution_count": 50,
   "metadata": {},
   "outputs": [
    {
     "data": {
      "text/plain": [
       "(3044, 16)"
      ]
     },
     "execution_count": 50,
     "metadata": {},
     "output_type": "execute_result"
    }
   ],
   "source": [
    "df_merge.shape"
   ]
  },
  {
   "cell_type": "code",
   "execution_count": 51,
   "metadata": {},
   "outputs": [
    {
     "data": {
      "text/plain": [
       "1    628\n",
       "2    625\n",
       "3    616\n",
       "4    603\n",
       "0    572\n",
       "Name: day_of_week, dtype: int64"
      ]
     },
     "execution_count": 51,
     "metadata": {},
     "output_type": "execute_result"
    }
   ],
   "source": [
    "df_merge.day_of_week.value_counts()"
   ]
  },
  {
   "cell_type": "code",
   "execution_count": 52,
   "metadata": {},
   "outputs": [
    {
     "data": {
      "text/html": [
       "<div>\n",
       "<style scoped>\n",
       "    .dataframe tbody tr th:only-of-type {\n",
       "        vertical-align: middle;\n",
       "    }\n",
       "\n",
       "    .dataframe tbody tr th {\n",
       "        vertical-align: top;\n",
       "    }\n",
       "\n",
       "    .dataframe thead th {\n",
       "        text-align: right;\n",
       "    }\n",
       "</style>\n",
       "<table border=\"1\" class=\"dataframe\">\n",
       "  <thead>\n",
       "    <tr style=\"text-align: right;\">\n",
       "      <th></th>\n",
       "      <th>1. open</th>\n",
       "      <th>2. high</th>\n",
       "      <th>3. low</th>\n",
       "      <th>4. close</th>\n",
       "      <th>5. adjusted close</th>\n",
       "      <th>6. volume</th>\n",
       "      <th>7. dividend amount</th>\n",
       "      <th>8. split coefficient</th>\n",
       "      <th>date_time</th>\n",
       "      <th>day_of_week</th>\n",
       "      <th>adjusted_close_shift</th>\n",
       "      <th>percentage_change</th>\n",
       "      <th>increase</th>\n",
       "      <th>negative</th>\n",
       "      <th>nuetral</th>\n",
       "      <th>positive</th>\n",
       "    </tr>\n",
       "    <tr>\n",
       "      <th>date</th>\n",
       "      <th></th>\n",
       "      <th></th>\n",
       "      <th></th>\n",
       "      <th></th>\n",
       "      <th></th>\n",
       "      <th></th>\n",
       "      <th></th>\n",
       "      <th></th>\n",
       "      <th></th>\n",
       "      <th></th>\n",
       "      <th></th>\n",
       "      <th></th>\n",
       "      <th></th>\n",
       "      <th></th>\n",
       "      <th></th>\n",
       "      <th></th>\n",
       "    </tr>\n",
       "  </thead>\n",
       "  <tbody>\n",
       "  </tbody>\n",
       "</table>\n",
       "</div>"
      ],
      "text/plain": [
       "Empty DataFrame\n",
       "Columns: [1. open, 2. high, 3. low, 4. close, 5. adjusted close, 6. volume, 7. dividend amount, 8. split coefficient, date_time, day_of_week, adjusted_close_shift, percentage_change, increase, negative, nuetral, positive]\n",
       "Index: []"
      ]
     },
     "execution_count": 52,
     "metadata": {},
     "output_type": "execute_result"
    }
   ],
   "source": [
    "# df.index\n",
    "# df_text.index\n",
    "df_merge[df_merge.negative.isnull()]\n",
    "# df_merge.shape"
   ]
  },
  {
   "cell_type": "code",
   "execution_count": 53,
   "metadata": {},
   "outputs": [
    {
     "data": {
      "text/plain": [
       "(3064, 13)"
      ]
     },
     "execution_count": 53,
     "metadata": {},
     "output_type": "execute_result"
    }
   ],
   "source": [
    "df.shape"
   ]
  },
  {
   "cell_type": "code",
   "execution_count": 54,
   "metadata": {},
   "outputs": [
    {
     "data": {
      "text/plain": [
       "(3846, 3)"
      ]
     },
     "execution_count": 54,
     "metadata": {},
     "output_type": "execute_result"
    }
   ],
   "source": [
    "df_benzinga_groupby.shape"
   ]
  },
  {
   "cell_type": "code",
   "execution_count": 55,
   "metadata": {},
   "outputs": [],
   "source": [
    "# df_merge.fillna(0.0, inplace=True)\n",
    "# df_merge.fillna(method=\"ffill\", inplace=True)"
   ]
  },
  {
   "cell_type": "code",
   "execution_count": 56,
   "metadata": {},
   "outputs": [
    {
     "data": {
      "text/plain": [
       "(0, 16)"
      ]
     },
     "execution_count": 56,
     "metadata": {},
     "output_type": "execute_result"
    }
   ],
   "source": [
    "df_merge[df_merge.negative.isnull()].shape"
   ]
  },
  {
   "cell_type": "code",
   "execution_count": 57,
   "metadata": {},
   "outputs": [
    {
     "name": "stdout",
     "output_type": "stream",
     "text": [
      "<class 'pandas.core.frame.DataFrame'>\n",
      "Index: 3044 entries, 2010-01-04 to 2022-03-04\n",
      "Data columns (total 16 columns):\n",
      " #   Column                Non-Null Count  Dtype         \n",
      "---  ------                --------------  -----         \n",
      " 0   1. open               3044 non-null   float64       \n",
      " 1   2. high               3044 non-null   float64       \n",
      " 2   3. low                3044 non-null   float64       \n",
      " 3   4. close              3044 non-null   float64       \n",
      " 4   5. adjusted close     3044 non-null   float64       \n",
      " 5   6. volume             3044 non-null   float64       \n",
      " 6   7. dividend amount    3044 non-null   float64       \n",
      " 7   8. split coefficient  3044 non-null   float64       \n",
      " 8   date_time             3044 non-null   datetime64[ns]\n",
      " 9   day_of_week           3044 non-null   int64         \n",
      " 10  adjusted_close_shift  3043 non-null   float64       \n",
      " 11  percentage_change     3043 non-null   float64       \n",
      " 12  increase              3044 non-null   int64         \n",
      " 13  negative              3044 non-null   float64       \n",
      " 14  nuetral               3044 non-null   float64       \n",
      " 15  positive              3044 non-null   float64       \n",
      "dtypes: datetime64[ns](1), float64(13), int64(2)\n",
      "memory usage: 404.3+ KB\n"
     ]
    }
   ],
   "source": [
    "df_merge.info()"
   ]
  },
  {
   "cell_type": "code",
   "execution_count": 58,
   "metadata": {},
   "outputs": [],
   "source": [
    "# df_merge.fillna(0.0, inplace=True)"
   ]
  },
  {
   "cell_type": "code",
   "execution_count": 59,
   "metadata": {},
   "outputs": [
    {
     "data": {
      "text/html": [
       "<div>\n",
       "<style scoped>\n",
       "    .dataframe tbody tr th:only-of-type {\n",
       "        vertical-align: middle;\n",
       "    }\n",
       "\n",
       "    .dataframe tbody tr th {\n",
       "        vertical-align: top;\n",
       "    }\n",
       "\n",
       "    .dataframe thead th {\n",
       "        text-align: right;\n",
       "    }\n",
       "</style>\n",
       "<table border=\"1\" class=\"dataframe\">\n",
       "  <thead>\n",
       "    <tr style=\"text-align: right;\">\n",
       "      <th></th>\n",
       "      <th>1. open</th>\n",
       "      <th>2. high</th>\n",
       "      <th>3. low</th>\n",
       "      <th>4. close</th>\n",
       "      <th>5. adjusted close</th>\n",
       "      <th>6. volume</th>\n",
       "      <th>7. dividend amount</th>\n",
       "      <th>8. split coefficient</th>\n",
       "      <th>date_time</th>\n",
       "      <th>day_of_week</th>\n",
       "      <th>adjusted_close_shift</th>\n",
       "      <th>percentage_change</th>\n",
       "      <th>increase</th>\n",
       "      <th>negative</th>\n",
       "      <th>nuetral</th>\n",
       "      <th>positive</th>\n",
       "    </tr>\n",
       "    <tr>\n",
       "      <th>date</th>\n",
       "      <th></th>\n",
       "      <th></th>\n",
       "      <th></th>\n",
       "      <th></th>\n",
       "      <th></th>\n",
       "      <th></th>\n",
       "      <th></th>\n",
       "      <th></th>\n",
       "      <th></th>\n",
       "      <th></th>\n",
       "      <th></th>\n",
       "      <th></th>\n",
       "      <th></th>\n",
       "      <th></th>\n",
       "      <th></th>\n",
       "      <th></th>\n",
       "    </tr>\n",
       "  </thead>\n",
       "  <tbody>\n",
       "    <tr>\n",
       "      <th>2010-01-04</th>\n",
       "      <td>213.43</td>\n",
       "      <td>214.50</td>\n",
       "      <td>212.38</td>\n",
       "      <td>214.01</td>\n",
       "      <td>6.543876</td>\n",
       "      <td>17633200.0</td>\n",
       "      <td>0.0</td>\n",
       "      <td>1.0</td>\n",
       "      <td>2010-01-04</td>\n",
       "      <td>0</td>\n",
       "      <td>6.555190</td>\n",
       "      <td>0.172889</td>\n",
       "      <td>1</td>\n",
       "      <td>0.215179</td>\n",
       "      <td>0.370223</td>\n",
       "      <td>0.414598</td>\n",
       "    </tr>\n",
       "    <tr>\n",
       "      <th>2010-01-05</th>\n",
       "      <td>214.60</td>\n",
       "      <td>215.59</td>\n",
       "      <td>213.25</td>\n",
       "      <td>214.38</td>\n",
       "      <td>6.555190</td>\n",
       "      <td>21496600.0</td>\n",
       "      <td>0.0</td>\n",
       "      <td>1.0</td>\n",
       "      <td>2010-01-05</td>\n",
       "      <td>1</td>\n",
       "      <td>6.450921</td>\n",
       "      <td>-1.590633</td>\n",
       "      <td>0</td>\n",
       "      <td>0.243738</td>\n",
       "      <td>0.529363</td>\n",
       "      <td>0.226900</td>\n",
       "    </tr>\n",
       "    <tr>\n",
       "      <th>2010-01-06</th>\n",
       "      <td>214.38</td>\n",
       "      <td>215.23</td>\n",
       "      <td>210.75</td>\n",
       "      <td>210.97</td>\n",
       "      <td>6.450921</td>\n",
       "      <td>19720000.0</td>\n",
       "      <td>0.0</td>\n",
       "      <td>1.0</td>\n",
       "      <td>2010-01-06</td>\n",
       "      <td>2</td>\n",
       "      <td>6.438996</td>\n",
       "      <td>-0.184860</td>\n",
       "      <td>0</td>\n",
       "      <td>0.077748</td>\n",
       "      <td>0.422044</td>\n",
       "      <td>0.500207</td>\n",
       "    </tr>\n",
       "    <tr>\n",
       "      <th>2010-01-07</th>\n",
       "      <td>211.75</td>\n",
       "      <td>212.00</td>\n",
       "      <td>209.05</td>\n",
       "      <td>210.58</td>\n",
       "      <td>6.438996</td>\n",
       "      <td>17040400.0</td>\n",
       "      <td>0.0</td>\n",
       "      <td>1.0</td>\n",
       "      <td>2010-01-07</td>\n",
       "      <td>3</td>\n",
       "      <td>6.481804</td>\n",
       "      <td>0.664830</td>\n",
       "      <td>1</td>\n",
       "      <td>0.251646</td>\n",
       "      <td>0.076096</td>\n",
       "      <td>0.672258</td>\n",
       "    </tr>\n",
       "    <tr>\n",
       "      <th>2010-01-08</th>\n",
       "      <td>210.30</td>\n",
       "      <td>212.00</td>\n",
       "      <td>209.06</td>\n",
       "      <td>211.98</td>\n",
       "      <td>6.481804</td>\n",
       "      <td>15986100.0</td>\n",
       "      <td>0.0</td>\n",
       "      <td>1.0</td>\n",
       "      <td>2010-01-08</td>\n",
       "      <td>4</td>\n",
       "      <td>6.424624</td>\n",
       "      <td>-0.882159</td>\n",
       "      <td>0</td>\n",
       "      <td>0.227638</td>\n",
       "      <td>0.496481</td>\n",
       "      <td>0.275881</td>\n",
       "    </tr>\n",
       "  </tbody>\n",
       "</table>\n",
       "</div>"
      ],
      "text/plain": [
       "            1. open  2. high  3. low  4. close  5. adjusted close   6. volume  \\\n",
       "date                                                                            \n",
       "2010-01-04  213.43   214.50   212.38  214.01    6.543876           17633200.0   \n",
       "2010-01-05  214.60   215.59   213.25  214.38    6.555190           21496600.0   \n",
       "2010-01-06  214.38   215.23   210.75  210.97    6.450921           19720000.0   \n",
       "2010-01-07  211.75   212.00   209.05  210.58    6.438996           17040400.0   \n",
       "2010-01-08  210.30   212.00   209.06  211.98    6.481804           15986100.0   \n",
       "\n",
       "            7. dividend amount  8. split coefficient  date_time  day_of_week  \\\n",
       "date                                                                           \n",
       "2010-01-04  0.0                 1.0                  2010-01-04  0             \n",
       "2010-01-05  0.0                 1.0                  2010-01-05  1             \n",
       "2010-01-06  0.0                 1.0                  2010-01-06  2             \n",
       "2010-01-07  0.0                 1.0                  2010-01-07  3             \n",
       "2010-01-08  0.0                 1.0                  2010-01-08  4             \n",
       "\n",
       "            adjusted_close_shift  percentage_change  increase  negative  \\\n",
       "date                                                                      \n",
       "2010-01-04  6.555190              0.172889           1         0.215179   \n",
       "2010-01-05  6.450921             -1.590633           0         0.243738   \n",
       "2010-01-06  6.438996             -0.184860           0         0.077748   \n",
       "2010-01-07  6.481804              0.664830           1         0.251646   \n",
       "2010-01-08  6.424624             -0.882159           0         0.227638   \n",
       "\n",
       "             nuetral  positive  \n",
       "date                            \n",
       "2010-01-04  0.370223  0.414598  \n",
       "2010-01-05  0.529363  0.226900  \n",
       "2010-01-06  0.422044  0.500207  \n",
       "2010-01-07  0.076096  0.672258  \n",
       "2010-01-08  0.496481  0.275881  "
      ]
     },
     "execution_count": 59,
     "metadata": {},
     "output_type": "execute_result"
    }
   ],
   "source": [
    "##############df_merge.to_csv(f\"/app/StockPricePredictions/data/alphavantage/time_series_daily_adjusted/{ticker_upper}/{ticker_upper}_WITH_BENZINGA_FINBERT_SA.csv\")\n",
    "df_merge.head()"
   ]
  },
  {
   "cell_type": "code",
   "execution_count": 60,
   "metadata": {},
   "outputs": [],
   "source": [
    "# df_merge = df_merge.sample(frac=1).reset_index(drop=True)"
   ]
  },
  {
   "cell_type": "code",
   "execution_count": 61,
   "metadata": {},
   "outputs": [
    {
     "data": {
      "text/plain": [
       "(3044, 16)"
      ]
     },
     "execution_count": 61,
     "metadata": {},
     "output_type": "execute_result"
    }
   ],
   "source": [
    "df_merge.shape"
   ]
  },
  {
   "cell_type": "code",
   "execution_count": 62,
   "metadata": {},
   "outputs": [],
   "source": [
    "# df_merge[(df_merge[\"negative\"]==0.0) & (df_merge[\"nuetral\"]==0.0) & (df_merge[\"positive\"]==0.0)].shape"
   ]
  },
  {
   "cell_type": "code",
   "execution_count": 63,
   "metadata": {},
   "outputs": [],
   "source": [
    "# df_merge = df_merge[~(df_merge[\"negative\"]==0.0) & ~(df_merge[\"nuetral\"]==0.0) & ~(df_merge[\"positive\"]==0.0)].copy()"
   ]
  },
  {
   "cell_type": "code",
   "execution_count": 64,
   "metadata": {},
   "outputs": [],
   "source": [
    "X = df_merge[[\"negative\", \"nuetral\", \"positive\"]]\n",
    "y = df_merge[\"increase\"]"
   ]
  },
  {
   "cell_type": "code",
   "execution_count": 65,
   "metadata": {},
   "outputs": [
    {
     "data": {
      "text/plain": [
       "date\n",
       "2010-01-04    1\n",
       "2010-01-05    0\n",
       "2010-01-06    0\n",
       "2010-01-07    1\n",
       "2010-01-08    0\n",
       "Name: increase, dtype: int64"
      ]
     },
     "execution_count": 65,
     "metadata": {},
     "output_type": "execute_result"
    }
   ],
   "source": [
    "y.head()"
   ]
  },
  {
   "cell_type": "code",
   "execution_count": null,
   "metadata": {},
   "outputs": [],
   "source": []
  },
  {
   "cell_type": "code",
   "execution_count": 66,
   "metadata": {},
   "outputs": [],
   "source": [
    "SPLIT = int(0.8 * len(df_merge))\n",
    "\n",
    "X_train = X[:SPLIT]\n",
    "X_test = X[SPLIT:]\n",
    "\n",
    "y_train = y[:SPLIT]\n",
    "y_test = y[SPLIT:]\n",
    "\n"
   ]
  },
  {
   "cell_type": "code",
   "execution_count": 67,
   "metadata": {},
   "outputs": [
    {
     "data": {
      "text/html": [
       "<div>\n",
       "<style scoped>\n",
       "    .dataframe tbody tr th:only-of-type {\n",
       "        vertical-align: middle;\n",
       "    }\n",
       "\n",
       "    .dataframe tbody tr th {\n",
       "        vertical-align: top;\n",
       "    }\n",
       "\n",
       "    .dataframe thead th {\n",
       "        text-align: right;\n",
       "    }\n",
       "</style>\n",
       "<table border=\"1\" class=\"dataframe\">\n",
       "  <thead>\n",
       "    <tr style=\"text-align: right;\">\n",
       "      <th></th>\n",
       "      <th>negative</th>\n",
       "      <th>nuetral</th>\n",
       "      <th>positive</th>\n",
       "    </tr>\n",
       "    <tr>\n",
       "      <th>date</th>\n",
       "      <th></th>\n",
       "      <th></th>\n",
       "      <th></th>\n",
       "    </tr>\n",
       "  </thead>\n",
       "  <tbody>\n",
       "    <tr>\n",
       "      <th>2010-01-04</th>\n",
       "      <td>0.215179</td>\n",
       "      <td>0.370223</td>\n",
       "      <td>0.414598</td>\n",
       "    </tr>\n",
       "    <tr>\n",
       "      <th>2010-01-05</th>\n",
       "      <td>0.243738</td>\n",
       "      <td>0.529363</td>\n",
       "      <td>0.226900</td>\n",
       "    </tr>\n",
       "    <tr>\n",
       "      <th>2010-01-06</th>\n",
       "      <td>0.077748</td>\n",
       "      <td>0.422044</td>\n",
       "      <td>0.500207</td>\n",
       "    </tr>\n",
       "    <tr>\n",
       "      <th>2010-01-07</th>\n",
       "      <td>0.251646</td>\n",
       "      <td>0.076096</td>\n",
       "      <td>0.672258</td>\n",
       "    </tr>\n",
       "    <tr>\n",
       "      <th>2010-01-08</th>\n",
       "      <td>0.227638</td>\n",
       "      <td>0.496481</td>\n",
       "      <td>0.275881</td>\n",
       "    </tr>\n",
       "    <tr>\n",
       "      <th>...</th>\n",
       "      <td>...</td>\n",
       "      <td>...</td>\n",
       "      <td>...</td>\n",
       "    </tr>\n",
       "    <tr>\n",
       "      <th>2019-09-23</th>\n",
       "      <td>0.107465</td>\n",
       "      <td>0.571686</td>\n",
       "      <td>0.320848</td>\n",
       "    </tr>\n",
       "    <tr>\n",
       "      <th>2019-09-24</th>\n",
       "      <td>0.138127</td>\n",
       "      <td>0.659392</td>\n",
       "      <td>0.202481</td>\n",
       "    </tr>\n",
       "    <tr>\n",
       "      <th>2019-09-25</th>\n",
       "      <td>0.016325</td>\n",
       "      <td>0.843971</td>\n",
       "      <td>0.139704</td>\n",
       "    </tr>\n",
       "    <tr>\n",
       "      <th>2019-09-26</th>\n",
       "      <td>0.400860</td>\n",
       "      <td>0.417549</td>\n",
       "      <td>0.181590</td>\n",
       "    </tr>\n",
       "    <tr>\n",
       "      <th>2019-09-27</th>\n",
       "      <td>0.010144</td>\n",
       "      <td>0.716913</td>\n",
       "      <td>0.272944</td>\n",
       "    </tr>\n",
       "  </tbody>\n",
       "</table>\n",
       "<p>2435 rows × 3 columns</p>\n",
       "</div>"
      ],
      "text/plain": [
       "            negative   nuetral  positive\n",
       "date                                    \n",
       "2010-01-04  0.215179  0.370223  0.414598\n",
       "2010-01-05  0.243738  0.529363  0.226900\n",
       "2010-01-06  0.077748  0.422044  0.500207\n",
       "2010-01-07  0.251646  0.076096  0.672258\n",
       "2010-01-08  0.227638  0.496481  0.275881\n",
       "...              ...       ...       ...\n",
       "2019-09-23  0.107465  0.571686  0.320848\n",
       "2019-09-24  0.138127  0.659392  0.202481\n",
       "2019-09-25  0.016325  0.843971  0.139704\n",
       "2019-09-26  0.400860  0.417549  0.181590\n",
       "2019-09-27  0.010144  0.716913  0.272944\n",
       "\n",
       "[2435 rows x 3 columns]"
      ]
     },
     "execution_count": 67,
     "metadata": {},
     "output_type": "execute_result"
    }
   ],
   "source": [
    "X_train"
   ]
  },
  {
   "cell_type": "code",
   "execution_count": 68,
   "metadata": {},
   "outputs": [],
   "source": [
    "from sklearn.ensemble import RandomForestClassifier"
   ]
  },
  {
   "cell_type": "code",
   "execution_count": 69,
   "metadata": {},
   "outputs": [
    {
     "data": {
      "text/plain": [
       "RandomForestClassifier(criterion='entropy', n_estimators=200)"
      ]
     },
     "execution_count": 69,
     "metadata": {},
     "output_type": "execute_result"
    }
   ],
   "source": [
    "rfc = RandomForestClassifier(n_estimators=200, criterion=\"entropy\")\n",
    "rfc.fit(X_train, y_train)"
   ]
  },
  {
   "cell_type": "code",
   "execution_count": 70,
   "metadata": {},
   "outputs": [],
   "source": [
    "preds = rfc.predict(X_test)"
   ]
  },
  {
   "cell_type": "code",
   "execution_count": 71,
   "metadata": {},
   "outputs": [],
   "source": [
    "from sklearn.metrics import classification_report, confusion_matrix, accuracy_score"
   ]
  },
  {
   "cell_type": "code",
   "execution_count": 72,
   "metadata": {},
   "outputs": [],
   "source": [
    "matrix = confusion_matrix(y_test, preds)"
   ]
  },
  {
   "cell_type": "code",
   "execution_count": 73,
   "metadata": {},
   "outputs": [
    {
     "data": {
      "text/plain": [
       "array([[148, 136],\n",
       "       [141, 184]])"
      ]
     },
     "execution_count": 73,
     "metadata": {},
     "output_type": "execute_result"
    }
   ],
   "source": [
    "matrix"
   ]
  },
  {
   "cell_type": "code",
   "execution_count": 74,
   "metadata": {},
   "outputs": [],
   "source": [
    "score = accuracy_score(y_test, preds)"
   ]
  },
  {
   "cell_type": "code",
   "execution_count": 75,
   "metadata": {},
   "outputs": [
    {
     "data": {
      "text/plain": [
       "0.5451559934318555"
      ]
     },
     "execution_count": 75,
     "metadata": {},
     "output_type": "execute_result"
    }
   ],
   "source": [
    "score"
   ]
  },
  {
   "cell_type": "code",
   "execution_count": 76,
   "metadata": {},
   "outputs": [
    {
     "name": "stdout",
     "output_type": "stream",
     "text": [
      "              precision    recall  f1-score   support\n",
      "\n",
      "           0       0.51      0.52      0.52       284\n",
      "           1       0.57      0.57      0.57       325\n",
      "\n",
      "    accuracy                           0.55       609\n",
      "   macro avg       0.54      0.54      0.54       609\n",
      "weighted avg       0.55      0.55      0.55       609\n",
      "\n"
     ]
    }
   ],
   "source": [
    "print(classification_report(y_test, preds))\n"
   ]
  },
  {
   "cell_type": "code",
   "execution_count": 77,
   "metadata": {},
   "outputs": [
    {
     "name": "stdout",
     "output_type": "stream",
     "text": [
      "          negative   nuetral  positive  increase\n",
      "negative  1.000000 -0.653451 -0.496630 -0.015334\n",
      "nuetral  -0.653451  1.000000 -0.332498  0.013191\n",
      "positive -0.496630 -0.332498  1.000000  0.003979\n",
      "increase -0.015334  0.013191  0.003979  1.000000\n"
     ]
    }
   ],
   "source": [
    "corr_matrix = df_merge[[\"negative\", \"nuetral\", \"positive\", \"increase\"]].corr()\n",
    "print (corr_matrix)"
   ]
  },
  {
   "cell_type": "code",
   "execution_count": 78,
   "metadata": {},
   "outputs": [],
   "source": [
    "from statsmodels.tsa.stattools import grangercausalitytests"
   ]
  },
  {
   "cell_type": "code",
   "execution_count": 79,
   "metadata": {},
   "outputs": [
    {
     "name": "stdout",
     "output_type": "stream",
     "text": [
      "\n",
      "Granger Causality\n",
      "number of lags (no zero) 1\n",
      "ssr based F test:         F=129.3183, p=0.0000  , df_denom=3040, df_num=1\n",
      "ssr based chi2 test:   chi2=129.4459, p=0.0000  , df=1\n",
      "likelihood ratio test: chi2=126.7684, p=0.0000  , df=1\n",
      "parameter F test:         F=129.3183, p=0.0000  , df_denom=3040, df_num=1\n"
     ]
    },
    {
     "data": {
      "text/plain": [
       "{1: ({'ssr_ftest': (129.3183332091189, 2.246789020777627e-29, 3040.0, 1),\n",
       "   'ssr_chi2test': (129.4459499853121, 5.4171687511900634e-30, 1),\n",
       "   'lrtest': (126.76837505202457, 2.0877134958697827e-29, 1),\n",
       "   'params_ftest': (129.31833320911898, 2.246789020777627e-29, 3040.0, 1.0)},\n",
       "  [<statsmodels.regression.linear_model.RegressionResultsWrapper at 0x7f6f42bc64f0>,\n",
       "   <statsmodels.regression.linear_model.RegressionResultsWrapper at 0x7f6f42d139d0>,\n",
       "   array([[0., 1., 0.]])])}"
      ]
     },
     "execution_count": 79,
     "metadata": {},
     "output_type": "execute_result"
    }
   ],
   "source": [
    "#perform Granger-Causality test\n",
    "grangercausalitytests(df_merge[[\"positive\", \"increase\"]], maxlag=[1])"
   ]
  }
 ],
 "metadata": {
  "interpreter": {
   "hash": "d4d1e4263499bec80672ea0156c357c1ee493ec2b1c70f0acce89fc37c4a6abe"
  },
  "kernelspec": {
   "display_name": "Python 3",
   "language": "python",
   "name": "python3"
  },
  "language_info": {
   "codemirror_mode": {
    "name": "ipython",
    "version": 3
   },
   "file_extension": ".py",
   "mimetype": "text/x-python",
   "name": "python",
   "nbconvert_exporter": "python",
   "pygments_lexer": "ipython3",
   "version": "3.8.10"
  },
  "orig_nbformat": 4
 },
 "nbformat": 4,
 "nbformat_minor": 2
}
