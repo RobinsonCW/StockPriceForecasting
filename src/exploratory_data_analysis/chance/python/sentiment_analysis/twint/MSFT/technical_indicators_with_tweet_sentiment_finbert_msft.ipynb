{
 "cells": [
  {
   "cell_type": "code",
   "execution_count": 79,
   "metadata": {},
   "outputs": [],
   "source": [
    "%matplotlib inline\n",
    "\n",
    "import os\n",
    "import datetime\n",
    "\n",
    "import IPython\n",
    "import IPython.display\n",
    "import matplotlib as mpl\n",
    "import matplotlib.pyplot as plt\n",
    "import numpy as np\n",
    "import pandas as pd\n",
    "import seaborn as sns\n",
    "import tensorflow as tf\n",
    "\n",
    "mpl.rcParams['figure.figsize'] = (8, 6)\n",
    "mpl.rcParams['axes.grid'] = False"
   ]
  },
  {
   "cell_type": "code",
   "execution_count": 80,
   "metadata": {},
   "outputs": [],
   "source": [
    "pd. set_option('display.max_columns', 500)\n",
    "pd.set_option('display.max_colwidth', 0)"
   ]
  },
  {
   "cell_type": "code",
   "execution_count": 81,
   "metadata": {},
   "outputs": [
    {
     "name": "stdout",
     "output_type": "stream",
     "text": [
      "AMZN\n"
     ]
    }
   ],
   "source": [
    "ticker_list = [\"aapl\", \"amzn\", \"msft\"]\n",
    "\n",
    "ticker = ticker_list[1]\n",
    "\n",
    "ticker_upper = ticker.upper()\n",
    "\n",
    "print(ticker_upper)"
   ]
  },
  {
   "cell_type": "code",
   "execution_count": 82,
   "metadata": {},
   "outputs": [],
   "source": [
    "alphavantage_csv_path = f\"/app/StockPricePredictions/data/alphavantage/time_series_daily_adjusted/{ticker_upper}/{ticker_upper}.csv\""
   ]
  },
  {
   "cell_type": "code",
   "execution_count": 83,
   "metadata": {},
   "outputs": [],
   "source": [
    "df = pd.read_csv(alphavantage_csv_path, low_memory=False)\n",
    "df.sort_values(by=[\"date\"], ascending=True, inplace=True)\n",
    "\n",
    "df = df[df[\"date\"]>='2010-01-01']\n",
    "\n",
    "df[\"date_time\"] = pd.to_datetime(df['date'])\n",
    "\n",
    "df[\"day_of_week\"] = df[\"date_time\"].dt.dayofweek\n",
    "\n",
    "df[\"adjusted_close_shift\"] = df[\"5. adjusted close\"].shift(-1)\n",
    "\n",
    "df[\"percentage_change\"] = (df[\"adjusted_close_shift\"] - df[\"5. adjusted close\"]) / df[\"5. adjusted close\"] * 100.0\n",
    "\n",
    "df[\"increase\"] = df[\"percentage_change\"].apply(lambda x: 1 if x > 0 else 0)\n",
    "\n",
    "df.set_index(\"date\", inplace=True)"
   ]
  },
  {
   "cell_type": "code",
   "execution_count": 84,
   "metadata": {},
   "outputs": [
    {
     "data": {
      "text/plain": [
       "3064"
      ]
     },
     "execution_count": 84,
     "metadata": {},
     "output_type": "execute_result"
    }
   ],
   "source": [
    "df.shape[0]"
   ]
  },
  {
   "cell_type": "code",
   "execution_count": 85,
   "metadata": {},
   "outputs": [
    {
     "name": "stdout",
     "output_type": "stream",
     "text": [
      "<class 'pandas.core.frame.DataFrame'>\n",
      "Index: 3064 entries, 2010-01-04 to 2022-03-04\n",
      "Data columns (total 13 columns):\n",
      " #   Column                Non-Null Count  Dtype         \n",
      "---  ------                --------------  -----         \n",
      " 0   1. open               3064 non-null   float64       \n",
      " 1   2. high               3064 non-null   float64       \n",
      " 2   3. low                3064 non-null   float64       \n",
      " 3   4. close              3064 non-null   float64       \n",
      " 4   5. adjusted close     3064 non-null   float64       \n",
      " 5   6. volume             3064 non-null   float64       \n",
      " 6   7. dividend amount    3064 non-null   float64       \n",
      " 7   8. split coefficient  3064 non-null   float64       \n",
      " 8   date_time             3064 non-null   datetime64[ns]\n",
      " 9   day_of_week           3064 non-null   int64         \n",
      " 10  adjusted_close_shift  3063 non-null   float64       \n",
      " 11  percentage_change     3063 non-null   float64       \n",
      " 12  increase              3064 non-null   int64         \n",
      "dtypes: datetime64[ns](1), float64(10), int64(2)\n",
      "memory usage: 335.1+ KB\n"
     ]
    }
   ],
   "source": [
    "df.info()"
   ]
  },
  {
   "cell_type": "code",
   "execution_count": 86,
   "metadata": {},
   "outputs": [
    {
     "data": {
      "text/html": [
       "<div>\n",
       "<style scoped>\n",
       "    .dataframe tbody tr th:only-of-type {\n",
       "        vertical-align: middle;\n",
       "    }\n",
       "\n",
       "    .dataframe tbody tr th {\n",
       "        vertical-align: top;\n",
       "    }\n",
       "\n",
       "    .dataframe thead th {\n",
       "        text-align: right;\n",
       "    }\n",
       "</style>\n",
       "<table border=\"1\" class=\"dataframe\">\n",
       "  <thead>\n",
       "    <tr style=\"text-align: right;\">\n",
       "      <th></th>\n",
       "      <th>1. open</th>\n",
       "      <th>2. high</th>\n",
       "      <th>3. low</th>\n",
       "      <th>4. close</th>\n",
       "      <th>5. adjusted close</th>\n",
       "      <th>6. volume</th>\n",
       "      <th>7. dividend amount</th>\n",
       "      <th>8. split coefficient</th>\n",
       "      <th>date_time</th>\n",
       "      <th>day_of_week</th>\n",
       "      <th>adjusted_close_shift</th>\n",
       "      <th>percentage_change</th>\n",
       "      <th>increase</th>\n",
       "    </tr>\n",
       "    <tr>\n",
       "      <th>date</th>\n",
       "      <th></th>\n",
       "      <th></th>\n",
       "      <th></th>\n",
       "      <th></th>\n",
       "      <th></th>\n",
       "      <th></th>\n",
       "      <th></th>\n",
       "      <th></th>\n",
       "      <th></th>\n",
       "      <th></th>\n",
       "      <th></th>\n",
       "      <th></th>\n",
       "      <th></th>\n",
       "    </tr>\n",
       "  </thead>\n",
       "  <tbody>\n",
       "    <tr>\n",
       "      <th>2022-02-28</th>\n",
       "      <td>3048.50</td>\n",
       "      <td>3089.00</td>\n",
       "      <td>3017.00</td>\n",
       "      <td>3071.26</td>\n",
       "      <td>3071.26</td>\n",
       "      <td>2884171.0</td>\n",
       "      <td>0.0</td>\n",
       "      <td>1.0</td>\n",
       "      <td>2022-02-28</td>\n",
       "      <td>0</td>\n",
       "      <td>3022.84</td>\n",
       "      <td>-1.576552</td>\n",
       "      <td>0</td>\n",
       "    </tr>\n",
       "    <tr>\n",
       "      <th>2022-03-01</th>\n",
       "      <td>3054.65</td>\n",
       "      <td>3081.98</td>\n",
       "      <td>2999.54</td>\n",
       "      <td>3022.84</td>\n",
       "      <td>3022.84</td>\n",
       "      <td>2243679.0</td>\n",
       "      <td>0.0</td>\n",
       "      <td>1.0</td>\n",
       "      <td>2022-03-01</td>\n",
       "      <td>1</td>\n",
       "      <td>3041.05</td>\n",
       "      <td>0.602414</td>\n",
       "      <td>1</td>\n",
       "    </tr>\n",
       "    <tr>\n",
       "      <th>2022-03-02</th>\n",
       "      <td>3016.98</td>\n",
       "      <td>3059.99</td>\n",
       "      <td>2975.00</td>\n",
       "      <td>3041.05</td>\n",
       "      <td>3041.05</td>\n",
       "      <td>2366736.0</td>\n",
       "      <td>0.0</td>\n",
       "      <td>1.0</td>\n",
       "      <td>2022-03-02</td>\n",
       "      <td>2</td>\n",
       "      <td>2957.97</td>\n",
       "      <td>-2.731951</td>\n",
       "      <td>0</td>\n",
       "    </tr>\n",
       "    <tr>\n",
       "      <th>2022-03-03</th>\n",
       "      <td>3070.63</td>\n",
       "      <td>3078.58</td>\n",
       "      <td>2937.12</td>\n",
       "      <td>2957.97</td>\n",
       "      <td>2957.97</td>\n",
       "      <td>3259860.0</td>\n",
       "      <td>0.0</td>\n",
       "      <td>1.0</td>\n",
       "      <td>2022-03-03</td>\n",
       "      <td>3</td>\n",
       "      <td>2912.82</td>\n",
       "      <td>-1.526385</td>\n",
       "      <td>0</td>\n",
       "    </tr>\n",
       "    <tr>\n",
       "      <th>2022-03-04</th>\n",
       "      <td>2943.18</td>\n",
       "      <td>2957.00</td>\n",
       "      <td>2876.14</td>\n",
       "      <td>2912.82</td>\n",
       "      <td>2912.82</td>\n",
       "      <td>3049156.0</td>\n",
       "      <td>0.0</td>\n",
       "      <td>1.0</td>\n",
       "      <td>2022-03-04</td>\n",
       "      <td>4</td>\n",
       "      <td>NaN</td>\n",
       "      <td>NaN</td>\n",
       "      <td>0</td>\n",
       "    </tr>\n",
       "  </tbody>\n",
       "</table>\n",
       "</div>"
      ],
      "text/plain": [
       "            1. open  2. high   3. low  4. close  5. adjusted close  6. volume  \\\n",
       "date                                                                            \n",
       "2022-02-28  3048.50  3089.00  3017.00  3071.26   3071.26            2884171.0   \n",
       "2022-03-01  3054.65  3081.98  2999.54  3022.84   3022.84            2243679.0   \n",
       "2022-03-02  3016.98  3059.99  2975.00  3041.05   3041.05            2366736.0   \n",
       "2022-03-03  3070.63  3078.58  2937.12  2957.97   2957.97            3259860.0   \n",
       "2022-03-04  2943.18  2957.00  2876.14  2912.82   2912.82            3049156.0   \n",
       "\n",
       "            7. dividend amount  8. split coefficient  date_time  day_of_week  \\\n",
       "date                                                                           \n",
       "2022-02-28  0.0                 1.0                  2022-02-28  0             \n",
       "2022-03-01  0.0                 1.0                  2022-03-01  1             \n",
       "2022-03-02  0.0                 1.0                  2022-03-02  2             \n",
       "2022-03-03  0.0                 1.0                  2022-03-03  3             \n",
       "2022-03-04  0.0                 1.0                  2022-03-04  4             \n",
       "\n",
       "            adjusted_close_shift  percentage_change  increase  \n",
       "date                                                           \n",
       "2022-02-28  3022.84              -1.576552           0         \n",
       "2022-03-01  3041.05               0.602414           1         \n",
       "2022-03-02  2957.97              -2.731951           0         \n",
       "2022-03-03  2912.82              -1.526385           0         \n",
       "2022-03-04 NaN                   NaN                 0         "
      ]
     },
     "execution_count": 86,
     "metadata": {},
     "output_type": "execute_result"
    }
   ],
   "source": [
    "df.tail()\n",
    "# df[df.percentage_change == 0]"
   ]
  },
  {
   "cell_type": "code",
   "execution_count": 87,
   "metadata": {},
   "outputs": [
    {
     "data": {
      "text/plain": [
       "1    1623\n",
       "0    1441\n",
       "Name: increase, dtype: int64"
      ]
     },
     "execution_count": 87,
     "metadata": {},
     "output_type": "execute_result"
    }
   ],
   "source": [
    "df.increase.value_counts()"
   ]
  },
  {
   "cell_type": "code",
   "execution_count": 88,
   "metadata": {},
   "outputs": [
    {
     "data": {
      "text/plain": [
       "1    629\n",
       "2    628\n",
       "3    619\n",
       "4    614\n",
       "0    574\n",
       "Name: day_of_week, dtype: int64"
      ]
     },
     "execution_count": 88,
     "metadata": {},
     "output_type": "execute_result"
    }
   ],
   "source": [
    "# The day of the week with Monday=0, Sunday=6.\n",
    "\n",
    "# 5 = Saturday\n",
    "# 6 = Sunday\n",
    "df.day_of_week.value_counts()"
   ]
  },
  {
   "cell_type": "code",
   "execution_count": 89,
   "metadata": {},
   "outputs": [
    {
     "name": "stdout",
     "output_type": "stream",
     "text": [
      "1\n"
     ]
    },
    {
     "data": {
      "text/plain": [
       "'2010-01-05'"
      ]
     },
     "execution_count": 89,
     "metadata": {},
     "output_type": "execute_result"
    }
   ],
   "source": [
    "loc = df.index.get_loc('2010-01-05')\n",
    "loc\n",
    "\n",
    "print(loc)\n",
    "\n",
    "df.iloc[loc][\"date_time\"].strftime(\"%Y-%m-%d\")"
   ]
  },
  {
   "cell_type": "code",
   "execution_count": 90,
   "metadata": {},
   "outputs": [],
   "source": [
    "twint_csv_path = f\"/app/StockPricePredictions/data/alphavantage/time_series_daily_adjusted/{ticker_upper}/{ticker}_finbert_twint_20100101_20220304.csv\""
   ]
  },
  {
   "cell_type": "code",
   "execution_count": 91,
   "metadata": {},
   "outputs": [
    {
     "data": {
      "text/plain": [
       "'/app/StockPricePredictions/data/alphavantage/time_series_daily_adjusted/AMZN/amzn_finbert_twint_20100101_20220304.csv'"
      ]
     },
     "execution_count": 91,
     "metadata": {},
     "output_type": "execute_result"
    }
   ],
   "source": [
    "twint_csv_path"
   ]
  },
  {
   "cell_type": "code",
   "execution_count": 92,
   "metadata": {},
   "outputs": [],
   "source": [
    "df_twint = pd.read_csv(twint_csv_path, low_memory=False, lineterminator='\\n')"
   ]
  },
  {
   "cell_type": "code",
   "execution_count": 93,
   "metadata": {},
   "outputs": [
    {
     "data": {
      "text/html": [
       "<div>\n",
       "<style scoped>\n",
       "    .dataframe tbody tr th:only-of-type {\n",
       "        vertical-align: middle;\n",
       "    }\n",
       "\n",
       "    .dataframe tbody tr th {\n",
       "        vertical-align: top;\n",
       "    }\n",
       "\n",
       "    .dataframe thead th {\n",
       "        text-align: right;\n",
       "    }\n",
       "</style>\n",
       "<table border=\"1\" class=\"dataframe\">\n",
       "  <thead>\n",
       "    <tr style=\"text-align: right;\">\n",
       "      <th></th>\n",
       "      <th>Headline</th>\n",
       "      <th>Stock</th>\n",
       "      <th>Positive</th>\n",
       "      <th>Negative</th>\n",
       "      <th>Neutral</th>\n",
       "    </tr>\n",
       "  </thead>\n",
       "  <tbody>\n",
       "    <tr>\n",
       "      <th>0</th>\n",
       "      <td>Amazon Shoots Back At Apple With Kindle App Store $AMZN  by @fromedome</td>\n",
       "      <td>2010-01-21</td>\n",
       "      <td>0.307876</td>\n",
       "      <td>0.422834</td>\n",
       "      <td>0.269290</td>\n",
       "    </tr>\n",
       "    <tr>\n",
       "      <th>1</th>\n",
       "      <td>The Kindle Market Is \"Too Small\" For iPhone Developers $AMZN</td>\n",
       "      <td>2010-01-24</td>\n",
       "      <td>0.050117</td>\n",
       "      <td>0.100475</td>\n",
       "      <td>0.849408</td>\n",
       "    </tr>\n",
       "    <tr>\n",
       "      <th>2</th>\n",
       "      <td>Amazon Has Sold 3 Million Kindles $AMZN by @jwyarow</td>\n",
       "      <td>2010-01-29</td>\n",
       "      <td>0.055871</td>\n",
       "      <td>0.012929</td>\n",
       "      <td>0.931200</td>\n",
       "    </tr>\n",
       "    <tr>\n",
       "      <th>3</th>\n",
       "      <td>John Scalzi's comments on Amazon #EBook price control gambit    via @LanceWeber $AMZN risks classic #blowback</td>\n",
       "      <td>2010-01-30</td>\n",
       "      <td>0.030953</td>\n",
       "      <td>0.033243</td>\n",
       "      <td>0.935805</td>\n",
       "    </tr>\n",
       "    <tr>\n",
       "      <th>4</th>\n",
       "      <td>The Apple-Amazon eBook War Begins: Amazon Deletes Macmillan Books $AMZN</td>\n",
       "      <td>2010-01-30</td>\n",
       "      <td>0.013072</td>\n",
       "      <td>0.801178</td>\n",
       "      <td>0.185750</td>\n",
       "    </tr>\n",
       "  </tbody>\n",
       "</table>\n",
       "</div>"
      ],
      "text/plain": [
       "                                                                                                        Headline  \\\n",
       "0  Amazon Shoots Back At Apple With Kindle App Store $AMZN  by @fromedome                                          \n",
       "1  The Kindle Market Is \"Too Small\" For iPhone Developers $AMZN                                                    \n",
       "2  Amazon Has Sold 3 Million Kindles $AMZN by @jwyarow                                                             \n",
       "3  John Scalzi's comments on Amazon #EBook price control gambit    via @LanceWeber $AMZN risks classic #blowback   \n",
       "4  The Apple-Amazon eBook War Begins: Amazon Deletes Macmillan Books $AMZN                                         \n",
       "\n",
       "        Stock  Positive  Negative   Neutral  \n",
       "0  2010-01-21  0.307876  0.422834  0.269290  \n",
       "1  2010-01-24  0.050117  0.100475  0.849408  \n",
       "2  2010-01-29  0.055871  0.012929  0.931200  \n",
       "3  2010-01-30  0.030953  0.033243  0.935805  \n",
       "4  2010-01-30  0.013072  0.801178  0.185750  "
      ]
     },
     "execution_count": 93,
     "metadata": {},
     "output_type": "execute_result"
    }
   ],
   "source": [
    "df_twint.head()"
   ]
  },
  {
   "cell_type": "code",
   "execution_count": 94,
   "metadata": {},
   "outputs": [],
   "source": [
    "df_twint['date'] = pd.to_datetime(df_twint['Stock'])"
   ]
  },
  {
   "cell_type": "code",
   "execution_count": 95,
   "metadata": {},
   "outputs": [],
   "source": [
    "df_twint[\"day_of_week\"] = df_twint[\"date\"].dt.dayofweek"
   ]
  },
  {
   "cell_type": "code",
   "execution_count": 96,
   "metadata": {},
   "outputs": [
    {
     "name": "stdout",
     "output_type": "stream",
     "text": [
      "<class 'pandas.core.frame.DataFrame'>\n",
      "RangeIndex: 22512 entries, 0 to 22511\n",
      "Data columns (total 7 columns):\n",
      " #   Column       Non-Null Count  Dtype         \n",
      "---  ------       --------------  -----         \n",
      " 0   Headline     22512 non-null  object        \n",
      " 1   Stock        22512 non-null  object        \n",
      " 2   Positive     22512 non-null  float64       \n",
      " 3   Negative     22512 non-null  float64       \n",
      " 4   Neutral      22512 non-null  float64       \n",
      " 5   date         22512 non-null  datetime64[ns]\n",
      " 6   day_of_week  22512 non-null  int64         \n",
      "dtypes: datetime64[ns](1), float64(3), int64(1), object(2)\n",
      "memory usage: 1.2+ MB\n"
     ]
    }
   ],
   "source": [
    "df_twint.info()"
   ]
  },
  {
   "cell_type": "code",
   "execution_count": 97,
   "metadata": {},
   "outputs": [
    {
     "data": {
      "text/html": [
       "<div>\n",
       "<style scoped>\n",
       "    .dataframe tbody tr th:only-of-type {\n",
       "        vertical-align: middle;\n",
       "    }\n",
       "\n",
       "    .dataframe tbody tr th {\n",
       "        vertical-align: top;\n",
       "    }\n",
       "\n",
       "    .dataframe thead th {\n",
       "        text-align: right;\n",
       "    }\n",
       "</style>\n",
       "<table border=\"1\" class=\"dataframe\">\n",
       "  <thead>\n",
       "    <tr style=\"text-align: right;\">\n",
       "      <th></th>\n",
       "      <th>Headline</th>\n",
       "      <th>Stock</th>\n",
       "      <th>Positive</th>\n",
       "      <th>Negative</th>\n",
       "      <th>Neutral</th>\n",
       "      <th>date</th>\n",
       "      <th>day_of_week</th>\n",
       "    </tr>\n",
       "  </thead>\n",
       "  <tbody>\n",
       "    <tr>\n",
       "      <th>0</th>\n",
       "      <td>Amazon Shoots Back At Apple With Kindle App Store $AMZN  by @fromedome</td>\n",
       "      <td>2010-01-21</td>\n",
       "      <td>0.307876</td>\n",
       "      <td>0.422834</td>\n",
       "      <td>0.26929</td>\n",
       "      <td>2010-01-21</td>\n",
       "      <td>3</td>\n",
       "    </tr>\n",
       "  </tbody>\n",
       "</table>\n",
       "</div>"
      ],
      "text/plain": [
       "                                                                   Headline  \\\n",
       "0  Amazon Shoots Back At Apple With Kindle App Store $AMZN  by @fromedome     \n",
       "\n",
       "        Stock  Positive  Negative  Neutral       date  day_of_week  \n",
       "0  2010-01-21  0.307876  0.422834  0.26929 2010-01-21  3            "
      ]
     },
     "execution_count": 97,
     "metadata": {},
     "output_type": "execute_result"
    }
   ],
   "source": [
    "df_twint.head(1)"
   ]
  },
  {
   "cell_type": "code",
   "execution_count": 98,
   "metadata": {},
   "outputs": [
    {
     "data": {
      "text/plain": [
       "3    4320\n",
       "4    3781\n",
       "1    3685\n",
       "0    3643\n",
       "2    3509\n",
       "6    1904\n",
       "5    1670\n",
       "Name: day_of_week, dtype: int64"
      ]
     },
     "execution_count": 98,
     "metadata": {},
     "output_type": "execute_result"
    }
   ],
   "source": [
    "# The day of the week with Monday=0, Sunday=6.\n",
    "\n",
    "# 5 = Saturday\n",
    "# 6 = Sunday\n",
    "\n",
    "df_twint.day_of_week.value_counts()"
   ]
  },
  {
   "cell_type": "code",
   "execution_count": 99,
   "metadata": {},
   "outputs": [
    {
     "data": {
      "text/html": [
       "<div>\n",
       "<style scoped>\n",
       "    .dataframe tbody tr th:only-of-type {\n",
       "        vertical-align: middle;\n",
       "    }\n",
       "\n",
       "    .dataframe tbody tr th {\n",
       "        vertical-align: top;\n",
       "    }\n",
       "\n",
       "    .dataframe thead th {\n",
       "        text-align: right;\n",
       "    }\n",
       "</style>\n",
       "<table border=\"1\" class=\"dataframe\">\n",
       "  <thead>\n",
       "    <tr style=\"text-align: right;\">\n",
       "      <th></th>\n",
       "      <th>Headline</th>\n",
       "      <th>Stock</th>\n",
       "      <th>Positive</th>\n",
       "      <th>Negative</th>\n",
       "      <th>Neutral</th>\n",
       "      <th>date</th>\n",
       "      <th>day_of_week</th>\n",
       "    </tr>\n",
       "  </thead>\n",
       "  <tbody>\n",
       "    <tr>\n",
       "      <th>0</th>\n",
       "      <td>Amazon Shoots Back At Apple With Kindle App Store $AMZN  by @fromedome</td>\n",
       "      <td>2010-01-21</td>\n",
       "      <td>0.307876</td>\n",
       "      <td>0.422834</td>\n",
       "      <td>0.26929</td>\n",
       "      <td>2010-01-21</td>\n",
       "      <td>3</td>\n",
       "    </tr>\n",
       "  </tbody>\n",
       "</table>\n",
       "</div>"
      ],
      "text/plain": [
       "                                                                   Headline  \\\n",
       "0  Amazon Shoots Back At Apple With Kindle App Store $AMZN  by @fromedome     \n",
       "\n",
       "        Stock  Positive  Negative  Neutral       date  day_of_week  \n",
       "0  2010-01-21  0.307876  0.422834  0.26929 2010-01-21  3            "
      ]
     },
     "execution_count": 99,
     "metadata": {},
     "output_type": "execute_result"
    }
   ],
   "source": [
    "df_twint.head(1)"
   ]
  },
  {
   "cell_type": "code",
   "execution_count": 100,
   "metadata": {},
   "outputs": [],
   "source": [
    "df_twint[\"in_index\"] = df_twint[\"Stock\"].apply(lambda x: True if x in df.index else False)"
   ]
  },
  {
   "cell_type": "code",
   "execution_count": 101,
   "metadata": {},
   "outputs": [
    {
     "data": {
      "text/plain": [
       "6    1904\n",
       "5    1670\n",
       "0    171 \n",
       "4    56  \n",
       "3    45  \n",
       "1    36  \n",
       "2    14  \n",
       "Name: day_of_week, dtype: int64"
      ]
     },
     "execution_count": 101,
     "metadata": {},
     "output_type": "execute_result"
    }
   ],
   "source": [
    "df_twint[df_twint.in_index==False][\"day_of_week\"].value_counts()"
   ]
  },
  {
   "cell_type": "code",
   "execution_count": 102,
   "metadata": {},
   "outputs": [
    {
     "data": {
      "text/plain": [
       "3    4275\n",
       "4    3725\n",
       "1    3649\n",
       "2    3495\n",
       "0    3472\n",
       "Name: day_of_week, dtype: int64"
      ]
     },
     "execution_count": 102,
     "metadata": {},
     "output_type": "execute_result"
    }
   ],
   "source": [
    "df_twint[df_twint.in_index==True][\"day_of_week\"].value_counts()"
   ]
  },
  {
   "cell_type": "code",
   "execution_count": 103,
   "metadata": {},
   "outputs": [
    {
     "data": {
      "text/plain": [
       "0"
      ]
     },
     "execution_count": 103,
     "metadata": {},
     "output_type": "execute_result"
    }
   ],
   "source": [
    "df.index.get_loc('2010-01-04')\n"
   ]
  },
  {
   "cell_type": "code",
   "execution_count": 104,
   "metadata": {},
   "outputs": [],
   "source": [
    "from datetime import date, datetime, timedelta"
   ]
  },
  {
   "cell_type": "code",
   "execution_count": 105,
   "metadata": {},
   "outputs": [
    {
     "name": "stdout",
     "output_type": "stream",
     "text": [
      "2010-01-09 00:00:00\n",
      "2 days, 0:00:00\n"
     ]
    },
    {
     "data": {
      "text/plain": [
       "'2010-01-07'"
      ]
     },
     "execution_count": 105,
     "metadata": {},
     "output_type": "execute_result"
    }
   ],
   "source": [
    "test2 =  '2010-01-09'\n",
    "\n",
    "dtobj1 = datetime.strptime(test2, \"%Y-%m-%d\")\n",
    "\n",
    "print(dtobj1)\n",
    "\n",
    "days = timedelta(2)\n",
    "\n",
    "print(days)\n",
    "\n",
    "\n",
    "\n",
    "dtobj2 = (dtobj1 - days).strftime(\"%Y-%m-%d\")\n",
    "dtobj2"
   ]
  },
  {
   "cell_type": "code",
   "execution_count": 106,
   "metadata": {},
   "outputs": [],
   "source": [
    "def update_date(x):\n",
    "\n",
    "    global ERROR_COUNTER\n",
    "\n",
    "    if x.in_index == True:\n",
    "        return x.Stock\n",
    "    else:\n",
    "        # try:\n",
    "\n",
    "            dt_time = datetime.strptime(x.Stock, \"%Y-%m-%d\")\n",
    "\n",
    "            # loc = df.index.get_loc(date_part)\n",
    "            if x.day_of_week == 6: # Sunday to Thursday\n",
    "                days = timedelta(3)\n",
    "                idx_lookup = (dt_time - days).strftime(\"%Y-%m-%d\")\n",
    "                print(idx_lookup)\n",
    "                try:\n",
    "                    loc = df.index.get_loc(idx_lookup)\n",
    "                    return df.iloc[loc][\"date_time\"].strftime(\"%Y-%m-%d\")\n",
    "                except Exception as e1:\n",
    "                    ERROR_COUNTER += 1\n",
    "                    print(str(e1))\n",
    "                    return x.Stock\n",
    "            if x.day_of_week == 5: # Saturday to Thursday\n",
    "                days = timedelta(2)\n",
    "                idx_lookup = (dt_time - days).strftime(\"%Y-%m-%d\")\n",
    "                print(idx_lookup)\n",
    "                try:\n",
    "                    loc = df.index.get_loc(idx_lookup)\n",
    "                    return df.iloc[loc][\"date_time\"].strftime(\"%Y-%m-%d\")\n",
    "                except Exception as e2:\n",
    "                    ERROR_COUNTER += 1\n",
    "                    print(str(e2))\n",
    "                    return x.Stock\n",
    "            if x.day_of_week == 4: # Friday to Thursday\n",
    "                days = timedelta(1)\n",
    "                idx_lookup = (dt_time - days).strftime(\"%Y-%m-%d\")\n",
    "                print(idx_lookup)\n",
    "                try:\n",
    "                    loc = df.index.get_loc(idx_lookup)\n",
    "                    return df.iloc[loc][\"date_time\"].strftime(\"%Y-%m-%d\")\n",
    "                except Exception as e3:\n",
    "                    ERROR_COUNTER += 1\n",
    "                    print(str(3))\n",
    "                    return x.Stock\n",
    "            if x.day_of_week == 0: # Monday to Thursday\n",
    "                days = timedelta(4)\n",
    "                idx_lookup = (dt_time - days).strftime(\"%Y-%m-%d\")\n",
    "                print(idx_lookup)\n",
    "                try:\n",
    "                    loc = df.index.get_loc(idx_lookup)\n",
    "                    return df.iloc[loc][\"date_time\"].strftime(\"%Y-%m-%d\")\n",
    "                except Exception as e3:\n",
    "                    ERROR_COUNTER += 1\n",
    "                    print(str(e3))\n",
    "                    return x.Stock\n",
    "\n",
    "            else:\n",
    "                return x.Stock\n",
    "\n",
    "        # except Exception as e:\n",
    "        #     ERROR_COUNTER += 1\n",
    "        #     print(str(e))\n",
    "        #     print(x.day_of_week, x.Stock, x.in_index)\n",
    "        #     return x.Stock\n",
    "    # loc = df.index.get_loc('2010-01-01')\n",
    "    # loc\n",
    "\n"
   ]
  },
  {
   "cell_type": "code",
   "execution_count": 107,
   "metadata": {},
   "outputs": [],
   "source": [
    "# The day of the week with Monday=0, Sunday=6.\n",
    "\n",
    "# 5 = Saturday\n",
    "# 6 = Sunday\n",
    "\n",
    "ERROR_COUNTER = 0 \n",
    "\n",
    "df_twint[\"backfill_date\"] = df_twint[\"Stock\"] ## df_twint.apply(update_date, axis=1)\n"
   ]
  },
  {
   "cell_type": "code",
   "execution_count": 108,
   "metadata": {},
   "outputs": [
    {
     "data": {
      "text/html": [
       "<div>\n",
       "<style scoped>\n",
       "    .dataframe tbody tr th:only-of-type {\n",
       "        vertical-align: middle;\n",
       "    }\n",
       "\n",
       "    .dataframe tbody tr th {\n",
       "        vertical-align: top;\n",
       "    }\n",
       "\n",
       "    .dataframe thead th {\n",
       "        text-align: right;\n",
       "    }\n",
       "</style>\n",
       "<table border=\"1\" class=\"dataframe\">\n",
       "  <thead>\n",
       "    <tr style=\"text-align: right;\">\n",
       "      <th></th>\n",
       "      <th>Headline</th>\n",
       "      <th>Stock</th>\n",
       "      <th>Positive</th>\n",
       "      <th>Negative</th>\n",
       "      <th>Neutral</th>\n",
       "      <th>date</th>\n",
       "      <th>day_of_week</th>\n",
       "      <th>in_index</th>\n",
       "      <th>backfill_date</th>\n",
       "    </tr>\n",
       "  </thead>\n",
       "  <tbody>\n",
       "    <tr>\n",
       "      <th>0</th>\n",
       "      <td>Amazon Shoots Back At Apple With Kindle App Store $AMZN  by @fromedome</td>\n",
       "      <td>2010-01-21</td>\n",
       "      <td>0.307876</td>\n",
       "      <td>0.422834</td>\n",
       "      <td>0.269290</td>\n",
       "      <td>2010-01-21</td>\n",
       "      <td>3</td>\n",
       "      <td>True</td>\n",
       "      <td>2010-01-21</td>\n",
       "    </tr>\n",
       "    <tr>\n",
       "      <th>1</th>\n",
       "      <td>The Kindle Market Is \"Too Small\" For iPhone Developers $AMZN</td>\n",
       "      <td>2010-01-24</td>\n",
       "      <td>0.050117</td>\n",
       "      <td>0.100475</td>\n",
       "      <td>0.849408</td>\n",
       "      <td>2010-01-24</td>\n",
       "      <td>6</td>\n",
       "      <td>False</td>\n",
       "      <td>2010-01-24</td>\n",
       "    </tr>\n",
       "    <tr>\n",
       "      <th>2</th>\n",
       "      <td>Amazon Has Sold 3 Million Kindles $AMZN by @jwyarow</td>\n",
       "      <td>2010-01-29</td>\n",
       "      <td>0.055871</td>\n",
       "      <td>0.012929</td>\n",
       "      <td>0.931200</td>\n",
       "      <td>2010-01-29</td>\n",
       "      <td>4</td>\n",
       "      <td>True</td>\n",
       "      <td>2010-01-29</td>\n",
       "    </tr>\n",
       "    <tr>\n",
       "      <th>3</th>\n",
       "      <td>John Scalzi's comments on Amazon #EBook price control gambit    via @LanceWeber $AMZN risks classic #blowback</td>\n",
       "      <td>2010-01-30</td>\n",
       "      <td>0.030953</td>\n",
       "      <td>0.033243</td>\n",
       "      <td>0.935805</td>\n",
       "      <td>2010-01-30</td>\n",
       "      <td>5</td>\n",
       "      <td>False</td>\n",
       "      <td>2010-01-30</td>\n",
       "    </tr>\n",
       "    <tr>\n",
       "      <th>4</th>\n",
       "      <td>The Apple-Amazon eBook War Begins: Amazon Deletes Macmillan Books $AMZN</td>\n",
       "      <td>2010-01-30</td>\n",
       "      <td>0.013072</td>\n",
       "      <td>0.801178</td>\n",
       "      <td>0.185750</td>\n",
       "      <td>2010-01-30</td>\n",
       "      <td>5</td>\n",
       "      <td>False</td>\n",
       "      <td>2010-01-30</td>\n",
       "    </tr>\n",
       "  </tbody>\n",
       "</table>\n",
       "</div>"
      ],
      "text/plain": [
       "                                                                                                        Headline  \\\n",
       "0  Amazon Shoots Back At Apple With Kindle App Store $AMZN  by @fromedome                                          \n",
       "1  The Kindle Market Is \"Too Small\" For iPhone Developers $AMZN                                                    \n",
       "2  Amazon Has Sold 3 Million Kindles $AMZN by @jwyarow                                                             \n",
       "3  John Scalzi's comments on Amazon #EBook price control gambit    via @LanceWeber $AMZN risks classic #blowback   \n",
       "4  The Apple-Amazon eBook War Begins: Amazon Deletes Macmillan Books $AMZN                                         \n",
       "\n",
       "        Stock  Positive  Negative   Neutral       date  day_of_week  in_index  \\\n",
       "0  2010-01-21  0.307876  0.422834  0.269290 2010-01-21  3            True       \n",
       "1  2010-01-24  0.050117  0.100475  0.849408 2010-01-24  6            False      \n",
       "2  2010-01-29  0.055871  0.012929  0.931200 2010-01-29  4            True       \n",
       "3  2010-01-30  0.030953  0.033243  0.935805 2010-01-30  5            False      \n",
       "4  2010-01-30  0.013072  0.801178  0.185750 2010-01-30  5            False      \n",
       "\n",
       "  backfill_date  \n",
       "0  2010-01-21    \n",
       "1  2010-01-24    \n",
       "2  2010-01-29    \n",
       "3  2010-01-30    \n",
       "4  2010-01-30    "
      ]
     },
     "execution_count": 108,
     "metadata": {},
     "output_type": "execute_result"
    }
   ],
   "source": [
    "df_twint.head()"
   ]
  },
  {
   "cell_type": "code",
   "execution_count": 109,
   "metadata": {},
   "outputs": [],
   "source": [
    "df_twint[\"in_index\"] = df_twint[\"backfill_date\"].apply(lambda x: True if x in df.index else False)"
   ]
  },
  {
   "cell_type": "code",
   "execution_count": 110,
   "metadata": {},
   "outputs": [
    {
     "data": {
      "text/plain": [
       "6    1904\n",
       "5    1670\n",
       "0    171 \n",
       "4    56  \n",
       "3    45  \n",
       "1    36  \n",
       "2    14  \n",
       "Name: day_of_week, dtype: int64"
      ]
     },
     "execution_count": 110,
     "metadata": {},
     "output_type": "execute_result"
    }
   ],
   "source": [
    "df_twint[df_twint.in_index==False][\"day_of_week\"].value_counts()"
   ]
  },
  {
   "cell_type": "code",
   "execution_count": 111,
   "metadata": {},
   "outputs": [
    {
     "data": {
      "text/plain": [
       "(18616, 9)"
      ]
     },
     "execution_count": 111,
     "metadata": {},
     "output_type": "execute_result"
    }
   ],
   "source": [
    "df_twint[df_twint.in_index==True].shape"
   ]
  },
  {
   "cell_type": "code",
   "execution_count": 112,
   "metadata": {},
   "outputs": [],
   "source": [
    "# df_benzinga[\"text\"] = df_benzinga[\"title\"] + \" \" + df_benzinga[\"body\"]"
   ]
  },
  {
   "cell_type": "code",
   "execution_count": 113,
   "metadata": {},
   "outputs": [],
   "source": [
    "# df_benzinga['text'] = np.where(df_benzinga[\"text\"], df_benzinga[\"title\"], df_benzinga[\"text\"])"
   ]
  },
  {
   "cell_type": "code",
   "execution_count": 114,
   "metadata": {},
   "outputs": [],
   "source": [
    "# df_twint = df_twint[[\"backfill_date\", \"Positive\", \"Negative\", \"Neutral\", \"Retweets\"]]\n",
    "df_twint = df_twint[[\"backfill_date\", \"Positive\", \"Negative\", \"Neutral\"]]"
   ]
  },
  {
   "cell_type": "code",
   "execution_count": 115,
   "metadata": {},
   "outputs": [
    {
     "name": "stdout",
     "output_type": "stream",
     "text": [
      "<class 'pandas.core.frame.DataFrame'>\n",
      "RangeIndex: 22512 entries, 0 to 22511\n",
      "Data columns (total 4 columns):\n",
      " #   Column         Non-Null Count  Dtype  \n",
      "---  ------         --------------  -----  \n",
      " 0   backfill_date  22512 non-null  object \n",
      " 1   Positive       22512 non-null  float64\n",
      " 2   Negative       22512 non-null  float64\n",
      " 3   Neutral        22512 non-null  float64\n",
      "dtypes: float64(3), object(1)\n",
      "memory usage: 703.6+ KB\n"
     ]
    }
   ],
   "source": [
    "df_twint.info()"
   ]
  },
  {
   "cell_type": "code",
   "execution_count": 116,
   "metadata": {},
   "outputs": [
    {
     "data": {
      "text/html": [
       "<div>\n",
       "<style scoped>\n",
       "    .dataframe tbody tr th:only-of-type {\n",
       "        vertical-align: middle;\n",
       "    }\n",
       "\n",
       "    .dataframe tbody tr th {\n",
       "        vertical-align: top;\n",
       "    }\n",
       "\n",
       "    .dataframe thead th {\n",
       "        text-align: right;\n",
       "    }\n",
       "</style>\n",
       "<table border=\"1\" class=\"dataframe\">\n",
       "  <thead>\n",
       "    <tr style=\"text-align: right;\">\n",
       "      <th></th>\n",
       "      <th>backfill_date</th>\n",
       "      <th>Positive</th>\n",
       "      <th>Negative</th>\n",
       "      <th>Neutral</th>\n",
       "    </tr>\n",
       "  </thead>\n",
       "  <tbody>\n",
       "    <tr>\n",
       "      <th>0</th>\n",
       "      <td>2010-01-21</td>\n",
       "      <td>0.307876</td>\n",
       "      <td>0.422834</td>\n",
       "      <td>0.269290</td>\n",
       "    </tr>\n",
       "    <tr>\n",
       "      <th>1</th>\n",
       "      <td>2010-01-24</td>\n",
       "      <td>0.050117</td>\n",
       "      <td>0.100475</td>\n",
       "      <td>0.849408</td>\n",
       "    </tr>\n",
       "    <tr>\n",
       "      <th>2</th>\n",
       "      <td>2010-01-29</td>\n",
       "      <td>0.055871</td>\n",
       "      <td>0.012929</td>\n",
       "      <td>0.931200</td>\n",
       "    </tr>\n",
       "    <tr>\n",
       "      <th>3</th>\n",
       "      <td>2010-01-30</td>\n",
       "      <td>0.030953</td>\n",
       "      <td>0.033243</td>\n",
       "      <td>0.935805</td>\n",
       "    </tr>\n",
       "    <tr>\n",
       "      <th>4</th>\n",
       "      <td>2010-01-30</td>\n",
       "      <td>0.013072</td>\n",
       "      <td>0.801178</td>\n",
       "      <td>0.185750</td>\n",
       "    </tr>\n",
       "  </tbody>\n",
       "</table>\n",
       "</div>"
      ],
      "text/plain": [
       "  backfill_date  Positive  Negative   Neutral\n",
       "0  2010-01-21    0.307876  0.422834  0.269290\n",
       "1  2010-01-24    0.050117  0.100475  0.849408\n",
       "2  2010-01-29    0.055871  0.012929  0.931200\n",
       "3  2010-01-30    0.030953  0.033243  0.935805\n",
       "4  2010-01-30    0.013072  0.801178  0.185750"
      ]
     },
     "execution_count": 116,
     "metadata": {},
     "output_type": "execute_result"
    }
   ],
   "source": [
    "df_twint.head()"
   ]
  },
  {
   "cell_type": "code",
   "execution_count": 117,
   "metadata": {},
   "outputs": [],
   "source": [
    "df_twint.rename(columns={\"backfill_date\": \"date\"}, inplace=True)"
   ]
  },
  {
   "cell_type": "code",
   "execution_count": 118,
   "metadata": {},
   "outputs": [],
   "source": [
    "def clean_tweet(df):\n",
    "    # replace URLs with a whitespace\n",
    "    df['text'] = df['text'].str.replace('http[s]?://(?:[a-zA-Z]|[0-9]|[$-_@.&+]|[!*\\(\\),]|(?:%[0-9a-fA-F][0-9a-fA-F]))+', ' ')\n",
    "    \n",
    "    return df"
   ]
  },
  {
   "cell_type": "code",
   "execution_count": 119,
   "metadata": {},
   "outputs": [],
   "source": [
    "# df_twint = clean_tweet(df_twint)"
   ]
  },
  {
   "cell_type": "code",
   "execution_count": 120,
   "metadata": {},
   "outputs": [],
   "source": [
    "df_twint.set_index(\"date\", inplace=True)"
   ]
  },
  {
   "cell_type": "code",
   "execution_count": 121,
   "metadata": {},
   "outputs": [
    {
     "data": {
      "text/html": [
       "<div>\n",
       "<style scoped>\n",
       "    .dataframe tbody tr th:only-of-type {\n",
       "        vertical-align: middle;\n",
       "    }\n",
       "\n",
       "    .dataframe tbody tr th {\n",
       "        vertical-align: top;\n",
       "    }\n",
       "\n",
       "    .dataframe thead th {\n",
       "        text-align: right;\n",
       "    }\n",
       "</style>\n",
       "<table border=\"1\" class=\"dataframe\">\n",
       "  <thead>\n",
       "    <tr style=\"text-align: right;\">\n",
       "      <th></th>\n",
       "      <th>Positive</th>\n",
       "      <th>Negative</th>\n",
       "      <th>Neutral</th>\n",
       "    </tr>\n",
       "    <tr>\n",
       "      <th>date</th>\n",
       "      <th></th>\n",
       "      <th></th>\n",
       "      <th></th>\n",
       "    </tr>\n",
       "  </thead>\n",
       "  <tbody>\n",
       "    <tr>\n",
       "      <th>2010-01-21</th>\n",
       "      <td>0.307876</td>\n",
       "      <td>0.422834</td>\n",
       "      <td>0.269290</td>\n",
       "    </tr>\n",
       "    <tr>\n",
       "      <th>2010-01-24</th>\n",
       "      <td>0.050117</td>\n",
       "      <td>0.100475</td>\n",
       "      <td>0.849408</td>\n",
       "    </tr>\n",
       "    <tr>\n",
       "      <th>2010-01-29</th>\n",
       "      <td>0.055871</td>\n",
       "      <td>0.012929</td>\n",
       "      <td>0.931200</td>\n",
       "    </tr>\n",
       "    <tr>\n",
       "      <th>2010-01-30</th>\n",
       "      <td>0.030953</td>\n",
       "      <td>0.033243</td>\n",
       "      <td>0.935805</td>\n",
       "    </tr>\n",
       "    <tr>\n",
       "      <th>2010-01-30</th>\n",
       "      <td>0.013072</td>\n",
       "      <td>0.801178</td>\n",
       "      <td>0.185750</td>\n",
       "    </tr>\n",
       "  </tbody>\n",
       "</table>\n",
       "</div>"
      ],
      "text/plain": [
       "            Positive  Negative   Neutral\n",
       "date                                    \n",
       "2010-01-21  0.307876  0.422834  0.269290\n",
       "2010-01-24  0.050117  0.100475  0.849408\n",
       "2010-01-29  0.055871  0.012929  0.931200\n",
       "2010-01-30  0.030953  0.033243  0.935805\n",
       "2010-01-30  0.013072  0.801178  0.185750"
      ]
     },
     "execution_count": 121,
     "metadata": {},
     "output_type": "execute_result"
    }
   ],
   "source": [
    "df_twint.head()"
   ]
  },
  {
   "cell_type": "code",
   "execution_count": 122,
   "metadata": {},
   "outputs": [],
   "source": [
    "df_twint_duplicated_index = df_twint[df_twint.index.duplicated(keep=False)]"
   ]
  },
  {
   "cell_type": "code",
   "execution_count": 123,
   "metadata": {},
   "outputs": [
    {
     "data": {
      "text/plain": [
       "21899"
      ]
     },
     "execution_count": 123,
     "metadata": {},
     "output_type": "execute_result"
    }
   ],
   "source": [
    "df_twint_duplicated_index.shape[0]"
   ]
  },
  {
   "cell_type": "code",
   "execution_count": 124,
   "metadata": {},
   "outputs": [],
   "source": [
    "df_twint_nonduplicated_index = df_twint[~df_twint.index.duplicated(keep=False)]"
   ]
  },
  {
   "cell_type": "code",
   "execution_count": 125,
   "metadata": {},
   "outputs": [
    {
     "data": {
      "text/plain": [
       "613"
      ]
     },
     "execution_count": 125,
     "metadata": {},
     "output_type": "execute_result"
    }
   ],
   "source": [
    "df_twint_nonduplicated_index.shape[0]"
   ]
  },
  {
   "cell_type": "code",
   "execution_count": 126,
   "metadata": {},
   "outputs": [],
   "source": [
    "# df_twint.groupby('date')['negative'].mean()\n",
    "\n",
    "df_twint_groupby = df_twint.groupby(\"date\").agg(\n",
    "     negative = (\"Negative\", \"mean\"),\n",
    "     nuetral = (\"Neutral\", \"mean\"),\n",
    "     positive = (\"Positive\", \"mean\"),\n",
    "     # retweets = (\"Retweets\", \"sum\"),\n",
    "          # compound = (\"compound\", \"mean\"),\n",
    "          # nlikes = (\"nlikes\", \"sum\"),\n",
    "          # nretweets = (\"nretweets\", \"sum\"),\n",
    "     )\n"
   ]
  },
  {
   "cell_type": "code",
   "execution_count": 127,
   "metadata": {},
   "outputs": [
    {
     "data": {
      "text/html": [
       "<div>\n",
       "<style scoped>\n",
       "    .dataframe tbody tr th:only-of-type {\n",
       "        vertical-align: middle;\n",
       "    }\n",
       "\n",
       "    .dataframe tbody tr th {\n",
       "        vertical-align: top;\n",
       "    }\n",
       "\n",
       "    .dataframe thead th {\n",
       "        text-align: right;\n",
       "    }\n",
       "</style>\n",
       "<table border=\"1\" class=\"dataframe\">\n",
       "  <thead>\n",
       "    <tr style=\"text-align: right;\">\n",
       "      <th></th>\n",
       "      <th>negative</th>\n",
       "      <th>nuetral</th>\n",
       "      <th>positive</th>\n",
       "    </tr>\n",
       "    <tr>\n",
       "      <th>date</th>\n",
       "      <th></th>\n",
       "      <th></th>\n",
       "      <th></th>\n",
       "    </tr>\n",
       "  </thead>\n",
       "  <tbody>\n",
       "    <tr>\n",
       "      <th>2010-01-21</th>\n",
       "      <td>0.422834</td>\n",
       "      <td>0.269290</td>\n",
       "      <td>0.307876</td>\n",
       "    </tr>\n",
       "    <tr>\n",
       "      <th>2010-01-24</th>\n",
       "      <td>0.100475</td>\n",
       "      <td>0.849408</td>\n",
       "      <td>0.050117</td>\n",
       "    </tr>\n",
       "    <tr>\n",
       "      <th>2010-01-29</th>\n",
       "      <td>0.012929</td>\n",
       "      <td>0.931200</td>\n",
       "      <td>0.055871</td>\n",
       "    </tr>\n",
       "    <tr>\n",
       "      <th>2010-01-30</th>\n",
       "      <td>0.417210</td>\n",
       "      <td>0.560777</td>\n",
       "      <td>0.022012</td>\n",
       "    </tr>\n",
       "    <tr>\n",
       "      <th>2010-01-31</th>\n",
       "      <td>0.023506</td>\n",
       "      <td>0.931297</td>\n",
       "      <td>0.045197</td>\n",
       "    </tr>\n",
       "    <tr>\n",
       "      <th>...</th>\n",
       "      <td>...</td>\n",
       "      <td>...</td>\n",
       "      <td>...</td>\n",
       "    </tr>\n",
       "    <tr>\n",
       "      <th>2022-02-28</th>\n",
       "      <td>0.187972</td>\n",
       "      <td>0.719530</td>\n",
       "      <td>0.092498</td>\n",
       "    </tr>\n",
       "    <tr>\n",
       "      <th>2022-03-02</th>\n",
       "      <td>0.217341</td>\n",
       "      <td>0.625996</td>\n",
       "      <td>0.156664</td>\n",
       "    </tr>\n",
       "    <tr>\n",
       "      <th>2022-03-03</th>\n",
       "      <td>0.133639</td>\n",
       "      <td>0.581921</td>\n",
       "      <td>0.284441</td>\n",
       "    </tr>\n",
       "    <tr>\n",
       "      <th>2022-03-04</th>\n",
       "      <td>0.127485</td>\n",
       "      <td>0.811645</td>\n",
       "      <td>0.060871</td>\n",
       "    </tr>\n",
       "    <tr>\n",
       "      <th>2022-03-05</th>\n",
       "      <td>0.151371</td>\n",
       "      <td>0.779362</td>\n",
       "      <td>0.069267</td>\n",
       "    </tr>\n",
       "  </tbody>\n",
       "</table>\n",
       "<p>3289 rows × 3 columns</p>\n",
       "</div>"
      ],
      "text/plain": [
       "            negative   nuetral  positive\n",
       "date                                    \n",
       "2010-01-21  0.422834  0.269290  0.307876\n",
       "2010-01-24  0.100475  0.849408  0.050117\n",
       "2010-01-29  0.012929  0.931200  0.055871\n",
       "2010-01-30  0.417210  0.560777  0.022012\n",
       "2010-01-31  0.023506  0.931297  0.045197\n",
       "...              ...       ...       ...\n",
       "2022-02-28  0.187972  0.719530  0.092498\n",
       "2022-03-02  0.217341  0.625996  0.156664\n",
       "2022-03-03  0.133639  0.581921  0.284441\n",
       "2022-03-04  0.127485  0.811645  0.060871\n",
       "2022-03-05  0.151371  0.779362  0.069267\n",
       "\n",
       "[3289 rows x 3 columns]"
      ]
     },
     "execution_count": 127,
     "metadata": {},
     "output_type": "execute_result"
    }
   ],
   "source": [
    "df_twint_groupby"
   ]
  },
  {
   "cell_type": "code",
   "execution_count": 128,
   "metadata": {},
   "outputs": [],
   "source": [
    "df_merge = pd.merge(df, df_twint_groupby, how=\"inner\", left_index=True, right_index=True)"
   ]
  },
  {
   "cell_type": "code",
   "execution_count": 129,
   "metadata": {},
   "outputs": [
    {
     "data": {
      "text/plain": [
       "(2416, 16)"
      ]
     },
     "execution_count": 129,
     "metadata": {},
     "output_type": "execute_result"
    }
   ],
   "source": [
    "df_merge.shape"
   ]
  },
  {
   "cell_type": "code",
   "execution_count": 130,
   "metadata": {},
   "outputs": [
    {
     "data": {
      "text/plain": [
       "1    505\n",
       "2    495\n",
       "3    481\n",
       "4    476\n",
       "0    459\n",
       "Name: day_of_week, dtype: int64"
      ]
     },
     "execution_count": 130,
     "metadata": {},
     "output_type": "execute_result"
    }
   ],
   "source": [
    "df_merge.day_of_week.value_counts()"
   ]
  },
  {
   "cell_type": "code",
   "execution_count": 131,
   "metadata": {},
   "outputs": [
    {
     "data": {
      "text/html": [
       "<div>\n",
       "<style scoped>\n",
       "    .dataframe tbody tr th:only-of-type {\n",
       "        vertical-align: middle;\n",
       "    }\n",
       "\n",
       "    .dataframe tbody tr th {\n",
       "        vertical-align: top;\n",
       "    }\n",
       "\n",
       "    .dataframe thead th {\n",
       "        text-align: right;\n",
       "    }\n",
       "</style>\n",
       "<table border=\"1\" class=\"dataframe\">\n",
       "  <thead>\n",
       "    <tr style=\"text-align: right;\">\n",
       "      <th></th>\n",
       "      <th>1. open</th>\n",
       "      <th>2. high</th>\n",
       "      <th>3. low</th>\n",
       "      <th>4. close</th>\n",
       "      <th>5. adjusted close</th>\n",
       "      <th>6. volume</th>\n",
       "      <th>7. dividend amount</th>\n",
       "      <th>8. split coefficient</th>\n",
       "      <th>date_time</th>\n",
       "      <th>day_of_week</th>\n",
       "      <th>adjusted_close_shift</th>\n",
       "      <th>percentage_change</th>\n",
       "      <th>increase</th>\n",
       "      <th>negative</th>\n",
       "      <th>nuetral</th>\n",
       "      <th>positive</th>\n",
       "    </tr>\n",
       "    <tr>\n",
       "      <th>date</th>\n",
       "      <th></th>\n",
       "      <th></th>\n",
       "      <th></th>\n",
       "      <th></th>\n",
       "      <th></th>\n",
       "      <th></th>\n",
       "      <th></th>\n",
       "      <th></th>\n",
       "      <th></th>\n",
       "      <th></th>\n",
       "      <th></th>\n",
       "      <th></th>\n",
       "      <th></th>\n",
       "      <th></th>\n",
       "      <th></th>\n",
       "      <th></th>\n",
       "    </tr>\n",
       "  </thead>\n",
       "  <tbody>\n",
       "  </tbody>\n",
       "</table>\n",
       "</div>"
      ],
      "text/plain": [
       "Empty DataFrame\n",
       "Columns: [1. open, 2. high, 3. low, 4. close, 5. adjusted close, 6. volume, 7. dividend amount, 8. split coefficient, date_time, day_of_week, adjusted_close_shift, percentage_change, increase, negative, nuetral, positive]\n",
       "Index: []"
      ]
     },
     "execution_count": 131,
     "metadata": {},
     "output_type": "execute_result"
    }
   ],
   "source": [
    "# df.index\n",
    "# df_text.index\n",
    "df_merge[df_merge[\"5. adjusted close\"].isnull()]\n",
    "# df_merge.shape"
   ]
  },
  {
   "cell_type": "code",
   "execution_count": 132,
   "metadata": {},
   "outputs": [
    {
     "data": {
      "text/plain": [
       "(3064, 13)"
      ]
     },
     "execution_count": 132,
     "metadata": {},
     "output_type": "execute_result"
    }
   ],
   "source": [
    "df.shape"
   ]
  },
  {
   "cell_type": "code",
   "execution_count": 133,
   "metadata": {},
   "outputs": [
    {
     "data": {
      "text/plain": [
       "(2416, 16)"
      ]
     },
     "execution_count": 133,
     "metadata": {},
     "output_type": "execute_result"
    }
   ],
   "source": [
    "df_merge.shape"
   ]
  },
  {
   "cell_type": "code",
   "execution_count": 134,
   "metadata": {},
   "outputs": [
    {
     "data": {
      "text/plain": [
       "(3064, 13)"
      ]
     },
     "execution_count": 134,
     "metadata": {},
     "output_type": "execute_result"
    }
   ],
   "source": [
    "df.shape"
   ]
  },
  {
   "cell_type": "code",
   "execution_count": 135,
   "metadata": {},
   "outputs": [
    {
     "data": {
      "text/html": [
       "<div>\n",
       "<style scoped>\n",
       "    .dataframe tbody tr th:only-of-type {\n",
       "        vertical-align: middle;\n",
       "    }\n",
       "\n",
       "    .dataframe tbody tr th {\n",
       "        vertical-align: top;\n",
       "    }\n",
       "\n",
       "    .dataframe thead th {\n",
       "        text-align: right;\n",
       "    }\n",
       "</style>\n",
       "<table border=\"1\" class=\"dataframe\">\n",
       "  <thead>\n",
       "    <tr style=\"text-align: right;\">\n",
       "      <th></th>\n",
       "      <th>1. open</th>\n",
       "      <th>2. high</th>\n",
       "      <th>3. low</th>\n",
       "      <th>4. close</th>\n",
       "      <th>5. adjusted close</th>\n",
       "      <th>6. volume</th>\n",
       "      <th>7. dividend amount</th>\n",
       "      <th>8. split coefficient</th>\n",
       "      <th>date_time</th>\n",
       "      <th>day_of_week</th>\n",
       "      <th>adjusted_close_shift</th>\n",
       "      <th>percentage_change</th>\n",
       "      <th>increase</th>\n",
       "      <th>negative</th>\n",
       "      <th>nuetral</th>\n",
       "      <th>positive</th>\n",
       "    </tr>\n",
       "    <tr>\n",
       "      <th>date</th>\n",
       "      <th></th>\n",
       "      <th></th>\n",
       "      <th></th>\n",
       "      <th></th>\n",
       "      <th></th>\n",
       "      <th></th>\n",
       "      <th></th>\n",
       "      <th></th>\n",
       "      <th></th>\n",
       "      <th></th>\n",
       "      <th></th>\n",
       "      <th></th>\n",
       "      <th></th>\n",
       "      <th></th>\n",
       "      <th></th>\n",
       "      <th></th>\n",
       "    </tr>\n",
       "  </thead>\n",
       "  <tbody>\n",
       "  </tbody>\n",
       "</table>\n",
       "</div>"
      ],
      "text/plain": [
       "Empty DataFrame\n",
       "Columns: [1. open, 2. high, 3. low, 4. close, 5. adjusted close, 6. volume, 7. dividend amount, 8. split coefficient, date_time, day_of_week, adjusted_close_shift, percentage_change, increase, negative, nuetral, positive]\n",
       "Index: []"
      ]
     },
     "execution_count": 135,
     "metadata": {},
     "output_type": "execute_result"
    }
   ],
   "source": [
    "df_merge[df_merge[\"negative\"].isnull()]"
   ]
  },
  {
   "cell_type": "code",
   "execution_count": 136,
   "metadata": {},
   "outputs": [],
   "source": [
    "# df_merge.fillna(method=\"ffill\", inplace=True)"
   ]
  },
  {
   "cell_type": "code",
   "execution_count": 137,
   "metadata": {},
   "outputs": [
    {
     "data": {
      "text/html": [
       "<div>\n",
       "<style scoped>\n",
       "    .dataframe tbody tr th:only-of-type {\n",
       "        vertical-align: middle;\n",
       "    }\n",
       "\n",
       "    .dataframe tbody tr th {\n",
       "        vertical-align: top;\n",
       "    }\n",
       "\n",
       "    .dataframe thead th {\n",
       "        text-align: right;\n",
       "    }\n",
       "</style>\n",
       "<table border=\"1\" class=\"dataframe\">\n",
       "  <thead>\n",
       "    <tr style=\"text-align: right;\">\n",
       "      <th></th>\n",
       "      <th>1. open</th>\n",
       "      <th>2. high</th>\n",
       "      <th>3. low</th>\n",
       "      <th>4. close</th>\n",
       "      <th>5. adjusted close</th>\n",
       "      <th>6. volume</th>\n",
       "      <th>7. dividend amount</th>\n",
       "      <th>8. split coefficient</th>\n",
       "      <th>date_time</th>\n",
       "      <th>day_of_week</th>\n",
       "      <th>adjusted_close_shift</th>\n",
       "      <th>percentage_change</th>\n",
       "      <th>increase</th>\n",
       "      <th>negative</th>\n",
       "      <th>nuetral</th>\n",
       "      <th>positive</th>\n",
       "    </tr>\n",
       "    <tr>\n",
       "      <th>date</th>\n",
       "      <th></th>\n",
       "      <th></th>\n",
       "      <th></th>\n",
       "      <th></th>\n",
       "      <th></th>\n",
       "      <th></th>\n",
       "      <th></th>\n",
       "      <th></th>\n",
       "      <th></th>\n",
       "      <th></th>\n",
       "      <th></th>\n",
       "      <th></th>\n",
       "      <th></th>\n",
       "      <th></th>\n",
       "      <th></th>\n",
       "      <th></th>\n",
       "    </tr>\n",
       "  </thead>\n",
       "  <tbody>\n",
       "  </tbody>\n",
       "</table>\n",
       "</div>"
      ],
      "text/plain": [
       "Empty DataFrame\n",
       "Columns: [1. open, 2. high, 3. low, 4. close, 5. adjusted close, 6. volume, 7. dividend amount, 8. split coefficient, date_time, day_of_week, adjusted_close_shift, percentage_change, increase, negative, nuetral, positive]\n",
       "Index: []"
      ]
     },
     "execution_count": 137,
     "metadata": {},
     "output_type": "execute_result"
    }
   ],
   "source": [
    "df_merge[df_merge.negative.isnull()]"
   ]
  },
  {
   "cell_type": "code",
   "execution_count": 138,
   "metadata": {},
   "outputs": [],
   "source": [
    " #df_merge.fillna(0.0, inplace=True)"
   ]
  },
  {
   "cell_type": "code",
   "execution_count": 139,
   "metadata": {},
   "outputs": [
    {
     "data": {
      "text/html": [
       "<div>\n",
       "<style scoped>\n",
       "    .dataframe tbody tr th:only-of-type {\n",
       "        vertical-align: middle;\n",
       "    }\n",
       "\n",
       "    .dataframe tbody tr th {\n",
       "        vertical-align: top;\n",
       "    }\n",
       "\n",
       "    .dataframe thead th {\n",
       "        text-align: right;\n",
       "    }\n",
       "</style>\n",
       "<table border=\"1\" class=\"dataframe\">\n",
       "  <thead>\n",
       "    <tr style=\"text-align: right;\">\n",
       "      <th></th>\n",
       "      <th>1. open</th>\n",
       "      <th>2. high</th>\n",
       "      <th>3. low</th>\n",
       "      <th>4. close</th>\n",
       "      <th>5. adjusted close</th>\n",
       "      <th>6. volume</th>\n",
       "      <th>7. dividend amount</th>\n",
       "      <th>8. split coefficient</th>\n",
       "      <th>date_time</th>\n",
       "      <th>day_of_week</th>\n",
       "      <th>adjusted_close_shift</th>\n",
       "      <th>percentage_change</th>\n",
       "      <th>increase</th>\n",
       "      <th>negative</th>\n",
       "      <th>nuetral</th>\n",
       "      <th>positive</th>\n",
       "    </tr>\n",
       "    <tr>\n",
       "      <th>date</th>\n",
       "      <th></th>\n",
       "      <th></th>\n",
       "      <th></th>\n",
       "      <th></th>\n",
       "      <th></th>\n",
       "      <th></th>\n",
       "      <th></th>\n",
       "      <th></th>\n",
       "      <th></th>\n",
       "      <th></th>\n",
       "      <th></th>\n",
       "      <th></th>\n",
       "      <th></th>\n",
       "      <th></th>\n",
       "      <th></th>\n",
       "      <th></th>\n",
       "    </tr>\n",
       "  </thead>\n",
       "  <tbody>\n",
       "    <tr>\n",
       "      <th>2010-01-21</th>\n",
       "      <td>127.26</td>\n",
       "      <td>128.1500</td>\n",
       "      <td>125.00</td>\n",
       "      <td>126.62</td>\n",
       "      <td>126.62</td>\n",
       "      <td>9970600.0</td>\n",
       "      <td>0.0</td>\n",
       "      <td>1.0</td>\n",
       "      <td>2010-01-21</td>\n",
       "      <td>3</td>\n",
       "      <td>121.43</td>\n",
       "      <td>-4.098879</td>\n",
       "      <td>0</td>\n",
       "      <td>0.422834</td>\n",
       "      <td>0.269290</td>\n",
       "      <td>0.307876</td>\n",
       "    </tr>\n",
       "    <tr>\n",
       "      <th>2010-01-29</th>\n",
       "      <td>129.77</td>\n",
       "      <td>131.8499</td>\n",
       "      <td>124.14</td>\n",
       "      <td>125.41</td>\n",
       "      <td>125.41</td>\n",
       "      <td>29471300.0</td>\n",
       "      <td>0.0</td>\n",
       "      <td>1.0</td>\n",
       "      <td>2010-01-29</td>\n",
       "      <td>4</td>\n",
       "      <td>118.87</td>\n",
       "      <td>-5.214895</td>\n",
       "      <td>0</td>\n",
       "      <td>0.012929</td>\n",
       "      <td>0.931200</td>\n",
       "      <td>0.055871</td>\n",
       "    </tr>\n",
       "    <tr>\n",
       "      <th>2010-02-03</th>\n",
       "      <td>117.12</td>\n",
       "      <td>119.6100</td>\n",
       "      <td>116.56</td>\n",
       "      <td>119.10</td>\n",
       "      <td>119.10</td>\n",
       "      <td>12405900.0</td>\n",
       "      <td>0.0</td>\n",
       "      <td>1.0</td>\n",
       "      <td>2010-02-03</td>\n",
       "      <td>2</td>\n",
       "      <td>115.94</td>\n",
       "      <td>-2.653233</td>\n",
       "      <td>0</td>\n",
       "      <td>0.015519</td>\n",
       "      <td>0.927073</td>\n",
       "      <td>0.057408</td>\n",
       "    </tr>\n",
       "    <tr>\n",
       "      <th>2010-03-18</th>\n",
       "      <td>131.02</td>\n",
       "      <td>132.8500</td>\n",
       "      <td>130.44</td>\n",
       "      <td>132.76</td>\n",
       "      <td>132.76</td>\n",
       "      <td>5021300.0</td>\n",
       "      <td>0.0</td>\n",
       "      <td>1.0</td>\n",
       "      <td>2010-03-18</td>\n",
       "      <td>3</td>\n",
       "      <td>130.35</td>\n",
       "      <td>-1.815306</td>\n",
       "      <td>0</td>\n",
       "      <td>0.114318</td>\n",
       "      <td>0.845012</td>\n",
       "      <td>0.040670</td>\n",
       "    </tr>\n",
       "    <tr>\n",
       "      <th>2010-03-19</th>\n",
       "      <td>133.71</td>\n",
       "      <td>133.7100</td>\n",
       "      <td>129.66</td>\n",
       "      <td>130.35</td>\n",
       "      <td>130.35</td>\n",
       "      <td>8905000.0</td>\n",
       "      <td>0.0</td>\n",
       "      <td>1.0</td>\n",
       "      <td>2010-03-19</td>\n",
       "      <td>4</td>\n",
       "      <td>130.47</td>\n",
       "      <td>0.092060</td>\n",
       "      <td>1</td>\n",
       "      <td>0.313174</td>\n",
       "      <td>0.671043</td>\n",
       "      <td>0.015783</td>\n",
       "    </tr>\n",
       "  </tbody>\n",
       "</table>\n",
       "</div>"
      ],
      "text/plain": [
       "            1. open   2. high  3. low  4. close  5. adjusted close  \\\n",
       "date                                                                 \n",
       "2010-01-21  127.26   128.1500  125.00  126.62    126.62              \n",
       "2010-01-29  129.77   131.8499  124.14  125.41    125.41              \n",
       "2010-02-03  117.12   119.6100  116.56  119.10    119.10              \n",
       "2010-03-18  131.02   132.8500  130.44  132.76    132.76              \n",
       "2010-03-19  133.71   133.7100  129.66  130.35    130.35              \n",
       "\n",
       "             6. volume  7. dividend amount  8. split coefficient  date_time  \\\n",
       "date                                                                          \n",
       "2010-01-21  9970600.0   0.0                 1.0                  2010-01-21   \n",
       "2010-01-29  29471300.0  0.0                 1.0                  2010-01-29   \n",
       "2010-02-03  12405900.0  0.0                 1.0                  2010-02-03   \n",
       "2010-03-18  5021300.0   0.0                 1.0                  2010-03-18   \n",
       "2010-03-19  8905000.0   0.0                 1.0                  2010-03-19   \n",
       "\n",
       "            day_of_week  adjusted_close_shift  percentage_change  increase  \\\n",
       "date                                                                         \n",
       "2010-01-21  3            121.43               -4.098879           0          \n",
       "2010-01-29  4            118.87               -5.214895           0          \n",
       "2010-02-03  2            115.94               -2.653233           0          \n",
       "2010-03-18  3            130.35               -1.815306           0          \n",
       "2010-03-19  4            130.47                0.092060           1          \n",
       "\n",
       "            negative   nuetral  positive  \n",
       "date                                      \n",
       "2010-01-21  0.422834  0.269290  0.307876  \n",
       "2010-01-29  0.012929  0.931200  0.055871  \n",
       "2010-02-03  0.015519  0.927073  0.057408  \n",
       "2010-03-18  0.114318  0.845012  0.040670  \n",
       "2010-03-19  0.313174  0.671043  0.015783  "
      ]
     },
     "execution_count": 139,
     "metadata": {},
     "output_type": "execute_result"
    }
   ],
   "source": [
    "# df_merge.to_csv(f\"/app/StockPricePredictions/data/alphavantage/time_series_daily_adjusted/{ticker_upper}/{ticker_upper}_WITH_TWINT_FINBERT_SA.csv\")\n",
    "df_merge.head()"
   ]
  },
  {
   "cell_type": "code",
   "execution_count": 140,
   "metadata": {},
   "outputs": [],
   "source": [
    "# df_merge = df_merge.sample(frac=1).reset_index(drop=True)"
   ]
  },
  {
   "cell_type": "code",
   "execution_count": 141,
   "metadata": {},
   "outputs": [],
   "source": [
    "# X = df_merge[[\"negative\", \"nuetral\", \"positive\", \"retweets\"]]\n",
    "X = df_merge[[\"negative\", \"nuetral\", \"positive\"]]\n",
    "y = df_merge[\"increase\"]"
   ]
  },
  {
   "cell_type": "code",
   "execution_count": 142,
   "metadata": {},
   "outputs": [
    {
     "data": {
      "text/plain": [
       "date\n",
       "2010-01-21    0\n",
       "2010-01-29    0\n",
       "2010-02-03    0\n",
       "2010-03-18    0\n",
       "2010-03-19    1\n",
       "Name: increase, dtype: int64"
      ]
     },
     "execution_count": 142,
     "metadata": {},
     "output_type": "execute_result"
    }
   ],
   "source": [
    "y.head()"
   ]
  },
  {
   "cell_type": "code",
   "execution_count": null,
   "metadata": {},
   "outputs": [],
   "source": []
  },
  {
   "cell_type": "code",
   "execution_count": 143,
   "metadata": {},
   "outputs": [],
   "source": [
    "SPLIT = int(0.8 * len(df_merge))\n",
    "\n",
    "X_train = X[:SPLIT]\n",
    "X_test = X[SPLIT:]\n",
    "\n",
    "y_train = y[:SPLIT]\n",
    "y_test = y[SPLIT:]\n",
    "\n"
   ]
  },
  {
   "cell_type": "code",
   "execution_count": 144,
   "metadata": {},
   "outputs": [
    {
     "data": {
      "text/html": [
       "<div>\n",
       "<style scoped>\n",
       "    .dataframe tbody tr th:only-of-type {\n",
       "        vertical-align: middle;\n",
       "    }\n",
       "\n",
       "    .dataframe tbody tr th {\n",
       "        vertical-align: top;\n",
       "    }\n",
       "\n",
       "    .dataframe thead th {\n",
       "        text-align: right;\n",
       "    }\n",
       "</style>\n",
       "<table border=\"1\" class=\"dataframe\">\n",
       "  <thead>\n",
       "    <tr style=\"text-align: right;\">\n",
       "      <th></th>\n",
       "      <th>negative</th>\n",
       "      <th>nuetral</th>\n",
       "      <th>positive</th>\n",
       "    </tr>\n",
       "    <tr>\n",
       "      <th>date</th>\n",
       "      <th></th>\n",
       "      <th></th>\n",
       "      <th></th>\n",
       "    </tr>\n",
       "  </thead>\n",
       "  <tbody>\n",
       "    <tr>\n",
       "      <th>2010-01-21</th>\n",
       "      <td>0.422834</td>\n",
       "      <td>0.269290</td>\n",
       "      <td>0.307876</td>\n",
       "    </tr>\n",
       "    <tr>\n",
       "      <th>2010-01-29</th>\n",
       "      <td>0.012929</td>\n",
       "      <td>0.931200</td>\n",
       "      <td>0.055871</td>\n",
       "    </tr>\n",
       "    <tr>\n",
       "      <th>2010-02-03</th>\n",
       "      <td>0.015519</td>\n",
       "      <td>0.927073</td>\n",
       "      <td>0.057408</td>\n",
       "    </tr>\n",
       "    <tr>\n",
       "      <th>2010-03-18</th>\n",
       "      <td>0.114318</td>\n",
       "      <td>0.845012</td>\n",
       "      <td>0.040670</td>\n",
       "    </tr>\n",
       "    <tr>\n",
       "      <th>2010-03-19</th>\n",
       "      <td>0.313174</td>\n",
       "      <td>0.671043</td>\n",
       "      <td>0.015783</td>\n",
       "    </tr>\n",
       "    <tr>\n",
       "      <th>...</th>\n",
       "      <td>...</td>\n",
       "      <td>...</td>\n",
       "      <td>...</td>\n",
       "    </tr>\n",
       "    <tr>\n",
       "      <th>2020-02-25</th>\n",
       "      <td>0.097425</td>\n",
       "      <td>0.795123</td>\n",
       "      <td>0.107452</td>\n",
       "    </tr>\n",
       "    <tr>\n",
       "      <th>2020-02-26</th>\n",
       "      <td>0.060994</td>\n",
       "      <td>0.802756</td>\n",
       "      <td>0.136250</td>\n",
       "    </tr>\n",
       "    <tr>\n",
       "      <th>2020-02-27</th>\n",
       "      <td>0.025238</td>\n",
       "      <td>0.729714</td>\n",
       "      <td>0.245048</td>\n",
       "    </tr>\n",
       "    <tr>\n",
       "      <th>2020-02-28</th>\n",
       "      <td>0.135961</td>\n",
       "      <td>0.726011</td>\n",
       "      <td>0.138027</td>\n",
       "    </tr>\n",
       "    <tr>\n",
       "      <th>2020-03-02</th>\n",
       "      <td>0.029150</td>\n",
       "      <td>0.776846</td>\n",
       "      <td>0.194004</td>\n",
       "    </tr>\n",
       "  </tbody>\n",
       "</table>\n",
       "<p>1932 rows × 3 columns</p>\n",
       "</div>"
      ],
      "text/plain": [
       "            negative   nuetral  positive\n",
       "date                                    \n",
       "2010-01-21  0.422834  0.269290  0.307876\n",
       "2010-01-29  0.012929  0.931200  0.055871\n",
       "2010-02-03  0.015519  0.927073  0.057408\n",
       "2010-03-18  0.114318  0.845012  0.040670\n",
       "2010-03-19  0.313174  0.671043  0.015783\n",
       "...              ...       ...       ...\n",
       "2020-02-25  0.097425  0.795123  0.107452\n",
       "2020-02-26  0.060994  0.802756  0.136250\n",
       "2020-02-27  0.025238  0.729714  0.245048\n",
       "2020-02-28  0.135961  0.726011  0.138027\n",
       "2020-03-02  0.029150  0.776846  0.194004\n",
       "\n",
       "[1932 rows x 3 columns]"
      ]
     },
     "execution_count": 144,
     "metadata": {},
     "output_type": "execute_result"
    }
   ],
   "source": [
    "X_train"
   ]
  },
  {
   "cell_type": "code",
   "execution_count": 145,
   "metadata": {},
   "outputs": [],
   "source": [
    "from sklearn.ensemble import RandomForestClassifier"
   ]
  },
  {
   "cell_type": "code",
   "execution_count": 146,
   "metadata": {},
   "outputs": [
    {
     "data": {
      "text/plain": [
       "RandomForestClassifier(criterion='entropy', n_estimators=200)"
      ]
     },
     "execution_count": 146,
     "metadata": {},
     "output_type": "execute_result"
    }
   ],
   "source": [
    "rfc = RandomForestClassifier(n_estimators=200, criterion=\"entropy\")\n",
    "rfc.fit(X_train, y_train)"
   ]
  },
  {
   "cell_type": "code",
   "execution_count": 147,
   "metadata": {},
   "outputs": [],
   "source": [
    "preds = rfc.predict(X_test)"
   ]
  },
  {
   "cell_type": "code",
   "execution_count": 148,
   "metadata": {},
   "outputs": [],
   "source": [
    "from sklearn.metrics import classification_report, confusion_matrix, accuracy_score"
   ]
  },
  {
   "cell_type": "code",
   "execution_count": 149,
   "metadata": {},
   "outputs": [],
   "source": [
    "matrix = confusion_matrix(y_test, preds)"
   ]
  },
  {
   "cell_type": "code",
   "execution_count": 150,
   "metadata": {},
   "outputs": [
    {
     "data": {
      "text/plain": [
       "array([[122, 106],\n",
       "       [128, 128]])"
      ]
     },
     "execution_count": 150,
     "metadata": {},
     "output_type": "execute_result"
    }
   ],
   "source": [
    "matrix"
   ]
  },
  {
   "cell_type": "code",
   "execution_count": 151,
   "metadata": {},
   "outputs": [],
   "source": [
    "score = accuracy_score(y_test, preds)"
   ]
  },
  {
   "cell_type": "code",
   "execution_count": 152,
   "metadata": {},
   "outputs": [
    {
     "data": {
      "text/plain": [
       "0.5165289256198347"
      ]
     },
     "execution_count": 152,
     "metadata": {},
     "output_type": "execute_result"
    }
   ],
   "source": [
    "score"
   ]
  },
  {
   "cell_type": "code",
   "execution_count": 153,
   "metadata": {},
   "outputs": [
    {
     "name": "stdout",
     "output_type": "stream",
     "text": [
      "              precision    recall  f1-score   support\n",
      "\n",
      "           0       0.49      0.54      0.51       228\n",
      "           1       0.55      0.50      0.52       256\n",
      "\n",
      "    accuracy                           0.52       484\n",
      "   macro avg       0.52      0.52      0.52       484\n",
      "weighted avg       0.52      0.52      0.52       484\n",
      "\n"
     ]
    }
   ],
   "source": [
    "print(classification_report(y_test, preds))\n"
   ]
  },
  {
   "cell_type": "code",
   "execution_count": 154,
   "metadata": {},
   "outputs": [
    {
     "name": "stdout",
     "output_type": "stream",
     "text": [
      "          negative   nuetral  positive  increase\n",
      "negative  1.000000 -0.632322 -0.244630 -0.017452\n",
      "nuetral  -0.632322  1.000000 -0.596483  0.020993\n",
      "positive -0.244630 -0.596483  1.000000 -0.008193\n",
      "increase -0.017452  0.020993 -0.008193  1.000000\n"
     ]
    }
   ],
   "source": [
    "# corr_matrix = df_merge[[\"negative\", \"nuetral\", \"positive\", \"retweets\", \"increase\"]].corr()\n",
    "corr_matrix = df_merge[[\"negative\", \"nuetral\", \"positive\", \"increase\"]].corr()\n",
    "print (corr_matrix)"
   ]
  },
  {
   "cell_type": "code",
   "execution_count": 155,
   "metadata": {},
   "outputs": [],
   "source": [
    "from statsmodels.tsa.stattools import grangercausalitytests"
   ]
  },
  {
   "cell_type": "code",
   "execution_count": 156,
   "metadata": {},
   "outputs": [
    {
     "name": "stdout",
     "output_type": "stream",
     "text": [
      "\n",
      "Granger Causality\n",
      "number of lags (no zero) 63\n",
      "ssr based F test:         F=1.3124  , p=0.0519  , df_denom=2226, df_num=63\n",
      "ssr based chi2 test:   chi2=87.3961 , p=0.0227  , df=63\n",
      "likelihood ratio test: chi2=85.8122 , p=0.0296  , df=63\n",
      "parameter F test:         F=1.3124  , p=0.0519  , df_denom=2226, df_num=63\n"
     ]
    },
    {
     "data": {
      "text/plain": [
       "{63: ({'ssr_ftest': (1.3123658671266663, 0.05188788193354628, 2226.0, 63),\n",
       "   'ssr_chi2test': (87.39613826459563, 0.02271176439405267, 63),\n",
       "   'lrtest': (85.81218791001083, 0.02962355996978053, 63),\n",
       "   'params_ftest': (1.3123658671266691, 0.05188788193354628, 2226.0, 63.0)},\n",
       "  [<statsmodels.regression.linear_model.RegressionResultsWrapper at 0x7fc2970634f0>,\n",
       "   <statsmodels.regression.linear_model.RegressionResultsWrapper at 0x7fc297063040>,\n",
       "   array([[0., 0., 0., ..., 0., 0., 0.],\n",
       "          [0., 0., 0., ..., 0., 0., 0.],\n",
       "          [0., 0., 0., ..., 0., 0., 0.],\n",
       "          ...,\n",
       "          [0., 0., 0., ..., 0., 0., 0.],\n",
       "          [0., 0., 0., ..., 1., 0., 0.],\n",
       "          [0., 0., 0., ..., 0., 1., 0.]])])}"
      ]
     },
     "execution_count": 156,
     "metadata": {},
     "output_type": "execute_result"
    }
   ],
   "source": [
    "#perform Granger-Causality test\n",
    "grangercausalitytests(df_merge[[\"positive\", \"increase\"]], maxlag=[63])"
   ]
  }
 ],
 "metadata": {
  "kernelspec": {
   "display_name": "Python 3",
   "language": "python",
   "name": "python3"
  },
  "orig_nbformat": 4
 },
 "nbformat": 4,
 "nbformat_minor": 2
}
