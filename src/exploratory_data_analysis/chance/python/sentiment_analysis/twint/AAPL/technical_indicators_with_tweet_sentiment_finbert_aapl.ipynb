{
 "cells": [
  {
   "cell_type": "code",
   "execution_count": 1,
   "metadata": {},
   "outputs": [
    {
     "name": "stderr",
     "output_type": "stream",
     "text": [
      "/usr/lib/python3/dist-packages/requests/__init__.py:89: RequestsDependencyWarning: urllib3 (1.26.9) or chardet (3.0.4) doesn't match a supported version!\n",
      "  warnings.warn(\"urllib3 ({}) or chardet ({}) doesn't match a supported \"\n"
     ]
    }
   ],
   "source": [
    "%matplotlib inline\n",
    "\n",
    "import os\n",
    "import datetime\n",
    "\n",
    "import IPython\n",
    "import IPython.display\n",
    "import matplotlib as mpl\n",
    "import matplotlib.pyplot as plt\n",
    "import numpy as np\n",
    "import pandas as pd\n",
    "import seaborn as sns\n",
    "import tensorflow as tf\n",
    "\n",
    "mpl.rcParams['figure.figsize'] = (8, 6)\n",
    "mpl.rcParams['axes.grid'] = False"
   ]
  },
  {
   "cell_type": "code",
   "execution_count": 2,
   "metadata": {},
   "outputs": [],
   "source": [
    "pd. set_option('display.max_columns', 500)\n",
    "pd.set_option('display.max_colwidth', 0)"
   ]
  },
  {
   "cell_type": "code",
   "execution_count": 3,
   "metadata": {},
   "outputs": [
    {
     "name": "stdout",
     "output_type": "stream",
     "text": [
      "AAPL\n"
     ]
    }
   ],
   "source": [
    "ticker_list = [\"aapl\", \"amzn\", \"msft\"]\n",
    "\n",
    "ticker = ticker_list[0]\n",
    "\n",
    "ticker_upper = ticker.upper()\n",
    "\n",
    "print(ticker_upper)"
   ]
  },
  {
   "cell_type": "code",
   "execution_count": 4,
   "metadata": {},
   "outputs": [],
   "source": [
    "alphavantage_csv_path = f\"/app/StockPricePredictions/data/alphavantage/time_series_daily_adjusted/{ticker_upper}/{ticker_upper}.csv\""
   ]
  },
  {
   "cell_type": "code",
   "execution_count": 5,
   "metadata": {},
   "outputs": [],
   "source": [
    "df = pd.read_csv(alphavantage_csv_path, low_memory=False)\n",
    "df.sort_values(by=[\"date\"], ascending=True, inplace=True)\n",
    "\n",
    "df = df[df[\"date\"]>='2010-01-01']\n",
    "\n",
    "df[\"date_time\"] = pd.to_datetime(df['date'])\n",
    "\n",
    "df[\"day_of_week\"] = df[\"date_time\"].dt.dayofweek\n",
    "\n",
    "df[\"adjusted_close_shift\"] = df[\"5. adjusted close\"].shift(-1)\n",
    "\n",
    "df[\"percentage_change\"] = (df[\"adjusted_close_shift\"] - df[\"5. adjusted close\"]) / df[\"5. adjusted close\"] * 100.0\n",
    "\n",
    "df[\"increase\"] = df[\"percentage_change\"].apply(lambda x: 1 if x > 0 else 0)\n",
    "\n",
    "df.set_index(\"date\", inplace=True)"
   ]
  },
  {
   "cell_type": "code",
   "execution_count": 6,
   "metadata": {},
   "outputs": [
    {
     "data": {
      "text/plain": [
       "3064"
      ]
     },
     "execution_count": 6,
     "metadata": {},
     "output_type": "execute_result"
    }
   ],
   "source": [
    "df.shape[0]"
   ]
  },
  {
   "cell_type": "code",
   "execution_count": 7,
   "metadata": {},
   "outputs": [
    {
     "name": "stdout",
     "output_type": "stream",
     "text": [
      "<class 'pandas.core.frame.DataFrame'>\n",
      "Index: 3064 entries, 2010-01-04 to 2022-03-04\n",
      "Data columns (total 13 columns):\n",
      " #   Column                Non-Null Count  Dtype         \n",
      "---  ------                --------------  -----         \n",
      " 0   1. open               3064 non-null   float64       \n",
      " 1   2. high               3064 non-null   float64       \n",
      " 2   3. low                3064 non-null   float64       \n",
      " 3   4. close              3064 non-null   float64       \n",
      " 4   5. adjusted close     3064 non-null   float64       \n",
      " 5   6. volume             3064 non-null   float64       \n",
      " 6   7. dividend amount    3064 non-null   float64       \n",
      " 7   8. split coefficient  3064 non-null   float64       \n",
      " 8   date_time             3064 non-null   datetime64[ns]\n",
      " 9   day_of_week           3064 non-null   int64         \n",
      " 10  adjusted_close_shift  3063 non-null   float64       \n",
      " 11  percentage_change     3063 non-null   float64       \n",
      " 12  increase              3064 non-null   int64         \n",
      "dtypes: datetime64[ns](1), float64(10), int64(2)\n",
      "memory usage: 335.1+ KB\n"
     ]
    }
   ],
   "source": [
    "df.info()"
   ]
  },
  {
   "cell_type": "code",
   "execution_count": 8,
   "metadata": {},
   "outputs": [
    {
     "data": {
      "text/html": [
       "<div>\n",
       "<style scoped>\n",
       "    .dataframe tbody tr th:only-of-type {\n",
       "        vertical-align: middle;\n",
       "    }\n",
       "\n",
       "    .dataframe tbody tr th {\n",
       "        vertical-align: top;\n",
       "    }\n",
       "\n",
       "    .dataframe thead th {\n",
       "        text-align: right;\n",
       "    }\n",
       "</style>\n",
       "<table border=\"1\" class=\"dataframe\">\n",
       "  <thead>\n",
       "    <tr style=\"text-align: right;\">\n",
       "      <th></th>\n",
       "      <th>1. open</th>\n",
       "      <th>2. high</th>\n",
       "      <th>3. low</th>\n",
       "      <th>4. close</th>\n",
       "      <th>5. adjusted close</th>\n",
       "      <th>6. volume</th>\n",
       "      <th>7. dividend amount</th>\n",
       "      <th>8. split coefficient</th>\n",
       "      <th>date_time</th>\n",
       "      <th>day_of_week</th>\n",
       "      <th>adjusted_close_shift</th>\n",
       "      <th>percentage_change</th>\n",
       "      <th>increase</th>\n",
       "    </tr>\n",
       "    <tr>\n",
       "      <th>date</th>\n",
       "      <th></th>\n",
       "      <th></th>\n",
       "      <th></th>\n",
       "      <th></th>\n",
       "      <th></th>\n",
       "      <th></th>\n",
       "      <th></th>\n",
       "      <th></th>\n",
       "      <th></th>\n",
       "      <th></th>\n",
       "      <th></th>\n",
       "      <th></th>\n",
       "      <th></th>\n",
       "    </tr>\n",
       "  </thead>\n",
       "  <tbody>\n",
       "    <tr>\n",
       "      <th>2022-02-28</th>\n",
       "      <td>163.060</td>\n",
       "      <td>165.42</td>\n",
       "      <td>162.43</td>\n",
       "      <td>165.12</td>\n",
       "      <td>165.12</td>\n",
       "      <td>95056629.0</td>\n",
       "      <td>0.0</td>\n",
       "      <td>1.0</td>\n",
       "      <td>2022-02-28</td>\n",
       "      <td>0</td>\n",
       "      <td>163.20</td>\n",
       "      <td>-1.162791</td>\n",
       "      <td>0</td>\n",
       "    </tr>\n",
       "    <tr>\n",
       "      <th>2022-03-01</th>\n",
       "      <td>164.695</td>\n",
       "      <td>166.60</td>\n",
       "      <td>161.97</td>\n",
       "      <td>163.20</td>\n",
       "      <td>163.20</td>\n",
       "      <td>83474425.0</td>\n",
       "      <td>0.0</td>\n",
       "      <td>1.0</td>\n",
       "      <td>2022-03-01</td>\n",
       "      <td>1</td>\n",
       "      <td>166.56</td>\n",
       "      <td>2.058824</td>\n",
       "      <td>1</td>\n",
       "    </tr>\n",
       "    <tr>\n",
       "      <th>2022-03-02</th>\n",
       "      <td>164.390</td>\n",
       "      <td>167.36</td>\n",
       "      <td>162.95</td>\n",
       "      <td>166.56</td>\n",
       "      <td>166.56</td>\n",
       "      <td>79724750.0</td>\n",
       "      <td>0.0</td>\n",
       "      <td>1.0</td>\n",
       "      <td>2022-03-02</td>\n",
       "      <td>2</td>\n",
       "      <td>166.23</td>\n",
       "      <td>-0.198127</td>\n",
       "      <td>0</td>\n",
       "    </tr>\n",
       "    <tr>\n",
       "      <th>2022-03-03</th>\n",
       "      <td>168.470</td>\n",
       "      <td>168.91</td>\n",
       "      <td>165.55</td>\n",
       "      <td>166.23</td>\n",
       "      <td>166.23</td>\n",
       "      <td>76678441.0</td>\n",
       "      <td>0.0</td>\n",
       "      <td>1.0</td>\n",
       "      <td>2022-03-03</td>\n",
       "      <td>3</td>\n",
       "      <td>163.17</td>\n",
       "      <td>-1.840823</td>\n",
       "      <td>0</td>\n",
       "    </tr>\n",
       "    <tr>\n",
       "      <th>2022-03-04</th>\n",
       "      <td>164.490</td>\n",
       "      <td>165.55</td>\n",
       "      <td>162.10</td>\n",
       "      <td>163.17</td>\n",
       "      <td>163.17</td>\n",
       "      <td>83819592.0</td>\n",
       "      <td>0.0</td>\n",
       "      <td>1.0</td>\n",
       "      <td>2022-03-04</td>\n",
       "      <td>4</td>\n",
       "      <td>NaN</td>\n",
       "      <td>NaN</td>\n",
       "      <td>0</td>\n",
       "    </tr>\n",
       "  </tbody>\n",
       "</table>\n",
       "</div>"
      ],
      "text/plain": [
       "            1. open  2. high  3. low  4. close  5. adjusted close   6. volume  \\\n",
       "date                                                                            \n",
       "2022-02-28  163.060  165.42   162.43  165.12    165.12             95056629.0   \n",
       "2022-03-01  164.695  166.60   161.97  163.20    163.20             83474425.0   \n",
       "2022-03-02  164.390  167.36   162.95  166.56    166.56             79724750.0   \n",
       "2022-03-03  168.470  168.91   165.55  166.23    166.23             76678441.0   \n",
       "2022-03-04  164.490  165.55   162.10  163.17    163.17             83819592.0   \n",
       "\n",
       "            7. dividend amount  8. split coefficient  date_time  day_of_week  \\\n",
       "date                                                                           \n",
       "2022-02-28  0.0                 1.0                  2022-02-28  0             \n",
       "2022-03-01  0.0                 1.0                  2022-03-01  1             \n",
       "2022-03-02  0.0                 1.0                  2022-03-02  2             \n",
       "2022-03-03  0.0                 1.0                  2022-03-03  3             \n",
       "2022-03-04  0.0                 1.0                  2022-03-04  4             \n",
       "\n",
       "            adjusted_close_shift  percentage_change  increase  \n",
       "date                                                           \n",
       "2022-02-28  163.20               -1.162791           0         \n",
       "2022-03-01  166.56                2.058824           1         \n",
       "2022-03-02  166.23               -0.198127           0         \n",
       "2022-03-03  163.17               -1.840823           0         \n",
       "2022-03-04 NaN                   NaN                 0         "
      ]
     },
     "execution_count": 8,
     "metadata": {},
     "output_type": "execute_result"
    }
   ],
   "source": [
    "df.tail()\n",
    "# df[df.percentage_change == 0]"
   ]
  },
  {
   "cell_type": "code",
   "execution_count": 9,
   "metadata": {},
   "outputs": [
    {
     "data": {
      "text/plain": [
       "1    1621\n",
       "0    1443\n",
       "Name: increase, dtype: int64"
      ]
     },
     "execution_count": 9,
     "metadata": {},
     "output_type": "execute_result"
    }
   ],
   "source": [
    "df.increase.value_counts()"
   ]
  },
  {
   "cell_type": "code",
   "execution_count": 10,
   "metadata": {},
   "outputs": [
    {
     "data": {
      "text/plain": [
       "1    629\n",
       "2    628\n",
       "3    619\n",
       "4    614\n",
       "0    574\n",
       "Name: day_of_week, dtype: int64"
      ]
     },
     "execution_count": 10,
     "metadata": {},
     "output_type": "execute_result"
    }
   ],
   "source": [
    "# The day of the week with Monday=0, Sunday=6.\n",
    "\n",
    "# 5 = Saturday\n",
    "# 6 = Sunday\n",
    "df.day_of_week.value_counts()"
   ]
  },
  {
   "cell_type": "code",
   "execution_count": 11,
   "metadata": {},
   "outputs": [
    {
     "name": "stdout",
     "output_type": "stream",
     "text": [
      "1\n"
     ]
    },
    {
     "data": {
      "text/plain": [
       "'2010-01-05'"
      ]
     },
     "execution_count": 11,
     "metadata": {},
     "output_type": "execute_result"
    }
   ],
   "source": [
    "loc = df.index.get_loc('2010-01-05')\n",
    "loc\n",
    "\n",
    "print(loc)\n",
    "\n",
    "df.iloc[loc][\"date_time\"].strftime(\"%Y-%m-%d\")"
   ]
  },
  {
   "cell_type": "code",
   "execution_count": 12,
   "metadata": {},
   "outputs": [],
   "source": [
    "twint_csv_path = f\"/app/StockPricePredictions/data/alphavantage/time_series_daily_adjusted/{ticker_upper}/{ticker}_finbert_twint_20100101_20220304.csv\""
   ]
  },
  {
   "cell_type": "code",
   "execution_count": 13,
   "metadata": {},
   "outputs": [
    {
     "data": {
      "text/plain": [
       "'/app/StockPricePredictions/data/alphavantage/time_series_daily_adjusted/AAPL/aapl_finbert_twint_20100101_20220304.csv'"
      ]
     },
     "execution_count": 13,
     "metadata": {},
     "output_type": "execute_result"
    }
   ],
   "source": [
    "twint_csv_path"
   ]
  },
  {
   "cell_type": "code",
   "execution_count": 14,
   "metadata": {},
   "outputs": [],
   "source": [
    "df_twint = pd.read_csv(twint_csv_path, low_memory=False, lineterminator='\\n')"
   ]
  },
  {
   "cell_type": "code",
   "execution_count": 15,
   "metadata": {},
   "outputs": [
    {
     "data": {
      "text/html": [
       "<div>\n",
       "<style scoped>\n",
       "    .dataframe tbody tr th:only-of-type {\n",
       "        vertical-align: middle;\n",
       "    }\n",
       "\n",
       "    .dataframe tbody tr th {\n",
       "        vertical-align: top;\n",
       "    }\n",
       "\n",
       "    .dataframe thead th {\n",
       "        text-align: right;\n",
       "    }\n",
       "</style>\n",
       "<table border=\"1\" class=\"dataframe\">\n",
       "  <thead>\n",
       "    <tr style=\"text-align: right;\">\n",
       "      <th></th>\n",
       "      <th>Headline</th>\n",
       "      <th>Stock</th>\n",
       "      <th>Positive</th>\n",
       "      <th>Negative</th>\n",
       "      <th>Neutral</th>\n",
       "      <th>Retweets</th>\n",
       "    </tr>\n",
       "  </thead>\n",
       "  <tbody>\n",
       "    <tr>\n",
       "      <th>0</th>\n",
       "      <td>Apple 2.0: Tablet: Big iPhone or thin MacBook?</td>\n",
       "      <td>2010-01-01</td>\n",
       "      <td>0.999959</td>\n",
       "      <td>3.629326e-05</td>\n",
       "      <td>0.000005</td>\n",
       "      <td>7</td>\n",
       "    </tr>\n",
       "    <tr>\n",
       "      <th>1</th>\n",
       "      <td>Apple 2.0: Apple tablet to ship in March, sources say</td>\n",
       "      <td>2010-01-04</td>\n",
       "      <td>0.999997</td>\n",
       "      <td>1.389081e-07</td>\n",
       "      <td>0.000003</td>\n",
       "      <td>6</td>\n",
       "    </tr>\n",
       "    <tr>\n",
       "      <th>2</th>\n",
       "      <td>Apple Tablet Will Be 10-11 Inches, Ships In March, Says WSJ  by @jwyarow</td>\n",
       "      <td>2010-01-04</td>\n",
       "      <td>0.999986</td>\n",
       "      <td>8.988271e-06</td>\n",
       "      <td>0.000005</td>\n",
       "      <td>9</td>\n",
       "    </tr>\n",
       "    <tr>\n",
       "      <th>3</th>\n",
       "      <td>CHART OF THE DAY: Android Taking Wind Out Of iPhone's Sails $GOOG  $RIMM</td>\n",
       "      <td>2010-01-04</td>\n",
       "      <td>0.999992</td>\n",
       "      <td>3.523099e-06</td>\n",
       "      <td>0.000004</td>\n",
       "      <td>7</td>\n",
       "    </tr>\n",
       "    <tr>\n",
       "      <th>4</th>\n",
       "      <td>Apple 2.0: How many iPhones did Apple sell?</td>\n",
       "      <td>2010-01-04</td>\n",
       "      <td>0.999959</td>\n",
       "      <td>1.397303e-05</td>\n",
       "      <td>0.000027</td>\n",
       "      <td>10</td>\n",
       "    </tr>\n",
       "  </tbody>\n",
       "</table>\n",
       "</div>"
      ],
      "text/plain": [
       "                                                                     Headline  \\\n",
       "0  Apple 2.0: Tablet: Big iPhone or thin MacBook?                               \n",
       "1  Apple 2.0: Apple tablet to ship in March, sources say                        \n",
       "2  Apple Tablet Will Be 10-11 Inches, Ships In March, Says WSJ  by @jwyarow     \n",
       "3  CHART OF THE DAY: Android Taking Wind Out Of iPhone's Sails $GOOG  $RIMM     \n",
       "4  Apple 2.0: How many iPhones did Apple sell?                                  \n",
       "\n",
       "        Stock  Positive      Negative   Neutral  Retweets  \n",
       "0  2010-01-01  0.999959  3.629326e-05  0.000005  7         \n",
       "1  2010-01-04  0.999997  1.389081e-07  0.000003  6         \n",
       "2  2010-01-04  0.999986  8.988271e-06  0.000005  9         \n",
       "3  2010-01-04  0.999992  3.523099e-06  0.000004  7         \n",
       "4  2010-01-04  0.999959  1.397303e-05  0.000027  10        "
      ]
     },
     "execution_count": 15,
     "metadata": {},
     "output_type": "execute_result"
    }
   ],
   "source": [
    "df_twint.head()"
   ]
  },
  {
   "cell_type": "code",
   "execution_count": 16,
   "metadata": {},
   "outputs": [],
   "source": [
    "df_twint['date'] = pd.to_datetime(df_twint['Stock'])"
   ]
  },
  {
   "cell_type": "code",
   "execution_count": 17,
   "metadata": {},
   "outputs": [],
   "source": [
    "df_twint[\"day_of_week\"] = df_twint[\"date\"].dt.dayofweek"
   ]
  },
  {
   "cell_type": "code",
   "execution_count": 18,
   "metadata": {},
   "outputs": [
    {
     "name": "stdout",
     "output_type": "stream",
     "text": [
      "<class 'pandas.core.frame.DataFrame'>\n",
      "RangeIndex: 41056 entries, 0 to 41055\n",
      "Data columns (total 8 columns):\n",
      " #   Column       Non-Null Count  Dtype         \n",
      "---  ------       --------------  -----         \n",
      " 0   Headline     41032 non-null  object        \n",
      " 1   Stock        41056 non-null  object        \n",
      " 2   Positive     41056 non-null  float64       \n",
      " 3   Negative     41056 non-null  float64       \n",
      " 4   Neutral      41056 non-null  float64       \n",
      " 5   Retweets     41056 non-null  int64         \n",
      " 6   date         41056 non-null  datetime64[ns]\n",
      " 7   day_of_week  41056 non-null  int64         \n",
      "dtypes: datetime64[ns](1), float64(3), int64(2), object(2)\n",
      "memory usage: 2.5+ MB\n"
     ]
    }
   ],
   "source": [
    "df_twint.info()"
   ]
  },
  {
   "cell_type": "code",
   "execution_count": 19,
   "metadata": {},
   "outputs": [
    {
     "data": {
      "text/html": [
       "<div>\n",
       "<style scoped>\n",
       "    .dataframe tbody tr th:only-of-type {\n",
       "        vertical-align: middle;\n",
       "    }\n",
       "\n",
       "    .dataframe tbody tr th {\n",
       "        vertical-align: top;\n",
       "    }\n",
       "\n",
       "    .dataframe thead th {\n",
       "        text-align: right;\n",
       "    }\n",
       "</style>\n",
       "<table border=\"1\" class=\"dataframe\">\n",
       "  <thead>\n",
       "    <tr style=\"text-align: right;\">\n",
       "      <th></th>\n",
       "      <th>Headline</th>\n",
       "      <th>Stock</th>\n",
       "      <th>Positive</th>\n",
       "      <th>Negative</th>\n",
       "      <th>Neutral</th>\n",
       "      <th>Retweets</th>\n",
       "      <th>date</th>\n",
       "      <th>day_of_week</th>\n",
       "    </tr>\n",
       "  </thead>\n",
       "  <tbody>\n",
       "    <tr>\n",
       "      <th>0</th>\n",
       "      <td>Apple 2.0: Tablet: Big iPhone or thin MacBook?</td>\n",
       "      <td>2010-01-01</td>\n",
       "      <td>0.999959</td>\n",
       "      <td>0.000036</td>\n",
       "      <td>0.000005</td>\n",
       "      <td>7</td>\n",
       "      <td>2010-01-01</td>\n",
       "      <td>4</td>\n",
       "    </tr>\n",
       "  </tbody>\n",
       "</table>\n",
       "</div>"
      ],
      "text/plain": [
       "                                            Headline       Stock  Positive  \\\n",
       "0  Apple 2.0: Tablet: Big iPhone or thin MacBook?     2010-01-01  0.999959   \n",
       "\n",
       "   Negative   Neutral  Retweets       date  day_of_week  \n",
       "0  0.000036  0.000005  7        2010-01-01  4            "
      ]
     },
     "execution_count": 19,
     "metadata": {},
     "output_type": "execute_result"
    }
   ],
   "source": [
    "df_twint.head(1)"
   ]
  },
  {
   "cell_type": "code",
   "execution_count": 20,
   "metadata": {},
   "outputs": [
    {
     "data": {
      "text/plain": [
       "1    7676\n",
       "0    7512\n",
       "2    7467\n",
       "3    6485\n",
       "4    6359\n",
       "6    2817\n",
       "5    2740\n",
       "Name: day_of_week, dtype: int64"
      ]
     },
     "execution_count": 20,
     "metadata": {},
     "output_type": "execute_result"
    }
   ],
   "source": [
    "# The day of the week with Monday=0, Sunday=6.\n",
    "\n",
    "# 5 = Saturday\n",
    "# 6 = Sunday\n",
    "\n",
    "df_twint.day_of_week.value_counts()"
   ]
  },
  {
   "cell_type": "code",
   "execution_count": 21,
   "metadata": {},
   "outputs": [
    {
     "data": {
      "text/html": [
       "<div>\n",
       "<style scoped>\n",
       "    .dataframe tbody tr th:only-of-type {\n",
       "        vertical-align: middle;\n",
       "    }\n",
       "\n",
       "    .dataframe tbody tr th {\n",
       "        vertical-align: top;\n",
       "    }\n",
       "\n",
       "    .dataframe thead th {\n",
       "        text-align: right;\n",
       "    }\n",
       "</style>\n",
       "<table border=\"1\" class=\"dataframe\">\n",
       "  <thead>\n",
       "    <tr style=\"text-align: right;\">\n",
       "      <th></th>\n",
       "      <th>Headline</th>\n",
       "      <th>Stock</th>\n",
       "      <th>Positive</th>\n",
       "      <th>Negative</th>\n",
       "      <th>Neutral</th>\n",
       "      <th>Retweets</th>\n",
       "      <th>date</th>\n",
       "      <th>day_of_week</th>\n",
       "    </tr>\n",
       "  </thead>\n",
       "  <tbody>\n",
       "    <tr>\n",
       "      <th>0</th>\n",
       "      <td>Apple 2.0: Tablet: Big iPhone or thin MacBook?</td>\n",
       "      <td>2010-01-01</td>\n",
       "      <td>0.999959</td>\n",
       "      <td>0.000036</td>\n",
       "      <td>0.000005</td>\n",
       "      <td>7</td>\n",
       "      <td>2010-01-01</td>\n",
       "      <td>4</td>\n",
       "    </tr>\n",
       "  </tbody>\n",
       "</table>\n",
       "</div>"
      ],
      "text/plain": [
       "                                            Headline       Stock  Positive  \\\n",
       "0  Apple 2.0: Tablet: Big iPhone or thin MacBook?     2010-01-01  0.999959   \n",
       "\n",
       "   Negative   Neutral  Retweets       date  day_of_week  \n",
       "0  0.000036  0.000005  7        2010-01-01  4            "
      ]
     },
     "execution_count": 21,
     "metadata": {},
     "output_type": "execute_result"
    }
   ],
   "source": [
    "df_twint.head(1)"
   ]
  },
  {
   "cell_type": "code",
   "execution_count": 22,
   "metadata": {},
   "outputs": [],
   "source": [
    "df_twint[\"in_index\"] = df_twint[\"Stock\"].apply(lambda x: True if x in df.index else False)"
   ]
  },
  {
   "cell_type": "code",
   "execution_count": 23,
   "metadata": {},
   "outputs": [
    {
     "data": {
      "text/plain": [
       "6    2817\n",
       "5    2740\n",
       "0    346 \n",
       "4    109 \n",
       "1    54  \n",
       "3    46  \n",
       "2    24  \n",
       "Name: day_of_week, dtype: int64"
      ]
     },
     "execution_count": 23,
     "metadata": {},
     "output_type": "execute_result"
    }
   ],
   "source": [
    "df_twint[df_twint.in_index==False][\"day_of_week\"].value_counts()"
   ]
  },
  {
   "cell_type": "code",
   "execution_count": 24,
   "metadata": {},
   "outputs": [
    {
     "data": {
      "text/plain": [
       "1    7622\n",
       "2    7443\n",
       "0    7166\n",
       "3    6439\n",
       "4    6250\n",
       "Name: day_of_week, dtype: int64"
      ]
     },
     "execution_count": 24,
     "metadata": {},
     "output_type": "execute_result"
    }
   ],
   "source": [
    "df_twint[df_twint.in_index==True][\"day_of_week\"].value_counts()"
   ]
  },
  {
   "cell_type": "code",
   "execution_count": 25,
   "metadata": {},
   "outputs": [
    {
     "data": {
      "text/plain": [
       "0"
      ]
     },
     "execution_count": 25,
     "metadata": {},
     "output_type": "execute_result"
    }
   ],
   "source": [
    "df.index.get_loc('2010-01-04')\n"
   ]
  },
  {
   "cell_type": "code",
   "execution_count": 26,
   "metadata": {},
   "outputs": [],
   "source": [
    "from datetime import date, datetime, timedelta"
   ]
  },
  {
   "cell_type": "code",
   "execution_count": 27,
   "metadata": {},
   "outputs": [
    {
     "name": "stdout",
     "output_type": "stream",
     "text": [
      "2010-01-09 00:00:00\n",
      "2 days, 0:00:00\n"
     ]
    },
    {
     "data": {
      "text/plain": [
       "'2010-01-07'"
      ]
     },
     "execution_count": 27,
     "metadata": {},
     "output_type": "execute_result"
    }
   ],
   "source": [
    "test2 =  '2010-01-09'\n",
    "\n",
    "dtobj1 = datetime.strptime(test2, \"%Y-%m-%d\")\n",
    "\n",
    "print(dtobj1)\n",
    "\n",
    "days = timedelta(2)\n",
    "\n",
    "print(days)\n",
    "\n",
    "\n",
    "\n",
    "dtobj2 = (dtobj1 - days).strftime(\"%Y-%m-%d\")\n",
    "dtobj2"
   ]
  },
  {
   "cell_type": "code",
   "execution_count": 28,
   "metadata": {},
   "outputs": [],
   "source": [
    "def update_date(x):\n",
    "\n",
    "    global ERROR_COUNTER\n",
    "\n",
    "    if x.in_index == True:\n",
    "        return x.Stock\n",
    "    else:\n",
    "        # try:\n",
    "\n",
    "            dt_time = datetime.strptime(x.Stock, \"%Y-%m-%d\")\n",
    "\n",
    "            # loc = df.index.get_loc(date_part)\n",
    "            if x.day_of_week == 6: # Sunday to Thursday\n",
    "                days = timedelta(3)\n",
    "                idx_lookup = (dt_time - days).strftime(\"%Y-%m-%d\")\n",
    "                print(idx_lookup)\n",
    "                try:\n",
    "                    loc = df.index.get_loc(idx_lookup)\n",
    "                    return df.iloc[loc][\"date_time\"].strftime(\"%Y-%m-%d\")\n",
    "                except Exception as e1:\n",
    "                    ERROR_COUNTER += 1\n",
    "                    print(str(e1))\n",
    "                    return x.Stock\n",
    "            if x.day_of_week == 5: # Saturday to Thursday\n",
    "                days = timedelta(2)\n",
    "                idx_lookup = (dt_time - days).strftime(\"%Y-%m-%d\")\n",
    "                print(idx_lookup)\n",
    "                try:\n",
    "                    loc = df.index.get_loc(idx_lookup)\n",
    "                    return df.iloc[loc][\"date_time\"].strftime(\"%Y-%m-%d\")\n",
    "                except Exception as e2:\n",
    "                    ERROR_COUNTER += 1\n",
    "                    print(str(e2))\n",
    "                    return x.Stock\n",
    "            if x.day_of_week == 4: # Friday to Thursday\n",
    "                days = timedelta(1)\n",
    "                idx_lookup = (dt_time - days).strftime(\"%Y-%m-%d\")\n",
    "                print(idx_lookup)\n",
    "                try:\n",
    "                    loc = df.index.get_loc(idx_lookup)\n",
    "                    return df.iloc[loc][\"date_time\"].strftime(\"%Y-%m-%d\")\n",
    "                except Exception as e3:\n",
    "                    ERROR_COUNTER += 1\n",
    "                    print(str(3))\n",
    "                    return x.Stock\n",
    "            if x.day_of_week == 0: # Monday to Thursday\n",
    "                days = timedelta(4)\n",
    "                idx_lookup = (dt_time - days).strftime(\"%Y-%m-%d\")\n",
    "                print(idx_lookup)\n",
    "                try:\n",
    "                    loc = df.index.get_loc(idx_lookup)\n",
    "                    return df.iloc[loc][\"date_time\"].strftime(\"%Y-%m-%d\")\n",
    "                except Exception as e3:\n",
    "                    ERROR_COUNTER += 1\n",
    "                    print(str(e3))\n",
    "                    return x.Stock\n",
    "\n",
    "            else:\n",
    "                return x.Stock\n",
    "\n",
    "        # except Exception as e:\n",
    "        #     ERROR_COUNTER += 1\n",
    "        #     print(str(e))\n",
    "        #     print(x.day_of_week, x.Stock, x.in_index)\n",
    "        #     return x.Stock\n",
    "    # loc = df.index.get_loc('2010-01-01')\n",
    "    # loc\n",
    "\n"
   ]
  },
  {
   "cell_type": "code",
   "execution_count": 29,
   "metadata": {},
   "outputs": [],
   "source": [
    "# The day of the week with Monday=0, Sunday=6.\n",
    "\n",
    "# 5 = Saturday\n",
    "# 6 = Sunday\n",
    "\n",
    "ERROR_COUNTER = 0 \n",
    "\n",
    "df_twint[\"backfill_date\"] = df_twint[\"Stock\"] ## df_twint.apply(update_date, axis=1)\n"
   ]
  },
  {
   "cell_type": "code",
   "execution_count": 30,
   "metadata": {},
   "outputs": [
    {
     "data": {
      "text/html": [
       "<div>\n",
       "<style scoped>\n",
       "    .dataframe tbody tr th:only-of-type {\n",
       "        vertical-align: middle;\n",
       "    }\n",
       "\n",
       "    .dataframe tbody tr th {\n",
       "        vertical-align: top;\n",
       "    }\n",
       "\n",
       "    .dataframe thead th {\n",
       "        text-align: right;\n",
       "    }\n",
       "</style>\n",
       "<table border=\"1\" class=\"dataframe\">\n",
       "  <thead>\n",
       "    <tr style=\"text-align: right;\">\n",
       "      <th></th>\n",
       "      <th>Headline</th>\n",
       "      <th>Stock</th>\n",
       "      <th>Positive</th>\n",
       "      <th>Negative</th>\n",
       "      <th>Neutral</th>\n",
       "      <th>Retweets</th>\n",
       "      <th>date</th>\n",
       "      <th>day_of_week</th>\n",
       "      <th>in_index</th>\n",
       "      <th>backfill_date</th>\n",
       "    </tr>\n",
       "  </thead>\n",
       "  <tbody>\n",
       "    <tr>\n",
       "      <th>0</th>\n",
       "      <td>Apple 2.0: Tablet: Big iPhone or thin MacBook?</td>\n",
       "      <td>2010-01-01</td>\n",
       "      <td>0.999959</td>\n",
       "      <td>3.629326e-05</td>\n",
       "      <td>0.000005</td>\n",
       "      <td>7</td>\n",
       "      <td>2010-01-01</td>\n",
       "      <td>4</td>\n",
       "      <td>False</td>\n",
       "      <td>2010-01-01</td>\n",
       "    </tr>\n",
       "    <tr>\n",
       "      <th>1</th>\n",
       "      <td>Apple 2.0: Apple tablet to ship in March, sources say</td>\n",
       "      <td>2010-01-04</td>\n",
       "      <td>0.999997</td>\n",
       "      <td>1.389081e-07</td>\n",
       "      <td>0.000003</td>\n",
       "      <td>6</td>\n",
       "      <td>2010-01-04</td>\n",
       "      <td>0</td>\n",
       "      <td>True</td>\n",
       "      <td>2010-01-04</td>\n",
       "    </tr>\n",
       "    <tr>\n",
       "      <th>2</th>\n",
       "      <td>Apple Tablet Will Be 10-11 Inches, Ships In March, Says WSJ  by @jwyarow</td>\n",
       "      <td>2010-01-04</td>\n",
       "      <td>0.999986</td>\n",
       "      <td>8.988271e-06</td>\n",
       "      <td>0.000005</td>\n",
       "      <td>9</td>\n",
       "      <td>2010-01-04</td>\n",
       "      <td>0</td>\n",
       "      <td>True</td>\n",
       "      <td>2010-01-04</td>\n",
       "    </tr>\n",
       "    <tr>\n",
       "      <th>3</th>\n",
       "      <td>CHART OF THE DAY: Android Taking Wind Out Of iPhone's Sails $GOOG  $RIMM</td>\n",
       "      <td>2010-01-04</td>\n",
       "      <td>0.999992</td>\n",
       "      <td>3.523099e-06</td>\n",
       "      <td>0.000004</td>\n",
       "      <td>7</td>\n",
       "      <td>2010-01-04</td>\n",
       "      <td>0</td>\n",
       "      <td>True</td>\n",
       "      <td>2010-01-04</td>\n",
       "    </tr>\n",
       "    <tr>\n",
       "      <th>4</th>\n",
       "      <td>Apple 2.0: How many iPhones did Apple sell?</td>\n",
       "      <td>2010-01-04</td>\n",
       "      <td>0.999959</td>\n",
       "      <td>1.397303e-05</td>\n",
       "      <td>0.000027</td>\n",
       "      <td>10</td>\n",
       "      <td>2010-01-04</td>\n",
       "      <td>0</td>\n",
       "      <td>True</td>\n",
       "      <td>2010-01-04</td>\n",
       "    </tr>\n",
       "  </tbody>\n",
       "</table>\n",
       "</div>"
      ],
      "text/plain": [
       "                                                                     Headline  \\\n",
       "0  Apple 2.0: Tablet: Big iPhone or thin MacBook?                               \n",
       "1  Apple 2.0: Apple tablet to ship in March, sources say                        \n",
       "2  Apple Tablet Will Be 10-11 Inches, Ships In March, Says WSJ  by @jwyarow     \n",
       "3  CHART OF THE DAY: Android Taking Wind Out Of iPhone's Sails $GOOG  $RIMM     \n",
       "4  Apple 2.0: How many iPhones did Apple sell?                                  \n",
       "\n",
       "        Stock  Positive      Negative   Neutral  Retweets       date  \\\n",
       "0  2010-01-01  0.999959  3.629326e-05  0.000005  7        2010-01-01   \n",
       "1  2010-01-04  0.999997  1.389081e-07  0.000003  6        2010-01-04   \n",
       "2  2010-01-04  0.999986  8.988271e-06  0.000005  9        2010-01-04   \n",
       "3  2010-01-04  0.999992  3.523099e-06  0.000004  7        2010-01-04   \n",
       "4  2010-01-04  0.999959  1.397303e-05  0.000027  10       2010-01-04   \n",
       "\n",
       "   day_of_week  in_index backfill_date  \n",
       "0  4            False     2010-01-01    \n",
       "1  0            True      2010-01-04    \n",
       "2  0            True      2010-01-04    \n",
       "3  0            True      2010-01-04    \n",
       "4  0            True      2010-01-04    "
      ]
     },
     "execution_count": 30,
     "metadata": {},
     "output_type": "execute_result"
    }
   ],
   "source": [
    "df_twint.head()"
   ]
  },
  {
   "cell_type": "code",
   "execution_count": 31,
   "metadata": {},
   "outputs": [],
   "source": [
    "df_twint[\"in_index\"] = df_twint[\"backfill_date\"].apply(lambda x: True if x in df.index else False)"
   ]
  },
  {
   "cell_type": "code",
   "execution_count": 32,
   "metadata": {},
   "outputs": [
    {
     "data": {
      "text/plain": [
       "6    2817\n",
       "5    2740\n",
       "0    346 \n",
       "4    109 \n",
       "1    54  \n",
       "3    46  \n",
       "2    24  \n",
       "Name: day_of_week, dtype: int64"
      ]
     },
     "execution_count": 32,
     "metadata": {},
     "output_type": "execute_result"
    }
   ],
   "source": [
    "df_twint[df_twint.in_index==False][\"day_of_week\"].value_counts()"
   ]
  },
  {
   "cell_type": "code",
   "execution_count": 33,
   "metadata": {},
   "outputs": [
    {
     "data": {
      "text/plain": [
       "(34920, 10)"
      ]
     },
     "execution_count": 33,
     "metadata": {},
     "output_type": "execute_result"
    }
   ],
   "source": [
    "df_twint[df_twint.in_index==True].shape"
   ]
  },
  {
   "cell_type": "code",
   "execution_count": 34,
   "metadata": {},
   "outputs": [],
   "source": [
    "# df_benzinga[\"text\"] = df_benzinga[\"title\"] + \" \" + df_benzinga[\"body\"]"
   ]
  },
  {
   "cell_type": "code",
   "execution_count": 35,
   "metadata": {},
   "outputs": [],
   "source": [
    "# df_benzinga['text'] = np.where(df_benzinga[\"text\"], df_benzinga[\"title\"], df_benzinga[\"text\"])"
   ]
  },
  {
   "cell_type": "code",
   "execution_count": 36,
   "metadata": {},
   "outputs": [],
   "source": [
    "# df_twint = df_twint[[\"backfill_date\", \"Positive\", \"Negative\", \"Neutral\", \"Retweets\"]]\n",
    "df_twint = df_twint[[\"backfill_date\", \"Positive\", \"Negative\", \"Neutral\"]]"
   ]
  },
  {
   "cell_type": "code",
   "execution_count": 37,
   "metadata": {},
   "outputs": [
    {
     "name": "stdout",
     "output_type": "stream",
     "text": [
      "<class 'pandas.core.frame.DataFrame'>\n",
      "RangeIndex: 41056 entries, 0 to 41055\n",
      "Data columns (total 4 columns):\n",
      " #   Column         Non-Null Count  Dtype  \n",
      "---  ------         --------------  -----  \n",
      " 0   backfill_date  41056 non-null  object \n",
      " 1   Positive       41056 non-null  float64\n",
      " 2   Negative       41056 non-null  float64\n",
      " 3   Neutral        41056 non-null  float64\n",
      "dtypes: float64(3), object(1)\n",
      "memory usage: 1.3+ MB\n"
     ]
    }
   ],
   "source": [
    "df_twint.info()"
   ]
  },
  {
   "cell_type": "code",
   "execution_count": 38,
   "metadata": {},
   "outputs": [
    {
     "data": {
      "text/html": [
       "<div>\n",
       "<style scoped>\n",
       "    .dataframe tbody tr th:only-of-type {\n",
       "        vertical-align: middle;\n",
       "    }\n",
       "\n",
       "    .dataframe tbody tr th {\n",
       "        vertical-align: top;\n",
       "    }\n",
       "\n",
       "    .dataframe thead th {\n",
       "        text-align: right;\n",
       "    }\n",
       "</style>\n",
       "<table border=\"1\" class=\"dataframe\">\n",
       "  <thead>\n",
       "    <tr style=\"text-align: right;\">\n",
       "      <th></th>\n",
       "      <th>backfill_date</th>\n",
       "      <th>Positive</th>\n",
       "      <th>Negative</th>\n",
       "      <th>Neutral</th>\n",
       "    </tr>\n",
       "  </thead>\n",
       "  <tbody>\n",
       "    <tr>\n",
       "      <th>0</th>\n",
       "      <td>2010-01-01</td>\n",
       "      <td>0.999959</td>\n",
       "      <td>3.629326e-05</td>\n",
       "      <td>0.000005</td>\n",
       "    </tr>\n",
       "    <tr>\n",
       "      <th>1</th>\n",
       "      <td>2010-01-04</td>\n",
       "      <td>0.999997</td>\n",
       "      <td>1.389081e-07</td>\n",
       "      <td>0.000003</td>\n",
       "    </tr>\n",
       "    <tr>\n",
       "      <th>2</th>\n",
       "      <td>2010-01-04</td>\n",
       "      <td>0.999986</td>\n",
       "      <td>8.988271e-06</td>\n",
       "      <td>0.000005</td>\n",
       "    </tr>\n",
       "    <tr>\n",
       "      <th>3</th>\n",
       "      <td>2010-01-04</td>\n",
       "      <td>0.999992</td>\n",
       "      <td>3.523099e-06</td>\n",
       "      <td>0.000004</td>\n",
       "    </tr>\n",
       "    <tr>\n",
       "      <th>4</th>\n",
       "      <td>2010-01-04</td>\n",
       "      <td>0.999959</td>\n",
       "      <td>1.397303e-05</td>\n",
       "      <td>0.000027</td>\n",
       "    </tr>\n",
       "  </tbody>\n",
       "</table>\n",
       "</div>"
      ],
      "text/plain": [
       "  backfill_date  Positive      Negative   Neutral\n",
       "0  2010-01-01    0.999959  3.629326e-05  0.000005\n",
       "1  2010-01-04    0.999997  1.389081e-07  0.000003\n",
       "2  2010-01-04    0.999986  8.988271e-06  0.000005\n",
       "3  2010-01-04    0.999992  3.523099e-06  0.000004\n",
       "4  2010-01-04    0.999959  1.397303e-05  0.000027"
      ]
     },
     "execution_count": 38,
     "metadata": {},
     "output_type": "execute_result"
    }
   ],
   "source": [
    "df_twint.head()"
   ]
  },
  {
   "cell_type": "code",
   "execution_count": 39,
   "metadata": {},
   "outputs": [],
   "source": [
    "df_twint.rename(columns={\"backfill_date\": \"date\"}, inplace=True)"
   ]
  },
  {
   "cell_type": "code",
   "execution_count": 40,
   "metadata": {},
   "outputs": [],
   "source": [
    "def clean_tweet(df):\n",
    "    # replace URLs with a whitespace\n",
    "    df['text'] = df['text'].str.replace('http[s]?://(?:[a-zA-Z]|[0-9]|[$-_@.&+]|[!*\\(\\),]|(?:%[0-9a-fA-F][0-9a-fA-F]))+', ' ')\n",
    "    \n",
    "    return df"
   ]
  },
  {
   "cell_type": "code",
   "execution_count": 41,
   "metadata": {},
   "outputs": [],
   "source": [
    "# df_twint = clean_tweet(df_twint)"
   ]
  },
  {
   "cell_type": "code",
   "execution_count": 42,
   "metadata": {},
   "outputs": [],
   "source": [
    "df_twint.set_index(\"date\", inplace=True)"
   ]
  },
  {
   "cell_type": "code",
   "execution_count": 43,
   "metadata": {},
   "outputs": [
    {
     "data": {
      "text/html": [
       "<div>\n",
       "<style scoped>\n",
       "    .dataframe tbody tr th:only-of-type {\n",
       "        vertical-align: middle;\n",
       "    }\n",
       "\n",
       "    .dataframe tbody tr th {\n",
       "        vertical-align: top;\n",
       "    }\n",
       "\n",
       "    .dataframe thead th {\n",
       "        text-align: right;\n",
       "    }\n",
       "</style>\n",
       "<table border=\"1\" class=\"dataframe\">\n",
       "  <thead>\n",
       "    <tr style=\"text-align: right;\">\n",
       "      <th></th>\n",
       "      <th>Positive</th>\n",
       "      <th>Negative</th>\n",
       "      <th>Neutral</th>\n",
       "    </tr>\n",
       "    <tr>\n",
       "      <th>date</th>\n",
       "      <th></th>\n",
       "      <th></th>\n",
       "      <th></th>\n",
       "    </tr>\n",
       "  </thead>\n",
       "  <tbody>\n",
       "    <tr>\n",
       "      <th>2010-01-01</th>\n",
       "      <td>0.999959</td>\n",
       "      <td>3.629326e-05</td>\n",
       "      <td>0.000005</td>\n",
       "    </tr>\n",
       "    <tr>\n",
       "      <th>2010-01-04</th>\n",
       "      <td>0.999997</td>\n",
       "      <td>1.389081e-07</td>\n",
       "      <td>0.000003</td>\n",
       "    </tr>\n",
       "    <tr>\n",
       "      <th>2010-01-04</th>\n",
       "      <td>0.999986</td>\n",
       "      <td>8.988271e-06</td>\n",
       "      <td>0.000005</td>\n",
       "    </tr>\n",
       "    <tr>\n",
       "      <th>2010-01-04</th>\n",
       "      <td>0.999992</td>\n",
       "      <td>3.523099e-06</td>\n",
       "      <td>0.000004</td>\n",
       "    </tr>\n",
       "    <tr>\n",
       "      <th>2010-01-04</th>\n",
       "      <td>0.999959</td>\n",
       "      <td>1.397303e-05</td>\n",
       "      <td>0.000027</td>\n",
       "    </tr>\n",
       "  </tbody>\n",
       "</table>\n",
       "</div>"
      ],
      "text/plain": [
       "            Positive      Negative   Neutral\n",
       "date                                        \n",
       "2010-01-01  0.999959  3.629326e-05  0.000005\n",
       "2010-01-04  0.999997  1.389081e-07  0.000003\n",
       "2010-01-04  0.999986  8.988271e-06  0.000005\n",
       "2010-01-04  0.999992  3.523099e-06  0.000004\n",
       "2010-01-04  0.999959  1.397303e-05  0.000027"
      ]
     },
     "execution_count": 43,
     "metadata": {},
     "output_type": "execute_result"
    }
   ],
   "source": [
    "df_twint.head()"
   ]
  },
  {
   "cell_type": "code",
   "execution_count": 44,
   "metadata": {},
   "outputs": [],
   "source": [
    "df_twint_duplicated_index = df_twint[df_twint.index.duplicated(keep=False)]"
   ]
  },
  {
   "cell_type": "code",
   "execution_count": 45,
   "metadata": {},
   "outputs": [
    {
     "data": {
      "text/plain": [
       "40779"
      ]
     },
     "execution_count": 45,
     "metadata": {},
     "output_type": "execute_result"
    }
   ],
   "source": [
    "df_twint_duplicated_index.shape[0]"
   ]
  },
  {
   "cell_type": "code",
   "execution_count": 46,
   "metadata": {},
   "outputs": [],
   "source": [
    "df_twint_nonduplicated_index = df_twint[~df_twint.index.duplicated(keep=False)]"
   ]
  },
  {
   "cell_type": "code",
   "execution_count": 47,
   "metadata": {},
   "outputs": [
    {
     "data": {
      "text/plain": [
       "277"
      ]
     },
     "execution_count": 47,
     "metadata": {},
     "output_type": "execute_result"
    }
   ],
   "source": [
    "df_twint_nonduplicated_index.shape[0]"
   ]
  },
  {
   "cell_type": "code",
   "execution_count": 48,
   "metadata": {},
   "outputs": [],
   "source": [
    "# df_twint.groupby('date')['negative'].mean()\n",
    "\n",
    "df_twint_groupby = df_twint.groupby(\"date\").agg(\n",
    "     negative = (\"Negative\", \"mean\"),\n",
    "     nuetral = (\"Neutral\", \"mean\"),\n",
    "     positive = (\"Positive\", \"mean\"),\n",
    "     # retweets = (\"Retweets\", \"sum\"),\n",
    "          # compound = (\"compound\", \"mean\"),\n",
    "          # nlikes = (\"nlikes\", \"sum\"),\n",
    "          # nretweets = (\"nretweets\", \"sum\"),\n",
    "     )\n"
   ]
  },
  {
   "cell_type": "code",
   "execution_count": 49,
   "metadata": {},
   "outputs": [
    {
     "data": {
      "text/html": [
       "<div>\n",
       "<style scoped>\n",
       "    .dataframe tbody tr th:only-of-type {\n",
       "        vertical-align: middle;\n",
       "    }\n",
       "\n",
       "    .dataframe tbody tr th {\n",
       "        vertical-align: top;\n",
       "    }\n",
       "\n",
       "    .dataframe thead th {\n",
       "        text-align: right;\n",
       "    }\n",
       "</style>\n",
       "<table border=\"1\" class=\"dataframe\">\n",
       "  <thead>\n",
       "    <tr style=\"text-align: right;\">\n",
       "      <th></th>\n",
       "      <th>negative</th>\n",
       "      <th>nuetral</th>\n",
       "      <th>positive</th>\n",
       "    </tr>\n",
       "    <tr>\n",
       "      <th>date</th>\n",
       "      <th></th>\n",
       "      <th></th>\n",
       "      <th></th>\n",
       "    </tr>\n",
       "  </thead>\n",
       "  <tbody>\n",
       "    <tr>\n",
       "      <th>2010-01-01</th>\n",
       "      <td>0.000036</td>\n",
       "      <td>0.000005</td>\n",
       "      <td>0.999959</td>\n",
       "    </tr>\n",
       "    <tr>\n",
       "      <th>2010-01-04</th>\n",
       "      <td>0.000007</td>\n",
       "      <td>0.000010</td>\n",
       "      <td>0.999984</td>\n",
       "    </tr>\n",
       "    <tr>\n",
       "      <th>2010-01-05</th>\n",
       "      <td>0.498715</td>\n",
       "      <td>0.001116</td>\n",
       "      <td>0.500169</td>\n",
       "    </tr>\n",
       "    <tr>\n",
       "      <th>2010-01-06</th>\n",
       "      <td>0.000052</td>\n",
       "      <td>0.085701</td>\n",
       "      <td>0.914247</td>\n",
       "    </tr>\n",
       "    <tr>\n",
       "      <th>2010-01-07</th>\n",
       "      <td>0.457010</td>\n",
       "      <td>0.000224</td>\n",
       "      <td>0.542766</td>\n",
       "    </tr>\n",
       "    <tr>\n",
       "      <th>...</th>\n",
       "      <td>...</td>\n",
       "      <td>...</td>\n",
       "      <td>...</td>\n",
       "    </tr>\n",
       "    <tr>\n",
       "      <th>2022-02-28</th>\n",
       "      <td>0.102984</td>\n",
       "      <td>0.000162</td>\n",
       "      <td>0.896855</td>\n",
       "    </tr>\n",
       "    <tr>\n",
       "      <th>2022-03-01</th>\n",
       "      <td>0.083351</td>\n",
       "      <td>0.250679</td>\n",
       "      <td>0.665971</td>\n",
       "    </tr>\n",
       "    <tr>\n",
       "      <th>2022-03-02</th>\n",
       "      <td>0.150388</td>\n",
       "      <td>0.000115</td>\n",
       "      <td>0.849497</td>\n",
       "    </tr>\n",
       "    <tr>\n",
       "      <th>2022-03-03</th>\n",
       "      <td>0.132856</td>\n",
       "      <td>0.000441</td>\n",
       "      <td>0.866703</td>\n",
       "    </tr>\n",
       "    <tr>\n",
       "      <th>2022-03-05</th>\n",
       "      <td>0.124023</td>\n",
       "      <td>0.021362</td>\n",
       "      <td>0.854615</td>\n",
       "    </tr>\n",
       "  </tbody>\n",
       "</table>\n",
       "<p>4175 rows × 3 columns</p>\n",
       "</div>"
      ],
      "text/plain": [
       "            negative   nuetral  positive\n",
       "date                                    \n",
       "2010-01-01  0.000036  0.000005  0.999959\n",
       "2010-01-04  0.000007  0.000010  0.999984\n",
       "2010-01-05  0.498715  0.001116  0.500169\n",
       "2010-01-06  0.000052  0.085701  0.914247\n",
       "2010-01-07  0.457010  0.000224  0.542766\n",
       "...              ...       ...       ...\n",
       "2022-02-28  0.102984  0.000162  0.896855\n",
       "2022-03-01  0.083351  0.250679  0.665971\n",
       "2022-03-02  0.150388  0.000115  0.849497\n",
       "2022-03-03  0.132856  0.000441  0.866703\n",
       "2022-03-05  0.124023  0.021362  0.854615\n",
       "\n",
       "[4175 rows x 3 columns]"
      ]
     },
     "execution_count": 49,
     "metadata": {},
     "output_type": "execute_result"
    }
   ],
   "source": [
    "df_twint_groupby"
   ]
  },
  {
   "cell_type": "code",
   "execution_count": 50,
   "metadata": {},
   "outputs": [],
   "source": [
    "df_merge = pd.merge(df, df_twint_groupby, how=\"inner\", left_index=True, right_index=True)"
   ]
  },
  {
   "cell_type": "code",
   "execution_count": 51,
   "metadata": {},
   "outputs": [
    {
     "data": {
      "text/plain": [
       "(2942, 16)"
      ]
     },
     "execution_count": 51,
     "metadata": {},
     "output_type": "execute_result"
    }
   ],
   "source": [
    "df_merge.shape"
   ]
  },
  {
   "cell_type": "code",
   "execution_count": 52,
   "metadata": {},
   "outputs": [
    {
     "data": {
      "text/plain": [
       "2    607\n",
       "1    605\n",
       "4    588\n",
       "3    587\n",
       "0    555\n",
       "Name: day_of_week, dtype: int64"
      ]
     },
     "execution_count": 52,
     "metadata": {},
     "output_type": "execute_result"
    }
   ],
   "source": [
    "df_merge.day_of_week.value_counts()"
   ]
  },
  {
   "cell_type": "code",
   "execution_count": 53,
   "metadata": {},
   "outputs": [
    {
     "data": {
      "text/html": [
       "<div>\n",
       "<style scoped>\n",
       "    .dataframe tbody tr th:only-of-type {\n",
       "        vertical-align: middle;\n",
       "    }\n",
       "\n",
       "    .dataframe tbody tr th {\n",
       "        vertical-align: top;\n",
       "    }\n",
       "\n",
       "    .dataframe thead th {\n",
       "        text-align: right;\n",
       "    }\n",
       "</style>\n",
       "<table border=\"1\" class=\"dataframe\">\n",
       "  <thead>\n",
       "    <tr style=\"text-align: right;\">\n",
       "      <th></th>\n",
       "      <th>1. open</th>\n",
       "      <th>2. high</th>\n",
       "      <th>3. low</th>\n",
       "      <th>4. close</th>\n",
       "      <th>5. adjusted close</th>\n",
       "      <th>6. volume</th>\n",
       "      <th>7. dividend amount</th>\n",
       "      <th>8. split coefficient</th>\n",
       "      <th>date_time</th>\n",
       "      <th>day_of_week</th>\n",
       "      <th>adjusted_close_shift</th>\n",
       "      <th>percentage_change</th>\n",
       "      <th>increase</th>\n",
       "      <th>negative</th>\n",
       "      <th>nuetral</th>\n",
       "      <th>positive</th>\n",
       "    </tr>\n",
       "    <tr>\n",
       "      <th>date</th>\n",
       "      <th></th>\n",
       "      <th></th>\n",
       "      <th></th>\n",
       "      <th></th>\n",
       "      <th></th>\n",
       "      <th></th>\n",
       "      <th></th>\n",
       "      <th></th>\n",
       "      <th></th>\n",
       "      <th></th>\n",
       "      <th></th>\n",
       "      <th></th>\n",
       "      <th></th>\n",
       "      <th></th>\n",
       "      <th></th>\n",
       "      <th></th>\n",
       "    </tr>\n",
       "  </thead>\n",
       "  <tbody>\n",
       "  </tbody>\n",
       "</table>\n",
       "</div>"
      ],
      "text/plain": [
       "Empty DataFrame\n",
       "Columns: [1. open, 2. high, 3. low, 4. close, 5. adjusted close, 6. volume, 7. dividend amount, 8. split coefficient, date_time, day_of_week, adjusted_close_shift, percentage_change, increase, negative, nuetral, positive]\n",
       "Index: []"
      ]
     },
     "execution_count": 53,
     "metadata": {},
     "output_type": "execute_result"
    }
   ],
   "source": [
    "# df.index\n",
    "# df_text.index\n",
    "df_merge[df_merge[\"5. adjusted close\"].isnull()]\n",
    "# df_merge.shape"
   ]
  },
  {
   "cell_type": "code",
   "execution_count": 54,
   "metadata": {},
   "outputs": [
    {
     "data": {
      "text/plain": [
       "(3064, 13)"
      ]
     },
     "execution_count": 54,
     "metadata": {},
     "output_type": "execute_result"
    }
   ],
   "source": [
    "df.shape"
   ]
  },
  {
   "cell_type": "code",
   "execution_count": 55,
   "metadata": {},
   "outputs": [
    {
     "data": {
      "text/plain": [
       "(2942, 16)"
      ]
     },
     "execution_count": 55,
     "metadata": {},
     "output_type": "execute_result"
    }
   ],
   "source": [
    "df_merge.shape"
   ]
  },
  {
   "cell_type": "code",
   "execution_count": 56,
   "metadata": {},
   "outputs": [
    {
     "data": {
      "text/plain": [
       "(3064, 13)"
      ]
     },
     "execution_count": 56,
     "metadata": {},
     "output_type": "execute_result"
    }
   ],
   "source": [
    "df.shape"
   ]
  },
  {
   "cell_type": "code",
   "execution_count": 57,
   "metadata": {},
   "outputs": [
    {
     "data": {
      "text/html": [
       "<div>\n",
       "<style scoped>\n",
       "    .dataframe tbody tr th:only-of-type {\n",
       "        vertical-align: middle;\n",
       "    }\n",
       "\n",
       "    .dataframe tbody tr th {\n",
       "        vertical-align: top;\n",
       "    }\n",
       "\n",
       "    .dataframe thead th {\n",
       "        text-align: right;\n",
       "    }\n",
       "</style>\n",
       "<table border=\"1\" class=\"dataframe\">\n",
       "  <thead>\n",
       "    <tr style=\"text-align: right;\">\n",
       "      <th></th>\n",
       "      <th>1. open</th>\n",
       "      <th>2. high</th>\n",
       "      <th>3. low</th>\n",
       "      <th>4. close</th>\n",
       "      <th>5. adjusted close</th>\n",
       "      <th>6. volume</th>\n",
       "      <th>7. dividend amount</th>\n",
       "      <th>8. split coefficient</th>\n",
       "      <th>date_time</th>\n",
       "      <th>day_of_week</th>\n",
       "      <th>adjusted_close_shift</th>\n",
       "      <th>percentage_change</th>\n",
       "      <th>increase</th>\n",
       "      <th>negative</th>\n",
       "      <th>nuetral</th>\n",
       "      <th>positive</th>\n",
       "    </tr>\n",
       "    <tr>\n",
       "      <th>date</th>\n",
       "      <th></th>\n",
       "      <th></th>\n",
       "      <th></th>\n",
       "      <th></th>\n",
       "      <th></th>\n",
       "      <th></th>\n",
       "      <th></th>\n",
       "      <th></th>\n",
       "      <th></th>\n",
       "      <th></th>\n",
       "      <th></th>\n",
       "      <th></th>\n",
       "      <th></th>\n",
       "      <th></th>\n",
       "      <th></th>\n",
       "      <th></th>\n",
       "    </tr>\n",
       "  </thead>\n",
       "  <tbody>\n",
       "  </tbody>\n",
       "</table>\n",
       "</div>"
      ],
      "text/plain": [
       "Empty DataFrame\n",
       "Columns: [1. open, 2. high, 3. low, 4. close, 5. adjusted close, 6. volume, 7. dividend amount, 8. split coefficient, date_time, day_of_week, adjusted_close_shift, percentage_change, increase, negative, nuetral, positive]\n",
       "Index: []"
      ]
     },
     "execution_count": 57,
     "metadata": {},
     "output_type": "execute_result"
    }
   ],
   "source": [
    "df_merge[df_merge[\"negative\"].isnull()]"
   ]
  },
  {
   "cell_type": "code",
   "execution_count": 58,
   "metadata": {},
   "outputs": [],
   "source": [
    "# df_merge.fillna(method=\"ffill\", inplace=True)"
   ]
  },
  {
   "cell_type": "code",
   "execution_count": 59,
   "metadata": {},
   "outputs": [
    {
     "data": {
      "text/html": [
       "<div>\n",
       "<style scoped>\n",
       "    .dataframe tbody tr th:only-of-type {\n",
       "        vertical-align: middle;\n",
       "    }\n",
       "\n",
       "    .dataframe tbody tr th {\n",
       "        vertical-align: top;\n",
       "    }\n",
       "\n",
       "    .dataframe thead th {\n",
       "        text-align: right;\n",
       "    }\n",
       "</style>\n",
       "<table border=\"1\" class=\"dataframe\">\n",
       "  <thead>\n",
       "    <tr style=\"text-align: right;\">\n",
       "      <th></th>\n",
       "      <th>1. open</th>\n",
       "      <th>2. high</th>\n",
       "      <th>3. low</th>\n",
       "      <th>4. close</th>\n",
       "      <th>5. adjusted close</th>\n",
       "      <th>6. volume</th>\n",
       "      <th>7. dividend amount</th>\n",
       "      <th>8. split coefficient</th>\n",
       "      <th>date_time</th>\n",
       "      <th>day_of_week</th>\n",
       "      <th>adjusted_close_shift</th>\n",
       "      <th>percentage_change</th>\n",
       "      <th>increase</th>\n",
       "      <th>negative</th>\n",
       "      <th>nuetral</th>\n",
       "      <th>positive</th>\n",
       "    </tr>\n",
       "    <tr>\n",
       "      <th>date</th>\n",
       "      <th></th>\n",
       "      <th></th>\n",
       "      <th></th>\n",
       "      <th></th>\n",
       "      <th></th>\n",
       "      <th></th>\n",
       "      <th></th>\n",
       "      <th></th>\n",
       "      <th></th>\n",
       "      <th></th>\n",
       "      <th></th>\n",
       "      <th></th>\n",
       "      <th></th>\n",
       "      <th></th>\n",
       "      <th></th>\n",
       "      <th></th>\n",
       "    </tr>\n",
       "  </thead>\n",
       "  <tbody>\n",
       "  </tbody>\n",
       "</table>\n",
       "</div>"
      ],
      "text/plain": [
       "Empty DataFrame\n",
       "Columns: [1. open, 2. high, 3. low, 4. close, 5. adjusted close, 6. volume, 7. dividend amount, 8. split coefficient, date_time, day_of_week, adjusted_close_shift, percentage_change, increase, negative, nuetral, positive]\n",
       "Index: []"
      ]
     },
     "execution_count": 59,
     "metadata": {},
     "output_type": "execute_result"
    }
   ],
   "source": [
    "df_merge[df_merge.negative.isnull()]"
   ]
  },
  {
   "cell_type": "code",
   "execution_count": 60,
   "metadata": {},
   "outputs": [],
   "source": [
    " #df_merge.fillna(0.0, inplace=True)"
   ]
  },
  {
   "cell_type": "code",
   "execution_count": 61,
   "metadata": {},
   "outputs": [
    {
     "data": {
      "text/html": [
       "<div>\n",
       "<style scoped>\n",
       "    .dataframe tbody tr th:only-of-type {\n",
       "        vertical-align: middle;\n",
       "    }\n",
       "\n",
       "    .dataframe tbody tr th {\n",
       "        vertical-align: top;\n",
       "    }\n",
       "\n",
       "    .dataframe thead th {\n",
       "        text-align: right;\n",
       "    }\n",
       "</style>\n",
       "<table border=\"1\" class=\"dataframe\">\n",
       "  <thead>\n",
       "    <tr style=\"text-align: right;\">\n",
       "      <th></th>\n",
       "      <th>1. open</th>\n",
       "      <th>2. high</th>\n",
       "      <th>3. low</th>\n",
       "      <th>4. close</th>\n",
       "      <th>5. adjusted close</th>\n",
       "      <th>6. volume</th>\n",
       "      <th>7. dividend amount</th>\n",
       "      <th>8. split coefficient</th>\n",
       "      <th>date_time</th>\n",
       "      <th>day_of_week</th>\n",
       "      <th>adjusted_close_shift</th>\n",
       "      <th>percentage_change</th>\n",
       "      <th>increase</th>\n",
       "      <th>negative</th>\n",
       "      <th>nuetral</th>\n",
       "      <th>positive</th>\n",
       "    </tr>\n",
       "    <tr>\n",
       "      <th>date</th>\n",
       "      <th></th>\n",
       "      <th></th>\n",
       "      <th></th>\n",
       "      <th></th>\n",
       "      <th></th>\n",
       "      <th></th>\n",
       "      <th></th>\n",
       "      <th></th>\n",
       "      <th></th>\n",
       "      <th></th>\n",
       "      <th></th>\n",
       "      <th></th>\n",
       "      <th></th>\n",
       "      <th></th>\n",
       "      <th></th>\n",
       "      <th></th>\n",
       "    </tr>\n",
       "  </thead>\n",
       "  <tbody>\n",
       "    <tr>\n",
       "      <th>2010-01-04</th>\n",
       "      <td>213.43</td>\n",
       "      <td>214.50</td>\n",
       "      <td>212.38</td>\n",
       "      <td>214.01</td>\n",
       "      <td>6.543876</td>\n",
       "      <td>17633200.0</td>\n",
       "      <td>0.0</td>\n",
       "      <td>1.0</td>\n",
       "      <td>2010-01-04</td>\n",
       "      <td>0</td>\n",
       "      <td>6.555190</td>\n",
       "      <td>0.172889</td>\n",
       "      <td>1</td>\n",
       "      <td>0.000007</td>\n",
       "      <td>0.000010</td>\n",
       "      <td>0.999984</td>\n",
       "    </tr>\n",
       "    <tr>\n",
       "      <th>2010-01-05</th>\n",
       "      <td>214.60</td>\n",
       "      <td>215.59</td>\n",
       "      <td>213.25</td>\n",
       "      <td>214.38</td>\n",
       "      <td>6.555190</td>\n",
       "      <td>21496600.0</td>\n",
       "      <td>0.0</td>\n",
       "      <td>1.0</td>\n",
       "      <td>2010-01-05</td>\n",
       "      <td>1</td>\n",
       "      <td>6.450921</td>\n",
       "      <td>-1.590633</td>\n",
       "      <td>0</td>\n",
       "      <td>0.498715</td>\n",
       "      <td>0.001116</td>\n",
       "      <td>0.500169</td>\n",
       "    </tr>\n",
       "    <tr>\n",
       "      <th>2010-01-06</th>\n",
       "      <td>214.38</td>\n",
       "      <td>215.23</td>\n",
       "      <td>210.75</td>\n",
       "      <td>210.97</td>\n",
       "      <td>6.450921</td>\n",
       "      <td>19720000.0</td>\n",
       "      <td>0.0</td>\n",
       "      <td>1.0</td>\n",
       "      <td>2010-01-06</td>\n",
       "      <td>2</td>\n",
       "      <td>6.438996</td>\n",
       "      <td>-0.184860</td>\n",
       "      <td>0</td>\n",
       "      <td>0.000052</td>\n",
       "      <td>0.085701</td>\n",
       "      <td>0.914247</td>\n",
       "    </tr>\n",
       "    <tr>\n",
       "      <th>2010-01-07</th>\n",
       "      <td>211.75</td>\n",
       "      <td>212.00</td>\n",
       "      <td>209.05</td>\n",
       "      <td>210.58</td>\n",
       "      <td>6.438996</td>\n",
       "      <td>17040400.0</td>\n",
       "      <td>0.0</td>\n",
       "      <td>1.0</td>\n",
       "      <td>2010-01-07</td>\n",
       "      <td>3</td>\n",
       "      <td>6.481804</td>\n",
       "      <td>0.664830</td>\n",
       "      <td>1</td>\n",
       "      <td>0.457010</td>\n",
       "      <td>0.000224</td>\n",
       "      <td>0.542766</td>\n",
       "    </tr>\n",
       "    <tr>\n",
       "      <th>2010-01-08</th>\n",
       "      <td>210.30</td>\n",
       "      <td>212.00</td>\n",
       "      <td>209.06</td>\n",
       "      <td>211.98</td>\n",
       "      <td>6.481804</td>\n",
       "      <td>15986100.0</td>\n",
       "      <td>0.0</td>\n",
       "      <td>1.0</td>\n",
       "      <td>2010-01-08</td>\n",
       "      <td>4</td>\n",
       "      <td>6.424624</td>\n",
       "      <td>-0.882159</td>\n",
       "      <td>0</td>\n",
       "      <td>0.010157</td>\n",
       "      <td>0.000059</td>\n",
       "      <td>0.989783</td>\n",
       "    </tr>\n",
       "  </tbody>\n",
       "</table>\n",
       "</div>"
      ],
      "text/plain": [
       "            1. open  2. high  3. low  4. close  5. adjusted close   6. volume  \\\n",
       "date                                                                            \n",
       "2010-01-04  213.43   214.50   212.38  214.01    6.543876           17633200.0   \n",
       "2010-01-05  214.60   215.59   213.25  214.38    6.555190           21496600.0   \n",
       "2010-01-06  214.38   215.23   210.75  210.97    6.450921           19720000.0   \n",
       "2010-01-07  211.75   212.00   209.05  210.58    6.438996           17040400.0   \n",
       "2010-01-08  210.30   212.00   209.06  211.98    6.481804           15986100.0   \n",
       "\n",
       "            7. dividend amount  8. split coefficient  date_time  day_of_week  \\\n",
       "date                                                                           \n",
       "2010-01-04  0.0                 1.0                  2010-01-04  0             \n",
       "2010-01-05  0.0                 1.0                  2010-01-05  1             \n",
       "2010-01-06  0.0                 1.0                  2010-01-06  2             \n",
       "2010-01-07  0.0                 1.0                  2010-01-07  3             \n",
       "2010-01-08  0.0                 1.0                  2010-01-08  4             \n",
       "\n",
       "            adjusted_close_shift  percentage_change  increase  negative  \\\n",
       "date                                                                      \n",
       "2010-01-04  6.555190              0.172889           1         0.000007   \n",
       "2010-01-05  6.450921             -1.590633           0         0.498715   \n",
       "2010-01-06  6.438996             -0.184860           0         0.000052   \n",
       "2010-01-07  6.481804              0.664830           1         0.457010   \n",
       "2010-01-08  6.424624             -0.882159           0         0.010157   \n",
       "\n",
       "             nuetral  positive  \n",
       "date                            \n",
       "2010-01-04  0.000010  0.999984  \n",
       "2010-01-05  0.001116  0.500169  \n",
       "2010-01-06  0.085701  0.914247  \n",
       "2010-01-07  0.000224  0.542766  \n",
       "2010-01-08  0.000059  0.989783  "
      ]
     },
     "execution_count": 61,
     "metadata": {},
     "output_type": "execute_result"
    }
   ],
   "source": [
    "# df_merge.to_csv(f\"/app/StockPricePredictions/data/alphavantage/time_series_daily_adjusted/{ticker_upper}/{ticker_upper}_WITH_TWINT_FINBERT_SA.csv\")\n",
    "df_merge.head()"
   ]
  },
  {
   "cell_type": "code",
   "execution_count": 62,
   "metadata": {},
   "outputs": [],
   "source": [
    "# df_merge = df_merge.sample(frac=1).reset_index(drop=True)"
   ]
  },
  {
   "cell_type": "code",
   "execution_count": 63,
   "metadata": {},
   "outputs": [],
   "source": [
    "# X = df_merge[[\"negative\", \"nuetral\", \"positive\", \"retweets\"]]\n",
    "X = df_merge[[\"negative\", \"nuetral\", \"positive\"]]\n",
    "y = df_merge[\"increase\"]"
   ]
  },
  {
   "cell_type": "code",
   "execution_count": 64,
   "metadata": {},
   "outputs": [
    {
     "data": {
      "text/plain": [
       "date\n",
       "2010-01-04    1\n",
       "2010-01-05    0\n",
       "2010-01-06    0\n",
       "2010-01-07    1\n",
       "2010-01-08    0\n",
       "Name: increase, dtype: int64"
      ]
     },
     "execution_count": 64,
     "metadata": {},
     "output_type": "execute_result"
    }
   ],
   "source": [
    "y.head()"
   ]
  },
  {
   "cell_type": "code",
   "execution_count": null,
   "metadata": {},
   "outputs": [],
   "source": []
  },
  {
   "cell_type": "code",
   "execution_count": 65,
   "metadata": {},
   "outputs": [],
   "source": [
    "SPLIT = int(0.9 * len(df_merge))\n",
    "\n",
    "X_train = X[:SPLIT]\n",
    "X_test = X[SPLIT:]\n",
    "\n",
    "y_train = y[:SPLIT]\n",
    "y_test = y[SPLIT:]\n",
    "\n"
   ]
  },
  {
   "cell_type": "code",
   "execution_count": 66,
   "metadata": {},
   "outputs": [
    {
     "data": {
      "text/html": [
       "<div>\n",
       "<style scoped>\n",
       "    .dataframe tbody tr th:only-of-type {\n",
       "        vertical-align: middle;\n",
       "    }\n",
       "\n",
       "    .dataframe tbody tr th {\n",
       "        vertical-align: top;\n",
       "    }\n",
       "\n",
       "    .dataframe thead th {\n",
       "        text-align: right;\n",
       "    }\n",
       "</style>\n",
       "<table border=\"1\" class=\"dataframe\">\n",
       "  <thead>\n",
       "    <tr style=\"text-align: right;\">\n",
       "      <th></th>\n",
       "      <th>negative</th>\n",
       "      <th>nuetral</th>\n",
       "      <th>positive</th>\n",
       "    </tr>\n",
       "    <tr>\n",
       "      <th>date</th>\n",
       "      <th></th>\n",
       "      <th></th>\n",
       "      <th></th>\n",
       "    </tr>\n",
       "  </thead>\n",
       "  <tbody>\n",
       "    <tr>\n",
       "      <th>2010-01-04</th>\n",
       "      <td>0.000007</td>\n",
       "      <td>0.000010</td>\n",
       "      <td>0.999984</td>\n",
       "    </tr>\n",
       "    <tr>\n",
       "      <th>2010-01-05</th>\n",
       "      <td>0.498715</td>\n",
       "      <td>0.001116</td>\n",
       "      <td>0.500169</td>\n",
       "    </tr>\n",
       "    <tr>\n",
       "      <th>2010-01-06</th>\n",
       "      <td>0.000052</td>\n",
       "      <td>0.085701</td>\n",
       "      <td>0.914247</td>\n",
       "    </tr>\n",
       "    <tr>\n",
       "      <th>2010-01-07</th>\n",
       "      <td>0.457010</td>\n",
       "      <td>0.000224</td>\n",
       "      <td>0.542766</td>\n",
       "    </tr>\n",
       "    <tr>\n",
       "      <th>2010-01-08</th>\n",
       "      <td>0.010157</td>\n",
       "      <td>0.000059</td>\n",
       "      <td>0.989783</td>\n",
       "    </tr>\n",
       "    <tr>\n",
       "      <th>...</th>\n",
       "      <td>...</td>\n",
       "      <td>...</td>\n",
       "      <td>...</td>\n",
       "    </tr>\n",
       "    <tr>\n",
       "      <th>2020-12-14</th>\n",
       "      <td>0.012838</td>\n",
       "      <td>0.000224</td>\n",
       "      <td>0.986938</td>\n",
       "    </tr>\n",
       "    <tr>\n",
       "      <th>2020-12-15</th>\n",
       "      <td>0.215641</td>\n",
       "      <td>0.085961</td>\n",
       "      <td>0.698398</td>\n",
       "    </tr>\n",
       "    <tr>\n",
       "      <th>2020-12-16</th>\n",
       "      <td>0.214189</td>\n",
       "      <td>0.127090</td>\n",
       "      <td>0.658722</td>\n",
       "    </tr>\n",
       "    <tr>\n",
       "      <th>2020-12-17</th>\n",
       "      <td>0.333340</td>\n",
       "      <td>0.000002</td>\n",
       "      <td>0.666659</td>\n",
       "    </tr>\n",
       "    <tr>\n",
       "      <th>2020-12-18</th>\n",
       "      <td>0.111148</td>\n",
       "      <td>0.000005</td>\n",
       "      <td>0.888847</td>\n",
       "    </tr>\n",
       "  </tbody>\n",
       "</table>\n",
       "<p>2647 rows × 3 columns</p>\n",
       "</div>"
      ],
      "text/plain": [
       "            negative   nuetral  positive\n",
       "date                                    \n",
       "2010-01-04  0.000007  0.000010  0.999984\n",
       "2010-01-05  0.498715  0.001116  0.500169\n",
       "2010-01-06  0.000052  0.085701  0.914247\n",
       "2010-01-07  0.457010  0.000224  0.542766\n",
       "2010-01-08  0.010157  0.000059  0.989783\n",
       "...              ...       ...       ...\n",
       "2020-12-14  0.012838  0.000224  0.986938\n",
       "2020-12-15  0.215641  0.085961  0.698398\n",
       "2020-12-16  0.214189  0.127090  0.658722\n",
       "2020-12-17  0.333340  0.000002  0.666659\n",
       "2020-12-18  0.111148  0.000005  0.888847\n",
       "\n",
       "[2647 rows x 3 columns]"
      ]
     },
     "execution_count": 66,
     "metadata": {},
     "output_type": "execute_result"
    }
   ],
   "source": [
    "X_train"
   ]
  },
  {
   "cell_type": "code",
   "execution_count": 67,
   "metadata": {},
   "outputs": [],
   "source": [
    "from sklearn.ensemble import RandomForestClassifier"
   ]
  },
  {
   "cell_type": "code",
   "execution_count": 68,
   "metadata": {},
   "outputs": [
    {
     "data": {
      "text/plain": [
       "RandomForestClassifier(criterion='entropy', n_estimators=200)"
      ]
     },
     "execution_count": 68,
     "metadata": {},
     "output_type": "execute_result"
    }
   ],
   "source": [
    "rfc = RandomForestClassifier(n_estimators=200, criterion=\"entropy\")\n",
    "rfc.fit(X_train, y_train)"
   ]
  },
  {
   "cell_type": "code",
   "execution_count": 69,
   "metadata": {},
   "outputs": [],
   "source": [
    "preds = rfc.predict(X_test)"
   ]
  },
  {
   "cell_type": "code",
   "execution_count": 70,
   "metadata": {},
   "outputs": [],
   "source": [
    "from sklearn.metrics import classification_report, confusion_matrix, accuracy_score"
   ]
  },
  {
   "cell_type": "code",
   "execution_count": 71,
   "metadata": {},
   "outputs": [],
   "source": [
    "matrix = confusion_matrix(y_test, preds)"
   ]
  },
  {
   "cell_type": "code",
   "execution_count": 72,
   "metadata": {},
   "outputs": [
    {
     "data": {
      "text/plain": [
       "array([[67, 75],\n",
       "       [76, 77]])"
      ]
     },
     "execution_count": 72,
     "metadata": {},
     "output_type": "execute_result"
    }
   ],
   "source": [
    "matrix"
   ]
  },
  {
   "cell_type": "code",
   "execution_count": 73,
   "metadata": {},
   "outputs": [],
   "source": [
    "score = accuracy_score(y_test, preds)"
   ]
  },
  {
   "cell_type": "code",
   "execution_count": 74,
   "metadata": {},
   "outputs": [
    {
     "data": {
      "text/plain": [
       "0.488135593220339"
      ]
     },
     "execution_count": 74,
     "metadata": {},
     "output_type": "execute_result"
    }
   ],
   "source": [
    "score"
   ]
  },
  {
   "cell_type": "code",
   "execution_count": 75,
   "metadata": {},
   "outputs": [
    {
     "name": "stdout",
     "output_type": "stream",
     "text": [
      "              precision    recall  f1-score   support\n",
      "\n",
      "           0       0.47      0.47      0.47       142\n",
      "           1       0.51      0.50      0.50       153\n",
      "\n",
      "    accuracy                           0.49       295\n",
      "   macro avg       0.49      0.49      0.49       295\n",
      "weighted avg       0.49      0.49      0.49       295\n",
      "\n"
     ]
    }
   ],
   "source": [
    "print(classification_report(y_test, preds))\n"
   ]
  },
  {
   "cell_type": "code",
   "execution_count": 76,
   "metadata": {},
   "outputs": [
    {
     "name": "stdout",
     "output_type": "stream",
     "text": [
      "          negative   nuetral  positive  increase\n",
      "negative  1.000000 -0.174434 -0.713740  0.014146\n",
      "nuetral  -0.174434  1.000000 -0.565172 -0.047997\n",
      "positive -0.713740 -0.565172  1.000000  0.022290\n",
      "increase  0.014146 -0.047997  0.022290  1.000000\n"
     ]
    }
   ],
   "source": [
    "# corr_matrix = df_merge[[\"negative\", \"nuetral\", \"positive\", \"retweets\", \"increase\"]].corr()\n",
    "corr_matrix = df_merge[[\"negative\", \"nuetral\", \"positive\", \"increase\"]].corr()\n",
    "print (corr_matrix)"
   ]
  },
  {
   "cell_type": "code",
   "execution_count": 77,
   "metadata": {},
   "outputs": [],
   "source": [
    "from statsmodels.tsa.stattools import grangercausalitytests"
   ]
  },
  {
   "cell_type": "code",
   "execution_count": 78,
   "metadata": {},
   "outputs": [
    {
     "name": "stdout",
     "output_type": "stream",
     "text": [
      "\n",
      "Granger Causality\n",
      "number of lags (no zero) 63\n",
      "ssr based F test:         F=0.8645  , p=0.7678  , df_denom=2752, df_num=63\n",
      "ssr based chi2 test:   chi2=56.9740 , p=0.6897  , df=63\n",
      "likelihood ratio test: chi2=56.4175 , p=0.7082  , df=63\n",
      "parameter F test:         F=0.8645  , p=0.7678  , df_denom=2752, df_num=63\n"
     ]
    },
    {
     "data": {
      "text/plain": [
       "{63: ({'ssr_ftest': (0.8644554245732667, 0.767834987764773, 2752.0, 63),\n",
       "   'ssr_chi2test': (56.97395768271272, 0.6897212083919158, 63),\n",
       "   'lrtest': (56.41754353230499, 0.7082259543673997, 63),\n",
       "   'params_ftest': (0.8644554245732632, 0.7678349877647833, 2752.0, 63.0)},\n",
       "  [<statsmodels.regression.linear_model.RegressionResultsWrapper at 0x7fae7e9708b0>,\n",
       "   <statsmodels.regression.linear_model.RegressionResultsWrapper at 0x7fae7cc8fca0>,\n",
       "   array([[0., 0., 0., ..., 0., 0., 0.],\n",
       "          [0., 0., 0., ..., 0., 0., 0.],\n",
       "          [0., 0., 0., ..., 0., 0., 0.],\n",
       "          ...,\n",
       "          [0., 0., 0., ..., 0., 0., 0.],\n",
       "          [0., 0., 0., ..., 1., 0., 0.],\n",
       "          [0., 0., 0., ..., 0., 1., 0.]])])}"
      ]
     },
     "execution_count": 78,
     "metadata": {},
     "output_type": "execute_result"
    }
   ],
   "source": [
    "#perform Granger-Causality test\n",
    "grangercausalitytests(df_merge[[\"positive\", \"increase\"]], maxlag=[63])"
   ]
  }
 ],
 "metadata": {
  "kernelspec": {
   "display_name": "Python 3",
   "language": "python",
   "name": "python3"
  },
  "orig_nbformat": 4
 },
 "nbformat": 4,
 "nbformat_minor": 2
}
