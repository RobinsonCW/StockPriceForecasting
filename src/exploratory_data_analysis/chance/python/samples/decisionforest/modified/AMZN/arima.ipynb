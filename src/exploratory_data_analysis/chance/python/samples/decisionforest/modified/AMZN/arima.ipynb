{
 "cells": [
  {
   "cell_type": "code",
   "execution_count": 37,
   "metadata": {},
   "outputs": [
    {
     "name": "stdout",
     "output_type": "stream",
     "text": [
      "The nb_black extension is already loaded. To reload it, use:\n",
      "  %reload_ext nb_black\n"
     ]
    },
    {
     "data": {
      "application/javascript": "\n            setTimeout(function() {\n                var nbb_cell_id = 37;\n                var nbb_unformatted_code = \"from IPython.core.debugger import set_trace\\n\\n%load_ext nb_black\\n\\n\\nimport pandas as pd\\nimport numpy as np\\nimport os\\nimport matplotlib.pyplot as plt\\nimport time\\n\\nplt.style.use(style=\\\"seaborn\\\")\\n%matplotlib inline\";\n                var nbb_formatted_code = \"from IPython.core.debugger import set_trace\\n\\n%load_ext nb_black\\n\\n\\nimport pandas as pd\\nimport numpy as np\\nimport os\\nimport matplotlib.pyplot as plt\\nimport time\\n\\nplt.style.use(style=\\\"seaborn\\\")\\n%matplotlib inline\";\n                var nbb_cells = Jupyter.notebook.get_cells();\n                for (var i = 0; i < nbb_cells.length; ++i) {\n                    if (nbb_cells[i].input_prompt_number == nbb_cell_id) {\n                        if (nbb_cells[i].get_text() == nbb_unformatted_code) {\n                             nbb_cells[i].set_text(nbb_formatted_code);\n                        }\n                        break;\n                    }\n                }\n            }, 500);\n            ",
      "text/plain": [
       "<IPython.core.display.Javascript object>"
      ]
     },
     "metadata": {},
     "output_type": "display_data"
    }
   ],
   "source": [
    "from IPython.core.debugger import set_trace\n",
    "\n",
    "%load_ext nb_black\n",
    "\n",
    "\n",
    "import pandas as pd\n",
    "import numpy as np\n",
    "import os\n",
    "import matplotlib.pyplot as plt\n",
    "import time\n",
    "\n",
    "plt.style.use(style=\"seaborn\")\n",
    "%matplotlib inline"
   ]
  },
  {
   "cell_type": "code",
   "execution_count": 38,
   "metadata": {},
   "outputs": [
    {
     "data": {
      "application/javascript": "\n            setTimeout(function() {\n                var nbb_cell_id = 38;\n                var nbb_unformatted_code = \"csv_path = \\\"/app/StockPricePredictions/data/alphavantage/time_series_daily_adjusted/AMZN/AMZN_WITH_BENZINGA_FINBERT_SA.csv\\\"\";\n                var nbb_formatted_code = \"csv_path = \\\"/app/StockPricePredictions/data/alphavantage/time_series_daily_adjusted/AMZN/AMZN_WITH_BENZINGA_FINBERT_SA.csv\\\"\";\n                var nbb_cells = Jupyter.notebook.get_cells();\n                for (var i = 0; i < nbb_cells.length; ++i) {\n                    if (nbb_cells[i].input_prompt_number == nbb_cell_id) {\n                        if (nbb_cells[i].get_text() == nbb_unformatted_code) {\n                             nbb_cells[i].set_text(nbb_formatted_code);\n                        }\n                        break;\n                    }\n                }\n            }, 500);\n            ",
      "text/plain": [
       "<IPython.core.display.Javascript object>"
      ]
     },
     "metadata": {},
     "output_type": "display_data"
    }
   ],
   "source": [
    "csv_path = \"/app/StockPricePredictions/data/alphavantage/time_series_daily_adjusted/AMZN/AMZN_WITH_BENZINGA_FINBERT_SA.csv\""
   ]
  },
  {
   "cell_type": "code",
   "execution_count": 39,
   "metadata": {},
   "outputs": [
    {
     "data": {
      "application/javascript": "\n            setTimeout(function() {\n                var nbb_cell_id = 39;\n                var nbb_unformatted_code = \"df = pd.read_csv(csv_path)\\ndf.sort_values(by=[\\\"date\\\"], ascending=True, inplace=True)\\ndf.reset_index(drop=True, inplace=True)\\n\\ndate_time = pd.to_datetime(df.pop('date'))\\n\\ndf = df[[\\\"5. adjusted close\\\"]].copy()\";\n                var nbb_formatted_code = \"df = pd.read_csv(csv_path)\\ndf.sort_values(by=[\\\"date\\\"], ascending=True, inplace=True)\\ndf.reset_index(drop=True, inplace=True)\\n\\ndate_time = pd.to_datetime(df.pop(\\\"date\\\"))\\n\\ndf = df[[\\\"5. adjusted close\\\"]].copy()\";\n                var nbb_cells = Jupyter.notebook.get_cells();\n                for (var i = 0; i < nbb_cells.length; ++i) {\n                    if (nbb_cells[i].input_prompt_number == nbb_cell_id) {\n                        if (nbb_cells[i].get_text() == nbb_unformatted_code) {\n                             nbb_cells[i].set_text(nbb_formatted_code);\n                        }\n                        break;\n                    }\n                }\n            }, 500);\n            ",
      "text/plain": [
       "<IPython.core.display.Javascript object>"
      ]
     },
     "metadata": {},
     "output_type": "display_data"
    }
   ],
   "source": [
    "df = pd.read_csv(csv_path)\n",
    "df.sort_values(by=[\"date\"], ascending=True, inplace=True)\n",
    "df.reset_index(drop=True, inplace=True)\n",
    "\n",
    "date_time = pd.to_datetime(df.pop('date'))\n",
    "\n",
    "df = df[[\"5. adjusted close\"]].copy()"
   ]
  },
  {
   "cell_type": "code",
   "execution_count": 40,
   "metadata": {},
   "outputs": [
    {
     "name": "stdout",
     "output_type": "stream",
     "text": [
      "2757\n",
      "307\n"
     ]
    },
    {
     "data": {
      "application/javascript": "\n            setTimeout(function() {\n                var nbb_cell_id = 40;\n                var nbb_unformatted_code = \"split_time = int(len(df) * .9)\\n\\ntrain_df = df[:split_time]\\ntest_df = df[split_time:]\\n\\nprint(len(train_df))\\nprint(len(test_df))\\n\\ndf = test_df[[\\\"5. adjusted close\\\"]].copy()\";\n                var nbb_formatted_code = \"split_time = int(len(df) * 0.9)\\n\\ntrain_df = df[:split_time]\\ntest_df = df[split_time:]\\n\\nprint(len(train_df))\\nprint(len(test_df))\\n\\ndf = test_df[[\\\"5. adjusted close\\\"]].copy()\";\n                var nbb_cells = Jupyter.notebook.get_cells();\n                for (var i = 0; i < nbb_cells.length; ++i) {\n                    if (nbb_cells[i].input_prompt_number == nbb_cell_id) {\n                        if (nbb_cells[i].get_text() == nbb_unformatted_code) {\n                             nbb_cells[i].set_text(nbb_formatted_code);\n                        }\n                        break;\n                    }\n                }\n            }, 500);\n            ",
      "text/plain": [
       "<IPython.core.display.Javascript object>"
      ]
     },
     "metadata": {},
     "output_type": "display_data"
    }
   ],
   "source": [
    "split_time = int(len(df) * .9)\n",
    "\n",
    "train_df = df[:split_time]\n",
    "test_df = df[split_time:]\n",
    "\n",
    "print(len(train_df))\n",
    "print(len(test_df))\n",
    "\n",
    "df = test_df[[\"5. adjusted close\"]].copy()"
   ]
  },
  {
   "cell_type": "code",
   "execution_count": 41,
   "metadata": {},
   "outputs": [
    {
     "data": {
      "text/html": [
       "<div>\n",
       "<style scoped>\n",
       "    .dataframe tbody tr th:only-of-type {\n",
       "        vertical-align: middle;\n",
       "    }\n",
       "\n",
       "    .dataframe tbody tr th {\n",
       "        vertical-align: top;\n",
       "    }\n",
       "\n",
       "    .dataframe thead th {\n",
       "        text-align: right;\n",
       "    }\n",
       "</style>\n",
       "<table border=\"1\" class=\"dataframe\">\n",
       "  <thead>\n",
       "    <tr style=\"text-align: right;\">\n",
       "      <th></th>\n",
       "      <th>5. adjusted close</th>\n",
       "    </tr>\n",
       "  </thead>\n",
       "  <tbody>\n",
       "    <tr>\n",
       "      <th>count</th>\n",
       "      <td>307.000000</td>\n",
       "    </tr>\n",
       "    <tr>\n",
       "      <th>mean</th>\n",
       "      <td>3302.874788</td>\n",
       "    </tr>\n",
       "    <tr>\n",
       "      <th>std</th>\n",
       "      <td>182.109845</td>\n",
       "    </tr>\n",
       "    <tr>\n",
       "      <th>min</th>\n",
       "      <td>2776.910000</td>\n",
       "    </tr>\n",
       "    <tr>\n",
       "      <th>25%</th>\n",
       "      <td>3190.135000</td>\n",
       "    </tr>\n",
       "    <tr>\n",
       "      <th>50%</th>\n",
       "      <td>3305.780000</td>\n",
       "    </tr>\n",
       "    <tr>\n",
       "      <th>75%</th>\n",
       "      <td>3421.470000</td>\n",
       "    </tr>\n",
       "    <tr>\n",
       "      <th>max</th>\n",
       "      <td>3731.410000</td>\n",
       "    </tr>\n",
       "  </tbody>\n",
       "</table>\n",
       "</div>"
      ],
      "text/plain": [
       "       5. adjusted close\n",
       "count         307.000000\n",
       "mean         3302.874788\n",
       "std           182.109845\n",
       "min          2776.910000\n",
       "25%          3190.135000\n",
       "50%          3305.780000\n",
       "75%          3421.470000\n",
       "max          3731.410000"
      ]
     },
     "execution_count": 41,
     "metadata": {},
     "output_type": "execute_result"
    },
    {
     "data": {
      "application/javascript": "\n            setTimeout(function() {\n                var nbb_cell_id = 41;\n                var nbb_unformatted_code = \"df.describe()\";\n                var nbb_formatted_code = \"df.describe()\";\n                var nbb_cells = Jupyter.notebook.get_cells();\n                for (var i = 0; i < nbb_cells.length; ++i) {\n                    if (nbb_cells[i].input_prompt_number == nbb_cell_id) {\n                        if (nbb_cells[i].get_text() == nbb_unformatted_code) {\n                             nbb_cells[i].set_text(nbb_formatted_code);\n                        }\n                        break;\n                    }\n                }\n            }, 500);\n            ",
      "text/plain": [
       "<IPython.core.display.Javascript object>"
      ]
     },
     "metadata": {},
     "output_type": "display_data"
    }
   ],
   "source": [
    "df.describe()"
   ]
  },
  {
   "cell_type": "code",
   "execution_count": 42,
   "metadata": {},
   "outputs": [
    {
     "data": {
      "text/html": [
       "<div>\n",
       "<style scoped>\n",
       "    .dataframe tbody tr th:only-of-type {\n",
       "        vertical-align: middle;\n",
       "    }\n",
       "\n",
       "    .dataframe tbody tr th {\n",
       "        vertical-align: top;\n",
       "    }\n",
       "\n",
       "    .dataframe thead th {\n",
       "        text-align: right;\n",
       "    }\n",
       "</style>\n",
       "<table border=\"1\" class=\"dataframe\">\n",
       "  <thead>\n",
       "    <tr style=\"text-align: right;\">\n",
       "      <th></th>\n",
       "      <th>5. adjusted close</th>\n",
       "    </tr>\n",
       "  </thead>\n",
       "  <tbody>\n",
       "    <tr>\n",
       "      <th>2757</th>\n",
       "      <td>3165.12</td>\n",
       "    </tr>\n",
       "    <tr>\n",
       "      <th>2758</th>\n",
       "      <td>3240.96</td>\n",
       "    </tr>\n",
       "    <tr>\n",
       "      <th>2759</th>\n",
       "      <td>3236.08</td>\n",
       "    </tr>\n",
       "    <tr>\n",
       "      <th>2760</th>\n",
       "      <td>3201.65</td>\n",
       "    </tr>\n",
       "    <tr>\n",
       "      <th>2761</th>\n",
       "      <td>3206.18</td>\n",
       "    </tr>\n",
       "  </tbody>\n",
       "</table>\n",
       "</div>"
      ],
      "text/plain": [
       "      5. adjusted close\n",
       "2757            3165.12\n",
       "2758            3240.96\n",
       "2759            3236.08\n",
       "2760            3201.65\n",
       "2761            3206.18"
      ]
     },
     "execution_count": 42,
     "metadata": {},
     "output_type": "execute_result"
    },
    {
     "data": {
      "application/javascript": "\n            setTimeout(function() {\n                var nbb_cell_id = 42;\n                var nbb_unformatted_code = \"df.head()\";\n                var nbb_formatted_code = \"df.head()\";\n                var nbb_cells = Jupyter.notebook.get_cells();\n                for (var i = 0; i < nbb_cells.length; ++i) {\n                    if (nbb_cells[i].input_prompt_number == nbb_cell_id) {\n                        if (nbb_cells[i].get_text() == nbb_unformatted_code) {\n                             nbb_cells[i].set_text(nbb_formatted_code);\n                        }\n                        break;\n                    }\n                }\n            }, 500);\n            ",
      "text/plain": [
       "<IPython.core.display.Javascript object>"
      ]
     },
     "metadata": {},
     "output_type": "display_data"
    }
   ],
   "source": [
    "df.head()"
   ]
  },
  {
   "cell_type": "markdown",
   "metadata": {},
   "source": [
    "### Check if the time series is stationary"
   ]
  },
  {
   "cell_type": "code",
   "execution_count": 43,
   "metadata": {},
   "outputs": [
    {
     "name": "stdout",
     "output_type": "stream",
     "text": [
      "ADF Statistic: -2.494893073271679\n",
      "p-value: 0.11672184508120076\n"
     ]
    },
    {
     "data": {
      "application/javascript": "\n            setTimeout(function() {\n                var nbb_cell_id = 43;\n                var nbb_unformatted_code = \"from statsmodels.tsa.stattools import adfuller\\n\\nresult = adfuller(df[\\\"5. adjusted close\\\"])\\nprint(f\\\"ADF Statistic: {result[0]}\\\")\\nprint(f\\\"p-value: {result[1]}\\\")\";\n                var nbb_formatted_code = \"from statsmodels.tsa.stattools import adfuller\\n\\nresult = adfuller(df[\\\"5. adjusted close\\\"])\\nprint(f\\\"ADF Statistic: {result[0]}\\\")\\nprint(f\\\"p-value: {result[1]}\\\")\";\n                var nbb_cells = Jupyter.notebook.get_cells();\n                for (var i = 0; i < nbb_cells.length; ++i) {\n                    if (nbb_cells[i].input_prompt_number == nbb_cell_id) {\n                        if (nbb_cells[i].get_text() == nbb_unformatted_code) {\n                             nbb_cells[i].set_text(nbb_formatted_code);\n                        }\n                        break;\n                    }\n                }\n            }, 500);\n            ",
      "text/plain": [
       "<IPython.core.display.Javascript object>"
      ]
     },
     "metadata": {},
     "output_type": "display_data"
    }
   ],
   "source": [
    "from statsmodels.tsa.stattools import adfuller\n",
    "\n",
    "result = adfuller(df[\"5. adjusted close\"])\n",
    "print(f\"ADF Statistic: {result[0]}\")\n",
    "print(f\"p-value: {result[1]}\")"
   ]
  },
  {
   "cell_type": "markdown",
   "metadata": {},
   "source": [
    "#### Autocorrelation Function (ACF)"
   ]
  },
  {
   "cell_type": "code",
   "execution_count": 44,
   "metadata": {},
   "outputs": [
    {
     "data": {
      "application/javascript": "\n            setTimeout(function() {\n                var nbb_cell_id = 44;\n                var nbb_unformatted_code = \"from statsmodels.graphics.tsaplots import plot_acf\";\n                var nbb_formatted_code = \"from statsmodels.graphics.tsaplots import plot_acf\";\n                var nbb_cells = Jupyter.notebook.get_cells();\n                for (var i = 0; i < nbb_cells.length; ++i) {\n                    if (nbb_cells[i].input_prompt_number == nbb_cell_id) {\n                        if (nbb_cells[i].get_text() == nbb_unformatted_code) {\n                             nbb_cells[i].set_text(nbb_formatted_code);\n                        }\n                        break;\n                    }\n                }\n            }, 500);\n            ",
      "text/plain": [
       "<IPython.core.display.Javascript object>"
      ]
     },
     "metadata": {},
     "output_type": "display_data"
    }
   ],
   "source": [
    "from statsmodels.graphics.tsaplots import plot_acf"
   ]
  },
  {
   "cell_type": "code",
   "execution_count": 45,
   "metadata": {},
   "outputs": [
    {
     "data": {
      "image/png": "[encoded data removed]",
      "text/plain": [
       "<Figure size 1152x288 with 2 Axes>"
      ]
     },
     "metadata": {
      "needs_background": "light"
     },
     "output_type": "display_data"
    },
    {
     "data": {
      "application/javascript": "\n            setTimeout(function() {\n                var nbb_cell_id = 45;\n                var nbb_unformatted_code = \"fig, (ax1, ax2) = plt.subplots(1, 2, figsize=(16,4))\\n\\nax1.plot(df[\\\"5. adjusted close\\\"])\\nax1.set_title(\\\"Original\\\")\\nplot_acf(df[\\\"5. adjusted close\\\"], ax=ax2);\";\n                var nbb_formatted_code = \"fig, (ax1, ax2) = plt.subplots(1, 2, figsize=(16, 4))\\n\\nax1.plot(df[\\\"5. adjusted close\\\"])\\nax1.set_title(\\\"Original\\\")\\nplot_acf(df[\\\"5. adjusted close\\\"], ax=ax2)\";\n                var nbb_cells = Jupyter.notebook.get_cells();\n                for (var i = 0; i < nbb_cells.length; ++i) {\n                    if (nbb_cells[i].input_prompt_number == nbb_cell_id) {\n                        if (nbb_cells[i].get_text() == nbb_unformatted_code) {\n                             nbb_cells[i].set_text(nbb_formatted_code);\n                        }\n                        break;\n                    }\n                }\n            }, 500);\n            ",
      "text/plain": [
       "<IPython.core.display.Javascript object>"
      ]
     },
     "metadata": {},
     "output_type": "display_data"
    }
   ],
   "source": [
    "fig, (ax1, ax2) = plt.subplots(1, 2, figsize=(16,4))\n",
    "\n",
    "ax1.plot(df[\"5. adjusted close\"])\n",
    "ax1.set_title(\"Original\")\n",
    "plot_acf(df[\"5. adjusted close\"], ax=ax2);"
   ]
  },
  {
   "cell_type": "code",
   "execution_count": 46,
   "metadata": {},
   "outputs": [
    {
     "data": {
      "image/png": "[encoded data removed]",
      "text/plain": [
       "<Figure size 1152x288 with 2 Axes>"
      ]
     },
     "metadata": {
      "needs_background": "light"
     },
     "output_type": "display_data"
    },
    {
     "data": {
      "application/javascript": "\n            setTimeout(function() {\n                var nbb_cell_id = 46;\n                var nbb_unformatted_code = \"diff = df[\\\"5. adjusted close\\\"].diff().dropna()\\n\\nfig, (ax1, ax2) = plt.subplots(1, 2, figsize=(16,4))\\n\\nax1.plot(diff)\\nax1.set_title(\\\"Differenced Once\\\")\\nplot_acf(diff, ax=ax2);\";\n                var nbb_formatted_code = \"diff = df[\\\"5. adjusted close\\\"].diff().dropna()\\n\\nfig, (ax1, ax2) = plt.subplots(1, 2, figsize=(16, 4))\\n\\nax1.plot(diff)\\nax1.set_title(\\\"Differenced Once\\\")\\nplot_acf(diff, ax=ax2)\";\n                var nbb_cells = Jupyter.notebook.get_cells();\n                for (var i = 0; i < nbb_cells.length; ++i) {\n                    if (nbb_cells[i].input_prompt_number == nbb_cell_id) {\n                        if (nbb_cells[i].get_text() == nbb_unformatted_code) {\n                             nbb_cells[i].set_text(nbb_formatted_code);\n                        }\n                        break;\n                    }\n                }\n            }, 500);\n            ",
      "text/plain": [
       "<IPython.core.display.Javascript object>"
      ]
     },
     "metadata": {},
     "output_type": "display_data"
    }
   ],
   "source": [
    "diff = df[\"5. adjusted close\"].diff().dropna()\n",
    "\n",
    "fig, (ax1, ax2) = plt.subplots(1, 2, figsize=(16,4))\n",
    "\n",
    "ax1.plot(diff)\n",
    "ax1.set_title(\"Differenced Once\")\n",
    "plot_acf(diff, ax=ax2);"
   ]
  },
  {
   "cell_type": "code",
   "execution_count": 47,
   "metadata": {},
   "outputs": [
    {
     "data": {
      "application/javascript": "\n            setTimeout(function() {\n                var nbb_cell_id = 47;\n                var nbb_unformatted_code = \"# pip install pmdarima\\nfrom pmdarima.arima.utils import ndiffs\";\n                var nbb_formatted_code = \"# pip install pmdarima\\nfrom pmdarima.arima.utils import ndiffs\";\n                var nbb_cells = Jupyter.notebook.get_cells();\n                for (var i = 0; i < nbb_cells.length; ++i) {\n                    if (nbb_cells[i].input_prompt_number == nbb_cell_id) {\n                        if (nbb_cells[i].get_text() == nbb_unformatted_code) {\n                             nbb_cells[i].set_text(nbb_formatted_code);\n                        }\n                        break;\n                    }\n                }\n            }, 500);\n            ",
      "text/plain": [
       "<IPython.core.display.Javascript object>"
      ]
     },
     "metadata": {},
     "output_type": "display_data"
    }
   ],
   "source": [
    "# pip install pmdarima\n",
    "from pmdarima.arima.utils import ndiffs"
   ]
  },
  {
   "cell_type": "code",
   "execution_count": 48,
   "metadata": {},
   "outputs": [
    {
     "data": {
      "text/plain": [
       "1"
      ]
     },
     "execution_count": 48,
     "metadata": {},
     "output_type": "execute_result"
    },
    {
     "data": {
      "application/javascript": "\n            setTimeout(function() {\n                var nbb_cell_id = 48;\n                var nbb_unformatted_code = \"ndiffs(df[\\\"5. adjusted close\\\"])\";\n                var nbb_formatted_code = \"ndiffs(df[\\\"5. adjusted close\\\"])\";\n                var nbb_cells = Jupyter.notebook.get_cells();\n                for (var i = 0; i < nbb_cells.length; ++i) {\n                    if (nbb_cells[i].input_prompt_number == nbb_cell_id) {\n                        if (nbb_cells[i].get_text() == nbb_unformatted_code) {\n                             nbb_cells[i].set_text(nbb_formatted_code);\n                        }\n                        break;\n                    }\n                }\n            }, 500);\n            ",
      "text/plain": [
       "<IPython.core.display.Javascript object>"
      ]
     },
     "metadata": {},
     "output_type": "display_data"
    }
   ],
   "source": [
    "ndiffs(df[\"5. adjusted close\"])"
   ]
  },
  {
   "cell_type": "markdown",
   "metadata": {},
   "source": [
    "__p__\n",
    "\n",
    "p is the order of the Auto Regressive (AR) term.  It refers to the number of lags to be used as predictors.\n",
    "\n",
    "We can find out the required number of AR terms by inspecting the Partial Autocorrelation (PACF) plot.\n",
    "\n",
    "The partial autocorrelation represents the correlation between the series and its lags."
   ]
  },
  {
   "cell_type": "code",
   "execution_count": 49,
   "metadata": {},
   "outputs": [
    {
     "data": {
      "application/javascript": "\n            setTimeout(function() {\n                var nbb_cell_id = 49;\n                var nbb_unformatted_code = \"from statsmodels.graphics.tsaplots import plot_pacf\";\n                var nbb_formatted_code = \"from statsmodels.graphics.tsaplots import plot_pacf\";\n                var nbb_cells = Jupyter.notebook.get_cells();\n                for (var i = 0; i < nbb_cells.length; ++i) {\n                    if (nbb_cells[i].input_prompt_number == nbb_cell_id) {\n                        if (nbb_cells[i].get_text() == nbb_unformatted_code) {\n                             nbb_cells[i].set_text(nbb_formatted_code);\n                        }\n                        break;\n                    }\n                }\n            }, 500);\n            ",
      "text/plain": [
       "<IPython.core.display.Javascript object>"
      ]
     },
     "metadata": {},
     "output_type": "display_data"
    }
   ],
   "source": [
    "from statsmodels.graphics.tsaplots import plot_pacf"
   ]
  },
  {
   "cell_type": "code",
   "execution_count": 50,
   "metadata": {},
   "outputs": [
    {
     "name": "stderr",
     "output_type": "stream",
     "text": [
      "/usr/local/lib/python3.8/dist-packages/statsmodels/graphics/tsaplots.py:348: FutureWarning: The default method 'yw' can produce PACF values outside of the [-1,1] interval. After 0.13, the default will change tounadjusted Yule-Walker ('ywm'). You can use this method now by setting method='ywm'.\n",
      "  warnings.warn(\n"
     ]
    },
    {
     "data": {
      "image/png": "[encoded data removed]",
      "text/plain": [
       "<Figure size 1152x288 with 2 Axes>"
      ]
     },
     "metadata": {
      "needs_background": "light"
     },
     "output_type": "display_data"
    },
    {
     "data": {
      "application/javascript": "\n            setTimeout(function() {\n                var nbb_cell_id = 50;\n                var nbb_unformatted_code = \"diff = df[\\\"5. adjusted close\\\"].diff().dropna()\\n\\nfig, (ax1, ax2) = plt.subplots(1, 2, figsize=(16,4))\\n\\nax1.plot(diff)\\nax1.set_title(\\\"Differenced Once\\\")\\nplot_pacf(diff, ax=ax2);\";\n                var nbb_formatted_code = \"diff = df[\\\"5. adjusted close\\\"].diff().dropna()\\n\\nfig, (ax1, ax2) = plt.subplots(1, 2, figsize=(16, 4))\\n\\nax1.plot(diff)\\nax1.set_title(\\\"Differenced Once\\\")\\nplot_pacf(diff, ax=ax2)\";\n                var nbb_cells = Jupyter.notebook.get_cells();\n                for (var i = 0; i < nbb_cells.length; ++i) {\n                    if (nbb_cells[i].input_prompt_number == nbb_cell_id) {\n                        if (nbb_cells[i].get_text() == nbb_unformatted_code) {\n                             nbb_cells[i].set_text(nbb_formatted_code);\n                        }\n                        break;\n                    }\n                }\n            }, 500);\n            ",
      "text/plain": [
       "<IPython.core.display.Javascript object>"
      ]
     },
     "metadata": {},
     "output_type": "display_data"
    }
   ],
   "source": [
    "diff = df[\"5. adjusted close\"].diff().dropna()\n",
    "\n",
    "fig, (ax1, ax2) = plt.subplots(1, 2, figsize=(16,4))\n",
    "\n",
    "ax1.plot(diff)\n",
    "ax1.set_title(\"Differenced Once\")\n",
    "plot_pacf(diff, ax=ax2);"
   ]
  },
  {
   "cell_type": "markdown",
   "metadata": {},
   "source": [
    "__q__\n",
    "\n",
    "q is the order of the Moving Average (MA) term.  It refers to the number of lagged forecast errors that should go into the ARIMA Model.\n",
    "\n",
    "We can look at the ACF plot for the number of MA terms.\n",
    "\n"
   ]
  },
  {
   "cell_type": "code",
   "execution_count": 51,
   "metadata": {},
   "outputs": [
    {
     "data": {
      "image/png": "[encoded data removed]",
      "text/plain": [
       "<Figure size 1152x288 with 2 Axes>"
      ]
     },
     "metadata": {
      "needs_background": "light"
     },
     "output_type": "display_data"
    },
    {
     "data": {
      "application/javascript": "\n            setTimeout(function() {\n                var nbb_cell_id = 51;\n                var nbb_unformatted_code = \"diff = df[\\\"5. adjusted close\\\"].diff().dropna()\\n\\nfig, (ax1, ax2) = plt.subplots(1, 2, figsize=(16,4))\\n\\nax1.plot(diff)\\nax1.set_title(\\\"Differenced Once\\\")\\nplot_acf(diff, ax=ax2);\";\n                var nbb_formatted_code = \"diff = df[\\\"5. adjusted close\\\"].diff().dropna()\\n\\nfig, (ax1, ax2) = plt.subplots(1, 2, figsize=(16, 4))\\n\\nax1.plot(diff)\\nax1.set_title(\\\"Differenced Once\\\")\\nplot_acf(diff, ax=ax2)\";\n                var nbb_cells = Jupyter.notebook.get_cells();\n                for (var i = 0; i < nbb_cells.length; ++i) {\n                    if (nbb_cells[i].input_prompt_number == nbb_cell_id) {\n                        if (nbb_cells[i].get_text() == nbb_unformatted_code) {\n                             nbb_cells[i].set_text(nbb_formatted_code);\n                        }\n                        break;\n                    }\n                }\n            }, 500);\n            ",
      "text/plain": [
       "<IPython.core.display.Javascript object>"
      ]
     },
     "metadata": {},
     "output_type": "display_data"
    }
   ],
   "source": [
    "diff = df[\"5. adjusted close\"].diff().dropna()\n",
    "\n",
    "fig, (ax1, ax2) = plt.subplots(1, 2, figsize=(16,4))\n",
    "\n",
    "ax1.plot(diff)\n",
    "ax1.set_title(\"Differenced Once\")\n",
    "plot_acf(diff, ax=ax2);"
   ]
  },
  {
   "cell_type": "markdown",
   "metadata": {},
   "source": [
    "#### Fitting the ARIMA Model"
   ]
  },
  {
   "cell_type": "code",
   "execution_count": 52,
   "metadata": {},
   "outputs": [
    {
     "name": "stderr",
     "output_type": "stream",
     "text": [
      "/usr/local/lib/python3.8/dist-packages/statsmodels/base/model.py:604: ConvergenceWarning: Maximum Likelihood optimization failed to converge. Check mle_retvals\n",
      "  warnings.warn(\"Maximum Likelihood optimization failed to \"\n"
     ]
    },
    {
     "data": {
      "application/javascript": "\n            setTimeout(function() {\n                var nbb_cell_id = 52;\n                var nbb_unformatted_code = \"from statsmodels.tsa.arima.model import ARIMA\\n# from statsmodels.tsa.arima_model import ARIMA\\n\\nmodel = ARIMA(df[\\\"5. adjusted close\\\"], order=(9,1,9))\\nresult = model.fit()\";\n                var nbb_formatted_code = \"from statsmodels.tsa.arima.model import ARIMA\\n\\n# from statsmodels.tsa.arima_model import ARIMA\\n\\nmodel = ARIMA(df[\\\"5. adjusted close\\\"], order=(9, 1, 9))\\nresult = model.fit()\";\n                var nbb_cells = Jupyter.notebook.get_cells();\n                for (var i = 0; i < nbb_cells.length; ++i) {\n                    if (nbb_cells[i].input_prompt_number == nbb_cell_id) {\n                        if (nbb_cells[i].get_text() == nbb_unformatted_code) {\n                             nbb_cells[i].set_text(nbb_formatted_code);\n                        }\n                        break;\n                    }\n                }\n            }, 500);\n            ",
      "text/plain": [
       "<IPython.core.display.Javascript object>"
      ]
     },
     "metadata": {},
     "output_type": "display_data"
    }
   ],
   "source": [
    "from statsmodels.tsa.arima.model import ARIMA\n",
    "# from statsmodels.tsa.arima_model import ARIMA\n",
    "\n",
    "model = ARIMA(df[\"5. adjusted close\"], order=(9,1,9))\n",
    "result = model.fit()\n"
   ]
  },
  {
   "cell_type": "code",
   "execution_count": 53,
   "metadata": {},
   "outputs": [
    {
     "data": {
      "text/html": [
       "<table class=\"simpletable\">\n",
       "<caption>SARIMAX Results</caption>\n",
       "<tr>\n",
       "  <th>Dep. Variable:</th>   <td>5. adjusted close</td> <th>  No. Observations:  </th>    <td>307</td>   \n",
       "</tr>\n",
       "<tr>\n",
       "  <th>Model:</th>            <td>ARIMA(9, 1, 9)</td>   <th>  Log Likelihood     </th> <td>-1670.390</td>\n",
       "</tr>\n",
       "<tr>\n",
       "  <th>Date:</th>            <td>Sat, 09 Jul 2022</td>  <th>  AIC                </th> <td>3378.780</td> \n",
       "</tr>\n",
       "<tr>\n",
       "  <th>Time:</th>                <td>04:59:59</td>      <th>  BIC                </th> <td>3449.528</td> \n",
       "</tr>\n",
       "<tr>\n",
       "  <th>Sample:</th>                  <td>0</td>         <th>  HQIC               </th> <td>3407.075</td> \n",
       "</tr>\n",
       "<tr>\n",
       "  <th></th>                      <td> - 307</td>       <th>                     </th>     <td> </td>    \n",
       "</tr>\n",
       "<tr>\n",
       "  <th>Covariance Type:</th>        <td>opg</td>        <th>                     </th>     <td> </td>    \n",
       "</tr>\n",
       "</table>\n",
       "<table class=\"simpletable\">\n",
       "<tr>\n",
       "     <td></td>       <th>coef</th>     <th>std err</th>      <th>z</th>      <th>P>|z|</th>  <th>[0.025</th>    <th>0.975]</th>  \n",
       "</tr>\n",
       "<tr>\n",
       "  <th>ar.L1</th>  <td>    0.3176</td> <td>    0.739</td> <td>    0.430</td> <td> 0.667</td> <td>   -1.131</td> <td>    1.766</td>\n",
       "</tr>\n",
       "<tr>\n",
       "  <th>ar.L2</th>  <td>   -0.2086</td> <td>    0.381</td> <td>   -0.548</td> <td> 0.584</td> <td>   -0.955</td> <td>    0.538</td>\n",
       "</tr>\n",
       "<tr>\n",
       "  <th>ar.L3</th>  <td>    0.2727</td> <td>    0.379</td> <td>    0.719</td> <td> 0.472</td> <td>   -0.470</td> <td>    1.016</td>\n",
       "</tr>\n",
       "<tr>\n",
       "  <th>ar.L4</th>  <td>   -0.2889</td> <td>    0.391</td> <td>   -0.739</td> <td> 0.460</td> <td>   -1.055</td> <td>    0.477</td>\n",
       "</tr>\n",
       "<tr>\n",
       "  <th>ar.L5</th>  <td>    0.1417</td> <td>    0.388</td> <td>    0.365</td> <td> 0.715</td> <td>   -0.619</td> <td>    0.902</td>\n",
       "</tr>\n",
       "<tr>\n",
       "  <th>ar.L6</th>  <td>   -0.2147</td> <td>    0.384</td> <td>   -0.559</td> <td> 0.576</td> <td>   -0.968</td> <td>    0.538</td>\n",
       "</tr>\n",
       "<tr>\n",
       "  <th>ar.L7</th>  <td>    0.0167</td> <td>    0.376</td> <td>    0.044</td> <td> 0.965</td> <td>   -0.721</td> <td>    0.754</td>\n",
       "</tr>\n",
       "<tr>\n",
       "  <th>ar.L8</th>  <td>    0.6990</td> <td>    0.345</td> <td>    2.024</td> <td> 0.043</td> <td>    0.022</td> <td>    1.376</td>\n",
       "</tr>\n",
       "<tr>\n",
       "  <th>ar.L9</th>  <td>   -0.0094</td> <td>    0.636</td> <td>   -0.015</td> <td> 0.988</td> <td>   -1.257</td> <td>    1.238</td>\n",
       "</tr>\n",
       "<tr>\n",
       "  <th>ma.L1</th>  <td>   -0.3339</td> <td>    0.716</td> <td>   -0.466</td> <td> 0.641</td> <td>   -1.737</td> <td>    1.069</td>\n",
       "</tr>\n",
       "<tr>\n",
       "  <th>ma.L2</th>  <td>    0.2176</td> <td>    0.423</td> <td>    0.515</td> <td> 0.607</td> <td>   -0.611</td> <td>    1.046</td>\n",
       "</tr>\n",
       "<tr>\n",
       "  <th>ma.L3</th>  <td>   -0.3195</td> <td>    0.416</td> <td>   -0.768</td> <td> 0.443</td> <td>   -1.135</td> <td>    0.496</td>\n",
       "</tr>\n",
       "<tr>\n",
       "  <th>ma.L4</th>  <td>    0.3020</td> <td>    0.473</td> <td>    0.639</td> <td> 0.523</td> <td>   -0.625</td> <td>    1.229</td>\n",
       "</tr>\n",
       "<tr>\n",
       "  <th>ma.L5</th>  <td>   -0.2341</td> <td>    0.418</td> <td>   -0.560</td> <td> 0.575</td> <td>   -1.053</td> <td>    0.585</td>\n",
       "</tr>\n",
       "<tr>\n",
       "  <th>ma.L6</th>  <td>    0.3173</td> <td>    0.414</td> <td>    0.767</td> <td> 0.443</td> <td>   -0.494</td> <td>    1.128</td>\n",
       "</tr>\n",
       "<tr>\n",
       "  <th>ma.L7</th>  <td>   -0.0606</td> <td>    0.428</td> <td>   -0.142</td> <td> 0.887</td> <td>   -0.899</td> <td>    0.777</td>\n",
       "</tr>\n",
       "<tr>\n",
       "  <th>ma.L8</th>  <td>   -0.7036</td> <td>    0.400</td> <td>   -1.758</td> <td> 0.079</td> <td>   -1.488</td> <td>    0.081</td>\n",
       "</tr>\n",
       "<tr>\n",
       "  <th>ma.L9</th>  <td>   -0.1121</td> <td>    0.698</td> <td>   -0.160</td> <td> 0.873</td> <td>   -1.481</td> <td>    1.257</td>\n",
       "</tr>\n",
       "<tr>\n",
       "  <th>sigma2</th> <td> 3392.8463</td> <td>  587.270</td> <td>    5.777</td> <td> 0.000</td> <td> 2241.819</td> <td> 4543.873</td>\n",
       "</tr>\n",
       "</table>\n",
       "<table class=\"simpletable\">\n",
       "<tr>\n",
       "  <th>Ljung-Box (L1) (Q):</th>     <td>0.08</td> <th>  Jarque-Bera (JB):  </th> <td>527.00</td>\n",
       "</tr>\n",
       "<tr>\n",
       "  <th>Prob(Q):</th>                <td>0.77</td> <th>  Prob(JB):          </th>  <td>0.00</td> \n",
       "</tr>\n",
       "<tr>\n",
       "  <th>Heteroskedasticity (H):</th> <td>2.33</td> <th>  Skew:              </th>  <td>0.20</td> \n",
       "</tr>\n",
       "<tr>\n",
       "  <th>Prob(H) (two-sided):</th>    <td>0.00</td> <th>  Kurtosis:          </th>  <td>9.42</td> \n",
       "</tr>\n",
       "</table><br/><br/>Warnings:<br/>[1] Covariance matrix calculated using the outer product of gradients (complex-step)."
      ],
      "text/plain": [
       "<class 'statsmodels.iolib.summary.Summary'>\n",
       "\"\"\"\n",
       "                               SARIMAX Results                                \n",
       "==============================================================================\n",
       "Dep. Variable:      5. adjusted close   No. Observations:                  307\n",
       "Model:                 ARIMA(9, 1, 9)   Log Likelihood               -1670.390\n",
       "Date:                Sat, 09 Jul 2022   AIC                           3378.780\n",
       "Time:                        04:59:59   BIC                           3449.528\n",
       "Sample:                             0   HQIC                          3407.075\n",
       "                                - 307                                         \n",
       "Covariance Type:                  opg                                         \n",
       "==============================================================================\n",
       "                 coef    std err          z      P>|z|      [0.025      0.975]\n",
       "------------------------------------------------------------------------------\n",
       "ar.L1          0.3176      0.739      0.430      0.667      -1.131       1.766\n",
       "ar.L2         -0.2086      0.381     -0.548      0.584      -0.955       0.538\n",
       "ar.L3          0.2727      0.379      0.719      0.472      -0.470       1.016\n",
       "ar.L4         -0.2889      0.391     -0.739      0.460      -1.055       0.477\n",
       "ar.L5          0.1417      0.388      0.365      0.715      -0.619       0.902\n",
       "ar.L6         -0.2147      0.384     -0.559      0.576      -0.968       0.538\n",
       "ar.L7          0.0167      0.376      0.044      0.965      -0.721       0.754\n",
       "ar.L8          0.6990      0.345      2.024      0.043       0.022       1.376\n",
       "ar.L9         -0.0094      0.636     -0.015      0.988      -1.257       1.238\n",
       "ma.L1         -0.3339      0.716     -0.466      0.641      -1.737       1.069\n",
       "ma.L2          0.2176      0.423      0.515      0.607      -0.611       1.046\n",
       "ma.L3         -0.3195      0.416     -0.768      0.443      -1.135       0.496\n",
       "ma.L4          0.3020      0.473      0.639      0.523      -0.625       1.229\n",
       "ma.L5         -0.2341      0.418     -0.560      0.575      -1.053       0.585\n",
       "ma.L6          0.3173      0.414      0.767      0.443      -0.494       1.128\n",
       "ma.L7         -0.0606      0.428     -0.142      0.887      -0.899       0.777\n",
       "ma.L8         -0.7036      0.400     -1.758      0.079      -1.488       0.081\n",
       "ma.L9         -0.1121      0.698     -0.160      0.873      -1.481       1.257\n",
       "sigma2      3392.8463    587.270      5.777      0.000    2241.819    4543.873\n",
       "===================================================================================\n",
       "Ljung-Box (L1) (Q):                   0.08   Jarque-Bera (JB):               527.00\n",
       "Prob(Q):                              0.77   Prob(JB):                         0.00\n",
       "Heteroskedasticity (H):               2.33   Skew:                             0.20\n",
       "Prob(H) (two-sided):                  0.00   Kurtosis:                         9.42\n",
       "===================================================================================\n",
       "\n",
       "Warnings:\n",
       "[1] Covariance matrix calculated using the outer product of gradients (complex-step).\n",
       "\"\"\""
      ]
     },
     "execution_count": 53,
     "metadata": {},
     "output_type": "execute_result"
    },
    {
     "data": {
      "application/javascript": "\n            setTimeout(function() {\n                var nbb_cell_id = 53;\n                var nbb_unformatted_code = \"result.summary()\";\n                var nbb_formatted_code = \"result.summary()\";\n                var nbb_cells = Jupyter.notebook.get_cells();\n                for (var i = 0; i < nbb_cells.length; ++i) {\n                    if (nbb_cells[i].input_prompt_number == nbb_cell_id) {\n                        if (nbb_cells[i].get_text() == nbb_unformatted_code) {\n                             nbb_cells[i].set_text(nbb_formatted_code);\n                        }\n                        break;\n                    }\n                }\n            }, 500);\n            ",
      "text/plain": [
       "<IPython.core.display.Javascript object>"
      ]
     },
     "metadata": {},
     "output_type": "display_data"
    }
   ],
   "source": [
    "result.summary()"
   ]
  },
  {
   "cell_type": "code",
   "execution_count": 54,
   "metadata": {},
   "outputs": [
    {
     "data": {
      "text/plain": [
       "307"
      ]
     },
     "execution_count": 54,
     "metadata": {},
     "output_type": "execute_result"
    },
    {
     "data": {
      "application/javascript": "\n            setTimeout(function() {\n                var nbb_cell_id = 54;\n                var nbb_unformatted_code = \"# Actual vs. Fitted\\n\\n# result.plot_diagnostics()\\nlen(result.forecasts[0])\";\n                var nbb_formatted_code = \"# Actual vs. Fitted\\n\\n# result.plot_diagnostics()\\nlen(result.forecasts[0])\";\n                var nbb_cells = Jupyter.notebook.get_cells();\n                for (var i = 0; i < nbb_cells.length; ++i) {\n                    if (nbb_cells[i].input_prompt_number == nbb_cell_id) {\n                        if (nbb_cells[i].get_text() == nbb_unformatted_code) {\n                             nbb_cells[i].set_text(nbb_formatted_code);\n                        }\n                        break;\n                    }\n                }\n            }, 500);\n            ",
      "text/plain": [
       "<IPython.core.display.Javascript object>"
      ]
     },
     "metadata": {},
     "output_type": "display_data"
    }
   ],
   "source": [
    "# Actual vs. Fitted\n",
    "\n",
    "# result.plot_diagnostics()\n",
    "len(result.forecasts[0])"
   ]
  },
  {
   "cell_type": "code",
   "execution_count": 55,
   "metadata": {},
   "outputs": [
    {
     "data": {
      "application/javascript": "\n            setTimeout(function() {\n                var nbb_cell_id = 55;\n                var nbb_unformatted_code = \"df[\\\"preds\\\"] = result.forecasts[0]\";\n                var nbb_formatted_code = \"df[\\\"preds\\\"] = result.forecasts[0]\";\n                var nbb_cells = Jupyter.notebook.get_cells();\n                for (var i = 0; i < nbb_cells.length; ++i) {\n                    if (nbb_cells[i].input_prompt_number == nbb_cell_id) {\n                        if (nbb_cells[i].get_text() == nbb_unformatted_code) {\n                             nbb_cells[i].set_text(nbb_formatted_code);\n                        }\n                        break;\n                    }\n                }\n            }, 500);\n            ",
      "text/plain": [
       "<IPython.core.display.Javascript object>"
      ]
     },
     "metadata": {},
     "output_type": "display_data"
    }
   ],
   "source": [
    "df[\"preds\"] = result.forecasts[0]"
   ]
  },
  {
   "cell_type": "code",
   "execution_count": 56,
   "metadata": {},
   "outputs": [
    {
     "data": {
      "text/html": [
       "<div>\n",
       "<style scoped>\n",
       "    .dataframe tbody tr th:only-of-type {\n",
       "        vertical-align: middle;\n",
       "    }\n",
       "\n",
       "    .dataframe tbody tr th {\n",
       "        vertical-align: top;\n",
       "    }\n",
       "\n",
       "    .dataframe thead th {\n",
       "        text-align: right;\n",
       "    }\n",
       "</style>\n",
       "<table border=\"1\" class=\"dataframe\">\n",
       "  <thead>\n",
       "    <tr style=\"text-align: right;\">\n",
       "      <th></th>\n",
       "      <th>5. adjusted close</th>\n",
       "      <th>preds</th>\n",
       "    </tr>\n",
       "  </thead>\n",
       "  <tbody>\n",
       "    <tr>\n",
       "      <th>2757</th>\n",
       "      <td>3165.12</td>\n",
       "      <td>0.000000</td>\n",
       "    </tr>\n",
       "    <tr>\n",
       "      <th>2758</th>\n",
       "      <td>3240.96</td>\n",
       "      <td>3165.137188</td>\n",
       "    </tr>\n",
       "    <tr>\n",
       "      <th>2759</th>\n",
       "      <td>3236.08</td>\n",
       "      <td>3241.035186</td>\n",
       "    </tr>\n",
       "    <tr>\n",
       "      <th>2760</th>\n",
       "      <td>3201.65</td>\n",
       "      <td>3235.364003</td>\n",
       "    </tr>\n",
       "    <tr>\n",
       "      <th>2761</th>\n",
       "      <td>3206.18</td>\n",
       "      <td>3198.438048</td>\n",
       "    </tr>\n",
       "  </tbody>\n",
       "</table>\n",
       "</div>"
      ],
      "text/plain": [
       "      5. adjusted close        preds\n",
       "2757            3165.12     0.000000\n",
       "2758            3240.96  3165.137188\n",
       "2759            3236.08  3241.035186\n",
       "2760            3201.65  3235.364003\n",
       "2761            3206.18  3198.438048"
      ]
     },
     "execution_count": 56,
     "metadata": {},
     "output_type": "execute_result"
    },
    {
     "data": {
      "application/javascript": "\n            setTimeout(function() {\n                var nbb_cell_id = 56;\n                var nbb_unformatted_code = \"df.head()\";\n                var nbb_formatted_code = \"df.head()\";\n                var nbb_cells = Jupyter.notebook.get_cells();\n                for (var i = 0; i < nbb_cells.length; ++i) {\n                    if (nbb_cells[i].input_prompt_number == nbb_cell_id) {\n                        if (nbb_cells[i].get_text() == nbb_unformatted_code) {\n                             nbb_cells[i].set_text(nbb_formatted_code);\n                        }\n                        break;\n                    }\n                }\n            }, 500);\n            ",
      "text/plain": [
       "<IPython.core.display.Javascript object>"
      ]
     },
     "metadata": {},
     "output_type": "display_data"
    }
   ],
   "source": [
    "df.head()"
   ]
  },
  {
   "cell_type": "code",
   "execution_count": 57,
   "metadata": {},
   "outputs": [
    {
     "data": {
      "text/plain": [
       "array([3165.13718834, 3241.03518611, 3235.36400296, 3198.43804829,\n",
       "       3204.78735184, 3202.70863881, 3189.27711658, 3175.98888153,\n",
       "       3283.95704301, 3316.72830533, 3279.57754118, 3256.89674492,\n",
       "       3175.96187114, 3217.59765125, 3150.26347342, 3170.14078915,\n",
       "       3183.58446828, 3096.99107755, 3125.81808263, 3164.15547474,\n",
       "       3123.51187094, 3104.5036116 , 3128.52746305, 3275.46831608,\n",
       "       3309.83440186, 3281.52789162, 3290.66570039, 3309.31618622,\n",
       "       3232.74022307, 3242.40700257, 3209.77221666, 3341.65136895,\n",
       "       3386.10438017, 3300.08640294, 3325.91762427, 3324.42905891,\n",
       "       3326.86560959, 3320.9340428 , 3281.96324132, 3257.18212627,\n",
       "       3277.67396216, 3273.03446736, 3304.63497319, 3300.73034049,\n",
       "       3242.93782454, 3198.21684806, 3193.2060332 , 3163.9844804 ,\n",
       "       3066.51465009, 3100.03114453, 3146.02182234, 3071.73101991,\n",
       "       3002.92171937, 2990.91426553, 3001.89389309, 2968.59657438,\n",
       "       3086.61174541, 3066.42792618, 3105.75339836, 3080.46931595,\n",
       "       3069.14179929, 3110.80748774, 3128.92232811, 3044.67441404,\n",
       "       3090.57087206, 3118.15636979, 3135.50120478, 3084.85964967,\n",
       "       3025.50147502, 3059.34493785, 3071.53146362, 3074.43356516,\n",
       "       3113.8984952 , 3156.57522214, 3229.68379014, 3226.90132379,\n",
       "       3259.33981368, 3293.70481932, 3359.25936434, 3391.02083108,\n",
       "       3410.88150001, 3322.29761068, 3370.7418255 , 3408.65758654,\n",
       "       3351.27030476, 3324.01682253, 3334.46050963, 3308.64841755,\n",
       "       3359.52805505, 3405.49595125, 3406.4144472 , 3465.3803409 ,\n",
       "       3457.59907131, 3454.22455089, 3364.73886328, 3299.13432653,\n",
       "       3291.40719807, 3301.1297947 , 3289.36289382, 3196.90826151,\n",
       "       3211.04509006, 3145.29499348, 3153.05410907, 3224.05280645,\n",
       "       3281.54330917, 3235.94625411, 3223.42507157, 3263.1238281 ,\n",
       "       3199.55847496, 3245.1385326 , 3254.10722348, 3246.47292911,\n",
       "       3239.82973542, 3221.72247911, 3214.61300945, 3246.72138837,\n",
       "       3195.08955985, 3203.53952326, 3194.73818574, 3244.61028405,\n",
       "       3291.76151155, 3344.96441839, 3337.40925655, 3386.3360883 ,\n",
       "       3396.25766188, 3413.03610967, 3488.09496414, 3461.32236135,\n",
       "       3448.94647042, 3495.83911848, 3481.30710226, 3451.35962045,\n",
       "       3409.55226099, 3438.70335428, 3448.74795385, 3423.87009894,\n",
       "       3427.39452928, 3493.80115025, 3649.88450954, 3699.07463854,\n",
       "       3733.46892847, 3704.75976453, 3708.9898424 , 3678.25738558,\n",
       "       3673.70645386, 3612.99376741, 3526.47494855, 3540.50810196,\n",
       "       3574.30253853, 3574.35647079, 3633.34468965, 3657.52921925,\n",
       "       3697.75700537, 3622.76065668, 3592.63746436, 3588.16960363,\n",
       "       3328.14658968, 3322.93349598, 3362.31964664, 3354.54923779,\n",
       "       3395.75739222, 3335.7178815 , 3312.89836088, 3317.74520677,\n",
       "       3316.93031595, 3310.0413656 , 3279.83624846, 3301.98644706,\n",
       "       3261.76913591, 3202.0813044 , 3167.27394025, 3191.19236432,\n",
       "       3293.53951243, 3316.03310427, 3282.98892604, 3313.07310222,\n",
       "       3368.50053155, 3436.77700565, 3456.44745871, 3455.9921753 ,\n",
       "       3470.5891543 , 3481.79480693, 3495.60958161, 3516.86740177,\n",
       "       3491.79242554, 3476.33461791, 3443.47341654, 3427.76903817,\n",
       "       3482.67852703, 3491.14072607, 3445.41876071, 3344.57082107,\n",
       "       3349.34235092, 3399.44172348, 3414.82877685, 3410.53526479,\n",
       "       3398.19522995, 3316.53388015, 3293.19144244, 3286.77615939,\n",
       "       3291.56734493, 3210.06926969, 3219.42707472, 3252.80016105,\n",
       "       3298.88264311, 3302.18064573, 3234.33492327, 3241.8036047 ,\n",
       "       3296.47853626, 3329.03376799, 3416.62278221, 3425.80497851,\n",
       "       3429.98980754, 3424.85392996, 3423.07992511, 3328.94037886,\n",
       "       3323.62082582, 3400.21434274, 3397.80200332, 3430.07732088,\n",
       "       3355.14379209, 3316.73797812, 3311.88667315, 3378.48972873,\n",
       "       3490.02357012, 3528.69188663, 3491.57493846, 3554.79046359,\n",
       "       3470.18430428, 3477.06051991, 3526.57709363, 3520.61439818,\n",
       "       3545.49727075, 3549.37620531, 3693.23091373, 3662.39610853,\n",
       "       3556.65444185, 3587.76594313, 3567.25579798, 3493.58102258,\n",
       "       3566.62971835, 3499.55703221, 3429.17997083, 3433.93212517,\n",
       "       3380.11773079, 3441.92392634, 3520.07201772, 3511.37760034,\n",
       "       3489.31078966, 3436.25147467, 3386.78202507, 3387.56924232,\n",
       "       3463.0229961 , 3387.16298549, 3388.31336119, 3329.04856009,\n",
       "       3411.02324494, 3435.06856269, 3412.90609891, 3402.46570986,\n",
       "       3397.93149489, 3401.08741954, 3376.09620591, 3318.86378281,\n",
       "       3404.44349557, 3359.55933668, 3283.95527576, 3275.45103769,\n",
       "       3235.82705745, 3251.80888101, 3326.04458167, 3287.65826392,\n",
       "       3216.25809497, 3250.38151977, 3184.97572404, 3142.70259545,\n",
       "       3033.87028458, 2864.16512357, 2920.48176354, 2798.93428958,\n",
       "       2780.93178278, 2811.39716989, 2874.04607172, 3027.33228612,\n",
       "       3034.43277871, 3029.42445125, 2811.49989941, 3150.939674  ,\n",
       "       3187.99375772, 3225.58319138, 3218.8701549 , 3142.48575489,\n",
       "       3091.75441049, 3122.24225817, 3176.620623  , 3148.93133731,\n",
       "       3095.7528522 , 3061.19837045, 2989.36867451, 2880.16042554,\n",
       "       3045.51305071, 3097.61125143, 3102.13584311, 3031.61373618,\n",
       "       3027.95967596, 2992.44383326])"
      ]
     },
     "execution_count": 57,
     "metadata": {},
     "output_type": "execute_result"
    },
    {
     "data": {
      "application/javascript": "\n            setTimeout(function() {\n                var nbb_cell_id = 57;\n                var nbb_unformatted_code = \"result.forecasts[0][-306:]\";\n                var nbb_formatted_code = \"result.forecasts[0][-306:]\";\n                var nbb_cells = Jupyter.notebook.get_cells();\n                for (var i = 0; i < nbb_cells.length; ++i) {\n                    if (nbb_cells[i].input_prompt_number == nbb_cell_id) {\n                        if (nbb_cells[i].get_text() == nbb_unformatted_code) {\n                             nbb_cells[i].set_text(nbb_formatted_code);\n                        }\n                        break;\n                    }\n                }\n            }, 500);\n            ",
      "text/plain": [
       "<IPython.core.display.Javascript object>"
      ]
     },
     "metadata": {},
     "output_type": "display_data"
    }
   ],
   "source": [
    "result.forecasts[0][-306:]"
   ]
  },
  {
   "cell_type": "code",
   "execution_count": 58,
   "metadata": {},
   "outputs": [
    {
     "data": {
      "image/png": "[encoded data removed]",
      "text/plain": [
       "<Figure size 864x576 with 2 Axes>"
      ]
     },
     "metadata": {
      "needs_background": "light"
     },
     "output_type": "display_data"
    },
    {
     "data": {
      "application/javascript": "\n            setTimeout(function() {\n                var nbb_cell_id = 58;\n                var nbb_unformatted_code = \"plt.figure(figsize=(12,8))\\n\\nax1 = df[\\\"5. adjusted close\\\"][-63:].plot(color='blue', grid=True, secondary_y=False, label='Actual', marker='.')\\nax2 = df[\\\"preds\\\"][-63:].plot(color='red', grid=True, secondary_y=True, label='Predicted', marker='.')\\n\\n# a, b = 275, 350\\n\\n# ax1.set_ylim(a,b)\\n# ax2.set_ylim(a,b)\\n\\nh1, l1 = ax1.get_legend_handles_labels()\\nh2, l2 = ax2.get_legend_handles_labels()\\n\\nax1.set_xlabel(\\\"Date\\\")\\nplt.legend(h1+h2, l1+l2, loc=1)\\nplt.show()\";\n                var nbb_formatted_code = \"plt.figure(figsize=(12, 8))\\n\\nax1 = df[\\\"5. adjusted close\\\"][-63:].plot(\\n    color=\\\"blue\\\", grid=True, secondary_y=False, label=\\\"Actual\\\", marker=\\\".\\\"\\n)\\nax2 = df[\\\"preds\\\"][-63:].plot(\\n    color=\\\"red\\\", grid=True, secondary_y=True, label=\\\"Predicted\\\", marker=\\\".\\\"\\n)\\n\\n# a, b = 275, 350\\n\\n# ax1.set_ylim(a,b)\\n# ax2.set_ylim(a,b)\\n\\nh1, l1 = ax1.get_legend_handles_labels()\\nh2, l2 = ax2.get_legend_handles_labels()\\n\\nax1.set_xlabel(\\\"Date\\\")\\nplt.legend(h1 + h2, l1 + l2, loc=1)\\nplt.show()\";\n                var nbb_cells = Jupyter.notebook.get_cells();\n                for (var i = 0; i < nbb_cells.length; ++i) {\n                    if (nbb_cells[i].input_prompt_number == nbb_cell_id) {\n                        if (nbb_cells[i].get_text() == nbb_unformatted_code) {\n                             nbb_cells[i].set_text(nbb_formatted_code);\n                        }\n                        break;\n                    }\n                }\n            }, 500);\n            ",
      "text/plain": [
       "<IPython.core.display.Javascript object>"
      ]
     },
     "metadata": {},
     "output_type": "display_data"
    }
   ],
   "source": [
    "plt.figure(figsize=(12,8))\n",
    "\n",
    "ax1 = df[\"5. adjusted close\"][-63:].plot(color='blue', grid=True, secondary_y=False, label='Actual', marker='.')\n",
    "ax2 = df[\"preds\"][-63:].plot(color='red', grid=True, secondary_y=True, label='Predicted', marker='.')\n",
    "\n",
    "# a, b = 275, 350\n",
    "\n",
    "# ax1.set_ylim(a,b)\n",
    "# ax2.set_ylim(a,b)\n",
    "\n",
    "h1, l1 = ax1.get_legend_handles_labels()\n",
    "h2, l2 = ax2.get_legend_handles_labels()\n",
    "\n",
    "ax1.set_xlabel(\"Date\")\n",
    "plt.legend(h1+h2, l1+l2, loc=1)\n",
    "plt.show()"
   ]
  },
  {
   "cell_type": "code",
   "execution_count": 59,
   "metadata": {},
   "outputs": [
    {
     "name": "stdout",
     "output_type": "stream",
     "text": [
      "55.084205107680205\n"
     ]
    },
    {
     "data": {
      "application/javascript": "\n            setTimeout(function() {\n                var nbb_cell_id = 59;\n                var nbb_unformatted_code = \"true = df[\\\"5. adjusted close\\\"][-63:]\\npredicted = df[\\\"preds\\\"][-63:]\\n\\ndef mae(y_true, predictions):\\n    y_true, predictions = np.array(y_true), np.array(predictions)\\n    return np.mean(np.abs(y_true - predictions))\\n\\n\\nprint(mae(true, predicted))\";\n                var nbb_formatted_code = \"true = df[\\\"5. adjusted close\\\"][-63:]\\npredicted = df[\\\"preds\\\"][-63:]\\n\\n\\ndef mae(y_true, predictions):\\n    y_true, predictions = np.array(y_true), np.array(predictions)\\n    return np.mean(np.abs(y_true - predictions))\\n\\n\\nprint(mae(true, predicted))\";\n                var nbb_cells = Jupyter.notebook.get_cells();\n                for (var i = 0; i < nbb_cells.length; ++i) {\n                    if (nbb_cells[i].input_prompt_number == nbb_cell_id) {\n                        if (nbb_cells[i].get_text() == nbb_unformatted_code) {\n                             nbb_cells[i].set_text(nbb_formatted_code);\n                        }\n                        break;\n                    }\n                }\n            }, 500);\n            ",
      "text/plain": [
       "<IPython.core.display.Javascript object>"
      ]
     },
     "metadata": {},
     "output_type": "display_data"
    }
   ],
   "source": [
    "true = df[\"5. adjusted close\"][-63:]\n",
    "predicted = df[\"preds\"][-63:]\n",
    "\n",
    "def mae(y_true, predictions):\n",
    "    y_true, predictions = np.array(y_true), np.array(predictions)\n",
    "    return np.mean(np.abs(y_true - predictions))\n",
    "\n",
    "\n",
    "print(mae(true, predicted))"
   ]
  },
  {
   "cell_type": "code",
   "execution_count": 60,
   "metadata": {},
   "outputs": [
    {
     "data": {
      "text/html": [
       "<div>\n",
       "<style scoped>\n",
       "    .dataframe tbody tr th:only-of-type {\n",
       "        vertical-align: middle;\n",
       "    }\n",
       "\n",
       "    .dataframe tbody tr th {\n",
       "        vertical-align: top;\n",
       "    }\n",
       "\n",
       "    .dataframe thead th {\n",
       "        text-align: right;\n",
       "    }\n",
       "</style>\n",
       "<table border=\"1\" class=\"dataframe\">\n",
       "  <thead>\n",
       "    <tr style=\"text-align: right;\">\n",
       "      <th></th>\n",
       "      <th>5. adjusted close</th>\n",
       "      <th>preds</th>\n",
       "    </tr>\n",
       "  </thead>\n",
       "  <tbody>\n",
       "    <tr>\n",
       "      <th>3059</th>\n",
       "      <td>3071.26</td>\n",
       "      <td>3097.611251</td>\n",
       "    </tr>\n",
       "    <tr>\n",
       "      <th>3060</th>\n",
       "      <td>3022.84</td>\n",
       "      <td>3102.135843</td>\n",
       "    </tr>\n",
       "    <tr>\n",
       "      <th>3061</th>\n",
       "      <td>3041.05</td>\n",
       "      <td>3031.613736</td>\n",
       "    </tr>\n",
       "    <tr>\n",
       "      <th>3062</th>\n",
       "      <td>2957.97</td>\n",
       "      <td>3027.959676</td>\n",
       "    </tr>\n",
       "    <tr>\n",
       "      <th>3063</th>\n",
       "      <td>2912.82</td>\n",
       "      <td>2992.443833</td>\n",
       "    </tr>\n",
       "  </tbody>\n",
       "</table>\n",
       "</div>"
      ],
      "text/plain": [
       "      5. adjusted close        preds\n",
       "3059            3071.26  3097.611251\n",
       "3060            3022.84  3102.135843\n",
       "3061            3041.05  3031.613736\n",
       "3062            2957.97  3027.959676\n",
       "3063            2912.82  2992.443833"
      ]
     },
     "execution_count": 60,
     "metadata": {},
     "output_type": "execute_result"
    },
    {
     "data": {
      "application/javascript": "\n            setTimeout(function() {\n                var nbb_cell_id = 60;\n                var nbb_unformatted_code = \"df.tail()\";\n                var nbb_formatted_code = \"df.tail()\";\n                var nbb_cells = Jupyter.notebook.get_cells();\n                for (var i = 0; i < nbb_cells.length; ++i) {\n                    if (nbb_cells[i].input_prompt_number == nbb_cell_id) {\n                        if (nbb_cells[i].get_text() == nbb_unformatted_code) {\n                             nbb_cells[i].set_text(nbb_formatted_code);\n                        }\n                        break;\n                    }\n                }\n            }, 500);\n            ",
      "text/plain": [
       "<IPython.core.display.Javascript object>"
      ]
     },
     "metadata": {},
     "output_type": "display_data"
    }
   ],
   "source": [
    "df.tail()"
   ]
  },
  {
   "cell_type": "code",
   "execution_count": 61,
   "metadata": {},
   "outputs": [
    {
     "data": {
      "application/javascript": "\n            setTimeout(function() {\n                var nbb_cell_id = 61;\n                var nbb_unformatted_code = \"df = df[-244:].copy()\\n\\ntrue = df[\\\"5. adjusted close\\\"][-244:]\\npredicted = df[\\\"preds\\\"][-244:]\";\n                var nbb_formatted_code = \"df = df[-244:].copy()\\n\\ntrue = df[\\\"5. adjusted close\\\"][-244:]\\npredicted = df[\\\"preds\\\"][-244:]\";\n                var nbb_cells = Jupyter.notebook.get_cells();\n                for (var i = 0; i < nbb_cells.length; ++i) {\n                    if (nbb_cells[i].input_prompt_number == nbb_cell_id) {\n                        if (nbb_cells[i].get_text() == nbb_unformatted_code) {\n                             nbb_cells[i].set_text(nbb_formatted_code);\n                        }\n                        break;\n                    }\n                }\n            }, 500);\n            ",
      "text/plain": [
       "<IPython.core.display.Javascript object>"
      ]
     },
     "metadata": {},
     "output_type": "display_data"
    }
   ],
   "source": [
    "df = df[-244:].copy()\n",
    "\n",
    "true = df[\"5. adjusted close\"][-244:]\n",
    "predicted = df[\"preds\"][-244:]"
   ]
  },
  {
   "cell_type": "code",
   "execution_count": 62,
   "metadata": {},
   "outputs": [
    {
     "data": {
      "application/javascript": "\n            setTimeout(function() {\n                var nbb_cell_id = 62;\n                var nbb_unformatted_code = \"from sklearn.metrics import mean_absolute_error\";\n                var nbb_formatted_code = \"from sklearn.metrics import mean_absolute_error\";\n                var nbb_cells = Jupyter.notebook.get_cells();\n                for (var i = 0; i < nbb_cells.length; ++i) {\n                    if (nbb_cells[i].input_prompt_number == nbb_cell_id) {\n                        if (nbb_cells[i].get_text() == nbb_unformatted_code) {\n                             nbb_cells[i].set_text(nbb_formatted_code);\n                        }\n                        break;\n                    }\n                }\n            }, 500);\n            ",
      "text/plain": [
       "<IPython.core.display.Javascript object>"
      ]
     },
     "metadata": {},
     "output_type": "display_data"
    }
   ],
   "source": [
    "from sklearn.metrics import mean_absolute_error"
   ]
  },
  {
   "cell_type": "code",
   "execution_count": 63,
   "metadata": {},
   "outputs": [
    {
     "data": {
      "text/plain": [
       "'Test MAE: 40.7389'"
      ]
     },
     "execution_count": 63,
     "metadata": {},
     "output_type": "execute_result"
    },
    {
     "data": {
      "application/javascript": "\n            setTimeout(function() {\n                var nbb_cell_id = 63;\n                var nbb_unformatted_code = \"test_mae = mean_absolute_error(true.to_numpy(), predicted)\\nf'Test MAE: {test_mae:.4f}'\";\n                var nbb_formatted_code = \"test_mae = mean_absolute_error(true.to_numpy(), predicted)\\nf\\\"Test MAE: {test_mae:.4f}\\\"\";\n                var nbb_cells = Jupyter.notebook.get_cells();\n                for (var i = 0; i < nbb_cells.length; ++i) {\n                    if (nbb_cells[i].input_prompt_number == nbb_cell_id) {\n                        if (nbb_cells[i].get_text() == nbb_unformatted_code) {\n                             nbb_cells[i].set_text(nbb_formatted_code);\n                        }\n                        break;\n                    }\n                }\n            }, 500);\n            ",
      "text/plain": [
       "<IPython.core.display.Javascript object>"
      ]
     },
     "metadata": {},
     "output_type": "display_data"
    }
   ],
   "source": [
    "test_mae = mean_absolute_error(true.to_numpy(), predicted)\n",
    "f'Test MAE: {test_mae:.4f}'"
   ]
  },
  {
   "cell_type": "code",
   "execution_count": 64,
   "metadata": {},
   "outputs": [
    {
     "data": {
      "text/html": [
       "<div>\n",
       "<style scoped>\n",
       "    .dataframe tbody tr th:only-of-type {\n",
       "        vertical-align: middle;\n",
       "    }\n",
       "\n",
       "    .dataframe tbody tr th {\n",
       "        vertical-align: top;\n",
       "    }\n",
       "\n",
       "    .dataframe thead th {\n",
       "        text-align: right;\n",
       "    }\n",
       "</style>\n",
       "<table border=\"1\" class=\"dataframe\">\n",
       "  <thead>\n",
       "    <tr style=\"text-align: right;\">\n",
       "      <th></th>\n",
       "      <th>5. adjusted close</th>\n",
       "      <th>preds</th>\n",
       "    </tr>\n",
       "  </thead>\n",
       "  <tbody>\n",
       "    <tr>\n",
       "      <th>3054</th>\n",
       "      <td>3052.03</td>\n",
       "      <td>3095.752852</td>\n",
       "    </tr>\n",
       "    <tr>\n",
       "      <th>3055</th>\n",
       "      <td>3003.95</td>\n",
       "      <td>3061.198370</td>\n",
       "    </tr>\n",
       "    <tr>\n",
       "      <th>3056</th>\n",
       "      <td>2896.54</td>\n",
       "      <td>2989.368675</td>\n",
       "    </tr>\n",
       "    <tr>\n",
       "      <th>3057</th>\n",
       "      <td>3027.16</td>\n",
       "      <td>2880.160426</td>\n",
       "    </tr>\n",
       "    <tr>\n",
       "      <th>3058</th>\n",
       "      <td>3075.77</td>\n",
       "      <td>3045.513051</td>\n",
       "    </tr>\n",
       "    <tr>\n",
       "      <th>3059</th>\n",
       "      <td>3071.26</td>\n",
       "      <td>3097.611251</td>\n",
       "    </tr>\n",
       "    <tr>\n",
       "      <th>3060</th>\n",
       "      <td>3022.84</td>\n",
       "      <td>3102.135843</td>\n",
       "    </tr>\n",
       "    <tr>\n",
       "      <th>3061</th>\n",
       "      <td>3041.05</td>\n",
       "      <td>3031.613736</td>\n",
       "    </tr>\n",
       "    <tr>\n",
       "      <th>3062</th>\n",
       "      <td>2957.97</td>\n",
       "      <td>3027.959676</td>\n",
       "    </tr>\n",
       "    <tr>\n",
       "      <th>3063</th>\n",
       "      <td>2912.82</td>\n",
       "      <td>2992.443833</td>\n",
       "    </tr>\n",
       "  </tbody>\n",
       "</table>\n",
       "</div>"
      ],
      "text/plain": [
       "      5. adjusted close        preds\n",
       "3054            3052.03  3095.752852\n",
       "3055            3003.95  3061.198370\n",
       "3056            2896.54  2989.368675\n",
       "3057            3027.16  2880.160426\n",
       "3058            3075.77  3045.513051\n",
       "3059            3071.26  3097.611251\n",
       "3060            3022.84  3102.135843\n",
       "3061            3041.05  3031.613736\n",
       "3062            2957.97  3027.959676\n",
       "3063            2912.82  2992.443833"
      ]
     },
     "execution_count": 64,
     "metadata": {},
     "output_type": "execute_result"
    },
    {
     "data": {
      "application/javascript": "\n            setTimeout(function() {\n                var nbb_cell_id = 64;\n                var nbb_unformatted_code = \"df.tail(10)\";\n                var nbb_formatted_code = \"df.tail(10)\";\n                var nbb_cells = Jupyter.notebook.get_cells();\n                for (var i = 0; i < nbb_cells.length; ++i) {\n                    if (nbb_cells[i].input_prompt_number == nbb_cell_id) {\n                        if (nbb_cells[i].get_text() == nbb_unformatted_code) {\n                             nbb_cells[i].set_text(nbb_formatted_code);\n                        }\n                        break;\n                    }\n                }\n            }, 500);\n            ",
      "text/plain": [
       "<IPython.core.display.Javascript object>"
      ]
     },
     "metadata": {},
     "output_type": "display_data"
    }
   ],
   "source": [
    "df.tail(10)"
   ]
  },
  {
   "cell_type": "code",
   "execution_count": 65,
   "metadata": {},
   "outputs": [
    {
     "data": {
      "application/javascript": "\n            setTimeout(function() {\n                var nbb_cell_id = 65;\n                var nbb_unformatted_code = \"df[\\\"actual_percentage_change\\\"] = df['5. adjusted close'].pct_change()\\ndf[\\\"actual_increase\\\"] = df[\\\"actual_percentage_change\\\"].apply(lambda x: 1 if x > 0 else 0)\";\n                var nbb_formatted_code = \"df[\\\"actual_percentage_change\\\"] = df[\\\"5. adjusted close\\\"].pct_change()\\ndf[\\\"actual_increase\\\"] = df[\\\"actual_percentage_change\\\"].apply(\\n    lambda x: 1 if x > 0 else 0\\n)\";\n                var nbb_cells = Jupyter.notebook.get_cells();\n                for (var i = 0; i < nbb_cells.length; ++i) {\n                    if (nbb_cells[i].input_prompt_number == nbb_cell_id) {\n                        if (nbb_cells[i].get_text() == nbb_unformatted_code) {\n                             nbb_cells[i].set_text(nbb_formatted_code);\n                        }\n                        break;\n                    }\n                }\n            }, 500);\n            ",
      "text/plain": [
       "<IPython.core.display.Javascript object>"
      ]
     },
     "metadata": {},
     "output_type": "display_data"
    }
   ],
   "source": [
    "df[\"actual_percentage_change\"] = df['5. adjusted close'].pct_change()\n",
    "df[\"actual_increase\"] = df[\"actual_percentage_change\"].apply(lambda x: 1 if x > 0 else 0)"
   ]
  },
  {
   "cell_type": "code",
   "execution_count": 66,
   "metadata": {},
   "outputs": [
    {
     "data": {
      "application/javascript": "\n            setTimeout(function() {\n                var nbb_cell_id = 66;\n                var nbb_unformatted_code = \"df[\\\"predicted_percentage_change\\\"] = df['preds'].pct_change()\\ndf[\\\"predicted_increase\\\"] = df[\\\"predicted_percentage_change\\\"].apply(lambda x: 1 if x > 0 else 0)\";\n                var nbb_formatted_code = \"df[\\\"predicted_percentage_change\\\"] = df[\\\"preds\\\"].pct_change()\\ndf[\\\"predicted_increase\\\"] = df[\\\"predicted_percentage_change\\\"].apply(\\n    lambda x: 1 if x > 0 else 0\\n)\";\n                var nbb_cells = Jupyter.notebook.get_cells();\n                for (var i = 0; i < nbb_cells.length; ++i) {\n                    if (nbb_cells[i].input_prompt_number == nbb_cell_id) {\n                        if (nbb_cells[i].get_text() == nbb_unformatted_code) {\n                             nbb_cells[i].set_text(nbb_formatted_code);\n                        }\n                        break;\n                    }\n                }\n            }, 500);\n            ",
      "text/plain": [
       "<IPython.core.display.Javascript object>"
      ]
     },
     "metadata": {},
     "output_type": "display_data"
    }
   ],
   "source": [
    "df[\"predicted_percentage_change\"] = df['preds'].pct_change()\n",
    "df[\"predicted_increase\"] = df[\"predicted_percentage_change\"].apply(lambda x: 1 if x > 0 else 0)"
   ]
  },
  {
   "cell_type": "code",
   "execution_count": 67,
   "metadata": {},
   "outputs": [
    {
     "data": {
      "text/html": [
       "<div>\n",
       "<style scoped>\n",
       "    .dataframe tbody tr th:only-of-type {\n",
       "        vertical-align: middle;\n",
       "    }\n",
       "\n",
       "    .dataframe tbody tr th {\n",
       "        vertical-align: top;\n",
       "    }\n",
       "\n",
       "    .dataframe thead th {\n",
       "        text-align: right;\n",
       "    }\n",
       "</style>\n",
       "<table border=\"1\" class=\"dataframe\">\n",
       "  <thead>\n",
       "    <tr style=\"text-align: right;\">\n",
       "      <th></th>\n",
       "      <th>5. adjusted close</th>\n",
       "      <th>preds</th>\n",
       "      <th>actual_percentage_change</th>\n",
       "      <th>actual_increase</th>\n",
       "      <th>predicted_percentage_change</th>\n",
       "      <th>predicted_increase</th>\n",
       "    </tr>\n",
       "  </thead>\n",
       "  <tbody>\n",
       "    <tr>\n",
       "      <th>2820</th>\n",
       "      <td>3027.99</td>\n",
       "      <td>3128.922328</td>\n",
       "      <td>NaN</td>\n",
       "      <td>0</td>\n",
       "      <td>NaN</td>\n",
       "      <td>0</td>\n",
       "    </tr>\n",
       "    <tr>\n",
       "      <th>2821</th>\n",
       "      <td>3074.96</td>\n",
       "      <td>3044.674414</td>\n",
       "      <td>0.015512</td>\n",
       "      <td>1</td>\n",
       "      <td>-0.026926</td>\n",
       "      <td>0</td>\n",
       "    </tr>\n",
       "    <tr>\n",
       "      <th>2822</th>\n",
       "      <td>3110.87</td>\n",
       "      <td>3090.570872</td>\n",
       "      <td>0.011678</td>\n",
       "      <td>1</td>\n",
       "      <td>0.015074</td>\n",
       "      <td>1</td>\n",
       "    </tr>\n",
       "    <tr>\n",
       "      <th>2823</th>\n",
       "      <td>3137.50</td>\n",
       "      <td>3118.156370</td>\n",
       "      <td>0.008560</td>\n",
       "      <td>1</td>\n",
       "      <td>0.008926</td>\n",
       "      <td>1</td>\n",
       "    </tr>\n",
       "    <tr>\n",
       "      <th>2824</th>\n",
       "      <td>3087.07</td>\n",
       "      <td>3135.501205</td>\n",
       "      <td>-0.016073</td>\n",
       "      <td>0</td>\n",
       "      <td>0.005563</td>\n",
       "      <td>1</td>\n",
       "    </tr>\n",
       "  </tbody>\n",
       "</table>\n",
       "</div>"
      ],
      "text/plain": [
       "      5. adjusted close        preds  actual_percentage_change  \\\n",
       "2820            3027.99  3128.922328                       NaN   \n",
       "2821            3074.96  3044.674414                  0.015512   \n",
       "2822            3110.87  3090.570872                  0.011678   \n",
       "2823            3137.50  3118.156370                  0.008560   \n",
       "2824            3087.07  3135.501205                 -0.016073   \n",
       "\n",
       "      actual_increase  predicted_percentage_change  predicted_increase  \n",
       "2820                0                          NaN                   0  \n",
       "2821                1                    -0.026926                   0  \n",
       "2822                1                     0.015074                   1  \n",
       "2823                1                     0.008926                   1  \n",
       "2824                0                     0.005563                   1  "
      ]
     },
     "execution_count": 67,
     "metadata": {},
     "output_type": "execute_result"
    },
    {
     "data": {
      "application/javascript": "\n            setTimeout(function() {\n                var nbb_cell_id = 67;\n                var nbb_unformatted_code = \"df.head()\";\n                var nbb_formatted_code = \"df.head()\";\n                var nbb_cells = Jupyter.notebook.get_cells();\n                for (var i = 0; i < nbb_cells.length; ++i) {\n                    if (nbb_cells[i].input_prompt_number == nbb_cell_id) {\n                        if (nbb_cells[i].get_text() == nbb_unformatted_code) {\n                             nbb_cells[i].set_text(nbb_formatted_code);\n                        }\n                        break;\n                    }\n                }\n            }, 500);\n            ",
      "text/plain": [
       "<IPython.core.display.Javascript object>"
      ]
     },
     "metadata": {},
     "output_type": "display_data"
    }
   ],
   "source": [
    "df.head()"
   ]
  },
  {
   "cell_type": "code",
   "execution_count": 68,
   "metadata": {},
   "outputs": [
    {
     "data": {
      "text/html": [
       "<div>\n",
       "<style scoped>\n",
       "    .dataframe tbody tr th:only-of-type {\n",
       "        vertical-align: middle;\n",
       "    }\n",
       "\n",
       "    .dataframe tbody tr th {\n",
       "        vertical-align: top;\n",
       "    }\n",
       "\n",
       "    .dataframe thead th {\n",
       "        text-align: right;\n",
       "    }\n",
       "</style>\n",
       "<table border=\"1\" class=\"dataframe\">\n",
       "  <thead>\n",
       "    <tr style=\"text-align: right;\">\n",
       "      <th></th>\n",
       "      <th>5. adjusted close</th>\n",
       "      <th>preds</th>\n",
       "      <th>actual_percentage_change</th>\n",
       "      <th>actual_increase</th>\n",
       "      <th>predicted_percentage_change</th>\n",
       "      <th>predicted_increase</th>\n",
       "    </tr>\n",
       "  </thead>\n",
       "  <tbody>\n",
       "    <tr>\n",
       "      <th>3059</th>\n",
       "      <td>3071.26</td>\n",
       "      <td>3097.611251</td>\n",
       "      <td>-0.001466</td>\n",
       "      <td>0</td>\n",
       "      <td>0.017107</td>\n",
       "      <td>1</td>\n",
       "    </tr>\n",
       "    <tr>\n",
       "      <th>3060</th>\n",
       "      <td>3022.84</td>\n",
       "      <td>3102.135843</td>\n",
       "      <td>-0.015766</td>\n",
       "      <td>0</td>\n",
       "      <td>0.001461</td>\n",
       "      <td>1</td>\n",
       "    </tr>\n",
       "    <tr>\n",
       "      <th>3061</th>\n",
       "      <td>3041.05</td>\n",
       "      <td>3031.613736</td>\n",
       "      <td>0.006024</td>\n",
       "      <td>1</td>\n",
       "      <td>-0.022733</td>\n",
       "      <td>0</td>\n",
       "    </tr>\n",
       "    <tr>\n",
       "      <th>3062</th>\n",
       "      <td>2957.97</td>\n",
       "      <td>3027.959676</td>\n",
       "      <td>-0.027320</td>\n",
       "      <td>0</td>\n",
       "      <td>-0.001205</td>\n",
       "      <td>0</td>\n",
       "    </tr>\n",
       "    <tr>\n",
       "      <th>3063</th>\n",
       "      <td>2912.82</td>\n",
       "      <td>2992.443833</td>\n",
       "      <td>-0.015264</td>\n",
       "      <td>0</td>\n",
       "      <td>-0.011729</td>\n",
       "      <td>0</td>\n",
       "    </tr>\n",
       "  </tbody>\n",
       "</table>\n",
       "</div>"
      ],
      "text/plain": [
       "      5. adjusted close        preds  actual_percentage_change  \\\n",
       "3059            3071.26  3097.611251                 -0.001466   \n",
       "3060            3022.84  3102.135843                 -0.015766   \n",
       "3061            3041.05  3031.613736                  0.006024   \n",
       "3062            2957.97  3027.959676                 -0.027320   \n",
       "3063            2912.82  2992.443833                 -0.015264   \n",
       "\n",
       "      actual_increase  predicted_percentage_change  predicted_increase  \n",
       "3059                0                     0.017107                   1  \n",
       "3060                0                     0.001461                   1  \n",
       "3061                1                    -0.022733                   0  \n",
       "3062                0                    -0.001205                   0  \n",
       "3063                0                    -0.011729                   0  "
      ]
     },
     "execution_count": 68,
     "metadata": {},
     "output_type": "execute_result"
    },
    {
     "data": {
      "application/javascript": "\n            setTimeout(function() {\n                var nbb_cell_id = 68;\n                var nbb_unformatted_code = \"df.tail()\";\n                var nbb_formatted_code = \"df.tail()\";\n                var nbb_cells = Jupyter.notebook.get_cells();\n                for (var i = 0; i < nbb_cells.length; ++i) {\n                    if (nbb_cells[i].input_prompt_number == nbb_cell_id) {\n                        if (nbb_cells[i].get_text() == nbb_unformatted_code) {\n                             nbb_cells[i].set_text(nbb_formatted_code);\n                        }\n                        break;\n                    }\n                }\n            }, 500);\n            ",
      "text/plain": [
       "<IPython.core.display.Javascript object>"
      ]
     },
     "metadata": {},
     "output_type": "display_data"
    }
   ],
   "source": [
    "df.tail()"
   ]
  },
  {
   "cell_type": "code",
   "execution_count": 69,
   "metadata": {},
   "outputs": [
    {
     "data": {
      "application/javascript": "\n            setTimeout(function() {\n                var nbb_cell_id = 69;\n                var nbb_unformatted_code = \"df = df.drop(2820)\";\n                var nbb_formatted_code = \"df = df.drop(2820)\";\n                var nbb_cells = Jupyter.notebook.get_cells();\n                for (var i = 0; i < nbb_cells.length; ++i) {\n                    if (nbb_cells[i].input_prompt_number == nbb_cell_id) {\n                        if (nbb_cells[i].get_text() == nbb_unformatted_code) {\n                             nbb_cells[i].set_text(nbb_formatted_code);\n                        }\n                        break;\n                    }\n                }\n            }, 500);\n            ",
      "text/plain": [
       "<IPython.core.display.Javascript object>"
      ]
     },
     "metadata": {},
     "output_type": "display_data"
    }
   ],
   "source": [
    "df = df.drop(2820)"
   ]
  },
  {
   "cell_type": "markdown",
   "metadata": {},
   "source": [
    "#### Postive Increase Prediction %"
   ]
  },
  {
   "cell_type": "code",
   "execution_count": 70,
   "metadata": {},
   "outputs": [
    {
     "data": {
      "text/plain": [
       "0.6033057851239669"
      ]
     },
     "execution_count": 70,
     "metadata": {},
     "output_type": "execute_result"
    },
    {
     "data": {
      "application/javascript": "\n            setTimeout(function() {\n                var nbb_cell_id = 70;\n                var nbb_unformatted_code = \"df[(df[\\\"actual_increase\\\"]==1) & (df[\\\"predicted_increase\\\"]==1)].shape[0] / df[(df[\\\"actual_increase\\\"]==1)].shape[0]\";\n                var nbb_formatted_code = \"df[(df[\\\"actual_increase\\\"] == 1) & (df[\\\"predicted_increase\\\"] == 1)].shape[0] / df[\\n    (df[\\\"actual_increase\\\"] == 1)\\n].shape[0]\";\n                var nbb_cells = Jupyter.notebook.get_cells();\n                for (var i = 0; i < nbb_cells.length; ++i) {\n                    if (nbb_cells[i].input_prompt_number == nbb_cell_id) {\n                        if (nbb_cells[i].get_text() == nbb_unformatted_code) {\n                             nbb_cells[i].set_text(nbb_formatted_code);\n                        }\n                        break;\n                    }\n                }\n            }, 500);\n            ",
      "text/plain": [
       "<IPython.core.display.Javascript object>"
      ]
     },
     "metadata": {},
     "output_type": "display_data"
    }
   ],
   "source": [
    "df[(df[\"actual_increase\"]==1) & (df[\"predicted_increase\"]==1)].shape[0] / df[(df[\"actual_increase\"]==1)].shape[0]"
   ]
  },
  {
   "cell_type": "markdown",
   "metadata": {},
   "source": [
    "### Negative Increase Prediction %"
   ]
  },
  {
   "cell_type": "code",
   "execution_count": 71,
   "metadata": {},
   "outputs": [
    {
     "data": {
      "text/plain": [
       "0.5901639344262295"
      ]
     },
     "execution_count": 71,
     "metadata": {},
     "output_type": "execute_result"
    },
    {
     "data": {
      "application/javascript": "\n            setTimeout(function() {\n                var nbb_cell_id = 71;\n                var nbb_unformatted_code = \"df[(df[\\\"actual_increase\\\"]==0) & (df[\\\"predicted_increase\\\"]==0)].shape[0] / df[(df[\\\"actual_increase\\\"]==0)].shape[0]\";\n                var nbb_formatted_code = \"df[(df[\\\"actual_increase\\\"] == 0) & (df[\\\"predicted_increase\\\"] == 0)].shape[0] / df[\\n    (df[\\\"actual_increase\\\"] == 0)\\n].shape[0]\";\n                var nbb_cells = Jupyter.notebook.get_cells();\n                for (var i = 0; i < nbb_cells.length; ++i) {\n                    if (nbb_cells[i].input_prompt_number == nbb_cell_id) {\n                        if (nbb_cells[i].get_text() == nbb_unformatted_code) {\n                             nbb_cells[i].set_text(nbb_formatted_code);\n                        }\n                        break;\n                    }\n                }\n            }, 500);\n            ",
      "text/plain": [
       "<IPython.core.display.Javascript object>"
      ]
     },
     "metadata": {},
     "output_type": "display_data"
    }
   ],
   "source": [
    "df[(df[\"actual_increase\"]==0) & (df[\"predicted_increase\"]==0)].shape[0] / df[(df[\"actual_increase\"]==0)].shape[0]"
   ]
  },
  {
   "cell_type": "markdown",
   "metadata": {},
   "source": [
    "#### Overall Prediction Accuracy %"
   ]
  },
  {
   "cell_type": "code",
   "execution_count": 72,
   "metadata": {},
   "outputs": [
    {
     "data": {
      "text/plain": [
       "0.5967078189300411"
      ]
     },
     "execution_count": 72,
     "metadata": {},
     "output_type": "execute_result"
    },
    {
     "data": {
      "application/javascript": "\n            setTimeout(function() {\n                var nbb_cell_id = 72;\n                var nbb_unformatted_code = \"df[(df[\\\"actual_increase\\\"] == df[\\\"predicted_increase\\\"])].shape[0] / (df.shape[0])\";\n                var nbb_formatted_code = \"df[(df[\\\"actual_increase\\\"] == df[\\\"predicted_increase\\\"])].shape[0] / (df.shape[0])\";\n                var nbb_cells = Jupyter.notebook.get_cells();\n                for (var i = 0; i < nbb_cells.length; ++i) {\n                    if (nbb_cells[i].input_prompt_number == nbb_cell_id) {\n                        if (nbb_cells[i].get_text() == nbb_unformatted_code) {\n                             nbb_cells[i].set_text(nbb_formatted_code);\n                        }\n                        break;\n                    }\n                }\n            }, 500);\n            ",
      "text/plain": [
       "<IPython.core.display.Javascript object>"
      ]
     },
     "metadata": {},
     "output_type": "display_data"
    }
   ],
   "source": [
    "df[(df[\"actual_increase\"] == df[\"predicted_increase\"])].shape[0] / (df.shape[0])"
   ]
  },
  {
   "cell_type": "markdown",
   "metadata": {},
   "source": [
    "#### Actual Distribution of Increase (1) vs. Decrease (0)"
   ]
  },
  {
   "cell_type": "code",
   "execution_count": 73,
   "metadata": {},
   "outputs": [
    {
     "data": {
      "text/plain": [
       "0    0.502058\n",
       "1    0.497942\n",
       "Name: actual_increase, dtype: float64"
      ]
     },
     "execution_count": 73,
     "metadata": {},
     "output_type": "execute_result"
    },
    {
     "data": {
      "application/javascript": "\n            setTimeout(function() {\n                var nbb_cell_id = 73;\n                var nbb_unformatted_code = \"df[\\\"actual_increase\\\"].value_counts(normalize=True)\";\n                var nbb_formatted_code = \"df[\\\"actual_increase\\\"].value_counts(normalize=True)\";\n                var nbb_cells = Jupyter.notebook.get_cells();\n                for (var i = 0; i < nbb_cells.length; ++i) {\n                    if (nbb_cells[i].input_prompt_number == nbb_cell_id) {\n                        if (nbb_cells[i].get_text() == nbb_unformatted_code) {\n                             nbb_cells[i].set_text(nbb_formatted_code);\n                        }\n                        break;\n                    }\n                }\n            }, 500);\n            ",
      "text/plain": [
       "<IPython.core.display.Javascript object>"
      ]
     },
     "metadata": {},
     "output_type": "display_data"
    }
   ],
   "source": [
    "df[\"actual_increase\"].value_counts(normalize=True)"
   ]
  }
 ],
 "metadata": {
  "kernelspec": {
   "display_name": "Python 3",
   "language": "python",
   "name": "python3"
  },
  "orig_nbformat": 4
 },
 "nbformat": 4,
 "nbformat_minor": 2
}
