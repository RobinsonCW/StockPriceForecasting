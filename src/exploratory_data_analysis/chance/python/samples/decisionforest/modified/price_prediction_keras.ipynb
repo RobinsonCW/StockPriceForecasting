{
 "cells": [
  {
   "cell_type": "code",
   "execution_count": 454,
   "metadata": {},
   "outputs": [
    {
     "name": "stdout",
     "output_type": "stream",
     "text": [
      "The nb_black extension is already loaded. To reload it, use:\n",
      "  %reload_ext nb_black\n"
     ]
    },
    {
     "data": {
      "application/javascript": "\n            setTimeout(function() {\n                var nbb_cell_id = 454;\n                var nbb_unformatted_code = \"from IPython.core.debugger import set_trace\\n\\n%load_ext nb_black\\n\\n# import pandas as pd\\n# import numpy as np\\n# import os\\n# import matplotlib.pyplot as plt\\n# import time\\n\\nimport IPython\\nimport IPython.display\\nimport matplotlib as mpl\\nimport matplotlib.pyplot as plt\\nimport numpy as np\\nimport pandas as pd\\nimport seaborn as sns\\nimport tensorflow as tf\\n\\nfrom pathlib import Path\\n\\nmpl.rcParams['figure.figsize'] = (8, 6)\\nmpl.rcParams['axes.grid'] = False\\n\\nnp.random.seed(42)\\ntf.random.set_seed(42)\\n\\nplt.style.use(style=\\\"seaborn\\\")\\n%matplotlib inline\";\n                var nbb_formatted_code = \"from IPython.core.debugger import set_trace\\n\\n%load_ext nb_black\\n\\n# import pandas as pd\\n# import numpy as np\\n# import os\\n# import matplotlib.pyplot as plt\\n# import time\\n\\nimport IPython\\nimport IPython.display\\nimport matplotlib as mpl\\nimport matplotlib.pyplot as plt\\nimport numpy as np\\nimport pandas as pd\\nimport seaborn as sns\\nimport tensorflow as tf\\n\\nfrom pathlib import Path\\n\\nmpl.rcParams[\\\"figure.figsize\\\"] = (8, 6)\\nmpl.rcParams[\\\"axes.grid\\\"] = False\\n\\nnp.random.seed(42)\\ntf.random.set_seed(42)\\n\\nplt.style.use(style=\\\"seaborn\\\")\\n%matplotlib inline\";\n                var nbb_cells = Jupyter.notebook.get_cells();\n                for (var i = 0; i < nbb_cells.length; ++i) {\n                    if (nbb_cells[i].input_prompt_number == nbb_cell_id) {\n                        if (nbb_cells[i].get_text() == nbb_unformatted_code) {\n                             nbb_cells[i].set_text(nbb_formatted_code);\n                        }\n                        break;\n                    }\n                }\n            }, 500);\n            ",
      "text/plain": [
       "<IPython.core.display.Javascript object>"
      ]
     },
     "metadata": {},
     "output_type": "display_data"
    }
   ],
   "source": [
    "from IPython.core.debugger import set_trace\n",
    "\n",
    "%load_ext nb_black\n",
    "\n",
    "# import pandas as pd\n",
    "# import numpy as np\n",
    "# import os\n",
    "# import matplotlib.pyplot as plt\n",
    "# import time\n",
    "\n",
    "import IPython\n",
    "import IPython.display\n",
    "import matplotlib as mpl\n",
    "import matplotlib.pyplot as plt\n",
    "import numpy as np\n",
    "import pandas as pd\n",
    "import seaborn as sns\n",
    "import tensorflow as tf\n",
    "\n",
    "from pathlib import Path\n",
    "\n",
    "mpl.rcParams['figure.figsize'] = (8, 6)\n",
    "mpl.rcParams['axes.grid'] = False\n",
    "\n",
    "np.random.seed(42)\n",
    "tf.random.set_seed(42)\n",
    "\n",
    "plt.style.use(style=\"seaborn\")\n",
    "%matplotlib inline"
   ]
  },
  {
   "cell_type": "code",
   "execution_count": 455,
   "metadata": {},
   "outputs": [
    {
     "name": "stdout",
     "output_type": "stream",
     "text": [
      "Using GPU\n"
     ]
    },
    {
     "data": {
      "application/javascript": "\n            setTimeout(function() {\n                var nbb_cell_id = 455;\n                var nbb_unformatted_code = \"gpu_devices = tf.config.experimental.list_physical_devices('GPU')\\nif gpu_devices:\\n    print('Using GPU')\\n    tf.config.experimental.set_memory_growth(gpu_devices[0], True)\\nelse:\\n    print('Using CPU')\";\n                var nbb_formatted_code = \"gpu_devices = tf.config.experimental.list_physical_devices(\\\"GPU\\\")\\nif gpu_devices:\\n    print(\\\"Using GPU\\\")\\n    tf.config.experimental.set_memory_growth(gpu_devices[0], True)\\nelse:\\n    print(\\\"Using CPU\\\")\";\n                var nbb_cells = Jupyter.notebook.get_cells();\n                for (var i = 0; i < nbb_cells.length; ++i) {\n                    if (nbb_cells[i].input_prompt_number == nbb_cell_id) {\n                        if (nbb_cells[i].get_text() == nbb_unformatted_code) {\n                             nbb_cells[i].set_text(nbb_formatted_code);\n                        }\n                        break;\n                    }\n                }\n            }, 500);\n            ",
      "text/plain": [
       "<IPython.core.display.Javascript object>"
      ]
     },
     "metadata": {},
     "output_type": "display_data"
    }
   ],
   "source": [
    "gpu_devices = tf.config.experimental.list_physical_devices('GPU')\n",
    "if gpu_devices:\n",
    "    print('Using GPU')\n",
    "    tf.config.experimental.set_memory_growth(gpu_devices[0], True)\n",
    "else:\n",
    "    print('Using CPU')"
   ]
  },
  {
   "cell_type": "code",
   "execution_count": 456,
   "metadata": {},
   "outputs": [
    {
     "name": "stdout",
     "output_type": "stream",
     "text": [
      "Mon Jul  4 19:22:00 2022       \n",
      "+-----------------------------------------------------------------------------+\n",
      "| NVIDIA-SMI 515.48.07    Driver Version: 516.40       CUDA Version: 11.7     |\n",
      "|-------------------------------+----------------------+----------------------+\n",
      "| GPU  Name        Persistence-M| Bus-Id        Disp.A | Volatile Uncorr. ECC |\n",
      "| Fan  Temp  Perf  Pwr:Usage/Cap|         Memory-Usage | GPU-Util  Compute M. |\n",
      "|                               |                      |               MIG M. |\n",
      "|===============================+======================+======================|\n",
      "|   0  NVIDIA GeForce ...  On   | 00000000:01:00.0  On |                  N/A |\n",
      "|  0%   53C    P8    18W / 200W |   2908MiB /  4096MiB |      8%      Default |\n",
      "|                               |                      |                  N/A |\n",
      "+-------------------------------+----------------------+----------------------+\n",
      "                                                                               \n",
      "+-----------------------------------------------------------------------------+\n",
      "| Processes:                                                                  |\n",
      "|  GPU   GI   CI        PID   Type   Process name                  GPU Memory |\n",
      "|        ID   ID                                                   Usage      |\n",
      "|=============================================================================|\n",
      "|    0   N/A  N/A      1728      C   /python3.8                      N/A      |\n",
      "|    0   N/A  N/A     21633      C   /python3.8                      N/A      |\n",
      "|    0   N/A  N/A     21880      C   /python3.8                      N/A      |\n",
      "+-----------------------------------------------------------------------------+\n"
     ]
    },
    {
     "data": {
      "application/javascript": "\n            setTimeout(function() {\n                var nbb_cell_id = 456;\n                var nbb_unformatted_code = \"!nvidia-smi\";\n                var nbb_formatted_code = \"!nvidia-smi\";\n                var nbb_cells = Jupyter.notebook.get_cells();\n                for (var i = 0; i < nbb_cells.length; ++i) {\n                    if (nbb_cells[i].input_prompt_number == nbb_cell_id) {\n                        if (nbb_cells[i].get_text() == nbb_unformatted_code) {\n                             nbb_cells[i].set_text(nbb_formatted_code);\n                        }\n                        break;\n                    }\n                }\n            }, 500);\n            ",
      "text/plain": [
       "<IPython.core.display.Javascript object>"
      ]
     },
     "metadata": {},
     "output_type": "display_data"
    }
   ],
   "source": [
    "!nvidia-smi"
   ]
  },
  {
   "cell_type": "code",
   "execution_count": 457,
   "metadata": {},
   "outputs": [
    {
     "data": {
      "application/javascript": "\n            setTimeout(function() {\n                var nbb_cell_id = 457;\n                var nbb_unformatted_code = \"csv_path = \\\"/app/StockPricePredictions/data/alphavantage/time_series_daily_adjusted/AAPL/AAPL_WITH_TWINT_FINBERT_SA.csv\\\"\";\n                var nbb_formatted_code = \"csv_path = \\\"/app/StockPricePredictions/data/alphavantage/time_series_daily_adjusted/AAPL/AAPL_WITH_TWINT_FINBERT_SA.csv\\\"\";\n                var nbb_cells = Jupyter.notebook.get_cells();\n                for (var i = 0; i < nbb_cells.length; ++i) {\n                    if (nbb_cells[i].input_prompt_number == nbb_cell_id) {\n                        if (nbb_cells[i].get_text() == nbb_unformatted_code) {\n                             nbb_cells[i].set_text(nbb_formatted_code);\n                        }\n                        break;\n                    }\n                }\n            }, 500);\n            ",
      "text/plain": [
       "<IPython.core.display.Javascript object>"
      ]
     },
     "metadata": {},
     "output_type": "display_data"
    }
   ],
   "source": [
    "csv_path = \"/app/StockPricePredictions/data/alphavantage/time_series_daily_adjusted/AAPL/AAPL_WITH_TWINT_FINBERT_SA.csv\""
   ]
  },
  {
   "cell_type": "code",
   "execution_count": 458,
   "metadata": {},
   "outputs": [
    {
     "data": {
      "application/javascript": "\n            setTimeout(function() {\n                var nbb_cell_id = 458;\n                var nbb_unformatted_code = \"df = pd.read_csv(csv_path)\\ndf.sort_values(by=[\\\"date\\\"], ascending=True, inplace=True)\\ndf.reset_index(drop=True, inplace=True)\\n# Slice [start:stop:step], starting from index 5 take every 6th record.\\n# df = df[5::6]\\n\\ndate_time = pd.to_datetime(df.pop('date'))\\n# title = df.pop('tweet')\\n\\ndf = df[[\\\"5. adjusted close\\\"]] \\n# df = df[[\\\"2. high\\\", \\\"3. low\\\", \\\"5. adjusted close\\\", \\\"6. volume\\\"]]\\n\\ndf.index = date_time\";\n                var nbb_formatted_code = \"df = pd.read_csv(csv_path)\\ndf.sort_values(by=[\\\"date\\\"], ascending=True, inplace=True)\\ndf.reset_index(drop=True, inplace=True)\\n# Slice [start:stop:step], starting from index 5 take every 6th record.\\n# df = df[5::6]\\n\\ndate_time = pd.to_datetime(df.pop(\\\"date\\\"))\\n# title = df.pop('tweet')\\n\\ndf = df[[\\\"5. adjusted close\\\"]]\\n# df = df[[\\\"2. high\\\", \\\"3. low\\\", \\\"5. adjusted close\\\", \\\"6. volume\\\"]]\\n\\ndf.index = date_time\";\n                var nbb_cells = Jupyter.notebook.get_cells();\n                for (var i = 0; i < nbb_cells.length; ++i) {\n                    if (nbb_cells[i].input_prompt_number == nbb_cell_id) {\n                        if (nbb_cells[i].get_text() == nbb_unformatted_code) {\n                             nbb_cells[i].set_text(nbb_formatted_code);\n                        }\n                        break;\n                    }\n                }\n            }, 500);\n            ",
      "text/plain": [
       "<IPython.core.display.Javascript object>"
      ]
     },
     "metadata": {},
     "output_type": "display_data"
    }
   ],
   "source": [
    "df = pd.read_csv(csv_path)\n",
    "df.sort_values(by=[\"date\"], ascending=True, inplace=True)\n",
    "df.reset_index(drop=True, inplace=True)\n",
    "# Slice [start:stop:step], starting from index 5 take every 6th record.\n",
    "# df = df[5::6]\n",
    "\n",
    "date_time = pd.to_datetime(df.pop('date'))\n",
    "# title = df.pop('tweet')\n",
    "\n",
    "df = df[[\"5. adjusted close\"]] \n",
    "# df = df[[\"2. high\", \"3. low\", \"5. adjusted close\", \"6. volume\"]]\n",
    "\n",
    "df.index = date_time"
   ]
  },
  {
   "cell_type": "code",
   "execution_count": 459,
   "metadata": {},
   "outputs": [
    {
     "name": "stdout",
     "output_type": "stream",
     "text": [
      "<class 'pandas.core.frame.DataFrame'>\n",
      "DatetimeIndex: 3064 entries, 2010-01-04 to 2022-03-04\n",
      "Data columns (total 1 columns):\n",
      " #   Column             Non-Null Count  Dtype  \n",
      "---  ------             --------------  -----  \n",
      " 0   5. adjusted close  3064 non-null   float64\n",
      "dtypes: float64(1)\n",
      "memory usage: 47.9 KB\n"
     ]
    },
    {
     "data": {
      "application/javascript": "\n            setTimeout(function() {\n                var nbb_cell_id = 459;\n                var nbb_unformatted_code = \"df.info()\";\n                var nbb_formatted_code = \"df.info()\";\n                var nbb_cells = Jupyter.notebook.get_cells();\n                for (var i = 0; i < nbb_cells.length; ++i) {\n                    if (nbb_cells[i].input_prompt_number == nbb_cell_id) {\n                        if (nbb_cells[i].get_text() == nbb_unformatted_code) {\n                             nbb_cells[i].set_text(nbb_formatted_code);\n                        }\n                        break;\n                    }\n                }\n            }, 500);\n            ",
      "text/plain": [
       "<IPython.core.display.Javascript object>"
      ]
     },
     "metadata": {},
     "output_type": "display_data"
    }
   ],
   "source": [
    "df.info()"
   ]
  },
  {
   "cell_type": "code",
   "execution_count": 460,
   "metadata": {},
   "outputs": [
    {
     "data": {
      "text/html": [
       "<div>\n",
       "<style scoped>\n",
       "    .dataframe tbody tr th:only-of-type {\n",
       "        vertical-align: middle;\n",
       "    }\n",
       "\n",
       "    .dataframe tbody tr th {\n",
       "        vertical-align: top;\n",
       "    }\n",
       "\n",
       "    .dataframe thead th {\n",
       "        text-align: right;\n",
       "    }\n",
       "</style>\n",
       "<table border=\"1\" class=\"dataframe\">\n",
       "  <thead>\n",
       "    <tr style=\"text-align: right;\">\n",
       "      <th></th>\n",
       "      <th>5. adjusted close</th>\n",
       "    </tr>\n",
       "    <tr>\n",
       "      <th>date</th>\n",
       "      <th></th>\n",
       "    </tr>\n",
       "  </thead>\n",
       "  <tbody>\n",
       "    <tr>\n",
       "      <th>2010-01-04</th>\n",
       "      <td>6.543876</td>\n",
       "    </tr>\n",
       "    <tr>\n",
       "      <th>2010-01-05</th>\n",
       "      <td>6.555190</td>\n",
       "    </tr>\n",
       "    <tr>\n",
       "      <th>2010-01-06</th>\n",
       "      <td>6.450921</td>\n",
       "    </tr>\n",
       "    <tr>\n",
       "      <th>2010-01-07</th>\n",
       "      <td>6.438996</td>\n",
       "    </tr>\n",
       "    <tr>\n",
       "      <th>2010-01-08</th>\n",
       "      <td>6.481804</td>\n",
       "    </tr>\n",
       "  </tbody>\n",
       "</table>\n",
       "</div>"
      ],
      "text/plain": [
       "            5. adjusted close\n",
       "date                         \n",
       "2010-01-04           6.543876\n",
       "2010-01-05           6.555190\n",
       "2010-01-06           6.450921\n",
       "2010-01-07           6.438996\n",
       "2010-01-08           6.481804"
      ]
     },
     "execution_count": 460,
     "metadata": {},
     "output_type": "execute_result"
    },
    {
     "data": {
      "application/javascript": "\n            setTimeout(function() {\n                var nbb_cell_id = 460;\n                var nbb_unformatted_code = \"#df.set_index(\\\"date\\\", drop=True, inplace=True)\\ndf.head()\";\n                var nbb_formatted_code = \"# df.set_index(\\\"date\\\", drop=True, inplace=True)\\ndf.head()\";\n                var nbb_cells = Jupyter.notebook.get_cells();\n                for (var i = 0; i < nbb_cells.length; ++i) {\n                    if (nbb_cells[i].input_prompt_number == nbb_cell_id) {\n                        if (nbb_cells[i].get_text() == nbb_unformatted_code) {\n                             nbb_cells[i].set_text(nbb_formatted_code);\n                        }\n                        break;\n                    }\n                }\n            }, 500);\n            ",
      "text/plain": [
       "<IPython.core.display.Javascript object>"
      ]
     },
     "metadata": {},
     "output_type": "display_data"
    }
   ],
   "source": [
    "#df.set_index(\"date\", drop=True, inplace=True)\n",
    "df.head()"
   ]
  },
  {
   "cell_type": "markdown",
   "metadata": {},
   "source": [
    "We'll use only the close feature."
   ]
  },
  {
   "cell_type": "code",
   "execution_count": 461,
   "metadata": {},
   "outputs": [
    {
     "data": {
      "application/javascript": "\n            setTimeout(function() {\n                var nbb_cell_id = 461;\n                var nbb_unformatted_code = \"# df = df[[\\\"close\\\"]]\";\n                var nbb_formatted_code = \"# df = df[[\\\"close\\\"]]\";\n                var nbb_cells = Jupyter.notebook.get_cells();\n                for (var i = 0; i < nbb_cells.length; ++i) {\n                    if (nbb_cells[i].input_prompt_number == nbb_cell_id) {\n                        if (nbb_cells[i].get_text() == nbb_unformatted_code) {\n                             nbb_cells[i].set_text(nbb_formatted_code);\n                        }\n                        break;\n                    }\n                }\n            }, 500);\n            ",
      "text/plain": [
       "<IPython.core.display.Javascript object>"
      ]
     },
     "metadata": {},
     "output_type": "display_data"
    }
   ],
   "source": [
    "# df = df[[\"close\"]]"
   ]
  },
  {
   "cell_type": "code",
   "execution_count": 462,
   "metadata": {},
   "outputs": [
    {
     "data": {
      "text/plain": [
       "False"
      ]
     },
     "execution_count": 462,
     "metadata": {},
     "output_type": "execute_result"
    },
    {
     "data": {
      "application/javascript": "\n            setTimeout(function() {\n                var nbb_cell_id = 462;\n                var nbb_unformatted_code = \"type(df[\\\"5. adjusted close\\\"]) == type(df[[\\\"5. adjusted close\\\"]])\";\n                var nbb_formatted_code = \"type(df[\\\"5. adjusted close\\\"]) == type(df[[\\\"5. adjusted close\\\"]])\";\n                var nbb_cells = Jupyter.notebook.get_cells();\n                for (var i = 0; i < nbb_cells.length; ++i) {\n                    if (nbb_cells[i].input_prompt_number == nbb_cell_id) {\n                        if (nbb_cells[i].get_text() == nbb_unformatted_code) {\n                             nbb_cells[i].set_text(nbb_formatted_code);\n                        }\n                        break;\n                    }\n                }\n            }, 500);\n            ",
      "text/plain": [
       "<IPython.core.display.Javascript object>"
      ]
     },
     "metadata": {},
     "output_type": "display_data"
    }
   ],
   "source": [
    "type(df[\"5. adjusted close\"]) == type(df[[\"5. adjusted close\"]])"
   ]
  },
  {
   "cell_type": "code",
   "execution_count": 463,
   "metadata": {},
   "outputs": [
    {
     "data": {
      "text/plain": [
       "pandas.core.frame.DataFrame"
      ]
     },
     "execution_count": 463,
     "metadata": {},
     "output_type": "execute_result"
    },
    {
     "data": {
      "application/javascript": "\n            setTimeout(function() {\n                var nbb_cell_id = 463;\n                var nbb_unformatted_code = \"type(df[[\\\"5. adjusted close\\\"]])\";\n                var nbb_formatted_code = \"type(df[[\\\"5. adjusted close\\\"]])\";\n                var nbb_cells = Jupyter.notebook.get_cells();\n                for (var i = 0; i < nbb_cells.length; ++i) {\n                    if (nbb_cells[i].input_prompt_number == nbb_cell_id) {\n                        if (nbb_cells[i].get_text() == nbb_unformatted_code) {\n                             nbb_cells[i].set_text(nbb_formatted_code);\n                        }\n                        break;\n                    }\n                }\n            }, 500);\n            ",
      "text/plain": [
       "<IPython.core.display.Javascript object>"
      ]
     },
     "metadata": {},
     "output_type": "display_data"
    }
   ],
   "source": [
    "type(df[[\"5. adjusted close\"]])"
   ]
  },
  {
   "cell_type": "code",
   "execution_count": 464,
   "metadata": {},
   "outputs": [
    {
     "data": {
      "text/html": [
       "<div>\n",
       "<style scoped>\n",
       "    .dataframe tbody tr th:only-of-type {\n",
       "        vertical-align: middle;\n",
       "    }\n",
       "\n",
       "    .dataframe tbody tr th {\n",
       "        vertical-align: top;\n",
       "    }\n",
       "\n",
       "    .dataframe thead th {\n",
       "        text-align: right;\n",
       "    }\n",
       "</style>\n",
       "<table border=\"1\" class=\"dataframe\">\n",
       "  <thead>\n",
       "    <tr style=\"text-align: right;\">\n",
       "      <th></th>\n",
       "      <th>5. adjusted close</th>\n",
       "    </tr>\n",
       "  </thead>\n",
       "  <tbody>\n",
       "    <tr>\n",
       "      <th>count</th>\n",
       "      <td>3064.000000</td>\n",
       "    </tr>\n",
       "    <tr>\n",
       "      <th>mean</th>\n",
       "      <td>42.736360</td>\n",
       "    </tr>\n",
       "    <tr>\n",
       "      <th>std</th>\n",
       "      <td>41.154337</td>\n",
       "    </tr>\n",
       "    <tr>\n",
       "      <th>min</th>\n",
       "      <td>5.872396</td>\n",
       "    </tr>\n",
       "    <tr>\n",
       "      <th>25%</th>\n",
       "      <td>16.285903</td>\n",
       "    </tr>\n",
       "    <tr>\n",
       "      <th>50%</th>\n",
       "      <td>26.270965</td>\n",
       "    </tr>\n",
       "    <tr>\n",
       "      <th>75%</th>\n",
       "      <td>48.589739</td>\n",
       "    </tr>\n",
       "    <tr>\n",
       "      <th>max</th>\n",
       "      <td>181.778019</td>\n",
       "    </tr>\n",
       "  </tbody>\n",
       "</table>\n",
       "</div>"
      ],
      "text/plain": [
       "       5. adjusted close\n",
       "count        3064.000000\n",
       "mean           42.736360\n",
       "std            41.154337\n",
       "min             5.872396\n",
       "25%            16.285903\n",
       "50%            26.270965\n",
       "75%            48.589739\n",
       "max           181.778019"
      ]
     },
     "execution_count": 464,
     "metadata": {},
     "output_type": "execute_result"
    },
    {
     "data": {
      "application/javascript": "\n            setTimeout(function() {\n                var nbb_cell_id = 464;\n                var nbb_unformatted_code = \"df.describe()\";\n                var nbb_formatted_code = \"df.describe()\";\n                var nbb_cells = Jupyter.notebook.get_cells();\n                for (var i = 0; i < nbb_cells.length; ++i) {\n                    if (nbb_cells[i].input_prompt_number == nbb_cell_id) {\n                        if (nbb_cells[i].get_text() == nbb_unformatted_code) {\n                             nbb_cells[i].set_text(nbb_formatted_code);\n                        }\n                        break;\n                    }\n                }\n            }, 500);\n            ",
      "text/plain": [
       "<IPython.core.display.Javascript object>"
      ]
     },
     "metadata": {},
     "output_type": "display_data"
    }
   ],
   "source": [
    "df.describe()"
   ]
  },
  {
   "cell_type": "code",
   "execution_count": 465,
   "metadata": {},
   "outputs": [
    {
     "data": {
      "image/png": "[encoded data removed]",
      "text/plain": [
       "<Figure size 1152x432 with 1 Axes>"
      ]
     },
     "metadata": {
      "needs_background": "light"
     },
     "output_type": "display_data"
    },
    {
     "data": {
      "application/javascript": "\n            setTimeout(function() {\n                var nbb_cell_id = 465;\n                var nbb_unformatted_code = \"plt.figure(1, figsize=(16, 6))\\n_ = plt.plot(df['5. adjusted close'])\";\n                var nbb_formatted_code = \"plt.figure(1, figsize=(16, 6))\\n_ = plt.plot(df[\\\"5. adjusted close\\\"])\";\n                var nbb_cells = Jupyter.notebook.get_cells();\n                for (var i = 0; i < nbb_cells.length; ++i) {\n                    if (nbb_cells[i].input_prompt_number == nbb_cell_id) {\n                        if (nbb_cells[i].get_text() == nbb_unformatted_code) {\n                             nbb_cells[i].set_text(nbb_formatted_code);\n                        }\n                        break;\n                    }\n                }\n            }, 500);\n            ",
      "text/plain": [
       "<IPython.core.display.Javascript object>"
      ]
     },
     "metadata": {},
     "output_type": "display_data"
    }
   ],
   "source": [
    "plt.figure(1, figsize=(16, 6))\n",
    "_ = plt.plot(df['5. adjusted close'])"
   ]
  },
  {
   "cell_type": "markdown",
   "metadata": {},
   "source": [
    "Calculate the percentage change.\n",
    "\n",
    "The reason for using pct_change instead of the prices is the benefit of normalization as we can measure all variables in a comparable metric. Also returns have more manageable statistical properties than prices such as stationarity, as in most cases we don't have stationary prices but we can have stationary returns.\n",
    "\n",
    "A stationary time series is one where statistical properties such as mean, variance, correlation, etc are constant over time.\n",
    "For more details on stationarity: https://en.wikipedia.org/wiki/Stationary_process"
   ]
  },
  {
   "cell_type": "code",
   "execution_count": 466,
   "metadata": {},
   "outputs": [
    {
     "data": {
      "application/javascript": "\n            setTimeout(function() {\n                var nbb_cell_id = 466;\n                var nbb_unformatted_code = \"df[\\\"returns\\\"] = df['5. adjusted close'].pct_change()\";\n                var nbb_formatted_code = \"df[\\\"returns\\\"] = df[\\\"5. adjusted close\\\"].pct_change()\";\n                var nbb_cells = Jupyter.notebook.get_cells();\n                for (var i = 0; i < nbb_cells.length; ++i) {\n                    if (nbb_cells[i].input_prompt_number == nbb_cell_id) {\n                        if (nbb_cells[i].get_text() == nbb_unformatted_code) {\n                             nbb_cells[i].set_text(nbb_formatted_code);\n                        }\n                        break;\n                    }\n                }\n            }, 500);\n            ",
      "text/plain": [
       "<IPython.core.display.Javascript object>"
      ]
     },
     "metadata": {},
     "output_type": "display_data"
    }
   ],
   "source": [
    "df[\"returns\"] = df['5. adjusted close'].pct_change()"
   ]
  },
  {
   "cell_type": "code",
   "execution_count": 467,
   "metadata": {},
   "outputs": [
    {
     "data": {
      "text/html": [
       "<div>\n",
       "<style scoped>\n",
       "    .dataframe tbody tr th:only-of-type {\n",
       "        vertical-align: middle;\n",
       "    }\n",
       "\n",
       "    .dataframe tbody tr th {\n",
       "        vertical-align: top;\n",
       "    }\n",
       "\n",
       "    .dataframe thead th {\n",
       "        text-align: right;\n",
       "    }\n",
       "</style>\n",
       "<table border=\"1\" class=\"dataframe\">\n",
       "  <thead>\n",
       "    <tr style=\"text-align: right;\">\n",
       "      <th></th>\n",
       "      <th>5. adjusted close</th>\n",
       "      <th>returns</th>\n",
       "    </tr>\n",
       "    <tr>\n",
       "      <th>date</th>\n",
       "      <th></th>\n",
       "      <th></th>\n",
       "    </tr>\n",
       "  </thead>\n",
       "  <tbody>\n",
       "    <tr>\n",
       "      <th>2010-01-04</th>\n",
       "      <td>6.543876</td>\n",
       "      <td>NaN</td>\n",
       "    </tr>\n",
       "    <tr>\n",
       "      <th>2010-01-05</th>\n",
       "      <td>6.555190</td>\n",
       "      <td>0.001729</td>\n",
       "    </tr>\n",
       "    <tr>\n",
       "      <th>2010-01-06</th>\n",
       "      <td>6.450921</td>\n",
       "      <td>-0.015906</td>\n",
       "    </tr>\n",
       "    <tr>\n",
       "      <th>2010-01-07</th>\n",
       "      <td>6.438996</td>\n",
       "      <td>-0.001849</td>\n",
       "    </tr>\n",
       "    <tr>\n",
       "      <th>2010-01-08</th>\n",
       "      <td>6.481804</td>\n",
       "      <td>0.006648</td>\n",
       "    </tr>\n",
       "  </tbody>\n",
       "</table>\n",
       "</div>"
      ],
      "text/plain": [
       "            5. adjusted close   returns\n",
       "date                                   \n",
       "2010-01-04           6.543876       NaN\n",
       "2010-01-05           6.555190  0.001729\n",
       "2010-01-06           6.450921 -0.015906\n",
       "2010-01-07           6.438996 -0.001849\n",
       "2010-01-08           6.481804  0.006648"
      ]
     },
     "execution_count": 467,
     "metadata": {},
     "output_type": "execute_result"
    },
    {
     "data": {
      "application/javascript": "\n            setTimeout(function() {\n                var nbb_cell_id = 467;\n                var nbb_unformatted_code = \"df.head(5)\";\n                var nbb_formatted_code = \"df.head(5)\";\n                var nbb_cells = Jupyter.notebook.get_cells();\n                for (var i = 0; i < nbb_cells.length; ++i) {\n                    if (nbb_cells[i].input_prompt_number == nbb_cell_id) {\n                        if (nbb_cells[i].get_text() == nbb_unformatted_code) {\n                             nbb_cells[i].set_text(nbb_formatted_code);\n                        }\n                        break;\n                    }\n                }\n            }, 500);\n            ",
      "text/plain": [
       "<IPython.core.display.Javascript object>"
      ]
     },
     "metadata": {},
     "output_type": "display_data"
    }
   ],
   "source": [
    "df.head(5)"
   ]
  },
  {
   "cell_type": "markdown",
   "metadata": {},
   "source": [
    "Calculate the log returns.\n",
    "\n",
    "Why use log returns: https://quantivity.wordpress.com/2011/02/21/why-log-returns/"
   ]
  },
  {
   "cell_type": "code",
   "execution_count": 468,
   "metadata": {},
   "outputs": [
    {
     "data": {
      "application/javascript": "\n            setTimeout(function() {\n                var nbb_cell_id = 468;\n                var nbb_unformatted_code = \"df[\\\"log_returns\\\"] = np.log(1 + df[\\\"returns\\\"])\";\n                var nbb_formatted_code = \"df[\\\"log_returns\\\"] = np.log(1 + df[\\\"returns\\\"])\";\n                var nbb_cells = Jupyter.notebook.get_cells();\n                for (var i = 0; i < nbb_cells.length; ++i) {\n                    if (nbb_cells[i].input_prompt_number == nbb_cell_id) {\n                        if (nbb_cells[i].get_text() == nbb_unformatted_code) {\n                             nbb_cells[i].set_text(nbb_formatted_code);\n                        }\n                        break;\n                    }\n                }\n            }, 500);\n            ",
      "text/plain": [
       "<IPython.core.display.Javascript object>"
      ]
     },
     "metadata": {},
     "output_type": "display_data"
    }
   ],
   "source": [
    "df[\"log_returns\"] = np.log(1 + df[\"returns\"])"
   ]
  },
  {
   "cell_type": "code",
   "execution_count": 469,
   "metadata": {},
   "outputs": [
    {
     "data": {
      "text/html": [
       "<div>\n",
       "<style scoped>\n",
       "    .dataframe tbody tr th:only-of-type {\n",
       "        vertical-align: middle;\n",
       "    }\n",
       "\n",
       "    .dataframe tbody tr th {\n",
       "        vertical-align: top;\n",
       "    }\n",
       "\n",
       "    .dataframe thead th {\n",
       "        text-align: right;\n",
       "    }\n",
       "</style>\n",
       "<table border=\"1\" class=\"dataframe\">\n",
       "  <thead>\n",
       "    <tr style=\"text-align: right;\">\n",
       "      <th></th>\n",
       "      <th>5. adjusted close</th>\n",
       "      <th>returns</th>\n",
       "      <th>log_returns</th>\n",
       "    </tr>\n",
       "    <tr>\n",
       "      <th>date</th>\n",
       "      <th></th>\n",
       "      <th></th>\n",
       "      <th></th>\n",
       "    </tr>\n",
       "  </thead>\n",
       "  <tbody>\n",
       "    <tr>\n",
       "      <th>2010-01-04</th>\n",
       "      <td>6.543876</td>\n",
       "      <td>NaN</td>\n",
       "      <td>NaN</td>\n",
       "    </tr>\n",
       "    <tr>\n",
       "      <th>2010-01-05</th>\n",
       "      <td>6.555190</td>\n",
       "      <td>0.001729</td>\n",
       "      <td>0.001727</td>\n",
       "    </tr>\n",
       "    <tr>\n",
       "      <th>2010-01-06</th>\n",
       "      <td>6.450921</td>\n",
       "      <td>-0.015906</td>\n",
       "      <td>-0.016034</td>\n",
       "    </tr>\n",
       "    <tr>\n",
       "      <th>2010-01-07</th>\n",
       "      <td>6.438996</td>\n",
       "      <td>-0.001849</td>\n",
       "      <td>-0.001850</td>\n",
       "    </tr>\n",
       "    <tr>\n",
       "      <th>2010-01-08</th>\n",
       "      <td>6.481804</td>\n",
       "      <td>0.006648</td>\n",
       "      <td>0.006626</td>\n",
       "    </tr>\n",
       "  </tbody>\n",
       "</table>\n",
       "</div>"
      ],
      "text/plain": [
       "            5. adjusted close   returns  log_returns\n",
       "date                                                \n",
       "2010-01-04           6.543876       NaN          NaN\n",
       "2010-01-05           6.555190  0.001729     0.001727\n",
       "2010-01-06           6.450921 -0.015906    -0.016034\n",
       "2010-01-07           6.438996 -0.001849    -0.001850\n",
       "2010-01-08           6.481804  0.006648     0.006626"
      ]
     },
     "execution_count": 469,
     "metadata": {},
     "output_type": "execute_result"
    },
    {
     "data": {
      "application/javascript": "\n            setTimeout(function() {\n                var nbb_cell_id = 469;\n                var nbb_unformatted_code = \"df.head(5)\";\n                var nbb_formatted_code = \"df.head(5)\";\n                var nbb_cells = Jupyter.notebook.get_cells();\n                for (var i = 0; i < nbb_cells.length; ++i) {\n                    if (nbb_cells[i].input_prompt_number == nbb_cell_id) {\n                        if (nbb_cells[i].get_text() == nbb_unformatted_code) {\n                             nbb_cells[i].set_text(nbb_formatted_code);\n                        }\n                        break;\n                    }\n                }\n            }, 500);\n            ",
      "text/plain": [
       "<IPython.core.display.Javascript object>"
      ]
     },
     "metadata": {},
     "output_type": "display_data"
    }
   ],
   "source": [
    "df.head(5)"
   ]
  },
  {
   "cell_type": "code",
   "execution_count": 470,
   "metadata": {},
   "outputs": [
    {
     "data": {
      "text/plain": [
       "[<matplotlib.lines.Line2D at 0x7fe8ecad8fa0>]"
      ]
     },
     "execution_count": 470,
     "metadata": {},
     "output_type": "execute_result"
    },
    {
     "data": {
      "image/png": "[encoded data removed]",
      "text/plain": [
       "<Figure size 1152x288 with 1 Axes>"
      ]
     },
     "metadata": {
      "needs_background": "light"
     },
     "output_type": "display_data"
    },
    {
     "data": {
      "application/javascript": "\n            setTimeout(function() {\n                var nbb_cell_id = 470;\n                var nbb_unformatted_code = \"plt.figure(1, figsize=(16, 4))\\nplt.plot(df.log_returns)\";\n                var nbb_formatted_code = \"plt.figure(1, figsize=(16, 4))\\nplt.plot(df.log_returns)\";\n                var nbb_cells = Jupyter.notebook.get_cells();\n                for (var i = 0; i < nbb_cells.length; ++i) {\n                    if (nbb_cells[i].input_prompt_number == nbb_cell_id) {\n                        if (nbb_cells[i].get_text() == nbb_unformatted_code) {\n                             nbb_cells[i].set_text(nbb_formatted_code);\n                        }\n                        break;\n                    }\n                }\n            }, 500);\n            ",
      "text/plain": [
       "<IPython.core.display.Javascript object>"
      ]
     },
     "metadata": {},
     "output_type": "display_data"
    }
   ],
   "source": [
    "plt.figure(1, figsize=(16, 4))\n",
    "plt.plot(df.log_returns)"
   ]
  },
  {
   "cell_type": "code",
   "execution_count": 471,
   "metadata": {},
   "outputs": [
    {
     "name": "stdout",
     "output_type": "stream",
     "text": [
      "<class 'pandas.core.frame.DataFrame'>\n",
      "DatetimeIndex: 3064 entries, 2010-01-04 to 2022-03-04\n",
      "Data columns (total 3 columns):\n",
      " #   Column             Non-Null Count  Dtype  \n",
      "---  ------             --------------  -----  \n",
      " 0   5. adjusted close  3064 non-null   float64\n",
      " 1   returns            3063 non-null   float64\n",
      " 2   log_returns        3063 non-null   float64\n",
      "dtypes: float64(3)\n",
      "memory usage: 95.8 KB\n"
     ]
    },
    {
     "data": {
      "application/javascript": "\n            setTimeout(function() {\n                var nbb_cell_id = 471;\n                var nbb_unformatted_code = \"df.info()\";\n                var nbb_formatted_code = \"df.info()\";\n                var nbb_cells = Jupyter.notebook.get_cells();\n                for (var i = 0; i < nbb_cells.length; ++i) {\n                    if (nbb_cells[i].input_prompt_number == nbb_cell_id) {\n                        if (nbb_cells[i].get_text() == nbb_unformatted_code) {\n                             nbb_cells[i].set_text(nbb_formatted_code);\n                        }\n                        break;\n                    }\n                }\n            }, 500);\n            ",
      "text/plain": [
       "<IPython.core.display.Javascript object>"
      ]
     },
     "metadata": {},
     "output_type": "display_data"
    }
   ],
   "source": [
    "df.info()"
   ]
  },
  {
   "cell_type": "code",
   "execution_count": 472,
   "metadata": {},
   "outputs": [
    {
     "data": {
      "application/javascript": "\n            setTimeout(function() {\n                var nbb_cell_id = 472;\n                var nbb_unformatted_code = \"X = df[[\\\"5. adjusted close\\\"]].values\\n\\n# df.dropna(inplace=True)\\n# X = df[[\\\"5. adjusted close\\\", \\\"log_returns\\\"]].values\\n\\n\\n# X = df[[\\\"5. adjusted close\\\", \\\"2. high\\\", \\\"3. low\\\", \\\"6. volume\\\", \\\"log_returns\\\"]].values\";\n                var nbb_formatted_code = \"X = df[[\\\"5. adjusted close\\\"]].values\\n\\n# df.dropna(inplace=True)\\n# X = df[[\\\"5. adjusted close\\\", \\\"log_returns\\\"]].values\\n\\n\\n# X = df[[\\\"5. adjusted close\\\", \\\"2. high\\\", \\\"3. low\\\", \\\"6. volume\\\", \\\"log_returns\\\"]].values\";\n                var nbb_cells = Jupyter.notebook.get_cells();\n                for (var i = 0; i < nbb_cells.length; ++i) {\n                    if (nbb_cells[i].input_prompt_number == nbb_cell_id) {\n                        if (nbb_cells[i].get_text() == nbb_unformatted_code) {\n                             nbb_cells[i].set_text(nbb_formatted_code);\n                        }\n                        break;\n                    }\n                }\n            }, 500);\n            ",
      "text/plain": [
       "<IPython.core.display.Javascript object>"
      ]
     },
     "metadata": {},
     "output_type": "display_data"
    }
   ],
   "source": [
    "X = df[[\"5. adjusted close\"]].values\n",
    "\n",
    "# df.dropna(inplace=True)\n",
    "# X = df[[\"5. adjusted close\", \"log_returns\"]].values\n",
    "\n",
    "\n",
    "# X = df[[\"5. adjusted close\", \"2. high\", \"3. low\", \"6. volume\", \"log_returns\"]].values"
   ]
  },
  {
   "cell_type": "code",
   "execution_count": 473,
   "metadata": {},
   "outputs": [
    {
     "data": {
      "text/plain": [
       "array([[  6.54387626],\n",
       "       [  6.55518991],\n",
       "       [  6.45092087],\n",
       "       ...,\n",
       "       [166.56      ],\n",
       "       [166.23      ],\n",
       "       [163.17      ]])"
      ]
     },
     "execution_count": 473,
     "metadata": {},
     "output_type": "execute_result"
    },
    {
     "data": {
      "application/javascript": "\n            setTimeout(function() {\n                var nbb_cell_id = 473;\n                var nbb_unformatted_code = \"X\";\n                var nbb_formatted_code = \"X\";\n                var nbb_cells = Jupyter.notebook.get_cells();\n                for (var i = 0; i < nbb_cells.length; ++i) {\n                    if (nbb_cells[i].input_prompt_number == nbb_cell_id) {\n                        if (nbb_cells[i].get_text() == nbb_unformatted_code) {\n                             nbb_cells[i].set_text(nbb_formatted_code);\n                        }\n                        break;\n                    }\n                }\n            }, 500);\n            ",
      "text/plain": [
       "<IPython.core.display.Javascript object>"
      ]
     },
     "metadata": {},
     "output_type": "display_data"
    }
   ],
   "source": [
    "X"
   ]
  },
  {
   "cell_type": "code",
   "execution_count": 474,
   "metadata": {},
   "outputs": [
    {
     "data": {
      "application/javascript": "\n            setTimeout(function() {\n                var nbb_cell_id = 474;\n                var nbb_unformatted_code = \"from sklearn.preprocessing import MinMaxScaler\";\n                var nbb_formatted_code = \"from sklearn.preprocessing import MinMaxScaler\";\n                var nbb_cells = Jupyter.notebook.get_cells();\n                for (var i = 0; i < nbb_cells.length; ++i) {\n                    if (nbb_cells[i].input_prompt_number == nbb_cell_id) {\n                        if (nbb_cells[i].get_text() == nbb_unformatted_code) {\n                             nbb_cells[i].set_text(nbb_formatted_code);\n                        }\n                        break;\n                    }\n                }\n            }, 500);\n            ",
      "text/plain": [
       "<IPython.core.display.Javascript object>"
      ]
     },
     "metadata": {},
     "output_type": "display_data"
    }
   ],
   "source": [
    "from sklearn.preprocessing import MinMaxScaler"
   ]
  },
  {
   "cell_type": "code",
   "execution_count": 475,
   "metadata": {},
   "outputs": [
    {
     "data": {
      "application/javascript": "\n            setTimeout(function() {\n                var nbb_cell_id = 475;\n                var nbb_unformatted_code = \"scaler = MinMaxScaler(feature_range=(0, 1)).fit(X)\\nX_scaled = scaler.transform(X)\";\n                var nbb_formatted_code = \"scaler = MinMaxScaler(feature_range=(0, 1)).fit(X)\\nX_scaled = scaler.transform(X)\";\n                var nbb_cells = Jupyter.notebook.get_cells();\n                for (var i = 0; i < nbb_cells.length; ++i) {\n                    if (nbb_cells[i].input_prompt_number == nbb_cell_id) {\n                        if (nbb_cells[i].get_text() == nbb_unformatted_code) {\n                             nbb_cells[i].set_text(nbb_formatted_code);\n                        }\n                        break;\n                    }\n                }\n            }, 500);\n            ",
      "text/plain": [
       "<IPython.core.display.Javascript object>"
      ]
     },
     "metadata": {},
     "output_type": "display_data"
    }
   ],
   "source": [
    "scaler = MinMaxScaler(feature_range=(0, 1)).fit(X)\n",
    "X_scaled = scaler.transform(X)"
   ]
  },
  {
   "cell_type": "code",
   "execution_count": 476,
   "metadata": {},
   "outputs": [
    {
     "data": {
      "text/plain": [
       "0.0038172765493509966"
      ]
     },
     "execution_count": 476,
     "metadata": {},
     "output_type": "execute_result"
    },
    {
     "data": {
      "application/javascript": "\n            setTimeout(function() {\n                var nbb_cell_id = 476;\n                var nbb_unformatted_code = \"X_scaled[:5][0][0]\";\n                var nbb_formatted_code = \"X_scaled[:5][0][0]\";\n                var nbb_cells = Jupyter.notebook.get_cells();\n                for (var i = 0; i < nbb_cells.length; ++i) {\n                    if (nbb_cells[i].input_prompt_number == nbb_cell_id) {\n                        if (nbb_cells[i].get_text() == nbb_unformatted_code) {\n                             nbb_cells[i].set_text(nbb_formatted_code);\n                        }\n                        break;\n                    }\n                }\n            }, 500);\n            ",
      "text/plain": [
       "<IPython.core.display.Javascript object>"
      ]
     },
     "metadata": {},
     "output_type": "display_data"
    }
   ],
   "source": [
    "X_scaled[:5][0][0]"
   ]
  },
  {
   "cell_type": "code",
   "execution_count": 477,
   "metadata": {},
   "outputs": [
    {
     "data": {
      "application/javascript": "\n            setTimeout(function() {\n                var nbb_cell_id = 477;\n                var nbb_unformatted_code = \"y = [x[0] for x in X_scaled]\";\n                var nbb_formatted_code = \"y = [x[0] for x in X_scaled]\";\n                var nbb_cells = Jupyter.notebook.get_cells();\n                for (var i = 0; i < nbb_cells.length; ++i) {\n                    if (nbb_cells[i].input_prompt_number == nbb_cell_id) {\n                        if (nbb_cells[i].get_text() == nbb_unformatted_code) {\n                             nbb_cells[i].set_text(nbb_formatted_code);\n                        }\n                        break;\n                    }\n                }\n            }, 500);\n            ",
      "text/plain": [
       "<IPython.core.display.Javascript object>"
      ]
     },
     "metadata": {},
     "output_type": "display_data"
    }
   ],
   "source": [
    "y = [x[0] for x in X_scaled]"
   ]
  },
  {
   "cell_type": "code",
   "execution_count": 478,
   "metadata": {},
   "outputs": [
    {
     "data": {
      "text/plain": [
       "[0.0038172765493509966,\n",
       " 0.0038815931396484968,\n",
       " 0.003288837537035634,\n",
       " 0.003221044374311137,\n",
       " 0.0034644044457362508]"
      ]
     },
     "execution_count": 478,
     "metadata": {},
     "output_type": "execute_result"
    },
    {
     "data": {
      "application/javascript": "\n            setTimeout(function() {\n                var nbb_cell_id = 478;\n                var nbb_unformatted_code = \"y[:5]\";\n                var nbb_formatted_code = \"y[:5]\";\n                var nbb_cells = Jupyter.notebook.get_cells();\n                for (var i = 0; i < nbb_cells.length; ++i) {\n                    if (nbb_cells[i].input_prompt_number == nbb_cell_id) {\n                        if (nbb_cells[i].get_text() == nbb_unformatted_code) {\n                             nbb_cells[i].set_text(nbb_formatted_code);\n                        }\n                        break;\n                    }\n                }\n            }, 500);\n            ",
      "text/plain": [
       "<IPython.core.display.Javascript object>"
      ]
     },
     "metadata": {},
     "output_type": "display_data"
    }
   ],
   "source": [
    "y[:5]"
   ]
  },
  {
   "cell_type": "markdown",
   "metadata": {},
   "source": [
    "#### Train test split"
   ]
  },
  {
   "cell_type": "code",
   "execution_count": 479,
   "metadata": {},
   "outputs": [
    {
     "name": "stdout",
     "output_type": "stream",
     "text": [
      "2757\n"
     ]
    },
    {
     "data": {
      "application/javascript": "\n            setTimeout(function() {\n                var nbb_cell_id = 479;\n                var nbb_unformatted_code = \"split = int(len(X_scaled) * 0.9)\\nprint(split)\";\n                var nbb_formatted_code = \"split = int(len(X_scaled) * 0.9)\\nprint(split)\";\n                var nbb_cells = Jupyter.notebook.get_cells();\n                for (var i = 0; i < nbb_cells.length; ++i) {\n                    if (nbb_cells[i].input_prompt_number == nbb_cell_id) {\n                        if (nbb_cells[i].get_text() == nbb_unformatted_code) {\n                             nbb_cells[i].set_text(nbb_formatted_code);\n                        }\n                        break;\n                    }\n                }\n            }, 500);\n            ",
      "text/plain": [
       "<IPython.core.display.Javascript object>"
      ]
     },
     "metadata": {},
     "output_type": "display_data"
    }
   ],
   "source": [
    "split = int(len(X_scaled) * 0.9)\n",
    "print(split)"
   ]
  },
  {
   "cell_type": "code",
   "execution_count": 480,
   "metadata": {},
   "outputs": [
    {
     "data": {
      "application/javascript": "\n            setTimeout(function() {\n                var nbb_cell_id = 480;\n                var nbb_unformatted_code = \"X_train = X_scaled[:split]\\nX_test = X_scaled[split : len(X_scaled)]\\ny_train = y[:split]\\ny_test = y[split : len(y)]\";\n                var nbb_formatted_code = \"X_train = X_scaled[:split]\\nX_test = X_scaled[split : len(X_scaled)]\\ny_train = y[:split]\\ny_test = y[split : len(y)]\";\n                var nbb_cells = Jupyter.notebook.get_cells();\n                for (var i = 0; i < nbb_cells.length; ++i) {\n                    if (nbb_cells[i].input_prompt_number == nbb_cell_id) {\n                        if (nbb_cells[i].get_text() == nbb_unformatted_code) {\n                             nbb_cells[i].set_text(nbb_formatted_code);\n                        }\n                        break;\n                    }\n                }\n            }, 500);\n            ",
      "text/plain": [
       "<IPython.core.display.Javascript object>"
      ]
     },
     "metadata": {},
     "output_type": "display_data"
    }
   ],
   "source": [
    "X_train = X_scaled[:split]\n",
    "X_test = X_scaled[split : len(X_scaled)]\n",
    "y_train = y[:split]\n",
    "y_test = y[split : len(y)]"
   ]
  },
  {
   "cell_type": "code",
   "execution_count": 481,
   "metadata": {},
   "outputs": [
    {
     "name": "stdout",
     "output_type": "stream",
     "text": [
      "2757\n",
      "307\n"
     ]
    },
    {
     "data": {
      "application/javascript": "\n            setTimeout(function() {\n                var nbb_cell_id = 481;\n                var nbb_unformatted_code = \"print(len(X_train))\\nprint(len(X_test))\";\n                var nbb_formatted_code = \"print(len(X_train))\\nprint(len(X_test))\";\n                var nbb_cells = Jupyter.notebook.get_cells();\n                for (var i = 0; i < nbb_cells.length; ++i) {\n                    if (nbb_cells[i].input_prompt_number == nbb_cell_id) {\n                        if (nbb_cells[i].get_text() == nbb_unformatted_code) {\n                             nbb_cells[i].set_text(nbb_formatted_code);\n                        }\n                        break;\n                    }\n                }\n            }, 500);\n            ",
      "text/plain": [
       "<IPython.core.display.Javascript object>"
      ]
     },
     "metadata": {},
     "output_type": "display_data"
    }
   ],
   "source": [
    "print(len(X_train))\n",
    "print(len(X_test))"
   ]
  },
  {
   "cell_type": "code",
   "execution_count": 482,
   "metadata": {},
   "outputs": [
    {
     "data": {
      "application/javascript": "\n            setTimeout(function() {\n                var nbb_cell_id = 482;\n                var nbb_unformatted_code = \"assert len(X_train) == len(y_train)\\nassert len(X_test) == len(y_test)\";\n                var nbb_formatted_code = \"assert len(X_train) == len(y_train)\\nassert len(X_test) == len(y_test)\";\n                var nbb_cells = Jupyter.notebook.get_cells();\n                for (var i = 0; i < nbb_cells.length; ++i) {\n                    if (nbb_cells[i].input_prompt_number == nbb_cell_id) {\n                        if (nbb_cells[i].get_text() == nbb_unformatted_code) {\n                             nbb_cells[i].set_text(nbb_formatted_code);\n                        }\n                        break;\n                    }\n                }\n            }, 500);\n            ",
      "text/plain": [
       "<IPython.core.display.Javascript object>"
      ]
     },
     "metadata": {},
     "output_type": "display_data"
    }
   ],
   "source": [
    "assert len(X_train) == len(y_train)\n",
    "assert len(X_test) == len(y_test)"
   ]
  },
  {
   "cell_type": "markdown",
   "metadata": {},
   "source": [
    "#### Labeling\n",
    "\n",
    "We want to predict the stock price at a future time. We'll predict the stock price at time t + 1 relative to the stock price at time t."
   ]
  },
  {
   "cell_type": "markdown",
   "metadata": {},
   "source": [
    "As we're going to use an LSTM architecture, we know that it has memory and that it is maintained by setting the time step, basically how many steps in the past we want the LSTM to use.\n",
    "\n",
    "The time step  refers to how many steps in time we want the backpropagation algorithm to use when calculating gradients for weight updates during training.\n",
    "\n",
    "So we can use a method to create both the timestep and the output variable, the t + 1."
   ]
  },
  {
   "cell_type": "code",
   "execution_count": 483,
   "metadata": {},
   "outputs": [
    {
     "data": {
      "application/javascript": "\n            setTimeout(function() {\n                var nbb_cell_id = 483;\n                var nbb_unformatted_code = \"n = 63\\nXtrain = []\\nytrain = []\\nXtest = []\\nytest = []\\nfor i in range(n, len(X_train)):\\n    Xtrain.append(X_train[i - n : i, : X_train.shape[1]])\\n    ytrain.append(y_train[i])  # predict next record\\nfor i in range(n, len(X_test)):\\n    Xtest.append(X_test[i - n : i, : X_test.shape[1]])\\n    ytest.append(y_test[i])  # predict next record\";\n                var nbb_formatted_code = \"n = 63\\nXtrain = []\\nytrain = []\\nXtest = []\\nytest = []\\nfor i in range(n, len(X_train)):\\n    Xtrain.append(X_train[i - n : i, : X_train.shape[1]])\\n    ytrain.append(y_train[i])  # predict next record\\nfor i in range(n, len(X_test)):\\n    Xtest.append(X_test[i - n : i, : X_test.shape[1]])\\n    ytest.append(y_test[i])  # predict next record\";\n                var nbb_cells = Jupyter.notebook.get_cells();\n                for (var i = 0; i < nbb_cells.length; ++i) {\n                    if (nbb_cells[i].input_prompt_number == nbb_cell_id) {\n                        if (nbb_cells[i].get_text() == nbb_unformatted_code) {\n                             nbb_cells[i].set_text(nbb_formatted_code);\n                        }\n                        break;\n                    }\n                }\n            }, 500);\n            ",
      "text/plain": [
       "<IPython.core.display.Javascript object>"
      ]
     },
     "metadata": {},
     "output_type": "display_data"
    }
   ],
   "source": [
    "n = 63\n",
    "Xtrain = []\n",
    "ytrain = []\n",
    "Xtest = []\n",
    "ytest = []\n",
    "for i in range(n, len(X_train)):\n",
    "    Xtrain.append(X_train[i - n : i, : X_train.shape[1]])\n",
    "    ytrain.append(y_train[i])  # predict next record\n",
    "for i in range(n, len(X_test)):\n",
    "    Xtest.append(X_test[i - n : i, : X_test.shape[1]])\n",
    "    ytest.append(y_test[i])  # predict next record"
   ]
  },
  {
   "cell_type": "code",
   "execution_count": 484,
   "metadata": {},
   "outputs": [
    {
     "data": {
      "text/html": [
       "<div>\n",
       "<style scoped>\n",
       "    .dataframe tbody tr th:only-of-type {\n",
       "        vertical-align: middle;\n",
       "    }\n",
       "\n",
       "    .dataframe tbody tr th {\n",
       "        vertical-align: top;\n",
       "    }\n",
       "\n",
       "    .dataframe thead th {\n",
       "        text-align: right;\n",
       "    }\n",
       "</style>\n",
       "<table border=\"1\" class=\"dataframe\">\n",
       "  <thead>\n",
       "    <tr style=\"text-align: right;\">\n",
       "      <th></th>\n",
       "      <th>5. adjusted close</th>\n",
       "      <th>returns</th>\n",
       "      <th>log_returns</th>\n",
       "    </tr>\n",
       "    <tr>\n",
       "      <th>date</th>\n",
       "      <th></th>\n",
       "      <th></th>\n",
       "      <th></th>\n",
       "    </tr>\n",
       "  </thead>\n",
       "  <tbody>\n",
       "    <tr>\n",
       "      <th>2010-01-04</th>\n",
       "      <td>6.543876</td>\n",
       "      <td>NaN</td>\n",
       "      <td>NaN</td>\n",
       "    </tr>\n",
       "    <tr>\n",
       "      <th>2010-01-05</th>\n",
       "      <td>6.555190</td>\n",
       "      <td>0.001729</td>\n",
       "      <td>0.001727</td>\n",
       "    </tr>\n",
       "    <tr>\n",
       "      <th>2010-01-06</th>\n",
       "      <td>6.450921</td>\n",
       "      <td>-0.015906</td>\n",
       "      <td>-0.016034</td>\n",
       "    </tr>\n",
       "    <tr>\n",
       "      <th>2010-01-07</th>\n",
       "      <td>6.438996</td>\n",
       "      <td>-0.001849</td>\n",
       "      <td>-0.001850</td>\n",
       "    </tr>\n",
       "    <tr>\n",
       "      <th>2010-01-08</th>\n",
       "      <td>6.481804</td>\n",
       "      <td>0.006648</td>\n",
       "      <td>0.006626</td>\n",
       "    </tr>\n",
       "  </tbody>\n",
       "</table>\n",
       "</div>"
      ],
      "text/plain": [
       "            5. adjusted close   returns  log_returns\n",
       "date                                                \n",
       "2010-01-04           6.543876       NaN          NaN\n",
       "2010-01-05           6.555190  0.001729     0.001727\n",
       "2010-01-06           6.450921 -0.015906    -0.016034\n",
       "2010-01-07           6.438996 -0.001849    -0.001850\n",
       "2010-01-08           6.481804  0.006648     0.006626"
      ]
     },
     "execution_count": 484,
     "metadata": {},
     "output_type": "execute_result"
    },
    {
     "data": {
      "application/javascript": "\n            setTimeout(function() {\n                var nbb_cell_id = 484;\n                var nbb_unformatted_code = \"df.head(5)\";\n                var nbb_formatted_code = \"df.head(5)\";\n                var nbb_cells = Jupyter.notebook.get_cells();\n                for (var i = 0; i < nbb_cells.length; ++i) {\n                    if (nbb_cells[i].input_prompt_number == nbb_cell_id) {\n                        if (nbb_cells[i].get_text() == nbb_unformatted_code) {\n                             nbb_cells[i].set_text(nbb_formatted_code);\n                        }\n                        break;\n                    }\n                }\n            }, 500);\n            ",
      "text/plain": [
       "<IPython.core.display.Javascript object>"
      ]
     },
     "metadata": {},
     "output_type": "display_data"
    }
   ],
   "source": [
    "df.head(5)"
   ]
  },
  {
   "cell_type": "code",
   "execution_count": 485,
   "metadata": {},
   "outputs": [
    {
     "data": {
      "application/javascript": "\n            setTimeout(function() {\n                var nbb_cell_id = 485;\n                var nbb_unformatted_code = \"val = np.array(ytrain[0])\\nval = np.c_[val, np.zeros(val.shape)]\";\n                var nbb_formatted_code = \"val = np.array(ytrain[0])\\nval = np.c_[val, np.zeros(val.shape)]\";\n                var nbb_cells = Jupyter.notebook.get_cells();\n                for (var i = 0; i < nbb_cells.length; ++i) {\n                    if (nbb_cells[i].input_prompt_number == nbb_cell_id) {\n                        if (nbb_cells[i].get_text() == nbb_unformatted_code) {\n                             nbb_cells[i].set_text(nbb_formatted_code);\n                        }\n                        break;\n                    }\n                }\n            }, 500);\n            ",
      "text/plain": [
       "<IPython.core.display.Javascript object>"
      ]
     },
     "metadata": {},
     "output_type": "display_data"
    }
   ],
   "source": [
    "val = np.array(ytrain[0])\n",
    "val = np.c_[val, np.zeros(val.shape)]"
   ]
  },
  {
   "cell_type": "code",
   "execution_count": 486,
   "metadata": {},
   "outputs": [
    {
     "data": {
      "text/plain": [
       "array([[7.32451811, 5.87239585]])"
      ]
     },
     "execution_count": 486,
     "metadata": {},
     "output_type": "execute_result"
    },
    {
     "data": {
      "application/javascript": "\n            setTimeout(function() {\n                var nbb_cell_id = 486;\n                var nbb_unformatted_code = \"scaler.inverse_transform(val)\";\n                var nbb_formatted_code = \"scaler.inverse_transform(val)\";\n                var nbb_cells = Jupyter.notebook.get_cells();\n                for (var i = 0; i < nbb_cells.length; ++i) {\n                    if (nbb_cells[i].input_prompt_number == nbb_cell_id) {\n                        if (nbb_cells[i].get_text() == nbb_unformatted_code) {\n                             nbb_cells[i].set_text(nbb_formatted_code);\n                        }\n                        break;\n                    }\n                }\n            }, 500);\n            ",
      "text/plain": [
       "<IPython.core.display.Javascript object>"
      ]
     },
     "metadata": {},
     "output_type": "display_data"
    }
   ],
   "source": [
    "scaler.inverse_transform(val)"
   ]
  },
  {
   "cell_type": "markdown",
   "metadata": {},
   "source": [
    "In an LSTM network the input for each LSTM layer needs to contain the following information:\n",
    "- The number of observations\n",
    "- The time steps\n",
    "- The features\n",
    "\n",
    "Therefore we need to add a temporal dimension compared to a classical network:\n",
    "\n",
    "(number of observations, number of steps, number of features per step)"
   ]
  },
  {
   "cell_type": "code",
   "execution_count": 487,
   "metadata": {},
   "outputs": [
    {
     "data": {
      "application/javascript": "\n            setTimeout(function() {\n                var nbb_cell_id = 487;\n                var nbb_unformatted_code = \"Xtrain, ytrain = (np.array(Xtrain), np.array(ytrain))\\nXtrain = np.reshape(Xtrain, (Xtrain.shape[0], Xtrain.shape[1], Xtrain.shape[2]))\\n\\nXtest, ytest = (np.array(Xtest), np.array(ytest))\\nXtest = np.reshape(Xtest, (Xtest.shape[0], Xtest.shape[1], Xtest.shape[2]))\";\n                var nbb_formatted_code = \"Xtrain, ytrain = (np.array(Xtrain), np.array(ytrain))\\nXtrain = np.reshape(Xtrain, (Xtrain.shape[0], Xtrain.shape[1], Xtrain.shape[2]))\\n\\nXtest, ytest = (np.array(Xtest), np.array(ytest))\\nXtest = np.reshape(Xtest, (Xtest.shape[0], Xtest.shape[1], Xtest.shape[2]))\";\n                var nbb_cells = Jupyter.notebook.get_cells();\n                for (var i = 0; i < nbb_cells.length; ++i) {\n                    if (nbb_cells[i].input_prompt_number == nbb_cell_id) {\n                        if (nbb_cells[i].get_text() == nbb_unformatted_code) {\n                             nbb_cells[i].set_text(nbb_formatted_code);\n                        }\n                        break;\n                    }\n                }\n            }, 500);\n            ",
      "text/plain": [
       "<IPython.core.display.Javascript object>"
      ]
     },
     "metadata": {},
     "output_type": "display_data"
    }
   ],
   "source": [
    "Xtrain, ytrain = (np.array(Xtrain), np.array(ytrain))\n",
    "Xtrain = np.reshape(Xtrain, (Xtrain.shape[0], Xtrain.shape[1], Xtrain.shape[2]))\n",
    "\n",
    "Xtest, ytest = (np.array(Xtest), np.array(ytest))\n",
    "Xtest = np.reshape(Xtest, (Xtest.shape[0], Xtest.shape[1], Xtest.shape[2]))"
   ]
  },
  {
   "cell_type": "code",
   "execution_count": 488,
   "metadata": {
    "scrolled": true
   },
   "outputs": [
    {
     "name": "stdout",
     "output_type": "stream",
     "text": [
      "(2694, 63, 1)\n",
      "(2694,)\n",
      "---\n",
      "(244, 63, 1)\n",
      "(244,)\n"
     ]
    },
    {
     "data": {
      "application/javascript": "\n            setTimeout(function() {\n                var nbb_cell_id = 488;\n                var nbb_unformatted_code = \"print(Xtrain.shape)\\nprint(ytrain.shape)\\nprint(\\\"---\\\")\\nprint(Xtest.shape)\\nprint(ytest.shape)\";\n                var nbb_formatted_code = \"print(Xtrain.shape)\\nprint(ytrain.shape)\\nprint(\\\"---\\\")\\nprint(Xtest.shape)\\nprint(ytest.shape)\";\n                var nbb_cells = Jupyter.notebook.get_cells();\n                for (var i = 0; i < nbb_cells.length; ++i) {\n                    if (nbb_cells[i].input_prompt_number == nbb_cell_id) {\n                        if (nbb_cells[i].get_text() == nbb_unformatted_code) {\n                             nbb_cells[i].set_text(nbb_formatted_code);\n                        }\n                        break;\n                    }\n                }\n            }, 500);\n            ",
      "text/plain": [
       "<IPython.core.display.Javascript object>"
      ]
     },
     "metadata": {},
     "output_type": "display_data"
    }
   ],
   "source": [
    "print(Xtrain.shape)\n",
    "print(ytrain.shape)\n",
    "print(\"---\")\n",
    "print(Xtest.shape)\n",
    "print(ytest.shape)"
   ]
  },
  {
   "cell_type": "markdown",
   "metadata": {},
   "source": [
    "#### LSTM Model"
   ]
  },
  {
   "cell_type": "code",
   "execution_count": 489,
   "metadata": {},
   "outputs": [
    {
     "data": {
      "application/javascript": "\n            setTimeout(function() {\n                var nbb_cell_id = 489;\n                var nbb_unformatted_code = \"from keras.models import Sequential\\nfrom keras.layers import LSTM, Dense\";\n                var nbb_formatted_code = \"from keras.models import Sequential\\nfrom keras.layers import LSTM, Dense\";\n                var nbb_cells = Jupyter.notebook.get_cells();\n                for (var i = 0; i < nbb_cells.length; ++i) {\n                    if (nbb_cells[i].input_prompt_number == nbb_cell_id) {\n                        if (nbb_cells[i].get_text() == nbb_unformatted_code) {\n                             nbb_cells[i].set_text(nbb_formatted_code);\n                        }\n                        break;\n                    }\n                }\n            }, 500);\n            ",
      "text/plain": [
       "<IPython.core.display.Javascript object>"
      ]
     },
     "metadata": {},
     "output_type": "display_data"
    }
   ],
   "source": [
    "from keras.models import Sequential\n",
    "from keras.layers import LSTM, Dense"
   ]
  },
  {
   "cell_type": "code",
   "execution_count": 490,
   "metadata": {},
   "outputs": [
    {
     "data": {
      "application/javascript": "\n            setTimeout(function() {\n                var nbb_cell_id = 490;\n                var nbb_unformatted_code = \"results_path = Path('results', 'lstm')\\nif not results_path.exists():\\n    results_path.mkdir(parents=True)\";\n                var nbb_formatted_code = \"results_path = Path(\\\"results\\\", \\\"lstm\\\")\\nif not results_path.exists():\\n    results_path.mkdir(parents=True)\";\n                var nbb_cells = Jupyter.notebook.get_cells();\n                for (var i = 0; i < nbb_cells.length; ++i) {\n                    if (nbb_cells[i].input_prompt_number == nbb_cell_id) {\n                        if (nbb_cells[i].get_text() == nbb_unformatted_code) {\n                             nbb_cells[i].set_text(nbb_formatted_code);\n                        }\n                        break;\n                    }\n                }\n            }, 500);\n            ",
      "text/plain": [
       "<IPython.core.display.Javascript object>"
      ]
     },
     "metadata": {},
     "output_type": "display_data"
    }
   ],
   "source": [
    "results_path = Path('results', 'lstm')\n",
    "if not results_path.exists():\n",
    "    results_path.mkdir(parents=True)"
   ]
  },
  {
   "cell_type": "code",
   "execution_count": 491,
   "metadata": {},
   "outputs": [
    {
     "data": {
      "application/javascript": "\n            setTimeout(function() {\n                var nbb_cell_id = 491;\n                var nbb_unformatted_code = \"# MAX_EPOCHS = 500\\nMAX_EPOCHS = 100\\n# patience=50\\npatience=30\\n\\nlstm_path = (results_path / 'lstm.h5').as_posix()\\ncheckpointer = tf.keras.callbacks.ModelCheckpoint(filepath=lstm_path,\\n                               verbose=1,\\n                               monitor='val_loss',\\n                               save_best_only=True)\\n\\nlr_schedule = tf.keras.optimizers.schedules.ExponentialDecay(\\n    initial_learning_rate=1e-3,\\n    decay_steps=10000,\\n    decay_rate=0.9)\\n\\noptimizer = tf.keras.optimizers.RMSprop(learning_rate=0.001,\\n                                     # learning_rate=lr_schedule,\\n                                     rho=0.9,\\n                                     epsilon=1e-08,\\n                                     decay=0.0)\\n\\ndef compile_and_fit(model, patience=patience):\\n  early_stopping = tf.keras.callbacks.EarlyStopping(monitor='val_loss',\\n                                                    patience=patience,\\n                                                    mode='min',  \\n                                                    restore_best_weights=True)\\n\\n  model.compile(loss=tf.losses.MeanSquaredError(),\\n                optimizer=optimizer,\\n                metrics=[tf.losses.MeanAbsoluteError()])\\n\\n  history = model.fit(Xtrain, ytrain, epochs=MAX_EPOCHS,\\n                      validation_data=(Xtest, ytest),\\n                      callbacks=[early_stopping, checkpointer],\\n                      batch_size=32,\\n                      verbose=1)\\n  return history\";\n                var nbb_formatted_code = \"# MAX_EPOCHS = 500\\nMAX_EPOCHS = 100\\n# patience=50\\npatience = 30\\n\\nlstm_path = (results_path / \\\"lstm.h5\\\").as_posix()\\ncheckpointer = tf.keras.callbacks.ModelCheckpoint(\\n    filepath=lstm_path, verbose=1, monitor=\\\"val_loss\\\", save_best_only=True\\n)\\n\\nlr_schedule = tf.keras.optimizers.schedules.ExponentialDecay(\\n    initial_learning_rate=1e-3, decay_steps=10000, decay_rate=0.9\\n)\\n\\noptimizer = tf.keras.optimizers.RMSprop(\\n    learning_rate=0.001,\\n    # learning_rate=lr_schedule,\\n    rho=0.9,\\n    epsilon=1e-08,\\n    decay=0.0,\\n)\\n\\n\\ndef compile_and_fit(model, patience=patience):\\n    early_stopping = tf.keras.callbacks.EarlyStopping(\\n        monitor=\\\"val_loss\\\", patience=patience, mode=\\\"min\\\", restore_best_weights=True\\n    )\\n\\n    model.compile(\\n        loss=tf.losses.MeanSquaredError(),\\n        optimizer=optimizer,\\n        metrics=[tf.losses.MeanAbsoluteError()],\\n    )\\n\\n    history = model.fit(\\n        Xtrain,\\n        ytrain,\\n        epochs=MAX_EPOCHS,\\n        validation_data=(Xtest, ytest),\\n        callbacks=[early_stopping, checkpointer],\\n        batch_size=32,\\n        verbose=1,\\n    )\\n    return history\";\n                var nbb_cells = Jupyter.notebook.get_cells();\n                for (var i = 0; i < nbb_cells.length; ++i) {\n                    if (nbb_cells[i].input_prompt_number == nbb_cell_id) {\n                        if (nbb_cells[i].get_text() == nbb_unformatted_code) {\n                             nbb_cells[i].set_text(nbb_formatted_code);\n                        }\n                        break;\n                    }\n                }\n            }, 500);\n            ",
      "text/plain": [
       "<IPython.core.display.Javascript object>"
      ]
     },
     "metadata": {},
     "output_type": "display_data"
    }
   ],
   "source": [
    "# MAX_EPOCHS = 500\n",
    "MAX_EPOCHS = 100\n",
    "# patience=50\n",
    "patience=30\n",
    "\n",
    "lstm_path = (results_path / 'lstm.h5').as_posix()\n",
    "checkpointer = tf.keras.callbacks.ModelCheckpoint(filepath=lstm_path,\n",
    "                               verbose=1,\n",
    "                               monitor='val_loss',\n",
    "                               save_best_only=True)\n",
    "\n",
    "lr_schedule = tf.keras.optimizers.schedules.ExponentialDecay(\n",
    "    initial_learning_rate=1e-3,\n",
    "    decay_steps=10000,\n",
    "    decay_rate=0.9)\n",
    "\n",
    "optimizer = tf.keras.optimizers.RMSprop(learning_rate=0.001,\n",
    "                                     # learning_rate=lr_schedule,\n",
    "                                     rho=0.9,\n",
    "                                     epsilon=1e-08,\n",
    "                                     decay=0.0)\n",
    "\n",
    "def compile_and_fit(model, patience=patience):\n",
    "  early_stopping = tf.keras.callbacks.EarlyStopping(monitor='val_loss',\n",
    "                                                    patience=patience,\n",
    "                                                    mode='min',  \n",
    "                                                    restore_best_weights=True)\n",
    "\n",
    "  model.compile(loss=tf.losses.MeanSquaredError(),\n",
    "                optimizer=optimizer,\n",
    "                metrics=[tf.losses.MeanAbsoluteError()])\n",
    "\n",
    "  history = model.fit(Xtrain, ytrain, epochs=MAX_EPOCHS,\n",
    "                      validation_data=(Xtest, ytest),\n",
    "                      callbacks=[early_stopping, checkpointer],\n",
    "                      batch_size=32,\n",
    "                      verbose=1)\n",
    "  return history\n"
   ]
  },
  {
   "cell_type": "code",
   "execution_count": 492,
   "metadata": {},
   "outputs": [
    {
     "data": {
      "application/javascript": "\n            setTimeout(function() {\n                var nbb_cell_id = 492;\n                var nbb_unformatted_code = \"from keras.layers import Dropout\";\n                var nbb_formatted_code = \"from keras.layers import Dropout\";\n                var nbb_cells = Jupyter.notebook.get_cells();\n                for (var i = 0; i < nbb_cells.length; ++i) {\n                    if (nbb_cells[i].input_prompt_number == nbb_cell_id) {\n                        if (nbb_cells[i].get_text() == nbb_unformatted_code) {\n                             nbb_cells[i].set_text(nbb_formatted_code);\n                        }\n                        break;\n                    }\n                }\n            }, 500);\n            ",
      "text/plain": [
       "<IPython.core.display.Javascript object>"
      ]
     },
     "metadata": {},
     "output_type": "display_data"
    }
   ],
   "source": [
    "from keras.layers import Dropout"
   ]
  },
  {
   "cell_type": "code",
   "execution_count": 493,
   "metadata": {
    "scrolled": true
   },
   "outputs": [
    {
     "data": {
      "application/javascript": "\n            setTimeout(function() {\n                var nbb_cell_id = 493;\n                var nbb_unformatted_code = \"model = Sequential([\\n    LSTM(units=64, \\n         input_shape=(Xtrain.shape[1], Xtrain.shape[2]), name='LSTM'),\\n    Dense(1, name='Output')\\n])\";\n                var nbb_formatted_code = \"model = Sequential(\\n    [\\n        LSTM(units=64, input_shape=(Xtrain.shape[1], Xtrain.shape[2]), name=\\\"LSTM\\\"),\\n        Dense(1, name=\\\"Output\\\"),\\n    ]\\n)\";\n                var nbb_cells = Jupyter.notebook.get_cells();\n                for (var i = 0; i < nbb_cells.length; ++i) {\n                    if (nbb_cells[i].input_prompt_number == nbb_cell_id) {\n                        if (nbb_cells[i].get_text() == nbb_unformatted_code) {\n                             nbb_cells[i].set_text(nbb_formatted_code);\n                        }\n                        break;\n                    }\n                }\n            }, 500);\n            ",
      "text/plain": [
       "<IPython.core.display.Javascript object>"
      ]
     },
     "metadata": {},
     "output_type": "display_data"
    }
   ],
   "source": [
    "model = Sequential([\n",
    "    LSTM(units=64, \n",
    "         input_shape=(Xtrain.shape[1], Xtrain.shape[2]), name='LSTM'),\n",
    "    Dense(1, name='Output')\n",
    "])"
   ]
  },
  {
   "cell_type": "code",
   "execution_count": 494,
   "metadata": {},
   "outputs": [
    {
     "name": "stdout",
     "output_type": "stream",
     "text": [
      "Epoch 1/100\n",
      "85/85 [==============================] - ETA: 0s - loss: 0.0012 - mean_absolute_error: 0.0187\n",
      "Epoch 1: val_loss improved from inf to 0.00836, saving model to results/lstm/lstm.h5\n",
      "85/85 [==============================] - 4s 25ms/step - loss: 0.0012 - mean_absolute_error: 0.0187 - val_loss: 0.0084 - val_mean_absolute_error: 0.0875\n",
      "Epoch 2/100\n",
      "83/85 [============================>.] - ETA: 0s - loss: 2.6965e-04 - mean_absolute_error: 0.0105\n",
      "Epoch 2: val_loss improved from 0.00836 to 0.00075, saving model to results/lstm/lstm.h5\n",
      "85/85 [==============================] - 2s 20ms/step - loss: 2.7258e-04 - mean_absolute_error: 0.0107 - val_loss: 7.5259e-04 - val_mean_absolute_error: 0.0212\n",
      "Epoch 3/100\n",
      "85/85 [==============================] - ETA: 0s - loss: 1.8889e-04 - mean_absolute_error: 0.0096\n",
      "Epoch 3: val_loss improved from 0.00075 to 0.00055, saving model to results/lstm/lstm.h5\n",
      "85/85 [==============================] - 2s 22ms/step - loss: 1.8889e-04 - mean_absolute_error: 0.0096 - val_loss: 5.4964e-04 - val_mean_absolute_error: 0.0190\n",
      "Epoch 4/100\n",
      "84/85 [============================>.] - ETA: 0s - loss: 1.5069e-04 - mean_absolute_error: 0.0084\n",
      "Epoch 4: val_loss did not improve from 0.00055\n",
      "85/85 [==============================] - 2s 24ms/step - loss: 1.5047e-04 - mean_absolute_error: 0.0084 - val_loss: 0.0013 - val_mean_absolute_error: 0.0301\n",
      "Epoch 5/100\n",
      "85/85 [==============================] - ETA: 0s - loss: 1.2477e-04 - mean_absolute_error: 0.0079\n",
      "Epoch 5: val_loss did not improve from 0.00055\n",
      "85/85 [==============================] - 2s 19ms/step - loss: 1.2477e-04 - mean_absolute_error: 0.0079 - val_loss: 0.0097 - val_mean_absolute_error: 0.0970\n",
      "Epoch 6/100\n",
      "84/85 [============================>.] - ETA: 0s - loss: 1.2417e-04 - mean_absolute_error: 0.0077\n",
      "Epoch 6: val_loss improved from 0.00055 to 0.00034, saving model to results/lstm/lstm.h5\n",
      "85/85 [==============================] - 2s 21ms/step - loss: 1.2391e-04 - mean_absolute_error: 0.0076 - val_loss: 3.3923e-04 - val_mean_absolute_error: 0.0138\n",
      "Epoch 7/100\n",
      "83/85 [============================>.] - ETA: 0s - loss: 1.1563e-04 - mean_absolute_error: 0.0075\n",
      "Epoch 7: val_loss improved from 0.00034 to 0.00032, saving model to results/lstm/lstm.h5\n",
      "85/85 [==============================] - 2s 18ms/step - loss: 1.1513e-04 - mean_absolute_error: 0.0074 - val_loss: 3.2452e-04 - val_mean_absolute_error: 0.0139\n",
      "Epoch 8/100\n",
      "83/85 [============================>.] - ETA: 0s - loss: 1.1225e-04 - mean_absolute_error: 0.0066\n",
      "Epoch 8: val_loss did not improve from 0.00032\n",
      "85/85 [==============================] - 1s 17ms/step - loss: 1.1122e-04 - mean_absolute_error: 0.0066 - val_loss: 0.0021 - val_mean_absolute_error: 0.0431\n",
      "Epoch 9/100\n",
      "83/85 [============================>.] - ETA: 0s - loss: 9.9650e-05 - mean_absolute_error: 0.0068\n",
      "Epoch 9: val_loss improved from 0.00032 to 0.00029, saving model to results/lstm/lstm.h5\n",
      "85/85 [==============================] - 2s 21ms/step - loss: 9.9916e-05 - mean_absolute_error: 0.0067 - val_loss: 2.9397e-04 - val_mean_absolute_error: 0.0134\n",
      "Epoch 10/100\n",
      "83/85 [============================>.] - ETA: 0s - loss: 9.4741e-05 - mean_absolute_error: 0.0067\n",
      "Epoch 10: val_loss improved from 0.00029 to 0.00029, saving model to results/lstm/lstm.h5\n",
      "85/85 [==============================] - 2s 19ms/step - loss: 9.3881e-05 - mean_absolute_error: 0.0066 - val_loss: 2.9173e-04 - val_mean_absolute_error: 0.0133\n",
      "Epoch 11/100\n",
      "82/85 [===========================>..] - ETA: 0s - loss: 8.7079e-05 - mean_absolute_error: 0.0062\n",
      "Epoch 11: val_loss did not improve from 0.00029\n",
      "85/85 [==============================] - 2s 19ms/step - loss: 8.6532e-05 - mean_absolute_error: 0.0063 - val_loss: 0.0023 - val_mean_absolute_error: 0.0453\n",
      "Epoch 12/100\n",
      "84/85 [============================>.] - ETA: 0s - loss: 8.7747e-05 - mean_absolute_error: 0.0064\n",
      "Epoch 12: val_loss did not improve from 0.00029\n",
      "85/85 [==============================] - 2s 19ms/step - loss: 8.8179e-05 - mean_absolute_error: 0.0065 - val_loss: 0.0041 - val_mean_absolute_error: 0.0626\n",
      "Epoch 13/100\n",
      "85/85 [==============================] - ETA: 0s - loss: 8.5332e-05 - mean_absolute_error: 0.0062\n",
      "Epoch 13: val_loss did not improve from 0.00029\n",
      "85/85 [==============================] - 2s 19ms/step - loss: 8.5332e-05 - mean_absolute_error: 0.0062 - val_loss: 4.4599e-04 - val_mean_absolute_error: 0.0175\n",
      "Epoch 14/100\n",
      "85/85 [==============================] - ETA: 0s - loss: 7.9232e-05 - mean_absolute_error: 0.0062\n",
      "Epoch 14: val_loss did not improve from 0.00029\n",
      "85/85 [==============================] - 2s 19ms/step - loss: 7.9232e-05 - mean_absolute_error: 0.0062 - val_loss: 3.5630e-04 - val_mean_absolute_error: 0.0149\n",
      "Epoch 15/100\n",
      "83/85 [============================>.] - ETA: 0s - loss: 8.0678e-05 - mean_absolute_error: 0.0061\n",
      "Epoch 15: val_loss improved from 0.00029 to 0.00027, saving model to results/lstm/lstm.h5\n",
      "85/85 [==============================] - 2s 20ms/step - loss: 7.9734e-05 - mean_absolute_error: 0.0060 - val_loss: 2.7272e-04 - val_mean_absolute_error: 0.0129\n",
      "Epoch 16/100\n",
      "84/85 [============================>.] - ETA: 0s - loss: 7.6780e-05 - mean_absolute_error: 0.0058\n",
      "Epoch 16: val_loss improved from 0.00027 to 0.00021, saving model to results/lstm/lstm.h5\n",
      "85/85 [==============================] - 2s 24ms/step - loss: 7.6617e-05 - mean_absolute_error: 0.0058 - val_loss: 2.1318e-04 - val_mean_absolute_error: 0.0112\n",
      "Epoch 17/100\n",
      "85/85 [==============================] - ETA: 0s - loss: 6.9984e-05 - mean_absolute_error: 0.0059\n",
      "Epoch 17: val_loss did not improve from 0.00021\n",
      "85/85 [==============================] - 2s 19ms/step - loss: 6.9984e-05 - mean_absolute_error: 0.0059 - val_loss: 0.0017 - val_mean_absolute_error: 0.0393\n",
      "Epoch 18/100\n",
      "84/85 [============================>.] - ETA: 0s - loss: 6.8679e-05 - mean_absolute_error: 0.0056\n",
      "Epoch 18: val_loss did not improve from 0.00021\n",
      "85/85 [==============================] - 2s 20ms/step - loss: 6.8886e-05 - mean_absolute_error: 0.0056 - val_loss: 2.1907e-04 - val_mean_absolute_error: 0.0114\n",
      "Epoch 19/100\n",
      "84/85 [============================>.] - ETA: 0s - loss: 6.8827e-05 - mean_absolute_error: 0.0057\n",
      "Epoch 19: val_loss did not improve from 0.00021\n",
      "85/85 [==============================] - 1s 18ms/step - loss: 6.8725e-05 - mean_absolute_error: 0.0056 - val_loss: 5.4972e-04 - val_mean_absolute_error: 0.0198\n",
      "Epoch 20/100\n",
      "84/85 [============================>.] - ETA: 0s - loss: 6.6149e-05 - mean_absolute_error: 0.0055\n",
      "Epoch 20: val_loss did not improve from 0.00021\n",
      "85/85 [==============================] - 1s 17ms/step - loss: 6.6513e-05 - mean_absolute_error: 0.0056 - val_loss: 2.5622e-04 - val_mean_absolute_error: 0.0128\n",
      "Epoch 21/100\n",
      "84/85 [============================>.] - ETA: 0s - loss: 6.3817e-05 - mean_absolute_error: 0.0052\n",
      "Epoch 21: val_loss did not improve from 0.00021\n",
      "85/85 [==============================] - 2s 20ms/step - loss: 6.3706e-05 - mean_absolute_error: 0.0051 - val_loss: 6.9488e-04 - val_mean_absolute_error: 0.0229\n",
      "Epoch 22/100\n",
      "84/85 [============================>.] - ETA: 0s - loss: 5.8408e-05 - mean_absolute_error: 0.0050\n",
      "Epoch 22: val_loss did not improve from 0.00021\n",
      "85/85 [==============================] - 2s 19ms/step - loss: 5.8600e-05 - mean_absolute_error: 0.0050 - val_loss: 0.0011 - val_mean_absolute_error: 0.0303\n",
      "Epoch 23/100\n",
      "83/85 [============================>.] - ETA: 0s - loss: 6.1308e-05 - mean_absolute_error: 0.0053\n",
      "Epoch 23: val_loss improved from 0.00021 to 0.00020, saving model to results/lstm/lstm.h5\n",
      "85/85 [==============================] - 1s 17ms/step - loss: 6.0880e-05 - mean_absolute_error: 0.0053 - val_loss: 1.9948e-04 - val_mean_absolute_error: 0.0108\n",
      "Epoch 24/100\n",
      "83/85 [============================>.] - ETA: 0s - loss: 6.1246e-05 - mean_absolute_error: 0.0050\n",
      "Epoch 24: val_loss did not improve from 0.00020\n",
      "85/85 [==============================] - 2s 19ms/step - loss: 6.0798e-05 - mean_absolute_error: 0.0050 - val_loss: 2.7244e-04 - val_mean_absolute_error: 0.0134\n",
      "Epoch 25/100\n",
      "83/85 [============================>.] - ETA: 0s - loss: 6.1478e-05 - mean_absolute_error: 0.0051\n",
      "Epoch 25: val_loss did not improve from 0.00020\n",
      "85/85 [==============================] - 2s 19ms/step - loss: 6.0891e-05 - mean_absolute_error: 0.0050 - val_loss: 4.5432e-04 - val_mean_absolute_error: 0.0179\n",
      "Epoch 26/100\n",
      "83/85 [============================>.] - ETA: 0s - loss: 5.7292e-05 - mean_absolute_error: 0.0052\n",
      "Epoch 26: val_loss did not improve from 0.00020\n",
      "85/85 [==============================] - 1s 17ms/step - loss: 5.8784e-05 - mean_absolute_error: 0.0052 - val_loss: 5.0901e-04 - val_mean_absolute_error: 0.0192\n",
      "Epoch 27/100\n",
      "83/85 [============================>.] - ETA: 0s - loss: 5.8099e-05 - mean_absolute_error: 0.0050\n",
      "Epoch 27: val_loss did not improve from 0.00020\n",
      "85/85 [==============================] - 2s 19ms/step - loss: 5.8102e-05 - mean_absolute_error: 0.0050 - val_loss: 0.0017 - val_mean_absolute_error: 0.0384\n",
      "Epoch 28/100\n",
      "85/85 [==============================] - ETA: 0s - loss: 5.6131e-05 - mean_absolute_error: 0.0050\n",
      "Epoch 28: val_loss improved from 0.00020 to 0.00018, saving model to results/lstm/lstm.h5\n",
      "85/85 [==============================] - 1s 16ms/step - loss: 5.6131e-05 - mean_absolute_error: 0.0050 - val_loss: 1.7774e-04 - val_mean_absolute_error: 0.0103\n",
      "Epoch 29/100\n",
      "83/85 [============================>.] - ETA: 0s - loss: 6.4188e-05 - mean_absolute_error: 0.0050\n",
      "Epoch 29: val_loss did not improve from 0.00018\n",
      "85/85 [==============================] - 1s 17ms/step - loss: 6.4094e-05 - mean_absolute_error: 0.0050 - val_loss: 3.5254e-04 - val_mean_absolute_error: 0.0154\n",
      "Epoch 30/100\n",
      "83/85 [============================>.] - ETA: 0s - loss: 5.8576e-05 - mean_absolute_error: 0.0054\n",
      "Epoch 30: val_loss did not improve from 0.00018\n",
      "85/85 [==============================] - 2s 18ms/step - loss: 5.8348e-05 - mean_absolute_error: 0.0053 - val_loss: 2.1765e-04 - val_mean_absolute_error: 0.0113\n",
      "Epoch 31/100\n",
      "82/85 [===========================>..] - ETA: 0s - loss: 5.8042e-05 - mean_absolute_error: 0.0051\n",
      "Epoch 31: val_loss did not improve from 0.00018\n",
      "85/85 [==============================] - 1s 16ms/step - loss: 5.7332e-05 - mean_absolute_error: 0.0051 - val_loss: 1.9488e-04 - val_mean_absolute_error: 0.0111\n",
      "Epoch 32/100\n",
      "83/85 [============================>.] - ETA: 0s - loss: 5.4196e-05 - mean_absolute_error: 0.0049\n",
      "Epoch 32: val_loss did not improve from 0.00018\n",
      "85/85 [==============================] - 2s 18ms/step - loss: 5.3927e-05 - mean_absolute_error: 0.0049 - val_loss: 0.0021 - val_mean_absolute_error: 0.0437\n",
      "Epoch 33/100\n",
      "83/85 [============================>.] - ETA: 0s - loss: 5.2898e-05 - mean_absolute_error: 0.0048\n",
      "Epoch 33: val_loss improved from 0.00018 to 0.00016, saving model to results/lstm/lstm.h5\n",
      "85/85 [==============================] - 1s 17ms/step - loss: 5.3581e-05 - mean_absolute_error: 0.0049 - val_loss: 1.6389e-04 - val_mean_absolute_error: 0.0096\n",
      "Epoch 34/100\n",
      "84/85 [============================>.] - ETA: 0s - loss: 5.1992e-05 - mean_absolute_error: 0.0048\n",
      "Epoch 34: val_loss improved from 0.00016 to 0.00016, saving model to results/lstm/lstm.h5\n",
      "85/85 [==============================] - 2s 19ms/step - loss: 5.1995e-05 - mean_absolute_error: 0.0048 - val_loss: 1.6337e-04 - val_mean_absolute_error: 0.0096\n",
      "Epoch 35/100\n",
      "82/85 [===========================>..] - ETA: 0s - loss: 5.7413e-05 - mean_absolute_error: 0.0049\n",
      "Epoch 35: val_loss did not improve from 0.00016\n",
      "85/85 [==============================] - 2s 19ms/step - loss: 5.6644e-05 - mean_absolute_error: 0.0048 - val_loss: 4.3501e-04 - val_mean_absolute_error: 0.0175\n",
      "Epoch 36/100\n",
      "83/85 [============================>.] - ETA: 0s - loss: 5.8639e-05 - mean_absolute_error: 0.0050\n",
      "Epoch 36: val_loss did not improve from 0.00016\n",
      "85/85 [==============================] - 1s 18ms/step - loss: 5.8201e-05 - mean_absolute_error: 0.0050 - val_loss: 1.6477e-04 - val_mean_absolute_error: 0.0098\n",
      "Epoch 37/100\n",
      "83/85 [============================>.] - ETA: 0s - loss: 4.7020e-05 - mean_absolute_error: 0.0045\n",
      "Epoch 37: val_loss did not improve from 0.00016\n",
      "85/85 [==============================] - 2s 19ms/step - loss: 4.7203e-05 - mean_absolute_error: 0.0045 - val_loss: 4.7332e-04 - val_mean_absolute_error: 0.0184\n",
      "Epoch 38/100\n",
      "83/85 [============================>.] - ETA: 0s - loss: 5.8099e-05 - mean_absolute_error: 0.0050\n",
      "Epoch 38: val_loss did not improve from 0.00016\n",
      "85/85 [==============================] - 2s 18ms/step - loss: 5.7551e-05 - mean_absolute_error: 0.0050 - val_loss: 3.0494e-04 - val_mean_absolute_error: 0.0141\n",
      "Epoch 39/100\n",
      "83/85 [============================>.] - ETA: 0s - loss: 4.9641e-05 - mean_absolute_error: 0.0047\n",
      "Epoch 39: val_loss did not improve from 0.00016\n",
      "85/85 [==============================] - 2s 18ms/step - loss: 4.9408e-05 - mean_absolute_error: 0.0047 - val_loss: 1.7648e-04 - val_mean_absolute_error: 0.0104\n",
      "Epoch 40/100\n",
      "83/85 [============================>.] - ETA: 0s - loss: 5.5221e-05 - mean_absolute_error: 0.0047\n",
      "Epoch 40: val_loss did not improve from 0.00016\n",
      "85/85 [==============================] - 2s 22ms/step - loss: 5.5677e-05 - mean_absolute_error: 0.0047 - val_loss: 1.6907e-04 - val_mean_absolute_error: 0.0098\n",
      "Epoch 41/100\n",
      "85/85 [==============================] - ETA: 0s - loss: 5.1380e-05 - mean_absolute_error: 0.0047\n",
      "Epoch 41: val_loss did not improve from 0.00016\n",
      "85/85 [==============================] - 2s 18ms/step - loss: 5.1380e-05 - mean_absolute_error: 0.0047 - val_loss: 2.1093e-04 - val_mean_absolute_error: 0.0112\n",
      "Epoch 42/100\n",
      "83/85 [============================>.] - ETA: 0s - loss: 5.3062e-05 - mean_absolute_error: 0.0047\n",
      "Epoch 42: val_loss did not improve from 0.00016\n",
      "85/85 [==============================] - 1s 17ms/step - loss: 5.3060e-05 - mean_absolute_error: 0.0047 - val_loss: 4.3444e-04 - val_mean_absolute_error: 0.0178\n",
      "Epoch 43/100\n",
      "84/85 [============================>.] - ETA: 0s - loss: 5.1942e-05 - mean_absolute_error: 0.0048\n",
      "Epoch 43: val_loss did not improve from 0.00016\n",
      "85/85 [==============================] - 2s 18ms/step - loss: 5.1846e-05 - mean_absolute_error: 0.0047 - val_loss: 2.7255e-04 - val_mean_absolute_error: 0.0136\n",
      "Epoch 44/100\n",
      "85/85 [==============================] - ETA: 0s - loss: 5.0383e-05 - mean_absolute_error: 0.0048\n",
      "Epoch 44: val_loss did not improve from 0.00016\n",
      "85/85 [==============================] - 2s 20ms/step - loss: 5.0383e-05 - mean_absolute_error: 0.0048 - val_loss: 7.8239e-04 - val_mean_absolute_error: 0.0251\n",
      "Epoch 45/100\n",
      "83/85 [============================>.] - ETA: 0s - loss: 4.8560e-05 - mean_absolute_error: 0.0046\n",
      "Epoch 45: val_loss did not improve from 0.00016\n",
      "85/85 [==============================] - 1s 16ms/step - loss: 4.9192e-05 - mean_absolute_error: 0.0047 - val_loss: 0.0017 - val_mean_absolute_error: 0.0397\n",
      "Epoch 46/100\n",
      "84/85 [============================>.] - ETA: 0s - loss: 5.1618e-05 - mean_absolute_error: 0.0048\n",
      "Epoch 46: val_loss did not improve from 0.00016\n",
      "85/85 [==============================] - 1s 17ms/step - loss: 5.1898e-05 - mean_absolute_error: 0.0048 - val_loss: 0.0027 - val_mean_absolute_error: 0.0505\n",
      "Epoch 47/100\n",
      "83/85 [============================>.] - ETA: 0s - loss: 4.7267e-05 - mean_absolute_error: 0.0045\n",
      "Epoch 47: val_loss did not improve from 0.00016\n",
      "85/85 [==============================] - 2s 18ms/step - loss: 4.7732e-05 - mean_absolute_error: 0.0046 - val_loss: 3.0940e-04 - val_mean_absolute_error: 0.0142\n",
      "Epoch 48/100\n",
      "85/85 [==============================] - ETA: 0s - loss: 4.9905e-05 - mean_absolute_error: 0.0045\n",
      "Epoch 48: val_loss did not improve from 0.00016\n",
      "85/85 [==============================] - 2s 20ms/step - loss: 4.9905e-05 - mean_absolute_error: 0.0045 - val_loss: 1.7794e-04 - val_mean_absolute_error: 0.0101\n",
      "Epoch 49/100\n",
      "85/85 [==============================] - ETA: 0s - loss: 4.7517e-05 - mean_absolute_error: 0.0046\n",
      "Epoch 49: val_loss did not improve from 0.00016\n",
      "85/85 [==============================] - 1s 16ms/step - loss: 4.7517e-05 - mean_absolute_error: 0.0046 - val_loss: 1.8661e-04 - val_mean_absolute_error: 0.0108\n",
      "Epoch 50/100\n",
      "82/85 [===========================>..] - ETA: 0s - loss: 5.0318e-05 - mean_absolute_error: 0.0044\n",
      "Epoch 50: val_loss did not improve from 0.00016\n",
      "85/85 [==============================] - 1s 15ms/step - loss: 4.9919e-05 - mean_absolute_error: 0.0044 - val_loss: 1.9132e-04 - val_mean_absolute_error: 0.0110\n",
      "Epoch 51/100\n",
      "84/85 [============================>.] - ETA: 0s - loss: 4.5546e-05 - mean_absolute_error: 0.0044\n",
      "Epoch 51: val_loss did not improve from 0.00016\n",
      "85/85 [==============================] - 1s 15ms/step - loss: 4.5815e-05 - mean_absolute_error: 0.0045 - val_loss: 7.6822e-04 - val_mean_absolute_error: 0.0248\n",
      "Epoch 52/100\n",
      "82/85 [===========================>..] - ETA: 0s - loss: 4.2744e-05 - mean_absolute_error: 0.0044\n",
      "Epoch 52: val_loss did not improve from 0.00016\n",
      "85/85 [==============================] - 1s 15ms/step - loss: 4.3602e-05 - mean_absolute_error: 0.0045 - val_loss: 0.0040 - val_mean_absolute_error: 0.0621\n",
      "Epoch 53/100\n",
      "84/85 [============================>.] - ETA: 0s - loss: 4.9563e-05 - mean_absolute_error: 0.0044\n",
      "Epoch 53: val_loss improved from 0.00016 to 0.00016, saving model to results/lstm/lstm.h5\n",
      "85/85 [==============================] - 1s 16ms/step - loss: 4.9480e-05 - mean_absolute_error: 0.0043 - val_loss: 1.6210e-04 - val_mean_absolute_error: 0.0097\n",
      "Epoch 54/100\n",
      "84/85 [============================>.] - ETA: 0s - loss: 4.8797e-05 - mean_absolute_error: 0.0046\n",
      "Epoch 54: val_loss did not improve from 0.00016\n",
      "85/85 [==============================] - 2s 21ms/step - loss: 4.8746e-05 - mean_absolute_error: 0.0045 - val_loss: 0.0010 - val_mean_absolute_error: 0.0294\n",
      "Epoch 55/100\n",
      "85/85 [==============================] - ETA: 0s - loss: 4.6966e-05 - mean_absolute_error: 0.0045\n",
      "Epoch 55: val_loss did not improve from 0.00016\n",
      "85/85 [==============================] - 2s 18ms/step - loss: 4.6966e-05 - mean_absolute_error: 0.0045 - val_loss: 1.8785e-04 - val_mean_absolute_error: 0.0104\n",
      "Epoch 56/100\n",
      "82/85 [===========================>..] - ETA: 0s - loss: 4.5613e-05 - mean_absolute_error: 0.0044\n",
      "Epoch 56: val_loss did not improve from 0.00016\n",
      "85/85 [==============================] - 1s 16ms/step - loss: 4.5085e-05 - mean_absolute_error: 0.0043 - val_loss: 2.6569e-04 - val_mean_absolute_error: 0.0129\n",
      "Epoch 57/100\n",
      "82/85 [===========================>..] - ETA: 0s - loss: 4.9627e-05 - mean_absolute_error: 0.0045\n",
      "Epoch 57: val_loss did not improve from 0.00016\n",
      "85/85 [==============================] - 1s 17ms/step - loss: 4.8564e-05 - mean_absolute_error: 0.0044 - val_loss: 2.5184e-04 - val_mean_absolute_error: 0.0125\n",
      "Epoch 58/100\n",
      "84/85 [============================>.] - ETA: 0s - loss: 4.3471e-05 - mean_absolute_error: 0.0043\n",
      "Epoch 58: val_loss did not improve from 0.00016\n",
      "85/85 [==============================] - 1s 16ms/step - loss: 4.3391e-05 - mean_absolute_error: 0.0043 - val_loss: 2.1281e-04 - val_mean_absolute_error: 0.0113\n",
      "Epoch 59/100\n",
      "82/85 [===========================>..] - ETA: 0s - loss: 4.7212e-05 - mean_absolute_error: 0.0042\n",
      "Epoch 59: val_loss did not improve from 0.00016\n",
      "85/85 [==============================] - 1s 15ms/step - loss: 4.6594e-05 - mean_absolute_error: 0.0042 - val_loss: 1.8463e-04 - val_mean_absolute_error: 0.0103\n",
      "Epoch 60/100\n",
      "84/85 [============================>.] - ETA: 0s - loss: 4.8375e-05 - mean_absolute_error: 0.0043\n",
      "Epoch 60: val_loss did not improve from 0.00016\n",
      "85/85 [==============================] - 1s 17ms/step - loss: 4.8269e-05 - mean_absolute_error: 0.0042 - val_loss: 1.7652e-04 - val_mean_absolute_error: 0.0100\n",
      "Epoch 61/100\n",
      "83/85 [============================>.] - ETA: 0s - loss: 4.7482e-05 - mean_absolute_error: 0.0044\n",
      "Epoch 61: val_loss did not improve from 0.00016\n",
      "85/85 [==============================] - 1s 18ms/step - loss: 4.7065e-05 - mean_absolute_error: 0.0044 - val_loss: 1.7622e-04 - val_mean_absolute_error: 0.0100\n",
      "Epoch 62/100\n",
      "84/85 [============================>.] - ETA: 0s - loss: 4.4223e-05 - mean_absolute_error: 0.0043\n",
      "Epoch 62: val_loss did not improve from 0.00016\n",
      "85/85 [==============================] - 1s 18ms/step - loss: 4.4179e-05 - mean_absolute_error: 0.0043 - val_loss: 4.8782e-04 - val_mean_absolute_error: 0.0192\n",
      "Epoch 63/100\n",
      "84/85 [============================>.] - ETA: 0s - loss: 4.3694e-05 - mean_absolute_error: 0.0043\n",
      "Epoch 63: val_loss did not improve from 0.00016\n",
      "85/85 [==============================] - 1s 16ms/step - loss: 4.3609e-05 - mean_absolute_error: 0.0043 - val_loss: 2.9753e-04 - val_mean_absolute_error: 0.0138\n",
      "Epoch 64/100\n",
      "82/85 [===========================>..] - ETA: 0s - loss: 4.4485e-05 - mean_absolute_error: 0.0043\n",
      "Epoch 64: val_loss did not improve from 0.00016\n",
      "85/85 [==============================] - 1s 16ms/step - loss: 4.4756e-05 - mean_absolute_error: 0.0043 - val_loss: 2.2466e-04 - val_mean_absolute_error: 0.0117\n",
      "Epoch 65/100\n",
      "82/85 [===========================>..] - ETA: 0s - loss: 4.2898e-05 - mean_absolute_error: 0.0042\n",
      "Epoch 65: val_loss did not improve from 0.00016\n",
      "85/85 [==============================] - 1s 17ms/step - loss: 4.3603e-05 - mean_absolute_error: 0.0043 - val_loss: 0.0014 - val_mean_absolute_error: 0.0350\n",
      "Epoch 66/100\n",
      "84/85 [============================>.] - ETA: 0s - loss: 4.2470e-05 - mean_absolute_error: 0.0042\n",
      "Epoch 66: val_loss did not improve from 0.00016\n",
      "85/85 [==============================] - 1s 16ms/step - loss: 4.2452e-05 - mean_absolute_error: 0.0043 - val_loss: 1.8916e-04 - val_mean_absolute_error: 0.0105\n",
      "Epoch 67/100\n",
      "85/85 [==============================] - ETA: 0s - loss: 4.7258e-05 - mean_absolute_error: 0.0043\n",
      "Epoch 67: val_loss did not improve from 0.00016\n",
      "85/85 [==============================] - 1s 16ms/step - loss: 4.7258e-05 - mean_absolute_error: 0.0043 - val_loss: 2.5612e-04 - val_mean_absolute_error: 0.0126\n",
      "Epoch 68/100\n",
      "83/85 [============================>.] - ETA: 0s - loss: 4.3600e-05 - mean_absolute_error: 0.0043\n",
      "Epoch 68: val_loss did not improve from 0.00016\n",
      "85/85 [==============================] - 2s 18ms/step - loss: 4.3864e-05 - mean_absolute_error: 0.0043 - val_loss: 1.7557e-04 - val_mean_absolute_error: 0.0100\n",
      "Epoch 69/100\n",
      "84/85 [============================>.] - ETA: 0s - loss: 4.3991e-05 - mean_absolute_error: 0.0042\n",
      "Epoch 69: val_loss did not improve from 0.00016\n",
      "85/85 [==============================] - 1s 16ms/step - loss: 4.4238e-05 - mean_absolute_error: 0.0043 - val_loss: 4.9736e-04 - val_mean_absolute_error: 0.0194\n",
      "Epoch 70/100\n",
      "83/85 [============================>.] - ETA: 0s - loss: 4.1607e-05 - mean_absolute_error: 0.0041\n",
      "Epoch 70: val_loss did not improve from 0.00016\n",
      "85/85 [==============================] - 2s 18ms/step - loss: 4.1309e-05 - mean_absolute_error: 0.0040 - val_loss: 4.1679e-04 - val_mean_absolute_error: 0.0169\n",
      "Epoch 71/100\n",
      "84/85 [============================>.] - ETA: 0s - loss: 4.2989e-05 - mean_absolute_error: 0.0043\n",
      "Epoch 71: val_loss did not improve from 0.00016\n",
      "85/85 [==============================] - 2s 18ms/step - loss: 4.2936e-05 - mean_absolute_error: 0.0043 - val_loss: 3.3885e-04 - val_mean_absolute_error: 0.0155\n",
      "Epoch 72/100\n",
      "82/85 [===========================>..] - ETA: 0s - loss: 4.3376e-05 - mean_absolute_error: 0.0042\n",
      "Epoch 72: val_loss did not improve from 0.00016\n",
      "85/85 [==============================] - 2s 18ms/step - loss: 4.3342e-05 - mean_absolute_error: 0.0042 - val_loss: 2.5757e-04 - val_mean_absolute_error: 0.0126\n",
      "Epoch 73/100\n",
      "82/85 [===========================>..] - ETA: 0s - loss: 4.2643e-05 - mean_absolute_error: 0.0042\n",
      "Epoch 73: val_loss did not improve from 0.00016\n",
      "85/85 [==============================] - 1s 17ms/step - loss: 4.2057e-05 - mean_absolute_error: 0.0041 - val_loss: 1.6550e-04 - val_mean_absolute_error: 0.0098\n",
      "Epoch 74/100\n",
      "83/85 [============================>.] - ETA: 0s - loss: 4.2216e-05 - mean_absolute_error: 0.0041\n",
      "Epoch 74: val_loss did not improve from 0.00016\n",
      "85/85 [==============================] - 1s 18ms/step - loss: 4.2150e-05 - mean_absolute_error: 0.0041 - val_loss: 2.0660e-04 - val_mean_absolute_error: 0.0116\n",
      "Epoch 75/100\n",
      "85/85 [==============================] - ETA: 0s - loss: 4.3936e-05 - mean_absolute_error: 0.0040\n",
      "Epoch 75: val_loss did not improve from 0.00016\n",
      "85/85 [==============================] - 1s 17ms/step - loss: 4.3936e-05 - mean_absolute_error: 0.0040 - val_loss: 2.6870e-04 - val_mean_absolute_error: 0.0130\n",
      "Epoch 76/100\n",
      "84/85 [============================>.] - ETA: 0s - loss: 4.1365e-05 - mean_absolute_error: 0.0041\n",
      "Epoch 76: val_loss did not improve from 0.00016\n",
      "85/85 [==============================] - 1s 16ms/step - loss: 4.1309e-05 - mean_absolute_error: 0.0041 - val_loss: 2.1170e-04 - val_mean_absolute_error: 0.0112\n",
      "Epoch 77/100\n",
      "85/85 [==============================] - ETA: 0s - loss: 4.1320e-05 - mean_absolute_error: 0.0041\n",
      "Epoch 77: val_loss did not improve from 0.00016\n",
      "85/85 [==============================] - 1s 17ms/step - loss: 4.1320e-05 - mean_absolute_error: 0.0041 - val_loss: 1.8068e-04 - val_mean_absolute_error: 0.0101\n",
      "Epoch 78/100\n",
      "82/85 [===========================>..] - ETA: 0s - loss: 4.0559e-05 - mean_absolute_error: 0.0041\n",
      "Epoch 78: val_loss did not improve from 0.00016\n",
      "85/85 [==============================] - 2s 19ms/step - loss: 4.0197e-05 - mean_absolute_error: 0.0041 - val_loss: 1.9006e-04 - val_mean_absolute_error: 0.0104\n",
      "Epoch 79/100\n",
      "83/85 [============================>.] - ETA: 0s - loss: 4.5396e-05 - mean_absolute_error: 0.0043\n",
      "Epoch 79: val_loss did not improve from 0.00016\n",
      "85/85 [==============================] - 2s 18ms/step - loss: 4.4924e-05 - mean_absolute_error: 0.0042 - val_loss: 1.7640e-04 - val_mean_absolute_error: 0.0103\n",
      "Epoch 80/100\n",
      "82/85 [===========================>..] - ETA: 0s - loss: 3.9804e-05 - mean_absolute_error: 0.0040\n",
      "Epoch 80: val_loss did not improve from 0.00016\n",
      "85/85 [==============================] - 1s 17ms/step - loss: 3.9383e-05 - mean_absolute_error: 0.0040 - val_loss: 2.1955e-04 - val_mean_absolute_error: 0.0120\n",
      "Epoch 81/100\n",
      "82/85 [===========================>..] - ETA: 0s - loss: 4.3242e-05 - mean_absolute_error: 0.0041\n",
      "Epoch 81: val_loss did not improve from 0.00016\n",
      "85/85 [==============================] - 2s 18ms/step - loss: 4.2630e-05 - mean_absolute_error: 0.0041 - val_loss: 1.6760e-04 - val_mean_absolute_error: 0.0097\n",
      "Epoch 82/100\n",
      "83/85 [============================>.] - ETA: 0s - loss: 4.5097e-05 - mean_absolute_error: 0.0043\n",
      "Epoch 82: val_loss did not improve from 0.00016\n",
      "85/85 [==============================] - 2s 20ms/step - loss: 4.4743e-05 - mean_absolute_error: 0.0043 - val_loss: 2.9544e-04 - val_mean_absolute_error: 0.0136\n",
      "Epoch 83/100\n",
      "83/85 [============================>.] - ETA: 0s - loss: 3.9032e-05 - mean_absolute_error: 0.0040\n",
      "Epoch 83: val_loss did not improve from 0.00016\n",
      "85/85 [==============================] - 1s 17ms/step - loss: 3.8674e-05 - mean_absolute_error: 0.0040 - val_loss: 7.0011e-04 - val_mean_absolute_error: 0.0233\n"
     ]
    },
    {
     "data": {
      "application/javascript": "\n            setTimeout(function() {\n                var nbb_cell_id = 494;\n                var nbb_unformatted_code = \"history = compile_and_fit(model)\";\n                var nbb_formatted_code = \"history = compile_and_fit(model)\";\n                var nbb_cells = Jupyter.notebook.get_cells();\n                for (var i = 0; i < nbb_cells.length; ++i) {\n                    if (nbb_cells[i].input_prompt_number == nbb_cell_id) {\n                        if (nbb_cells[i].get_text() == nbb_unformatted_code) {\n                             nbb_cells[i].set_text(nbb_formatted_code);\n                        }\n                        break;\n                    }\n                }\n            }, 500);\n            ",
      "text/plain": [
       "<IPython.core.display.Javascript object>"
      ]
     },
     "metadata": {},
     "output_type": "display_data"
    }
   ],
   "source": [
    "history = compile_and_fit(model)\n"
   ]
  },
  {
   "cell_type": "code",
   "execution_count": 495,
   "metadata": {},
   "outputs": [
    {
     "name": "stdout",
     "output_type": "stream",
     "text": [
      "Model: \"sequential_8\"\n",
      "_________________________________________________________________\n",
      " Layer (type)                Output Shape              Param #   \n",
      "=================================================================\n",
      " LSTM (LSTM)                 (None, 64)                16896     \n",
      "                                                                 \n",
      " Output (Dense)              (None, 1)                 65        \n",
      "                                                                 \n",
      "=================================================================\n",
      "Total params: 16,961\n",
      "Trainable params: 16,961\n",
      "Non-trainable params: 0\n",
      "_________________________________________________________________\n"
     ]
    },
    {
     "data": {
      "application/javascript": "\n            setTimeout(function() {\n                var nbb_cell_id = 495;\n                var nbb_unformatted_code = \"model.summary()\";\n                var nbb_formatted_code = \"model.summary()\";\n                var nbb_cells = Jupyter.notebook.get_cells();\n                for (var i = 0; i < nbb_cells.length; ++i) {\n                    if (nbb_cells[i].input_prompt_number == nbb_cell_id) {\n                        if (nbb_cells[i].get_text() == nbb_unformatted_code) {\n                             nbb_cells[i].set_text(nbb_formatted_code);\n                        }\n                        break;\n                    }\n                }\n            }, 500);\n            ",
      "text/plain": [
       "<IPython.core.display.Javascript object>"
      ]
     },
     "metadata": {},
     "output_type": "display_data"
    }
   ],
   "source": [
    "model.summary()"
   ]
  },
  {
   "cell_type": "code",
   "execution_count": 496,
   "metadata": {},
   "outputs": [
    {
     "name": "stdout",
     "output_type": "stream",
     "text": [
      "2694\n",
      "244\n"
     ]
    },
    {
     "data": {
      "application/javascript": "\n            setTimeout(function() {\n                var nbb_cell_id = 496;\n                var nbb_unformatted_code = \"# trainPredict = model.predict(Xtrain)\\n# testPredict = model.predict(Xtest)\\n\\ntrain_predict_scaled = model.predict(Xtrain).squeeze()\\ntest_predict_scaled = model.predict(Xtest).squeeze()\\n\\nprint(len(train_predict_scaled))\\nprint(len(test_predict_scaled))\";\n                var nbb_formatted_code = \"# trainPredict = model.predict(Xtrain)\\n# testPredict = model.predict(Xtest)\\n\\ntrain_predict_scaled = model.predict(Xtrain).squeeze()\\ntest_predict_scaled = model.predict(Xtest).squeeze()\\n\\nprint(len(train_predict_scaled))\\nprint(len(test_predict_scaled))\";\n                var nbb_cells = Jupyter.notebook.get_cells();\n                for (var i = 0; i < nbb_cells.length; ++i) {\n                    if (nbb_cells[i].input_prompt_number == nbb_cell_id) {\n                        if (nbb_cells[i].get_text() == nbb_unformatted_code) {\n                             nbb_cells[i].set_text(nbb_formatted_code);\n                        }\n                        break;\n                    }\n                }\n            }, 500);\n            ",
      "text/plain": [
       "<IPython.core.display.Javascript object>"
      ]
     },
     "metadata": {},
     "output_type": "display_data"
    }
   ],
   "source": [
    "# trainPredict = model.predict(Xtrain)\n",
    "# testPredict = model.predict(Xtest)\n",
    "\n",
    "train_predict_scaled = model.predict(Xtrain).squeeze()\n",
    "test_predict_scaled = model.predict(Xtest).squeeze()\n",
    "\n",
    "print(len(train_predict_scaled))\n",
    "print(len(test_predict_scaled))"
   ]
  },
  {
   "cell_type": "code",
   "execution_count": 497,
   "metadata": {},
   "outputs": [
    {
     "data": {
      "application/javascript": "\n            setTimeout(function() {\n                var nbb_cell_id = 497;\n                var nbb_unformatted_code = \"# _train_predict_scaled = np.zeros([2694,], dtype='float32')\\n# _test_predict_scaled = np.zeros([244,], dtype='float32')\";\n                var nbb_formatted_code = \"# _train_predict_scaled = np.zeros([2694,], dtype='float32')\\n# _test_predict_scaled = np.zeros([244,], dtype='float32')\";\n                var nbb_cells = Jupyter.notebook.get_cells();\n                for (var i = 0; i < nbb_cells.length; ++i) {\n                    if (nbb_cells[i].input_prompt_number == nbb_cell_id) {\n                        if (nbb_cells[i].get_text() == nbb_unformatted_code) {\n                             nbb_cells[i].set_text(nbb_formatted_code);\n                        }\n                        break;\n                    }\n                }\n            }, 500);\n            ",
      "text/plain": [
       "<IPython.core.display.Javascript object>"
      ]
     },
     "metadata": {},
     "output_type": "display_data"
    }
   ],
   "source": [
    "# _train_predict_scaled = np.zeros([2694,], dtype='float32')\n",
    "# _test_predict_scaled = np.zeros([244,], dtype='float32')"
   ]
  },
  {
   "cell_type": "code",
   "execution_count": 498,
   "metadata": {},
   "outputs": [
    {
     "name": "stdout",
     "output_type": "stream",
     "text": [
      "85/85 [==============================] - 1s 9ms/step - loss: 2.8556e-05 - mean_absolute_error: 0.0034\n"
     ]
    },
    {
     "data": {
      "text/plain": [
       "[2.8556250981637277e-05, 0.003387266071513295]"
      ]
     },
     "execution_count": 498,
     "metadata": {},
     "output_type": "execute_result"
    },
    {
     "data": {
      "application/javascript": "\n            setTimeout(function() {\n                var nbb_cell_id = 498;\n                var nbb_unformatted_code = \"model.evaluate(Xtrain, ytrain)\";\n                var nbb_formatted_code = \"model.evaluate(Xtrain, ytrain)\";\n                var nbb_cells = Jupyter.notebook.get_cells();\n                for (var i = 0; i < nbb_cells.length; ++i) {\n                    if (nbb_cells[i].input_prompt_number == nbb_cell_id) {\n                        if (nbb_cells[i].get_text() == nbb_unformatted_code) {\n                             nbb_cells[i].set_text(nbb_formatted_code);\n                        }\n                        break;\n                    }\n                }\n            }, 500);\n            ",
      "text/plain": [
       "<IPython.core.display.Javascript object>"
      ]
     },
     "metadata": {},
     "output_type": "display_data"
    }
   ],
   "source": [
    "model.evaluate(Xtrain, ytrain)"
   ]
  },
  {
   "cell_type": "code",
   "execution_count": 499,
   "metadata": {},
   "outputs": [
    {
     "name": "stdout",
     "output_type": "stream",
     "text": [
      "8/8 [==============================] - 0s 8ms/step - loss: 1.6210e-04 - mean_absolute_error: 0.0097\n"
     ]
    },
    {
     "data": {
      "text/plain": [
       "[0.00016209740715567023, 0.009659290313720703]"
      ]
     },
     "execution_count": 499,
     "metadata": {},
     "output_type": "execute_result"
    },
    {
     "data": {
      "application/javascript": "\n            setTimeout(function() {\n                var nbb_cell_id = 499;\n                var nbb_unformatted_code = \"model.evaluate(Xtest, ytest)\";\n                var nbb_formatted_code = \"model.evaluate(Xtest, ytest)\";\n                var nbb_cells = Jupyter.notebook.get_cells();\n                for (var i = 0; i < nbb_cells.length; ++i) {\n                    if (nbb_cells[i].input_prompt_number == nbb_cell_id) {\n                        if (nbb_cells[i].get_text() == nbb_unformatted_code) {\n                             nbb_cells[i].set_text(nbb_formatted_code);\n                        }\n                        break;\n                    }\n                }\n            }, 500);\n            ",
      "text/plain": [
       "<IPython.core.display.Javascript object>"
      ]
     },
     "metadata": {},
     "output_type": "display_data"
    }
   ],
   "source": [
    "model.evaluate(Xtest, ytest)"
   ]
  },
  {
   "cell_type": "code",
   "execution_count": 500,
   "metadata": {},
   "outputs": [
    {
     "data": {
      "application/javascript": "\n            setTimeout(function() {\n                var nbb_cell_id = 500;\n                var nbb_unformatted_code = \"from sklearn.metrics import mean_absolute_error\";\n                var nbb_formatted_code = \"from sklearn.metrics import mean_absolute_error\";\n                var nbb_cells = Jupyter.notebook.get_cells();\n                for (var i = 0; i < nbb_cells.length; ++i) {\n                    if (nbb_cells[i].input_prompt_number == nbb_cell_id) {\n                        if (nbb_cells[i].get_text() == nbb_unformatted_code) {\n                             nbb_cells[i].set_text(nbb_formatted_code);\n                        }\n                        break;\n                    }\n                }\n            }, 500);\n            ",
      "text/plain": [
       "<IPython.core.display.Javascript object>"
      ]
     },
     "metadata": {},
     "output_type": "display_data"
    }
   ],
   "source": [
    "from sklearn.metrics import mean_absolute_error"
   ]
  },
  {
   "cell_type": "code",
   "execution_count": 501,
   "metadata": {},
   "outputs": [
    {
     "name": "stdout",
     "output_type": "stream",
     "text": [
      "Train Score: 0.0034 MAE\n",
      "Test Score: 0.0095 MAE\n"
     ]
    },
    {
     "data": {
      "application/javascript": "\n            setTimeout(function() {\n                var nbb_cell_id = 501;\n                var nbb_unformatted_code = \"# calculate mean absolute error\\ntrainScore = mean_absolute_error(ytrain, train_predict_scaled)\\nprint(\\\"Train Score: %.4f MAE\\\" % (trainScore))\\n\\ntestScore = mean_absolute_error(ytest, test_predict_scaled)\\nprint(\\\"Test Score: %.4f MAE\\\" % (testScore))\";\n                var nbb_formatted_code = \"# calculate mean absolute error\\ntrainScore = mean_absolute_error(ytrain, train_predict_scaled)\\nprint(\\\"Train Score: %.4f MAE\\\" % (trainScore))\\n\\ntestScore = mean_absolute_error(ytest, test_predict_scaled)\\nprint(\\\"Test Score: %.4f MAE\\\" % (testScore))\";\n                var nbb_cells = Jupyter.notebook.get_cells();\n                for (var i = 0; i < nbb_cells.length; ++i) {\n                    if (nbb_cells[i].input_prompt_number == nbb_cell_id) {\n                        if (nbb_cells[i].get_text() == nbb_unformatted_code) {\n                             nbb_cells[i].set_text(nbb_formatted_code);\n                        }\n                        break;\n                    }\n                }\n            }, 500);\n            ",
      "text/plain": [
       "<IPython.core.display.Javascript object>"
      ]
     },
     "metadata": {},
     "output_type": "display_data"
    }
   ],
   "source": [
    "# calculate mean absolute error\n",
    "trainScore = mean_absolute_error(ytrain, train_predict_scaled)\n",
    "print(\"Train Score: %.4f MAE\" % (trainScore))\n",
    "\n",
    "testScore = mean_absolute_error(ytest, test_predict_scaled)\n",
    "print(\"Test Score: %.4f MAE\" % (testScore))"
   ]
  },
  {
   "cell_type": "code",
   "execution_count": 502,
   "metadata": {},
   "outputs": [
    {
     "data": {
      "application/javascript": "\n            setTimeout(function() {\n                var nbb_cell_id = 502;\n                var nbb_unformatted_code = \"trainPredict = np.c_[trainPredict, np.zeros(trainPredict.shape)]\\ntestPredict = np.c_[testPredict, np.zeros(testPredict.shape)]\";\n                var nbb_formatted_code = \"trainPredict = np.c_[trainPredict, np.zeros(trainPredict.shape)]\\ntestPredict = np.c_[testPredict, np.zeros(testPredict.shape)]\";\n                var nbb_cells = Jupyter.notebook.get_cells();\n                for (var i = 0; i < nbb_cells.length; ++i) {\n                    if (nbb_cells[i].input_prompt_number == nbb_cell_id) {\n                        if (nbb_cells[i].get_text() == nbb_unformatted_code) {\n                             nbb_cells[i].set_text(nbb_formatted_code);\n                        }\n                        break;\n                    }\n                }\n            }, 500);\n            ",
      "text/plain": [
       "<IPython.core.display.Javascript object>"
      ]
     },
     "metadata": {},
     "output_type": "display_data"
    }
   ],
   "source": [
    "trainPredict = np.c_[trainPredict, np.zeros(trainPredict.shape)]\n",
    "testPredict = np.c_[testPredict, np.zeros(testPredict.shape)]"
   ]
  },
  {
   "cell_type": "code",
   "execution_count": 503,
   "metadata": {},
   "outputs": [
    {
     "data": {
      "application/javascript": "\n            setTimeout(function() {\n                var nbb_cell_id = 503;\n                var nbb_unformatted_code = \"# invert predictions\\ntrainPredict = scaler.inverse_transform(trainPredict)\\ntrainPredict = [x[0] for x in trainPredict]\\n\\ntestPredict = scaler.inverse_transform(testPredict)\\ntestPredict = [x[0] for x in testPredict]\";\n                var nbb_formatted_code = \"# invert predictions\\ntrainPredict = scaler.inverse_transform(trainPredict)\\ntrainPredict = [x[0] for x in trainPredict]\\n\\ntestPredict = scaler.inverse_transform(testPredict)\\ntestPredict = [x[0] for x in testPredict]\";\n                var nbb_cells = Jupyter.notebook.get_cells();\n                for (var i = 0; i < nbb_cells.length; ++i) {\n                    if (nbb_cells[i].input_prompt_number == nbb_cell_id) {\n                        if (nbb_cells[i].get_text() == nbb_unformatted_code) {\n                             nbb_cells[i].set_text(nbb_formatted_code);\n                        }\n                        break;\n                    }\n                }\n            }, 500);\n            ",
      "text/plain": [
       "<IPython.core.display.Javascript object>"
      ]
     },
     "metadata": {},
     "output_type": "display_data"
    }
   ],
   "source": [
    "# invert predictions\n",
    "trainPredict = scaler.inverse_transform(trainPredict)\n",
    "trainPredict = [x[0] for x in trainPredict]\n",
    "\n",
    "testPredict = scaler.inverse_transform(testPredict)\n",
    "testPredict = [x[0] for x in testPredict]\n"
   ]
  },
  {
   "cell_type": "code",
   "execution_count": 504,
   "metadata": {},
   "outputs": [
    {
     "name": "stdout",
     "output_type": "stream",
     "text": [
      "123.22057015429661\n",
      "164.96482664977438\n"
     ]
    },
    {
     "data": {
      "application/javascript": "\n            setTimeout(function() {\n                var nbb_cell_id = 504;\n                var nbb_unformatted_code = \"print(trainPredict[-5])\\nprint(testPredict[-5])\";\n                var nbb_formatted_code = \"print(trainPredict[-5])\\nprint(testPredict[-5])\";\n                var nbb_cells = Jupyter.notebook.get_cells();\n                for (var i = 0; i < nbb_cells.length; ++i) {\n                    if (nbb_cells[i].input_prompt_number == nbb_cell_id) {\n                        if (nbb_cells[i].get_text() == nbb_unformatted_code) {\n                             nbb_cells[i].set_text(nbb_formatted_code);\n                        }\n                        break;\n                    }\n                }\n            }, 500);\n            ",
      "text/plain": [
       "<IPython.core.display.Javascript object>"
      ]
     },
     "metadata": {},
     "output_type": "display_data"
    }
   ],
   "source": [
    "print(trainPredict[-5])\n",
    "print(testPredict[-5])"
   ]
  },
  {
   "cell_type": "code",
   "execution_count": 505,
   "metadata": {},
   "outputs": [
    {
     "data": {
      "application/javascript": "\n            setTimeout(function() {\n                var nbb_cell_id = 505;\n                var nbb_unformatted_code = \"# # calculate root mean absolute error\\n# trainScore = mean_absolute_error([x[0][0] for x in Xtrain], trainPredict)\\n# print(\\\"Train Score: %.2f MAE\\\" % (trainScore))\\n\\n# testScore = mean_absolute_error([x[0][0] for x in Xtest], testPredict)\\n# print(\\\"Test Score: %.2f MAE\\\" % (testScore))\";\n                var nbb_formatted_code = \"# # calculate root mean absolute error\\n# trainScore = mean_absolute_error([x[0][0] for x in Xtrain], trainPredict)\\n# print(\\\"Train Score: %.2f MAE\\\" % (trainScore))\\n\\n# testScore = mean_absolute_error([x[0][0] for x in Xtest], testPredict)\\n# print(\\\"Test Score: %.2f MAE\\\" % (testScore))\";\n                var nbb_cells = Jupyter.notebook.get_cells();\n                for (var i = 0; i < nbb_cells.length; ++i) {\n                    if (nbb_cells[i].input_prompt_number == nbb_cell_id) {\n                        if (nbb_cells[i].get_text() == nbb_unformatted_code) {\n                             nbb_cells[i].set_text(nbb_formatted_code);\n                        }\n                        break;\n                    }\n                }\n            }, 500);\n            ",
      "text/plain": [
       "<IPython.core.display.Javascript object>"
      ]
     },
     "metadata": {},
     "output_type": "display_data"
    }
   ],
   "source": [
    "# # calculate root mean absolute error\n",
    "# trainScore = mean_absolute_error([x[0][0] for x in Xtrain], trainPredict)\n",
    "# print(\"Train Score: %.2f MAE\" % (trainScore))\n",
    "\n",
    "# testScore = mean_absolute_error([x[0][0] for x in Xtest], testPredict)\n",
    "# print(\"Test Score: %.2f MAE\" % (testScore))"
   ]
  },
  {
   "cell_type": "code",
   "execution_count": 510,
   "metadata": {},
   "outputs": [
    {
     "data": {
      "application/javascript": "\n            setTimeout(function() {\n                var nbb_cell_id = 510;\n                var nbb_unformatted_code = \"df_compare = df.iloc[-244:].copy()\";\n                var nbb_formatted_code = \"df_compare = df.iloc[-244:].copy()\";\n                var nbb_cells = Jupyter.notebook.get_cells();\n                for (var i = 0; i < nbb_cells.length; ++i) {\n                    if (nbb_cells[i].input_prompt_number == nbb_cell_id) {\n                        if (nbb_cells[i].get_text() == nbb_unformatted_code) {\n                             nbb_cells[i].set_text(nbb_formatted_code);\n                        }\n                        break;\n                    }\n                }\n            }, 500);\n            ",
      "text/plain": [
       "<IPython.core.display.Javascript object>"
      ]
     },
     "metadata": {},
     "output_type": "display_data"
    }
   ],
   "source": [
    "df_compare = df.iloc[-244:].copy()"
   ]
  },
  {
   "cell_type": "code",
   "execution_count": 511,
   "metadata": {},
   "outputs": [
    {
     "data": {
      "application/javascript": "\n            setTimeout(function() {\n                var nbb_cell_id = 511;\n                var nbb_unformatted_code = \"df_compare[\\\"preds\\\"] = testPredict.copy()\";\n                var nbb_formatted_code = \"df_compare[\\\"preds\\\"] = testPredict.copy()\";\n                var nbb_cells = Jupyter.notebook.get_cells();\n                for (var i = 0; i < nbb_cells.length; ++i) {\n                    if (nbb_cells[i].input_prompt_number == nbb_cell_id) {\n                        if (nbb_cells[i].get_text() == nbb_unformatted_code) {\n                             nbb_cells[i].set_text(nbb_formatted_code);\n                        }\n                        break;\n                    }\n                }\n            }, 500);\n            ",
      "text/plain": [
       "<IPython.core.display.Javascript object>"
      ]
     },
     "metadata": {},
     "output_type": "display_data"
    }
   ],
   "source": [
    "df_compare[\"preds\"] = testPredict.copy()"
   ]
  },
  {
   "cell_type": "code",
   "execution_count": 512,
   "metadata": {},
   "outputs": [
    {
     "data": {
      "text/html": [
       "<div>\n",
       "<style scoped>\n",
       "    .dataframe tbody tr th:only-of-type {\n",
       "        vertical-align: middle;\n",
       "    }\n",
       "\n",
       "    .dataframe tbody tr th {\n",
       "        vertical-align: top;\n",
       "    }\n",
       "\n",
       "    .dataframe thead th {\n",
       "        text-align: right;\n",
       "    }\n",
       "</style>\n",
       "<table border=\"1\" class=\"dataframe\">\n",
       "  <thead>\n",
       "    <tr style=\"text-align: right;\">\n",
       "      <th></th>\n",
       "      <th>5. adjusted close</th>\n",
       "      <th>returns</th>\n",
       "      <th>log_returns</th>\n",
       "      <th>preds</th>\n",
       "    </tr>\n",
       "    <tr>\n",
       "      <th>date</th>\n",
       "      <th></th>\n",
       "      <th></th>\n",
       "      <th></th>\n",
       "      <th></th>\n",
       "    </tr>\n",
       "  </thead>\n",
       "  <tbody>\n",
       "    <tr>\n",
       "      <th>2021-03-18</th>\n",
       "      <td>119.818452</td>\n",
       "      <td>-0.033905</td>\n",
       "      <td>-0.034493</td>\n",
       "      <td>124.306092</td>\n",
       "    </tr>\n",
       "    <tr>\n",
       "      <th>2021-03-19</th>\n",
       "      <td>119.281640</td>\n",
       "      <td>-0.004480</td>\n",
       "      <td>-0.004490</td>\n",
       "      <td>120.395684</td>\n",
       "    </tr>\n",
       "    <tr>\n",
       "      <th>2021-03-22</th>\n",
       "      <td>122.661568</td>\n",
       "      <td>0.028336</td>\n",
       "      <td>0.027942</td>\n",
       "      <td>119.840483</td>\n",
       "    </tr>\n",
       "    <tr>\n",
       "      <th>2021-03-23</th>\n",
       "      <td>121.816586</td>\n",
       "      <td>-0.006889</td>\n",
       "      <td>-0.006913</td>\n",
       "      <td>122.997884</td>\n",
       "    </tr>\n",
       "    <tr>\n",
       "      <th>2021-03-24</th>\n",
       "      <td>119.381049</td>\n",
       "      <td>-0.019993</td>\n",
       "      <td>-0.020196</td>\n",
       "      <td>122.164542</td>\n",
       "    </tr>\n",
       "    <tr>\n",
       "      <th>...</th>\n",
       "      <td>...</td>\n",
       "      <td>...</td>\n",
       "      <td>...</td>\n",
       "      <td>...</td>\n",
       "    </tr>\n",
       "    <tr>\n",
       "      <th>2022-02-28</th>\n",
       "      <td>165.120000</td>\n",
       "      <td>0.001638</td>\n",
       "      <td>0.001637</td>\n",
       "      <td>164.964827</td>\n",
       "    </tr>\n",
       "    <tr>\n",
       "      <th>2022-03-01</th>\n",
       "      <td>163.200000</td>\n",
       "      <td>-0.011628</td>\n",
       "      <td>-0.011696</td>\n",
       "      <td>164.914825</td>\n",
       "    </tr>\n",
       "    <tr>\n",
       "      <th>2022-03-02</th>\n",
       "      <td>166.560000</td>\n",
       "      <td>0.020588</td>\n",
       "      <td>0.020379</td>\n",
       "      <td>163.125542</td>\n",
       "    </tr>\n",
       "    <tr>\n",
       "      <th>2022-03-03</th>\n",
       "      <td>166.230000</td>\n",
       "      <td>-0.001981</td>\n",
       "      <td>-0.001983</td>\n",
       "      <td>166.738979</td>\n",
       "    </tr>\n",
       "    <tr>\n",
       "      <th>2022-03-04</th>\n",
       "      <td>163.170000</td>\n",
       "      <td>-0.018408</td>\n",
       "      <td>-0.018580</td>\n",
       "      <td>166.181723</td>\n",
       "    </tr>\n",
       "  </tbody>\n",
       "</table>\n",
       "<p>244 rows × 4 columns</p>\n",
       "</div>"
      ],
      "text/plain": [
       "            5. adjusted close   returns  log_returns       preds\n",
       "date                                                            \n",
       "2021-03-18         119.818452 -0.033905    -0.034493  124.306092\n",
       "2021-03-19         119.281640 -0.004480    -0.004490  120.395684\n",
       "2021-03-22         122.661568  0.028336     0.027942  119.840483\n",
       "2021-03-23         121.816586 -0.006889    -0.006913  122.997884\n",
       "2021-03-24         119.381049 -0.019993    -0.020196  122.164542\n",
       "...                       ...       ...          ...         ...\n",
       "2022-02-28         165.120000  0.001638     0.001637  164.964827\n",
       "2022-03-01         163.200000 -0.011628    -0.011696  164.914825\n",
       "2022-03-02         166.560000  0.020588     0.020379  163.125542\n",
       "2022-03-03         166.230000 -0.001981    -0.001983  166.738979\n",
       "2022-03-04         163.170000 -0.018408    -0.018580  166.181723\n",
       "\n",
       "[244 rows x 4 columns]"
      ]
     },
     "execution_count": 512,
     "metadata": {},
     "output_type": "execute_result"
    },
    {
     "data": {
      "application/javascript": "\n            setTimeout(function() {\n                var nbb_cell_id = 512;\n                var nbb_unformatted_code = \"df_compare\";\n                var nbb_formatted_code = \"df_compare\";\n                var nbb_cells = Jupyter.notebook.get_cells();\n                for (var i = 0; i < nbb_cells.length; ++i) {\n                    if (nbb_cells[i].input_prompt_number == nbb_cell_id) {\n                        if (nbb_cells[i].get_text() == nbb_unformatted_code) {\n                             nbb_cells[i].set_text(nbb_formatted_code);\n                        }\n                        break;\n                    }\n                }\n            }, 500);\n            ",
      "text/plain": [
       "<IPython.core.display.Javascript object>"
      ]
     },
     "metadata": {},
     "output_type": "display_data"
    }
   ],
   "source": [
    "df_compare"
   ]
  },
  {
   "cell_type": "code",
   "execution_count": 514,
   "metadata": {},
   "outputs": [
    {
     "name": "stdout",
     "output_type": "stream",
     "text": [
      "Test Score: 1.6797 MAE\n"
     ]
    },
    {
     "data": {
      "application/javascript": "\n            setTimeout(function() {\n                var nbb_cell_id = 514;\n                var nbb_unformatted_code = \"testScore = mean_absolute_error(df_compare[\\\"5. adjusted close\\\"].values, df_compare[\\\"preds\\\"].values)\\nprint(\\\"Test Score: %.4f MAE\\\" % (testScore))\";\n                var nbb_formatted_code = \"testScore = mean_absolute_error(\\n    df_compare[\\\"5. adjusted close\\\"].values, df_compare[\\\"preds\\\"].values\\n)\\nprint(\\\"Test Score: %.4f MAE\\\" % (testScore))\";\n                var nbb_cells = Jupyter.notebook.get_cells();\n                for (var i = 0; i < nbb_cells.length; ++i) {\n                    if (nbb_cells[i].input_prompt_number == nbb_cell_id) {\n                        if (nbb_cells[i].get_text() == nbb_unformatted_code) {\n                             nbb_cells[i].set_text(nbb_formatted_code);\n                        }\n                        break;\n                    }\n                }\n            }, 500);\n            ",
      "text/plain": [
       "<IPython.core.display.Javascript object>"
      ]
     },
     "metadata": {},
     "output_type": "display_data"
    }
   ],
   "source": [
    "testScore = mean_absolute_error(df_compare[\"5. adjusted close\"].values, df_compare[\"preds\"].values)\n",
    "print(\"Test Score: %.4f MAE\" % (testScore))"
   ]
  }
 ],
 "metadata": {
  "kernelspec": {
   "display_name": "Python 3",
   "language": "python",
   "name": "python3"
  },
  "language_info": {
   "codemirror_mode": {
    "name": "ipython",
    "version": 3
   },
   "file_extension": ".py",
   "mimetype": "text/x-python",
   "name": "python",
   "nbconvert_exporter": "python",
   "pygments_lexer": "ipython3",
   "version": "3.8.10"
  }
 },
 "nbformat": 4,
 "nbformat_minor": 4
}
