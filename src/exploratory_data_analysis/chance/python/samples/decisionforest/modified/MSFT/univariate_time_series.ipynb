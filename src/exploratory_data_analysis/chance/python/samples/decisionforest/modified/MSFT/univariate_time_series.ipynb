{
 "cells": [
  {
   "cell_type": "code",
   "execution_count": 80,
   "metadata": {},
   "outputs": [
    {
     "name": "stdout",
     "output_type": "stream",
     "text": [
      "The nb_black extension is already loaded. To reload it, use:\n",
      "  %reload_ext nb_black\n"
     ]
    },
    {
     "data": {
      "application/javascript": "\n            setTimeout(function() {\n                var nbb_cell_id = 80;\n                var nbb_unformatted_code = \"from IPython.core.debugger import set_trace\\n\\n%load_ext nb_black\\n\\n# import pandas as pd\\n# import numpy as np\\n# import os\\n# import matplotlib.pyplot as plt\\n# import time\\n\\nimport IPython\\nimport IPython.display\\nimport matplotlib as mpl\\nimport matplotlib.pyplot as plt\\nimport numpy as np\\nimport pandas as pd\\nimport seaborn as sns\\nimport tensorflow as tf\\n\\nfrom pathlib import Path\\n\\nmpl.rcParams['figure.figsize'] = (8, 6)\\nmpl.rcParams['axes.grid'] = False\\n\\nnp.random.seed(42)\\ntf.random.set_seed(42)\\n\\nplt.style.use(style=\\\"seaborn\\\")\\n%matplotlib inline\";\n                var nbb_formatted_code = \"from IPython.core.debugger import set_trace\\n\\n%load_ext nb_black\\n\\n# import pandas as pd\\n# import numpy as np\\n# import os\\n# import matplotlib.pyplot as plt\\n# import time\\n\\nimport IPython\\nimport IPython.display\\nimport matplotlib as mpl\\nimport matplotlib.pyplot as plt\\nimport numpy as np\\nimport pandas as pd\\nimport seaborn as sns\\nimport tensorflow as tf\\n\\nfrom pathlib import Path\\n\\nmpl.rcParams[\\\"figure.figsize\\\"] = (8, 6)\\nmpl.rcParams[\\\"axes.grid\\\"] = False\\n\\nnp.random.seed(42)\\ntf.random.set_seed(42)\\n\\nplt.style.use(style=\\\"seaborn\\\")\\n%matplotlib inline\";\n                var nbb_cells = Jupyter.notebook.get_cells();\n                for (var i = 0; i < nbb_cells.length; ++i) {\n                    if (nbb_cells[i].input_prompt_number == nbb_cell_id) {\n                        if (nbb_cells[i].get_text() == nbb_unformatted_code) {\n                             nbb_cells[i].set_text(nbb_formatted_code);\n                        }\n                        break;\n                    }\n                }\n            }, 500);\n            ",
      "text/plain": [
       "<IPython.core.display.Javascript object>"
      ]
     },
     "metadata": {},
     "output_type": "display_data"
    }
   ],
   "source": [
    "from IPython.core.debugger import set_trace\n",
    "\n",
    "%load_ext nb_black\n",
    "\n",
    "# import pandas as pd\n",
    "# import numpy as np\n",
    "# import os\n",
    "# import matplotlib.pyplot as plt\n",
    "# import time\n",
    "\n",
    "import IPython\n",
    "import IPython.display\n",
    "import matplotlib as mpl\n",
    "import matplotlib.pyplot as plt\n",
    "import numpy as np\n",
    "import pandas as pd\n",
    "import seaborn as sns\n",
    "import tensorflow as tf\n",
    "\n",
    "from pathlib import Path\n",
    "\n",
    "mpl.rcParams['figure.figsize'] = (8, 6)\n",
    "mpl.rcParams['axes.grid'] = False\n",
    "\n",
    "np.random.seed(42)\n",
    "tf.random.set_seed(42)\n",
    "\n",
    "plt.style.use(style=\"seaborn\")\n",
    "%matplotlib inline"
   ]
  },
  {
   "cell_type": "code",
   "execution_count": 81,
   "metadata": {},
   "outputs": [
    {
     "name": "stdout",
     "output_type": "stream",
     "text": [
      "Using GPU\n"
     ]
    },
    {
     "data": {
      "application/javascript": "\n            setTimeout(function() {\n                var nbb_cell_id = 81;\n                var nbb_unformatted_code = \"gpu_devices = tf.config.experimental.list_physical_devices('GPU')\\nif gpu_devices:\\n    print('Using GPU')\\n    tf.config.experimental.set_memory_growth(gpu_devices[0], True)\\nelse:\\n    print('Using CPU')\";\n                var nbb_formatted_code = \"gpu_devices = tf.config.experimental.list_physical_devices(\\\"GPU\\\")\\nif gpu_devices:\\n    print(\\\"Using GPU\\\")\\n    tf.config.experimental.set_memory_growth(gpu_devices[0], True)\\nelse:\\n    print(\\\"Using CPU\\\")\";\n                var nbb_cells = Jupyter.notebook.get_cells();\n                for (var i = 0; i < nbb_cells.length; ++i) {\n                    if (nbb_cells[i].input_prompt_number == nbb_cell_id) {\n                        if (nbb_cells[i].get_text() == nbb_unformatted_code) {\n                             nbb_cells[i].set_text(nbb_formatted_code);\n                        }\n                        break;\n                    }\n                }\n            }, 500);\n            ",
      "text/plain": [
       "<IPython.core.display.Javascript object>"
      ]
     },
     "metadata": {},
     "output_type": "display_data"
    }
   ],
   "source": [
    "gpu_devices = tf.config.experimental.list_physical_devices('GPU')\n",
    "if gpu_devices:\n",
    "    print('Using GPU')\n",
    "    tf.config.experimental.set_memory_growth(gpu_devices[0], True)\n",
    "else:\n",
    "    print('Using CPU')"
   ]
  },
  {
   "cell_type": "code",
   "execution_count": 82,
   "metadata": {},
   "outputs": [
    {
     "name": "stdout",
     "output_type": "stream",
     "text": [
      "Mon Jul  4 20:40:30 2022       \n",
      "+-----------------------------------------------------------------------------+\n",
      "| NVIDIA-SMI 515.48.07    Driver Version: 516.40       CUDA Version: 11.7     |\n",
      "|-------------------------------+----------------------+----------------------+\n",
      "| GPU  Name        Persistence-M| Bus-Id        Disp.A | Volatile Uncorr. ECC |\n",
      "| Fan  Temp  Perf  Pwr:Usage/Cap|         Memory-Usage | GPU-Util  Compute M. |\n",
      "|                               |                      |               MIG M. |\n",
      "|===============================+======================+======================|\n",
      "|   0  NVIDIA GeForce ...  On   | 00000000:01:00.0  On |                  N/A |\n",
      "|  0%   53C    P8    18W / 200W |   3252MiB /  4096MiB |     10%      Default |\n",
      "|                               |                      |                  N/A |\n",
      "+-------------------------------+----------------------+----------------------+\n",
      "                                                                               \n",
      "+-----------------------------------------------------------------------------+\n",
      "| Processes:                                                                  |\n",
      "|  GPU   GI   CI        PID   Type   Process name                  GPU Memory |\n",
      "|        ID   ID                                                   Usage      |\n",
      "|=============================================================================|\n",
      "|    0   N/A  N/A      1728      C   /python3.8                      N/A      |\n",
      "|    0   N/A  N/A     21633      C   /python3.8                      N/A      |\n",
      "|    0   N/A  N/A     21880      C   /python3.8                      N/A      |\n",
      "|    0   N/A  N/A     22996      C   /python3.8                      N/A      |\n",
      "+-----------------------------------------------------------------------------+\n"
     ]
    },
    {
     "data": {
      "application/javascript": "\n            setTimeout(function() {\n                var nbb_cell_id = 82;\n                var nbb_unformatted_code = \"!nvidia-smi\";\n                var nbb_formatted_code = \"!nvidia-smi\";\n                var nbb_cells = Jupyter.notebook.get_cells();\n                for (var i = 0; i < nbb_cells.length; ++i) {\n                    if (nbb_cells[i].input_prompt_number == nbb_cell_id) {\n                        if (nbb_cells[i].get_text() == nbb_unformatted_code) {\n                             nbb_cells[i].set_text(nbb_formatted_code);\n                        }\n                        break;\n                    }\n                }\n            }, 500);\n            ",
      "text/plain": [
       "<IPython.core.display.Javascript object>"
      ]
     },
     "metadata": {},
     "output_type": "display_data"
    }
   ],
   "source": [
    "!nvidia-smi"
   ]
  },
  {
   "cell_type": "code",
   "execution_count": 83,
   "metadata": {},
   "outputs": [
    {
     "data": {
      "application/javascript": "\n            setTimeout(function() {\n                var nbb_cell_id = 83;\n                var nbb_unformatted_code = \"csv_path = \\\"/app/StockPricePredictions/data/alphavantage/time_series_daily_adjusted/MSFT/MSFT_WITH_TWINT_FINBERT_SA.csv\\\"\";\n                var nbb_formatted_code = \"csv_path = \\\"/app/StockPricePredictions/data/alphavantage/time_series_daily_adjusted/MSFT/MSFT_WITH_TWINT_FINBERT_SA.csv\\\"\";\n                var nbb_cells = Jupyter.notebook.get_cells();\n                for (var i = 0; i < nbb_cells.length; ++i) {\n                    if (nbb_cells[i].input_prompt_number == nbb_cell_id) {\n                        if (nbb_cells[i].get_text() == nbb_unformatted_code) {\n                             nbb_cells[i].set_text(nbb_formatted_code);\n                        }\n                        break;\n                    }\n                }\n            }, 500);\n            ",
      "text/plain": [
       "<IPython.core.display.Javascript object>"
      ]
     },
     "metadata": {},
     "output_type": "display_data"
    }
   ],
   "source": [
    "csv_path = \"/app/StockPricePredictions/data/alphavantage/time_series_daily_adjusted/MSFT/MSFT_WITH_TWINT_FINBERT_SA.csv\""
   ]
  },
  {
   "cell_type": "code",
   "execution_count": 84,
   "metadata": {},
   "outputs": [
    {
     "data": {
      "application/javascript": "\n            setTimeout(function() {\n                var nbb_cell_id = 84;\n                var nbb_unformatted_code = \"df = pd.read_csv(csv_path)\\ndf.sort_values(by=[\\\"date\\\"], ascending=True, inplace=True)\\ndf.reset_index(drop=True, inplace=True)\\n# Slice [start:stop:step], starting from index 5 take every 6th record.\\n# df = df[5::6]\\n\\ndate_time = pd.to_datetime(df.pop('date'))\\n# title = df.pop('tweet')\\n\\ndf = df[[\\\"5. adjusted close\\\"]] \\n# df = df[[\\\"2. high\\\", \\\"3. low\\\", \\\"5. adjusted close\\\", \\\"6. volume\\\"]]\\n\\ndf.index = date_time\";\n                var nbb_formatted_code = \"df = pd.read_csv(csv_path)\\ndf.sort_values(by=[\\\"date\\\"], ascending=True, inplace=True)\\ndf.reset_index(drop=True, inplace=True)\\n# Slice [start:stop:step], starting from index 5 take every 6th record.\\n# df = df[5::6]\\n\\ndate_time = pd.to_datetime(df.pop(\\\"date\\\"))\\n# title = df.pop('tweet')\\n\\ndf = df[[\\\"5. adjusted close\\\"]]\\n# df = df[[\\\"2. high\\\", \\\"3. low\\\", \\\"5. adjusted close\\\", \\\"6. volume\\\"]]\\n\\ndf.index = date_time\";\n                var nbb_cells = Jupyter.notebook.get_cells();\n                for (var i = 0; i < nbb_cells.length; ++i) {\n                    if (nbb_cells[i].input_prompt_number == nbb_cell_id) {\n                        if (nbb_cells[i].get_text() == nbb_unformatted_code) {\n                             nbb_cells[i].set_text(nbb_formatted_code);\n                        }\n                        break;\n                    }\n                }\n            }, 500);\n            ",
      "text/plain": [
       "<IPython.core.display.Javascript object>"
      ]
     },
     "metadata": {},
     "output_type": "display_data"
    }
   ],
   "source": [
    "df = pd.read_csv(csv_path)\n",
    "df.sort_values(by=[\"date\"], ascending=True, inplace=True)\n",
    "df.reset_index(drop=True, inplace=True)\n",
    "# Slice [start:stop:step], starting from index 5 take every 6th record.\n",
    "# df = df[5::6]\n",
    "\n",
    "date_time = pd.to_datetime(df.pop('date'))\n",
    "# title = df.pop('tweet')\n",
    "\n",
    "df = df[[\"5. adjusted close\"]] \n",
    "# df = df[[\"2. high\", \"3. low\", \"5. adjusted close\", \"6. volume\"]]\n",
    "\n",
    "df.index = date_time"
   ]
  },
  {
   "cell_type": "code",
   "execution_count": 85,
   "metadata": {},
   "outputs": [
    {
     "name": "stdout",
     "output_type": "stream",
     "text": [
      "<class 'pandas.core.frame.DataFrame'>\n",
      "DatetimeIndex: 3064 entries, 2010-01-04 to 2022-03-04\n",
      "Data columns (total 1 columns):\n",
      " #   Column             Non-Null Count  Dtype  \n",
      "---  ------             --------------  -----  \n",
      " 0   5. adjusted close  3064 non-null   float64\n",
      "dtypes: float64(1)\n",
      "memory usage: 47.9 KB\n"
     ]
    },
    {
     "data": {
      "application/javascript": "\n            setTimeout(function() {\n                var nbb_cell_id = 85;\n                var nbb_unformatted_code = \"df.info()\";\n                var nbb_formatted_code = \"df.info()\";\n                var nbb_cells = Jupyter.notebook.get_cells();\n                for (var i = 0; i < nbb_cells.length; ++i) {\n                    if (nbb_cells[i].input_prompt_number == nbb_cell_id) {\n                        if (nbb_cells[i].get_text() == nbb_unformatted_code) {\n                             nbb_cells[i].set_text(nbb_formatted_code);\n                        }\n                        break;\n                    }\n                }\n            }, 500);\n            ",
      "text/plain": [
       "<IPython.core.display.Javascript object>"
      ]
     },
     "metadata": {},
     "output_type": "display_data"
    }
   ],
   "source": [
    "df.info()"
   ]
  },
  {
   "cell_type": "code",
   "execution_count": 86,
   "metadata": {},
   "outputs": [
    {
     "data": {
      "text/html": [
       "<div>\n",
       "<style scoped>\n",
       "    .dataframe tbody tr th:only-of-type {\n",
       "        vertical-align: middle;\n",
       "    }\n",
       "\n",
       "    .dataframe tbody tr th {\n",
       "        vertical-align: top;\n",
       "    }\n",
       "\n",
       "    .dataframe thead th {\n",
       "        text-align: right;\n",
       "    }\n",
       "</style>\n",
       "<table border=\"1\" class=\"dataframe\">\n",
       "  <thead>\n",
       "    <tr style=\"text-align: right;\">\n",
       "      <th></th>\n",
       "      <th>5. adjusted close</th>\n",
       "    </tr>\n",
       "    <tr>\n",
       "      <th>date</th>\n",
       "      <th></th>\n",
       "    </tr>\n",
       "  </thead>\n",
       "  <tbody>\n",
       "    <tr>\n",
       "      <th>2010-01-04</th>\n",
       "      <td>23.857347</td>\n",
       "    </tr>\n",
       "    <tr>\n",
       "      <th>2010-01-05</th>\n",
       "      <td>23.865055</td>\n",
       "    </tr>\n",
       "    <tr>\n",
       "      <th>2010-01-06</th>\n",
       "      <td>23.718596</td>\n",
       "    </tr>\n",
       "    <tr>\n",
       "      <th>2010-01-07</th>\n",
       "      <td>23.473471</td>\n",
       "    </tr>\n",
       "    <tr>\n",
       "      <th>2010-01-08</th>\n",
       "      <td>23.633805</td>\n",
       "    </tr>\n",
       "  </tbody>\n",
       "</table>\n",
       "</div>"
      ],
      "text/plain": [
       "            5. adjusted close\n",
       "date                         \n",
       "2010-01-04          23.857347\n",
       "2010-01-05          23.865055\n",
       "2010-01-06          23.718596\n",
       "2010-01-07          23.473471\n",
       "2010-01-08          23.633805"
      ]
     },
     "execution_count": 86,
     "metadata": {},
     "output_type": "execute_result"
    },
    {
     "data": {
      "application/javascript": "\n            setTimeout(function() {\n                var nbb_cell_id = 86;\n                var nbb_unformatted_code = \"#df.set_index(\\\"date\\\", drop=True, inplace=True)\\ndf.head()\";\n                var nbb_formatted_code = \"# df.set_index(\\\"date\\\", drop=True, inplace=True)\\ndf.head()\";\n                var nbb_cells = Jupyter.notebook.get_cells();\n                for (var i = 0; i < nbb_cells.length; ++i) {\n                    if (nbb_cells[i].input_prompt_number == nbb_cell_id) {\n                        if (nbb_cells[i].get_text() == nbb_unformatted_code) {\n                             nbb_cells[i].set_text(nbb_formatted_code);\n                        }\n                        break;\n                    }\n                }\n            }, 500);\n            ",
      "text/plain": [
       "<IPython.core.display.Javascript object>"
      ]
     },
     "metadata": {},
     "output_type": "display_data"
    }
   ],
   "source": [
    "#df.set_index(\"date\", drop=True, inplace=True)\n",
    "df.head()"
   ]
  },
  {
   "cell_type": "markdown",
   "metadata": {},
   "source": [
    "We'll use only the close feature."
   ]
  },
  {
   "cell_type": "code",
   "execution_count": 87,
   "metadata": {},
   "outputs": [
    {
     "data": {
      "application/javascript": "\n            setTimeout(function() {\n                var nbb_cell_id = 87;\n                var nbb_unformatted_code = \"# df = df[[\\\"close\\\"]]\";\n                var nbb_formatted_code = \"# df = df[[\\\"close\\\"]]\";\n                var nbb_cells = Jupyter.notebook.get_cells();\n                for (var i = 0; i < nbb_cells.length; ++i) {\n                    if (nbb_cells[i].input_prompt_number == nbb_cell_id) {\n                        if (nbb_cells[i].get_text() == nbb_unformatted_code) {\n                             nbb_cells[i].set_text(nbb_formatted_code);\n                        }\n                        break;\n                    }\n                }\n            }, 500);\n            ",
      "text/plain": [
       "<IPython.core.display.Javascript object>"
      ]
     },
     "metadata": {},
     "output_type": "display_data"
    }
   ],
   "source": [
    "# df = df[[\"close\"]]"
   ]
  },
  {
   "cell_type": "code",
   "execution_count": 88,
   "metadata": {},
   "outputs": [
    {
     "data": {
      "text/plain": [
       "False"
      ]
     },
     "execution_count": 88,
     "metadata": {},
     "output_type": "execute_result"
    },
    {
     "data": {
      "application/javascript": "\n            setTimeout(function() {\n                var nbb_cell_id = 88;\n                var nbb_unformatted_code = \"type(df[\\\"5. adjusted close\\\"]) == type(df[[\\\"5. adjusted close\\\"]])\";\n                var nbb_formatted_code = \"type(df[\\\"5. adjusted close\\\"]) == type(df[[\\\"5. adjusted close\\\"]])\";\n                var nbb_cells = Jupyter.notebook.get_cells();\n                for (var i = 0; i < nbb_cells.length; ++i) {\n                    if (nbb_cells[i].input_prompt_number == nbb_cell_id) {\n                        if (nbb_cells[i].get_text() == nbb_unformatted_code) {\n                             nbb_cells[i].set_text(nbb_formatted_code);\n                        }\n                        break;\n                    }\n                }\n            }, 500);\n            ",
      "text/plain": [
       "<IPython.core.display.Javascript object>"
      ]
     },
     "metadata": {},
     "output_type": "display_data"
    }
   ],
   "source": [
    "type(df[\"5. adjusted close\"]) == type(df[[\"5. adjusted close\"]])"
   ]
  },
  {
   "cell_type": "code",
   "execution_count": 89,
   "metadata": {},
   "outputs": [
    {
     "data": {
      "text/plain": [
       "pandas.core.frame.DataFrame"
      ]
     },
     "execution_count": 89,
     "metadata": {},
     "output_type": "execute_result"
    },
    {
     "data": {
      "application/javascript": "\n            setTimeout(function() {\n                var nbb_cell_id = 89;\n                var nbb_unformatted_code = \"type(df[[\\\"5. adjusted close\\\"]])\";\n                var nbb_formatted_code = \"type(df[[\\\"5. adjusted close\\\"]])\";\n                var nbb_cells = Jupyter.notebook.get_cells();\n                for (var i = 0; i < nbb_cells.length; ++i) {\n                    if (nbb_cells[i].input_prompt_number == nbb_cell_id) {\n                        if (nbb_cells[i].get_text() == nbb_unformatted_code) {\n                             nbb_cells[i].set_text(nbb_formatted_code);\n                        }\n                        break;\n                    }\n                }\n            }, 500);\n            ",
      "text/plain": [
       "<IPython.core.display.Javascript object>"
      ]
     },
     "metadata": {},
     "output_type": "display_data"
    }
   ],
   "source": [
    "type(df[[\"5. adjusted close\"]])"
   ]
  },
  {
   "cell_type": "code",
   "execution_count": 90,
   "metadata": {},
   "outputs": [
    {
     "data": {
      "text/html": [
       "<div>\n",
       "<style scoped>\n",
       "    .dataframe tbody tr th:only-of-type {\n",
       "        vertical-align: middle;\n",
       "    }\n",
       "\n",
       "    .dataframe tbody tr th {\n",
       "        vertical-align: top;\n",
       "    }\n",
       "\n",
       "    .dataframe thead th {\n",
       "        text-align: right;\n",
       "    }\n",
       "</style>\n",
       "<table border=\"1\" class=\"dataframe\">\n",
       "  <thead>\n",
       "    <tr style=\"text-align: right;\">\n",
       "      <th></th>\n",
       "      <th>5. adjusted close</th>\n",
       "    </tr>\n",
       "  </thead>\n",
       "  <tbody>\n",
       "    <tr>\n",
       "      <th>count</th>\n",
       "      <td>3064.000000</td>\n",
       "    </tr>\n",
       "    <tr>\n",
       "      <th>mean</th>\n",
       "      <td>84.711218</td>\n",
       "    </tr>\n",
       "    <tr>\n",
       "      <th>std</th>\n",
       "      <td>81.182964</td>\n",
       "    </tr>\n",
       "    <tr>\n",
       "      <th>min</th>\n",
       "      <td>17.899248</td>\n",
       "    </tr>\n",
       "    <tr>\n",
       "      <th>25%</th>\n",
       "      <td>25.351937</td>\n",
       "    </tr>\n",
       "    <tr>\n",
       "      <th>50%</th>\n",
       "      <td>47.272908</td>\n",
       "    </tr>\n",
       "    <tr>\n",
       "      <th>75%</th>\n",
       "      <td>108.891906</td>\n",
       "    </tr>\n",
       "    <tr>\n",
       "      <th>max</th>\n",
       "      <td>342.401190</td>\n",
       "    </tr>\n",
       "  </tbody>\n",
       "</table>\n",
       "</div>"
      ],
      "text/plain": [
       "       5. adjusted close\n",
       "count        3064.000000\n",
       "mean           84.711218\n",
       "std            81.182964\n",
       "min            17.899248\n",
       "25%            25.351937\n",
       "50%            47.272908\n",
       "75%           108.891906\n",
       "max           342.401190"
      ]
     },
     "execution_count": 90,
     "metadata": {},
     "output_type": "execute_result"
    },
    {
     "data": {
      "application/javascript": "\n            setTimeout(function() {\n                var nbb_cell_id = 90;\n                var nbb_unformatted_code = \"df.describe()\";\n                var nbb_formatted_code = \"df.describe()\";\n                var nbb_cells = Jupyter.notebook.get_cells();\n                for (var i = 0; i < nbb_cells.length; ++i) {\n                    if (nbb_cells[i].input_prompt_number == nbb_cell_id) {\n                        if (nbb_cells[i].get_text() == nbb_unformatted_code) {\n                             nbb_cells[i].set_text(nbb_formatted_code);\n                        }\n                        break;\n                    }\n                }\n            }, 500);\n            ",
      "text/plain": [
       "<IPython.core.display.Javascript object>"
      ]
     },
     "metadata": {},
     "output_type": "display_data"
    }
   ],
   "source": [
    "df.describe()"
   ]
  },
  {
   "cell_type": "code",
   "execution_count": 91,
   "metadata": {},
   "outputs": [
    {
     "data": {
      "image/png": "[encoded data removed]",
      "text/plain": [
       "<Figure size 1152x432 with 1 Axes>"
      ]
     },
     "metadata": {
      "needs_background": "light"
     },
     "output_type": "display_data"
    },
    {
     "data": {
      "application/javascript": "\n            setTimeout(function() {\n                var nbb_cell_id = 91;\n                var nbb_unformatted_code = \"plt.figure(1, figsize=(16, 6))\\n_ = plt.plot(df['5. adjusted close'])\";\n                var nbb_formatted_code = \"plt.figure(1, figsize=(16, 6))\\n_ = plt.plot(df[\\\"5. adjusted close\\\"])\";\n                var nbb_cells = Jupyter.notebook.get_cells();\n                for (var i = 0; i < nbb_cells.length; ++i) {\n                    if (nbb_cells[i].input_prompt_number == nbb_cell_id) {\n                        if (nbb_cells[i].get_text() == nbb_unformatted_code) {\n                             nbb_cells[i].set_text(nbb_formatted_code);\n                        }\n                        break;\n                    }\n                }\n            }, 500);\n            ",
      "text/plain": [
       "<IPython.core.display.Javascript object>"
      ]
     },
     "metadata": {},
     "output_type": "display_data"
    }
   ],
   "source": [
    "plt.figure(1, figsize=(16, 6))\n",
    "_ = plt.plot(df['5. adjusted close'])"
   ]
  },
  {
   "cell_type": "markdown",
   "metadata": {},
   "source": [
    "Calculate the percentage change.\n",
    "\n",
    "The reason for using pct_change instead of the prices is the benefit of normalization as we can measure all variables in a comparable metric. Also returns have more manageable statistical properties than prices such as stationarity, as in most cases we don't have stationary prices but we can have stationary returns.\n",
    "\n",
    "A stationary time series is one where statistical properties such as mean, variance, correlation, etc are constant over time.\n",
    "For more details on stationarity: https://en.wikipedia.org/wiki/Stationary_process"
   ]
  },
  {
   "cell_type": "code",
   "execution_count": 92,
   "metadata": {},
   "outputs": [
    {
     "data": {
      "application/javascript": "\n            setTimeout(function() {\n                var nbb_cell_id = 92;\n                var nbb_unformatted_code = \"df[\\\"returns\\\"] = df['5. adjusted close'].pct_change()\";\n                var nbb_formatted_code = \"df[\\\"returns\\\"] = df[\\\"5. adjusted close\\\"].pct_change()\";\n                var nbb_cells = Jupyter.notebook.get_cells();\n                for (var i = 0; i < nbb_cells.length; ++i) {\n                    if (nbb_cells[i].input_prompt_number == nbb_cell_id) {\n                        if (nbb_cells[i].get_text() == nbb_unformatted_code) {\n                             nbb_cells[i].set_text(nbb_formatted_code);\n                        }\n                        break;\n                    }\n                }\n            }, 500);\n            ",
      "text/plain": [
       "<IPython.core.display.Javascript object>"
      ]
     },
     "metadata": {},
     "output_type": "display_data"
    }
   ],
   "source": [
    "df[\"returns\"] = df['5. adjusted close'].pct_change()"
   ]
  },
  {
   "cell_type": "code",
   "execution_count": 93,
   "metadata": {},
   "outputs": [
    {
     "data": {
      "text/html": [
       "<div>\n",
       "<style scoped>\n",
       "    .dataframe tbody tr th:only-of-type {\n",
       "        vertical-align: middle;\n",
       "    }\n",
       "\n",
       "    .dataframe tbody tr th {\n",
       "        vertical-align: top;\n",
       "    }\n",
       "\n",
       "    .dataframe thead th {\n",
       "        text-align: right;\n",
       "    }\n",
       "</style>\n",
       "<table border=\"1\" class=\"dataframe\">\n",
       "  <thead>\n",
       "    <tr style=\"text-align: right;\">\n",
       "      <th></th>\n",
       "      <th>5. adjusted close</th>\n",
       "      <th>returns</th>\n",
       "    </tr>\n",
       "    <tr>\n",
       "      <th>date</th>\n",
       "      <th></th>\n",
       "      <th></th>\n",
       "    </tr>\n",
       "  </thead>\n",
       "  <tbody>\n",
       "    <tr>\n",
       "      <th>2010-01-04</th>\n",
       "      <td>23.857347</td>\n",
       "      <td>NaN</td>\n",
       "    </tr>\n",
       "    <tr>\n",
       "      <th>2010-01-05</th>\n",
       "      <td>23.865055</td>\n",
       "      <td>0.000323</td>\n",
       "    </tr>\n",
       "    <tr>\n",
       "      <th>2010-01-06</th>\n",
       "      <td>23.718596</td>\n",
       "      <td>-0.006137</td>\n",
       "    </tr>\n",
       "    <tr>\n",
       "      <th>2010-01-07</th>\n",
       "      <td>23.473471</td>\n",
       "      <td>-0.010335</td>\n",
       "    </tr>\n",
       "    <tr>\n",
       "      <th>2010-01-08</th>\n",
       "      <td>23.633805</td>\n",
       "      <td>0.006830</td>\n",
       "    </tr>\n",
       "  </tbody>\n",
       "</table>\n",
       "</div>"
      ],
      "text/plain": [
       "            5. adjusted close   returns\n",
       "date                                   \n",
       "2010-01-04          23.857347       NaN\n",
       "2010-01-05          23.865055  0.000323\n",
       "2010-01-06          23.718596 -0.006137\n",
       "2010-01-07          23.473471 -0.010335\n",
       "2010-01-08          23.633805  0.006830"
      ]
     },
     "execution_count": 93,
     "metadata": {},
     "output_type": "execute_result"
    },
    {
     "data": {
      "application/javascript": "\n            setTimeout(function() {\n                var nbb_cell_id = 93;\n                var nbb_unformatted_code = \"df.head(5)\";\n                var nbb_formatted_code = \"df.head(5)\";\n                var nbb_cells = Jupyter.notebook.get_cells();\n                for (var i = 0; i < nbb_cells.length; ++i) {\n                    if (nbb_cells[i].input_prompt_number == nbb_cell_id) {\n                        if (nbb_cells[i].get_text() == nbb_unformatted_code) {\n                             nbb_cells[i].set_text(nbb_formatted_code);\n                        }\n                        break;\n                    }\n                }\n            }, 500);\n            ",
      "text/plain": [
       "<IPython.core.display.Javascript object>"
      ]
     },
     "metadata": {},
     "output_type": "display_data"
    }
   ],
   "source": [
    "df.head(5)"
   ]
  },
  {
   "cell_type": "markdown",
   "metadata": {},
   "source": [
    "Calculate the log returns.\n",
    "\n",
    "Why use log returns: https://quantivity.wordpress.com/2011/02/21/why-log-returns/"
   ]
  },
  {
   "cell_type": "code",
   "execution_count": 94,
   "metadata": {},
   "outputs": [
    {
     "data": {
      "application/javascript": "\n            setTimeout(function() {\n                var nbb_cell_id = 94;\n                var nbb_unformatted_code = \"df[\\\"log_returns\\\"] = np.log(1 + df[\\\"returns\\\"])\";\n                var nbb_formatted_code = \"df[\\\"log_returns\\\"] = np.log(1 + df[\\\"returns\\\"])\";\n                var nbb_cells = Jupyter.notebook.get_cells();\n                for (var i = 0; i < nbb_cells.length; ++i) {\n                    if (nbb_cells[i].input_prompt_number == nbb_cell_id) {\n                        if (nbb_cells[i].get_text() == nbb_unformatted_code) {\n                             nbb_cells[i].set_text(nbb_formatted_code);\n                        }\n                        break;\n                    }\n                }\n            }, 500);\n            ",
      "text/plain": [
       "<IPython.core.display.Javascript object>"
      ]
     },
     "metadata": {},
     "output_type": "display_data"
    }
   ],
   "source": [
    "df[\"log_returns\"] = np.log(1 + df[\"returns\"])"
   ]
  },
  {
   "cell_type": "code",
   "execution_count": 95,
   "metadata": {},
   "outputs": [
    {
     "data": {
      "text/html": [
       "<div>\n",
       "<style scoped>\n",
       "    .dataframe tbody tr th:only-of-type {\n",
       "        vertical-align: middle;\n",
       "    }\n",
       "\n",
       "    .dataframe tbody tr th {\n",
       "        vertical-align: top;\n",
       "    }\n",
       "\n",
       "    .dataframe thead th {\n",
       "        text-align: right;\n",
       "    }\n",
       "</style>\n",
       "<table border=\"1\" class=\"dataframe\">\n",
       "  <thead>\n",
       "    <tr style=\"text-align: right;\">\n",
       "      <th></th>\n",
       "      <th>5. adjusted close</th>\n",
       "      <th>returns</th>\n",
       "      <th>log_returns</th>\n",
       "    </tr>\n",
       "    <tr>\n",
       "      <th>date</th>\n",
       "      <th></th>\n",
       "      <th></th>\n",
       "      <th></th>\n",
       "    </tr>\n",
       "  </thead>\n",
       "  <tbody>\n",
       "    <tr>\n",
       "      <th>2010-01-04</th>\n",
       "      <td>23.857347</td>\n",
       "      <td>NaN</td>\n",
       "      <td>NaN</td>\n",
       "    </tr>\n",
       "    <tr>\n",
       "      <th>2010-01-05</th>\n",
       "      <td>23.865055</td>\n",
       "      <td>0.000323</td>\n",
       "      <td>0.000323</td>\n",
       "    </tr>\n",
       "    <tr>\n",
       "      <th>2010-01-06</th>\n",
       "      <td>23.718596</td>\n",
       "      <td>-0.006137</td>\n",
       "      <td>-0.006156</td>\n",
       "    </tr>\n",
       "    <tr>\n",
       "      <th>2010-01-07</th>\n",
       "      <td>23.473471</td>\n",
       "      <td>-0.010335</td>\n",
       "      <td>-0.010389</td>\n",
       "    </tr>\n",
       "    <tr>\n",
       "      <th>2010-01-08</th>\n",
       "      <td>23.633805</td>\n",
       "      <td>0.006830</td>\n",
       "      <td>0.006807</td>\n",
       "    </tr>\n",
       "  </tbody>\n",
       "</table>\n",
       "</div>"
      ],
      "text/plain": [
       "            5. adjusted close   returns  log_returns\n",
       "date                                                \n",
       "2010-01-04          23.857347       NaN          NaN\n",
       "2010-01-05          23.865055  0.000323     0.000323\n",
       "2010-01-06          23.718596 -0.006137    -0.006156\n",
       "2010-01-07          23.473471 -0.010335    -0.010389\n",
       "2010-01-08          23.633805  0.006830     0.006807"
      ]
     },
     "execution_count": 95,
     "metadata": {},
     "output_type": "execute_result"
    },
    {
     "data": {
      "application/javascript": "\n            setTimeout(function() {\n                var nbb_cell_id = 95;\n                var nbb_unformatted_code = \"df.head(5)\";\n                var nbb_formatted_code = \"df.head(5)\";\n                var nbb_cells = Jupyter.notebook.get_cells();\n                for (var i = 0; i < nbb_cells.length; ++i) {\n                    if (nbb_cells[i].input_prompt_number == nbb_cell_id) {\n                        if (nbb_cells[i].get_text() == nbb_unformatted_code) {\n                             nbb_cells[i].set_text(nbb_formatted_code);\n                        }\n                        break;\n                    }\n                }\n            }, 500);\n            ",
      "text/plain": [
       "<IPython.core.display.Javascript object>"
      ]
     },
     "metadata": {},
     "output_type": "display_data"
    }
   ],
   "source": [
    "df.head(5)"
   ]
  },
  {
   "cell_type": "code",
   "execution_count": 96,
   "metadata": {},
   "outputs": [
    {
     "data": {
      "text/plain": [
       "[<matplotlib.lines.Line2D at 0x7f1358d9aa90>]"
      ]
     },
     "execution_count": 96,
     "metadata": {},
     "output_type": "execute_result"
    },
    {
     "data": {
      "image/png": "[encoded data removed]",
      "text/plain": [
       "<Figure size 1152x288 with 1 Axes>"
      ]
     },
     "metadata": {
      "needs_background": "light"
     },
     "output_type": "display_data"
    },
    {
     "data": {
      "application/javascript": "\n            setTimeout(function() {\n                var nbb_cell_id = 96;\n                var nbb_unformatted_code = \"plt.figure(1, figsize=(16, 4))\\nplt.plot(df.log_returns)\";\n                var nbb_formatted_code = \"plt.figure(1, figsize=(16, 4))\\nplt.plot(df.log_returns)\";\n                var nbb_cells = Jupyter.notebook.get_cells();\n                for (var i = 0; i < nbb_cells.length; ++i) {\n                    if (nbb_cells[i].input_prompt_number == nbb_cell_id) {\n                        if (nbb_cells[i].get_text() == nbb_unformatted_code) {\n                             nbb_cells[i].set_text(nbb_formatted_code);\n                        }\n                        break;\n                    }\n                }\n            }, 500);\n            ",
      "text/plain": [
       "<IPython.core.display.Javascript object>"
      ]
     },
     "metadata": {},
     "output_type": "display_data"
    }
   ],
   "source": [
    "plt.figure(1, figsize=(16, 4))\n",
    "plt.plot(df.log_returns)"
   ]
  },
  {
   "cell_type": "code",
   "execution_count": 97,
   "metadata": {},
   "outputs": [
    {
     "name": "stdout",
     "output_type": "stream",
     "text": [
      "<class 'pandas.core.frame.DataFrame'>\n",
      "DatetimeIndex: 3064 entries, 2010-01-04 to 2022-03-04\n",
      "Data columns (total 3 columns):\n",
      " #   Column             Non-Null Count  Dtype  \n",
      "---  ------             --------------  -----  \n",
      " 0   5. adjusted close  3064 non-null   float64\n",
      " 1   returns            3063 non-null   float64\n",
      " 2   log_returns        3063 non-null   float64\n",
      "dtypes: float64(3)\n",
      "memory usage: 95.8 KB\n"
     ]
    },
    {
     "data": {
      "application/javascript": "\n            setTimeout(function() {\n                var nbb_cell_id = 97;\n                var nbb_unformatted_code = \"df.info()\";\n                var nbb_formatted_code = \"df.info()\";\n                var nbb_cells = Jupyter.notebook.get_cells();\n                for (var i = 0; i < nbb_cells.length; ++i) {\n                    if (nbb_cells[i].input_prompt_number == nbb_cell_id) {\n                        if (nbb_cells[i].get_text() == nbb_unformatted_code) {\n                             nbb_cells[i].set_text(nbb_formatted_code);\n                        }\n                        break;\n                    }\n                }\n            }, 500);\n            ",
      "text/plain": [
       "<IPython.core.display.Javascript object>"
      ]
     },
     "metadata": {},
     "output_type": "display_data"
    }
   ],
   "source": [
    "df.info()"
   ]
  },
  {
   "cell_type": "code",
   "execution_count": 98,
   "metadata": {},
   "outputs": [
    {
     "data": {
      "application/javascript": "\n            setTimeout(function() {\n                var nbb_cell_id = 98;\n                var nbb_unformatted_code = \"X = df[[\\\"5. adjusted close\\\"]].values\\n\\n# df.dropna(inplace=True)\\n# X = df[[\\\"5. adjusted close\\\", \\\"log_returns\\\"]].values\\n\\n\\n# X = df[[\\\"5. adjusted close\\\", \\\"2. high\\\", \\\"3. low\\\", \\\"6. volume\\\", \\\"log_returns\\\"]].values\";\n                var nbb_formatted_code = \"X = df[[\\\"5. adjusted close\\\"]].values\\n\\n# df.dropna(inplace=True)\\n# X = df[[\\\"5. adjusted close\\\", \\\"log_returns\\\"]].values\\n\\n\\n# X = df[[\\\"5. adjusted close\\\", \\\"2. high\\\", \\\"3. low\\\", \\\"6. volume\\\", \\\"log_returns\\\"]].values\";\n                var nbb_cells = Jupyter.notebook.get_cells();\n                for (var i = 0; i < nbb_cells.length; ++i) {\n                    if (nbb_cells[i].input_prompt_number == nbb_cell_id) {\n                        if (nbb_cells[i].get_text() == nbb_unformatted_code) {\n                             nbb_cells[i].set_text(nbb_formatted_code);\n                        }\n                        break;\n                    }\n                }\n            }, 500);\n            ",
      "text/plain": [
       "<IPython.core.display.Javascript object>"
      ]
     },
     "metadata": {},
     "output_type": "display_data"
    }
   ],
   "source": [
    "X = df[[\"5. adjusted close\"]].values\n",
    "\n",
    "# df.dropna(inplace=True)\n",
    "# X = df[[\"5. adjusted close\", \"log_returns\"]].values\n",
    "\n",
    "\n",
    "# X = df[[\"5. adjusted close\", \"2. high\", \"3. low\", \"6. volume\", \"log_returns\"]].values"
   ]
  },
  {
   "cell_type": "code",
   "execution_count": 99,
   "metadata": {},
   "outputs": [
    {
     "data": {
      "application/javascript": "\n            setTimeout(function() {\n                var nbb_cell_id = 99;\n                var nbb_unformatted_code = \"from sklearn.preprocessing import MinMaxScaler\";\n                var nbb_formatted_code = \"from sklearn.preprocessing import MinMaxScaler\";\n                var nbb_cells = Jupyter.notebook.get_cells();\n                for (var i = 0; i < nbb_cells.length; ++i) {\n                    if (nbb_cells[i].input_prompt_number == nbb_cell_id) {\n                        if (nbb_cells[i].get_text() == nbb_unformatted_code) {\n                             nbb_cells[i].set_text(nbb_formatted_code);\n                        }\n                        break;\n                    }\n                }\n            }, 500);\n            ",
      "text/plain": [
       "<IPython.core.display.Javascript object>"
      ]
     },
     "metadata": {},
     "output_type": "display_data"
    }
   ],
   "source": [
    "from sklearn.preprocessing import MinMaxScaler"
   ]
  },
  {
   "cell_type": "code",
   "execution_count": 100,
   "metadata": {},
   "outputs": [
    {
     "data": {
      "application/javascript": "\n            setTimeout(function() {\n                var nbb_cell_id = 100;\n                var nbb_unformatted_code = \"scaler = MinMaxScaler(feature_range=(0, 1)).fit(X)\\nX_scaled = scaler.transform(X)\";\n                var nbb_formatted_code = \"scaler = MinMaxScaler(feature_range=(0, 1)).fit(X)\\nX_scaled = scaler.transform(X)\";\n                var nbb_cells = Jupyter.notebook.get_cells();\n                for (var i = 0; i < nbb_cells.length; ++i) {\n                    if (nbb_cells[i].input_prompt_number == nbb_cell_id) {\n                        if (nbb_cells[i].get_text() == nbb_unformatted_code) {\n                             nbb_cells[i].set_text(nbb_formatted_code);\n                        }\n                        break;\n                    }\n                }\n            }, 500);\n            ",
      "text/plain": [
       "<IPython.core.display.Javascript object>"
      ]
     },
     "metadata": {},
     "output_type": "display_data"
    }
   ],
   "source": [
    "scaler = MinMaxScaler(feature_range=(0, 1)).fit(X)\n",
    "X_scaled = scaler.transform(X)"
   ]
  },
  {
   "cell_type": "code",
   "execution_count": 101,
   "metadata": {},
   "outputs": [
    {
     "data": {
      "application/javascript": "\n            setTimeout(function() {\n                var nbb_cell_id = 101;\n                var nbb_unformatted_code = \"y = [x[0] for x in X_scaled]\";\n                var nbb_formatted_code = \"y = [x[0] for x in X_scaled]\";\n                var nbb_cells = Jupyter.notebook.get_cells();\n                for (var i = 0; i < nbb_cells.length; ++i) {\n                    if (nbb_cells[i].input_prompt_number == nbb_cell_id) {\n                        if (nbb_cells[i].get_text() == nbb_unformatted_code) {\n                             nbb_cells[i].set_text(nbb_formatted_code);\n                        }\n                        break;\n                    }\n                }\n            }, 500);\n            ",
      "text/plain": [
       "<IPython.core.display.Javascript object>"
      ]
     },
     "metadata": {},
     "output_type": "display_data"
    }
   ],
   "source": [
    "y = [x[0] for x in X_scaled]"
   ]
  },
  {
   "cell_type": "markdown",
   "metadata": {},
   "source": [
    "#### Train test split"
   ]
  },
  {
   "cell_type": "code",
   "execution_count": 102,
   "metadata": {},
   "outputs": [
    {
     "name": "stdout",
     "output_type": "stream",
     "text": [
      "2757\n"
     ]
    },
    {
     "data": {
      "application/javascript": "\n            setTimeout(function() {\n                var nbb_cell_id = 102;\n                var nbb_unformatted_code = \"split = int(len(X_scaled) * 0.9)\\nprint(split)\";\n                var nbb_formatted_code = \"split = int(len(X_scaled) * 0.9)\\nprint(split)\";\n                var nbb_cells = Jupyter.notebook.get_cells();\n                for (var i = 0; i < nbb_cells.length; ++i) {\n                    if (nbb_cells[i].input_prompt_number == nbb_cell_id) {\n                        if (nbb_cells[i].get_text() == nbb_unformatted_code) {\n                             nbb_cells[i].set_text(nbb_formatted_code);\n                        }\n                        break;\n                    }\n                }\n            }, 500);\n            ",
      "text/plain": [
       "<IPython.core.display.Javascript object>"
      ]
     },
     "metadata": {},
     "output_type": "display_data"
    }
   ],
   "source": [
    "split = int(len(X_scaled) * 0.9)\n",
    "print(split)"
   ]
  },
  {
   "cell_type": "code",
   "execution_count": 103,
   "metadata": {},
   "outputs": [
    {
     "data": {
      "application/javascript": "\n            setTimeout(function() {\n                var nbb_cell_id = 103;\n                var nbb_unformatted_code = \"X_train = X_scaled[:split]\\nX_test = X_scaled[split : len(X_scaled)]\\ny_train = y[:split]\\ny_test = y[split : len(y)]\";\n                var nbb_formatted_code = \"X_train = X_scaled[:split]\\nX_test = X_scaled[split : len(X_scaled)]\\ny_train = y[:split]\\ny_test = y[split : len(y)]\";\n                var nbb_cells = Jupyter.notebook.get_cells();\n                for (var i = 0; i < nbb_cells.length; ++i) {\n                    if (nbb_cells[i].input_prompt_number == nbb_cell_id) {\n                        if (nbb_cells[i].get_text() == nbb_unformatted_code) {\n                             nbb_cells[i].set_text(nbb_formatted_code);\n                        }\n                        break;\n                    }\n                }\n            }, 500);\n            ",
      "text/plain": [
       "<IPython.core.display.Javascript object>"
      ]
     },
     "metadata": {},
     "output_type": "display_data"
    }
   ],
   "source": [
    "X_train = X_scaled[:split]\n",
    "X_test = X_scaled[split : len(X_scaled)]\n",
    "y_train = y[:split]\n",
    "y_test = y[split : len(y)]"
   ]
  },
  {
   "cell_type": "code",
   "execution_count": 104,
   "metadata": {},
   "outputs": [
    {
     "name": "stdout",
     "output_type": "stream",
     "text": [
      "2757\n",
      "307\n"
     ]
    },
    {
     "data": {
      "application/javascript": "\n            setTimeout(function() {\n                var nbb_cell_id = 104;\n                var nbb_unformatted_code = \"print(len(X_train))\\nprint(len(X_test))\";\n                var nbb_formatted_code = \"print(len(X_train))\\nprint(len(X_test))\";\n                var nbb_cells = Jupyter.notebook.get_cells();\n                for (var i = 0; i < nbb_cells.length; ++i) {\n                    if (nbb_cells[i].input_prompt_number == nbb_cell_id) {\n                        if (nbb_cells[i].get_text() == nbb_unformatted_code) {\n                             nbb_cells[i].set_text(nbb_formatted_code);\n                        }\n                        break;\n                    }\n                }\n            }, 500);\n            ",
      "text/plain": [
       "<IPython.core.display.Javascript object>"
      ]
     },
     "metadata": {},
     "output_type": "display_data"
    }
   ],
   "source": [
    "print(len(X_train))\n",
    "print(len(X_test))"
   ]
  },
  {
   "cell_type": "code",
   "execution_count": 105,
   "metadata": {},
   "outputs": [
    {
     "data": {
      "application/javascript": "\n            setTimeout(function() {\n                var nbb_cell_id = 105;\n                var nbb_unformatted_code = \"assert len(X_train) == len(y_train)\\nassert len(X_test) == len(y_test)\";\n                var nbb_formatted_code = \"assert len(X_train) == len(y_train)\\nassert len(X_test) == len(y_test)\";\n                var nbb_cells = Jupyter.notebook.get_cells();\n                for (var i = 0; i < nbb_cells.length; ++i) {\n                    if (nbb_cells[i].input_prompt_number == nbb_cell_id) {\n                        if (nbb_cells[i].get_text() == nbb_unformatted_code) {\n                             nbb_cells[i].set_text(nbb_formatted_code);\n                        }\n                        break;\n                    }\n                }\n            }, 500);\n            ",
      "text/plain": [
       "<IPython.core.display.Javascript object>"
      ]
     },
     "metadata": {},
     "output_type": "display_data"
    }
   ],
   "source": [
    "assert len(X_train) == len(y_train)\n",
    "assert len(X_test) == len(y_test)"
   ]
  },
  {
   "cell_type": "markdown",
   "metadata": {},
   "source": [
    "#### Labeling\n",
    "\n",
    "We want to predict the stock price at a future time. We'll predict the stock price at time t + 1 relative to the stock price at time t."
   ]
  },
  {
   "cell_type": "markdown",
   "metadata": {},
   "source": [
    "As we're going to use an LSTM architecture, we know that it has memory and that it is maintained by setting the time step, basically how many steps in the past we want the LSTM to use.\n",
    "\n",
    "The time step  refers to how many steps in time we want the backpropagation algorithm to use when calculating gradients for weight updates during training.\n",
    "\n",
    "So we can use a method to create both the timestep and the output variable, the t + 1."
   ]
  },
  {
   "cell_type": "code",
   "execution_count": 106,
   "metadata": {},
   "outputs": [
    {
     "data": {
      "application/javascript": "\n            setTimeout(function() {\n                var nbb_cell_id = 106;\n                var nbb_unformatted_code = \"n = 63\\nXtrain = []\\nytrain = []\\nXtest = []\\nytest = []\\nfor i in range(n, len(X_train)):\\n    Xtrain.append(X_train[i - n : i, : X_train.shape[1]])\\n    ytrain.append(y_train[i])  # predict next record\\nfor i in range(n, len(X_test)):\\n    Xtest.append(X_test[i - n : i, : X_test.shape[1]])\\n    ytest.append(y_test[i])  # predict next record\";\n                var nbb_formatted_code = \"n = 63\\nXtrain = []\\nytrain = []\\nXtest = []\\nytest = []\\nfor i in range(n, len(X_train)):\\n    Xtrain.append(X_train[i - n : i, : X_train.shape[1]])\\n    ytrain.append(y_train[i])  # predict next record\\nfor i in range(n, len(X_test)):\\n    Xtest.append(X_test[i - n : i, : X_test.shape[1]])\\n    ytest.append(y_test[i])  # predict next record\";\n                var nbb_cells = Jupyter.notebook.get_cells();\n                for (var i = 0; i < nbb_cells.length; ++i) {\n                    if (nbb_cells[i].input_prompt_number == nbb_cell_id) {\n                        if (nbb_cells[i].get_text() == nbb_unformatted_code) {\n                             nbb_cells[i].set_text(nbb_formatted_code);\n                        }\n                        break;\n                    }\n                }\n            }, 500);\n            ",
      "text/plain": [
       "<IPython.core.display.Javascript object>"
      ]
     },
     "metadata": {},
     "output_type": "display_data"
    }
   ],
   "source": [
    "n = 63\n",
    "Xtrain = []\n",
    "ytrain = []\n",
    "Xtest = []\n",
    "ytest = []\n",
    "for i in range(n, len(X_train)):\n",
    "    Xtrain.append(X_train[i - n : i, : X_train.shape[1]])\n",
    "    ytrain.append(y_train[i])  # predict next record\n",
    "for i in range(n, len(X_test)):\n",
    "    Xtest.append(X_test[i - n : i, : X_test.shape[1]])\n",
    "    ytest.append(y_test[i])  # predict next record"
   ]
  },
  {
   "cell_type": "code",
   "execution_count": 107,
   "metadata": {},
   "outputs": [
    {
     "data": {
      "text/html": [
       "<div>\n",
       "<style scoped>\n",
       "    .dataframe tbody tr th:only-of-type {\n",
       "        vertical-align: middle;\n",
       "    }\n",
       "\n",
       "    .dataframe tbody tr th {\n",
       "        vertical-align: top;\n",
       "    }\n",
       "\n",
       "    .dataframe thead th {\n",
       "        text-align: right;\n",
       "    }\n",
       "</style>\n",
       "<table border=\"1\" class=\"dataframe\">\n",
       "  <thead>\n",
       "    <tr style=\"text-align: right;\">\n",
       "      <th></th>\n",
       "      <th>5. adjusted close</th>\n",
       "      <th>returns</th>\n",
       "      <th>log_returns</th>\n",
       "    </tr>\n",
       "    <tr>\n",
       "      <th>date</th>\n",
       "      <th></th>\n",
       "      <th></th>\n",
       "      <th></th>\n",
       "    </tr>\n",
       "  </thead>\n",
       "  <tbody>\n",
       "    <tr>\n",
       "      <th>2010-01-04</th>\n",
       "      <td>23.857347</td>\n",
       "      <td>NaN</td>\n",
       "      <td>NaN</td>\n",
       "    </tr>\n",
       "    <tr>\n",
       "      <th>2010-01-05</th>\n",
       "      <td>23.865055</td>\n",
       "      <td>0.000323</td>\n",
       "      <td>0.000323</td>\n",
       "    </tr>\n",
       "    <tr>\n",
       "      <th>2010-01-06</th>\n",
       "      <td>23.718596</td>\n",
       "      <td>-0.006137</td>\n",
       "      <td>-0.006156</td>\n",
       "    </tr>\n",
       "    <tr>\n",
       "      <th>2010-01-07</th>\n",
       "      <td>23.473471</td>\n",
       "      <td>-0.010335</td>\n",
       "      <td>-0.010389</td>\n",
       "    </tr>\n",
       "    <tr>\n",
       "      <th>2010-01-08</th>\n",
       "      <td>23.633805</td>\n",
       "      <td>0.006830</td>\n",
       "      <td>0.006807</td>\n",
       "    </tr>\n",
       "  </tbody>\n",
       "</table>\n",
       "</div>"
      ],
      "text/plain": [
       "            5. adjusted close   returns  log_returns\n",
       "date                                                \n",
       "2010-01-04          23.857347       NaN          NaN\n",
       "2010-01-05          23.865055  0.000323     0.000323\n",
       "2010-01-06          23.718596 -0.006137    -0.006156\n",
       "2010-01-07          23.473471 -0.010335    -0.010389\n",
       "2010-01-08          23.633805  0.006830     0.006807"
      ]
     },
     "execution_count": 107,
     "metadata": {},
     "output_type": "execute_result"
    },
    {
     "data": {
      "application/javascript": "\n            setTimeout(function() {\n                var nbb_cell_id = 107;\n                var nbb_unformatted_code = \"df.head(5)\";\n                var nbb_formatted_code = \"df.head(5)\";\n                var nbb_cells = Jupyter.notebook.get_cells();\n                for (var i = 0; i < nbb_cells.length; ++i) {\n                    if (nbb_cells[i].input_prompt_number == nbb_cell_id) {\n                        if (nbb_cells[i].get_text() == nbb_unformatted_code) {\n                             nbb_cells[i].set_text(nbb_formatted_code);\n                        }\n                        break;\n                    }\n                }\n            }, 500);\n            ",
      "text/plain": [
       "<IPython.core.display.Javascript object>"
      ]
     },
     "metadata": {},
     "output_type": "display_data"
    }
   ],
   "source": [
    "df.head(5)"
   ]
  },
  {
   "cell_type": "code",
   "execution_count": 108,
   "metadata": {},
   "outputs": [
    {
     "data": {
      "application/javascript": "\n            setTimeout(function() {\n                var nbb_cell_id = 108;\n                var nbb_unformatted_code = \"val = np.array(ytrain[0])\\nval = np.c_[val, np.zeros(val.shape)]\";\n                var nbb_formatted_code = \"val = np.array(ytrain[0])\\nval = np.c_[val, np.zeros(val.shape)]\";\n                var nbb_cells = Jupyter.notebook.get_cells();\n                for (var i = 0; i < nbb_cells.length; ++i) {\n                    if (nbb_cells[i].input_prompt_number == nbb_cell_id) {\n                        if (nbb_cells[i].get_text() == nbb_unformatted_code) {\n                             nbb_cells[i].set_text(nbb_formatted_code);\n                        }\n                        break;\n                    }\n                }\n            }, 500);\n            ",
      "text/plain": [
       "<IPython.core.display.Javascript object>"
      ]
     },
     "metadata": {},
     "output_type": "display_data"
    }
   ],
   "source": [
    "val = np.array(ytrain[0])\n",
    "val = np.c_[val, np.zeros(val.shape)]"
   ]
  },
  {
   "cell_type": "code",
   "execution_count": 109,
   "metadata": {},
   "outputs": [
    {
     "data": {
      "text/plain": [
       "array([[22.7045227 , 17.89924835]])"
      ]
     },
     "execution_count": 109,
     "metadata": {},
     "output_type": "execute_result"
    },
    {
     "data": {
      "application/javascript": "\n            setTimeout(function() {\n                var nbb_cell_id = 109;\n                var nbb_unformatted_code = \"scaler.inverse_transform(val)\";\n                var nbb_formatted_code = \"scaler.inverse_transform(val)\";\n                var nbb_cells = Jupyter.notebook.get_cells();\n                for (var i = 0; i < nbb_cells.length; ++i) {\n                    if (nbb_cells[i].input_prompt_number == nbb_cell_id) {\n                        if (nbb_cells[i].get_text() == nbb_unformatted_code) {\n                             nbb_cells[i].set_text(nbb_formatted_code);\n                        }\n                        break;\n                    }\n                }\n            }, 500);\n            ",
      "text/plain": [
       "<IPython.core.display.Javascript object>"
      ]
     },
     "metadata": {},
     "output_type": "display_data"
    }
   ],
   "source": [
    "scaler.inverse_transform(val)"
   ]
  },
  {
   "cell_type": "markdown",
   "metadata": {},
   "source": [
    "In an LSTM network the input for each LSTM layer needs to contain the following information:\n",
    "- The number of observations\n",
    "- The time steps\n",
    "- The features\n",
    "\n",
    "Therefore we need to add a temporal dimension compared to a classical network:\n",
    "\n",
    "(number of observations, number of steps, number of features per step)"
   ]
  },
  {
   "cell_type": "code",
   "execution_count": 110,
   "metadata": {},
   "outputs": [
    {
     "data": {
      "application/javascript": "\n            setTimeout(function() {\n                var nbb_cell_id = 110;\n                var nbb_unformatted_code = \"Xtrain, ytrain = (np.array(Xtrain), np.array(ytrain))\\nXtrain = np.reshape(Xtrain, (Xtrain.shape[0], Xtrain.shape[1], Xtrain.shape[2]))\\n\\nXtest, ytest = (np.array(Xtest), np.array(ytest))\\nXtest = np.reshape(Xtest, (Xtest.shape[0], Xtest.shape[1], Xtest.shape[2]))\";\n                var nbb_formatted_code = \"Xtrain, ytrain = (np.array(Xtrain), np.array(ytrain))\\nXtrain = np.reshape(Xtrain, (Xtrain.shape[0], Xtrain.shape[1], Xtrain.shape[2]))\\n\\nXtest, ytest = (np.array(Xtest), np.array(ytest))\\nXtest = np.reshape(Xtest, (Xtest.shape[0], Xtest.shape[1], Xtest.shape[2]))\";\n                var nbb_cells = Jupyter.notebook.get_cells();\n                for (var i = 0; i < nbb_cells.length; ++i) {\n                    if (nbb_cells[i].input_prompt_number == nbb_cell_id) {\n                        if (nbb_cells[i].get_text() == nbb_unformatted_code) {\n                             nbb_cells[i].set_text(nbb_formatted_code);\n                        }\n                        break;\n                    }\n                }\n            }, 500);\n            ",
      "text/plain": [
       "<IPython.core.display.Javascript object>"
      ]
     },
     "metadata": {},
     "output_type": "display_data"
    }
   ],
   "source": [
    "Xtrain, ytrain = (np.array(Xtrain), np.array(ytrain))\n",
    "Xtrain = np.reshape(Xtrain, (Xtrain.shape[0], Xtrain.shape[1], Xtrain.shape[2]))\n",
    "\n",
    "Xtest, ytest = (np.array(Xtest), np.array(ytest))\n",
    "Xtest = np.reshape(Xtest, (Xtest.shape[0], Xtest.shape[1], Xtest.shape[2]))"
   ]
  },
  {
   "cell_type": "code",
   "execution_count": 111,
   "metadata": {
    "scrolled": true
   },
   "outputs": [
    {
     "name": "stdout",
     "output_type": "stream",
     "text": [
      "(2694, 63, 1)\n",
      "(2694,)\n",
      "---\n",
      "(244, 63, 1)\n",
      "(244,)\n"
     ]
    },
    {
     "data": {
      "application/javascript": "\n            setTimeout(function() {\n                var nbb_cell_id = 111;\n                var nbb_unformatted_code = \"print(Xtrain.shape)\\nprint(ytrain.shape)\\nprint(\\\"---\\\")\\nprint(Xtest.shape)\\nprint(ytest.shape)\";\n                var nbb_formatted_code = \"print(Xtrain.shape)\\nprint(ytrain.shape)\\nprint(\\\"---\\\")\\nprint(Xtest.shape)\\nprint(ytest.shape)\";\n                var nbb_cells = Jupyter.notebook.get_cells();\n                for (var i = 0; i < nbb_cells.length; ++i) {\n                    if (nbb_cells[i].input_prompt_number == nbb_cell_id) {\n                        if (nbb_cells[i].get_text() == nbb_unformatted_code) {\n                             nbb_cells[i].set_text(nbb_formatted_code);\n                        }\n                        break;\n                    }\n                }\n            }, 500);\n            ",
      "text/plain": [
       "<IPython.core.display.Javascript object>"
      ]
     },
     "metadata": {},
     "output_type": "display_data"
    }
   ],
   "source": [
    "print(Xtrain.shape)\n",
    "print(ytrain.shape)\n",
    "print(\"---\")\n",
    "print(Xtest.shape)\n",
    "print(ytest.shape)"
   ]
  },
  {
   "cell_type": "markdown",
   "metadata": {},
   "source": [
    "#### LSTM Model"
   ]
  },
  {
   "cell_type": "code",
   "execution_count": 112,
   "metadata": {},
   "outputs": [
    {
     "data": {
      "application/javascript": "\n            setTimeout(function() {\n                var nbb_cell_id = 112;\n                var nbb_unformatted_code = \"from keras.models import Sequential\\nfrom keras.layers import LSTM, Dense\";\n                var nbb_formatted_code = \"from keras.models import Sequential\\nfrom keras.layers import LSTM, Dense\";\n                var nbb_cells = Jupyter.notebook.get_cells();\n                for (var i = 0; i < nbb_cells.length; ++i) {\n                    if (nbb_cells[i].input_prompt_number == nbb_cell_id) {\n                        if (nbb_cells[i].get_text() == nbb_unformatted_code) {\n                             nbb_cells[i].set_text(nbb_formatted_code);\n                        }\n                        break;\n                    }\n                }\n            }, 500);\n            ",
      "text/plain": [
       "<IPython.core.display.Javascript object>"
      ]
     },
     "metadata": {},
     "output_type": "display_data"
    }
   ],
   "source": [
    "from keras.models import Sequential\n",
    "from keras.layers import LSTM, Dense"
   ]
  },
  {
   "cell_type": "code",
   "execution_count": 113,
   "metadata": {},
   "outputs": [
    {
     "data": {
      "application/javascript": "\n            setTimeout(function() {\n                var nbb_cell_id = 113;\n                var nbb_unformatted_code = \"results_path = Path('results', 'lstm')\\nif not results_path.exists():\\n    results_path.mkdir(parents=True)\";\n                var nbb_formatted_code = \"results_path = Path(\\\"results\\\", \\\"lstm\\\")\\nif not results_path.exists():\\n    results_path.mkdir(parents=True)\";\n                var nbb_cells = Jupyter.notebook.get_cells();\n                for (var i = 0; i < nbb_cells.length; ++i) {\n                    if (nbb_cells[i].input_prompt_number == nbb_cell_id) {\n                        if (nbb_cells[i].get_text() == nbb_unformatted_code) {\n                             nbb_cells[i].set_text(nbb_formatted_code);\n                        }\n                        break;\n                    }\n                }\n            }, 500);\n            ",
      "text/plain": [
       "<IPython.core.display.Javascript object>"
      ]
     },
     "metadata": {},
     "output_type": "display_data"
    }
   ],
   "source": [
    "results_path = Path('results', 'lstm')\n",
    "if not results_path.exists():\n",
    "    results_path.mkdir(parents=True)"
   ]
  },
  {
   "cell_type": "code",
   "execution_count": 114,
   "metadata": {},
   "outputs": [
    {
     "data": {
      "application/javascript": "\n            setTimeout(function() {\n                var nbb_cell_id = 114;\n                var nbb_unformatted_code = \"# MAX_EPOCHS = 500\\nMAX_EPOCHS = 100\\n# patience=50\\npatience=30\\n\\nlstm_path = (results_path / 'lstm.h5').as_posix()\\ncheckpointer = tf.keras.callbacks.ModelCheckpoint(filepath=lstm_path,\\n                               verbose=1,\\n                               monitor='val_loss',\\n                               save_best_only=True)\\n\\nlr_schedule = tf.keras.optimizers.schedules.ExponentialDecay(\\n    initial_learning_rate=1e-3,\\n    decay_steps=10000,\\n    decay_rate=0.9)\\n\\noptimizer = tf.keras.optimizers.RMSprop(learning_rate=0.001,\\n                                     # learning_rate=lr_schedule,\\n                                     rho=0.9,\\n                                     epsilon=1e-08,\\n                                     decay=0.0)\\n\\ndef compile_and_fit(model, patience=patience):\\n  early_stopping = tf.keras.callbacks.EarlyStopping(monitor='val_loss',\\n                                                    patience=patience,\\n                                                    mode='min',  \\n                                                    restore_best_weights=True)\\n\\n  model.compile(loss=tf.losses.MeanSquaredError(),\\n                optimizer=optimizer,\\n                metrics=[tf.losses.MeanAbsoluteError()])\\n\\n  history = model.fit(Xtrain, ytrain, epochs=MAX_EPOCHS,\\n                      validation_data=(Xtest, ytest),\\n                      callbacks=[early_stopping, checkpointer],\\n                      batch_size=32,\\n                      verbose=1)\\n  return history\";\n                var nbb_formatted_code = \"# MAX_EPOCHS = 500\\nMAX_EPOCHS = 100\\n# patience=50\\npatience = 30\\n\\nlstm_path = (results_path / \\\"lstm.h5\\\").as_posix()\\ncheckpointer = tf.keras.callbacks.ModelCheckpoint(\\n    filepath=lstm_path, verbose=1, monitor=\\\"val_loss\\\", save_best_only=True\\n)\\n\\nlr_schedule = tf.keras.optimizers.schedules.ExponentialDecay(\\n    initial_learning_rate=1e-3, decay_steps=10000, decay_rate=0.9\\n)\\n\\noptimizer = tf.keras.optimizers.RMSprop(\\n    learning_rate=0.001,\\n    # learning_rate=lr_schedule,\\n    rho=0.9,\\n    epsilon=1e-08,\\n    decay=0.0,\\n)\\n\\n\\ndef compile_and_fit(model, patience=patience):\\n    early_stopping = tf.keras.callbacks.EarlyStopping(\\n        monitor=\\\"val_loss\\\", patience=patience, mode=\\\"min\\\", restore_best_weights=True\\n    )\\n\\n    model.compile(\\n        loss=tf.losses.MeanSquaredError(),\\n        optimizer=optimizer,\\n        metrics=[tf.losses.MeanAbsoluteError()],\\n    )\\n\\n    history = model.fit(\\n        Xtrain,\\n        ytrain,\\n        epochs=MAX_EPOCHS,\\n        validation_data=(Xtest, ytest),\\n        callbacks=[early_stopping, checkpointer],\\n        batch_size=32,\\n        verbose=1,\\n    )\\n    return history\";\n                var nbb_cells = Jupyter.notebook.get_cells();\n                for (var i = 0; i < nbb_cells.length; ++i) {\n                    if (nbb_cells[i].input_prompt_number == nbb_cell_id) {\n                        if (nbb_cells[i].get_text() == nbb_unformatted_code) {\n                             nbb_cells[i].set_text(nbb_formatted_code);\n                        }\n                        break;\n                    }\n                }\n            }, 500);\n            ",
      "text/plain": [
       "<IPython.core.display.Javascript object>"
      ]
     },
     "metadata": {},
     "output_type": "display_data"
    }
   ],
   "source": [
    "# MAX_EPOCHS = 500\n",
    "MAX_EPOCHS = 100\n",
    "# patience=50\n",
    "patience=30\n",
    "\n",
    "lstm_path = (results_path / 'lstm.h5').as_posix()\n",
    "checkpointer = tf.keras.callbacks.ModelCheckpoint(filepath=lstm_path,\n",
    "                               verbose=1,\n",
    "                               monitor='val_loss',\n",
    "                               save_best_only=True)\n",
    "\n",
    "lr_schedule = tf.keras.optimizers.schedules.ExponentialDecay(\n",
    "    initial_learning_rate=1e-3,\n",
    "    decay_steps=10000,\n",
    "    decay_rate=0.9)\n",
    "\n",
    "optimizer = tf.keras.optimizers.RMSprop(learning_rate=0.001,\n",
    "                                     # learning_rate=lr_schedule,\n",
    "                                     rho=0.9,\n",
    "                                     epsilon=1e-08,\n",
    "                                     decay=0.0)\n",
    "\n",
    "def compile_and_fit(model, patience=patience):\n",
    "  early_stopping = tf.keras.callbacks.EarlyStopping(monitor='val_loss',\n",
    "                                                    patience=patience,\n",
    "                                                    mode='min',  \n",
    "                                                    restore_best_weights=True)\n",
    "\n",
    "  model.compile(loss=tf.losses.MeanSquaredError(),\n",
    "                optimizer=optimizer,\n",
    "                metrics=[tf.losses.MeanAbsoluteError()])\n",
    "\n",
    "  history = model.fit(Xtrain, ytrain, epochs=MAX_EPOCHS,\n",
    "                      validation_data=(Xtest, ytest),\n",
    "                      callbacks=[early_stopping, checkpointer],\n",
    "                      batch_size=32,\n",
    "                      verbose=1)\n",
    "  return history\n"
   ]
  },
  {
   "cell_type": "code",
   "execution_count": 115,
   "metadata": {},
   "outputs": [
    {
     "data": {
      "application/javascript": "\n            setTimeout(function() {\n                var nbb_cell_id = 115;\n                var nbb_unformatted_code = \"from keras.layers import Dropout\";\n                var nbb_formatted_code = \"from keras.layers import Dropout\";\n                var nbb_cells = Jupyter.notebook.get_cells();\n                for (var i = 0; i < nbb_cells.length; ++i) {\n                    if (nbb_cells[i].input_prompt_number == nbb_cell_id) {\n                        if (nbb_cells[i].get_text() == nbb_unformatted_code) {\n                             nbb_cells[i].set_text(nbb_formatted_code);\n                        }\n                        break;\n                    }\n                }\n            }, 500);\n            ",
      "text/plain": [
       "<IPython.core.display.Javascript object>"
      ]
     },
     "metadata": {},
     "output_type": "display_data"
    }
   ],
   "source": [
    "from keras.layers import Dropout"
   ]
  },
  {
   "cell_type": "code",
   "execution_count": 116,
   "metadata": {
    "scrolled": true
   },
   "outputs": [
    {
     "data": {
      "application/javascript": "\n            setTimeout(function() {\n                var nbb_cell_id = 116;\n                var nbb_unformatted_code = \"model = Sequential([\\n    LSTM(units=64, \\n         input_shape=(Xtrain.shape[1], Xtrain.shape[2]), name='LSTM'),\\n    Dense(1, name='Output')\\n])\";\n                var nbb_formatted_code = \"model = Sequential(\\n    [\\n        LSTM(units=64, input_shape=(Xtrain.shape[1], Xtrain.shape[2]), name=\\\"LSTM\\\"),\\n        Dense(1, name=\\\"Output\\\"),\\n    ]\\n)\";\n                var nbb_cells = Jupyter.notebook.get_cells();\n                for (var i = 0; i < nbb_cells.length; ++i) {\n                    if (nbb_cells[i].input_prompt_number == nbb_cell_id) {\n                        if (nbb_cells[i].get_text() == nbb_unformatted_code) {\n                             nbb_cells[i].set_text(nbb_formatted_code);\n                        }\n                        break;\n                    }\n                }\n            }, 500);\n            ",
      "text/plain": [
       "<IPython.core.display.Javascript object>"
      ]
     },
     "metadata": {},
     "output_type": "display_data"
    }
   ],
   "source": [
    "model = Sequential([\n",
    "    LSTM(units=64, \n",
    "         input_shape=(Xtrain.shape[1], Xtrain.shape[2]), name='LSTM'),\n",
    "    Dense(1, name='Output')\n",
    "])"
   ]
  },
  {
   "cell_type": "code",
   "execution_count": 117,
   "metadata": {},
   "outputs": [
    {
     "name": "stdout",
     "output_type": "stream",
     "text": [
      "Epoch 1/100\n",
      "82/85 [===========================>..] - ETA: 0s - loss: 0.0013 - mean_absolute_error: 0.0181\n",
      "Epoch 1: val_loss improved from inf to 0.03705, saving model to results/lstm/lstm.h5\n",
      "85/85 [==============================] - 4s 22ms/step - loss: 0.0013 - mean_absolute_error: 0.0179 - val_loss: 0.0370 - val_mean_absolute_error: 0.1896\n",
      "Epoch 2/100\n",
      "82/85 [===========================>..] - ETA: 0s - loss: 2.7794e-04 - mean_absolute_error: 0.0106\n",
      "Epoch 2: val_loss improved from 0.03705 to 0.00123, saving model to results/lstm/lstm.h5\n",
      "85/85 [==============================] - 1s 15ms/step - loss: 2.8092e-04 - mean_absolute_error: 0.0108 - val_loss: 0.0012 - val_mean_absolute_error: 0.0294\n",
      "Epoch 3/100\n",
      "85/85 [==============================] - ETA: 0s - loss: 1.8366e-04 - mean_absolute_error: 0.0086\n",
      "Epoch 3: val_loss did not improve from 0.00123\n",
      "85/85 [==============================] - 1s 16ms/step - loss: 1.8366e-04 - mean_absolute_error: 0.0086 - val_loss: 0.0055 - val_mean_absolute_error: 0.0707\n",
      "Epoch 4/100\n",
      "82/85 [===========================>..] - ETA: 0s - loss: 1.5921e-04 - mean_absolute_error: 0.0086\n",
      "Epoch 4: val_loss did not improve from 0.00123\n",
      "85/85 [==============================] - 1s 17ms/step - loss: 1.5917e-04 - mean_absolute_error: 0.0086 - val_loss: 0.0028 - val_mean_absolute_error: 0.0493\n",
      "Epoch 5/100\n",
      "84/85 [============================>.] - ETA: 0s - loss: 1.2797e-04 - mean_absolute_error: 0.0079\n",
      "Epoch 5: val_loss did not improve from 0.00123\n",
      "85/85 [==============================] - 1s 16ms/step - loss: 1.2822e-04 - mean_absolute_error: 0.0079 - val_loss: 0.0084 - val_mean_absolute_error: 0.0899\n",
      "Epoch 6/100\n",
      "85/85 [==============================] - ETA: 0s - loss: 1.1930e-04 - mean_absolute_error: 0.0074\n",
      "Epoch 6: val_loss improved from 0.00123 to 0.00053, saving model to results/lstm/lstm.h5\n",
      "85/85 [==============================] - 1s 16ms/step - loss: 1.1930e-04 - mean_absolute_error: 0.0074 - val_loss: 5.2582e-04 - val_mean_absolute_error: 0.0187\n",
      "Epoch 7/100\n",
      "85/85 [==============================] - ETA: 0s - loss: 1.1801e-04 - mean_absolute_error: 0.0072\n",
      "Epoch 7: val_loss improved from 0.00053 to 0.00037, saving model to results/lstm/lstm.h5\n",
      "85/85 [==============================] - 1s 16ms/step - loss: 1.1801e-04 - mean_absolute_error: 0.0072 - val_loss: 3.6992e-04 - val_mean_absolute_error: 0.0155\n",
      "Epoch 8/100\n",
      "84/85 [============================>.] - ETA: 0s - loss: 1.0293e-04 - mean_absolute_error: 0.0068\n",
      "Epoch 8: val_loss did not improve from 0.00037\n",
      "85/85 [==============================] - 1s 17ms/step - loss: 1.0272e-04 - mean_absolute_error: 0.0068 - val_loss: 4.4718e-04 - val_mean_absolute_error: 0.0172\n",
      "Epoch 9/100\n",
      "84/85 [============================>.] - ETA: 0s - loss: 9.7894e-05 - mean_absolute_error: 0.0061\n",
      "Epoch 9: val_loss did not improve from 0.00037\n",
      "85/85 [==============================] - 1s 16ms/step - loss: 9.7798e-05 - mean_absolute_error: 0.0061 - val_loss: 5.5608e-04 - val_mean_absolute_error: 0.0196\n",
      "Epoch 10/100\n",
      "84/85 [============================>.] - ETA: 0s - loss: 9.7671e-05 - mean_absolute_error: 0.0067\n",
      "Epoch 10: val_loss improved from 0.00037 to 0.00028, saving model to results/lstm/lstm.h5\n",
      "85/85 [==============================] - 1s 15ms/step - loss: 9.7464e-05 - mean_absolute_error: 0.0066 - val_loss: 2.7811e-04 - val_mean_absolute_error: 0.0134\n",
      "Epoch 11/100\n",
      "83/85 [============================>.] - ETA: 0s - loss: 8.7266e-05 - mean_absolute_error: 0.0064\n",
      "Epoch 11: val_loss did not improve from 0.00028\n",
      "85/85 [==============================] - 2s 18ms/step - loss: 8.6860e-05 - mean_absolute_error: 0.0064 - val_loss: 8.0416e-04 - val_mean_absolute_error: 0.0249\n",
      "Epoch 12/100\n",
      "82/85 [===========================>..] - ETA: 0s - loss: 8.5884e-05 - mean_absolute_error: 0.0064\n",
      "Epoch 12: val_loss did not improve from 0.00028\n",
      "85/85 [==============================] - 1s 17ms/step - loss: 8.7049e-05 - mean_absolute_error: 0.0065 - val_loss: 0.0041 - val_mean_absolute_error: 0.0622\n",
      "Epoch 13/100\n",
      "83/85 [============================>.] - ETA: 0s - loss: 8.5336e-05 - mean_absolute_error: 0.0061\n",
      "Epoch 13: val_loss improved from 0.00028 to 0.00024, saving model to results/lstm/lstm.h5\n",
      "85/85 [==============================] - 1s 16ms/step - loss: 8.4391e-05 - mean_absolute_error: 0.0060 - val_loss: 2.4033e-04 - val_mean_absolute_error: 0.0122\n",
      "Epoch 14/100\n",
      "83/85 [============================>.] - ETA: 0s - loss: 7.6024e-05 - mean_absolute_error: 0.0062\n",
      "Epoch 14: val_loss did not improve from 0.00024\n",
      "85/85 [==============================] - 1s 18ms/step - loss: 7.5498e-05 - mean_absolute_error: 0.0061 - val_loss: 4.8630e-04 - val_mean_absolute_error: 0.0187\n",
      "Epoch 15/100\n",
      "82/85 [===========================>..] - ETA: 0s - loss: 7.4755e-05 - mean_absolute_error: 0.0058\n",
      "Epoch 15: val_loss improved from 0.00024 to 0.00022, saving model to results/lstm/lstm.h5\n",
      "85/85 [==============================] - 1s 18ms/step - loss: 7.3457e-05 - mean_absolute_error: 0.0057 - val_loss: 2.2278e-04 - val_mean_absolute_error: 0.0118\n",
      "Epoch 16/100\n",
      "82/85 [===========================>..] - ETA: 0s - loss: 7.8333e-05 - mean_absolute_error: 0.0056\n",
      "Epoch 16: val_loss improved from 0.00022 to 0.00021, saving model to results/lstm/lstm.h5\n",
      "85/85 [==============================] - 1s 16ms/step - loss: 7.7942e-05 - mean_absolute_error: 0.0055 - val_loss: 2.0851e-04 - val_mean_absolute_error: 0.0115\n",
      "Epoch 17/100\n",
      "83/85 [============================>.] - ETA: 0s - loss: 7.0337e-05 - mean_absolute_error: 0.0056\n",
      "Epoch 17: val_loss did not improve from 0.00021\n",
      "85/85 [==============================] - 1s 15ms/step - loss: 7.1242e-05 - mean_absolute_error: 0.0057 - val_loss: 0.0026 - val_mean_absolute_error: 0.0489\n",
      "Epoch 18/100\n",
      "82/85 [===========================>..] - ETA: 0s - loss: 6.5760e-05 - mean_absolute_error: 0.0053\n",
      "Epoch 18: val_loss improved from 0.00021 to 0.00021, saving model to results/lstm/lstm.h5\n",
      "85/85 [==============================] - 1s 17ms/step - loss: 6.8510e-05 - mean_absolute_error: 0.0054 - val_loss: 2.0733e-04 - val_mean_absolute_error: 0.0113\n",
      "Epoch 19/100\n",
      "82/85 [===========================>..] - ETA: 0s - loss: 6.2396e-05 - mean_absolute_error: 0.0053\n",
      "Epoch 19: val_loss did not improve from 0.00021\n",
      "85/85 [==============================] - 2s 19ms/step - loss: 6.2826e-05 - mean_absolute_error: 0.0053 - val_loss: 4.7382e-04 - val_mean_absolute_error: 0.0185\n",
      "Epoch 20/100\n",
      "85/85 [==============================] - ETA: 0s - loss: 6.7807e-05 - mean_absolute_error: 0.0055\n",
      "Epoch 20: val_loss did not improve from 0.00021\n",
      "85/85 [==============================] - 1s 16ms/step - loss: 6.7807e-05 - mean_absolute_error: 0.0055 - val_loss: 7.7279e-04 - val_mean_absolute_error: 0.0245\n",
      "Epoch 21/100\n",
      "83/85 [============================>.] - ETA: 0s - loss: 6.3466e-05 - mean_absolute_error: 0.0053\n",
      "Epoch 21: val_loss did not improve from 0.00021\n",
      "85/85 [==============================] - 1s 16ms/step - loss: 6.3360e-05 - mean_absolute_error: 0.0054 - val_loss: 0.0029 - val_mean_absolute_error: 0.0517\n",
      "Epoch 22/100\n",
      "83/85 [============================>.] - ETA: 0s - loss: 6.7524e-05 - mean_absolute_error: 0.0053\n",
      "Epoch 22: val_loss improved from 0.00021 to 0.00020, saving model to results/lstm/lstm.h5\n",
      "85/85 [==============================] - 1s 18ms/step - loss: 6.6931e-05 - mean_absolute_error: 0.0053 - val_loss: 2.0155e-04 - val_mean_absolute_error: 0.0114\n",
      "Epoch 23/100\n",
      "83/85 [============================>.] - ETA: 0s - loss: 6.4700e-05 - mean_absolute_error: 0.0053\n",
      "Epoch 23: val_loss did not improve from 0.00020\n",
      "85/85 [==============================] - 1s 16ms/step - loss: 6.4228e-05 - mean_absolute_error: 0.0053 - val_loss: 2.7884e-04 - val_mean_absolute_error: 0.0137\n",
      "Epoch 24/100\n",
      "85/85 [==============================] - ETA: 0s - loss: 6.0509e-05 - mean_absolute_error: 0.0050\n",
      "Epoch 24: val_loss improved from 0.00020 to 0.00019, saving model to results/lstm/lstm.h5\n",
      "85/85 [==============================] - 1s 16ms/step - loss: 6.0509e-05 - mean_absolute_error: 0.0050 - val_loss: 1.8614e-04 - val_mean_absolute_error: 0.0108\n",
      "Epoch 25/100\n",
      "85/85 [==============================] - ETA: 0s - loss: 6.4123e-05 - mean_absolute_error: 0.0050\n",
      "Epoch 25: val_loss did not improve from 0.00019\n",
      "85/85 [==============================] - 2s 18ms/step - loss: 6.4123e-05 - mean_absolute_error: 0.0050 - val_loss: 2.3079e-04 - val_mean_absolute_error: 0.0123\n",
      "Epoch 26/100\n",
      "83/85 [============================>.] - ETA: 0s - loss: 5.7996e-05 - mean_absolute_error: 0.0051\n",
      "Epoch 26: val_loss did not improve from 0.00019\n",
      "85/85 [==============================] - 1s 17ms/step - loss: 5.8414e-05 - mean_absolute_error: 0.0051 - val_loss: 2.6398e-04 - val_mean_absolute_error: 0.0133\n",
      "Epoch 27/100\n",
      "85/85 [==============================] - ETA: 0s - loss: 5.7359e-05 - mean_absolute_error: 0.0052\n",
      "Epoch 27: val_loss did not improve from 0.00019\n",
      "85/85 [==============================] - 1s 17ms/step - loss: 5.7359e-05 - mean_absolute_error: 0.0052 - val_loss: 0.0031 - val_mean_absolute_error: 0.0540\n",
      "Epoch 28/100\n",
      "84/85 [============================>.] - ETA: 0s - loss: 5.8104e-05 - mean_absolute_error: 0.0051\n",
      "Epoch 28: val_loss improved from 0.00019 to 0.00018, saving model to results/lstm/lstm.h5\n",
      "85/85 [==============================] - 2s 21ms/step - loss: 5.7991e-05 - mean_absolute_error: 0.0051 - val_loss: 1.7815e-04 - val_mean_absolute_error: 0.0105\n",
      "Epoch 29/100\n",
      "82/85 [===========================>..] - ETA: 0s - loss: 5.9345e-05 - mean_absolute_error: 0.0051\n",
      "Epoch 29: val_loss did not improve from 0.00018\n",
      "85/85 [==============================] - 1s 17ms/step - loss: 5.8352e-05 - mean_absolute_error: 0.0050 - val_loss: 1.8016e-04 - val_mean_absolute_error: 0.0106\n",
      "Epoch 30/100\n",
      "82/85 [===========================>..] - ETA: 0s - loss: 5.7785e-05 - mean_absolute_error: 0.0050\n",
      "Epoch 30: val_loss improved from 0.00018 to 0.00018, saving model to results/lstm/lstm.h5\n",
      "85/85 [==============================] - 2s 18ms/step - loss: 5.7029e-05 - mean_absolute_error: 0.0049 - val_loss: 1.7589e-04 - val_mean_absolute_error: 0.0104\n",
      "Epoch 31/100\n",
      "85/85 [==============================] - ETA: 0s - loss: 5.6437e-05 - mean_absolute_error: 0.0051\n",
      "Epoch 31: val_loss did not improve from 0.00018\n",
      "85/85 [==============================] - 2s 18ms/step - loss: 5.6437e-05 - mean_absolute_error: 0.0051 - val_loss: 2.4924e-04 - val_mean_absolute_error: 0.0129\n",
      "Epoch 32/100\n",
      "85/85 [==============================] - ETA: 0s - loss: 5.5862e-05 - mean_absolute_error: 0.0049\n",
      "Epoch 32: val_loss did not improve from 0.00018\n",
      "85/85 [==============================] - 1s 17ms/step - loss: 5.5862e-05 - mean_absolute_error: 0.0049 - val_loss: 0.0029 - val_mean_absolute_error: 0.0522\n",
      "Epoch 33/100\n",
      "84/85 [============================>.] - ETA: 0s - loss: 5.4920e-05 - mean_absolute_error: 0.0049\n",
      "Epoch 33: val_loss did not improve from 0.00018\n",
      "85/85 [==============================] - 1s 16ms/step - loss: 5.4880e-05 - mean_absolute_error: 0.0049 - val_loss: 3.5378e-04 - val_mean_absolute_error: 0.0159\n",
      "Epoch 34/100\n",
      "83/85 [============================>.] - ETA: 0s - loss: 5.4498e-05 - mean_absolute_error: 0.0050\n",
      "Epoch 34: val_loss did not improve from 0.00018\n",
      "85/85 [==============================] - 1s 17ms/step - loss: 5.6401e-05 - mean_absolute_error: 0.0051 - val_loss: 2.2902e-04 - val_mean_absolute_error: 0.0123\n",
      "Epoch 35/100\n",
      "84/85 [============================>.] - ETA: 0s - loss: 5.5089e-05 - mean_absolute_error: 0.0048\n",
      "Epoch 35: val_loss did not improve from 0.00018\n",
      "85/85 [==============================] - 2s 19ms/step - loss: 5.4971e-05 - mean_absolute_error: 0.0047 - val_loss: 1.7882e-04 - val_mean_absolute_error: 0.0104\n",
      "Epoch 36/100\n",
      "84/85 [============================>.] - ETA: 0s - loss: 5.4436e-05 - mean_absolute_error: 0.0049\n",
      "Epoch 36: val_loss did not improve from 0.00018\n",
      "85/85 [==============================] - 2s 19ms/step - loss: 5.4362e-05 - mean_absolute_error: 0.0049 - val_loss: 3.0820e-04 - val_mean_absolute_error: 0.0147\n",
      "Epoch 37/100\n",
      "82/85 [===========================>..] - ETA: 0s - loss: 5.1919e-05 - mean_absolute_error: 0.0046\n",
      "Epoch 37: val_loss did not improve from 0.00018\n",
      "85/85 [==============================] - 2s 19ms/step - loss: 5.1116e-05 - mean_absolute_error: 0.0046 - val_loss: 2.0285e-04 - val_mean_absolute_error: 0.0112\n",
      "Epoch 38/100\n",
      "82/85 [===========================>..] - ETA: 0s - loss: 5.3213e-05 - mean_absolute_error: 0.0049\n",
      "Epoch 38: val_loss did not improve from 0.00018\n",
      "85/85 [==============================] - 2s 19ms/step - loss: 5.2093e-05 - mean_absolute_error: 0.0047 - val_loss: 2.3915e-04 - val_mean_absolute_error: 0.0126\n",
      "Epoch 39/100\n",
      "84/85 [============================>.] - ETA: 0s - loss: 4.9551e-05 - mean_absolute_error: 0.0046\n",
      "Epoch 39: val_loss did not improve from 0.00018\n",
      "85/85 [==============================] - 2s 19ms/step - loss: 4.9751e-05 - mean_absolute_error: 0.0047 - val_loss: 0.0017 - val_mean_absolute_error: 0.0388\n",
      "Epoch 40/100\n",
      "82/85 [===========================>..] - ETA: 0s - loss: 5.3993e-05 - mean_absolute_error: 0.0047\n",
      "Epoch 40: val_loss did not improve from 0.00018\n",
      "85/85 [==============================] - 1s 16ms/step - loss: 5.3842e-05 - mean_absolute_error: 0.0047 - val_loss: 2.2541e-04 - val_mean_absolute_error: 0.0122\n",
      "Epoch 41/100\n",
      "85/85 [==============================] - ETA: 0s - loss: 4.9764e-05 - mean_absolute_error: 0.0046\n",
      "Epoch 41: val_loss did not improve from 0.00018\n",
      "85/85 [==============================] - 2s 19ms/step - loss: 4.9764e-05 - mean_absolute_error: 0.0046 - val_loss: 2.0980e-04 - val_mean_absolute_error: 0.0116\n",
      "Epoch 42/100\n",
      "82/85 [===========================>..] - ETA: 0s - loss: 5.2518e-05 - mean_absolute_error: 0.0047\n",
      "Epoch 42: val_loss did not improve from 0.00018\n",
      "85/85 [==============================] - 1s 16ms/step - loss: 5.4275e-05 - mean_absolute_error: 0.0048 - val_loss: 4.2398e-04 - val_mean_absolute_error: 0.0174\n",
      "Epoch 43/100\n",
      "83/85 [============================>.] - ETA: 0s - loss: 5.1318e-05 - mean_absolute_error: 0.0047\n",
      "Epoch 43: val_loss did not improve from 0.00018\n",
      "85/85 [==============================] - 1s 16ms/step - loss: 5.0797e-05 - mean_absolute_error: 0.0046 - val_loss: 1.7596e-04 - val_mean_absolute_error: 0.0104\n",
      "Epoch 44/100\n",
      "84/85 [============================>.] - ETA: 0s - loss: 4.9961e-05 - mean_absolute_error: 0.0047\n",
      "Epoch 44: val_loss did not improve from 0.00018\n",
      "85/85 [==============================] - 1s 17ms/step - loss: 5.0191e-05 - mean_absolute_error: 0.0047 - val_loss: 7.6942e-04 - val_mean_absolute_error: 0.0249\n",
      "Epoch 45/100\n",
      "82/85 [===========================>..] - ETA: 0s - loss: 4.7099e-05 - mean_absolute_error: 0.0043\n",
      "Epoch 45: val_loss did not improve from 0.00018\n",
      "85/85 [==============================] - 1s 18ms/step - loss: 4.7996e-05 - mean_absolute_error: 0.0044 - val_loss: 8.4917e-04 - val_mean_absolute_error: 0.0263\n",
      "Epoch 46/100\n",
      "85/85 [==============================] - ETA: 0s - loss: 5.1045e-05 - mean_absolute_error: 0.0047\n",
      "Epoch 46: val_loss did not improve from 0.00018\n",
      "85/85 [==============================] - 2s 18ms/step - loss: 5.1045e-05 - mean_absolute_error: 0.0047 - val_loss: 7.1551e-04 - val_mean_absolute_error: 0.0239\n",
      "Epoch 47/100\n",
      "84/85 [============================>.] - ETA: 0s - loss: 4.8054e-05 - mean_absolute_error: 0.0045\n",
      "Epoch 47: val_loss did not improve from 0.00018\n",
      "85/85 [==============================] - 1s 17ms/step - loss: 4.7954e-05 - mean_absolute_error: 0.0045 - val_loss: 2.1414e-04 - val_mean_absolute_error: 0.0118\n",
      "Epoch 48/100\n",
      "82/85 [===========================>..] - ETA: 0s - loss: 4.3332e-05 - mean_absolute_error: 0.0044\n",
      "Epoch 48: val_loss did not improve from 0.00018\n",
      "85/85 [==============================] - 2s 18ms/step - loss: 4.3843e-05 - mean_absolute_error: 0.0045 - val_loss: 4.8373e-04 - val_mean_absolute_error: 0.0191\n",
      "Epoch 49/100\n",
      "84/85 [============================>.] - ETA: 0s - loss: 4.9824e-05 - mean_absolute_error: 0.0045\n",
      "Epoch 49: val_loss did not improve from 0.00018\n",
      "85/85 [==============================] - 2s 21ms/step - loss: 4.9879e-05 - mean_absolute_error: 0.0045 - val_loss: 3.7289e-04 - val_mean_absolute_error: 0.0162\n",
      "Epoch 50/100\n",
      "85/85 [==============================] - ETA: 0s - loss: 4.9137e-05 - mean_absolute_error: 0.0044\n",
      "Epoch 50: val_loss did not improve from 0.00018\n",
      "85/85 [==============================] - 1s 17ms/step - loss: 4.9137e-05 - mean_absolute_error: 0.0044 - val_loss: 2.6212e-04 - val_mean_absolute_error: 0.0130\n",
      "Epoch 51/100\n",
      "83/85 [============================>.] - ETA: 0s - loss: 4.9141e-05 - mean_absolute_error: 0.0045\n",
      "Epoch 51: val_loss improved from 0.00018 to 0.00017, saving model to results/lstm/lstm.h5\n",
      "85/85 [==============================] - 2s 18ms/step - loss: 5.0075e-05 - mean_absolute_error: 0.0046 - val_loss: 1.7323e-04 - val_mean_absolute_error: 0.0103\n",
      "Epoch 52/100\n",
      "82/85 [===========================>..] - ETA: 0s - loss: 4.4770e-05 - mean_absolute_error: 0.0044\n",
      "Epoch 52: val_loss did not improve from 0.00017\n",
      "85/85 [==============================] - 2s 19ms/step - loss: 4.4647e-05 - mean_absolute_error: 0.0044 - val_loss: 0.0023 - val_mean_absolute_error: 0.0461\n",
      "Epoch 53/100\n",
      "85/85 [==============================] - ETA: 0s - loss: 4.7367e-05 - mean_absolute_error: 0.0045\n",
      "Epoch 53: val_loss did not improve from 0.00017\n",
      "85/85 [==============================] - 1s 17ms/step - loss: 4.7367e-05 - mean_absolute_error: 0.0045 - val_loss: 2.7822e-04 - val_mean_absolute_error: 0.0138\n",
      "Epoch 54/100\n",
      "84/85 [============================>.] - ETA: 0s - loss: 4.5864e-05 - mean_absolute_error: 0.0044\n",
      "Epoch 54: val_loss did not improve from 0.00017\n",
      "85/85 [==============================] - 2s 18ms/step - loss: 4.5887e-05 - mean_absolute_error: 0.0045 - val_loss: 0.0015 - val_mean_absolute_error: 0.0363\n",
      "Epoch 55/100\n",
      "84/85 [============================>.] - ETA: 0s - loss: 4.9917e-05 - mean_absolute_error: 0.0044\n",
      "Epoch 55: val_loss did not improve from 0.00017\n",
      "85/85 [==============================] - 2s 18ms/step - loss: 4.9822e-05 - mean_absolute_error: 0.0044 - val_loss: 2.4828e-04 - val_mean_absolute_error: 0.0129\n",
      "Epoch 56/100\n",
      "82/85 [===========================>..] - ETA: 0s - loss: 4.3852e-05 - mean_absolute_error: 0.0043\n",
      "Epoch 56: val_loss did not improve from 0.00017\n",
      "85/85 [==============================] - 1s 16ms/step - loss: 4.3817e-05 - mean_absolute_error: 0.0043 - val_loss: 2.0895e-04 - val_mean_absolute_error: 0.0116\n",
      "Epoch 57/100\n",
      "85/85 [==============================] - ETA: 0s - loss: 4.5353e-05 - mean_absolute_error: 0.0044\n",
      "Epoch 57: val_loss did not improve from 0.00017\n",
      "85/85 [==============================] - 2s 18ms/step - loss: 4.5353e-05 - mean_absolute_error: 0.0044 - val_loss: 3.4082e-04 - val_mean_absolute_error: 0.0156\n",
      "Epoch 58/100\n",
      "82/85 [===========================>..] - ETA: 0s - loss: 4.4190e-05 - mean_absolute_error: 0.0043\n",
      "Epoch 58: val_loss did not improve from 0.00017\n",
      "85/85 [==============================] - 2s 18ms/step - loss: 4.3338e-05 - mean_absolute_error: 0.0042 - val_loss: 1.8742e-04 - val_mean_absolute_error: 0.0108\n",
      "Epoch 59/100\n",
      "82/85 [===========================>..] - ETA: 0s - loss: 4.5033e-05 - mean_absolute_error: 0.0042\n",
      "Epoch 59: val_loss did not improve from 0.00017\n",
      "85/85 [==============================] - 2s 19ms/step - loss: 4.4609e-05 - mean_absolute_error: 0.0042 - val_loss: 2.5926e-04 - val_mean_absolute_error: 0.0133\n",
      "Epoch 60/100\n",
      "82/85 [===========================>..] - ETA: 0s - loss: 4.6575e-05 - mean_absolute_error: 0.0043\n",
      "Epoch 60: val_loss did not improve from 0.00017\n",
      "85/85 [==============================] - 2s 18ms/step - loss: 4.6270e-05 - mean_absolute_error: 0.0043 - val_loss: 1.7792e-04 - val_mean_absolute_error: 0.0104\n",
      "Epoch 61/100\n",
      "85/85 [==============================] - ETA: 0s - loss: 4.3196e-05 - mean_absolute_error: 0.0042\n",
      "Epoch 61: val_loss did not improve from 0.00017\n",
      "85/85 [==============================] - 1s 17ms/step - loss: 4.3196e-05 - mean_absolute_error: 0.0042 - val_loss: 2.2579e-04 - val_mean_absolute_error: 0.0122\n",
      "Epoch 62/100\n",
      "85/85 [==============================] - ETA: 0s - loss: 4.6846e-05 - mean_absolute_error: 0.0043\n",
      "Epoch 62: val_loss did not improve from 0.00017\n",
      "85/85 [==============================] - 1s 16ms/step - loss: 4.6846e-05 - mean_absolute_error: 0.0043 - val_loss: 2.5374e-04 - val_mean_absolute_error: 0.0127\n",
      "Epoch 63/100\n",
      "84/85 [============================>.] - ETA: 0s - loss: 4.2477e-05 - mean_absolute_error: 0.0042\n",
      "Epoch 63: val_loss did not improve from 0.00017\n",
      "85/85 [==============================] - 1s 18ms/step - loss: 4.2602e-05 - mean_absolute_error: 0.0043 - val_loss: 6.3907e-04 - val_mean_absolute_error: 0.0224\n",
      "Epoch 64/100\n",
      "85/85 [==============================] - ETA: 0s - loss: 4.2954e-05 - mean_absolute_error: 0.0042\n",
      "Epoch 64: val_loss did not improve from 0.00017\n",
      "85/85 [==============================] - 1s 17ms/step - loss: 4.2954e-05 - mean_absolute_error: 0.0042 - val_loss: 3.1088e-04 - val_mean_absolute_error: 0.0148\n",
      "Epoch 65/100\n",
      "84/85 [============================>.] - ETA: 0s - loss: 4.2127e-05 - mean_absolute_error: 0.0041\n",
      "Epoch 65: val_loss did not improve from 0.00017\n",
      "85/85 [==============================] - 1s 17ms/step - loss: 4.2327e-05 - mean_absolute_error: 0.0042 - val_loss: 8.1801e-04 - val_mean_absolute_error: 0.0260\n",
      "Epoch 66/100\n",
      "85/85 [==============================] - ETA: 0s - loss: 4.0691e-05 - mean_absolute_error: 0.0042\n",
      "Epoch 66: val_loss did not improve from 0.00017\n",
      "85/85 [==============================] - 2s 19ms/step - loss: 4.0691e-05 - mean_absolute_error: 0.0042 - val_loss: 2.9361e-04 - val_mean_absolute_error: 0.0143\n",
      "Epoch 67/100\n",
      "84/85 [============================>.] - ETA: 0s - loss: 4.4150e-05 - mean_absolute_error: 0.0041\n",
      "Epoch 67: val_loss did not improve from 0.00017\n",
      "85/85 [==============================] - 1s 17ms/step - loss: 4.4064e-05 - mean_absolute_error: 0.0041 - val_loss: 2.9977e-04 - val_mean_absolute_error: 0.0144\n",
      "Epoch 68/100\n",
      "85/85 [==============================] - ETA: 0s - loss: 4.4775e-05 - mean_absolute_error: 0.0042\n",
      "Epoch 68: val_loss did not improve from 0.00017\n",
      "85/85 [==============================] - 2s 22ms/step - loss: 4.4775e-05 - mean_absolute_error: 0.0042 - val_loss: 2.4663e-04 - val_mean_absolute_error: 0.0129\n",
      "Epoch 69/100\n",
      "84/85 [============================>.] - ETA: 0s - loss: 4.2913e-05 - mean_absolute_error: 0.0042\n",
      "Epoch 69: val_loss did not improve from 0.00017\n",
      "85/85 [==============================] - 2s 19ms/step - loss: 4.3430e-05 - mean_absolute_error: 0.0043 - val_loss: 0.0011 - val_mean_absolute_error: 0.0302\n",
      "Epoch 70/100\n",
      "82/85 [===========================>..] - ETA: 0s - loss: 4.1717e-05 - mean_absolute_error: 0.0040\n",
      "Epoch 70: val_loss did not improve from 0.00017\n",
      "85/85 [==============================] - 1s 17ms/step - loss: 4.1623e-05 - mean_absolute_error: 0.0040 - val_loss: 3.3642e-04 - val_mean_absolute_error: 0.0155\n",
      "Epoch 71/100\n",
      "82/85 [===========================>..] - ETA: 0s - loss: 4.2200e-05 - mean_absolute_error: 0.0042\n",
      "Epoch 71: val_loss did not improve from 0.00017\n",
      "85/85 [==============================] - 2s 18ms/step - loss: 4.1533e-05 - mean_absolute_error: 0.0041 - val_loss: 2.2104e-04 - val_mean_absolute_error: 0.0117\n",
      "Epoch 72/100\n",
      "82/85 [===========================>..] - ETA: 0s - loss: 4.1962e-05 - mean_absolute_error: 0.0041\n",
      "Epoch 72: val_loss did not improve from 0.00017\n",
      "85/85 [==============================] - 1s 16ms/step - loss: 4.1480e-05 - mean_absolute_error: 0.0040 - val_loss: 7.4492e-04 - val_mean_absolute_error: 0.0244\n",
      "Epoch 73/100\n",
      "84/85 [============================>.] - ETA: 0s - loss: 4.2462e-05 - mean_absolute_error: 0.0042\n",
      "Epoch 73: val_loss did not improve from 0.00017\n",
      "85/85 [==============================] - 1s 17ms/step - loss: 4.2676e-05 - mean_absolute_error: 0.0042 - val_loss: 0.0016 - val_mean_absolute_error: 0.0376\n",
      "Epoch 74/100\n",
      "83/85 [============================>.] - ETA: 0s - loss: 4.3138e-05 - mean_absolute_error: 0.0041\n",
      "Epoch 74: val_loss did not improve from 0.00017\n",
      "85/85 [==============================] - 2s 18ms/step - loss: 4.2828e-05 - mean_absolute_error: 0.0040 - val_loss: 2.5924e-04 - val_mean_absolute_error: 0.0129\n",
      "Epoch 75/100\n",
      "84/85 [============================>.] - ETA: 0s - loss: 4.3428e-05 - mean_absolute_error: 0.0041\n",
      "Epoch 75: val_loss did not improve from 0.00017\n",
      "85/85 [==============================] - 1s 17ms/step - loss: 4.3376e-05 - mean_absolute_error: 0.0041 - val_loss: 2.7042e-04 - val_mean_absolute_error: 0.0133\n",
      "Epoch 76/100\n",
      "85/85 [==============================] - ETA: 0s - loss: 4.2998e-05 - mean_absolute_error: 0.0042\n",
      "Epoch 76: val_loss did not improve from 0.00017\n",
      "85/85 [==============================] - 1s 17ms/step - loss: 4.2998e-05 - mean_absolute_error: 0.0042 - val_loss: 2.2010e-04 - val_mean_absolute_error: 0.0117\n",
      "Epoch 77/100\n",
      "83/85 [============================>.] - ETA: 0s - loss: 3.9409e-05 - mean_absolute_error: 0.0040\n",
      "Epoch 77: val_loss did not improve from 0.00017\n",
      "85/85 [==============================] - 1s 17ms/step - loss: 4.0576e-05 - mean_absolute_error: 0.0041 - val_loss: 2.9566e-04 - val_mean_absolute_error: 0.0142\n",
      "Epoch 78/100\n",
      "85/85 [==============================] - ETA: 0s - loss: 4.0320e-05 - mean_absolute_error: 0.0039\n",
      "Epoch 78: val_loss did not improve from 0.00017\n",
      "85/85 [==============================] - 2s 19ms/step - loss: 4.0320e-05 - mean_absolute_error: 0.0039 - val_loss: 1.9264e-04 - val_mean_absolute_error: 0.0110\n",
      "Epoch 79/100\n",
      "84/85 [============================>.] - ETA: 0s - loss: 4.3846e-05 - mean_absolute_error: 0.0039\n",
      "Epoch 79: val_loss did not improve from 0.00017\n",
      "85/85 [==============================] - 1s 16ms/step - loss: 4.3757e-05 - mean_absolute_error: 0.0039 - val_loss: 1.9109e-04 - val_mean_absolute_error: 0.0109\n",
      "Epoch 80/100\n",
      "85/85 [==============================] - ETA: 0s - loss: 4.2250e-05 - mean_absolute_error: 0.0040\n",
      "Epoch 80: val_loss did not improve from 0.00017\n",
      "85/85 [==============================] - 1s 16ms/step - loss: 4.2250e-05 - mean_absolute_error: 0.0040 - val_loss: 1.7968e-04 - val_mean_absolute_error: 0.0105\n",
      "Epoch 81/100\n",
      "83/85 [============================>.] - ETA: 0s - loss: 4.0978e-05 - mean_absolute_error: 0.0040\n",
      "Epoch 81: val_loss did not improve from 0.00017\n",
      "85/85 [==============================] - 1s 18ms/step - loss: 4.1306e-05 - mean_absolute_error: 0.0040 - val_loss: 7.1029e-04 - val_mean_absolute_error: 0.0237\n"
     ]
    },
    {
     "data": {
      "application/javascript": "\n            setTimeout(function() {\n                var nbb_cell_id = 117;\n                var nbb_unformatted_code = \"history = compile_and_fit(model)\";\n                var nbb_formatted_code = \"history = compile_and_fit(model)\";\n                var nbb_cells = Jupyter.notebook.get_cells();\n                for (var i = 0; i < nbb_cells.length; ++i) {\n                    if (nbb_cells[i].input_prompt_number == nbb_cell_id) {\n                        if (nbb_cells[i].get_text() == nbb_unformatted_code) {\n                             nbb_cells[i].set_text(nbb_formatted_code);\n                        }\n                        break;\n                    }\n                }\n            }, 500);\n            ",
      "text/plain": [
       "<IPython.core.display.Javascript object>"
      ]
     },
     "metadata": {},
     "output_type": "display_data"
    }
   ],
   "source": [
    "history = compile_and_fit(model)\n"
   ]
  },
  {
   "cell_type": "code",
   "execution_count": 118,
   "metadata": {},
   "outputs": [
    {
     "name": "stdout",
     "output_type": "stream",
     "text": [
      "Model: \"sequential_1\"\n",
      "_________________________________________________________________\n",
      " Layer (type)                Output Shape              Param #   \n",
      "=================================================================\n",
      " LSTM (LSTM)                 (None, 64)                16896     \n",
      "                                                                 \n",
      " Output (Dense)              (None, 1)                 65        \n",
      "                                                                 \n",
      "=================================================================\n",
      "Total params: 16,961\n",
      "Trainable params: 16,961\n",
      "Non-trainable params: 0\n",
      "_________________________________________________________________\n"
     ]
    },
    {
     "data": {
      "application/javascript": "\n            setTimeout(function() {\n                var nbb_cell_id = 118;\n                var nbb_unformatted_code = \"model.summary()\";\n                var nbb_formatted_code = \"model.summary()\";\n                var nbb_cells = Jupyter.notebook.get_cells();\n                for (var i = 0; i < nbb_cells.length; ++i) {\n                    if (nbb_cells[i].input_prompt_number == nbb_cell_id) {\n                        if (nbb_cells[i].get_text() == nbb_unformatted_code) {\n                             nbb_cells[i].set_text(nbb_formatted_code);\n                        }\n                        break;\n                    }\n                }\n            }, 500);\n            ",
      "text/plain": [
       "<IPython.core.display.Javascript object>"
      ]
     },
     "metadata": {},
     "output_type": "display_data"
    }
   ],
   "source": [
    "model.summary()"
   ]
  },
  {
   "cell_type": "code",
   "execution_count": 119,
   "metadata": {},
   "outputs": [
    {
     "name": "stdout",
     "output_type": "stream",
     "text": [
      "2694\n",
      "244\n"
     ]
    },
    {
     "data": {
      "application/javascript": "\n            setTimeout(function() {\n                var nbb_cell_id = 119;\n                var nbb_unformatted_code = \"train_predict_scaled = model.predict(Xtrain).squeeze()\\ntest_predict_scaled = model.predict(Xtest).squeeze()\\n\\nprint(len(train_predict_scaled))\\nprint(len(test_predict_scaled))\";\n                var nbb_formatted_code = \"train_predict_scaled = model.predict(Xtrain).squeeze()\\ntest_predict_scaled = model.predict(Xtest).squeeze()\\n\\nprint(len(train_predict_scaled))\\nprint(len(test_predict_scaled))\";\n                var nbb_cells = Jupyter.notebook.get_cells();\n                for (var i = 0; i < nbb_cells.length; ++i) {\n                    if (nbb_cells[i].input_prompt_number == nbb_cell_id) {\n                        if (nbb_cells[i].get_text() == nbb_unformatted_code) {\n                             nbb_cells[i].set_text(nbb_formatted_code);\n                        }\n                        break;\n                    }\n                }\n            }, 500);\n            ",
      "text/plain": [
       "<IPython.core.display.Javascript object>"
      ]
     },
     "metadata": {},
     "output_type": "display_data"
    }
   ],
   "source": [
    "train_predict_scaled = model.predict(Xtrain).squeeze()\n",
    "test_predict_scaled = model.predict(Xtest).squeeze()\n",
    "\n",
    "print(len(train_predict_scaled))\n",
    "print(len(test_predict_scaled))"
   ]
  },
  {
   "cell_type": "code",
   "execution_count": 120,
   "metadata": {},
   "outputs": [
    {
     "name": "stdout",
     "output_type": "stream",
     "text": [
      "85/85 [==============================] - 1s 7ms/step - loss: 2.8057e-05 - mean_absolute_error: 0.0031\n"
     ]
    },
    {
     "data": {
      "text/plain": [
       "[2.8056798328179866e-05, 0.0031068192329257727]"
      ]
     },
     "execution_count": 120,
     "metadata": {},
     "output_type": "execute_result"
    },
    {
     "data": {
      "application/javascript": "\n            setTimeout(function() {\n                var nbb_cell_id = 120;\n                var nbb_unformatted_code = \"model.evaluate(Xtrain, ytrain)\";\n                var nbb_formatted_code = \"model.evaluate(Xtrain, ytrain)\";\n                var nbb_cells = Jupyter.notebook.get_cells();\n                for (var i = 0; i < nbb_cells.length; ++i) {\n                    if (nbb_cells[i].input_prompt_number == nbb_cell_id) {\n                        if (nbb_cells[i].get_text() == nbb_unformatted_code) {\n                             nbb_cells[i].set_text(nbb_formatted_code);\n                        }\n                        break;\n                    }\n                }\n            }, 500);\n            ",
      "text/plain": [
       "<IPython.core.display.Javascript object>"
      ]
     },
     "metadata": {},
     "output_type": "display_data"
    }
   ],
   "source": [
    "model.evaluate(Xtrain, ytrain)"
   ]
  },
  {
   "cell_type": "code",
   "execution_count": 121,
   "metadata": {},
   "outputs": [
    {
     "name": "stdout",
     "output_type": "stream",
     "text": [
      "8/8 [==============================] - 0s 10ms/step - loss: 1.7323e-04 - mean_absolute_error: 0.0103\n"
     ]
    },
    {
     "data": {
      "text/plain": [
       "[0.00017322771600447595, 0.01029682531952858]"
      ]
     },
     "execution_count": 121,
     "metadata": {},
     "output_type": "execute_result"
    },
    {
     "data": {
      "application/javascript": "\n            setTimeout(function() {\n                var nbb_cell_id = 121;\n                var nbb_unformatted_code = \"model.evaluate(Xtest, ytest)\";\n                var nbb_formatted_code = \"model.evaluate(Xtest, ytest)\";\n                var nbb_cells = Jupyter.notebook.get_cells();\n                for (var i = 0; i < nbb_cells.length; ++i) {\n                    if (nbb_cells[i].input_prompt_number == nbb_cell_id) {\n                        if (nbb_cells[i].get_text() == nbb_unformatted_code) {\n                             nbb_cells[i].set_text(nbb_formatted_code);\n                        }\n                        break;\n                    }\n                }\n            }, 500);\n            ",
      "text/plain": [
       "<IPython.core.display.Javascript object>"
      ]
     },
     "metadata": {},
     "output_type": "display_data"
    }
   ],
   "source": [
    "model.evaluate(Xtest, ytest)"
   ]
  },
  {
   "cell_type": "code",
   "execution_count": 122,
   "metadata": {},
   "outputs": [
    {
     "data": {
      "application/javascript": "\n            setTimeout(function() {\n                var nbb_cell_id = 122;\n                var nbb_unformatted_code = \"from sklearn.metrics import mean_absolute_error\";\n                var nbb_formatted_code = \"from sklearn.metrics import mean_absolute_error\";\n                var nbb_cells = Jupyter.notebook.get_cells();\n                for (var i = 0; i < nbb_cells.length; ++i) {\n                    if (nbb_cells[i].input_prompt_number == nbb_cell_id) {\n                        if (nbb_cells[i].get_text() == nbb_unformatted_code) {\n                             nbb_cells[i].set_text(nbb_formatted_code);\n                        }\n                        break;\n                    }\n                }\n            }, 500);\n            ",
      "text/plain": [
       "<IPython.core.display.Javascript object>"
      ]
     },
     "metadata": {},
     "output_type": "display_data"
    }
   ],
   "source": [
    "from sklearn.metrics import mean_absolute_error"
   ]
  },
  {
   "cell_type": "code",
   "execution_count": 123,
   "metadata": {},
   "outputs": [
    {
     "name": "stdout",
     "output_type": "stream",
     "text": [
      "Train Score: 0.0031 MAE\n",
      "Test Score: 0.0100 MAE\n"
     ]
    },
    {
     "data": {
      "application/javascript": "\n            setTimeout(function() {\n                var nbb_cell_id = 123;\n                var nbb_unformatted_code = \"# calculate mean absolute error\\ntrainScore = mean_absolute_error(ytrain, train_predict_scaled)\\nprint(\\\"Train Score: %.4f MAE\\\" % (trainScore))\\n\\ntestScore = mean_absolute_error(ytest, test_predict_scaled)\\nprint(\\\"Test Score: %.4f MAE\\\" % (testScore))\";\n                var nbb_formatted_code = \"# calculate mean absolute error\\ntrainScore = mean_absolute_error(ytrain, train_predict_scaled)\\nprint(\\\"Train Score: %.4f MAE\\\" % (trainScore))\\n\\ntestScore = mean_absolute_error(ytest, test_predict_scaled)\\nprint(\\\"Test Score: %.4f MAE\\\" % (testScore))\";\n                var nbb_cells = Jupyter.notebook.get_cells();\n                for (var i = 0; i < nbb_cells.length; ++i) {\n                    if (nbb_cells[i].input_prompt_number == nbb_cell_id) {\n                        if (nbb_cells[i].get_text() == nbb_unformatted_code) {\n                             nbb_cells[i].set_text(nbb_formatted_code);\n                        }\n                        break;\n                    }\n                }\n            }, 500);\n            ",
      "text/plain": [
       "<IPython.core.display.Javascript object>"
      ]
     },
     "metadata": {},
     "output_type": "display_data"
    }
   ],
   "source": [
    "# calculate mean absolute error\n",
    "trainScore = mean_absolute_error(ytrain, train_predict_scaled)\n",
    "print(\"Train Score: %.4f MAE\" % (trainScore))\n",
    "\n",
    "testScore = mean_absolute_error(ytest, test_predict_scaled)\n",
    "print(\"Test Score: %.4f MAE\" % (testScore))"
   ]
  },
  {
   "cell_type": "code",
   "execution_count": 124,
   "metadata": {},
   "outputs": [
    {
     "data": {
      "application/javascript": "\n            setTimeout(function() {\n                var nbb_cell_id = 124;\n                var nbb_unformatted_code = \"train_predict_rescaled = pd.Series(scaler.inverse_transform(train_predict_scaled.reshape(-1, 1)).squeeze(), index=df.iloc[63:split].index)\\ntest_predict_rescaled = pd.Series(scaler.inverse_transform(test_predict_scaled.reshape(-1, 1)).squeeze(), index=df.iloc[split+63:].index)\";\n                var nbb_formatted_code = \"train_predict_rescaled = pd.Series(\\n    scaler.inverse_transform(train_predict_scaled.reshape(-1, 1)).squeeze(),\\n    index=df.iloc[63:split].index,\\n)\\ntest_predict_rescaled = pd.Series(\\n    scaler.inverse_transform(test_predict_scaled.reshape(-1, 1)).squeeze(),\\n    index=df.iloc[split + 63 :].index,\\n)\";\n                var nbb_cells = Jupyter.notebook.get_cells();\n                for (var i = 0; i < nbb_cells.length; ++i) {\n                    if (nbb_cells[i].input_prompt_number == nbb_cell_id) {\n                        if (nbb_cells[i].get_text() == nbb_unformatted_code) {\n                             nbb_cells[i].set_text(nbb_formatted_code);\n                        }\n                        break;\n                    }\n                }\n            }, 500);\n            ",
      "text/plain": [
       "<IPython.core.display.Javascript object>"
      ]
     },
     "metadata": {},
     "output_type": "display_data"
    }
   ],
   "source": [
    "train_predict_rescaled = pd.Series(scaler.inverse_transform(train_predict_scaled.reshape(-1, 1)).squeeze(), index=df.iloc[63:split].index)\n",
    "test_predict_rescaled = pd.Series(scaler.inverse_transform(test_predict_scaled.reshape(-1, 1)).squeeze(), index=df.iloc[split+63:].index)\n"
   ]
  },
  {
   "cell_type": "code",
   "execution_count": 125,
   "metadata": {},
   "outputs": [
    {
     "data": {
      "text/plain": [
       "date\n",
       "2021-03-18    236.878281\n",
       "2021-03-19    231.972717\n",
       "2021-03-22    229.833038\n",
       "2021-03-23    234.278641\n",
       "2021-03-24    237.697037\n",
       "                 ...    \n",
       "2022-02-28    299.722839\n",
       "2022-03-01    300.917450\n",
       "2022-03-02    296.352875\n",
       "2022-03-03    298.858673\n",
       "2022-03-04    297.188660\n",
       "Length: 244, dtype: float32"
      ]
     },
     "execution_count": 125,
     "metadata": {},
     "output_type": "execute_result"
    },
    {
     "data": {
      "application/javascript": "\n            setTimeout(function() {\n                var nbb_cell_id = 125;\n                var nbb_unformatted_code = \"test_predict_rescaled\";\n                var nbb_formatted_code = \"test_predict_rescaled\";\n                var nbb_cells = Jupyter.notebook.get_cells();\n                for (var i = 0; i < nbb_cells.length; ++i) {\n                    if (nbb_cells[i].input_prompt_number == nbb_cell_id) {\n                        if (nbb_cells[i].get_text() == nbb_unformatted_code) {\n                             nbb_cells[i].set_text(nbb_formatted_code);\n                        }\n                        break;\n                    }\n                }\n            }, 500);\n            ",
      "text/plain": [
       "<IPython.core.display.Javascript object>"
      ]
     },
     "metadata": {},
     "output_type": "display_data"
    }
   ],
   "source": [
    "test_predict_rescaled"
   ]
  },
  {
   "cell_type": "code",
   "execution_count": 126,
   "metadata": {},
   "outputs": [
    {
     "data": {
      "application/javascript": "\n            setTimeout(function() {\n                var nbb_cell_id = 126;\n                var nbb_unformatted_code = \"df_compare = df.iloc[-244:].copy()\";\n                var nbb_formatted_code = \"df_compare = df.iloc[-244:].copy()\";\n                var nbb_cells = Jupyter.notebook.get_cells();\n                for (var i = 0; i < nbb_cells.length; ++i) {\n                    if (nbb_cells[i].input_prompt_number == nbb_cell_id) {\n                        if (nbb_cells[i].get_text() == nbb_unformatted_code) {\n                             nbb_cells[i].set_text(nbb_formatted_code);\n                        }\n                        break;\n                    }\n                }\n            }, 500);\n            ",
      "text/plain": [
       "<IPython.core.display.Javascript object>"
      ]
     },
     "metadata": {},
     "output_type": "display_data"
    }
   ],
   "source": [
    "df_compare = df.iloc[-244:].copy()"
   ]
  },
  {
   "cell_type": "code",
   "execution_count": 127,
   "metadata": {},
   "outputs": [
    {
     "data": {
      "application/javascript": "\n            setTimeout(function() {\n                var nbb_cell_id = 127;\n                var nbb_unformatted_code = \"df_compare[\\\"preds\\\"] = test_predict_rescaled\";\n                var nbb_formatted_code = \"df_compare[\\\"preds\\\"] = test_predict_rescaled\";\n                var nbb_cells = Jupyter.notebook.get_cells();\n                for (var i = 0; i < nbb_cells.length; ++i) {\n                    if (nbb_cells[i].input_prompt_number == nbb_cell_id) {\n                        if (nbb_cells[i].get_text() == nbb_unformatted_code) {\n                             nbb_cells[i].set_text(nbb_formatted_code);\n                        }\n                        break;\n                    }\n                }\n            }, 500);\n            ",
      "text/plain": [
       "<IPython.core.display.Javascript object>"
      ]
     },
     "metadata": {},
     "output_type": "display_data"
    }
   ],
   "source": [
    "df_compare[\"preds\"] = test_predict_rescaled"
   ]
  },
  {
   "cell_type": "code",
   "execution_count": 128,
   "metadata": {},
   "outputs": [
    {
     "data": {
      "text/html": [
       "<div>\n",
       "<style scoped>\n",
       "    .dataframe tbody tr th:only-of-type {\n",
       "        vertical-align: middle;\n",
       "    }\n",
       "\n",
       "    .dataframe tbody tr th {\n",
       "        vertical-align: top;\n",
       "    }\n",
       "\n",
       "    .dataframe thead th {\n",
       "        text-align: right;\n",
       "    }\n",
       "</style>\n",
       "<table border=\"1\" class=\"dataframe\">\n",
       "  <thead>\n",
       "    <tr style=\"text-align: right;\">\n",
       "      <th></th>\n",
       "      <th>5. adjusted close</th>\n",
       "      <th>returns</th>\n",
       "      <th>log_returns</th>\n",
       "      <th>preds</th>\n",
       "    </tr>\n",
       "    <tr>\n",
       "      <th>date</th>\n",
       "      <th></th>\n",
       "      <th></th>\n",
       "      <th></th>\n",
       "      <th></th>\n",
       "    </tr>\n",
       "  </thead>\n",
       "  <tbody>\n",
       "    <tr>\n",
       "      <th>2021-03-18</th>\n",
       "      <td>228.854221</td>\n",
       "      <td>-0.026662</td>\n",
       "      <td>-0.027024</td>\n",
       "      <td>236.878281</td>\n",
       "    </tr>\n",
       "    <tr>\n",
       "      <th>2021-03-19</th>\n",
       "      <td>228.487213</td>\n",
       "      <td>-0.001604</td>\n",
       "      <td>-0.001605</td>\n",
       "      <td>231.972717</td>\n",
       "    </tr>\n",
       "    <tr>\n",
       "      <th>2021-03-22</th>\n",
       "      <td>234.081604</td>\n",
       "      <td>0.024484</td>\n",
       "      <td>0.024190</td>\n",
       "      <td>229.833038</td>\n",
       "    </tr>\n",
       "    <tr>\n",
       "      <th>2021-03-23</th>\n",
       "      <td>235.658746</td>\n",
       "      <td>0.006738</td>\n",
       "      <td>0.006715</td>\n",
       "      <td>234.278641</td>\n",
       "    </tr>\n",
       "    <tr>\n",
       "      <th>2021-03-24</th>\n",
       "      <td>233.555890</td>\n",
       "      <td>-0.008923</td>\n",
       "      <td>-0.008963</td>\n",
       "      <td>237.697037</td>\n",
       "    </tr>\n",
       "    <tr>\n",
       "      <th>...</th>\n",
       "      <td>...</td>\n",
       "      <td>...</td>\n",
       "      <td>...</td>\n",
       "      <td>...</td>\n",
       "    </tr>\n",
       "    <tr>\n",
       "      <th>2022-02-28</th>\n",
       "      <td>298.790000</td>\n",
       "      <td>0.004978</td>\n",
       "      <td>0.004966</td>\n",
       "      <td>299.722839</td>\n",
       "    </tr>\n",
       "    <tr>\n",
       "      <th>2022-03-01</th>\n",
       "      <td>294.950000</td>\n",
       "      <td>-0.012852</td>\n",
       "      <td>-0.012935</td>\n",
       "      <td>300.917450</td>\n",
       "    </tr>\n",
       "    <tr>\n",
       "      <th>2022-03-02</th>\n",
       "      <td>300.190000</td>\n",
       "      <td>0.017766</td>\n",
       "      <td>0.017610</td>\n",
       "      <td>296.352875</td>\n",
       "    </tr>\n",
       "    <tr>\n",
       "      <th>2022-03-03</th>\n",
       "      <td>295.920000</td>\n",
       "      <td>-0.014224</td>\n",
       "      <td>-0.014326</td>\n",
       "      <td>298.858673</td>\n",
       "    </tr>\n",
       "    <tr>\n",
       "      <th>2022-03-04</th>\n",
       "      <td>289.860000</td>\n",
       "      <td>-0.020479</td>\n",
       "      <td>-0.020691</td>\n",
       "      <td>297.188660</td>\n",
       "    </tr>\n",
       "  </tbody>\n",
       "</table>\n",
       "<p>244 rows × 4 columns</p>\n",
       "</div>"
      ],
      "text/plain": [
       "            5. adjusted close   returns  log_returns       preds\n",
       "date                                                            \n",
       "2021-03-18         228.854221 -0.026662    -0.027024  236.878281\n",
       "2021-03-19         228.487213 -0.001604    -0.001605  231.972717\n",
       "2021-03-22         234.081604  0.024484     0.024190  229.833038\n",
       "2021-03-23         235.658746  0.006738     0.006715  234.278641\n",
       "2021-03-24         233.555890 -0.008923    -0.008963  237.697037\n",
       "...                       ...       ...          ...         ...\n",
       "2022-02-28         298.790000  0.004978     0.004966  299.722839\n",
       "2022-03-01         294.950000 -0.012852    -0.012935  300.917450\n",
       "2022-03-02         300.190000  0.017766     0.017610  296.352875\n",
       "2022-03-03         295.920000 -0.014224    -0.014326  298.858673\n",
       "2022-03-04         289.860000 -0.020479    -0.020691  297.188660\n",
       "\n",
       "[244 rows x 4 columns]"
      ]
     },
     "execution_count": 128,
     "metadata": {},
     "output_type": "execute_result"
    },
    {
     "data": {
      "application/javascript": "\n            setTimeout(function() {\n                var nbb_cell_id = 128;\n                var nbb_unformatted_code = \"df_compare\";\n                var nbb_formatted_code = \"df_compare\";\n                var nbb_cells = Jupyter.notebook.get_cells();\n                for (var i = 0; i < nbb_cells.length; ++i) {\n                    if (nbb_cells[i].input_prompt_number == nbb_cell_id) {\n                        if (nbb_cells[i].get_text() == nbb_unformatted_code) {\n                             nbb_cells[i].set_text(nbb_formatted_code);\n                        }\n                        break;\n                    }\n                }\n            }, 500);\n            ",
      "text/plain": [
       "<IPython.core.display.Javascript object>"
      ]
     },
     "metadata": {},
     "output_type": "display_data"
    }
   ],
   "source": [
    "df_compare"
   ]
  },
  {
   "cell_type": "code",
   "execution_count": 129,
   "metadata": {},
   "outputs": [
    {
     "name": "stdout",
     "output_type": "stream",
     "text": [
      "Test Score: 3.2478 MAE\n"
     ]
    },
    {
     "data": {
      "application/javascript": "\n            setTimeout(function() {\n                var nbb_cell_id = 129;\n                var nbb_unformatted_code = \"testScore = mean_absolute_error(df_compare[\\\"5. adjusted close\\\"].values, df_compare[\\\"preds\\\"].values)\\nprint(\\\"Test Score: %.4f MAE\\\" % (testScore))\";\n                var nbb_formatted_code = \"testScore = mean_absolute_error(\\n    df_compare[\\\"5. adjusted close\\\"].values, df_compare[\\\"preds\\\"].values\\n)\\nprint(\\\"Test Score: %.4f MAE\\\" % (testScore))\";\n                var nbb_cells = Jupyter.notebook.get_cells();\n                for (var i = 0; i < nbb_cells.length; ++i) {\n                    if (nbb_cells[i].input_prompt_number == nbb_cell_id) {\n                        if (nbb_cells[i].get_text() == nbb_unformatted_code) {\n                             nbb_cells[i].set_text(nbb_formatted_code);\n                        }\n                        break;\n                    }\n                }\n            }, 500);\n            ",
      "text/plain": [
       "<IPython.core.display.Javascript object>"
      ]
     },
     "metadata": {},
     "output_type": "display_data"
    }
   ],
   "source": [
    "testScore = mean_absolute_error(df_compare[\"5. adjusted close\"].values, df_compare[\"preds\"].values)\n",
    "print(\"Test Score: %.4f MAE\" % (testScore))"
   ]
  },
  {
   "cell_type": "code",
   "execution_count": 130,
   "metadata": {},
   "outputs": [
    {
     "data": {
      "image/png": "[encoded data removed]",
      "text/plain": [
       "<Figure size 864x576 with 2 Axes>"
      ]
     },
     "metadata": {
      "needs_background": "light"
     },
     "output_type": "display_data"
    },
    {
     "data": {
      "application/javascript": "\n            setTimeout(function() {\n                var nbb_cell_id = 130;\n                var nbb_unformatted_code = \"plt.figure(figsize=(12,8))\\n\\nax1 = df_compare[\\\"5. adjusted close\\\"][-63:].plot(color='blue', grid=True, secondary_y=False, label='Actual', marker='.')\\nax2 = df_compare[\\\"preds\\\"][-63:].plot(color='red', grid=True, secondary_y=True, label='Predicted', marker='.')\\n\\na, b = 275, 345\\n\\nax1.set_ylim(a,b)\\nax2.set_ylim(a,b)\\n\\nh1, l1 = ax1.get_legend_handles_labels()\\nh2, l2 = ax2.get_legend_handles_labels()\\n\\nax1.set_xlabel(\\\"Date\\\")\\nplt.legend(h1+h2, l1+l2, loc=1)\\nplt.show()\";\n                var nbb_formatted_code = \"plt.figure(figsize=(12, 8))\\n\\nax1 = df_compare[\\\"5. adjusted close\\\"][-63:].plot(\\n    color=\\\"blue\\\", grid=True, secondary_y=False, label=\\\"Actual\\\", marker=\\\".\\\"\\n)\\nax2 = df_compare[\\\"preds\\\"][-63:].plot(\\n    color=\\\"red\\\", grid=True, secondary_y=True, label=\\\"Predicted\\\", marker=\\\".\\\"\\n)\\n\\na, b = 275, 345\\n\\nax1.set_ylim(a, b)\\nax2.set_ylim(a, b)\\n\\nh1, l1 = ax1.get_legend_handles_labels()\\nh2, l2 = ax2.get_legend_handles_labels()\\n\\nax1.set_xlabel(\\\"Date\\\")\\nplt.legend(h1 + h2, l1 + l2, loc=1)\\nplt.show()\";\n                var nbb_cells = Jupyter.notebook.get_cells();\n                for (var i = 0; i < nbb_cells.length; ++i) {\n                    if (nbb_cells[i].input_prompt_number == nbb_cell_id) {\n                        if (nbb_cells[i].get_text() == nbb_unformatted_code) {\n                             nbb_cells[i].set_text(nbb_formatted_code);\n                        }\n                        break;\n                    }\n                }\n            }, 500);\n            ",
      "text/plain": [
       "<IPython.core.display.Javascript object>"
      ]
     },
     "metadata": {},
     "output_type": "display_data"
    }
   ],
   "source": [
    "plt.figure(figsize=(12,8))\n",
    "\n",
    "ax1 = df_compare[\"5. adjusted close\"][-63:].plot(color='blue', grid=True, secondary_y=False, label='Actual', marker='.')\n",
    "ax2 = df_compare[\"preds\"][-63:].plot(color='red', grid=True, secondary_y=True, label='Predicted', marker='.')\n",
    "\n",
    "a, b = 275, 345\n",
    "\n",
    "ax1.set_ylim(a,b)\n",
    "ax2.set_ylim(a,b)\n",
    "\n",
    "h1, l1 = ax1.get_legend_handles_labels()\n",
    "h2, l2 = ax2.get_legend_handles_labels()\n",
    "\n",
    "ax1.set_xlabel(\"Date\")\n",
    "plt.legend(h1+h2, l1+l2, loc=1)\n",
    "plt.show()"
   ]
  },
  {
   "cell_type": "code",
   "execution_count": 131,
   "metadata": {},
   "outputs": [
    {
     "data": {
      "application/javascript": "\n            setTimeout(function() {\n                var nbb_cell_id = 131;\n                var nbb_unformatted_code = \"df_compare[\\\"actual_percentage_change\\\"] = df_compare['5. adjusted close'].pct_change()\\ndf_compare[\\\"actual_increase\\\"] = df_compare[\\\"actual_percentage_change\\\"].apply(lambda x: 1 if x > 0 else 0)\";\n                var nbb_formatted_code = \"df_compare[\\\"actual_percentage_change\\\"] = df_compare[\\\"5. adjusted close\\\"].pct_change()\\ndf_compare[\\\"actual_increase\\\"] = df_compare[\\\"actual_percentage_change\\\"].apply(\\n    lambda x: 1 if x > 0 else 0\\n)\";\n                var nbb_cells = Jupyter.notebook.get_cells();\n                for (var i = 0; i < nbb_cells.length; ++i) {\n                    if (nbb_cells[i].input_prompt_number == nbb_cell_id) {\n                        if (nbb_cells[i].get_text() == nbb_unformatted_code) {\n                             nbb_cells[i].set_text(nbb_formatted_code);\n                        }\n                        break;\n                    }\n                }\n            }, 500);\n            ",
      "text/plain": [
       "<IPython.core.display.Javascript object>"
      ]
     },
     "metadata": {},
     "output_type": "display_data"
    }
   ],
   "source": [
    "df_compare[\"actual_percentage_change\"] = df_compare['5. adjusted close'].pct_change()\n",
    "df_compare[\"actual_increase\"] = df_compare[\"actual_percentage_change\"].apply(lambda x: 1 if x > 0 else 0)"
   ]
  },
  {
   "cell_type": "code",
   "execution_count": 132,
   "metadata": {},
   "outputs": [
    {
     "data": {
      "application/javascript": "\n            setTimeout(function() {\n                var nbb_cell_id = 132;\n                var nbb_unformatted_code = \"df_compare[\\\"predicted_percentage_change\\\"] = df_compare['preds'].pct_change()\\ndf_compare[\\\"predicted_increase\\\"] = df_compare[\\\"predicted_percentage_change\\\"].apply(lambda x: 1 if x > 0 else 0)\";\n                var nbb_formatted_code = \"df_compare[\\\"predicted_percentage_change\\\"] = df_compare[\\\"preds\\\"].pct_change()\\ndf_compare[\\\"predicted_increase\\\"] = df_compare[\\\"predicted_percentage_change\\\"].apply(\\n    lambda x: 1 if x > 0 else 0\\n)\";\n                var nbb_cells = Jupyter.notebook.get_cells();\n                for (var i = 0; i < nbb_cells.length; ++i) {\n                    if (nbb_cells[i].input_prompt_number == nbb_cell_id) {\n                        if (nbb_cells[i].get_text() == nbb_unformatted_code) {\n                             nbb_cells[i].set_text(nbb_formatted_code);\n                        }\n                        break;\n                    }\n                }\n            }, 500);\n            ",
      "text/plain": [
       "<IPython.core.display.Javascript object>"
      ]
     },
     "metadata": {},
     "output_type": "display_data"
    }
   ],
   "source": [
    "df_compare[\"predicted_percentage_change\"] = df_compare['preds'].pct_change()\n",
    "df_compare[\"predicted_increase\"] = df_compare[\"predicted_percentage_change\"].apply(lambda x: 1 if x > 0 else 0)"
   ]
  },
  {
   "cell_type": "code",
   "execution_count": 133,
   "metadata": {},
   "outputs": [
    {
     "data": {
      "application/javascript": "\n            setTimeout(function() {\n                var nbb_cell_id = 133;\n                var nbb_unformatted_code = \"df_compare.fillna(0, inplace=True)\";\n                var nbb_formatted_code = \"df_compare.fillna(0, inplace=True)\";\n                var nbb_cells = Jupyter.notebook.get_cells();\n                for (var i = 0; i < nbb_cells.length; ++i) {\n                    if (nbb_cells[i].input_prompt_number == nbb_cell_id) {\n                        if (nbb_cells[i].get_text() == nbb_unformatted_code) {\n                             nbb_cells[i].set_text(nbb_formatted_code);\n                        }\n                        break;\n                    }\n                }\n            }, 500);\n            ",
      "text/plain": [
       "<IPython.core.display.Javascript object>"
      ]
     },
     "metadata": {},
     "output_type": "display_data"
    }
   ],
   "source": [
    "df_compare.fillna(0, inplace=True)"
   ]
  },
  {
   "cell_type": "code",
   "execution_count": 134,
   "metadata": {},
   "outputs": [
    {
     "data": {
      "text/html": [
       "<div>\n",
       "<style scoped>\n",
       "    .dataframe tbody tr th:only-of-type {\n",
       "        vertical-align: middle;\n",
       "    }\n",
       "\n",
       "    .dataframe tbody tr th {\n",
       "        vertical-align: top;\n",
       "    }\n",
       "\n",
       "    .dataframe thead th {\n",
       "        text-align: right;\n",
       "    }\n",
       "</style>\n",
       "<table border=\"1\" class=\"dataframe\">\n",
       "  <thead>\n",
       "    <tr style=\"text-align: right;\">\n",
       "      <th></th>\n",
       "      <th>5. adjusted close</th>\n",
       "      <th>returns</th>\n",
       "      <th>log_returns</th>\n",
       "      <th>preds</th>\n",
       "      <th>actual_percentage_change</th>\n",
       "      <th>actual_increase</th>\n",
       "      <th>predicted_percentage_change</th>\n",
       "      <th>predicted_increase</th>\n",
       "    </tr>\n",
       "    <tr>\n",
       "      <th>date</th>\n",
       "      <th></th>\n",
       "      <th></th>\n",
       "      <th></th>\n",
       "      <th></th>\n",
       "      <th></th>\n",
       "      <th></th>\n",
       "      <th></th>\n",
       "      <th></th>\n",
       "    </tr>\n",
       "  </thead>\n",
       "  <tbody>\n",
       "    <tr>\n",
       "      <th>2021-03-18</th>\n",
       "      <td>228.854221</td>\n",
       "      <td>-0.026662</td>\n",
       "      <td>-0.027024</td>\n",
       "      <td>236.878281</td>\n",
       "      <td>0.000000</td>\n",
       "      <td>0</td>\n",
       "      <td>0.000000</td>\n",
       "      <td>0</td>\n",
       "    </tr>\n",
       "    <tr>\n",
       "      <th>2021-03-19</th>\n",
       "      <td>228.487213</td>\n",
       "      <td>-0.001604</td>\n",
       "      <td>-0.001605</td>\n",
       "      <td>231.972717</td>\n",
       "      <td>-0.001604</td>\n",
       "      <td>0</td>\n",
       "      <td>-0.020709</td>\n",
       "      <td>0</td>\n",
       "    </tr>\n",
       "    <tr>\n",
       "      <th>2021-03-22</th>\n",
       "      <td>234.081604</td>\n",
       "      <td>0.024484</td>\n",
       "      <td>0.024190</td>\n",
       "      <td>229.833038</td>\n",
       "      <td>0.024484</td>\n",
       "      <td>1</td>\n",
       "      <td>-0.009224</td>\n",
       "      <td>0</td>\n",
       "    </tr>\n",
       "    <tr>\n",
       "      <th>2021-03-23</th>\n",
       "      <td>235.658746</td>\n",
       "      <td>0.006738</td>\n",
       "      <td>0.006715</td>\n",
       "      <td>234.278641</td>\n",
       "      <td>0.006738</td>\n",
       "      <td>1</td>\n",
       "      <td>0.019343</td>\n",
       "      <td>1</td>\n",
       "    </tr>\n",
       "    <tr>\n",
       "      <th>2021-03-24</th>\n",
       "      <td>233.555890</td>\n",
       "      <td>-0.008923</td>\n",
       "      <td>-0.008963</td>\n",
       "      <td>237.697037</td>\n",
       "      <td>-0.008923</td>\n",
       "      <td>0</td>\n",
       "      <td>0.014591</td>\n",
       "      <td>1</td>\n",
       "    </tr>\n",
       "    <tr>\n",
       "      <th>...</th>\n",
       "      <td>...</td>\n",
       "      <td>...</td>\n",
       "      <td>...</td>\n",
       "      <td>...</td>\n",
       "      <td>...</td>\n",
       "      <td>...</td>\n",
       "      <td>...</td>\n",
       "      <td>...</td>\n",
       "    </tr>\n",
       "    <tr>\n",
       "      <th>2022-02-28</th>\n",
       "      <td>298.790000</td>\n",
       "      <td>0.004978</td>\n",
       "      <td>0.004966</td>\n",
       "      <td>299.722839</td>\n",
       "      <td>0.004978</td>\n",
       "      <td>1</td>\n",
       "      <td>0.021263</td>\n",
       "      <td>1</td>\n",
       "    </tr>\n",
       "    <tr>\n",
       "      <th>2022-03-01</th>\n",
       "      <td>294.950000</td>\n",
       "      <td>-0.012852</td>\n",
       "      <td>-0.012935</td>\n",
       "      <td>300.917450</td>\n",
       "      <td>-0.012852</td>\n",
       "      <td>0</td>\n",
       "      <td>0.003986</td>\n",
       "      <td>1</td>\n",
       "    </tr>\n",
       "    <tr>\n",
       "      <th>2022-03-02</th>\n",
       "      <td>300.190000</td>\n",
       "      <td>0.017766</td>\n",
       "      <td>0.017610</td>\n",
       "      <td>296.352875</td>\n",
       "      <td>0.017766</td>\n",
       "      <td>1</td>\n",
       "      <td>-0.015169</td>\n",
       "      <td>0</td>\n",
       "    </tr>\n",
       "    <tr>\n",
       "      <th>2022-03-03</th>\n",
       "      <td>295.920000</td>\n",
       "      <td>-0.014224</td>\n",
       "      <td>-0.014326</td>\n",
       "      <td>298.858673</td>\n",
       "      <td>-0.014224</td>\n",
       "      <td>0</td>\n",
       "      <td>0.008455</td>\n",
       "      <td>1</td>\n",
       "    </tr>\n",
       "    <tr>\n",
       "      <th>2022-03-04</th>\n",
       "      <td>289.860000</td>\n",
       "      <td>-0.020479</td>\n",
       "      <td>-0.020691</td>\n",
       "      <td>297.188660</td>\n",
       "      <td>-0.020479</td>\n",
       "      <td>0</td>\n",
       "      <td>-0.005588</td>\n",
       "      <td>0</td>\n",
       "    </tr>\n",
       "  </tbody>\n",
       "</table>\n",
       "<p>244 rows × 8 columns</p>\n",
       "</div>"
      ],
      "text/plain": [
       "            5. adjusted close   returns  log_returns       preds  \\\n",
       "date                                                               \n",
       "2021-03-18         228.854221 -0.026662    -0.027024  236.878281   \n",
       "2021-03-19         228.487213 -0.001604    -0.001605  231.972717   \n",
       "2021-03-22         234.081604  0.024484     0.024190  229.833038   \n",
       "2021-03-23         235.658746  0.006738     0.006715  234.278641   \n",
       "2021-03-24         233.555890 -0.008923    -0.008963  237.697037   \n",
       "...                       ...       ...          ...         ...   \n",
       "2022-02-28         298.790000  0.004978     0.004966  299.722839   \n",
       "2022-03-01         294.950000 -0.012852    -0.012935  300.917450   \n",
       "2022-03-02         300.190000  0.017766     0.017610  296.352875   \n",
       "2022-03-03         295.920000 -0.014224    -0.014326  298.858673   \n",
       "2022-03-04         289.860000 -0.020479    -0.020691  297.188660   \n",
       "\n",
       "            actual_percentage_change  actual_increase  \\\n",
       "date                                                    \n",
       "2021-03-18                  0.000000                0   \n",
       "2021-03-19                 -0.001604                0   \n",
       "2021-03-22                  0.024484                1   \n",
       "2021-03-23                  0.006738                1   \n",
       "2021-03-24                 -0.008923                0   \n",
       "...                              ...              ...   \n",
       "2022-02-28                  0.004978                1   \n",
       "2022-03-01                 -0.012852                0   \n",
       "2022-03-02                  0.017766                1   \n",
       "2022-03-03                 -0.014224                0   \n",
       "2022-03-04                 -0.020479                0   \n",
       "\n",
       "            predicted_percentage_change  predicted_increase  \n",
       "date                                                         \n",
       "2021-03-18                     0.000000                   0  \n",
       "2021-03-19                    -0.020709                   0  \n",
       "2021-03-22                    -0.009224                   0  \n",
       "2021-03-23                     0.019343                   1  \n",
       "2021-03-24                     0.014591                   1  \n",
       "...                                 ...                 ...  \n",
       "2022-02-28                     0.021263                   1  \n",
       "2022-03-01                     0.003986                   1  \n",
       "2022-03-02                    -0.015169                   0  \n",
       "2022-03-03                     0.008455                   1  \n",
       "2022-03-04                    -0.005588                   0  \n",
       "\n",
       "[244 rows x 8 columns]"
      ]
     },
     "execution_count": 134,
     "metadata": {},
     "output_type": "execute_result"
    },
    {
     "data": {
      "application/javascript": "\n            setTimeout(function() {\n                var nbb_cell_id = 134;\n                var nbb_unformatted_code = \"df_compare\";\n                var nbb_formatted_code = \"df_compare\";\n                var nbb_cells = Jupyter.notebook.get_cells();\n                for (var i = 0; i < nbb_cells.length; ++i) {\n                    if (nbb_cells[i].input_prompt_number == nbb_cell_id) {\n                        if (nbb_cells[i].get_text() == nbb_unformatted_code) {\n                             nbb_cells[i].set_text(nbb_formatted_code);\n                        }\n                        break;\n                    }\n                }\n            }, 500);\n            ",
      "text/plain": [
       "<IPython.core.display.Javascript object>"
      ]
     },
     "metadata": {},
     "output_type": "display_data"
    }
   ],
   "source": [
    "df_compare"
   ]
  },
  {
   "cell_type": "code",
   "execution_count": 135,
   "metadata": {},
   "outputs": [
    {
     "data": {
      "application/javascript": "\n            setTimeout(function() {\n                var nbb_cell_id = 135;\n                var nbb_unformatted_code = \"df_compare = df_compare.drop(\\\"2021-03-18\\\")\";\n                var nbb_formatted_code = \"df_compare = df_compare.drop(\\\"2021-03-18\\\")\";\n                var nbb_cells = Jupyter.notebook.get_cells();\n                for (var i = 0; i < nbb_cells.length; ++i) {\n                    if (nbb_cells[i].input_prompt_number == nbb_cell_id) {\n                        if (nbb_cells[i].get_text() == nbb_unformatted_code) {\n                             nbb_cells[i].set_text(nbb_formatted_code);\n                        }\n                        break;\n                    }\n                }\n            }, 500);\n            ",
      "text/plain": [
       "<IPython.core.display.Javascript object>"
      ]
     },
     "metadata": {},
     "output_type": "display_data"
    }
   ],
   "source": [
    "df_compare = df_compare.drop(\"2021-03-18\")\n"
   ]
  },
  {
   "cell_type": "markdown",
   "metadata": {},
   "source": [
    "### Postive Increase Prediction %"
   ]
  },
  {
   "cell_type": "code",
   "execution_count": 136,
   "metadata": {},
   "outputs": [
    {
     "data": {
      "text/plain": [
       "0.5714285714285714"
      ]
     },
     "execution_count": 136,
     "metadata": {},
     "output_type": "execute_result"
    },
    {
     "data": {
      "application/javascript": "\n            setTimeout(function() {\n                var nbb_cell_id = 136;\n                var nbb_unformatted_code = \"df_compare[(df_compare[\\\"actual_increase\\\"]==1) & (df_compare[\\\"predicted_increase\\\"]==1)].shape[0] / df_compare[(df_compare[\\\"actual_increase\\\"]==1)].shape[0]\";\n                var nbb_formatted_code = \"df_compare[\\n    (df_compare[\\\"actual_increase\\\"] == 1) & (df_compare[\\\"predicted_increase\\\"] == 1)\\n].shape[0] / df_compare[(df_compare[\\\"actual_increase\\\"] == 1)].shape[0]\";\n                var nbb_cells = Jupyter.notebook.get_cells();\n                for (var i = 0; i < nbb_cells.length; ++i) {\n                    if (nbb_cells[i].input_prompt_number == nbb_cell_id) {\n                        if (nbb_cells[i].get_text() == nbb_unformatted_code) {\n                             nbb_cells[i].set_text(nbb_formatted_code);\n                        }\n                        break;\n                    }\n                }\n            }, 500);\n            ",
      "text/plain": [
       "<IPython.core.display.Javascript object>"
      ]
     },
     "metadata": {},
     "output_type": "display_data"
    }
   ],
   "source": [
    "df_compare[(df_compare[\"actual_increase\"]==1) & (df_compare[\"predicted_increase\"]==1)].shape[0] / df_compare[(df_compare[\"actual_increase\"]==1)].shape[0]"
   ]
  },
  {
   "cell_type": "markdown",
   "metadata": {},
   "source": [
    "### Negative Increase Prediction %"
   ]
  },
  {
   "cell_type": "code",
   "execution_count": 137,
   "metadata": {},
   "outputs": [
    {
     "data": {
      "text/plain": [
       "0.5299145299145299"
      ]
     },
     "execution_count": 137,
     "metadata": {},
     "output_type": "execute_result"
    },
    {
     "data": {
      "application/javascript": "\n            setTimeout(function() {\n                var nbb_cell_id = 137;\n                var nbb_unformatted_code = \"df_compare[(df_compare[\\\"actual_increase\\\"]==0) & (df_compare[\\\"predicted_increase\\\"]==0)].shape[0] / df_compare[(df_compare[\\\"actual_increase\\\"]==0)].shape[0]\";\n                var nbb_formatted_code = \"df_compare[\\n    (df_compare[\\\"actual_increase\\\"] == 0) & (df_compare[\\\"predicted_increase\\\"] == 0)\\n].shape[0] / df_compare[(df_compare[\\\"actual_increase\\\"] == 0)].shape[0]\";\n                var nbb_cells = Jupyter.notebook.get_cells();\n                for (var i = 0; i < nbb_cells.length; ++i) {\n                    if (nbb_cells[i].input_prompt_number == nbb_cell_id) {\n                        if (nbb_cells[i].get_text() == nbb_unformatted_code) {\n                             nbb_cells[i].set_text(nbb_formatted_code);\n                        }\n                        break;\n                    }\n                }\n            }, 500);\n            ",
      "text/plain": [
       "<IPython.core.display.Javascript object>"
      ]
     },
     "metadata": {},
     "output_type": "display_data"
    }
   ],
   "source": [
    "df_compare[(df_compare[\"actual_increase\"]==0) & (df_compare[\"predicted_increase\"]==0)].shape[0] / df_compare[(df_compare[\"actual_increase\"]==0)].shape[0]"
   ]
  },
  {
   "cell_type": "markdown",
   "metadata": {},
   "source": [
    "### Overall Prediction Accuracy %"
   ]
  },
  {
   "cell_type": "code",
   "execution_count": 138,
   "metadata": {},
   "outputs": [
    {
     "data": {
      "text/plain": [
       "0.551440329218107"
      ]
     },
     "execution_count": 138,
     "metadata": {},
     "output_type": "execute_result"
    },
    {
     "data": {
      "application/javascript": "\n            setTimeout(function() {\n                var nbb_cell_id = 138;\n                var nbb_unformatted_code = \"df_compare[(df_compare[\\\"actual_increase\\\"] == df_compare[\\\"predicted_increase\\\"])].shape[0] / (df_compare.shape[0])\";\n                var nbb_formatted_code = \"df_compare[(df_compare[\\\"actual_increase\\\"] == df_compare[\\\"predicted_increase\\\"])].shape[\\n    0\\n] / (df_compare.shape[0])\";\n                var nbb_cells = Jupyter.notebook.get_cells();\n                for (var i = 0; i < nbb_cells.length; ++i) {\n                    if (nbb_cells[i].input_prompt_number == nbb_cell_id) {\n                        if (nbb_cells[i].get_text() == nbb_unformatted_code) {\n                             nbb_cells[i].set_text(nbb_formatted_code);\n                        }\n                        break;\n                    }\n                }\n            }, 500);\n            ",
      "text/plain": [
       "<IPython.core.display.Javascript object>"
      ]
     },
     "metadata": {},
     "output_type": "display_data"
    }
   ],
   "source": [
    "df_compare[(df_compare[\"actual_increase\"] == df_compare[\"predicted_increase\"])].shape[0] / (df_compare.shape[0])"
   ]
  },
  {
   "cell_type": "markdown",
   "metadata": {},
   "source": [
    "### Actual Distribution of Increase (1) vs. Decrease (0)"
   ]
  },
  {
   "cell_type": "code",
   "execution_count": 139,
   "metadata": {},
   "outputs": [
    {
     "data": {
      "text/plain": [
       "1    0.518519\n",
       "0    0.481481\n",
       "Name: actual_increase, dtype: float64"
      ]
     },
     "execution_count": 139,
     "metadata": {},
     "output_type": "execute_result"
    },
    {
     "data": {
      "application/javascript": "\n            setTimeout(function() {\n                var nbb_cell_id = 139;\n                var nbb_unformatted_code = \"df_compare[\\\"actual_increase\\\"].value_counts(normalize=True)\";\n                var nbb_formatted_code = \"df_compare[\\\"actual_increase\\\"].value_counts(normalize=True)\";\n                var nbb_cells = Jupyter.notebook.get_cells();\n                for (var i = 0; i < nbb_cells.length; ++i) {\n                    if (nbb_cells[i].input_prompt_number == nbb_cell_id) {\n                        if (nbb_cells[i].get_text() == nbb_unformatted_code) {\n                             nbb_cells[i].set_text(nbb_formatted_code);\n                        }\n                        break;\n                    }\n                }\n            }, 500);\n            ",
      "text/plain": [
       "<IPython.core.display.Javascript object>"
      ]
     },
     "metadata": {},
     "output_type": "display_data"
    }
   ],
   "source": [
    "df_compare[\"actual_increase\"].value_counts(normalize=True)"
   ]
  }
 ],
 "metadata": {
  "kernelspec": {
   "display_name": "Python 3",
   "language": "python",
   "name": "python3"
  },
  "language_info": {
   "codemirror_mode": {
    "name": "ipython",
    "version": 3
   },
   "file_extension": ".py",
   "mimetype": "text/x-python",
   "name": "python",
   "nbconvert_exporter": "python",
   "pygments_lexer": "ipython3",
   "version": "3.8.10"
  }
 },
 "nbformat": 4,
 "nbformat_minor": 4
}
