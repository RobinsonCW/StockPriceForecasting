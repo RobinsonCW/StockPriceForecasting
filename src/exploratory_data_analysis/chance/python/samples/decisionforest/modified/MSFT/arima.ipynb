{
 "cells": [
  {
   "cell_type": "code",
   "execution_count": 1,
   "metadata": {},
   "outputs": [
    {
     "data": {
      "application/javascript": "\n            setTimeout(function() {\n                var nbb_cell_id = 1;\n                var nbb_unformatted_code = \"from IPython.core.debugger import set_trace\\n\\n%load_ext nb_black\\n\\n\\nimport pandas as pd\\nimport numpy as np\\nimport os\\nimport matplotlib.pyplot as plt\\nimport time\\n\\nplt.style.use(style=\\\"seaborn\\\")\\n%matplotlib inline\";\n                var nbb_formatted_code = \"from IPython.core.debugger import set_trace\\n\\n%load_ext nb_black\\n\\n\\nimport pandas as pd\\nimport numpy as np\\nimport os\\nimport matplotlib.pyplot as plt\\nimport time\\n\\nplt.style.use(style=\\\"seaborn\\\")\\n%matplotlib inline\";\n                var nbb_cells = Jupyter.notebook.get_cells();\n                for (var i = 0; i < nbb_cells.length; ++i) {\n                    if (nbb_cells[i].input_prompt_number == nbb_cell_id) {\n                        if (nbb_cells[i].get_text() == nbb_unformatted_code) {\n                             nbb_cells[i].set_text(nbb_formatted_code);\n                        }\n                        break;\n                    }\n                }\n            }, 500);\n            ",
      "text/plain": [
       "<IPython.core.display.Javascript object>"
      ]
     },
     "metadata": {},
     "output_type": "display_data"
    }
   ],
   "source": [
    "from IPython.core.debugger import set_trace\n",
    "\n",
    "%load_ext nb_black\n",
    "\n",
    "\n",
    "import pandas as pd\n",
    "import numpy as np\n",
    "import os\n",
    "import matplotlib.pyplot as plt\n",
    "import time\n",
    "\n",
    "plt.style.use(style=\"seaborn\")\n",
    "%matplotlib inline"
   ]
  },
  {
   "cell_type": "code",
   "execution_count": 2,
   "metadata": {},
   "outputs": [
    {
     "data": {
      "application/javascript": "\n            setTimeout(function() {\n                var nbb_cell_id = 2;\n                var nbb_unformatted_code = \"csv_path = \\\"/app/StockPricePredictions/data/alphavantage/time_series_daily_adjusted/MSFT/MSFT_WITH_BENZINGA_FINBERT_SA.csv\\\"\";\n                var nbb_formatted_code = \"csv_path = \\\"/app/StockPricePredictions/data/alphavantage/time_series_daily_adjusted/MSFT/MSFT_WITH_BENZINGA_FINBERT_SA.csv\\\"\";\n                var nbb_cells = Jupyter.notebook.get_cells();\n                for (var i = 0; i < nbb_cells.length; ++i) {\n                    if (nbb_cells[i].input_prompt_number == nbb_cell_id) {\n                        if (nbb_cells[i].get_text() == nbb_unformatted_code) {\n                             nbb_cells[i].set_text(nbb_formatted_code);\n                        }\n                        break;\n                    }\n                }\n            }, 500);\n            ",
      "text/plain": [
       "<IPython.core.display.Javascript object>"
      ]
     },
     "metadata": {},
     "output_type": "display_data"
    }
   ],
   "source": [
    "csv_path = \"/app/StockPricePredictions/data/alphavantage/time_series_daily_adjusted/MSFT/MSFT_WITH_BENZINGA_FINBERT_SA.csv\""
   ]
  },
  {
   "cell_type": "code",
   "execution_count": 3,
   "metadata": {},
   "outputs": [
    {
     "data": {
      "application/javascript": "\n            setTimeout(function() {\n                var nbb_cell_id = 3;\n                var nbb_unformatted_code = \"df = pd.read_csv(csv_path)\\ndf.sort_values(by=[\\\"date\\\"], ascending=True, inplace=True)\\ndf.reset_index(drop=True, inplace=True)\\n\\ndate_time = pd.to_datetime(df.pop('date'))\\n\\ndf = df[[\\\"5. adjusted close\\\"]].copy()\";\n                var nbb_formatted_code = \"df = pd.read_csv(csv_path)\\ndf.sort_values(by=[\\\"date\\\"], ascending=True, inplace=True)\\ndf.reset_index(drop=True, inplace=True)\\n\\ndate_time = pd.to_datetime(df.pop(\\\"date\\\"))\\n\\ndf = df[[\\\"5. adjusted close\\\"]].copy()\";\n                var nbb_cells = Jupyter.notebook.get_cells();\n                for (var i = 0; i < nbb_cells.length; ++i) {\n                    if (nbb_cells[i].input_prompt_number == nbb_cell_id) {\n                        if (nbb_cells[i].get_text() == nbb_unformatted_code) {\n                             nbb_cells[i].set_text(nbb_formatted_code);\n                        }\n                        break;\n                    }\n                }\n            }, 500);\n            ",
      "text/plain": [
       "<IPython.core.display.Javascript object>"
      ]
     },
     "metadata": {},
     "output_type": "display_data"
    }
   ],
   "source": [
    "df = pd.read_csv(csv_path)\n",
    "df.sort_values(by=[\"date\"], ascending=True, inplace=True)\n",
    "df.reset_index(drop=True, inplace=True)\n",
    "\n",
    "date_time = pd.to_datetime(df.pop('date'))\n",
    "\n",
    "df = df[[\"5. adjusted close\"]].copy()"
   ]
  },
  {
   "cell_type": "code",
   "execution_count": 4,
   "metadata": {},
   "outputs": [
    {
     "name": "stdout",
     "output_type": "stream",
     "text": [
      "2757\n",
      "307\n"
     ]
    },
    {
     "data": {
      "application/javascript": "\n            setTimeout(function() {\n                var nbb_cell_id = 4;\n                var nbb_unformatted_code = \"split_time = int(len(df) * .9)\\n\\ntrain_df = df[:split_time]\\ntest_df = df[split_time:]\\n\\nprint(len(train_df))\\nprint(len(test_df))\\n\\ndf = test_df[[\\\"5. adjusted close\\\"]].copy()\";\n                var nbb_formatted_code = \"split_time = int(len(df) * 0.9)\\n\\ntrain_df = df[:split_time]\\ntest_df = df[split_time:]\\n\\nprint(len(train_df))\\nprint(len(test_df))\\n\\ndf = test_df[[\\\"5. adjusted close\\\"]].copy()\";\n                var nbb_cells = Jupyter.notebook.get_cells();\n                for (var i = 0; i < nbb_cells.length; ++i) {\n                    if (nbb_cells[i].input_prompt_number == nbb_cell_id) {\n                        if (nbb_cells[i].get_text() == nbb_unformatted_code) {\n                             nbb_cells[i].set_text(nbb_formatted_code);\n                        }\n                        break;\n                    }\n                }\n            }, 500);\n            ",
      "text/plain": [
       "<IPython.core.display.Javascript object>"
      ]
     },
     "metadata": {},
     "output_type": "display_data"
    }
   ],
   "source": [
    "split_time = int(len(df) * .9)\n",
    "\n",
    "train_df = df[:split_time]\n",
    "test_df = df[split_time:]\n",
    "\n",
    "print(len(train_df))\n",
    "print(len(test_df))\n",
    "\n",
    "df = test_df[[\"5. adjusted close\"]].copy()"
   ]
  },
  {
   "cell_type": "code",
   "execution_count": 5,
   "metadata": {},
   "outputs": [
    {
     "data": {
      "text/html": [
       "<div>\n",
       "<style scoped>\n",
       "    .dataframe tbody tr th:only-of-type {\n",
       "        vertical-align: middle;\n",
       "    }\n",
       "\n",
       "    .dataframe tbody tr th {\n",
       "        vertical-align: top;\n",
       "    }\n",
       "\n",
       "    .dataframe thead th {\n",
       "        text-align: right;\n",
       "    }\n",
       "</style>\n",
       "<table border=\"1\" class=\"dataframe\">\n",
       "  <thead>\n",
       "    <tr style=\"text-align: right;\">\n",
       "      <th></th>\n",
       "      <th>5. adjusted close</th>\n",
       "    </tr>\n",
       "  </thead>\n",
       "  <tbody>\n",
       "    <tr>\n",
       "      <th>count</th>\n",
       "      <td>307.000000</td>\n",
       "    </tr>\n",
       "    <tr>\n",
       "      <th>mean</th>\n",
       "      <td>276.163919</td>\n",
       "    </tr>\n",
       "    <tr>\n",
       "      <th>std</th>\n",
       "      <td>37.300208</td>\n",
       "    </tr>\n",
       "    <tr>\n",
       "      <th>min</th>\n",
       "      <td>210.051892</td>\n",
       "    </tr>\n",
       "    <tr>\n",
       "      <th>25%</th>\n",
       "      <td>242.339020</td>\n",
       "    </tr>\n",
       "    <tr>\n",
       "      <th>50%</th>\n",
       "      <td>282.417959</td>\n",
       "    </tr>\n",
       "    <tr>\n",
       "      <th>75%</th>\n",
       "      <td>302.217360</td>\n",
       "    </tr>\n",
       "    <tr>\n",
       "      <th>max</th>\n",
       "      <td>342.401190</td>\n",
       "    </tr>\n",
       "  </tbody>\n",
       "</table>\n",
       "</div>"
      ],
      "text/plain": [
       "       5. adjusted close\n",
       "count         307.000000\n",
       "mean          276.163919\n",
       "std            37.300208\n",
       "min           210.051892\n",
       "25%           242.339020\n",
       "50%           282.417959\n",
       "75%           302.217360\n",
       "max           342.401190"
      ]
     },
     "execution_count": 5,
     "metadata": {},
     "output_type": "execute_result"
    },
    {
     "data": {
      "application/javascript": "\n            setTimeout(function() {\n                var nbb_cell_id = 5;\n                var nbb_unformatted_code = \"df.describe()\";\n                var nbb_formatted_code = \"df.describe()\";\n                var nbb_cells = Jupyter.notebook.get_cells();\n                for (var i = 0; i < nbb_cells.length; ++i) {\n                    if (nbb_cells[i].input_prompt_number == nbb_cell_id) {\n                        if (nbb_cells[i].get_text() == nbb_unformatted_code) {\n                             nbb_cells[i].set_text(nbb_formatted_code);\n                        }\n                        break;\n                    }\n                }\n            }, 500);\n            ",
      "text/plain": [
       "<IPython.core.display.Javascript object>"
      ]
     },
     "metadata": {},
     "output_type": "display_data"
    }
   ],
   "source": [
    "df.describe()"
   ]
  },
  {
   "cell_type": "code",
   "execution_count": 6,
   "metadata": {},
   "outputs": [
    {
     "data": {
      "text/html": [
       "<div>\n",
       "<style scoped>\n",
       "    .dataframe tbody tr th:only-of-type {\n",
       "        vertical-align: middle;\n",
       "    }\n",
       "\n",
       "    .dataframe tbody tr th {\n",
       "        vertical-align: top;\n",
       "    }\n",
       "\n",
       "    .dataframe thead th {\n",
       "        text-align: right;\n",
       "    }\n",
       "</style>\n",
       "<table border=\"1\" class=\"dataframe\">\n",
       "  <thead>\n",
       "    <tr style=\"text-align: right;\">\n",
       "      <th></th>\n",
       "      <th>5. adjusted close</th>\n",
       "    </tr>\n",
       "  </thead>\n",
       "  <tbody>\n",
       "    <tr>\n",
       "      <th>2757</th>\n",
       "      <td>211.912422</td>\n",
       "    </tr>\n",
       "    <tr>\n",
       "      <th>2758</th>\n",
       "      <td>217.009088</td>\n",
       "    </tr>\n",
       "    <tr>\n",
       "      <th>2759</th>\n",
       "      <td>217.147638</td>\n",
       "    </tr>\n",
       "    <tr>\n",
       "      <th>2760</th>\n",
       "      <td>216.326234</td>\n",
       "    </tr>\n",
       "    <tr>\n",
       "      <th>2761</th>\n",
       "      <td>220.284809</td>\n",
       "    </tr>\n",
       "  </tbody>\n",
       "</table>\n",
       "</div>"
      ],
      "text/plain": [
       "      5. adjusted close\n",
       "2757         211.912422\n",
       "2758         217.009088\n",
       "2759         217.147638\n",
       "2760         216.326234\n",
       "2761         220.284809"
      ]
     },
     "execution_count": 6,
     "metadata": {},
     "output_type": "execute_result"
    },
    {
     "data": {
      "application/javascript": "\n            setTimeout(function() {\n                var nbb_cell_id = 6;\n                var nbb_unformatted_code = \"df.head()\";\n                var nbb_formatted_code = \"df.head()\";\n                var nbb_cells = Jupyter.notebook.get_cells();\n                for (var i = 0; i < nbb_cells.length; ++i) {\n                    if (nbb_cells[i].input_prompt_number == nbb_cell_id) {\n                        if (nbb_cells[i].get_text() == nbb_unformatted_code) {\n                             nbb_cells[i].set_text(nbb_formatted_code);\n                        }\n                        break;\n                    }\n                }\n            }, 500);\n            ",
      "text/plain": [
       "<IPython.core.display.Javascript object>"
      ]
     },
     "metadata": {},
     "output_type": "display_data"
    }
   ],
   "source": [
    "df.head()"
   ]
  },
  {
   "cell_type": "markdown",
   "metadata": {},
   "source": [
    "### Check if the time series is stationary"
   ]
  },
  {
   "cell_type": "code",
   "execution_count": 7,
   "metadata": {},
   "outputs": [
    {
     "name": "stdout",
     "output_type": "stream",
     "text": [
      "ADF Statistic: -1.6999661731484106\n",
      "p-value: 0.43112990556462827\n"
     ]
    },
    {
     "data": {
      "application/javascript": "\n            setTimeout(function() {\n                var nbb_cell_id = 7;\n                var nbb_unformatted_code = \"from statsmodels.tsa.stattools import adfuller\\n\\nresult = adfuller(df[\\\"5. adjusted close\\\"])\\nprint(f\\\"ADF Statistic: {result[0]}\\\")\\nprint(f\\\"p-value: {result[1]}\\\")\";\n                var nbb_formatted_code = \"from statsmodels.tsa.stattools import adfuller\\n\\nresult = adfuller(df[\\\"5. adjusted close\\\"])\\nprint(f\\\"ADF Statistic: {result[0]}\\\")\\nprint(f\\\"p-value: {result[1]}\\\")\";\n                var nbb_cells = Jupyter.notebook.get_cells();\n                for (var i = 0; i < nbb_cells.length; ++i) {\n                    if (nbb_cells[i].input_prompt_number == nbb_cell_id) {\n                        if (nbb_cells[i].get_text() == nbb_unformatted_code) {\n                             nbb_cells[i].set_text(nbb_formatted_code);\n                        }\n                        break;\n                    }\n                }\n            }, 500);\n            ",
      "text/plain": [
       "<IPython.core.display.Javascript object>"
      ]
     },
     "metadata": {},
     "output_type": "display_data"
    }
   ],
   "source": [
    "from statsmodels.tsa.stattools import adfuller\n",
    "\n",
    "result = adfuller(df[\"5. adjusted close\"])\n",
    "print(f\"ADF Statistic: {result[0]}\")\n",
    "print(f\"p-value: {result[1]}\")"
   ]
  },
  {
   "cell_type": "markdown",
   "metadata": {},
   "source": [
    "#### Autocorrelation Function (ACF)"
   ]
  },
  {
   "cell_type": "code",
   "execution_count": 8,
   "metadata": {},
   "outputs": [
    {
     "data": {
      "application/javascript": "\n            setTimeout(function() {\n                var nbb_cell_id = 8;\n                var nbb_unformatted_code = \"from statsmodels.graphics.tsaplots import plot_acf\";\n                var nbb_formatted_code = \"from statsmodels.graphics.tsaplots import plot_acf\";\n                var nbb_cells = Jupyter.notebook.get_cells();\n                for (var i = 0; i < nbb_cells.length; ++i) {\n                    if (nbb_cells[i].input_prompt_number == nbb_cell_id) {\n                        if (nbb_cells[i].get_text() == nbb_unformatted_code) {\n                             nbb_cells[i].set_text(nbb_formatted_code);\n                        }\n                        break;\n                    }\n                }\n            }, 500);\n            ",
      "text/plain": [
       "<IPython.core.display.Javascript object>"
      ]
     },
     "metadata": {},
     "output_type": "display_data"
    }
   ],
   "source": [
    "from statsmodels.graphics.tsaplots import plot_acf"
   ]
  },
  {
   "cell_type": "code",
   "execution_count": 9,
   "metadata": {},
   "outputs": [
    {
     "data": {
      "image/png": "[encoded data removed]",
      "text/plain": [
       "<Figure size 1152x288 with 2 Axes>"
      ]
     },
     "metadata": {
      "needs_background": "light"
     },
     "output_type": "display_data"
    },
    {
     "data": {
      "application/javascript": "\n            setTimeout(function() {\n                var nbb_cell_id = 9;\n                var nbb_unformatted_code = \"fig, (ax1, ax2) = plt.subplots(1, 2, figsize=(16,4))\\n\\nax1.plot(df[\\\"5. adjusted close\\\"])\\nax1.set_title(\\\"Original\\\")\\nplot_acf(df[\\\"5. adjusted close\\\"], ax=ax2);\";\n                var nbb_formatted_code = \"fig, (ax1, ax2) = plt.subplots(1, 2, figsize=(16, 4))\\n\\nax1.plot(df[\\\"5. adjusted close\\\"])\\nax1.set_title(\\\"Original\\\")\\nplot_acf(df[\\\"5. adjusted close\\\"], ax=ax2)\";\n                var nbb_cells = Jupyter.notebook.get_cells();\n                for (var i = 0; i < nbb_cells.length; ++i) {\n                    if (nbb_cells[i].input_prompt_number == nbb_cell_id) {\n                        if (nbb_cells[i].get_text() == nbb_unformatted_code) {\n                             nbb_cells[i].set_text(nbb_formatted_code);\n                        }\n                        break;\n                    }\n                }\n            }, 500);\n            ",
      "text/plain": [
       "<IPython.core.display.Javascript object>"
      ]
     },
     "metadata": {},
     "output_type": "display_data"
    }
   ],
   "source": [
    "fig, (ax1, ax2) = plt.subplots(1, 2, figsize=(16,4))\n",
    "\n",
    "ax1.plot(df[\"5. adjusted close\"])\n",
    "ax1.set_title(\"Original\")\n",
    "plot_acf(df[\"5. adjusted close\"], ax=ax2);"
   ]
  },
  {
   "cell_type": "code",
   "execution_count": 10,
   "metadata": {},
   "outputs": [
    {
     "data": {
      "image/png": "[encoded data removed]",
      "text/plain": [
       "<Figure size 1152x288 with 2 Axes>"
      ]
     },
     "metadata": {
      "needs_background": "light"
     },
     "output_type": "display_data"
    },
    {
     "data": {
      "application/javascript": "\n            setTimeout(function() {\n                var nbb_cell_id = 10;\n                var nbb_unformatted_code = \"diff = df[\\\"5. adjusted close\\\"].diff().dropna()\\n\\nfig, (ax1, ax2) = plt.subplots(1, 2, figsize=(16,4))\\n\\nax1.plot(diff)\\nax1.set_title(\\\"Differenced Once\\\")\\nplot_acf(diff, ax=ax2);\";\n                var nbb_formatted_code = \"diff = df[\\\"5. adjusted close\\\"].diff().dropna()\\n\\nfig, (ax1, ax2) = plt.subplots(1, 2, figsize=(16, 4))\\n\\nax1.plot(diff)\\nax1.set_title(\\\"Differenced Once\\\")\\nplot_acf(diff, ax=ax2)\";\n                var nbb_cells = Jupyter.notebook.get_cells();\n                for (var i = 0; i < nbb_cells.length; ++i) {\n                    if (nbb_cells[i].input_prompt_number == nbb_cell_id) {\n                        if (nbb_cells[i].get_text() == nbb_unformatted_code) {\n                             nbb_cells[i].set_text(nbb_formatted_code);\n                        }\n                        break;\n                    }\n                }\n            }, 500);\n            ",
      "text/plain": [
       "<IPython.core.display.Javascript object>"
      ]
     },
     "metadata": {},
     "output_type": "display_data"
    }
   ],
   "source": [
    "diff = df[\"5. adjusted close\"].diff().dropna()\n",
    "\n",
    "fig, (ax1, ax2) = plt.subplots(1, 2, figsize=(16,4))\n",
    "\n",
    "ax1.plot(diff)\n",
    "ax1.set_title(\"Differenced Once\")\n",
    "plot_acf(diff, ax=ax2);"
   ]
  },
  {
   "cell_type": "code",
   "execution_count": 11,
   "metadata": {},
   "outputs": [
    {
     "data": {
      "application/javascript": "\n            setTimeout(function() {\n                var nbb_cell_id = 11;\n                var nbb_unformatted_code = \"# pip install pmdarima\\nfrom pmdarima.arima.utils import ndiffs\";\n                var nbb_formatted_code = \"# pip install pmdarima\\nfrom pmdarima.arima.utils import ndiffs\";\n                var nbb_cells = Jupyter.notebook.get_cells();\n                for (var i = 0; i < nbb_cells.length; ++i) {\n                    if (nbb_cells[i].input_prompt_number == nbb_cell_id) {\n                        if (nbb_cells[i].get_text() == nbb_unformatted_code) {\n                             nbb_cells[i].set_text(nbb_formatted_code);\n                        }\n                        break;\n                    }\n                }\n            }, 500);\n            ",
      "text/plain": [
       "<IPython.core.display.Javascript object>"
      ]
     },
     "metadata": {},
     "output_type": "display_data"
    }
   ],
   "source": [
    "# pip install pmdarima\n",
    "from pmdarima.arima.utils import ndiffs"
   ]
  },
  {
   "cell_type": "code",
   "execution_count": 12,
   "metadata": {},
   "outputs": [
    {
     "data": {
      "text/plain": [
       "1"
      ]
     },
     "execution_count": 12,
     "metadata": {},
     "output_type": "execute_result"
    },
    {
     "data": {
      "application/javascript": "\n            setTimeout(function() {\n                var nbb_cell_id = 12;\n                var nbb_unformatted_code = \"ndiffs(df[\\\"5. adjusted close\\\"])\";\n                var nbb_formatted_code = \"ndiffs(df[\\\"5. adjusted close\\\"])\";\n                var nbb_cells = Jupyter.notebook.get_cells();\n                for (var i = 0; i < nbb_cells.length; ++i) {\n                    if (nbb_cells[i].input_prompt_number == nbb_cell_id) {\n                        if (nbb_cells[i].get_text() == nbb_unformatted_code) {\n                             nbb_cells[i].set_text(nbb_formatted_code);\n                        }\n                        break;\n                    }\n                }\n            }, 500);\n            ",
      "text/plain": [
       "<IPython.core.display.Javascript object>"
      ]
     },
     "metadata": {},
     "output_type": "display_data"
    }
   ],
   "source": [
    "ndiffs(df[\"5. adjusted close\"])"
   ]
  },
  {
   "cell_type": "markdown",
   "metadata": {},
   "source": [
    "__p__\n",
    "\n",
    "p is the order of the Auto Regressive (AR) term.  It refers to the number of lags to be used as predictors.\n",
    "\n",
    "We can find out the required number of AR terms by inspecting the Partial Autocorrelation (PACF) plot.\n",
    "\n",
    "The partial autocorrelation represents the correlation between the series and its lags."
   ]
  },
  {
   "cell_type": "code",
   "execution_count": 13,
   "metadata": {},
   "outputs": [
    {
     "data": {
      "application/javascript": "\n            setTimeout(function() {\n                var nbb_cell_id = 13;\n                var nbb_unformatted_code = \"from statsmodels.graphics.tsaplots import plot_pacf\";\n                var nbb_formatted_code = \"from statsmodels.graphics.tsaplots import plot_pacf\";\n                var nbb_cells = Jupyter.notebook.get_cells();\n                for (var i = 0; i < nbb_cells.length; ++i) {\n                    if (nbb_cells[i].input_prompt_number == nbb_cell_id) {\n                        if (nbb_cells[i].get_text() == nbb_unformatted_code) {\n                             nbb_cells[i].set_text(nbb_formatted_code);\n                        }\n                        break;\n                    }\n                }\n            }, 500);\n            ",
      "text/plain": [
       "<IPython.core.display.Javascript object>"
      ]
     },
     "metadata": {},
     "output_type": "display_data"
    }
   ],
   "source": [
    "from statsmodels.graphics.tsaplots import plot_pacf"
   ]
  },
  {
   "cell_type": "code",
   "execution_count": 14,
   "metadata": {},
   "outputs": [
    {
     "name": "stderr",
     "output_type": "stream",
     "text": [
      "/usr/local/lib/python3.8/dist-packages/statsmodels/graphics/tsaplots.py:348: FutureWarning: The default method 'yw' can produce PACF values outside of the [-1,1] interval. After 0.13, the default will change tounadjusted Yule-Walker ('ywm'). You can use this method now by setting method='ywm'.\n",
      "  warnings.warn(\n"
     ]
    },
    {
     "data": {
      "image/png": "[encoded data removed]",
      "text/plain": [
       "<Figure size 1152x288 with 2 Axes>"
      ]
     },
     "metadata": {
      "needs_background": "light"
     },
     "output_type": "display_data"
    },
    {
     "data": {
      "application/javascript": "\n            setTimeout(function() {\n                var nbb_cell_id = 14;\n                var nbb_unformatted_code = \"diff = df[\\\"5. adjusted close\\\"].diff().dropna()\\n\\nfig, (ax1, ax2) = plt.subplots(1, 2, figsize=(16,4))\\n\\nax1.plot(diff)\\nax1.set_title(\\\"Differenced Once\\\")\\nplot_pacf(diff, ax=ax2);\";\n                var nbb_formatted_code = \"diff = df[\\\"5. adjusted close\\\"].diff().dropna()\\n\\nfig, (ax1, ax2) = plt.subplots(1, 2, figsize=(16, 4))\\n\\nax1.plot(diff)\\nax1.set_title(\\\"Differenced Once\\\")\\nplot_pacf(diff, ax=ax2)\";\n                var nbb_cells = Jupyter.notebook.get_cells();\n                for (var i = 0; i < nbb_cells.length; ++i) {\n                    if (nbb_cells[i].input_prompt_number == nbb_cell_id) {\n                        if (nbb_cells[i].get_text() == nbb_unformatted_code) {\n                             nbb_cells[i].set_text(nbb_formatted_code);\n                        }\n                        break;\n                    }\n                }\n            }, 500);\n            ",
      "text/plain": [
       "<IPython.core.display.Javascript object>"
      ]
     },
     "metadata": {},
     "output_type": "display_data"
    }
   ],
   "source": [
    "diff = df[\"5. adjusted close\"].diff().dropna()\n",
    "\n",
    "fig, (ax1, ax2) = plt.subplots(1, 2, figsize=(16,4))\n",
    "\n",
    "ax1.plot(diff)\n",
    "ax1.set_title(\"Differenced Once\")\n",
    "plot_pacf(diff, ax=ax2);"
   ]
  },
  {
   "cell_type": "markdown",
   "metadata": {},
   "source": [
    "__q__\n",
    "\n",
    "q is the order of the Moving Average (MA) term.  It refers to the number of lagged forecast errors that should go into the ARIMA Model.\n",
    "\n",
    "We can look at the ACF plot for the number of MA terms.\n",
    "\n"
   ]
  },
  {
   "cell_type": "code",
   "execution_count": 15,
   "metadata": {},
   "outputs": [
    {
     "data": {
      "image/png": "[encoded data removed]",
      "text/plain": [
       "<Figure size 1152x288 with 2 Axes>"
      ]
     },
     "metadata": {
      "needs_background": "light"
     },
     "output_type": "display_data"
    },
    {
     "data": {
      "application/javascript": "\n            setTimeout(function() {\n                var nbb_cell_id = 15;\n                var nbb_unformatted_code = \"diff = df[\\\"5. adjusted close\\\"].diff().dropna()\\n\\nfig, (ax1, ax2) = plt.subplots(1, 2, figsize=(16,4))\\n\\nax1.plot(diff)\\nax1.set_title(\\\"Differenced Once\\\")\\nplot_acf(diff, ax=ax2);\";\n                var nbb_formatted_code = \"diff = df[\\\"5. adjusted close\\\"].diff().dropna()\\n\\nfig, (ax1, ax2) = plt.subplots(1, 2, figsize=(16, 4))\\n\\nax1.plot(diff)\\nax1.set_title(\\\"Differenced Once\\\")\\nplot_acf(diff, ax=ax2)\";\n                var nbb_cells = Jupyter.notebook.get_cells();\n                for (var i = 0; i < nbb_cells.length; ++i) {\n                    if (nbb_cells[i].input_prompt_number == nbb_cell_id) {\n                        if (nbb_cells[i].get_text() == nbb_unformatted_code) {\n                             nbb_cells[i].set_text(nbb_formatted_code);\n                        }\n                        break;\n                    }\n                }\n            }, 500);\n            ",
      "text/plain": [
       "<IPython.core.display.Javascript object>"
      ]
     },
     "metadata": {},
     "output_type": "display_data"
    }
   ],
   "source": [
    "diff = df[\"5. adjusted close\"].diff().dropna()\n",
    "\n",
    "fig, (ax1, ax2) = plt.subplots(1, 2, figsize=(16,4))\n",
    "\n",
    "ax1.plot(diff)\n",
    "ax1.set_title(\"Differenced Once\")\n",
    "plot_acf(diff, ax=ax2);"
   ]
  },
  {
   "cell_type": "markdown",
   "metadata": {},
   "source": [
    "#### Fitting the ARIMA Model"
   ]
  },
  {
   "cell_type": "code",
   "execution_count": 16,
   "metadata": {},
   "outputs": [
    {
     "name": "stderr",
     "output_type": "stream",
     "text": [
      "/usr/local/lib/python3.8/dist-packages/statsmodels/tsa/statespace/sarimax.py:966: UserWarning: Non-stationary starting autoregressive parameters found. Using zeros as starting parameters.\n",
      "  warn('Non-stationary starting autoregressive parameters'\n",
      "/usr/local/lib/python3.8/dist-packages/statsmodels/tsa/statespace/sarimax.py:978: UserWarning: Non-invertible starting MA parameters found. Using zeros as starting parameters.\n",
      "  warn('Non-invertible starting MA parameters found.'\n",
      "/usr/local/lib/python3.8/dist-packages/statsmodels/base/model.py:604: ConvergenceWarning: Maximum Likelihood optimization failed to converge. Check mle_retvals\n",
      "  warnings.warn(\"Maximum Likelihood optimization failed to \"\n"
     ]
    },
    {
     "data": {
      "application/javascript": "\n            setTimeout(function() {\n                var nbb_cell_id = 16;\n                var nbb_unformatted_code = \"from statsmodels.tsa.arima.model import ARIMA\\n# from statsmodels.tsa.arima_model import ARIMA\\n\\nmodel = ARIMA(df[\\\"5. adjusted close\\\"], order=(12,1,13))\\nresult = model.fit()\";\n                var nbb_formatted_code = \"from statsmodels.tsa.arima.model import ARIMA\\n\\n# from statsmodels.tsa.arima_model import ARIMA\\n\\nmodel = ARIMA(df[\\\"5. adjusted close\\\"], order=(12, 1, 13))\\nresult = model.fit()\";\n                var nbb_cells = Jupyter.notebook.get_cells();\n                for (var i = 0; i < nbb_cells.length; ++i) {\n                    if (nbb_cells[i].input_prompt_number == nbb_cell_id) {\n                        if (nbb_cells[i].get_text() == nbb_unformatted_code) {\n                             nbb_cells[i].set_text(nbb_formatted_code);\n                        }\n                        break;\n                    }\n                }\n            }, 500);\n            ",
      "text/plain": [
       "<IPython.core.display.Javascript object>"
      ]
     },
     "metadata": {},
     "output_type": "display_data"
    }
   ],
   "source": [
    "from statsmodels.tsa.arima.model import ARIMA\n",
    "# from statsmodels.tsa.arima_model import ARIMA\n",
    "\n",
    "model = ARIMA(df[\"5. adjusted close\"], order=(12,1,13))\n",
    "result = model.fit()\n"
   ]
  },
  {
   "cell_type": "code",
   "execution_count": 17,
   "metadata": {},
   "outputs": [
    {
     "data": {
      "text/html": [
       "<table class=\"simpletable\">\n",
       "<caption>SARIMAX Results</caption>\n",
       "<tr>\n",
       "  <th>Dep. Variable:</th>   <td>5. adjusted close</td> <th>  No. Observations:  </th>    <td>307</td>  \n",
       "</tr>\n",
       "<tr>\n",
       "  <th>Model:</th>           <td>ARIMA(12, 1, 13)</td>  <th>  Log Likelihood     </th> <td>-845.051</td>\n",
       "</tr>\n",
       "<tr>\n",
       "  <th>Date:</th>            <td>Sat, 09 Jul 2022</td>  <th>  AIC                </th> <td>1742.103</td>\n",
       "</tr>\n",
       "<tr>\n",
       "  <th>Time:</th>                <td>05:02:06</td>      <th>  BIC                </th> <td>1838.916</td>\n",
       "</tr>\n",
       "<tr>\n",
       "  <th>Sample:</th>                  <td>0</td>         <th>  HQIC               </th> <td>1780.822</td>\n",
       "</tr>\n",
       "<tr>\n",
       "  <th></th>                      <td> - 307</td>       <th>                     </th>     <td> </td>   \n",
       "</tr>\n",
       "<tr>\n",
       "  <th>Covariance Type:</th>        <td>opg</td>        <th>                     </th>     <td> </td>   \n",
       "</tr>\n",
       "</table>\n",
       "<table class=\"simpletable\">\n",
       "<tr>\n",
       "     <td></td>       <th>coef</th>     <th>std err</th>      <th>z</th>      <th>P>|z|</th>  <th>[0.025</th>    <th>0.975]</th>  \n",
       "</tr>\n",
       "<tr>\n",
       "  <th>ar.L1</th>  <td>   -0.6728</td> <td>    1.078</td> <td>   -0.624</td> <td> 0.532</td> <td>   -2.785</td> <td>    1.439</td>\n",
       "</tr>\n",
       "<tr>\n",
       "  <th>ar.L2</th>  <td>    0.0926</td> <td>    1.027</td> <td>    0.090</td> <td> 0.928</td> <td>   -1.920</td> <td>    2.105</td>\n",
       "</tr>\n",
       "<tr>\n",
       "  <th>ar.L3</th>  <td>   -0.0015</td> <td>    0.587</td> <td>   -0.003</td> <td> 0.998</td> <td>   -1.151</td> <td>    1.148</td>\n",
       "</tr>\n",
       "<tr>\n",
       "  <th>ar.L4</th>  <td>   -0.1343</td> <td>    0.564</td> <td>   -0.238</td> <td> 0.812</td> <td>   -1.241</td> <td>    0.972</td>\n",
       "</tr>\n",
       "<tr>\n",
       "  <th>ar.L5</th>  <td>    0.1011</td> <td>    0.503</td> <td>    0.201</td> <td> 0.841</td> <td>   -0.886</td> <td>    1.088</td>\n",
       "</tr>\n",
       "<tr>\n",
       "  <th>ar.L6</th>  <td>    0.0368</td> <td>    0.554</td> <td>    0.066</td> <td> 0.947</td> <td>   -1.049</td> <td>    1.123</td>\n",
       "</tr>\n",
       "<tr>\n",
       "  <th>ar.L7</th>  <td>   -0.1192</td> <td>    0.476</td> <td>   -0.250</td> <td> 0.802</td> <td>   -1.053</td> <td>    0.814</td>\n",
       "</tr>\n",
       "<tr>\n",
       "  <th>ar.L8</th>  <td>    0.0845</td> <td>    0.593</td> <td>    0.142</td> <td> 0.887</td> <td>   -1.078</td> <td>    1.247</td>\n",
       "</tr>\n",
       "<tr>\n",
       "  <th>ar.L9</th>  <td>   -0.0505</td> <td>    0.388</td> <td>   -0.130</td> <td> 0.896</td> <td>   -0.811</td> <td>    0.710</td>\n",
       "</tr>\n",
       "<tr>\n",
       "  <th>ar.L10</th> <td>   -0.4451</td> <td>    0.362</td> <td>   -1.228</td> <td> 0.219</td> <td>   -1.155</td> <td>    0.265</td>\n",
       "</tr>\n",
       "<tr>\n",
       "  <th>ar.L11</th> <td>   -0.4163</td> <td>    0.694</td> <td>   -0.600</td> <td> 0.548</td> <td>   -1.776</td> <td>    0.943</td>\n",
       "</tr>\n",
       "<tr>\n",
       "  <th>ar.L12</th> <td>   -0.3642</td> <td>    0.517</td> <td>   -0.704</td> <td> 0.482</td> <td>   -1.378</td> <td>    0.650</td>\n",
       "</tr>\n",
       "<tr>\n",
       "  <th>ma.L1</th>  <td>    0.6115</td> <td>    1.210</td> <td>    0.505</td> <td> 0.613</td> <td>   -1.761</td> <td>    2.984</td>\n",
       "</tr>\n",
       "<tr>\n",
       "  <th>ma.L2</th>  <td>   -0.0387</td> <td>    1.625</td> <td>   -0.024</td> <td> 0.981</td> <td>   -3.223</td> <td>    3.145</td>\n",
       "</tr>\n",
       "<tr>\n",
       "  <th>ma.L3</th>  <td>    0.0512</td> <td>    1.304</td> <td>    0.039</td> <td> 0.969</td> <td>   -2.506</td> <td>    2.608</td>\n",
       "</tr>\n",
       "<tr>\n",
       "  <th>ma.L4</th>  <td>    0.0385</td> <td>    0.965</td> <td>    0.040</td> <td> 0.968</td> <td>   -1.854</td> <td>    1.931</td>\n",
       "</tr>\n",
       "<tr>\n",
       "  <th>ma.L5</th>  <td>   -0.2075</td> <td>    0.901</td> <td>   -0.230</td> <td> 0.818</td> <td>   -1.973</td> <td>    1.558</td>\n",
       "</tr>\n",
       "<tr>\n",
       "  <th>ma.L6</th>  <td>   -0.0021</td> <td>    0.765</td> <td>   -0.003</td> <td> 0.998</td> <td>   -1.502</td> <td>    1.498</td>\n",
       "</tr>\n",
       "<tr>\n",
       "  <th>ma.L7</th>  <td>    0.3154</td> <td>    1.094</td> <td>    0.288</td> <td> 0.773</td> <td>   -1.828</td> <td>    2.459</td>\n",
       "</tr>\n",
       "<tr>\n",
       "  <th>ma.L8</th>  <td>   -0.0692</td> <td>    1.180</td> <td>   -0.059</td> <td> 0.953</td> <td>   -2.381</td> <td>    2.243</td>\n",
       "</tr>\n",
       "<tr>\n",
       "  <th>ma.L9</th>  <td>   -0.0136</td> <td>    1.310</td> <td>   -0.010</td> <td> 0.992</td> <td>   -2.581</td> <td>    2.553</td>\n",
       "</tr>\n",
       "<tr>\n",
       "  <th>ma.L10</th> <td>    0.5003</td> <td>    1.130</td> <td>    0.443</td> <td> 0.658</td> <td>   -1.714</td> <td>    2.715</td>\n",
       "</tr>\n",
       "<tr>\n",
       "  <th>ma.L11</th> <td>    0.5702</td> <td>    1.353</td> <td>    0.421</td> <td> 0.673</td> <td>   -2.082</td> <td>    3.222</td>\n",
       "</tr>\n",
       "<tr>\n",
       "  <th>ma.L12</th> <td>    0.5267</td> <td>    0.941</td> <td>    0.560</td> <td> 0.576</td> <td>   -1.317</td> <td>    2.371</td>\n",
       "</tr>\n",
       "<tr>\n",
       "  <th>ma.L13</th> <td>   -0.0582</td> <td>    0.177</td> <td>   -0.329</td> <td> 0.742</td> <td>   -0.405</td> <td>    0.288</td>\n",
       "</tr>\n",
       "<tr>\n",
       "  <th>sigma2</th> <td>   14.3991</td> <td>   15.500</td> <td>    0.929</td> <td> 0.353</td> <td>  -15.981</td> <td>   44.779</td>\n",
       "</tr>\n",
       "</table>\n",
       "<table class=\"simpletable\">\n",
       "<tr>\n",
       "  <th>Ljung-Box (L1) (Q):</th>     <td>0.01</td> <th>  Jarque-Bera (JB):  </th> <td>14.74</td>\n",
       "</tr>\n",
       "<tr>\n",
       "  <th>Prob(Q):</th>                <td>0.94</td> <th>  Prob(JB):          </th> <td>0.00</td> \n",
       "</tr>\n",
       "<tr>\n",
       "  <th>Heteroskedasticity (H):</th> <td>2.24</td> <th>  Skew:              </th> <td>-0.33</td>\n",
       "</tr>\n",
       "<tr>\n",
       "  <th>Prob(H) (two-sided):</th>    <td>0.00</td> <th>  Kurtosis:          </th> <td>3.85</td> \n",
       "</tr>\n",
       "</table><br/><br/>Warnings:<br/>[1] Covariance matrix calculated using the outer product of gradients (complex-step)."
      ],
      "text/plain": [
       "<class 'statsmodels.iolib.summary.Summary'>\n",
       "\"\"\"\n",
       "                               SARIMAX Results                                \n",
       "==============================================================================\n",
       "Dep. Variable:      5. adjusted close   No. Observations:                  307\n",
       "Model:               ARIMA(12, 1, 13)   Log Likelihood                -845.051\n",
       "Date:                Sat, 09 Jul 2022   AIC                           1742.103\n",
       "Time:                        05:02:06   BIC                           1838.916\n",
       "Sample:                             0   HQIC                          1780.822\n",
       "                                - 307                                         \n",
       "Covariance Type:                  opg                                         \n",
       "==============================================================================\n",
       "                 coef    std err          z      P>|z|      [0.025      0.975]\n",
       "------------------------------------------------------------------------------\n",
       "ar.L1         -0.6728      1.078     -0.624      0.532      -2.785       1.439\n",
       "ar.L2          0.0926      1.027      0.090      0.928      -1.920       2.105\n",
       "ar.L3         -0.0015      0.587     -0.003      0.998      -1.151       1.148\n",
       "ar.L4         -0.1343      0.564     -0.238      0.812      -1.241       0.972\n",
       "ar.L5          0.1011      0.503      0.201      0.841      -0.886       1.088\n",
       "ar.L6          0.0368      0.554      0.066      0.947      -1.049       1.123\n",
       "ar.L7         -0.1192      0.476     -0.250      0.802      -1.053       0.814\n",
       "ar.L8          0.0845      0.593      0.142      0.887      -1.078       1.247\n",
       "ar.L9         -0.0505      0.388     -0.130      0.896      -0.811       0.710\n",
       "ar.L10        -0.4451      0.362     -1.228      0.219      -1.155       0.265\n",
       "ar.L11        -0.4163      0.694     -0.600      0.548      -1.776       0.943\n",
       "ar.L12        -0.3642      0.517     -0.704      0.482      -1.378       0.650\n",
       "ma.L1          0.6115      1.210      0.505      0.613      -1.761       2.984\n",
       "ma.L2         -0.0387      1.625     -0.024      0.981      -3.223       3.145\n",
       "ma.L3          0.0512      1.304      0.039      0.969      -2.506       2.608\n",
       "ma.L4          0.0385      0.965      0.040      0.968      -1.854       1.931\n",
       "ma.L5         -0.2075      0.901     -0.230      0.818      -1.973       1.558\n",
       "ma.L6         -0.0021      0.765     -0.003      0.998      -1.502       1.498\n",
       "ma.L7          0.3154      1.094      0.288      0.773      -1.828       2.459\n",
       "ma.L8         -0.0692      1.180     -0.059      0.953      -2.381       2.243\n",
       "ma.L9         -0.0136      1.310     -0.010      0.992      -2.581       2.553\n",
       "ma.L10         0.5003      1.130      0.443      0.658      -1.714       2.715\n",
       "ma.L11         0.5702      1.353      0.421      0.673      -2.082       3.222\n",
       "ma.L12         0.5267      0.941      0.560      0.576      -1.317       2.371\n",
       "ma.L13        -0.0582      0.177     -0.329      0.742      -0.405       0.288\n",
       "sigma2        14.3991     15.500      0.929      0.353     -15.981      44.779\n",
       "===================================================================================\n",
       "Ljung-Box (L1) (Q):                   0.01   Jarque-Bera (JB):                14.74\n",
       "Prob(Q):                              0.94   Prob(JB):                         0.00\n",
       "Heteroskedasticity (H):               2.24   Skew:                            -0.33\n",
       "Prob(H) (two-sided):                  0.00   Kurtosis:                         3.85\n",
       "===================================================================================\n",
       "\n",
       "Warnings:\n",
       "[1] Covariance matrix calculated using the outer product of gradients (complex-step).\n",
       "\"\"\""
      ]
     },
     "execution_count": 17,
     "metadata": {},
     "output_type": "execute_result"
    },
    {
     "data": {
      "application/javascript": "\n            setTimeout(function() {\n                var nbb_cell_id = 17;\n                var nbb_unformatted_code = \"result.summary()\";\n                var nbb_formatted_code = \"result.summary()\";\n                var nbb_cells = Jupyter.notebook.get_cells();\n                for (var i = 0; i < nbb_cells.length; ++i) {\n                    if (nbb_cells[i].input_prompt_number == nbb_cell_id) {\n                        if (nbb_cells[i].get_text() == nbb_unformatted_code) {\n                             nbb_cells[i].set_text(nbb_formatted_code);\n                        }\n                        break;\n                    }\n                }\n            }, 500);\n            ",
      "text/plain": [
       "<IPython.core.display.Javascript object>"
      ]
     },
     "metadata": {},
     "output_type": "display_data"
    }
   ],
   "source": [
    "result.summary()"
   ]
  },
  {
   "cell_type": "code",
   "execution_count": 18,
   "metadata": {},
   "outputs": [
    {
     "data": {
      "text/plain": [
       "307"
      ]
     },
     "execution_count": 18,
     "metadata": {},
     "output_type": "execute_result"
    },
    {
     "data": {
      "application/javascript": "\n            setTimeout(function() {\n                var nbb_cell_id = 18;\n                var nbb_unformatted_code = \"# Actual vs. Fitted\\n\\n# result.plot_diagnostics()\\nlen(result.forecasts[0])\";\n                var nbb_formatted_code = \"# Actual vs. Fitted\\n\\n# result.plot_diagnostics()\\nlen(result.forecasts[0])\";\n                var nbb_cells = Jupyter.notebook.get_cells();\n                for (var i = 0; i < nbb_cells.length; ++i) {\n                    if (nbb_cells[i].input_prompt_number == nbb_cell_id) {\n                        if (nbb_cells[i].get_text() == nbb_unformatted_code) {\n                             nbb_cells[i].set_text(nbb_formatted_code);\n                        }\n                        break;\n                    }\n                }\n            }, 500);\n            ",
      "text/plain": [
       "<IPython.core.display.Javascript object>"
      ]
     },
     "metadata": {},
     "output_type": "display_data"
    }
   ],
   "source": [
    "# Actual vs. Fitted\n",
    "\n",
    "# result.plot_diagnostics()\n",
    "len(result.forecasts[0])"
   ]
  },
  {
   "cell_type": "code",
   "execution_count": 19,
   "metadata": {},
   "outputs": [
    {
     "data": {
      "application/javascript": "\n            setTimeout(function() {\n                var nbb_cell_id = 19;\n                var nbb_unformatted_code = \"df[\\\"preds\\\"] = result.forecasts[0]\";\n                var nbb_formatted_code = \"df[\\\"preds\\\"] = result.forecasts[0]\";\n                var nbb_cells = Jupyter.notebook.get_cells();\n                for (var i = 0; i < nbb_cells.length; ++i) {\n                    if (nbb_cells[i].input_prompt_number == nbb_cell_id) {\n                        if (nbb_cells[i].get_text() == nbb_unformatted_code) {\n                             nbb_cells[i].set_text(nbb_formatted_code);\n                        }\n                        break;\n                    }\n                }\n            }, 500);\n            ",
      "text/plain": [
       "<IPython.core.display.Javascript object>"
      ]
     },
     "metadata": {},
     "output_type": "display_data"
    }
   ],
   "source": [
    "df[\"preds\"] = result.forecasts[0]"
   ]
  },
  {
   "cell_type": "code",
   "execution_count": 20,
   "metadata": {},
   "outputs": [
    {
     "data": {
      "text/html": [
       "<div>\n",
       "<style scoped>\n",
       "    .dataframe tbody tr th:only-of-type {\n",
       "        vertical-align: middle;\n",
       "    }\n",
       "\n",
       "    .dataframe tbody tr th {\n",
       "        vertical-align: top;\n",
       "    }\n",
       "\n",
       "    .dataframe thead th {\n",
       "        text-align: right;\n",
       "    }\n",
       "</style>\n",
       "<table border=\"1\" class=\"dataframe\">\n",
       "  <thead>\n",
       "    <tr style=\"text-align: right;\">\n",
       "      <th></th>\n",
       "      <th>5. adjusted close</th>\n",
       "      <th>preds</th>\n",
       "    </tr>\n",
       "  </thead>\n",
       "  <tbody>\n",
       "    <tr>\n",
       "      <th>2757</th>\n",
       "      <td>211.912422</td>\n",
       "      <td>0.000000</td>\n",
       "    </tr>\n",
       "    <tr>\n",
       "      <th>2758</th>\n",
       "      <td>217.009088</td>\n",
       "      <td>211.912199</td>\n",
       "    </tr>\n",
       "    <tr>\n",
       "      <th>2759</th>\n",
       "      <td>217.147638</td>\n",
       "      <td>216.685390</td>\n",
       "    </tr>\n",
       "    <tr>\n",
       "      <th>2760</th>\n",
       "      <td>216.326234</td>\n",
       "      <td>217.454416</td>\n",
       "    </tr>\n",
       "    <tr>\n",
       "      <th>2761</th>\n",
       "      <td>220.284809</td>\n",
       "      <td>216.278558</td>\n",
       "    </tr>\n",
       "  </tbody>\n",
       "</table>\n",
       "</div>"
      ],
      "text/plain": [
       "      5. adjusted close       preds\n",
       "2757         211.912422    0.000000\n",
       "2758         217.009088  211.912199\n",
       "2759         217.147638  216.685390\n",
       "2760         216.326234  217.454416\n",
       "2761         220.284809  216.278558"
      ]
     },
     "execution_count": 20,
     "metadata": {},
     "output_type": "execute_result"
    },
    {
     "data": {
      "application/javascript": "\n            setTimeout(function() {\n                var nbb_cell_id = 20;\n                var nbb_unformatted_code = \"df.head()\";\n                var nbb_formatted_code = \"df.head()\";\n                var nbb_cells = Jupyter.notebook.get_cells();\n                for (var i = 0; i < nbb_cells.length; ++i) {\n                    if (nbb_cells[i].input_prompt_number == nbb_cell_id) {\n                        if (nbb_cells[i].get_text() == nbb_unformatted_code) {\n                             nbb_cells[i].set_text(nbb_formatted_code);\n                        }\n                        break;\n                    }\n                }\n            }, 500);\n            ",
      "text/plain": [
       "<IPython.core.display.Javascript object>"
      ]
     },
     "metadata": {},
     "output_type": "display_data"
    }
   ],
   "source": [
    "df.head()"
   ]
  },
  {
   "cell_type": "code",
   "execution_count": 21,
   "metadata": {},
   "outputs": [
    {
     "data": {
      "text/plain": [
       "array([211.91219933, 216.68539016, 217.45441588, 216.27855828,\n",
       "       219.86531254, 221.81708913, 218.81531519, 220.66015789,\n",
       "       222.43982673, 221.75820153, 220.02126568, 220.26783158,\n",
       "       215.64367098, 215.29587837, 211.05640644, 215.72074372,\n",
       "       217.19568138, 215.43319977, 212.51078943, 213.72809197,\n",
       "       210.33517184, 210.68779289, 213.76296829, 221.0272006 ,\n",
       "       222.79851137, 223.48731147, 227.18688813, 229.24125623,\n",
       "       231.05068789, 236.98552615, 230.2536746 , 235.64170579,\n",
       "       239.05463466, 241.55965951, 240.87191623, 239.32618132,\n",
       "       239.07085936, 243.34071   , 240.64005902, 241.65184876,\n",
       "       241.49797155, 240.86811002, 243.8236971 , 240.37816419,\n",
       "       237.53829972, 232.40853083, 231.28757565, 232.80463172,\n",
       "       227.19648994, 228.73324859, 236.53377475, 231.72157688,\n",
       "       226.20407079, 224.17552707, 228.41635886, 228.66110648,\n",
       "       231.58260156, 229.87035267, 233.81356214, 234.76612262,\n",
       "       235.36770153, 233.88118502, 233.48769963, 230.08334107,\n",
       "       229.195928  , 233.83753923, 234.49144152, 234.61783154,\n",
       "       231.58271148, 233.42084857, 232.32139388, 231.42255834,\n",
       "       233.82117309, 240.23762565, 245.56669625, 247.74811354,\n",
       "       247.97660911, 249.48985173, 253.6665852 , 254.76142495,\n",
       "       257.85221129, 252.34463665, 256.69824796, 260.58431371,\n",
       "       259.17712741, 255.25350935, 257.65608875, 255.37473386,\n",
       "       261.67489788, 259.60444806, 257.63365787, 252.68902823,\n",
       "       250.6837276 , 250.81091943, 248.062555  , 244.69525412,\n",
       "       244.80616133, 247.54840988, 249.30253896, 246.04381969,\n",
       "       242.23997654, 238.08566366, 239.45979294, 247.22541719,\n",
       "       244.69822872, 240.13569345, 241.40502399, 245.07781812,\n",
       "       246.02489472, 249.83070238, 248.31850854, 249.57931072,\n",
       "       249.50810305, 248.98861043, 245.26013788, 244.11497535,\n",
       "       245.60091976, 250.07681629, 251.53011355, 250.46989376,\n",
       "       251.95628226, 256.2294462 , 256.95837236, 257.00372127,\n",
       "       256.86844021, 255.75275829, 260.10114934, 258.90580004,\n",
       "       260.78968658, 264.35694921, 264.45304501, 265.28236697,\n",
       "       264.10405103, 266.12543373, 271.06930566, 270.2549993 ,\n",
       "       269.15626451, 275.42211769, 275.47678268, 279.92689225,\n",
       "       275.6566591 , 274.31055514, 275.85625098, 280.64707626,\n",
       "       281.62946924, 279.04201269, 277.06607558, 277.59954001,\n",
       "       278.98626688, 279.44105329, 284.34570251, 286.92784415,\n",
       "       289.876483  , 284.11861701, 283.34877724, 284.45070058,\n",
       "       284.9032992 , 283.3755657 , 284.05582135, 283.39923518,\n",
       "       289.6183135 , 289.36649414, 285.23132973, 283.62304662,\n",
       "       284.85229355, 290.48097103, 290.96089435, 291.58384066,\n",
       "       291.13441423, 291.18093638, 295.58346382, 303.22610508,\n",
       "       302.33501074, 302.73289808, 300.60826998, 297.47592243,\n",
       "       299.44856671, 303.15424657, 301.77038448, 299.46132253,\n",
       "       299.62585738, 300.98110168, 300.48102551, 298.29103134,\n",
       "       295.50897404, 293.39417921, 296.76972442, 298.54875228,\n",
       "       302.44633415, 303.76966554, 298.90483821, 292.69353391,\n",
       "       292.43153386, 297.01673985, 300.22573584, 298.81386076,\n",
       "       291.87734523, 282.47290736, 283.44333466, 283.68464276,\n",
       "       286.97772147, 281.62933263, 286.56703775, 292.56906901,\n",
       "       294.95256481, 292.09677158, 291.49665578, 289.78587335,\n",
       "       295.63687131, 301.93675313, 302.05350225, 305.81817403,\n",
       "       307.44142387, 308.14288534, 309.39231595, 308.53783415,\n",
       "       307.41071404, 311.29946578, 322.27917201, 325.53842202,\n",
       "       330.03203407, 328.43240352, 331.06685148, 332.1347479 ,\n",
       "       336.35617693, 333.69162201, 335.00788061, 333.66557914,\n",
       "       330.68853066, 330.68587127, 334.63164879, 335.13321687,\n",
       "       338.70709748, 339.32490206, 339.31639844, 343.19769864,\n",
       "       340.09626496, 337.76532222, 335.86773049, 329.7632924 ,\n",
       "       336.23406196, 332.38113665, 327.75923453, 328.42981661,\n",
       "       322.59249275, 325.0501397 , 334.64442541, 332.08394695,\n",
       "       332.5037473 , 340.16870161, 338.03911748, 328.71923559,\n",
       "       331.27816562, 325.15327847, 323.48576804, 320.72138843,\n",
       "       327.39587136, 332.19905134, 336.51659289, 342.52721594,\n",
       "       340.15741258, 339.5833911 , 339.75188931, 336.73376132,\n",
       "       332.34623443, 328.48693089, 315.12278576, 314.43632195,\n",
       "       312.49908854, 313.64785799, 314.49688993, 316.95629471,\n",
       "       303.532778  , 307.41718328, 302.20120026, 302.73486409,\n",
       "       300.17444356, 293.96496241, 294.77538917, 289.37107018,\n",
       "       295.93774303, 299.24985141, 307.41783788, 309.77193888,\n",
       "       310.59893002, 308.78427925, 304.15905688, 303.71619161,\n",
       "       302.92643996, 303.68904327, 309.43670614, 305.41652693,\n",
       "       293.23688503, 294.78474097, 298.62248709, 301.88447469,\n",
       "       291.53926028, 284.18320558, 284.2911754 , 283.65511952,\n",
       "       294.85721847, 296.81457419, 293.19075753, 294.80874379,\n",
       "       302.57468385, 294.4160501 ])"
      ]
     },
     "execution_count": 21,
     "metadata": {},
     "output_type": "execute_result"
    },
    {
     "data": {
      "application/javascript": "\n            setTimeout(function() {\n                var nbb_cell_id = 21;\n                var nbb_unformatted_code = \"result.forecasts[0][-306:]\";\n                var nbb_formatted_code = \"result.forecasts[0][-306:]\";\n                var nbb_cells = Jupyter.notebook.get_cells();\n                for (var i = 0; i < nbb_cells.length; ++i) {\n                    if (nbb_cells[i].input_prompt_number == nbb_cell_id) {\n                        if (nbb_cells[i].get_text() == nbb_unformatted_code) {\n                             nbb_cells[i].set_text(nbb_formatted_code);\n                        }\n                        break;\n                    }\n                }\n            }, 500);\n            ",
      "text/plain": [
       "<IPython.core.display.Javascript object>"
      ]
     },
     "metadata": {},
     "output_type": "display_data"
    }
   ],
   "source": [
    "result.forecasts[0][-306:]"
   ]
  },
  {
   "cell_type": "code",
   "execution_count": 22,
   "metadata": {},
   "outputs": [
    {
     "data": {
      "image/png": "[encoded data removed]",
      "text/plain": [
       "<Figure size 864x576 with 2 Axes>"
      ]
     },
     "metadata": {
      "needs_background": "light"
     },
     "output_type": "display_data"
    },
    {
     "data": {
      "application/javascript": "\n            setTimeout(function() {\n                var nbb_cell_id = 22;\n                var nbb_unformatted_code = \"plt.figure(figsize=(12,8))\\n\\nax1 = df[\\\"5. adjusted close\\\"][-63:].plot(color='blue', grid=True, secondary_y=False, label='Actual', marker='.')\\nax2 = df[\\\"preds\\\"][-63:].plot(color='red', grid=True, secondary_y=True, label='Predicted', marker='.')\\n\\na, b = 275, 350\\n\\nax1.set_ylim(a,b)\\nax2.set_ylim(a,b)\\n\\nh1, l1 = ax1.get_legend_handles_labels()\\nh2, l2 = ax2.get_legend_handles_labels()\\n\\nax1.set_xlabel(\\\"Date\\\")\\nplt.legend(h1+h2, l1+l2, loc=1)\\nplt.show()\";\n                var nbb_formatted_code = \"plt.figure(figsize=(12, 8))\\n\\nax1 = df[\\\"5. adjusted close\\\"][-63:].plot(\\n    color=\\\"blue\\\", grid=True, secondary_y=False, label=\\\"Actual\\\", marker=\\\".\\\"\\n)\\nax2 = df[\\\"preds\\\"][-63:].plot(\\n    color=\\\"red\\\", grid=True, secondary_y=True, label=\\\"Predicted\\\", marker=\\\".\\\"\\n)\\n\\na, b = 275, 350\\n\\nax1.set_ylim(a, b)\\nax2.set_ylim(a, b)\\n\\nh1, l1 = ax1.get_legend_handles_labels()\\nh2, l2 = ax2.get_legend_handles_labels()\\n\\nax1.set_xlabel(\\\"Date\\\")\\nplt.legend(h1 + h2, l1 + l2, loc=1)\\nplt.show()\";\n                var nbb_cells = Jupyter.notebook.get_cells();\n                for (var i = 0; i < nbb_cells.length; ++i) {\n                    if (nbb_cells[i].input_prompt_number == nbb_cell_id) {\n                        if (nbb_cells[i].get_text() == nbb_unformatted_code) {\n                             nbb_cells[i].set_text(nbb_formatted_code);\n                        }\n                        break;\n                    }\n                }\n            }, 500);\n            ",
      "text/plain": [
       "<IPython.core.display.Javascript object>"
      ]
     },
     "metadata": {},
     "output_type": "display_data"
    }
   ],
   "source": [
    "plt.figure(figsize=(12,8))\n",
    "\n",
    "ax1 = df[\"5. adjusted close\"][-63:].plot(color='blue', grid=True, secondary_y=False, label='Actual', marker='.')\n",
    "ax2 = df[\"preds\"][-63:].plot(color='red', grid=True, secondary_y=True, label='Predicted', marker='.')\n",
    "\n",
    "a, b = 275, 350\n",
    "\n",
    "ax1.set_ylim(a,b)\n",
    "ax2.set_ylim(a,b)\n",
    "\n",
    "h1, l1 = ax1.get_legend_handles_labels()\n",
    "h2, l2 = ax2.get_legend_handles_labels()\n",
    "\n",
    "ax1.set_xlabel(\"Date\")\n",
    "plt.legend(h1+h2, l1+l2, loc=1)\n",
    "plt.show()"
   ]
  },
  {
   "cell_type": "code",
   "execution_count": 23,
   "metadata": {},
   "outputs": [
    {
     "name": "stdout",
     "output_type": "stream",
     "text": [
      "3.016636646722445\n"
     ]
    },
    {
     "data": {
      "application/javascript": "\n            setTimeout(function() {\n                var nbb_cell_id = 23;\n                var nbb_unformatted_code = \"true = df[\\\"5. adjusted close\\\"][-244:]\\npredicted = df[\\\"preds\\\"][-244:]\\n\\ndef mae(y_true, predictions):\\n    y_true, predictions = np.array(y_true), np.array(predictions)\\n    return np.mean(np.abs(y_true - predictions))\\n\\n\\nprint(mae(true, predicted))\";\n                var nbb_formatted_code = \"true = df[\\\"5. adjusted close\\\"][-244:]\\npredicted = df[\\\"preds\\\"][-244:]\\n\\n\\ndef mae(y_true, predictions):\\n    y_true, predictions = np.array(y_true), np.array(predictions)\\n    return np.mean(np.abs(y_true - predictions))\\n\\n\\nprint(mae(true, predicted))\";\n                var nbb_cells = Jupyter.notebook.get_cells();\n                for (var i = 0; i < nbb_cells.length; ++i) {\n                    if (nbb_cells[i].input_prompt_number == nbb_cell_id) {\n                        if (nbb_cells[i].get_text() == nbb_unformatted_code) {\n                             nbb_cells[i].set_text(nbb_formatted_code);\n                        }\n                        break;\n                    }\n                }\n            }, 500);\n            ",
      "text/plain": [
       "<IPython.core.display.Javascript object>"
      ]
     },
     "metadata": {},
     "output_type": "display_data"
    }
   ],
   "source": [
    "true = df[\"5. adjusted close\"][-244:]\n",
    "predicted = df[\"preds\"][-244:]\n",
    "\n",
    "def mae(y_true, predictions):\n",
    "    y_true, predictions = np.array(y_true), np.array(predictions)\n",
    "    return np.mean(np.abs(y_true - predictions))\n",
    "\n",
    "\n",
    "print(mae(true, predicted))"
   ]
  },
  {
   "cell_type": "code",
   "execution_count": 24,
   "metadata": {},
   "outputs": [
    {
     "data": {
      "text/html": [
       "<div>\n",
       "<style scoped>\n",
       "    .dataframe tbody tr th:only-of-type {\n",
       "        vertical-align: middle;\n",
       "    }\n",
       "\n",
       "    .dataframe tbody tr th {\n",
       "        vertical-align: top;\n",
       "    }\n",
       "\n",
       "    .dataframe thead th {\n",
       "        text-align: right;\n",
       "    }\n",
       "</style>\n",
       "<table border=\"1\" class=\"dataframe\">\n",
       "  <thead>\n",
       "    <tr style=\"text-align: right;\">\n",
       "      <th></th>\n",
       "      <th>5. adjusted close</th>\n",
       "      <th>preds</th>\n",
       "    </tr>\n",
       "  </thead>\n",
       "  <tbody>\n",
       "    <tr>\n",
       "      <th>3059</th>\n",
       "      <td>298.79</td>\n",
       "      <td>296.814574</td>\n",
       "    </tr>\n",
       "    <tr>\n",
       "      <th>3060</th>\n",
       "      <td>294.95</td>\n",
       "      <td>293.190758</td>\n",
       "    </tr>\n",
       "    <tr>\n",
       "      <th>3061</th>\n",
       "      <td>300.19</td>\n",
       "      <td>294.808744</td>\n",
       "    </tr>\n",
       "    <tr>\n",
       "      <th>3062</th>\n",
       "      <td>295.92</td>\n",
       "      <td>302.574684</td>\n",
       "    </tr>\n",
       "    <tr>\n",
       "      <th>3063</th>\n",
       "      <td>289.86</td>\n",
       "      <td>294.416050</td>\n",
       "    </tr>\n",
       "  </tbody>\n",
       "</table>\n",
       "</div>"
      ],
      "text/plain": [
       "      5. adjusted close       preds\n",
       "3059             298.79  296.814574\n",
       "3060             294.95  293.190758\n",
       "3061             300.19  294.808744\n",
       "3062             295.92  302.574684\n",
       "3063             289.86  294.416050"
      ]
     },
     "execution_count": 24,
     "metadata": {},
     "output_type": "execute_result"
    },
    {
     "data": {
      "application/javascript": "\n            setTimeout(function() {\n                var nbb_cell_id = 24;\n                var nbb_unformatted_code = \"df.tail()\";\n                var nbb_formatted_code = \"df.tail()\";\n                var nbb_cells = Jupyter.notebook.get_cells();\n                for (var i = 0; i < nbb_cells.length; ++i) {\n                    if (nbb_cells[i].input_prompt_number == nbb_cell_id) {\n                        if (nbb_cells[i].get_text() == nbb_unformatted_code) {\n                             nbb_cells[i].set_text(nbb_formatted_code);\n                        }\n                        break;\n                    }\n                }\n            }, 500);\n            ",
      "text/plain": [
       "<IPython.core.display.Javascript object>"
      ]
     },
     "metadata": {},
     "output_type": "display_data"
    }
   ],
   "source": [
    "df.tail()"
   ]
  },
  {
   "cell_type": "code",
   "execution_count": 25,
   "metadata": {},
   "outputs": [
    {
     "data": {
      "application/javascript": "\n            setTimeout(function() {\n                var nbb_cell_id = 25;\n                var nbb_unformatted_code = \"df = df[-244:].copy()\\n\\ntrue = df[\\\"5. adjusted close\\\"][-244:]\\npredicted = df[\\\"preds\\\"][-244:]\";\n                var nbb_formatted_code = \"df = df[-244:].copy()\\n\\ntrue = df[\\\"5. adjusted close\\\"][-244:]\\npredicted = df[\\\"preds\\\"][-244:]\";\n                var nbb_cells = Jupyter.notebook.get_cells();\n                for (var i = 0; i < nbb_cells.length; ++i) {\n                    if (nbb_cells[i].input_prompt_number == nbb_cell_id) {\n                        if (nbb_cells[i].get_text() == nbb_unformatted_code) {\n                             nbb_cells[i].set_text(nbb_formatted_code);\n                        }\n                        break;\n                    }\n                }\n            }, 500);\n            ",
      "text/plain": [
       "<IPython.core.display.Javascript object>"
      ]
     },
     "metadata": {},
     "output_type": "display_data"
    }
   ],
   "source": [
    "df = df[-244:].copy()\n",
    "\n",
    "true = df[\"5. adjusted close\"][-244:]\n",
    "predicted = df[\"preds\"][-244:]"
   ]
  },
  {
   "cell_type": "code",
   "execution_count": 26,
   "metadata": {},
   "outputs": [
    {
     "data": {
      "application/javascript": "\n            setTimeout(function() {\n                var nbb_cell_id = 26;\n                var nbb_unformatted_code = \"from sklearn.metrics import mean_absolute_error\";\n                var nbb_formatted_code = \"from sklearn.metrics import mean_absolute_error\";\n                var nbb_cells = Jupyter.notebook.get_cells();\n                for (var i = 0; i < nbb_cells.length; ++i) {\n                    if (nbb_cells[i].input_prompt_number == nbb_cell_id) {\n                        if (nbb_cells[i].get_text() == nbb_unformatted_code) {\n                             nbb_cells[i].set_text(nbb_formatted_code);\n                        }\n                        break;\n                    }\n                }\n            }, 500);\n            ",
      "text/plain": [
       "<IPython.core.display.Javascript object>"
      ]
     },
     "metadata": {},
     "output_type": "display_data"
    }
   ],
   "source": [
    "from sklearn.metrics import mean_absolute_error"
   ]
  },
  {
   "cell_type": "code",
   "execution_count": 27,
   "metadata": {},
   "outputs": [
    {
     "data": {
      "text/plain": [
       "'Test MAE: 3.0166'"
      ]
     },
     "execution_count": 27,
     "metadata": {},
     "output_type": "execute_result"
    },
    {
     "data": {
      "application/javascript": "\n            setTimeout(function() {\n                var nbb_cell_id = 27;\n                var nbb_unformatted_code = \"test_mae = mean_absolute_error(true.to_numpy(), predicted)\\nf'Test MAE: {test_mae:.4f}'\";\n                var nbb_formatted_code = \"test_mae = mean_absolute_error(true.to_numpy(), predicted)\\nf\\\"Test MAE: {test_mae:.4f}\\\"\";\n                var nbb_cells = Jupyter.notebook.get_cells();\n                for (var i = 0; i < nbb_cells.length; ++i) {\n                    if (nbb_cells[i].input_prompt_number == nbb_cell_id) {\n                        if (nbb_cells[i].get_text() == nbb_unformatted_code) {\n                             nbb_cells[i].set_text(nbb_formatted_code);\n                        }\n                        break;\n                    }\n                }\n            }, 500);\n            ",
      "text/plain": [
       "<IPython.core.display.Javascript object>"
      ]
     },
     "metadata": {},
     "output_type": "display_data"
    }
   ],
   "source": [
    "test_mae = mean_absolute_error(true.to_numpy(), predicted)\n",
    "f'Test MAE: {test_mae:.4f}'"
   ]
  },
  {
   "cell_type": "code",
   "execution_count": 28,
   "metadata": {},
   "outputs": [
    {
     "data": {
      "text/html": [
       "<div>\n",
       "<style scoped>\n",
       "    .dataframe tbody tr th:only-of-type {\n",
       "        vertical-align: middle;\n",
       "    }\n",
       "\n",
       "    .dataframe tbody tr th {\n",
       "        vertical-align: top;\n",
       "    }\n",
       "\n",
       "    .dataframe thead th {\n",
       "        text-align: right;\n",
       "    }\n",
       "</style>\n",
       "<table border=\"1\" class=\"dataframe\">\n",
       "  <thead>\n",
       "    <tr style=\"text-align: right;\">\n",
       "      <th></th>\n",
       "      <th>5. adjusted close</th>\n",
       "      <th>preds</th>\n",
       "    </tr>\n",
       "  </thead>\n",
       "  <tbody>\n",
       "    <tr>\n",
       "      <th>2820</th>\n",
       "      <td>228.854221</td>\n",
       "      <td>233.487700</td>\n",
       "    </tr>\n",
       "    <tr>\n",
       "      <th>2821</th>\n",
       "      <td>228.487213</td>\n",
       "      <td>230.083341</td>\n",
       "    </tr>\n",
       "    <tr>\n",
       "      <th>2822</th>\n",
       "      <td>234.081604</td>\n",
       "      <td>229.195928</td>\n",
       "    </tr>\n",
       "    <tr>\n",
       "      <th>2823</th>\n",
       "      <td>235.658746</td>\n",
       "      <td>233.837539</td>\n",
       "    </tr>\n",
       "    <tr>\n",
       "      <th>2824</th>\n",
       "      <td>233.555890</td>\n",
       "      <td>234.491442</td>\n",
       "    </tr>\n",
       "    <tr>\n",
       "      <th>2825</th>\n",
       "      <td>230.461120</td>\n",
       "      <td>234.617832</td>\n",
       "    </tr>\n",
       "    <tr>\n",
       "      <th>2826</th>\n",
       "      <td>234.567641</td>\n",
       "      <td>231.582711</td>\n",
       "    </tr>\n",
       "    <tr>\n",
       "      <th>2827</th>\n",
       "      <td>233.337669</td>\n",
       "      <td>233.420849</td>\n",
       "    </tr>\n",
       "    <tr>\n",
       "      <th>2828</th>\n",
       "      <td>229.975083</td>\n",
       "      <td>232.321394</td>\n",
       "    </tr>\n",
       "    <tr>\n",
       "      <th>2829</th>\n",
       "      <td>233.863383</td>\n",
       "      <td>231.422558</td>\n",
       "    </tr>\n",
       "  </tbody>\n",
       "</table>\n",
       "</div>"
      ],
      "text/plain": [
       "      5. adjusted close       preds\n",
       "2820         228.854221  233.487700\n",
       "2821         228.487213  230.083341\n",
       "2822         234.081604  229.195928\n",
       "2823         235.658746  233.837539\n",
       "2824         233.555890  234.491442\n",
       "2825         230.461120  234.617832\n",
       "2826         234.567641  231.582711\n",
       "2827         233.337669  233.420849\n",
       "2828         229.975083  232.321394\n",
       "2829         233.863383  231.422558"
      ]
     },
     "execution_count": 28,
     "metadata": {},
     "output_type": "execute_result"
    },
    {
     "data": {
      "application/javascript": "\n            setTimeout(function() {\n                var nbb_cell_id = 28;\n                var nbb_unformatted_code = \"df.head(10)\";\n                var nbb_formatted_code = \"df.head(10)\";\n                var nbb_cells = Jupyter.notebook.get_cells();\n                for (var i = 0; i < nbb_cells.length; ++i) {\n                    if (nbb_cells[i].input_prompt_number == nbb_cell_id) {\n                        if (nbb_cells[i].get_text() == nbb_unformatted_code) {\n                             nbb_cells[i].set_text(nbb_formatted_code);\n                        }\n                        break;\n                    }\n                }\n            }, 500);\n            ",
      "text/plain": [
       "<IPython.core.display.Javascript object>"
      ]
     },
     "metadata": {},
     "output_type": "display_data"
    }
   ],
   "source": [
    "df.head(10)"
   ]
  },
  {
   "cell_type": "code",
   "execution_count": 29,
   "metadata": {},
   "outputs": [
    {
     "data": {
      "application/javascript": "\n            setTimeout(function() {\n                var nbb_cell_id = 29;\n                var nbb_unformatted_code = \"df[\\\"actual_percentage_change\\\"] = df['5. adjusted close'].pct_change()\\ndf[\\\"actual_increase\\\"] = df[\\\"actual_percentage_change\\\"].apply(lambda x: 1 if x > 0 else 0)\";\n                var nbb_formatted_code = \"df[\\\"actual_percentage_change\\\"] = df[\\\"5. adjusted close\\\"].pct_change()\\ndf[\\\"actual_increase\\\"] = df[\\\"actual_percentage_change\\\"].apply(\\n    lambda x: 1 if x > 0 else 0\\n)\";\n                var nbb_cells = Jupyter.notebook.get_cells();\n                for (var i = 0; i < nbb_cells.length; ++i) {\n                    if (nbb_cells[i].input_prompt_number == nbb_cell_id) {\n                        if (nbb_cells[i].get_text() == nbb_unformatted_code) {\n                             nbb_cells[i].set_text(nbb_formatted_code);\n                        }\n                        break;\n                    }\n                }\n            }, 500);\n            ",
      "text/plain": [
       "<IPython.core.display.Javascript object>"
      ]
     },
     "metadata": {},
     "output_type": "display_data"
    }
   ],
   "source": [
    "df[\"actual_percentage_change\"] = df['5. adjusted close'].pct_change()\n",
    "df[\"actual_increase\"] = df[\"actual_percentage_change\"].apply(lambda x: 1 if x > 0 else 0)"
   ]
  },
  {
   "cell_type": "code",
   "execution_count": 30,
   "metadata": {},
   "outputs": [
    {
     "data": {
      "application/javascript": "\n            setTimeout(function() {\n                var nbb_cell_id = 30;\n                var nbb_unformatted_code = \"df[\\\"predicted_percentage_change\\\"] = df['preds'].pct_change()\\ndf[\\\"predicted_increase\\\"] = df[\\\"predicted_percentage_change\\\"].apply(lambda x: 1 if x > 0 else 0)\";\n                var nbb_formatted_code = \"df[\\\"predicted_percentage_change\\\"] = df[\\\"preds\\\"].pct_change()\\ndf[\\\"predicted_increase\\\"] = df[\\\"predicted_percentage_change\\\"].apply(\\n    lambda x: 1 if x > 0 else 0\\n)\";\n                var nbb_cells = Jupyter.notebook.get_cells();\n                for (var i = 0; i < nbb_cells.length; ++i) {\n                    if (nbb_cells[i].input_prompt_number == nbb_cell_id) {\n                        if (nbb_cells[i].get_text() == nbb_unformatted_code) {\n                             nbb_cells[i].set_text(nbb_formatted_code);\n                        }\n                        break;\n                    }\n                }\n            }, 500);\n            ",
      "text/plain": [
       "<IPython.core.display.Javascript object>"
      ]
     },
     "metadata": {},
     "output_type": "display_data"
    }
   ],
   "source": [
    "df[\"predicted_percentage_change\"] = df['preds'].pct_change()\n",
    "df[\"predicted_increase\"] = df[\"predicted_percentage_change\"].apply(lambda x: 1 if x > 0 else 0)"
   ]
  },
  {
   "cell_type": "code",
   "execution_count": 31,
   "metadata": {},
   "outputs": [
    {
     "data": {
      "text/html": [
       "<div>\n",
       "<style scoped>\n",
       "    .dataframe tbody tr th:only-of-type {\n",
       "        vertical-align: middle;\n",
       "    }\n",
       "\n",
       "    .dataframe tbody tr th {\n",
       "        vertical-align: top;\n",
       "    }\n",
       "\n",
       "    .dataframe thead th {\n",
       "        text-align: right;\n",
       "    }\n",
       "</style>\n",
       "<table border=\"1\" class=\"dataframe\">\n",
       "  <thead>\n",
       "    <tr style=\"text-align: right;\">\n",
       "      <th></th>\n",
       "      <th>5. adjusted close</th>\n",
       "      <th>preds</th>\n",
       "      <th>actual_percentage_change</th>\n",
       "      <th>actual_increase</th>\n",
       "      <th>predicted_percentage_change</th>\n",
       "      <th>predicted_increase</th>\n",
       "    </tr>\n",
       "  </thead>\n",
       "  <tbody>\n",
       "    <tr>\n",
       "      <th>2820</th>\n",
       "      <td>228.854221</td>\n",
       "      <td>233.487700</td>\n",
       "      <td>NaN</td>\n",
       "      <td>0</td>\n",
       "      <td>NaN</td>\n",
       "      <td>0</td>\n",
       "    </tr>\n",
       "    <tr>\n",
       "      <th>2821</th>\n",
       "      <td>228.487213</td>\n",
       "      <td>230.083341</td>\n",
       "      <td>-0.001604</td>\n",
       "      <td>0</td>\n",
       "      <td>-0.014580</td>\n",
       "      <td>0</td>\n",
       "    </tr>\n",
       "    <tr>\n",
       "      <th>2822</th>\n",
       "      <td>234.081604</td>\n",
       "      <td>229.195928</td>\n",
       "      <td>0.024484</td>\n",
       "      <td>1</td>\n",
       "      <td>-0.003857</td>\n",
       "      <td>0</td>\n",
       "    </tr>\n",
       "    <tr>\n",
       "      <th>2823</th>\n",
       "      <td>235.658746</td>\n",
       "      <td>233.837539</td>\n",
       "      <td>0.006738</td>\n",
       "      <td>1</td>\n",
       "      <td>0.020252</td>\n",
       "      <td>1</td>\n",
       "    </tr>\n",
       "    <tr>\n",
       "      <th>2824</th>\n",
       "      <td>233.555890</td>\n",
       "      <td>234.491442</td>\n",
       "      <td>-0.008923</td>\n",
       "      <td>0</td>\n",
       "      <td>0.002796</td>\n",
       "      <td>1</td>\n",
       "    </tr>\n",
       "    <tr>\n",
       "      <th>2825</th>\n",
       "      <td>230.461120</td>\n",
       "      <td>234.617832</td>\n",
       "      <td>-0.013251</td>\n",
       "      <td>0</td>\n",
       "      <td>0.000539</td>\n",
       "      <td>1</td>\n",
       "    </tr>\n",
       "    <tr>\n",
       "      <th>2826</th>\n",
       "      <td>234.567641</td>\n",
       "      <td>231.582711</td>\n",
       "      <td>0.017819</td>\n",
       "      <td>1</td>\n",
       "      <td>-0.012936</td>\n",
       "      <td>0</td>\n",
       "    </tr>\n",
       "    <tr>\n",
       "      <th>2827</th>\n",
       "      <td>233.337669</td>\n",
       "      <td>233.420849</td>\n",
       "      <td>-0.005244</td>\n",
       "      <td>0</td>\n",
       "      <td>0.007937</td>\n",
       "      <td>1</td>\n",
       "    </tr>\n",
       "    <tr>\n",
       "      <th>2828</th>\n",
       "      <td>229.975083</td>\n",
       "      <td>232.321394</td>\n",
       "      <td>-0.014411</td>\n",
       "      <td>0</td>\n",
       "      <td>-0.004710</td>\n",
       "      <td>0</td>\n",
       "    </tr>\n",
       "    <tr>\n",
       "      <th>2829</th>\n",
       "      <td>233.863383</td>\n",
       "      <td>231.422558</td>\n",
       "      <td>0.016907</td>\n",
       "      <td>1</td>\n",
       "      <td>-0.003869</td>\n",
       "      <td>0</td>\n",
       "    </tr>\n",
       "  </tbody>\n",
       "</table>\n",
       "</div>"
      ],
      "text/plain": [
       "      5. adjusted close       preds  actual_percentage_change  \\\n",
       "2820         228.854221  233.487700                       NaN   \n",
       "2821         228.487213  230.083341                 -0.001604   \n",
       "2822         234.081604  229.195928                  0.024484   \n",
       "2823         235.658746  233.837539                  0.006738   \n",
       "2824         233.555890  234.491442                 -0.008923   \n",
       "2825         230.461120  234.617832                 -0.013251   \n",
       "2826         234.567641  231.582711                  0.017819   \n",
       "2827         233.337669  233.420849                 -0.005244   \n",
       "2828         229.975083  232.321394                 -0.014411   \n",
       "2829         233.863383  231.422558                  0.016907   \n",
       "\n",
       "      actual_increase  predicted_percentage_change  predicted_increase  \n",
       "2820                0                          NaN                   0  \n",
       "2821                0                    -0.014580                   0  \n",
       "2822                1                    -0.003857                   0  \n",
       "2823                1                     0.020252                   1  \n",
       "2824                0                     0.002796                   1  \n",
       "2825                0                     0.000539                   1  \n",
       "2826                1                    -0.012936                   0  \n",
       "2827                0                     0.007937                   1  \n",
       "2828                0                    -0.004710                   0  \n",
       "2829                1                    -0.003869                   0  "
      ]
     },
     "execution_count": 31,
     "metadata": {},
     "output_type": "execute_result"
    },
    {
     "data": {
      "application/javascript": "\n            setTimeout(function() {\n                var nbb_cell_id = 31;\n                var nbb_unformatted_code = \"df.head(10)\";\n                var nbb_formatted_code = \"df.head(10)\";\n                var nbb_cells = Jupyter.notebook.get_cells();\n                for (var i = 0; i < nbb_cells.length; ++i) {\n                    if (nbb_cells[i].input_prompt_number == nbb_cell_id) {\n                        if (nbb_cells[i].get_text() == nbb_unformatted_code) {\n                             nbb_cells[i].set_text(nbb_formatted_code);\n                        }\n                        break;\n                    }\n                }\n            }, 500);\n            ",
      "text/plain": [
       "<IPython.core.display.Javascript object>"
      ]
     },
     "metadata": {},
     "output_type": "display_data"
    }
   ],
   "source": [
    "df.head(10)"
   ]
  },
  {
   "cell_type": "code",
   "execution_count": 32,
   "metadata": {},
   "outputs": [
    {
     "data": {
      "text/html": [
       "<div>\n",
       "<style scoped>\n",
       "    .dataframe tbody tr th:only-of-type {\n",
       "        vertical-align: middle;\n",
       "    }\n",
       "\n",
       "    .dataframe tbody tr th {\n",
       "        vertical-align: top;\n",
       "    }\n",
       "\n",
       "    .dataframe thead th {\n",
       "        text-align: right;\n",
       "    }\n",
       "</style>\n",
       "<table border=\"1\" class=\"dataframe\">\n",
       "  <thead>\n",
       "    <tr style=\"text-align: right;\">\n",
       "      <th></th>\n",
       "      <th>5. adjusted close</th>\n",
       "      <th>preds</th>\n",
       "      <th>actual_percentage_change</th>\n",
       "      <th>actual_increase</th>\n",
       "      <th>predicted_percentage_change</th>\n",
       "      <th>predicted_increase</th>\n",
       "    </tr>\n",
       "  </thead>\n",
       "  <tbody>\n",
       "    <tr>\n",
       "      <th>3054</th>\n",
       "      <td>287.93</td>\n",
       "      <td>291.539260</td>\n",
       "      <td>-0.009631</td>\n",
       "      <td>0</td>\n",
       "      <td>-0.034269</td>\n",
       "      <td>0</td>\n",
       "    </tr>\n",
       "    <tr>\n",
       "      <th>3055</th>\n",
       "      <td>287.72</td>\n",
       "      <td>284.183206</td>\n",
       "      <td>-0.000729</td>\n",
       "      <td>0</td>\n",
       "      <td>-0.025232</td>\n",
       "      <td>0</td>\n",
       "    </tr>\n",
       "    <tr>\n",
       "      <th>3056</th>\n",
       "      <td>280.27</td>\n",
       "      <td>284.291175</td>\n",
       "      <td>-0.025893</td>\n",
       "      <td>0</td>\n",
       "      <td>0.000380</td>\n",
       "      <td>1</td>\n",
       "    </tr>\n",
       "    <tr>\n",
       "      <th>3057</th>\n",
       "      <td>294.59</td>\n",
       "      <td>283.655120</td>\n",
       "      <td>0.051094</td>\n",
       "      <td>1</td>\n",
       "      <td>-0.002237</td>\n",
       "      <td>0</td>\n",
       "    </tr>\n",
       "    <tr>\n",
       "      <th>3058</th>\n",
       "      <td>297.31</td>\n",
       "      <td>294.857218</td>\n",
       "      <td>0.009233</td>\n",
       "      <td>1</td>\n",
       "      <td>0.039492</td>\n",
       "      <td>1</td>\n",
       "    </tr>\n",
       "    <tr>\n",
       "      <th>3059</th>\n",
       "      <td>298.79</td>\n",
       "      <td>296.814574</td>\n",
       "      <td>0.004978</td>\n",
       "      <td>1</td>\n",
       "      <td>0.006638</td>\n",
       "      <td>1</td>\n",
       "    </tr>\n",
       "    <tr>\n",
       "      <th>3060</th>\n",
       "      <td>294.95</td>\n",
       "      <td>293.190758</td>\n",
       "      <td>-0.012852</td>\n",
       "      <td>0</td>\n",
       "      <td>-0.012209</td>\n",
       "      <td>0</td>\n",
       "    </tr>\n",
       "    <tr>\n",
       "      <th>3061</th>\n",
       "      <td>300.19</td>\n",
       "      <td>294.808744</td>\n",
       "      <td>0.017766</td>\n",
       "      <td>1</td>\n",
       "      <td>0.005519</td>\n",
       "      <td>1</td>\n",
       "    </tr>\n",
       "    <tr>\n",
       "      <th>3062</th>\n",
       "      <td>295.92</td>\n",
       "      <td>302.574684</td>\n",
       "      <td>-0.014224</td>\n",
       "      <td>0</td>\n",
       "      <td>0.026342</td>\n",
       "      <td>1</td>\n",
       "    </tr>\n",
       "    <tr>\n",
       "      <th>3063</th>\n",
       "      <td>289.86</td>\n",
       "      <td>294.416050</td>\n",
       "      <td>-0.020479</td>\n",
       "      <td>0</td>\n",
       "      <td>-0.026964</td>\n",
       "      <td>0</td>\n",
       "    </tr>\n",
       "  </tbody>\n",
       "</table>\n",
       "</div>"
      ],
      "text/plain": [
       "      5. adjusted close       preds  actual_percentage_change  \\\n",
       "3054             287.93  291.539260                 -0.009631   \n",
       "3055             287.72  284.183206                 -0.000729   \n",
       "3056             280.27  284.291175                 -0.025893   \n",
       "3057             294.59  283.655120                  0.051094   \n",
       "3058             297.31  294.857218                  0.009233   \n",
       "3059             298.79  296.814574                  0.004978   \n",
       "3060             294.95  293.190758                 -0.012852   \n",
       "3061             300.19  294.808744                  0.017766   \n",
       "3062             295.92  302.574684                 -0.014224   \n",
       "3063             289.86  294.416050                 -0.020479   \n",
       "\n",
       "      actual_increase  predicted_percentage_change  predicted_increase  \n",
       "3054                0                    -0.034269                   0  \n",
       "3055                0                    -0.025232                   0  \n",
       "3056                0                     0.000380                   1  \n",
       "3057                1                    -0.002237                   0  \n",
       "3058                1                     0.039492                   1  \n",
       "3059                1                     0.006638                   1  \n",
       "3060                0                    -0.012209                   0  \n",
       "3061                1                     0.005519                   1  \n",
       "3062                0                     0.026342                   1  \n",
       "3063                0                    -0.026964                   0  "
      ]
     },
     "execution_count": 32,
     "metadata": {},
     "output_type": "execute_result"
    },
    {
     "data": {
      "application/javascript": "\n            setTimeout(function() {\n                var nbb_cell_id = 32;\n                var nbb_unformatted_code = \"df.tail(10)\";\n                var nbb_formatted_code = \"df.tail(10)\";\n                var nbb_cells = Jupyter.notebook.get_cells();\n                for (var i = 0; i < nbb_cells.length; ++i) {\n                    if (nbb_cells[i].input_prompt_number == nbb_cell_id) {\n                        if (nbb_cells[i].get_text() == nbb_unformatted_code) {\n                             nbb_cells[i].set_text(nbb_formatted_code);\n                        }\n                        break;\n                    }\n                }\n            }, 500);\n            ",
      "text/plain": [
       "<IPython.core.display.Javascript object>"
      ]
     },
     "metadata": {},
     "output_type": "display_data"
    }
   ],
   "source": [
    "df.tail(10)"
   ]
  },
  {
   "cell_type": "code",
   "execution_count": 33,
   "metadata": {},
   "outputs": [
    {
     "data": {
      "application/javascript": "\n            setTimeout(function() {\n                var nbb_cell_id = 33;\n                var nbb_unformatted_code = \"df = df.drop(2820)\";\n                var nbb_formatted_code = \"df = df.drop(2820)\";\n                var nbb_cells = Jupyter.notebook.get_cells();\n                for (var i = 0; i < nbb_cells.length; ++i) {\n                    if (nbb_cells[i].input_prompt_number == nbb_cell_id) {\n                        if (nbb_cells[i].get_text() == nbb_unformatted_code) {\n                             nbb_cells[i].set_text(nbb_formatted_code);\n                        }\n                        break;\n                    }\n                }\n            }, 500);\n            ",
      "text/plain": [
       "<IPython.core.display.Javascript object>"
      ]
     },
     "metadata": {},
     "output_type": "display_data"
    }
   ],
   "source": [
    "df = df.drop(2820)"
   ]
  },
  {
   "cell_type": "markdown",
   "metadata": {},
   "source": [
    "#### Postive Increase Prediction %"
   ]
  },
  {
   "cell_type": "code",
   "execution_count": 34,
   "metadata": {},
   "outputs": [
    {
     "data": {
      "text/plain": [
       "0.6031746031746031"
      ]
     },
     "execution_count": 34,
     "metadata": {},
     "output_type": "execute_result"
    },
    {
     "data": {
      "application/javascript": "\n            setTimeout(function() {\n                var nbb_cell_id = 34;\n                var nbb_unformatted_code = \"df[(df[\\\"actual_increase\\\"]==1) & (df[\\\"predicted_increase\\\"]==1)].shape[0] / df[(df[\\\"actual_increase\\\"]==1)].shape[0]\";\n                var nbb_formatted_code = \"df[(df[\\\"actual_increase\\\"] == 1) & (df[\\\"predicted_increase\\\"] == 1)].shape[0] / df[\\n    (df[\\\"actual_increase\\\"] == 1)\\n].shape[0]\";\n                var nbb_cells = Jupyter.notebook.get_cells();\n                for (var i = 0; i < nbb_cells.length; ++i) {\n                    if (nbb_cells[i].input_prompt_number == nbb_cell_id) {\n                        if (nbb_cells[i].get_text() == nbb_unformatted_code) {\n                             nbb_cells[i].set_text(nbb_formatted_code);\n                        }\n                        break;\n                    }\n                }\n            }, 500);\n            ",
      "text/plain": [
       "<IPython.core.display.Javascript object>"
      ]
     },
     "metadata": {},
     "output_type": "display_data"
    }
   ],
   "source": [
    "df[(df[\"actual_increase\"]==1) & (df[\"predicted_increase\"]==1)].shape[0] / df[(df[\"actual_increase\"]==1)].shape[0]"
   ]
  },
  {
   "cell_type": "markdown",
   "metadata": {},
   "source": [
    "### Negative Increase Prediction %"
   ]
  },
  {
   "cell_type": "code",
   "execution_count": 36,
   "metadata": {},
   "outputs": [
    {
     "data": {
      "text/plain": [
       "0.49572649572649574"
      ]
     },
     "execution_count": 36,
     "metadata": {},
     "output_type": "execute_result"
    },
    {
     "data": {
      "application/javascript": "\n            setTimeout(function() {\n                var nbb_cell_id = 36;\n                var nbb_unformatted_code = \"df[(df[\\\"actual_increase\\\"]==0) & (df[\\\"predicted_increase\\\"]==0)].shape[0] / df[(df[\\\"actual_increase\\\"]==0)].shape[0]\";\n                var nbb_formatted_code = \"df[(df[\\\"actual_increase\\\"] == 0) & (df[\\\"predicted_increase\\\"] == 0)].shape[0] / df[\\n    (df[\\\"actual_increase\\\"] == 0)\\n].shape[0]\";\n                var nbb_cells = Jupyter.notebook.get_cells();\n                for (var i = 0; i < nbb_cells.length; ++i) {\n                    if (nbb_cells[i].input_prompt_number == nbb_cell_id) {\n                        if (nbb_cells[i].get_text() == nbb_unformatted_code) {\n                             nbb_cells[i].set_text(nbb_formatted_code);\n                        }\n                        break;\n                    }\n                }\n            }, 500);\n            ",
      "text/plain": [
       "<IPython.core.display.Javascript object>"
      ]
     },
     "metadata": {},
     "output_type": "display_data"
    }
   ],
   "source": [
    "df[(df[\"actual_increase\"]==0) & (df[\"predicted_increase\"]==0)].shape[0] / df[(df[\"actual_increase\"]==0)].shape[0]"
   ]
  },
  {
   "cell_type": "markdown",
   "metadata": {},
   "source": [
    "#### Overall Prediction Accuracy %"
   ]
  },
  {
   "cell_type": "code",
   "execution_count": 37,
   "metadata": {},
   "outputs": [
    {
     "data": {
      "text/plain": [
       "0.551440329218107"
      ]
     },
     "execution_count": 37,
     "metadata": {},
     "output_type": "execute_result"
    },
    {
     "data": {
      "application/javascript": "\n            setTimeout(function() {\n                var nbb_cell_id = 37;\n                var nbb_unformatted_code = \"df[(df[\\\"actual_increase\\\"] == df[\\\"predicted_increase\\\"])].shape[0] / (df.shape[0])\";\n                var nbb_formatted_code = \"df[(df[\\\"actual_increase\\\"] == df[\\\"predicted_increase\\\"])].shape[0] / (df.shape[0])\";\n                var nbb_cells = Jupyter.notebook.get_cells();\n                for (var i = 0; i < nbb_cells.length; ++i) {\n                    if (nbb_cells[i].input_prompt_number == nbb_cell_id) {\n                        if (nbb_cells[i].get_text() == nbb_unformatted_code) {\n                             nbb_cells[i].set_text(nbb_formatted_code);\n                        }\n                        break;\n                    }\n                }\n            }, 500);\n            ",
      "text/plain": [
       "<IPython.core.display.Javascript object>"
      ]
     },
     "metadata": {},
     "output_type": "display_data"
    }
   ],
   "source": [
    "df[(df[\"actual_increase\"] == df[\"predicted_increase\"])].shape[0] / (df.shape[0])"
   ]
  },
  {
   "cell_type": "markdown",
   "metadata": {},
   "source": [
    "#### Actual Distribution of Increase (1) vs. Decrease (0)"
   ]
  },
  {
   "cell_type": "code",
   "execution_count": 38,
   "metadata": {},
   "outputs": [
    {
     "data": {
      "text/plain": [
       "1    0.518519\n",
       "0    0.481481\n",
       "Name: actual_increase, dtype: float64"
      ]
     },
     "execution_count": 38,
     "metadata": {},
     "output_type": "execute_result"
    },
    {
     "data": {
      "application/javascript": "\n            setTimeout(function() {\n                var nbb_cell_id = 38;\n                var nbb_unformatted_code = \"df[\\\"actual_increase\\\"].value_counts(normalize=True)\";\n                var nbb_formatted_code = \"df[\\\"actual_increase\\\"].value_counts(normalize=True)\";\n                var nbb_cells = Jupyter.notebook.get_cells();\n                for (var i = 0; i < nbb_cells.length; ++i) {\n                    if (nbb_cells[i].input_prompt_number == nbb_cell_id) {\n                        if (nbb_cells[i].get_text() == nbb_unformatted_code) {\n                             nbb_cells[i].set_text(nbb_formatted_code);\n                        }\n                        break;\n                    }\n                }\n            }, 500);\n            ",
      "text/plain": [
       "<IPython.core.display.Javascript object>"
      ]
     },
     "metadata": {},
     "output_type": "display_data"
    }
   ],
   "source": [
    "df[\"actual_increase\"].value_counts(normalize=True)"
   ]
  }
 ],
 "metadata": {
  "kernelspec": {
   "display_name": "Python 3",
   "language": "python",
   "name": "python3"
  },
  "language_info": {
   "codemirror_mode": {
    "name": "ipython",
    "version": 3
   },
   "file_extension": ".py",
   "mimetype": "text/x-python",
   "name": "python",
   "nbconvert_exporter": "python",
   "pygments_lexer": "ipython3",
   "version": "3.8.10"
  },
  "orig_nbformat": 4
 },
 "nbformat": 4,
 "nbformat_minor": 2
}
