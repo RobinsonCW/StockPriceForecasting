{
 "cells": [
  {
   "cell_type": "code",
   "execution_count": 400,
   "metadata": {},
   "outputs": [
    {
     "name": "stdout",
     "output_type": "stream",
     "text": [
      "The nb_black extension is already loaded. To reload it, use:\n",
      "  %reload_ext nb_black\n"
     ]
    },
    {
     "data": {
      "application/javascript": "\n            setTimeout(function() {\n                var nbb_cell_id = 400;\n                var nbb_unformatted_code = \"%load_ext nb_black\\n%matplotlib inline\\n\\n# import pandas as pd\\n# import numpy as np\\n# import os\\n# import matplotlib.pyplot as plt\\n# import time\\n\\nimport IPython\\nimport IPython.display\\nimport matplotlib as mpl\\nimport matplotlib.pyplot as plt\\nimport numpy as np\\nimport pandas as pd\\nimport seaborn as sns\\nimport tensorflow as tf\\n\\nfrom pathlib import Path\\n\\nmpl.rcParams['figure.figsize'] = (8, 6)\\nmpl.rcParams['axes.grid'] = False\\n\\nnp.random.seed(42)\\ntf.random.set_seed(42)\\n\\nplt.style.use(style=\\\"seaborn\\\")\\n# plt.rcParams['figure.dpi'] = 400\\nsns.set_style('whitegrid')\";\n                var nbb_formatted_code = \"%load_ext nb_black\\n%matplotlib inline\\n\\n# import pandas as pd\\n# import numpy as np\\n# import os\\n# import matplotlib.pyplot as plt\\n# import time\\n\\nimport IPython\\nimport IPython.display\\nimport matplotlib as mpl\\nimport matplotlib.pyplot as plt\\nimport numpy as np\\nimport pandas as pd\\nimport seaborn as sns\\nimport tensorflow as tf\\n\\nfrom pathlib import Path\\n\\nmpl.rcParams[\\\"figure.figsize\\\"] = (8, 6)\\nmpl.rcParams[\\\"axes.grid\\\"] = False\\n\\nnp.random.seed(42)\\ntf.random.set_seed(42)\\n\\nplt.style.use(style=\\\"seaborn\\\")\\n# plt.rcParams['figure.dpi'] = 400\\nsns.set_style(\\\"whitegrid\\\")\";\n                var nbb_cells = Jupyter.notebook.get_cells();\n                for (var i = 0; i < nbb_cells.length; ++i) {\n                    if (nbb_cells[i].input_prompt_number == nbb_cell_id) {\n                        if (nbb_cells[i].get_text() == nbb_unformatted_code) {\n                             nbb_cells[i].set_text(nbb_formatted_code);\n                        }\n                        break;\n                    }\n                }\n            }, 500);\n            ",
      "text/plain": [
       "<IPython.core.display.Javascript object>"
      ]
     },
     "metadata": {},
     "output_type": "display_data"
    }
   ],
   "source": [
    "%load_ext nb_black\n",
    "%matplotlib inline\n",
    "\n",
    "# import pandas as pd\n",
    "# import numpy as np\n",
    "# import os\n",
    "# import matplotlib.pyplot as plt\n",
    "# import time\n",
    "\n",
    "import IPython\n",
    "import IPython.display\n",
    "import matplotlib as mpl\n",
    "import matplotlib.pyplot as plt\n",
    "import numpy as np\n",
    "import pandas as pd\n",
    "import seaborn as sns\n",
    "import tensorflow as tf\n",
    "\n",
    "from pathlib import Path\n",
    "\n",
    "mpl.rcParams['figure.figsize'] = (8, 6)\n",
    "mpl.rcParams['axes.grid'] = False\n",
    "\n",
    "np.random.seed(42)\n",
    "tf.random.set_seed(42)\n",
    "\n",
    "plt.style.use(style=\"seaborn\")\n",
    "# plt.rcParams['figure.dpi'] = 400\n",
    "sns.set_style('whitegrid')\n"
   ]
  },
  {
   "cell_type": "code",
   "execution_count": 401,
   "metadata": {},
   "outputs": [
    {
     "name": "stdout",
     "output_type": "stream",
     "text": [
      "Using GPU\n"
     ]
    },
    {
     "data": {
      "application/javascript": "\n            setTimeout(function() {\n                var nbb_cell_id = 401;\n                var nbb_unformatted_code = \"gpu_devices = tf.config.experimental.list_physical_devices('GPU')\\nif gpu_devices:\\n    print('Using GPU')\\n    tf.config.experimental.set_memory_growth(gpu_devices[0], True)\\nelse:\\n    print('Using CPU')\";\n                var nbb_formatted_code = \"gpu_devices = tf.config.experimental.list_physical_devices(\\\"GPU\\\")\\nif gpu_devices:\\n    print(\\\"Using GPU\\\")\\n    tf.config.experimental.set_memory_growth(gpu_devices[0], True)\\nelse:\\n    print(\\\"Using CPU\\\")\";\n                var nbb_cells = Jupyter.notebook.get_cells();\n                for (var i = 0; i < nbb_cells.length; ++i) {\n                    if (nbb_cells[i].input_prompt_number == nbb_cell_id) {\n                        if (nbb_cells[i].get_text() == nbb_unformatted_code) {\n                             nbb_cells[i].set_text(nbb_formatted_code);\n                        }\n                        break;\n                    }\n                }\n            }, 500);\n            ",
      "text/plain": [
       "<IPython.core.display.Javascript object>"
      ]
     },
     "metadata": {},
     "output_type": "display_data"
    }
   ],
   "source": [
    "gpu_devices = tf.config.experimental.list_physical_devices('GPU')\n",
    "if gpu_devices:\n",
    "    print('Using GPU')\n",
    "    tf.config.experimental.set_memory_growth(gpu_devices[0], True)\n",
    "else:\n",
    "    print('Using CPU')"
   ]
  },
  {
   "cell_type": "code",
   "execution_count": 402,
   "metadata": {},
   "outputs": [
    {
     "name": "stdout",
     "output_type": "stream",
     "text": [
      "Sun Jul 10 02:27:05 2022       \n",
      "+-----------------------------------------------------------------------------+\n",
      "| NVIDIA-SMI 515.48.07    Driver Version: 516.40       CUDA Version: 11.7     |\n",
      "|-------------------------------+----------------------+----------------------+\n",
      "| GPU  Name        Persistence-M| Bus-Id        Disp.A | Volatile Uncorr. ECC |\n",
      "| Fan  Temp  Perf  Pwr:Usage/Cap|         Memory-Usage | GPU-Util  Compute M. |\n",
      "|                               |                      |               MIG M. |\n",
      "|===============================+======================+======================|\n",
      "|   0  NVIDIA GeForce ...  On   | 00000000:01:00.0  On |                  N/A |\n",
      "|  0%   56C    P8    19W / 200W |   2821MiB /  4096MiB |     17%      Default |\n",
      "|                               |                      |                  N/A |\n",
      "+-------------------------------+----------------------+----------------------+\n",
      "                                                                               \n",
      "+-----------------------------------------------------------------------------+\n",
      "| Processes:                                                                  |\n",
      "|  GPU   GI   CI        PID   Type   Process name                  GPU Memory |\n",
      "|        ID   ID                                                   Usage      |\n",
      "|=============================================================================|\n",
      "|    0   N/A  N/A     14267      C   /python3.8                      N/A      |\n",
      "|    0   N/A  N/A     19939      C   /python3.8                      N/A      |\n",
      "+-----------------------------------------------------------------------------+\n"
     ]
    },
    {
     "data": {
      "application/javascript": "\n            setTimeout(function() {\n                var nbb_cell_id = 402;\n                var nbb_unformatted_code = \"!nvidia-smi\";\n                var nbb_formatted_code = \"!nvidia-smi\";\n                var nbb_cells = Jupyter.notebook.get_cells();\n                for (var i = 0; i < nbb_cells.length; ++i) {\n                    if (nbb_cells[i].input_prompt_number == nbb_cell_id) {\n                        if (nbb_cells[i].get_text() == nbb_unformatted_code) {\n                             nbb_cells[i].set_text(nbb_formatted_code);\n                        }\n                        break;\n                    }\n                }\n            }, 500);\n            ",
      "text/plain": [
       "<IPython.core.display.Javascript object>"
      ]
     },
     "metadata": {},
     "output_type": "display_data"
    }
   ],
   "source": [
    "!nvidia-smi"
   ]
  },
  {
   "cell_type": "code",
   "execution_count": 403,
   "metadata": {},
   "outputs": [
    {
     "data": {
      "application/javascript": "\n            setTimeout(function() {\n                var nbb_cell_id = 403;\n                var nbb_unformatted_code = \"csv_path = \\\"/app/StockPricePredictions/data/alphavantage/time_series_daily_adjusted/AAPL/AAPL_WITH_TWINT_FINBERT_SA.csv\\\"\";\n                var nbb_formatted_code = \"csv_path = \\\"/app/StockPricePredictions/data/alphavantage/time_series_daily_adjusted/AAPL/AAPL_WITH_TWINT_FINBERT_SA.csv\\\"\";\n                var nbb_cells = Jupyter.notebook.get_cells();\n                for (var i = 0; i < nbb_cells.length; ++i) {\n                    if (nbb_cells[i].input_prompt_number == nbb_cell_id) {\n                        if (nbb_cells[i].get_text() == nbb_unformatted_code) {\n                             nbb_cells[i].set_text(nbb_formatted_code);\n                        }\n                        break;\n                    }\n                }\n            }, 500);\n            ",
      "text/plain": [
       "<IPython.core.display.Javascript object>"
      ]
     },
     "metadata": {},
     "output_type": "display_data"
    }
   ],
   "source": [
    "csv_path = \"/app/StockPricePredictions/data/alphavantage/time_series_daily_adjusted/AAPL/AAPL_WITH_TWINT_FINBERT_SA.csv\""
   ]
  },
  {
   "cell_type": "code",
   "execution_count": 404,
   "metadata": {},
   "outputs": [
    {
     "data": {
      "application/javascript": "\n            setTimeout(function() {\n                var nbb_cell_id = 404;\n                var nbb_unformatted_code = \"df = pd.read_csv(csv_path)\\ndf.sort_values(by=[\\\"date\\\"], ascending=True, inplace=True)\\ndf.reset_index(drop=True, inplace=True)\\n\\ndate_time = pd.to_datetime(df.pop('date'))\\n\\ndf.index = date_time\";\n                var nbb_formatted_code = \"df = pd.read_csv(csv_path)\\ndf.sort_values(by=[\\\"date\\\"], ascending=True, inplace=True)\\ndf.reset_index(drop=True, inplace=True)\\n\\ndate_time = pd.to_datetime(df.pop(\\\"date\\\"))\\n\\ndf.index = date_time\";\n                var nbb_cells = Jupyter.notebook.get_cells();\n                for (var i = 0; i < nbb_cells.length; ++i) {\n                    if (nbb_cells[i].input_prompt_number == nbb_cell_id) {\n                        if (nbb_cells[i].get_text() == nbb_unformatted_code) {\n                             nbb_cells[i].set_text(nbb_formatted_code);\n                        }\n                        break;\n                    }\n                }\n            }, 500);\n            ",
      "text/plain": [
       "<IPython.core.display.Javascript object>"
      ]
     },
     "metadata": {},
     "output_type": "display_data"
    }
   ],
   "source": [
    "df = pd.read_csv(csv_path)\n",
    "df.sort_values(by=[\"date\"], ascending=True, inplace=True)\n",
    "df.reset_index(drop=True, inplace=True)\n",
    "\n",
    "date_time = pd.to_datetime(df.pop('date'))\n",
    "\n",
    "df.index = date_time"
   ]
  },
  {
   "cell_type": "code",
   "execution_count": 405,
   "metadata": {},
   "outputs": [
    {
     "name": "stdout",
     "output_type": "stream",
     "text": [
      "<class 'pandas.core.frame.DataFrame'>\n",
      "DatetimeIndex: 3064 entries, 2010-01-04 to 2022-03-04\n",
      "Data columns (total 16 columns):\n",
      " #   Column                Non-Null Count  Dtype  \n",
      "---  ------                --------------  -----  \n",
      " 0   1. open               3064 non-null   float64\n",
      " 1   2. high               3064 non-null   float64\n",
      " 2   3. low                3064 non-null   float64\n",
      " 3   4. close              3064 non-null   float64\n",
      " 4   5. adjusted close     3064 non-null   float64\n",
      " 5   6. volume             3064 non-null   float64\n",
      " 6   7. dividend amount    3064 non-null   float64\n",
      " 7   8. split coefficient  3064 non-null   float64\n",
      " 8   date_time             3064 non-null   object \n",
      " 9   day_of_week           3064 non-null   int64  \n",
      " 10  return                3064 non-null   float64\n",
      " 11  increase              3064 non-null   float64\n",
      " 12  log_return            3064 non-null   float64\n",
      " 13  negative              3064 non-null   float64\n",
      " 14  nuetral               3064 non-null   float64\n",
      " 15  positive              3064 non-null   float64\n",
      "dtypes: float64(14), int64(1), object(1)\n",
      "memory usage: 406.9+ KB\n"
     ]
    },
    {
     "data": {
      "application/javascript": "\n            setTimeout(function() {\n                var nbb_cell_id = 405;\n                var nbb_unformatted_code = \"df.info()\";\n                var nbb_formatted_code = \"df.info()\";\n                var nbb_cells = Jupyter.notebook.get_cells();\n                for (var i = 0; i < nbb_cells.length; ++i) {\n                    if (nbb_cells[i].input_prompt_number == nbb_cell_id) {\n                        if (nbb_cells[i].get_text() == nbb_unformatted_code) {\n                             nbb_cells[i].set_text(nbb_formatted_code);\n                        }\n                        break;\n                    }\n                }\n            }, 500);\n            ",
      "text/plain": [
       "<IPython.core.display.Javascript object>"
      ]
     },
     "metadata": {},
     "output_type": "display_data"
    }
   ],
   "source": [
    "df.info()"
   ]
  },
  {
   "cell_type": "code",
   "execution_count": 406,
   "metadata": {},
   "outputs": [
    {
     "data": {
      "text/html": [
       "<div>\n",
       "<style scoped>\n",
       "    .dataframe tbody tr th:only-of-type {\n",
       "        vertical-align: middle;\n",
       "    }\n",
       "\n",
       "    .dataframe tbody tr th {\n",
       "        vertical-align: top;\n",
       "    }\n",
       "\n",
       "    .dataframe thead th {\n",
       "        text-align: right;\n",
       "    }\n",
       "</style>\n",
       "<table border=\"1\" class=\"dataframe\">\n",
       "  <thead>\n",
       "    <tr style=\"text-align: right;\">\n",
       "      <th></th>\n",
       "      <th>1. open</th>\n",
       "      <th>2. high</th>\n",
       "      <th>3. low</th>\n",
       "      <th>4. close</th>\n",
       "      <th>5. adjusted close</th>\n",
       "      <th>6. volume</th>\n",
       "      <th>7. dividend amount</th>\n",
       "      <th>8. split coefficient</th>\n",
       "      <th>date_time</th>\n",
       "      <th>day_of_week</th>\n",
       "      <th>return</th>\n",
       "      <th>increase</th>\n",
       "      <th>log_return</th>\n",
       "      <th>negative</th>\n",
       "      <th>nuetral</th>\n",
       "      <th>positive</th>\n",
       "    </tr>\n",
       "    <tr>\n",
       "      <th>date</th>\n",
       "      <th></th>\n",
       "      <th></th>\n",
       "      <th></th>\n",
       "      <th></th>\n",
       "      <th></th>\n",
       "      <th></th>\n",
       "      <th></th>\n",
       "      <th></th>\n",
       "      <th></th>\n",
       "      <th></th>\n",
       "      <th></th>\n",
       "      <th></th>\n",
       "      <th></th>\n",
       "      <th></th>\n",
       "      <th></th>\n",
       "      <th></th>\n",
       "    </tr>\n",
       "  </thead>\n",
       "  <tbody>\n",
       "    <tr>\n",
       "      <th>2010-01-04</th>\n",
       "      <td>213.43</td>\n",
       "      <td>214.50</td>\n",
       "      <td>212.38</td>\n",
       "      <td>214.01</td>\n",
       "      <td>6.543876</td>\n",
       "      <td>17633200.0</td>\n",
       "      <td>0.0</td>\n",
       "      <td>1.0</td>\n",
       "      <td>2010-01-04</td>\n",
       "      <td>0</td>\n",
       "      <td>0.000000</td>\n",
       "      <td>0.0</td>\n",
       "      <td>0.000000</td>\n",
       "      <td>0.000013</td>\n",
       "      <td>0.000009</td>\n",
       "      <td>0.999979</td>\n",
       "    </tr>\n",
       "    <tr>\n",
       "      <th>2010-01-05</th>\n",
       "      <td>214.60</td>\n",
       "      <td>215.59</td>\n",
       "      <td>213.25</td>\n",
       "      <td>214.38</td>\n",
       "      <td>6.555190</td>\n",
       "      <td>21496600.0</td>\n",
       "      <td>0.0</td>\n",
       "      <td>1.0</td>\n",
       "      <td>2010-01-05</td>\n",
       "      <td>1</td>\n",
       "      <td>0.001729</td>\n",
       "      <td>1.0</td>\n",
       "      <td>0.001727</td>\n",
       "      <td>0.498715</td>\n",
       "      <td>0.001116</td>\n",
       "      <td>0.500169</td>\n",
       "    </tr>\n",
       "    <tr>\n",
       "      <th>2010-01-06</th>\n",
       "      <td>214.38</td>\n",
       "      <td>215.23</td>\n",
       "      <td>210.75</td>\n",
       "      <td>210.97</td>\n",
       "      <td>6.450921</td>\n",
       "      <td>19720000.0</td>\n",
       "      <td>0.0</td>\n",
       "      <td>1.0</td>\n",
       "      <td>2010-01-06</td>\n",
       "      <td>2</td>\n",
       "      <td>-0.015906</td>\n",
       "      <td>0.0</td>\n",
       "      <td>-0.016034</td>\n",
       "      <td>0.000052</td>\n",
       "      <td>0.085701</td>\n",
       "      <td>0.914247</td>\n",
       "    </tr>\n",
       "    <tr>\n",
       "      <th>2010-01-07</th>\n",
       "      <td>211.75</td>\n",
       "      <td>212.00</td>\n",
       "      <td>209.05</td>\n",
       "      <td>210.58</td>\n",
       "      <td>6.438996</td>\n",
       "      <td>17040400.0</td>\n",
       "      <td>0.0</td>\n",
       "      <td>1.0</td>\n",
       "      <td>2010-01-07</td>\n",
       "      <td>3</td>\n",
       "      <td>-0.001849</td>\n",
       "      <td>0.0</td>\n",
       "      <td>-0.001850</td>\n",
       "      <td>0.457010</td>\n",
       "      <td>0.000224</td>\n",
       "      <td>0.542766</td>\n",
       "    </tr>\n",
       "    <tr>\n",
       "      <th>2010-01-08</th>\n",
       "      <td>210.30</td>\n",
       "      <td>212.00</td>\n",
       "      <td>209.06</td>\n",
       "      <td>211.98</td>\n",
       "      <td>6.481804</td>\n",
       "      <td>15986100.0</td>\n",
       "      <td>0.0</td>\n",
       "      <td>1.0</td>\n",
       "      <td>2010-01-08</td>\n",
       "      <td>4</td>\n",
       "      <td>0.006648</td>\n",
       "      <td>1.0</td>\n",
       "      <td>0.006626</td>\n",
       "      <td>0.010157</td>\n",
       "      <td>0.000059</td>\n",
       "      <td>0.989783</td>\n",
       "    </tr>\n",
       "  </tbody>\n",
       "</table>\n",
       "</div>"
      ],
      "text/plain": [
       "            1. open  2. high  3. low  4. close  5. adjusted close   6. volume  \\\n",
       "date                                                                            \n",
       "2010-01-04   213.43   214.50  212.38    214.01           6.543876  17633200.0   \n",
       "2010-01-05   214.60   215.59  213.25    214.38           6.555190  21496600.0   \n",
       "2010-01-06   214.38   215.23  210.75    210.97           6.450921  19720000.0   \n",
       "2010-01-07   211.75   212.00  209.05    210.58           6.438996  17040400.0   \n",
       "2010-01-08   210.30   212.00  209.06    211.98           6.481804  15986100.0   \n",
       "\n",
       "            7. dividend amount  8. split coefficient   date_time  day_of_week  \\\n",
       "date                                                                            \n",
       "2010-01-04                 0.0                   1.0  2010-01-04            0   \n",
       "2010-01-05                 0.0                   1.0  2010-01-05            1   \n",
       "2010-01-06                 0.0                   1.0  2010-01-06            2   \n",
       "2010-01-07                 0.0                   1.0  2010-01-07            3   \n",
       "2010-01-08                 0.0                   1.0  2010-01-08            4   \n",
       "\n",
       "              return  increase  log_return  negative   nuetral  positive  \n",
       "date                                                                      \n",
       "2010-01-04  0.000000       0.0    0.000000  0.000013  0.000009  0.999979  \n",
       "2010-01-05  0.001729       1.0    0.001727  0.498715  0.001116  0.500169  \n",
       "2010-01-06 -0.015906       0.0   -0.016034  0.000052  0.085701  0.914247  \n",
       "2010-01-07 -0.001849       0.0   -0.001850  0.457010  0.000224  0.542766  \n",
       "2010-01-08  0.006648       1.0    0.006626  0.010157  0.000059  0.989783  "
      ]
     },
     "execution_count": 406,
     "metadata": {},
     "output_type": "execute_result"
    },
    {
     "data": {
      "application/javascript": "\n            setTimeout(function() {\n                var nbb_cell_id = 406;\n                var nbb_unformatted_code = \"df.head()\";\n                var nbb_formatted_code = \"df.head()\";\n                var nbb_cells = Jupyter.notebook.get_cells();\n                for (var i = 0; i < nbb_cells.length; ++i) {\n                    if (nbb_cells[i].input_prompt_number == nbb_cell_id) {\n                        if (nbb_cells[i].get_text() == nbb_unformatted_code) {\n                             nbb_cells[i].set_text(nbb_formatted_code);\n                        }\n                        break;\n                    }\n                }\n            }, 500);\n            ",
      "text/plain": [
       "<IPython.core.display.Javascript object>"
      ]
     },
     "metadata": {},
     "output_type": "display_data"
    }
   ],
   "source": [
    "df.head()"
   ]
  },
  {
   "cell_type": "code",
   "execution_count": 407,
   "metadata": {},
   "outputs": [
    {
     "data": {
      "text/html": [
       "<div>\n",
       "<style scoped>\n",
       "    .dataframe tbody tr th:only-of-type {\n",
       "        vertical-align: middle;\n",
       "    }\n",
       "\n",
       "    .dataframe tbody tr th {\n",
       "        vertical-align: top;\n",
       "    }\n",
       "\n",
       "    .dataframe thead th {\n",
       "        text-align: right;\n",
       "    }\n",
       "</style>\n",
       "<table border=\"1\" class=\"dataframe\">\n",
       "  <thead>\n",
       "    <tr style=\"text-align: right;\">\n",
       "      <th></th>\n",
       "      <th>1. open</th>\n",
       "      <th>2. high</th>\n",
       "      <th>3. low</th>\n",
       "      <th>4. close</th>\n",
       "      <th>5. adjusted close</th>\n",
       "      <th>6. volume</th>\n",
       "      <th>7. dividend amount</th>\n",
       "      <th>8. split coefficient</th>\n",
       "      <th>date_time</th>\n",
       "      <th>day_of_week</th>\n",
       "      <th>return</th>\n",
       "      <th>increase</th>\n",
       "      <th>log_return</th>\n",
       "      <th>negative</th>\n",
       "      <th>nuetral</th>\n",
       "      <th>positive</th>\n",
       "    </tr>\n",
       "    <tr>\n",
       "      <th>date</th>\n",
       "      <th></th>\n",
       "      <th></th>\n",
       "      <th></th>\n",
       "      <th></th>\n",
       "      <th></th>\n",
       "      <th></th>\n",
       "      <th></th>\n",
       "      <th></th>\n",
       "      <th></th>\n",
       "      <th></th>\n",
       "      <th></th>\n",
       "      <th></th>\n",
       "      <th></th>\n",
       "      <th></th>\n",
       "      <th></th>\n",
       "      <th></th>\n",
       "    </tr>\n",
       "  </thead>\n",
       "  <tbody>\n",
       "    <tr>\n",
       "      <th>2022-02-28</th>\n",
       "      <td>163.060</td>\n",
       "      <td>165.42</td>\n",
       "      <td>162.43</td>\n",
       "      <td>165.12</td>\n",
       "      <td>165.12</td>\n",
       "      <td>95056629.0</td>\n",
       "      <td>0.0</td>\n",
       "      <td>1.0</td>\n",
       "      <td>2022-02-28</td>\n",
       "      <td>0</td>\n",
       "      <td>0.001638</td>\n",
       "      <td>1.0</td>\n",
       "      <td>0.001637</td>\n",
       "      <td>0.110022</td>\n",
       "      <td>0.022801</td>\n",
       "      <td>0.867177</td>\n",
       "    </tr>\n",
       "    <tr>\n",
       "      <th>2022-03-01</th>\n",
       "      <td>164.695</td>\n",
       "      <td>166.60</td>\n",
       "      <td>161.97</td>\n",
       "      <td>163.20</td>\n",
       "      <td>163.20</td>\n",
       "      <td>83474425.0</td>\n",
       "      <td>0.0</td>\n",
       "      <td>1.0</td>\n",
       "      <td>2022-03-01</td>\n",
       "      <td>1</td>\n",
       "      <td>-0.011628</td>\n",
       "      <td>0.0</td>\n",
       "      <td>-0.011696</td>\n",
       "      <td>0.083351</td>\n",
       "      <td>0.250679</td>\n",
       "      <td>0.665971</td>\n",
       "    </tr>\n",
       "    <tr>\n",
       "      <th>2022-03-02</th>\n",
       "      <td>164.390</td>\n",
       "      <td>167.36</td>\n",
       "      <td>162.95</td>\n",
       "      <td>166.56</td>\n",
       "      <td>166.56</td>\n",
       "      <td>79724750.0</td>\n",
       "      <td>0.0</td>\n",
       "      <td>1.0</td>\n",
       "      <td>2022-03-02</td>\n",
       "      <td>2</td>\n",
       "      <td>0.020588</td>\n",
       "      <td>1.0</td>\n",
       "      <td>0.020379</td>\n",
       "      <td>0.150388</td>\n",
       "      <td>0.000115</td>\n",
       "      <td>0.849497</td>\n",
       "    </tr>\n",
       "    <tr>\n",
       "      <th>2022-03-03</th>\n",
       "      <td>168.470</td>\n",
       "      <td>168.91</td>\n",
       "      <td>165.55</td>\n",
       "      <td>166.23</td>\n",
       "      <td>166.23</td>\n",
       "      <td>76678441.0</td>\n",
       "      <td>0.0</td>\n",
       "      <td>1.0</td>\n",
       "      <td>2022-03-03</td>\n",
       "      <td>3</td>\n",
       "      <td>-0.001981</td>\n",
       "      <td>0.0</td>\n",
       "      <td>-0.001983</td>\n",
       "      <td>0.132856</td>\n",
       "      <td>0.000441</td>\n",
       "      <td>0.866703</td>\n",
       "    </tr>\n",
       "    <tr>\n",
       "      <th>2022-03-04</th>\n",
       "      <td>164.490</td>\n",
       "      <td>165.55</td>\n",
       "      <td>162.10</td>\n",
       "      <td>163.17</td>\n",
       "      <td>163.17</td>\n",
       "      <td>83819592.0</td>\n",
       "      <td>0.0</td>\n",
       "      <td>1.0</td>\n",
       "      <td>2022-03-04</td>\n",
       "      <td>4</td>\n",
       "      <td>-0.018408</td>\n",
       "      <td>0.0</td>\n",
       "      <td>-0.018580</td>\n",
       "      <td>0.132856</td>\n",
       "      <td>0.000441</td>\n",
       "      <td>0.866703</td>\n",
       "    </tr>\n",
       "  </tbody>\n",
       "</table>\n",
       "</div>"
      ],
      "text/plain": [
       "            1. open  2. high  3. low  4. close  5. adjusted close   6. volume  \\\n",
       "date                                                                            \n",
       "2022-02-28  163.060   165.42  162.43    165.12             165.12  95056629.0   \n",
       "2022-03-01  164.695   166.60  161.97    163.20             163.20  83474425.0   \n",
       "2022-03-02  164.390   167.36  162.95    166.56             166.56  79724750.0   \n",
       "2022-03-03  168.470   168.91  165.55    166.23             166.23  76678441.0   \n",
       "2022-03-04  164.490   165.55  162.10    163.17             163.17  83819592.0   \n",
       "\n",
       "            7. dividend amount  8. split coefficient   date_time  day_of_week  \\\n",
       "date                                                                            \n",
       "2022-02-28                 0.0                   1.0  2022-02-28            0   \n",
       "2022-03-01                 0.0                   1.0  2022-03-01            1   \n",
       "2022-03-02                 0.0                   1.0  2022-03-02            2   \n",
       "2022-03-03                 0.0                   1.0  2022-03-03            3   \n",
       "2022-03-04                 0.0                   1.0  2022-03-04            4   \n",
       "\n",
       "              return  increase  log_return  negative   nuetral  positive  \n",
       "date                                                                      \n",
       "2022-02-28  0.001638       1.0    0.001637  0.110022  0.022801  0.867177  \n",
       "2022-03-01 -0.011628       0.0   -0.011696  0.083351  0.250679  0.665971  \n",
       "2022-03-02  0.020588       1.0    0.020379  0.150388  0.000115  0.849497  \n",
       "2022-03-03 -0.001981       0.0   -0.001983  0.132856  0.000441  0.866703  \n",
       "2022-03-04 -0.018408       0.0   -0.018580  0.132856  0.000441  0.866703  "
      ]
     },
     "execution_count": 407,
     "metadata": {},
     "output_type": "execute_result"
    },
    {
     "data": {
      "application/javascript": "\n            setTimeout(function() {\n                var nbb_cell_id = 407;\n                var nbb_unformatted_code = \"df.tail()\";\n                var nbb_formatted_code = \"df.tail()\";\n                var nbb_cells = Jupyter.notebook.get_cells();\n                for (var i = 0; i < nbb_cells.length; ++i) {\n                    if (nbb_cells[i].input_prompt_number == nbb_cell_id) {\n                        if (nbb_cells[i].get_text() == nbb_unformatted_code) {\n                             nbb_cells[i].set_text(nbb_formatted_code);\n                        }\n                        break;\n                    }\n                }\n            }, 500);\n            ",
      "text/plain": [
       "<IPython.core.display.Javascript object>"
      ]
     },
     "metadata": {},
     "output_type": "display_data"
    }
   ],
   "source": [
    "df.tail()"
   ]
  },
  {
   "cell_type": "code",
   "execution_count": 408,
   "metadata": {},
   "outputs": [
    {
     "data": {
      "application/javascript": "\n            setTimeout(function() {\n                var nbb_cell_id = 408;\n                var nbb_unformatted_code = \"df[\\\"log_return\\\"] = df[\\\"log_return\\\"].shift(1)\";\n                var nbb_formatted_code = \"df[\\\"log_return\\\"] = df[\\\"log_return\\\"].shift(1)\";\n                var nbb_cells = Jupyter.notebook.get_cells();\n                for (var i = 0; i < nbb_cells.length; ++i) {\n                    if (nbb_cells[i].input_prompt_number == nbb_cell_id) {\n                        if (nbb_cells[i].get_text() == nbb_unformatted_code) {\n                             nbb_cells[i].set_text(nbb_formatted_code);\n                        }\n                        break;\n                    }\n                }\n            }, 500);\n            ",
      "text/plain": [
       "<IPython.core.display.Javascript object>"
      ]
     },
     "metadata": {},
     "output_type": "display_data"
    }
   ],
   "source": [
    "df[\"log_return\"] = df[\"log_return\"].shift(1)"
   ]
  },
  {
   "cell_type": "code",
   "execution_count": 409,
   "metadata": {},
   "outputs": [
    {
     "data": {
      "text/html": [
       "<div>\n",
       "<style scoped>\n",
       "    .dataframe tbody tr th:only-of-type {\n",
       "        vertical-align: middle;\n",
       "    }\n",
       "\n",
       "    .dataframe tbody tr th {\n",
       "        vertical-align: top;\n",
       "    }\n",
       "\n",
       "    .dataframe thead th {\n",
       "        text-align: right;\n",
       "    }\n",
       "</style>\n",
       "<table border=\"1\" class=\"dataframe\">\n",
       "  <thead>\n",
       "    <tr style=\"text-align: right;\">\n",
       "      <th></th>\n",
       "      <th>1. open</th>\n",
       "      <th>2. high</th>\n",
       "      <th>3. low</th>\n",
       "      <th>4. close</th>\n",
       "      <th>5. adjusted close</th>\n",
       "      <th>6. volume</th>\n",
       "      <th>7. dividend amount</th>\n",
       "      <th>8. split coefficient</th>\n",
       "      <th>date_time</th>\n",
       "      <th>day_of_week</th>\n",
       "      <th>return</th>\n",
       "      <th>increase</th>\n",
       "      <th>log_return</th>\n",
       "      <th>negative</th>\n",
       "      <th>nuetral</th>\n",
       "      <th>positive</th>\n",
       "    </tr>\n",
       "    <tr>\n",
       "      <th>date</th>\n",
       "      <th></th>\n",
       "      <th></th>\n",
       "      <th></th>\n",
       "      <th></th>\n",
       "      <th></th>\n",
       "      <th></th>\n",
       "      <th></th>\n",
       "      <th></th>\n",
       "      <th></th>\n",
       "      <th></th>\n",
       "      <th></th>\n",
       "      <th></th>\n",
       "      <th></th>\n",
       "      <th></th>\n",
       "      <th></th>\n",
       "      <th></th>\n",
       "    </tr>\n",
       "  </thead>\n",
       "  <tbody>\n",
       "    <tr>\n",
       "      <th>2010-01-04</th>\n",
       "      <td>213.43</td>\n",
       "      <td>214.50</td>\n",
       "      <td>212.38</td>\n",
       "      <td>214.01</td>\n",
       "      <td>6.543876</td>\n",
       "      <td>17633200.0</td>\n",
       "      <td>0.0</td>\n",
       "      <td>1.0</td>\n",
       "      <td>2010-01-04</td>\n",
       "      <td>0</td>\n",
       "      <td>0.000000</td>\n",
       "      <td>0.0</td>\n",
       "      <td>NaN</td>\n",
       "      <td>0.000013</td>\n",
       "      <td>0.000009</td>\n",
       "      <td>0.999979</td>\n",
       "    </tr>\n",
       "    <tr>\n",
       "      <th>2010-01-05</th>\n",
       "      <td>214.60</td>\n",
       "      <td>215.59</td>\n",
       "      <td>213.25</td>\n",
       "      <td>214.38</td>\n",
       "      <td>6.555190</td>\n",
       "      <td>21496600.0</td>\n",
       "      <td>0.0</td>\n",
       "      <td>1.0</td>\n",
       "      <td>2010-01-05</td>\n",
       "      <td>1</td>\n",
       "      <td>0.001729</td>\n",
       "      <td>1.0</td>\n",
       "      <td>0.000000</td>\n",
       "      <td>0.498715</td>\n",
       "      <td>0.001116</td>\n",
       "      <td>0.500169</td>\n",
       "    </tr>\n",
       "    <tr>\n",
       "      <th>2010-01-06</th>\n",
       "      <td>214.38</td>\n",
       "      <td>215.23</td>\n",
       "      <td>210.75</td>\n",
       "      <td>210.97</td>\n",
       "      <td>6.450921</td>\n",
       "      <td>19720000.0</td>\n",
       "      <td>0.0</td>\n",
       "      <td>1.0</td>\n",
       "      <td>2010-01-06</td>\n",
       "      <td>2</td>\n",
       "      <td>-0.015906</td>\n",
       "      <td>0.0</td>\n",
       "      <td>0.001727</td>\n",
       "      <td>0.000052</td>\n",
       "      <td>0.085701</td>\n",
       "      <td>0.914247</td>\n",
       "    </tr>\n",
       "    <tr>\n",
       "      <th>2010-01-07</th>\n",
       "      <td>211.75</td>\n",
       "      <td>212.00</td>\n",
       "      <td>209.05</td>\n",
       "      <td>210.58</td>\n",
       "      <td>6.438996</td>\n",
       "      <td>17040400.0</td>\n",
       "      <td>0.0</td>\n",
       "      <td>1.0</td>\n",
       "      <td>2010-01-07</td>\n",
       "      <td>3</td>\n",
       "      <td>-0.001849</td>\n",
       "      <td>0.0</td>\n",
       "      <td>-0.016034</td>\n",
       "      <td>0.457010</td>\n",
       "      <td>0.000224</td>\n",
       "      <td>0.542766</td>\n",
       "    </tr>\n",
       "    <tr>\n",
       "      <th>2010-01-08</th>\n",
       "      <td>210.30</td>\n",
       "      <td>212.00</td>\n",
       "      <td>209.06</td>\n",
       "      <td>211.98</td>\n",
       "      <td>6.481804</td>\n",
       "      <td>15986100.0</td>\n",
       "      <td>0.0</td>\n",
       "      <td>1.0</td>\n",
       "      <td>2010-01-08</td>\n",
       "      <td>4</td>\n",
       "      <td>0.006648</td>\n",
       "      <td>1.0</td>\n",
       "      <td>-0.001850</td>\n",
       "      <td>0.010157</td>\n",
       "      <td>0.000059</td>\n",
       "      <td>0.989783</td>\n",
       "    </tr>\n",
       "  </tbody>\n",
       "</table>\n",
       "</div>"
      ],
      "text/plain": [
       "            1. open  2. high  3. low  4. close  5. adjusted close   6. volume  \\\n",
       "date                                                                            \n",
       "2010-01-04   213.43   214.50  212.38    214.01           6.543876  17633200.0   \n",
       "2010-01-05   214.60   215.59  213.25    214.38           6.555190  21496600.0   \n",
       "2010-01-06   214.38   215.23  210.75    210.97           6.450921  19720000.0   \n",
       "2010-01-07   211.75   212.00  209.05    210.58           6.438996  17040400.0   \n",
       "2010-01-08   210.30   212.00  209.06    211.98           6.481804  15986100.0   \n",
       "\n",
       "            7. dividend amount  8. split coefficient   date_time  day_of_week  \\\n",
       "date                                                                            \n",
       "2010-01-04                 0.0                   1.0  2010-01-04            0   \n",
       "2010-01-05                 0.0                   1.0  2010-01-05            1   \n",
       "2010-01-06                 0.0                   1.0  2010-01-06            2   \n",
       "2010-01-07                 0.0                   1.0  2010-01-07            3   \n",
       "2010-01-08                 0.0                   1.0  2010-01-08            4   \n",
       "\n",
       "              return  increase  log_return  negative   nuetral  positive  \n",
       "date                                                                      \n",
       "2010-01-04  0.000000       0.0         NaN  0.000013  0.000009  0.999979  \n",
       "2010-01-05  0.001729       1.0    0.000000  0.498715  0.001116  0.500169  \n",
       "2010-01-06 -0.015906       0.0    0.001727  0.000052  0.085701  0.914247  \n",
       "2010-01-07 -0.001849       0.0   -0.016034  0.457010  0.000224  0.542766  \n",
       "2010-01-08  0.006648       1.0   -0.001850  0.010157  0.000059  0.989783  "
      ]
     },
     "execution_count": 409,
     "metadata": {},
     "output_type": "execute_result"
    },
    {
     "data": {
      "application/javascript": "\n            setTimeout(function() {\n                var nbb_cell_id = 409;\n                var nbb_unformatted_code = \"df.head()\";\n                var nbb_formatted_code = \"df.head()\";\n                var nbb_cells = Jupyter.notebook.get_cells();\n                for (var i = 0; i < nbb_cells.length; ++i) {\n                    if (nbb_cells[i].input_prompt_number == nbb_cell_id) {\n                        if (nbb_cells[i].get_text() == nbb_unformatted_code) {\n                             nbb_cells[i].set_text(nbb_formatted_code);\n                        }\n                        break;\n                    }\n                }\n            }, 500);\n            ",
      "text/plain": [
       "<IPython.core.display.Javascript object>"
      ]
     },
     "metadata": {},
     "output_type": "display_data"
    }
   ],
   "source": [
    "df.head()"
   ]
  },
  {
   "cell_type": "code",
   "execution_count": 410,
   "metadata": {},
   "outputs": [
    {
     "data": {
      "text/html": [
       "<div>\n",
       "<style scoped>\n",
       "    .dataframe tbody tr th:only-of-type {\n",
       "        vertical-align: middle;\n",
       "    }\n",
       "\n",
       "    .dataframe tbody tr th {\n",
       "        vertical-align: top;\n",
       "    }\n",
       "\n",
       "    .dataframe thead th {\n",
       "        text-align: right;\n",
       "    }\n",
       "</style>\n",
       "<table border=\"1\" class=\"dataframe\">\n",
       "  <thead>\n",
       "    <tr style=\"text-align: right;\">\n",
       "      <th></th>\n",
       "      <th>1. open</th>\n",
       "      <th>2. high</th>\n",
       "      <th>3. low</th>\n",
       "      <th>4. close</th>\n",
       "      <th>5. adjusted close</th>\n",
       "      <th>6. volume</th>\n",
       "      <th>7. dividend amount</th>\n",
       "      <th>8. split coefficient</th>\n",
       "      <th>date_time</th>\n",
       "      <th>day_of_week</th>\n",
       "      <th>return</th>\n",
       "      <th>increase</th>\n",
       "      <th>log_return</th>\n",
       "      <th>negative</th>\n",
       "      <th>nuetral</th>\n",
       "      <th>positive</th>\n",
       "    </tr>\n",
       "    <tr>\n",
       "      <th>date</th>\n",
       "      <th></th>\n",
       "      <th></th>\n",
       "      <th></th>\n",
       "      <th></th>\n",
       "      <th></th>\n",
       "      <th></th>\n",
       "      <th></th>\n",
       "      <th></th>\n",
       "      <th></th>\n",
       "      <th></th>\n",
       "      <th></th>\n",
       "      <th></th>\n",
       "      <th></th>\n",
       "      <th></th>\n",
       "      <th></th>\n",
       "      <th></th>\n",
       "    </tr>\n",
       "  </thead>\n",
       "  <tbody>\n",
       "    <tr>\n",
       "      <th>2022-02-28</th>\n",
       "      <td>163.060</td>\n",
       "      <td>165.42</td>\n",
       "      <td>162.43</td>\n",
       "      <td>165.12</td>\n",
       "      <td>165.12</td>\n",
       "      <td>95056629.0</td>\n",
       "      <td>0.0</td>\n",
       "      <td>1.0</td>\n",
       "      <td>2022-02-28</td>\n",
       "      <td>0</td>\n",
       "      <td>0.001638</td>\n",
       "      <td>1.0</td>\n",
       "      <td>0.012882</td>\n",
       "      <td>0.110022</td>\n",
       "      <td>0.022801</td>\n",
       "      <td>0.867177</td>\n",
       "    </tr>\n",
       "    <tr>\n",
       "      <th>2022-03-01</th>\n",
       "      <td>164.695</td>\n",
       "      <td>166.60</td>\n",
       "      <td>161.97</td>\n",
       "      <td>163.20</td>\n",
       "      <td>163.20</td>\n",
       "      <td>83474425.0</td>\n",
       "      <td>0.0</td>\n",
       "      <td>1.0</td>\n",
       "      <td>2022-03-01</td>\n",
       "      <td>1</td>\n",
       "      <td>-0.011628</td>\n",
       "      <td>0.0</td>\n",
       "      <td>0.001637</td>\n",
       "      <td>0.083351</td>\n",
       "      <td>0.250679</td>\n",
       "      <td>0.665971</td>\n",
       "    </tr>\n",
       "    <tr>\n",
       "      <th>2022-03-02</th>\n",
       "      <td>164.390</td>\n",
       "      <td>167.36</td>\n",
       "      <td>162.95</td>\n",
       "      <td>166.56</td>\n",
       "      <td>166.56</td>\n",
       "      <td>79724750.0</td>\n",
       "      <td>0.0</td>\n",
       "      <td>1.0</td>\n",
       "      <td>2022-03-02</td>\n",
       "      <td>2</td>\n",
       "      <td>0.020588</td>\n",
       "      <td>1.0</td>\n",
       "      <td>-0.011696</td>\n",
       "      <td>0.150388</td>\n",
       "      <td>0.000115</td>\n",
       "      <td>0.849497</td>\n",
       "    </tr>\n",
       "    <tr>\n",
       "      <th>2022-03-03</th>\n",
       "      <td>168.470</td>\n",
       "      <td>168.91</td>\n",
       "      <td>165.55</td>\n",
       "      <td>166.23</td>\n",
       "      <td>166.23</td>\n",
       "      <td>76678441.0</td>\n",
       "      <td>0.0</td>\n",
       "      <td>1.0</td>\n",
       "      <td>2022-03-03</td>\n",
       "      <td>3</td>\n",
       "      <td>-0.001981</td>\n",
       "      <td>0.0</td>\n",
       "      <td>0.020379</td>\n",
       "      <td>0.132856</td>\n",
       "      <td>0.000441</td>\n",
       "      <td>0.866703</td>\n",
       "    </tr>\n",
       "    <tr>\n",
       "      <th>2022-03-04</th>\n",
       "      <td>164.490</td>\n",
       "      <td>165.55</td>\n",
       "      <td>162.10</td>\n",
       "      <td>163.17</td>\n",
       "      <td>163.17</td>\n",
       "      <td>83819592.0</td>\n",
       "      <td>0.0</td>\n",
       "      <td>1.0</td>\n",
       "      <td>2022-03-04</td>\n",
       "      <td>4</td>\n",
       "      <td>-0.018408</td>\n",
       "      <td>0.0</td>\n",
       "      <td>-0.001983</td>\n",
       "      <td>0.132856</td>\n",
       "      <td>0.000441</td>\n",
       "      <td>0.866703</td>\n",
       "    </tr>\n",
       "  </tbody>\n",
       "</table>\n",
       "</div>"
      ],
      "text/plain": [
       "            1. open  2. high  3. low  4. close  5. adjusted close   6. volume  \\\n",
       "date                                                                            \n",
       "2022-02-28  163.060   165.42  162.43    165.12             165.12  95056629.0   \n",
       "2022-03-01  164.695   166.60  161.97    163.20             163.20  83474425.0   \n",
       "2022-03-02  164.390   167.36  162.95    166.56             166.56  79724750.0   \n",
       "2022-03-03  168.470   168.91  165.55    166.23             166.23  76678441.0   \n",
       "2022-03-04  164.490   165.55  162.10    163.17             163.17  83819592.0   \n",
       "\n",
       "            7. dividend amount  8. split coefficient   date_time  day_of_week  \\\n",
       "date                                                                            \n",
       "2022-02-28                 0.0                   1.0  2022-02-28            0   \n",
       "2022-03-01                 0.0                   1.0  2022-03-01            1   \n",
       "2022-03-02                 0.0                   1.0  2022-03-02            2   \n",
       "2022-03-03                 0.0                   1.0  2022-03-03            3   \n",
       "2022-03-04                 0.0                   1.0  2022-03-04            4   \n",
       "\n",
       "              return  increase  log_return  negative   nuetral  positive  \n",
       "date                                                                      \n",
       "2022-02-28  0.001638       1.0    0.012882  0.110022  0.022801  0.867177  \n",
       "2022-03-01 -0.011628       0.0    0.001637  0.083351  0.250679  0.665971  \n",
       "2022-03-02  0.020588       1.0   -0.011696  0.150388  0.000115  0.849497  \n",
       "2022-03-03 -0.001981       0.0    0.020379  0.132856  0.000441  0.866703  \n",
       "2022-03-04 -0.018408       0.0   -0.001983  0.132856  0.000441  0.866703  "
      ]
     },
     "execution_count": 410,
     "metadata": {},
     "output_type": "execute_result"
    },
    {
     "data": {
      "application/javascript": "\n            setTimeout(function() {\n                var nbb_cell_id = 410;\n                var nbb_unformatted_code = \"df.tail()\";\n                var nbb_formatted_code = \"df.tail()\";\n                var nbb_cells = Jupyter.notebook.get_cells();\n                for (var i = 0; i < nbb_cells.length; ++i) {\n                    if (nbb_cells[i].input_prompt_number == nbb_cell_id) {\n                        if (nbb_cells[i].get_text() == nbb_unformatted_code) {\n                             nbb_cells[i].set_text(nbb_formatted_code);\n                        }\n                        break;\n                    }\n                }\n            }, 500);\n            ",
      "text/plain": [
       "<IPython.core.display.Javascript object>"
      ]
     },
     "metadata": {},
     "output_type": "display_data"
    }
   ],
   "source": [
    "df.tail()"
   ]
  },
  {
   "cell_type": "code",
   "execution_count": 411,
   "metadata": {},
   "outputs": [
    {
     "data": {
      "application/javascript": "\n            setTimeout(function() {\n                var nbb_cell_id = 411;\n                var nbb_unformatted_code = \"df.fillna(0.0, inplace=True)\";\n                var nbb_formatted_code = \"df.fillna(0.0, inplace=True)\";\n                var nbb_cells = Jupyter.notebook.get_cells();\n                for (var i = 0; i < nbb_cells.length; ++i) {\n                    if (nbb_cells[i].input_prompt_number == nbb_cell_id) {\n                        if (nbb_cells[i].get_text() == nbb_unformatted_code) {\n                             nbb_cells[i].set_text(nbb_formatted_code);\n                        }\n                        break;\n                    }\n                }\n            }, 500);\n            ",
      "text/plain": [
       "<IPython.core.display.Javascript object>"
      ]
     },
     "metadata": {},
     "output_type": "display_data"
    }
   ],
   "source": [
    "df.fillna(0.0, inplace=True)"
   ]
  },
  {
   "cell_type": "code",
   "execution_count": 412,
   "metadata": {},
   "outputs": [
    {
     "data": {
      "text/html": [
       "<div>\n",
       "<style scoped>\n",
       "    .dataframe tbody tr th:only-of-type {\n",
       "        vertical-align: middle;\n",
       "    }\n",
       "\n",
       "    .dataframe tbody tr th {\n",
       "        vertical-align: top;\n",
       "    }\n",
       "\n",
       "    .dataframe thead th {\n",
       "        text-align: right;\n",
       "    }\n",
       "</style>\n",
       "<table border=\"1\" class=\"dataframe\">\n",
       "  <thead>\n",
       "    <tr style=\"text-align: right;\">\n",
       "      <th></th>\n",
       "      <th>count</th>\n",
       "      <th>mean</th>\n",
       "      <th>std</th>\n",
       "      <th>min</th>\n",
       "      <th>25%</th>\n",
       "      <th>50%</th>\n",
       "      <th>75%</th>\n",
       "      <th>max</th>\n",
       "    </tr>\n",
       "  </thead>\n",
       "  <tbody>\n",
       "    <tr>\n",
       "      <th>1. open</th>\n",
       "      <td>3064.0</td>\n",
       "      <td>2.603294e+02</td>\n",
       "      <td>1.596412e+02</td>\n",
       "      <td>9.000000e+01</td>\n",
       "      <td>1.283775e+02</td>\n",
       "      <td>1.921350e+02</td>\n",
       "      <td>3.641025e+02</td>\n",
       "      <td>7.024100e+02</td>\n",
       "    </tr>\n",
       "    <tr>\n",
       "      <th>2. high</th>\n",
       "      <td>3064.0</td>\n",
       "      <td>2.628297e+02</td>\n",
       "      <td>1.610450e+02</td>\n",
       "      <td>9.070000e+01</td>\n",
       "      <td>1.295350e+02</td>\n",
       "      <td>1.943300e+02</td>\n",
       "      <td>3.692100e+02</td>\n",
       "      <td>7.050700e+02</td>\n",
       "    </tr>\n",
       "    <tr>\n",
       "      <th>3. low</th>\n",
       "      <td>3064.0</td>\n",
       "      <td>2.576677e+02</td>\n",
       "      <td>1.579463e+02</td>\n",
       "      <td>8.947000e+01</td>\n",
       "      <td>1.271025e+02</td>\n",
       "      <td>1.908750e+02</td>\n",
       "      <td>3.586825e+02</td>\n",
       "      <td>6.995700e+02</td>\n",
       "    </tr>\n",
       "    <tr>\n",
       "      <th>4. close</th>\n",
       "      <td>3064.0</td>\n",
       "      <td>2.603355e+02</td>\n",
       "      <td>1.595211e+02</td>\n",
       "      <td>9.028000e+01</td>\n",
       "      <td>1.285250e+02</td>\n",
       "      <td>1.922550e+02</td>\n",
       "      <td>3.642825e+02</td>\n",
       "      <td>7.021000e+02</td>\n",
       "    </tr>\n",
       "    <tr>\n",
       "      <th>5. adjusted close</th>\n",
       "      <td>3064.0</td>\n",
       "      <td>4.273636e+01</td>\n",
       "      <td>4.115434e+01</td>\n",
       "      <td>5.872396e+00</td>\n",
       "      <td>1.628590e+01</td>\n",
       "      <td>2.627096e+01</td>\n",
       "      <td>4.858974e+01</td>\n",
       "      <td>1.817780e+02</td>\n",
       "    </tr>\n",
       "    <tr>\n",
       "      <th>6. volume</th>\n",
       "      <td>3064.0</td>\n",
       "      <td>3.829313e+07</td>\n",
       "      <td>3.233265e+07</td>\n",
       "      <td>5.624800e+06</td>\n",
       "      <td>1.762402e+07</td>\n",
       "      <td>2.763896e+07</td>\n",
       "      <td>4.667886e+07</td>\n",
       "      <td>3.326072e+08</td>\n",
       "    </tr>\n",
       "    <tr>\n",
       "      <th>7. dividend amount</th>\n",
       "      <td>3064.0</td>\n",
       "      <td>1.327023e-02</td>\n",
       "      <td>1.609221e-01</td>\n",
       "      <td>0.000000e+00</td>\n",
       "      <td>0.000000e+00</td>\n",
       "      <td>0.000000e+00</td>\n",
       "      <td>0.000000e+00</td>\n",
       "      <td>3.290000e+00</td>\n",
       "    </tr>\n",
       "    <tr>\n",
       "      <th>8. split coefficient</th>\n",
       "      <td>3064.0</td>\n",
       "      <td>1.002937e+00</td>\n",
       "      <td>1.211729e-01</td>\n",
       "      <td>1.000000e+00</td>\n",
       "      <td>1.000000e+00</td>\n",
       "      <td>1.000000e+00</td>\n",
       "      <td>1.000000e+00</td>\n",
       "      <td>7.000007e+00</td>\n",
       "    </tr>\n",
       "    <tr>\n",
       "      <th>day_of_week</th>\n",
       "      <td>3064.0</td>\n",
       "      <td>2.022846e+00</td>\n",
       "      <td>1.399408e+00</td>\n",
       "      <td>0.000000e+00</td>\n",
       "      <td>1.000000e+00</td>\n",
       "      <td>2.000000e+00</td>\n",
       "      <td>3.000000e+00</td>\n",
       "      <td>4.000000e+00</td>\n",
       "    </tr>\n",
       "    <tr>\n",
       "      <th>return</th>\n",
       "      <td>3064.0</td>\n",
       "      <td>1.206562e-03</td>\n",
       "      <td>1.767537e-02</td>\n",
       "      <td>-1.286470e-01</td>\n",
       "      <td>-7.140032e-03</td>\n",
       "      <td>9.419846e-04</td>\n",
       "      <td>1.045851e-02</td>\n",
       "      <td>1.198082e-01</td>\n",
       "    </tr>\n",
       "    <tr>\n",
       "      <th>increase</th>\n",
       "      <td>3064.0</td>\n",
       "      <td>5.290470e-01</td>\n",
       "      <td>4.992370e-01</td>\n",
       "      <td>0.000000e+00</td>\n",
       "      <td>0.000000e+00</td>\n",
       "      <td>1.000000e+00</td>\n",
       "      <td>1.000000e+00</td>\n",
       "      <td>1.000000e+00</td>\n",
       "    </tr>\n",
       "    <tr>\n",
       "      <th>log_return</th>\n",
       "      <td>3064.0</td>\n",
       "      <td>1.055758e-03</td>\n",
       "      <td>1.768440e-02</td>\n",
       "      <td>-1.377081e-01</td>\n",
       "      <td>-7.157979e-03</td>\n",
       "      <td>9.415412e-04</td>\n",
       "      <td>1.040419e-02</td>\n",
       "      <td>1.131575e-01</td>\n",
       "    </tr>\n",
       "    <tr>\n",
       "      <th>negative</th>\n",
       "      <td>3064.0</td>\n",
       "      <td>1.585881e-01</td>\n",
       "      <td>1.432034e-01</td>\n",
       "      <td>0.000000e+00</td>\n",
       "      <td>2.727574e-02</td>\n",
       "      <td>1.400125e-01</td>\n",
       "      <td>2.420628e-01</td>\n",
       "      <td>9.999998e-01</td>\n",
       "    </tr>\n",
       "    <tr>\n",
       "      <th>nuetral</th>\n",
       "      <td>3064.0</td>\n",
       "      <td>9.075848e-02</td>\n",
       "      <td>1.231674e-01</td>\n",
       "      <td>0.000000e+00</td>\n",
       "      <td>8.110894e-04</td>\n",
       "      <td>5.022574e-02</td>\n",
       "      <td>1.375212e-01</td>\n",
       "      <td>9.999969e-01</td>\n",
       "    </tr>\n",
       "    <tr>\n",
       "      <th>positive</th>\n",
       "      <td>3064.0</td>\n",
       "      <td>7.480425e-01</td>\n",
       "      <td>1.765295e-01</td>\n",
       "      <td>0.000000e+00</td>\n",
       "      <td>6.519028e-01</td>\n",
       "      <td>7.626756e-01</td>\n",
       "      <td>8.655955e-01</td>\n",
       "      <td>9.999988e-01</td>\n",
       "    </tr>\n",
       "  </tbody>\n",
       "</table>\n",
       "</div>"
      ],
      "text/plain": [
       "                       count          mean           std           min  \\\n",
       "1. open               3064.0  2.603294e+02  1.596412e+02  9.000000e+01   \n",
       "2. high               3064.0  2.628297e+02  1.610450e+02  9.070000e+01   \n",
       "3. low                3064.0  2.576677e+02  1.579463e+02  8.947000e+01   \n",
       "4. close              3064.0  2.603355e+02  1.595211e+02  9.028000e+01   \n",
       "5. adjusted close     3064.0  4.273636e+01  4.115434e+01  5.872396e+00   \n",
       "6. volume             3064.0  3.829313e+07  3.233265e+07  5.624800e+06   \n",
       "7. dividend amount    3064.0  1.327023e-02  1.609221e-01  0.000000e+00   \n",
       "8. split coefficient  3064.0  1.002937e+00  1.211729e-01  1.000000e+00   \n",
       "day_of_week           3064.0  2.022846e+00  1.399408e+00  0.000000e+00   \n",
       "return                3064.0  1.206562e-03  1.767537e-02 -1.286470e-01   \n",
       "increase              3064.0  5.290470e-01  4.992370e-01  0.000000e+00   \n",
       "log_return            3064.0  1.055758e-03  1.768440e-02 -1.377081e-01   \n",
       "negative              3064.0  1.585881e-01  1.432034e-01  0.000000e+00   \n",
       "nuetral               3064.0  9.075848e-02  1.231674e-01  0.000000e+00   \n",
       "positive              3064.0  7.480425e-01  1.765295e-01  0.000000e+00   \n",
       "\n",
       "                               25%           50%           75%           max  \n",
       "1. open               1.283775e+02  1.921350e+02  3.641025e+02  7.024100e+02  \n",
       "2. high               1.295350e+02  1.943300e+02  3.692100e+02  7.050700e+02  \n",
       "3. low                1.271025e+02  1.908750e+02  3.586825e+02  6.995700e+02  \n",
       "4. close              1.285250e+02  1.922550e+02  3.642825e+02  7.021000e+02  \n",
       "5. adjusted close     1.628590e+01  2.627096e+01  4.858974e+01  1.817780e+02  \n",
       "6. volume             1.762402e+07  2.763896e+07  4.667886e+07  3.326072e+08  \n",
       "7. dividend amount    0.000000e+00  0.000000e+00  0.000000e+00  3.290000e+00  \n",
       "8. split coefficient  1.000000e+00  1.000000e+00  1.000000e+00  7.000007e+00  \n",
       "day_of_week           1.000000e+00  2.000000e+00  3.000000e+00  4.000000e+00  \n",
       "return               -7.140032e-03  9.419846e-04  1.045851e-02  1.198082e-01  \n",
       "increase              0.000000e+00  1.000000e+00  1.000000e+00  1.000000e+00  \n",
       "log_return           -7.157979e-03  9.415412e-04  1.040419e-02  1.131575e-01  \n",
       "negative              2.727574e-02  1.400125e-01  2.420628e-01  9.999998e-01  \n",
       "nuetral               8.110894e-04  5.022574e-02  1.375212e-01  9.999969e-01  \n",
       "positive              6.519028e-01  7.626756e-01  8.655955e-01  9.999988e-01  "
      ]
     },
     "execution_count": 412,
     "metadata": {},
     "output_type": "execute_result"
    },
    {
     "data": {
      "application/javascript": "\n            setTimeout(function() {\n                var nbb_cell_id = 412;\n                var nbb_unformatted_code = \"df.describe().T\";\n                var nbb_formatted_code = \"df.describe().T\";\n                var nbb_cells = Jupyter.notebook.get_cells();\n                for (var i = 0; i < nbb_cells.length; ++i) {\n                    if (nbb_cells[i].input_prompt_number == nbb_cell_id) {\n                        if (nbb_cells[i].get_text() == nbb_unformatted_code) {\n                             nbb_cells[i].set_text(nbb_formatted_code);\n                        }\n                        break;\n                    }\n                }\n            }, 500);\n            ",
      "text/plain": [
       "<IPython.core.display.Javascript object>"
      ]
     },
     "metadata": {},
     "output_type": "display_data"
    }
   ],
   "source": [
    "df.describe().T"
   ]
  },
  {
   "cell_type": "code",
   "execution_count": 413,
   "metadata": {},
   "outputs": [
    {
     "data": {
      "image/png": "[encoded data removed]",
      "text/plain": [
       "<Figure size 576x396 with 1 Axes>"
      ]
     },
     "metadata": {},
     "output_type": "display_data"
    },
    {
     "data": {
      "image/png": "[encoded data removed]",
      "text/plain": [
       "<Figure size 576x396 with 1 Axes>"
      ]
     },
     "metadata": {},
     "output_type": "display_data"
    },
    {
     "data": {
      "application/javascript": "\n            setTimeout(function() {\n                var nbb_cell_id = 413;\n                var nbb_unformatted_code = \"plot_cols = ['5. adjusted close']\\nplot_features = df[plot_cols]\\nplot_features.index = date_time\\n_ = plot_features.plot(subplots=True)\\n\\nplot_features = df[plot_cols][2757:]\\nplot_features.index = date_time[2757:]\\n_ = plot_features.plot(subplots=True)\";\n                var nbb_formatted_code = \"plot_cols = [\\\"5. adjusted close\\\"]\\nplot_features = df[plot_cols]\\nplot_features.index = date_time\\n_ = plot_features.plot(subplots=True)\\n\\nplot_features = df[plot_cols][2757:]\\nplot_features.index = date_time[2757:]\\n_ = plot_features.plot(subplots=True)\";\n                var nbb_cells = Jupyter.notebook.get_cells();\n                for (var i = 0; i < nbb_cells.length; ++i) {\n                    if (nbb_cells[i].input_prompt_number == nbb_cell_id) {\n                        if (nbb_cells[i].get_text() == nbb_unformatted_code) {\n                             nbb_cells[i].set_text(nbb_formatted_code);\n                        }\n                        break;\n                    }\n                }\n            }, 500);\n            ",
      "text/plain": [
       "<IPython.core.display.Javascript object>"
      ]
     },
     "metadata": {},
     "output_type": "display_data"
    }
   ],
   "source": [
    "plot_cols = ['5. adjusted close']\n",
    "plot_features = df[plot_cols]\n",
    "plot_features.index = date_time\n",
    "_ = plot_features.plot(subplots=True)\n",
    "\n",
    "plot_features = df[plot_cols][2757:]\n",
    "plot_features.index = date_time[2757:]\n",
    "_ = plot_features.plot(subplots=True)"
   ]
  },
  {
   "cell_type": "code",
   "execution_count": 414,
   "metadata": {},
   "outputs": [
    {
     "data": {
      "text/plain": [
       "[<matplotlib.lines.Line2D at 0x7fc3ae9740a0>]"
      ]
     },
     "execution_count": 414,
     "metadata": {},
     "output_type": "execute_result"
    },
    {
     "data": {
      "image/png": "[encoded data removed]",
      "text/plain": [
       "<Figure size 1152x288 with 1 Axes>"
      ]
     },
     "metadata": {},
     "output_type": "display_data"
    },
    {
     "data": {
      "application/javascript": "\n            setTimeout(function() {\n                var nbb_cell_id = 414;\n                var nbb_unformatted_code = \"plt.figure(1, figsize=(16, 4))\\nplt.plot(df.log_return)\";\n                var nbb_formatted_code = \"plt.figure(1, figsize=(16, 4))\\nplt.plot(df.log_return)\";\n                var nbb_cells = Jupyter.notebook.get_cells();\n                for (var i = 0; i < nbb_cells.length; ++i) {\n                    if (nbb_cells[i].input_prompt_number == nbb_cell_id) {\n                        if (nbb_cells[i].get_text() == nbb_unformatted_code) {\n                             nbb_cells[i].set_text(nbb_formatted_code);\n                        }\n                        break;\n                    }\n                }\n            }, 500);\n            ",
      "text/plain": [
       "<IPython.core.display.Javascript object>"
      ]
     },
     "metadata": {},
     "output_type": "display_data"
    }
   ],
   "source": [
    "plt.figure(1, figsize=(16, 4))\n",
    "plt.plot(df.log_return)"
   ]
  },
  {
   "cell_type": "code",
   "execution_count": 415,
   "metadata": {},
   "outputs": [
    {
     "data": {
      "application/javascript": "\n            setTimeout(function() {\n                var nbb_cell_id = 415;\n                var nbb_unformatted_code = \"feature_list = [\\\"5. adjusted close\\\", \\\"2. high\\\", \\\"3. low\\\", \\\"6. volume\\\", \\\"negative\\\", \\\"nuetral\\\", \\\"positive\\\", \\\"log_return\\\"]\\n\\nX = df[feature_list].values\";\n                var nbb_formatted_code = \"feature_list = [\\n    \\\"5. adjusted close\\\",\\n    \\\"2. high\\\",\\n    \\\"3. low\\\",\\n    \\\"6. volume\\\",\\n    \\\"negative\\\",\\n    \\\"nuetral\\\",\\n    \\\"positive\\\",\\n    \\\"log_return\\\",\\n]\\n\\nX = df[feature_list].values\";\n                var nbb_cells = Jupyter.notebook.get_cells();\n                for (var i = 0; i < nbb_cells.length; ++i) {\n                    if (nbb_cells[i].input_prompt_number == nbb_cell_id) {\n                        if (nbb_cells[i].get_text() == nbb_unformatted_code) {\n                             nbb_cells[i].set_text(nbb_formatted_code);\n                        }\n                        break;\n                    }\n                }\n            }, 500);\n            ",
      "text/plain": [
       "<IPython.core.display.Javascript object>"
      ]
     },
     "metadata": {},
     "output_type": "display_data"
    }
   ],
   "source": [
    "feature_list = [\"5. adjusted close\", \"2. high\", \"3. low\", \"6. volume\", \"negative\", \"nuetral\", \"positive\", \"log_return\"]\n",
    "\n",
    "X = df[feature_list].values"
   ]
  },
  {
   "cell_type": "code",
   "execution_count": 416,
   "metadata": {},
   "outputs": [
    {
     "data": {
      "application/javascript": "\n            setTimeout(function() {\n                var nbb_cell_id = 416;\n                var nbb_unformatted_code = \"from sklearn.preprocessing import MinMaxScaler\";\n                var nbb_formatted_code = \"from sklearn.preprocessing import MinMaxScaler\";\n                var nbb_cells = Jupyter.notebook.get_cells();\n                for (var i = 0; i < nbb_cells.length; ++i) {\n                    if (nbb_cells[i].input_prompt_number == nbb_cell_id) {\n                        if (nbb_cells[i].get_text() == nbb_unformatted_code) {\n                             nbb_cells[i].set_text(nbb_formatted_code);\n                        }\n                        break;\n                    }\n                }\n            }, 500);\n            ",
      "text/plain": [
       "<IPython.core.display.Javascript object>"
      ]
     },
     "metadata": {},
     "output_type": "display_data"
    }
   ],
   "source": [
    "from sklearn.preprocessing import MinMaxScaler"
   ]
  },
  {
   "cell_type": "code",
   "execution_count": 417,
   "metadata": {},
   "outputs": [
    {
     "data": {
      "application/javascript": "\n            setTimeout(function() {\n                var nbb_cell_id = 417;\n                var nbb_unformatted_code = \"scaler = MinMaxScaler(feature_range=(0, 1)).fit(X)\\nX_scaled = scaler.transform(X)\";\n                var nbb_formatted_code = \"scaler = MinMaxScaler(feature_range=(0, 1)).fit(X)\\nX_scaled = scaler.transform(X)\";\n                var nbb_cells = Jupyter.notebook.get_cells();\n                for (var i = 0; i < nbb_cells.length; ++i) {\n                    if (nbb_cells[i].input_prompt_number == nbb_cell_id) {\n                        if (nbb_cells[i].get_text() == nbb_unformatted_code) {\n                             nbb_cells[i].set_text(nbb_formatted_code);\n                        }\n                        break;\n                    }\n                }\n            }, 500);\n            ",
      "text/plain": [
       "<IPython.core.display.Javascript object>"
      ]
     },
     "metadata": {},
     "output_type": "display_data"
    }
   ],
   "source": [
    "scaler = MinMaxScaler(feature_range=(0, 1)).fit(X)\n",
    "X_scaled = scaler.transform(X)"
   ]
  },
  {
   "cell_type": "code",
   "execution_count": 418,
   "metadata": {},
   "outputs": [
    {
     "data": {
      "application/javascript": "\n            setTimeout(function() {\n                var nbb_cell_id = 418;\n                var nbb_unformatted_code = \"y = [x[0] for x in X_scaled]\";\n                var nbb_formatted_code = \"y = [x[0] for x in X_scaled]\";\n                var nbb_cells = Jupyter.notebook.get_cells();\n                for (var i = 0; i < nbb_cells.length; ++i) {\n                    if (nbb_cells[i].input_prompt_number == nbb_cell_id) {\n                        if (nbb_cells[i].get_text() == nbb_unformatted_code) {\n                             nbb_cells[i].set_text(nbb_formatted_code);\n                        }\n                        break;\n                    }\n                }\n            }, 500);\n            ",
      "text/plain": [
       "<IPython.core.display.Javascript object>"
      ]
     },
     "metadata": {},
     "output_type": "display_data"
    }
   ],
   "source": [
    "y = [x[0] for x in X_scaled]"
   ]
  },
  {
   "cell_type": "markdown",
   "metadata": {},
   "source": [
    "#### Train test split"
   ]
  },
  {
   "cell_type": "code",
   "execution_count": 419,
   "metadata": {},
   "outputs": [
    {
     "name": "stdout",
     "output_type": "stream",
     "text": [
      "2757\n"
     ]
    },
    {
     "data": {
      "application/javascript": "\n            setTimeout(function() {\n                var nbb_cell_id = 419;\n                var nbb_unformatted_code = \"split = int(len(X_scaled) * 0.9)\\nprint(split)\";\n                var nbb_formatted_code = \"split = int(len(X_scaled) * 0.9)\\nprint(split)\";\n                var nbb_cells = Jupyter.notebook.get_cells();\n                for (var i = 0; i < nbb_cells.length; ++i) {\n                    if (nbb_cells[i].input_prompt_number == nbb_cell_id) {\n                        if (nbb_cells[i].get_text() == nbb_unformatted_code) {\n                             nbb_cells[i].set_text(nbb_formatted_code);\n                        }\n                        break;\n                    }\n                }\n            }, 500);\n            ",
      "text/plain": [
       "<IPython.core.display.Javascript object>"
      ]
     },
     "metadata": {},
     "output_type": "display_data"
    }
   ],
   "source": [
    "split = int(len(X_scaled) * 0.9)\n",
    "print(split)"
   ]
  },
  {
   "cell_type": "code",
   "execution_count": 420,
   "metadata": {},
   "outputs": [
    {
     "data": {
      "application/javascript": "\n            setTimeout(function() {\n                var nbb_cell_id = 420;\n                var nbb_unformatted_code = \"X_train = X_scaled[:split]\\nX_test = X_scaled[split : len(X_scaled)]\\ny_train = y[:split]\\ny_test = y[split : len(y)]\";\n                var nbb_formatted_code = \"X_train = X_scaled[:split]\\nX_test = X_scaled[split : len(X_scaled)]\\ny_train = y[:split]\\ny_test = y[split : len(y)]\";\n                var nbb_cells = Jupyter.notebook.get_cells();\n                for (var i = 0; i < nbb_cells.length; ++i) {\n                    if (nbb_cells[i].input_prompt_number == nbb_cell_id) {\n                        if (nbb_cells[i].get_text() == nbb_unformatted_code) {\n                             nbb_cells[i].set_text(nbb_formatted_code);\n                        }\n                        break;\n                    }\n                }\n            }, 500);\n            ",
      "text/plain": [
       "<IPython.core.display.Javascript object>"
      ]
     },
     "metadata": {},
     "output_type": "display_data"
    }
   ],
   "source": [
    "X_train = X_scaled[:split]\n",
    "X_test = X_scaled[split : len(X_scaled)]\n",
    "y_train = y[:split]\n",
    "y_test = y[split : len(y)]"
   ]
  },
  {
   "cell_type": "code",
   "execution_count": 421,
   "metadata": {},
   "outputs": [
    {
     "name": "stdout",
     "output_type": "stream",
     "text": [
      "2757\n",
      "307\n"
     ]
    },
    {
     "data": {
      "application/javascript": "\n            setTimeout(function() {\n                var nbb_cell_id = 421;\n                var nbb_unformatted_code = \"print(len(X_train))\\nprint(len(X_test))\";\n                var nbb_formatted_code = \"print(len(X_train))\\nprint(len(X_test))\";\n                var nbb_cells = Jupyter.notebook.get_cells();\n                for (var i = 0; i < nbb_cells.length; ++i) {\n                    if (nbb_cells[i].input_prompt_number == nbb_cell_id) {\n                        if (nbb_cells[i].get_text() == nbb_unformatted_code) {\n                             nbb_cells[i].set_text(nbb_formatted_code);\n                        }\n                        break;\n                    }\n                }\n            }, 500);\n            ",
      "text/plain": [
       "<IPython.core.display.Javascript object>"
      ]
     },
     "metadata": {},
     "output_type": "display_data"
    }
   ],
   "source": [
    "print(len(X_train))\n",
    "print(len(X_test))"
   ]
  },
  {
   "cell_type": "code",
   "execution_count": 422,
   "metadata": {},
   "outputs": [
    {
     "data": {
      "application/javascript": "\n            setTimeout(function() {\n                var nbb_cell_id = 422;\n                var nbb_unformatted_code = \"assert len(X_train) == len(y_train)\\nassert len(X_test) == len(y_test)\";\n                var nbb_formatted_code = \"assert len(X_train) == len(y_train)\\nassert len(X_test) == len(y_test)\";\n                var nbb_cells = Jupyter.notebook.get_cells();\n                for (var i = 0; i < nbb_cells.length; ++i) {\n                    if (nbb_cells[i].input_prompt_number == nbb_cell_id) {\n                        if (nbb_cells[i].get_text() == nbb_unformatted_code) {\n                             nbb_cells[i].set_text(nbb_formatted_code);\n                        }\n                        break;\n                    }\n                }\n            }, 500);\n            ",
      "text/plain": [
       "<IPython.core.display.Javascript object>"
      ]
     },
     "metadata": {},
     "output_type": "display_data"
    }
   ],
   "source": [
    "assert len(X_train) == len(y_train)\n",
    "assert len(X_test) == len(y_test)"
   ]
  },
  {
   "cell_type": "markdown",
   "metadata": {},
   "source": [
    "#### Labeling\n",
    "\n",
    "We want to predict the stock price at a future time. We'll predict the stock price at time t + 1 relative to the stock price at time t."
   ]
  },
  {
   "cell_type": "markdown",
   "metadata": {},
   "source": [
    "As we're going to use an LSTM architecture, we know that it has memory and that it is maintained by setting the time step, basically how many steps in the past we want the LSTM to use.\n",
    "\n",
    "The time step  refers to how many steps in time we want the backpropagation algorithm to use when calculating gradients for weight updates during training.\n",
    "\n",
    "So we can use a method to create both the timestep and the output variable, the t + 1."
   ]
  },
  {
   "cell_type": "code",
   "execution_count": 423,
   "metadata": {},
   "outputs": [
    {
     "data": {
      "application/javascript": "\n            setTimeout(function() {\n                var nbb_cell_id = 423;\n                var nbb_unformatted_code = \"n = 63\\nXtrain = []\\nytrain = []\\nXtest = []\\nytest = []\\nfor i in range(n, len(X_train)):\\n    Xtrain.append(X_train[i - n : i, : X_train.shape[1]])\\n    ytrain.append(y_train[i])  # predict next record\\nfor i in range(n, len(X_test)):\\n    Xtest.append(X_test[i - n : i, : X_test.shape[1]])\\n    ytest.append(y_test[i])  # predict next record\";\n                var nbb_formatted_code = \"n = 63\\nXtrain = []\\nytrain = []\\nXtest = []\\nytest = []\\nfor i in range(n, len(X_train)):\\n    Xtrain.append(X_train[i - n : i, : X_train.shape[1]])\\n    ytrain.append(y_train[i])  # predict next record\\nfor i in range(n, len(X_test)):\\n    Xtest.append(X_test[i - n : i, : X_test.shape[1]])\\n    ytest.append(y_test[i])  # predict next record\";\n                var nbb_cells = Jupyter.notebook.get_cells();\n                for (var i = 0; i < nbb_cells.length; ++i) {\n                    if (nbb_cells[i].input_prompt_number == nbb_cell_id) {\n                        if (nbb_cells[i].get_text() == nbb_unformatted_code) {\n                             nbb_cells[i].set_text(nbb_formatted_code);\n                        }\n                        break;\n                    }\n                }\n            }, 500);\n            ",
      "text/plain": [
       "<IPython.core.display.Javascript object>"
      ]
     },
     "metadata": {},
     "output_type": "display_data"
    }
   ],
   "source": [
    "n = 63\n",
    "Xtrain = []\n",
    "ytrain = []\n",
    "Xtest = []\n",
    "ytest = []\n",
    "for i in range(n, len(X_train)):\n",
    "    Xtrain.append(X_train[i - n : i, : X_train.shape[1]])\n",
    "    ytrain.append(y_train[i])  # predict next record\n",
    "for i in range(n, len(X_test)):\n",
    "    Xtest.append(X_test[i - n : i, : X_test.shape[1]])\n",
    "    ytest.append(y_test[i])  # predict next record"
   ]
  },
  {
   "cell_type": "code",
   "execution_count": 424,
   "metadata": {},
   "outputs": [
    {
     "data": {
      "text/html": [
       "<div>\n",
       "<style scoped>\n",
       "    .dataframe tbody tr th:only-of-type {\n",
       "        vertical-align: middle;\n",
       "    }\n",
       "\n",
       "    .dataframe tbody tr th {\n",
       "        vertical-align: top;\n",
       "    }\n",
       "\n",
       "    .dataframe thead th {\n",
       "        text-align: right;\n",
       "    }\n",
       "</style>\n",
       "<table border=\"1\" class=\"dataframe\">\n",
       "  <thead>\n",
       "    <tr style=\"text-align: right;\">\n",
       "      <th></th>\n",
       "      <th>1. open</th>\n",
       "      <th>2. high</th>\n",
       "      <th>3. low</th>\n",
       "      <th>4. close</th>\n",
       "      <th>5. adjusted close</th>\n",
       "      <th>6. volume</th>\n",
       "      <th>7. dividend amount</th>\n",
       "      <th>8. split coefficient</th>\n",
       "      <th>date_time</th>\n",
       "      <th>day_of_week</th>\n",
       "      <th>return</th>\n",
       "      <th>increase</th>\n",
       "      <th>log_return</th>\n",
       "      <th>negative</th>\n",
       "      <th>nuetral</th>\n",
       "      <th>positive</th>\n",
       "    </tr>\n",
       "    <tr>\n",
       "      <th>date</th>\n",
       "      <th></th>\n",
       "      <th></th>\n",
       "      <th></th>\n",
       "      <th></th>\n",
       "      <th></th>\n",
       "      <th></th>\n",
       "      <th></th>\n",
       "      <th></th>\n",
       "      <th></th>\n",
       "      <th></th>\n",
       "      <th></th>\n",
       "      <th></th>\n",
       "      <th></th>\n",
       "      <th></th>\n",
       "      <th></th>\n",
       "      <th></th>\n",
       "    </tr>\n",
       "  </thead>\n",
       "  <tbody>\n",
       "    <tr>\n",
       "      <th>2010-01-04</th>\n",
       "      <td>213.43</td>\n",
       "      <td>214.50</td>\n",
       "      <td>212.38</td>\n",
       "      <td>214.01</td>\n",
       "      <td>6.543876</td>\n",
       "      <td>17633200.0</td>\n",
       "      <td>0.0</td>\n",
       "      <td>1.0</td>\n",
       "      <td>2010-01-04</td>\n",
       "      <td>0</td>\n",
       "      <td>0.000000</td>\n",
       "      <td>0.0</td>\n",
       "      <td>0.000000</td>\n",
       "      <td>0.000013</td>\n",
       "      <td>0.000009</td>\n",
       "      <td>0.999979</td>\n",
       "    </tr>\n",
       "    <tr>\n",
       "      <th>2010-01-05</th>\n",
       "      <td>214.60</td>\n",
       "      <td>215.59</td>\n",
       "      <td>213.25</td>\n",
       "      <td>214.38</td>\n",
       "      <td>6.555190</td>\n",
       "      <td>21496600.0</td>\n",
       "      <td>0.0</td>\n",
       "      <td>1.0</td>\n",
       "      <td>2010-01-05</td>\n",
       "      <td>1</td>\n",
       "      <td>0.001729</td>\n",
       "      <td>1.0</td>\n",
       "      <td>0.000000</td>\n",
       "      <td>0.498715</td>\n",
       "      <td>0.001116</td>\n",
       "      <td>0.500169</td>\n",
       "    </tr>\n",
       "    <tr>\n",
       "      <th>2010-01-06</th>\n",
       "      <td>214.38</td>\n",
       "      <td>215.23</td>\n",
       "      <td>210.75</td>\n",
       "      <td>210.97</td>\n",
       "      <td>6.450921</td>\n",
       "      <td>19720000.0</td>\n",
       "      <td>0.0</td>\n",
       "      <td>1.0</td>\n",
       "      <td>2010-01-06</td>\n",
       "      <td>2</td>\n",
       "      <td>-0.015906</td>\n",
       "      <td>0.0</td>\n",
       "      <td>0.001727</td>\n",
       "      <td>0.000052</td>\n",
       "      <td>0.085701</td>\n",
       "      <td>0.914247</td>\n",
       "    </tr>\n",
       "    <tr>\n",
       "      <th>2010-01-07</th>\n",
       "      <td>211.75</td>\n",
       "      <td>212.00</td>\n",
       "      <td>209.05</td>\n",
       "      <td>210.58</td>\n",
       "      <td>6.438996</td>\n",
       "      <td>17040400.0</td>\n",
       "      <td>0.0</td>\n",
       "      <td>1.0</td>\n",
       "      <td>2010-01-07</td>\n",
       "      <td>3</td>\n",
       "      <td>-0.001849</td>\n",
       "      <td>0.0</td>\n",
       "      <td>-0.016034</td>\n",
       "      <td>0.457010</td>\n",
       "      <td>0.000224</td>\n",
       "      <td>0.542766</td>\n",
       "    </tr>\n",
       "    <tr>\n",
       "      <th>2010-01-08</th>\n",
       "      <td>210.30</td>\n",
       "      <td>212.00</td>\n",
       "      <td>209.06</td>\n",
       "      <td>211.98</td>\n",
       "      <td>6.481804</td>\n",
       "      <td>15986100.0</td>\n",
       "      <td>0.0</td>\n",
       "      <td>1.0</td>\n",
       "      <td>2010-01-08</td>\n",
       "      <td>4</td>\n",
       "      <td>0.006648</td>\n",
       "      <td>1.0</td>\n",
       "      <td>-0.001850</td>\n",
       "      <td>0.010157</td>\n",
       "      <td>0.000059</td>\n",
       "      <td>0.989783</td>\n",
       "    </tr>\n",
       "  </tbody>\n",
       "</table>\n",
       "</div>"
      ],
      "text/plain": [
       "            1. open  2. high  3. low  4. close  5. adjusted close   6. volume  \\\n",
       "date                                                                            \n",
       "2010-01-04   213.43   214.50  212.38    214.01           6.543876  17633200.0   \n",
       "2010-01-05   214.60   215.59  213.25    214.38           6.555190  21496600.0   \n",
       "2010-01-06   214.38   215.23  210.75    210.97           6.450921  19720000.0   \n",
       "2010-01-07   211.75   212.00  209.05    210.58           6.438996  17040400.0   \n",
       "2010-01-08   210.30   212.00  209.06    211.98           6.481804  15986100.0   \n",
       "\n",
       "            7. dividend amount  8. split coefficient   date_time  day_of_week  \\\n",
       "date                                                                            \n",
       "2010-01-04                 0.0                   1.0  2010-01-04            0   \n",
       "2010-01-05                 0.0                   1.0  2010-01-05            1   \n",
       "2010-01-06                 0.0                   1.0  2010-01-06            2   \n",
       "2010-01-07                 0.0                   1.0  2010-01-07            3   \n",
       "2010-01-08                 0.0                   1.0  2010-01-08            4   \n",
       "\n",
       "              return  increase  log_return  negative   nuetral  positive  \n",
       "date                                                                      \n",
       "2010-01-04  0.000000       0.0    0.000000  0.000013  0.000009  0.999979  \n",
       "2010-01-05  0.001729       1.0    0.000000  0.498715  0.001116  0.500169  \n",
       "2010-01-06 -0.015906       0.0    0.001727  0.000052  0.085701  0.914247  \n",
       "2010-01-07 -0.001849       0.0   -0.016034  0.457010  0.000224  0.542766  \n",
       "2010-01-08  0.006648       1.0   -0.001850  0.010157  0.000059  0.989783  "
      ]
     },
     "execution_count": 424,
     "metadata": {},
     "output_type": "execute_result"
    },
    {
     "data": {
      "application/javascript": "\n            setTimeout(function() {\n                var nbb_cell_id = 424;\n                var nbb_unformatted_code = \"df.head(5)\";\n                var nbb_formatted_code = \"df.head(5)\";\n                var nbb_cells = Jupyter.notebook.get_cells();\n                for (var i = 0; i < nbb_cells.length; ++i) {\n                    if (nbb_cells[i].input_prompt_number == nbb_cell_id) {\n                        if (nbb_cells[i].get_text() == nbb_unformatted_code) {\n                             nbb_cells[i].set_text(nbb_formatted_code);\n                        }\n                        break;\n                    }\n                }\n            }, 500);\n            ",
      "text/plain": [
       "<IPython.core.display.Javascript object>"
      ]
     },
     "metadata": {},
     "output_type": "display_data"
    }
   ],
   "source": [
    "df.head(5)"
   ]
  },
  {
   "cell_type": "code",
   "execution_count": 425,
   "metadata": {},
   "outputs": [
    {
     "data": {
      "application/javascript": "\n            setTimeout(function() {\n                var nbb_cell_id = 425;\n                var nbb_unformatted_code = \"_ = np.array(ytrain[0])\\n\\nif len(feature_list) == 1:\\n    _ = np.c_[_]\\n\\nelif len(feature_list) == 2:\\n    _ = np.c_[_, np.zeros(_.shape)]\\n\\nelif len(feature_list) == 3:\\n    _ = np.c_[_, np.zeros(_.shape), np.zeros(_.shape)]\\n\\nelif len(feature_list) == 4:\\n    _ = np.c_[_, np.zeros(_.shape), np.zeros(_.shape), np.zeros(_.shape)]\\n\\nelif len(feature_list) == 5:\\n    _ = np.c_[_, np.zeros(_.shape), np.zeros(_.shape), np.zeros(_.shape), np.zeros(_.shape)]\\n\\nelif len(feature_list) == 6:\\n    _ = np.c_[_, np.zeros(_.shape), np.zeros(_.shape), np.zeros(_.shape), np.zeros(_.shape), np.zeros(_.shape)]\\n\\nelif len(feature_list) == 7:\\n    _ = np.c_[_, np.zeros(_.shape), np.zeros(_.shape), np.zeros(_.shape), np.zeros(_.shape), np.zeros(_.shape), np.zeros(_.shape)]    \\n\\nelif len(feature_list) == 8:\\n    _ = np.c_[_, np.zeros(_.shape), np.zeros(_.shape), np.zeros(_.shape), np.zeros(_.shape), np.zeros(_.shape), np.zeros(_.shape), np.zeros(_.shape)]      \";\n                var nbb_formatted_code = \"_ = np.array(ytrain[0])\\n\\nif len(feature_list) == 1:\\n    _ = np.c_[_]\\n\\nelif len(feature_list) == 2:\\n    _ = np.c_[_, np.zeros(_.shape)]\\n\\nelif len(feature_list) == 3:\\n    _ = np.c_[_, np.zeros(_.shape), np.zeros(_.shape)]\\n\\nelif len(feature_list) == 4:\\n    _ = np.c_[_, np.zeros(_.shape), np.zeros(_.shape), np.zeros(_.shape)]\\n\\nelif len(feature_list) == 5:\\n    _ = np.c_[\\n        _, np.zeros(_.shape), np.zeros(_.shape), np.zeros(_.shape), np.zeros(_.shape)\\n    ]\\n\\nelif len(feature_list) == 6:\\n    _ = np.c_[\\n        _,\\n        np.zeros(_.shape),\\n        np.zeros(_.shape),\\n        np.zeros(_.shape),\\n        np.zeros(_.shape),\\n        np.zeros(_.shape),\\n    ]\\n\\nelif len(feature_list) == 7:\\n    _ = np.c_[\\n        _,\\n        np.zeros(_.shape),\\n        np.zeros(_.shape),\\n        np.zeros(_.shape),\\n        np.zeros(_.shape),\\n        np.zeros(_.shape),\\n        np.zeros(_.shape),\\n    ]\\n\\nelif len(feature_list) == 8:\\n    _ = np.c_[\\n        _,\\n        np.zeros(_.shape),\\n        np.zeros(_.shape),\\n        np.zeros(_.shape),\\n        np.zeros(_.shape),\\n        np.zeros(_.shape),\\n        np.zeros(_.shape),\\n        np.zeros(_.shape),\\n    ]\";\n                var nbb_cells = Jupyter.notebook.get_cells();\n                for (var i = 0; i < nbb_cells.length; ++i) {\n                    if (nbb_cells[i].input_prompt_number == nbb_cell_id) {\n                        if (nbb_cells[i].get_text() == nbb_unformatted_code) {\n                             nbb_cells[i].set_text(nbb_formatted_code);\n                        }\n                        break;\n                    }\n                }\n            }, 500);\n            ",
      "text/plain": [
       "<IPython.core.display.Javascript object>"
      ]
     },
     "metadata": {},
     "output_type": "display_data"
    }
   ],
   "source": [
    "_ = np.array(ytrain[0])\n",
    "\n",
    "if len(feature_list) == 1:\n",
    "    _ = np.c_[_]\n",
    "\n",
    "elif len(feature_list) == 2:\n",
    "    _ = np.c_[_, np.zeros(_.shape)]\n",
    "\n",
    "elif len(feature_list) == 3:\n",
    "    _ = np.c_[_, np.zeros(_.shape), np.zeros(_.shape)]\n",
    "\n",
    "elif len(feature_list) == 4:\n",
    "    _ = np.c_[_, np.zeros(_.shape), np.zeros(_.shape), np.zeros(_.shape)]\n",
    "\n",
    "elif len(feature_list) == 5:\n",
    "    _ = np.c_[_, np.zeros(_.shape), np.zeros(_.shape), np.zeros(_.shape), np.zeros(_.shape)]\n",
    "\n",
    "elif len(feature_list) == 6:\n",
    "    _ = np.c_[_, np.zeros(_.shape), np.zeros(_.shape), np.zeros(_.shape), np.zeros(_.shape), np.zeros(_.shape)]\n",
    "\n",
    "elif len(feature_list) == 7:\n",
    "    _ = np.c_[_, np.zeros(_.shape), np.zeros(_.shape), np.zeros(_.shape), np.zeros(_.shape), np.zeros(_.shape), np.zeros(_.shape)]    \n",
    "\n",
    "elif len(feature_list) == 8:\n",
    "    _ = np.c_[_, np.zeros(_.shape), np.zeros(_.shape), np.zeros(_.shape), np.zeros(_.shape), np.zeros(_.shape), np.zeros(_.shape), np.zeros(_.shape)]      "
   ]
  },
  {
   "cell_type": "code",
   "execution_count": 426,
   "metadata": {},
   "outputs": [
    {
     "data": {
      "text/plain": [
       "array([[ 7.32451811e+00,  9.07000000e+01,  8.94700000e+01,\n",
       "         5.62480000e+06,  0.00000000e+00,  0.00000000e+00,\n",
       "         0.00000000e+00, -1.37708076e-01]])"
      ]
     },
     "execution_count": 426,
     "metadata": {},
     "output_type": "execute_result"
    },
    {
     "data": {
      "application/javascript": "\n            setTimeout(function() {\n                var nbb_cell_id = 426;\n                var nbb_unformatted_code = \"scaler.inverse_transform(_)\";\n                var nbb_formatted_code = \"scaler.inverse_transform(_)\";\n                var nbb_cells = Jupyter.notebook.get_cells();\n                for (var i = 0; i < nbb_cells.length; ++i) {\n                    if (nbb_cells[i].input_prompt_number == nbb_cell_id) {\n                        if (nbb_cells[i].get_text() == nbb_unformatted_code) {\n                             nbb_cells[i].set_text(nbb_formatted_code);\n                        }\n                        break;\n                    }\n                }\n            }, 500);\n            ",
      "text/plain": [
       "<IPython.core.display.Javascript object>"
      ]
     },
     "metadata": {},
     "output_type": "display_data"
    }
   ],
   "source": [
    "scaler.inverse_transform(_)"
   ]
  },
  {
   "cell_type": "markdown",
   "metadata": {},
   "source": [
    "In an LSTM network the input for each LSTM layer needs to contain the following information:\n",
    "- The number of observations\n",
    "- The time steps\n",
    "- The features\n",
    "\n",
    "Therefore we need to add a temporal dimension compared to a classical network:\n",
    "\n",
    "(number of observations, number of steps, number of features per step)"
   ]
  },
  {
   "cell_type": "code",
   "execution_count": 427,
   "metadata": {},
   "outputs": [
    {
     "data": {
      "application/javascript": "\n            setTimeout(function() {\n                var nbb_cell_id = 427;\n                var nbb_unformatted_code = \"Xtrain, ytrain = (np.array(Xtrain), np.array(ytrain))\\nXtrain = np.reshape(Xtrain, (Xtrain.shape[0], Xtrain.shape[1], Xtrain.shape[2]))\\n\\nXtest, ytest = (np.array(Xtest), np.array(ytest))\\nXtest = np.reshape(Xtest, (Xtest.shape[0], Xtest.shape[1], Xtest.shape[2]))\";\n                var nbb_formatted_code = \"Xtrain, ytrain = (np.array(Xtrain), np.array(ytrain))\\nXtrain = np.reshape(Xtrain, (Xtrain.shape[0], Xtrain.shape[1], Xtrain.shape[2]))\\n\\nXtest, ytest = (np.array(Xtest), np.array(ytest))\\nXtest = np.reshape(Xtest, (Xtest.shape[0], Xtest.shape[1], Xtest.shape[2]))\";\n                var nbb_cells = Jupyter.notebook.get_cells();\n                for (var i = 0; i < nbb_cells.length; ++i) {\n                    if (nbb_cells[i].input_prompt_number == nbb_cell_id) {\n                        if (nbb_cells[i].get_text() == nbb_unformatted_code) {\n                             nbb_cells[i].set_text(nbb_formatted_code);\n                        }\n                        break;\n                    }\n                }\n            }, 500);\n            ",
      "text/plain": [
       "<IPython.core.display.Javascript object>"
      ]
     },
     "metadata": {},
     "output_type": "display_data"
    }
   ],
   "source": [
    "Xtrain, ytrain = (np.array(Xtrain), np.array(ytrain))\n",
    "Xtrain = np.reshape(Xtrain, (Xtrain.shape[0], Xtrain.shape[1], Xtrain.shape[2]))\n",
    "\n",
    "Xtest, ytest = (np.array(Xtest), np.array(ytest))\n",
    "Xtest = np.reshape(Xtest, (Xtest.shape[0], Xtest.shape[1], Xtest.shape[2]))"
   ]
  },
  {
   "cell_type": "code",
   "execution_count": 428,
   "metadata": {
    "scrolled": true
   },
   "outputs": [
    {
     "name": "stdout",
     "output_type": "stream",
     "text": [
      "(2694, 63, 8)\n",
      "(2694,)\n",
      "---\n",
      "(244, 63, 8)\n",
      "(244,)\n"
     ]
    },
    {
     "data": {
      "application/javascript": "\n            setTimeout(function() {\n                var nbb_cell_id = 428;\n                var nbb_unformatted_code = \"print(Xtrain.shape)\\nprint(ytrain.shape)\\nprint(\\\"---\\\")\\nprint(Xtest.shape)\\nprint(ytest.shape)\";\n                var nbb_formatted_code = \"print(Xtrain.shape)\\nprint(ytrain.shape)\\nprint(\\\"---\\\")\\nprint(Xtest.shape)\\nprint(ytest.shape)\";\n                var nbb_cells = Jupyter.notebook.get_cells();\n                for (var i = 0; i < nbb_cells.length; ++i) {\n                    if (nbb_cells[i].input_prompt_number == nbb_cell_id) {\n                        if (nbb_cells[i].get_text() == nbb_unformatted_code) {\n                             nbb_cells[i].set_text(nbb_formatted_code);\n                        }\n                        break;\n                    }\n                }\n            }, 500);\n            ",
      "text/plain": [
       "<IPython.core.display.Javascript object>"
      ]
     },
     "metadata": {},
     "output_type": "display_data"
    }
   ],
   "source": [
    "print(Xtrain.shape)\n",
    "print(ytrain.shape)\n",
    "print(\"---\")\n",
    "print(Xtest.shape)\n",
    "print(ytest.shape)"
   ]
  },
  {
   "cell_type": "markdown",
   "metadata": {},
   "source": [
    "#### LSTM Model"
   ]
  },
  {
   "cell_type": "code",
   "execution_count": 429,
   "metadata": {},
   "outputs": [
    {
     "data": {
      "application/javascript": "\n            setTimeout(function() {\n                var nbb_cell_id = 429;\n                var nbb_unformatted_code = \"from keras.models import Sequential\\nfrom keras.layers import LSTM, Dense\";\n                var nbb_formatted_code = \"from keras.models import Sequential\\nfrom keras.layers import LSTM, Dense\";\n                var nbb_cells = Jupyter.notebook.get_cells();\n                for (var i = 0; i < nbb_cells.length; ++i) {\n                    if (nbb_cells[i].input_prompt_number == nbb_cell_id) {\n                        if (nbb_cells[i].get_text() == nbb_unformatted_code) {\n                             nbb_cells[i].set_text(nbb_formatted_code);\n                        }\n                        break;\n                    }\n                }\n            }, 500);\n            ",
      "text/plain": [
       "<IPython.core.display.Javascript object>"
      ]
     },
     "metadata": {},
     "output_type": "display_data"
    }
   ],
   "source": [
    "from keras.models import Sequential\n",
    "from keras.layers import LSTM, Dense"
   ]
  },
  {
   "cell_type": "code",
   "execution_count": 430,
   "metadata": {},
   "outputs": [
    {
     "data": {
      "application/javascript": "\n            setTimeout(function() {\n                var nbb_cell_id = 430;\n                var nbb_unformatted_code = \"results_path = Path('results', 'lstm')\\nif not results_path.exists():\\n    results_path.mkdir(parents=True)\";\n                var nbb_formatted_code = \"results_path = Path(\\\"results\\\", \\\"lstm\\\")\\nif not results_path.exists():\\n    results_path.mkdir(parents=True)\";\n                var nbb_cells = Jupyter.notebook.get_cells();\n                for (var i = 0; i < nbb_cells.length; ++i) {\n                    if (nbb_cells[i].input_prompt_number == nbb_cell_id) {\n                        if (nbb_cells[i].get_text() == nbb_unformatted_code) {\n                             nbb_cells[i].set_text(nbb_formatted_code);\n                        }\n                        break;\n                    }\n                }\n            }, 500);\n            ",
      "text/plain": [
       "<IPython.core.display.Javascript object>"
      ]
     },
     "metadata": {},
     "output_type": "display_data"
    }
   ],
   "source": [
    "results_path = Path('results', 'lstm')\n",
    "if not results_path.exists():\n",
    "    results_path.mkdir(parents=True)"
   ]
  },
  {
   "cell_type": "code",
   "execution_count": 431,
   "metadata": {},
   "outputs": [
    {
     "data": {
      "application/javascript": "\n            setTimeout(function() {\n                var nbb_cell_id = 431;\n                var nbb_unformatted_code = \"# MAX_EPOCHS = 500\\nMAX_EPOCHS = 100\\n# patience=50\\npatience=30\\n\\nlstm_path = (results_path / 'lstm.h5').as_posix()\\ncheckpointer = tf.keras.callbacks.ModelCheckpoint(filepath=lstm_path,\\n                               verbose=1,\\n                               monitor='val_loss',\\n                               save_best_only=True)\\n\\nlr_schedule = tf.keras.optimizers.schedules.ExponentialDecay(\\n    initial_learning_rate=1e-3,\\n    decay_steps=10000,\\n    decay_rate=0.9)\\n\\noptimizer = tf.keras.optimizers.RMSprop(learning_rate=0.001,\\n                                     # learning_rate=lr_schedule,\\n                                     rho=0.9,\\n                                     epsilon=1e-08,\\n                                     decay=0.0)\\n\\ndef compile_and_fit(model, patience=patience):\\n  early_stopping = tf.keras.callbacks.EarlyStopping(monitor='val_loss',\\n                                                    patience=patience,\\n                                                    mode='min',  \\n                                                    restore_best_weights=True)\\n\\n  model.compile(loss=tf.losses.MeanSquaredError(),\\n                optimizer=optimizer,\\n                metrics=[tf.losses.MeanAbsoluteError()])\\n\\n  history = model.fit(Xtrain, ytrain, epochs=MAX_EPOCHS,\\n                      validation_data=(Xtest, ytest),\\n                      callbacks=[early_stopping, checkpointer],\\n                      batch_size=32,\\n                      shuffle=True,\\n                      verbose=1)\\n  return history\";\n                var nbb_formatted_code = \"# MAX_EPOCHS = 500\\nMAX_EPOCHS = 100\\n# patience=50\\npatience = 30\\n\\nlstm_path = (results_path / \\\"lstm.h5\\\").as_posix()\\ncheckpointer = tf.keras.callbacks.ModelCheckpoint(\\n    filepath=lstm_path, verbose=1, monitor=\\\"val_loss\\\", save_best_only=True\\n)\\n\\nlr_schedule = tf.keras.optimizers.schedules.ExponentialDecay(\\n    initial_learning_rate=1e-3, decay_steps=10000, decay_rate=0.9\\n)\\n\\noptimizer = tf.keras.optimizers.RMSprop(\\n    learning_rate=0.001,\\n    # learning_rate=lr_schedule,\\n    rho=0.9,\\n    epsilon=1e-08,\\n    decay=0.0,\\n)\\n\\n\\ndef compile_and_fit(model, patience=patience):\\n    early_stopping = tf.keras.callbacks.EarlyStopping(\\n        monitor=\\\"val_loss\\\", patience=patience, mode=\\\"min\\\", restore_best_weights=True\\n    )\\n\\n    model.compile(\\n        loss=tf.losses.MeanSquaredError(),\\n        optimizer=optimizer,\\n        metrics=[tf.losses.MeanAbsoluteError()],\\n    )\\n\\n    history = model.fit(\\n        Xtrain,\\n        ytrain,\\n        epochs=MAX_EPOCHS,\\n        validation_data=(Xtest, ytest),\\n        callbacks=[early_stopping, checkpointer],\\n        batch_size=32,\\n        shuffle=True,\\n        verbose=1,\\n    )\\n    return history\";\n                var nbb_cells = Jupyter.notebook.get_cells();\n                for (var i = 0; i < nbb_cells.length; ++i) {\n                    if (nbb_cells[i].input_prompt_number == nbb_cell_id) {\n                        if (nbb_cells[i].get_text() == nbb_unformatted_code) {\n                             nbb_cells[i].set_text(nbb_formatted_code);\n                        }\n                        break;\n                    }\n                }\n            }, 500);\n            ",
      "text/plain": [
       "<IPython.core.display.Javascript object>"
      ]
     },
     "metadata": {},
     "output_type": "display_data"
    }
   ],
   "source": [
    "# MAX_EPOCHS = 500\n",
    "MAX_EPOCHS = 100\n",
    "# patience=50\n",
    "patience=30\n",
    "\n",
    "lstm_path = (results_path / 'lstm.h5').as_posix()\n",
    "checkpointer = tf.keras.callbacks.ModelCheckpoint(filepath=lstm_path,\n",
    "                               verbose=1,\n",
    "                               monitor='val_loss',\n",
    "                               save_best_only=True)\n",
    "\n",
    "lr_schedule = tf.keras.optimizers.schedules.ExponentialDecay(\n",
    "    initial_learning_rate=1e-3,\n",
    "    decay_steps=10000,\n",
    "    decay_rate=0.9)\n",
    "\n",
    "optimizer = tf.keras.optimizers.RMSprop(learning_rate=0.001,\n",
    "                                     # learning_rate=lr_schedule,\n",
    "                                     rho=0.9,\n",
    "                                     epsilon=1e-08,\n",
    "                                     decay=0.0)\n",
    "\n",
    "def compile_and_fit(model, patience=patience):\n",
    "  early_stopping = tf.keras.callbacks.EarlyStopping(monitor='val_loss',\n",
    "                                                    patience=patience,\n",
    "                                                    mode='min',  \n",
    "                                                    restore_best_weights=True)\n",
    "\n",
    "  model.compile(loss=tf.losses.MeanSquaredError(),\n",
    "                optimizer=optimizer,\n",
    "                metrics=[tf.losses.MeanAbsoluteError()])\n",
    "\n",
    "  history = model.fit(Xtrain, ytrain, epochs=MAX_EPOCHS,\n",
    "                      validation_data=(Xtest, ytest),\n",
    "                      callbacks=[early_stopping, checkpointer],\n",
    "                      batch_size=32,\n",
    "                      shuffle=True,\n",
    "                      verbose=1)\n",
    "  return history\n"
   ]
  },
  {
   "cell_type": "code",
   "execution_count": 432,
   "metadata": {},
   "outputs": [
    {
     "data": {
      "application/javascript": "\n            setTimeout(function() {\n                var nbb_cell_id = 432;\n                var nbb_unformatted_code = \"from keras.layers import Dropout\";\n                var nbb_formatted_code = \"from keras.layers import Dropout\";\n                var nbb_cells = Jupyter.notebook.get_cells();\n                for (var i = 0; i < nbb_cells.length; ++i) {\n                    if (nbb_cells[i].input_prompt_number == nbb_cell_id) {\n                        if (nbb_cells[i].get_text() == nbb_unformatted_code) {\n                             nbb_cells[i].set_text(nbb_formatted_code);\n                        }\n                        break;\n                    }\n                }\n            }, 500);\n            ",
      "text/plain": [
       "<IPython.core.display.Javascript object>"
      ]
     },
     "metadata": {},
     "output_type": "display_data"
    }
   ],
   "source": [
    "from keras.layers import Dropout"
   ]
  },
  {
   "cell_type": "code",
   "execution_count": 433,
   "metadata": {
    "scrolled": true
   },
   "outputs": [
    {
     "data": {
      "application/javascript": "\n            setTimeout(function() {\n                var nbb_cell_id = 433;\n                var nbb_unformatted_code = \"model = Sequential([\\n    LSTM(units=64, \\n         return_sequences=False,\\n         # Shape => [batch, time, features]\\n         input_shape=(Xtrain.shape[1], Xtrain.shape[2]), \\n         name='LSTM'),\\n    # Dropout(0.10),\\n    Dense(1, name='Output')\\n])\";\n                var nbb_formatted_code = \"model = Sequential(\\n    [\\n        LSTM(\\n            units=64,\\n            return_sequences=False,\\n            # Shape => [batch, time, features]\\n            input_shape=(Xtrain.shape[1], Xtrain.shape[2]),\\n            name=\\\"LSTM\\\",\\n        ),\\n        # Dropout(0.10),\\n        Dense(1, name=\\\"Output\\\"),\\n    ]\\n)\";\n                var nbb_cells = Jupyter.notebook.get_cells();\n                for (var i = 0; i < nbb_cells.length; ++i) {\n                    if (nbb_cells[i].input_prompt_number == nbb_cell_id) {\n                        if (nbb_cells[i].get_text() == nbb_unformatted_code) {\n                             nbb_cells[i].set_text(nbb_formatted_code);\n                        }\n                        break;\n                    }\n                }\n            }, 500);\n            ",
      "text/plain": [
       "<IPython.core.display.Javascript object>"
      ]
     },
     "metadata": {},
     "output_type": "display_data"
    }
   ],
   "source": [
    "model = Sequential([\n",
    "    LSTM(units=64, \n",
    "         return_sequences=False,\n",
    "         # Shape => [batch, time, features]\n",
    "         input_shape=(Xtrain.shape[1], Xtrain.shape[2]), \n",
    "         name='LSTM'),\n",
    "    # Dropout(0.10),\n",
    "    Dense(1, name='Output')\n",
    "])"
   ]
  },
  {
   "cell_type": "code",
   "execution_count": 434,
   "metadata": {},
   "outputs": [
    {
     "name": "stdout",
     "output_type": "stream",
     "text": [
      "Epoch 1/100\n",
      "83/85 [============================>.] - ETA: 0s - loss: 0.0034 - mean_absolute_error: 0.0409\n",
      "Epoch 1: val_loss improved from inf to 0.02853, saving model to results/lstm/lstm.h5\n",
      "85/85 [==============================] - 4s 24ms/step - loss: 0.0033 - mean_absolute_error: 0.0410 - val_loss: 0.0285 - val_mean_absolute_error: 0.1669\n",
      "Epoch 2/100\n",
      "85/85 [==============================] - ETA: 0s - loss: 9.4668e-04 - mean_absolute_error: 0.0261\n",
      "Epoch 2: val_loss improved from 0.02853 to 0.00071, saving model to results/lstm/lstm.h5\n",
      "85/85 [==============================] - 1s 17ms/step - loss: 9.4668e-04 - mean_absolute_error: 0.0261 - val_loss: 7.1444e-04 - val_mean_absolute_error: 0.0211\n",
      "Epoch 3/100\n",
      "85/85 [==============================] - ETA: 0s - loss: 6.4807e-04 - mean_absolute_error: 0.0211\n",
      "Epoch 3: val_loss did not improve from 0.00071\n",
      "85/85 [==============================] - 1s 16ms/step - loss: 6.4807e-04 - mean_absolute_error: 0.0211 - val_loss: 0.0153 - val_mean_absolute_error: 0.1221\n",
      "Epoch 4/100\n",
      "85/85 [==============================] - ETA: 0s - loss: 4.8122e-04 - mean_absolute_error: 0.0181\n",
      "Epoch 4: val_loss improved from 0.00071 to 0.00059, saving model to results/lstm/lstm.h5\n",
      "85/85 [==============================] - 1s 17ms/step - loss: 4.8122e-04 - mean_absolute_error: 0.0181 - val_loss: 5.9402e-04 - val_mean_absolute_error: 0.0189\n",
      "Epoch 5/100\n",
      "84/85 [============================>.] - ETA: 0s - loss: 4.1740e-04 - mean_absolute_error: 0.0169\n",
      "Epoch 5: val_loss did not improve from 0.00059\n",
      "85/85 [==============================] - 1s 17ms/step - loss: 4.1714e-04 - mean_absolute_error: 0.0169 - val_loss: 9.5786e-04 - val_mean_absolute_error: 0.0255\n",
      "Epoch 6/100\n",
      "82/85 [===========================>..] - ETA: 0s - loss: 3.3509e-04 - mean_absolute_error: 0.0157\n",
      "Epoch 6: val_loss did not improve from 0.00059\n",
      "85/85 [==============================] - 1s 16ms/step - loss: 3.3778e-04 - mean_absolute_error: 0.0159 - val_loss: 0.0019 - val_mean_absolute_error: 0.0388\n",
      "Epoch 7/100\n",
      "83/85 [============================>.] - ETA: 0s - loss: 2.9744e-04 - mean_absolute_error: 0.0142\n",
      "Epoch 7: val_loss did not improve from 0.00059\n",
      "85/85 [==============================] - 1s 17ms/step - loss: 2.9934e-04 - mean_absolute_error: 0.0143 - val_loss: 0.0011 - val_mean_absolute_error: 0.0283\n",
      "Epoch 8/100\n",
      "83/85 [============================>.] - ETA: 0s - loss: 2.5476e-04 - mean_absolute_error: 0.0135\n",
      "Epoch 8: val_loss improved from 0.00059 to 0.00042, saving model to results/lstm/lstm.h5\n",
      "85/85 [==============================] - 2s 22ms/step - loss: 2.5702e-04 - mean_absolute_error: 0.0136 - val_loss: 4.1955e-04 - val_mean_absolute_error: 0.0158\n",
      "Epoch 9/100\n",
      "85/85 [==============================] - ETA: 0s - loss: 2.4562e-04 - mean_absolute_error: 0.0129\n",
      "Epoch 9: val_loss did not improve from 0.00042\n",
      "85/85 [==============================] - 1s 16ms/step - loss: 2.4562e-04 - mean_absolute_error: 0.0129 - val_loss: 0.0015 - val_mean_absolute_error: 0.0338\n",
      "Epoch 10/100\n",
      "84/85 [============================>.] - ETA: 0s - loss: 2.1785e-04 - mean_absolute_error: 0.0118\n",
      "Epoch 10: val_loss improved from 0.00042 to 0.00039, saving model to results/lstm/lstm.h5\n",
      "85/85 [==============================] - 2s 19ms/step - loss: 2.1794e-04 - mean_absolute_error: 0.0119 - val_loss: 3.8772e-04 - val_mean_absolute_error: 0.0150\n",
      "Epoch 11/100\n",
      "85/85 [==============================] - ETA: 0s - loss: 2.0957e-04 - mean_absolute_error: 0.0119\n",
      "Epoch 11: val_loss improved from 0.00039 to 0.00039, saving model to results/lstm/lstm.h5\n",
      "85/85 [==============================] - 2s 18ms/step - loss: 2.0957e-04 - mean_absolute_error: 0.0119 - val_loss: 3.8764e-04 - val_mean_absolute_error: 0.0151\n",
      "Epoch 12/100\n",
      "84/85 [============================>.] - ETA: 0s - loss: 1.9144e-04 - mean_absolute_error: 0.0108\n",
      "Epoch 12: val_loss did not improve from 0.00039\n",
      "85/85 [==============================] - 2s 20ms/step - loss: 1.9220e-04 - mean_absolute_error: 0.0109 - val_loss: 0.0040 - val_mean_absolute_error: 0.0604\n",
      "Epoch 13/100\n",
      "84/85 [============================>.] - ETA: 0s - loss: 1.8313e-04 - mean_absolute_error: 0.0105\n",
      "Epoch 13: val_loss did not improve from 0.00039\n",
      "85/85 [==============================] - 2s 18ms/step - loss: 1.8287e-04 - mean_absolute_error: 0.0105 - val_loss: 0.0016 - val_mean_absolute_error: 0.0372\n",
      "Epoch 14/100\n",
      "83/85 [============================>.] - ETA: 0s - loss: 1.7141e-04 - mean_absolute_error: 0.0107\n",
      "Epoch 14: val_loss did not improve from 0.00039\n",
      "85/85 [==============================] - 2s 19ms/step - loss: 1.6990e-04 - mean_absolute_error: 0.0106 - val_loss: 0.0024 - val_mean_absolute_error: 0.0458\n",
      "Epoch 15/100\n",
      "85/85 [==============================] - ETA: 0s - loss: 1.6798e-04 - mean_absolute_error: 0.0101\n",
      "Epoch 15: val_loss did not improve from 0.00039\n",
      "85/85 [==============================] - 1s 17ms/step - loss: 1.6798e-04 - mean_absolute_error: 0.0101 - val_loss: 0.0020 - val_mean_absolute_error: 0.0412\n",
      "Epoch 16/100\n",
      "85/85 [==============================] - ETA: 0s - loss: 1.5629e-04 - mean_absolute_error: 0.0097\n",
      "Epoch 16: val_loss did not improve from 0.00039\n",
      "85/85 [==============================] - 2s 18ms/step - loss: 1.5629e-04 - mean_absolute_error: 0.0097 - val_loss: 7.2907e-04 - val_mean_absolute_error: 0.0230\n",
      "Epoch 17/100\n",
      "85/85 [==============================] - ETA: 0s - loss: 1.5823e-04 - mean_absolute_error: 0.0096\n",
      "Epoch 17: val_loss did not improve from 0.00039\n",
      "85/85 [==============================] - 2s 18ms/step - loss: 1.5823e-04 - mean_absolute_error: 0.0096 - val_loss: 8.5627e-04 - val_mean_absolute_error: 0.0255\n",
      "Epoch 18/100\n",
      "84/85 [============================>.] - ETA: 0s - loss: 1.3270e-04 - mean_absolute_error: 0.0089\n",
      "Epoch 18: val_loss did not improve from 0.00039\n",
      "85/85 [==============================] - 2s 22ms/step - loss: 1.3273e-04 - mean_absolute_error: 0.0090 - val_loss: 9.0110e-04 - val_mean_absolute_error: 0.0266\n",
      "Epoch 19/100\n",
      "85/85 [==============================] - ETA: 0s - loss: 1.3883e-04 - mean_absolute_error: 0.0093\n",
      "Epoch 19: val_loss did not improve from 0.00039\n",
      "85/85 [==============================] - 1s 17ms/step - loss: 1.3883e-04 - mean_absolute_error: 0.0093 - val_loss: 5.1713e-04 - val_mean_absolute_error: 0.0184\n",
      "Epoch 20/100\n",
      "84/85 [============================>.] - ETA: 0s - loss: 1.3998e-04 - mean_absolute_error: 0.0092\n",
      "Epoch 20: val_loss did not improve from 0.00039\n",
      "85/85 [==============================] - 2s 18ms/step - loss: 1.4060e-04 - mean_absolute_error: 0.0093 - val_loss: 5.5758e-04 - val_mean_absolute_error: 0.0194\n",
      "Epoch 21/100\n",
      "82/85 [===========================>..] - ETA: 0s - loss: 1.2885e-04 - mean_absolute_error: 0.0089\n",
      "Epoch 21: val_loss did not improve from 0.00039\n",
      "85/85 [==============================] - 2s 18ms/step - loss: 1.3018e-04 - mean_absolute_error: 0.0090 - val_loss: 0.0026 - val_mean_absolute_error: 0.0485\n",
      "Epoch 22/100\n",
      "83/85 [============================>.] - ETA: 0s - loss: 1.2906e-04 - mean_absolute_error: 0.0089\n",
      "Epoch 22: val_loss improved from 0.00039 to 0.00035, saving model to results/lstm/lstm.h5\n",
      "85/85 [==============================] - 1s 17ms/step - loss: 1.2980e-04 - mean_absolute_error: 0.0090 - val_loss: 3.5401e-04 - val_mean_absolute_error: 0.0146\n",
      "Epoch 23/100\n",
      "84/85 [============================>.] - ETA: 0s - loss: 1.2516e-04 - mean_absolute_error: 0.0088\n",
      "Epoch 23: val_loss improved from 0.00035 to 0.00030, saving model to results/lstm/lstm.h5\n",
      "85/85 [==============================] - 2s 19ms/step - loss: 1.2490e-04 - mean_absolute_error: 0.0087 - val_loss: 2.9671e-04 - val_mean_absolute_error: 0.0133\n",
      "Epoch 24/100\n",
      "83/85 [============================>.] - ETA: 0s - loss: 1.1346e-04 - mean_absolute_error: 0.0082\n",
      "Epoch 24: val_loss improved from 0.00030 to 0.00028, saving model to results/lstm/lstm.h5\n",
      "85/85 [==============================] - 2s 18ms/step - loss: 1.1494e-04 - mean_absolute_error: 0.0083 - val_loss: 2.8015e-04 - val_mean_absolute_error: 0.0127\n",
      "Epoch 25/100\n",
      "83/85 [============================>.] - ETA: 0s - loss: 1.0867e-04 - mean_absolute_error: 0.0082\n",
      "Epoch 25: val_loss did not improve from 0.00028\n",
      "85/85 [==============================] - 2s 18ms/step - loss: 1.0744e-04 - mean_absolute_error: 0.0081 - val_loss: 0.0020 - val_mean_absolute_error: 0.0420\n",
      "Epoch 26/100\n",
      "85/85 [==============================] - ETA: 0s - loss: 1.1420e-04 - mean_absolute_error: 0.0084\n",
      "Epoch 26: val_loss did not improve from 0.00028\n",
      "85/85 [==============================] - 1s 16ms/step - loss: 1.1420e-04 - mean_absolute_error: 0.0084 - val_loss: 0.0014 - val_mean_absolute_error: 0.0352\n",
      "Epoch 27/100\n",
      "83/85 [============================>.] - ETA: 0s - loss: 1.0903e-04 - mean_absolute_error: 0.0084\n",
      "Epoch 27: val_loss did not improve from 0.00028\n",
      "85/85 [==============================] - 2s 20ms/step - loss: 1.1181e-04 - mean_absolute_error: 0.0086 - val_loss: 0.0023 - val_mean_absolute_error: 0.0451\n",
      "Epoch 28/100\n",
      "85/85 [==============================] - ETA: 0s - loss: 1.0215e-04 - mean_absolute_error: 0.0077\n",
      "Epoch 28: val_loss did not improve from 0.00028\n",
      "85/85 [==============================] - 2s 19ms/step - loss: 1.0215e-04 - mean_absolute_error: 0.0077 - val_loss: 3.4707e-04 - val_mean_absolute_error: 0.0148\n",
      "Epoch 29/100\n",
      "83/85 [============================>.] - ETA: 0s - loss: 1.0837e-04 - mean_absolute_error: 0.0081\n",
      "Epoch 29: val_loss improved from 0.00028 to 0.00028, saving model to results/lstm/lstm.h5\n",
      "85/85 [==============================] - 1s 16ms/step - loss: 1.0806e-04 - mean_absolute_error: 0.0081 - val_loss: 2.7664e-04 - val_mean_absolute_error: 0.0129\n",
      "Epoch 30/100\n",
      "84/85 [============================>.] - ETA: 0s - loss: 1.0240e-04 - mean_absolute_error: 0.0081\n",
      "Epoch 30: val_loss improved from 0.00028 to 0.00027, saving model to results/lstm/lstm.h5\n",
      "85/85 [==============================] - 2s 19ms/step - loss: 1.0217e-04 - mean_absolute_error: 0.0080 - val_loss: 2.6669e-04 - val_mean_absolute_error: 0.0126\n",
      "Epoch 31/100\n",
      "84/85 [============================>.] - ETA: 0s - loss: 9.7137e-05 - mean_absolute_error: 0.0073\n",
      "Epoch 31: val_loss did not improve from 0.00027\n",
      "85/85 [==============================] - 2s 18ms/step - loss: 9.6991e-05 - mean_absolute_error: 0.0073 - val_loss: 3.5655e-04 - val_mean_absolute_error: 0.0153\n",
      "Epoch 32/100\n",
      "84/85 [============================>.] - ETA: 0s - loss: 1.0069e-04 - mean_absolute_error: 0.0078\n",
      "Epoch 32: val_loss did not improve from 0.00027\n",
      "85/85 [==============================] - 2s 18ms/step - loss: 1.0078e-04 - mean_absolute_error: 0.0078 - val_loss: 7.6058e-04 - val_mean_absolute_error: 0.0235\n",
      "Epoch 33/100\n",
      "82/85 [===========================>..] - ETA: 0s - loss: 9.3921e-05 - mean_absolute_error: 0.0075\n",
      "Epoch 33: val_loss improved from 0.00027 to 0.00024, saving model to results/lstm/lstm.h5\n",
      "85/85 [==============================] - 1s 17ms/step - loss: 9.2879e-05 - mean_absolute_error: 0.0075 - val_loss: 2.4071e-04 - val_mean_absolute_error: 0.0120\n",
      "Epoch 34/100\n",
      "85/85 [==============================] - ETA: 0s - loss: 9.3672e-05 - mean_absolute_error: 0.0076\n",
      "Epoch 34: val_loss did not improve from 0.00024\n",
      "85/85 [==============================] - 2s 20ms/step - loss: 9.3672e-05 - mean_absolute_error: 0.0076 - val_loss: 2.7303e-04 - val_mean_absolute_error: 0.0130\n",
      "Epoch 35/100\n",
      "83/85 [============================>.] - ETA: 0s - loss: 9.5484e-05 - mean_absolute_error: 0.0075\n",
      "Epoch 35: val_loss did not improve from 0.00024\n",
      "85/85 [==============================] - 1s 17ms/step - loss: 9.4305e-05 - mean_absolute_error: 0.0074 - val_loss: 3.4793e-04 - val_mean_absolute_error: 0.0146\n",
      "Epoch 36/100\n",
      "83/85 [============================>.] - ETA: 0s - loss: 9.9569e-05 - mean_absolute_error: 0.0078\n",
      "Epoch 36: val_loss did not improve from 0.00024\n",
      "85/85 [==============================] - 1s 17ms/step - loss: 9.8447e-05 - mean_absolute_error: 0.0077 - val_loss: 3.8297e-04 - val_mean_absolute_error: 0.0159\n",
      "Epoch 37/100\n",
      "82/85 [===========================>..] - ETA: 0s - loss: 8.9641e-05 - mean_absolute_error: 0.0073\n",
      "Epoch 37: val_loss did not improve from 0.00024\n",
      "85/85 [==============================] - 2s 19ms/step - loss: 8.8060e-05 - mean_absolute_error: 0.0071 - val_loss: 2.9285e-04 - val_mean_absolute_error: 0.0137\n",
      "Epoch 38/100\n",
      "82/85 [===========================>..] - ETA: 0s - loss: 9.2900e-05 - mean_absolute_error: 0.0075\n",
      "Epoch 38: val_loss improved from 0.00024 to 0.00024, saving model to results/lstm/lstm.h5\n",
      "85/85 [==============================] - 2s 19ms/step - loss: 9.1320e-05 - mean_absolute_error: 0.0074 - val_loss: 2.3842e-04 - val_mean_absolute_error: 0.0117\n",
      "Epoch 39/100\n",
      "82/85 [===========================>..] - ETA: 0s - loss: 8.2819e-05 - mean_absolute_error: 0.0069\n",
      "Epoch 39: val_loss did not improve from 0.00024\n",
      "85/85 [==============================] - 2s 18ms/step - loss: 8.5326e-05 - mean_absolute_error: 0.0070 - val_loss: 4.4213e-04 - val_mean_absolute_error: 0.0169\n",
      "Epoch 40/100\n",
      "83/85 [============================>.] - ETA: 0s - loss: 8.6974e-05 - mean_absolute_error: 0.0069\n",
      "Epoch 40: val_loss did not improve from 0.00024\n",
      "85/85 [==============================] - 2s 19ms/step - loss: 8.6681e-05 - mean_absolute_error: 0.0068 - val_loss: 2.5060e-04 - val_mean_absolute_error: 0.0124\n",
      "Epoch 41/100\n",
      "83/85 [============================>.] - ETA: 0s - loss: 8.4963e-05 - mean_absolute_error: 0.0070\n",
      "Epoch 41: val_loss did not improve from 0.00024\n",
      "85/85 [==============================] - 2s 18ms/step - loss: 8.4551e-05 - mean_absolute_error: 0.0070 - val_loss: 2.7169e-04 - val_mean_absolute_error: 0.0131\n",
      "Epoch 42/100\n",
      "85/85 [==============================] - ETA: 0s - loss: 8.1707e-05 - mean_absolute_error: 0.0070\n",
      "Epoch 42: val_loss did not improve from 0.00024\n",
      "85/85 [==============================] - 2s 20ms/step - loss: 8.1707e-05 - mean_absolute_error: 0.0070 - val_loss: 5.1276e-04 - val_mean_absolute_error: 0.0194\n",
      "Epoch 43/100\n",
      "83/85 [============================>.] - ETA: 0s - loss: 9.1339e-05 - mean_absolute_error: 0.0071\n",
      "Epoch 43: val_loss improved from 0.00024 to 0.00023, saving model to results/lstm/lstm.h5\n",
      "85/85 [==============================] - 2s 22ms/step - loss: 9.0254e-05 - mean_absolute_error: 0.0070 - val_loss: 2.2951e-04 - val_mean_absolute_error: 0.0114\n",
      "Epoch 44/100\n",
      "85/85 [==============================] - ETA: 0s - loss: 8.1868e-05 - mean_absolute_error: 0.0070\n",
      "Epoch 44: val_loss did not improve from 0.00023\n",
      "85/85 [==============================] - 2s 19ms/step - loss: 8.1868e-05 - mean_absolute_error: 0.0070 - val_loss: 6.8914e-04 - val_mean_absolute_error: 0.0224\n",
      "Epoch 45/100\n",
      "83/85 [============================>.] - ETA: 0s - loss: 7.9998e-05 - mean_absolute_error: 0.0069\n",
      "Epoch 45: val_loss did not improve from 0.00023\n",
      "85/85 [==============================] - 1s 17ms/step - loss: 7.9991e-05 - mean_absolute_error: 0.0068 - val_loss: 4.8131e-04 - val_mean_absolute_error: 0.0180\n",
      "Epoch 46/100\n",
      "85/85 [==============================] - ETA: 0s - loss: 7.6207e-05 - mean_absolute_error: 0.0065\n",
      "Epoch 46: val_loss did not improve from 0.00023\n",
      "85/85 [==============================] - 2s 19ms/step - loss: 7.6207e-05 - mean_absolute_error: 0.0065 - val_loss: 0.0037 - val_mean_absolute_error: 0.0596\n",
      "Epoch 47/100\n",
      "82/85 [===========================>..] - ETA: 0s - loss: 7.6314e-05 - mean_absolute_error: 0.0066\n",
      "Epoch 47: val_loss did not improve from 0.00023\n",
      "85/85 [==============================] - 2s 19ms/step - loss: 8.0281e-05 - mean_absolute_error: 0.0069 - val_loss: 2.4096e-04 - val_mean_absolute_error: 0.0118\n",
      "Epoch 48/100\n",
      "82/85 [===========================>..] - ETA: 0s - loss: 7.2018e-05 - mean_absolute_error: 0.0063\n",
      "Epoch 48: val_loss improved from 0.00023 to 0.00021, saving model to results/lstm/lstm.h5\n",
      "85/85 [==============================] - 1s 17ms/step - loss: 7.6989e-05 - mean_absolute_error: 0.0065 - val_loss: 2.1271e-04 - val_mean_absolute_error: 0.0112\n",
      "Epoch 49/100\n",
      "84/85 [============================>.] - ETA: 0s - loss: 7.2881e-05 - mean_absolute_error: 0.0066\n",
      "Epoch 49: val_loss did not improve from 0.00021\n",
      "85/85 [==============================] - 2s 19ms/step - loss: 7.3131e-05 - mean_absolute_error: 0.0067 - val_loss: 4.8283e-04 - val_mean_absolute_error: 0.0188\n",
      "Epoch 50/100\n",
      "85/85 [==============================] - ETA: 0s - loss: 7.3614e-05 - mean_absolute_error: 0.0066\n",
      "Epoch 50: val_loss did not improve from 0.00021\n",
      "85/85 [==============================] - 2s 18ms/step - loss: 7.3614e-05 - mean_absolute_error: 0.0066 - val_loss: 4.6636e-04 - val_mean_absolute_error: 0.0185\n",
      "Epoch 51/100\n",
      "84/85 [============================>.] - ETA: 0s - loss: 7.2298e-05 - mean_absolute_error: 0.0063\n",
      "Epoch 51: val_loss did not improve from 0.00021\n",
      "85/85 [==============================] - 1s 17ms/step - loss: 7.2573e-05 - mean_absolute_error: 0.0064 - val_loss: 0.0029 - val_mean_absolute_error: 0.0518\n",
      "Epoch 52/100\n",
      "84/85 [============================>.] - ETA: 0s - loss: 7.5747e-05 - mean_absolute_error: 0.0066\n",
      "Epoch 52: val_loss did not improve from 0.00021\n",
      "85/85 [==============================] - 2s 18ms/step - loss: 7.6706e-05 - mean_absolute_error: 0.0067 - val_loss: 0.0020 - val_mean_absolute_error: 0.0422\n",
      "Epoch 53/100\n",
      "84/85 [============================>.] - ETA: 0s - loss: 7.1980e-05 - mean_absolute_error: 0.0064\n",
      "Epoch 53: val_loss did not improve from 0.00021\n",
      "85/85 [==============================] - 2s 20ms/step - loss: 7.1848e-05 - mean_absolute_error: 0.0064 - val_loss: 2.9464e-04 - val_mean_absolute_error: 0.0139\n",
      "Epoch 54/100\n",
      "85/85 [==============================] - ETA: 0s - loss: 7.7910e-05 - mean_absolute_error: 0.0068\n",
      "Epoch 54: val_loss did not improve from 0.00021\n",
      "85/85 [==============================] - 2s 18ms/step - loss: 7.7910e-05 - mean_absolute_error: 0.0068 - val_loss: 0.0017 - val_mean_absolute_error: 0.0390\n",
      "Epoch 55/100\n",
      "85/85 [==============================] - ETA: 0s - loss: 6.9509e-05 - mean_absolute_error: 0.0062\n",
      "Epoch 55: val_loss did not improve from 0.00021\n",
      "85/85 [==============================] - 2s 18ms/step - loss: 6.9509e-05 - mean_absolute_error: 0.0062 - val_loss: 2.3157e-04 - val_mean_absolute_error: 0.0115\n",
      "Epoch 56/100\n",
      "84/85 [============================>.] - ETA: 0s - loss: 6.9970e-05 - mean_absolute_error: 0.0064\n",
      "Epoch 56: val_loss did not improve from 0.00021\n",
      "85/85 [==============================] - 2s 20ms/step - loss: 6.9880e-05 - mean_absolute_error: 0.0064 - val_loss: 2.1883e-04 - val_mean_absolute_error: 0.0117\n",
      "Epoch 57/100\n",
      "83/85 [============================>.] - ETA: 0s - loss: 7.4299e-05 - mean_absolute_error: 0.0065\n",
      "Epoch 57: val_loss did not improve from 0.00021\n",
      "85/85 [==============================] - 1s 17ms/step - loss: 7.3406e-05 - mean_absolute_error: 0.0064 - val_loss: 2.3611e-04 - val_mean_absolute_error: 0.0117\n",
      "Epoch 58/100\n",
      "85/85 [==============================] - ETA: 0s - loss: 6.8382e-05 - mean_absolute_error: 0.0062\n",
      "Epoch 58: val_loss did not improve from 0.00021\n",
      "85/85 [==============================] - 1s 17ms/step - loss: 6.8382e-05 - mean_absolute_error: 0.0062 - val_loss: 2.9551e-04 - val_mean_absolute_error: 0.0141\n",
      "Epoch 59/100\n",
      "85/85 [==============================] - ETA: 0s - loss: 6.9504e-05 - mean_absolute_error: 0.0061\n",
      "Epoch 59: val_loss did not improve from 0.00021\n",
      "85/85 [==============================] - 2s 20ms/step - loss: 6.9504e-05 - mean_absolute_error: 0.0061 - val_loss: 3.0752e-04 - val_mean_absolute_error: 0.0136\n",
      "Epoch 60/100\n",
      "84/85 [============================>.] - ETA: 0s - loss: 6.9724e-05 - mean_absolute_error: 0.0062\n",
      "Epoch 60: val_loss improved from 0.00021 to 0.00021, saving model to results/lstm/lstm.h5\n",
      "85/85 [==============================] - 2s 18ms/step - loss: 6.9613e-05 - mean_absolute_error: 0.0061 - val_loss: 2.0513e-04 - val_mean_absolute_error: 0.0109\n",
      "Epoch 61/100\n",
      "83/85 [============================>.] - ETA: 0s - loss: 6.6471e-05 - mean_absolute_error: 0.0062\n",
      "Epoch 61: val_loss did not improve from 0.00021\n",
      "85/85 [==============================] - 2s 19ms/step - loss: 6.5776e-05 - mean_absolute_error: 0.0061 - val_loss: 2.1094e-04 - val_mean_absolute_error: 0.0114\n",
      "Epoch 62/100\n",
      "84/85 [============================>.] - ETA: 0s - loss: 6.3201e-05 - mean_absolute_error: 0.0061\n",
      "Epoch 62: val_loss did not improve from 0.00021\n",
      "85/85 [==============================] - 2s 18ms/step - loss: 6.3197e-05 - mean_absolute_error: 0.0061 - val_loss: 7.1182e-04 - val_mean_absolute_error: 0.0240\n",
      "Epoch 63/100\n",
      "82/85 [===========================>..] - ETA: 0s - loss: 6.6203e-05 - mean_absolute_error: 0.0061\n",
      "Epoch 63: val_loss improved from 0.00021 to 0.00020, saving model to results/lstm/lstm.h5\n",
      "85/85 [==============================] - 1s 17ms/step - loss: 6.6129e-05 - mean_absolute_error: 0.0061 - val_loss: 1.9578e-04 - val_mean_absolute_error: 0.0106\n",
      "Epoch 64/100\n",
      "82/85 [===========================>..] - ETA: 0s - loss: 6.5593e-05 - mean_absolute_error: 0.0062\n",
      "Epoch 64: val_loss did not improve from 0.00020\n",
      "85/85 [==============================] - 2s 18ms/step - loss: 6.4897e-05 - mean_absolute_error: 0.0061 - val_loss: 2.3303e-04 - val_mean_absolute_error: 0.0115\n",
      "Epoch 65/100\n",
      "85/85 [==============================] - ETA: 0s - loss: 6.7158e-05 - mean_absolute_error: 0.0061\n",
      "Epoch 65: val_loss did not improve from 0.00020\n",
      "85/85 [==============================] - 2s 18ms/step - loss: 6.7158e-05 - mean_absolute_error: 0.0061 - val_loss: 2.3168e-04 - val_mean_absolute_error: 0.0122\n",
      "Epoch 66/100\n",
      "84/85 [============================>.] - ETA: 0s - loss: 5.9865e-05 - mean_absolute_error: 0.0057\n",
      "Epoch 66: val_loss did not improve from 0.00020\n",
      "85/85 [==============================] - 2s 18ms/step - loss: 5.9749e-05 - mean_absolute_error: 0.0056 - val_loss: 2.5116e-04 - val_mean_absolute_error: 0.0127\n",
      "Epoch 67/100\n",
      "83/85 [============================>.] - ETA: 0s - loss: 6.9087e-05 - mean_absolute_error: 0.0064\n",
      "Epoch 67: val_loss did not improve from 0.00020\n",
      "85/85 [==============================] - 1s 17ms/step - loss: 6.8339e-05 - mean_absolute_error: 0.0063 - val_loss: 2.0939e-04 - val_mean_absolute_error: 0.0110\n",
      "Epoch 68/100\n",
      "85/85 [==============================] - ETA: 0s - loss: 5.9811e-05 - mean_absolute_error: 0.0058\n",
      "Epoch 68: val_loss did not improve from 0.00020\n",
      "85/85 [==============================] - 2s 18ms/step - loss: 5.9811e-05 - mean_absolute_error: 0.0058 - val_loss: 2.1607e-04 - val_mean_absolute_error: 0.0112\n",
      "Epoch 69/100\n",
      "84/85 [============================>.] - ETA: 0s - loss: 6.2096e-05 - mean_absolute_error: 0.0059\n",
      "Epoch 69: val_loss did not improve from 0.00020\n",
      "85/85 [==============================] - 2s 19ms/step - loss: 6.2114e-05 - mean_absolute_error: 0.0060 - val_loss: 2.3039e-04 - val_mean_absolute_error: 0.0121\n",
      "Epoch 70/100\n",
      "85/85 [==============================] - ETA: 0s - loss: 6.2165e-05 - mean_absolute_error: 0.0057\n",
      "Epoch 70: val_loss did not improve from 0.00020\n",
      "85/85 [==============================] - 2s 19ms/step - loss: 6.2165e-05 - mean_absolute_error: 0.0057 - val_loss: 2.5707e-04 - val_mean_absolute_error: 0.0131\n",
      "Epoch 71/100\n",
      "85/85 [==============================] - ETA: 0s - loss: 6.2019e-05 - mean_absolute_error: 0.0059\n",
      "Epoch 71: val_loss did not improve from 0.00020\n",
      "85/85 [==============================] - 1s 18ms/step - loss: 6.2019e-05 - mean_absolute_error: 0.0059 - val_loss: 3.0985e-04 - val_mean_absolute_error: 0.0144\n",
      "Epoch 72/100\n",
      "82/85 [===========================>..] - ETA: 0s - loss: 6.0695e-05 - mean_absolute_error: 0.0056\n",
      "Epoch 72: val_loss did not improve from 0.00020\n",
      "85/85 [==============================] - 2s 18ms/step - loss: 6.1066e-05 - mean_absolute_error: 0.0057 - val_loss: 2.4487e-04 - val_mean_absolute_error: 0.0119\n",
      "Epoch 73/100\n",
      "82/85 [===========================>..] - ETA: 0s - loss: 6.1672e-05 - mean_absolute_error: 0.0058\n",
      "Epoch 73: val_loss did not improve from 0.00020\n",
      "85/85 [==============================] - 2s 18ms/step - loss: 6.0699e-05 - mean_absolute_error: 0.0057 - val_loss: 1.9709e-04 - val_mean_absolute_error: 0.0107\n",
      "Epoch 74/100\n",
      "84/85 [============================>.] - ETA: 0s - loss: 5.6384e-05 - mean_absolute_error: 0.0055\n",
      "Epoch 74: val_loss did not improve from 0.00020\n",
      "85/85 [==============================] - 2s 19ms/step - loss: 5.6498e-05 - mean_absolute_error: 0.0056 - val_loss: 2.0923e-04 - val_mean_absolute_error: 0.0110\n",
      "Epoch 75/100\n",
      "85/85 [==============================] - ETA: 0s - loss: 6.1603e-05 - mean_absolute_error: 0.0058\n",
      "Epoch 75: val_loss did not improve from 0.00020\n",
      "85/85 [==============================] - 1s 17ms/step - loss: 6.1603e-05 - mean_absolute_error: 0.0058 - val_loss: 2.1588e-04 - val_mean_absolute_error: 0.0116\n",
      "Epoch 76/100\n",
      "83/85 [============================>.] - ETA: 0s - loss: 5.7354e-05 - mean_absolute_error: 0.0054\n",
      "Epoch 76: val_loss did not improve from 0.00020\n",
      "85/85 [==============================] - 1s 17ms/step - loss: 5.8333e-05 - mean_absolute_error: 0.0055 - val_loss: 3.1349e-04 - val_mean_absolute_error: 0.0146\n",
      "Epoch 77/100\n",
      "84/85 [============================>.] - ETA: 0s - loss: 5.6086e-05 - mean_absolute_error: 0.0057\n",
      "Epoch 77: val_loss did not improve from 0.00020\n",
      "85/85 [==============================] - 1s 17ms/step - loss: 5.5968e-05 - mean_absolute_error: 0.0057 - val_loss: 2.4563e-04 - val_mean_absolute_error: 0.0119\n",
      "Epoch 78/100\n",
      "85/85 [==============================] - ETA: 0s - loss: 5.4629e-05 - mean_absolute_error: 0.0055\n",
      "Epoch 78: val_loss did not improve from 0.00020\n",
      "85/85 [==============================] - 1s 17ms/step - loss: 5.4629e-05 - mean_absolute_error: 0.0055 - val_loss: 2.0303e-04 - val_mean_absolute_error: 0.0107\n",
      "Epoch 79/100\n",
      "85/85 [==============================] - ETA: 0s - loss: 5.8365e-05 - mean_absolute_error: 0.0059\n",
      "Epoch 79: val_loss did not improve from 0.00020\n",
      "85/85 [==============================] - 2s 18ms/step - loss: 5.8365e-05 - mean_absolute_error: 0.0059 - val_loss: 2.6400e-04 - val_mean_absolute_error: 0.0130\n",
      "Epoch 80/100\n",
      "84/85 [============================>.] - ETA: 0s - loss: 5.7360e-05 - mean_absolute_error: 0.0057\n",
      "Epoch 80: val_loss did not improve from 0.00020\n",
      "85/85 [==============================] - 2s 18ms/step - loss: 5.7248e-05 - mean_absolute_error: 0.0056 - val_loss: 2.2700e-04 - val_mean_absolute_error: 0.0120\n",
      "Epoch 81/100\n",
      "85/85 [==============================] - ETA: 0s - loss: 5.4870e-05 - mean_absolute_error: 0.0054\n",
      "Epoch 81: val_loss did not improve from 0.00020\n",
      "85/85 [==============================] - 2s 19ms/step - loss: 5.4870e-05 - mean_absolute_error: 0.0054 - val_loss: 2.2286e-04 - val_mean_absolute_error: 0.0119\n",
      "Epoch 82/100\n",
      "84/85 [============================>.] - ETA: 0s - loss: 5.5165e-05 - mean_absolute_error: 0.0055\n",
      "Epoch 82: val_loss did not improve from 0.00020\n",
      "85/85 [==============================] - 2s 21ms/step - loss: 5.5066e-05 - mean_absolute_error: 0.0055 - val_loss: 4.6659e-04 - val_mean_absolute_error: 0.0175\n",
      "Epoch 83/100\n",
      "84/85 [============================>.] - ETA: 0s - loss: 5.5626e-05 - mean_absolute_error: 0.0056\n",
      "Epoch 83: val_loss did not improve from 0.00020\n",
      "85/85 [==============================] - 2s 22ms/step - loss: 5.5653e-05 - mean_absolute_error: 0.0056 - val_loss: 3.3722e-04 - val_mean_absolute_error: 0.0141\n",
      "Epoch 84/100\n",
      "85/85 [==============================] - ETA: 0s - loss: 5.4143e-05 - mean_absolute_error: 0.0056\n",
      "Epoch 84: val_loss did not improve from 0.00020\n",
      "85/85 [==============================] - 2s 18ms/step - loss: 5.4143e-05 - mean_absolute_error: 0.0056 - val_loss: 0.0019 - val_mean_absolute_error: 0.0405\n",
      "Epoch 85/100\n",
      "85/85 [==============================] - ETA: 0s - loss: 5.9082e-05 - mean_absolute_error: 0.0057\n",
      "Epoch 85: val_loss did not improve from 0.00020\n",
      "85/85 [==============================] - 2s 21ms/step - loss: 5.9082e-05 - mean_absolute_error: 0.0057 - val_loss: 2.1095e-04 - val_mean_absolute_error: 0.0113\n",
      "Epoch 86/100\n",
      "84/85 [============================>.] - ETA: 0s - loss: 5.2862e-05 - mean_absolute_error: 0.0053\n",
      "Epoch 86: val_loss did not improve from 0.00020\n",
      "85/85 [==============================] - 2s 18ms/step - loss: 5.2755e-05 - mean_absolute_error: 0.0053 - val_loss: 4.7878e-04 - val_mean_absolute_error: 0.0174\n",
      "Epoch 87/100\n",
      "84/85 [============================>.] - ETA: 0s - loss: 5.6862e-05 - mean_absolute_error: 0.0055\n",
      "Epoch 87: val_loss did not improve from 0.00020\n",
      "85/85 [==============================] - 2s 18ms/step - loss: 5.6872e-05 - mean_absolute_error: 0.0056 - val_loss: 0.0015 - val_mean_absolute_error: 0.0365\n",
      "Epoch 88/100\n",
      "83/85 [============================>.] - ETA: 0s - loss: 6.0734e-05 - mean_absolute_error: 0.0057\n",
      "Epoch 88: val_loss did not improve from 0.00020\n",
      "85/85 [==============================] - 2s 18ms/step - loss: 6.0748e-05 - mean_absolute_error: 0.0056 - val_loss: 2.6954e-04 - val_mean_absolute_error: 0.0123\n",
      "Epoch 89/100\n",
      "83/85 [============================>.] - ETA: 0s - loss: 4.9469e-05 - mean_absolute_error: 0.0052\n",
      "Epoch 89: val_loss did not improve from 0.00020\n",
      "85/85 [==============================] - 2s 18ms/step - loss: 4.9923e-05 - mean_absolute_error: 0.0054 - val_loss: 0.0027 - val_mean_absolute_error: 0.0507\n",
      "Epoch 90/100\n",
      "85/85 [==============================] - ETA: 0s - loss: 5.5190e-05 - mean_absolute_error: 0.0053\n",
      "Epoch 90: val_loss did not improve from 0.00020\n",
      "85/85 [==============================] - 2s 18ms/step - loss: 5.5190e-05 - mean_absolute_error: 0.0053 - val_loss: 2.2481e-04 - val_mean_absolute_error: 0.0117\n",
      "Epoch 91/100\n",
      "82/85 [===========================>..] - ETA: 0s - loss: 5.1046e-05 - mean_absolute_error: 0.0054\n",
      "Epoch 91: val_loss did not improve from 0.00020\n",
      "85/85 [==============================] - 2s 18ms/step - loss: 5.0079e-05 - mean_absolute_error: 0.0053 - val_loss: 3.2331e-04 - val_mean_absolute_error: 0.0138\n",
      "Epoch 92/100\n",
      "83/85 [============================>.] - ETA: 0s - loss: 5.6936e-05 - mean_absolute_error: 0.0057\n",
      "Epoch 92: val_loss did not improve from 0.00020\n",
      "85/85 [==============================] - 2s 18ms/step - loss: 5.6379e-05 - mean_absolute_error: 0.0056 - val_loss: 2.4012e-04 - val_mean_absolute_error: 0.0115\n",
      "Epoch 93/100\n",
      "84/85 [============================>.] - ETA: 0s - loss: 5.3797e-05 - mean_absolute_error: 0.0053\n",
      "Epoch 93: val_loss did not improve from 0.00020\n",
      "85/85 [==============================] - 1s 18ms/step - loss: 5.3732e-05 - mean_absolute_error: 0.0053 - val_loss: 4.6702e-04 - val_mean_absolute_error: 0.0174\n"
     ]
    },
    {
     "data": {
      "application/javascript": "\n            setTimeout(function() {\n                var nbb_cell_id = 434;\n                var nbb_unformatted_code = \"history = compile_and_fit(model)\";\n                var nbb_formatted_code = \"history = compile_and_fit(model)\";\n                var nbb_cells = Jupyter.notebook.get_cells();\n                for (var i = 0; i < nbb_cells.length; ++i) {\n                    if (nbb_cells[i].input_prompt_number == nbb_cell_id) {\n                        if (nbb_cells[i].get_text() == nbb_unformatted_code) {\n                             nbb_cells[i].set_text(nbb_formatted_code);\n                        }\n                        break;\n                    }\n                }\n            }, 500);\n            ",
      "text/plain": [
       "<IPython.core.display.Javascript object>"
      ]
     },
     "metadata": {},
     "output_type": "display_data"
    }
   ],
   "source": [
    "history = compile_and_fit(model)\n"
   ]
  },
  {
   "cell_type": "code",
   "execution_count": 435,
   "metadata": {},
   "outputs": [
    {
     "name": "stdout",
     "output_type": "stream",
     "text": [
      "Model: \"sequential_5\"\n",
      "_________________________________________________________________\n",
      " Layer (type)                Output Shape              Param #   \n",
      "=================================================================\n",
      " LSTM (LSTM)                 (None, 64)                18688     \n",
      "                                                                 \n",
      " Output (Dense)              (None, 1)                 65        \n",
      "                                                                 \n",
      "=================================================================\n",
      "Total params: 18,753\n",
      "Trainable params: 18,753\n",
      "Non-trainable params: 0\n",
      "_________________________________________________________________\n"
     ]
    },
    {
     "data": {
      "application/javascript": "\n            setTimeout(function() {\n                var nbb_cell_id = 435;\n                var nbb_unformatted_code = \"model.summary()\";\n                var nbb_formatted_code = \"model.summary()\";\n                var nbb_cells = Jupyter.notebook.get_cells();\n                for (var i = 0; i < nbb_cells.length; ++i) {\n                    if (nbb_cells[i].input_prompt_number == nbb_cell_id) {\n                        if (nbb_cells[i].get_text() == nbb_unformatted_code) {\n                             nbb_cells[i].set_text(nbb_formatted_code);\n                        }\n                        break;\n                    }\n                }\n            }, 500);\n            ",
      "text/plain": [
       "<IPython.core.display.Javascript object>"
      ]
     },
     "metadata": {},
     "output_type": "display_data"
    }
   ],
   "source": [
    "model.summary()"
   ]
  },
  {
   "cell_type": "code",
   "execution_count": 436,
   "metadata": {},
   "outputs": [
    {
     "name": "stdout",
     "output_type": "stream",
     "text": [
      "2694\n",
      "244\n"
     ]
    },
    {
     "data": {
      "application/javascript": "\n            setTimeout(function() {\n                var nbb_cell_id = 436;\n                var nbb_unformatted_code = \"train_predict_scaled = model.predict(Xtrain).squeeze()\\ntest_predict_scaled = model.predict(Xtest).squeeze()\\n\\nprint(len(train_predict_scaled))\\nprint(len(test_predict_scaled))\";\n                var nbb_formatted_code = \"train_predict_scaled = model.predict(Xtrain).squeeze()\\ntest_predict_scaled = model.predict(Xtest).squeeze()\\n\\nprint(len(train_predict_scaled))\\nprint(len(test_predict_scaled))\";\n                var nbb_cells = Jupyter.notebook.get_cells();\n                for (var i = 0; i < nbb_cells.length; ++i) {\n                    if (nbb_cells[i].input_prompt_number == nbb_cell_id) {\n                        if (nbb_cells[i].get_text() == nbb_unformatted_code) {\n                             nbb_cells[i].set_text(nbb_formatted_code);\n                        }\n                        break;\n                    }\n                }\n            }, 500);\n            ",
      "text/plain": [
       "<IPython.core.display.Javascript object>"
      ]
     },
     "metadata": {},
     "output_type": "display_data"
    }
   ],
   "source": [
    "train_predict_scaled = model.predict(Xtrain).squeeze()\n",
    "test_predict_scaled = model.predict(Xtest).squeeze()\n",
    "\n",
    "print(len(train_predict_scaled))\n",
    "print(len(test_predict_scaled))"
   ]
  },
  {
   "cell_type": "code",
   "execution_count": 437,
   "metadata": {},
   "outputs": [
    {
     "name": "stdout",
     "output_type": "stream",
     "text": [
      "85/85 [==============================] - 1s 9ms/step - loss: 3.6654e-05 - mean_absolute_error: 0.0047\n"
     ]
    },
    {
     "data": {
      "text/plain": [
       "[3.665448821266182e-05, 0.004748965613543987]"
      ]
     },
     "execution_count": 437,
     "metadata": {},
     "output_type": "execute_result"
    },
    {
     "data": {
      "application/javascript": "\n            setTimeout(function() {\n                var nbb_cell_id = 437;\n                var nbb_unformatted_code = \"model.evaluate(Xtrain, ytrain)\";\n                var nbb_formatted_code = \"model.evaluate(Xtrain, ytrain)\";\n                var nbb_cells = Jupyter.notebook.get_cells();\n                for (var i = 0; i < nbb_cells.length; ++i) {\n                    if (nbb_cells[i].input_prompt_number == nbb_cell_id) {\n                        if (nbb_cells[i].get_text() == nbb_unformatted_code) {\n                             nbb_cells[i].set_text(nbb_formatted_code);\n                        }\n                        break;\n                    }\n                }\n            }, 500);\n            ",
      "text/plain": [
       "<IPython.core.display.Javascript object>"
      ]
     },
     "metadata": {},
     "output_type": "display_data"
    }
   ],
   "source": [
    "model.evaluate(Xtrain, ytrain)"
   ]
  },
  {
   "cell_type": "code",
   "execution_count": 438,
   "metadata": {},
   "outputs": [
    {
     "name": "stdout",
     "output_type": "stream",
     "text": [
      "8/8 [==============================] - 0s 18ms/step - loss: 1.9578e-04 - mean_absolute_error: 0.0106\n"
     ]
    },
    {
     "data": {
      "text/plain": [
       "[0.0001957753556780517, 0.010621631518006325]"
      ]
     },
     "execution_count": 438,
     "metadata": {},
     "output_type": "execute_result"
    },
    {
     "data": {
      "application/javascript": "\n            setTimeout(function() {\n                var nbb_cell_id = 438;\n                var nbb_unformatted_code = \"model.evaluate(Xtest, ytest)\";\n                var nbb_formatted_code = \"model.evaluate(Xtest, ytest)\";\n                var nbb_cells = Jupyter.notebook.get_cells();\n                for (var i = 0; i < nbb_cells.length; ++i) {\n                    if (nbb_cells[i].input_prompt_number == nbb_cell_id) {\n                        if (nbb_cells[i].get_text() == nbb_unformatted_code) {\n                             nbb_cells[i].set_text(nbb_formatted_code);\n                        }\n                        break;\n                    }\n                }\n            }, 500);\n            ",
      "text/plain": [
       "<IPython.core.display.Javascript object>"
      ]
     },
     "metadata": {},
     "output_type": "display_data"
    }
   ],
   "source": [
    "model.evaluate(Xtest, ytest)"
   ]
  },
  {
   "cell_type": "code",
   "execution_count": 439,
   "metadata": {},
   "outputs": [
    {
     "data": {
      "application/javascript": "\n            setTimeout(function() {\n                var nbb_cell_id = 439;\n                var nbb_unformatted_code = \"from sklearn.metrics import mean_absolute_error\";\n                var nbb_formatted_code = \"from sklearn.metrics import mean_absolute_error\";\n                var nbb_cells = Jupyter.notebook.get_cells();\n                for (var i = 0; i < nbb_cells.length; ++i) {\n                    if (nbb_cells[i].input_prompt_number == nbb_cell_id) {\n                        if (nbb_cells[i].get_text() == nbb_unformatted_code) {\n                             nbb_cells[i].set_text(nbb_formatted_code);\n                        }\n                        break;\n                    }\n                }\n            }, 500);\n            ",
      "text/plain": [
       "<IPython.core.display.Javascript object>"
      ]
     },
     "metadata": {},
     "output_type": "display_data"
    }
   ],
   "source": [
    "from sklearn.metrics import mean_absolute_error"
   ]
  },
  {
   "cell_type": "code",
   "execution_count": 440,
   "metadata": {},
   "outputs": [
    {
     "name": "stdout",
     "output_type": "stream",
     "text": [
      "Train Score: 0.0047 MAE\n",
      "Test Score: 0.0104 MAE\n"
     ]
    },
    {
     "data": {
      "application/javascript": "\n            setTimeout(function() {\n                var nbb_cell_id = 440;\n                var nbb_unformatted_code = \"# calculate mean absolute error\\ntrainScore = mean_absolute_error(ytrain, train_predict_scaled)\\nprint(\\\"Train Score: %.4f MAE\\\" % (trainScore))\\n\\ntestScore = mean_absolute_error(ytest, test_predict_scaled)\\nprint(\\\"Test Score: %.4f MAE\\\" % (testScore))\";\n                var nbb_formatted_code = \"# calculate mean absolute error\\ntrainScore = mean_absolute_error(ytrain, train_predict_scaled)\\nprint(\\\"Train Score: %.4f MAE\\\" % (trainScore))\\n\\ntestScore = mean_absolute_error(ytest, test_predict_scaled)\\nprint(\\\"Test Score: %.4f MAE\\\" % (testScore))\";\n                var nbb_cells = Jupyter.notebook.get_cells();\n                for (var i = 0; i < nbb_cells.length; ++i) {\n                    if (nbb_cells[i].input_prompt_number == nbb_cell_id) {\n                        if (nbb_cells[i].get_text() == nbb_unformatted_code) {\n                             nbb_cells[i].set_text(nbb_formatted_code);\n                        }\n                        break;\n                    }\n                }\n            }, 500);\n            ",
      "text/plain": [
       "<IPython.core.display.Javascript object>"
      ]
     },
     "metadata": {},
     "output_type": "display_data"
    }
   ],
   "source": [
    "# calculate mean absolute error\n",
    "trainScore = mean_absolute_error(ytrain, train_predict_scaled)\n",
    "print(\"Train Score: %.4f MAE\" % (trainScore))\n",
    "\n",
    "testScore = mean_absolute_error(ytest, test_predict_scaled)\n",
    "print(\"Test Score: %.4f MAE\" % (testScore))"
   ]
  },
  {
   "cell_type": "code",
   "execution_count": 441,
   "metadata": {},
   "outputs": [
    {
     "data": {
      "application/javascript": "\n            setTimeout(function() {\n                var nbb_cell_id = 441;\n                var nbb_unformatted_code = \"_ = np.array(train_predict_scaled)\\n\\nif len(feature_list) == 1:\\n    _ = np.c_[_]\\n\\nelif len(feature_list) == 2:\\n    _ = np.c_[_, np.zeros(_.shape)]\\n\\nelif len(feature_list) == 3:\\n    _ = np.c_[_, np.zeros(_.shape), np.zeros(_.shape)]\\n\\nelif len(feature_list) == 4:\\n    _ = np.c_[_, np.zeros(_.shape), np.zeros(_.shape), np.zeros(_.shape)]\\n\\nelif len(feature_list) == 5:\\n    _ = np.c_[_, np.zeros(_.shape), np.zeros(_.shape), np.zeros(_.shape), np.zeros(_.shape)]\\n\\nelif len(feature_list) == 6:\\n    _ = np.c_[_, np.zeros(_.shape), np.zeros(_.shape), np.zeros(_.shape), np.zeros(_.shape), np.zeros(_.shape)]\\n\\nelif len(feature_list) == 7:\\n    _ = np.c_[_, np.zeros(_.shape), np.zeros(_.shape), np.zeros(_.shape), np.zeros(_.shape), np.zeros(_.shape), np.zeros(_.shape)]    \\n\\nelif len(feature_list) == 8:\\n    _ = np.c_[_, np.zeros(_.shape), np.zeros(_.shape), np.zeros(_.shape), np.zeros(_.shape), np.zeros(_.shape), np.zeros(_.shape), np.zeros(_.shape)]    \";\n                var nbb_formatted_code = \"_ = np.array(train_predict_scaled)\\n\\nif len(feature_list) == 1:\\n    _ = np.c_[_]\\n\\nelif len(feature_list) == 2:\\n    _ = np.c_[_, np.zeros(_.shape)]\\n\\nelif len(feature_list) == 3:\\n    _ = np.c_[_, np.zeros(_.shape), np.zeros(_.shape)]\\n\\nelif len(feature_list) == 4:\\n    _ = np.c_[_, np.zeros(_.shape), np.zeros(_.shape), np.zeros(_.shape)]\\n\\nelif len(feature_list) == 5:\\n    _ = np.c_[\\n        _, np.zeros(_.shape), np.zeros(_.shape), np.zeros(_.shape), np.zeros(_.shape)\\n    ]\\n\\nelif len(feature_list) == 6:\\n    _ = np.c_[\\n        _,\\n        np.zeros(_.shape),\\n        np.zeros(_.shape),\\n        np.zeros(_.shape),\\n        np.zeros(_.shape),\\n        np.zeros(_.shape),\\n    ]\\n\\nelif len(feature_list) == 7:\\n    _ = np.c_[\\n        _,\\n        np.zeros(_.shape),\\n        np.zeros(_.shape),\\n        np.zeros(_.shape),\\n        np.zeros(_.shape),\\n        np.zeros(_.shape),\\n        np.zeros(_.shape),\\n    ]\\n\\nelif len(feature_list) == 8:\\n    _ = np.c_[\\n        _,\\n        np.zeros(_.shape),\\n        np.zeros(_.shape),\\n        np.zeros(_.shape),\\n        np.zeros(_.shape),\\n        np.zeros(_.shape),\\n        np.zeros(_.shape),\\n        np.zeros(_.shape),\\n    ]\";\n                var nbb_cells = Jupyter.notebook.get_cells();\n                for (var i = 0; i < nbb_cells.length; ++i) {\n                    if (nbb_cells[i].input_prompt_number == nbb_cell_id) {\n                        if (nbb_cells[i].get_text() == nbb_unformatted_code) {\n                             nbb_cells[i].set_text(nbb_formatted_code);\n                        }\n                        break;\n                    }\n                }\n            }, 500);\n            ",
      "text/plain": [
       "<IPython.core.display.Javascript object>"
      ]
     },
     "metadata": {},
     "output_type": "display_data"
    }
   ],
   "source": [
    "_ = np.array(train_predict_scaled)\n",
    "\n",
    "if len(feature_list) == 1:\n",
    "    _ = np.c_[_]\n",
    "\n",
    "elif len(feature_list) == 2:\n",
    "    _ = np.c_[_, np.zeros(_.shape)]\n",
    "\n",
    "elif len(feature_list) == 3:\n",
    "    _ = np.c_[_, np.zeros(_.shape), np.zeros(_.shape)]\n",
    "\n",
    "elif len(feature_list) == 4:\n",
    "    _ = np.c_[_, np.zeros(_.shape), np.zeros(_.shape), np.zeros(_.shape)]\n",
    "\n",
    "elif len(feature_list) == 5:\n",
    "    _ = np.c_[_, np.zeros(_.shape), np.zeros(_.shape), np.zeros(_.shape), np.zeros(_.shape)]\n",
    "\n",
    "elif len(feature_list) == 6:\n",
    "    _ = np.c_[_, np.zeros(_.shape), np.zeros(_.shape), np.zeros(_.shape), np.zeros(_.shape), np.zeros(_.shape)]\n",
    "\n",
    "elif len(feature_list) == 7:\n",
    "    _ = np.c_[_, np.zeros(_.shape), np.zeros(_.shape), np.zeros(_.shape), np.zeros(_.shape), np.zeros(_.shape), np.zeros(_.shape)]    \n",
    "\n",
    "elif len(feature_list) == 8:\n",
    "    _ = np.c_[_, np.zeros(_.shape), np.zeros(_.shape), np.zeros(_.shape), np.zeros(_.shape), np.zeros(_.shape), np.zeros(_.shape), np.zeros(_.shape)]    "
   ]
  },
  {
   "cell_type": "code",
   "execution_count": 442,
   "metadata": {},
   "outputs": [
    {
     "data": {
      "application/javascript": "\n            setTimeout(function() {\n                var nbb_cell_id = 442;\n                var nbb_unformatted_code = \"_train_predict_scaled = scaler.inverse_transform(_)\";\n                var nbb_formatted_code = \"_train_predict_scaled = scaler.inverse_transform(_)\";\n                var nbb_cells = Jupyter.notebook.get_cells();\n                for (var i = 0; i < nbb_cells.length; ++i) {\n                    if (nbb_cells[i].input_prompt_number == nbb_cell_id) {\n                        if (nbb_cells[i].get_text() == nbb_unformatted_code) {\n                             nbb_cells[i].set_text(nbb_formatted_code);\n                        }\n                        break;\n                    }\n                }\n            }, 500);\n            ",
      "text/plain": [
       "<IPython.core.display.Javascript object>"
      ]
     },
     "metadata": {},
     "output_type": "display_data"
    }
   ],
   "source": [
    "_train_predict_scaled = scaler.inverse_transform(_)"
   ]
  },
  {
   "cell_type": "code",
   "execution_count": 443,
   "metadata": {},
   "outputs": [
    {
     "data": {
      "text/plain": [
       "8.19275146621302"
      ]
     },
     "execution_count": 443,
     "metadata": {},
     "output_type": "execute_result"
    },
    {
     "data": {
      "application/javascript": "\n            setTimeout(function() {\n                var nbb_cell_id = 443;\n                var nbb_unformatted_code = \"_train_predict_scaled[0][0]\";\n                var nbb_formatted_code = \"_train_predict_scaled[0][0]\";\n                var nbb_cells = Jupyter.notebook.get_cells();\n                for (var i = 0; i < nbb_cells.length; ++i) {\n                    if (nbb_cells[i].input_prompt_number == nbb_cell_id) {\n                        if (nbb_cells[i].get_text() == nbb_unformatted_code) {\n                             nbb_cells[i].set_text(nbb_formatted_code);\n                        }\n                        break;\n                    }\n                }\n            }, 500);\n            ",
      "text/plain": [
       "<IPython.core.display.Javascript object>"
      ]
     },
     "metadata": {},
     "output_type": "display_data"
    }
   ],
   "source": [
    "_train_predict_scaled[0][0]"
   ]
  },
  {
   "cell_type": "code",
   "execution_count": 444,
   "metadata": {},
   "outputs": [
    {
     "data": {
      "application/javascript": "\n            setTimeout(function() {\n                var nbb_cell_id = 444;\n                var nbb_unformatted_code = \"train_predict_rescaled = np.zeros([2694,], dtype='float32')\";\n                var nbb_formatted_code = \"train_predict_rescaled = np.zeros(\\n    [\\n        2694,\\n    ],\\n    dtype=\\\"float32\\\",\\n)\";\n                var nbb_cells = Jupyter.notebook.get_cells();\n                for (var i = 0; i < nbb_cells.length; ++i) {\n                    if (nbb_cells[i].input_prompt_number == nbb_cell_id) {\n                        if (nbb_cells[i].get_text() == nbb_unformatted_code) {\n                             nbb_cells[i].set_text(nbb_formatted_code);\n                        }\n                        break;\n                    }\n                }\n            }, 500);\n            ",
      "text/plain": [
       "<IPython.core.display.Javascript object>"
      ]
     },
     "metadata": {},
     "output_type": "display_data"
    }
   ],
   "source": [
    "train_predict_rescaled = np.zeros([2694,], dtype='float32')"
   ]
  },
  {
   "cell_type": "code",
   "execution_count": 445,
   "metadata": {},
   "outputs": [
    {
     "data": {
      "application/javascript": "\n            setTimeout(function() {\n                var nbb_cell_id = 445;\n                var nbb_unformatted_code = \"for i, x in enumerate(_train_predict_scaled):\\n    train_predict_rescaled[i] = x[0]\";\n                var nbb_formatted_code = \"for i, x in enumerate(_train_predict_scaled):\\n    train_predict_rescaled[i] = x[0]\";\n                var nbb_cells = Jupyter.notebook.get_cells();\n                for (var i = 0; i < nbb_cells.length; ++i) {\n                    if (nbb_cells[i].input_prompt_number == nbb_cell_id) {\n                        if (nbb_cells[i].get_text() == nbb_unformatted_code) {\n                             nbb_cells[i].set_text(nbb_formatted_code);\n                        }\n                        break;\n                    }\n                }\n            }, 500);\n            ",
      "text/plain": [
       "<IPython.core.display.Javascript object>"
      ]
     },
     "metadata": {},
     "output_type": "display_data"
    }
   ],
   "source": [
    "for i, x in enumerate(_train_predict_scaled):\n",
    "    train_predict_rescaled[i] = x[0]"
   ]
  },
  {
   "cell_type": "code",
   "execution_count": 446,
   "metadata": {},
   "outputs": [
    {
     "data": {
      "application/javascript": "\n            setTimeout(function() {\n                var nbb_cell_id = 446;\n                var nbb_unformatted_code = \"train_predict_rescaled = pd.Series(train_predict_rescaled, index=df.iloc[63:split].index)\";\n                var nbb_formatted_code = \"train_predict_rescaled = pd.Series(\\n    train_predict_rescaled, index=df.iloc[63:split].index\\n)\";\n                var nbb_cells = Jupyter.notebook.get_cells();\n                for (var i = 0; i < nbb_cells.length; ++i) {\n                    if (nbb_cells[i].input_prompt_number == nbb_cell_id) {\n                        if (nbb_cells[i].get_text() == nbb_unformatted_code) {\n                             nbb_cells[i].set_text(nbb_formatted_code);\n                        }\n                        break;\n                    }\n                }\n            }, 500);\n            ",
      "text/plain": [
       "<IPython.core.display.Javascript object>"
      ]
     },
     "metadata": {},
     "output_type": "display_data"
    }
   ],
   "source": [
    "train_predict_rescaled = pd.Series(train_predict_rescaled, index=df.iloc[63:split].index)\n"
   ]
  },
  {
   "cell_type": "code",
   "execution_count": 447,
   "metadata": {},
   "outputs": [
    {
     "data": {
      "application/javascript": "\n            setTimeout(function() {\n                var nbb_cell_id = 447;\n                var nbb_unformatted_code = \"_ = np.array(test_predict_scaled)\\n\\n\\nif len(feature_list) == 1:\\n    _ = np.c_[_]\\n\\nelif len(feature_list) == 2:\\n    _ = np.c_[_, np.zeros(_.shape)]\\n\\nelif len(feature_list) == 3:\\n    _ = np.c_[_, np.zeros(_.shape), np.zeros(_.shape)]\\n\\nelif len(feature_list) == 4:\\n    _ = np.c_[_, np.zeros(_.shape), np.zeros(_.shape), np.zeros(_.shape)]\\n\\nelif len(feature_list) == 5:\\n    _ = np.c_[_, np.zeros(_.shape), np.zeros(_.shape), np.zeros(_.shape), np.zeros(_.shape)]\\n\\nelif len(feature_list) == 6:\\n    _ = np.c_[_, np.zeros(_.shape), np.zeros(_.shape), np.zeros(_.shape), np.zeros(_.shape), np.zeros(_.shape)]\\n\\nelif len(feature_list) == 7:\\n    _ = np.c_[_, np.zeros(_.shape), np.zeros(_.shape), np.zeros(_.shape), np.zeros(_.shape), np.zeros(_.shape), np.zeros(_.shape)]    \\n\\nelif len(feature_list) == 8:\\n    _ = np.c_[_, np.zeros(_.shape), np.zeros(_.shape), np.zeros(_.shape), np.zeros(_.shape), np.zeros(_.shape), np.zeros(_.shape), np.zeros(_.shape)]    \";\n                var nbb_formatted_code = \"_ = np.array(test_predict_scaled)\\n\\n\\nif len(feature_list) == 1:\\n    _ = np.c_[_]\\n\\nelif len(feature_list) == 2:\\n    _ = np.c_[_, np.zeros(_.shape)]\\n\\nelif len(feature_list) == 3:\\n    _ = np.c_[_, np.zeros(_.shape), np.zeros(_.shape)]\\n\\nelif len(feature_list) == 4:\\n    _ = np.c_[_, np.zeros(_.shape), np.zeros(_.shape), np.zeros(_.shape)]\\n\\nelif len(feature_list) == 5:\\n    _ = np.c_[\\n        _, np.zeros(_.shape), np.zeros(_.shape), np.zeros(_.shape), np.zeros(_.shape)\\n    ]\\n\\nelif len(feature_list) == 6:\\n    _ = np.c_[\\n        _,\\n        np.zeros(_.shape),\\n        np.zeros(_.shape),\\n        np.zeros(_.shape),\\n        np.zeros(_.shape),\\n        np.zeros(_.shape),\\n    ]\\n\\nelif len(feature_list) == 7:\\n    _ = np.c_[\\n        _,\\n        np.zeros(_.shape),\\n        np.zeros(_.shape),\\n        np.zeros(_.shape),\\n        np.zeros(_.shape),\\n        np.zeros(_.shape),\\n        np.zeros(_.shape),\\n    ]\\n\\nelif len(feature_list) == 8:\\n    _ = np.c_[\\n        _,\\n        np.zeros(_.shape),\\n        np.zeros(_.shape),\\n        np.zeros(_.shape),\\n        np.zeros(_.shape),\\n        np.zeros(_.shape),\\n        np.zeros(_.shape),\\n        np.zeros(_.shape),\\n    ]\";\n                var nbb_cells = Jupyter.notebook.get_cells();\n                for (var i = 0; i < nbb_cells.length; ++i) {\n                    if (nbb_cells[i].input_prompt_number == nbb_cell_id) {\n                        if (nbb_cells[i].get_text() == nbb_unformatted_code) {\n                             nbb_cells[i].set_text(nbb_formatted_code);\n                        }\n                        break;\n                    }\n                }\n            }, 500);\n            ",
      "text/plain": [
       "<IPython.core.display.Javascript object>"
      ]
     },
     "metadata": {},
     "output_type": "display_data"
    }
   ],
   "source": [
    "_ = np.array(test_predict_scaled)\n",
    "\n",
    "\n",
    "if len(feature_list) == 1:\n",
    "    _ = np.c_[_]\n",
    "\n",
    "elif len(feature_list) == 2:\n",
    "    _ = np.c_[_, np.zeros(_.shape)]\n",
    "\n",
    "elif len(feature_list) == 3:\n",
    "    _ = np.c_[_, np.zeros(_.shape), np.zeros(_.shape)]\n",
    "\n",
    "elif len(feature_list) == 4:\n",
    "    _ = np.c_[_, np.zeros(_.shape), np.zeros(_.shape), np.zeros(_.shape)]\n",
    "\n",
    "elif len(feature_list) == 5:\n",
    "    _ = np.c_[_, np.zeros(_.shape), np.zeros(_.shape), np.zeros(_.shape), np.zeros(_.shape)]\n",
    "\n",
    "elif len(feature_list) == 6:\n",
    "    _ = np.c_[_, np.zeros(_.shape), np.zeros(_.shape), np.zeros(_.shape), np.zeros(_.shape), np.zeros(_.shape)]\n",
    "\n",
    "elif len(feature_list) == 7:\n",
    "    _ = np.c_[_, np.zeros(_.shape), np.zeros(_.shape), np.zeros(_.shape), np.zeros(_.shape), np.zeros(_.shape), np.zeros(_.shape)]    \n",
    "\n",
    "elif len(feature_list) == 8:\n",
    "    _ = np.c_[_, np.zeros(_.shape), np.zeros(_.shape), np.zeros(_.shape), np.zeros(_.shape), np.zeros(_.shape), np.zeros(_.shape), np.zeros(_.shape)]    "
   ]
  },
  {
   "cell_type": "code",
   "execution_count": 448,
   "metadata": {},
   "outputs": [
    {
     "data": {
      "application/javascript": "\n            setTimeout(function() {\n                var nbb_cell_id = 448;\n                var nbb_unformatted_code = \"_test_predict_scaled = scaler.inverse_transform(_)\";\n                var nbb_formatted_code = \"_test_predict_scaled = scaler.inverse_transform(_)\";\n                var nbb_cells = Jupyter.notebook.get_cells();\n                for (var i = 0; i < nbb_cells.length; ++i) {\n                    if (nbb_cells[i].input_prompt_number == nbb_cell_id) {\n                        if (nbb_cells[i].get_text() == nbb_unformatted_code) {\n                             nbb_cells[i].set_text(nbb_formatted_code);\n                        }\n                        break;\n                    }\n                }\n            }, 500);\n            ",
      "text/plain": [
       "<IPython.core.display.Javascript object>"
      ]
     },
     "metadata": {},
     "output_type": "display_data"
    }
   ],
   "source": [
    "_test_predict_scaled = scaler.inverse_transform(_)"
   ]
  },
  {
   "cell_type": "code",
   "execution_count": 449,
   "metadata": {},
   "outputs": [
    {
     "data": {
      "text/plain": [
       "123.90590859616191"
      ]
     },
     "execution_count": 449,
     "metadata": {},
     "output_type": "execute_result"
    },
    {
     "data": {
      "application/javascript": "\n            setTimeout(function() {\n                var nbb_cell_id = 449;\n                var nbb_unformatted_code = \"_test_predict_scaled[0][0]\";\n                var nbb_formatted_code = \"_test_predict_scaled[0][0]\";\n                var nbb_cells = Jupyter.notebook.get_cells();\n                for (var i = 0; i < nbb_cells.length; ++i) {\n                    if (nbb_cells[i].input_prompt_number == nbb_cell_id) {\n                        if (nbb_cells[i].get_text() == nbb_unformatted_code) {\n                             nbb_cells[i].set_text(nbb_formatted_code);\n                        }\n                        break;\n                    }\n                }\n            }, 500);\n            ",
      "text/plain": [
       "<IPython.core.display.Javascript object>"
      ]
     },
     "metadata": {},
     "output_type": "display_data"
    }
   ],
   "source": [
    "_test_predict_scaled[0][0]"
   ]
  },
  {
   "cell_type": "code",
   "execution_count": 450,
   "metadata": {},
   "outputs": [
    {
     "data": {
      "application/javascript": "\n            setTimeout(function() {\n                var nbb_cell_id = 450;\n                var nbb_unformatted_code = \"test_predict_rescaled = np.zeros([244,], dtype='float32')\";\n                var nbb_formatted_code = \"test_predict_rescaled = np.zeros(\\n    [\\n        244,\\n    ],\\n    dtype=\\\"float32\\\",\\n)\";\n                var nbb_cells = Jupyter.notebook.get_cells();\n                for (var i = 0; i < nbb_cells.length; ++i) {\n                    if (nbb_cells[i].input_prompt_number == nbb_cell_id) {\n                        if (nbb_cells[i].get_text() == nbb_unformatted_code) {\n                             nbb_cells[i].set_text(nbb_formatted_code);\n                        }\n                        break;\n                    }\n                }\n            }, 500);\n            ",
      "text/plain": [
       "<IPython.core.display.Javascript object>"
      ]
     },
     "metadata": {},
     "output_type": "display_data"
    }
   ],
   "source": [
    "test_predict_rescaled = np.zeros([244,], dtype='float32')"
   ]
  },
  {
   "cell_type": "code",
   "execution_count": 451,
   "metadata": {},
   "outputs": [
    {
     "data": {
      "application/javascript": "\n            setTimeout(function() {\n                var nbb_cell_id = 451;\n                var nbb_unformatted_code = \"for i, x in enumerate(_test_predict_scaled):\\n    test_predict_rescaled[i] = x[0]\";\n                var nbb_formatted_code = \"for i, x in enumerate(_test_predict_scaled):\\n    test_predict_rescaled[i] = x[0]\";\n                var nbb_cells = Jupyter.notebook.get_cells();\n                for (var i = 0; i < nbb_cells.length; ++i) {\n                    if (nbb_cells[i].input_prompt_number == nbb_cell_id) {\n                        if (nbb_cells[i].get_text() == nbb_unformatted_code) {\n                             nbb_cells[i].set_text(nbb_formatted_code);\n                        }\n                        break;\n                    }\n                }\n            }, 500);\n            ",
      "text/plain": [
       "<IPython.core.display.Javascript object>"
      ]
     },
     "metadata": {},
     "output_type": "display_data"
    }
   ],
   "source": [
    "for i, x in enumerate(_test_predict_scaled):\n",
    "    test_predict_rescaled[i] = x[0]"
   ]
  },
  {
   "cell_type": "code",
   "execution_count": 452,
   "metadata": {},
   "outputs": [
    {
     "data": {
      "application/javascript": "\n            setTimeout(function() {\n                var nbb_cell_id = 452;\n                var nbb_unformatted_code = \"test_predict_rescaled = pd.Series(test_predict_rescaled, index=df.iloc[split+63:].index)\";\n                var nbb_formatted_code = \"test_predict_rescaled = pd.Series(\\n    test_predict_rescaled, index=df.iloc[split + 63 :].index\\n)\";\n                var nbb_cells = Jupyter.notebook.get_cells();\n                for (var i = 0; i < nbb_cells.length; ++i) {\n                    if (nbb_cells[i].input_prompt_number == nbb_cell_id) {\n                        if (nbb_cells[i].get_text() == nbb_unformatted_code) {\n                             nbb_cells[i].set_text(nbb_formatted_code);\n                        }\n                        break;\n                    }\n                }\n            }, 500);\n            ",
      "text/plain": [
       "<IPython.core.display.Javascript object>"
      ]
     },
     "metadata": {},
     "output_type": "display_data"
    }
   ],
   "source": [
    "test_predict_rescaled = pd.Series(test_predict_rescaled, index=df.iloc[split+63:].index)"
   ]
  },
  {
   "cell_type": "code",
   "execution_count": 474,
   "metadata": {},
   "outputs": [
    {
     "data": {
      "application/javascript": "\n            setTimeout(function() {\n                var nbb_cell_id = 474;\n                var nbb_unformatted_code = \"df_compare = df.iloc[-244:].copy()\";\n                var nbb_formatted_code = \"df_compare = df.iloc[-244:].copy()\";\n                var nbb_cells = Jupyter.notebook.get_cells();\n                for (var i = 0; i < nbb_cells.length; ++i) {\n                    if (nbb_cells[i].input_prompt_number == nbb_cell_id) {\n                        if (nbb_cells[i].get_text() == nbb_unformatted_code) {\n                             nbb_cells[i].set_text(nbb_formatted_code);\n                        }\n                        break;\n                    }\n                }\n            }, 500);\n            ",
      "text/plain": [
       "<IPython.core.display.Javascript object>"
      ]
     },
     "metadata": {},
     "output_type": "display_data"
    }
   ],
   "source": [
    "df_compare = df.iloc[-244:].copy()"
   ]
  },
  {
   "cell_type": "code",
   "execution_count": 475,
   "metadata": {},
   "outputs": [
    {
     "data": {
      "application/javascript": "\n            setTimeout(function() {\n                var nbb_cell_id = 475;\n                var nbb_unformatted_code = \"df_compare[\\\"preds\\\"] = test_predict_rescaled\";\n                var nbb_formatted_code = \"df_compare[\\\"preds\\\"] = test_predict_rescaled\";\n                var nbb_cells = Jupyter.notebook.get_cells();\n                for (var i = 0; i < nbb_cells.length; ++i) {\n                    if (nbb_cells[i].input_prompt_number == nbb_cell_id) {\n                        if (nbb_cells[i].get_text() == nbb_unformatted_code) {\n                             nbb_cells[i].set_text(nbb_formatted_code);\n                        }\n                        break;\n                    }\n                }\n            }, 500);\n            ",
      "text/plain": [
       "<IPython.core.display.Javascript object>"
      ]
     },
     "metadata": {},
     "output_type": "display_data"
    }
   ],
   "source": [
    "df_compare[\"preds\"] = test_predict_rescaled"
   ]
  },
  {
   "cell_type": "code",
   "execution_count": 476,
   "metadata": {},
   "outputs": [
    {
     "data": {
      "text/plain": [
       "Index(['1. open', '2. high', '3. low', '4. close', '5. adjusted close',\n",
       "       '6. volume', '7. dividend amount', '8. split coefficient', 'date_time',\n",
       "       'day_of_week', 'return', 'increase', 'log_return', 'negative',\n",
       "       'nuetral', 'positive', 'preds'],\n",
       "      dtype='object')"
      ]
     },
     "execution_count": 476,
     "metadata": {},
     "output_type": "execute_result"
    },
    {
     "data": {
      "application/javascript": "\n            setTimeout(function() {\n                var nbb_cell_id = 476;\n                var nbb_unformatted_code = \"df_compare.columns\";\n                var nbb_formatted_code = \"df_compare.columns\";\n                var nbb_cells = Jupyter.notebook.get_cells();\n                for (var i = 0; i < nbb_cells.length; ++i) {\n                    if (nbb_cells[i].input_prompt_number == nbb_cell_id) {\n                        if (nbb_cells[i].get_text() == nbb_unformatted_code) {\n                             nbb_cells[i].set_text(nbb_formatted_code);\n                        }\n                        break;\n                    }\n                }\n            }, 500);\n            ",
      "text/plain": [
       "<IPython.core.display.Javascript object>"
      ]
     },
     "metadata": {},
     "output_type": "display_data"
    }
   ],
   "source": [
    "df_compare.columns"
   ]
  },
  {
   "cell_type": "code",
   "execution_count": 477,
   "metadata": {},
   "outputs": [
    {
     "data": {
      "application/javascript": "\n            setTimeout(function() {\n                var nbb_cell_id = 477;\n                var nbb_unformatted_code = \"df_compare = df_compare[['5. adjusted close', 'preds', 'return', 'increase']].copy()\";\n                var nbb_formatted_code = \"df_compare = df_compare[[\\\"5. adjusted close\\\", \\\"preds\\\", \\\"return\\\", \\\"increase\\\"]].copy()\";\n                var nbb_cells = Jupyter.notebook.get_cells();\n                for (var i = 0; i < nbb_cells.length; ++i) {\n                    if (nbb_cells[i].input_prompt_number == nbb_cell_id) {\n                        if (nbb_cells[i].get_text() == nbb_unformatted_code) {\n                             nbb_cells[i].set_text(nbb_formatted_code);\n                        }\n                        break;\n                    }\n                }\n            }, 500);\n            ",
      "text/plain": [
       "<IPython.core.display.Javascript object>"
      ]
     },
     "metadata": {},
     "output_type": "display_data"
    }
   ],
   "source": [
    "df_compare = df_compare[['5. adjusted close', 'preds', 'return', 'increase']].copy()"
   ]
  },
  {
   "cell_type": "code",
   "execution_count": 478,
   "metadata": {},
   "outputs": [
    {
     "name": "stdout",
     "output_type": "stream",
     "text": [
      "Test Score: 1.8354 MAE\n"
     ]
    },
    {
     "data": {
      "application/javascript": "\n            setTimeout(function() {\n                var nbb_cell_id = 478;\n                var nbb_unformatted_code = \"testScore = mean_absolute_error(df_compare[\\\"5. adjusted close\\\"].values, df_compare[\\\"preds\\\"].values)\\nprint(\\\"Test Score: %.4f MAE\\\" % (testScore))\";\n                var nbb_formatted_code = \"testScore = mean_absolute_error(\\n    df_compare[\\\"5. adjusted close\\\"].values, df_compare[\\\"preds\\\"].values\\n)\\nprint(\\\"Test Score: %.4f MAE\\\" % (testScore))\";\n                var nbb_cells = Jupyter.notebook.get_cells();\n                for (var i = 0; i < nbb_cells.length; ++i) {\n                    if (nbb_cells[i].input_prompt_number == nbb_cell_id) {\n                        if (nbb_cells[i].get_text() == nbb_unformatted_code) {\n                             nbb_cells[i].set_text(nbb_formatted_code);\n                        }\n                        break;\n                    }\n                }\n            }, 500);\n            ",
      "text/plain": [
       "<IPython.core.display.Javascript object>"
      ]
     },
     "metadata": {},
     "output_type": "display_data"
    }
   ],
   "source": [
    "testScore = mean_absolute_error(df_compare[\"5. adjusted close\"].values, df_compare[\"preds\"].values)\n",
    "print(\"Test Score: %.4f MAE\" % (testScore))"
   ]
  },
  {
   "cell_type": "code",
   "execution_count": 479,
   "metadata": {},
   "outputs": [
    {
     "data": {
      "image/png": "[encoded data removed]",
      "text/plain": [
       "<Figure size 864x576 with 2 Axes>"
      ]
     },
     "metadata": {},
     "output_type": "display_data"
    },
    {
     "data": {
      "application/javascript": "\n            setTimeout(function() {\n                var nbb_cell_id = 479;\n                var nbb_unformatted_code = \"plt.figure(figsize=(12,8))\\n\\nax1 = df_compare[\\\"5. adjusted close\\\"][-63:].plot(color='blue', grid=True, secondary_y=False, label='Actual', marker='.')\\nax2 = df_compare[\\\"preds\\\"][-63:].plot(color='red', grid=True, secondary_y=True, label='Predicted', marker='.')\\n\\na, b = 155, 185\\n\\nax1.set_ylim(a,b)\\nax2.set_ylim(a,b)\\n\\nh1, l1 = ax1.get_legend_handles_labels()\\nh2, l2 = ax2.get_legend_handles_labels()\\n\\nax1.set_xlabel(\\\"Date\\\")\\nplt.legend(h1+h2, l1+l2, loc=1)\\nplt.show()\";\n                var nbb_formatted_code = \"plt.figure(figsize=(12, 8))\\n\\nax1 = df_compare[\\\"5. adjusted close\\\"][-63:].plot(\\n    color=\\\"blue\\\", grid=True, secondary_y=False, label=\\\"Actual\\\", marker=\\\".\\\"\\n)\\nax2 = df_compare[\\\"preds\\\"][-63:].plot(\\n    color=\\\"red\\\", grid=True, secondary_y=True, label=\\\"Predicted\\\", marker=\\\".\\\"\\n)\\n\\na, b = 155, 185\\n\\nax1.set_ylim(a, b)\\nax2.set_ylim(a, b)\\n\\nh1, l1 = ax1.get_legend_handles_labels()\\nh2, l2 = ax2.get_legend_handles_labels()\\n\\nax1.set_xlabel(\\\"Date\\\")\\nplt.legend(h1 + h2, l1 + l2, loc=1)\\nplt.show()\";\n                var nbb_cells = Jupyter.notebook.get_cells();\n                for (var i = 0; i < nbb_cells.length; ++i) {\n                    if (nbb_cells[i].input_prompt_number == nbb_cell_id) {\n                        if (nbb_cells[i].get_text() == nbb_unformatted_code) {\n                             nbb_cells[i].set_text(nbb_formatted_code);\n                        }\n                        break;\n                    }\n                }\n            }, 500);\n            ",
      "text/plain": [
       "<IPython.core.display.Javascript object>"
      ]
     },
     "metadata": {},
     "output_type": "display_data"
    }
   ],
   "source": [
    "plt.figure(figsize=(12,8))\n",
    "\n",
    "ax1 = df_compare[\"5. adjusted close\"][-63:].plot(color='blue', grid=True, secondary_y=False, label='Actual', marker='.')\n",
    "ax2 = df_compare[\"preds\"][-63:].plot(color='red', grid=True, secondary_y=True, label='Predicted', marker='.')\n",
    "\n",
    "a, b = 155, 185\n",
    "\n",
    "ax1.set_ylim(a,b)\n",
    "ax2.set_ylim(a,b)\n",
    "\n",
    "h1, l1 = ax1.get_legend_handles_labels()\n",
    "h2, l2 = ax2.get_legend_handles_labels()\n",
    "\n",
    "ax1.set_xlabel(\"Date\")\n",
    "plt.legend(h1+h2, l1+l2, loc=1)\n",
    "plt.show()"
   ]
  },
  {
   "cell_type": "code",
   "execution_count": 480,
   "metadata": {},
   "outputs": [
    {
     "data": {
      "text/html": [
       "<div>\n",
       "<style scoped>\n",
       "    .dataframe tbody tr th:only-of-type {\n",
       "        vertical-align: middle;\n",
       "    }\n",
       "\n",
       "    .dataframe tbody tr th {\n",
       "        vertical-align: top;\n",
       "    }\n",
       "\n",
       "    .dataframe thead th {\n",
       "        text-align: right;\n",
       "    }\n",
       "</style>\n",
       "<table border=\"1\" class=\"dataframe\">\n",
       "  <thead>\n",
       "    <tr style=\"text-align: right;\">\n",
       "      <th></th>\n",
       "      <th>5. adjusted close</th>\n",
       "      <th>preds</th>\n",
       "      <th>return</th>\n",
       "      <th>increase</th>\n",
       "    </tr>\n",
       "    <tr>\n",
       "      <th>date</th>\n",
       "      <th></th>\n",
       "      <th></th>\n",
       "      <th></th>\n",
       "      <th></th>\n",
       "    </tr>\n",
       "  </thead>\n",
       "  <tbody>\n",
       "    <tr>\n",
       "      <th>2021-03-18</th>\n",
       "      <td>119.818452</td>\n",
       "      <td>123.905907</td>\n",
       "      <td>-0.033905</td>\n",
       "      <td>0.0</td>\n",
       "    </tr>\n",
       "    <tr>\n",
       "      <th>2021-03-19</th>\n",
       "      <td>119.281640</td>\n",
       "      <td>120.677879</td>\n",
       "      <td>-0.004480</td>\n",
       "      <td>0.0</td>\n",
       "    </tr>\n",
       "    <tr>\n",
       "      <th>2021-03-22</th>\n",
       "      <td>122.661568</td>\n",
       "      <td>120.088783</td>\n",
       "      <td>0.028336</td>\n",
       "      <td>1.0</td>\n",
       "    </tr>\n",
       "    <tr>\n",
       "      <th>2021-03-23</th>\n",
       "      <td>121.816586</td>\n",
       "      <td>122.583664</td>\n",
       "      <td>-0.006889</td>\n",
       "      <td>0.0</td>\n",
       "    </tr>\n",
       "    <tr>\n",
       "      <th>2021-03-24</th>\n",
       "      <td>119.381049</td>\n",
       "      <td>121.699036</td>\n",
       "      <td>-0.019993</td>\n",
       "      <td>0.0</td>\n",
       "    </tr>\n",
       "  </tbody>\n",
       "</table>\n",
       "</div>"
      ],
      "text/plain": [
       "            5. adjusted close       preds    return  increase\n",
       "date                                                         \n",
       "2021-03-18         119.818452  123.905907 -0.033905       0.0\n",
       "2021-03-19         119.281640  120.677879 -0.004480       0.0\n",
       "2021-03-22         122.661568  120.088783  0.028336       1.0\n",
       "2021-03-23         121.816586  122.583664 -0.006889       0.0\n",
       "2021-03-24         119.381049  121.699036 -0.019993       0.0"
      ]
     },
     "execution_count": 480,
     "metadata": {},
     "output_type": "execute_result"
    },
    {
     "data": {
      "application/javascript": "\n            setTimeout(function() {\n                var nbb_cell_id = 480;\n                var nbb_unformatted_code = \"df_compare.head()\";\n                var nbb_formatted_code = \"df_compare.head()\";\n                var nbb_cells = Jupyter.notebook.get_cells();\n                for (var i = 0; i < nbb_cells.length; ++i) {\n                    if (nbb_cells[i].input_prompt_number == nbb_cell_id) {\n                        if (nbb_cells[i].get_text() == nbb_unformatted_code) {\n                             nbb_cells[i].set_text(nbb_formatted_code);\n                        }\n                        break;\n                    }\n                }\n            }, 500);\n            ",
      "text/plain": [
       "<IPython.core.display.Javascript object>"
      ]
     },
     "metadata": {},
     "output_type": "display_data"
    }
   ],
   "source": [
    "df_compare.head()"
   ]
  },
  {
   "cell_type": "code",
   "execution_count": 481,
   "metadata": {},
   "outputs": [
    {
     "data": {
      "text/html": [
       "<div>\n",
       "<style scoped>\n",
       "    .dataframe tbody tr th:only-of-type {\n",
       "        vertical-align: middle;\n",
       "    }\n",
       "\n",
       "    .dataframe tbody tr th {\n",
       "        vertical-align: top;\n",
       "    }\n",
       "\n",
       "    .dataframe thead th {\n",
       "        text-align: right;\n",
       "    }\n",
       "</style>\n",
       "<table border=\"1\" class=\"dataframe\">\n",
       "  <thead>\n",
       "    <tr style=\"text-align: right;\">\n",
       "      <th></th>\n",
       "      <th>5. adjusted close</th>\n",
       "      <th>preds</th>\n",
       "      <th>return</th>\n",
       "      <th>increase</th>\n",
       "    </tr>\n",
       "    <tr>\n",
       "      <th>date</th>\n",
       "      <th></th>\n",
       "      <th></th>\n",
       "      <th></th>\n",
       "      <th></th>\n",
       "    </tr>\n",
       "  </thead>\n",
       "  <tbody>\n",
       "    <tr>\n",
       "      <th>2022-02-28</th>\n",
       "      <td>165.12</td>\n",
       "      <td>164.537964</td>\n",
       "      <td>0.001638</td>\n",
       "      <td>1.0</td>\n",
       "    </tr>\n",
       "    <tr>\n",
       "      <th>2022-03-01</th>\n",
       "      <td>163.20</td>\n",
       "      <td>164.880127</td>\n",
       "      <td>-0.011628</td>\n",
       "      <td>0.0</td>\n",
       "    </tr>\n",
       "    <tr>\n",
       "      <th>2022-03-02</th>\n",
       "      <td>166.56</td>\n",
       "      <td>163.563248</td>\n",
       "      <td>0.020588</td>\n",
       "      <td>1.0</td>\n",
       "    </tr>\n",
       "    <tr>\n",
       "      <th>2022-03-03</th>\n",
       "      <td>166.23</td>\n",
       "      <td>166.014496</td>\n",
       "      <td>-0.001981</td>\n",
       "      <td>0.0</td>\n",
       "    </tr>\n",
       "    <tr>\n",
       "      <th>2022-03-04</th>\n",
       "      <td>163.17</td>\n",
       "      <td>165.901825</td>\n",
       "      <td>-0.018408</td>\n",
       "      <td>0.0</td>\n",
       "    </tr>\n",
       "  </tbody>\n",
       "</table>\n",
       "</div>"
      ],
      "text/plain": [
       "            5. adjusted close       preds    return  increase\n",
       "date                                                         \n",
       "2022-02-28             165.12  164.537964  0.001638       1.0\n",
       "2022-03-01             163.20  164.880127 -0.011628       0.0\n",
       "2022-03-02             166.56  163.563248  0.020588       1.0\n",
       "2022-03-03             166.23  166.014496 -0.001981       0.0\n",
       "2022-03-04             163.17  165.901825 -0.018408       0.0"
      ]
     },
     "execution_count": 481,
     "metadata": {},
     "output_type": "execute_result"
    },
    {
     "data": {
      "application/javascript": "\n            setTimeout(function() {\n                var nbb_cell_id = 481;\n                var nbb_unformatted_code = \"df_compare.tail()\";\n                var nbb_formatted_code = \"df_compare.tail()\";\n                var nbb_cells = Jupyter.notebook.get_cells();\n                for (var i = 0; i < nbb_cells.length; ++i) {\n                    if (nbb_cells[i].input_prompt_number == nbb_cell_id) {\n                        if (nbb_cells[i].get_text() == nbb_unformatted_code) {\n                             nbb_cells[i].set_text(nbb_formatted_code);\n                        }\n                        break;\n                    }\n                }\n            }, 500);\n            ",
      "text/plain": [
       "<IPython.core.display.Javascript object>"
      ]
     },
     "metadata": {},
     "output_type": "display_data"
    }
   ],
   "source": [
    "df_compare.tail()"
   ]
  },
  {
   "cell_type": "code",
   "execution_count": 482,
   "metadata": {},
   "outputs": [
    {
     "data": {
      "application/javascript": "\n            setTimeout(function() {\n                var nbb_cell_id = 482;\n                var nbb_unformatted_code = \"df_compare[\\\"increase\\\"] = df_compare[\\\"increase\\\"].shift(-1)\\ndf_compare[\\\"preds\\\"] = df_compare[\\\"preds\\\"].shift(-1)\";\n                var nbb_formatted_code = \"df_compare[\\\"increase\\\"] = df_compare[\\\"increase\\\"].shift(-1)\\ndf_compare[\\\"preds\\\"] = df_compare[\\\"preds\\\"].shift(-1)\";\n                var nbb_cells = Jupyter.notebook.get_cells();\n                for (var i = 0; i < nbb_cells.length; ++i) {\n                    if (nbb_cells[i].input_prompt_number == nbb_cell_id) {\n                        if (nbb_cells[i].get_text() == nbb_unformatted_code) {\n                             nbb_cells[i].set_text(nbb_formatted_code);\n                        }\n                        break;\n                    }\n                }\n            }, 500);\n            ",
      "text/plain": [
       "<IPython.core.display.Javascript object>"
      ]
     },
     "metadata": {},
     "output_type": "display_data"
    }
   ],
   "source": [
    "df_compare[\"increase\"] = df_compare[\"increase\"].shift(-1)\n",
    "df_compare[\"preds\"] = df_compare[\"preds\"].shift(-1)"
   ]
  },
  {
   "cell_type": "code",
   "execution_count": 483,
   "metadata": {},
   "outputs": [
    {
     "data": {
      "text/html": [
       "<div>\n",
       "<style scoped>\n",
       "    .dataframe tbody tr th:only-of-type {\n",
       "        vertical-align: middle;\n",
       "    }\n",
       "\n",
       "    .dataframe tbody tr th {\n",
       "        vertical-align: top;\n",
       "    }\n",
       "\n",
       "    .dataframe thead th {\n",
       "        text-align: right;\n",
       "    }\n",
       "</style>\n",
       "<table border=\"1\" class=\"dataframe\">\n",
       "  <thead>\n",
       "    <tr style=\"text-align: right;\">\n",
       "      <th></th>\n",
       "      <th>5. adjusted close</th>\n",
       "      <th>preds</th>\n",
       "      <th>return</th>\n",
       "      <th>increase</th>\n",
       "    </tr>\n",
       "    <tr>\n",
       "      <th>date</th>\n",
       "      <th></th>\n",
       "      <th></th>\n",
       "      <th></th>\n",
       "      <th></th>\n",
       "    </tr>\n",
       "  </thead>\n",
       "  <tbody>\n",
       "    <tr>\n",
       "      <th>2021-03-18</th>\n",
       "      <td>119.818452</td>\n",
       "      <td>120.677879</td>\n",
       "      <td>-0.033905</td>\n",
       "      <td>0.0</td>\n",
       "    </tr>\n",
       "    <tr>\n",
       "      <th>2021-03-19</th>\n",
       "      <td>119.281640</td>\n",
       "      <td>120.088783</td>\n",
       "      <td>-0.004480</td>\n",
       "      <td>1.0</td>\n",
       "    </tr>\n",
       "    <tr>\n",
       "      <th>2021-03-22</th>\n",
       "      <td>122.661568</td>\n",
       "      <td>122.583664</td>\n",
       "      <td>0.028336</td>\n",
       "      <td>0.0</td>\n",
       "    </tr>\n",
       "    <tr>\n",
       "      <th>2021-03-23</th>\n",
       "      <td>121.816586</td>\n",
       "      <td>121.699036</td>\n",
       "      <td>-0.006889</td>\n",
       "      <td>0.0</td>\n",
       "    </tr>\n",
       "    <tr>\n",
       "      <th>2021-03-24</th>\n",
       "      <td>119.381049</td>\n",
       "      <td>119.945091</td>\n",
       "      <td>-0.019993</td>\n",
       "      <td>1.0</td>\n",
       "    </tr>\n",
       "  </tbody>\n",
       "</table>\n",
       "</div>"
      ],
      "text/plain": [
       "            5. adjusted close       preds    return  increase\n",
       "date                                                         \n",
       "2021-03-18         119.818452  120.677879 -0.033905       0.0\n",
       "2021-03-19         119.281640  120.088783 -0.004480       1.0\n",
       "2021-03-22         122.661568  122.583664  0.028336       0.0\n",
       "2021-03-23         121.816586  121.699036 -0.006889       0.0\n",
       "2021-03-24         119.381049  119.945091 -0.019993       1.0"
      ]
     },
     "execution_count": 483,
     "metadata": {},
     "output_type": "execute_result"
    },
    {
     "data": {
      "application/javascript": "\n            setTimeout(function() {\n                var nbb_cell_id = 483;\n                var nbb_unformatted_code = \"df_compare.head()\";\n                var nbb_formatted_code = \"df_compare.head()\";\n                var nbb_cells = Jupyter.notebook.get_cells();\n                for (var i = 0; i < nbb_cells.length; ++i) {\n                    if (nbb_cells[i].input_prompt_number == nbb_cell_id) {\n                        if (nbb_cells[i].get_text() == nbb_unformatted_code) {\n                             nbb_cells[i].set_text(nbb_formatted_code);\n                        }\n                        break;\n                    }\n                }\n            }, 500);\n            ",
      "text/plain": [
       "<IPython.core.display.Javascript object>"
      ]
     },
     "metadata": {},
     "output_type": "display_data"
    }
   ],
   "source": [
    "df_compare.head()"
   ]
  },
  {
   "cell_type": "code",
   "execution_count": 484,
   "metadata": {},
   "outputs": [
    {
     "data": {
      "text/html": [
       "<div>\n",
       "<style scoped>\n",
       "    .dataframe tbody tr th:only-of-type {\n",
       "        vertical-align: middle;\n",
       "    }\n",
       "\n",
       "    .dataframe tbody tr th {\n",
       "        vertical-align: top;\n",
       "    }\n",
       "\n",
       "    .dataframe thead th {\n",
       "        text-align: right;\n",
       "    }\n",
       "</style>\n",
       "<table border=\"1\" class=\"dataframe\">\n",
       "  <thead>\n",
       "    <tr style=\"text-align: right;\">\n",
       "      <th></th>\n",
       "      <th>5. adjusted close</th>\n",
       "      <th>preds</th>\n",
       "      <th>return</th>\n",
       "      <th>increase</th>\n",
       "    </tr>\n",
       "    <tr>\n",
       "      <th>date</th>\n",
       "      <th></th>\n",
       "      <th></th>\n",
       "      <th></th>\n",
       "      <th></th>\n",
       "    </tr>\n",
       "  </thead>\n",
       "  <tbody>\n",
       "    <tr>\n",
       "      <th>2022-02-28</th>\n",
       "      <td>165.12</td>\n",
       "      <td>164.880127</td>\n",
       "      <td>0.001638</td>\n",
       "      <td>0.0</td>\n",
       "    </tr>\n",
       "    <tr>\n",
       "      <th>2022-03-01</th>\n",
       "      <td>163.20</td>\n",
       "      <td>163.563248</td>\n",
       "      <td>-0.011628</td>\n",
       "      <td>1.0</td>\n",
       "    </tr>\n",
       "    <tr>\n",
       "      <th>2022-03-02</th>\n",
       "      <td>166.56</td>\n",
       "      <td>166.014496</td>\n",
       "      <td>0.020588</td>\n",
       "      <td>0.0</td>\n",
       "    </tr>\n",
       "    <tr>\n",
       "      <th>2022-03-03</th>\n",
       "      <td>166.23</td>\n",
       "      <td>165.901825</td>\n",
       "      <td>-0.001981</td>\n",
       "      <td>0.0</td>\n",
       "    </tr>\n",
       "    <tr>\n",
       "      <th>2022-03-04</th>\n",
       "      <td>163.17</td>\n",
       "      <td>NaN</td>\n",
       "      <td>-0.018408</td>\n",
       "      <td>NaN</td>\n",
       "    </tr>\n",
       "  </tbody>\n",
       "</table>\n",
       "</div>"
      ],
      "text/plain": [
       "            5. adjusted close       preds    return  increase\n",
       "date                                                         \n",
       "2022-02-28             165.12  164.880127  0.001638       0.0\n",
       "2022-03-01             163.20  163.563248 -0.011628       1.0\n",
       "2022-03-02             166.56  166.014496  0.020588       0.0\n",
       "2022-03-03             166.23  165.901825 -0.001981       0.0\n",
       "2022-03-04             163.17         NaN -0.018408       NaN"
      ]
     },
     "execution_count": 484,
     "metadata": {},
     "output_type": "execute_result"
    },
    {
     "data": {
      "application/javascript": "\n            setTimeout(function() {\n                var nbb_cell_id = 484;\n                var nbb_unformatted_code = \"df_compare.tail()\";\n                var nbb_formatted_code = \"df_compare.tail()\";\n                var nbb_cells = Jupyter.notebook.get_cells();\n                for (var i = 0; i < nbb_cells.length; ++i) {\n                    if (nbb_cells[i].input_prompt_number == nbb_cell_id) {\n                        if (nbb_cells[i].get_text() == nbb_unformatted_code) {\n                             nbb_cells[i].set_text(nbb_formatted_code);\n                        }\n                        break;\n                    }\n                }\n            }, 500);\n            ",
      "text/plain": [
       "<IPython.core.display.Javascript object>"
      ]
     },
     "metadata": {},
     "output_type": "display_data"
    }
   ],
   "source": [
    "df_compare.tail()"
   ]
  },
  {
   "cell_type": "code",
   "execution_count": 485,
   "metadata": {},
   "outputs": [
    {
     "data": {
      "application/javascript": "\n            setTimeout(function() {\n                var nbb_cell_id = 485;\n                var nbb_unformatted_code = \"df_compare[\\\"pred_increase\\\"] = np.where(df_compare[\\\"preds\\\"] > df_compare[\\\"5. adjusted close\\\"], 1.0, 0.0)\";\n                var nbb_formatted_code = \"df_compare[\\\"pred_increase\\\"] = np.where(\\n    df_compare[\\\"preds\\\"] > df_compare[\\\"5. adjusted close\\\"], 1.0, 0.0\\n)\";\n                var nbb_cells = Jupyter.notebook.get_cells();\n                for (var i = 0; i < nbb_cells.length; ++i) {\n                    if (nbb_cells[i].input_prompt_number == nbb_cell_id) {\n                        if (nbb_cells[i].get_text() == nbb_unformatted_code) {\n                             nbb_cells[i].set_text(nbb_formatted_code);\n                        }\n                        break;\n                    }\n                }\n            }, 500);\n            ",
      "text/plain": [
       "<IPython.core.display.Javascript object>"
      ]
     },
     "metadata": {},
     "output_type": "display_data"
    }
   ],
   "source": [
    "df_compare[\"pred_increase\"] = np.where(df_compare[\"preds\"] > df_compare[\"5. adjusted close\"], 1.0, 0.0)"
   ]
  },
  {
   "cell_type": "code",
   "execution_count": 486,
   "metadata": {},
   "outputs": [
    {
     "data": {
      "text/html": [
       "<div>\n",
       "<style scoped>\n",
       "    .dataframe tbody tr th:only-of-type {\n",
       "        vertical-align: middle;\n",
       "    }\n",
       "\n",
       "    .dataframe tbody tr th {\n",
       "        vertical-align: top;\n",
       "    }\n",
       "\n",
       "    .dataframe thead th {\n",
       "        text-align: right;\n",
       "    }\n",
       "</style>\n",
       "<table border=\"1\" class=\"dataframe\">\n",
       "  <thead>\n",
       "    <tr style=\"text-align: right;\">\n",
       "      <th></th>\n",
       "      <th>5. adjusted close</th>\n",
       "      <th>preds</th>\n",
       "      <th>return</th>\n",
       "      <th>increase</th>\n",
       "      <th>pred_increase</th>\n",
       "    </tr>\n",
       "    <tr>\n",
       "      <th>date</th>\n",
       "      <th></th>\n",
       "      <th></th>\n",
       "      <th></th>\n",
       "      <th></th>\n",
       "      <th></th>\n",
       "    </tr>\n",
       "  </thead>\n",
       "  <tbody>\n",
       "    <tr>\n",
       "      <th>2021-03-18</th>\n",
       "      <td>119.818452</td>\n",
       "      <td>120.677879</td>\n",
       "      <td>-0.033905</td>\n",
       "      <td>0.0</td>\n",
       "      <td>1.0</td>\n",
       "    </tr>\n",
       "    <tr>\n",
       "      <th>2021-03-19</th>\n",
       "      <td>119.281640</td>\n",
       "      <td>120.088783</td>\n",
       "      <td>-0.004480</td>\n",
       "      <td>1.0</td>\n",
       "      <td>1.0</td>\n",
       "    </tr>\n",
       "    <tr>\n",
       "      <th>2021-03-22</th>\n",
       "      <td>122.661568</td>\n",
       "      <td>122.583664</td>\n",
       "      <td>0.028336</td>\n",
       "      <td>0.0</td>\n",
       "      <td>0.0</td>\n",
       "    </tr>\n",
       "    <tr>\n",
       "      <th>2021-03-23</th>\n",
       "      <td>121.816586</td>\n",
       "      <td>121.699036</td>\n",
       "      <td>-0.006889</td>\n",
       "      <td>0.0</td>\n",
       "      <td>0.0</td>\n",
       "    </tr>\n",
       "    <tr>\n",
       "      <th>2021-03-24</th>\n",
       "      <td>119.381049</td>\n",
       "      <td>119.945091</td>\n",
       "      <td>-0.019993</td>\n",
       "      <td>1.0</td>\n",
       "      <td>1.0</td>\n",
       "    </tr>\n",
       "    <tr>\n",
       "      <th>...</th>\n",
       "      <td>...</td>\n",
       "      <td>...</td>\n",
       "      <td>...</td>\n",
       "      <td>...</td>\n",
       "      <td>...</td>\n",
       "    </tr>\n",
       "    <tr>\n",
       "      <th>2022-02-28</th>\n",
       "      <td>165.120000</td>\n",
       "      <td>164.880127</td>\n",
       "      <td>0.001638</td>\n",
       "      <td>0.0</td>\n",
       "      <td>0.0</td>\n",
       "    </tr>\n",
       "    <tr>\n",
       "      <th>2022-03-01</th>\n",
       "      <td>163.200000</td>\n",
       "      <td>163.563248</td>\n",
       "      <td>-0.011628</td>\n",
       "      <td>1.0</td>\n",
       "      <td>1.0</td>\n",
       "    </tr>\n",
       "    <tr>\n",
       "      <th>2022-03-02</th>\n",
       "      <td>166.560000</td>\n",
       "      <td>166.014496</td>\n",
       "      <td>0.020588</td>\n",
       "      <td>0.0</td>\n",
       "      <td>0.0</td>\n",
       "    </tr>\n",
       "    <tr>\n",
       "      <th>2022-03-03</th>\n",
       "      <td>166.230000</td>\n",
       "      <td>165.901825</td>\n",
       "      <td>-0.001981</td>\n",
       "      <td>0.0</td>\n",
       "      <td>0.0</td>\n",
       "    </tr>\n",
       "    <tr>\n",
       "      <th>2022-03-04</th>\n",
       "      <td>163.170000</td>\n",
       "      <td>NaN</td>\n",
       "      <td>-0.018408</td>\n",
       "      <td>NaN</td>\n",
       "      <td>0.0</td>\n",
       "    </tr>\n",
       "  </tbody>\n",
       "</table>\n",
       "<p>244 rows × 5 columns</p>\n",
       "</div>"
      ],
      "text/plain": [
       "            5. adjusted close       preds    return  increase  pred_increase\n",
       "date                                                                        \n",
       "2021-03-18         119.818452  120.677879 -0.033905       0.0            1.0\n",
       "2021-03-19         119.281640  120.088783 -0.004480       1.0            1.0\n",
       "2021-03-22         122.661568  122.583664  0.028336       0.0            0.0\n",
       "2021-03-23         121.816586  121.699036 -0.006889       0.0            0.0\n",
       "2021-03-24         119.381049  119.945091 -0.019993       1.0            1.0\n",
       "...                       ...         ...       ...       ...            ...\n",
       "2022-02-28         165.120000  164.880127  0.001638       0.0            0.0\n",
       "2022-03-01         163.200000  163.563248 -0.011628       1.0            1.0\n",
       "2022-03-02         166.560000  166.014496  0.020588       0.0            0.0\n",
       "2022-03-03         166.230000  165.901825 -0.001981       0.0            0.0\n",
       "2022-03-04         163.170000         NaN -0.018408       NaN            0.0\n",
       "\n",
       "[244 rows x 5 columns]"
      ]
     },
     "execution_count": 486,
     "metadata": {},
     "output_type": "execute_result"
    },
    {
     "data": {
      "application/javascript": "\n            setTimeout(function() {\n                var nbb_cell_id = 486;\n                var nbb_unformatted_code = \"df_compare\";\n                var nbb_formatted_code = \"df_compare\";\n                var nbb_cells = Jupyter.notebook.get_cells();\n                for (var i = 0; i < nbb_cells.length; ++i) {\n                    if (nbb_cells[i].input_prompt_number == nbb_cell_id) {\n                        if (nbb_cells[i].get_text() == nbb_unformatted_code) {\n                             nbb_cells[i].set_text(nbb_formatted_code);\n                        }\n                        break;\n                    }\n                }\n            }, 500);\n            ",
      "text/plain": [
       "<IPython.core.display.Javascript object>"
      ]
     },
     "metadata": {},
     "output_type": "display_data"
    }
   ],
   "source": [
    "df_compare"
   ]
  },
  {
   "cell_type": "code",
   "execution_count": 487,
   "metadata": {},
   "outputs": [
    {
     "data": {
      "application/javascript": "\n            setTimeout(function() {\n                var nbb_cell_id = 487;\n                var nbb_unformatted_code = \"df_compare = df_compare.drop(\\\"2022-03-04\\\")\";\n                var nbb_formatted_code = \"df_compare = df_compare.drop(\\\"2022-03-04\\\")\";\n                var nbb_cells = Jupyter.notebook.get_cells();\n                for (var i = 0; i < nbb_cells.length; ++i) {\n                    if (nbb_cells[i].input_prompt_number == nbb_cell_id) {\n                        if (nbb_cells[i].get_text() == nbb_unformatted_code) {\n                             nbb_cells[i].set_text(nbb_formatted_code);\n                        }\n                        break;\n                    }\n                }\n            }, 500);\n            ",
      "text/plain": [
       "<IPython.core.display.Javascript object>"
      ]
     },
     "metadata": {},
     "output_type": "display_data"
    }
   ],
   "source": [
    "df_compare = df_compare.drop(\"2022-03-04\")\n"
   ]
  },
  {
   "cell_type": "markdown",
   "metadata": {},
   "source": [
    "### Postive Increase Prediction %"
   ]
  },
  {
   "cell_type": "code",
   "execution_count": 488,
   "metadata": {},
   "outputs": [
    {
     "data": {
      "text/plain": [
       "0.5546875"
      ]
     },
     "execution_count": 488,
     "metadata": {},
     "output_type": "execute_result"
    },
    {
     "data": {
      "application/javascript": "\n            setTimeout(function() {\n                var nbb_cell_id = 488;\n                var nbb_unformatted_code = \"df_compare[(df_compare[\\\"increase\\\"]==1) & (df_compare[\\\"pred_increase\\\"]==1)].shape[0] / df_compare[(df_compare[\\\"increase\\\"]==1)].shape[0]\";\n                var nbb_formatted_code = \"df_compare[(df_compare[\\\"increase\\\"] == 1) & (df_compare[\\\"pred_increase\\\"] == 1)].shape[\\n    0\\n] / df_compare[(df_compare[\\\"increase\\\"] == 1)].shape[0]\";\n                var nbb_cells = Jupyter.notebook.get_cells();\n                for (var i = 0; i < nbb_cells.length; ++i) {\n                    if (nbb_cells[i].input_prompt_number == nbb_cell_id) {\n                        if (nbb_cells[i].get_text() == nbb_unformatted_code) {\n                             nbb_cells[i].set_text(nbb_formatted_code);\n                        }\n                        break;\n                    }\n                }\n            }, 500);\n            ",
      "text/plain": [
       "<IPython.core.display.Javascript object>"
      ]
     },
     "metadata": {},
     "output_type": "display_data"
    }
   ],
   "source": [
    "df_compare[(df_compare[\"increase\"]==1) & (df_compare[\"pred_increase\"]==1)].shape[0] / df_compare[(df_compare[\"increase\"]==1)].shape[0]"
   ]
  },
  {
   "cell_type": "markdown",
   "metadata": {},
   "source": [
    "### Negative Increase Prediction %"
   ]
  },
  {
   "cell_type": "code",
   "execution_count": 489,
   "metadata": {},
   "outputs": [
    {
     "data": {
      "text/plain": [
       "0.4956521739130435"
      ]
     },
     "execution_count": 489,
     "metadata": {},
     "output_type": "execute_result"
    },
    {
     "data": {
      "application/javascript": "\n            setTimeout(function() {\n                var nbb_cell_id = 489;\n                var nbb_unformatted_code = \"df_compare[(df_compare[\\\"increase\\\"]==0) & (df_compare[\\\"pred_increase\\\"]==0)].shape[0] / df_compare[(df_compare[\\\"increase\\\"]==0)].shape[0]\";\n                var nbb_formatted_code = \"df_compare[(df_compare[\\\"increase\\\"] == 0) & (df_compare[\\\"pred_increase\\\"] == 0)].shape[\\n    0\\n] / df_compare[(df_compare[\\\"increase\\\"] == 0)].shape[0]\";\n                var nbb_cells = Jupyter.notebook.get_cells();\n                for (var i = 0; i < nbb_cells.length; ++i) {\n                    if (nbb_cells[i].input_prompt_number == nbb_cell_id) {\n                        if (nbb_cells[i].get_text() == nbb_unformatted_code) {\n                             nbb_cells[i].set_text(nbb_formatted_code);\n                        }\n                        break;\n                    }\n                }\n            }, 500);\n            ",
      "text/plain": [
       "<IPython.core.display.Javascript object>"
      ]
     },
     "metadata": {},
     "output_type": "display_data"
    }
   ],
   "source": [
    "df_compare[(df_compare[\"increase\"]==0) & (df_compare[\"pred_increase\"]==0)].shape[0] / df_compare[(df_compare[\"increase\"]==0)].shape[0]"
   ]
  },
  {
   "cell_type": "markdown",
   "metadata": {},
   "source": [
    "### Overall Prediction Accuracy %"
   ]
  },
  {
   "cell_type": "code",
   "execution_count": 490,
   "metadata": {},
   "outputs": [
    {
     "data": {
      "text/plain": [
       "0.5267489711934157"
      ]
     },
     "execution_count": 490,
     "metadata": {},
     "output_type": "execute_result"
    },
    {
     "data": {
      "application/javascript": "\n            setTimeout(function() {\n                var nbb_cell_id = 490;\n                var nbb_unformatted_code = \"df_compare[(df_compare[\\\"increase\\\"] == df_compare[\\\"pred_increase\\\"])].shape[0] / (df_compare.shape[0])\";\n                var nbb_formatted_code = \"df_compare[(df_compare[\\\"increase\\\"] == df_compare[\\\"pred_increase\\\"])].shape[0] / (\\n    df_compare.shape[0]\\n)\";\n                var nbb_cells = Jupyter.notebook.get_cells();\n                for (var i = 0; i < nbb_cells.length; ++i) {\n                    if (nbb_cells[i].input_prompt_number == nbb_cell_id) {\n                        if (nbb_cells[i].get_text() == nbb_unformatted_code) {\n                             nbb_cells[i].set_text(nbb_formatted_code);\n                        }\n                        break;\n                    }\n                }\n            }, 500);\n            ",
      "text/plain": [
       "<IPython.core.display.Javascript object>"
      ]
     },
     "metadata": {},
     "output_type": "display_data"
    }
   ],
   "source": [
    "df_compare[(df_compare[\"increase\"] == df_compare[\"pred_increase\"])].shape[0] / (df_compare.shape[0])"
   ]
  },
  {
   "cell_type": "markdown",
   "metadata": {},
   "source": [
    "### Actual Distribution of Increase (1) vs. Decrease (0)"
   ]
  },
  {
   "cell_type": "code",
   "execution_count": 491,
   "metadata": {},
   "outputs": [
    {
     "data": {
      "text/plain": [
       "1.0    128\n",
       "0.0    115\n",
       "Name: increase, dtype: int64"
      ]
     },
     "execution_count": 491,
     "metadata": {},
     "output_type": "execute_result"
    },
    {
     "data": {
      "application/javascript": "\n            setTimeout(function() {\n                var nbb_cell_id = 491;\n                var nbb_unformatted_code = \"df_compare[\\\"increase\\\"].value_counts()\";\n                var nbb_formatted_code = \"df_compare[\\\"increase\\\"].value_counts()\";\n                var nbb_cells = Jupyter.notebook.get_cells();\n                for (var i = 0; i < nbb_cells.length; ++i) {\n                    if (nbb_cells[i].input_prompt_number == nbb_cell_id) {\n                        if (nbb_cells[i].get_text() == nbb_unformatted_code) {\n                             nbb_cells[i].set_text(nbb_formatted_code);\n                        }\n                        break;\n                    }\n                }\n            }, 500);\n            ",
      "text/plain": [
       "<IPython.core.display.Javascript object>"
      ]
     },
     "metadata": {},
     "output_type": "display_data"
    }
   ],
   "source": [
    "df_compare[\"increase\"].value_counts()"
   ]
  },
  {
   "cell_type": "code",
   "execution_count": 492,
   "metadata": {},
   "outputs": [
    {
     "data": {
      "text/plain": [
       "1.0    0.526749\n",
       "0.0    0.473251\n",
       "Name: increase, dtype: float64"
      ]
     },
     "execution_count": 492,
     "metadata": {},
     "output_type": "execute_result"
    },
    {
     "data": {
      "application/javascript": "\n            setTimeout(function() {\n                var nbb_cell_id = 492;\n                var nbb_unformatted_code = \"df_compare[\\\"increase\\\"].value_counts(normalize=True)\";\n                var nbb_formatted_code = \"df_compare[\\\"increase\\\"].value_counts(normalize=True)\";\n                var nbb_cells = Jupyter.notebook.get_cells();\n                for (var i = 0; i < nbb_cells.length; ++i) {\n                    if (nbb_cells[i].input_prompt_number == nbb_cell_id) {\n                        if (nbb_cells[i].get_text() == nbb_unformatted_code) {\n                             nbb_cells[i].set_text(nbb_formatted_code);\n                        }\n                        break;\n                    }\n                }\n            }, 500);\n            ",
      "text/plain": [
       "<IPython.core.display.Javascript object>"
      ]
     },
     "metadata": {},
     "output_type": "display_data"
    }
   ],
   "source": [
    "df_compare[\"increase\"].value_counts(normalize=True)"
   ]
  },
  {
   "cell_type": "markdown",
   "metadata": {},
   "source": [
    "### Predicted Distribution of Increase (1) vs. Decrease (0)"
   ]
  },
  {
   "cell_type": "code",
   "execution_count": 493,
   "metadata": {},
   "outputs": [
    {
     "data": {
      "text/plain": [
       "1.0    129\n",
       "0.0    114\n",
       "Name: pred_increase, dtype: int64"
      ]
     },
     "execution_count": 493,
     "metadata": {},
     "output_type": "execute_result"
    },
    {
     "data": {
      "application/javascript": "\n            setTimeout(function() {\n                var nbb_cell_id = 493;\n                var nbb_unformatted_code = \"df_compare[\\\"pred_increase\\\"].value_counts()\";\n                var nbb_formatted_code = \"df_compare[\\\"pred_increase\\\"].value_counts()\";\n                var nbb_cells = Jupyter.notebook.get_cells();\n                for (var i = 0; i < nbb_cells.length; ++i) {\n                    if (nbb_cells[i].input_prompt_number == nbb_cell_id) {\n                        if (nbb_cells[i].get_text() == nbb_unformatted_code) {\n                             nbb_cells[i].set_text(nbb_formatted_code);\n                        }\n                        break;\n                    }\n                }\n            }, 500);\n            ",
      "text/plain": [
       "<IPython.core.display.Javascript object>"
      ]
     },
     "metadata": {},
     "output_type": "display_data"
    }
   ],
   "source": [
    "df_compare[\"pred_increase\"].value_counts()"
   ]
  },
  {
   "cell_type": "code",
   "execution_count": 494,
   "metadata": {},
   "outputs": [
    {
     "data": {
      "text/plain": [
       "1.0    0.530864\n",
       "0.0    0.469136\n",
       "Name: pred_increase, dtype: float64"
      ]
     },
     "execution_count": 494,
     "metadata": {},
     "output_type": "execute_result"
    },
    {
     "data": {
      "application/javascript": "\n            setTimeout(function() {\n                var nbb_cell_id = 494;\n                var nbb_unformatted_code = \"df_compare[\\\"pred_increase\\\"].value_counts(normalize=True)\";\n                var nbb_formatted_code = \"df_compare[\\\"pred_increase\\\"].value_counts(normalize=True)\";\n                var nbb_cells = Jupyter.notebook.get_cells();\n                for (var i = 0; i < nbb_cells.length; ++i) {\n                    if (nbb_cells[i].input_prompt_number == nbb_cell_id) {\n                        if (nbb_cells[i].get_text() == nbb_unformatted_code) {\n                             nbb_cells[i].set_text(nbb_formatted_code);\n                        }\n                        break;\n                    }\n                }\n            }, 500);\n            ",
      "text/plain": [
       "<IPython.core.display.Javascript object>"
      ]
     },
     "metadata": {},
     "output_type": "display_data"
    }
   ],
   "source": [
    "df_compare[\"pred_increase\"].value_counts(normalize=True)"
   ]
  }
 ],
 "metadata": {
  "kernelspec": {
   "display_name": "Python 3",
   "language": "python",
   "name": "python3"
  },
  "language_info": {
   "codemirror_mode": {
    "name": "ipython",
    "version": 3
   },
   "file_extension": ".py",
   "mimetype": "text/x-python",
   "name": "python",
   "nbconvert_exporter": "python",
   "pygments_lexer": "ipython3",
   "version": "3.8.10"
  }
 },
 "nbformat": 4,
 "nbformat_minor": 4
}
