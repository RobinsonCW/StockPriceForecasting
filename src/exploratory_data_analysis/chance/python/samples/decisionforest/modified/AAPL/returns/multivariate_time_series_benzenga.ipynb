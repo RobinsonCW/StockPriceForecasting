{
 "cells": [
  {
   "cell_type": "code",
   "execution_count": 1,
   "metadata": {},
   "outputs": [
    {
     "name": "stderr",
     "output_type": "stream",
     "text": [
      "/usr/lib/python3/dist-packages/requests/__init__.py:89: RequestsDependencyWarning: urllib3 (1.26.9) or chardet (3.0.4) doesn't match a supported version!\n",
      "  warnings.warn(\"urllib3 ({}) or chardet ({}) doesn't match a supported \"\n"
     ]
    },
    {
     "data": {
      "application/javascript": "\n            setTimeout(function() {\n                var nbb_cell_id = 1;\n                var nbb_unformatted_code = \"from IPython.core.debugger import set_trace\\n\\n%load_ext nb_black\\n\\n# import pandas as pd\\n# import numpy as np\\n# import os\\n# import matplotlib.pyplot as plt\\n# import time\\n\\nimport IPython\\nimport IPython.display\\nimport matplotlib as mpl\\nimport matplotlib.pyplot as plt\\nimport numpy as np\\nimport pandas as pd\\nimport seaborn as sns\\nimport tensorflow as tf\\n\\nfrom pathlib import Path\\n\\nmpl.rcParams['figure.figsize'] = (8, 6)\\nmpl.rcParams['axes.grid'] = False\\n\\nnp.random.seed(42)\\ntf.random.set_seed(42)\\n\\nplt.style.use(style=\\\"seaborn\\\")\\n# plt.rcParams['figure.dpi'] = 400\\nsns.set_style('whitegrid')\\n\\n%matplotlib inline\";\n                var nbb_formatted_code = \"from IPython.core.debugger import set_trace\\n\\n%load_ext nb_black\\n\\n# import pandas as pd\\n# import numpy as np\\n# import os\\n# import matplotlib.pyplot as plt\\n# import time\\n\\nimport IPython\\nimport IPython.display\\nimport matplotlib as mpl\\nimport matplotlib.pyplot as plt\\nimport numpy as np\\nimport pandas as pd\\nimport seaborn as sns\\nimport tensorflow as tf\\n\\nfrom pathlib import Path\\n\\nmpl.rcParams[\\\"figure.figsize\\\"] = (8, 6)\\nmpl.rcParams[\\\"axes.grid\\\"] = False\\n\\nnp.random.seed(42)\\ntf.random.set_seed(42)\\n\\nplt.style.use(style=\\\"seaborn\\\")\\n# plt.rcParams['figure.dpi'] = 400\\nsns.set_style(\\\"whitegrid\\\")\\n\\n%matplotlib inline\";\n                var nbb_cells = Jupyter.notebook.get_cells();\n                for (var i = 0; i < nbb_cells.length; ++i) {\n                    if (nbb_cells[i].input_prompt_number == nbb_cell_id) {\n                        if (nbb_cells[i].get_text() == nbb_unformatted_code) {\n                             nbb_cells[i].set_text(nbb_formatted_code);\n                        }\n                        break;\n                    }\n                }\n            }, 500);\n            ",
      "text/plain": [
       "<IPython.core.display.Javascript object>"
      ]
     },
     "metadata": {},
     "output_type": "display_data"
    }
   ],
   "source": [
    "from IPython.core.debugger import set_trace\n",
    "\n",
    "%load_ext nb_black\n",
    "\n",
    "# import pandas as pd\n",
    "# import numpy as np\n",
    "# import os\n",
    "# import matplotlib.pyplot as plt\n",
    "# import time\n",
    "\n",
    "import IPython\n",
    "import IPython.display\n",
    "import matplotlib as mpl\n",
    "import matplotlib.pyplot as plt\n",
    "import numpy as np\n",
    "import pandas as pd\n",
    "import seaborn as sns\n",
    "import tensorflow as tf\n",
    "\n",
    "from pathlib import Path\n",
    "\n",
    "mpl.rcParams['figure.figsize'] = (8, 6)\n",
    "mpl.rcParams['axes.grid'] = False\n",
    "\n",
    "np.random.seed(42)\n",
    "tf.random.set_seed(42)\n",
    "\n",
    "plt.style.use(style=\"seaborn\")\n",
    "# plt.rcParams['figure.dpi'] = 400\n",
    "sns.set_style('whitegrid')\n",
    "\n",
    "%matplotlib inline"
   ]
  },
  {
   "cell_type": "code",
   "execution_count": 2,
   "metadata": {},
   "outputs": [
    {
     "name": "stdout",
     "output_type": "stream",
     "text": [
      "Using GPU\n"
     ]
    },
    {
     "data": {
      "application/javascript": "\n            setTimeout(function() {\n                var nbb_cell_id = 2;\n                var nbb_unformatted_code = \"gpu_devices = tf.config.experimental.list_physical_devices('GPU')\\nif gpu_devices:\\n    print('Using GPU')\\n    tf.config.experimental.set_memory_growth(gpu_devices[0], True)\\nelse:\\n    print('Using CPU')\";\n                var nbb_formatted_code = \"gpu_devices = tf.config.experimental.list_physical_devices(\\\"GPU\\\")\\nif gpu_devices:\\n    print(\\\"Using GPU\\\")\\n    tf.config.experimental.set_memory_growth(gpu_devices[0], True)\\nelse:\\n    print(\\\"Using CPU\\\")\";\n                var nbb_cells = Jupyter.notebook.get_cells();\n                for (var i = 0; i < nbb_cells.length; ++i) {\n                    if (nbb_cells[i].input_prompt_number == nbb_cell_id) {\n                        if (nbb_cells[i].get_text() == nbb_unformatted_code) {\n                             nbb_cells[i].set_text(nbb_formatted_code);\n                        }\n                        break;\n                    }\n                }\n            }, 500);\n            ",
      "text/plain": [
       "<IPython.core.display.Javascript object>"
      ]
     },
     "metadata": {},
     "output_type": "display_data"
    }
   ],
   "source": [
    "gpu_devices = tf.config.experimental.list_physical_devices('GPU')\n",
    "if gpu_devices:\n",
    "    print('Using GPU')\n",
    "    tf.config.experimental.set_memory_growth(gpu_devices[0], True)\n",
    "else:\n",
    "    print('Using CPU')"
   ]
  },
  {
   "cell_type": "code",
   "execution_count": 3,
   "metadata": {},
   "outputs": [
    {
     "name": "stdout",
     "output_type": "stream",
     "text": [
      "Sat Jul  9 05:15:27 2022       \n",
      "+-----------------------------------------------------------------------------+\n",
      "| NVIDIA-SMI 515.48.07    Driver Version: 516.40       CUDA Version: 11.7     |\n",
      "|-------------------------------+----------------------+----------------------+\n",
      "| GPU  Name        Persistence-M| Bus-Id        Disp.A | Volatile Uncorr. ECC |\n",
      "| Fan  Temp  Perf  Pwr:Usage/Cap|         Memory-Usage | GPU-Util  Compute M. |\n",
      "|                               |                      |               MIG M. |\n",
      "|===============================+======================+======================|\n",
      "|   0  NVIDIA GeForce ...  On   | 00000000:01:00.0  On |                  N/A |\n",
      "|  0%   54C    P5    22W / 200W |   2532MiB /  4096MiB |      3%      Default |\n",
      "|                               |                      |                  N/A |\n",
      "+-------------------------------+----------------------+----------------------+\n",
      "                                                                               \n",
      "+-----------------------------------------------------------------------------+\n",
      "| Processes:                                                                  |\n",
      "|  GPU   GI   CI        PID   Type   Process name                  GPU Memory |\n",
      "|        ID   ID                                                   Usage      |\n",
      "|=============================================================================|\n",
      "|    0   N/A  N/A       795      C   /python3.8                      N/A      |\n",
      "|    0   N/A  N/A     15004      C   /python3.8                      N/A      |\n",
      "+-----------------------------------------------------------------------------+\n"
     ]
    },
    {
     "data": {
      "application/javascript": "\n            setTimeout(function() {\n                var nbb_cell_id = 3;\n                var nbb_unformatted_code = \"!nvidia-smi\";\n                var nbb_formatted_code = \"!nvidia-smi\";\n                var nbb_cells = Jupyter.notebook.get_cells();\n                for (var i = 0; i < nbb_cells.length; ++i) {\n                    if (nbb_cells[i].input_prompt_number == nbb_cell_id) {\n                        if (nbb_cells[i].get_text() == nbb_unformatted_code) {\n                             nbb_cells[i].set_text(nbb_formatted_code);\n                        }\n                        break;\n                    }\n                }\n            }, 500);\n            ",
      "text/plain": [
       "<IPython.core.display.Javascript object>"
      ]
     },
     "metadata": {},
     "output_type": "display_data"
    }
   ],
   "source": [
    "!nvidia-smi"
   ]
  },
  {
   "cell_type": "code",
   "execution_count": 4,
   "metadata": {},
   "outputs": [
    {
     "data": {
      "application/javascript": "\n            setTimeout(function() {\n                var nbb_cell_id = 4;\n                var nbb_unformatted_code = \"csv_path = \\\"/app/StockPricePredictions/data/alphavantage/time_series_daily_adjusted/AAPL/AAPL_WITH_BENZINGA_FINBERT_SA.csv\\\"\";\n                var nbb_formatted_code = \"csv_path = \\\"/app/StockPricePredictions/data/alphavantage/time_series_daily_adjusted/AAPL/AAPL_WITH_BENZINGA_FINBERT_SA.csv\\\"\";\n                var nbb_cells = Jupyter.notebook.get_cells();\n                for (var i = 0; i < nbb_cells.length; ++i) {\n                    if (nbb_cells[i].input_prompt_number == nbb_cell_id) {\n                        if (nbb_cells[i].get_text() == nbb_unformatted_code) {\n                             nbb_cells[i].set_text(nbb_formatted_code);\n                        }\n                        break;\n                    }\n                }\n            }, 500);\n            ",
      "text/plain": [
       "<IPython.core.display.Javascript object>"
      ]
     },
     "metadata": {},
     "output_type": "display_data"
    }
   ],
   "source": [
    "csv_path = \"/app/StockPricePredictions/data/alphavantage/time_series_daily_adjusted/AAPL/AAPL_WITH_BENZINGA_FINBERT_SA.csv\""
   ]
  },
  {
   "cell_type": "code",
   "execution_count": 5,
   "metadata": {},
   "outputs": [
    {
     "data": {
      "application/javascript": "\n            setTimeout(function() {\n                var nbb_cell_id = 5;\n                var nbb_unformatted_code = \"df = pd.read_csv(csv_path)\\ndf.sort_values(by=[\\\"date\\\"], ascending=True, inplace=True)\\ndf.reset_index(drop=True, inplace=True)\\n# Slice [start:stop:step], starting from index 5 take every 6th record.\\n# df = df[5::6]\\n\\ndate_time = pd.to_datetime(df.pop('date'))\\n# title = df.pop('tweet')\\n\\ndf = df[[\\\"5. adjusted close\\\", \\\"2. high\\\", \\\"3. low\\\", \\\"6. volume\\\", \\\"negative\\\", \\\"nuetral\\\", \\\"positive\\\", \\\"log_return\\\"]]  \\n\\ndf.index = date_time\";\n                var nbb_formatted_code = \"df = pd.read_csv(csv_path)\\ndf.sort_values(by=[\\\"date\\\"], ascending=True, inplace=True)\\ndf.reset_index(drop=True, inplace=True)\\n# Slice [start:stop:step], starting from index 5 take every 6th record.\\n# df = df[5::6]\\n\\ndate_time = pd.to_datetime(df.pop(\\\"date\\\"))\\n# title = df.pop('tweet')\\n\\ndf = df[\\n    [\\n        \\\"5. adjusted close\\\",\\n        \\\"2. high\\\",\\n        \\\"3. low\\\",\\n        \\\"6. volume\\\",\\n        \\\"negative\\\",\\n        \\\"nuetral\\\",\\n        \\\"positive\\\",\\n        \\\"log_return\\\",\\n    ]\\n]\\n\\ndf.index = date_time\";\n                var nbb_cells = Jupyter.notebook.get_cells();\n                for (var i = 0; i < nbb_cells.length; ++i) {\n                    if (nbb_cells[i].input_prompt_number == nbb_cell_id) {\n                        if (nbb_cells[i].get_text() == nbb_unformatted_code) {\n                             nbb_cells[i].set_text(nbb_formatted_code);\n                        }\n                        break;\n                    }\n                }\n            }, 500);\n            ",
      "text/plain": [
       "<IPython.core.display.Javascript object>"
      ]
     },
     "metadata": {},
     "output_type": "display_data"
    }
   ],
   "source": [
    "df = pd.read_csv(csv_path)\n",
    "df.sort_values(by=[\"date\"], ascending=True, inplace=True)\n",
    "df.reset_index(drop=True, inplace=True)\n",
    "# Slice [start:stop:step], starting from index 5 take every 6th record.\n",
    "# df = df[5::6]\n",
    "\n",
    "date_time = pd.to_datetime(df.pop('date'))\n",
    "# title = df.pop('tweet')\n",
    "\n",
    "df = df[[\"5. adjusted close\", \"2. high\", \"3. low\", \"6. volume\", \"negative\", \"nuetral\", \"positive\", \"log_return\"]]  \n",
    "\n",
    "df.index = date_time"
   ]
  },
  {
   "cell_type": "code",
   "execution_count": 6,
   "metadata": {},
   "outputs": [
    {
     "name": "stdout",
     "output_type": "stream",
     "text": [
      "<class 'pandas.core.frame.DataFrame'>\n",
      "DatetimeIndex: 3064 entries, 2010-01-04 to 2022-03-04\n",
      "Data columns (total 8 columns):\n",
      " #   Column             Non-Null Count  Dtype  \n",
      "---  ------             --------------  -----  \n",
      " 0   5. adjusted close  3064 non-null   float64\n",
      " 1   2. high            3064 non-null   float64\n",
      " 2   3. low             3064 non-null   float64\n",
      " 3   6. volume          3064 non-null   float64\n",
      " 4   negative           3064 non-null   float64\n",
      " 5   nuetral            3064 non-null   float64\n",
      " 6   positive           3064 non-null   float64\n",
      " 7   log_return         3064 non-null   float64\n",
      "dtypes: float64(8)\n",
      "memory usage: 215.4 KB\n"
     ]
    },
    {
     "data": {
      "application/javascript": "\n            setTimeout(function() {\n                var nbb_cell_id = 6;\n                var nbb_unformatted_code = \"df.info()\";\n                var nbb_formatted_code = \"df.info()\";\n                var nbb_cells = Jupyter.notebook.get_cells();\n                for (var i = 0; i < nbb_cells.length; ++i) {\n                    if (nbb_cells[i].input_prompt_number == nbb_cell_id) {\n                        if (nbb_cells[i].get_text() == nbb_unformatted_code) {\n                             nbb_cells[i].set_text(nbb_formatted_code);\n                        }\n                        break;\n                    }\n                }\n            }, 500);\n            ",
      "text/plain": [
       "<IPython.core.display.Javascript object>"
      ]
     },
     "metadata": {},
     "output_type": "display_data"
    }
   ],
   "source": [
    "df.info()"
   ]
  },
  {
   "cell_type": "code",
   "execution_count": 7,
   "metadata": {},
   "outputs": [
    {
     "data": {
      "text/html": [
       "<div>\n",
       "<style scoped>\n",
       "    .dataframe tbody tr th:only-of-type {\n",
       "        vertical-align: middle;\n",
       "    }\n",
       "\n",
       "    .dataframe tbody tr th {\n",
       "        vertical-align: top;\n",
       "    }\n",
       "\n",
       "    .dataframe thead th {\n",
       "        text-align: right;\n",
       "    }\n",
       "</style>\n",
       "<table border=\"1\" class=\"dataframe\">\n",
       "  <thead>\n",
       "    <tr style=\"text-align: right;\">\n",
       "      <th></th>\n",
       "      <th>5. adjusted close</th>\n",
       "      <th>2. high</th>\n",
       "      <th>3. low</th>\n",
       "      <th>6. volume</th>\n",
       "      <th>negative</th>\n",
       "      <th>nuetral</th>\n",
       "      <th>positive</th>\n",
       "      <th>log_return</th>\n",
       "    </tr>\n",
       "    <tr>\n",
       "      <th>date</th>\n",
       "      <th></th>\n",
       "      <th></th>\n",
       "      <th></th>\n",
       "      <th></th>\n",
       "      <th></th>\n",
       "      <th></th>\n",
       "      <th></th>\n",
       "      <th></th>\n",
       "    </tr>\n",
       "  </thead>\n",
       "  <tbody>\n",
       "    <tr>\n",
       "      <th>2010-01-04</th>\n",
       "      <td>6.543876</td>\n",
       "      <td>214.50</td>\n",
       "      <td>212.38</td>\n",
       "      <td>17633200.0</td>\n",
       "      <td>0.210025</td>\n",
       "      <td>0.405298</td>\n",
       "      <td>0.384677</td>\n",
       "      <td>0.000000</td>\n",
       "    </tr>\n",
       "    <tr>\n",
       "      <th>2010-01-05</th>\n",
       "      <td>6.555190</td>\n",
       "      <td>215.59</td>\n",
       "      <td>213.25</td>\n",
       "      <td>21496600.0</td>\n",
       "      <td>0.243738</td>\n",
       "      <td>0.529363</td>\n",
       "      <td>0.226900</td>\n",
       "      <td>0.001727</td>\n",
       "    </tr>\n",
       "    <tr>\n",
       "      <th>2010-01-06</th>\n",
       "      <td>6.450921</td>\n",
       "      <td>215.23</td>\n",
       "      <td>210.75</td>\n",
       "      <td>19720000.0</td>\n",
       "      <td>0.077748</td>\n",
       "      <td>0.422044</td>\n",
       "      <td>0.500207</td>\n",
       "      <td>-0.016034</td>\n",
       "    </tr>\n",
       "    <tr>\n",
       "      <th>2010-01-07</th>\n",
       "      <td>6.438996</td>\n",
       "      <td>212.00</td>\n",
       "      <td>209.05</td>\n",
       "      <td>17040400.0</td>\n",
       "      <td>0.251646</td>\n",
       "      <td>0.076096</td>\n",
       "      <td>0.672258</td>\n",
       "      <td>-0.001850</td>\n",
       "    </tr>\n",
       "    <tr>\n",
       "      <th>2010-01-08</th>\n",
       "      <td>6.481804</td>\n",
       "      <td>212.00</td>\n",
       "      <td>209.06</td>\n",
       "      <td>15986100.0</td>\n",
       "      <td>0.227638</td>\n",
       "      <td>0.496481</td>\n",
       "      <td>0.275881</td>\n",
       "      <td>0.006626</td>\n",
       "    </tr>\n",
       "  </tbody>\n",
       "</table>\n",
       "</div>"
      ],
      "text/plain": [
       "            5. adjusted close  2. high  3. low   6. volume  negative  \\\n",
       "date                                                                   \n",
       "2010-01-04           6.543876   214.50  212.38  17633200.0  0.210025   \n",
       "2010-01-05           6.555190   215.59  213.25  21496600.0  0.243738   \n",
       "2010-01-06           6.450921   215.23  210.75  19720000.0  0.077748   \n",
       "2010-01-07           6.438996   212.00  209.05  17040400.0  0.251646   \n",
       "2010-01-08           6.481804   212.00  209.06  15986100.0  0.227638   \n",
       "\n",
       "             nuetral  positive  log_return  \n",
       "date                                        \n",
       "2010-01-04  0.405298  0.384677    0.000000  \n",
       "2010-01-05  0.529363  0.226900    0.001727  \n",
       "2010-01-06  0.422044  0.500207   -0.016034  \n",
       "2010-01-07  0.076096  0.672258   -0.001850  \n",
       "2010-01-08  0.496481  0.275881    0.006626  "
      ]
     },
     "execution_count": 7,
     "metadata": {},
     "output_type": "execute_result"
    },
    {
     "data": {
      "application/javascript": "\n            setTimeout(function() {\n                var nbb_cell_id = 7;\n                var nbb_unformatted_code = \"#df.set_index(\\\"date\\\", drop=True, inplace=True)\\ndf.head()\";\n                var nbb_formatted_code = \"# df.set_index(\\\"date\\\", drop=True, inplace=True)\\ndf.head()\";\n                var nbb_cells = Jupyter.notebook.get_cells();\n                for (var i = 0; i < nbb_cells.length; ++i) {\n                    if (nbb_cells[i].input_prompt_number == nbb_cell_id) {\n                        if (nbb_cells[i].get_text() == nbb_unformatted_code) {\n                             nbb_cells[i].set_text(nbb_formatted_code);\n                        }\n                        break;\n                    }\n                }\n            }, 500);\n            ",
      "text/plain": [
       "<IPython.core.display.Javascript object>"
      ]
     },
     "metadata": {},
     "output_type": "display_data"
    }
   ],
   "source": [
    "#df.set_index(\"date\", drop=True, inplace=True)\n",
    "df.head()"
   ]
  },
  {
   "cell_type": "code",
   "execution_count": 8,
   "metadata": {},
   "outputs": [
    {
     "data": {
      "text/plain": [
       "0.00548189101813235"
      ]
     },
     "execution_count": 8,
     "metadata": {},
     "output_type": "execute_result"
    },
    {
     "data": {
      "application/javascript": "\n            setTimeout(function() {\n                var nbb_cell_id = 8;\n                var nbb_unformatted_code = \"(214.60 - 213.43) / 213.43\";\n                var nbb_formatted_code = \"(214.60 - 213.43) / 213.43\";\n                var nbb_cells = Jupyter.notebook.get_cells();\n                for (var i = 0; i < nbb_cells.length; ++i) {\n                    if (nbb_cells[i].input_prompt_number == nbb_cell_id) {\n                        if (nbb_cells[i].get_text() == nbb_unformatted_code) {\n                             nbb_cells[i].set_text(nbb_formatted_code);\n                        }\n                        break;\n                    }\n                }\n            }, 500);\n            ",
      "text/plain": [
       "<IPython.core.display.Javascript object>"
      ]
     },
     "metadata": {},
     "output_type": "display_data"
    }
   ],
   "source": [
    "(214.60 - 213.43) / 213.43"
   ]
  },
  {
   "cell_type": "code",
   "execution_count": 9,
   "metadata": {},
   "outputs": [
    {
     "data": {
      "text/html": [
       "<div>\n",
       "<style scoped>\n",
       "    .dataframe tbody tr th:only-of-type {\n",
       "        vertical-align: middle;\n",
       "    }\n",
       "\n",
       "    .dataframe tbody tr th {\n",
       "        vertical-align: top;\n",
       "    }\n",
       "\n",
       "    .dataframe thead th {\n",
       "        text-align: right;\n",
       "    }\n",
       "</style>\n",
       "<table border=\"1\" class=\"dataframe\">\n",
       "  <thead>\n",
       "    <tr style=\"text-align: right;\">\n",
       "      <th></th>\n",
       "      <th>5. adjusted close</th>\n",
       "      <th>2. high</th>\n",
       "      <th>3. low</th>\n",
       "      <th>6. volume</th>\n",
       "      <th>negative</th>\n",
       "      <th>nuetral</th>\n",
       "      <th>positive</th>\n",
       "      <th>log_return</th>\n",
       "    </tr>\n",
       "  </thead>\n",
       "  <tbody>\n",
       "    <tr>\n",
       "      <th>count</th>\n",
       "      <td>3064.000000</td>\n",
       "      <td>3064.000000</td>\n",
       "      <td>3064.000000</td>\n",
       "      <td>3.064000e+03</td>\n",
       "      <td>3064.000000</td>\n",
       "      <td>3064.000000</td>\n",
       "      <td>3064.000000</td>\n",
       "      <td>3064.000000</td>\n",
       "    </tr>\n",
       "    <tr>\n",
       "      <th>mean</th>\n",
       "      <td>42.736360</td>\n",
       "      <td>262.829696</td>\n",
       "      <td>257.667717</td>\n",
       "      <td>3.829313e+07</td>\n",
       "      <td>0.321143</td>\n",
       "      <td>0.426511</td>\n",
       "      <td>0.252346</td>\n",
       "      <td>0.001050</td>\n",
       "    </tr>\n",
       "    <tr>\n",
       "      <th>std</th>\n",
       "      <td>41.154337</td>\n",
       "      <td>161.044982</td>\n",
       "      <td>157.946296</td>\n",
       "      <td>3.233265e+07</td>\n",
       "      <td>0.180541</td>\n",
       "      <td>0.165739</td>\n",
       "      <td>0.144635</td>\n",
       "      <td>0.017688</td>\n",
       "    </tr>\n",
       "    <tr>\n",
       "      <th>min</th>\n",
       "      <td>5.872396</td>\n",
       "      <td>90.700000</td>\n",
       "      <td>89.470000</td>\n",
       "      <td>5.624800e+06</td>\n",
       "      <td>0.008364</td>\n",
       "      <td>0.017954</td>\n",
       "      <td>0.006186</td>\n",
       "      <td>-0.137708</td>\n",
       "    </tr>\n",
       "    <tr>\n",
       "      <th>25%</th>\n",
       "      <td>16.285903</td>\n",
       "      <td>129.535000</td>\n",
       "      <td>127.102500</td>\n",
       "      <td>1.762402e+07</td>\n",
       "      <td>0.191073</td>\n",
       "      <td>0.312630</td>\n",
       "      <td>0.144354</td>\n",
       "      <td>-0.007166</td>\n",
       "    </tr>\n",
       "    <tr>\n",
       "      <th>50%</th>\n",
       "      <td>26.270965</td>\n",
       "      <td>194.330000</td>\n",
       "      <td>190.875000</td>\n",
       "      <td>2.763896e+07</td>\n",
       "      <td>0.303001</td>\n",
       "      <td>0.425656</td>\n",
       "      <td>0.234189</td>\n",
       "      <td>0.000942</td>\n",
       "    </tr>\n",
       "    <tr>\n",
       "      <th>75%</th>\n",
       "      <td>48.589739</td>\n",
       "      <td>369.210000</td>\n",
       "      <td>358.682500</td>\n",
       "      <td>4.667886e+07</td>\n",
       "      <td>0.427051</td>\n",
       "      <td>0.535098</td>\n",
       "      <td>0.338240</td>\n",
       "      <td>0.010404</td>\n",
       "    </tr>\n",
       "    <tr>\n",
       "      <th>max</th>\n",
       "      <td>181.778019</td>\n",
       "      <td>705.070000</td>\n",
       "      <td>699.570000</td>\n",
       "      <td>3.326072e+08</td>\n",
       "      <td>0.974446</td>\n",
       "      <td>0.926758</td>\n",
       "      <td>0.947640</td>\n",
       "      <td>0.113157</td>\n",
       "    </tr>\n",
       "  </tbody>\n",
       "</table>\n",
       "</div>"
      ],
      "text/plain": [
       "       5. adjusted close      2. high       3. low     6. volume     negative  \\\n",
       "count        3064.000000  3064.000000  3064.000000  3.064000e+03  3064.000000   \n",
       "mean           42.736360   262.829696   257.667717  3.829313e+07     0.321143   \n",
       "std            41.154337   161.044982   157.946296  3.233265e+07     0.180541   \n",
       "min             5.872396    90.700000    89.470000  5.624800e+06     0.008364   \n",
       "25%            16.285903   129.535000   127.102500  1.762402e+07     0.191073   \n",
       "50%            26.270965   194.330000   190.875000  2.763896e+07     0.303001   \n",
       "75%            48.589739   369.210000   358.682500  4.667886e+07     0.427051   \n",
       "max           181.778019   705.070000   699.570000  3.326072e+08     0.974446   \n",
       "\n",
       "           nuetral     positive   log_return  \n",
       "count  3064.000000  3064.000000  3064.000000  \n",
       "mean      0.426511     0.252346     0.001050  \n",
       "std       0.165739     0.144635     0.017688  \n",
       "min       0.017954     0.006186    -0.137708  \n",
       "25%       0.312630     0.144354    -0.007166  \n",
       "50%       0.425656     0.234189     0.000942  \n",
       "75%       0.535098     0.338240     0.010404  \n",
       "max       0.926758     0.947640     0.113157  "
      ]
     },
     "execution_count": 9,
     "metadata": {},
     "output_type": "execute_result"
    },
    {
     "data": {
      "application/javascript": "\n            setTimeout(function() {\n                var nbb_cell_id = 9;\n                var nbb_unformatted_code = \"df.describe()\";\n                var nbb_formatted_code = \"df.describe()\";\n                var nbb_cells = Jupyter.notebook.get_cells();\n                for (var i = 0; i < nbb_cells.length; ++i) {\n                    if (nbb_cells[i].input_prompt_number == nbb_cell_id) {\n                        if (nbb_cells[i].get_text() == nbb_unformatted_code) {\n                             nbb_cells[i].set_text(nbb_formatted_code);\n                        }\n                        break;\n                    }\n                }\n            }, 500);\n            ",
      "text/plain": [
       "<IPython.core.display.Javascript object>"
      ]
     },
     "metadata": {},
     "output_type": "display_data"
    }
   ],
   "source": [
    "df.describe()"
   ]
  },
  {
   "cell_type": "code",
   "execution_count": 10,
   "metadata": {},
   "outputs": [
    {
     "data": {
      "image/png": "[encoded data removed]",
      "text/plain": [
       "<Figure size 1152x432 with 1 Axes>"
      ]
     },
     "metadata": {
      "needs_background": "light"
     },
     "output_type": "display_data"
    },
    {
     "data": {
      "application/javascript": "\n            setTimeout(function() {\n                var nbb_cell_id = 10;\n                var nbb_unformatted_code = \"plt.figure(1, figsize=(16, 6))\\n_ = plt.plot(df['5. adjusted close'])\";\n                var nbb_formatted_code = \"plt.figure(1, figsize=(16, 6))\\n_ = plt.plot(df[\\\"5. adjusted close\\\"])\";\n                var nbb_cells = Jupyter.notebook.get_cells();\n                for (var i = 0; i < nbb_cells.length; ++i) {\n                    if (nbb_cells[i].input_prompt_number == nbb_cell_id) {\n                        if (nbb_cells[i].get_text() == nbb_unformatted_code) {\n                             nbb_cells[i].set_text(nbb_formatted_code);\n                        }\n                        break;\n                    }\n                }\n            }, 500);\n            ",
      "text/plain": [
       "<IPython.core.display.Javascript object>"
      ]
     },
     "metadata": {},
     "output_type": "display_data"
    }
   ],
   "source": [
    "plt.figure(1, figsize=(16, 6))\n",
    "_ = plt.plot(df['5. adjusted close'])"
   ]
  },
  {
   "cell_type": "code",
   "execution_count": 11,
   "metadata": {},
   "outputs": [
    {
     "data": {
      "text/plain": [
       "[<matplotlib.lines.Line2D at 0x7ff20b2b5a00>]"
      ]
     },
     "execution_count": 11,
     "metadata": {},
     "output_type": "execute_result"
    },
    {
     "data": {
      "image/png": "[encoded data removed]",
      "text/plain": [
       "<Figure size 1152x288 with 1 Axes>"
      ]
     },
     "metadata": {
      "needs_background": "light"
     },
     "output_type": "display_data"
    },
    {
     "data": {
      "application/javascript": "\n            setTimeout(function() {\n                var nbb_cell_id = 11;\n                var nbb_unformatted_code = \"plt.figure(1, figsize=(16, 4))\\nplt.plot(df.log_return)\";\n                var nbb_formatted_code = \"plt.figure(1, figsize=(16, 4))\\nplt.plot(df.log_return)\";\n                var nbb_cells = Jupyter.notebook.get_cells();\n                for (var i = 0; i < nbb_cells.length; ++i) {\n                    if (nbb_cells[i].input_prompt_number == nbb_cell_id) {\n                        if (nbb_cells[i].get_text() == nbb_unformatted_code) {\n                             nbb_cells[i].set_text(nbb_formatted_code);\n                        }\n                        break;\n                    }\n                }\n            }, 500);\n            ",
      "text/plain": [
       "<IPython.core.display.Javascript object>"
      ]
     },
     "metadata": {},
     "output_type": "display_data"
    }
   ],
   "source": [
    "plt.figure(1, figsize=(16, 4))\n",
    "plt.plot(df.log_return)"
   ]
  },
  {
   "cell_type": "code",
   "execution_count": 12,
   "metadata": {},
   "outputs": [
    {
     "data": {
      "application/javascript": "\n            setTimeout(function() {\n                var nbb_cell_id = 12;\n                var nbb_unformatted_code = \"# df.loc[\\\"2010-01-04\\\"][\\\"log_returns\\\"] = 0.0\\n# df.loc[\\\"2010-01-04\\\"][\\\"returns\\\"] = 0.0\";\n                var nbb_formatted_code = \"# df.loc[\\\"2010-01-04\\\"][\\\"log_returns\\\"] = 0.0\\n# df.loc[\\\"2010-01-04\\\"][\\\"returns\\\"] = 0.0\";\n                var nbb_cells = Jupyter.notebook.get_cells();\n                for (var i = 0; i < nbb_cells.length; ++i) {\n                    if (nbb_cells[i].input_prompt_number == nbb_cell_id) {\n                        if (nbb_cells[i].get_text() == nbb_unformatted_code) {\n                             nbb_cells[i].set_text(nbb_formatted_code);\n                        }\n                        break;\n                    }\n                }\n            }, 500);\n            ",
      "text/plain": [
       "<IPython.core.display.Javascript object>"
      ]
     },
     "metadata": {},
     "output_type": "display_data"
    }
   ],
   "source": [
    "# df.loc[\"2010-01-04\"][\"log_returns\"] = 0.0\n",
    "# df.loc[\"2010-01-04\"][\"returns\"] = 0.0"
   ]
  },
  {
   "cell_type": "code",
   "execution_count": 13,
   "metadata": {},
   "outputs": [
    {
     "data": {
      "application/javascript": "\n            setTimeout(function() {\n                var nbb_cell_id = 13;\n                var nbb_unformatted_code = \"# X = df[[\\\"5. adjusted close\\\", \\\"2. high\\\", \\\"3. low\\\", \\\"6. volume\\\", \\\"negative\\\", \\\"nuetral\\\", \\\"positive\\\"]].values\\n# X = df[[\\\"log_return\\\"]].values\\n\\nX = df.values\\n\\n# df.dropna(inplace=True)\\n# X = df[[\\\"5. adjusted close\\\", \\\"log_returns\\\"]].values\\n\\n\\n# X = df[[\\\"5. adjusted close\\\", \\\"2. high\\\", \\\"3. low\\\", \\\"6. volume\\\", \\\"log_returns\\\"]].values\";\n                var nbb_formatted_code = \"# X = df[[\\\"5. adjusted close\\\", \\\"2. high\\\", \\\"3. low\\\", \\\"6. volume\\\", \\\"negative\\\", \\\"nuetral\\\", \\\"positive\\\"]].values\\n# X = df[[\\\"log_return\\\"]].values\\n\\nX = df.values\\n\\n# df.dropna(inplace=True)\\n# X = df[[\\\"5. adjusted close\\\", \\\"log_returns\\\"]].values\\n\\n\\n# X = df[[\\\"5. adjusted close\\\", \\\"2. high\\\", \\\"3. low\\\", \\\"6. volume\\\", \\\"log_returns\\\"]].values\";\n                var nbb_cells = Jupyter.notebook.get_cells();\n                for (var i = 0; i < nbb_cells.length; ++i) {\n                    if (nbb_cells[i].input_prompt_number == nbb_cell_id) {\n                        if (nbb_cells[i].get_text() == nbb_unformatted_code) {\n                             nbb_cells[i].set_text(nbb_formatted_code);\n                        }\n                        break;\n                    }\n                }\n            }, 500);\n            ",
      "text/plain": [
       "<IPython.core.display.Javascript object>"
      ]
     },
     "metadata": {},
     "output_type": "display_data"
    }
   ],
   "source": [
    "# X = df[[\"5. adjusted close\", \"2. high\", \"3. low\", \"6. volume\", \"negative\", \"nuetral\", \"positive\"]].values\n",
    "# X = df[[\"log_return\"]].values\n",
    "\n",
    "X = df.values\n",
    "\n",
    "# df.dropna(inplace=True)\n",
    "# X = df[[\"5. adjusted close\", \"log_returns\"]].values\n",
    "\n",
    "\n",
    "# X = df[[\"5. adjusted close\", \"2. high\", \"3. low\", \"6. volume\", \"log_returns\"]].values"
   ]
  },
  {
   "cell_type": "code",
   "execution_count": 14,
   "metadata": {},
   "outputs": [
    {
     "data": {
      "text/plain": [
       "5. adjusted close    6.555190e+00\n",
       "2. high              2.155900e+02\n",
       "3. low               2.132500e+02\n",
       "6. volume            2.149660e+07\n",
       "negative             2.437375e-01\n",
       "nuetral              5.293627e-01\n",
       "positive             2.268998e-01\n",
       "log_return           1.727398e-03\n",
       "Name: 2010-01-05 00:00:00, dtype: float64"
      ]
     },
     "execution_count": 14,
     "metadata": {},
     "output_type": "execute_result"
    },
    {
     "data": {
      "application/javascript": "\n            setTimeout(function() {\n                var nbb_cell_id = 14;\n                var nbb_unformatted_code = \"df.loc[\\\"2010-01-05\\\"]\";\n                var nbb_formatted_code = \"df.loc[\\\"2010-01-05\\\"]\";\n                var nbb_cells = Jupyter.notebook.get_cells();\n                for (var i = 0; i < nbb_cells.length; ++i) {\n                    if (nbb_cells[i].input_prompt_number == nbb_cell_id) {\n                        if (nbb_cells[i].get_text() == nbb_unformatted_code) {\n                             nbb_cells[i].set_text(nbb_formatted_code);\n                        }\n                        break;\n                    }\n                }\n            }, 500);\n            ",
      "text/plain": [
       "<IPython.core.display.Javascript object>"
      ]
     },
     "metadata": {},
     "output_type": "display_data"
    }
   ],
   "source": [
    "df.loc[\"2010-01-05\"]"
   ]
  },
  {
   "cell_type": "code",
   "execution_count": 15,
   "metadata": {},
   "outputs": [
    {
     "data": {
      "application/javascript": "\n            setTimeout(function() {\n                var nbb_cell_id = 15;\n                var nbb_unformatted_code = \"from sklearn.preprocessing import MinMaxScaler\";\n                var nbb_formatted_code = \"from sklearn.preprocessing import MinMaxScaler\";\n                var nbb_cells = Jupyter.notebook.get_cells();\n                for (var i = 0; i < nbb_cells.length; ++i) {\n                    if (nbb_cells[i].input_prompt_number == nbb_cell_id) {\n                        if (nbb_cells[i].get_text() == nbb_unformatted_code) {\n                             nbb_cells[i].set_text(nbb_formatted_code);\n                        }\n                        break;\n                    }\n                }\n            }, 500);\n            ",
      "text/plain": [
       "<IPython.core.display.Javascript object>"
      ]
     },
     "metadata": {},
     "output_type": "display_data"
    }
   ],
   "source": [
    "from sklearn.preprocessing import MinMaxScaler"
   ]
  },
  {
   "cell_type": "code",
   "execution_count": 16,
   "metadata": {},
   "outputs": [
    {
     "data": {
      "application/javascript": "\n            setTimeout(function() {\n                var nbb_cell_id = 16;\n                var nbb_unformatted_code = \"scaler = MinMaxScaler(feature_range=(0, 1)).fit(X)\\nX_scaled = scaler.transform(X)\";\n                var nbb_formatted_code = \"scaler = MinMaxScaler(feature_range=(0, 1)).fit(X)\\nX_scaled = scaler.transform(X)\";\n                var nbb_cells = Jupyter.notebook.get_cells();\n                for (var i = 0; i < nbb_cells.length; ++i) {\n                    if (nbb_cells[i].input_prompt_number == nbb_cell_id) {\n                        if (nbb_cells[i].get_text() == nbb_unformatted_code) {\n                             nbb_cells[i].set_text(nbb_formatted_code);\n                        }\n                        break;\n                    }\n                }\n            }, 500);\n            ",
      "text/plain": [
       "<IPython.core.display.Javascript object>"
      ]
     },
     "metadata": {},
     "output_type": "display_data"
    }
   ],
   "source": [
    "scaler = MinMaxScaler(feature_range=(0, 1)).fit(X)\n",
    "X_scaled = scaler.transform(X)"
   ]
  },
  {
   "cell_type": "code",
   "execution_count": 17,
   "metadata": {},
   "outputs": [
    {
     "data": {
      "application/javascript": "\n            setTimeout(function() {\n                var nbb_cell_id = 17;\n                var nbb_unformatted_code = \"y = [x[0] for x in X_scaled]\";\n                var nbb_formatted_code = \"y = [x[0] for x in X_scaled]\";\n                var nbb_cells = Jupyter.notebook.get_cells();\n                for (var i = 0; i < nbb_cells.length; ++i) {\n                    if (nbb_cells[i].input_prompt_number == nbb_cell_id) {\n                        if (nbb_cells[i].get_text() == nbb_unformatted_code) {\n                             nbb_cells[i].set_text(nbb_formatted_code);\n                        }\n                        break;\n                    }\n                }\n            }, 500);\n            ",
      "text/plain": [
       "<IPython.core.display.Javascript object>"
      ]
     },
     "metadata": {},
     "output_type": "display_data"
    }
   ],
   "source": [
    "y = [x[0] for x in X_scaled]"
   ]
  },
  {
   "cell_type": "markdown",
   "metadata": {},
   "source": [
    "#### Train test split"
   ]
  },
  {
   "cell_type": "code",
   "execution_count": 18,
   "metadata": {},
   "outputs": [
    {
     "name": "stdout",
     "output_type": "stream",
     "text": [
      "2757\n"
     ]
    },
    {
     "data": {
      "application/javascript": "\n            setTimeout(function() {\n                var nbb_cell_id = 18;\n                var nbb_unformatted_code = \"split = int(len(X_scaled) * 0.9)\\nprint(split)\";\n                var nbb_formatted_code = \"split = int(len(X_scaled) * 0.9)\\nprint(split)\";\n                var nbb_cells = Jupyter.notebook.get_cells();\n                for (var i = 0; i < nbb_cells.length; ++i) {\n                    if (nbb_cells[i].input_prompt_number == nbb_cell_id) {\n                        if (nbb_cells[i].get_text() == nbb_unformatted_code) {\n                             nbb_cells[i].set_text(nbb_formatted_code);\n                        }\n                        break;\n                    }\n                }\n            }, 500);\n            ",
      "text/plain": [
       "<IPython.core.display.Javascript object>"
      ]
     },
     "metadata": {},
     "output_type": "display_data"
    }
   ],
   "source": [
    "split = int(len(X_scaled) * 0.9)\n",
    "print(split)"
   ]
  },
  {
   "cell_type": "code",
   "execution_count": 19,
   "metadata": {},
   "outputs": [
    {
     "data": {
      "application/javascript": "\n            setTimeout(function() {\n                var nbb_cell_id = 19;\n                var nbb_unformatted_code = \"X_train = X_scaled[:split]\\nX_test = X_scaled[split : len(X_scaled)]\\ny_train = y[:split]\\ny_test = y[split : len(y)]\";\n                var nbb_formatted_code = \"X_train = X_scaled[:split]\\nX_test = X_scaled[split : len(X_scaled)]\\ny_train = y[:split]\\ny_test = y[split : len(y)]\";\n                var nbb_cells = Jupyter.notebook.get_cells();\n                for (var i = 0; i < nbb_cells.length; ++i) {\n                    if (nbb_cells[i].input_prompt_number == nbb_cell_id) {\n                        if (nbb_cells[i].get_text() == nbb_unformatted_code) {\n                             nbb_cells[i].set_text(nbb_formatted_code);\n                        }\n                        break;\n                    }\n                }\n            }, 500);\n            ",
      "text/plain": [
       "<IPython.core.display.Javascript object>"
      ]
     },
     "metadata": {},
     "output_type": "display_data"
    }
   ],
   "source": [
    "X_train = X_scaled[:split]\n",
    "X_test = X_scaled[split : len(X_scaled)]\n",
    "y_train = y[:split]\n",
    "y_test = y[split : len(y)]"
   ]
  },
  {
   "cell_type": "code",
   "execution_count": 20,
   "metadata": {},
   "outputs": [
    {
     "name": "stdout",
     "output_type": "stream",
     "text": [
      "2757\n",
      "307\n"
     ]
    },
    {
     "data": {
      "application/javascript": "\n            setTimeout(function() {\n                var nbb_cell_id = 20;\n                var nbb_unformatted_code = \"print(len(X_train))\\nprint(len(X_test))\";\n                var nbb_formatted_code = \"print(len(X_train))\\nprint(len(X_test))\";\n                var nbb_cells = Jupyter.notebook.get_cells();\n                for (var i = 0; i < nbb_cells.length; ++i) {\n                    if (nbb_cells[i].input_prompt_number == nbb_cell_id) {\n                        if (nbb_cells[i].get_text() == nbb_unformatted_code) {\n                             nbb_cells[i].set_text(nbb_formatted_code);\n                        }\n                        break;\n                    }\n                }\n            }, 500);\n            ",
      "text/plain": [
       "<IPython.core.display.Javascript object>"
      ]
     },
     "metadata": {},
     "output_type": "display_data"
    }
   ],
   "source": [
    "print(len(X_train))\n",
    "print(len(X_test))"
   ]
  },
  {
   "cell_type": "markdown",
   "metadata": {},
   "source": [
    "#### Labeling\n",
    "\n",
    "We want to predict the stock price at a future time. We'll predict the stock price at time t + 1 relative to the stock price at time t."
   ]
  },
  {
   "cell_type": "markdown",
   "metadata": {},
   "source": [
    "As we're going to use an LSTM architecture, we know that it has memory and that it is maintained by setting the time step, basically how many steps in the past we want the LSTM to use.\n",
    "\n",
    "The time step  refers to how many steps in time we want the backpropagation algorithm to use when calculating gradients for weight updates during training.\n",
    "\n",
    "So we can use a method to create both the timestep and the output variable, the t + 1."
   ]
  },
  {
   "cell_type": "code",
   "execution_count": 21,
   "metadata": {},
   "outputs": [
    {
     "data": {
      "text/plain": [
       "(2757, 8)"
      ]
     },
     "execution_count": 21,
     "metadata": {},
     "output_type": "execute_result"
    },
    {
     "data": {
      "application/javascript": "\n            setTimeout(function() {\n                var nbb_cell_id = 21;\n                var nbb_unformatted_code = \"X_train.shape\";\n                var nbb_formatted_code = \"X_train.shape\";\n                var nbb_cells = Jupyter.notebook.get_cells();\n                for (var i = 0; i < nbb_cells.length; ++i) {\n                    if (nbb_cells[i].input_prompt_number == nbb_cell_id) {\n                        if (nbb_cells[i].get_text() == nbb_unformatted_code) {\n                             nbb_cells[i].set_text(nbb_formatted_code);\n                        }\n                        break;\n                    }\n                }\n            }, 500);\n            ",
      "text/plain": [
       "<IPython.core.display.Javascript object>"
      ]
     },
     "metadata": {},
     "output_type": "display_data"
    }
   ],
   "source": [
    "X_train.shape"
   ]
  },
  {
   "cell_type": "code",
   "execution_count": 22,
   "metadata": {},
   "outputs": [
    {
     "data": {
      "application/javascript": "\n            setTimeout(function() {\n                var nbb_cell_id = 22;\n                var nbb_unformatted_code = \"n = 63\\nXtrain = []\\nytrain = []\\nXtest = []\\nytest = []\\nfor i in range(n, len(X_train)):\\n    Xtrain.append(X_train[i - n : i, : X_train.shape[1]])\\n    ytrain.append(y_train[i])  # predict next record\\nfor i in range(n, len(X_test)):\\n    Xtest.append(X_test[i - n : i, : X_test.shape[1]])\\n    ytest.append(y_test[i])  # predict next record\";\n                var nbb_formatted_code = \"n = 63\\nXtrain = []\\nytrain = []\\nXtest = []\\nytest = []\\nfor i in range(n, len(X_train)):\\n    Xtrain.append(X_train[i - n : i, : X_train.shape[1]])\\n    ytrain.append(y_train[i])  # predict next record\\nfor i in range(n, len(X_test)):\\n    Xtest.append(X_test[i - n : i, : X_test.shape[1]])\\n    ytest.append(y_test[i])  # predict next record\";\n                var nbb_cells = Jupyter.notebook.get_cells();\n                for (var i = 0; i < nbb_cells.length; ++i) {\n                    if (nbb_cells[i].input_prompt_number == nbb_cell_id) {\n                        if (nbb_cells[i].get_text() == nbb_unformatted_code) {\n                             nbb_cells[i].set_text(nbb_formatted_code);\n                        }\n                        break;\n                    }\n                }\n            }, 500);\n            ",
      "text/plain": [
       "<IPython.core.display.Javascript object>"
      ]
     },
     "metadata": {},
     "output_type": "display_data"
    }
   ],
   "source": [
    "n = 63\n",
    "Xtrain = []\n",
    "ytrain = []\n",
    "Xtest = []\n",
    "ytest = []\n",
    "for i in range(n, len(X_train)):\n",
    "    Xtrain.append(X_train[i - n : i, : X_train.shape[1]])\n",
    "    ytrain.append(y_train[i])  # predict next record\n",
    "for i in range(n, len(X_test)):\n",
    "    Xtest.append(X_test[i - n : i, : X_test.shape[1]])\n",
    "    ytest.append(y_test[i])  # predict next record"
   ]
  },
  {
   "cell_type": "code",
   "execution_count": 23,
   "metadata": {},
   "outputs": [
    {
     "data": {
      "text/html": [
       "<div>\n",
       "<style scoped>\n",
       "    .dataframe tbody tr th:only-of-type {\n",
       "        vertical-align: middle;\n",
       "    }\n",
       "\n",
       "    .dataframe tbody tr th {\n",
       "        vertical-align: top;\n",
       "    }\n",
       "\n",
       "    .dataframe thead th {\n",
       "        text-align: right;\n",
       "    }\n",
       "</style>\n",
       "<table border=\"1\" class=\"dataframe\">\n",
       "  <thead>\n",
       "    <tr style=\"text-align: right;\">\n",
       "      <th></th>\n",
       "      <th>5. adjusted close</th>\n",
       "      <th>2. high</th>\n",
       "      <th>3. low</th>\n",
       "      <th>6. volume</th>\n",
       "      <th>negative</th>\n",
       "      <th>nuetral</th>\n",
       "      <th>positive</th>\n",
       "      <th>log_return</th>\n",
       "    </tr>\n",
       "    <tr>\n",
       "      <th>date</th>\n",
       "      <th></th>\n",
       "      <th></th>\n",
       "      <th></th>\n",
       "      <th></th>\n",
       "      <th></th>\n",
       "      <th></th>\n",
       "      <th></th>\n",
       "      <th></th>\n",
       "    </tr>\n",
       "  </thead>\n",
       "  <tbody>\n",
       "    <tr>\n",
       "      <th>2010-01-04</th>\n",
       "      <td>6.543876</td>\n",
       "      <td>214.50</td>\n",
       "      <td>212.38</td>\n",
       "      <td>17633200.0</td>\n",
       "      <td>0.210025</td>\n",
       "      <td>0.405298</td>\n",
       "      <td>0.384677</td>\n",
       "      <td>0.000000</td>\n",
       "    </tr>\n",
       "    <tr>\n",
       "      <th>2010-01-05</th>\n",
       "      <td>6.555190</td>\n",
       "      <td>215.59</td>\n",
       "      <td>213.25</td>\n",
       "      <td>21496600.0</td>\n",
       "      <td>0.243738</td>\n",
       "      <td>0.529363</td>\n",
       "      <td>0.226900</td>\n",
       "      <td>0.001727</td>\n",
       "    </tr>\n",
       "    <tr>\n",
       "      <th>2010-01-06</th>\n",
       "      <td>6.450921</td>\n",
       "      <td>215.23</td>\n",
       "      <td>210.75</td>\n",
       "      <td>19720000.0</td>\n",
       "      <td>0.077748</td>\n",
       "      <td>0.422044</td>\n",
       "      <td>0.500207</td>\n",
       "      <td>-0.016034</td>\n",
       "    </tr>\n",
       "    <tr>\n",
       "      <th>2010-01-07</th>\n",
       "      <td>6.438996</td>\n",
       "      <td>212.00</td>\n",
       "      <td>209.05</td>\n",
       "      <td>17040400.0</td>\n",
       "      <td>0.251646</td>\n",
       "      <td>0.076096</td>\n",
       "      <td>0.672258</td>\n",
       "      <td>-0.001850</td>\n",
       "    </tr>\n",
       "    <tr>\n",
       "      <th>2010-01-08</th>\n",
       "      <td>6.481804</td>\n",
       "      <td>212.00</td>\n",
       "      <td>209.06</td>\n",
       "      <td>15986100.0</td>\n",
       "      <td>0.227638</td>\n",
       "      <td>0.496481</td>\n",
       "      <td>0.275881</td>\n",
       "      <td>0.006626</td>\n",
       "    </tr>\n",
       "  </tbody>\n",
       "</table>\n",
       "</div>"
      ],
      "text/plain": [
       "            5. adjusted close  2. high  3. low   6. volume  negative  \\\n",
       "date                                                                   \n",
       "2010-01-04           6.543876   214.50  212.38  17633200.0  0.210025   \n",
       "2010-01-05           6.555190   215.59  213.25  21496600.0  0.243738   \n",
       "2010-01-06           6.450921   215.23  210.75  19720000.0  0.077748   \n",
       "2010-01-07           6.438996   212.00  209.05  17040400.0  0.251646   \n",
       "2010-01-08           6.481804   212.00  209.06  15986100.0  0.227638   \n",
       "\n",
       "             nuetral  positive  log_return  \n",
       "date                                        \n",
       "2010-01-04  0.405298  0.384677    0.000000  \n",
       "2010-01-05  0.529363  0.226900    0.001727  \n",
       "2010-01-06  0.422044  0.500207   -0.016034  \n",
       "2010-01-07  0.076096  0.672258   -0.001850  \n",
       "2010-01-08  0.496481  0.275881    0.006626  "
      ]
     },
     "execution_count": 23,
     "metadata": {},
     "output_type": "execute_result"
    },
    {
     "data": {
      "application/javascript": "\n            setTimeout(function() {\n                var nbb_cell_id = 23;\n                var nbb_unformatted_code = \"df.head(5)\";\n                var nbb_formatted_code = \"df.head(5)\";\n                var nbb_cells = Jupyter.notebook.get_cells();\n                for (var i = 0; i < nbb_cells.length; ++i) {\n                    if (nbb_cells[i].input_prompt_number == nbb_cell_id) {\n                        if (nbb_cells[i].get_text() == nbb_unformatted_code) {\n                             nbb_cells[i].set_text(nbb_formatted_code);\n                        }\n                        break;\n                    }\n                }\n            }, 500);\n            ",
      "text/plain": [
       "<IPython.core.display.Javascript object>"
      ]
     },
     "metadata": {},
     "output_type": "display_data"
    }
   ],
   "source": [
    "df.head(5)"
   ]
  },
  {
   "cell_type": "code",
   "execution_count": 24,
   "metadata": {},
   "outputs": [
    {
     "data": {
      "text/plain": [
       "(63, 8)"
      ]
     },
     "execution_count": 24,
     "metadata": {},
     "output_type": "execute_result"
    },
    {
     "data": {
      "application/javascript": "\n            setTimeout(function() {\n                var nbb_cell_id = 24;\n                var nbb_unformatted_code = \"Xtrain[0].shape\";\n                var nbb_formatted_code = \"Xtrain[0].shape\";\n                var nbb_cells = Jupyter.notebook.get_cells();\n                for (var i = 0; i < nbb_cells.length; ++i) {\n                    if (nbb_cells[i].input_prompt_number == nbb_cell_id) {\n                        if (nbb_cells[i].get_text() == nbb_unformatted_code) {\n                             nbb_cells[i].set_text(nbb_formatted_code);\n                        }\n                        break;\n                    }\n                }\n            }, 500);\n            ",
      "text/plain": [
       "<IPython.core.display.Javascript object>"
      ]
     },
     "metadata": {},
     "output_type": "display_data"
    }
   ],
   "source": [
    "Xtrain[0].shape"
   ]
  },
  {
   "cell_type": "code",
   "execution_count": 25,
   "metadata": {},
   "outputs": [
    {
     "data": {
      "text/plain": [
       "0.0038172765493509966"
      ]
     },
     "execution_count": 25,
     "metadata": {},
     "output_type": "execute_result"
    },
    {
     "data": {
      "application/javascript": "\n            setTimeout(function() {\n                var nbb_cell_id = 25;\n                var nbb_unformatted_code = \"Xtrain[0][0][0]\";\n                var nbb_formatted_code = \"Xtrain[0][0][0]\";\n                var nbb_cells = Jupyter.notebook.get_cells();\n                for (var i = 0; i < nbb_cells.length; ++i) {\n                    if (nbb_cells[i].input_prompt_number == nbb_cell_id) {\n                        if (nbb_cells[i].get_text() == nbb_unformatted_code) {\n                             nbb_cells[i].set_text(nbb_formatted_code);\n                        }\n                        break;\n                    }\n                }\n            }, 500);\n            ",
      "text/plain": [
       "<IPython.core.display.Javascript object>"
      ]
     },
     "metadata": {},
     "output_type": "display_data"
    }
   ],
   "source": [
    "Xtrain[0][0][0]"
   ]
  },
  {
   "cell_type": "code",
   "execution_count": 26,
   "metadata": {},
   "outputs": [
    {
     "data": {
      "text/plain": [
       "0.008255121280958282"
      ]
     },
     "execution_count": 26,
     "metadata": {},
     "output_type": "execute_result"
    },
    {
     "data": {
      "application/javascript": "\n            setTimeout(function() {\n                var nbb_cell_id = 26;\n                var nbb_unformatted_code = \"ytrain[0]\";\n                var nbb_formatted_code = \"ytrain[0]\";\n                var nbb_cells = Jupyter.notebook.get_cells();\n                for (var i = 0; i < nbb_cells.length; ++i) {\n                    if (nbb_cells[i].input_prompt_number == nbb_cell_id) {\n                        if (nbb_cells[i].get_text() == nbb_unformatted_code) {\n                             nbb_cells[i].set_text(nbb_formatted_code);\n                        }\n                        break;\n                    }\n                }\n            }, 500);\n            ",
      "text/plain": [
       "<IPython.core.display.Javascript object>"
      ]
     },
     "metadata": {},
     "output_type": "display_data"
    }
   ],
   "source": [
    "ytrain[0]"
   ]
  },
  {
   "cell_type": "code",
   "execution_count": 27,
   "metadata": {},
   "outputs": [
    {
     "data": {
      "application/javascript": "\n            setTimeout(function() {\n                var nbb_cell_id = 27;\n                var nbb_unformatted_code = \"val = np.array(ytrain[0])\\nval = np.c_[val, np.zeros(val.shape), np.zeros(val.shape), np.zeros(val.shape), np.zeros(val.shape), np.zeros(val.shape), np.zeros(val.shape), np.zeros(val.shape)]\\nval = np.c_[val]\";\n                var nbb_formatted_code = \"val = np.array(ytrain[0])\\nval = np.c_[\\n    val,\\n    np.zeros(val.shape),\\n    np.zeros(val.shape),\\n    np.zeros(val.shape),\\n    np.zeros(val.shape),\\n    np.zeros(val.shape),\\n    np.zeros(val.shape),\\n    np.zeros(val.shape),\\n]\\nval = np.c_[val]\";\n                var nbb_cells = Jupyter.notebook.get_cells();\n                for (var i = 0; i < nbb_cells.length; ++i) {\n                    if (nbb_cells[i].input_prompt_number == nbb_cell_id) {\n                        if (nbb_cells[i].get_text() == nbb_unformatted_code) {\n                             nbb_cells[i].set_text(nbb_formatted_code);\n                        }\n                        break;\n                    }\n                }\n            }, 500);\n            ",
      "text/plain": [
       "<IPython.core.display.Javascript object>"
      ]
     },
     "metadata": {},
     "output_type": "display_data"
    }
   ],
   "source": [
    "val = np.array(ytrain[0])\n",
    "val = np.c_[val, np.zeros(val.shape), np.zeros(val.shape), np.zeros(val.shape), np.zeros(val.shape), np.zeros(val.shape), np.zeros(val.shape), np.zeros(val.shape)]\n",
    "val = np.c_[val]"
   ]
  },
  {
   "cell_type": "code",
   "execution_count": 28,
   "metadata": {},
   "outputs": [
    {
     "data": {
      "application/javascript": "\n            setTimeout(function() {\n                var nbb_cell_id = 28;\n                var nbb_unformatted_code = \"val_rescaled = scaler.inverse_transform(val)\";\n                var nbb_formatted_code = \"val_rescaled = scaler.inverse_transform(val)\";\n                var nbb_cells = Jupyter.notebook.get_cells();\n                for (var i = 0; i < nbb_cells.length; ++i) {\n                    if (nbb_cells[i].input_prompt_number == nbb_cell_id) {\n                        if (nbb_cells[i].get_text() == nbb_unformatted_code) {\n                             nbb_cells[i].set_text(nbb_formatted_code);\n                        }\n                        break;\n                    }\n                }\n            }, 500);\n            ",
      "text/plain": [
       "<IPython.core.display.Javascript object>"
      ]
     },
     "metadata": {},
     "output_type": "display_data"
    }
   ],
   "source": [
    "val_rescaled = scaler.inverse_transform(val)"
   ]
  },
  {
   "cell_type": "code",
   "execution_count": 29,
   "metadata": {},
   "outputs": [
    {
     "data": {
      "text/plain": [
       "7.324518108340001"
      ]
     },
     "execution_count": 29,
     "metadata": {},
     "output_type": "execute_result"
    },
    {
     "data": {
      "application/javascript": "\n            setTimeout(function() {\n                var nbb_cell_id = 29;\n                var nbb_unformatted_code = \"val_rescaled[0][0]\";\n                var nbb_formatted_code = \"val_rescaled[0][0]\";\n                var nbb_cells = Jupyter.notebook.get_cells();\n                for (var i = 0; i < nbb_cells.length; ++i) {\n                    if (nbb_cells[i].input_prompt_number == nbb_cell_id) {\n                        if (nbb_cells[i].get_text() == nbb_unformatted_code) {\n                             nbb_cells[i].set_text(nbb_formatted_code);\n                        }\n                        break;\n                    }\n                }\n            }, 500);\n            ",
      "text/plain": [
       "<IPython.core.display.Javascript object>"
      ]
     },
     "metadata": {},
     "output_type": "display_data"
    }
   ],
   "source": [
    "val_rescaled[0][0]"
   ]
  },
  {
   "cell_type": "code",
   "execution_count": 30,
   "metadata": {},
   "outputs": [
    {
     "data": {
      "text/html": [
       "<div>\n",
       "<style scoped>\n",
       "    .dataframe tbody tr th:only-of-type {\n",
       "        vertical-align: middle;\n",
       "    }\n",
       "\n",
       "    .dataframe tbody tr th {\n",
       "        vertical-align: top;\n",
       "    }\n",
       "\n",
       "    .dataframe thead th {\n",
       "        text-align: right;\n",
       "    }\n",
       "</style>\n",
       "<table border=\"1\" class=\"dataframe\">\n",
       "  <thead>\n",
       "    <tr style=\"text-align: right;\">\n",
       "      <th></th>\n",
       "      <th>5. adjusted close</th>\n",
       "      <th>2. high</th>\n",
       "      <th>3. low</th>\n",
       "      <th>6. volume</th>\n",
       "      <th>negative</th>\n",
       "      <th>nuetral</th>\n",
       "      <th>positive</th>\n",
       "      <th>log_return</th>\n",
       "    </tr>\n",
       "    <tr>\n",
       "      <th>date</th>\n",
       "      <th></th>\n",
       "      <th></th>\n",
       "      <th></th>\n",
       "      <th></th>\n",
       "      <th></th>\n",
       "      <th></th>\n",
       "      <th></th>\n",
       "      <th></th>\n",
       "    </tr>\n",
       "  </thead>\n",
       "  <tbody>\n",
       "    <tr>\n",
       "      <th>2010-04-06</th>\n",
       "      <td>7.324518</td>\n",
       "      <td>240.24</td>\n",
       "      <td>237.0</td>\n",
       "      <td>15964900.0</td>\n",
       "      <td>0.220698</td>\n",
       "      <td>0.511453</td>\n",
       "      <td>0.267849</td>\n",
       "      <td>0.004393</td>\n",
       "    </tr>\n",
       "  </tbody>\n",
       "</table>\n",
       "</div>"
      ],
      "text/plain": [
       "            5. adjusted close  2. high  3. low   6. volume  negative  \\\n",
       "date                                                                   \n",
       "2010-04-06           7.324518   240.24   237.0  15964900.0  0.220698   \n",
       "\n",
       "             nuetral  positive  log_return  \n",
       "date                                        \n",
       "2010-04-06  0.511453  0.267849    0.004393  "
      ]
     },
     "execution_count": 30,
     "metadata": {},
     "output_type": "execute_result"
    },
    {
     "data": {
      "application/javascript": "\n            setTimeout(function() {\n                var nbb_cell_id = 30;\n                var nbb_unformatted_code = \"df[63:64]\";\n                var nbb_formatted_code = \"df[63:64]\";\n                var nbb_cells = Jupyter.notebook.get_cells();\n                for (var i = 0; i < nbb_cells.length; ++i) {\n                    if (nbb_cells[i].input_prompt_number == nbb_cell_id) {\n                        if (nbb_cells[i].get_text() == nbb_unformatted_code) {\n                             nbb_cells[i].set_text(nbb_formatted_code);\n                        }\n                        break;\n                    }\n                }\n            }, 500);\n            ",
      "text/plain": [
       "<IPython.core.display.Javascript object>"
      ]
     },
     "metadata": {},
     "output_type": "display_data"
    }
   ],
   "source": [
    "df[63:64]"
   ]
  },
  {
   "cell_type": "markdown",
   "metadata": {},
   "source": [
    "In an LSTM network the input for each LSTM layer needs to contain the following information:\n",
    "- The number of observations\n",
    "- The time steps\n",
    "- The features\n",
    "\n",
    "Therefore we need to add a temporal dimension compared to a classical network:\n",
    "\n",
    "(number of observations, number of steps, number of features per step)"
   ]
  },
  {
   "cell_type": "code",
   "execution_count": 31,
   "metadata": {},
   "outputs": [
    {
     "data": {
      "application/javascript": "\n            setTimeout(function() {\n                var nbb_cell_id = 31;\n                var nbb_unformatted_code = \"Xtrain, ytrain = (np.array(Xtrain), np.array(ytrain))\\nXtrain = np.reshape(Xtrain, (Xtrain.shape[0], Xtrain.shape[1], Xtrain.shape[2]))\\n\\nXtest, ytest = (np.array(Xtest), np.array(ytest))\\nXtest = np.reshape(Xtest, (Xtest.shape[0], Xtest.shape[1], Xtest.shape[2]))\";\n                var nbb_formatted_code = \"Xtrain, ytrain = (np.array(Xtrain), np.array(ytrain))\\nXtrain = np.reshape(Xtrain, (Xtrain.shape[0], Xtrain.shape[1], Xtrain.shape[2]))\\n\\nXtest, ytest = (np.array(Xtest), np.array(ytest))\\nXtest = np.reshape(Xtest, (Xtest.shape[0], Xtest.shape[1], Xtest.shape[2]))\";\n                var nbb_cells = Jupyter.notebook.get_cells();\n                for (var i = 0; i < nbb_cells.length; ++i) {\n                    if (nbb_cells[i].input_prompt_number == nbb_cell_id) {\n                        if (nbb_cells[i].get_text() == nbb_unformatted_code) {\n                             nbb_cells[i].set_text(nbb_formatted_code);\n                        }\n                        break;\n                    }\n                }\n            }, 500);\n            ",
      "text/plain": [
       "<IPython.core.display.Javascript object>"
      ]
     },
     "metadata": {},
     "output_type": "display_data"
    }
   ],
   "source": [
    "Xtrain, ytrain = (np.array(Xtrain), np.array(ytrain))\n",
    "Xtrain = np.reshape(Xtrain, (Xtrain.shape[0], Xtrain.shape[1], Xtrain.shape[2]))\n",
    "\n",
    "Xtest, ytest = (np.array(Xtest), np.array(ytest))\n",
    "Xtest = np.reshape(Xtest, (Xtest.shape[0], Xtest.shape[1], Xtest.shape[2]))"
   ]
  },
  {
   "cell_type": "code",
   "execution_count": 32,
   "metadata": {
    "scrolled": true
   },
   "outputs": [
    {
     "name": "stdout",
     "output_type": "stream",
     "text": [
      "(2694, 63, 8)\n",
      "(2694,)\n",
      "---\n",
      "(244, 63, 8)\n",
      "(244,)\n"
     ]
    },
    {
     "data": {
      "application/javascript": "\n            setTimeout(function() {\n                var nbb_cell_id = 32;\n                var nbb_unformatted_code = \"print(Xtrain.shape)\\nprint(ytrain.shape)\\nprint(\\\"---\\\")\\nprint(Xtest.shape)\\nprint(ytest.shape)\";\n                var nbb_formatted_code = \"print(Xtrain.shape)\\nprint(ytrain.shape)\\nprint(\\\"---\\\")\\nprint(Xtest.shape)\\nprint(ytest.shape)\";\n                var nbb_cells = Jupyter.notebook.get_cells();\n                for (var i = 0; i < nbb_cells.length; ++i) {\n                    if (nbb_cells[i].input_prompt_number == nbb_cell_id) {\n                        if (nbb_cells[i].get_text() == nbb_unformatted_code) {\n                             nbb_cells[i].set_text(nbb_formatted_code);\n                        }\n                        break;\n                    }\n                }\n            }, 500);\n            ",
      "text/plain": [
       "<IPython.core.display.Javascript object>"
      ]
     },
     "metadata": {},
     "output_type": "display_data"
    }
   ],
   "source": [
    "print(Xtrain.shape)\n",
    "print(ytrain.shape)\n",
    "print(\"---\")\n",
    "print(Xtest.shape)\n",
    "print(ytest.shape)"
   ]
  },
  {
   "cell_type": "markdown",
   "metadata": {},
   "source": [
    "#### LSTM Model"
   ]
  },
  {
   "cell_type": "code",
   "execution_count": 33,
   "metadata": {},
   "outputs": [
    {
     "data": {
      "application/javascript": "\n            setTimeout(function() {\n                var nbb_cell_id = 33;\n                var nbb_unformatted_code = \"from keras.models import Sequential\\nfrom keras.layers import LSTM, Dense\";\n                var nbb_formatted_code = \"from keras.models import Sequential\\nfrom keras.layers import LSTM, Dense\";\n                var nbb_cells = Jupyter.notebook.get_cells();\n                for (var i = 0; i < nbb_cells.length; ++i) {\n                    if (nbb_cells[i].input_prompt_number == nbb_cell_id) {\n                        if (nbb_cells[i].get_text() == nbb_unformatted_code) {\n                             nbb_cells[i].set_text(nbb_formatted_code);\n                        }\n                        break;\n                    }\n                }\n            }, 500);\n            ",
      "text/plain": [
       "<IPython.core.display.Javascript object>"
      ]
     },
     "metadata": {},
     "output_type": "display_data"
    }
   ],
   "source": [
    "from keras.models import Sequential\n",
    "from keras.layers import LSTM, Dense"
   ]
  },
  {
   "cell_type": "code",
   "execution_count": 34,
   "metadata": {},
   "outputs": [
    {
     "data": {
      "application/javascript": "\n            setTimeout(function() {\n                var nbb_cell_id = 34;\n                var nbb_unformatted_code = \"results_path = Path('results', 'lstm')\\nif not results_path.exists():\\n    results_path.mkdir(parents=True)\";\n                var nbb_formatted_code = \"results_path = Path(\\\"results\\\", \\\"lstm\\\")\\nif not results_path.exists():\\n    results_path.mkdir(parents=True)\";\n                var nbb_cells = Jupyter.notebook.get_cells();\n                for (var i = 0; i < nbb_cells.length; ++i) {\n                    if (nbb_cells[i].input_prompt_number == nbb_cell_id) {\n                        if (nbb_cells[i].get_text() == nbb_unformatted_code) {\n                             nbb_cells[i].set_text(nbb_formatted_code);\n                        }\n                        break;\n                    }\n                }\n            }, 500);\n            ",
      "text/plain": [
       "<IPython.core.display.Javascript object>"
      ]
     },
     "metadata": {},
     "output_type": "display_data"
    }
   ],
   "source": [
    "results_path = Path('results', 'lstm')\n",
    "if not results_path.exists():\n",
    "    results_path.mkdir(parents=True)"
   ]
  },
  {
   "cell_type": "code",
   "execution_count": 35,
   "metadata": {},
   "outputs": [
    {
     "data": {
      "application/javascript": "\n            setTimeout(function() {\n                var nbb_cell_id = 35;\n                var nbb_unformatted_code = \"# MAX_EPOCHS = 500\\nMAX_EPOCHS = 100\\n# patience=50\\npatience=30\\n\\nlstm_path = (results_path / 'lstm.h5').as_posix()\\ncheckpointer = tf.keras.callbacks.ModelCheckpoint(filepath=lstm_path,\\n                               verbose=1,\\n                               monitor='val_loss',\\n                               save_best_only=True)\\n\\nlr_schedule = tf.keras.optimizers.schedules.ExponentialDecay(\\n    initial_learning_rate=1e-3,\\n    decay_steps=10000,\\n    decay_rate=0.9)\\n\\noptimizer = tf.keras.optimizers.RMSprop(learning_rate=0.001,\\n                                     # learning_rate=lr_schedule,\\n                                     rho=0.9,\\n                                     epsilon=1e-08,\\n                                     decay=0.0)\\n\\ndef compile_and_fit(model, patience=patience):\\n  early_stopping = tf.keras.callbacks.EarlyStopping(monitor='val_loss',\\n                                                    patience=patience,\\n                                                    mode='min',  \\n                                                    restore_best_weights=True)\\n\\n  model.compile(loss=tf.losses.MeanSquaredError(),\\n                optimizer=optimizer,\\n                metrics=[tf.losses.MeanAbsoluteError()])\\n\\n  history = model.fit(Xtrain, ytrain, epochs=MAX_EPOCHS,\\n                      validation_data=(Xtest, ytest),\\n                      callbacks=[early_stopping, checkpointer],\\n                      batch_size=32,\\n                      shuffle=True,\\n                      verbose=1)\\n  return history\";\n                var nbb_formatted_code = \"# MAX_EPOCHS = 500\\nMAX_EPOCHS = 100\\n# patience=50\\npatience = 30\\n\\nlstm_path = (results_path / \\\"lstm.h5\\\").as_posix()\\ncheckpointer = tf.keras.callbacks.ModelCheckpoint(\\n    filepath=lstm_path, verbose=1, monitor=\\\"val_loss\\\", save_best_only=True\\n)\\n\\nlr_schedule = tf.keras.optimizers.schedules.ExponentialDecay(\\n    initial_learning_rate=1e-3, decay_steps=10000, decay_rate=0.9\\n)\\n\\noptimizer = tf.keras.optimizers.RMSprop(\\n    learning_rate=0.001,\\n    # learning_rate=lr_schedule,\\n    rho=0.9,\\n    epsilon=1e-08,\\n    decay=0.0,\\n)\\n\\n\\ndef compile_and_fit(model, patience=patience):\\n    early_stopping = tf.keras.callbacks.EarlyStopping(\\n        monitor=\\\"val_loss\\\", patience=patience, mode=\\\"min\\\", restore_best_weights=True\\n    )\\n\\n    model.compile(\\n        loss=tf.losses.MeanSquaredError(),\\n        optimizer=optimizer,\\n        metrics=[tf.losses.MeanAbsoluteError()],\\n    )\\n\\n    history = model.fit(\\n        Xtrain,\\n        ytrain,\\n        epochs=MAX_EPOCHS,\\n        validation_data=(Xtest, ytest),\\n        callbacks=[early_stopping, checkpointer],\\n        batch_size=32,\\n        shuffle=True,\\n        verbose=1,\\n    )\\n    return history\";\n                var nbb_cells = Jupyter.notebook.get_cells();\n                for (var i = 0; i < nbb_cells.length; ++i) {\n                    if (nbb_cells[i].input_prompt_number == nbb_cell_id) {\n                        if (nbb_cells[i].get_text() == nbb_unformatted_code) {\n                             nbb_cells[i].set_text(nbb_formatted_code);\n                        }\n                        break;\n                    }\n                }\n            }, 500);\n            ",
      "text/plain": [
       "<IPython.core.display.Javascript object>"
      ]
     },
     "metadata": {},
     "output_type": "display_data"
    }
   ],
   "source": [
    "# MAX_EPOCHS = 500\n",
    "MAX_EPOCHS = 100\n",
    "# patience=50\n",
    "patience=30\n",
    "\n",
    "lstm_path = (results_path / 'lstm.h5').as_posix()\n",
    "checkpointer = tf.keras.callbacks.ModelCheckpoint(filepath=lstm_path,\n",
    "                               verbose=1,\n",
    "                               monitor='val_loss',\n",
    "                               save_best_only=True)\n",
    "\n",
    "lr_schedule = tf.keras.optimizers.schedules.ExponentialDecay(\n",
    "    initial_learning_rate=1e-3,\n",
    "    decay_steps=10000,\n",
    "    decay_rate=0.9)\n",
    "\n",
    "optimizer = tf.keras.optimizers.RMSprop(learning_rate=0.001,\n",
    "                                     # learning_rate=lr_schedule,\n",
    "                                     rho=0.9,\n",
    "                                     epsilon=1e-08,\n",
    "                                     decay=0.0)\n",
    "\n",
    "def compile_and_fit(model, patience=patience):\n",
    "  early_stopping = tf.keras.callbacks.EarlyStopping(monitor='val_loss',\n",
    "                                                    patience=patience,\n",
    "                                                    mode='min',  \n",
    "                                                    restore_best_weights=True)\n",
    "\n",
    "  model.compile(loss=tf.losses.MeanSquaredError(),\n",
    "                optimizer=optimizer,\n",
    "                metrics=[tf.losses.MeanAbsoluteError()])\n",
    "\n",
    "  history = model.fit(Xtrain, ytrain, epochs=MAX_EPOCHS,\n",
    "                      validation_data=(Xtest, ytest),\n",
    "                      callbacks=[early_stopping, checkpointer],\n",
    "                      batch_size=32,\n",
    "                      shuffle=True,\n",
    "                      verbose=1)\n",
    "  return history\n"
   ]
  },
  {
   "cell_type": "code",
   "execution_count": 36,
   "metadata": {},
   "outputs": [
    {
     "data": {
      "application/javascript": "\n            setTimeout(function() {\n                var nbb_cell_id = 36;\n                var nbb_unformatted_code = \"from keras.layers import Dropout\";\n                var nbb_formatted_code = \"from keras.layers import Dropout\";\n                var nbb_cells = Jupyter.notebook.get_cells();\n                for (var i = 0; i < nbb_cells.length; ++i) {\n                    if (nbb_cells[i].input_prompt_number == nbb_cell_id) {\n                        if (nbb_cells[i].get_text() == nbb_unformatted_code) {\n                             nbb_cells[i].set_text(nbb_formatted_code);\n                        }\n                        break;\n                    }\n                }\n            }, 500);\n            ",
      "text/plain": [
       "<IPython.core.display.Javascript object>"
      ]
     },
     "metadata": {},
     "output_type": "display_data"
    }
   ],
   "source": [
    "from keras.layers import Dropout"
   ]
  },
  {
   "cell_type": "code",
   "execution_count": 37,
   "metadata": {
    "scrolled": true
   },
   "outputs": [
    {
     "data": {
      "application/javascript": "\n            setTimeout(function() {\n                var nbb_cell_id = 37;\n                var nbb_unformatted_code = \"model = Sequential([\\n    LSTM(units=64, \\n         return_sequences=False,\\n         # Shape => [batch, time, features]\\n         input_shape=(Xtrain.shape[1], Xtrain.shape[2]), \\n         name='LSTM'),\\n    # Dropout(0.10),\\n    Dense(1, name='Output')\\n])\";\n                var nbb_formatted_code = \"model = Sequential(\\n    [\\n        LSTM(\\n            units=64,\\n            return_sequences=False,\\n            # Shape => [batch, time, features]\\n            input_shape=(Xtrain.shape[1], Xtrain.shape[2]),\\n            name=\\\"LSTM\\\",\\n        ),\\n        # Dropout(0.10),\\n        Dense(1, name=\\\"Output\\\"),\\n    ]\\n)\";\n                var nbb_cells = Jupyter.notebook.get_cells();\n                for (var i = 0; i < nbb_cells.length; ++i) {\n                    if (nbb_cells[i].input_prompt_number == nbb_cell_id) {\n                        if (nbb_cells[i].get_text() == nbb_unformatted_code) {\n                             nbb_cells[i].set_text(nbb_formatted_code);\n                        }\n                        break;\n                    }\n                }\n            }, 500);\n            ",
      "text/plain": [
       "<IPython.core.display.Javascript object>"
      ]
     },
     "metadata": {},
     "output_type": "display_data"
    }
   ],
   "source": [
    "model = Sequential([\n",
    "    LSTM(units=64, \n",
    "         return_sequences=False,\n",
    "         # Shape => [batch, time, features]\n",
    "         input_shape=(Xtrain.shape[1], Xtrain.shape[2]), \n",
    "         name='LSTM'),\n",
    "    # Dropout(0.10),\n",
    "    Dense(1, name='Output')\n",
    "])"
   ]
  },
  {
   "cell_type": "code",
   "execution_count": 38,
   "metadata": {},
   "outputs": [
    {
     "name": "stdout",
     "output_type": "stream",
     "text": [
      "Epoch 1/100\n",
      "85/85 [==============================] - ETA: 0s - loss: 0.0036 - mean_absolute_error: 0.0419\n",
      "Epoch 1: val_loss improved from inf to 0.03387, saving model to results/lstm/lstm.h5\n",
      "85/85 [==============================] - 8s 29ms/step - loss: 0.0036 - mean_absolute_error: 0.0419 - val_loss: 0.0339 - val_mean_absolute_error: 0.1822\n",
      "Epoch 2/100\n",
      "84/85 [============================>.] - ETA: 0s - loss: 9.3684e-04 - mean_absolute_error: 0.0243\n",
      "Epoch 2: val_loss improved from 0.03387 to 0.00082, saving model to results/lstm/lstm.h5\n",
      "85/85 [==============================] - 1s 16ms/step - loss: 9.3575e-04 - mean_absolute_error: 0.0242 - val_loss: 8.1596e-04 - val_mean_absolute_error: 0.0229\n",
      "Epoch 3/100\n",
      "84/85 [============================>.] - ETA: 0s - loss: 6.4166e-04 - mean_absolute_error: 0.0211\n",
      "Epoch 3: val_loss did not improve from 0.00082\n",
      "85/85 [==============================] - 2s 20ms/step - loss: 6.4198e-04 - mean_absolute_error: 0.0211 - val_loss: 0.0143 - val_mean_absolute_error: 0.1181\n",
      "Epoch 4/100\n",
      "83/85 [============================>.] - ETA: 0s - loss: 4.6083e-04 - mean_absolute_error: 0.0178\n",
      "Epoch 4: val_loss improved from 0.00082 to 0.00053, saving model to results/lstm/lstm.h5\n",
      "85/85 [==============================] - 2s 18ms/step - loss: 4.5661e-04 - mean_absolute_error: 0.0176 - val_loss: 5.3301e-04 - val_mean_absolute_error: 0.0182\n",
      "Epoch 5/100\n",
      "84/85 [============================>.] - ETA: 0s - loss: 4.0749e-04 - mean_absolute_error: 0.0162\n",
      "Epoch 5: val_loss did not improve from 0.00053\n",
      "85/85 [==============================] - 1s 17ms/step - loss: 4.0733e-04 - mean_absolute_error: 0.0162 - val_loss: 0.0094 - val_mean_absolute_error: 0.0952\n",
      "Epoch 6/100\n",
      "85/85 [==============================] - ETA: 0s - loss: 3.2777e-04 - mean_absolute_error: 0.0149\n",
      "Epoch 6: val_loss did not improve from 0.00053\n",
      "85/85 [==============================] - 1s 17ms/step - loss: 3.2777e-04 - mean_absolute_error: 0.0149 - val_loss: 0.0025 - val_mean_absolute_error: 0.0458\n",
      "Epoch 7/100\n",
      "84/85 [============================>.] - ETA: 0s - loss: 3.0426e-04 - mean_absolute_error: 0.0136\n",
      "Epoch 7: val_loss did not improve from 0.00053\n",
      "85/85 [==============================] - 2s 19ms/step - loss: 3.0373e-04 - mean_absolute_error: 0.0135 - val_loss: 9.4840e-04 - val_mean_absolute_error: 0.0255\n",
      "Epoch 8/100\n",
      "83/85 [============================>.] - ETA: 0s - loss: 2.5416e-04 - mean_absolute_error: 0.0128\n",
      "Epoch 8: val_loss did not improve from 0.00053\n",
      "85/85 [==============================] - 1s 17ms/step - loss: 2.5841e-04 - mean_absolute_error: 0.0130 - val_loss: 0.0100 - val_mean_absolute_error: 0.0979\n",
      "Epoch 9/100\n",
      "83/85 [============================>.] - ETA: 0s - loss: 2.2625e-04 - mean_absolute_error: 0.0122\n",
      "Epoch 9: val_loss did not improve from 0.00053\n",
      "85/85 [==============================] - 1s 17ms/step - loss: 2.2406e-04 - mean_absolute_error: 0.0120 - val_loss: 0.0012 - val_mean_absolute_error: 0.0307\n",
      "Epoch 10/100\n",
      "85/85 [==============================] - ETA: 0s - loss: 2.0533e-04 - mean_absolute_error: 0.0107\n",
      "Epoch 10: val_loss improved from 0.00053 to 0.00033, saving model to results/lstm/lstm.h5\n",
      "85/85 [==============================] - 2s 19ms/step - loss: 2.0533e-04 - mean_absolute_error: 0.0107 - val_loss: 3.3435e-04 - val_mean_absolute_error: 0.0143\n",
      "Epoch 11/100\n",
      "84/85 [============================>.] - ETA: 0s - loss: 1.9761e-04 - mean_absolute_error: 0.0117\n",
      "Epoch 11: val_loss did not improve from 0.00033\n",
      "85/85 [==============================] - 2s 19ms/step - loss: 1.9744e-04 - mean_absolute_error: 0.0117 - val_loss: 3.4125e-04 - val_mean_absolute_error: 0.0144\n",
      "Epoch 12/100\n",
      "85/85 [==============================] - ETA: 0s - loss: 1.7786e-04 - mean_absolute_error: 0.0105\n",
      "Epoch 12: val_loss did not improve from 0.00033\n",
      "85/85 [==============================] - 2s 18ms/step - loss: 1.7786e-04 - mean_absolute_error: 0.0105 - val_loss: 0.0034 - val_mean_absolute_error: 0.0559\n",
      "Epoch 13/100\n",
      "85/85 [==============================] - ETA: 0s - loss: 1.8692e-04 - mean_absolute_error: 0.0107\n",
      "Epoch 13: val_loss did not improve from 0.00033\n",
      "85/85 [==============================] - 2s 19ms/step - loss: 1.8692e-04 - mean_absolute_error: 0.0107 - val_loss: 0.0016 - val_mean_absolute_error: 0.0365\n",
      "Epoch 14/100\n",
      "83/85 [============================>.] - ETA: 0s - loss: 1.6847e-04 - mean_absolute_error: 0.0106\n",
      "Epoch 14: val_loss did not improve from 0.00033\n",
      "85/85 [==============================] - 2s 18ms/step - loss: 1.6654e-04 - mean_absolute_error: 0.0104 - val_loss: 0.0014 - val_mean_absolute_error: 0.0346\n",
      "Epoch 15/100\n",
      "84/85 [============================>.] - ETA: 0s - loss: 1.5631e-04 - mean_absolute_error: 0.0101\n",
      "Epoch 15: val_loss did not improve from 0.00033\n",
      "85/85 [==============================] - 2s 18ms/step - loss: 1.5621e-04 - mean_absolute_error: 0.0101 - val_loss: 0.0022 - val_mean_absolute_error: 0.0451\n",
      "Epoch 16/100\n",
      "84/85 [============================>.] - ETA: 0s - loss: 1.5134e-04 - mean_absolute_error: 0.0101\n",
      "Epoch 16: val_loss did not improve from 0.00033\n",
      "85/85 [==============================] - 2s 18ms/step - loss: 1.5122e-04 - mean_absolute_error: 0.0100 - val_loss: 7.1003e-04 - val_mean_absolute_error: 0.0232\n",
      "Epoch 17/100\n",
      "84/85 [============================>.] - ETA: 0s - loss: 1.5205e-04 - mean_absolute_error: 0.0097\n",
      "Epoch 17: val_loss did not improve from 0.00033\n",
      "85/85 [==============================] - 2s 21ms/step - loss: 1.5188e-04 - mean_absolute_error: 0.0096 - val_loss: 0.0042 - val_mean_absolute_error: 0.0628\n",
      "Epoch 18/100\n",
      "84/85 [============================>.] - ETA: 0s - loss: 1.3338e-04 - mean_absolute_error: 0.0087\n",
      "Epoch 18: val_loss did not improve from 0.00033\n",
      "85/85 [==============================] - 2s 19ms/step - loss: 1.3315e-04 - mean_absolute_error: 0.0087 - val_loss: 0.0010 - val_mean_absolute_error: 0.0286\n",
      "Epoch 19/100\n",
      "85/85 [==============================] - ETA: 0s - loss: 1.4816e-04 - mean_absolute_error: 0.0091\n",
      "Epoch 19: val_loss improved from 0.00033 to 0.00028, saving model to results/lstm/lstm.h5\n",
      "85/85 [==============================] - 2s 21ms/step - loss: 1.4816e-04 - mean_absolute_error: 0.0091 - val_loss: 2.7837e-04 - val_mean_absolute_error: 0.0129\n",
      "Epoch 20/100\n",
      "84/85 [============================>.] - ETA: 0s - loss: 1.3154e-04 - mean_absolute_error: 0.0085\n",
      "Epoch 20: val_loss did not improve from 0.00028\n",
      "85/85 [==============================] - 1s 16ms/step - loss: 1.3233e-04 - mean_absolute_error: 0.0086 - val_loss: 3.0091e-04 - val_mean_absolute_error: 0.0139\n",
      "Epoch 21/100\n",
      "82/85 [===========================>..] - ETA: 0s - loss: 1.3014e-04 - mean_absolute_error: 0.0090\n",
      "Epoch 21: val_loss improved from 0.00028 to 0.00023, saving model to results/lstm/lstm.h5\n",
      "85/85 [==============================] - 1s 16ms/step - loss: 1.2807e-04 - mean_absolute_error: 0.0088 - val_loss: 2.3140e-04 - val_mean_absolute_error: 0.0119\n",
      "Epoch 22/100\n",
      "85/85 [==============================] - ETA: 0s - loss: 1.2952e-04 - mean_absolute_error: 0.0089\n",
      "Epoch 22: val_loss did not improve from 0.00023\n",
      "85/85 [==============================] - 1s 17ms/step - loss: 1.2952e-04 - mean_absolute_error: 0.0089 - val_loss: 8.5961e-04 - val_mean_absolute_error: 0.0257\n",
      "Epoch 23/100\n",
      "82/85 [===========================>..] - ETA: 0s - loss: 1.2777e-04 - mean_absolute_error: 0.0093\n",
      "Epoch 23: val_loss improved from 0.00023 to 0.00021, saving model to results/lstm/lstm.h5\n",
      "85/85 [==============================] - 2s 19ms/step - loss: 1.2586e-04 - mean_absolute_error: 0.0092 - val_loss: 2.0724e-04 - val_mean_absolute_error: 0.0112\n",
      "Epoch 24/100\n",
      "83/85 [============================>.] - ETA: 0s - loss: 1.1271e-04 - mean_absolute_error: 0.0081\n",
      "Epoch 24: val_loss did not improve from 0.00021\n",
      "85/85 [==============================] - 2s 21ms/step - loss: 1.1312e-04 - mean_absolute_error: 0.0082 - val_loss: 2.8008e-04 - val_mean_absolute_error: 0.0133\n",
      "Epoch 25/100\n",
      "82/85 [===========================>..] - ETA: 0s - loss: 1.1355e-04 - mean_absolute_error: 0.0087\n",
      "Epoch 25: val_loss did not improve from 0.00021\n",
      "85/85 [==============================] - 2s 18ms/step - loss: 1.1241e-04 - mean_absolute_error: 0.0086 - val_loss: 2.6806e-04 - val_mean_absolute_error: 0.0130\n",
      "Epoch 26/100\n",
      "83/85 [============================>.] - ETA: 0s - loss: 1.1639e-04 - mean_absolute_error: 0.0083\n",
      "Epoch 26: val_loss did not improve from 0.00021\n",
      "85/85 [==============================] - 2s 20ms/step - loss: 1.1716e-04 - mean_absolute_error: 0.0083 - val_loss: 3.8325e-04 - val_mean_absolute_error: 0.0159\n",
      "Epoch 27/100\n",
      "83/85 [============================>.] - ETA: 0s - loss: 1.0677e-04 - mean_absolute_error: 0.0078\n",
      "Epoch 27: val_loss did not improve from 0.00021\n",
      "85/85 [==============================] - 2s 21ms/step - loss: 1.0808e-04 - mean_absolute_error: 0.0080 - val_loss: 0.0015 - val_mean_absolute_error: 0.0348\n",
      "Epoch 28/100\n",
      "85/85 [==============================] - ETA: 0s - loss: 1.0106e-04 - mean_absolute_error: 0.0076\n",
      "Epoch 28: val_loss did not improve from 0.00021\n",
      "85/85 [==============================] - 1s 17ms/step - loss: 1.0106e-04 - mean_absolute_error: 0.0076 - val_loss: 5.7542e-04 - val_mean_absolute_error: 0.0207\n",
      "Epoch 29/100\n",
      "83/85 [============================>.] - ETA: 0s - loss: 1.0937e-04 - mean_absolute_error: 0.0079\n",
      "Epoch 29: val_loss did not improve from 0.00021\n",
      "85/85 [==============================] - 2s 19ms/step - loss: 1.0809e-04 - mean_absolute_error: 0.0078 - val_loss: 3.4943e-04 - val_mean_absolute_error: 0.0150\n",
      "Epoch 30/100\n",
      "85/85 [==============================] - ETA: 0s - loss: 1.0996e-04 - mean_absolute_error: 0.0082\n",
      "Epoch 30: val_loss did not improve from 0.00021\n",
      "85/85 [==============================] - 2s 19ms/step - loss: 1.0996e-04 - mean_absolute_error: 0.0082 - val_loss: 2.5245e-04 - val_mean_absolute_error: 0.0125\n",
      "Epoch 31/100\n",
      "83/85 [============================>.] - ETA: 0s - loss: 9.4721e-05 - mean_absolute_error: 0.0069\n",
      "Epoch 31: val_loss did not improve from 0.00021\n",
      "85/85 [==============================] - 1s 18ms/step - loss: 9.3635e-05 - mean_absolute_error: 0.0068 - val_loss: 5.7261e-04 - val_mean_absolute_error: 0.0206\n",
      "Epoch 32/100\n",
      "85/85 [==============================] - ETA: 0s - loss: 1.0078e-04 - mean_absolute_error: 0.0078\n",
      "Epoch 32: val_loss did not improve from 0.00021\n",
      "85/85 [==============================] - 2s 23ms/step - loss: 1.0078e-04 - mean_absolute_error: 0.0078 - val_loss: 2.8175e-04 - val_mean_absolute_error: 0.0132\n",
      "Epoch 33/100\n",
      "83/85 [============================>.] - ETA: 0s - loss: 9.5145e-05 - mean_absolute_error: 0.0070\n",
      "Epoch 33: val_loss did not improve from 0.00021\n",
      "85/85 [==============================] - 2s 20ms/step - loss: 9.4801e-05 - mean_absolute_error: 0.0069 - val_loss: 2.6738e-04 - val_mean_absolute_error: 0.0131\n",
      "Epoch 34/100\n",
      "83/85 [============================>.] - ETA: 0s - loss: 8.9173e-05 - mean_absolute_error: 0.0074\n",
      "Epoch 34: val_loss did not improve from 0.00021\n",
      "85/85 [==============================] - 1s 17ms/step - loss: 9.0170e-05 - mean_absolute_error: 0.0075 - val_loss: 2.9068e-04 - val_mean_absolute_error: 0.0139\n",
      "Epoch 35/100\n",
      "85/85 [==============================] - ETA: 0s - loss: 9.5729e-05 - mean_absolute_error: 0.0072\n",
      "Epoch 35: val_loss did not improve from 0.00021\n",
      "85/85 [==============================] - 2s 19ms/step - loss: 9.5729e-05 - mean_absolute_error: 0.0072 - val_loss: 9.0968e-04 - val_mean_absolute_error: 0.0268\n",
      "Epoch 36/100\n",
      "84/85 [============================>.] - ETA: 0s - loss: 9.6928e-05 - mean_absolute_error: 0.0075\n",
      "Epoch 36: val_loss did not improve from 0.00021\n",
      "85/85 [==============================] - 1s 17ms/step - loss: 9.6737e-05 - mean_absolute_error: 0.0074 - val_loss: 2.7932e-04 - val_mean_absolute_error: 0.0135\n",
      "Epoch 37/100\n",
      "85/85 [==============================] - ETA: 0s - loss: 8.7876e-05 - mean_absolute_error: 0.0071\n",
      "Epoch 37: val_loss did not improve from 0.00021\n",
      "85/85 [==============================] - 1s 17ms/step - loss: 8.7876e-05 - mean_absolute_error: 0.0071 - val_loss: 2.1434e-04 - val_mean_absolute_error: 0.0115\n",
      "Epoch 38/100\n",
      "83/85 [============================>.] - ETA: 0s - loss: 9.1120e-05 - mean_absolute_error: 0.0073\n",
      "Epoch 38: val_loss did not improve from 0.00021\n",
      "85/85 [==============================] - 2s 20ms/step - loss: 9.2254e-05 - mean_absolute_error: 0.0074 - val_loss: 3.9941e-04 - val_mean_absolute_error: 0.0161\n",
      "Epoch 39/100\n",
      "83/85 [============================>.] - ETA: 0s - loss: 8.4690e-05 - mean_absolute_error: 0.0074\n",
      "Epoch 39: val_loss did not improve from 0.00021\n",
      "85/85 [==============================] - 2s 20ms/step - loss: 8.3986e-05 - mean_absolute_error: 0.0073 - val_loss: 3.4516e-04 - val_mean_absolute_error: 0.0153\n",
      "Epoch 40/100\n",
      "84/85 [============================>.] - ETA: 0s - loss: 8.9662e-05 - mean_absolute_error: 0.0072\n",
      "Epoch 40: val_loss did not improve from 0.00021\n",
      "85/85 [==============================] - 1s 17ms/step - loss: 8.9621e-05 - mean_absolute_error: 0.0072 - val_loss: 3.2717e-04 - val_mean_absolute_error: 0.0143\n",
      "Epoch 41/100\n",
      "84/85 [============================>.] - ETA: 0s - loss: 8.7782e-05 - mean_absolute_error: 0.0072\n",
      "Epoch 41: val_loss did not improve from 0.00021\n",
      "85/85 [==============================] - 2s 20ms/step - loss: 8.7649e-05 - mean_absolute_error: 0.0072 - val_loss: 2.7219e-04 - val_mean_absolute_error: 0.0133\n",
      "Epoch 42/100\n",
      "83/85 [============================>.] - ETA: 0s - loss: 8.4401e-05 - mean_absolute_error: 0.0069\n",
      "Epoch 42: val_loss did not improve from 0.00021\n",
      "85/85 [==============================] - 2s 18ms/step - loss: 8.6572e-05 - mean_absolute_error: 0.0071 - val_loss: 0.0011 - val_mean_absolute_error: 0.0308\n",
      "Epoch 43/100\n",
      "83/85 [============================>.] - ETA: 0s - loss: 8.2151e-05 - mean_absolute_error: 0.0065\n",
      "Epoch 43: val_loss did not improve from 0.00021\n",
      "85/85 [==============================] - 2s 20ms/step - loss: 8.1568e-05 - mean_absolute_error: 0.0065 - val_loss: 2.1950e-04 - val_mean_absolute_error: 0.0116\n",
      "Epoch 44/100\n",
      "85/85 [==============================] - ETA: 0s - loss: 8.1782e-05 - mean_absolute_error: 0.0066\n",
      "Epoch 44: val_loss did not improve from 0.00021\n",
      "85/85 [==============================] - 2s 19ms/step - loss: 8.1782e-05 - mean_absolute_error: 0.0066 - val_loss: 7.2900e-04 - val_mean_absolute_error: 0.0233\n",
      "Epoch 45/100\n",
      "84/85 [============================>.] - ETA: 0s - loss: 7.4994e-05 - mean_absolute_error: 0.0063\n",
      "Epoch 45: val_loss did not improve from 0.00021\n",
      "85/85 [==============================] - 2s 19ms/step - loss: 7.5063e-05 - mean_absolute_error: 0.0064 - val_loss: 0.0014 - val_mean_absolute_error: 0.0347\n",
      "Epoch 46/100\n",
      "84/85 [============================>.] - ETA: 0s - loss: 7.7029e-05 - mean_absolute_error: 0.0066\n",
      "Epoch 46: val_loss did not improve from 0.00021\n",
      "85/85 [==============================] - 1s 17ms/step - loss: 7.7011e-05 - mean_absolute_error: 0.0066 - val_loss: 0.0036 - val_mean_absolute_error: 0.0585\n",
      "Epoch 47/100\n",
      "84/85 [============================>.] - ETA: 0s - loss: 8.1533e-05 - mean_absolute_error: 0.0070\n",
      "Epoch 47: val_loss did not improve from 0.00021\n",
      "85/85 [==============================] - 2s 19ms/step - loss: 8.1761e-05 - mean_absolute_error: 0.0070 - val_loss: 5.8226e-04 - val_mean_absolute_error: 0.0202\n",
      "Epoch 48/100\n",
      "82/85 [===========================>..] - ETA: 0s - loss: 7.5096e-05 - mean_absolute_error: 0.0063\n",
      "Epoch 48: val_loss improved from 0.00021 to 0.00021, saving model to results/lstm/lstm.h5\n",
      "85/85 [==============================] - 2s 18ms/step - loss: 7.5106e-05 - mean_absolute_error: 0.0063 - val_loss: 2.0685e-04 - val_mean_absolute_error: 0.0114\n",
      "Epoch 49/100\n",
      "82/85 [===========================>..] - ETA: 0s - loss: 8.0279e-05 - mean_absolute_error: 0.0068\n",
      "Epoch 49: val_loss did not improve from 0.00021\n",
      "85/85 [==============================] - 2s 18ms/step - loss: 7.8944e-05 - mean_absolute_error: 0.0067 - val_loss: 2.1012e-04 - val_mean_absolute_error: 0.0113\n",
      "Epoch 50/100\n",
      "84/85 [============================>.] - ETA: 0s - loss: 7.8833e-05 - mean_absolute_error: 0.0066\n",
      "Epoch 50: val_loss did not improve from 0.00021\n",
      "85/85 [==============================] - 2s 18ms/step - loss: 7.8778e-05 - mean_absolute_error: 0.0066 - val_loss: 4.4231e-04 - val_mean_absolute_error: 0.0177\n",
      "Epoch 51/100\n",
      "83/85 [============================>.] - ETA: 0s - loss: 7.2179e-05 - mean_absolute_error: 0.0064\n",
      "Epoch 51: val_loss did not improve from 0.00021\n",
      "85/85 [==============================] - 2s 20ms/step - loss: 7.2042e-05 - mean_absolute_error: 0.0064 - val_loss: 0.0014 - val_mean_absolute_error: 0.0356\n",
      "Epoch 52/100\n",
      "84/85 [============================>.] - ETA: 0s - loss: 7.6243e-05 - mean_absolute_error: 0.0070\n",
      "Epoch 52: val_loss did not improve from 0.00021\n",
      "85/85 [==============================] - 2s 20ms/step - loss: 7.7273e-05 - mean_absolute_error: 0.0071 - val_loss: 0.0023 - val_mean_absolute_error: 0.0450\n",
      "Epoch 53/100\n",
      "85/85 [==============================] - ETA: 0s - loss: 7.0616e-05 - mean_absolute_error: 0.0061\n",
      "Epoch 53: val_loss did not improve from 0.00021\n",
      "85/85 [==============================] - 1s 18ms/step - loss: 7.0616e-05 - mean_absolute_error: 0.0061 - val_loss: 2.2725e-04 - val_mean_absolute_error: 0.0121\n",
      "Epoch 54/100\n",
      "84/85 [============================>.] - ETA: 0s - loss: 7.8394e-05 - mean_absolute_error: 0.0068\n",
      "Epoch 54: val_loss did not improve from 0.00021\n",
      "85/85 [==============================] - 2s 20ms/step - loss: 7.8409e-05 - mean_absolute_error: 0.0068 - val_loss: 0.0014 - val_mean_absolute_error: 0.0359\n",
      "Epoch 55/100\n",
      "82/85 [===========================>..] - ETA: 0s - loss: 6.8186e-05 - mean_absolute_error: 0.0062\n",
      "Epoch 55: val_loss did not improve from 0.00021\n",
      "85/85 [==============================] - 2s 19ms/step - loss: 6.9266e-05 - mean_absolute_error: 0.0063 - val_loss: 2.5773e-04 - val_mean_absolute_error: 0.0125\n",
      "Epoch 56/100\n",
      "83/85 [============================>.] - ETA: 0s - loss: 7.1290e-05 - mean_absolute_error: 0.0066\n",
      "Epoch 56: val_loss improved from 0.00021 to 0.00020, saving model to results/lstm/lstm.h5\n",
      "85/85 [==============================] - 2s 19ms/step - loss: 7.0858e-05 - mean_absolute_error: 0.0065 - val_loss: 2.0367e-04 - val_mean_absolute_error: 0.0112\n",
      "Epoch 57/100\n",
      "85/85 [==============================] - ETA: 0s - loss: 7.1722e-05 - mean_absolute_error: 0.0066\n",
      "Epoch 57: val_loss did not improve from 0.00020\n",
      "85/85 [==============================] - 2s 21ms/step - loss: 7.1722e-05 - mean_absolute_error: 0.0066 - val_loss: 3.3720e-04 - val_mean_absolute_error: 0.0144\n",
      "Epoch 58/100\n",
      "85/85 [==============================] - ETA: 0s - loss: 6.7691e-05 - mean_absolute_error: 0.0062\n",
      "Epoch 58: val_loss did not improve from 0.00020\n",
      "85/85 [==============================] - 2s 19ms/step - loss: 6.7691e-05 - mean_absolute_error: 0.0062 - val_loss: 2.0370e-04 - val_mean_absolute_error: 0.0110\n",
      "Epoch 59/100\n",
      "84/85 [============================>.] - ETA: 0s - loss: 6.8722e-05 - mean_absolute_error: 0.0060\n",
      "Epoch 59: val_loss did not improve from 0.00020\n",
      "85/85 [==============================] - 2s 23ms/step - loss: 6.8721e-05 - mean_absolute_error: 0.0060 - val_loss: 6.6882e-04 - val_mean_absolute_error: 0.0221\n",
      "Epoch 60/100\n",
      "85/85 [==============================] - ETA: 0s - loss: 7.3021e-05 - mean_absolute_error: 0.0064\n",
      "Epoch 60: val_loss did not improve from 0.00020\n",
      "85/85 [==============================] - 2s 22ms/step - loss: 7.3021e-05 - mean_absolute_error: 0.0064 - val_loss: 2.2134e-04 - val_mean_absolute_error: 0.0114\n",
      "Epoch 61/100\n",
      "84/85 [============================>.] - ETA: 0s - loss: 5.8690e-05 - mean_absolute_error: 0.0057\n",
      "Epoch 61: val_loss did not improve from 0.00020\n",
      "85/85 [==============================] - 2s 18ms/step - loss: 5.8571e-05 - mean_absolute_error: 0.0057 - val_loss: 3.3253e-04 - val_mean_absolute_error: 0.0149\n",
      "Epoch 62/100\n",
      "85/85 [==============================] - ETA: 0s - loss: 6.8673e-05 - mean_absolute_error: 0.0064\n",
      "Epoch 62: val_loss did not improve from 0.00020\n",
      "85/85 [==============================] - 1s 17ms/step - loss: 6.8673e-05 - mean_absolute_error: 0.0064 - val_loss: 5.4769e-04 - val_mean_absolute_error: 0.0204\n",
      "Epoch 63/100\n",
      "85/85 [==============================] - ETA: 0s - loss: 6.7250e-05 - mean_absolute_error: 0.0064\n",
      "Epoch 63: val_loss did not improve from 0.00020\n",
      "85/85 [==============================] - 2s 20ms/step - loss: 6.7250e-05 - mean_absolute_error: 0.0064 - val_loss: 2.0943e-04 - val_mean_absolute_error: 0.0114\n",
      "Epoch 64/100\n",
      "83/85 [============================>.] - ETA: 0s - loss: 6.5517e-05 - mean_absolute_error: 0.0060\n",
      "Epoch 64: val_loss did not improve from 0.00020\n",
      "85/85 [==============================] - 2s 20ms/step - loss: 6.6123e-05 - mean_absolute_error: 0.0061 - val_loss: 2.7537e-04 - val_mean_absolute_error: 0.0128\n",
      "Epoch 65/100\n",
      "83/85 [============================>.] - ETA: 0s - loss: 6.7752e-05 - mean_absolute_error: 0.0061\n",
      "Epoch 65: val_loss did not improve from 0.00020\n",
      "85/85 [==============================] - 2s 19ms/step - loss: 6.7721e-05 - mean_absolute_error: 0.0061 - val_loss: 3.1829e-04 - val_mean_absolute_error: 0.0147\n",
      "Epoch 66/100\n",
      "85/85 [==============================] - ETA: 0s - loss: 6.3393e-05 - mean_absolute_error: 0.0063\n",
      "Epoch 66: val_loss did not improve from 0.00020\n",
      "85/85 [==============================] - 2s 21ms/step - loss: 6.3393e-05 - mean_absolute_error: 0.0063 - val_loss: 2.1693e-04 - val_mean_absolute_error: 0.0118\n",
      "Epoch 67/100\n",
      "83/85 [============================>.] - ETA: 0s - loss: 6.7649e-05 - mean_absolute_error: 0.0064\n",
      "Epoch 67: val_loss did not improve from 0.00020\n",
      "85/85 [==============================] - 2s 18ms/step - loss: 6.6930e-05 - mean_absolute_error: 0.0063 - val_loss: 2.0974e-04 - val_mean_absolute_error: 0.0112\n",
      "Epoch 68/100\n",
      "84/85 [============================>.] - ETA: 0s - loss: 6.4097e-05 - mean_absolute_error: 0.0060\n",
      "Epoch 68: val_loss did not improve from 0.00020\n",
      "85/85 [==============================] - 2s 19ms/step - loss: 6.4239e-05 - mean_absolute_error: 0.0060 - val_loss: 2.1032e-04 - val_mean_absolute_error: 0.0112\n",
      "Epoch 69/100\n",
      "84/85 [============================>.] - ETA: 0s - loss: 6.3236e-05 - mean_absolute_error: 0.0061\n",
      "Epoch 69: val_loss did not improve from 0.00020\n",
      "85/85 [==============================] - 2s 19ms/step - loss: 6.3403e-05 - mean_absolute_error: 0.0061 - val_loss: 8.9164e-04 - val_mean_absolute_error: 0.0273\n",
      "Epoch 70/100\n",
      "85/85 [==============================] - ETA: 0s - loss: 6.3282e-05 - mean_absolute_error: 0.0059\n",
      "Epoch 70: val_loss did not improve from 0.00020\n",
      "85/85 [==============================] - 2s 19ms/step - loss: 6.3282e-05 - mean_absolute_error: 0.0059 - val_loss: 7.6413e-04 - val_mean_absolute_error: 0.0249\n",
      "Epoch 71/100\n",
      "83/85 [============================>.] - ETA: 0s - loss: 6.1569e-05 - mean_absolute_error: 0.0060\n",
      "Epoch 71: val_loss did not improve from 0.00020\n",
      "85/85 [==============================] - 2s 21ms/step - loss: 6.1654e-05 - mean_absolute_error: 0.0060 - val_loss: 3.1117e-04 - val_mean_absolute_error: 0.0143\n",
      "Epoch 72/100\n",
      "85/85 [==============================] - ETA: 0s - loss: 5.7977e-05 - mean_absolute_error: 0.0056\n",
      "Epoch 72: val_loss did not improve from 0.00020\n",
      "85/85 [==============================] - 2s 20ms/step - loss: 5.7977e-05 - mean_absolute_error: 0.0056 - val_loss: 2.3833e-04 - val_mean_absolute_error: 0.0119\n",
      "Epoch 73/100\n",
      "85/85 [==============================] - ETA: 0s - loss: 6.1829e-05 - mean_absolute_error: 0.0059\n",
      "Epoch 73: val_loss did not improve from 0.00020\n",
      "85/85 [==============================] - 2s 19ms/step - loss: 6.1829e-05 - mean_absolute_error: 0.0059 - val_loss: 2.1467e-04 - val_mean_absolute_error: 0.0118\n",
      "Epoch 74/100\n",
      "84/85 [============================>.] - ETA: 0s - loss: 5.7123e-05 - mean_absolute_error: 0.0058\n",
      "Epoch 74: val_loss did not improve from 0.00020\n",
      "85/85 [==============================] - 2s 18ms/step - loss: 5.7096e-05 - mean_absolute_error: 0.0058 - val_loss: 3.0494e-04 - val_mean_absolute_error: 0.0143\n",
      "Epoch 75/100\n",
      "85/85 [==============================] - ETA: 0s - loss: 6.2023e-05 - mean_absolute_error: 0.0059\n",
      "Epoch 75: val_loss did not improve from 0.00020\n",
      "85/85 [==============================] - 2s 19ms/step - loss: 6.2023e-05 - mean_absolute_error: 0.0059 - val_loss: 3.1191e-04 - val_mean_absolute_error: 0.0138\n",
      "Epoch 76/100\n",
      "84/85 [============================>.] - ETA: 0s - loss: 5.8264e-05 - mean_absolute_error: 0.0056\n",
      "Epoch 76: val_loss did not improve from 0.00020\n",
      "85/85 [==============================] - 2s 18ms/step - loss: 5.8301e-05 - mean_absolute_error: 0.0057 - val_loss: 2.1122e-04 - val_mean_absolute_error: 0.0111\n",
      "Epoch 77/100\n",
      "84/85 [============================>.] - ETA: 0s - loss: 5.8577e-05 - mean_absolute_error: 0.0058\n",
      "Epoch 77: val_loss did not improve from 0.00020\n",
      "85/85 [==============================] - 2s 21ms/step - loss: 5.8451e-05 - mean_absolute_error: 0.0058 - val_loss: 2.8712e-04 - val_mean_absolute_error: 0.0130\n",
      "Epoch 78/100\n",
      "83/85 [============================>.] - ETA: 0s - loss: 5.5514e-05 - mean_absolute_error: 0.0054\n",
      "Epoch 78: val_loss did not improve from 0.00020\n",
      "85/85 [==============================] - 2s 20ms/step - loss: 5.5173e-05 - mean_absolute_error: 0.0054 - val_loss: 2.3433e-04 - val_mean_absolute_error: 0.0116\n",
      "Epoch 79/100\n",
      "85/85 [==============================] - ETA: 0s - loss: 5.8194e-05 - mean_absolute_error: 0.0057\n",
      "Epoch 79: val_loss did not improve from 0.00020\n",
      "85/85 [==============================] - 2s 21ms/step - loss: 5.8194e-05 - mean_absolute_error: 0.0057 - val_loss: 2.6690e-04 - val_mean_absolute_error: 0.0133\n",
      "Epoch 80/100\n",
      "83/85 [============================>.] - ETA: 0s - loss: 5.8706e-05 - mean_absolute_error: 0.0056\n",
      "Epoch 80: val_loss did not improve from 0.00020\n",
      "85/85 [==============================] - 1s 17ms/step - loss: 5.8550e-05 - mean_absolute_error: 0.0056 - val_loss: 2.2424e-04 - val_mean_absolute_error: 0.0116\n",
      "Epoch 81/100\n",
      "84/85 [============================>.] - ETA: 0s - loss: 5.5175e-05 - mean_absolute_error: 0.0052\n",
      "Epoch 81: val_loss did not improve from 0.00020\n",
      "85/85 [==============================] - 2s 19ms/step - loss: 5.5110e-05 - mean_absolute_error: 0.0052 - val_loss: 2.2772e-04 - val_mean_absolute_error: 0.0115\n",
      "Epoch 82/100\n",
      "84/85 [============================>.] - ETA: 0s - loss: 5.8108e-05 - mean_absolute_error: 0.0056\n",
      "Epoch 82: val_loss did not improve from 0.00020\n",
      "85/85 [==============================] - 2s 21ms/step - loss: 5.7980e-05 - mean_absolute_error: 0.0056 - val_loss: 4.2183e-04 - val_mean_absolute_error: 0.0164\n",
      "Epoch 83/100\n",
      "85/85 [==============================] - ETA: 0s - loss: 5.9621e-05 - mean_absolute_error: 0.0058\n",
      "Epoch 83: val_loss did not improve from 0.00020\n",
      "85/85 [==============================] - 2s 18ms/step - loss: 5.9621e-05 - mean_absolute_error: 0.0058 - val_loss: 2.7924e-04 - val_mean_absolute_error: 0.0127\n",
      "Epoch 84/100\n",
      "85/85 [==============================] - ETA: 0s - loss: 5.2347e-05 - mean_absolute_error: 0.0052\n",
      "Epoch 84: val_loss did not improve from 0.00020\n",
      "85/85 [==============================] - 1s 18ms/step - loss: 5.2347e-05 - mean_absolute_error: 0.0052 - val_loss: 7.4117e-04 - val_mean_absolute_error: 0.0232\n",
      "Epoch 85/100\n",
      "85/85 [==============================] - ETA: 0s - loss: 5.9426e-05 - mean_absolute_error: 0.0059\n",
      "Epoch 85: val_loss did not improve from 0.00020\n",
      "85/85 [==============================] - 1s 17ms/step - loss: 5.9426e-05 - mean_absolute_error: 0.0059 - val_loss: 2.0980e-04 - val_mean_absolute_error: 0.0113\n",
      "Epoch 86/100\n",
      "82/85 [===========================>..] - ETA: 0s - loss: 5.4324e-05 - mean_absolute_error: 0.0055\n",
      "Epoch 86: val_loss did not improve from 0.00020\n",
      "85/85 [==============================] - 1s 17ms/step - loss: 5.3222e-05 - mean_absolute_error: 0.0054 - val_loss: 5.1454e-04 - val_mean_absolute_error: 0.0185\n"
     ]
    },
    {
     "data": {
      "application/javascript": "\n            setTimeout(function() {\n                var nbb_cell_id = 38;\n                var nbb_unformatted_code = \"history = compile_and_fit(model)\";\n                var nbb_formatted_code = \"history = compile_and_fit(model)\";\n                var nbb_cells = Jupyter.notebook.get_cells();\n                for (var i = 0; i < nbb_cells.length; ++i) {\n                    if (nbb_cells[i].input_prompt_number == nbb_cell_id) {\n                        if (nbb_cells[i].get_text() == nbb_unformatted_code) {\n                             nbb_cells[i].set_text(nbb_formatted_code);\n                        }\n                        break;\n                    }\n                }\n            }, 500);\n            ",
      "text/plain": [
       "<IPython.core.display.Javascript object>"
      ]
     },
     "metadata": {},
     "output_type": "display_data"
    }
   ],
   "source": [
    "history = compile_and_fit(model)\n"
   ]
  },
  {
   "cell_type": "code",
   "execution_count": 39,
   "metadata": {},
   "outputs": [
    {
     "name": "stdout",
     "output_type": "stream",
     "text": [
      "Model: \"sequential\"\n",
      "_________________________________________________________________\n",
      " Layer (type)                Output Shape              Param #   \n",
      "=================================================================\n",
      " LSTM (LSTM)                 (None, 64)                18688     \n",
      "                                                                 \n",
      " Output (Dense)              (None, 1)                 65        \n",
      "                                                                 \n",
      "=================================================================\n",
      "Total params: 18,753\n",
      "Trainable params: 18,753\n",
      "Non-trainable params: 0\n",
      "_________________________________________________________________\n"
     ]
    },
    {
     "data": {
      "application/javascript": "\n            setTimeout(function() {\n                var nbb_cell_id = 39;\n                var nbb_unformatted_code = \"model.summary()\";\n                var nbb_formatted_code = \"model.summary()\";\n                var nbb_cells = Jupyter.notebook.get_cells();\n                for (var i = 0; i < nbb_cells.length; ++i) {\n                    if (nbb_cells[i].input_prompt_number == nbb_cell_id) {\n                        if (nbb_cells[i].get_text() == nbb_unformatted_code) {\n                             nbb_cells[i].set_text(nbb_formatted_code);\n                        }\n                        break;\n                    }\n                }\n            }, 500);\n            ",
      "text/plain": [
       "<IPython.core.display.Javascript object>"
      ]
     },
     "metadata": {},
     "output_type": "display_data"
    }
   ],
   "source": [
    "model.summary()"
   ]
  },
  {
   "cell_type": "code",
   "execution_count": 40,
   "metadata": {},
   "outputs": [
    {
     "name": "stdout",
     "output_type": "stream",
     "text": [
      "2694\n",
      "244\n"
     ]
    },
    {
     "data": {
      "application/javascript": "\n            setTimeout(function() {\n                var nbb_cell_id = 40;\n                var nbb_unformatted_code = \"train_predict_scaled = model.predict(Xtrain).squeeze()\\ntest_predict_scaled = model.predict(Xtest).squeeze()\\n\\nprint(len(train_predict_scaled))\\nprint(len(test_predict_scaled))\";\n                var nbb_formatted_code = \"train_predict_scaled = model.predict(Xtrain).squeeze()\\ntest_predict_scaled = model.predict(Xtest).squeeze()\\n\\nprint(len(train_predict_scaled))\\nprint(len(test_predict_scaled))\";\n                var nbb_cells = Jupyter.notebook.get_cells();\n                for (var i = 0; i < nbb_cells.length; ++i) {\n                    if (nbb_cells[i].input_prompt_number == nbb_cell_id) {\n                        if (nbb_cells[i].get_text() == nbb_unformatted_code) {\n                             nbb_cells[i].set_text(nbb_formatted_code);\n                        }\n                        break;\n                    }\n                }\n            }, 500);\n            ",
      "text/plain": [
       "<IPython.core.display.Javascript object>"
      ]
     },
     "metadata": {},
     "output_type": "display_data"
    }
   ],
   "source": [
    "train_predict_scaled = model.predict(Xtrain).squeeze()\n",
    "test_predict_scaled = model.predict(Xtest).squeeze()\n",
    "\n",
    "print(len(train_predict_scaled))\n",
    "print(len(test_predict_scaled))"
   ]
  },
  {
   "cell_type": "code",
   "execution_count": 41,
   "metadata": {},
   "outputs": [
    {
     "name": "stdout",
     "output_type": "stream",
     "text": [
      "85/85 [==============================] - 1s 9ms/step - loss: 4.6711e-05 - mean_absolute_error: 0.0057\n"
     ]
    },
    {
     "data": {
      "text/plain": [
       "[4.6710909373359755e-05, 0.005670637357980013]"
      ]
     },
     "execution_count": 41,
     "metadata": {},
     "output_type": "execute_result"
    },
    {
     "data": {
      "application/javascript": "\n            setTimeout(function() {\n                var nbb_cell_id = 41;\n                var nbb_unformatted_code = \"model.evaluate(Xtrain, ytrain)\";\n                var nbb_formatted_code = \"model.evaluate(Xtrain, ytrain)\";\n                var nbb_cells = Jupyter.notebook.get_cells();\n                for (var i = 0; i < nbb_cells.length; ++i) {\n                    if (nbb_cells[i].input_prompt_number == nbb_cell_id) {\n                        if (nbb_cells[i].get_text() == nbb_unformatted_code) {\n                             nbb_cells[i].set_text(nbb_formatted_code);\n                        }\n                        break;\n                    }\n                }\n            }, 500);\n            ",
      "text/plain": [
       "<IPython.core.display.Javascript object>"
      ]
     },
     "metadata": {},
     "output_type": "display_data"
    }
   ],
   "source": [
    "model.evaluate(Xtrain, ytrain)"
   ]
  },
  {
   "cell_type": "code",
   "execution_count": 42,
   "metadata": {},
   "outputs": [
    {
     "name": "stdout",
     "output_type": "stream",
     "text": [
      "8/8 [==============================] - 0s 11ms/step - loss: 2.0367e-04 - mean_absolute_error: 0.0112\n"
     ]
    },
    {
     "data": {
      "text/plain": [
       "[0.0002036711375694722, 0.011165580712258816]"
      ]
     },
     "execution_count": 42,
     "metadata": {},
     "output_type": "execute_result"
    },
    {
     "data": {
      "application/javascript": "\n            setTimeout(function() {\n                var nbb_cell_id = 42;\n                var nbb_unformatted_code = \"model.evaluate(Xtest, ytest)\";\n                var nbb_formatted_code = \"model.evaluate(Xtest, ytest)\";\n                var nbb_cells = Jupyter.notebook.get_cells();\n                for (var i = 0; i < nbb_cells.length; ++i) {\n                    if (nbb_cells[i].input_prompt_number == nbb_cell_id) {\n                        if (nbb_cells[i].get_text() == nbb_unformatted_code) {\n                             nbb_cells[i].set_text(nbb_formatted_code);\n                        }\n                        break;\n                    }\n                }\n            }, 500);\n            ",
      "text/plain": [
       "<IPython.core.display.Javascript object>"
      ]
     },
     "metadata": {},
     "output_type": "display_data"
    }
   ],
   "source": [
    "model.evaluate(Xtest, ytest)"
   ]
  },
  {
   "cell_type": "code",
   "execution_count": 43,
   "metadata": {},
   "outputs": [
    {
     "data": {
      "application/javascript": "\n            setTimeout(function() {\n                var nbb_cell_id = 43;\n                var nbb_unformatted_code = \"from sklearn.metrics import mean_absolute_error\";\n                var nbb_formatted_code = \"from sklearn.metrics import mean_absolute_error\";\n                var nbb_cells = Jupyter.notebook.get_cells();\n                for (var i = 0; i < nbb_cells.length; ++i) {\n                    if (nbb_cells[i].input_prompt_number == nbb_cell_id) {\n                        if (nbb_cells[i].get_text() == nbb_unformatted_code) {\n                             nbb_cells[i].set_text(nbb_formatted_code);\n                        }\n                        break;\n                    }\n                }\n            }, 500);\n            ",
      "text/plain": [
       "<IPython.core.display.Javascript object>"
      ]
     },
     "metadata": {},
     "output_type": "display_data"
    }
   ],
   "source": [
    "from sklearn.metrics import mean_absolute_error"
   ]
  },
  {
   "cell_type": "code",
   "execution_count": 44,
   "metadata": {},
   "outputs": [
    {
     "name": "stdout",
     "output_type": "stream",
     "text": [
      "Train Score: 0.0057 MAE\n",
      "Test Score: 0.0110 MAE\n"
     ]
    },
    {
     "data": {
      "application/javascript": "\n            setTimeout(function() {\n                var nbb_cell_id = 44;\n                var nbb_unformatted_code = \"# calculate mean absolute error\\ntrainScore = mean_absolute_error(ytrain, train_predict_scaled)\\nprint(\\\"Train Score: %.4f MAE\\\" % (trainScore))\\n\\ntestScore = mean_absolute_error(ytest, test_predict_scaled)\\nprint(\\\"Test Score: %.4f MAE\\\" % (testScore))\";\n                var nbb_formatted_code = \"# calculate mean absolute error\\ntrainScore = mean_absolute_error(ytrain, train_predict_scaled)\\nprint(\\\"Train Score: %.4f MAE\\\" % (trainScore))\\n\\ntestScore = mean_absolute_error(ytest, test_predict_scaled)\\nprint(\\\"Test Score: %.4f MAE\\\" % (testScore))\";\n                var nbb_cells = Jupyter.notebook.get_cells();\n                for (var i = 0; i < nbb_cells.length; ++i) {\n                    if (nbb_cells[i].input_prompt_number == nbb_cell_id) {\n                        if (nbb_cells[i].get_text() == nbb_unformatted_code) {\n                             nbb_cells[i].set_text(nbb_formatted_code);\n                        }\n                        break;\n                    }\n                }\n            }, 500);\n            ",
      "text/plain": [
       "<IPython.core.display.Javascript object>"
      ]
     },
     "metadata": {},
     "output_type": "display_data"
    }
   ],
   "source": [
    "# calculate mean absolute error\n",
    "trainScore = mean_absolute_error(ytrain, train_predict_scaled)\n",
    "print(\"Train Score: %.4f MAE\" % (trainScore))\n",
    "\n",
    "testScore = mean_absolute_error(ytest, test_predict_scaled)\n",
    "print(\"Test Score: %.4f MAE\" % (testScore))"
   ]
  },
  {
   "cell_type": "code",
   "execution_count": 45,
   "metadata": {},
   "outputs": [
    {
     "data": {
      "application/javascript": "\n            setTimeout(function() {\n                var nbb_cell_id = 45;\n                var nbb_unformatted_code = \"_ = np.array(train_predict_scaled)\\n_ = np.c_[_, np.zeros(_.shape), np.zeros(_.shape), np.zeros(_.shape), np.zeros(_.shape), np.zeros(_.shape), np.zeros(_.shape), np.zeros(_.shape)]\";\n                var nbb_formatted_code = \"_ = np.array(train_predict_scaled)\\n_ = np.c_[\\n    _,\\n    np.zeros(_.shape),\\n    np.zeros(_.shape),\\n    np.zeros(_.shape),\\n    np.zeros(_.shape),\\n    np.zeros(_.shape),\\n    np.zeros(_.shape),\\n    np.zeros(_.shape),\\n]\";\n                var nbb_cells = Jupyter.notebook.get_cells();\n                for (var i = 0; i < nbb_cells.length; ++i) {\n                    if (nbb_cells[i].input_prompt_number == nbb_cell_id) {\n                        if (nbb_cells[i].get_text() == nbb_unformatted_code) {\n                             nbb_cells[i].set_text(nbb_formatted_code);\n                        }\n                        break;\n                    }\n                }\n            }, 500);\n            ",
      "text/plain": [
       "<IPython.core.display.Javascript object>"
      ]
     },
     "metadata": {},
     "output_type": "display_data"
    }
   ],
   "source": [
    "_ = np.array(train_predict_scaled)\n",
    "_ = np.c_[_, np.zeros(_.shape), np.zeros(_.shape), np.zeros(_.shape), np.zeros(_.shape), np.zeros(_.shape), np.zeros(_.shape), np.zeros(_.shape)]"
   ]
  },
  {
   "cell_type": "code",
   "execution_count": 46,
   "metadata": {},
   "outputs": [
    {
     "data": {
      "application/javascript": "\n            setTimeout(function() {\n                var nbb_cell_id = 46;\n                var nbb_unformatted_code = \"_train_predict_scaled = scaler.inverse_transform(_)\";\n                var nbb_formatted_code = \"_train_predict_scaled = scaler.inverse_transform(_)\";\n                var nbb_cells = Jupyter.notebook.get_cells();\n                for (var i = 0; i < nbb_cells.length; ++i) {\n                    if (nbb_cells[i].input_prompt_number == nbb_cell_id) {\n                        if (nbb_cells[i].get_text() == nbb_unformatted_code) {\n                             nbb_cells[i].set_text(nbb_formatted_code);\n                        }\n                        break;\n                    }\n                }\n            }, 500);\n            ",
      "text/plain": [
       "<IPython.core.display.Javascript object>"
      ]
     },
     "metadata": {},
     "output_type": "display_data"
    }
   ],
   "source": [
    "_train_predict_scaled = scaler.inverse_transform(_)"
   ]
  },
  {
   "cell_type": "code",
   "execution_count": 47,
   "metadata": {},
   "outputs": [
    {
     "data": {
      "text/plain": [
       "8.604475822094171"
      ]
     },
     "execution_count": 47,
     "metadata": {},
     "output_type": "execute_result"
    },
    {
     "data": {
      "application/javascript": "\n            setTimeout(function() {\n                var nbb_cell_id = 47;\n                var nbb_unformatted_code = \"_train_predict_scaled[0][0]\";\n                var nbb_formatted_code = \"_train_predict_scaled[0][0]\";\n                var nbb_cells = Jupyter.notebook.get_cells();\n                for (var i = 0; i < nbb_cells.length; ++i) {\n                    if (nbb_cells[i].input_prompt_number == nbb_cell_id) {\n                        if (nbb_cells[i].get_text() == nbb_unformatted_code) {\n                             nbb_cells[i].set_text(nbb_formatted_code);\n                        }\n                        break;\n                    }\n                }\n            }, 500);\n            ",
      "text/plain": [
       "<IPython.core.display.Javascript object>"
      ]
     },
     "metadata": {},
     "output_type": "display_data"
    }
   ],
   "source": [
    "_train_predict_scaled[0][0]"
   ]
  },
  {
   "cell_type": "code",
   "execution_count": 48,
   "metadata": {},
   "outputs": [
    {
     "data": {
      "application/javascript": "\n            setTimeout(function() {\n                var nbb_cell_id = 48;\n                var nbb_unformatted_code = \"train_predict_rescaled = np.zeros([2694,], dtype='float32')\";\n                var nbb_formatted_code = \"train_predict_rescaled = np.zeros(\\n    [\\n        2694,\\n    ],\\n    dtype=\\\"float32\\\",\\n)\";\n                var nbb_cells = Jupyter.notebook.get_cells();\n                for (var i = 0; i < nbb_cells.length; ++i) {\n                    if (nbb_cells[i].input_prompt_number == nbb_cell_id) {\n                        if (nbb_cells[i].get_text() == nbb_unformatted_code) {\n                             nbb_cells[i].set_text(nbb_formatted_code);\n                        }\n                        break;\n                    }\n                }\n            }, 500);\n            ",
      "text/plain": [
       "<IPython.core.display.Javascript object>"
      ]
     },
     "metadata": {},
     "output_type": "display_data"
    }
   ],
   "source": [
    "train_predict_rescaled = np.zeros([2694,], dtype='float32')"
   ]
  },
  {
   "cell_type": "code",
   "execution_count": 49,
   "metadata": {},
   "outputs": [
    {
     "data": {
      "application/javascript": "\n            setTimeout(function() {\n                var nbb_cell_id = 49;\n                var nbb_unformatted_code = \"for i, x in enumerate(_train_predict_scaled):\\n    train_predict_rescaled[i] = x[0]\";\n                var nbb_formatted_code = \"for i, x in enumerate(_train_predict_scaled):\\n    train_predict_rescaled[i] = x[0]\";\n                var nbb_cells = Jupyter.notebook.get_cells();\n                for (var i = 0; i < nbb_cells.length; ++i) {\n                    if (nbb_cells[i].input_prompt_number == nbb_cell_id) {\n                        if (nbb_cells[i].get_text() == nbb_unformatted_code) {\n                             nbb_cells[i].set_text(nbb_formatted_code);\n                        }\n                        break;\n                    }\n                }\n            }, 500);\n            ",
      "text/plain": [
       "<IPython.core.display.Javascript object>"
      ]
     },
     "metadata": {},
     "output_type": "display_data"
    }
   ],
   "source": [
    "for i, x in enumerate(_train_predict_scaled):\n",
    "    train_predict_rescaled[i] = x[0]"
   ]
  },
  {
   "cell_type": "code",
   "execution_count": 50,
   "metadata": {},
   "outputs": [
    {
     "data": {
      "application/javascript": "\n            setTimeout(function() {\n                var nbb_cell_id = 50;\n                var nbb_unformatted_code = \"train_predict_rescaled = pd.Series(train_predict_rescaled, index=df.iloc[63:split].index)\";\n                var nbb_formatted_code = \"train_predict_rescaled = pd.Series(\\n    train_predict_rescaled, index=df.iloc[63:split].index\\n)\";\n                var nbb_cells = Jupyter.notebook.get_cells();\n                for (var i = 0; i < nbb_cells.length; ++i) {\n                    if (nbb_cells[i].input_prompt_number == nbb_cell_id) {\n                        if (nbb_cells[i].get_text() == nbb_unformatted_code) {\n                             nbb_cells[i].set_text(nbb_formatted_code);\n                        }\n                        break;\n                    }\n                }\n            }, 500);\n            ",
      "text/plain": [
       "<IPython.core.display.Javascript object>"
      ]
     },
     "metadata": {},
     "output_type": "display_data"
    }
   ],
   "source": [
    "train_predict_rescaled = pd.Series(train_predict_rescaled, index=df.iloc[63:split].index)"
   ]
  },
  {
   "cell_type": "code",
   "execution_count": 51,
   "metadata": {},
   "outputs": [
    {
     "data": {
      "application/javascript": "\n            setTimeout(function() {\n                var nbb_cell_id = 51;\n                var nbb_unformatted_code = \"_ = np.array(test_predict_scaled)\\n_ = np.c_[_, np.zeros(_.shape), np.zeros(_.shape), np.zeros(_.shape), np.zeros(_.shape), np.zeros(_.shape), np.zeros(_.shape), np.zeros(_.shape)]\";\n                var nbb_formatted_code = \"_ = np.array(test_predict_scaled)\\n_ = np.c_[\\n    _,\\n    np.zeros(_.shape),\\n    np.zeros(_.shape),\\n    np.zeros(_.shape),\\n    np.zeros(_.shape),\\n    np.zeros(_.shape),\\n    np.zeros(_.shape),\\n    np.zeros(_.shape),\\n]\";\n                var nbb_cells = Jupyter.notebook.get_cells();\n                for (var i = 0; i < nbb_cells.length; ++i) {\n                    if (nbb_cells[i].input_prompt_number == nbb_cell_id) {\n                        if (nbb_cells[i].get_text() == nbb_unformatted_code) {\n                             nbb_cells[i].set_text(nbb_formatted_code);\n                        }\n                        break;\n                    }\n                }\n            }, 500);\n            ",
      "text/plain": [
       "<IPython.core.display.Javascript object>"
      ]
     },
     "metadata": {},
     "output_type": "display_data"
    }
   ],
   "source": [
    "_ = np.array(test_predict_scaled)\n",
    "_ = np.c_[_, np.zeros(_.shape), np.zeros(_.shape), np.zeros(_.shape), np.zeros(_.shape), np.zeros(_.shape), np.zeros(_.shape), np.zeros(_.shape)]"
   ]
  },
  {
   "cell_type": "code",
   "execution_count": 52,
   "metadata": {},
   "outputs": [
    {
     "data": {
      "application/javascript": "\n            setTimeout(function() {\n                var nbb_cell_id = 52;\n                var nbb_unformatted_code = \"_test_predict_scaled = scaler.inverse_transform(_)\";\n                var nbb_formatted_code = \"_test_predict_scaled = scaler.inverse_transform(_)\";\n                var nbb_cells = Jupyter.notebook.get_cells();\n                for (var i = 0; i < nbb_cells.length; ++i) {\n                    if (nbb_cells[i].input_prompt_number == nbb_cell_id) {\n                        if (nbb_cells[i].get_text() == nbb_unformatted_code) {\n                             nbb_cells[i].set_text(nbb_formatted_code);\n                        }\n                        break;\n                    }\n                }\n            }, 500);\n            ",
      "text/plain": [
       "<IPython.core.display.Javascript object>"
      ]
     },
     "metadata": {},
     "output_type": "display_data"
    }
   ],
   "source": [
    "_test_predict_scaled = scaler.inverse_transform(_)"
   ]
  },
  {
   "cell_type": "code",
   "execution_count": 53,
   "metadata": {},
   "outputs": [
    {
     "data": {
      "text/plain": [
       "123.63444684142567"
      ]
     },
     "execution_count": 53,
     "metadata": {},
     "output_type": "execute_result"
    },
    {
     "data": {
      "application/javascript": "\n            setTimeout(function() {\n                var nbb_cell_id = 53;\n                var nbb_unformatted_code = \"_test_predict_scaled[0][0]\";\n                var nbb_formatted_code = \"_test_predict_scaled[0][0]\";\n                var nbb_cells = Jupyter.notebook.get_cells();\n                for (var i = 0; i < nbb_cells.length; ++i) {\n                    if (nbb_cells[i].input_prompt_number == nbb_cell_id) {\n                        if (nbb_cells[i].get_text() == nbb_unformatted_code) {\n                             nbb_cells[i].set_text(nbb_formatted_code);\n                        }\n                        break;\n                    }\n                }\n            }, 500);\n            ",
      "text/plain": [
       "<IPython.core.display.Javascript object>"
      ]
     },
     "metadata": {},
     "output_type": "display_data"
    }
   ],
   "source": [
    "_test_predict_scaled[0][0]\n"
   ]
  },
  {
   "cell_type": "code",
   "execution_count": 54,
   "metadata": {},
   "outputs": [
    {
     "data": {
      "application/javascript": "\n            setTimeout(function() {\n                var nbb_cell_id = 54;\n                var nbb_unformatted_code = \"test_predict_rescaled = np.zeros([244,], dtype='float32')\";\n                var nbb_formatted_code = \"test_predict_rescaled = np.zeros(\\n    [\\n        244,\\n    ],\\n    dtype=\\\"float32\\\",\\n)\";\n                var nbb_cells = Jupyter.notebook.get_cells();\n                for (var i = 0; i < nbb_cells.length; ++i) {\n                    if (nbb_cells[i].input_prompt_number == nbb_cell_id) {\n                        if (nbb_cells[i].get_text() == nbb_unformatted_code) {\n                             nbb_cells[i].set_text(nbb_formatted_code);\n                        }\n                        break;\n                    }\n                }\n            }, 500);\n            ",
      "text/plain": [
       "<IPython.core.display.Javascript object>"
      ]
     },
     "metadata": {},
     "output_type": "display_data"
    }
   ],
   "source": [
    "test_predict_rescaled = np.zeros([244,], dtype='float32')"
   ]
  },
  {
   "cell_type": "code",
   "execution_count": 55,
   "metadata": {},
   "outputs": [
    {
     "data": {
      "application/javascript": "\n            setTimeout(function() {\n                var nbb_cell_id = 55;\n                var nbb_unformatted_code = \"for i, x in enumerate(_test_predict_scaled):\\n    test_predict_rescaled[i] = x[0]\";\n                var nbb_formatted_code = \"for i, x in enumerate(_test_predict_scaled):\\n    test_predict_rescaled[i] = x[0]\";\n                var nbb_cells = Jupyter.notebook.get_cells();\n                for (var i = 0; i < nbb_cells.length; ++i) {\n                    if (nbb_cells[i].input_prompt_number == nbb_cell_id) {\n                        if (nbb_cells[i].get_text() == nbb_unformatted_code) {\n                             nbb_cells[i].set_text(nbb_formatted_code);\n                        }\n                        break;\n                    }\n                }\n            }, 500);\n            ",
      "text/plain": [
       "<IPython.core.display.Javascript object>"
      ]
     },
     "metadata": {},
     "output_type": "display_data"
    }
   ],
   "source": [
    "for i, x in enumerate(_test_predict_scaled):\n",
    "    test_predict_rescaled[i] = x[0]"
   ]
  },
  {
   "cell_type": "code",
   "execution_count": 56,
   "metadata": {},
   "outputs": [
    {
     "data": {
      "application/javascript": "\n            setTimeout(function() {\n                var nbb_cell_id = 56;\n                var nbb_unformatted_code = \"test_predict_rescaled = pd.Series(test_predict_rescaled, index=df.iloc[split+63:].index)\";\n                var nbb_formatted_code = \"test_predict_rescaled = pd.Series(\\n    test_predict_rescaled, index=df.iloc[split + 63 :].index\\n)\";\n                var nbb_cells = Jupyter.notebook.get_cells();\n                for (var i = 0; i < nbb_cells.length; ++i) {\n                    if (nbb_cells[i].input_prompt_number == nbb_cell_id) {\n                        if (nbb_cells[i].get_text() == nbb_unformatted_code) {\n                             nbb_cells[i].set_text(nbb_formatted_code);\n                        }\n                        break;\n                    }\n                }\n            }, 500);\n            ",
      "text/plain": [
       "<IPython.core.display.Javascript object>"
      ]
     },
     "metadata": {},
     "output_type": "display_data"
    }
   ],
   "source": [
    "test_predict_rescaled = pd.Series(test_predict_rescaled, index=df.iloc[split+63:].index)"
   ]
  },
  {
   "cell_type": "code",
   "execution_count": 57,
   "metadata": {},
   "outputs": [
    {
     "data": {
      "application/javascript": "\n            setTimeout(function() {\n                var nbb_cell_id = 57;\n                var nbb_unformatted_code = \"df_compare = df.iloc[-244:].copy()\";\n                var nbb_formatted_code = \"df_compare = df.iloc[-244:].copy()\";\n                var nbb_cells = Jupyter.notebook.get_cells();\n                for (var i = 0; i < nbb_cells.length; ++i) {\n                    if (nbb_cells[i].input_prompt_number == nbb_cell_id) {\n                        if (nbb_cells[i].get_text() == nbb_unformatted_code) {\n                             nbb_cells[i].set_text(nbb_formatted_code);\n                        }\n                        break;\n                    }\n                }\n            }, 500);\n            ",
      "text/plain": [
       "<IPython.core.display.Javascript object>"
      ]
     },
     "metadata": {},
     "output_type": "display_data"
    }
   ],
   "source": [
    "df_compare = df.iloc[-244:].copy()"
   ]
  },
  {
   "cell_type": "code",
   "execution_count": 58,
   "metadata": {},
   "outputs": [
    {
     "data": {
      "application/javascript": "\n            setTimeout(function() {\n                var nbb_cell_id = 58;\n                var nbb_unformatted_code = \"df_compare[\\\"preds\\\"] = test_predict_rescaled\";\n                var nbb_formatted_code = \"df_compare[\\\"preds\\\"] = test_predict_rescaled\";\n                var nbb_cells = Jupyter.notebook.get_cells();\n                for (var i = 0; i < nbb_cells.length; ++i) {\n                    if (nbb_cells[i].input_prompt_number == nbb_cell_id) {\n                        if (nbb_cells[i].get_text() == nbb_unformatted_code) {\n                             nbb_cells[i].set_text(nbb_formatted_code);\n                        }\n                        break;\n                    }\n                }\n            }, 500);\n            ",
      "text/plain": [
       "<IPython.core.display.Javascript object>"
      ]
     },
     "metadata": {},
     "output_type": "display_data"
    }
   ],
   "source": [
    "df_compare[\"preds\"] = test_predict_rescaled"
   ]
  },
  {
   "cell_type": "code",
   "execution_count": 59,
   "metadata": {},
   "outputs": [
    {
     "data": {
      "text/html": [
       "<div>\n",
       "<style scoped>\n",
       "    .dataframe tbody tr th:only-of-type {\n",
       "        vertical-align: middle;\n",
       "    }\n",
       "\n",
       "    .dataframe tbody tr th {\n",
       "        vertical-align: top;\n",
       "    }\n",
       "\n",
       "    .dataframe thead th {\n",
       "        text-align: right;\n",
       "    }\n",
       "</style>\n",
       "<table border=\"1\" class=\"dataframe\">\n",
       "  <thead>\n",
       "    <tr style=\"text-align: right;\">\n",
       "      <th></th>\n",
       "      <th>5. adjusted close</th>\n",
       "      <th>2. high</th>\n",
       "      <th>3. low</th>\n",
       "      <th>6. volume</th>\n",
       "      <th>negative</th>\n",
       "      <th>nuetral</th>\n",
       "      <th>positive</th>\n",
       "      <th>log_return</th>\n",
       "      <th>preds</th>\n",
       "    </tr>\n",
       "    <tr>\n",
       "      <th>date</th>\n",
       "      <th></th>\n",
       "      <th></th>\n",
       "      <th></th>\n",
       "      <th></th>\n",
       "      <th></th>\n",
       "      <th></th>\n",
       "      <th></th>\n",
       "      <th></th>\n",
       "      <th></th>\n",
       "    </tr>\n",
       "  </thead>\n",
       "  <tbody>\n",
       "    <tr>\n",
       "      <th>2021-03-18</th>\n",
       "      <td>119.818452</td>\n",
       "      <td>123.18</td>\n",
       "      <td>120.320</td>\n",
       "      <td>121469755.0</td>\n",
       "      <td>0.379435</td>\n",
       "      <td>0.442016</td>\n",
       "      <td>0.178549</td>\n",
       "      <td>-0.034493</td>\n",
       "      <td>123.634445</td>\n",
       "    </tr>\n",
       "    <tr>\n",
       "      <th>2021-03-19</th>\n",
       "      <td>119.281640</td>\n",
       "      <td>121.43</td>\n",
       "      <td>119.675</td>\n",
       "      <td>185549522.0</td>\n",
       "      <td>0.417845</td>\n",
       "      <td>0.296014</td>\n",
       "      <td>0.286141</td>\n",
       "      <td>-0.004490</td>\n",
       "      <td>120.788200</td>\n",
       "    </tr>\n",
       "    <tr>\n",
       "      <th>2021-03-22</th>\n",
       "      <td>122.661568</td>\n",
       "      <td>123.87</td>\n",
       "      <td>120.260</td>\n",
       "      <td>111912284.0</td>\n",
       "      <td>0.404767</td>\n",
       "      <td>0.355228</td>\n",
       "      <td>0.240005</td>\n",
       "      <td>0.027942</td>\n",
       "      <td>119.663300</td>\n",
       "    </tr>\n",
       "    <tr>\n",
       "      <th>2021-03-23</th>\n",
       "      <td>121.816586</td>\n",
       "      <td>124.24</td>\n",
       "      <td>122.140</td>\n",
       "      <td>95467142.0</td>\n",
       "      <td>0.344417</td>\n",
       "      <td>0.514738</td>\n",
       "      <td>0.140845</td>\n",
       "      <td>-0.006913</td>\n",
       "      <td>121.995476</td>\n",
       "    </tr>\n",
       "    <tr>\n",
       "      <th>2021-03-24</th>\n",
       "      <td>119.381049</td>\n",
       "      <td>122.90</td>\n",
       "      <td>120.065</td>\n",
       "      <td>88530485.0</td>\n",
       "      <td>0.392913</td>\n",
       "      <td>0.513768</td>\n",
       "      <td>0.093318</td>\n",
       "      <td>-0.020196</td>\n",
       "      <td>122.702545</td>\n",
       "    </tr>\n",
       "    <tr>\n",
       "      <th>...</th>\n",
       "      <td>...</td>\n",
       "      <td>...</td>\n",
       "      <td>...</td>\n",
       "      <td>...</td>\n",
       "      <td>...</td>\n",
       "      <td>...</td>\n",
       "      <td>...</td>\n",
       "      <td>...</td>\n",
       "      <td>...</td>\n",
       "    </tr>\n",
       "    <tr>\n",
       "      <th>2022-02-28</th>\n",
       "      <td>165.120000</td>\n",
       "      <td>165.42</td>\n",
       "      <td>162.430</td>\n",
       "      <td>95056629.0</td>\n",
       "      <td>0.442030</td>\n",
       "      <td>0.409206</td>\n",
       "      <td>0.148764</td>\n",
       "      <td>0.001637</td>\n",
       "      <td>166.168472</td>\n",
       "    </tr>\n",
       "    <tr>\n",
       "      <th>2022-03-01</th>\n",
       "      <td>163.200000</td>\n",
       "      <td>166.60</td>\n",
       "      <td>161.970</td>\n",
       "      <td>83474425.0</td>\n",
       "      <td>0.468003</td>\n",
       "      <td>0.407704</td>\n",
       "      <td>0.124294</td>\n",
       "      <td>-0.011696</td>\n",
       "      <td>166.936829</td>\n",
       "    </tr>\n",
       "    <tr>\n",
       "      <th>2022-03-02</th>\n",
       "      <td>166.560000</td>\n",
       "      <td>167.36</td>\n",
       "      <td>162.950</td>\n",
       "      <td>79724750.0</td>\n",
       "      <td>0.442909</td>\n",
       "      <td>0.424314</td>\n",
       "      <td>0.132777</td>\n",
       "      <td>0.020379</td>\n",
       "      <td>164.100327</td>\n",
       "    </tr>\n",
       "    <tr>\n",
       "      <th>2022-03-03</th>\n",
       "      <td>166.230000</td>\n",
       "      <td>168.91</td>\n",
       "      <td>165.550</td>\n",
       "      <td>76678441.0</td>\n",
       "      <td>0.317731</td>\n",
       "      <td>0.523530</td>\n",
       "      <td>0.158739</td>\n",
       "      <td>-0.001983</td>\n",
       "      <td>165.994797</td>\n",
       "    </tr>\n",
       "    <tr>\n",
       "      <th>2022-03-04</th>\n",
       "      <td>163.170000</td>\n",
       "      <td>165.55</td>\n",
       "      <td>162.100</td>\n",
       "      <td>83819592.0</td>\n",
       "      <td>0.255765</td>\n",
       "      <td>0.641111</td>\n",
       "      <td>0.103125</td>\n",
       "      <td>-0.018580</td>\n",
       "      <td>166.288651</td>\n",
       "    </tr>\n",
       "  </tbody>\n",
       "</table>\n",
       "<p>244 rows × 9 columns</p>\n",
       "</div>"
      ],
      "text/plain": [
       "            5. adjusted close  2. high   3. low    6. volume  negative  \\\n",
       "date                                                                     \n",
       "2021-03-18         119.818452   123.18  120.320  121469755.0  0.379435   \n",
       "2021-03-19         119.281640   121.43  119.675  185549522.0  0.417845   \n",
       "2021-03-22         122.661568   123.87  120.260  111912284.0  0.404767   \n",
       "2021-03-23         121.816586   124.24  122.140   95467142.0  0.344417   \n",
       "2021-03-24         119.381049   122.90  120.065   88530485.0  0.392913   \n",
       "...                       ...      ...      ...          ...       ...   \n",
       "2022-02-28         165.120000   165.42  162.430   95056629.0  0.442030   \n",
       "2022-03-01         163.200000   166.60  161.970   83474425.0  0.468003   \n",
       "2022-03-02         166.560000   167.36  162.950   79724750.0  0.442909   \n",
       "2022-03-03         166.230000   168.91  165.550   76678441.0  0.317731   \n",
       "2022-03-04         163.170000   165.55  162.100   83819592.0  0.255765   \n",
       "\n",
       "             nuetral  positive  log_return       preds  \n",
       "date                                                    \n",
       "2021-03-18  0.442016  0.178549   -0.034493  123.634445  \n",
       "2021-03-19  0.296014  0.286141   -0.004490  120.788200  \n",
       "2021-03-22  0.355228  0.240005    0.027942  119.663300  \n",
       "2021-03-23  0.514738  0.140845   -0.006913  121.995476  \n",
       "2021-03-24  0.513768  0.093318   -0.020196  122.702545  \n",
       "...              ...       ...         ...         ...  \n",
       "2022-02-28  0.409206  0.148764    0.001637  166.168472  \n",
       "2022-03-01  0.407704  0.124294   -0.011696  166.936829  \n",
       "2022-03-02  0.424314  0.132777    0.020379  164.100327  \n",
       "2022-03-03  0.523530  0.158739   -0.001983  165.994797  \n",
       "2022-03-04  0.641111  0.103125   -0.018580  166.288651  \n",
       "\n",
       "[244 rows x 9 columns]"
      ]
     },
     "execution_count": 59,
     "metadata": {},
     "output_type": "execute_result"
    },
    {
     "data": {
      "application/javascript": "\n            setTimeout(function() {\n                var nbb_cell_id = 59;\n                var nbb_unformatted_code = \"df_compare\";\n                var nbb_formatted_code = \"df_compare\";\n                var nbb_cells = Jupyter.notebook.get_cells();\n                for (var i = 0; i < nbb_cells.length; ++i) {\n                    if (nbb_cells[i].input_prompt_number == nbb_cell_id) {\n                        if (nbb_cells[i].get_text() == nbb_unformatted_code) {\n                             nbb_cells[i].set_text(nbb_formatted_code);\n                        }\n                        break;\n                    }\n                }\n            }, 500);\n            ",
      "text/plain": [
       "<IPython.core.display.Javascript object>"
      ]
     },
     "metadata": {},
     "output_type": "display_data"
    }
   ],
   "source": [
    "df_compare"
   ]
  },
  {
   "cell_type": "code",
   "execution_count": 60,
   "metadata": {},
   "outputs": [
    {
     "name": "stdout",
     "output_type": "stream",
     "text": [
      "Test Score: 1.9302 MAE\n"
     ]
    },
    {
     "data": {
      "application/javascript": "\n            setTimeout(function() {\n                var nbb_cell_id = 60;\n                var nbb_unformatted_code = \"testScore = mean_absolute_error(df_compare[\\\"5. adjusted close\\\"].values, df_compare[\\\"preds\\\"].values)\\nprint(\\\"Test Score: %.4f MAE\\\" % (testScore))\";\n                var nbb_formatted_code = \"testScore = mean_absolute_error(\\n    df_compare[\\\"5. adjusted close\\\"].values, df_compare[\\\"preds\\\"].values\\n)\\nprint(\\\"Test Score: %.4f MAE\\\" % (testScore))\";\n                var nbb_cells = Jupyter.notebook.get_cells();\n                for (var i = 0; i < nbb_cells.length; ++i) {\n                    if (nbb_cells[i].input_prompt_number == nbb_cell_id) {\n                        if (nbb_cells[i].get_text() == nbb_unformatted_code) {\n                             nbb_cells[i].set_text(nbb_formatted_code);\n                        }\n                        break;\n                    }\n                }\n            }, 500);\n            ",
      "text/plain": [
       "<IPython.core.display.Javascript object>"
      ]
     },
     "metadata": {},
     "output_type": "display_data"
    }
   ],
   "source": [
    "testScore = mean_absolute_error(df_compare[\"5. adjusted close\"].values, df_compare[\"preds\"].values)\n",
    "print(\"Test Score: %.4f MAE\" % (testScore))"
   ]
  },
  {
   "cell_type": "code",
   "execution_count": 61,
   "metadata": {},
   "outputs": [
    {
     "data": {
      "image/png": "[encoded data removed]",
      "text/plain": [
       "<Figure size 864x576 with 2 Axes>"
      ]
     },
     "metadata": {
      "needs_background": "light"
     },
     "output_type": "display_data"
    },
    {
     "data": {
      "application/javascript": "\n            setTimeout(function() {\n                var nbb_cell_id = 61;\n                var nbb_unformatted_code = \"plt.figure(figsize=(12,8))\\n\\nax1 = df_compare[\\\"5. adjusted close\\\"][-63:].plot(color='blue', grid=True, secondary_y=False, label='Actual', marker='.')\\nax2 = df_compare[\\\"preds\\\"][-63:].plot(color='red', grid=True, secondary_y=True, label='Predicted', marker='.')\\n\\na, b = 155, 185\\n\\nax1.set_ylim(a,b)\\nax2.set_ylim(a,b)\\n\\nh1, l1 = ax1.get_legend_handles_labels()\\nh2, l2 = ax2.get_legend_handles_labels()\\n\\nax1.set_xlabel(\\\"Date\\\")\\nplt.legend(h1+h2, l1+l2, loc=1)\\nplt.show()\";\n                var nbb_formatted_code = \"plt.figure(figsize=(12, 8))\\n\\nax1 = df_compare[\\\"5. adjusted close\\\"][-63:].plot(\\n    color=\\\"blue\\\", grid=True, secondary_y=False, label=\\\"Actual\\\", marker=\\\".\\\"\\n)\\nax2 = df_compare[\\\"preds\\\"][-63:].plot(\\n    color=\\\"red\\\", grid=True, secondary_y=True, label=\\\"Predicted\\\", marker=\\\".\\\"\\n)\\n\\na, b = 155, 185\\n\\nax1.set_ylim(a, b)\\nax2.set_ylim(a, b)\\n\\nh1, l1 = ax1.get_legend_handles_labels()\\nh2, l2 = ax2.get_legend_handles_labels()\\n\\nax1.set_xlabel(\\\"Date\\\")\\nplt.legend(h1 + h2, l1 + l2, loc=1)\\nplt.show()\";\n                var nbb_cells = Jupyter.notebook.get_cells();\n                for (var i = 0; i < nbb_cells.length; ++i) {\n                    if (nbb_cells[i].input_prompt_number == nbb_cell_id) {\n                        if (nbb_cells[i].get_text() == nbb_unformatted_code) {\n                             nbb_cells[i].set_text(nbb_formatted_code);\n                        }\n                        break;\n                    }\n                }\n            }, 500);\n            ",
      "text/plain": [
       "<IPython.core.display.Javascript object>"
      ]
     },
     "metadata": {},
     "output_type": "display_data"
    }
   ],
   "source": [
    "plt.figure(figsize=(12,8))\n",
    "\n",
    "ax1 = df_compare[\"5. adjusted close\"][-63:].plot(color='blue', grid=True, secondary_y=False, label='Actual', marker='.')\n",
    "ax2 = df_compare[\"preds\"][-63:].plot(color='red', grid=True, secondary_y=True, label='Predicted', marker='.')\n",
    "\n",
    "a, b = 155, 185\n",
    "\n",
    "ax1.set_ylim(a,b)\n",
    "ax2.set_ylim(a,b)\n",
    "\n",
    "h1, l1 = ax1.get_legend_handles_labels()\n",
    "h2, l2 = ax2.get_legend_handles_labels()\n",
    "\n",
    "ax1.set_xlabel(\"Date\")\n",
    "plt.legend(h1+h2, l1+l2, loc=1)\n",
    "plt.show()"
   ]
  },
  {
   "cell_type": "code",
   "execution_count": 62,
   "metadata": {},
   "outputs": [
    {
     "data": {
      "application/javascript": "\n            setTimeout(function() {\n                var nbb_cell_id = 62;\n                var nbb_unformatted_code = \"df_compare[\\\"actual_percentage_change\\\"] = df_compare['5. adjusted close'].pct_change()\\ndf_compare[\\\"actual_increase\\\"] = df_compare[\\\"actual_percentage_change\\\"].apply(lambda x: 1 if x > 0 else 0)\";\n                var nbb_formatted_code = \"df_compare[\\\"actual_percentage_change\\\"] = df_compare[\\\"5. adjusted close\\\"].pct_change()\\ndf_compare[\\\"actual_increase\\\"] = df_compare[\\\"actual_percentage_change\\\"].apply(\\n    lambda x: 1 if x > 0 else 0\\n)\";\n                var nbb_cells = Jupyter.notebook.get_cells();\n                for (var i = 0; i < nbb_cells.length; ++i) {\n                    if (nbb_cells[i].input_prompt_number == nbb_cell_id) {\n                        if (nbb_cells[i].get_text() == nbb_unformatted_code) {\n                             nbb_cells[i].set_text(nbb_formatted_code);\n                        }\n                        break;\n                    }\n                }\n            }, 500);\n            ",
      "text/plain": [
       "<IPython.core.display.Javascript object>"
      ]
     },
     "metadata": {},
     "output_type": "display_data"
    }
   ],
   "source": [
    "df_compare[\"actual_percentage_change\"] = df_compare['5. adjusted close'].pct_change()\n",
    "df_compare[\"actual_increase\"] = df_compare[\"actual_percentage_change\"].apply(lambda x: 1 if x > 0 else 0)"
   ]
  },
  {
   "cell_type": "code",
   "execution_count": 63,
   "metadata": {},
   "outputs": [
    {
     "data": {
      "application/javascript": "\n            setTimeout(function() {\n                var nbb_cell_id = 63;\n                var nbb_unformatted_code = \"df_compare[\\\"predicted_percentage_change\\\"] = df_compare['preds'].pct_change()\\ndf_compare[\\\"predicted_increase\\\"] = df_compare[\\\"predicted_percentage_change\\\"].apply(lambda x: 1 if x > 0 else 0)\";\n                var nbb_formatted_code = \"df_compare[\\\"predicted_percentage_change\\\"] = df_compare[\\\"preds\\\"].pct_change()\\ndf_compare[\\\"predicted_increase\\\"] = df_compare[\\\"predicted_percentage_change\\\"].apply(\\n    lambda x: 1 if x > 0 else 0\\n)\";\n                var nbb_cells = Jupyter.notebook.get_cells();\n                for (var i = 0; i < nbb_cells.length; ++i) {\n                    if (nbb_cells[i].input_prompt_number == nbb_cell_id) {\n                        if (nbb_cells[i].get_text() == nbb_unformatted_code) {\n                             nbb_cells[i].set_text(nbb_formatted_code);\n                        }\n                        break;\n                    }\n                }\n            }, 500);\n            ",
      "text/plain": [
       "<IPython.core.display.Javascript object>"
      ]
     },
     "metadata": {},
     "output_type": "display_data"
    }
   ],
   "source": [
    "df_compare[\"predicted_percentage_change\"] = df_compare['preds'].pct_change()\n",
    "df_compare[\"predicted_increase\"] = df_compare[\"predicted_percentage_change\"].apply(lambda x: 1 if x > 0 else 0)"
   ]
  },
  {
   "cell_type": "code",
   "execution_count": 64,
   "metadata": {},
   "outputs": [
    {
     "data": {
      "application/javascript": "\n            setTimeout(function() {\n                var nbb_cell_id = 64;\n                var nbb_unformatted_code = \"df_compare.fillna(0, inplace=True)\";\n                var nbb_formatted_code = \"df_compare.fillna(0, inplace=True)\";\n                var nbb_cells = Jupyter.notebook.get_cells();\n                for (var i = 0; i < nbb_cells.length; ++i) {\n                    if (nbb_cells[i].input_prompt_number == nbb_cell_id) {\n                        if (nbb_cells[i].get_text() == nbb_unformatted_code) {\n                             nbb_cells[i].set_text(nbb_formatted_code);\n                        }\n                        break;\n                    }\n                }\n            }, 500);\n            ",
      "text/plain": [
       "<IPython.core.display.Javascript object>"
      ]
     },
     "metadata": {},
     "output_type": "display_data"
    }
   ],
   "source": [
    "df_compare.fillna(0, inplace=True)"
   ]
  },
  {
   "cell_type": "code",
   "execution_count": 65,
   "metadata": {},
   "outputs": [
    {
     "data": {
      "text/html": [
       "<div>\n",
       "<style scoped>\n",
       "    .dataframe tbody tr th:only-of-type {\n",
       "        vertical-align: middle;\n",
       "    }\n",
       "\n",
       "    .dataframe tbody tr th {\n",
       "        vertical-align: top;\n",
       "    }\n",
       "\n",
       "    .dataframe thead th {\n",
       "        text-align: right;\n",
       "    }\n",
       "</style>\n",
       "<table border=\"1\" class=\"dataframe\">\n",
       "  <thead>\n",
       "    <tr style=\"text-align: right;\">\n",
       "      <th></th>\n",
       "      <th>5. adjusted close</th>\n",
       "      <th>2. high</th>\n",
       "      <th>3. low</th>\n",
       "      <th>6. volume</th>\n",
       "      <th>negative</th>\n",
       "      <th>nuetral</th>\n",
       "      <th>positive</th>\n",
       "      <th>log_return</th>\n",
       "      <th>preds</th>\n",
       "      <th>actual_percentage_change</th>\n",
       "      <th>actual_increase</th>\n",
       "      <th>predicted_percentage_change</th>\n",
       "      <th>predicted_increase</th>\n",
       "    </tr>\n",
       "    <tr>\n",
       "      <th>date</th>\n",
       "      <th></th>\n",
       "      <th></th>\n",
       "      <th></th>\n",
       "      <th></th>\n",
       "      <th></th>\n",
       "      <th></th>\n",
       "      <th></th>\n",
       "      <th></th>\n",
       "      <th></th>\n",
       "      <th></th>\n",
       "      <th></th>\n",
       "      <th></th>\n",
       "      <th></th>\n",
       "    </tr>\n",
       "  </thead>\n",
       "  <tbody>\n",
       "    <tr>\n",
       "      <th>2021-03-18</th>\n",
       "      <td>119.818452</td>\n",
       "      <td>123.18</td>\n",
       "      <td>120.320</td>\n",
       "      <td>121469755.0</td>\n",
       "      <td>0.379435</td>\n",
       "      <td>0.442016</td>\n",
       "      <td>0.178549</td>\n",
       "      <td>-0.034493</td>\n",
       "      <td>123.634445</td>\n",
       "      <td>0.000000</td>\n",
       "      <td>0</td>\n",
       "      <td>0.000000</td>\n",
       "      <td>0</td>\n",
       "    </tr>\n",
       "    <tr>\n",
       "      <th>2021-03-19</th>\n",
       "      <td>119.281640</td>\n",
       "      <td>121.43</td>\n",
       "      <td>119.675</td>\n",
       "      <td>185549522.0</td>\n",
       "      <td>0.417845</td>\n",
       "      <td>0.296014</td>\n",
       "      <td>0.286141</td>\n",
       "      <td>-0.004490</td>\n",
       "      <td>120.788200</td>\n",
       "      <td>-0.004480</td>\n",
       "      <td>0</td>\n",
       "      <td>-0.023021</td>\n",
       "      <td>0</td>\n",
       "    </tr>\n",
       "    <tr>\n",
       "      <th>2021-03-22</th>\n",
       "      <td>122.661568</td>\n",
       "      <td>123.87</td>\n",
       "      <td>120.260</td>\n",
       "      <td>111912284.0</td>\n",
       "      <td>0.404767</td>\n",
       "      <td>0.355228</td>\n",
       "      <td>0.240005</td>\n",
       "      <td>0.027942</td>\n",
       "      <td>119.663300</td>\n",
       "      <td>0.028336</td>\n",
       "      <td>1</td>\n",
       "      <td>-0.009313</td>\n",
       "      <td>0</td>\n",
       "    </tr>\n",
       "    <tr>\n",
       "      <th>2021-03-23</th>\n",
       "      <td>121.816586</td>\n",
       "      <td>124.24</td>\n",
       "      <td>122.140</td>\n",
       "      <td>95467142.0</td>\n",
       "      <td>0.344417</td>\n",
       "      <td>0.514738</td>\n",
       "      <td>0.140845</td>\n",
       "      <td>-0.006913</td>\n",
       "      <td>121.995476</td>\n",
       "      <td>-0.006889</td>\n",
       "      <td>0</td>\n",
       "      <td>0.019490</td>\n",
       "      <td>1</td>\n",
       "    </tr>\n",
       "    <tr>\n",
       "      <th>2021-03-24</th>\n",
       "      <td>119.381049</td>\n",
       "      <td>122.90</td>\n",
       "      <td>120.065</td>\n",
       "      <td>88530485.0</td>\n",
       "      <td>0.392913</td>\n",
       "      <td>0.513768</td>\n",
       "      <td>0.093318</td>\n",
       "      <td>-0.020196</td>\n",
       "      <td>122.702545</td>\n",
       "      <td>-0.019993</td>\n",
       "      <td>0</td>\n",
       "      <td>0.005796</td>\n",
       "      <td>1</td>\n",
       "    </tr>\n",
       "    <tr>\n",
       "      <th>...</th>\n",
       "      <td>...</td>\n",
       "      <td>...</td>\n",
       "      <td>...</td>\n",
       "      <td>...</td>\n",
       "      <td>...</td>\n",
       "      <td>...</td>\n",
       "      <td>...</td>\n",
       "      <td>...</td>\n",
       "      <td>...</td>\n",
       "      <td>...</td>\n",
       "      <td>...</td>\n",
       "      <td>...</td>\n",
       "      <td>...</td>\n",
       "    </tr>\n",
       "    <tr>\n",
       "      <th>2022-02-28</th>\n",
       "      <td>165.120000</td>\n",
       "      <td>165.42</td>\n",
       "      <td>162.430</td>\n",
       "      <td>95056629.0</td>\n",
       "      <td>0.442030</td>\n",
       "      <td>0.409206</td>\n",
       "      <td>0.148764</td>\n",
       "      <td>0.001637</td>\n",
       "      <td>166.168472</td>\n",
       "      <td>0.001638</td>\n",
       "      <td>1</td>\n",
       "      <td>0.009790</td>\n",
       "      <td>1</td>\n",
       "    </tr>\n",
       "    <tr>\n",
       "      <th>2022-03-01</th>\n",
       "      <td>163.200000</td>\n",
       "      <td>166.60</td>\n",
       "      <td>161.970</td>\n",
       "      <td>83474425.0</td>\n",
       "      <td>0.468003</td>\n",
       "      <td>0.407704</td>\n",
       "      <td>0.124294</td>\n",
       "      <td>-0.011696</td>\n",
       "      <td>166.936829</td>\n",
       "      <td>-0.011628</td>\n",
       "      <td>0</td>\n",
       "      <td>0.004624</td>\n",
       "      <td>1</td>\n",
       "    </tr>\n",
       "    <tr>\n",
       "      <th>2022-03-02</th>\n",
       "      <td>166.560000</td>\n",
       "      <td>167.36</td>\n",
       "      <td>162.950</td>\n",
       "      <td>79724750.0</td>\n",
       "      <td>0.442909</td>\n",
       "      <td>0.424314</td>\n",
       "      <td>0.132777</td>\n",
       "      <td>0.020379</td>\n",
       "      <td>164.100327</td>\n",
       "      <td>0.020588</td>\n",
       "      <td>1</td>\n",
       "      <td>-0.016991</td>\n",
       "      <td>0</td>\n",
       "    </tr>\n",
       "    <tr>\n",
       "      <th>2022-03-03</th>\n",
       "      <td>166.230000</td>\n",
       "      <td>168.91</td>\n",
       "      <td>165.550</td>\n",
       "      <td>76678441.0</td>\n",
       "      <td>0.317731</td>\n",
       "      <td>0.523530</td>\n",
       "      <td>0.158739</td>\n",
       "      <td>-0.001983</td>\n",
       "      <td>165.994797</td>\n",
       "      <td>-0.001981</td>\n",
       "      <td>0</td>\n",
       "      <td>0.011545</td>\n",
       "      <td>1</td>\n",
       "    </tr>\n",
       "    <tr>\n",
       "      <th>2022-03-04</th>\n",
       "      <td>163.170000</td>\n",
       "      <td>165.55</td>\n",
       "      <td>162.100</td>\n",
       "      <td>83819592.0</td>\n",
       "      <td>0.255765</td>\n",
       "      <td>0.641111</td>\n",
       "      <td>0.103125</td>\n",
       "      <td>-0.018580</td>\n",
       "      <td>166.288651</td>\n",
       "      <td>-0.018408</td>\n",
       "      <td>0</td>\n",
       "      <td>0.001770</td>\n",
       "      <td>1</td>\n",
       "    </tr>\n",
       "  </tbody>\n",
       "</table>\n",
       "<p>244 rows × 13 columns</p>\n",
       "</div>"
      ],
      "text/plain": [
       "            5. adjusted close  2. high   3. low    6. volume  negative  \\\n",
       "date                                                                     \n",
       "2021-03-18         119.818452   123.18  120.320  121469755.0  0.379435   \n",
       "2021-03-19         119.281640   121.43  119.675  185549522.0  0.417845   \n",
       "2021-03-22         122.661568   123.87  120.260  111912284.0  0.404767   \n",
       "2021-03-23         121.816586   124.24  122.140   95467142.0  0.344417   \n",
       "2021-03-24         119.381049   122.90  120.065   88530485.0  0.392913   \n",
       "...                       ...      ...      ...          ...       ...   \n",
       "2022-02-28         165.120000   165.42  162.430   95056629.0  0.442030   \n",
       "2022-03-01         163.200000   166.60  161.970   83474425.0  0.468003   \n",
       "2022-03-02         166.560000   167.36  162.950   79724750.0  0.442909   \n",
       "2022-03-03         166.230000   168.91  165.550   76678441.0  0.317731   \n",
       "2022-03-04         163.170000   165.55  162.100   83819592.0  0.255765   \n",
       "\n",
       "             nuetral  positive  log_return       preds  \\\n",
       "date                                                     \n",
       "2021-03-18  0.442016  0.178549   -0.034493  123.634445   \n",
       "2021-03-19  0.296014  0.286141   -0.004490  120.788200   \n",
       "2021-03-22  0.355228  0.240005    0.027942  119.663300   \n",
       "2021-03-23  0.514738  0.140845   -0.006913  121.995476   \n",
       "2021-03-24  0.513768  0.093318   -0.020196  122.702545   \n",
       "...              ...       ...         ...         ...   \n",
       "2022-02-28  0.409206  0.148764    0.001637  166.168472   \n",
       "2022-03-01  0.407704  0.124294   -0.011696  166.936829   \n",
       "2022-03-02  0.424314  0.132777    0.020379  164.100327   \n",
       "2022-03-03  0.523530  0.158739   -0.001983  165.994797   \n",
       "2022-03-04  0.641111  0.103125   -0.018580  166.288651   \n",
       "\n",
       "            actual_percentage_change  actual_increase  \\\n",
       "date                                                    \n",
       "2021-03-18                  0.000000                0   \n",
       "2021-03-19                 -0.004480                0   \n",
       "2021-03-22                  0.028336                1   \n",
       "2021-03-23                 -0.006889                0   \n",
       "2021-03-24                 -0.019993                0   \n",
       "...                              ...              ...   \n",
       "2022-02-28                  0.001638                1   \n",
       "2022-03-01                 -0.011628                0   \n",
       "2022-03-02                  0.020588                1   \n",
       "2022-03-03                 -0.001981                0   \n",
       "2022-03-04                 -0.018408                0   \n",
       "\n",
       "            predicted_percentage_change  predicted_increase  \n",
       "date                                                         \n",
       "2021-03-18                     0.000000                   0  \n",
       "2021-03-19                    -0.023021                   0  \n",
       "2021-03-22                    -0.009313                   0  \n",
       "2021-03-23                     0.019490                   1  \n",
       "2021-03-24                     0.005796                   1  \n",
       "...                                 ...                 ...  \n",
       "2022-02-28                     0.009790                   1  \n",
       "2022-03-01                     0.004624                   1  \n",
       "2022-03-02                    -0.016991                   0  \n",
       "2022-03-03                     0.011545                   1  \n",
       "2022-03-04                     0.001770                   1  \n",
       "\n",
       "[244 rows x 13 columns]"
      ]
     },
     "execution_count": 65,
     "metadata": {},
     "output_type": "execute_result"
    },
    {
     "data": {
      "application/javascript": "\n            setTimeout(function() {\n                var nbb_cell_id = 65;\n                var nbb_unformatted_code = \"df_compare\";\n                var nbb_formatted_code = \"df_compare\";\n                var nbb_cells = Jupyter.notebook.get_cells();\n                for (var i = 0; i < nbb_cells.length; ++i) {\n                    if (nbb_cells[i].input_prompt_number == nbb_cell_id) {\n                        if (nbb_cells[i].get_text() == nbb_unformatted_code) {\n                             nbb_cells[i].set_text(nbb_formatted_code);\n                        }\n                        break;\n                    }\n                }\n            }, 500);\n            ",
      "text/plain": [
       "<IPython.core.display.Javascript object>"
      ]
     },
     "metadata": {},
     "output_type": "display_data"
    }
   ],
   "source": [
    "df_compare"
   ]
  },
  {
   "cell_type": "code",
   "execution_count": 66,
   "metadata": {},
   "outputs": [
    {
     "data": {
      "application/javascript": "\n            setTimeout(function() {\n                var nbb_cell_id = 66;\n                var nbb_unformatted_code = \"df_compare = df_compare.drop(\\\"2021-03-18\\\")\";\n                var nbb_formatted_code = \"df_compare = df_compare.drop(\\\"2021-03-18\\\")\";\n                var nbb_cells = Jupyter.notebook.get_cells();\n                for (var i = 0; i < nbb_cells.length; ++i) {\n                    if (nbb_cells[i].input_prompt_number == nbb_cell_id) {\n                        if (nbb_cells[i].get_text() == nbb_unformatted_code) {\n                             nbb_cells[i].set_text(nbb_formatted_code);\n                        }\n                        break;\n                    }\n                }\n            }, 500);\n            ",
      "text/plain": [
       "<IPython.core.display.Javascript object>"
      ]
     },
     "metadata": {},
     "output_type": "display_data"
    }
   ],
   "source": [
    "df_compare = df_compare.drop(\"2021-03-18\")\n"
   ]
  },
  {
   "cell_type": "markdown",
   "metadata": {},
   "source": [
    "### Postive Increase Prediction %"
   ]
  },
  {
   "cell_type": "code",
   "execution_count": 67,
   "metadata": {},
   "outputs": [
    {
     "data": {
      "text/plain": [
       "0.5234375"
      ]
     },
     "execution_count": 67,
     "metadata": {},
     "output_type": "execute_result"
    },
    {
     "data": {
      "application/javascript": "\n            setTimeout(function() {\n                var nbb_cell_id = 67;\n                var nbb_unformatted_code = \"df_compare[(df_compare[\\\"actual_increase\\\"]==1) & (df_compare[\\\"predicted_increase\\\"]==1)].shape[0] / df_compare[(df_compare[\\\"actual_increase\\\"]==1)].shape[0]\";\n                var nbb_formatted_code = \"df_compare[\\n    (df_compare[\\\"actual_increase\\\"] == 1) & (df_compare[\\\"predicted_increase\\\"] == 1)\\n].shape[0] / df_compare[(df_compare[\\\"actual_increase\\\"] == 1)].shape[0]\";\n                var nbb_cells = Jupyter.notebook.get_cells();\n                for (var i = 0; i < nbb_cells.length; ++i) {\n                    if (nbb_cells[i].input_prompt_number == nbb_cell_id) {\n                        if (nbb_cells[i].get_text() == nbb_unformatted_code) {\n                             nbb_cells[i].set_text(nbb_formatted_code);\n                        }\n                        break;\n                    }\n                }\n            }, 500);\n            ",
      "text/plain": [
       "<IPython.core.display.Javascript object>"
      ]
     },
     "metadata": {},
     "output_type": "display_data"
    }
   ],
   "source": [
    "df_compare[(df_compare[\"actual_increase\"]==1) & (df_compare[\"predicted_increase\"]==1)].shape[0] / df_compare[(df_compare[\"actual_increase\"]==1)].shape[0]"
   ]
  },
  {
   "cell_type": "markdown",
   "metadata": {},
   "source": [
    "### Negative Increase Prediction %"
   ]
  },
  {
   "cell_type": "code",
   "execution_count": 68,
   "metadata": {},
   "outputs": [
    {
     "data": {
      "text/plain": [
       "0.4608695652173913"
      ]
     },
     "execution_count": 68,
     "metadata": {},
     "output_type": "execute_result"
    },
    {
     "data": {
      "application/javascript": "\n            setTimeout(function() {\n                var nbb_cell_id = 68;\n                var nbb_unformatted_code = \"df_compare[(df_compare[\\\"actual_increase\\\"]==0) & (df_compare[\\\"predicted_increase\\\"]==0)].shape[0] / df_compare[(df_compare[\\\"actual_increase\\\"]==0)].shape[0]\";\n                var nbb_formatted_code = \"df_compare[\\n    (df_compare[\\\"actual_increase\\\"] == 0) & (df_compare[\\\"predicted_increase\\\"] == 0)\\n].shape[0] / df_compare[(df_compare[\\\"actual_increase\\\"] == 0)].shape[0]\";\n                var nbb_cells = Jupyter.notebook.get_cells();\n                for (var i = 0; i < nbb_cells.length; ++i) {\n                    if (nbb_cells[i].input_prompt_number == nbb_cell_id) {\n                        if (nbb_cells[i].get_text() == nbb_unformatted_code) {\n                             nbb_cells[i].set_text(nbb_formatted_code);\n                        }\n                        break;\n                    }\n                }\n            }, 500);\n            ",
      "text/plain": [
       "<IPython.core.display.Javascript object>"
      ]
     },
     "metadata": {},
     "output_type": "display_data"
    }
   ],
   "source": [
    "df_compare[(df_compare[\"actual_increase\"]==0) & (df_compare[\"predicted_increase\"]==0)].shape[0] / df_compare[(df_compare[\"actual_increase\"]==0)].shape[0]"
   ]
  },
  {
   "cell_type": "markdown",
   "metadata": {},
   "source": [
    "### Overall Prediction Accuracy %"
   ]
  },
  {
   "cell_type": "code",
   "execution_count": 69,
   "metadata": {},
   "outputs": [
    {
     "data": {
      "text/plain": [
       "0.49382716049382713"
      ]
     },
     "execution_count": 69,
     "metadata": {},
     "output_type": "execute_result"
    },
    {
     "data": {
      "application/javascript": "\n            setTimeout(function() {\n                var nbb_cell_id = 69;\n                var nbb_unformatted_code = \"df_compare[(df_compare[\\\"actual_increase\\\"] == df_compare[\\\"predicted_increase\\\"])].shape[0] / (df_compare.shape[0])\";\n                var nbb_formatted_code = \"df_compare[(df_compare[\\\"actual_increase\\\"] == df_compare[\\\"predicted_increase\\\"])].shape[\\n    0\\n] / (df_compare.shape[0])\";\n                var nbb_cells = Jupyter.notebook.get_cells();\n                for (var i = 0; i < nbb_cells.length; ++i) {\n                    if (nbb_cells[i].input_prompt_number == nbb_cell_id) {\n                        if (nbb_cells[i].get_text() == nbb_unformatted_code) {\n                             nbb_cells[i].set_text(nbb_formatted_code);\n                        }\n                        break;\n                    }\n                }\n            }, 500);\n            ",
      "text/plain": [
       "<IPython.core.display.Javascript object>"
      ]
     },
     "metadata": {},
     "output_type": "display_data"
    }
   ],
   "source": [
    "df_compare[(df_compare[\"actual_increase\"] == df_compare[\"predicted_increase\"])].shape[0] / (df_compare.shape[0])"
   ]
  },
  {
   "cell_type": "markdown",
   "metadata": {},
   "source": [
    "### Actual Distribution of Increase (1) vs. Decrease (0)"
   ]
  },
  {
   "cell_type": "code",
   "execution_count": 70,
   "metadata": {},
   "outputs": [
    {
     "data": {
      "text/plain": [
       "1    0.526749\n",
       "0    0.473251\n",
       "Name: actual_increase, dtype: float64"
      ]
     },
     "execution_count": 70,
     "metadata": {},
     "output_type": "execute_result"
    },
    {
     "data": {
      "application/javascript": "\n            setTimeout(function() {\n                var nbb_cell_id = 70;\n                var nbb_unformatted_code = \"df_compare[\\\"actual_increase\\\"].value_counts(normalize=True)\";\n                var nbb_formatted_code = \"df_compare[\\\"actual_increase\\\"].value_counts(normalize=True)\";\n                var nbb_cells = Jupyter.notebook.get_cells();\n                for (var i = 0; i < nbb_cells.length; ++i) {\n                    if (nbb_cells[i].input_prompt_number == nbb_cell_id) {\n                        if (nbb_cells[i].get_text() == nbb_unformatted_code) {\n                             nbb_cells[i].set_text(nbb_formatted_code);\n                        }\n                        break;\n                    }\n                }\n            }, 500);\n            ",
      "text/plain": [
       "<IPython.core.display.Javascript object>"
      ]
     },
     "metadata": {},
     "output_type": "display_data"
    }
   ],
   "source": [
    "df_compare[\"actual_increase\"].value_counts(normalize=True)"
   ]
  }
 ],
 "metadata": {
  "kernelspec": {
   "display_name": "Python 3",
   "language": "python",
   "name": "python3"
  },
  "language_info": {
   "codemirror_mode": {
    "name": "ipython",
    "version": 3
   },
   "file_extension": ".py",
   "mimetype": "text/x-python",
   "name": "python",
   "nbconvert_exporter": "python",
   "pygments_lexer": "ipython3",
   "version": "3.8.10"
  }
 },
 "nbformat": 4,
 "nbformat_minor": 4
}
