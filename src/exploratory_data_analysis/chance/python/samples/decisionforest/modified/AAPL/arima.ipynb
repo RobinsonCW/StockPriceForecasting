{
 "cells": [
  {
   "cell_type": "code",
   "execution_count": 81,
   "metadata": {},
   "outputs": [
    {
     "name": "stdout",
     "output_type": "stream",
     "text": [
      "The nb_black extension is already loaded. To reload it, use:\n",
      "  %reload_ext nb_black\n"
     ]
    },
    {
     "data": {
      "application/javascript": "\n            setTimeout(function() {\n                var nbb_cell_id = 81;\n                var nbb_unformatted_code = \"from IPython.core.debugger import set_trace\\n\\n%load_ext nb_black\\n\\n\\nimport pandas as pd\\nimport numpy as np\\nimport os\\nimport matplotlib.pyplot as plt\\nimport time\\n\\nplt.style.use(style=\\\"seaborn\\\")\\n%matplotlib inline\";\n                var nbb_formatted_code = \"from IPython.core.debugger import set_trace\\n\\n%load_ext nb_black\\n\\n\\nimport pandas as pd\\nimport numpy as np\\nimport os\\nimport matplotlib.pyplot as plt\\nimport time\\n\\nplt.style.use(style=\\\"seaborn\\\")\\n%matplotlib inline\";\n                var nbb_cells = Jupyter.notebook.get_cells();\n                for (var i = 0; i < nbb_cells.length; ++i) {\n                    if (nbb_cells[i].input_prompt_number == nbb_cell_id) {\n                        if (nbb_cells[i].get_text() == nbb_unformatted_code) {\n                             nbb_cells[i].set_text(nbb_formatted_code);\n                        }\n                        break;\n                    }\n                }\n            }, 500);\n            ",
      "text/plain": [
       "<IPython.core.display.Javascript object>"
      ]
     },
     "metadata": {},
     "output_type": "display_data"
    }
   ],
   "source": [
    "from IPython.core.debugger import set_trace\n",
    "\n",
    "%load_ext nb_black\n",
    "\n",
    "\n",
    "import pandas as pd\n",
    "import numpy as np\n",
    "import os\n",
    "import matplotlib.pyplot as plt\n",
    "import time\n",
    "\n",
    "plt.style.use(style=\"seaborn\")\n",
    "%matplotlib inline"
   ]
  },
  {
   "cell_type": "code",
   "execution_count": 82,
   "metadata": {},
   "outputs": [
    {
     "data": {
      "application/javascript": "\n            setTimeout(function() {\n                var nbb_cell_id = 82;\n                var nbb_unformatted_code = \"csv_path = \\\"/app/StockPricePredictions/data/alphavantage/time_series_daily_adjusted/AAPL/AAPL_WITH_TWINT_FINBERT_SA.csv\\\"\";\n                var nbb_formatted_code = \"csv_path = \\\"/app/StockPricePredictions/data/alphavantage/time_series_daily_adjusted/AAPL/AAPL_WITH_TWINT_FINBERT_SA.csv\\\"\";\n                var nbb_cells = Jupyter.notebook.get_cells();\n                for (var i = 0; i < nbb_cells.length; ++i) {\n                    if (nbb_cells[i].input_prompt_number == nbb_cell_id) {\n                        if (nbb_cells[i].get_text() == nbb_unformatted_code) {\n                             nbb_cells[i].set_text(nbb_formatted_code);\n                        }\n                        break;\n                    }\n                }\n            }, 500);\n            ",
      "text/plain": [
       "<IPython.core.display.Javascript object>"
      ]
     },
     "metadata": {},
     "output_type": "display_data"
    }
   ],
   "source": [
    "csv_path = \"/app/StockPricePredictions/data/alphavantage/time_series_daily_adjusted/AAPL/AAPL_WITH_TWINT_FINBERT_SA.csv\""
   ]
  },
  {
   "cell_type": "code",
   "execution_count": 83,
   "metadata": {},
   "outputs": [
    {
     "data": {
      "application/javascript": "\n            setTimeout(function() {\n                var nbb_cell_id = 83;\n                var nbb_unformatted_code = \"df = pd.read_csv(csv_path)\\ndf.sort_values(by=[\\\"date\\\"], ascending=True, inplace=True)\\ndf.reset_index(drop=True, inplace=True)\\n\\ndate_time = pd.to_datetime(df.pop('date'))\\n\\ndf = df[[\\\"5. adjusted close\\\"]].copy()\";\n                var nbb_formatted_code = \"df = pd.read_csv(csv_path)\\ndf.sort_values(by=[\\\"date\\\"], ascending=True, inplace=True)\\ndf.reset_index(drop=True, inplace=True)\\n\\ndate_time = pd.to_datetime(df.pop(\\\"date\\\"))\\n\\ndf = df[[\\\"5. adjusted close\\\"]].copy()\";\n                var nbb_cells = Jupyter.notebook.get_cells();\n                for (var i = 0; i < nbb_cells.length; ++i) {\n                    if (nbb_cells[i].input_prompt_number == nbb_cell_id) {\n                        if (nbb_cells[i].get_text() == nbb_unformatted_code) {\n                             nbb_cells[i].set_text(nbb_formatted_code);\n                        }\n                        break;\n                    }\n                }\n            }, 500);\n            ",
      "text/plain": [
       "<IPython.core.display.Javascript object>"
      ]
     },
     "metadata": {},
     "output_type": "display_data"
    }
   ],
   "source": [
    "df = pd.read_csv(csv_path)\n",
    "df.sort_values(by=[\"date\"], ascending=True, inplace=True)\n",
    "df.reset_index(drop=True, inplace=True)\n",
    "\n",
    "date_time = pd.to_datetime(df.pop('date'))\n",
    "\n",
    "df = df[[\"5. adjusted close\"]].copy()"
   ]
  },
  {
   "cell_type": "code",
   "execution_count": 84,
   "metadata": {},
   "outputs": [
    {
     "name": "stdout",
     "output_type": "stream",
     "text": [
      "2757\n",
      "307\n"
     ]
    },
    {
     "data": {
      "application/javascript": "\n            setTimeout(function() {\n                var nbb_cell_id = 84;\n                var nbb_unformatted_code = \"split_time = int(len(df) * .9)\\n\\ntrain_df = df[:split_time]\\ntest_df = df[split_time:]\\n\\nprint(len(train_df))\\nprint(len(test_df))\\n\\ndf = test_df[[\\\"5. adjusted close\\\"]].copy()\";\n                var nbb_formatted_code = \"split_time = int(len(df) * 0.9)\\n\\ntrain_df = df[:split_time]\\ntest_df = df[split_time:]\\n\\nprint(len(train_df))\\nprint(len(test_df))\\n\\ndf = test_df[[\\\"5. adjusted close\\\"]].copy()\";\n                var nbb_cells = Jupyter.notebook.get_cells();\n                for (var i = 0; i < nbb_cells.length; ++i) {\n                    if (nbb_cells[i].input_prompt_number == nbb_cell_id) {\n                        if (nbb_cells[i].get_text() == nbb_unformatted_code) {\n                             nbb_cells[i].set_text(nbb_formatted_code);\n                        }\n                        break;\n                    }\n                }\n            }, 500);\n            ",
      "text/plain": [
       "<IPython.core.display.Javascript object>"
      ]
     },
     "metadata": {},
     "output_type": "display_data"
    }
   ],
   "source": [
    "split_time = int(len(df) * .9)\n",
    "\n",
    "train_df = df[:split_time]\n",
    "test_df = df[split_time:]\n",
    "\n",
    "print(len(train_df))\n",
    "print(len(test_df))\n",
    "\n",
    "df = test_df[[\"5. adjusted close\"]].copy()"
   ]
  },
  {
   "cell_type": "code",
   "execution_count": 85,
   "metadata": {},
   "outputs": [
    {
     "data": {
      "text/html": [
       "<div>\n",
       "<style scoped>\n",
       "    .dataframe tbody tr th:only-of-type {\n",
       "        vertical-align: middle;\n",
       "    }\n",
       "\n",
       "    .dataframe tbody tr th {\n",
       "        vertical-align: top;\n",
       "    }\n",
       "\n",
       "    .dataframe thead th {\n",
       "        text-align: right;\n",
       "    }\n",
       "</style>\n",
       "<table border=\"1\" class=\"dataframe\">\n",
       "  <thead>\n",
       "    <tr style=\"text-align: right;\">\n",
       "      <th></th>\n",
       "      <th>5. adjusted close</th>\n",
       "    </tr>\n",
       "  </thead>\n",
       "  <tbody>\n",
       "    <tr>\n",
       "      <th>count</th>\n",
       "      <td>307.000000</td>\n",
       "    </tr>\n",
       "    <tr>\n",
       "      <th>mean</th>\n",
       "      <td>144.064500</td>\n",
       "    </tr>\n",
       "    <tr>\n",
       "      <th>std</th>\n",
       "      <td>17.110906</td>\n",
       "    </tr>\n",
       "    <tr>\n",
       "      <th>min</th>\n",
       "      <td>115.673069</td>\n",
       "    </tr>\n",
       "    <tr>\n",
       "      <th>25%</th>\n",
       "      <td>129.784479</td>\n",
       "    </tr>\n",
       "    <tr>\n",
       "      <th>50%</th>\n",
       "      <td>142.899557</td>\n",
       "    </tr>\n",
       "    <tr>\n",
       "      <th>75%</th>\n",
       "      <td>153.472276</td>\n",
       "    </tr>\n",
       "    <tr>\n",
       "      <th>max</th>\n",
       "      <td>181.778019</td>\n",
       "    </tr>\n",
       "  </tbody>\n",
       "</table>\n",
       "</div>"
      ],
      "text/plain": [
       "       5. adjusted close\n",
       "count         307.000000\n",
       "mean          144.064500\n",
       "std            17.110906\n",
       "min           115.673069\n",
       "25%           129.784479\n",
       "50%           142.899557\n",
       "75%           153.472276\n",
       "max           181.778019"
      ]
     },
     "execution_count": 85,
     "metadata": {},
     "output_type": "execute_result"
    },
    {
     "data": {
      "application/javascript": "\n            setTimeout(function() {\n                var nbb_cell_id = 85;\n                var nbb_unformatted_code = \"df.describe()\";\n                var nbb_formatted_code = \"df.describe()\";\n                var nbb_cells = Jupyter.notebook.get_cells();\n                for (var i = 0; i < nbb_cells.length; ++i) {\n                    if (nbb_cells[i].input_prompt_number == nbb_cell_id) {\n                        if (nbb_cells[i].get_text() == nbb_unformatted_code) {\n                             nbb_cells[i].set_text(nbb_formatted_code);\n                        }\n                        break;\n                    }\n                }\n            }, 500);\n            ",
      "text/plain": [
       "<IPython.core.display.Javascript object>"
      ]
     },
     "metadata": {},
     "output_type": "display_data"
    }
   ],
   "source": [
    "df.describe()"
   ]
  },
  {
   "cell_type": "code",
   "execution_count": 86,
   "metadata": {},
   "outputs": [
    {
     "data": {
      "text/html": [
       "<div>\n",
       "<style scoped>\n",
       "    .dataframe tbody tr th:only-of-type {\n",
       "        vertical-align: middle;\n",
       "    }\n",
       "\n",
       "    .dataframe tbody tr th {\n",
       "        vertical-align: top;\n",
       "    }\n",
       "\n",
       "    .dataframe thead th {\n",
       "        text-align: right;\n",
       "    }\n",
       "</style>\n",
       "<table border=\"1\" class=\"dataframe\">\n",
       "  <thead>\n",
       "    <tr style=\"text-align: right;\">\n",
       "      <th></th>\n",
       "      <th>5. adjusted close</th>\n",
       "    </tr>\n",
       "  </thead>\n",
       "  <tbody>\n",
       "    <tr>\n",
       "      <th>2757</th>\n",
       "      <td>126.934789</td>\n",
       "    </tr>\n",
       "    <tr>\n",
       "      <th>2758</th>\n",
       "      <td>126.865306</td>\n",
       "    </tr>\n",
       "    <tr>\n",
       "      <th>2759</th>\n",
       "      <td>127.748728</td>\n",
       "    </tr>\n",
       "    <tr>\n",
       "      <th>2760</th>\n",
       "      <td>125.718843</td>\n",
       "    </tr>\n",
       "    <tr>\n",
       "      <th>2761</th>\n",
       "      <td>127.282202</td>\n",
       "    </tr>\n",
       "  </tbody>\n",
       "</table>\n",
       "</div>"
      ],
      "text/plain": [
       "      5. adjusted close\n",
       "2757         126.934789\n",
       "2758         126.865306\n",
       "2759         127.748728\n",
       "2760         125.718843\n",
       "2761         127.282202"
      ]
     },
     "execution_count": 86,
     "metadata": {},
     "output_type": "execute_result"
    },
    {
     "data": {
      "application/javascript": "\n            setTimeout(function() {\n                var nbb_cell_id = 86;\n                var nbb_unformatted_code = \"df.head()\";\n                var nbb_formatted_code = \"df.head()\";\n                var nbb_cells = Jupyter.notebook.get_cells();\n                for (var i = 0; i < nbb_cells.length; ++i) {\n                    if (nbb_cells[i].input_prompt_number == nbb_cell_id) {\n                        if (nbb_cells[i].get_text() == nbb_unformatted_code) {\n                             nbb_cells[i].set_text(nbb_formatted_code);\n                        }\n                        break;\n                    }\n                }\n            }, 500);\n            ",
      "text/plain": [
       "<IPython.core.display.Javascript object>"
      ]
     },
     "metadata": {},
     "output_type": "display_data"
    }
   ],
   "source": [
    "df.head()"
   ]
  },
  {
   "cell_type": "markdown",
   "metadata": {},
   "source": [
    "### Check if the time series is stationary"
   ]
  },
  {
   "cell_type": "code",
   "execution_count": 87,
   "metadata": {},
   "outputs": [
    {
     "name": "stdout",
     "output_type": "stream",
     "text": [
      "ADF Statistic: -1.1478551879928298\n",
      "p-value: 0.6956156636511684\n"
     ]
    },
    {
     "data": {
      "application/javascript": "\n            setTimeout(function() {\n                var nbb_cell_id = 87;\n                var nbb_unformatted_code = \"from statsmodels.tsa.stattools import adfuller\\n\\nresult = adfuller(df[\\\"5. adjusted close\\\"])\\nprint(f\\\"ADF Statistic: {result[0]}\\\")\\nprint(f\\\"p-value: {result[1]}\\\")\";\n                var nbb_formatted_code = \"from statsmodels.tsa.stattools import adfuller\\n\\nresult = adfuller(df[\\\"5. adjusted close\\\"])\\nprint(f\\\"ADF Statistic: {result[0]}\\\")\\nprint(f\\\"p-value: {result[1]}\\\")\";\n                var nbb_cells = Jupyter.notebook.get_cells();\n                for (var i = 0; i < nbb_cells.length; ++i) {\n                    if (nbb_cells[i].input_prompt_number == nbb_cell_id) {\n                        if (nbb_cells[i].get_text() == nbb_unformatted_code) {\n                             nbb_cells[i].set_text(nbb_formatted_code);\n                        }\n                        break;\n                    }\n                }\n            }, 500);\n            ",
      "text/plain": [
       "<IPython.core.display.Javascript object>"
      ]
     },
     "metadata": {},
     "output_type": "display_data"
    }
   ],
   "source": [
    "from statsmodels.tsa.stattools import adfuller\n",
    "\n",
    "result = adfuller(df[\"5. adjusted close\"])\n",
    "print(f\"ADF Statistic: {result[0]}\")\n",
    "print(f\"p-value: {result[1]}\")"
   ]
  },
  {
   "cell_type": "markdown",
   "metadata": {},
   "source": [
    "#### Autocorrelation Function (ACF)"
   ]
  },
  {
   "cell_type": "code",
   "execution_count": 88,
   "metadata": {},
   "outputs": [
    {
     "data": {
      "application/javascript": "\n            setTimeout(function() {\n                var nbb_cell_id = 88;\n                var nbb_unformatted_code = \"from statsmodels.graphics.tsaplots import plot_acf\";\n                var nbb_formatted_code = \"from statsmodels.graphics.tsaplots import plot_acf\";\n                var nbb_cells = Jupyter.notebook.get_cells();\n                for (var i = 0; i < nbb_cells.length; ++i) {\n                    if (nbb_cells[i].input_prompt_number == nbb_cell_id) {\n                        if (nbb_cells[i].get_text() == nbb_unformatted_code) {\n                             nbb_cells[i].set_text(nbb_formatted_code);\n                        }\n                        break;\n                    }\n                }\n            }, 500);\n            ",
      "text/plain": [
       "<IPython.core.display.Javascript object>"
      ]
     },
     "metadata": {},
     "output_type": "display_data"
    }
   ],
   "source": [
    "from statsmodels.graphics.tsaplots import plot_acf"
   ]
  },
  {
   "cell_type": "code",
   "execution_count": 89,
   "metadata": {},
   "outputs": [
    {
     "data": {
      "image/png": "[encoded data removed]",
      "text/plain": [
       "<Figure size 1152x288 with 2 Axes>"
      ]
     },
     "metadata": {
      "needs_background": "light"
     },
     "output_type": "display_data"
    },
    {
     "data": {
      "application/javascript": "\n            setTimeout(function() {\n                var nbb_cell_id = 89;\n                var nbb_unformatted_code = \"fig, (ax1, ax2) = plt.subplots(1, 2, figsize=(16,4))\\n\\nax1.plot(df[\\\"5. adjusted close\\\"])\\nax1.set_title(\\\"Original\\\")\\nplot_acf(df[\\\"5. adjusted close\\\"], ax=ax2);\";\n                var nbb_formatted_code = \"fig, (ax1, ax2) = plt.subplots(1, 2, figsize=(16, 4))\\n\\nax1.plot(df[\\\"5. adjusted close\\\"])\\nax1.set_title(\\\"Original\\\")\\nplot_acf(df[\\\"5. adjusted close\\\"], ax=ax2)\";\n                var nbb_cells = Jupyter.notebook.get_cells();\n                for (var i = 0; i < nbb_cells.length; ++i) {\n                    if (nbb_cells[i].input_prompt_number == nbb_cell_id) {\n                        if (nbb_cells[i].get_text() == nbb_unformatted_code) {\n                             nbb_cells[i].set_text(nbb_formatted_code);\n                        }\n                        break;\n                    }\n                }\n            }, 500);\n            ",
      "text/plain": [
       "<IPython.core.display.Javascript object>"
      ]
     },
     "metadata": {},
     "output_type": "display_data"
    }
   ],
   "source": [
    "fig, (ax1, ax2) = plt.subplots(1, 2, figsize=(16,4))\n",
    "\n",
    "ax1.plot(df[\"5. adjusted close\"])\n",
    "ax1.set_title(\"Original\")\n",
    "plot_acf(df[\"5. adjusted close\"], ax=ax2);"
   ]
  },
  {
   "cell_type": "code",
   "execution_count": 90,
   "metadata": {},
   "outputs": [
    {
     "data": {
      "image/png": "[encoded data removed]",
      "text/plain": [
       "<Figure size 1152x288 with 2 Axes>"
      ]
     },
     "metadata": {
      "needs_background": "light"
     },
     "output_type": "display_data"
    },
    {
     "data": {
      "application/javascript": "\n            setTimeout(function() {\n                var nbb_cell_id = 90;\n                var nbb_unformatted_code = \"diff = df[\\\"5. adjusted close\\\"].diff().dropna()\\n\\nfig, (ax1, ax2) = plt.subplots(1, 2, figsize=(16,4))\\n\\nax1.plot(diff)\\nax1.set_title(\\\"Differenced Once\\\")\\nplot_acf(diff, ax=ax2);\";\n                var nbb_formatted_code = \"diff = df[\\\"5. adjusted close\\\"].diff().dropna()\\n\\nfig, (ax1, ax2) = plt.subplots(1, 2, figsize=(16, 4))\\n\\nax1.plot(diff)\\nax1.set_title(\\\"Differenced Once\\\")\\nplot_acf(diff, ax=ax2)\";\n                var nbb_cells = Jupyter.notebook.get_cells();\n                for (var i = 0; i < nbb_cells.length; ++i) {\n                    if (nbb_cells[i].input_prompt_number == nbb_cell_id) {\n                        if (nbb_cells[i].get_text() == nbb_unformatted_code) {\n                             nbb_cells[i].set_text(nbb_formatted_code);\n                        }\n                        break;\n                    }\n                }\n            }, 500);\n            ",
      "text/plain": [
       "<IPython.core.display.Javascript object>"
      ]
     },
     "metadata": {},
     "output_type": "display_data"
    }
   ],
   "source": [
    "diff = df[\"5. adjusted close\"].diff().dropna()\n",
    "\n",
    "fig, (ax1, ax2) = plt.subplots(1, 2, figsize=(16,4))\n",
    "\n",
    "ax1.plot(diff)\n",
    "ax1.set_title(\"Differenced Once\")\n",
    "plot_acf(diff, ax=ax2);"
   ]
  },
  {
   "cell_type": "code",
   "execution_count": 91,
   "metadata": {},
   "outputs": [
    {
     "data": {
      "application/javascript": "\n            setTimeout(function() {\n                var nbb_cell_id = 91;\n                var nbb_unformatted_code = \"# pip install pmdarima\\nfrom pmdarima.arima.utils import ndiffs\";\n                var nbb_formatted_code = \"# pip install pmdarima\\nfrom pmdarima.arima.utils import ndiffs\";\n                var nbb_cells = Jupyter.notebook.get_cells();\n                for (var i = 0; i < nbb_cells.length; ++i) {\n                    if (nbb_cells[i].input_prompt_number == nbb_cell_id) {\n                        if (nbb_cells[i].get_text() == nbb_unformatted_code) {\n                             nbb_cells[i].set_text(nbb_formatted_code);\n                        }\n                        break;\n                    }\n                }\n            }, 500);\n            ",
      "text/plain": [
       "<IPython.core.display.Javascript object>"
      ]
     },
     "metadata": {},
     "output_type": "display_data"
    }
   ],
   "source": [
    "# pip install pmdarima\n",
    "from pmdarima.arima.utils import ndiffs"
   ]
  },
  {
   "cell_type": "code",
   "execution_count": 92,
   "metadata": {},
   "outputs": [
    {
     "data": {
      "text/plain": [
       "1"
      ]
     },
     "execution_count": 92,
     "metadata": {},
     "output_type": "execute_result"
    },
    {
     "data": {
      "application/javascript": "\n            setTimeout(function() {\n                var nbb_cell_id = 92;\n                var nbb_unformatted_code = \"ndiffs(df[\\\"5. adjusted close\\\"])\";\n                var nbb_formatted_code = \"ndiffs(df[\\\"5. adjusted close\\\"])\";\n                var nbb_cells = Jupyter.notebook.get_cells();\n                for (var i = 0; i < nbb_cells.length; ++i) {\n                    if (nbb_cells[i].input_prompt_number == nbb_cell_id) {\n                        if (nbb_cells[i].get_text() == nbb_unformatted_code) {\n                             nbb_cells[i].set_text(nbb_formatted_code);\n                        }\n                        break;\n                    }\n                }\n            }, 500);\n            ",
      "text/plain": [
       "<IPython.core.display.Javascript object>"
      ]
     },
     "metadata": {},
     "output_type": "display_data"
    }
   ],
   "source": [
    "ndiffs(df[\"5. adjusted close\"])"
   ]
  },
  {
   "cell_type": "markdown",
   "metadata": {},
   "source": [
    "__p__\n",
    "\n",
    "p is the order of the Auto Regressive (AR) term.  It refers to the number of lags to be used as predictors.\n",
    "\n",
    "We can find out the required number of AR terms by inspecting the Partial Autocorrelation (PACF) plot.\n",
    "\n",
    "The partial autocorrelation represents the correlation between the series and its lags."
   ]
  },
  {
   "cell_type": "code",
   "execution_count": 93,
   "metadata": {},
   "outputs": [
    {
     "data": {
      "application/javascript": "\n            setTimeout(function() {\n                var nbb_cell_id = 93;\n                var nbb_unformatted_code = \"from statsmodels.graphics.tsaplots import plot_pacf\";\n                var nbb_formatted_code = \"from statsmodels.graphics.tsaplots import plot_pacf\";\n                var nbb_cells = Jupyter.notebook.get_cells();\n                for (var i = 0; i < nbb_cells.length; ++i) {\n                    if (nbb_cells[i].input_prompt_number == nbb_cell_id) {\n                        if (nbb_cells[i].get_text() == nbb_unformatted_code) {\n                             nbb_cells[i].set_text(nbb_formatted_code);\n                        }\n                        break;\n                    }\n                }\n            }, 500);\n            ",
      "text/plain": [
       "<IPython.core.display.Javascript object>"
      ]
     },
     "metadata": {},
     "output_type": "display_data"
    }
   ],
   "source": [
    "from statsmodels.graphics.tsaplots import plot_pacf"
   ]
  },
  {
   "cell_type": "code",
   "execution_count": 94,
   "metadata": {},
   "outputs": [
    {
     "name": "stderr",
     "output_type": "stream",
     "text": [
      "/usr/local/lib/python3.8/dist-packages/statsmodels/graphics/tsaplots.py:348: FutureWarning: The default method 'yw' can produce PACF values outside of the [-1,1] interval. After 0.13, the default will change tounadjusted Yule-Walker ('ywm'). You can use this method now by setting method='ywm'.\n",
      "  warnings.warn(\n"
     ]
    },
    {
     "data": {
      "image/png": "[encoded data removed]",
      "text/plain": [
       "<Figure size 1152x288 with 2 Axes>"
      ]
     },
     "metadata": {
      "needs_background": "light"
     },
     "output_type": "display_data"
    },
    {
     "data": {
      "application/javascript": "\n            setTimeout(function() {\n                var nbb_cell_id = 94;\n                var nbb_unformatted_code = \"diff = df[\\\"5. adjusted close\\\"].diff().dropna()\\n\\nfig, (ax1, ax2) = plt.subplots(1, 2, figsize=(16,4))\\n\\nax1.plot(diff)\\nax1.set_title(\\\"Differenced Once\\\")\\nplot_pacf(diff, ax=ax2);\";\n                var nbb_formatted_code = \"diff = df[\\\"5. adjusted close\\\"].diff().dropna()\\n\\nfig, (ax1, ax2) = plt.subplots(1, 2, figsize=(16, 4))\\n\\nax1.plot(diff)\\nax1.set_title(\\\"Differenced Once\\\")\\nplot_pacf(diff, ax=ax2)\";\n                var nbb_cells = Jupyter.notebook.get_cells();\n                for (var i = 0; i < nbb_cells.length; ++i) {\n                    if (nbb_cells[i].input_prompt_number == nbb_cell_id) {\n                        if (nbb_cells[i].get_text() == nbb_unformatted_code) {\n                             nbb_cells[i].set_text(nbb_formatted_code);\n                        }\n                        break;\n                    }\n                }\n            }, 500);\n            ",
      "text/plain": [
       "<IPython.core.display.Javascript object>"
      ]
     },
     "metadata": {},
     "output_type": "display_data"
    }
   ],
   "source": [
    "diff = df[\"5. adjusted close\"].diff().dropna()\n",
    "\n",
    "fig, (ax1, ax2) = plt.subplots(1, 2, figsize=(16,4))\n",
    "\n",
    "ax1.plot(diff)\n",
    "ax1.set_title(\"Differenced Once\")\n",
    "plot_pacf(diff, ax=ax2);"
   ]
  },
  {
   "cell_type": "markdown",
   "metadata": {},
   "source": [
    "__q__\n",
    "\n",
    "q is the order of the Moving Average (MA) term.  It refers to the number of lagged forecast errors that should go into the ARIMA Model.\n",
    "\n",
    "We can look at the ACF plot for the number of MA terms.\n",
    "\n"
   ]
  },
  {
   "cell_type": "code",
   "execution_count": 95,
   "metadata": {},
   "outputs": [
    {
     "data": {
      "image/png": "[encoded data removed]",
      "text/plain": [
       "<Figure size 1152x288 with 2 Axes>"
      ]
     },
     "metadata": {
      "needs_background": "light"
     },
     "output_type": "display_data"
    },
    {
     "data": {
      "application/javascript": "\n            setTimeout(function() {\n                var nbb_cell_id = 95;\n                var nbb_unformatted_code = \"diff = df[\\\"5. adjusted close\\\"].diff().dropna()\\n\\nfig, (ax1, ax2) = plt.subplots(1, 2, figsize=(16,4))\\n\\nax1.plot(diff)\\nax1.set_title(\\\"Differenced Once\\\")\\nplot_acf(diff, ax=ax2);\";\n                var nbb_formatted_code = \"diff = df[\\\"5. adjusted close\\\"].diff().dropna()\\n\\nfig, (ax1, ax2) = plt.subplots(1, 2, figsize=(16, 4))\\n\\nax1.plot(diff)\\nax1.set_title(\\\"Differenced Once\\\")\\nplot_acf(diff, ax=ax2)\";\n                var nbb_cells = Jupyter.notebook.get_cells();\n                for (var i = 0; i < nbb_cells.length; ++i) {\n                    if (nbb_cells[i].input_prompt_number == nbb_cell_id) {\n                        if (nbb_cells[i].get_text() == nbb_unformatted_code) {\n                             nbb_cells[i].set_text(nbb_formatted_code);\n                        }\n                        break;\n                    }\n                }\n            }, 500);\n            ",
      "text/plain": [
       "<IPython.core.display.Javascript object>"
      ]
     },
     "metadata": {},
     "output_type": "display_data"
    }
   ],
   "source": [
    "diff = df[\"5. adjusted close\"].diff().dropna()\n",
    "\n",
    "fig, (ax1, ax2) = plt.subplots(1, 2, figsize=(16,4))\n",
    "\n",
    "ax1.plot(diff)\n",
    "ax1.set_title(\"Differenced Once\")\n",
    "plot_acf(diff, ax=ax2);"
   ]
  },
  {
   "cell_type": "markdown",
   "metadata": {},
   "source": [
    "#### Fitting the ARIMA Model"
   ]
  },
  {
   "cell_type": "code",
   "execution_count": 96,
   "metadata": {},
   "outputs": [
    {
     "name": "stderr",
     "output_type": "stream",
     "text": [
      "/usr/local/lib/python3.8/dist-packages/statsmodels/tsa/statespace/sarimax.py:966: UserWarning: Non-stationary starting autoregressive parameters found. Using zeros as starting parameters.\n",
      "  warn('Non-stationary starting autoregressive parameters'\n",
      "/usr/local/lib/python3.8/dist-packages/statsmodels/tsa/statespace/sarimax.py:978: UserWarning: Non-invertible starting MA parameters found. Using zeros as starting parameters.\n",
      "  warn('Non-invertible starting MA parameters found.'\n",
      "/usr/local/lib/python3.8/dist-packages/statsmodels/base/model.py:604: ConvergenceWarning: Maximum Likelihood optimization failed to converge. Check mle_retvals\n",
      "  warnings.warn(\"Maximum Likelihood optimization failed to \"\n"
     ]
    },
    {
     "data": {
      "application/javascript": "\n            setTimeout(function() {\n                var nbb_cell_id = 96;\n                var nbb_unformatted_code = \"from statsmodels.tsa.arima.model import ARIMA\\n# from statsmodels.tsa.arima_model import ARIMA\\n\\nmodel = ARIMA(df[\\\"5. adjusted close\\\"], order=(17,1,20))\\nresult = model.fit()\";\n                var nbb_formatted_code = \"from statsmodels.tsa.arima.model import ARIMA\\n\\n# from statsmodels.tsa.arima_model import ARIMA\\n\\nmodel = ARIMA(df[\\\"5. adjusted close\\\"], order=(17, 1, 20))\\nresult = model.fit()\";\n                var nbb_cells = Jupyter.notebook.get_cells();\n                for (var i = 0; i < nbb_cells.length; ++i) {\n                    if (nbb_cells[i].input_prompt_number == nbb_cell_id) {\n                        if (nbb_cells[i].get_text() == nbb_unformatted_code) {\n                             nbb_cells[i].set_text(nbb_formatted_code);\n                        }\n                        break;\n                    }\n                }\n            }, 500);\n            ",
      "text/plain": [
       "<IPython.core.display.Javascript object>"
      ]
     },
     "metadata": {},
     "output_type": "display_data"
    }
   ],
   "source": [
    "from statsmodels.tsa.arima.model import ARIMA\n",
    "# from statsmodels.tsa.arima_model import ARIMA\n",
    "\n",
    "model = ARIMA(df[\"5. adjusted close\"], order=(17,1,20))\n",
    "result = model.fit()\n"
   ]
  },
  {
   "cell_type": "code",
   "execution_count": 97,
   "metadata": {},
   "outputs": [
    {
     "data": {
      "text/html": [
       "<table class=\"simpletable\">\n",
       "<caption>SARIMAX Results</caption>\n",
       "<tr>\n",
       "  <th>Dep. Variable:</th>   <td>5. adjusted close</td> <th>  No. Observations:  </th>    <td>307</td>  \n",
       "</tr>\n",
       "<tr>\n",
       "  <th>Model:</th>           <td>ARIMA(17, 1, 20)</td>  <th>  Log Likelihood     </th> <td>-672.411</td>\n",
       "</tr>\n",
       "<tr>\n",
       "  <th>Date:</th>            <td>Sat, 09 Jul 2022</td>  <th>  AIC                </th> <td>1420.822</td>\n",
       "</tr>\n",
       "<tr>\n",
       "  <th>Time:</th>                <td>04:54:57</td>      <th>  BIC                </th> <td>1562.318</td>\n",
       "</tr>\n",
       "<tr>\n",
       "  <th>Sample:</th>                  <td>0</td>         <th>  HQIC               </th> <td>1477.411</td>\n",
       "</tr>\n",
       "<tr>\n",
       "  <th></th>                      <td> - 307</td>       <th>                     </th>     <td> </td>   \n",
       "</tr>\n",
       "<tr>\n",
       "  <th>Covariance Type:</th>        <td>opg</td>        <th>                     </th>     <td> </td>   \n",
       "</tr>\n",
       "</table>\n",
       "<table class=\"simpletable\">\n",
       "<tr>\n",
       "     <td></td>       <th>coef</th>     <th>std err</th>      <th>z</th>      <th>P>|z|</th>  <th>[0.025</th>    <th>0.975]</th>  \n",
       "</tr>\n",
       "<tr>\n",
       "  <th>ar.L1</th>  <td>    0.3042</td> <td>    0.293</td> <td>    1.040</td> <td> 0.299</td> <td>   -0.269</td> <td>    0.878</td>\n",
       "</tr>\n",
       "<tr>\n",
       "  <th>ar.L2</th>  <td>   -0.1631</td> <td>    0.236</td> <td>   -0.692</td> <td> 0.489</td> <td>   -0.625</td> <td>    0.299</td>\n",
       "</tr>\n",
       "<tr>\n",
       "  <th>ar.L3</th>  <td>    0.0590</td> <td>    0.272</td> <td>    0.217</td> <td> 0.828</td> <td>   -0.474</td> <td>    0.591</td>\n",
       "</tr>\n",
       "<tr>\n",
       "  <th>ar.L4</th>  <td>   -0.3125</td> <td>    0.210</td> <td>   -1.486</td> <td> 0.137</td> <td>   -0.724</td> <td>    0.100</td>\n",
       "</tr>\n",
       "<tr>\n",
       "  <th>ar.L5</th>  <td>    0.1245</td> <td>    0.215</td> <td>    0.579</td> <td> 0.562</td> <td>   -0.297</td> <td>    0.546</td>\n",
       "</tr>\n",
       "<tr>\n",
       "  <th>ar.L6</th>  <td>   -0.0159</td> <td>    0.180</td> <td>   -0.089</td> <td> 0.929</td> <td>   -0.368</td> <td>    0.336</td>\n",
       "</tr>\n",
       "<tr>\n",
       "  <th>ar.L7</th>  <td>    0.2254</td> <td>    0.168</td> <td>    1.340</td> <td> 0.180</td> <td>   -0.104</td> <td>    0.555</td>\n",
       "</tr>\n",
       "<tr>\n",
       "  <th>ar.L8</th>  <td>    0.1403</td> <td>    0.133</td> <td>    1.054</td> <td> 0.292</td> <td>   -0.121</td> <td>    0.401</td>\n",
       "</tr>\n",
       "<tr>\n",
       "  <th>ar.L9</th>  <td>    0.0474</td> <td>    0.130</td> <td>    0.365</td> <td> 0.715</td> <td>   -0.207</td> <td>    0.302</td>\n",
       "</tr>\n",
       "<tr>\n",
       "  <th>ar.L10</th> <td>    0.2841</td> <td>    0.129</td> <td>    2.204</td> <td> 0.028</td> <td>    0.031</td> <td>    0.537</td>\n",
       "</tr>\n",
       "<tr>\n",
       "  <th>ar.L11</th> <td>    0.1846</td> <td>    0.175</td> <td>    1.056</td> <td> 0.291</td> <td>   -0.158</td> <td>    0.527</td>\n",
       "</tr>\n",
       "<tr>\n",
       "  <th>ar.L12</th> <td>    0.2752</td> <td>    0.177</td> <td>    1.557</td> <td> 0.120</td> <td>   -0.071</td> <td>    0.622</td>\n",
       "</tr>\n",
       "<tr>\n",
       "  <th>ar.L13</th> <td>   -0.4925</td> <td>    0.220</td> <td>   -2.239</td> <td> 0.025</td> <td>   -0.924</td> <td>   -0.061</td>\n",
       "</tr>\n",
       "<tr>\n",
       "  <th>ar.L14</th> <td>    0.3125</td> <td>    0.196</td> <td>    1.591</td> <td> 0.112</td> <td>   -0.073</td> <td>    0.698</td>\n",
       "</tr>\n",
       "<tr>\n",
       "  <th>ar.L15</th> <td>   -0.1106</td> <td>    0.263</td> <td>   -0.421</td> <td> 0.674</td> <td>   -0.626</td> <td>    0.405</td>\n",
       "</tr>\n",
       "<tr>\n",
       "  <th>ar.L16</th> <td>    0.2757</td> <td>    0.222</td> <td>    1.240</td> <td> 0.215</td> <td>   -0.160</td> <td>    0.711</td>\n",
       "</tr>\n",
       "<tr>\n",
       "  <th>ar.L17</th> <td>   -0.4854</td> <td>    0.228</td> <td>   -2.125</td> <td> 0.034</td> <td>   -0.933</td> <td>   -0.038</td>\n",
       "</tr>\n",
       "<tr>\n",
       "  <th>ma.L1</th>  <td>   -0.2506</td> <td>    0.298</td> <td>   -0.840</td> <td> 0.401</td> <td>   -0.835</td> <td>    0.334</td>\n",
       "</tr>\n",
       "<tr>\n",
       "  <th>ma.L2</th>  <td>    0.1531</td> <td>    0.236</td> <td>    0.647</td> <td> 0.517</td> <td>   -0.310</td> <td>    0.617</td>\n",
       "</tr>\n",
       "<tr>\n",
       "  <th>ma.L3</th>  <td>   -0.0983</td> <td>    0.280</td> <td>   -0.351</td> <td> 0.726</td> <td>   -0.648</td> <td>    0.451</td>\n",
       "</tr>\n",
       "<tr>\n",
       "  <th>ma.L4</th>  <td>    0.2910</td> <td>    0.219</td> <td>    1.327</td> <td> 0.184</td> <td>   -0.139</td> <td>    0.721</td>\n",
       "</tr>\n",
       "<tr>\n",
       "  <th>ma.L5</th>  <td>   -0.1427</td> <td>    0.224</td> <td>   -0.637</td> <td> 0.524</td> <td>   -0.582</td> <td>    0.296</td>\n",
       "</tr>\n",
       "<tr>\n",
       "  <th>ma.L6</th>  <td>    0.0555</td> <td>    0.195</td> <td>    0.285</td> <td> 0.776</td> <td>   -0.326</td> <td>    0.437</td>\n",
       "</tr>\n",
       "<tr>\n",
       "  <th>ma.L7</th>  <td>   -0.2618</td> <td>    0.190</td> <td>   -1.377</td> <td> 0.168</td> <td>   -0.634</td> <td>    0.111</td>\n",
       "</tr>\n",
       "<tr>\n",
       "  <th>ma.L8</th>  <td>   -0.1612</td> <td>    0.149</td> <td>   -1.078</td> <td> 0.281</td> <td>   -0.454</td> <td>    0.132</td>\n",
       "</tr>\n",
       "<tr>\n",
       "  <th>ma.L9</th>  <td>   -0.1141</td> <td>    0.152</td> <td>   -0.751</td> <td> 0.452</td> <td>   -0.412</td> <td>    0.184</td>\n",
       "</tr>\n",
       "<tr>\n",
       "  <th>ma.L10</th> <td>   -0.2832</td> <td>    0.171</td> <td>   -1.658</td> <td> 0.097</td> <td>   -0.618</td> <td>    0.052</td>\n",
       "</tr>\n",
       "<tr>\n",
       "  <th>ma.L11</th> <td>   -0.1151</td> <td>    0.202</td> <td>   -0.569</td> <td> 0.569</td> <td>   -0.512</td> <td>    0.281</td>\n",
       "</tr>\n",
       "<tr>\n",
       "  <th>ma.L12</th> <td>   -0.1881</td> <td>    0.193</td> <td>   -0.973</td> <td> 0.330</td> <td>   -0.567</td> <td>    0.191</td>\n",
       "</tr>\n",
       "<tr>\n",
       "  <th>ma.L13</th> <td>    0.4467</td> <td>    0.220</td> <td>    2.035</td> <td> 0.042</td> <td>    0.016</td> <td>    0.877</td>\n",
       "</tr>\n",
       "<tr>\n",
       "  <th>ma.L14</th> <td>   -0.2760</td> <td>    0.205</td> <td>   -1.349</td> <td> 0.177</td> <td>   -0.677</td> <td>    0.125</td>\n",
       "</tr>\n",
       "<tr>\n",
       "  <th>ma.L15</th> <td>    0.1748</td> <td>    0.261</td> <td>    0.669</td> <td> 0.503</td> <td>   -0.337</td> <td>    0.687</td>\n",
       "</tr>\n",
       "<tr>\n",
       "  <th>ma.L16</th> <td>   -0.2300</td> <td>    0.220</td> <td>   -1.044</td> <td> 0.296</td> <td>   -0.662</td> <td>    0.202</td>\n",
       "</tr>\n",
       "<tr>\n",
       "  <th>ma.L17</th> <td>    0.3851</td> <td>    0.218</td> <td>    1.768</td> <td> 0.077</td> <td>   -0.042</td> <td>    0.812</td>\n",
       "</tr>\n",
       "<tr>\n",
       "  <th>ma.L18</th> <td>    0.0905</td> <td>    0.087</td> <td>    1.044</td> <td> 0.296</td> <td>   -0.079</td> <td>    0.260</td>\n",
       "</tr>\n",
       "<tr>\n",
       "  <th>ma.L19</th> <td>    0.0077</td> <td>    0.096</td> <td>    0.080</td> <td> 0.936</td> <td>   -0.181</td> <td>    0.196</td>\n",
       "</tr>\n",
       "<tr>\n",
       "  <th>ma.L20</th> <td>   -0.2221</td> <td>    0.095</td> <td>   -2.337</td> <td> 0.019</td> <td>   -0.408</td> <td>   -0.036</td>\n",
       "</tr>\n",
       "<tr>\n",
       "  <th>sigma2</th> <td>    4.6211</td> <td>    0.404</td> <td>   11.439</td> <td> 0.000</td> <td>    3.829</td> <td>    5.413</td>\n",
       "</tr>\n",
       "</table>\n",
       "<table class=\"simpletable\">\n",
       "<tr>\n",
       "  <th>Ljung-Box (L1) (Q):</th>     <td>0.01</td> <th>  Jarque-Bera (JB):  </th> <td>12.37</td>\n",
       "</tr>\n",
       "<tr>\n",
       "  <th>Prob(Q):</th>                <td>0.93</td> <th>  Prob(JB):          </th> <td>0.00</td> \n",
       "</tr>\n",
       "<tr>\n",
       "  <th>Heteroskedasticity (H):</th> <td>1.19</td> <th>  Skew:              </th> <td>0.17</td> \n",
       "</tr>\n",
       "<tr>\n",
       "  <th>Prob(H) (two-sided):</th>    <td>0.39</td> <th>  Kurtosis:          </th> <td>3.92</td> \n",
       "</tr>\n",
       "</table><br/><br/>Warnings:<br/>[1] Covariance matrix calculated using the outer product of gradients (complex-step)."
      ],
      "text/plain": [
       "<class 'statsmodels.iolib.summary.Summary'>\n",
       "\"\"\"\n",
       "                               SARIMAX Results                                \n",
       "==============================================================================\n",
       "Dep. Variable:      5. adjusted close   No. Observations:                  307\n",
       "Model:               ARIMA(17, 1, 20)   Log Likelihood                -672.411\n",
       "Date:                Sat, 09 Jul 2022   AIC                           1420.822\n",
       "Time:                        04:54:57   BIC                           1562.318\n",
       "Sample:                             0   HQIC                          1477.411\n",
       "                                - 307                                         \n",
       "Covariance Type:                  opg                                         \n",
       "==============================================================================\n",
       "                 coef    std err          z      P>|z|      [0.025      0.975]\n",
       "------------------------------------------------------------------------------\n",
       "ar.L1          0.3042      0.293      1.040      0.299      -0.269       0.878\n",
       "ar.L2         -0.1631      0.236     -0.692      0.489      -0.625       0.299\n",
       "ar.L3          0.0590      0.272      0.217      0.828      -0.474       0.591\n",
       "ar.L4         -0.3125      0.210     -1.486      0.137      -0.724       0.100\n",
       "ar.L5          0.1245      0.215      0.579      0.562      -0.297       0.546\n",
       "ar.L6         -0.0159      0.180     -0.089      0.929      -0.368       0.336\n",
       "ar.L7          0.2254      0.168      1.340      0.180      -0.104       0.555\n",
       "ar.L8          0.1403      0.133      1.054      0.292      -0.121       0.401\n",
       "ar.L9          0.0474      0.130      0.365      0.715      -0.207       0.302\n",
       "ar.L10         0.2841      0.129      2.204      0.028       0.031       0.537\n",
       "ar.L11         0.1846      0.175      1.056      0.291      -0.158       0.527\n",
       "ar.L12         0.2752      0.177      1.557      0.120      -0.071       0.622\n",
       "ar.L13        -0.4925      0.220     -2.239      0.025      -0.924      -0.061\n",
       "ar.L14         0.3125      0.196      1.591      0.112      -0.073       0.698\n",
       "ar.L15        -0.1106      0.263     -0.421      0.674      -0.626       0.405\n",
       "ar.L16         0.2757      0.222      1.240      0.215      -0.160       0.711\n",
       "ar.L17        -0.4854      0.228     -2.125      0.034      -0.933      -0.038\n",
       "ma.L1         -0.2506      0.298     -0.840      0.401      -0.835       0.334\n",
       "ma.L2          0.1531      0.236      0.647      0.517      -0.310       0.617\n",
       "ma.L3         -0.0983      0.280     -0.351      0.726      -0.648       0.451\n",
       "ma.L4          0.2910      0.219      1.327      0.184      -0.139       0.721\n",
       "ma.L5         -0.1427      0.224     -0.637      0.524      -0.582       0.296\n",
       "ma.L6          0.0555      0.195      0.285      0.776      -0.326       0.437\n",
       "ma.L7         -0.2618      0.190     -1.377      0.168      -0.634       0.111\n",
       "ma.L8         -0.1612      0.149     -1.078      0.281      -0.454       0.132\n",
       "ma.L9         -0.1141      0.152     -0.751      0.452      -0.412       0.184\n",
       "ma.L10        -0.2832      0.171     -1.658      0.097      -0.618       0.052\n",
       "ma.L11        -0.1151      0.202     -0.569      0.569      -0.512       0.281\n",
       "ma.L12        -0.1881      0.193     -0.973      0.330      -0.567       0.191\n",
       "ma.L13         0.4467      0.220      2.035      0.042       0.016       0.877\n",
       "ma.L14        -0.2760      0.205     -1.349      0.177      -0.677       0.125\n",
       "ma.L15         0.1748      0.261      0.669      0.503      -0.337       0.687\n",
       "ma.L16        -0.2300      0.220     -1.044      0.296      -0.662       0.202\n",
       "ma.L17         0.3851      0.218      1.768      0.077      -0.042       0.812\n",
       "ma.L18         0.0905      0.087      1.044      0.296      -0.079       0.260\n",
       "ma.L19         0.0077      0.096      0.080      0.936      -0.181       0.196\n",
       "ma.L20        -0.2221      0.095     -2.337      0.019      -0.408      -0.036\n",
       "sigma2         4.6211      0.404     11.439      0.000       3.829       5.413\n",
       "===================================================================================\n",
       "Ljung-Box (L1) (Q):                   0.01   Jarque-Bera (JB):                12.37\n",
       "Prob(Q):                              0.93   Prob(JB):                         0.00\n",
       "Heteroskedasticity (H):               1.19   Skew:                             0.17\n",
       "Prob(H) (two-sided):                  0.39   Kurtosis:                         3.92\n",
       "===================================================================================\n",
       "\n",
       "Warnings:\n",
       "[1] Covariance matrix calculated using the outer product of gradients (complex-step).\n",
       "\"\"\""
      ]
     },
     "execution_count": 97,
     "metadata": {},
     "output_type": "execute_result"
    },
    {
     "data": {
      "application/javascript": "\n            setTimeout(function() {\n                var nbb_cell_id = 97;\n                var nbb_unformatted_code = \"result.summary()\";\n                var nbb_formatted_code = \"result.summary()\";\n                var nbb_cells = Jupyter.notebook.get_cells();\n                for (var i = 0; i < nbb_cells.length; ++i) {\n                    if (nbb_cells[i].input_prompt_number == nbb_cell_id) {\n                        if (nbb_cells[i].get_text() == nbb_unformatted_code) {\n                             nbb_cells[i].set_text(nbb_formatted_code);\n                        }\n                        break;\n                    }\n                }\n            }, 500);\n            ",
      "text/plain": [
       "<IPython.core.display.Javascript object>"
      ]
     },
     "metadata": {},
     "output_type": "display_data"
    }
   ],
   "source": [
    "result.summary()"
   ]
  },
  {
   "cell_type": "code",
   "execution_count": 98,
   "metadata": {},
   "outputs": [
    {
     "data": {
      "text/plain": [
       "307"
      ]
     },
     "execution_count": 98,
     "metadata": {},
     "output_type": "execute_result"
    },
    {
     "data": {
      "application/javascript": "\n            setTimeout(function() {\n                var nbb_cell_id = 98;\n                var nbb_unformatted_code = \"# Actual vs. Fitted\\n\\n# result.plot_diagnostics()\\nlen(result.forecasts[0])\";\n                var nbb_formatted_code = \"# Actual vs. Fitted\\n\\n# result.plot_diagnostics()\\nlen(result.forecasts[0])\";\n                var nbb_cells = Jupyter.notebook.get_cells();\n                for (var i = 0; i < nbb_cells.length; ++i) {\n                    if (nbb_cells[i].input_prompt_number == nbb_cell_id) {\n                        if (nbb_cells[i].get_text() == nbb_unformatted_code) {\n                             nbb_cells[i].set_text(nbb_formatted_code);\n                        }\n                        break;\n                    }\n                }\n            }, 500);\n            ",
      "text/plain": [
       "<IPython.core.display.Javascript object>"
      ]
     },
     "metadata": {},
     "output_type": "display_data"
    }
   ],
   "source": [
    "# Actual vs. Fitted\n",
    "\n",
    "# result.plot_diagnostics()\n",
    "len(result.forecasts[0])"
   ]
  },
  {
   "cell_type": "code",
   "execution_count": 99,
   "metadata": {},
   "outputs": [
    {
     "data": {
      "application/javascript": "\n            setTimeout(function() {\n                var nbb_cell_id = 99;\n                var nbb_unformatted_code = \"df[\\\"preds\\\"] = result.forecasts[0]\";\n                var nbb_formatted_code = \"df[\\\"preds\\\"] = result.forecasts[0]\";\n                var nbb_cells = Jupyter.notebook.get_cells();\n                for (var i = 0; i < nbb_cells.length; ++i) {\n                    if (nbb_cells[i].input_prompt_number == nbb_cell_id) {\n                        if (nbb_cells[i].get_text() == nbb_unformatted_code) {\n                             nbb_cells[i].set_text(nbb_formatted_code);\n                        }\n                        break;\n                    }\n                }\n            }, 500);\n            ",
      "text/plain": [
       "<IPython.core.display.Javascript object>"
      ]
     },
     "metadata": {},
     "output_type": "display_data"
    }
   ],
   "source": [
    "df[\"preds\"] = result.forecasts[0]"
   ]
  },
  {
   "cell_type": "code",
   "execution_count": 100,
   "metadata": {},
   "outputs": [
    {
     "data": {
      "text/html": [
       "<div>\n",
       "<style scoped>\n",
       "    .dataframe tbody tr th:only-of-type {\n",
       "        vertical-align: middle;\n",
       "    }\n",
       "\n",
       "    .dataframe tbody tr th {\n",
       "        vertical-align: top;\n",
       "    }\n",
       "\n",
       "    .dataframe thead th {\n",
       "        text-align: right;\n",
       "    }\n",
       "</style>\n",
       "<table border=\"1\" class=\"dataframe\">\n",
       "  <thead>\n",
       "    <tr style=\"text-align: right;\">\n",
       "      <th></th>\n",
       "      <th>5. adjusted close</th>\n",
       "      <th>preds</th>\n",
       "    </tr>\n",
       "  </thead>\n",
       "  <tbody>\n",
       "    <tr>\n",
       "      <th>2757</th>\n",
       "      <td>126.934789</td>\n",
       "      <td>0.000000</td>\n",
       "    </tr>\n",
       "    <tr>\n",
       "      <th>2758</th>\n",
       "      <td>126.865306</td>\n",
       "      <td>126.934821</td>\n",
       "    </tr>\n",
       "    <tr>\n",
       "      <th>2759</th>\n",
       "      <td>127.748728</td>\n",
       "      <td>126.862269</td>\n",
       "    </tr>\n",
       "    <tr>\n",
       "      <th>2760</th>\n",
       "      <td>125.718843</td>\n",
       "      <td>127.798784</td>\n",
       "    </tr>\n",
       "    <tr>\n",
       "      <th>2761</th>\n",
       "      <td>127.282202</td>\n",
       "      <td>125.527714</td>\n",
       "    </tr>\n",
       "  </tbody>\n",
       "</table>\n",
       "</div>"
      ],
      "text/plain": [
       "      5. adjusted close       preds\n",
       "2757         126.934789    0.000000\n",
       "2758         126.865306  126.934821\n",
       "2759         127.748728  126.862269\n",
       "2760         125.718843  127.798784\n",
       "2761         127.282202  125.527714"
      ]
     },
     "execution_count": 100,
     "metadata": {},
     "output_type": "execute_result"
    },
    {
     "data": {
      "application/javascript": "\n            setTimeout(function() {\n                var nbb_cell_id = 100;\n                var nbb_unformatted_code = \"df.head()\";\n                var nbb_formatted_code = \"df.head()\";\n                var nbb_cells = Jupyter.notebook.get_cells();\n                for (var i = 0; i < nbb_cells.length; ++i) {\n                    if (nbb_cells[i].input_prompt_number == nbb_cell_id) {\n                        if (nbb_cells[i].get_text() == nbb_unformatted_code) {\n                             nbb_cells[i].set_text(nbb_formatted_code);\n                        }\n                        break;\n                    }\n                }\n            }, 500);\n            ",
      "text/plain": [
       "<IPython.core.display.Javascript object>"
      ]
     },
     "metadata": {},
     "output_type": "display_data"
    }
   ],
   "source": [
    "df.head()"
   ]
  },
  {
   "cell_type": "code",
   "execution_count": 101,
   "metadata": {},
   "outputs": [
    {
     "data": {
      "text/plain": [
       "array([126.93482067, 126.86226938, 127.79878392, 125.52771417,\n",
       "       127.55370718, 131.01647276, 129.34394541, 131.17070944,\n",
       "       135.95737863, 132.87365639, 132.54551063, 132.16843878,\n",
       "       128.13461479, 129.8815469 , 125.55454381, 131.19608371,\n",
       "       131.11796747, 127.2478524 , 128.79608554, 130.99427166,\n",
       "       127.01130788, 125.16465546, 128.05905236, 131.16122685,\n",
       "       134.38195364, 138.49605916, 142.84184988, 140.37122978,\n",
       "       140.33082431, 136.14376002, 131.8014384 , 132.5132953 ,\n",
       "       132.75319802, 134.95032688, 136.54338154, 134.79982815,\n",
       "       137.47048685, 136.3634334 , 134.54003256, 133.66174747,\n",
       "       134.15181022, 132.68233689, 129.25964571, 127.07179218,\n",
       "       129.38531243, 126.49935443, 125.13383023, 124.59226975,\n",
       "       121.29929247, 122.30195293, 125.97916719, 122.91617493,\n",
       "       120.75275533, 118.2569932 , 120.50799637, 115.92067914,\n",
       "       121.84500153, 120.56626703, 120.07344751, 119.7362166 ,\n",
       "       123.96455912, 125.80783749, 121.10968971, 118.78030449,\n",
       "       121.21629421, 123.18904902, 120.8896962 , 121.33865971,\n",
       "       120.51551186, 118.68394062, 120.47935582, 121.51965182,\n",
       "       120.98411544, 121.06494276, 125.08446668, 127.08764076,\n",
       "       127.88447242, 128.62852067, 131.83593703, 131.19447302,\n",
       "       132.63569648, 130.46268809, 134.60822496, 134.6465593 ,\n",
       "       132.23120524, 132.28961553, 133.87621581, 132.88759364,\n",
       "       132.66367798, 133.1724716 , 134.25141629, 133.39845765,\n",
       "       131.70781183, 130.53797172, 132.08929731, 127.54433391,\n",
       "       125.8046507 , 130.3300585 , 130.33547724, 125.72966609,\n",
       "       123.88062122, 122.35185003, 125.46696051, 127.40174897,\n",
       "       124.25282285, 124.28569244, 124.26683431, 127.32846451,\n",
       "       124.27836462, 127.0471261 , 125.02100246, 126.19262057,\n",
       "       124.56366949, 124.72290089, 124.83918553, 123.58604255,\n",
       "       121.69549248, 126.90918648, 125.75979661, 125.87212562,\n",
       "       126.79018197, 125.71269776, 126.04940624, 130.45250342,\n",
       "       129.32922504, 129.68316187, 130.06031255, 129.95405217,\n",
       "       132.81379016, 133.96051795, 132.30903324, 132.31110089,\n",
       "       132.58806317, 135.13005154, 136.11412284, 136.44380159,\n",
       "       135.74931329, 139.67114895, 141.10128835, 144.75318321,\n",
       "       143.4143477 , 143.40903124, 142.4675716 , 146.14467003,\n",
       "       149.29499183, 147.07953539, 144.94884601, 141.36341289,\n",
       "       146.21643086, 146.05844488, 145.91049227, 148.23780981,\n",
       "       147.12028814, 145.51326714, 145.16935863, 146.05823087,\n",
       "       144.34617076, 143.12735984, 146.54757604, 147.90967928,\n",
       "       146.01912152, 145.59142455, 145.24315394, 144.75391951,\n",
       "       144.46818697, 149.79520407, 149.26511245, 148.92123588,\n",
       "       148.93672938, 146.42578444, 146.78982055, 147.75956497,\n",
       "       148.42131173, 149.4520926 , 147.28424763, 148.01580431,\n",
       "       148.45084135, 152.48653983, 150.62644594, 151.28955884,\n",
       "       153.74675703, 154.6767528 , 156.76849845, 153.37543635,\n",
       "       152.21551746, 149.29187705, 148.42507799, 148.32253657,\n",
       "       149.00880744, 148.45089264, 145.51517773, 142.77341243,\n",
       "       143.4458543 , 145.35916387, 146.29939415, 145.94339204,\n",
       "       144.10662702, 142.36646456, 141.63078232, 141.30288728,\n",
       "       141.78548795, 138.43883933, 140.52144223, 142.19349176,\n",
       "       143.72933415, 142.02427566, 141.88692252, 140.88821192,\n",
       "       139.90452193, 144.40310015, 144.41948663, 146.42072781,\n",
       "       147.41833867, 149.42821249, 148.70588029, 148.28917171,\n",
       "       148.57573531, 148.85367418, 148.34915105, 152.3721379 ,\n",
       "       149.970925  , 148.15771014, 148.75121044, 152.06416477,\n",
       "       150.8351353 , 151.60419965, 150.16267177, 150.95338698,\n",
       "       146.80990544, 147.69025064, 150.16808133, 148.99105196,\n",
       "       150.95825472, 153.49434763, 158.48315721, 160.73043452,\n",
       "       160.55646824, 161.07610142, 159.4146995 , 156.66292039,\n",
       "       160.68967048, 165.25361067, 163.8339334 , 163.16349369,\n",
       "       162.36252907, 165.96511568, 171.64202054, 175.57682221,\n",
       "       173.59908668, 177.64568423, 174.42993902, 175.43566142,\n",
       "       179.14478915, 170.1183945 , 169.95866179, 171.27201713,\n",
       "       173.9777078 , 175.55304138, 176.57054985, 179.55303688,\n",
       "       177.49551958, 178.6421702 , 178.46796139, 178.35618901,\n",
       "       180.10099912, 177.53071547, 175.60782275, 172.75493664,\n",
       "       169.38973848, 173.15536094, 175.75208332, 174.0742347 ,\n",
       "       172.58313655, 172.68940538, 170.11222638, 164.93466039,\n",
       "       162.16449929, 162.9738825 , 161.44001935, 159.46739998,\n",
       "       158.23149711, 160.59906324, 171.6283507 , 173.56119369,\n",
       "       173.6020547 , 175.05760364, 172.01758491, 171.4898084 ,\n",
       "       171.76329547, 174.60613711, 174.82781863, 171.77922384,\n",
       "       168.54100737, 172.29298726, 173.73580241, 171.95732241,\n",
       "       168.83625715, 166.78418861, 163.48972738, 160.048619  ,\n",
       "       164.54924621, 163.3571825 , 164.1004193 , 164.41870053,\n",
       "       167.4781738 , 167.87159938])"
      ]
     },
     "execution_count": 101,
     "metadata": {},
     "output_type": "execute_result"
    },
    {
     "data": {
      "application/javascript": "\n            setTimeout(function() {\n                var nbb_cell_id = 101;\n                var nbb_unformatted_code = \"result.forecasts[0][-306:]\";\n                var nbb_formatted_code = \"result.forecasts[0][-306:]\";\n                var nbb_cells = Jupyter.notebook.get_cells();\n                for (var i = 0; i < nbb_cells.length; ++i) {\n                    if (nbb_cells[i].input_prompt_number == nbb_cell_id) {\n                        if (nbb_cells[i].get_text() == nbb_unformatted_code) {\n                             nbb_cells[i].set_text(nbb_formatted_code);\n                        }\n                        break;\n                    }\n                }\n            }, 500);\n            ",
      "text/plain": [
       "<IPython.core.display.Javascript object>"
      ]
     },
     "metadata": {},
     "output_type": "display_data"
    }
   ],
   "source": [
    "result.forecasts[0][-306:]"
   ]
  },
  {
   "cell_type": "code",
   "execution_count": 102,
   "metadata": {},
   "outputs": [
    {
     "data": {
      "image/png": "[encoded data removed]",
      "text/plain": [
       "<Figure size 864x576 with 2 Axes>"
      ]
     },
     "metadata": {
      "needs_background": "light"
     },
     "output_type": "display_data"
    },
    {
     "data": {
      "application/javascript": "\n            setTimeout(function() {\n                var nbb_cell_id = 102;\n                var nbb_unformatted_code = \"plt.figure(figsize=(12,8))\\n\\nax1 = df[\\\"5. adjusted close\\\"][-63:].plot(color='blue', grid=True, secondary_y=False, label='Actual', marker='.')\\nax2 = df[\\\"preds\\\"][-63:].plot(color='red', grid=True, secondary_y=True, label='Predicted', marker='.')\\n\\na, b = 155, 185\\n\\nax1.set_ylim(a,b)\\nax2.set_ylim(a,b)\\n\\nh1, l1 = ax1.get_legend_handles_labels()\\nh2, l2 = ax2.get_legend_handles_labels()\\n\\nax1.set_xlabel(\\\"Date\\\")\\nplt.legend(h1+h2, l1+l2, loc=1)\\nplt.show()\";\n                var nbb_formatted_code = \"plt.figure(figsize=(12, 8))\\n\\nax1 = df[\\\"5. adjusted close\\\"][-63:].plot(\\n    color=\\\"blue\\\", grid=True, secondary_y=False, label=\\\"Actual\\\", marker=\\\".\\\"\\n)\\nax2 = df[\\\"preds\\\"][-63:].plot(\\n    color=\\\"red\\\", grid=True, secondary_y=True, label=\\\"Predicted\\\", marker=\\\".\\\"\\n)\\n\\na, b = 155, 185\\n\\nax1.set_ylim(a, b)\\nax2.set_ylim(a, b)\\n\\nh1, l1 = ax1.get_legend_handles_labels()\\nh2, l2 = ax2.get_legend_handles_labels()\\n\\nax1.set_xlabel(\\\"Date\\\")\\nplt.legend(h1 + h2, l1 + l2, loc=1)\\nplt.show()\";\n                var nbb_cells = Jupyter.notebook.get_cells();\n                for (var i = 0; i < nbb_cells.length; ++i) {\n                    if (nbb_cells[i].input_prompt_number == nbb_cell_id) {\n                        if (nbb_cells[i].get_text() == nbb_unformatted_code) {\n                             nbb_cells[i].set_text(nbb_formatted_code);\n                        }\n                        break;\n                    }\n                }\n            }, 500);\n            ",
      "text/plain": [
       "<IPython.core.display.Javascript object>"
      ]
     },
     "metadata": {},
     "output_type": "display_data"
    }
   ],
   "source": [
    "plt.figure(figsize=(12,8))\n",
    "\n",
    "ax1 = df[\"5. adjusted close\"][-63:].plot(color='blue', grid=True, secondary_y=False, label='Actual', marker='.')\n",
    "ax2 = df[\"preds\"][-63:].plot(color='red', grid=True, secondary_y=True, label='Predicted', marker='.')\n",
    "\n",
    "a, b = 155, 185\n",
    "\n",
    "ax1.set_ylim(a,b)\n",
    "ax2.set_ylim(a,b)\n",
    "\n",
    "h1, l1 = ax1.get_legend_handles_labels()\n",
    "h2, l2 = ax2.get_legend_handles_labels()\n",
    "\n",
    "ax1.set_xlabel(\"Date\")\n",
    "plt.legend(h1+h2, l1+l2, loc=1)\n",
    "plt.show()"
   ]
  },
  {
   "cell_type": "code",
   "execution_count": 103,
   "metadata": {},
   "outputs": [
    {
     "name": "stdout",
     "output_type": "stream",
     "text": [
      "1.5698431265892814\n"
     ]
    },
    {
     "data": {
      "application/javascript": "\n            setTimeout(function() {\n                var nbb_cell_id = 103;\n                var nbb_unformatted_code = \"true = df[\\\"5. adjusted close\\\"][-244:]\\npredicted = df[\\\"preds\\\"][-244:]\\n\\ndef mae(y_true, predictions):\\n    y_true, predictions = np.array(y_true), np.array(predictions)\\n    return np.mean(np.abs(y_true - predictions))\\n\\n\\nprint(mae(true, predicted))\";\n                var nbb_formatted_code = \"true = df[\\\"5. adjusted close\\\"][-244:]\\npredicted = df[\\\"preds\\\"][-244:]\\n\\n\\ndef mae(y_true, predictions):\\n    y_true, predictions = np.array(y_true), np.array(predictions)\\n    return np.mean(np.abs(y_true - predictions))\\n\\n\\nprint(mae(true, predicted))\";\n                var nbb_cells = Jupyter.notebook.get_cells();\n                for (var i = 0; i < nbb_cells.length; ++i) {\n                    if (nbb_cells[i].input_prompt_number == nbb_cell_id) {\n                        if (nbb_cells[i].get_text() == nbb_unformatted_code) {\n                             nbb_cells[i].set_text(nbb_formatted_code);\n                        }\n                        break;\n                    }\n                }\n            }, 500);\n            ",
      "text/plain": [
       "<IPython.core.display.Javascript object>"
      ]
     },
     "metadata": {},
     "output_type": "display_data"
    }
   ],
   "source": [
    "true = df[\"5. adjusted close\"][-244:]\n",
    "predicted = df[\"preds\"][-244:]\n",
    "\n",
    "def mae(y_true, predictions):\n",
    "    y_true, predictions = np.array(y_true), np.array(predictions)\n",
    "    return np.mean(np.abs(y_true - predictions))\n",
    "\n",
    "\n",
    "print(mae(true, predicted))"
   ]
  },
  {
   "cell_type": "code",
   "execution_count": 104,
   "metadata": {},
   "outputs": [
    {
     "data": {
      "text/html": [
       "<div>\n",
       "<style scoped>\n",
       "    .dataframe tbody tr th:only-of-type {\n",
       "        vertical-align: middle;\n",
       "    }\n",
       "\n",
       "    .dataframe tbody tr th {\n",
       "        vertical-align: top;\n",
       "    }\n",
       "\n",
       "    .dataframe thead th {\n",
       "        text-align: right;\n",
       "    }\n",
       "</style>\n",
       "<table border=\"1\" class=\"dataframe\">\n",
       "  <thead>\n",
       "    <tr style=\"text-align: right;\">\n",
       "      <th></th>\n",
       "      <th>5. adjusted close</th>\n",
       "      <th>preds</th>\n",
       "    </tr>\n",
       "  </thead>\n",
       "  <tbody>\n",
       "    <tr>\n",
       "      <th>3059</th>\n",
       "      <td>165.12</td>\n",
       "      <td>163.357182</td>\n",
       "    </tr>\n",
       "    <tr>\n",
       "      <th>3060</th>\n",
       "      <td>163.20</td>\n",
       "      <td>164.100419</td>\n",
       "    </tr>\n",
       "    <tr>\n",
       "      <th>3061</th>\n",
       "      <td>166.56</td>\n",
       "      <td>164.418701</td>\n",
       "    </tr>\n",
       "    <tr>\n",
       "      <th>3062</th>\n",
       "      <td>166.23</td>\n",
       "      <td>167.478174</td>\n",
       "    </tr>\n",
       "    <tr>\n",
       "      <th>3063</th>\n",
       "      <td>163.17</td>\n",
       "      <td>167.871599</td>\n",
       "    </tr>\n",
       "  </tbody>\n",
       "</table>\n",
       "</div>"
      ],
      "text/plain": [
       "      5. adjusted close       preds\n",
       "3059             165.12  163.357182\n",
       "3060             163.20  164.100419\n",
       "3061             166.56  164.418701\n",
       "3062             166.23  167.478174\n",
       "3063             163.17  167.871599"
      ]
     },
     "execution_count": 104,
     "metadata": {},
     "output_type": "execute_result"
    },
    {
     "data": {
      "application/javascript": "\n            setTimeout(function() {\n                var nbb_cell_id = 104;\n                var nbb_unformatted_code = \"df.tail()\";\n                var nbb_formatted_code = \"df.tail()\";\n                var nbb_cells = Jupyter.notebook.get_cells();\n                for (var i = 0; i < nbb_cells.length; ++i) {\n                    if (nbb_cells[i].input_prompt_number == nbb_cell_id) {\n                        if (nbb_cells[i].get_text() == nbb_unformatted_code) {\n                             nbb_cells[i].set_text(nbb_formatted_code);\n                        }\n                        break;\n                    }\n                }\n            }, 500);\n            ",
      "text/plain": [
       "<IPython.core.display.Javascript object>"
      ]
     },
     "metadata": {},
     "output_type": "display_data"
    }
   ],
   "source": [
    "df.tail()"
   ]
  },
  {
   "cell_type": "code",
   "execution_count": 105,
   "metadata": {},
   "outputs": [
    {
     "data": {
      "application/javascript": "\n            setTimeout(function() {\n                var nbb_cell_id = 105;\n                var nbb_unformatted_code = \"df = df[-244:].copy()\\n\\ntrue = df[\\\"5. adjusted close\\\"][-244:]\\npredicted = df[\\\"preds\\\"][-244:]\";\n                var nbb_formatted_code = \"df = df[-244:].copy()\\n\\ntrue = df[\\\"5. adjusted close\\\"][-244:]\\npredicted = df[\\\"preds\\\"][-244:]\";\n                var nbb_cells = Jupyter.notebook.get_cells();\n                for (var i = 0; i < nbb_cells.length; ++i) {\n                    if (nbb_cells[i].input_prompt_number == nbb_cell_id) {\n                        if (nbb_cells[i].get_text() == nbb_unformatted_code) {\n                             nbb_cells[i].set_text(nbb_formatted_code);\n                        }\n                        break;\n                    }\n                }\n            }, 500);\n            ",
      "text/plain": [
       "<IPython.core.display.Javascript object>"
      ]
     },
     "metadata": {},
     "output_type": "display_data"
    }
   ],
   "source": [
    "df = df[-244:].copy()\n",
    "\n",
    "true = df[\"5. adjusted close\"][-244:]\n",
    "predicted = df[\"preds\"][-244:]"
   ]
  },
  {
   "cell_type": "code",
   "execution_count": 106,
   "metadata": {},
   "outputs": [
    {
     "data": {
      "application/javascript": "\n            setTimeout(function() {\n                var nbb_cell_id = 106;\n                var nbb_unformatted_code = \"from sklearn.metrics import mean_absolute_error\";\n                var nbb_formatted_code = \"from sklearn.metrics import mean_absolute_error\";\n                var nbb_cells = Jupyter.notebook.get_cells();\n                for (var i = 0; i < nbb_cells.length; ++i) {\n                    if (nbb_cells[i].input_prompt_number == nbb_cell_id) {\n                        if (nbb_cells[i].get_text() == nbb_unformatted_code) {\n                             nbb_cells[i].set_text(nbb_formatted_code);\n                        }\n                        break;\n                    }\n                }\n            }, 500);\n            ",
      "text/plain": [
       "<IPython.core.display.Javascript object>"
      ]
     },
     "metadata": {},
     "output_type": "display_data"
    }
   ],
   "source": [
    "from sklearn.metrics import mean_absolute_error"
   ]
  },
  {
   "cell_type": "code",
   "execution_count": 107,
   "metadata": {},
   "outputs": [
    {
     "data": {
      "text/plain": [
       "'Test MAE: 1.5698'"
      ]
     },
     "execution_count": 107,
     "metadata": {},
     "output_type": "execute_result"
    },
    {
     "data": {
      "application/javascript": "\n            setTimeout(function() {\n                var nbb_cell_id = 107;\n                var nbb_unformatted_code = \"test_mae = mean_absolute_error(true.to_numpy(), predicted)\\nf'Test MAE: {test_mae:.4f}'\";\n                var nbb_formatted_code = \"test_mae = mean_absolute_error(true.to_numpy(), predicted)\\nf\\\"Test MAE: {test_mae:.4f}\\\"\";\n                var nbb_cells = Jupyter.notebook.get_cells();\n                for (var i = 0; i < nbb_cells.length; ++i) {\n                    if (nbb_cells[i].input_prompt_number == nbb_cell_id) {\n                        if (nbb_cells[i].get_text() == nbb_unformatted_code) {\n                             nbb_cells[i].set_text(nbb_formatted_code);\n                        }\n                        break;\n                    }\n                }\n            }, 500);\n            ",
      "text/plain": [
       "<IPython.core.display.Javascript object>"
      ]
     },
     "metadata": {},
     "output_type": "display_data"
    }
   ],
   "source": [
    "test_mae = mean_absolute_error(true.to_numpy(), predicted)\n",
    "f'Test MAE: {test_mae:.4f}'"
   ]
  },
  {
   "cell_type": "code",
   "execution_count": 108,
   "metadata": {},
   "outputs": [
    {
     "data": {
      "text/html": [
       "<div>\n",
       "<style scoped>\n",
       "    .dataframe tbody tr th:only-of-type {\n",
       "        vertical-align: middle;\n",
       "    }\n",
       "\n",
       "    .dataframe tbody tr th {\n",
       "        vertical-align: top;\n",
       "    }\n",
       "\n",
       "    .dataframe thead th {\n",
       "        text-align: right;\n",
       "    }\n",
       "</style>\n",
       "<table border=\"1\" class=\"dataframe\">\n",
       "  <thead>\n",
       "    <tr style=\"text-align: right;\">\n",
       "      <th></th>\n",
       "      <th>5. adjusted close</th>\n",
       "      <th>preds</th>\n",
       "    </tr>\n",
       "  </thead>\n",
       "  <tbody>\n",
       "    <tr>\n",
       "      <th>3054</th>\n",
       "      <td>167.30</td>\n",
       "      <td>168.836257</td>\n",
       "    </tr>\n",
       "    <tr>\n",
       "      <th>3055</th>\n",
       "      <td>164.32</td>\n",
       "      <td>166.784189</td>\n",
       "    </tr>\n",
       "    <tr>\n",
       "      <th>3056</th>\n",
       "      <td>160.07</td>\n",
       "      <td>163.489727</td>\n",
       "    </tr>\n",
       "    <tr>\n",
       "      <th>3057</th>\n",
       "      <td>162.74</td>\n",
       "      <td>160.048619</td>\n",
       "    </tr>\n",
       "    <tr>\n",
       "      <th>3058</th>\n",
       "      <td>164.85</td>\n",
       "      <td>164.549246</td>\n",
       "    </tr>\n",
       "    <tr>\n",
       "      <th>3059</th>\n",
       "      <td>165.12</td>\n",
       "      <td>163.357182</td>\n",
       "    </tr>\n",
       "    <tr>\n",
       "      <th>3060</th>\n",
       "      <td>163.20</td>\n",
       "      <td>164.100419</td>\n",
       "    </tr>\n",
       "    <tr>\n",
       "      <th>3061</th>\n",
       "      <td>166.56</td>\n",
       "      <td>164.418701</td>\n",
       "    </tr>\n",
       "    <tr>\n",
       "      <th>3062</th>\n",
       "      <td>166.23</td>\n",
       "      <td>167.478174</td>\n",
       "    </tr>\n",
       "    <tr>\n",
       "      <th>3063</th>\n",
       "      <td>163.17</td>\n",
       "      <td>167.871599</td>\n",
       "    </tr>\n",
       "  </tbody>\n",
       "</table>\n",
       "</div>"
      ],
      "text/plain": [
       "      5. adjusted close       preds\n",
       "3054             167.30  168.836257\n",
       "3055             164.32  166.784189\n",
       "3056             160.07  163.489727\n",
       "3057             162.74  160.048619\n",
       "3058             164.85  164.549246\n",
       "3059             165.12  163.357182\n",
       "3060             163.20  164.100419\n",
       "3061             166.56  164.418701\n",
       "3062             166.23  167.478174\n",
       "3063             163.17  167.871599"
      ]
     },
     "execution_count": 108,
     "metadata": {},
     "output_type": "execute_result"
    },
    {
     "data": {
      "application/javascript": "\n            setTimeout(function() {\n                var nbb_cell_id = 108;\n                var nbb_unformatted_code = \"df.tail(10)\";\n                var nbb_formatted_code = \"df.tail(10)\";\n                var nbb_cells = Jupyter.notebook.get_cells();\n                for (var i = 0; i < nbb_cells.length; ++i) {\n                    if (nbb_cells[i].input_prompt_number == nbb_cell_id) {\n                        if (nbb_cells[i].get_text() == nbb_unformatted_code) {\n                             nbb_cells[i].set_text(nbb_formatted_code);\n                        }\n                        break;\n                    }\n                }\n            }, 500);\n            ",
      "text/plain": [
       "<IPython.core.display.Javascript object>"
      ]
     },
     "metadata": {},
     "output_type": "display_data"
    }
   ],
   "source": [
    "df.tail(10)"
   ]
  },
  {
   "cell_type": "code",
   "execution_count": 109,
   "metadata": {},
   "outputs": [
    {
     "data": {
      "application/javascript": "\n            setTimeout(function() {\n                var nbb_cell_id = 109;\n                var nbb_unformatted_code = \"df[\\\"actual_percentage_change\\\"] = df['5. adjusted close'].pct_change()\\ndf[\\\"actual_increase\\\"] = df[\\\"actual_percentage_change\\\"].apply(lambda x: 1 if x > 0 else 0)\";\n                var nbb_formatted_code = \"df[\\\"actual_percentage_change\\\"] = df[\\\"5. adjusted close\\\"].pct_change()\\ndf[\\\"actual_increase\\\"] = df[\\\"actual_percentage_change\\\"].apply(\\n    lambda x: 1 if x > 0 else 0\\n)\";\n                var nbb_cells = Jupyter.notebook.get_cells();\n                for (var i = 0; i < nbb_cells.length; ++i) {\n                    if (nbb_cells[i].input_prompt_number == nbb_cell_id) {\n                        if (nbb_cells[i].get_text() == nbb_unformatted_code) {\n                             nbb_cells[i].set_text(nbb_formatted_code);\n                        }\n                        break;\n                    }\n                }\n            }, 500);\n            ",
      "text/plain": [
       "<IPython.core.display.Javascript object>"
      ]
     },
     "metadata": {},
     "output_type": "display_data"
    }
   ],
   "source": [
    "df[\"actual_percentage_change\"] = df['5. adjusted close'].pct_change()\n",
    "df[\"actual_increase\"] = df[\"actual_percentage_change\"].apply(lambda x: 1 if x > 0 else 0)"
   ]
  },
  {
   "cell_type": "code",
   "execution_count": 110,
   "metadata": {},
   "outputs": [
    {
     "data": {
      "application/javascript": "\n            setTimeout(function() {\n                var nbb_cell_id = 110;\n                var nbb_unformatted_code = \"df[\\\"predicted_percentage_change\\\"] = df['preds'].pct_change()\\ndf[\\\"predicted_increase\\\"] = df[\\\"predicted_percentage_change\\\"].apply(lambda x: 1 if x > 0 else 0)\";\n                var nbb_formatted_code = \"df[\\\"predicted_percentage_change\\\"] = df[\\\"preds\\\"].pct_change()\\ndf[\\\"predicted_increase\\\"] = df[\\\"predicted_percentage_change\\\"].apply(\\n    lambda x: 1 if x > 0 else 0\\n)\";\n                var nbb_cells = Jupyter.notebook.get_cells();\n                for (var i = 0; i < nbb_cells.length; ++i) {\n                    if (nbb_cells[i].input_prompt_number == nbb_cell_id) {\n                        if (nbb_cells[i].get_text() == nbb_unformatted_code) {\n                             nbb_cells[i].set_text(nbb_formatted_code);\n                        }\n                        break;\n                    }\n                }\n            }, 500);\n            ",
      "text/plain": [
       "<IPython.core.display.Javascript object>"
      ]
     },
     "metadata": {},
     "output_type": "display_data"
    }
   ],
   "source": [
    "df[\"predicted_percentage_change\"] = df['preds'].pct_change()\n",
    "df[\"predicted_increase\"] = df[\"predicted_percentage_change\"].apply(lambda x: 1 if x > 0 else 0)"
   ]
  },
  {
   "cell_type": "code",
   "execution_count": 111,
   "metadata": {},
   "outputs": [
    {
     "data": {
      "text/html": [
       "<div>\n",
       "<style scoped>\n",
       "    .dataframe tbody tr th:only-of-type {\n",
       "        vertical-align: middle;\n",
       "    }\n",
       "\n",
       "    .dataframe tbody tr th {\n",
       "        vertical-align: top;\n",
       "    }\n",
       "\n",
       "    .dataframe thead th {\n",
       "        text-align: right;\n",
       "    }\n",
       "</style>\n",
       "<table border=\"1\" class=\"dataframe\">\n",
       "  <thead>\n",
       "    <tr style=\"text-align: right;\">\n",
       "      <th></th>\n",
       "      <th>5. adjusted close</th>\n",
       "      <th>preds</th>\n",
       "      <th>actual_percentage_change</th>\n",
       "      <th>actual_increase</th>\n",
       "      <th>predicted_percentage_change</th>\n",
       "      <th>predicted_increase</th>\n",
       "    </tr>\n",
       "  </thead>\n",
       "  <tbody>\n",
       "    <tr>\n",
       "      <th>2820</th>\n",
       "      <td>119.818452</td>\n",
       "      <td>121.109690</td>\n",
       "      <td>NaN</td>\n",
       "      <td>0</td>\n",
       "      <td>NaN</td>\n",
       "      <td>0</td>\n",
       "    </tr>\n",
       "    <tr>\n",
       "      <th>2821</th>\n",
       "      <td>119.281640</td>\n",
       "      <td>118.780304</td>\n",
       "      <td>-0.004480</td>\n",
       "      <td>0</td>\n",
       "      <td>-0.019234</td>\n",
       "      <td>0</td>\n",
       "    </tr>\n",
       "    <tr>\n",
       "      <th>2822</th>\n",
       "      <td>122.661568</td>\n",
       "      <td>121.216294</td>\n",
       "      <td>0.028336</td>\n",
       "      <td>1</td>\n",
       "      <td>0.020508</td>\n",
       "      <td>1</td>\n",
       "    </tr>\n",
       "    <tr>\n",
       "      <th>2823</th>\n",
       "      <td>121.816586</td>\n",
       "      <td>123.189049</td>\n",
       "      <td>-0.006889</td>\n",
       "      <td>0</td>\n",
       "      <td>0.016275</td>\n",
       "      <td>1</td>\n",
       "    </tr>\n",
       "    <tr>\n",
       "      <th>2824</th>\n",
       "      <td>119.381049</td>\n",
       "      <td>120.889696</td>\n",
       "      <td>-0.019993</td>\n",
       "      <td>0</td>\n",
       "      <td>-0.018665</td>\n",
       "      <td>0</td>\n",
       "    </tr>\n",
       "  </tbody>\n",
       "</table>\n",
       "</div>"
      ],
      "text/plain": [
       "      5. adjusted close       preds  actual_percentage_change  \\\n",
       "2820         119.818452  121.109690                       NaN   \n",
       "2821         119.281640  118.780304                 -0.004480   \n",
       "2822         122.661568  121.216294                  0.028336   \n",
       "2823         121.816586  123.189049                 -0.006889   \n",
       "2824         119.381049  120.889696                 -0.019993   \n",
       "\n",
       "      actual_increase  predicted_percentage_change  predicted_increase  \n",
       "2820                0                          NaN                   0  \n",
       "2821                0                    -0.019234                   0  \n",
       "2822                1                     0.020508                   1  \n",
       "2823                0                     0.016275                   1  \n",
       "2824                0                    -0.018665                   0  "
      ]
     },
     "execution_count": 111,
     "metadata": {},
     "output_type": "execute_result"
    },
    {
     "data": {
      "application/javascript": "\n            setTimeout(function() {\n                var nbb_cell_id = 111;\n                var nbb_unformatted_code = \"df.head()\";\n                var nbb_formatted_code = \"df.head()\";\n                var nbb_cells = Jupyter.notebook.get_cells();\n                for (var i = 0; i < nbb_cells.length; ++i) {\n                    if (nbb_cells[i].input_prompt_number == nbb_cell_id) {\n                        if (nbb_cells[i].get_text() == nbb_unformatted_code) {\n                             nbb_cells[i].set_text(nbb_formatted_code);\n                        }\n                        break;\n                    }\n                }\n            }, 500);\n            ",
      "text/plain": [
       "<IPython.core.display.Javascript object>"
      ]
     },
     "metadata": {},
     "output_type": "display_data"
    }
   ],
   "source": [
    "df.head()"
   ]
  },
  {
   "cell_type": "code",
   "execution_count": 113,
   "metadata": {},
   "outputs": [
    {
     "data": {
      "application/javascript": "\n            setTimeout(function() {\n                var nbb_cell_id = 113;\n                var nbb_unformatted_code = \"df = df.drop(2820)\";\n                var nbb_formatted_code = \"df = df.drop(2820)\";\n                var nbb_cells = Jupyter.notebook.get_cells();\n                for (var i = 0; i < nbb_cells.length; ++i) {\n                    if (nbb_cells[i].input_prompt_number == nbb_cell_id) {\n                        if (nbb_cells[i].get_text() == nbb_unformatted_code) {\n                             nbb_cells[i].set_text(nbb_formatted_code);\n                        }\n                        break;\n                    }\n                }\n            }, 500);\n            ",
      "text/plain": [
       "<IPython.core.display.Javascript object>"
      ]
     },
     "metadata": {},
     "output_type": "display_data"
    }
   ],
   "source": [
    "df = df.drop(2820)"
   ]
  },
  {
   "cell_type": "code",
   "execution_count": 114,
   "metadata": {},
   "outputs": [
    {
     "data": {
      "text/plain": [
       "(128, 6)"
      ]
     },
     "execution_count": 114,
     "metadata": {},
     "output_type": "execute_result"
    },
    {
     "data": {
      "application/javascript": "\n            setTimeout(function() {\n                var nbb_cell_id = 114;\n                var nbb_unformatted_code = \"df[df[\\\"actual_increase\\\"] > 0].shape\";\n                var nbb_formatted_code = \"df[df[\\\"actual_increase\\\"] > 0].shape\";\n                var nbb_cells = Jupyter.notebook.get_cells();\n                for (var i = 0; i < nbb_cells.length; ++i) {\n                    if (nbb_cells[i].input_prompt_number == nbb_cell_id) {\n                        if (nbb_cells[i].get_text() == nbb_unformatted_code) {\n                             nbb_cells[i].set_text(nbb_formatted_code);\n                        }\n                        break;\n                    }\n                }\n            }, 500);\n            ",
      "text/plain": [
       "<IPython.core.display.Javascript object>"
      ]
     },
     "metadata": {},
     "output_type": "display_data"
    }
   ],
   "source": [
    "df[df[\"actual_increase\"] > 0].shape"
   ]
  },
  {
   "cell_type": "code",
   "execution_count": 115,
   "metadata": {},
   "outputs": [
    {
     "data": {
      "text/plain": [
       "(115, 6)"
      ]
     },
     "execution_count": 115,
     "metadata": {},
     "output_type": "execute_result"
    },
    {
     "data": {
      "application/javascript": "\n            setTimeout(function() {\n                var nbb_cell_id = 115;\n                var nbb_unformatted_code = \"df[df[\\\"actual_increase\\\"] <= 0].shape\";\n                var nbb_formatted_code = \"df[df[\\\"actual_increase\\\"] <= 0].shape\";\n                var nbb_cells = Jupyter.notebook.get_cells();\n                for (var i = 0; i < nbb_cells.length; ++i) {\n                    if (nbb_cells[i].input_prompt_number == nbb_cell_id) {\n                        if (nbb_cells[i].get_text() == nbb_unformatted_code) {\n                             nbb_cells[i].set_text(nbb_formatted_code);\n                        }\n                        break;\n                    }\n                }\n            }, 500);\n            ",
      "text/plain": [
       "<IPython.core.display.Javascript object>"
      ]
     },
     "metadata": {},
     "output_type": "display_data"
    }
   ],
   "source": [
    "df[df[\"actual_increase\"] <= 0].shape"
   ]
  },
  {
   "cell_type": "code",
   "execution_count": 116,
   "metadata": {},
   "outputs": [
    {
     "data": {
      "text/html": [
       "<div>\n",
       "<style scoped>\n",
       "    .dataframe tbody tr th:only-of-type {\n",
       "        vertical-align: middle;\n",
       "    }\n",
       "\n",
       "    .dataframe tbody tr th {\n",
       "        vertical-align: top;\n",
       "    }\n",
       "\n",
       "    .dataframe thead th {\n",
       "        text-align: right;\n",
       "    }\n",
       "</style>\n",
       "<table border=\"1\" class=\"dataframe\">\n",
       "  <thead>\n",
       "    <tr style=\"text-align: right;\">\n",
       "      <th></th>\n",
       "      <th>5. adjusted close</th>\n",
       "      <th>preds</th>\n",
       "      <th>actual_percentage_change</th>\n",
       "      <th>actual_increase</th>\n",
       "      <th>predicted_percentage_change</th>\n",
       "      <th>predicted_increase</th>\n",
       "    </tr>\n",
       "  </thead>\n",
       "  <tbody>\n",
       "    <tr>\n",
       "      <th>3059</th>\n",
       "      <td>165.12</td>\n",
       "      <td>163.357182</td>\n",
       "      <td>0.001638</td>\n",
       "      <td>1</td>\n",
       "      <td>-0.007244</td>\n",
       "      <td>0</td>\n",
       "    </tr>\n",
       "    <tr>\n",
       "      <th>3060</th>\n",
       "      <td>163.20</td>\n",
       "      <td>164.100419</td>\n",
       "      <td>-0.011628</td>\n",
       "      <td>0</td>\n",
       "      <td>0.004550</td>\n",
       "      <td>1</td>\n",
       "    </tr>\n",
       "    <tr>\n",
       "      <th>3061</th>\n",
       "      <td>166.56</td>\n",
       "      <td>164.418701</td>\n",
       "      <td>0.020588</td>\n",
       "      <td>1</td>\n",
       "      <td>0.001940</td>\n",
       "      <td>1</td>\n",
       "    </tr>\n",
       "    <tr>\n",
       "      <th>3062</th>\n",
       "      <td>166.23</td>\n",
       "      <td>167.478174</td>\n",
       "      <td>-0.001981</td>\n",
       "      <td>0</td>\n",
       "      <td>0.018608</td>\n",
       "      <td>1</td>\n",
       "    </tr>\n",
       "    <tr>\n",
       "      <th>3063</th>\n",
       "      <td>163.17</td>\n",
       "      <td>167.871599</td>\n",
       "      <td>-0.018408</td>\n",
       "      <td>0</td>\n",
       "      <td>0.002349</td>\n",
       "      <td>1</td>\n",
       "    </tr>\n",
       "  </tbody>\n",
       "</table>\n",
       "</div>"
      ],
      "text/plain": [
       "      5. adjusted close       preds  actual_percentage_change  \\\n",
       "3059             165.12  163.357182                  0.001638   \n",
       "3060             163.20  164.100419                 -0.011628   \n",
       "3061             166.56  164.418701                  0.020588   \n",
       "3062             166.23  167.478174                 -0.001981   \n",
       "3063             163.17  167.871599                 -0.018408   \n",
       "\n",
       "      actual_increase  predicted_percentage_change  predicted_increase  \n",
       "3059                1                    -0.007244                   0  \n",
       "3060                0                     0.004550                   1  \n",
       "3061                1                     0.001940                   1  \n",
       "3062                0                     0.018608                   1  \n",
       "3063                0                     0.002349                   1  "
      ]
     },
     "execution_count": 116,
     "metadata": {},
     "output_type": "execute_result"
    },
    {
     "data": {
      "application/javascript": "\n            setTimeout(function() {\n                var nbb_cell_id = 116;\n                var nbb_unformatted_code = \"df.tail()\";\n                var nbb_formatted_code = \"df.tail()\";\n                var nbb_cells = Jupyter.notebook.get_cells();\n                for (var i = 0; i < nbb_cells.length; ++i) {\n                    if (nbb_cells[i].input_prompt_number == nbb_cell_id) {\n                        if (nbb_cells[i].get_text() == nbb_unformatted_code) {\n                             nbb_cells[i].set_text(nbb_formatted_code);\n                        }\n                        break;\n                    }\n                }\n            }, 500);\n            ",
      "text/plain": [
       "<IPython.core.display.Javascript object>"
      ]
     },
     "metadata": {},
     "output_type": "display_data"
    }
   ],
   "source": [
    "df.tail()"
   ]
  },
  {
   "cell_type": "markdown",
   "metadata": {},
   "source": [
    "#### Postive Increase Prediction %"
   ]
  },
  {
   "cell_type": "code",
   "execution_count": 117,
   "metadata": {},
   "outputs": [
    {
     "data": {
      "text/plain": [
       "0.5703125"
      ]
     },
     "execution_count": 117,
     "metadata": {},
     "output_type": "execute_result"
    },
    {
     "data": {
      "application/javascript": "\n            setTimeout(function() {\n                var nbb_cell_id = 117;\n                var nbb_unformatted_code = \"df[(df[\\\"actual_increase\\\"]==1) & (df[\\\"predicted_increase\\\"]==1)].shape[0] / df[(df[\\\"actual_increase\\\"]==1)].shape[0]\";\n                var nbb_formatted_code = \"df[(df[\\\"actual_increase\\\"] == 1) & (df[\\\"predicted_increase\\\"] == 1)].shape[0] / df[\\n    (df[\\\"actual_increase\\\"] == 1)\\n].shape[0]\";\n                var nbb_cells = Jupyter.notebook.get_cells();\n                for (var i = 0; i < nbb_cells.length; ++i) {\n                    if (nbb_cells[i].input_prompt_number == nbb_cell_id) {\n                        if (nbb_cells[i].get_text() == nbb_unformatted_code) {\n                             nbb_cells[i].set_text(nbb_formatted_code);\n                        }\n                        break;\n                    }\n                }\n            }, 500);\n            ",
      "text/plain": [
       "<IPython.core.display.Javascript object>"
      ]
     },
     "metadata": {},
     "output_type": "display_data"
    }
   ],
   "source": [
    "df[(df[\"actual_increase\"]==1) & (df[\"predicted_increase\"]==1)].shape[0] / df[(df[\"actual_increase\"]==1)].shape[0]"
   ]
  },
  {
   "cell_type": "markdown",
   "metadata": {},
   "source": [
    "### Negative Increase Prediction %"
   ]
  },
  {
   "cell_type": "code",
   "execution_count": 118,
   "metadata": {},
   "outputs": [
    {
     "data": {
      "text/plain": [
       "0.5304347826086957"
      ]
     },
     "execution_count": 118,
     "metadata": {},
     "output_type": "execute_result"
    },
    {
     "data": {
      "application/javascript": "\n            setTimeout(function() {\n                var nbb_cell_id = 118;\n                var nbb_unformatted_code = \"df[(df[\\\"actual_increase\\\"]==0) & (df[\\\"predicted_increase\\\"]==0)].shape[0] / df[(df[\\\"actual_increase\\\"]==0)].shape[0]\";\n                var nbb_formatted_code = \"df[(df[\\\"actual_increase\\\"] == 0) & (df[\\\"predicted_increase\\\"] == 0)].shape[0] / df[\\n    (df[\\\"actual_increase\\\"] == 0)\\n].shape[0]\";\n                var nbb_cells = Jupyter.notebook.get_cells();\n                for (var i = 0; i < nbb_cells.length; ++i) {\n                    if (nbb_cells[i].input_prompt_number == nbb_cell_id) {\n                        if (nbb_cells[i].get_text() == nbb_unformatted_code) {\n                             nbb_cells[i].set_text(nbb_formatted_code);\n                        }\n                        break;\n                    }\n                }\n            }, 500);\n            ",
      "text/plain": [
       "<IPython.core.display.Javascript object>"
      ]
     },
     "metadata": {},
     "output_type": "display_data"
    }
   ],
   "source": [
    "df[(df[\"actual_increase\"]==0) & (df[\"predicted_increase\"]==0)].shape[0] / df[(df[\"actual_increase\"]==0)].shape[0]"
   ]
  },
  {
   "cell_type": "markdown",
   "metadata": {},
   "source": [
    "#### Overall Prediction Accuracy %"
   ]
  },
  {
   "cell_type": "code",
   "execution_count": 119,
   "metadata": {},
   "outputs": [
    {
     "data": {
      "text/plain": [
       "0.551440329218107"
      ]
     },
     "execution_count": 119,
     "metadata": {},
     "output_type": "execute_result"
    },
    {
     "data": {
      "application/javascript": "\n            setTimeout(function() {\n                var nbb_cell_id = 119;\n                var nbb_unformatted_code = \"df[(df[\\\"actual_increase\\\"] == df[\\\"predicted_increase\\\"])].shape[0] / (df.shape[0])\";\n                var nbb_formatted_code = \"df[(df[\\\"actual_increase\\\"] == df[\\\"predicted_increase\\\"])].shape[0] / (df.shape[0])\";\n                var nbb_cells = Jupyter.notebook.get_cells();\n                for (var i = 0; i < nbb_cells.length; ++i) {\n                    if (nbb_cells[i].input_prompt_number == nbb_cell_id) {\n                        if (nbb_cells[i].get_text() == nbb_unformatted_code) {\n                             nbb_cells[i].set_text(nbb_formatted_code);\n                        }\n                        break;\n                    }\n                }\n            }, 500);\n            ",
      "text/plain": [
       "<IPython.core.display.Javascript object>"
      ]
     },
     "metadata": {},
     "output_type": "display_data"
    }
   ],
   "source": [
    "df[(df[\"actual_increase\"] == df[\"predicted_increase\"])].shape[0] / (df.shape[0])"
   ]
  },
  {
   "cell_type": "markdown",
   "metadata": {},
   "source": [
    "#### Actual Distribution of Increase (1) vs. Decrease (0)"
   ]
  },
  {
   "cell_type": "code",
   "execution_count": 120,
   "metadata": {},
   "outputs": [
    {
     "data": {
      "text/plain": [
       "1    0.526749\n",
       "0    0.473251\n",
       "Name: actual_increase, dtype: float64"
      ]
     },
     "execution_count": 120,
     "metadata": {},
     "output_type": "execute_result"
    },
    {
     "data": {
      "application/javascript": "\n            setTimeout(function() {\n                var nbb_cell_id = 120;\n                var nbb_unformatted_code = \"df[\\\"actual_increase\\\"].value_counts(normalize=True)\";\n                var nbb_formatted_code = \"df[\\\"actual_increase\\\"].value_counts(normalize=True)\";\n                var nbb_cells = Jupyter.notebook.get_cells();\n                for (var i = 0; i < nbb_cells.length; ++i) {\n                    if (nbb_cells[i].input_prompt_number == nbb_cell_id) {\n                        if (nbb_cells[i].get_text() == nbb_unformatted_code) {\n                             nbb_cells[i].set_text(nbb_formatted_code);\n                        }\n                        break;\n                    }\n                }\n            }, 500);\n            ",
      "text/plain": [
       "<IPython.core.display.Javascript object>"
      ]
     },
     "metadata": {},
     "output_type": "display_data"
    }
   ],
   "source": [
    "df[\"actual_increase\"].value_counts(normalize=True)"
   ]
  }
 ],
 "metadata": {
  "kernelspec": {
   "display_name": "Python 3",
   "language": "python",
   "name": "python3"
  },
  "orig_nbformat": 4
 },
 "nbformat": 4,
 "nbformat_minor": 2
}
