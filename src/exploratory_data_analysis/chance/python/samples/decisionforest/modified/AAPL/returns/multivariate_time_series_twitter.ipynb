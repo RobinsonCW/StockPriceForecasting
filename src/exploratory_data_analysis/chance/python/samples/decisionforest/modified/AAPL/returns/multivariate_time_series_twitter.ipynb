{
 "cells": [
  {
   "cell_type": "code",
   "execution_count": 884,
   "metadata": {},
   "outputs": [
    {
     "name": "stdout",
     "output_type": "stream",
     "text": [
      "The nb_black extension is already loaded. To reload it, use:\n",
      "  %reload_ext nb_black\n"
     ]
    },
    {
     "data": {
      "application/javascript": "\n            setTimeout(function() {\n                var nbb_cell_id = 884;\n                var nbb_unformatted_code = \"from IPython.core.debugger import set_trace\\n\\n%load_ext nb_black\\n%matplotlib inline\\n\\n# import pandas as pd\\n# import numpy as np\\n# import os\\n# import matplotlib.pyplot as plt\\n# import time\\n\\nimport IPython\\nimport IPython.display\\nimport matplotlib as mpl\\nimport matplotlib.pyplot as plt\\nimport numpy as np\\nimport pandas as pd\\nimport seaborn as sns\\nimport tensorflow as tf\\n\\nfrom pathlib import Path\\n\\nmpl.rcParams['figure.figsize'] = (8, 6)\\nmpl.rcParams['axes.grid'] = False\\n\\nnp.random.seed(42)\\ntf.random.set_seed(42)\\n\\nplt.style.use(style=\\\"seaborn\\\")\\n# plt.rcParams['figure.dpi'] = 400\\nsns.set_style('whitegrid')\";\n                var nbb_formatted_code = \"from IPython.core.debugger import set_trace\\n\\n%load_ext nb_black\\n%matplotlib inline\\n\\n# import pandas as pd\\n# import numpy as np\\n# import os\\n# import matplotlib.pyplot as plt\\n# import time\\n\\nimport IPython\\nimport IPython.display\\nimport matplotlib as mpl\\nimport matplotlib.pyplot as plt\\nimport numpy as np\\nimport pandas as pd\\nimport seaborn as sns\\nimport tensorflow as tf\\n\\nfrom pathlib import Path\\n\\nmpl.rcParams[\\\"figure.figsize\\\"] = (8, 6)\\nmpl.rcParams[\\\"axes.grid\\\"] = False\\n\\nnp.random.seed(42)\\ntf.random.set_seed(42)\\n\\nplt.style.use(style=\\\"seaborn\\\")\\n# plt.rcParams['figure.dpi'] = 400\\nsns.set_style(\\\"whitegrid\\\")\";\n                var nbb_cells = Jupyter.notebook.get_cells();\n                for (var i = 0; i < nbb_cells.length; ++i) {\n                    if (nbb_cells[i].input_prompt_number == nbb_cell_id) {\n                        if (nbb_cells[i].get_text() == nbb_unformatted_code) {\n                             nbb_cells[i].set_text(nbb_formatted_code);\n                        }\n                        break;\n                    }\n                }\n            }, 500);\n            ",
      "text/plain": [
       "<IPython.core.display.Javascript object>"
      ]
     },
     "metadata": {},
     "output_type": "display_data"
    }
   ],
   "source": [
    "from IPython.core.debugger import set_trace\n",
    "\n",
    "%load_ext nb_black\n",
    "%matplotlib inline\n",
    "\n",
    "# import pandas as pd\n",
    "# import numpy as np\n",
    "# import os\n",
    "# import matplotlib.pyplot as plt\n",
    "# import time\n",
    "\n",
    "import IPython\n",
    "import IPython.display\n",
    "import matplotlib as mpl\n",
    "import matplotlib.pyplot as plt\n",
    "import numpy as np\n",
    "import pandas as pd\n",
    "import seaborn as sns\n",
    "import tensorflow as tf\n",
    "\n",
    "from pathlib import Path\n",
    "\n",
    "mpl.rcParams['figure.figsize'] = (8, 6)\n",
    "mpl.rcParams['axes.grid'] = False\n",
    "\n",
    "np.random.seed(42)\n",
    "tf.random.set_seed(42)\n",
    "\n",
    "plt.style.use(style=\"seaborn\")\n",
    "# plt.rcParams['figure.dpi'] = 400\n",
    "sns.set_style('whitegrid')\n"
   ]
  },
  {
   "cell_type": "code",
   "execution_count": 885,
   "metadata": {},
   "outputs": [
    {
     "name": "stdout",
     "output_type": "stream",
     "text": [
      "Using GPU\n"
     ]
    },
    {
     "data": {
      "application/javascript": "\n            setTimeout(function() {\n                var nbb_cell_id = 885;\n                var nbb_unformatted_code = \"gpu_devices = tf.config.experimental.list_physical_devices('GPU')\\nif gpu_devices:\\n    print('Using GPU')\\n    tf.config.experimental.set_memory_growth(gpu_devices[0], True)\\nelse:\\n    print('Using CPU')\";\n                var nbb_formatted_code = \"gpu_devices = tf.config.experimental.list_physical_devices(\\\"GPU\\\")\\nif gpu_devices:\\n    print(\\\"Using GPU\\\")\\n    tf.config.experimental.set_memory_growth(gpu_devices[0], True)\\nelse:\\n    print(\\\"Using CPU\\\")\";\n                var nbb_cells = Jupyter.notebook.get_cells();\n                for (var i = 0; i < nbb_cells.length; ++i) {\n                    if (nbb_cells[i].input_prompt_number == nbb_cell_id) {\n                        if (nbb_cells[i].get_text() == nbb_unformatted_code) {\n                             nbb_cells[i].set_text(nbb_formatted_code);\n                        }\n                        break;\n                    }\n                }\n            }, 500);\n            ",
      "text/plain": [
       "<IPython.core.display.Javascript object>"
      ]
     },
     "metadata": {},
     "output_type": "display_data"
    }
   ],
   "source": [
    "gpu_devices = tf.config.experimental.list_physical_devices('GPU')\n",
    "if gpu_devices:\n",
    "    print('Using GPU')\n",
    "    tf.config.experimental.set_memory_growth(gpu_devices[0], True)\n",
    "else:\n",
    "    print('Using CPU')"
   ]
  },
  {
   "cell_type": "code",
   "execution_count": 886,
   "metadata": {},
   "outputs": [
    {
     "name": "stdout",
     "output_type": "stream",
     "text": [
      "Sun Jul 10 02:37:05 2022       \n",
      "+-----------------------------------------------------------------------------+\n",
      "| NVIDIA-SMI 515.48.07    Driver Version: 516.40       CUDA Version: 11.7     |\n",
      "|-------------------------------+----------------------+----------------------+\n",
      "| GPU  Name        Persistence-M| Bus-Id        Disp.A | Volatile Uncorr. ECC |\n",
      "| Fan  Temp  Perf  Pwr:Usage/Cap|         Memory-Usage | GPU-Util  Compute M. |\n",
      "|                               |                      |               MIG M. |\n",
      "|===============================+======================+======================|\n",
      "|   0  NVIDIA GeForce ...  On   | 00000000:01:00.0  On |                  N/A |\n",
      "|  0%   57C    P8    18W / 200W |   2689MiB /  4096MiB |      7%      Default |\n",
      "|                               |                      |                  N/A |\n",
      "+-------------------------------+----------------------+----------------------+\n",
      "                                                                               \n",
      "+-----------------------------------------------------------------------------+\n",
      "| Processes:                                                                  |\n",
      "|  GPU   GI   CI        PID   Type   Process name                  GPU Memory |\n",
      "|        ID   ID                                                   Usage      |\n",
      "|=============================================================================|\n",
      "|    0   N/A  N/A     14267      C   /python3.8                      N/A      |\n",
      "|    0   N/A  N/A     19939      C   /python3.8                      N/A      |\n",
      "+-----------------------------------------------------------------------------+\n"
     ]
    },
    {
     "data": {
      "application/javascript": "\n            setTimeout(function() {\n                var nbb_cell_id = 886;\n                var nbb_unformatted_code = \"!nvidia-smi\";\n                var nbb_formatted_code = \"!nvidia-smi\";\n                var nbb_cells = Jupyter.notebook.get_cells();\n                for (var i = 0; i < nbb_cells.length; ++i) {\n                    if (nbb_cells[i].input_prompt_number == nbb_cell_id) {\n                        if (nbb_cells[i].get_text() == nbb_unformatted_code) {\n                             nbb_cells[i].set_text(nbb_formatted_code);\n                        }\n                        break;\n                    }\n                }\n            }, 500);\n            ",
      "text/plain": [
       "<IPython.core.display.Javascript object>"
      ]
     },
     "metadata": {},
     "output_type": "display_data"
    }
   ],
   "source": [
    "!nvidia-smi"
   ]
  },
  {
   "cell_type": "code",
   "execution_count": 887,
   "metadata": {},
   "outputs": [
    {
     "data": {
      "application/javascript": "\n            setTimeout(function() {\n                var nbb_cell_id = 887;\n                var nbb_unformatted_code = \"# csv_path = \\\"/app/StockPricePredictions/data/alphavantage/time_series_daily_adjusted/AAPL/AAPL_WITH_TWINT_FINBERT_SA.csv\\\"\\n# csv_path = \\\"/app/StockPricePredictions/data/alphavantage/time_series_daily_adjusted/AMZN/AMZN_WITH_TWINT_FINBERT_SA.csv\\\"\\n\\ncsv_path = \\\"/app/StockPricePredictions/data/alphavantage/time_series_daily_adjusted/MSFT/MSFT_WITH_TWINT_FINBERT_SA.csv\\\"\";\n                var nbb_formatted_code = \"# csv_path = \\\"/app/StockPricePredictions/data/alphavantage/time_series_daily_adjusted/AAPL/AAPL_WITH_TWINT_FINBERT_SA.csv\\\"\\n# csv_path = \\\"/app/StockPricePredictions/data/alphavantage/time_series_daily_adjusted/AMZN/AMZN_WITH_TWINT_FINBERT_SA.csv\\\"\\n\\ncsv_path = \\\"/app/StockPricePredictions/data/alphavantage/time_series_daily_adjusted/MSFT/MSFT_WITH_TWINT_FINBERT_SA.csv\\\"\";\n                var nbb_cells = Jupyter.notebook.get_cells();\n                for (var i = 0; i < nbb_cells.length; ++i) {\n                    if (nbb_cells[i].input_prompt_number == nbb_cell_id) {\n                        if (nbb_cells[i].get_text() == nbb_unformatted_code) {\n                             nbb_cells[i].set_text(nbb_formatted_code);\n                        }\n                        break;\n                    }\n                }\n            }, 500);\n            ",
      "text/plain": [
       "<IPython.core.display.Javascript object>"
      ]
     },
     "metadata": {},
     "output_type": "display_data"
    }
   ],
   "source": [
    "# csv_path = \"/app/StockPricePredictions/data/alphavantage/time_series_daily_adjusted/AAPL/AAPL_WITH_TWINT_FINBERT_SA.csv\"\n",
    "# csv_path = \"/app/StockPricePredictions/data/alphavantage/time_series_daily_adjusted/AMZN/AMZN_WITH_TWINT_FINBERT_SA.csv\"\n",
    "\n",
    "csv_path = \"/app/StockPricePredictions/data/alphavantage/time_series_daily_adjusted/MSFT/MSFT_WITH_TWINT_FINBERT_SA.csv\""
   ]
  },
  {
   "cell_type": "code",
   "execution_count": 888,
   "metadata": {},
   "outputs": [
    {
     "data": {
      "application/javascript": "\n            setTimeout(function() {\n                var nbb_cell_id = 888;\n                var nbb_unformatted_code = \"df = pd.read_csv(csv_path)\\ndf.sort_values(by=[\\\"date\\\"], ascending=True, inplace=True)\\ndf.reset_index(drop=True, inplace=True)\\n# Slice [start:stop:step], starting from index 5 take every 6th record.\\n# df = df[5::6]\\n\\ndate_time = pd.to_datetime(df.pop('date'))\\n# title = df.pop('tweet')\\n\\n# df = df[[\\\"increase\\\", \\\"log_return\\\", \\\"positive\\\"]]  \\n\\ndf.index = date_time\";\n                var nbb_formatted_code = \"df = pd.read_csv(csv_path)\\ndf.sort_values(by=[\\\"date\\\"], ascending=True, inplace=True)\\ndf.reset_index(drop=True, inplace=True)\\n# Slice [start:stop:step], starting from index 5 take every 6th record.\\n# df = df[5::6]\\n\\ndate_time = pd.to_datetime(df.pop(\\\"date\\\"))\\n# title = df.pop('tweet')\\n\\n# df = df[[\\\"increase\\\", \\\"log_return\\\", \\\"positive\\\"]]\\n\\ndf.index = date_time\";\n                var nbb_cells = Jupyter.notebook.get_cells();\n                for (var i = 0; i < nbb_cells.length; ++i) {\n                    if (nbb_cells[i].input_prompt_number == nbb_cell_id) {\n                        if (nbb_cells[i].get_text() == nbb_unformatted_code) {\n                             nbb_cells[i].set_text(nbb_formatted_code);\n                        }\n                        break;\n                    }\n                }\n            }, 500);\n            ",
      "text/plain": [
       "<IPython.core.display.Javascript object>"
      ]
     },
     "metadata": {},
     "output_type": "display_data"
    }
   ],
   "source": [
    "df = pd.read_csv(csv_path)\n",
    "df.sort_values(by=[\"date\"], ascending=True, inplace=True)\n",
    "df.reset_index(drop=True, inplace=True)\n",
    "# Slice [start:stop:step], starting from index 5 take every 6th record.\n",
    "# df = df[5::6]\n",
    "\n",
    "date_time = pd.to_datetime(df.pop('date'))\n",
    "# title = df.pop('tweet')\n",
    "\n",
    "# df = df[[\"increase\", \"log_return\", \"positive\"]]  \n",
    "\n",
    "df.index = date_time"
   ]
  },
  {
   "cell_type": "code",
   "execution_count": 889,
   "metadata": {},
   "outputs": [
    {
     "name": "stdout",
     "output_type": "stream",
     "text": [
      "<class 'pandas.core.frame.DataFrame'>\n",
      "DatetimeIndex: 3064 entries, 2010-01-04 to 2022-03-04\n",
      "Data columns (total 16 columns):\n",
      " #   Column                Non-Null Count  Dtype  \n",
      "---  ------                --------------  -----  \n",
      " 0   1. open               3064 non-null   float64\n",
      " 1   2. high               3064 non-null   float64\n",
      " 2   3. low                3064 non-null   float64\n",
      " 3   4. close              3064 non-null   float64\n",
      " 4   5. adjusted close     3064 non-null   float64\n",
      " 5   6. volume             3064 non-null   float64\n",
      " 6   7. dividend amount    3064 non-null   float64\n",
      " 7   8. split coefficient  3064 non-null   float64\n",
      " 8   date_time             3064 non-null   object \n",
      " 9   day_of_week           3064 non-null   int64  \n",
      " 10  return                3064 non-null   float64\n",
      " 11  increase              3064 non-null   float64\n",
      " 12  log_return            3064 non-null   float64\n",
      " 13  negative              3064 non-null   float64\n",
      " 14  nuetral               3064 non-null   float64\n",
      " 15  positive              3064 non-null   float64\n",
      "dtypes: float64(14), int64(1), object(1)\n",
      "memory usage: 406.9+ KB\n"
     ]
    },
    {
     "data": {
      "application/javascript": "\n            setTimeout(function() {\n                var nbb_cell_id = 889;\n                var nbb_unformatted_code = \"df.info()\";\n                var nbb_formatted_code = \"df.info()\";\n                var nbb_cells = Jupyter.notebook.get_cells();\n                for (var i = 0; i < nbb_cells.length; ++i) {\n                    if (nbb_cells[i].input_prompt_number == nbb_cell_id) {\n                        if (nbb_cells[i].get_text() == nbb_unformatted_code) {\n                             nbb_cells[i].set_text(nbb_formatted_code);\n                        }\n                        break;\n                    }\n                }\n            }, 500);\n            ",
      "text/plain": [
       "<IPython.core.display.Javascript object>"
      ]
     },
     "metadata": {},
     "output_type": "display_data"
    }
   ],
   "source": [
    "df.info()"
   ]
  },
  {
   "cell_type": "code",
   "execution_count": 890,
   "metadata": {},
   "outputs": [
    {
     "data": {
      "text/html": [
       "<div>\n",
       "<style scoped>\n",
       "    .dataframe tbody tr th:only-of-type {\n",
       "        vertical-align: middle;\n",
       "    }\n",
       "\n",
       "    .dataframe tbody tr th {\n",
       "        vertical-align: top;\n",
       "    }\n",
       "\n",
       "    .dataframe thead th {\n",
       "        text-align: right;\n",
       "    }\n",
       "</style>\n",
       "<table border=\"1\" class=\"dataframe\">\n",
       "  <thead>\n",
       "    <tr style=\"text-align: right;\">\n",
       "      <th></th>\n",
       "      <th>1. open</th>\n",
       "      <th>2. high</th>\n",
       "      <th>3. low</th>\n",
       "      <th>4. close</th>\n",
       "      <th>5. adjusted close</th>\n",
       "      <th>6. volume</th>\n",
       "      <th>7. dividend amount</th>\n",
       "      <th>8. split coefficient</th>\n",
       "      <th>day_of_week</th>\n",
       "      <th>return</th>\n",
       "      <th>increase</th>\n",
       "      <th>log_return</th>\n",
       "      <th>negative</th>\n",
       "      <th>nuetral</th>\n",
       "      <th>positive</th>\n",
       "    </tr>\n",
       "  </thead>\n",
       "  <tbody>\n",
       "    <tr>\n",
       "      <th>count</th>\n",
       "      <td>3064.000000</td>\n",
       "      <td>3064.000000</td>\n",
       "      <td>3064.000000</td>\n",
       "      <td>3064.000000</td>\n",
       "      <td>3064.000000</td>\n",
       "      <td>3.064000e+03</td>\n",
       "      <td>3064.000000</td>\n",
       "      <td>3064.0</td>\n",
       "      <td>3064.000000</td>\n",
       "      <td>3064.000000</td>\n",
       "      <td>3064.000000</td>\n",
       "      <td>3064.000000</td>\n",
       "      <td>3064.000000</td>\n",
       "      <td>3064.000000</td>\n",
       "      <td>3064.000000</td>\n",
       "    </tr>\n",
       "    <tr>\n",
       "      <th>mean</th>\n",
       "      <td>89.108658</td>\n",
       "      <td>89.941401</td>\n",
       "      <td>88.235320</td>\n",
       "      <td>89.135199</td>\n",
       "      <td>84.711218</td>\n",
       "      <td>3.850385e+07</td>\n",
       "      <td>0.005597</td>\n",
       "      <td>1.0</td>\n",
       "      <td>2.022846</td>\n",
       "      <td>0.000941</td>\n",
       "      <td>0.524804</td>\n",
       "      <td>0.000815</td>\n",
       "      <td>0.113837</td>\n",
       "      <td>0.668409</td>\n",
       "      <td>0.149216</td>\n",
       "    </tr>\n",
       "    <tr>\n",
       "      <th>std</th>\n",
       "      <td>79.912787</td>\n",
       "      <td>80.696880</td>\n",
       "      <td>79.067978</td>\n",
       "      <td>79.924677</td>\n",
       "      <td>81.182964</td>\n",
       "      <td>2.186157e+07</td>\n",
       "      <td>0.047356</td>\n",
       "      <td>0.0</td>\n",
       "      <td>1.399408</td>\n",
       "      <td>0.015854</td>\n",
       "      <td>0.499466</td>\n",
       "      <td>0.015857</td>\n",
       "      <td>0.170261</td>\n",
       "      <td>0.267734</td>\n",
       "      <td>0.149886</td>\n",
       "    </tr>\n",
       "    <tr>\n",
       "      <th>min</th>\n",
       "      <td>23.090000</td>\n",
       "      <td>23.320000</td>\n",
       "      <td>22.730000</td>\n",
       "      <td>23.010000</td>\n",
       "      <td>17.899248</td>\n",
       "      <td>7.425503e+06</td>\n",
       "      <td>0.000000</td>\n",
       "      <td>1.0</td>\n",
       "      <td>0.000000</td>\n",
       "      <td>-0.147390</td>\n",
       "      <td>0.000000</td>\n",
       "      <td>-0.159453</td>\n",
       "      <td>0.000000</td>\n",
       "      <td>0.000000</td>\n",
       "      <td>0.000000</td>\n",
       "    </tr>\n",
       "    <tr>\n",
       "      <th>25%</th>\n",
       "      <td>30.982500</td>\n",
       "      <td>31.240000</td>\n",
       "      <td>30.710000</td>\n",
       "      <td>30.997250</td>\n",
       "      <td>25.351937</td>\n",
       "      <td>2.390472e+07</td>\n",
       "      <td>0.000000</td>\n",
       "      <td>1.0</td>\n",
       "      <td>1.000000</td>\n",
       "      <td>-0.006695</td>\n",
       "      <td>0.000000</td>\n",
       "      <td>-0.006717</td>\n",
       "      <td>0.021269</td>\n",
       "      <td>0.562505</td>\n",
       "      <td>0.044797</td>\n",
       "    </tr>\n",
       "    <tr>\n",
       "      <th>50%</th>\n",
       "      <td>51.995000</td>\n",
       "      <td>52.440000</td>\n",
       "      <td>51.475000</td>\n",
       "      <td>52.077500</td>\n",
       "      <td>47.272908</td>\n",
       "      <td>3.278814e+07</td>\n",
       "      <td>0.000000</td>\n",
       "      <td>1.0</td>\n",
       "      <td>2.000000</td>\n",
       "      <td>0.000684</td>\n",
       "      <td>1.000000</td>\n",
       "      <td>0.000684</td>\n",
       "      <td>0.039156</td>\n",
       "      <td>0.750256</td>\n",
       "      <td>0.096959</td>\n",
       "    </tr>\n",
       "    <tr>\n",
       "      <th>75%</th>\n",
       "      <td>113.005000</td>\n",
       "      <td>113.707500</td>\n",
       "      <td>111.762500</td>\n",
       "      <td>112.850000</td>\n",
       "      <td>108.891906</td>\n",
       "      <td>4.780218e+07</td>\n",
       "      <td>0.000000</td>\n",
       "      <td>1.0</td>\n",
       "      <td>3.000000</td>\n",
       "      <td>0.008862</td>\n",
       "      <td>1.000000</td>\n",
       "      <td>0.008823</td>\n",
       "      <td>0.131506</td>\n",
       "      <td>0.877146</td>\n",
       "      <td>0.210162</td>\n",
       "    </tr>\n",
       "    <tr>\n",
       "      <th>max</th>\n",
       "      <td>344.620000</td>\n",
       "      <td>349.670000</td>\n",
       "      <td>342.200000</td>\n",
       "      <td>343.110000</td>\n",
       "      <td>342.401190</td>\n",
       "      <td>3.193179e+08</td>\n",
       "      <td>0.620000</td>\n",
       "      <td>1.0</td>\n",
       "      <td>4.000000</td>\n",
       "      <td>0.142169</td>\n",
       "      <td>1.000000</td>\n",
       "      <td>0.132929</td>\n",
       "      <td>0.973686</td>\n",
       "      <td>0.950961</td>\n",
       "      <td>0.951188</td>\n",
       "    </tr>\n",
       "  </tbody>\n",
       "</table>\n",
       "</div>"
      ],
      "text/plain": [
       "           1. open      2. high       3. low     4. close  5. adjusted close  \\\n",
       "count  3064.000000  3064.000000  3064.000000  3064.000000        3064.000000   \n",
       "mean     89.108658    89.941401    88.235320    89.135199          84.711218   \n",
       "std      79.912787    80.696880    79.067978    79.924677          81.182964   \n",
       "min      23.090000    23.320000    22.730000    23.010000          17.899248   \n",
       "25%      30.982500    31.240000    30.710000    30.997250          25.351937   \n",
       "50%      51.995000    52.440000    51.475000    52.077500          47.272908   \n",
       "75%     113.005000   113.707500   111.762500   112.850000         108.891906   \n",
       "max     344.620000   349.670000   342.200000   343.110000         342.401190   \n",
       "\n",
       "          6. volume  7. dividend amount  8. split coefficient  day_of_week  \\\n",
       "count  3.064000e+03         3064.000000                3064.0  3064.000000   \n",
       "mean   3.850385e+07            0.005597                   1.0     2.022846   \n",
       "std    2.186157e+07            0.047356                   0.0     1.399408   \n",
       "min    7.425503e+06            0.000000                   1.0     0.000000   \n",
       "25%    2.390472e+07            0.000000                   1.0     1.000000   \n",
       "50%    3.278814e+07            0.000000                   1.0     2.000000   \n",
       "75%    4.780218e+07            0.000000                   1.0     3.000000   \n",
       "max    3.193179e+08            0.620000                   1.0     4.000000   \n",
       "\n",
       "            return     increase   log_return     negative      nuetral  \\\n",
       "count  3064.000000  3064.000000  3064.000000  3064.000000  3064.000000   \n",
       "mean      0.000941     0.524804     0.000815     0.113837     0.668409   \n",
       "std       0.015854     0.499466     0.015857     0.170261     0.267734   \n",
       "min      -0.147390     0.000000    -0.159453     0.000000     0.000000   \n",
       "25%      -0.006695     0.000000    -0.006717     0.021269     0.562505   \n",
       "50%       0.000684     1.000000     0.000684     0.039156     0.750256   \n",
       "75%       0.008862     1.000000     0.008823     0.131506     0.877146   \n",
       "max       0.142169     1.000000     0.132929     0.973686     0.950961   \n",
       "\n",
       "          positive  \n",
       "count  3064.000000  \n",
       "mean      0.149216  \n",
       "std       0.149886  \n",
       "min       0.000000  \n",
       "25%       0.044797  \n",
       "50%       0.096959  \n",
       "75%       0.210162  \n",
       "max       0.951188  "
      ]
     },
     "execution_count": 890,
     "metadata": {},
     "output_type": "execute_result"
    },
    {
     "data": {
      "application/javascript": "\n            setTimeout(function() {\n                var nbb_cell_id = 890;\n                var nbb_unformatted_code = \"df.describe()\";\n                var nbb_formatted_code = \"df.describe()\";\n                var nbb_cells = Jupyter.notebook.get_cells();\n                for (var i = 0; i < nbb_cells.length; ++i) {\n                    if (nbb_cells[i].input_prompt_number == nbb_cell_id) {\n                        if (nbb_cells[i].get_text() == nbb_unformatted_code) {\n                             nbb_cells[i].set_text(nbb_formatted_code);\n                        }\n                        break;\n                    }\n                }\n            }, 500);\n            ",
      "text/plain": [
       "<IPython.core.display.Javascript object>"
      ]
     },
     "metadata": {},
     "output_type": "display_data"
    }
   ],
   "source": [
    "df.describe()"
   ]
  },
  {
   "cell_type": "code",
   "execution_count": 891,
   "metadata": {},
   "outputs": [
    {
     "data": {
      "image/png": "[encoded data removed]",
      "text/plain": [
       "<Figure size 1152x432 with 1 Axes>"
      ]
     },
     "metadata": {},
     "output_type": "display_data"
    },
    {
     "data": {
      "application/javascript": "\n            setTimeout(function() {\n                var nbb_cell_id = 891;\n                var nbb_unformatted_code = \"plt.figure(1, figsize=(16, 6))\\n_ = plt.plot(df['5. adjusted close'])\";\n                var nbb_formatted_code = \"plt.figure(1, figsize=(16, 6))\\n_ = plt.plot(df[\\\"5. adjusted close\\\"])\";\n                var nbb_cells = Jupyter.notebook.get_cells();\n                for (var i = 0; i < nbb_cells.length; ++i) {\n                    if (nbb_cells[i].input_prompt_number == nbb_cell_id) {\n                        if (nbb_cells[i].get_text() == nbb_unformatted_code) {\n                             nbb_cells[i].set_text(nbb_formatted_code);\n                        }\n                        break;\n                    }\n                }\n            }, 500);\n            ",
      "text/plain": [
       "<IPython.core.display.Javascript object>"
      ]
     },
     "metadata": {},
     "output_type": "display_data"
    }
   ],
   "source": [
    "plt.figure(1, figsize=(16, 6))\n",
    "_ = plt.plot(df['5. adjusted close'])"
   ]
  },
  {
   "cell_type": "markdown",
   "metadata": {},
   "source": [
    "Calculate the percentage change.\n",
    "\n",
    "The reason for using pct_change instead of the prices is the benefit of normalization as we can measure all variables in a comparable metric. Also returns have more manageable statistical properties than prices such as stationarity, as in most cases we don't have stationary prices but we can have stationary returns.\n",
    "\n",
    "A stationary time series is one where statistical properties such as mean, variance, correlation, etc are constant over time.\n",
    "For more details on stationarity: https://en.wikipedia.org/wiki/Stationary_process"
   ]
  },
  {
   "cell_type": "markdown",
   "metadata": {},
   "source": [
    "Calculate the log returns.\n",
    "\n",
    "Why use log returns: https://quantivity.wordpress.com/2011/02/21/why-log-returns/"
   ]
  },
  {
   "cell_type": "code",
   "execution_count": 892,
   "metadata": {},
   "outputs": [
    {
     "data": {
      "text/plain": [
       "[<matplotlib.lines.Line2D at 0x7f8608c63340>]"
      ]
     },
     "execution_count": 892,
     "metadata": {},
     "output_type": "execute_result"
    },
    {
     "data": {
      "image/png": "[encoded data removed]",
      "text/plain": [
       "<Figure size 1152x288 with 1 Axes>"
      ]
     },
     "metadata": {},
     "output_type": "display_data"
    },
    {
     "data": {
      "application/javascript": "\n            setTimeout(function() {\n                var nbb_cell_id = 892;\n                var nbb_unformatted_code = \"plt.figure(1, figsize=(16, 4))\\nplt.plot(df.log_return)\";\n                var nbb_formatted_code = \"plt.figure(1, figsize=(16, 4))\\nplt.plot(df.log_return)\";\n                var nbb_cells = Jupyter.notebook.get_cells();\n                for (var i = 0; i < nbb_cells.length; ++i) {\n                    if (nbb_cells[i].input_prompt_number == nbb_cell_id) {\n                        if (nbb_cells[i].get_text() == nbb_unformatted_code) {\n                             nbb_cells[i].set_text(nbb_formatted_code);\n                        }\n                        break;\n                    }\n                }\n            }, 500);\n            ",
      "text/plain": [
       "<IPython.core.display.Javascript object>"
      ]
     },
     "metadata": {},
     "output_type": "display_data"
    }
   ],
   "source": [
    "plt.figure(1, figsize=(16, 4))\n",
    "plt.plot(df.log_return)"
   ]
  },
  {
   "cell_type": "code",
   "execution_count": 893,
   "metadata": {},
   "outputs": [
    {
     "name": "stdout",
     "output_type": "stream",
     "text": [
      "<class 'pandas.core.frame.DataFrame'>\n",
      "DatetimeIndex: 3064 entries, 2010-01-04 to 2022-03-04\n",
      "Data columns (total 16 columns):\n",
      " #   Column                Non-Null Count  Dtype  \n",
      "---  ------                --------------  -----  \n",
      " 0   1. open               3064 non-null   float64\n",
      " 1   2. high               3064 non-null   float64\n",
      " 2   3. low                3064 non-null   float64\n",
      " 3   4. close              3064 non-null   float64\n",
      " 4   5. adjusted close     3064 non-null   float64\n",
      " 5   6. volume             3064 non-null   float64\n",
      " 6   7. dividend amount    3064 non-null   float64\n",
      " 7   8. split coefficient  3064 non-null   float64\n",
      " 8   date_time             3064 non-null   object \n",
      " 9   day_of_week           3064 non-null   int64  \n",
      " 10  return                3064 non-null   float64\n",
      " 11  increase              3064 non-null   float64\n",
      " 12  log_return            3064 non-null   float64\n",
      " 13  negative              3064 non-null   float64\n",
      " 14  nuetral               3064 non-null   float64\n",
      " 15  positive              3064 non-null   float64\n",
      "dtypes: float64(14), int64(1), object(1)\n",
      "memory usage: 406.9+ KB\n"
     ]
    },
    {
     "data": {
      "application/javascript": "\n            setTimeout(function() {\n                var nbb_cell_id = 893;\n                var nbb_unformatted_code = \"df.info()\";\n                var nbb_formatted_code = \"df.info()\";\n                var nbb_cells = Jupyter.notebook.get_cells();\n                for (var i = 0; i < nbb_cells.length; ++i) {\n                    if (nbb_cells[i].input_prompt_number == nbb_cell_id) {\n                        if (nbb_cells[i].get_text() == nbb_unformatted_code) {\n                             nbb_cells[i].set_text(nbb_formatted_code);\n                        }\n                        break;\n                    }\n                }\n            }, 500);\n            ",
      "text/plain": [
       "<IPython.core.display.Javascript object>"
      ]
     },
     "metadata": {},
     "output_type": "display_data"
    }
   ],
   "source": [
    "df.info()"
   ]
  },
  {
   "cell_type": "code",
   "execution_count": 894,
   "metadata": {},
   "outputs": [
    {
     "data": {
      "application/javascript": "\n            setTimeout(function() {\n                var nbb_cell_id = 894;\n                var nbb_unformatted_code = \"feature_list = [\\\"increase\\\", \\\"log_return\\\", \\\"positive\\\"]\\n\\nX = df[feature_list].values\";\n                var nbb_formatted_code = \"feature_list = [\\\"increase\\\", \\\"log_return\\\", \\\"positive\\\"]\\n\\nX = df[feature_list].values\";\n                var nbb_cells = Jupyter.notebook.get_cells();\n                for (var i = 0; i < nbb_cells.length; ++i) {\n                    if (nbb_cells[i].input_prompt_number == nbb_cell_id) {\n                        if (nbb_cells[i].get_text() == nbb_unformatted_code) {\n                             nbb_cells[i].set_text(nbb_formatted_code);\n                        }\n                        break;\n                    }\n                }\n            }, 500);\n            ",
      "text/plain": [
       "<IPython.core.display.Javascript object>"
      ]
     },
     "metadata": {},
     "output_type": "display_data"
    }
   ],
   "source": [
    "feature_list = [\"increase\", \"log_return\", \"positive\"]\n",
    "\n",
    "X = df[feature_list].values\n",
    "\n"
   ]
  },
  {
   "cell_type": "code",
   "execution_count": 895,
   "metadata": {},
   "outputs": [
    {
     "data": {
      "application/javascript": "\n            setTimeout(function() {\n                var nbb_cell_id = 895;\n                var nbb_unformatted_code = \"from sklearn.preprocessing import MinMaxScaler\";\n                var nbb_formatted_code = \"from sklearn.preprocessing import MinMaxScaler\";\n                var nbb_cells = Jupyter.notebook.get_cells();\n                for (var i = 0; i < nbb_cells.length; ++i) {\n                    if (nbb_cells[i].input_prompt_number == nbb_cell_id) {\n                        if (nbb_cells[i].get_text() == nbb_unformatted_code) {\n                             nbb_cells[i].set_text(nbb_formatted_code);\n                        }\n                        break;\n                    }\n                }\n            }, 500);\n            ",
      "text/plain": [
       "<IPython.core.display.Javascript object>"
      ]
     },
     "metadata": {},
     "output_type": "display_data"
    }
   ],
   "source": [
    "from sklearn.preprocessing import MinMaxScaler"
   ]
  },
  {
   "cell_type": "code",
   "execution_count": 896,
   "metadata": {},
   "outputs": [
    {
     "data": {
      "application/javascript": "\n            setTimeout(function() {\n                var nbb_cell_id = 896;\n                var nbb_unformatted_code = \"scaler = MinMaxScaler(feature_range=(0, 1)).fit(X)\\nX_scaled = scaler.transform(X)\";\n                var nbb_formatted_code = \"scaler = MinMaxScaler(feature_range=(0, 1)).fit(X)\\nX_scaled = scaler.transform(X)\";\n                var nbb_cells = Jupyter.notebook.get_cells();\n                for (var i = 0; i < nbb_cells.length; ++i) {\n                    if (nbb_cells[i].input_prompt_number == nbb_cell_id) {\n                        if (nbb_cells[i].get_text() == nbb_unformatted_code) {\n                             nbb_cells[i].set_text(nbb_formatted_code);\n                        }\n                        break;\n                    }\n                }\n            }, 500);\n            ",
      "text/plain": [
       "<IPython.core.display.Javascript object>"
      ]
     },
     "metadata": {},
     "output_type": "display_data"
    }
   ],
   "source": [
    "scaler = MinMaxScaler(feature_range=(0, 1)).fit(X)\n",
    "X_scaled = scaler.transform(X)"
   ]
  },
  {
   "cell_type": "code",
   "execution_count": 897,
   "metadata": {},
   "outputs": [
    {
     "data": {
      "application/javascript": "\n            setTimeout(function() {\n                var nbb_cell_id = 897;\n                var nbb_unformatted_code = \"y = [x[0] for x in X_scaled]\";\n                var nbb_formatted_code = \"y = [x[0] for x in X_scaled]\";\n                var nbb_cells = Jupyter.notebook.get_cells();\n                for (var i = 0; i < nbb_cells.length; ++i) {\n                    if (nbb_cells[i].input_prompt_number == nbb_cell_id) {\n                        if (nbb_cells[i].get_text() == nbb_unformatted_code) {\n                             nbb_cells[i].set_text(nbb_formatted_code);\n                        }\n                        break;\n                    }\n                }\n            }, 500);\n            ",
      "text/plain": [
       "<IPython.core.display.Javascript object>"
      ]
     },
     "metadata": {},
     "output_type": "display_data"
    }
   ],
   "source": [
    "y = [x[0] for x in X_scaled]"
   ]
  },
  {
   "cell_type": "markdown",
   "metadata": {},
   "source": [
    "#### Train test split"
   ]
  },
  {
   "cell_type": "code",
   "execution_count": 898,
   "metadata": {},
   "outputs": [
    {
     "name": "stdout",
     "output_type": "stream",
     "text": [
      "2757\n"
     ]
    },
    {
     "data": {
      "application/javascript": "\n            setTimeout(function() {\n                var nbb_cell_id = 898;\n                var nbb_unformatted_code = \"split = int(len(X_scaled) * 0.9)\\nprint(split)\";\n                var nbb_formatted_code = \"split = int(len(X_scaled) * 0.9)\\nprint(split)\";\n                var nbb_cells = Jupyter.notebook.get_cells();\n                for (var i = 0; i < nbb_cells.length; ++i) {\n                    if (nbb_cells[i].input_prompt_number == nbb_cell_id) {\n                        if (nbb_cells[i].get_text() == nbb_unformatted_code) {\n                             nbb_cells[i].set_text(nbb_formatted_code);\n                        }\n                        break;\n                    }\n                }\n            }, 500);\n            ",
      "text/plain": [
       "<IPython.core.display.Javascript object>"
      ]
     },
     "metadata": {},
     "output_type": "display_data"
    }
   ],
   "source": [
    "split = int(len(X_scaled) * 0.9)\n",
    "print(split)"
   ]
  },
  {
   "cell_type": "code",
   "execution_count": 899,
   "metadata": {},
   "outputs": [
    {
     "data": {
      "application/javascript": "\n            setTimeout(function() {\n                var nbb_cell_id = 899;\n                var nbb_unformatted_code = \"X_train = X_scaled[:split]\\nX_test = X_scaled[split : len(X_scaled)]\\ny_train = y[:split]\\ny_test = y[split : len(y)]\";\n                var nbb_formatted_code = \"X_train = X_scaled[:split]\\nX_test = X_scaled[split : len(X_scaled)]\\ny_train = y[:split]\\ny_test = y[split : len(y)]\";\n                var nbb_cells = Jupyter.notebook.get_cells();\n                for (var i = 0; i < nbb_cells.length; ++i) {\n                    if (nbb_cells[i].input_prompt_number == nbb_cell_id) {\n                        if (nbb_cells[i].get_text() == nbb_unformatted_code) {\n                             nbb_cells[i].set_text(nbb_formatted_code);\n                        }\n                        break;\n                    }\n                }\n            }, 500);\n            ",
      "text/plain": [
       "<IPython.core.display.Javascript object>"
      ]
     },
     "metadata": {},
     "output_type": "display_data"
    }
   ],
   "source": [
    "X_train = X_scaled[:split]\n",
    "X_test = X_scaled[split : len(X_scaled)]\n",
    "y_train = y[:split]\n",
    "y_test = y[split : len(y)]"
   ]
  },
  {
   "cell_type": "code",
   "execution_count": 900,
   "metadata": {},
   "outputs": [
    {
     "name": "stdout",
     "output_type": "stream",
     "text": [
      "2757\n",
      "307\n"
     ]
    },
    {
     "data": {
      "application/javascript": "\n            setTimeout(function() {\n                var nbb_cell_id = 900;\n                var nbb_unformatted_code = \"print(len(X_train))\\nprint(len(X_test))\";\n                var nbb_formatted_code = \"print(len(X_train))\\nprint(len(X_test))\";\n                var nbb_cells = Jupyter.notebook.get_cells();\n                for (var i = 0; i < nbb_cells.length; ++i) {\n                    if (nbb_cells[i].input_prompt_number == nbb_cell_id) {\n                        if (nbb_cells[i].get_text() == nbb_unformatted_code) {\n                             nbb_cells[i].set_text(nbb_formatted_code);\n                        }\n                        break;\n                    }\n                }\n            }, 500);\n            ",
      "text/plain": [
       "<IPython.core.display.Javascript object>"
      ]
     },
     "metadata": {},
     "output_type": "display_data"
    }
   ],
   "source": [
    "print(len(X_train))\n",
    "print(len(X_test))"
   ]
  },
  {
   "cell_type": "code",
   "execution_count": 901,
   "metadata": {},
   "outputs": [
    {
     "data": {
      "application/javascript": "\n            setTimeout(function() {\n                var nbb_cell_id = 901;\n                var nbb_unformatted_code = \"assert len(X_train) == len(y_train)\\nassert len(X_test) == len(y_test)\";\n                var nbb_formatted_code = \"assert len(X_train) == len(y_train)\\nassert len(X_test) == len(y_test)\";\n                var nbb_cells = Jupyter.notebook.get_cells();\n                for (var i = 0; i < nbb_cells.length; ++i) {\n                    if (nbb_cells[i].input_prompt_number == nbb_cell_id) {\n                        if (nbb_cells[i].get_text() == nbb_unformatted_code) {\n                             nbb_cells[i].set_text(nbb_formatted_code);\n                        }\n                        break;\n                    }\n                }\n            }, 500);\n            ",
      "text/plain": [
       "<IPython.core.display.Javascript object>"
      ]
     },
     "metadata": {},
     "output_type": "display_data"
    }
   ],
   "source": [
    "assert len(X_train) == len(y_train)\n",
    "assert len(X_test) == len(y_test)"
   ]
  },
  {
   "cell_type": "markdown",
   "metadata": {},
   "source": [
    "#### Labeling\n",
    "\n",
    "We want to predict the stock price at a future time. We'll predict the stock price at time t + 1 relative to the stock price at time t."
   ]
  },
  {
   "cell_type": "markdown",
   "metadata": {},
   "source": [
    "As we're going to use an LSTM architecture, we know that it has memory and that it is maintained by setting the time step, basically how many steps in the past we want the LSTM to use.\n",
    "\n",
    "The time step  refers to how many steps in time we want the backpropagation algorithm to use when calculating gradients for weight updates during training.\n",
    "\n",
    "So we can use a method to create both the timestep and the output variable, the t + 1."
   ]
  },
  {
   "cell_type": "code",
   "execution_count": 902,
   "metadata": {},
   "outputs": [
    {
     "data": {
      "application/javascript": "\n            setTimeout(function() {\n                var nbb_cell_id = 902;\n                var nbb_unformatted_code = \"n = 63\\nXtrain = []\\nytrain = []\\nXtest = []\\nytest = []\\nfor i in range(n, len(X_train)):\\n    Xtrain.append(X_train[i - n : i, : X_train.shape[1]])\\n    ytrain.append(y_train[i])  # predict next record\\nfor i in range(n, len(X_test)):\\n    Xtest.append(X_test[i - n : i, : X_test.shape[1]])\\n    ytest.append(y_test[i])  # predict next record\";\n                var nbb_formatted_code = \"n = 63\\nXtrain = []\\nytrain = []\\nXtest = []\\nytest = []\\nfor i in range(n, len(X_train)):\\n    Xtrain.append(X_train[i - n : i, : X_train.shape[1]])\\n    ytrain.append(y_train[i])  # predict next record\\nfor i in range(n, len(X_test)):\\n    Xtest.append(X_test[i - n : i, : X_test.shape[1]])\\n    ytest.append(y_test[i])  # predict next record\";\n                var nbb_cells = Jupyter.notebook.get_cells();\n                for (var i = 0; i < nbb_cells.length; ++i) {\n                    if (nbb_cells[i].input_prompt_number == nbb_cell_id) {\n                        if (nbb_cells[i].get_text() == nbb_unformatted_code) {\n                             nbb_cells[i].set_text(nbb_formatted_code);\n                        }\n                        break;\n                    }\n                }\n            }, 500);\n            ",
      "text/plain": [
       "<IPython.core.display.Javascript object>"
      ]
     },
     "metadata": {},
     "output_type": "display_data"
    }
   ],
   "source": [
    "n = 63\n",
    "Xtrain = []\n",
    "ytrain = []\n",
    "Xtest = []\n",
    "ytest = []\n",
    "for i in range(n, len(X_train)):\n",
    "    Xtrain.append(X_train[i - n : i, : X_train.shape[1]])\n",
    "    ytrain.append(y_train[i])  # predict next record\n",
    "for i in range(n, len(X_test)):\n",
    "    Xtest.append(X_test[i - n : i, : X_test.shape[1]])\n",
    "    ytest.append(y_test[i])  # predict next record"
   ]
  },
  {
   "cell_type": "code",
   "execution_count": 903,
   "metadata": {},
   "outputs": [
    {
     "data": {
      "text/html": [
       "<div>\n",
       "<style scoped>\n",
       "    .dataframe tbody tr th:only-of-type {\n",
       "        vertical-align: middle;\n",
       "    }\n",
       "\n",
       "    .dataframe tbody tr th {\n",
       "        vertical-align: top;\n",
       "    }\n",
       "\n",
       "    .dataframe thead th {\n",
       "        text-align: right;\n",
       "    }\n",
       "</style>\n",
       "<table border=\"1\" class=\"dataframe\">\n",
       "  <thead>\n",
       "    <tr style=\"text-align: right;\">\n",
       "      <th></th>\n",
       "      <th>1. open</th>\n",
       "      <th>2. high</th>\n",
       "      <th>3. low</th>\n",
       "      <th>4. close</th>\n",
       "      <th>5. adjusted close</th>\n",
       "      <th>6. volume</th>\n",
       "      <th>7. dividend amount</th>\n",
       "      <th>8. split coefficient</th>\n",
       "      <th>date_time</th>\n",
       "      <th>day_of_week</th>\n",
       "      <th>return</th>\n",
       "      <th>increase</th>\n",
       "      <th>log_return</th>\n",
       "      <th>negative</th>\n",
       "      <th>nuetral</th>\n",
       "      <th>positive</th>\n",
       "    </tr>\n",
       "    <tr>\n",
       "      <th>date</th>\n",
       "      <th></th>\n",
       "      <th></th>\n",
       "      <th></th>\n",
       "      <th></th>\n",
       "      <th></th>\n",
       "      <th></th>\n",
       "      <th></th>\n",
       "      <th></th>\n",
       "      <th></th>\n",
       "      <th></th>\n",
       "      <th></th>\n",
       "      <th></th>\n",
       "      <th></th>\n",
       "      <th></th>\n",
       "      <th></th>\n",
       "      <th></th>\n",
       "    </tr>\n",
       "  </thead>\n",
       "  <tbody>\n",
       "    <tr>\n",
       "      <th>2010-01-04</th>\n",
       "      <td>30.62</td>\n",
       "      <td>31.10</td>\n",
       "      <td>30.59</td>\n",
       "      <td>30.950</td>\n",
       "      <td>23.857347</td>\n",
       "      <td>38409100.0</td>\n",
       "      <td>0.0</td>\n",
       "      <td>1.0</td>\n",
       "      <td>2010-01-04</td>\n",
       "      <td>0</td>\n",
       "      <td>0.000000</td>\n",
       "      <td>0.0</td>\n",
       "      <td>0.000000</td>\n",
       "      <td>0.000000</td>\n",
       "      <td>0.000000</td>\n",
       "      <td>0.000000</td>\n",
       "    </tr>\n",
       "    <tr>\n",
       "      <th>2010-01-05</th>\n",
       "      <td>30.85</td>\n",
       "      <td>31.10</td>\n",
       "      <td>30.64</td>\n",
       "      <td>30.960</td>\n",
       "      <td>23.865055</td>\n",
       "      <td>49749600.0</td>\n",
       "      <td>0.0</td>\n",
       "      <td>1.0</td>\n",
       "      <td>2010-01-05</td>\n",
       "      <td>1</td>\n",
       "      <td>0.000323</td>\n",
       "      <td>1.0</td>\n",
       "      <td>0.000323</td>\n",
       "      <td>0.000000</td>\n",
       "      <td>0.000000</td>\n",
       "      <td>0.000000</td>\n",
       "    </tr>\n",
       "    <tr>\n",
       "      <th>2010-01-06</th>\n",
       "      <td>30.88</td>\n",
       "      <td>31.08</td>\n",
       "      <td>30.52</td>\n",
       "      <td>30.770</td>\n",
       "      <td>23.718596</td>\n",
       "      <td>58182400.0</td>\n",
       "      <td>0.0</td>\n",
       "      <td>1.0</td>\n",
       "      <td>2010-01-06</td>\n",
       "      <td>2</td>\n",
       "      <td>-0.006137</td>\n",
       "      <td>0.0</td>\n",
       "      <td>-0.006156</td>\n",
       "      <td>0.000000</td>\n",
       "      <td>0.000000</td>\n",
       "      <td>0.000000</td>\n",
       "    </tr>\n",
       "    <tr>\n",
       "      <th>2010-01-07</th>\n",
       "      <td>30.63</td>\n",
       "      <td>30.70</td>\n",
       "      <td>30.19</td>\n",
       "      <td>30.452</td>\n",
       "      <td>23.473471</td>\n",
       "      <td>50559700.0</td>\n",
       "      <td>0.0</td>\n",
       "      <td>1.0</td>\n",
       "      <td>2010-01-07</td>\n",
       "      <td>3</td>\n",
       "      <td>-0.010335</td>\n",
       "      <td>0.0</td>\n",
       "      <td>-0.010389</td>\n",
       "      <td>0.000000</td>\n",
       "      <td>0.000000</td>\n",
       "      <td>0.000000</td>\n",
       "    </tr>\n",
       "    <tr>\n",
       "      <th>2010-01-08</th>\n",
       "      <td>30.28</td>\n",
       "      <td>30.88</td>\n",
       "      <td>30.24</td>\n",
       "      <td>30.660</td>\n",
       "      <td>23.633805</td>\n",
       "      <td>51197400.0</td>\n",
       "      <td>0.0</td>\n",
       "      <td>1.0</td>\n",
       "      <td>2010-01-08</td>\n",
       "      <td>4</td>\n",
       "      <td>0.006830</td>\n",
       "      <td>1.0</td>\n",
       "      <td>0.006807</td>\n",
       "      <td>0.466942</td>\n",
       "      <td>0.512062</td>\n",
       "      <td>0.020996</td>\n",
       "    </tr>\n",
       "  </tbody>\n",
       "</table>\n",
       "</div>"
      ],
      "text/plain": [
       "            1. open  2. high  3. low  4. close  5. adjusted close   6. volume  \\\n",
       "date                                                                            \n",
       "2010-01-04    30.62    31.10   30.59    30.950          23.857347  38409100.0   \n",
       "2010-01-05    30.85    31.10   30.64    30.960          23.865055  49749600.0   \n",
       "2010-01-06    30.88    31.08   30.52    30.770          23.718596  58182400.0   \n",
       "2010-01-07    30.63    30.70   30.19    30.452          23.473471  50559700.0   \n",
       "2010-01-08    30.28    30.88   30.24    30.660          23.633805  51197400.0   \n",
       "\n",
       "            7. dividend amount  8. split coefficient   date_time  day_of_week  \\\n",
       "date                                                                            \n",
       "2010-01-04                 0.0                   1.0  2010-01-04            0   \n",
       "2010-01-05                 0.0                   1.0  2010-01-05            1   \n",
       "2010-01-06                 0.0                   1.0  2010-01-06            2   \n",
       "2010-01-07                 0.0                   1.0  2010-01-07            3   \n",
       "2010-01-08                 0.0                   1.0  2010-01-08            4   \n",
       "\n",
       "              return  increase  log_return  negative   nuetral  positive  \n",
       "date                                                                      \n",
       "2010-01-04  0.000000       0.0    0.000000  0.000000  0.000000  0.000000  \n",
       "2010-01-05  0.000323       1.0    0.000323  0.000000  0.000000  0.000000  \n",
       "2010-01-06 -0.006137       0.0   -0.006156  0.000000  0.000000  0.000000  \n",
       "2010-01-07 -0.010335       0.0   -0.010389  0.000000  0.000000  0.000000  \n",
       "2010-01-08  0.006830       1.0    0.006807  0.466942  0.512062  0.020996  "
      ]
     },
     "execution_count": 903,
     "metadata": {},
     "output_type": "execute_result"
    },
    {
     "data": {
      "application/javascript": "\n            setTimeout(function() {\n                var nbb_cell_id = 903;\n                var nbb_unformatted_code = \"df.head(5)\";\n                var nbb_formatted_code = \"df.head(5)\";\n                var nbb_cells = Jupyter.notebook.get_cells();\n                for (var i = 0; i < nbb_cells.length; ++i) {\n                    if (nbb_cells[i].input_prompt_number == nbb_cell_id) {\n                        if (nbb_cells[i].get_text() == nbb_unformatted_code) {\n                             nbb_cells[i].set_text(nbb_formatted_code);\n                        }\n                        break;\n                    }\n                }\n            }, 500);\n            ",
      "text/plain": [
       "<IPython.core.display.Javascript object>"
      ]
     },
     "metadata": {},
     "output_type": "display_data"
    }
   ],
   "source": [
    "df.head(5)"
   ]
  },
  {
   "cell_type": "code",
   "execution_count": 904,
   "metadata": {},
   "outputs": [
    {
     "data": {
      "text/plain": [
       "1.0"
      ]
     },
     "execution_count": 904,
     "metadata": {},
     "output_type": "execute_result"
    },
    {
     "data": {
      "application/javascript": "\n            setTimeout(function() {\n                var nbb_cell_id = 904;\n                var nbb_unformatted_code = \"ytrain[0]\";\n                var nbb_formatted_code = \"ytrain[0]\";\n                var nbb_cells = Jupyter.notebook.get_cells();\n                for (var i = 0; i < nbb_cells.length; ++i) {\n                    if (nbb_cells[i].input_prompt_number == nbb_cell_id) {\n                        if (nbb_cells[i].get_text() == nbb_unformatted_code) {\n                             nbb_cells[i].set_text(nbb_formatted_code);\n                        }\n                        break;\n                    }\n                }\n            }, 500);\n            ",
      "text/plain": [
       "<IPython.core.display.Javascript object>"
      ]
     },
     "metadata": {},
     "output_type": "display_data"
    }
   ],
   "source": [
    "ytrain[0]"
   ]
  },
  {
   "cell_type": "code",
   "execution_count": 905,
   "metadata": {},
   "outputs": [
    {
     "data": {
      "text/plain": [
       "3"
      ]
     },
     "execution_count": 905,
     "metadata": {},
     "output_type": "execute_result"
    },
    {
     "data": {
      "application/javascript": "\n            setTimeout(function() {\n                var nbb_cell_id = 905;\n                var nbb_unformatted_code = \"len(feature_list)\";\n                var nbb_formatted_code = \"len(feature_list)\";\n                var nbb_cells = Jupyter.notebook.get_cells();\n                for (var i = 0; i < nbb_cells.length; ++i) {\n                    if (nbb_cells[i].input_prompt_number == nbb_cell_id) {\n                        if (nbb_cells[i].get_text() == nbb_unformatted_code) {\n                             nbb_cells[i].set_text(nbb_formatted_code);\n                        }\n                        break;\n                    }\n                }\n            }, 500);\n            ",
      "text/plain": [
       "<IPython.core.display.Javascript object>"
      ]
     },
     "metadata": {},
     "output_type": "display_data"
    }
   ],
   "source": [
    "len(feature_list)"
   ]
  },
  {
   "cell_type": "code",
   "execution_count": 906,
   "metadata": {},
   "outputs": [
    {
     "data": {
      "application/javascript": "\n            setTimeout(function() {\n                var nbb_cell_id = 906;\n                var nbb_unformatted_code = \"_ = np.array(ytrain[0])\\n\\nif len(feature_list) == 1:\\n    _ = np.c_[_]\\n\\nelif len(feature_list) == 2:\\n    _ = np.c_[_, np.zeros(_.shape)]\\n\\nelif len(feature_list) == 3:\\n    _ = np.c_[_, np.zeros(_.shape), np.zeros(_.shape)]\";\n                var nbb_formatted_code = \"_ = np.array(ytrain[0])\\n\\nif len(feature_list) == 1:\\n    _ = np.c_[_]\\n\\nelif len(feature_list) == 2:\\n    _ = np.c_[_, np.zeros(_.shape)]\\n\\nelif len(feature_list) == 3:\\n    _ = np.c_[_, np.zeros(_.shape), np.zeros(_.shape)]\";\n                var nbb_cells = Jupyter.notebook.get_cells();\n                for (var i = 0; i < nbb_cells.length; ++i) {\n                    if (nbb_cells[i].input_prompt_number == nbb_cell_id) {\n                        if (nbb_cells[i].get_text() == nbb_unformatted_code) {\n                             nbb_cells[i].set_text(nbb_formatted_code);\n                        }\n                        break;\n                    }\n                }\n            }, 500);\n            ",
      "text/plain": [
       "<IPython.core.display.Javascript object>"
      ]
     },
     "metadata": {},
     "output_type": "display_data"
    }
   ],
   "source": [
    "_ = np.array(ytrain[0])\n",
    "\n",
    "if len(feature_list) == 1:\n",
    "    _ = np.c_[_]\n",
    "\n",
    "elif len(feature_list) == 2:\n",
    "    _ = np.c_[_, np.zeros(_.shape)]\n",
    "\n",
    "elif len(feature_list) == 3:\n",
    "    _ = np.c_[_, np.zeros(_.shape), np.zeros(_.shape)]"
   ]
  },
  {
   "cell_type": "code",
   "execution_count": 907,
   "metadata": {},
   "outputs": [
    {
     "data": {
      "text/plain": [
       "array([[ 1.        , -0.15945339,  0.        ]])"
      ]
     },
     "execution_count": 907,
     "metadata": {},
     "output_type": "execute_result"
    },
    {
     "data": {
      "application/javascript": "\n            setTimeout(function() {\n                var nbb_cell_id = 907;\n                var nbb_unformatted_code = \"scaler.inverse_transform(_)\";\n                var nbb_formatted_code = \"scaler.inverse_transform(_)\";\n                var nbb_cells = Jupyter.notebook.get_cells();\n                for (var i = 0; i < nbb_cells.length; ++i) {\n                    if (nbb_cells[i].input_prompt_number == nbb_cell_id) {\n                        if (nbb_cells[i].get_text() == nbb_unformatted_code) {\n                             nbb_cells[i].set_text(nbb_formatted_code);\n                        }\n                        break;\n                    }\n                }\n            }, 500);\n            ",
      "text/plain": [
       "<IPython.core.display.Javascript object>"
      ]
     },
     "metadata": {},
     "output_type": "display_data"
    }
   ],
   "source": [
    "scaler.inverse_transform(_)"
   ]
  },
  {
   "cell_type": "markdown",
   "metadata": {},
   "source": [
    "In an LSTM network the input for each LSTM layer needs to contain the following information:\n",
    "- The number of observations\n",
    "- The time steps\n",
    "- The features\n",
    "\n",
    "Therefore we need to add a temporal dimension compared to a classical network:\n",
    "\n",
    "(number of observations, number of steps, number of features per step)"
   ]
  },
  {
   "cell_type": "code",
   "execution_count": 908,
   "metadata": {},
   "outputs": [
    {
     "data": {
      "application/javascript": "\n            setTimeout(function() {\n                var nbb_cell_id = 908;\n                var nbb_unformatted_code = \"Xtrain, ytrain = (np.array(Xtrain), np.array(ytrain))\\nXtrain = np.reshape(Xtrain, (Xtrain.shape[0], Xtrain.shape[1], Xtrain.shape[2]))\\n\\nXtest, ytest = (np.array(Xtest), np.array(ytest))\\nXtest = np.reshape(Xtest, (Xtest.shape[0], Xtest.shape[1], Xtest.shape[2]))\";\n                var nbb_formatted_code = \"Xtrain, ytrain = (np.array(Xtrain), np.array(ytrain))\\nXtrain = np.reshape(Xtrain, (Xtrain.shape[0], Xtrain.shape[1], Xtrain.shape[2]))\\n\\nXtest, ytest = (np.array(Xtest), np.array(ytest))\\nXtest = np.reshape(Xtest, (Xtest.shape[0], Xtest.shape[1], Xtest.shape[2]))\";\n                var nbb_cells = Jupyter.notebook.get_cells();\n                for (var i = 0; i < nbb_cells.length; ++i) {\n                    if (nbb_cells[i].input_prompt_number == nbb_cell_id) {\n                        if (nbb_cells[i].get_text() == nbb_unformatted_code) {\n                             nbb_cells[i].set_text(nbb_formatted_code);\n                        }\n                        break;\n                    }\n                }\n            }, 500);\n            ",
      "text/plain": [
       "<IPython.core.display.Javascript object>"
      ]
     },
     "metadata": {},
     "output_type": "display_data"
    }
   ],
   "source": [
    "Xtrain, ytrain = (np.array(Xtrain), np.array(ytrain))\n",
    "Xtrain = np.reshape(Xtrain, (Xtrain.shape[0], Xtrain.shape[1], Xtrain.shape[2]))\n",
    "\n",
    "Xtest, ytest = (np.array(Xtest), np.array(ytest))\n",
    "Xtest = np.reshape(Xtest, (Xtest.shape[0], Xtest.shape[1], Xtest.shape[2]))"
   ]
  },
  {
   "cell_type": "code",
   "execution_count": 909,
   "metadata": {
    "scrolled": true
   },
   "outputs": [
    {
     "name": "stdout",
     "output_type": "stream",
     "text": [
      "(2694, 63, 3)\n",
      "(2694,)\n",
      "---\n",
      "(244, 63, 3)\n",
      "(244,)\n"
     ]
    },
    {
     "data": {
      "application/javascript": "\n            setTimeout(function() {\n                var nbb_cell_id = 909;\n                var nbb_unformatted_code = \"print(Xtrain.shape)\\nprint(ytrain.shape)\\nprint(\\\"---\\\")\\nprint(Xtest.shape)\\nprint(ytest.shape)\";\n                var nbb_formatted_code = \"print(Xtrain.shape)\\nprint(ytrain.shape)\\nprint(\\\"---\\\")\\nprint(Xtest.shape)\\nprint(ytest.shape)\";\n                var nbb_cells = Jupyter.notebook.get_cells();\n                for (var i = 0; i < nbb_cells.length; ++i) {\n                    if (nbb_cells[i].input_prompt_number == nbb_cell_id) {\n                        if (nbb_cells[i].get_text() == nbb_unformatted_code) {\n                             nbb_cells[i].set_text(nbb_formatted_code);\n                        }\n                        break;\n                    }\n                }\n            }, 500);\n            ",
      "text/plain": [
       "<IPython.core.display.Javascript object>"
      ]
     },
     "metadata": {},
     "output_type": "display_data"
    }
   ],
   "source": [
    "print(Xtrain.shape)\n",
    "print(ytrain.shape)\n",
    "print(\"---\")\n",
    "print(Xtest.shape)\n",
    "print(ytest.shape)"
   ]
  },
  {
   "cell_type": "markdown",
   "metadata": {},
   "source": [
    "#### LSTM Model"
   ]
  },
  {
   "cell_type": "code",
   "execution_count": 910,
   "metadata": {},
   "outputs": [
    {
     "data": {
      "application/javascript": "\n            setTimeout(function() {\n                var nbb_cell_id = 910;\n                var nbb_unformatted_code = \"from keras.models import Sequential\\nfrom keras.layers import LSTM, Dense\";\n                var nbb_formatted_code = \"from keras.models import Sequential\\nfrom keras.layers import LSTM, Dense\";\n                var nbb_cells = Jupyter.notebook.get_cells();\n                for (var i = 0; i < nbb_cells.length; ++i) {\n                    if (nbb_cells[i].input_prompt_number == nbb_cell_id) {\n                        if (nbb_cells[i].get_text() == nbb_unformatted_code) {\n                             nbb_cells[i].set_text(nbb_formatted_code);\n                        }\n                        break;\n                    }\n                }\n            }, 500);\n            ",
      "text/plain": [
       "<IPython.core.display.Javascript object>"
      ]
     },
     "metadata": {},
     "output_type": "display_data"
    }
   ],
   "source": [
    "from keras.models import Sequential\n",
    "from keras.layers import LSTM, Dense"
   ]
  },
  {
   "cell_type": "code",
   "execution_count": 911,
   "metadata": {},
   "outputs": [
    {
     "data": {
      "application/javascript": "\n            setTimeout(function() {\n                var nbb_cell_id = 911;\n                var nbb_unformatted_code = \"results_path = Path('results', 'lstm')\\nif not results_path.exists():\\n    results_path.mkdir(parents=True)\";\n                var nbb_formatted_code = \"results_path = Path(\\\"results\\\", \\\"lstm\\\")\\nif not results_path.exists():\\n    results_path.mkdir(parents=True)\";\n                var nbb_cells = Jupyter.notebook.get_cells();\n                for (var i = 0; i < nbb_cells.length; ++i) {\n                    if (nbb_cells[i].input_prompt_number == nbb_cell_id) {\n                        if (nbb_cells[i].get_text() == nbb_unformatted_code) {\n                             nbb_cells[i].set_text(nbb_formatted_code);\n                        }\n                        break;\n                    }\n                }\n            }, 500);\n            ",
      "text/plain": [
       "<IPython.core.display.Javascript object>"
      ]
     },
     "metadata": {},
     "output_type": "display_data"
    }
   ],
   "source": [
    "results_path = Path('results', 'lstm')\n",
    "if not results_path.exists():\n",
    "    results_path.mkdir(parents=True)"
   ]
  },
  {
   "cell_type": "code",
   "execution_count": 912,
   "metadata": {},
   "outputs": [
    {
     "data": {
      "application/javascript": "\n            setTimeout(function() {\n                var nbb_cell_id = 912;\n                var nbb_unformatted_code = \"# MAX_EPOCHS = 500\\nMAX_EPOCHS = 100\\n# patience=50\\npatience=30\\n\\nlstm_path = (results_path / 'lstm.h5').as_posix()\\ncheckpointer = tf.keras.callbacks.ModelCheckpoint(filepath=lstm_path,\\n                               verbose=1,\\n                               monitor='val_loss',\\n                               save_best_only=True)\\n\\nlr_schedule = tf.keras.optimizers.schedules.ExponentialDecay(\\n    initial_learning_rate=1e-3,\\n    decay_steps=10000,\\n    decay_rate=0.9)\\n\\noptimizer = tf.keras.optimizers.RMSprop(learning_rate=0.01,\\n                                     # learning_rate=lr_schedule,\\n                                     rho=0.9,\\n                                     epsilon=1e-08,\\n                                     decay=0.0)\\n\\n# optimizer = tf.keras.optimizers.Adam()\\n\\ndef compile_and_fit(model, patience=patience):\\n  early_stopping = tf.keras.callbacks.EarlyStopping(monitor='val_loss',\\n                                                    patience=patience,\\n                                                    mode='min',  \\n                                                    restore_best_weights=True)\\n\\n  model.compile(# loss=tf.losses.BinaryCrossentropy(from_logits=True),\\n                loss=tf.losses.BinaryCrossentropy(),\\n                optimizer=optimizer,\\n                metrics=[tf.metrics.BinaryAccuracy()])\\n\\n  history = model.fit(Xtrain, ytrain, epochs=MAX_EPOCHS,\\n                      validation_data=(Xtest, ytest),\\n                      callbacks=[early_stopping, checkpointer],\\n                      batch_size=32,\\n                      shuffle=True,\\n                      verbose=1)\\n  return history\";\n                var nbb_formatted_code = \"# MAX_EPOCHS = 500\\nMAX_EPOCHS = 100\\n# patience=50\\npatience = 30\\n\\nlstm_path = (results_path / \\\"lstm.h5\\\").as_posix()\\ncheckpointer = tf.keras.callbacks.ModelCheckpoint(\\n    filepath=lstm_path, verbose=1, monitor=\\\"val_loss\\\", save_best_only=True\\n)\\n\\nlr_schedule = tf.keras.optimizers.schedules.ExponentialDecay(\\n    initial_learning_rate=1e-3, decay_steps=10000, decay_rate=0.9\\n)\\n\\noptimizer = tf.keras.optimizers.RMSprop(\\n    learning_rate=0.01,\\n    # learning_rate=lr_schedule,\\n    rho=0.9,\\n    epsilon=1e-08,\\n    decay=0.0,\\n)\\n\\n# optimizer = tf.keras.optimizers.Adam()\\n\\n\\ndef compile_and_fit(model, patience=patience):\\n    early_stopping = tf.keras.callbacks.EarlyStopping(\\n        monitor=\\\"val_loss\\\", patience=patience, mode=\\\"min\\\", restore_best_weights=True\\n    )\\n\\n    model.compile(  # loss=tf.losses.BinaryCrossentropy(from_logits=True),\\n        loss=tf.losses.BinaryCrossentropy(),\\n        optimizer=optimizer,\\n        metrics=[tf.metrics.BinaryAccuracy()],\\n    )\\n\\n    history = model.fit(\\n        Xtrain,\\n        ytrain,\\n        epochs=MAX_EPOCHS,\\n        validation_data=(Xtest, ytest),\\n        callbacks=[early_stopping, checkpointer],\\n        batch_size=32,\\n        shuffle=True,\\n        verbose=1,\\n    )\\n    return history\";\n                var nbb_cells = Jupyter.notebook.get_cells();\n                for (var i = 0; i < nbb_cells.length; ++i) {\n                    if (nbb_cells[i].input_prompt_number == nbb_cell_id) {\n                        if (nbb_cells[i].get_text() == nbb_unformatted_code) {\n                             nbb_cells[i].set_text(nbb_formatted_code);\n                        }\n                        break;\n                    }\n                }\n            }, 500);\n            ",
      "text/plain": [
       "<IPython.core.display.Javascript object>"
      ]
     },
     "metadata": {},
     "output_type": "display_data"
    }
   ],
   "source": [
    "# MAX_EPOCHS = 500\n",
    "MAX_EPOCHS = 100\n",
    "# patience=50\n",
    "patience=30\n",
    "\n",
    "lstm_path = (results_path / 'lstm.h5').as_posix()\n",
    "checkpointer = tf.keras.callbacks.ModelCheckpoint(filepath=lstm_path,\n",
    "                               verbose=1,\n",
    "                               monitor='val_loss',\n",
    "                               save_best_only=True)\n",
    "\n",
    "lr_schedule = tf.keras.optimizers.schedules.ExponentialDecay(\n",
    "    initial_learning_rate=1e-3,\n",
    "    decay_steps=10000,\n",
    "    decay_rate=0.9)\n",
    "\n",
    "optimizer = tf.keras.optimizers.RMSprop(learning_rate=0.01,\n",
    "                                     # learning_rate=lr_schedule,\n",
    "                                     rho=0.9,\n",
    "                                     epsilon=1e-08,\n",
    "                                     decay=0.0)\n",
    "\n",
    "# optimizer = tf.keras.optimizers.Adam()\n",
    "\n",
    "def compile_and_fit(model, patience=patience):\n",
    "  early_stopping = tf.keras.callbacks.EarlyStopping(monitor='val_loss',\n",
    "                                                    patience=patience,\n",
    "                                                    mode='min',  \n",
    "                                                    restore_best_weights=True)\n",
    "\n",
    "  model.compile(# loss=tf.losses.BinaryCrossentropy(from_logits=True),\n",
    "                loss=tf.losses.BinaryCrossentropy(),\n",
    "                optimizer=optimizer,\n",
    "                metrics=[tf.metrics.BinaryAccuracy()])\n",
    "\n",
    "  history = model.fit(Xtrain, ytrain, epochs=MAX_EPOCHS,\n",
    "                      validation_data=(Xtest, ytest),\n",
    "                      callbacks=[early_stopping, checkpointer],\n",
    "                      batch_size=32,\n",
    "                      shuffle=True,\n",
    "                      verbose=1)\n",
    "  return history\n"
   ]
  },
  {
   "cell_type": "code",
   "execution_count": 913,
   "metadata": {},
   "outputs": [
    {
     "data": {
      "application/javascript": "\n            setTimeout(function() {\n                var nbb_cell_id = 913;\n                var nbb_unformatted_code = \"from keras.layers import Dropout, Dense\";\n                var nbb_formatted_code = \"from keras.layers import Dropout, Dense\";\n                var nbb_cells = Jupyter.notebook.get_cells();\n                for (var i = 0; i < nbb_cells.length; ++i) {\n                    if (nbb_cells[i].input_prompt_number == nbb_cell_id) {\n                        if (nbb_cells[i].get_text() == nbb_unformatted_code) {\n                             nbb_cells[i].set_text(nbb_formatted_code);\n                        }\n                        break;\n                    }\n                }\n            }, 500);\n            ",
      "text/plain": [
       "<IPython.core.display.Javascript object>"
      ]
     },
     "metadata": {},
     "output_type": "display_data"
    }
   ],
   "source": [
    "from keras.layers import Dropout, Dense"
   ]
  },
  {
   "cell_type": "code",
   "execution_count": 914,
   "metadata": {
    "scrolled": true
   },
   "outputs": [
    {
     "data": {
      "application/javascript": "\n            setTimeout(function() {\n                var nbb_cell_id = 914;\n                var nbb_unformatted_code = \"model = Sequential([\\n    LSTM(units=64, \\n         return_sequences=False,\\n         # Shape => [batch, time, features]\\n         input_shape=(Xtrain.shape[1], Xtrain.shape[2]), \\n         name='LSTM'),\\n    # Dropout(0.20),\\n    # Dense(10, activation='relu'),\\n    Dense(1, activation='sigmoid', name='Output')\\n    # Dense(1, name='Output')\\n])\";\n                var nbb_formatted_code = \"model = Sequential(\\n    [\\n        LSTM(\\n            units=64,\\n            return_sequences=False,\\n            # Shape => [batch, time, features]\\n            input_shape=(Xtrain.shape[1], Xtrain.shape[2]),\\n            name=\\\"LSTM\\\",\\n        ),\\n        # Dropout(0.20),\\n        # Dense(10, activation='relu'),\\n        Dense(1, activation=\\\"sigmoid\\\", name=\\\"Output\\\")\\n        # Dense(1, name='Output')\\n    ]\\n)\";\n                var nbb_cells = Jupyter.notebook.get_cells();\n                for (var i = 0; i < nbb_cells.length; ++i) {\n                    if (nbb_cells[i].input_prompt_number == nbb_cell_id) {\n                        if (nbb_cells[i].get_text() == nbb_unformatted_code) {\n                             nbb_cells[i].set_text(nbb_formatted_code);\n                        }\n                        break;\n                    }\n                }\n            }, 500);\n            ",
      "text/plain": [
       "<IPython.core.display.Javascript object>"
      ]
     },
     "metadata": {},
     "output_type": "display_data"
    }
   ],
   "source": [
    "model = Sequential([\n",
    "    LSTM(units=64, \n",
    "         return_sequences=False,\n",
    "         # Shape => [batch, time, features]\n",
    "         input_shape=(Xtrain.shape[1], Xtrain.shape[2]), \n",
    "         name='LSTM'),\n",
    "    # Dropout(0.20),\n",
    "    # Dense(10, activation='relu'),\n",
    "    Dense(1, activation='sigmoid', name='Output')\n",
    "    # Dense(1, name='Output')\n",
    "])"
   ]
  },
  {
   "cell_type": "code",
   "execution_count": 915,
   "metadata": {},
   "outputs": [
    {
     "name": "stdout",
     "output_type": "stream",
     "text": [
      "Epoch 1/100\n",
      "83/85 [============================>.] - ETA: 0s - loss: 0.7069 - binary_accuracy: 0.5045\n",
      "Epoch 1: val_loss improved from inf to 0.69396, saving model to results/lstm/lstm.h5\n",
      "85/85 [==============================] - 7s 59ms/step - loss: 0.7065 - binary_accuracy: 0.5071 - val_loss: 0.6940 - val_binary_accuracy: 0.5164\n",
      "Epoch 2/100\n",
      "84/85 [============================>.] - ETA: 0s - loss: 0.6937 - binary_accuracy: 0.5141\n",
      "Epoch 2: val_loss improved from 0.69396 to 0.69344, saving model to results/lstm/lstm.h5\n",
      "85/85 [==============================] - 2s 18ms/step - loss: 0.6937 - binary_accuracy: 0.5141 - val_loss: 0.6934 - val_binary_accuracy: 0.5164\n",
      "Epoch 3/100\n",
      "85/85 [==============================] - ETA: 0s - loss: 0.6930 - binary_accuracy: 0.5234\n",
      "Epoch 3: val_loss did not improve from 0.69344\n",
      "85/85 [==============================] - 2s 22ms/step - loss: 0.6930 - binary_accuracy: 0.5234 - val_loss: 0.6940 - val_binary_accuracy: 0.5164\n",
      "Epoch 4/100\n",
      "84/85 [============================>.] - ETA: 0s - loss: 0.6963 - binary_accuracy: 0.5186\n",
      "Epoch 4: val_loss did not improve from 0.69344\n",
      "85/85 [==============================] - 2s 19ms/step - loss: 0.6964 - binary_accuracy: 0.5186 - val_loss: 0.6939 - val_binary_accuracy: 0.4795\n",
      "Epoch 5/100\n",
      "85/85 [==============================] - ETA: 0s - loss: 0.6925 - binary_accuracy: 0.5182\n",
      "Epoch 5: val_loss did not improve from 0.69344\n",
      "85/85 [==============================] - 1s 18ms/step - loss: 0.6925 - binary_accuracy: 0.5182 - val_loss: 0.6936 - val_binary_accuracy: 0.5164\n",
      "Epoch 6/100\n",
      "85/85 [==============================] - ETA: 0s - loss: 0.6921 - binary_accuracy: 0.5241\n",
      "Epoch 6: val_loss did not improve from 0.69344\n",
      "85/85 [==============================] - 2s 20ms/step - loss: 0.6921 - binary_accuracy: 0.5241 - val_loss: 0.6936 - val_binary_accuracy: 0.4918\n",
      "Epoch 7/100\n",
      "82/85 [===========================>..] - ETA: 0s - loss: 0.6972 - binary_accuracy: 0.5175\n",
      "Epoch 7: val_loss did not improve from 0.69344\n",
      "85/85 [==============================] - 1s 17ms/step - loss: 0.6969 - binary_accuracy: 0.5189 - val_loss: 0.6958 - val_binary_accuracy: 0.4836\n",
      "Epoch 8/100\n",
      "83/85 [============================>.] - ETA: 0s - loss: 0.6921 - binary_accuracy: 0.5139\n",
      "Epoch 8: val_loss did not improve from 0.69344\n",
      "85/85 [==============================] - 1s 17ms/step - loss: 0.6920 - binary_accuracy: 0.5145 - val_loss: 0.6946 - val_binary_accuracy: 0.5041\n",
      "Epoch 9/100\n",
      "85/85 [==============================] - ETA: 0s - loss: 0.6912 - binary_accuracy: 0.5137\n",
      "Epoch 9: val_loss did not improve from 0.69344\n",
      "85/85 [==============================] - 2s 19ms/step - loss: 0.6912 - binary_accuracy: 0.5137 - val_loss: 0.6940 - val_binary_accuracy: 0.5287\n",
      "Epoch 10/100\n",
      "82/85 [===========================>..] - ETA: 0s - loss: 0.6897 - binary_accuracy: 0.5278\n",
      "Epoch 10: val_loss did not improve from 0.69344\n",
      "85/85 [==============================] - 1s 17ms/step - loss: 0.6897 - binary_accuracy: 0.5275 - val_loss: 0.6967 - val_binary_accuracy: 0.4877\n",
      "Epoch 11/100\n",
      "84/85 [============================>.] - ETA: 0s - loss: 0.6918 - binary_accuracy: 0.5279\n",
      "Epoch 11: val_loss did not improve from 0.69344\n",
      "85/85 [==============================] - 1s 16ms/step - loss: 0.6916 - binary_accuracy: 0.5282 - val_loss: 0.6942 - val_binary_accuracy: 0.5000\n",
      "Epoch 12/100\n",
      "82/85 [===========================>..] - ETA: 0s - loss: 0.6922 - binary_accuracy: 0.5122\n",
      "Epoch 12: val_loss improved from 0.69344 to 0.68998, saving model to results/lstm/lstm.h5\n",
      "85/85 [==============================] - 2s 18ms/step - loss: 0.6922 - binary_accuracy: 0.5126 - val_loss: 0.6900 - val_binary_accuracy: 0.5451\n",
      "Epoch 13/100\n",
      "83/85 [============================>.] - ETA: 0s - loss: 0.6927 - binary_accuracy: 0.5200\n",
      "Epoch 13: val_loss did not improve from 0.68998\n",
      "85/85 [==============================] - 2s 18ms/step - loss: 0.6926 - binary_accuracy: 0.5189 - val_loss: 0.6924 - val_binary_accuracy: 0.5574\n",
      "Epoch 14/100\n",
      "85/85 [==============================] - ETA: 0s - loss: 0.6896 - binary_accuracy: 0.5327\n",
      "Epoch 14: val_loss did not improve from 0.68998\n",
      "85/85 [==============================] - 1s 16ms/step - loss: 0.6896 - binary_accuracy: 0.5327 - val_loss: 0.6951 - val_binary_accuracy: 0.5205\n",
      "Epoch 15/100\n",
      "85/85 [==============================] - ETA: 0s - loss: 0.6896 - binary_accuracy: 0.5282\n",
      "Epoch 15: val_loss did not improve from 0.68998\n",
      "85/85 [==============================] - 2s 18ms/step - loss: 0.6896 - binary_accuracy: 0.5282 - val_loss: 0.6962 - val_binary_accuracy: 0.4959\n",
      "Epoch 16/100\n",
      "83/85 [============================>.] - ETA: 0s - loss: 0.6885 - binary_accuracy: 0.5354\n",
      "Epoch 16: val_loss did not improve from 0.68998\n",
      "85/85 [==============================] - 2s 19ms/step - loss: 0.6889 - binary_accuracy: 0.5338 - val_loss: 0.6941 - val_binary_accuracy: 0.4959\n",
      "Epoch 17/100\n",
      "83/85 [============================>.] - ETA: 0s - loss: 0.6873 - binary_accuracy: 0.5425\n",
      "Epoch 17: val_loss did not improve from 0.68998\n",
      "85/85 [==============================] - 2s 18ms/step - loss: 0.6868 - binary_accuracy: 0.5445 - val_loss: 0.6917 - val_binary_accuracy: 0.5369\n",
      "Epoch 18/100\n",
      "85/85 [==============================] - ETA: 0s - loss: 0.6853 - binary_accuracy: 0.5471\n",
      "Epoch 18: val_loss did not improve from 0.68998\n",
      "85/85 [==============================] - 1s 17ms/step - loss: 0.6853 - binary_accuracy: 0.5471 - val_loss: 0.6951 - val_binary_accuracy: 0.5287\n",
      "Epoch 19/100\n",
      "82/85 [===========================>..] - ETA: 0s - loss: 0.6857 - binary_accuracy: 0.5419\n",
      "Epoch 19: val_loss did not improve from 0.68998\n",
      "85/85 [==============================] - 2s 18ms/step - loss: 0.6860 - binary_accuracy: 0.5408 - val_loss: 0.6937 - val_binary_accuracy: 0.5041\n",
      "Epoch 20/100\n",
      "82/85 [===========================>..] - ETA: 0s - loss: 0.6838 - binary_accuracy: 0.5610\n",
      "Epoch 20: val_loss did not improve from 0.68998\n",
      "85/85 [==============================] - 2s 18ms/step - loss: 0.6834 - binary_accuracy: 0.5616 - val_loss: 0.6985 - val_binary_accuracy: 0.4918\n",
      "Epoch 21/100\n",
      "85/85 [==============================] - ETA: 0s - loss: 0.6825 - binary_accuracy: 0.5661\n",
      "Epoch 21: val_loss did not improve from 0.68998\n",
      "85/85 [==============================] - 1s 17ms/step - loss: 0.6825 - binary_accuracy: 0.5661 - val_loss: 0.7031 - val_binary_accuracy: 0.5287\n",
      "Epoch 22/100\n",
      "85/85 [==============================] - ETA: 0s - loss: 0.6821 - binary_accuracy: 0.5724\n",
      "Epoch 22: val_loss did not improve from 0.68998\n",
      "85/85 [==============================] - 2s 18ms/step - loss: 0.6821 - binary_accuracy: 0.5724 - val_loss: 0.6935 - val_binary_accuracy: 0.5205\n",
      "Epoch 23/100\n",
      "82/85 [===========================>..] - ETA: 0s - loss: 0.6808 - binary_accuracy: 0.5671\n",
      "Epoch 23: val_loss did not improve from 0.68998\n",
      "85/85 [==============================] - 2s 18ms/step - loss: 0.6808 - binary_accuracy: 0.5664 - val_loss: 0.7000 - val_binary_accuracy: 0.4959\n",
      "Epoch 24/100\n",
      "85/85 [==============================] - ETA: 0s - loss: 0.6787 - binary_accuracy: 0.5702\n",
      "Epoch 24: val_loss did not improve from 0.68998\n",
      "85/85 [==============================] - 1s 17ms/step - loss: 0.6787 - binary_accuracy: 0.5702 - val_loss: 0.7102 - val_binary_accuracy: 0.4754\n",
      "Epoch 25/100\n",
      "82/85 [===========================>..] - ETA: 0s - loss: 0.6754 - binary_accuracy: 0.5789\n",
      "Epoch 25: val_loss did not improve from 0.68998\n",
      "85/85 [==============================] - 1s 17ms/step - loss: 0.6769 - binary_accuracy: 0.5780 - val_loss: 0.6970 - val_binary_accuracy: 0.5410\n",
      "Epoch 26/100\n",
      "83/85 [============================>.] - ETA: 0s - loss: 0.6768 - binary_accuracy: 0.5757\n",
      "Epoch 26: val_loss did not improve from 0.68998\n",
      "85/85 [==============================] - 2s 19ms/step - loss: 0.6762 - binary_accuracy: 0.5765 - val_loss: 0.7219 - val_binary_accuracy: 0.5082\n",
      "Epoch 27/100\n",
      "85/85 [==============================] - ETA: 0s - loss: 0.6730 - binary_accuracy: 0.5746\n",
      "Epoch 27: val_loss did not improve from 0.68998\n",
      "85/85 [==============================] - 1s 17ms/step - loss: 0.6730 - binary_accuracy: 0.5746 - val_loss: 0.7110 - val_binary_accuracy: 0.5082\n",
      "Epoch 28/100\n",
      "82/85 [===========================>..] - ETA: 0s - loss: 0.6749 - binary_accuracy: 0.5694\n",
      "Epoch 28: val_loss did not improve from 0.68998\n",
      "85/85 [==============================] - 1s 16ms/step - loss: 0.6744 - binary_accuracy: 0.5709 - val_loss: 0.7056 - val_binary_accuracy: 0.4959\n",
      "Epoch 29/100\n",
      "83/85 [============================>.] - ETA: 0s - loss: 0.6762 - binary_accuracy: 0.5873\n",
      "Epoch 29: val_loss did not improve from 0.68998\n",
      "85/85 [==============================] - 2s 19ms/step - loss: 0.6758 - binary_accuracy: 0.5876 - val_loss: 0.7019 - val_binary_accuracy: 0.5123\n",
      "Epoch 30/100\n",
      "83/85 [============================>.] - ETA: 0s - loss: 0.6725 - binary_accuracy: 0.5802\n",
      "Epoch 30: val_loss did not improve from 0.68998\n",
      "85/85 [==============================] - 2s 18ms/step - loss: 0.6728 - binary_accuracy: 0.5791 - val_loss: 0.7089 - val_binary_accuracy: 0.5123\n",
      "Epoch 31/100\n",
      "84/85 [============================>.] - ETA: 0s - loss: 0.6683 - binary_accuracy: 0.5856\n",
      "Epoch 31: val_loss did not improve from 0.68998\n",
      "85/85 [==============================] - 1s 17ms/step - loss: 0.6683 - binary_accuracy: 0.5857 - val_loss: 0.7004 - val_binary_accuracy: 0.5287\n",
      "Epoch 32/100\n",
      "85/85 [==============================] - ETA: 0s - loss: 0.6660 - binary_accuracy: 0.5984\n",
      "Epoch 32: val_loss did not improve from 0.68998\n",
      "85/85 [==============================] - 2s 19ms/step - loss: 0.6660 - binary_accuracy: 0.5984 - val_loss: 0.7136 - val_binary_accuracy: 0.5041\n",
      "Epoch 33/100\n",
      "82/85 [===========================>..] - ETA: 0s - loss: 0.6634 - binary_accuracy: 0.5938\n",
      "Epoch 33: val_loss did not improve from 0.68998\n",
      "85/85 [==============================] - 1s 17ms/step - loss: 0.6643 - binary_accuracy: 0.5921 - val_loss: 0.7185 - val_binary_accuracy: 0.5246\n",
      "Epoch 34/100\n",
      "85/85 [==============================] - ETA: 0s - loss: 0.6612 - binary_accuracy: 0.5969\n",
      "Epoch 34: val_loss did not improve from 0.68998\n",
      "85/85 [==============================] - 1s 17ms/step - loss: 0.6612 - binary_accuracy: 0.5969 - val_loss: 0.7116 - val_binary_accuracy: 0.5164\n",
      "Epoch 35/100\n",
      "84/85 [============================>.] - ETA: 0s - loss: 0.6525 - binary_accuracy: 0.6090\n",
      "Epoch 35: val_loss did not improve from 0.68998\n",
      "85/85 [==============================] - 2s 19ms/step - loss: 0.6523 - binary_accuracy: 0.6099 - val_loss: 0.7126 - val_binary_accuracy: 0.5164\n",
      "Epoch 36/100\n",
      "82/85 [===========================>..] - ETA: 0s - loss: 0.6500 - binary_accuracy: 0.6109\n",
      "Epoch 36: val_loss did not improve from 0.68998\n",
      "85/85 [==============================] - 1s 17ms/step - loss: 0.6508 - binary_accuracy: 0.6106 - val_loss: 0.7424 - val_binary_accuracy: 0.5000\n",
      "Epoch 37/100\n",
      "84/85 [============================>.] - ETA: 0s - loss: 0.6448 - binary_accuracy: 0.6161\n",
      "Epoch 37: val_loss did not improve from 0.68998\n",
      "85/85 [==============================] - 1s 17ms/step - loss: 0.6447 - binary_accuracy: 0.6166 - val_loss: 0.7193 - val_binary_accuracy: 0.5287\n",
      "Epoch 38/100\n",
      "84/85 [============================>.] - ETA: 0s - loss: 0.6460 - binary_accuracy: 0.6120\n",
      "Epoch 38: val_loss did not improve from 0.68998\n",
      "85/85 [==============================] - 2s 18ms/step - loss: 0.6458 - binary_accuracy: 0.6125 - val_loss: 0.7069 - val_binary_accuracy: 0.4918\n",
      "Epoch 39/100\n",
      "83/85 [============================>.] - ETA: 0s - loss: 0.6450 - binary_accuracy: 0.6201\n",
      "Epoch 39: val_loss did not improve from 0.68998\n",
      "85/85 [==============================] - 2s 19ms/step - loss: 0.6457 - binary_accuracy: 0.6188 - val_loss: 0.7429 - val_binary_accuracy: 0.5410\n",
      "Epoch 40/100\n",
      "83/85 [============================>.] - ETA: 0s - loss: 0.6350 - binary_accuracy: 0.6325\n",
      "Epoch 40: val_loss did not improve from 0.68998\n",
      "85/85 [==============================] - 1s 17ms/step - loss: 0.6370 - binary_accuracy: 0.6303 - val_loss: 0.7228 - val_binary_accuracy: 0.4918\n",
      "Epoch 41/100\n",
      "84/85 [============================>.] - ETA: 0s - loss: 0.6422 - binary_accuracy: 0.6243\n",
      "Epoch 41: val_loss did not improve from 0.68998\n",
      "85/85 [==============================] - 2s 18ms/step - loss: 0.6423 - binary_accuracy: 0.6240 - val_loss: 0.7430 - val_binary_accuracy: 0.5164\n",
      "Epoch 42/100\n",
      "83/85 [============================>.] - ETA: 0s - loss: 0.6508 - binary_accuracy: 0.6182\n",
      "Epoch 42: val_loss did not improve from 0.68998\n",
      "85/85 [==============================] - 2s 19ms/step - loss: 0.6504 - binary_accuracy: 0.6195 - val_loss: 0.7164 - val_binary_accuracy: 0.4877\n"
     ]
    },
    {
     "data": {
      "application/javascript": "\n            setTimeout(function() {\n                var nbb_cell_id = 915;\n                var nbb_unformatted_code = \"history = compile_and_fit(model)\";\n                var nbb_formatted_code = \"history = compile_and_fit(model)\";\n                var nbb_cells = Jupyter.notebook.get_cells();\n                for (var i = 0; i < nbb_cells.length; ++i) {\n                    if (nbb_cells[i].input_prompt_number == nbb_cell_id) {\n                        if (nbb_cells[i].get_text() == nbb_unformatted_code) {\n                             nbb_cells[i].set_text(nbb_formatted_code);\n                        }\n                        break;\n                    }\n                }\n            }, 500);\n            ",
      "text/plain": [
       "<IPython.core.display.Javascript object>"
      ]
     },
     "metadata": {},
     "output_type": "display_data"
    }
   ],
   "source": [
    "history = compile_and_fit(model)\n"
   ]
  },
  {
   "cell_type": "code",
   "execution_count": 916,
   "metadata": {},
   "outputs": [
    {
     "name": "stdout",
     "output_type": "stream",
     "text": [
      "Model: \"sequential_14\"\n",
      "_________________________________________________________________\n",
      " Layer (type)                Output Shape              Param #   \n",
      "=================================================================\n",
      " LSTM (LSTM)                 (None, 64)                17408     \n",
      "                                                                 \n",
      " Output (Dense)              (None, 1)                 65        \n",
      "                                                                 \n",
      "=================================================================\n",
      "Total params: 17,473\n",
      "Trainable params: 17,473\n",
      "Non-trainable params: 0\n",
      "_________________________________________________________________\n"
     ]
    },
    {
     "data": {
      "application/javascript": "\n            setTimeout(function() {\n                var nbb_cell_id = 916;\n                var nbb_unformatted_code = \"model.summary()\";\n                var nbb_formatted_code = \"model.summary()\";\n                var nbb_cells = Jupyter.notebook.get_cells();\n                for (var i = 0; i < nbb_cells.length; ++i) {\n                    if (nbb_cells[i].input_prompt_number == nbb_cell_id) {\n                        if (nbb_cells[i].get_text() == nbb_unformatted_code) {\n                             nbb_cells[i].set_text(nbb_formatted_code);\n                        }\n                        break;\n                    }\n                }\n            }, 500);\n            ",
      "text/plain": [
       "<IPython.core.display.Javascript object>"
      ]
     },
     "metadata": {},
     "output_type": "display_data"
    }
   ],
   "source": [
    "model.summary()"
   ]
  },
  {
   "cell_type": "code",
   "execution_count": 917,
   "metadata": {},
   "outputs": [
    {
     "name": "stdout",
     "output_type": "stream",
     "text": [
      "2694\n",
      "244\n"
     ]
    },
    {
     "data": {
      "application/javascript": "\n            setTimeout(function() {\n                var nbb_cell_id = 917;\n                var nbb_unformatted_code = \"train_predict_scaled = model.predict(Xtrain).squeeze()\\ntest_predict_scaled = model.predict(Xtest).squeeze()\\n\\nprint(len(train_predict_scaled))\\nprint(len(test_predict_scaled))\";\n                var nbb_formatted_code = \"train_predict_scaled = model.predict(Xtrain).squeeze()\\ntest_predict_scaled = model.predict(Xtest).squeeze()\\n\\nprint(len(train_predict_scaled))\\nprint(len(test_predict_scaled))\";\n                var nbb_cells = Jupyter.notebook.get_cells();\n                for (var i = 0; i < nbb_cells.length; ++i) {\n                    if (nbb_cells[i].input_prompt_number == nbb_cell_id) {\n                        if (nbb_cells[i].get_text() == nbb_unformatted_code) {\n                             nbb_cells[i].set_text(nbb_formatted_code);\n                        }\n                        break;\n                    }\n                }\n            }, 500);\n            ",
      "text/plain": [
       "<IPython.core.display.Javascript object>"
      ]
     },
     "metadata": {},
     "output_type": "display_data"
    }
   ],
   "source": [
    "train_predict_scaled = model.predict(Xtrain).squeeze()\n",
    "test_predict_scaled = model.predict(Xtest).squeeze()\n",
    "\n",
    "print(len(train_predict_scaled))\n",
    "print(len(test_predict_scaled))"
   ]
  },
  {
   "cell_type": "code",
   "execution_count": 918,
   "metadata": {},
   "outputs": [
    {
     "name": "stdout",
     "output_type": "stream",
     "text": [
      "85/85 [==============================] - 1s 8ms/step - loss: 0.6917 - binary_accuracy: 0.5200\n"
     ]
    },
    {
     "data": {
      "text/plain": [
       "[0.6917380690574646, 0.5200445652008057]"
      ]
     },
     "execution_count": 918,
     "metadata": {},
     "output_type": "execute_result"
    },
    {
     "data": {
      "application/javascript": "\n            setTimeout(function() {\n                var nbb_cell_id = 918;\n                var nbb_unformatted_code = \"model.evaluate(Xtrain, ytrain)\";\n                var nbb_formatted_code = \"model.evaluate(Xtrain, ytrain)\";\n                var nbb_cells = Jupyter.notebook.get_cells();\n                for (var i = 0; i < nbb_cells.length; ++i) {\n                    if (nbb_cells[i].input_prompt_number == nbb_cell_id) {\n                        if (nbb_cells[i].get_text() == nbb_unformatted_code) {\n                             nbb_cells[i].set_text(nbb_formatted_code);\n                        }\n                        break;\n                    }\n                }\n            }, 500);\n            ",
      "text/plain": [
       "<IPython.core.display.Javascript object>"
      ]
     },
     "metadata": {},
     "output_type": "display_data"
    }
   ],
   "source": [
    "model.evaluate(Xtrain, ytrain)"
   ]
  },
  {
   "cell_type": "code",
   "execution_count": 919,
   "metadata": {},
   "outputs": [
    {
     "name": "stdout",
     "output_type": "stream",
     "text": [
      "8/8 [==============================] - 0s 10ms/step - loss: 0.6900 - binary_accuracy: 0.5451\n"
     ]
    },
    {
     "data": {
      "text/plain": [
       "[0.6899802684783936, 0.5450819730758667]"
      ]
     },
     "execution_count": 919,
     "metadata": {},
     "output_type": "execute_result"
    },
    {
     "data": {
      "application/javascript": "\n            setTimeout(function() {\n                var nbb_cell_id = 919;\n                var nbb_unformatted_code = \"model.evaluate(Xtest, ytest)\";\n                var nbb_formatted_code = \"model.evaluate(Xtest, ytest)\";\n                var nbb_cells = Jupyter.notebook.get_cells();\n                for (var i = 0; i < nbb_cells.length; ++i) {\n                    if (nbb_cells[i].input_prompt_number == nbb_cell_id) {\n                        if (nbb_cells[i].get_text() == nbb_unformatted_code) {\n                             nbb_cells[i].set_text(nbb_formatted_code);\n                        }\n                        break;\n                    }\n                }\n            }, 500);\n            ",
      "text/plain": [
       "<IPython.core.display.Javascript object>"
      ]
     },
     "metadata": {},
     "output_type": "display_data"
    }
   ],
   "source": [
    "model.evaluate(Xtest, ytest)"
   ]
  },
  {
   "cell_type": "code",
   "execution_count": 920,
   "metadata": {},
   "outputs": [
    {
     "data": {
      "application/javascript": "\n            setTimeout(function() {\n                var nbb_cell_id = 920;\n                var nbb_unformatted_code = \"from sklearn.metrics import accuracy_score\";\n                var nbb_formatted_code = \"from sklearn.metrics import accuracy_score\";\n                var nbb_cells = Jupyter.notebook.get_cells();\n                for (var i = 0; i < nbb_cells.length; ++i) {\n                    if (nbb_cells[i].input_prompt_number == nbb_cell_id) {\n                        if (nbb_cells[i].get_text() == nbb_unformatted_code) {\n                             nbb_cells[i].set_text(nbb_formatted_code);\n                        }\n                        break;\n                    }\n                }\n            }, 500);\n            ",
      "text/plain": [
       "<IPython.core.display.Javascript object>"
      ]
     },
     "metadata": {},
     "output_type": "display_data"
    }
   ],
   "source": [
    "from sklearn.metrics import accuracy_score"
   ]
  },
  {
   "cell_type": "code",
   "execution_count": 921,
   "metadata": {},
   "outputs": [
    {
     "name": "stdout",
     "output_type": "stream",
     "text": [
      "Train Score: 0.5200 Accuracy\n",
      "Test Score: 0.5451 Accuracy\n"
     ]
    },
    {
     "data": {
      "application/javascript": "\n            setTimeout(function() {\n                var nbb_cell_id = 921;\n                var nbb_unformatted_code = \"# calculate mean absolute error\\ntrainScore = accuracy_score(ytrain, train_predict_scaled.round())\\nprint(\\\"Train Score: %.4f Accuracy\\\" % (trainScore))\\n\\ntestScore = accuracy_score(ytest, test_predict_scaled.round())\\nprint(\\\"Test Score: %.4f Accuracy\\\" % (testScore))\";\n                var nbb_formatted_code = \"# calculate mean absolute error\\ntrainScore = accuracy_score(ytrain, train_predict_scaled.round())\\nprint(\\\"Train Score: %.4f Accuracy\\\" % (trainScore))\\n\\ntestScore = accuracy_score(ytest, test_predict_scaled.round())\\nprint(\\\"Test Score: %.4f Accuracy\\\" % (testScore))\";\n                var nbb_cells = Jupyter.notebook.get_cells();\n                for (var i = 0; i < nbb_cells.length; ++i) {\n                    if (nbb_cells[i].input_prompt_number == nbb_cell_id) {\n                        if (nbb_cells[i].get_text() == nbb_unformatted_code) {\n                             nbb_cells[i].set_text(nbb_formatted_code);\n                        }\n                        break;\n                    }\n                }\n            }, 500);\n            ",
      "text/plain": [
       "<IPython.core.display.Javascript object>"
      ]
     },
     "metadata": {},
     "output_type": "display_data"
    }
   ],
   "source": [
    "# calculate mean absolute error\n",
    "trainScore = accuracy_score(ytrain, train_predict_scaled.round())\n",
    "print(\"Train Score: %.4f Accuracy\" % (trainScore))\n",
    "\n",
    "testScore = accuracy_score(ytest, test_predict_scaled.round())\n",
    "print(\"Test Score: %.4f Accuracy\" % (testScore))"
   ]
  },
  {
   "cell_type": "code",
   "execution_count": 922,
   "metadata": {},
   "outputs": [
    {
     "data": {
      "application/javascript": "\n            setTimeout(function() {\n                var nbb_cell_id = 922;\n                var nbb_unformatted_code = \"_ = np.array(train_predict_scaled)\\n\\nif len(feature_list) == 1:\\n    _ = np.c_[_]\\n\\nelif len(feature_list) == 2:\\n    _ = np.c_[_, np.zeros(_.shape)]\\n\\nelif len(feature_list) == 3:\\n    _ = np.c_[_, np.zeros(_.shape), np.zeros(_.shape)]\";\n                var nbb_formatted_code = \"_ = np.array(train_predict_scaled)\\n\\nif len(feature_list) == 1:\\n    _ = np.c_[_]\\n\\nelif len(feature_list) == 2:\\n    _ = np.c_[_, np.zeros(_.shape)]\\n\\nelif len(feature_list) == 3:\\n    _ = np.c_[_, np.zeros(_.shape), np.zeros(_.shape)]\";\n                var nbb_cells = Jupyter.notebook.get_cells();\n                for (var i = 0; i < nbb_cells.length; ++i) {\n                    if (nbb_cells[i].input_prompt_number == nbb_cell_id) {\n                        if (nbb_cells[i].get_text() == nbb_unformatted_code) {\n                             nbb_cells[i].set_text(nbb_formatted_code);\n                        }\n                        break;\n                    }\n                }\n            }, 500);\n            ",
      "text/plain": [
       "<IPython.core.display.Javascript object>"
      ]
     },
     "metadata": {},
     "output_type": "display_data"
    }
   ],
   "source": [
    "_ = np.array(train_predict_scaled)\n",
    "\n",
    "if len(feature_list) == 1:\n",
    "    _ = np.c_[_]\n",
    "\n",
    "elif len(feature_list) == 2:\n",
    "    _ = np.c_[_, np.zeros(_.shape)]\n",
    "\n",
    "elif len(feature_list) == 3:\n",
    "    _ = np.c_[_, np.zeros(_.shape), np.zeros(_.shape)]"
   ]
  },
  {
   "cell_type": "code",
   "execution_count": 923,
   "metadata": {},
   "outputs": [
    {
     "data": {
      "application/javascript": "\n            setTimeout(function() {\n                var nbb_cell_id = 923;\n                var nbb_unformatted_code = \"_train_predict_scaled = scaler.inverse_transform(_)\";\n                var nbb_formatted_code = \"_train_predict_scaled = scaler.inverse_transform(_)\";\n                var nbb_cells = Jupyter.notebook.get_cells();\n                for (var i = 0; i < nbb_cells.length; ++i) {\n                    if (nbb_cells[i].input_prompt_number == nbb_cell_id) {\n                        if (nbb_cells[i].get_text() == nbb_unformatted_code) {\n                             nbb_cells[i].set_text(nbb_formatted_code);\n                        }\n                        break;\n                    }\n                }\n            }, 500);\n            ",
      "text/plain": [
       "<IPython.core.display.Javascript object>"
      ]
     },
     "metadata": {},
     "output_type": "display_data"
    }
   ],
   "source": [
    "_train_predict_scaled = scaler.inverse_transform(_)"
   ]
  },
  {
   "cell_type": "code",
   "execution_count": 924,
   "metadata": {},
   "outputs": [
    {
     "data": {
      "text/plain": [
       "0.527744710445404"
      ]
     },
     "execution_count": 924,
     "metadata": {},
     "output_type": "execute_result"
    },
    {
     "data": {
      "application/javascript": "\n            setTimeout(function() {\n                var nbb_cell_id = 924;\n                var nbb_unformatted_code = \"_train_predict_scaled[0][0]\";\n                var nbb_formatted_code = \"_train_predict_scaled[0][0]\";\n                var nbb_cells = Jupyter.notebook.get_cells();\n                for (var i = 0; i < nbb_cells.length; ++i) {\n                    if (nbb_cells[i].input_prompt_number == nbb_cell_id) {\n                        if (nbb_cells[i].get_text() == nbb_unformatted_code) {\n                             nbb_cells[i].set_text(nbb_formatted_code);\n                        }\n                        break;\n                    }\n                }\n            }, 500);\n            ",
      "text/plain": [
       "<IPython.core.display.Javascript object>"
      ]
     },
     "metadata": {},
     "output_type": "display_data"
    }
   ],
   "source": [
    "_train_predict_scaled[0][0]"
   ]
  },
  {
   "cell_type": "code",
   "execution_count": 925,
   "metadata": {},
   "outputs": [
    {
     "data": {
      "application/javascript": "\n            setTimeout(function() {\n                var nbb_cell_id = 925;\n                var nbb_unformatted_code = \"train_predict_rescaled = np.zeros([2694,], dtype='float32')\";\n                var nbb_formatted_code = \"train_predict_rescaled = np.zeros(\\n    [\\n        2694,\\n    ],\\n    dtype=\\\"float32\\\",\\n)\";\n                var nbb_cells = Jupyter.notebook.get_cells();\n                for (var i = 0; i < nbb_cells.length; ++i) {\n                    if (nbb_cells[i].input_prompt_number == nbb_cell_id) {\n                        if (nbb_cells[i].get_text() == nbb_unformatted_code) {\n                             nbb_cells[i].set_text(nbb_formatted_code);\n                        }\n                        break;\n                    }\n                }\n            }, 500);\n            ",
      "text/plain": [
       "<IPython.core.display.Javascript object>"
      ]
     },
     "metadata": {},
     "output_type": "display_data"
    }
   ],
   "source": [
    "train_predict_rescaled = np.zeros([2694,], dtype='float32')"
   ]
  },
  {
   "cell_type": "code",
   "execution_count": 926,
   "metadata": {},
   "outputs": [
    {
     "data": {
      "application/javascript": "\n            setTimeout(function() {\n                var nbb_cell_id = 926;\n                var nbb_unformatted_code = \"for i, x in enumerate(_train_predict_scaled):\\n    if x[0] > .5:\\n        train_predict_rescaled[i] = 1\\n    else:\\n        train_predict_rescaled[i] = 0\";\n                var nbb_formatted_code = \"for i, x in enumerate(_train_predict_scaled):\\n    if x[0] > 0.5:\\n        train_predict_rescaled[i] = 1\\n    else:\\n        train_predict_rescaled[i] = 0\";\n                var nbb_cells = Jupyter.notebook.get_cells();\n                for (var i = 0; i < nbb_cells.length; ++i) {\n                    if (nbb_cells[i].input_prompt_number == nbb_cell_id) {\n                        if (nbb_cells[i].get_text() == nbb_unformatted_code) {\n                             nbb_cells[i].set_text(nbb_formatted_code);\n                        }\n                        break;\n                    }\n                }\n            }, 500);\n            ",
      "text/plain": [
       "<IPython.core.display.Javascript object>"
      ]
     },
     "metadata": {},
     "output_type": "display_data"
    }
   ],
   "source": [
    "for i, x in enumerate(_train_predict_scaled):\n",
    "    if x[0] > .5:\n",
    "        train_predict_rescaled[i] = 1\n",
    "    else:\n",
    "        train_predict_rescaled[i] = 0"
   ]
  },
  {
   "cell_type": "code",
   "execution_count": 927,
   "metadata": {},
   "outputs": [
    {
     "data": {
      "text/plain": [
       "1.0"
      ]
     },
     "execution_count": 927,
     "metadata": {},
     "output_type": "execute_result"
    },
    {
     "data": {
      "application/javascript": "\n            setTimeout(function() {\n                var nbb_cell_id = 927;\n                var nbb_unformatted_code = \"train_predict_rescaled[0]\";\n                var nbb_formatted_code = \"train_predict_rescaled[0]\";\n                var nbb_cells = Jupyter.notebook.get_cells();\n                for (var i = 0; i < nbb_cells.length; ++i) {\n                    if (nbb_cells[i].input_prompt_number == nbb_cell_id) {\n                        if (nbb_cells[i].get_text() == nbb_unformatted_code) {\n                             nbb_cells[i].set_text(nbb_formatted_code);\n                        }\n                        break;\n                    }\n                }\n            }, 500);\n            ",
      "text/plain": [
       "<IPython.core.display.Javascript object>"
      ]
     },
     "metadata": {},
     "output_type": "display_data"
    }
   ],
   "source": [
    "train_predict_rescaled[0]"
   ]
  },
  {
   "cell_type": "code",
   "execution_count": 928,
   "metadata": {},
   "outputs": [
    {
     "data": {
      "application/javascript": "\n            setTimeout(function() {\n                var nbb_cell_id = 928;\n                var nbb_unformatted_code = \"train_predict_rescaled = pd.Series(train_predict_rescaled, index=df.iloc[63:split].index)\";\n                var nbb_formatted_code = \"train_predict_rescaled = pd.Series(\\n    train_predict_rescaled, index=df.iloc[63:split].index\\n)\";\n                var nbb_cells = Jupyter.notebook.get_cells();\n                for (var i = 0; i < nbb_cells.length; ++i) {\n                    if (nbb_cells[i].input_prompt_number == nbb_cell_id) {\n                        if (nbb_cells[i].get_text() == nbb_unformatted_code) {\n                             nbb_cells[i].set_text(nbb_formatted_code);\n                        }\n                        break;\n                    }\n                }\n            }, 500);\n            ",
      "text/plain": [
       "<IPython.core.display.Javascript object>"
      ]
     },
     "metadata": {},
     "output_type": "display_data"
    }
   ],
   "source": [
    "train_predict_rescaled = pd.Series(train_predict_rescaled, index=df.iloc[63:split].index)\n"
   ]
  },
  {
   "cell_type": "code",
   "execution_count": 929,
   "metadata": {},
   "outputs": [
    {
     "data": {
      "application/javascript": "\n            setTimeout(function() {\n                var nbb_cell_id = 929;\n                var nbb_unformatted_code = \"_ = np.array(test_predict_scaled)\\n\\nif len(feature_list) == 1:\\n    _ = np.c_[_]\\n\\nelif len(feature_list) == 2:\\n    _ = np.c_[_, np.zeros(_.shape)]\\n\\nelif len(feature_list) == 3:\\n    _ = np.c_[_, np.zeros(_.shape), np.zeros(_.shape)]\";\n                var nbb_formatted_code = \"_ = np.array(test_predict_scaled)\\n\\nif len(feature_list) == 1:\\n    _ = np.c_[_]\\n\\nelif len(feature_list) == 2:\\n    _ = np.c_[_, np.zeros(_.shape)]\\n\\nelif len(feature_list) == 3:\\n    _ = np.c_[_, np.zeros(_.shape), np.zeros(_.shape)]\";\n                var nbb_cells = Jupyter.notebook.get_cells();\n                for (var i = 0; i < nbb_cells.length; ++i) {\n                    if (nbb_cells[i].input_prompt_number == nbb_cell_id) {\n                        if (nbb_cells[i].get_text() == nbb_unformatted_code) {\n                             nbb_cells[i].set_text(nbb_formatted_code);\n                        }\n                        break;\n                    }\n                }\n            }, 500);\n            ",
      "text/plain": [
       "<IPython.core.display.Javascript object>"
      ]
     },
     "metadata": {},
     "output_type": "display_data"
    }
   ],
   "source": [
    "_ = np.array(test_predict_scaled)\n",
    "\n",
    "if len(feature_list) == 1:\n",
    "    _ = np.c_[_]\n",
    "\n",
    "elif len(feature_list) == 2:\n",
    "    _ = np.c_[_, np.zeros(_.shape)]\n",
    "\n",
    "elif len(feature_list) == 3:\n",
    "    _ = np.c_[_, np.zeros(_.shape), np.zeros(_.shape)]"
   ]
  },
  {
   "cell_type": "code",
   "execution_count": 930,
   "metadata": {},
   "outputs": [
    {
     "data": {
      "application/javascript": "\n            setTimeout(function() {\n                var nbb_cell_id = 930;\n                var nbb_unformatted_code = \"_test_predict_scaled = scaler.inverse_transform(_)\";\n                var nbb_formatted_code = \"_test_predict_scaled = scaler.inverse_transform(_)\";\n                var nbb_cells = Jupyter.notebook.get_cells();\n                for (var i = 0; i < nbb_cells.length; ++i) {\n                    if (nbb_cells[i].input_prompt_number == nbb_cell_id) {\n                        if (nbb_cells[i].get_text() == nbb_unformatted_code) {\n                             nbb_cells[i].set_text(nbb_formatted_code);\n                        }\n                        break;\n                    }\n                }\n            }, 500);\n            ",
      "text/plain": [
       "<IPython.core.display.Javascript object>"
      ]
     },
     "metadata": {},
     "output_type": "display_data"
    }
   ],
   "source": [
    "_test_predict_scaled = scaler.inverse_transform(_)"
   ]
  },
  {
   "cell_type": "code",
   "execution_count": 931,
   "metadata": {},
   "outputs": [
    {
     "data": {
      "text/plain": [
       "0.45437049865722656"
      ]
     },
     "execution_count": 931,
     "metadata": {},
     "output_type": "execute_result"
    },
    {
     "data": {
      "application/javascript": "\n            setTimeout(function() {\n                var nbb_cell_id = 931;\n                var nbb_unformatted_code = \"_test_predict_scaled[0][0]\";\n                var nbb_formatted_code = \"_test_predict_scaled[0][0]\";\n                var nbb_cells = Jupyter.notebook.get_cells();\n                for (var i = 0; i < nbb_cells.length; ++i) {\n                    if (nbb_cells[i].input_prompt_number == nbb_cell_id) {\n                        if (nbb_cells[i].get_text() == nbb_unformatted_code) {\n                             nbb_cells[i].set_text(nbb_formatted_code);\n                        }\n                        break;\n                    }\n                }\n            }, 500);\n            ",
      "text/plain": [
       "<IPython.core.display.Javascript object>"
      ]
     },
     "metadata": {},
     "output_type": "display_data"
    }
   ],
   "source": [
    "_test_predict_scaled[0][0]"
   ]
  },
  {
   "cell_type": "code",
   "execution_count": 932,
   "metadata": {},
   "outputs": [
    {
     "data": {
      "application/javascript": "\n            setTimeout(function() {\n                var nbb_cell_id = 932;\n                var nbb_unformatted_code = \"test_predict_rescaled = np.zeros([244,], dtype='float32')\";\n                var nbb_formatted_code = \"test_predict_rescaled = np.zeros(\\n    [\\n        244,\\n    ],\\n    dtype=\\\"float32\\\",\\n)\";\n                var nbb_cells = Jupyter.notebook.get_cells();\n                for (var i = 0; i < nbb_cells.length; ++i) {\n                    if (nbb_cells[i].input_prompt_number == nbb_cell_id) {\n                        if (nbb_cells[i].get_text() == nbb_unformatted_code) {\n                             nbb_cells[i].set_text(nbb_formatted_code);\n                        }\n                        break;\n                    }\n                }\n            }, 500);\n            ",
      "text/plain": [
       "<IPython.core.display.Javascript object>"
      ]
     },
     "metadata": {},
     "output_type": "display_data"
    }
   ],
   "source": [
    "test_predict_rescaled = np.zeros([244,], dtype='float32')"
   ]
  },
  {
   "cell_type": "code",
   "execution_count": 933,
   "metadata": {},
   "outputs": [
    {
     "data": {
      "application/javascript": "\n            setTimeout(function() {\n                var nbb_cell_id = 933;\n                var nbb_unformatted_code = \"for i, x in enumerate(_test_predict_scaled):\\n    if x[0] > .5:\\n        test_predict_rescaled[i] = 1\\n    else:\\n        test_predict_rescaled[i] = 0\";\n                var nbb_formatted_code = \"for i, x in enumerate(_test_predict_scaled):\\n    if x[0] > 0.5:\\n        test_predict_rescaled[i] = 1\\n    else:\\n        test_predict_rescaled[i] = 0\";\n                var nbb_cells = Jupyter.notebook.get_cells();\n                for (var i = 0; i < nbb_cells.length; ++i) {\n                    if (nbb_cells[i].input_prompt_number == nbb_cell_id) {\n                        if (nbb_cells[i].get_text() == nbb_unformatted_code) {\n                             nbb_cells[i].set_text(nbb_formatted_code);\n                        }\n                        break;\n                    }\n                }\n            }, 500);\n            ",
      "text/plain": [
       "<IPython.core.display.Javascript object>"
      ]
     },
     "metadata": {},
     "output_type": "display_data"
    }
   ],
   "source": [
    "for i, x in enumerate(_test_predict_scaled):\n",
    "    if x[0] > .5:\n",
    "        test_predict_rescaled[i] = 1\n",
    "    else:\n",
    "        test_predict_rescaled[i] = 0"
   ]
  },
  {
   "cell_type": "code",
   "execution_count": 954,
   "metadata": {},
   "outputs": [
    {
     "data": {
      "application/javascript": "\n            setTimeout(function() {\n                var nbb_cell_id = 954;\n                var nbb_unformatted_code = \"test_predict_rescaled = pd.Series(test_predict_rescaled, index=df.iloc[split+63:].index)\";\n                var nbb_formatted_code = \"test_predict_rescaled = pd.Series(\\n    test_predict_rescaled, index=df.iloc[split + 63 :].index\\n)\";\n                var nbb_cells = Jupyter.notebook.get_cells();\n                for (var i = 0; i < nbb_cells.length; ++i) {\n                    if (nbb_cells[i].input_prompt_number == nbb_cell_id) {\n                        if (nbb_cells[i].get_text() == nbb_unformatted_code) {\n                             nbb_cells[i].set_text(nbb_formatted_code);\n                        }\n                        break;\n                    }\n                }\n            }, 500);\n            ",
      "text/plain": [
       "<IPython.core.display.Javascript object>"
      ]
     },
     "metadata": {},
     "output_type": "display_data"
    }
   ],
   "source": [
    "test_predict_rescaled = pd.Series(test_predict_rescaled, index=df.iloc[split+63:].index)"
   ]
  },
  {
   "cell_type": "code",
   "execution_count": 955,
   "metadata": {},
   "outputs": [
    {
     "data": {
      "application/javascript": "\n            setTimeout(function() {\n                var nbb_cell_id = 955;\n                var nbb_unformatted_code = \"df_compare = df.iloc[-244:].copy()\";\n                var nbb_formatted_code = \"df_compare = df.iloc[-244:].copy()\";\n                var nbb_cells = Jupyter.notebook.get_cells();\n                for (var i = 0; i < nbb_cells.length; ++i) {\n                    if (nbb_cells[i].input_prompt_number == nbb_cell_id) {\n                        if (nbb_cells[i].get_text() == nbb_unformatted_code) {\n                             nbb_cells[i].set_text(nbb_formatted_code);\n                        }\n                        break;\n                    }\n                }\n            }, 500);\n            ",
      "text/plain": [
       "<IPython.core.display.Javascript object>"
      ]
     },
     "metadata": {},
     "output_type": "display_data"
    }
   ],
   "source": [
    "df_compare = df.iloc[-244:].copy()"
   ]
  },
  {
   "cell_type": "code",
   "execution_count": 956,
   "metadata": {},
   "outputs": [
    {
     "data": {
      "application/javascript": "\n            setTimeout(function() {\n                var nbb_cell_id = 956;\n                var nbb_unformatted_code = \"df_compare[\\\"preds\\\"] = test_predict_rescaled\";\n                var nbb_formatted_code = \"df_compare[\\\"preds\\\"] = test_predict_rescaled\";\n                var nbb_cells = Jupyter.notebook.get_cells();\n                for (var i = 0; i < nbb_cells.length; ++i) {\n                    if (nbb_cells[i].input_prompt_number == nbb_cell_id) {\n                        if (nbb_cells[i].get_text() == nbb_unformatted_code) {\n                             nbb_cells[i].set_text(nbb_formatted_code);\n                        }\n                        break;\n                    }\n                }\n            }, 500);\n            ",
      "text/plain": [
       "<IPython.core.display.Javascript object>"
      ]
     },
     "metadata": {},
     "output_type": "display_data"
    }
   ],
   "source": [
    "df_compare[\"preds\"] = test_predict_rescaled"
   ]
  },
  {
   "cell_type": "code",
   "execution_count": 957,
   "metadata": {},
   "outputs": [
    {
     "data": {
      "application/javascript": "\n            setTimeout(function() {\n                var nbb_cell_id = 957;\n                var nbb_unformatted_code = \"df_compare = df_compare[['5. adjusted close', 'preds', 'return', 'increase']].copy()\";\n                var nbb_formatted_code = \"df_compare = df_compare[[\\\"5. adjusted close\\\", \\\"preds\\\", \\\"return\\\", \\\"increase\\\"]].copy()\";\n                var nbb_cells = Jupyter.notebook.get_cells();\n                for (var i = 0; i < nbb_cells.length; ++i) {\n                    if (nbb_cells[i].input_prompt_number == nbb_cell_id) {\n                        if (nbb_cells[i].get_text() == nbb_unformatted_code) {\n                             nbb_cells[i].set_text(nbb_formatted_code);\n                        }\n                        break;\n                    }\n                }\n            }, 500);\n            ",
      "text/plain": [
       "<IPython.core.display.Javascript object>"
      ]
     },
     "metadata": {},
     "output_type": "display_data"
    }
   ],
   "source": [
    "df_compare = df_compare[['5. adjusted close', 'preds', 'return', 'increase']].copy()"
   ]
  },
  {
   "cell_type": "code",
   "execution_count": 958,
   "metadata": {},
   "outputs": [
    {
     "data": {
      "text/plain": [
       "1.0    126\n",
       "0.0    118\n",
       "Name: increase, dtype: int64"
      ]
     },
     "execution_count": 958,
     "metadata": {},
     "output_type": "execute_result"
    },
    {
     "data": {
      "application/javascript": "\n            setTimeout(function() {\n                var nbb_cell_id = 958;\n                var nbb_unformatted_code = \"df_compare.increase.value_counts()\";\n                var nbb_formatted_code = \"df_compare.increase.value_counts()\";\n                var nbb_cells = Jupyter.notebook.get_cells();\n                for (var i = 0; i < nbb_cells.length; ++i) {\n                    if (nbb_cells[i].input_prompt_number == nbb_cell_id) {\n                        if (nbb_cells[i].get_text() == nbb_unformatted_code) {\n                             nbb_cells[i].set_text(nbb_formatted_code);\n                        }\n                        break;\n                    }\n                }\n            }, 500);\n            ",
      "text/plain": [
       "<IPython.core.display.Javascript object>"
      ]
     },
     "metadata": {},
     "output_type": "display_data"
    }
   ],
   "source": [
    "df_compare.increase.value_counts()"
   ]
  },
  {
   "cell_type": "code",
   "execution_count": 959,
   "metadata": {},
   "outputs": [
    {
     "data": {
      "text/plain": [
       "1.0    0.516393\n",
       "0.0    0.483607\n",
       "Name: increase, dtype: float64"
      ]
     },
     "execution_count": 959,
     "metadata": {},
     "output_type": "execute_result"
    },
    {
     "data": {
      "application/javascript": "\n            setTimeout(function() {\n                var nbb_cell_id = 959;\n                var nbb_unformatted_code = \"df_compare.increase.value_counts(normalize=True)\";\n                var nbb_formatted_code = \"df_compare.increase.value_counts(normalize=True)\";\n                var nbb_cells = Jupyter.notebook.get_cells();\n                for (var i = 0; i < nbb_cells.length; ++i) {\n                    if (nbb_cells[i].input_prompt_number == nbb_cell_id) {\n                        if (nbb_cells[i].get_text() == nbb_unformatted_code) {\n                             nbb_cells[i].set_text(nbb_formatted_code);\n                        }\n                        break;\n                    }\n                }\n            }, 500);\n            ",
      "text/plain": [
       "<IPython.core.display.Javascript object>"
      ]
     },
     "metadata": {},
     "output_type": "display_data"
    }
   ],
   "source": [
    "df_compare.increase.value_counts(normalize=True)"
   ]
  },
  {
   "cell_type": "code",
   "execution_count": 960,
   "metadata": {},
   "outputs": [
    {
     "data": {
      "text/plain": [
       "1.0    155\n",
       "0.0     89\n",
       "Name: preds, dtype: int64"
      ]
     },
     "execution_count": 960,
     "metadata": {},
     "output_type": "execute_result"
    },
    {
     "data": {
      "application/javascript": "\n            setTimeout(function() {\n                var nbb_cell_id = 960;\n                var nbb_unformatted_code = \"df_compare.preds.value_counts()\";\n                var nbb_formatted_code = \"df_compare.preds.value_counts()\";\n                var nbb_cells = Jupyter.notebook.get_cells();\n                for (var i = 0; i < nbb_cells.length; ++i) {\n                    if (nbb_cells[i].input_prompt_number == nbb_cell_id) {\n                        if (nbb_cells[i].get_text() == nbb_unformatted_code) {\n                             nbb_cells[i].set_text(nbb_formatted_code);\n                        }\n                        break;\n                    }\n                }\n            }, 500);\n            ",
      "text/plain": [
       "<IPython.core.display.Javascript object>"
      ]
     },
     "metadata": {},
     "output_type": "display_data"
    }
   ],
   "source": [
    "df_compare.preds.value_counts()"
   ]
  },
  {
   "cell_type": "code",
   "execution_count": 961,
   "metadata": {},
   "outputs": [
    {
     "data": {
      "text/plain": [
       "1.0    0.635246\n",
       "0.0    0.364754\n",
       "Name: preds, dtype: float64"
      ]
     },
     "execution_count": 961,
     "metadata": {},
     "output_type": "execute_result"
    },
    {
     "data": {
      "application/javascript": "\n            setTimeout(function() {\n                var nbb_cell_id = 961;\n                var nbb_unformatted_code = \"df_compare.preds.value_counts(normalize=True)\";\n                var nbb_formatted_code = \"df_compare.preds.value_counts(normalize=True)\";\n                var nbb_cells = Jupyter.notebook.get_cells();\n                for (var i = 0; i < nbb_cells.length; ++i) {\n                    if (nbb_cells[i].input_prompt_number == nbb_cell_id) {\n                        if (nbb_cells[i].get_text() == nbb_unformatted_code) {\n                             nbb_cells[i].set_text(nbb_formatted_code);\n                        }\n                        break;\n                    }\n                }\n            }, 500);\n            ",
      "text/plain": [
       "<IPython.core.display.Javascript object>"
      ]
     },
     "metadata": {},
     "output_type": "display_data"
    }
   ],
   "source": [
    "df_compare.preds.value_counts(normalize=True)"
   ]
  },
  {
   "cell_type": "code",
   "execution_count": 962,
   "metadata": {},
   "outputs": [
    {
     "name": "stdout",
     "output_type": "stream",
     "text": [
      "Test Score: 0.5451 Accuracy\n"
     ]
    },
    {
     "data": {
      "application/javascript": "\n            setTimeout(function() {\n                var nbb_cell_id = 962;\n                var nbb_unformatted_code = \"testScore = accuracy_score(df_compare[\\\"increase\\\"].values, df_compare[\\\"preds\\\"].values)\\nprint(\\\"Test Score: %.4f Accuracy\\\" % (testScore))\";\n                var nbb_formatted_code = \"testScore = accuracy_score(df_compare[\\\"increase\\\"].values, df_compare[\\\"preds\\\"].values)\\nprint(\\\"Test Score: %.4f Accuracy\\\" % (testScore))\";\n                var nbb_cells = Jupyter.notebook.get_cells();\n                for (var i = 0; i < nbb_cells.length; ++i) {\n                    if (nbb_cells[i].input_prompt_number == nbb_cell_id) {\n                        if (nbb_cells[i].get_text() == nbb_unformatted_code) {\n                             nbb_cells[i].set_text(nbb_formatted_code);\n                        }\n                        break;\n                    }\n                }\n            }, 500);\n            ",
      "text/plain": [
       "<IPython.core.display.Javascript object>"
      ]
     },
     "metadata": {},
     "output_type": "display_data"
    }
   ],
   "source": [
    "testScore = accuracy_score(df_compare[\"increase\"].values, df_compare[\"preds\"].values)\n",
    "print(\"Test Score: %.4f Accuracy\" % (testScore))"
   ]
  },
  {
   "cell_type": "code",
   "execution_count": 963,
   "metadata": {},
   "outputs": [
    {
     "data": {
      "text/html": [
       "<div>\n",
       "<style scoped>\n",
       "    .dataframe tbody tr th:only-of-type {\n",
       "        vertical-align: middle;\n",
       "    }\n",
       "\n",
       "    .dataframe tbody tr th {\n",
       "        vertical-align: top;\n",
       "    }\n",
       "\n",
       "    .dataframe thead th {\n",
       "        text-align: right;\n",
       "    }\n",
       "</style>\n",
       "<table border=\"1\" class=\"dataframe\">\n",
       "  <thead>\n",
       "    <tr style=\"text-align: right;\">\n",
       "      <th></th>\n",
       "      <th>5. adjusted close</th>\n",
       "      <th>preds</th>\n",
       "      <th>return</th>\n",
       "      <th>increase</th>\n",
       "    </tr>\n",
       "    <tr>\n",
       "      <th>date</th>\n",
       "      <th></th>\n",
       "      <th></th>\n",
       "      <th></th>\n",
       "      <th></th>\n",
       "    </tr>\n",
       "  </thead>\n",
       "  <tbody>\n",
       "    <tr>\n",
       "      <th>2021-03-18</th>\n",
       "      <td>228.854221</td>\n",
       "      <td>0.0</td>\n",
       "      <td>-0.026662</td>\n",
       "      <td>0.0</td>\n",
       "    </tr>\n",
       "    <tr>\n",
       "      <th>2021-03-19</th>\n",
       "      <td>228.487213</td>\n",
       "      <td>0.0</td>\n",
       "      <td>-0.001604</td>\n",
       "      <td>0.0</td>\n",
       "    </tr>\n",
       "    <tr>\n",
       "      <th>2021-03-22</th>\n",
       "      <td>234.081604</td>\n",
       "      <td>1.0</td>\n",
       "      <td>0.024484</td>\n",
       "      <td>1.0</td>\n",
       "    </tr>\n",
       "    <tr>\n",
       "      <th>2021-03-23</th>\n",
       "      <td>235.658746</td>\n",
       "      <td>0.0</td>\n",
       "      <td>0.006738</td>\n",
       "      <td>1.0</td>\n",
       "    </tr>\n",
       "    <tr>\n",
       "      <th>2021-03-24</th>\n",
       "      <td>233.555890</td>\n",
       "      <td>0.0</td>\n",
       "      <td>-0.008923</td>\n",
       "      <td>0.0</td>\n",
       "    </tr>\n",
       "  </tbody>\n",
       "</table>\n",
       "</div>"
      ],
      "text/plain": [
       "            5. adjusted close  preds    return  increase\n",
       "date                                                    \n",
       "2021-03-18         228.854221    0.0 -0.026662       0.0\n",
       "2021-03-19         228.487213    0.0 -0.001604       0.0\n",
       "2021-03-22         234.081604    1.0  0.024484       1.0\n",
       "2021-03-23         235.658746    0.0  0.006738       1.0\n",
       "2021-03-24         233.555890    0.0 -0.008923       0.0"
      ]
     },
     "execution_count": 963,
     "metadata": {},
     "output_type": "execute_result"
    },
    {
     "data": {
      "application/javascript": "\n            setTimeout(function() {\n                var nbb_cell_id = 963;\n                var nbb_unformatted_code = \"df_compare.head()\";\n                var nbb_formatted_code = \"df_compare.head()\";\n                var nbb_cells = Jupyter.notebook.get_cells();\n                for (var i = 0; i < nbb_cells.length; ++i) {\n                    if (nbb_cells[i].input_prompt_number == nbb_cell_id) {\n                        if (nbb_cells[i].get_text() == nbb_unformatted_code) {\n                             nbb_cells[i].set_text(nbb_formatted_code);\n                        }\n                        break;\n                    }\n                }\n            }, 500);\n            ",
      "text/plain": [
       "<IPython.core.display.Javascript object>"
      ]
     },
     "metadata": {},
     "output_type": "display_data"
    }
   ],
   "source": [
    "df_compare.head()"
   ]
  },
  {
   "cell_type": "code",
   "execution_count": 964,
   "metadata": {},
   "outputs": [
    {
     "data": {
      "text/html": [
       "<div>\n",
       "<style scoped>\n",
       "    .dataframe tbody tr th:only-of-type {\n",
       "        vertical-align: middle;\n",
       "    }\n",
       "\n",
       "    .dataframe tbody tr th {\n",
       "        vertical-align: top;\n",
       "    }\n",
       "\n",
       "    .dataframe thead th {\n",
       "        text-align: right;\n",
       "    }\n",
       "</style>\n",
       "<table border=\"1\" class=\"dataframe\">\n",
       "  <thead>\n",
       "    <tr style=\"text-align: right;\">\n",
       "      <th></th>\n",
       "      <th>5. adjusted close</th>\n",
       "      <th>preds</th>\n",
       "      <th>return</th>\n",
       "      <th>increase</th>\n",
       "    </tr>\n",
       "    <tr>\n",
       "      <th>date</th>\n",
       "      <th></th>\n",
       "      <th></th>\n",
       "      <th></th>\n",
       "      <th></th>\n",
       "    </tr>\n",
       "  </thead>\n",
       "  <tbody>\n",
       "    <tr>\n",
       "      <th>2022-02-28</th>\n",
       "      <td>298.79</td>\n",
       "      <td>0.0</td>\n",
       "      <td>0.004978</td>\n",
       "      <td>1.0</td>\n",
       "    </tr>\n",
       "    <tr>\n",
       "      <th>2022-03-01</th>\n",
       "      <td>294.95</td>\n",
       "      <td>0.0</td>\n",
       "      <td>-0.012852</td>\n",
       "      <td>0.0</td>\n",
       "    </tr>\n",
       "    <tr>\n",
       "      <th>2022-03-02</th>\n",
       "      <td>300.19</td>\n",
       "      <td>1.0</td>\n",
       "      <td>0.017766</td>\n",
       "      <td>1.0</td>\n",
       "    </tr>\n",
       "    <tr>\n",
       "      <th>2022-03-03</th>\n",
       "      <td>295.92</td>\n",
       "      <td>0.0</td>\n",
       "      <td>-0.014224</td>\n",
       "      <td>0.0</td>\n",
       "    </tr>\n",
       "    <tr>\n",
       "      <th>2022-03-04</th>\n",
       "      <td>289.86</td>\n",
       "      <td>0.0</td>\n",
       "      <td>-0.020479</td>\n",
       "      <td>0.0</td>\n",
       "    </tr>\n",
       "  </tbody>\n",
       "</table>\n",
       "</div>"
      ],
      "text/plain": [
       "            5. adjusted close  preds    return  increase\n",
       "date                                                    \n",
       "2022-02-28             298.79    0.0  0.004978       1.0\n",
       "2022-03-01             294.95    0.0 -0.012852       0.0\n",
       "2022-03-02             300.19    1.0  0.017766       1.0\n",
       "2022-03-03             295.92    0.0 -0.014224       0.0\n",
       "2022-03-04             289.86    0.0 -0.020479       0.0"
      ]
     },
     "execution_count": 964,
     "metadata": {},
     "output_type": "execute_result"
    },
    {
     "data": {
      "application/javascript": "\n            setTimeout(function() {\n                var nbb_cell_id = 964;\n                var nbb_unformatted_code = \"df_compare.tail()\";\n                var nbb_formatted_code = \"df_compare.tail()\";\n                var nbb_cells = Jupyter.notebook.get_cells();\n                for (var i = 0; i < nbb_cells.length; ++i) {\n                    if (nbb_cells[i].input_prompt_number == nbb_cell_id) {\n                        if (nbb_cells[i].get_text() == nbb_unformatted_code) {\n                             nbb_cells[i].set_text(nbb_formatted_code);\n                        }\n                        break;\n                    }\n                }\n            }, 500);\n            ",
      "text/plain": [
       "<IPython.core.display.Javascript object>"
      ]
     },
     "metadata": {},
     "output_type": "display_data"
    }
   ],
   "source": [
    "df_compare.tail()"
   ]
  },
  {
   "cell_type": "code",
   "execution_count": 965,
   "metadata": {},
   "outputs": [
    {
     "data": {
      "application/javascript": "\n            setTimeout(function() {\n                var nbb_cell_id = 965;\n                var nbb_unformatted_code = \"df_compare[\\\"increase\\\"] = df_compare[\\\"increase\\\"].shift(-1)\\ndf_compare[\\\"return\\\"] = df_compare[\\\"return\\\"].shift(-1)\\ndf_compare[\\\"preds\\\"] = df_compare[\\\"preds\\\"].shift(-1)\";\n                var nbb_formatted_code = \"df_compare[\\\"increase\\\"] = df_compare[\\\"increase\\\"].shift(-1)\\ndf_compare[\\\"return\\\"] = df_compare[\\\"return\\\"].shift(-1)\\ndf_compare[\\\"preds\\\"] = df_compare[\\\"preds\\\"].shift(-1)\";\n                var nbb_cells = Jupyter.notebook.get_cells();\n                for (var i = 0; i < nbb_cells.length; ++i) {\n                    if (nbb_cells[i].input_prompt_number == nbb_cell_id) {\n                        if (nbb_cells[i].get_text() == nbb_unformatted_code) {\n                             nbb_cells[i].set_text(nbb_formatted_code);\n                        }\n                        break;\n                    }\n                }\n            }, 500);\n            ",
      "text/plain": [
       "<IPython.core.display.Javascript object>"
      ]
     },
     "metadata": {},
     "output_type": "display_data"
    }
   ],
   "source": [
    "df_compare[\"increase\"] = df_compare[\"increase\"].shift(-1)\n",
    "df_compare[\"return\"] = df_compare[\"return\"].shift(-1)\n",
    "df_compare[\"preds\"] = df_compare[\"preds\"].shift(-1)"
   ]
  },
  {
   "cell_type": "code",
   "execution_count": 966,
   "metadata": {},
   "outputs": [
    {
     "data": {
      "text/html": [
       "<div>\n",
       "<style scoped>\n",
       "    .dataframe tbody tr th:only-of-type {\n",
       "        vertical-align: middle;\n",
       "    }\n",
       "\n",
       "    .dataframe tbody tr th {\n",
       "        vertical-align: top;\n",
       "    }\n",
       "\n",
       "    .dataframe thead th {\n",
       "        text-align: right;\n",
       "    }\n",
       "</style>\n",
       "<table border=\"1\" class=\"dataframe\">\n",
       "  <thead>\n",
       "    <tr style=\"text-align: right;\">\n",
       "      <th></th>\n",
       "      <th>5. adjusted close</th>\n",
       "      <th>preds</th>\n",
       "      <th>return</th>\n",
       "      <th>increase</th>\n",
       "    </tr>\n",
       "    <tr>\n",
       "      <th>date</th>\n",
       "      <th></th>\n",
       "      <th></th>\n",
       "      <th></th>\n",
       "      <th></th>\n",
       "    </tr>\n",
       "  </thead>\n",
       "  <tbody>\n",
       "    <tr>\n",
       "      <th>2021-03-18</th>\n",
       "      <td>228.854221</td>\n",
       "      <td>0.0</td>\n",
       "      <td>-0.001604</td>\n",
       "      <td>0.0</td>\n",
       "    </tr>\n",
       "    <tr>\n",
       "      <th>2021-03-19</th>\n",
       "      <td>228.487213</td>\n",
       "      <td>1.0</td>\n",
       "      <td>0.024484</td>\n",
       "      <td>1.0</td>\n",
       "    </tr>\n",
       "    <tr>\n",
       "      <th>2021-03-22</th>\n",
       "      <td>234.081604</td>\n",
       "      <td>0.0</td>\n",
       "      <td>0.006738</td>\n",
       "      <td>1.0</td>\n",
       "    </tr>\n",
       "    <tr>\n",
       "      <th>2021-03-23</th>\n",
       "      <td>235.658746</td>\n",
       "      <td>0.0</td>\n",
       "      <td>-0.008923</td>\n",
       "      <td>0.0</td>\n",
       "    </tr>\n",
       "    <tr>\n",
       "      <th>2021-03-24</th>\n",
       "      <td>233.555890</td>\n",
       "      <td>0.0</td>\n",
       "      <td>-0.013251</td>\n",
       "      <td>0.0</td>\n",
       "    </tr>\n",
       "  </tbody>\n",
       "</table>\n",
       "</div>"
      ],
      "text/plain": [
       "            5. adjusted close  preds    return  increase\n",
       "date                                                    \n",
       "2021-03-18         228.854221    0.0 -0.001604       0.0\n",
       "2021-03-19         228.487213    1.0  0.024484       1.0\n",
       "2021-03-22         234.081604    0.0  0.006738       1.0\n",
       "2021-03-23         235.658746    0.0 -0.008923       0.0\n",
       "2021-03-24         233.555890    0.0 -0.013251       0.0"
      ]
     },
     "execution_count": 966,
     "metadata": {},
     "output_type": "execute_result"
    },
    {
     "data": {
      "application/javascript": "\n            setTimeout(function() {\n                var nbb_cell_id = 966;\n                var nbb_unformatted_code = \"df_compare.head()\";\n                var nbb_formatted_code = \"df_compare.head()\";\n                var nbb_cells = Jupyter.notebook.get_cells();\n                for (var i = 0; i < nbb_cells.length; ++i) {\n                    if (nbb_cells[i].input_prompt_number == nbb_cell_id) {\n                        if (nbb_cells[i].get_text() == nbb_unformatted_code) {\n                             nbb_cells[i].set_text(nbb_formatted_code);\n                        }\n                        break;\n                    }\n                }\n            }, 500);\n            ",
      "text/plain": [
       "<IPython.core.display.Javascript object>"
      ]
     },
     "metadata": {},
     "output_type": "display_data"
    }
   ],
   "source": [
    "df_compare.head()"
   ]
  },
  {
   "cell_type": "code",
   "execution_count": 967,
   "metadata": {},
   "outputs": [
    {
     "data": {
      "text/html": [
       "<div>\n",
       "<style scoped>\n",
       "    .dataframe tbody tr th:only-of-type {\n",
       "        vertical-align: middle;\n",
       "    }\n",
       "\n",
       "    .dataframe tbody tr th {\n",
       "        vertical-align: top;\n",
       "    }\n",
       "\n",
       "    .dataframe thead th {\n",
       "        text-align: right;\n",
       "    }\n",
       "</style>\n",
       "<table border=\"1\" class=\"dataframe\">\n",
       "  <thead>\n",
       "    <tr style=\"text-align: right;\">\n",
       "      <th></th>\n",
       "      <th>5. adjusted close</th>\n",
       "      <th>preds</th>\n",
       "      <th>return</th>\n",
       "      <th>increase</th>\n",
       "    </tr>\n",
       "    <tr>\n",
       "      <th>date</th>\n",
       "      <th></th>\n",
       "      <th></th>\n",
       "      <th></th>\n",
       "      <th></th>\n",
       "    </tr>\n",
       "  </thead>\n",
       "  <tbody>\n",
       "    <tr>\n",
       "      <th>2022-02-28</th>\n",
       "      <td>298.79</td>\n",
       "      <td>0.0</td>\n",
       "      <td>-0.012852</td>\n",
       "      <td>0.0</td>\n",
       "    </tr>\n",
       "    <tr>\n",
       "      <th>2022-03-01</th>\n",
       "      <td>294.95</td>\n",
       "      <td>1.0</td>\n",
       "      <td>0.017766</td>\n",
       "      <td>1.0</td>\n",
       "    </tr>\n",
       "    <tr>\n",
       "      <th>2022-03-02</th>\n",
       "      <td>300.19</td>\n",
       "      <td>0.0</td>\n",
       "      <td>-0.014224</td>\n",
       "      <td>0.0</td>\n",
       "    </tr>\n",
       "    <tr>\n",
       "      <th>2022-03-03</th>\n",
       "      <td>295.92</td>\n",
       "      <td>0.0</td>\n",
       "      <td>-0.020479</td>\n",
       "      <td>0.0</td>\n",
       "    </tr>\n",
       "    <tr>\n",
       "      <th>2022-03-04</th>\n",
       "      <td>289.86</td>\n",
       "      <td>NaN</td>\n",
       "      <td>NaN</td>\n",
       "      <td>NaN</td>\n",
       "    </tr>\n",
       "  </tbody>\n",
       "</table>\n",
       "</div>"
      ],
      "text/plain": [
       "            5. adjusted close  preds    return  increase\n",
       "date                                                    \n",
       "2022-02-28             298.79    0.0 -0.012852       0.0\n",
       "2022-03-01             294.95    1.0  0.017766       1.0\n",
       "2022-03-02             300.19    0.0 -0.014224       0.0\n",
       "2022-03-03             295.92    0.0 -0.020479       0.0\n",
       "2022-03-04             289.86    NaN       NaN       NaN"
      ]
     },
     "execution_count": 967,
     "metadata": {},
     "output_type": "execute_result"
    },
    {
     "data": {
      "application/javascript": "\n            setTimeout(function() {\n                var nbb_cell_id = 967;\n                var nbb_unformatted_code = \"df_compare.tail()\";\n                var nbb_formatted_code = \"df_compare.tail()\";\n                var nbb_cells = Jupyter.notebook.get_cells();\n                for (var i = 0; i < nbb_cells.length; ++i) {\n                    if (nbb_cells[i].input_prompt_number == nbb_cell_id) {\n                        if (nbb_cells[i].get_text() == nbb_unformatted_code) {\n                             nbb_cells[i].set_text(nbb_formatted_code);\n                        }\n                        break;\n                    }\n                }\n            }, 500);\n            ",
      "text/plain": [
       "<IPython.core.display.Javascript object>"
      ]
     },
     "metadata": {},
     "output_type": "display_data"
    }
   ],
   "source": [
    "df_compare.tail()"
   ]
  },
  {
   "cell_type": "code",
   "execution_count": 968,
   "metadata": {},
   "outputs": [
    {
     "data": {
      "application/javascript": "\n            setTimeout(function() {\n                var nbb_cell_id = 968;\n                var nbb_unformatted_code = \"df_compare = df_compare.drop(\\\"2021-03-18\\\")\";\n                var nbb_formatted_code = \"df_compare = df_compare.drop(\\\"2021-03-18\\\")\";\n                var nbb_cells = Jupyter.notebook.get_cells();\n                for (var i = 0; i < nbb_cells.length; ++i) {\n                    if (nbb_cells[i].input_prompt_number == nbb_cell_id) {\n                        if (nbb_cells[i].get_text() == nbb_unformatted_code) {\n                             nbb_cells[i].set_text(nbb_formatted_code);\n                        }\n                        break;\n                    }\n                }\n            }, 500);\n            ",
      "text/plain": [
       "<IPython.core.display.Javascript object>"
      ]
     },
     "metadata": {},
     "output_type": "display_data"
    }
   ],
   "source": [
    "df_compare = df_compare.drop(\"2021-03-18\")\n"
   ]
  },
  {
   "cell_type": "markdown",
   "metadata": {},
   "source": [
    "### Postive Increase Prediction %"
   ]
  },
  {
   "cell_type": "code",
   "execution_count": 969,
   "metadata": {},
   "outputs": [
    {
     "data": {
      "text/plain": [
       "0.6746031746031746"
      ]
     },
     "execution_count": 969,
     "metadata": {},
     "output_type": "execute_result"
    },
    {
     "data": {
      "application/javascript": "\n            setTimeout(function() {\n                var nbb_cell_id = 969;\n                var nbb_unformatted_code = \"df_compare[(df_compare[\\\"increase\\\"]==1) & (df_compare[\\\"preds\\\"]==1)].shape[0] / df_compare[(df_compare[\\\"increase\\\"]==1)].shape[0]\";\n                var nbb_formatted_code = \"df_compare[(df_compare[\\\"increase\\\"] == 1) & (df_compare[\\\"preds\\\"] == 1)].shape[\\n    0\\n] / df_compare[(df_compare[\\\"increase\\\"] == 1)].shape[0]\";\n                var nbb_cells = Jupyter.notebook.get_cells();\n                for (var i = 0; i < nbb_cells.length; ++i) {\n                    if (nbb_cells[i].input_prompt_number == nbb_cell_id) {\n                        if (nbb_cells[i].get_text() == nbb_unformatted_code) {\n                             nbb_cells[i].set_text(nbb_formatted_code);\n                        }\n                        break;\n                    }\n                }\n            }, 500);\n            ",
      "text/plain": [
       "<IPython.core.display.Javascript object>"
      ]
     },
     "metadata": {},
     "output_type": "display_data"
    }
   ],
   "source": [
    "df_compare[(df_compare[\"increase\"]==1) & (df_compare[\"preds\"]==1)].shape[0] / df_compare[(df_compare[\"increase\"]==1)].shape[0]"
   ]
  },
  {
   "cell_type": "markdown",
   "metadata": {},
   "source": [
    "### Negative Increase Prediction %"
   ]
  },
  {
   "cell_type": "code",
   "execution_count": 970,
   "metadata": {},
   "outputs": [
    {
     "data": {
      "text/plain": [
       "0.39655172413793105"
      ]
     },
     "execution_count": 970,
     "metadata": {},
     "output_type": "execute_result"
    },
    {
     "data": {
      "application/javascript": "\n            setTimeout(function() {\n                var nbb_cell_id = 970;\n                var nbb_unformatted_code = \"df_compare[(df_compare[\\\"increase\\\"]==0) & (df_compare[\\\"preds\\\"]==0)].shape[0] / df_compare[(df_compare[\\\"increase\\\"]==0)].shape[0]\";\n                var nbb_formatted_code = \"df_compare[(df_compare[\\\"increase\\\"] == 0) & (df_compare[\\\"preds\\\"] == 0)].shape[\\n    0\\n] / df_compare[(df_compare[\\\"increase\\\"] == 0)].shape[0]\";\n                var nbb_cells = Jupyter.notebook.get_cells();\n                for (var i = 0; i < nbb_cells.length; ++i) {\n                    if (nbb_cells[i].input_prompt_number == nbb_cell_id) {\n                        if (nbb_cells[i].get_text() == nbb_unformatted_code) {\n                             nbb_cells[i].set_text(nbb_formatted_code);\n                        }\n                        break;\n                    }\n                }\n            }, 500);\n            ",
      "text/plain": [
       "<IPython.core.display.Javascript object>"
      ]
     },
     "metadata": {},
     "output_type": "display_data"
    }
   ],
   "source": [
    "df_compare[(df_compare[\"increase\"]==0) & (df_compare[\"preds\"]==0)].shape[0] / df_compare[(df_compare[\"increase\"]==0)].shape[0]"
   ]
  },
  {
   "cell_type": "markdown",
   "metadata": {},
   "source": [
    "### Overall Prediction Accuracy %"
   ]
  },
  {
   "cell_type": "code",
   "execution_count": 971,
   "metadata": {},
   "outputs": [
    {
     "data": {
      "text/plain": [
       "0.5390946502057613"
      ]
     },
     "execution_count": 971,
     "metadata": {},
     "output_type": "execute_result"
    },
    {
     "data": {
      "application/javascript": "\n            setTimeout(function() {\n                var nbb_cell_id = 971;\n                var nbb_unformatted_code = \"df_compare[(df_compare[\\\"increase\\\"] == df_compare[\\\"preds\\\"])].shape[0] / (df_compare.shape[0])\";\n                var nbb_formatted_code = \"df_compare[(df_compare[\\\"increase\\\"] == df_compare[\\\"preds\\\"])].shape[0] / (\\n    df_compare.shape[0]\\n)\";\n                var nbb_cells = Jupyter.notebook.get_cells();\n                for (var i = 0; i < nbb_cells.length; ++i) {\n                    if (nbb_cells[i].input_prompt_number == nbb_cell_id) {\n                        if (nbb_cells[i].get_text() == nbb_unformatted_code) {\n                             nbb_cells[i].set_text(nbb_formatted_code);\n                        }\n                        break;\n                    }\n                }\n            }, 500);\n            ",
      "text/plain": [
       "<IPython.core.display.Javascript object>"
      ]
     },
     "metadata": {},
     "output_type": "display_data"
    }
   ],
   "source": [
    "df_compare[(df_compare[\"increase\"] == df_compare[\"preds\"])].shape[0] / (df_compare.shape[0])"
   ]
  },
  {
   "cell_type": "markdown",
   "metadata": {},
   "source": [
    "### Actual Distribution of Increase (1) vs. Decrease (0)"
   ]
  },
  {
   "cell_type": "code",
   "execution_count": 972,
   "metadata": {},
   "outputs": [
    {
     "data": {
      "text/plain": [
       "1.0    0.520661\n",
       "0.0    0.479339\n",
       "Name: increase, dtype: float64"
      ]
     },
     "execution_count": 972,
     "metadata": {},
     "output_type": "execute_result"
    },
    {
     "data": {
      "application/javascript": "\n            setTimeout(function() {\n                var nbb_cell_id = 972;\n                var nbb_unformatted_code = \"df_compare[\\\"increase\\\"].value_counts(normalize=True)\";\n                var nbb_formatted_code = \"df_compare[\\\"increase\\\"].value_counts(normalize=True)\";\n                var nbb_cells = Jupyter.notebook.get_cells();\n                for (var i = 0; i < nbb_cells.length; ++i) {\n                    if (nbb_cells[i].input_prompt_number == nbb_cell_id) {\n                        if (nbb_cells[i].get_text() == nbb_unformatted_code) {\n                             nbb_cells[i].set_text(nbb_formatted_code);\n                        }\n                        break;\n                    }\n                }\n            }, 500);\n            ",
      "text/plain": [
       "<IPython.core.display.Javascript object>"
      ]
     },
     "metadata": {},
     "output_type": "display_data"
    }
   ],
   "source": [
    "df_compare[\"increase\"].value_counts(normalize=True)"
   ]
  },
  {
   "cell_type": "markdown",
   "metadata": {},
   "source": [
    "### Predicted Distribution of Increase (1) vs. Decrease (0)"
   ]
  },
  {
   "cell_type": "code",
   "execution_count": 974,
   "metadata": {},
   "outputs": [
    {
     "data": {
      "text/plain": [
       "1.0    155\n",
       "0.0     87\n",
       "Name: preds, dtype: int64"
      ]
     },
     "execution_count": 974,
     "metadata": {},
     "output_type": "execute_result"
    },
    {
     "data": {
      "application/javascript": "\n            setTimeout(function() {\n                var nbb_cell_id = 974;\n                var nbb_unformatted_code = \"df_compare[\\\"preds\\\"].value_counts()\";\n                var nbb_formatted_code = \"df_compare[\\\"preds\\\"].value_counts()\";\n                var nbb_cells = Jupyter.notebook.get_cells();\n                for (var i = 0; i < nbb_cells.length; ++i) {\n                    if (nbb_cells[i].input_prompt_number == nbb_cell_id) {\n                        if (nbb_cells[i].get_text() == nbb_unformatted_code) {\n                             nbb_cells[i].set_text(nbb_formatted_code);\n                        }\n                        break;\n                    }\n                }\n            }, 500);\n            ",
      "text/plain": [
       "<IPython.core.display.Javascript object>"
      ]
     },
     "metadata": {},
     "output_type": "display_data"
    }
   ],
   "source": [
    "df_compare[\"preds\"].value_counts()"
   ]
  },
  {
   "cell_type": "code",
   "execution_count": 975,
   "metadata": {},
   "outputs": [
    {
     "data": {
      "text/plain": [
       "1.0    0.640496\n",
       "0.0    0.359504\n",
       "Name: preds, dtype: float64"
      ]
     },
     "execution_count": 975,
     "metadata": {},
     "output_type": "execute_result"
    },
    {
     "data": {
      "application/javascript": "\n            setTimeout(function() {\n                var nbb_cell_id = 975;\n                var nbb_unformatted_code = \"df_compare[\\\"preds\\\"].value_counts(normalize=True)\";\n                var nbb_formatted_code = \"df_compare[\\\"preds\\\"].value_counts(normalize=True)\";\n                var nbb_cells = Jupyter.notebook.get_cells();\n                for (var i = 0; i < nbb_cells.length; ++i) {\n                    if (nbb_cells[i].input_prompt_number == nbb_cell_id) {\n                        if (nbb_cells[i].get_text() == nbb_unformatted_code) {\n                             nbb_cells[i].set_text(nbb_formatted_code);\n                        }\n                        break;\n                    }\n                }\n            }, 500);\n            ",
      "text/plain": [
       "<IPython.core.display.Javascript object>"
      ]
     },
     "metadata": {},
     "output_type": "display_data"
    }
   ],
   "source": [
    "df_compare[\"preds\"].value_counts(normalize=True)"
   ]
  }
 ],
 "metadata": {
  "kernelspec": {
   "display_name": "Python 3",
   "language": "python",
   "name": "python3"
  },
  "language_info": {
   "codemirror_mode": {
    "name": "ipython",
    "version": 3
   },
   "file_extension": ".py",
   "mimetype": "text/x-python",
   "name": "python",
   "nbconvert_exporter": "python",
   "pygments_lexer": "ipython3",
   "version": "3.8.10"
  }
 },
 "nbformat": 4,
 "nbformat_minor": 4
}
