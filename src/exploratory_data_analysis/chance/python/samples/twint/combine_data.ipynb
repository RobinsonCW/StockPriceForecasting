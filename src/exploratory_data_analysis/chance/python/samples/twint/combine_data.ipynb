{
 "cells": [
  {
   "cell_type": "code",
   "execution_count": 1,
   "metadata": {},
   "outputs": [],
   "source": [
    "import pandas as pd\n",
    "import numpy as np\n",
    "import os\n",
    "import pathlib\n",
    "import time\n",
    "import json"
   ]
  },
  {
   "cell_type": "code",
   "execution_count": 2,
   "metadata": {},
   "outputs": [],
   "source": [
    "%matplotlib inline\n",
    "\n",
    "import matplotlib.pyplot as plt\n",
    "import seaborn as sns\n",
    "\n",
    "import numpy as np\n",
    "\n",
    "sns.set_style('whitegrid')\n",
    "np.random.seed(42)"
   ]
  },
  {
   "cell_type": "code",
   "execution_count": 3,
   "metadata": {},
   "outputs": [],
   "source": [
    "pd. set_option('display.max_columns', 500)\n",
    "pd.set_option('display.max_colwidth', 0)"
   ]
  },
  {
   "cell_type": "code",
   "execution_count": 4,
   "metadata": {},
   "outputs": [],
   "source": [
    "csv_path = \"../../../../../../data/twint/\""
   ]
  },
  {
   "cell_type": "code",
   "execution_count": 15,
   "metadata": {},
   "outputs": [],
   "source": [
    "from datetime import date, datetime, timedelta\n",
    "\n",
    "def date_range(start_date, end_date):\n",
    "    delta = end_date - start_date  # as timedelta\n",
    "    days = [(start_date + timedelta(days=i)).strftime(\"%Y-%m-%d\") for i in range(delta.days + 1)]\n",
    "    return days # YYYY-MM-DD\n"
   ]
  },
  {
   "cell_type": "code",
   "execution_count": 16,
   "metadata": {},
   "outputs": [],
   "source": [
    "ticker = \"AAPL,MSFT,AMZN,FB,GOOG,GOOGL,TSLA,NVDA,PYPL,ASML,INTC,CMCSA,NFLX,ADBE,CSCO,PEP,AVGO,TXN,TMUS\""
   ]
  },
  {
   "cell_type": "code",
   "execution_count": 17,
   "metadata": {},
   "outputs": [],
   "source": [
    "p = pathlib.Path.cwd().glob(\"../../../../../../data/twint/*.csv\")\n",
    "files = [x for x in p if x.is_file()]\n",
    "\n",
    "files.sort()  # sort the files by year"
   ]
  },
  {
   "cell_type": "code",
   "execution_count": 18,
   "metadata": {},
   "outputs": [
    {
     "data": {
      "text/plain": [
       "[PosixPath('/app/StockPricePredictions/src/exploratory_data_analysis/chance/python/samples/twint/../../../../../../data/twint/AAPL_twint_2010.csv'),\n",
       " PosixPath('/app/StockPricePredictions/src/exploratory_data_analysis/chance/python/samples/twint/../../../../../../data/twint/AAPL_twint_2011.csv'),\n",
       " PosixPath('/app/StockPricePredictions/src/exploratory_data_analysis/chance/python/samples/twint/../../../../../../data/twint/AAPL_twint_2012.csv'),\n",
       " PosixPath('/app/StockPricePredictions/src/exploratory_data_analysis/chance/python/samples/twint/../../../../../../data/twint/AAPL_twint_2013.csv'),\n",
       " PosixPath('/app/StockPricePredictions/src/exploratory_data_analysis/chance/python/samples/twint/../../../../../../data/twint/AAPL_twint_2014.csv'),\n",
       " PosixPath('/app/StockPricePredictions/src/exploratory_data_analysis/chance/python/samples/twint/../../../../../../data/twint/AAPL_twint_2015.csv'),\n",
       " PosixPath('/app/StockPricePredictions/src/exploratory_data_analysis/chance/python/samples/twint/../../../../../../data/twint/AAPL_twint_2016.csv'),\n",
       " PosixPath('/app/StockPricePredictions/src/exploratory_data_analysis/chance/python/samples/twint/../../../../../../data/twint/AAPL_twint_2017.csv'),\n",
       " PosixPath('/app/StockPricePredictions/src/exploratory_data_analysis/chance/python/samples/twint/../../../../../../data/twint/AAPL_twint_2018.csv'),\n",
       " PosixPath('/app/StockPricePredictions/src/exploratory_data_analysis/chance/python/samples/twint/../../../../../../data/twint/AAPL_twint_2019.csv'),\n",
       " PosixPath('/app/StockPricePredictions/src/exploratory_data_analysis/chance/python/samples/twint/../../../../../../data/twint/AAPL_twint_2020.csv'),\n",
       " PosixPath('/app/StockPricePredictions/src/exploratory_data_analysis/chance/python/samples/twint/../../../../../../data/twint/AAPL_twint_2021.csv'),\n",
       " PosixPath('/app/StockPricePredictions/src/exploratory_data_analysis/chance/python/samples/twint/../../../../../../data/twint/AAPL_twint_2022.csv')]"
      ]
     },
     "execution_count": 18,
     "metadata": {},
     "output_type": "execute_result"
    }
   ],
   "source": [
    "files"
   ]
  },
  {
   "cell_type": "code",
   "execution_count": 20,
   "metadata": {},
   "outputs": [],
   "source": [
    "all_dfs = []\n",
    "\n",
    "for f in files:\n",
    "\n",
    "    _df = pd.read_csv(f, lineterminator='\\n')\n",
    "\n",
    "    all_dfs.append(_df)\n",
    "\n",
    "    # start_date = date(int(f.stem), 1, 1)\n",
    "    # end_date = date(int(f.stem), 12, 31)\n",
    "\n",
    "    # if int(f.stem) == 2022:\n",
    "    #     end_date = date(int(f.stem), 3, 4)\n",
    "\n",
    "    # date_list = date_range(start_date, end_date)\n",
    "    # print(start_date)\n",
    "    \n",
    "    # # Opening JSON file\n",
    "    # with open(f) as json_file:\n",
    "    #     data = json.load(json_file)\n",
    "    #     for i in date_list:\n",
    "    #         df_x = pd.DataFrame(data[i])\n",
    "    #         df_x[\"date\"] = datetime.strptime(i, \"%Y-%m-%d\")\n",
    "    #         all_dfs.append(df_x)"
   ]
  },
  {
   "cell_type": "code",
   "execution_count": 21,
   "metadata": {},
   "outputs": [],
   "source": [
    "df_combined = pd.concat(all_dfs)"
   ]
  },
  {
   "cell_type": "code",
   "execution_count": 22,
   "metadata": {},
   "outputs": [
    {
     "data": {
      "text/html": [
       "<div>\n",
       "<style scoped>\n",
       "    .dataframe tbody tr th:only-of-type {\n",
       "        vertical-align: middle;\n",
       "    }\n",
       "\n",
       "    .dataframe tbody tr th {\n",
       "        vertical-align: top;\n",
       "    }\n",
       "\n",
       "    .dataframe thead th {\n",
       "        text-align: right;\n",
       "    }\n",
       "</style>\n",
       "<table border=\"1\" class=\"dataframe\">\n",
       "  <thead>\n",
       "    <tr style=\"text-align: right;\">\n",
       "      <th></th>\n",
       "      <th>id</th>\n",
       "      <th>conversation_id</th>\n",
       "      <th>created_at</th>\n",
       "      <th>date</th>\n",
       "      <th>timezone</th>\n",
       "      <th>place</th>\n",
       "      <th>tweet</th>\n",
       "      <th>language</th>\n",
       "      <th>hashtags</th>\n",
       "      <th>cashtags</th>\n",
       "      <th>...</th>\n",
       "      <th>geo</th>\n",
       "      <th>source</th>\n",
       "      <th>user_rt_id</th>\n",
       "      <th>user_rt</th>\n",
       "      <th>retweet_id</th>\n",
       "      <th>reply_to</th>\n",
       "      <th>retweet_date</th>\n",
       "      <th>translate</th>\n",
       "      <th>trans_src</th>\n",
       "      <th>trans_dest</th>\n",
       "    </tr>\n",
       "  </thead>\n",
       "  <tbody>\n",
       "    <tr>\n",
       "      <th>0</th>\n",
       "      <td>7273036289</td>\n",
       "      <td>7273036289</td>\n",
       "      <td>1.262365e+12</td>\n",
       "      <td>2010-01-01</td>\n",
       "      <td>0</td>\n",
       "      <td>NaN</td>\n",
       "      <td>Apple 2.0: Tablet: Big iPhone or thin MacBook?...</td>\n",
       "      <td>en</td>\n",
       "      <td>[]</td>\n",
       "      <td>['aapl']</td>\n",
       "      <td>...</td>\n",
       "      <td>NaN</td>\n",
       "      <td>NaN</td>\n",
       "      <td>NaN</td>\n",
       "      <td>NaN</td>\n",
       "      <td>NaN</td>\n",
       "      <td>[]</td>\n",
       "      <td>NaN</td>\n",
       "      <td>NaN</td>\n",
       "      <td>NaN</td>\n",
       "      <td>NaN</td>\n",
       "    </tr>\n",
       "    <tr>\n",
       "      <th>1</th>\n",
       "      <td>7382848163</td>\n",
       "      <td>7382848163</td>\n",
       "      <td>1.262647e+12</td>\n",
       "      <td>2010-01-04</td>\n",
       "      <td>0</td>\n",
       "      <td>NaN</td>\n",
       "      <td>Apple 2.0: Apple tablet to ship in March, sour...</td>\n",
       "      <td>en</td>\n",
       "      <td>[]</td>\n",
       "      <td>['aapl']</td>\n",
       "      <td>...</td>\n",
       "      <td>NaN</td>\n",
       "      <td>NaN</td>\n",
       "      <td>NaN</td>\n",
       "      <td>NaN</td>\n",
       "      <td>NaN</td>\n",
       "      <td>[]</td>\n",
       "      <td>NaN</td>\n",
       "      <td>NaN</td>\n",
       "      <td>NaN</td>\n",
       "      <td>NaN</td>\n",
       "    </tr>\n",
       "    <tr>\n",
       "      <th>2</th>\n",
       "      <td>7380526126</td>\n",
       "      <td>7380526126</td>\n",
       "      <td>1.262643e+12</td>\n",
       "      <td>2010-01-04</td>\n",
       "      <td>0</td>\n",
       "      <td>NaN</td>\n",
       "      <td>Apple Tablet Will Be 10-11 Inches, Ships In Ma...</td>\n",
       "      <td>en</td>\n",
       "      <td>[]</td>\n",
       "      <td>['aapl']</td>\n",
       "      <td>...</td>\n",
       "      <td>NaN</td>\n",
       "      <td>NaN</td>\n",
       "      <td>NaN</td>\n",
       "      <td>NaN</td>\n",
       "      <td>NaN</td>\n",
       "      <td>[]</td>\n",
       "      <td>NaN</td>\n",
       "      <td>NaN</td>\n",
       "      <td>NaN</td>\n",
       "      <td>NaN</td>\n",
       "    </tr>\n",
       "    <tr>\n",
       "      <th>3</th>\n",
       "      <td>7377981409</td>\n",
       "      <td>7377981409</td>\n",
       "      <td>1.262637e+12</td>\n",
       "      <td>2010-01-04</td>\n",
       "      <td>0</td>\n",
       "      <td>NaN</td>\n",
       "      <td>CHART OF THE DAY: Android Taking Wind Out Of i...</td>\n",
       "      <td>en</td>\n",
       "      <td>[]</td>\n",
       "      <td>['goog', 'aapl', 'rimm']</td>\n",
       "      <td>...</td>\n",
       "      <td>NaN</td>\n",
       "      <td>NaN</td>\n",
       "      <td>NaN</td>\n",
       "      <td>NaN</td>\n",
       "      <td>NaN</td>\n",
       "      <td>[]</td>\n",
       "      <td>NaN</td>\n",
       "      <td>NaN</td>\n",
       "      <td>NaN</td>\n",
       "      <td>NaN</td>\n",
       "    </tr>\n",
       "    <tr>\n",
       "      <th>4</th>\n",
       "      <td>7350195565</td>\n",
       "      <td>7350195565</td>\n",
       "      <td>1.262568e+12</td>\n",
       "      <td>2010-01-04</td>\n",
       "      <td>0</td>\n",
       "      <td>NaN</td>\n",
       "      <td>Apple 2.0: How many iPhones did Apple sell?  h...</td>\n",
       "      <td>en</td>\n",
       "      <td>[]</td>\n",
       "      <td>['aapl']</td>\n",
       "      <td>...</td>\n",
       "      <td>NaN</td>\n",
       "      <td>NaN</td>\n",
       "      <td>NaN</td>\n",
       "      <td>NaN</td>\n",
       "      <td>NaN</td>\n",
       "      <td>[]</td>\n",
       "      <td>NaN</td>\n",
       "      <td>NaN</td>\n",
       "      <td>NaN</td>\n",
       "      <td>NaN</td>\n",
       "    </tr>\n",
       "  </tbody>\n",
       "</table>\n",
       "<p>5 rows × 38 columns</p>\n",
       "</div>"
      ],
      "text/plain": [
       "           id  conversation_id    created_at        date  timezone place  \\\n",
       "0  7273036289       7273036289  1.262365e+12  2010-01-01         0   NaN   \n",
       "1  7382848163       7382848163  1.262647e+12  2010-01-04         0   NaN   \n",
       "2  7380526126       7380526126  1.262643e+12  2010-01-04         0   NaN   \n",
       "3  7377981409       7377981409  1.262637e+12  2010-01-04         0   NaN   \n",
       "4  7350195565       7350195565  1.262568e+12  2010-01-04         0   NaN   \n",
       "\n",
       "                                               tweet language hashtags  \\\n",
       "0  Apple 2.0: Tablet: Big iPhone or thin MacBook?...       en       []   \n",
       "1  Apple 2.0: Apple tablet to ship in March, sour...       en       []   \n",
       "2  Apple Tablet Will Be 10-11 Inches, Ships In Ma...       en       []   \n",
       "3  CHART OF THE DAY: Android Taking Wind Out Of i...       en       []   \n",
       "4  Apple 2.0: How many iPhones did Apple sell?  h...       en       []   \n",
       "\n",
       "                   cashtags  ...  geo  source user_rt_id user_rt  retweet_id  \\\n",
       "0                  ['aapl']  ...  NaN     NaN        NaN     NaN         NaN   \n",
       "1                  ['aapl']  ...  NaN     NaN        NaN     NaN         NaN   \n",
       "2                  ['aapl']  ...  NaN     NaN        NaN     NaN         NaN   \n",
       "3  ['goog', 'aapl', 'rimm']  ...  NaN     NaN        NaN     NaN         NaN   \n",
       "4                  ['aapl']  ...  NaN     NaN        NaN     NaN         NaN   \n",
       "\n",
       "   reply_to retweet_date translate trans_src  trans_dest  \n",
       "0        []          NaN       NaN       NaN         NaN  \n",
       "1        []          NaN       NaN       NaN         NaN  \n",
       "2        []          NaN       NaN       NaN         NaN  \n",
       "3        []          NaN       NaN       NaN         NaN  \n",
       "4        []          NaN       NaN       NaN         NaN  \n",
       "\n",
       "[5 rows x 38 columns]"
      ]
     },
     "execution_count": 22,
     "metadata": {},
     "output_type": "execute_result"
    }
   ],
   "source": [
    "df_combined.head()"
   ]
  },
  {
   "cell_type": "code",
   "execution_count": 23,
   "metadata": {},
   "outputs": [],
   "source": [
    "df_combined = df_combined.set_index(\"id\")"
   ]
  },
  {
   "cell_type": "code",
   "execution_count": 26,
   "metadata": {},
   "outputs": [
    {
     "data": {
      "text/plain": [
       "True"
      ]
     },
     "execution_count": 26,
     "metadata": {},
     "output_type": "execute_result"
    }
   ],
   "source": [
    "df_combined.index.is_unique"
   ]
  },
  {
   "cell_type": "code",
   "execution_count": 28,
   "metadata": {},
   "outputs": [
    {
     "data": {
      "text/plain": [
       "(41056, 37)"
      ]
     },
     "execution_count": 28,
     "metadata": {},
     "output_type": "execute_result"
    }
   ],
   "source": [
    "df_combined.shape"
   ]
  },
  {
   "cell_type": "code",
   "execution_count": 30,
   "metadata": {},
   "outputs": [],
   "source": [
    "df_aapl_groupedby_date = df_combined.groupby('date').count()\n",
    "df_aapl_groupedby_date.reset_index(inplace=True)\n",
    "df_aapl_groupedby_date.set_index(\"date\", inplace=True)\n",
    "df_aapl_groupedby_date = df_aapl_groupedby_date[[\"search\"]]"
   ]
  },
  {
   "cell_type": "code",
   "execution_count": 31,
   "metadata": {},
   "outputs": [
    {
     "data": {
      "text/html": [
       "<div>\n",
       "<style scoped>\n",
       "    .dataframe tbody tr th:only-of-type {\n",
       "        vertical-align: middle;\n",
       "    }\n",
       "\n",
       "    .dataframe tbody tr th {\n",
       "        vertical-align: top;\n",
       "    }\n",
       "\n",
       "    .dataframe thead th {\n",
       "        text-align: right;\n",
       "    }\n",
       "</style>\n",
       "<table border=\"1\" class=\"dataframe\">\n",
       "  <thead>\n",
       "    <tr style=\"text-align: right;\">\n",
       "      <th></th>\n",
       "      <th>search</th>\n",
       "    </tr>\n",
       "  </thead>\n",
       "  <tbody>\n",
       "    <tr>\n",
       "      <th>count</th>\n",
       "      <td>4175.000000</td>\n",
       "    </tr>\n",
       "    <tr>\n",
       "      <th>mean</th>\n",
       "      <td>9.833772</td>\n",
       "    </tr>\n",
       "    <tr>\n",
       "      <th>std</th>\n",
       "      <td>8.716240</td>\n",
       "    </tr>\n",
       "    <tr>\n",
       "      <th>min</th>\n",
       "      <td>1.000000</td>\n",
       "    </tr>\n",
       "    <tr>\n",
       "      <th>25%</th>\n",
       "      <td>4.000000</td>\n",
       "    </tr>\n",
       "    <tr>\n",
       "      <th>50%</th>\n",
       "      <td>7.000000</td>\n",
       "    </tr>\n",
       "    <tr>\n",
       "      <th>75%</th>\n",
       "      <td>14.000000</td>\n",
       "    </tr>\n",
       "    <tr>\n",
       "      <th>max</th>\n",
       "      <td>96.000000</td>\n",
       "    </tr>\n",
       "  </tbody>\n",
       "</table>\n",
       "</div>"
      ],
      "text/plain": [
       "            search\n",
       "count  4175.000000\n",
       "mean      9.833772\n",
       "std       8.716240\n",
       "min       1.000000\n",
       "25%       4.000000\n",
       "50%       7.000000\n",
       "75%      14.000000\n",
       "max      96.000000"
      ]
     },
     "execution_count": 31,
     "metadata": {},
     "output_type": "execute_result"
    }
   ],
   "source": [
    "df_aapl_groupedby_date.describe()"
   ]
  },
  {
   "cell_type": "code",
   "execution_count": 35,
   "metadata": {},
   "outputs": [
    {
     "data": {
      "image/png": "[encoded data removed]",
      "text/plain": [
       "<Figure size 1008x288 with 1 Axes>"
      ]
     },
     "metadata": {},
     "output_type": "display_data"
    }
   ],
   "source": [
    "ax = df_aapl_groupedby_date[\"search\"].plot(title='Twint (AAPL)',\n",
    "           legend=False,\n",
    "           figsize=(14, 4),\n",
    "           rot=0)\n",
    "ax.set_xlabel('')\n",
    "ax.set_xticklabels(ax.get_xticklabels(),rotation = 45)\n",
    "sns.despine()"
   ]
  },
  {
   "cell_type": "code",
   "execution_count": 5,
   "metadata": {},
   "outputs": [],
   "source": [
    "# df_combined.to_csv(\"../../../../../../data/twint/AAPL_20100101_to_20220304.csv\")\n",
    "df = pd.read_csv(\"../../../../../../data/twint/AAPL_20100101_to_20220304.csv\", low_memory=False, index_col=\"id\", lineterminator='\\n')"
   ]
  },
  {
   "cell_type": "code",
   "execution_count": 10,
   "metadata": {},
   "outputs": [
    {
     "data": {
      "text/plain": [
       "(41056, 37)"
      ]
     },
     "execution_count": 10,
     "metadata": {},
     "output_type": "execute_result"
    }
   ],
   "source": [
    "df.shape"
   ]
  },
  {
   "cell_type": "code",
   "execution_count": 9,
   "metadata": {},
   "outputs": [
    {
     "data": {
      "text/plain": [
       "True"
      ]
     },
     "execution_count": 9,
     "metadata": {},
     "output_type": "execute_result"
    }
   ],
   "source": [
    "df.index.is_unique"
   ]
  }
 ],
 "metadata": {
  "interpreter": {
   "hash": "06613e16dc1aebd810c16422b73f886b4ff4ce8e102b88d0006f6672eb35e8f7"
  },
  "kernelspec": {
   "display_name": "Python 3",
   "language": "python",
   "name": "python3"
  },
  "language_info": {
   "codemirror_mode": {
    "name": "ipython",
    "version": 3
   },
   "file_extension": ".py",
   "mimetype": "text/x-python",
   "name": "python",
   "nbconvert_exporter": "python",
   "pygments_lexer": "ipython3",
   "version": "3.7.11"
  },
  "orig_nbformat": 4
 },
 "nbformat": 4,
 "nbformat_minor": 2
}
