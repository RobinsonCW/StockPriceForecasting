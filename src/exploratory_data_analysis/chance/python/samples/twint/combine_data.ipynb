{
 "cells": [
  {
   "cell_type": "code",
   "execution_count": 1,
   "metadata": {},
   "outputs": [],
   "source": [
    "import pandas as pd\n",
    "import numpy as np\n",
    "import os\n",
    "import pathlib\n",
    "import time\n",
    "import json"
   ]
  },
  {
   "cell_type": "code",
   "execution_count": 2,
   "metadata": {},
   "outputs": [],
   "source": [
    "%matplotlib inline\n",
    "\n",
    "import matplotlib.pyplot as plt\n",
    "import seaborn as sns\n",
    "\n",
    "import numpy as np\n",
    "\n",
    "sns.set_style('whitegrid')\n",
    "np.random.seed(42)"
   ]
  },
  {
   "cell_type": "code",
   "execution_count": 3,
   "metadata": {},
   "outputs": [],
   "source": [
    "pd. set_option('display.max_columns', 500)\n",
    "pd.set_option('display.max_colwidth', 0)"
   ]
  },
  {
   "cell_type": "code",
   "execution_count": 4,
   "metadata": {},
   "outputs": [],
   "source": [
    "csv_path = \"../../../../../../data/twint/\""
   ]
  },
  {
   "cell_type": "code",
   "execution_count": 5,
   "metadata": {},
   "outputs": [],
   "source": [
    "from datetime import date, datetime, timedelta\n",
    "\n",
    "def date_range(start_date, end_date):\n",
    "    delta = end_date - start_date  # as timedelta\n",
    "    days = [(start_date + timedelta(days=i)).strftime(\"%Y-%m-%d\") for i in range(delta.days + 1)]\n",
    "    return days # YYYY-MM-DD\n"
   ]
  },
  {
   "cell_type": "code",
   "execution_count": 6,
   "metadata": {},
   "outputs": [],
   "source": [
    "# ticker = \"AAPL,MSFT,AMZN,FB,GOOG,GOOGL,TSLA,NVDA,PYPL,ASML,INTC,CMCSA,NFLX,ADBE,CSCO,PEP,AVGO,TXN,TMUS\"\n",
    "ticker = \"INTC\""
   ]
  },
  {
   "cell_type": "code",
   "execution_count": 7,
   "metadata": {},
   "outputs": [],
   "source": [
    "p = pathlib.Path.cwd().glob(f\"../../../../../../data/twint/{ticker}/*.csv\")\n",
    "files = [x for x in p if x.is_file()]\n",
    "\n",
    "files.sort()  # sort the files by year"
   ]
  },
  {
   "cell_type": "code",
   "execution_count": 8,
   "metadata": {},
   "outputs": [
    {
     "data": {
      "text/plain": [
       "[PosixPath('/app/StockPricePredictions/src/exploratory_data_analysis/chance/python/samples/twint/../../../../../../data/twint/INTC/INTC_twint_2010.csv'),\n",
       " PosixPath('/app/StockPricePredictions/src/exploratory_data_analysis/chance/python/samples/twint/../../../../../../data/twint/INTC/INTC_twint_2011.csv'),\n",
       " PosixPath('/app/StockPricePredictions/src/exploratory_data_analysis/chance/python/samples/twint/../../../../../../data/twint/INTC/INTC_twint_2012.csv'),\n",
       " PosixPath('/app/StockPricePredictions/src/exploratory_data_analysis/chance/python/samples/twint/../../../../../../data/twint/INTC/INTC_twint_2013.csv'),\n",
       " PosixPath('/app/StockPricePredictions/src/exploratory_data_analysis/chance/python/samples/twint/../../../../../../data/twint/INTC/INTC_twint_2014.csv'),\n",
       " PosixPath('/app/StockPricePredictions/src/exploratory_data_analysis/chance/python/samples/twint/../../../../../../data/twint/INTC/INTC_twint_2015.csv'),\n",
       " PosixPath('/app/StockPricePredictions/src/exploratory_data_analysis/chance/python/samples/twint/../../../../../../data/twint/INTC/INTC_twint_2016.csv'),\n",
       " PosixPath('/app/StockPricePredictions/src/exploratory_data_analysis/chance/python/samples/twint/../../../../../../data/twint/INTC/INTC_twint_2017.csv'),\n",
       " PosixPath('/app/StockPricePredictions/src/exploratory_data_analysis/chance/python/samples/twint/../../../../../../data/twint/INTC/INTC_twint_2018.csv'),\n",
       " PosixPath('/app/StockPricePredictions/src/exploratory_data_analysis/chance/python/samples/twint/../../../../../../data/twint/INTC/INTC_twint_2019.csv'),\n",
       " PosixPath('/app/StockPricePredictions/src/exploratory_data_analysis/chance/python/samples/twint/../../../../../../data/twint/INTC/INTC_twint_2020.csv'),\n",
       " PosixPath('/app/StockPricePredictions/src/exploratory_data_analysis/chance/python/samples/twint/../../../../../../data/twint/INTC/INTC_twint_2021.csv'),\n",
       " PosixPath('/app/StockPricePredictions/src/exploratory_data_analysis/chance/python/samples/twint/../../../../../../data/twint/INTC/INTC_twint_2022.csv')]"
      ]
     },
     "execution_count": 8,
     "metadata": {},
     "output_type": "execute_result"
    }
   ],
   "source": [
    "files"
   ]
  },
  {
   "cell_type": "code",
   "execution_count": 9,
   "metadata": {},
   "outputs": [],
   "source": [
    "all_dfs = []\n",
    "\n",
    "for f in files:\n",
    "\n",
    "    _df = pd.read_csv(f, lineterminator='\\n')\n",
    "\n",
    "    all_dfs.append(_df)\n",
    "\n",
    "    # start_date = date(int(f.stem), 1, 1)\n",
    "    # end_date = date(int(f.stem), 12, 31)\n",
    "\n",
    "    # if int(f.stem) == 2022:\n",
    "    #     end_date = date(int(f.stem), 3, 4)\n",
    "\n",
    "    # date_list = date_range(start_date, end_date)\n",
    "    # print(start_date)\n",
    "    \n",
    "    # # Opening JSON file\n",
    "    # with open(f) as json_file:\n",
    "    #     data = json.load(json_file)\n",
    "    #     for i in date_list:\n",
    "    #         df_x = pd.DataFrame(data[i])\n",
    "    #         df_x[\"date\"] = datetime.strptime(i, \"%Y-%m-%d\")\n",
    "    #         all_dfs.append(df_x)"
   ]
  },
  {
   "cell_type": "code",
   "execution_count": 10,
   "metadata": {},
   "outputs": [],
   "source": [
    "df_combined = pd.concat(all_dfs)"
   ]
  },
  {
   "cell_type": "code",
   "execution_count": 11,
   "metadata": {},
   "outputs": [
    {
     "data": {
      "text/html": [
       "<div>\n",
       "<style scoped>\n",
       "    .dataframe tbody tr th:only-of-type {\n",
       "        vertical-align: middle;\n",
       "    }\n",
       "\n",
       "    .dataframe tbody tr th {\n",
       "        vertical-align: top;\n",
       "    }\n",
       "\n",
       "    .dataframe thead th {\n",
       "        text-align: right;\n",
       "    }\n",
       "</style>\n",
       "<table border=\"1\" class=\"dataframe\">\n",
       "  <thead>\n",
       "    <tr style=\"text-align: right;\">\n",
       "      <th></th>\n",
       "      <th>id</th>\n",
       "      <th>conversation_id</th>\n",
       "      <th>created_at</th>\n",
       "      <th>date</th>\n",
       "      <th>timezone</th>\n",
       "      <th>place</th>\n",
       "      <th>tweet</th>\n",
       "      <th>language</th>\n",
       "      <th>hashtags</th>\n",
       "      <th>cashtags</th>\n",
       "      <th>user_id</th>\n",
       "      <th>user_id_str</th>\n",
       "      <th>username</th>\n",
       "      <th>name</th>\n",
       "      <th>day</th>\n",
       "      <th>hour</th>\n",
       "      <th>link</th>\n",
       "      <th>urls</th>\n",
       "      <th>photos</th>\n",
       "      <th>video</th>\n",
       "      <th>thumbnail</th>\n",
       "      <th>retweet</th>\n",
       "      <th>nlikes</th>\n",
       "      <th>nreplies</th>\n",
       "      <th>nretweets</th>\n",
       "      <th>quote_url</th>\n",
       "      <th>search</th>\n",
       "      <th>near</th>\n",
       "      <th>geo</th>\n",
       "      <th>source</th>\n",
       "      <th>user_rt_id</th>\n",
       "      <th>user_rt</th>\n",
       "      <th>retweet_id</th>\n",
       "      <th>reply_to</th>\n",
       "      <th>retweet_date</th>\n",
       "      <th>translate</th>\n",
       "      <th>trans_src</th>\n",
       "      <th>trans_dest</th>\n",
       "    </tr>\n",
       "  </thead>\n",
       "  <tbody>\n",
       "    <tr>\n",
       "      <th>0</th>\n",
       "      <td>11759352927</td>\n",
       "      <td>11759352927</td>\n",
       "      <td>1.270651e+12</td>\n",
       "      <td>2010-04-07</td>\n",
       "      <td>0</td>\n",
       "      <td>NaN</td>\n",
       "      <td>How Intel Screwed Itself Out Of The iPad Revolution $INTC $AAPL by @stevecheney  http://bit.ly/9TH2QJ</td>\n",
       "      <td>en</td>\n",
       "      <td>[]</td>\n",
       "      <td>['intc', 'aapl']</td>\n",
       "      <td>8841372</td>\n",
       "      <td>8841372</td>\n",
       "      <td>BITech</td>\n",
       "      <td>Business Insider Tech</td>\n",
       "      <td>3</td>\n",
       "      <td>14</td>\n",
       "      <td>https://twitter.com/BITech/status/11759352927</td>\n",
       "      <td>[]</td>\n",
       "      <td>[]</td>\n",
       "      <td>0</td>\n",
       "      <td>NaN</td>\n",
       "      <td>False</td>\n",
       "      <td>2</td>\n",
       "      <td>0</td>\n",
       "      <td>5</td>\n",
       "      <td>NaN</td>\n",
       "      <td>$INTC</td>\n",
       "      <td>NaN</td>\n",
       "      <td>NaN</td>\n",
       "      <td>NaN</td>\n",
       "      <td>NaN</td>\n",
       "      <td>NaN</td>\n",
       "      <td>NaN</td>\n",
       "      <td>[]</td>\n",
       "      <td>NaN</td>\n",
       "      <td>NaN</td>\n",
       "      <td>NaN</td>\n",
       "      <td>NaN</td>\n",
       "    </tr>\n",
       "    <tr>\n",
       "      <th>1</th>\n",
       "      <td>14445920802</td>\n",
       "      <td>14445920802</td>\n",
       "      <td>1.274467e+12</td>\n",
       "      <td>2010-05-21</td>\n",
       "      <td>0</td>\n",
       "      <td>NaN</td>\n",
       "      <td>Google TV: Everything You Need To Know $GOOG $INTC by @jwyarow  http://bit.ly/cpuhh8</td>\n",
       "      <td>en</td>\n",
       "      <td>[]</td>\n",
       "      <td>['goog', 'intc']</td>\n",
       "      <td>8841372</td>\n",
       "      <td>8841372</td>\n",
       "      <td>BITech</td>\n",
       "      <td>Business Insider Tech</td>\n",
       "      <td>5</td>\n",
       "      <td>18</td>\n",
       "      <td>https://twitter.com/BITech/status/14445920802</td>\n",
       "      <td>[]</td>\n",
       "      <td>[]</td>\n",
       "      <td>0</td>\n",
       "      <td>NaN</td>\n",
       "      <td>False</td>\n",
       "      <td>9</td>\n",
       "      <td>0</td>\n",
       "      <td>5</td>\n",
       "      <td>NaN</td>\n",
       "      <td>$INTC</td>\n",
       "      <td>NaN</td>\n",
       "      <td>NaN</td>\n",
       "      <td>NaN</td>\n",
       "      <td>NaN</td>\n",
       "      <td>NaN</td>\n",
       "      <td>NaN</td>\n",
       "      <td>[]</td>\n",
       "      <td>NaN</td>\n",
       "      <td>NaN</td>\n",
       "      <td>NaN</td>\n",
       "      <td>NaN</td>\n",
       "    </tr>\n",
       "    <tr>\n",
       "      <th>2</th>\n",
       "      <td>20215013780</td>\n",
       "      <td>20215013780</td>\n",
       "      <td>1.280836e+12</td>\n",
       "      <td>2010-08-03</td>\n",
       "      <td>0</td>\n",
       "      <td>NaN</td>\n",
       "      <td>10 Things You Need To Know This Morning $AAPL $GOOG $INTC $AMZN $YHOO $RIMM by @jwyarow  http://read.bi/8ZKtkZ</td>\n",
       "      <td>en</td>\n",
       "      <td>[]</td>\n",
       "      <td>['aapl', 'goog', 'intc', 'amzn', 'yhoo', 'rimm']</td>\n",
       "      <td>8841372</td>\n",
       "      <td>8841372</td>\n",
       "      <td>BITech</td>\n",
       "      <td>Business Insider Tech</td>\n",
       "      <td>2</td>\n",
       "      <td>11</td>\n",
       "      <td>https://twitter.com/BITech/status/20215013780</td>\n",
       "      <td>[]</td>\n",
       "      <td>[]</td>\n",
       "      <td>0</td>\n",
       "      <td>NaN</td>\n",
       "      <td>False</td>\n",
       "      <td>3</td>\n",
       "      <td>0</td>\n",
       "      <td>7</td>\n",
       "      <td>NaN</td>\n",
       "      <td>$INTC</td>\n",
       "      <td>NaN</td>\n",
       "      <td>NaN</td>\n",
       "      <td>NaN</td>\n",
       "      <td>NaN</td>\n",
       "      <td>NaN</td>\n",
       "      <td>NaN</td>\n",
       "      <td>[]</td>\n",
       "      <td>NaN</td>\n",
       "      <td>NaN</td>\n",
       "      <td>NaN</td>\n",
       "      <td>NaN</td>\n",
       "    </tr>\n",
       "    <tr>\n",
       "      <th>3</th>\n",
       "      <td>20793963913</td>\n",
       "      <td>20793963913</td>\n",
       "      <td>1.281447e+12</td>\n",
       "      <td>2010-08-10</td>\n",
       "      <td>0</td>\n",
       "      <td>NaN</td>\n",
       "      <td>$INTC is one of the  most hated stocks i have ever seen-low valuation, great balance sheet and dividend...</td>\n",
       "      <td>en</td>\n",
       "      <td>[]</td>\n",
       "      <td>['intc']</td>\n",
       "      <td>14216123</td>\n",
       "      <td>14216123</td>\n",
       "      <td>jimcramer</td>\n",
       "      <td>Jim Cramer</td>\n",
       "      <td>2</td>\n",
       "      <td>13</td>\n",
       "      <td>https://twitter.com/jimcramer/status/20793963913</td>\n",
       "      <td>[]</td>\n",
       "      <td>[]</td>\n",
       "      <td>0</td>\n",
       "      <td>NaN</td>\n",
       "      <td>False</td>\n",
       "      <td>1</td>\n",
       "      <td>0</td>\n",
       "      <td>6</td>\n",
       "      <td>NaN</td>\n",
       "      <td>$INTC</td>\n",
       "      <td>NaN</td>\n",
       "      <td>NaN</td>\n",
       "      <td>NaN</td>\n",
       "      <td>NaN</td>\n",
       "      <td>NaN</td>\n",
       "      <td>NaN</td>\n",
       "      <td>[]</td>\n",
       "      <td>NaN</td>\n",
       "      <td>NaN</td>\n",
       "      <td>NaN</td>\n",
       "      <td>NaN</td>\n",
       "    </tr>\n",
       "    <tr>\n",
       "      <th>4</th>\n",
       "      <td>21583900261</td>\n",
       "      <td>21583900261</td>\n",
       "      <td>1.282230e+12</td>\n",
       "      <td>2010-08-19</td>\n",
       "      <td>0</td>\n",
       "      <td>NaN</td>\n",
       "      <td>Intel to Buy McAfee for $7.68 Billion to Add Software  http://ow.ly/2rTEm $INTC $MFE</td>\n",
       "      <td>en</td>\n",
       "      <td>[]</td>\n",
       "      <td>['intc', 'mfe']</td>\n",
       "      <td>67358777</td>\n",
       "      <td>67358777</td>\n",
       "      <td>BW</td>\n",
       "      <td>Businessweek</td>\n",
       "      <td>4</td>\n",
       "      <td>15</td>\n",
       "      <td>https://twitter.com/BW/status/21583900261</td>\n",
       "      <td>[]</td>\n",
       "      <td>[]</td>\n",
       "      <td>0</td>\n",
       "      <td>NaN</td>\n",
       "      <td>False</td>\n",
       "      <td>1</td>\n",
       "      <td>0</td>\n",
       "      <td>5</td>\n",
       "      <td>NaN</td>\n",
       "      <td>$INTC</td>\n",
       "      <td>NaN</td>\n",
       "      <td>NaN</td>\n",
       "      <td>NaN</td>\n",
       "      <td>NaN</td>\n",
       "      <td>NaN</td>\n",
       "      <td>NaN</td>\n",
       "      <td>[]</td>\n",
       "      <td>NaN</td>\n",
       "      <td>NaN</td>\n",
       "      <td>NaN</td>\n",
       "      <td>NaN</td>\n",
       "    </tr>\n",
       "  </tbody>\n",
       "</table>\n",
       "</div>"
      ],
      "text/plain": [
       "            id  conversation_id    created_at        date  timezone place  \\\n",
       "0  11759352927  11759352927      1.270651e+12  2010-04-07  0         NaN    \n",
       "1  14445920802  14445920802      1.274467e+12  2010-05-21  0         NaN    \n",
       "2  20215013780  20215013780      1.280836e+12  2010-08-03  0         NaN    \n",
       "3  20793963913  20793963913      1.281447e+12  2010-08-10  0         NaN    \n",
       "4  21583900261  21583900261      1.282230e+12  2010-08-19  0         NaN    \n",
       "\n",
       "                                                                                                            tweet  \\\n",
       "0  How Intel Screwed Itself Out Of The iPad Revolution $INTC $AAPL by @stevecheney  http://bit.ly/9TH2QJ            \n",
       "1  Google TV: Everything You Need To Know $GOOG $INTC by @jwyarow  http://bit.ly/cpuhh8                             \n",
       "2  10 Things You Need To Know This Morning $AAPL $GOOG $INTC $AMZN $YHOO $RIMM by @jwyarow  http://read.bi/8ZKtkZ   \n",
       "3  $INTC is one of the  most hated stocks i have ever seen-low valuation, great balance sheet and dividend...       \n",
       "4  Intel to Buy McAfee for $7.68 Billion to Add Software  http://ow.ly/2rTEm $INTC $MFE                             \n",
       "\n",
       "  language hashtags                                          cashtags  \\\n",
       "0  en       []       ['intc', 'aapl']                                   \n",
       "1  en       []       ['goog', 'intc']                                   \n",
       "2  en       []       ['aapl', 'goog', 'intc', 'amzn', 'yhoo', 'rimm']   \n",
       "3  en       []       ['intc']                                           \n",
       "4  en       []       ['intc', 'mfe']                                    \n",
       "\n",
       "    user_id  user_id_str   username                   name  day  hour  \\\n",
       "0  8841372   8841372      BITech     Business Insider Tech  3    14     \n",
       "1  8841372   8841372      BITech     Business Insider Tech  5    18     \n",
       "2  8841372   8841372      BITech     Business Insider Tech  2    11     \n",
       "3  14216123  14216123     jimcramer  Jim Cramer             2    13     \n",
       "4  67358777  67358777     BW         Businessweek           4    15     \n",
       "\n",
       "                                               link urls photos  video  \\\n",
       "0  https://twitter.com/BITech/status/11759352927     []   []     0       \n",
       "1  https://twitter.com/BITech/status/14445920802     []   []     0       \n",
       "2  https://twitter.com/BITech/status/20215013780     []   []     0       \n",
       "3  https://twitter.com/jimcramer/status/20793963913  []   []     0       \n",
       "4  https://twitter.com/BW/status/21583900261         []   []     0       \n",
       "\n",
       "  thumbnail  retweet  nlikes  nreplies  nretweets quote_url search  near  geo  \\\n",
       "0  NaN       False    2       0         5          NaN       $INTC NaN   NaN    \n",
       "1  NaN       False    9       0         5          NaN       $INTC NaN   NaN    \n",
       "2  NaN       False    3       0         7          NaN       $INTC NaN   NaN    \n",
       "3  NaN       False    1       0         6          NaN       $INTC NaN   NaN    \n",
       "4  NaN       False    1       0         5          NaN       $INTC NaN   NaN    \n",
       "\n",
       "   source  user_rt_id  user_rt  retweet_id reply_to  retweet_date  translate  \\\n",
       "0 NaN     NaN         NaN      NaN          []      NaN           NaN          \n",
       "1 NaN     NaN         NaN      NaN          []      NaN           NaN          \n",
       "2 NaN     NaN         NaN      NaN          []      NaN           NaN          \n",
       "3 NaN     NaN         NaN      NaN          []      NaN           NaN          \n",
       "4 NaN     NaN         NaN      NaN          []      NaN           NaN          \n",
       "\n",
       "   trans_src  trans_dest  \n",
       "0 NaN        NaN          \n",
       "1 NaN        NaN          \n",
       "2 NaN        NaN          \n",
       "3 NaN        NaN          \n",
       "4 NaN        NaN          "
      ]
     },
     "execution_count": 11,
     "metadata": {},
     "output_type": "execute_result"
    }
   ],
   "source": [
    "df_combined.head()"
   ]
  },
  {
   "cell_type": "code",
   "execution_count": 12,
   "metadata": {},
   "outputs": [],
   "source": [
    "df_combined = df_combined.set_index(\"id\")"
   ]
  },
  {
   "cell_type": "code",
   "execution_count": 13,
   "metadata": {},
   "outputs": [
    {
     "data": {
      "text/plain": [
       "True"
      ]
     },
     "execution_count": 13,
     "metadata": {},
     "output_type": "execute_result"
    }
   ],
   "source": [
    "df_combined.index.is_unique"
   ]
  },
  {
   "cell_type": "code",
   "execution_count": 14,
   "metadata": {},
   "outputs": [
    {
     "data": {
      "text/plain": [
       "(3498, 37)"
      ]
     },
     "execution_count": 14,
     "metadata": {},
     "output_type": "execute_result"
    }
   ],
   "source": [
    "df_combined.shape"
   ]
  },
  {
   "cell_type": "code",
   "execution_count": 15,
   "metadata": {},
   "outputs": [],
   "source": [
    "df_aapl_groupedby_date = df_combined.groupby('date').count()\n",
    "df_aapl_groupedby_date.reset_index(inplace=True)\n",
    "df_aapl_groupedby_date.set_index(\"date\", inplace=True)\n",
    "df_aapl_groupedby_date = df_aapl_groupedby_date[[\"search\"]]"
   ]
  },
  {
   "cell_type": "code",
   "execution_count": 16,
   "metadata": {},
   "outputs": [
    {
     "data": {
      "text/html": [
       "<div>\n",
       "<style scoped>\n",
       "    .dataframe tbody tr th:only-of-type {\n",
       "        vertical-align: middle;\n",
       "    }\n",
       "\n",
       "    .dataframe tbody tr th {\n",
       "        vertical-align: top;\n",
       "    }\n",
       "\n",
       "    .dataframe thead th {\n",
       "        text-align: right;\n",
       "    }\n",
       "</style>\n",
       "<table border=\"1\" class=\"dataframe\">\n",
       "  <thead>\n",
       "    <tr style=\"text-align: right;\">\n",
       "      <th></th>\n",
       "      <th>search</th>\n",
       "    </tr>\n",
       "  </thead>\n",
       "  <tbody>\n",
       "    <tr>\n",
       "      <th>count</th>\n",
       "      <td>1505.000000</td>\n",
       "    </tr>\n",
       "    <tr>\n",
       "      <th>mean</th>\n",
       "      <td>2.324252</td>\n",
       "    </tr>\n",
       "    <tr>\n",
       "      <th>std</th>\n",
       "      <td>2.656256</td>\n",
       "    </tr>\n",
       "    <tr>\n",
       "      <th>min</th>\n",
       "      <td>1.000000</td>\n",
       "    </tr>\n",
       "    <tr>\n",
       "      <th>25%</th>\n",
       "      <td>1.000000</td>\n",
       "    </tr>\n",
       "    <tr>\n",
       "      <th>50%</th>\n",
       "      <td>1.000000</td>\n",
       "    </tr>\n",
       "    <tr>\n",
       "      <th>75%</th>\n",
       "      <td>3.000000</td>\n",
       "    </tr>\n",
       "    <tr>\n",
       "      <th>max</th>\n",
       "      <td>31.000000</td>\n",
       "    </tr>\n",
       "  </tbody>\n",
       "</table>\n",
       "</div>"
      ],
      "text/plain": [
       "            search\n",
       "count  1505.000000\n",
       "mean   2.324252   \n",
       "std    2.656256   \n",
       "min    1.000000   \n",
       "25%    1.000000   \n",
       "50%    1.000000   \n",
       "75%    3.000000   \n",
       "max    31.000000  "
      ]
     },
     "execution_count": 16,
     "metadata": {},
     "output_type": "execute_result"
    }
   ],
   "source": [
    "df_aapl_groupedby_date.describe()"
   ]
  },
  {
   "cell_type": "code",
   "execution_count": 17,
   "metadata": {},
   "outputs": [
    {
     "data": {
      "image/png": "[encoded data removed]",
      "text/plain": [
       "<Figure size 1008x288 with 1 Axes>"
      ]
     },
     "metadata": {},
     "output_type": "display_data"
    }
   ],
   "source": [
    "ax = df_aapl_groupedby_date[\"search\"].plot(title='Twint (AAPL)',\n",
    "           legend=False,\n",
    "           figsize=(14, 4),\n",
    "           rot=0)\n",
    "ax.set_xlabel('')\n",
    "ax.set_xticklabels(ax.get_xticklabels(),rotation = 45)\n",
    "sns.despine()"
   ]
  },
  {
   "cell_type": "code",
   "execution_count": 21,
   "metadata": {},
   "outputs": [],
   "source": [
    "# df_combined.to_csv(f\"../../../../../../data/twint/{ticker}/{ticker}_20100101_to_20220304.csv\")\n",
    "# df_combined.shape\n",
    "df = pd.read_csv(f\"../../../../../../data/twint/{ticker}/{ticker}_20100101_to_20220304.csv\", low_memory=False, index_col=\"id\", lineterminator='\\n')"
   ]
  },
  {
   "cell_type": "code",
   "execution_count": 22,
   "metadata": {},
   "outputs": [
    {
     "data": {
      "text/plain": [
       "(3498, 37)"
      ]
     },
     "execution_count": 22,
     "metadata": {},
     "output_type": "execute_result"
    }
   ],
   "source": [
    "df.shape"
   ]
  },
  {
   "cell_type": "code",
   "execution_count": 23,
   "metadata": {},
   "outputs": [
    {
     "data": {
      "text/plain": [
       "True"
      ]
     },
     "execution_count": 23,
     "metadata": {},
     "output_type": "execute_result"
    }
   ],
   "source": [
    "df.index.is_unique"
   ]
  }
 ],
 "metadata": {
  "interpreter": {
   "hash": "06613e16dc1aebd810c16422b73f886b4ff4ce8e102b88d0006f6672eb35e8f7"
  },
  "kernelspec": {
   "display_name": "Python 3",
   "language": "python",
   "name": "python3"
  },
  "language_info": {
   "codemirror_mode": {
    "name": "ipython",
    "version": 3
   },
   "file_extension": ".py",
   "mimetype": "text/x-python",
   "name": "python",
   "nbconvert_exporter": "python",
   "pygments_lexer": "ipython3",
   "version": "3.8.10"
  },
  "orig_nbformat": 4
 },
 "nbformat": 4,
 "nbformat_minor": 2
}
