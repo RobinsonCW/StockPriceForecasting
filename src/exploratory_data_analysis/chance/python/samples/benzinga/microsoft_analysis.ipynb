{
 "cells": [
  {
   "cell_type": "code",
   "execution_count": 1,
   "metadata": {},
   "outputs": [
    {
     "name": "stderr",
     "output_type": "stream",
     "text": [
      "/usr/lib/python3/dist-packages/requests/__init__.py:89: RequestsDependencyWarning: urllib3 (1.26.9) or chardet (3.0.4) doesn't match a supported version!\n",
      "  warnings.warn(\"urllib3 ({}) or chardet ({}) doesn't match a supported \"\n"
     ]
    }
   ],
   "source": [
    "%matplotlib inline\n",
    "\n",
    "import os\n",
    "import datetime\n",
    "\n",
    "import IPython\n",
    "import IPython.display\n",
    "import matplotlib as mpl\n",
    "import matplotlib.pyplot as plt\n",
    "import numpy as np\n",
    "import pandas as pd\n",
    "import seaborn as sns\n",
    "import tensorflow as tf\n",
    "\n",
    "import re\n",
    "from html.parser import HTMLParser\n",
    "from bs4 import BeautifulSoup\n",
    "\n",
    "\n",
    "mpl.rcParams['figure.figsize'] = (8, 6)\n",
    "mpl.rcParams['axes.grid'] = False"
   ]
  },
  {
   "cell_type": "code",
   "execution_count": 2,
   "metadata": {},
   "outputs": [],
   "source": [
    "pd. set_option('display.max_columns', 500)\n",
    "pd.set_option('display.max_colwidth', 0)"
   ]
  },
  {
   "cell_type": "code",
   "execution_count": 3,
   "metadata": {},
   "outputs": [],
   "source": [
    "alphavantage_csv_path = \"/app/StockPricePredictions/data/alphavantage/time_series_daily_adjusted/MSFT/MSFT.csv\""
   ]
  },
  {
   "cell_type": "code",
   "execution_count": 4,
   "metadata": {},
   "outputs": [],
   "source": [
    "df = pd.read_csv(alphavantage_csv_path, low_memory=False)\n",
    "df.sort_values(by=[\"date\"], ascending=True, inplace=True)\n",
    "\n",
    "df = df[df[\"date\"]>='2010-01-01']\n",
    "\n",
    "df[\"date\"] = pd.to_datetime(df['date'])\n",
    "\n",
    "df.set_index(\"date\", inplace=True)"
   ]
  },
  {
   "cell_type": "code",
   "execution_count": 5,
   "metadata": {},
   "outputs": [
    {
     "data": {
      "text/plain": [
       "3064"
      ]
     },
     "execution_count": 5,
     "metadata": {},
     "output_type": "execute_result"
    }
   ],
   "source": [
    "df.shape[0]"
   ]
  },
  {
   "cell_type": "code",
   "execution_count": 6,
   "metadata": {},
   "outputs": [
    {
     "name": "stdout",
     "output_type": "stream",
     "text": [
      "<class 'pandas.core.frame.DataFrame'>\n",
      "DatetimeIndex: 3064 entries, 2010-01-04 to 2022-03-04\n",
      "Data columns (total 8 columns):\n",
      " #   Column                Non-Null Count  Dtype  \n",
      "---  ------                --------------  -----  \n",
      " 0   1. open               3064 non-null   float64\n",
      " 1   2. high               3064 non-null   float64\n",
      " 2   3. low                3064 non-null   float64\n",
      " 3   4. close              3064 non-null   float64\n",
      " 4   5. adjusted close     3064 non-null   float64\n",
      " 5   6. volume             3064 non-null   float64\n",
      " 6   7. dividend amount    3064 non-null   float64\n",
      " 7   8. split coefficient  3064 non-null   float64\n",
      "dtypes: float64(8)\n",
      "memory usage: 215.4 KB\n"
     ]
    }
   ],
   "source": [
    "df.info()"
   ]
  },
  {
   "cell_type": "code",
   "execution_count": 7,
   "metadata": {},
   "outputs": [
    {
     "data": {
      "text/html": [
       "<div>\n",
       "<style scoped>\n",
       "    .dataframe tbody tr th:only-of-type {\n",
       "        vertical-align: middle;\n",
       "    }\n",
       "\n",
       "    .dataframe tbody tr th {\n",
       "        vertical-align: top;\n",
       "    }\n",
       "\n",
       "    .dataframe thead th {\n",
       "        text-align: right;\n",
       "    }\n",
       "</style>\n",
       "<table border=\"1\" class=\"dataframe\">\n",
       "  <thead>\n",
       "    <tr style=\"text-align: right;\">\n",
       "      <th></th>\n",
       "      <th>1. open</th>\n",
       "      <th>2. high</th>\n",
       "      <th>3. low</th>\n",
       "      <th>4. close</th>\n",
       "      <th>5. adjusted close</th>\n",
       "      <th>6. volume</th>\n",
       "      <th>7. dividend amount</th>\n",
       "      <th>8. split coefficient</th>\n",
       "    </tr>\n",
       "    <tr>\n",
       "      <th>date</th>\n",
       "      <th></th>\n",
       "      <th></th>\n",
       "      <th></th>\n",
       "      <th></th>\n",
       "      <th></th>\n",
       "      <th></th>\n",
       "      <th></th>\n",
       "      <th></th>\n",
       "    </tr>\n",
       "  </thead>\n",
       "  <tbody>\n",
       "    <tr>\n",
       "      <th>2010-01-04</th>\n",
       "      <td>30.62</td>\n",
       "      <td>31.1</td>\n",
       "      <td>30.59</td>\n",
       "      <td>30.95</td>\n",
       "      <td>23.857347</td>\n",
       "      <td>38409100.0</td>\n",
       "      <td>0.0</td>\n",
       "      <td>1.0</td>\n",
       "    </tr>\n",
       "  </tbody>\n",
       "</table>\n",
       "</div>"
      ],
      "text/plain": [
       "            1. open  2. high  3. low  4. close  5. adjusted close   6. volume  \\\n",
       "date                                                                            \n",
       "2010-01-04  30.62    31.1     30.59   30.95     23.857347          38409100.0   \n",
       "\n",
       "            7. dividend amount  8. split coefficient  \n",
       "date                                                  \n",
       "2010-01-04  0.0                 1.0                   "
      ]
     },
     "execution_count": 7,
     "metadata": {},
     "output_type": "execute_result"
    }
   ],
   "source": [
    "df.head(1)"
   ]
  },
  {
   "cell_type": "code",
   "execution_count": 8,
   "metadata": {},
   "outputs": [],
   "source": [
    "benzinga_csv_path = \"/app/StockPricePredictions/data/benzinga/msft_non_dupes.csv\""
   ]
  },
  {
   "cell_type": "code",
   "execution_count": 9,
   "metadata": {},
   "outputs": [],
   "source": [
    "df_benzinga = pd.read_csv(benzinga_csv_path, low_memory=False)"
   ]
  },
  {
   "cell_type": "code",
   "execution_count": 10,
   "metadata": {},
   "outputs": [
    {
     "name": "stdout",
     "output_type": "stream",
     "text": [
      "<class 'pandas.core.frame.DataFrame'>\n",
      "RangeIndex: 11107 entries, 0 to 11106\n",
      "Data columns (total 19 columns):\n",
      " #   Column    Non-Null Count  Dtype \n",
      "---  ------    --------------  ----- \n",
      " 0   date      11107 non-null  object\n",
      " 1   author    11107 non-null  object\n",
      " 2   created   11107 non-null  object\n",
      " 3   updated   11107 non-null  object\n",
      " 4   title     11106 non-null  object\n",
      " 5   teaser    2542 non-null   object\n",
      " 6   body      9586 non-null   object\n",
      " 7   url       11107 non-null  object\n",
      " 8   image     11107 non-null  object\n",
      " 9   channels  11107 non-null  object\n",
      " 10  stocks    11107 non-null  object\n",
      " 11  tags      11107 non-null  object\n",
      " 12  AAPL      11107 non-null  bool  \n",
      " 13  MSFT      11107 non-null  bool  \n",
      " 14  AMZN      11107 non-null  bool  \n",
      " 15  FB        11107 non-null  bool  \n",
      " 16  NVDA      11107 non-null  bool  \n",
      " 17  INTC      11107 non-null  bool  \n",
      " 18  NFLX      11107 non-null  bool  \n",
      "dtypes: bool(7), object(12)\n",
      "memory usage: 1.1+ MB\n"
     ]
    }
   ],
   "source": [
    "df_benzinga.info()"
   ]
  },
  {
   "cell_type": "code",
   "execution_count": 11,
   "metadata": {},
   "outputs": [
    {
     "data": {
      "text/html": [
       "<div>\n",
       "<style scoped>\n",
       "    .dataframe tbody tr th:only-of-type {\n",
       "        vertical-align: middle;\n",
       "    }\n",
       "\n",
       "    .dataframe tbody tr th {\n",
       "        vertical-align: top;\n",
       "    }\n",
       "\n",
       "    .dataframe thead th {\n",
       "        text-align: right;\n",
       "    }\n",
       "</style>\n",
       "<table border=\"1\" class=\"dataframe\">\n",
       "  <thead>\n",
       "    <tr style=\"text-align: right;\">\n",
       "      <th></th>\n",
       "      <th>date</th>\n",
       "      <th>author</th>\n",
       "      <th>created</th>\n",
       "      <th>updated</th>\n",
       "      <th>title</th>\n",
       "      <th>teaser</th>\n",
       "      <th>body</th>\n",
       "      <th>url</th>\n",
       "      <th>image</th>\n",
       "      <th>channels</th>\n",
       "      <th>stocks</th>\n",
       "      <th>tags</th>\n",
       "      <th>AAPL</th>\n",
       "      <th>MSFT</th>\n",
       "      <th>AMZN</th>\n",
       "      <th>FB</th>\n",
       "      <th>NVDA</th>\n",
       "      <th>INTC</th>\n",
       "      <th>NFLX</th>\n",
       "    </tr>\n",
       "  </thead>\n",
       "  <tbody>\n",
       "    <tr>\n",
       "      <th>0</th>\n",
       "      <td>2010-01-04</td>\n",
       "      <td>Benzinga</td>\n",
       "      <td>Mon, 04 Jan 2010 10:05:22 -0400</td>\n",
       "      <td>Tue, 05 Jan 2010 10:02:03 -0400</td>\n",
       "      <td>Stock Market News for January 04, 2010 - Market News</td>\n",
       "      <td>NaN</td>\n",
       "      <td>&lt;p align=\"justify\"&gt;U.S. stocks fell broadly on the last trading day of an otherwise great year for equities as a better-than-estimated report on initial jobless claims stoked investors’ concern that the Federal Reserve would soon begin winding up stimulus measures. &lt;/p&gt;\\n&lt;p align=\"justify\"&gt;The Dow Jones industrial average lost 120.46 points, or 1.1%, to 10,428.05 as 29 of its 30 components ended in the red in a thinly traded session.  The broader S&amp;P 500 index slid more than 11 points, or 1%, to 1,115.1 points, narrowing its 2009 gain to 23%.  The tech-laden Nasdaq closed down 22.13 points, or about 1%, at 2,269.15. &lt;/p&gt;\\n&lt;p align=\"justify\"&gt;This morning’s stock futures suggest Wall Street is headed for a higher opening on 2010’s first trading day.  Dow Jones industrial average futures are up 58 points, or 0.6%, to 10,423.  Standard &amp; Poor's 500 index futures are up 6.60 points, or 0.6%, to 1,117.30, while Nasdaq 100 index futures are up 21.75, or 1.2%, to 1,880.50.&lt;/p&gt;\\n&lt;p align=\"justify\"&gt;During the year, the S&amp;P 500 gained 23.4%, fed by recovery hopes.  The DJIA finished the year up 18.8%, or 1652 points, for its best run since 2003, led by a flamboyant 118.4% jump over the year in American Express (NYSE:AXP), a 56.8% surge in Microsoft (NASDAQ:MSFT), and a 55.5% gain in IBM (NYSE:IBM).  Nasdaq, helped by strength in its technology components, jumped 44% and recorded a 6.9% fourth-quarter gain.  Technology stocks were the leading gainers among the S&amp;P 500 industry sectors, surging 60% as a group, followed by a 45% rise in raw-materials producers and an almost 40% surge in consumer-related companies.  &lt;/p&gt;\\n&lt;p align=\"justify\"&gt;The upcoming week witnesses increased activity on the Fed front, with the Wednesday FOMC minutes commanding the most attention.  Yesterday Lockhart, Kohn and Bernanke took to the podium; today Lockhart and Duke are slated to speak; on Tuesday Hoenig would take to the podium; Bullard is slated on Friday.&lt;br /&gt;\\n             &lt;br /&gt;\\nOf note is the recent advance in Treasury yields, as the US government funds the rising deficit.  The 10-year yield has climbed about 65 basis points in December to 3.85%, rising to a multi-month high of 3.91% Thursday, as investors grew concerned that Fed would slowly raise interest rate due to the improved economic data, which in turn engendered less safe-haven buying.&lt;/p&gt;&lt;a href=\"http://www.zacks.com\" alt=\"Investment Research\"&gt;Zacks Investment Research&lt;/a&gt;&lt;br /&gt;</td>\n",
       "      <td>https://www.benzinga.com/node/74824</td>\n",
       "      <td>[]</td>\n",
       "      <td>[]</td>\n",
       "      <td>[{'name': 'AXP'}, {'name': 'IBM'}, {'name': 'MSFT'}]</td>\n",
       "      <td>[{'name': 'Computer Hardware'}, {'name': 'Consumer Finance'}, {'name': 'Financials'}, {'name': 'Information Technology'}, {'name': 'Systems Software'}]</td>\n",
       "      <td>False</td>\n",
       "      <td>True</td>\n",
       "      <td>False</td>\n",
       "      <td>False</td>\n",
       "      <td>False</td>\n",
       "      <td>False</td>\n",
       "      <td>False</td>\n",
       "    </tr>\n",
       "    <tr>\n",
       "      <th>1</th>\n",
       "      <td>2010-01-04</td>\n",
       "      <td>Benzinga</td>\n",
       "      <td>Mon, 04 Jan 2010 14:17:59 -0400</td>\n",
       "      <td>Mon, 04 Jan 2010 14:17:59 -0400</td>\n",
       "      <td>Credit Suisse AG Embroiled In A $24 Billion Lawsuit (MSFT, CS)</td>\n",
       "      <td>NaN</td>\n",
       "      <td>According to a Reuters report, Credit Suisse AG (NYSE: &lt;a class=\"ticker\" href=\"/stock/cs#NYSE\"&gt;CS&lt;/a&gt;) has been sued by property owners for a whooping $24 billion in damages. The class action lawsuit filed in Boise, Idaho has real estate consultants Cushman &amp; Wakefield as co defendants. \\r\\n\\r\\nThe alleged losses relate to Yellowstone resort, Lake Las Vegas resort, and Tamarack resort amongst others. According to the complaint, Credit Suisse violated federal racketeering laws by devising a \"loan to own\" scheme which inflated the value of resorts and burdened the resorts and purchasers of homes there with too much debt. The appraisal methodology devised by Cushman &amp; Wakefield allowed Credit Suisse to win ‘enormous fees’ and take control of resorts well below market value.\\r\\n\\r\\nYellowstone, which counted Microsoft Corp (NASDAQ: &lt;a class=\"ticker\" href=\"/stock/msft#NASDAQ\"&gt;MSFT&lt;/a&gt;) founder Bill Gates amongst its patrons, had pleaded for bankruptcy last May and the judge had castigated Credit Suisse for ‘predatory lending practices’. Judge Ralph Rischer who oversaw the bankruptcy proceedings went so far as to state ‘The naked greed in this case shocks the conscience of this court’.</td>\n",
       "      <td>https://www.benzinga.com/node/75173</td>\n",
       "      <td>[]</td>\n",
       "      <td>[{'name': 'News'}, {'name': 'Markets'}]</td>\n",
       "      <td>[{'name': 'CS'}, {'name': 'MSFT'}]</td>\n",
       "      <td>[{'name': 'Bill Gates'}, {'name': 'Cushman &amp; Wakefield'}, {'name': 'Diversified Capital Markets'}, {'name': 'Financials'}, {'name': 'Information Technology'}, {'name': 'Systems Software'}]</td>\n",
       "      <td>False</td>\n",
       "      <td>True</td>\n",
       "      <td>False</td>\n",
       "      <td>False</td>\n",
       "      <td>False</td>\n",
       "      <td>False</td>\n",
       "      <td>False</td>\n",
       "    </tr>\n",
       "  </tbody>\n",
       "</table>\n",
       "</div>"
      ],
      "text/plain": [
       "         date    author                          created  \\\n",
       "0  2010-01-04  Benzinga  Mon, 04 Jan 2010 10:05:22 -0400   \n",
       "1  2010-01-04  Benzinga  Mon, 04 Jan 2010 14:17:59 -0400   \n",
       "\n",
       "                           updated  \\\n",
       "0  Tue, 05 Jan 2010 10:02:03 -0400   \n",
       "1  Mon, 04 Jan 2010 14:17:59 -0400   \n",
       "\n",
       "                                                            title teaser  \\\n",
       "0  Stock Market News for January 04, 2010 - Market News            NaN     \n",
       "1  Credit Suisse AG Embroiled In A $24 Billion Lawsuit (MSFT, CS)  NaN     \n",
       "\n",
       "                                                                                                                                                                                                                                                                                                                                                                                                                                                                                                                                                                                                                                                                                                                                                                                                                                                                                                                                                                                                                                                                                                                                                                                                                                                                                                                                                                                                                                                                                                                                                                                                                                                                                                                                                                                                                                                                                                                                                                                                                                                                                                                                                                                                                                                                                                                                                                                                                                                                                                                                                       body  \\\n",
       "0  <p align=\"justify\">U.S. stocks fell broadly on the last trading day of an otherwise great year for equities as a better-than-estimated report on initial jobless claims stoked investors’ concern that the Federal Reserve would soon begin winding up stimulus measures. </p>\\n<p align=\"justify\">The Dow Jones industrial average lost 120.46 points, or 1.1%, to 10,428.05 as 29 of its 30 components ended in the red in a thinly traded session.  The broader S&P 500 index slid more than 11 points, or 1%, to 1,115.1 points, narrowing its 2009 gain to 23%.  The tech-laden Nasdaq closed down 22.13 points, or about 1%, at 2,269.15. </p>\\n<p align=\"justify\">This morning’s stock futures suggest Wall Street is headed for a higher opening on 2010’s first trading day.  Dow Jones industrial average futures are up 58 points, or 0.6%, to 10,423.  Standard & Poor's 500 index futures are up 6.60 points, or 0.6%, to 1,117.30, while Nasdaq 100 index futures are up 21.75, or 1.2%, to 1,880.50.</p>\\n<p align=\"justify\">During the year, the S&P 500 gained 23.4%, fed by recovery hopes.  The DJIA finished the year up 18.8%, or 1652 points, for its best run since 2003, led by a flamboyant 118.4% jump over the year in American Express (NYSE:AXP), a 56.8% surge in Microsoft (NASDAQ:MSFT), and a 55.5% gain in IBM (NYSE:IBM).  Nasdaq, helped by strength in its technology components, jumped 44% and recorded a 6.9% fourth-quarter gain.  Technology stocks were the leading gainers among the S&P 500 industry sectors, surging 60% as a group, followed by a 45% rise in raw-materials producers and an almost 40% surge in consumer-related companies.  </p>\\n<p align=\"justify\">The upcoming week witnesses increased activity on the Fed front, with the Wednesday FOMC minutes commanding the most attention.  Yesterday Lockhart, Kohn and Bernanke took to the podium; today Lockhart and Duke are slated to speak; on Tuesday Hoenig would take to the podium; Bullard is slated on Friday.<br />\\n             <br />\\nOf note is the recent advance in Treasury yields, as the US government funds the rising deficit.  The 10-year yield has climbed about 65 basis points in December to 3.85%, rising to a multi-month high of 3.91% Thursday, as investors grew concerned that Fed would slowly raise interest rate due to the improved economic data, which in turn engendered less safe-haven buying.</p><a href=\"http://www.zacks.com\" alt=\"Investment Research\">Zacks Investment Research</a><br />   \n",
       "1  According to a Reuters report, Credit Suisse AG (NYSE: <a class=\"ticker\" href=\"/stock/cs#NYSE\">CS</a>) has been sued by property owners for a whooping $24 billion in damages. The class action lawsuit filed in Boise, Idaho has real estate consultants Cushman & Wakefield as co defendants. \\r\\n\\r\\nThe alleged losses relate to Yellowstone resort, Lake Las Vegas resort, and Tamarack resort amongst others. According to the complaint, Credit Suisse violated federal racketeering laws by devising a \"loan to own\" scheme which inflated the value of resorts and burdened the resorts and purchasers of homes there with too much debt. The appraisal methodology devised by Cushman & Wakefield allowed Credit Suisse to win ‘enormous fees’ and take control of resorts well below market value.\\r\\n\\r\\nYellowstone, which counted Microsoft Corp (NASDAQ: <a class=\"ticker\" href=\"/stock/msft#NASDAQ\">MSFT</a>) founder Bill Gates amongst its patrons, had pleaded for bankruptcy last May and the judge had castigated Credit Suisse for ‘predatory lending practices’. Judge Ralph Rischer who oversaw the bankruptcy proceedings went so far as to state ‘The naked greed in this case shocks the conscience of this court’.                                                                                                                                                                                                                                                                                                                                                                                                                                                                                                                                                                                                                                                                                                                                                                                                                                                                                                                                                                                                                                                                                                                                                                                                                                                                                                             \n",
       "\n",
       "                                   url image  \\\n",
       "0  https://www.benzinga.com/node/74824  []     \n",
       "1  https://www.benzinga.com/node/75173  []     \n",
       "\n",
       "                                  channels  \\\n",
       "0  []                                        \n",
       "1  [{'name': 'News'}, {'name': 'Markets'}]   \n",
       "\n",
       "                                                 stocks  \\\n",
       "0  [{'name': 'AXP'}, {'name': 'IBM'}, {'name': 'MSFT'}]   \n",
       "1  [{'name': 'CS'}, {'name': 'MSFT'}]                     \n",
       "\n",
       "                                                                                                                                                                                           tags  \\\n",
       "0  [{'name': 'Computer Hardware'}, {'name': 'Consumer Finance'}, {'name': 'Financials'}, {'name': 'Information Technology'}, {'name': 'Systems Software'}]                                        \n",
       "1  [{'name': 'Bill Gates'}, {'name': 'Cushman & Wakefield'}, {'name': 'Diversified Capital Markets'}, {'name': 'Financials'}, {'name': 'Information Technology'}, {'name': 'Systems Software'}]   \n",
       "\n",
       "    AAPL  MSFT   AMZN     FB   NVDA   INTC   NFLX  \n",
       "0  False  True  False  False  False  False  False  \n",
       "1  False  True  False  False  False  False  False  "
      ]
     },
     "execution_count": 11,
     "metadata": {},
     "output_type": "execute_result"
    }
   ],
   "source": [
    "df_benzinga.head(2)"
   ]
  },
  {
   "cell_type": "code",
   "execution_count": 12,
   "metadata": {},
   "outputs": [],
   "source": [
    "df_benzinga[\"body\"] = df_benzinga[\"body\"].replace(np.nan, \"\")"
   ]
  },
  {
   "cell_type": "code",
   "execution_count": 13,
   "metadata": {},
   "outputs": [],
   "source": [
    "def clean_text(text):\n",
    "    soup = BeautifulSoup(text)\n",
    "\n",
    "    # remove HTML tables\n",
    "    for table in soup.find_all(\"table\"):\n",
    "        table.extract()\n",
    "\n",
    "    text_without_tables = soup.text\n",
    "\n",
    "    pattern1 = re.compile(r\"\\s\")\n",
    "\n",
    "    clean_text1 = re.sub(pattern1, \" \", text_without_tables)\n",
    "\n",
    "    pattern2 = re.compile(r\"\\\\r|\\\\+n\")\n",
    "\n",
    "    clean_text2 = re.sub(pattern1, \" \", clean_text1)\n",
    "\n",
    "    clean_text3 = re.sub(r'^https?:\\/\\/.*[\\r\\n]*', '', clean_text2, flags=re.MULTILINE)\n",
    "\n",
    "    return clean_text3\n",
    "\n",
    "    \n",
    "    "
   ]
  },
  {
   "cell_type": "code",
   "execution_count": 14,
   "metadata": {},
   "outputs": [
    {
     "name": "stderr",
     "output_type": "stream",
     "text": [
      "/root/.local/lib/python3.8/site-packages/bs4/__init__.py:431: MarkupResemblesLocatorWarning: \"http://allthingsd.com/20130919/microsoft-will-buy-your-old-tablets-and-smartphones/\" looks like a URL. Beautiful Soup is not an HTTP client. You should probably use an HTTP client like requests to get the document behind the URL, and feed that document to Beautiful Soup.\n",
      "  warnings.warn(\n",
      "/root/.local/lib/python3.8/site-packages/bs4/__init__.py:431: MarkupResemblesLocatorWarning: \"http://blogs.technet.com/b/microsoft_blog/archive/2014/03/25/microsoft-makes-source-code-for-ms-dos-and-word-for-windows-available-to-public.aspx\" looks like a URL. Beautiful Soup is not an HTTP client. You should probably use an HTTP client like requests to get the document behind the URL, and feed that document to Beautiful Soup.\n",
      "  warnings.warn(\n",
      "/root/.local/lib/python3.8/site-packages/bs4/__init__.py:431: MarkupResemblesLocatorWarning: \"http://blogs.technet.com/b/microsoft_on_the_issues/archive/2014/03/28/we-re-listening-additional-steps-to-protect-your-privacy.aspx\" looks like a URL. Beautiful Soup is not an HTTP client. You should probably use an HTTP client like requests to get the document behind the URL, and feed that document to Beautiful Soup.\n",
      "  warnings.warn(\n",
      "/root/.local/lib/python3.8/site-packages/bs4/__init__.py:431: MarkupResemblesLocatorWarning: \"http://blogs.technet.com/b/microsoft_blog/archive/2014/05/01/updating-internet-explorer-and-driving-security.aspx\" looks like a URL. Beautiful Soup is not an HTTP client. You should probably use an HTTP client like requests to get the document behind the URL, and feed that document to Beautiful Soup.\n",
      "  warnings.warn(\n",
      "/root/.local/lib/python3.8/site-packages/bs4/__init__.py:431: MarkupResemblesLocatorWarning: \"http://blogs.msdn.com/b/windowsazure/archive/2014/05/01/big-compute-for-microsoft-azure-announcing-the-acquisition-of-greenbutton.aspx\" looks like a URL. Beautiful Soup is not an HTTP client. You should probably use an HTTP client like requests to get the document behind the URL, and feed that document to Beautiful Soup.\n",
      "  warnings.warn(\n",
      "/root/.local/lib/python3.8/site-packages/bs4/__init__.py:431: MarkupResemblesLocatorWarning: \"http://blogs.technet.com/b/microsoft_on_the_issues/archive/2014/05/16/one-step-closer-to-tv-white-spaces-access-and-preserving-the-open-internet.aspx\" looks like a URL. Beautiful Soup is not an HTTP client. You should probably use an HTTP client like requests to get the document behind the URL, and feed that document to Beautiful Soup.\n",
      "  warnings.warn(\n",
      "/root/.local/lib/python3.8/site-packages/bs4/__init__.py:431: MarkupResemblesLocatorWarning: \"http://blogs.technet.com/b/microsoft_on_the_issues/archive/2014/05/22/new-success-in-protecting-customer-rights-unsealed-today.aspx\" looks like a URL. Beautiful Soup is not an HTTP client. You should probably use an HTTP client like requests to get the document behind the URL, and feed that document to Beautiful Soup.\n",
      "  warnings.warn(\n",
      "/root/.local/lib/python3.8/site-packages/bs4/__init__.py:431: MarkupResemblesLocatorWarning: \"http://blogs.microsoft.com/blog/2014/07/11/microsoft-acquires-inmage-better-business-continuity-with-azure/\" looks like a URL. Beautiful Soup is not an HTTP client. You should probably use an HTTP client like requests to get the document behind the URL, and feed that document to Beautiful Soup.\n",
      "  warnings.warn(\n",
      "/root/.local/lib/python3.8/site-packages/bs4/__init__.py:431: MarkupResemblesLocatorWarning: \"http://blogs.microsoft.com/on-the-issues/2014/07/31/microsoft-responds-ruling-warrant-case/\" looks like a URL. Beautiful Soup is not an HTTP client. You should probably use an HTTP client like requests to get the document behind the URL, and feed that document to Beautiful Soup.\n",
      "  warnings.warn(\n",
      "/root/.local/lib/python3.8/site-packages/bs4/__init__.py:431: MarkupResemblesLocatorWarning: \"http://blogs.microsoft.com/on-the-issues/2014/08/01/microsofts-samsung-action/\" looks like a URL. Beautiful Soup is not an HTTP client. You should probably use an HTTP client like requests to get the document behind the URL, and feed that document to Beautiful Soup.\n",
      "  warnings.warn(\n",
      "/root/.local/lib/python3.8/site-packages/bs4/__init__.py:431: MarkupResemblesLocatorWarning: \"http://www.microsoft.com/en-us/news/press/2014/aug14/08-19steveb.aspx\" looks like a URL. Beautiful Soup is not an HTTP client. You should probably use an HTTP client like requests to get the document behind the URL, and feed that document to Beautiful Soup.\n",
      "  warnings.warn(\n",
      "/root/.local/lib/python3.8/site-packages/bs4/__init__.py:431: MarkupResemblesLocatorWarning: \"http://news.xbox.com/2014/09/xbox-one-welcoming-29-new-markets-to-xbox-one\" looks like a URL. Beautiful Soup is not an HTTP client. You should probably use an HTTP client like requests to get the document behind the URL, and feed that document to Beautiful Soup.\n",
      "  warnings.warn(\n",
      "/root/.local/lib/python3.8/site-packages/bs4/__init__.py:431: MarkupResemblesLocatorWarning: \"http://news.xbox.com/2014/09/xbox-one-launches-in-china\" looks like a URL. Beautiful Soup is not an HTTP client. You should probably use an HTTP client like requests to get the document behind the URL, and feed that document to Beautiful Soup.\n",
      "  warnings.warn(\n",
      "/root/.local/lib/python3.8/site-packages/bs4/__init__.py:431: MarkupResemblesLocatorWarning: \"https://www.theinformation.com/Inside-the-Race-to-the-Cloud-in-China\" looks like a URL. Beautiful Soup is not an HTTP client. You should probably use an HTTP client like requests to get the document behind the URL, and feed that document to Beautiful Soup.\n",
      "  warnings.warn(\n",
      "/root/.local/lib/python3.8/site-packages/bs4/__init__.py:431: MarkupResemblesLocatorWarning: \"http://www.microsoft.com/Microsoft-Band/en-us\" looks like a URL. Beautiful Soup is not an HTTP client. You should probably use an HTTP client like requests to get the document behind the URL, and feed that document to Beautiful Soup.\n",
      "  warnings.warn(\n",
      "/root/.local/lib/python3.8/site-packages/bs4/__init__.py:431: MarkupResemblesLocatorWarning: \"http://www.cafc.uscourts.gov/images/stories/opinions-orders/13-1584.Opinion.11-4-2014.1.PDF\" looks like a URL. Beautiful Soup is not an HTTP client. You should probably use an HTTP client like requests to get the document behind the URL, and feed that document to Beautiful Soup.\n",
      "  warnings.warn(\n",
      "/root/.local/lib/python3.8/site-packages/bs4/__init__.py:431: MarkupResemblesLocatorWarning: \"http://conversations.nokia.com/2014/11/07/want-to-see-morelumia/\" looks like a URL. Beautiful Soup is not an HTTP client. You should probably use an HTTP client like requests to get the document behind the URL, and feed that document to Beautiful Soup.\n",
      "  warnings.warn(\n",
      "/root/.local/lib/python3.8/site-packages/bs4/__init__.py:431: MarkupResemblesLocatorWarning: \"http://blogs.microsoft.com/blog/2014/11/11/skype-business-brings-best-skype-lync-due-2015/\" looks like a URL. Beautiful Soup is not an HTTP client. You should probably use an HTTP client like requests to get the document behind the URL, and feed that document to Beautiful Soup.\n",
      "  warnings.warn(\n",
      "/root/.local/lib/python3.8/site-packages/bs4/__init__.py:431: MarkupResemblesLocatorWarning: \"http://www.realmadrid.com/en/news/2014/11/presentation-of-the-agreement-between-real-madrid-and-microsoft\" looks like a URL. Beautiful Soup is not an HTTP client. You should probably use an HTTP client like requests to get the document behind the URL, and feed that document to Beautiful Soup.\n",
      "  warnings.warn(\n",
      "/root/.local/lib/python3.8/site-packages/bs4/__init__.py:431: MarkupResemblesLocatorWarning: \"http://blogs.office.com/2014/11/18/introducing-office-365-video/\" looks like a URL. Beautiful Soup is not an HTTP client. You should probably use an HTTP client like requests to get the document behind the URL, and feed that document to Beautiful Soup.\n",
      "  warnings.warn(\n",
      "/root/.local/lib/python3.8/site-packages/bs4/__init__.py:431: MarkupResemblesLocatorWarning: \"https://www.theinformation.com/All-Eyes-on-Apple-as-Google-Search-Deal-Expires-Next-Year\" looks like a URL. Beautiful Soup is not an HTTP client. You should probably use an HTTP client like requests to get the document behind the URL, and feed that document to Beautiful Soup.\n",
      "  warnings.warn(\n",
      "/root/.local/lib/python3.8/site-packages/bs4/__init__.py:431: MarkupResemblesLocatorWarning: \"http://blogs.microsoft.com/blog/2014/12/01/microsoft-acquires-acompli-provider-innovative-mobile-email-apps/\" looks like a URL. Beautiful Soup is not an HTTP client. You should probably use an HTTP client like requests to get the document behind the URL, and feed that document to Beautiful Soup.\n",
      "  warnings.warn(\n",
      "/root/.local/lib/python3.8/site-packages/bs4/__init__.py:431: MarkupResemblesLocatorWarning: \"http://www.idc.com/getdoc.jsp?containerId=prUS25282214&pageType=PRINTFRIENDLY\" looks like a URL. Beautiful Soup is not an HTTP client. You should probably use an HTTP client like requests to get the document behind the URL, and feed that document to Beautiful Soup.\n",
      "  warnings.warn(\n",
      "/root/.local/lib/python3.8/site-packages/bs4/__init__.py:431: MarkupResemblesLocatorWarning: \"http://www.digitimes.com/news/a20141202PD210.html\" looks like a URL. Beautiful Soup is not an HTTP client. You should probably use an HTTP client like requests to get the document behind the URL, and feed that document to Beautiful Soup.\n",
      "  warnings.warn(\n",
      "/root/.local/lib/python3.8/site-packages/bs4/__init__.py:431: MarkupResemblesLocatorWarning: \"http://blogs.microsoft.com/on-the-issues/2014/12/08/microsoft-appeal-ponders-u-s-reaction-foreign-data-demand/\" looks like a URL. Beautiful Soup is not an HTTP client. You should probably use an HTTP client like requests to get the document behind the URL, and feed that document to Beautiful Soup.\n",
      "  warnings.warn(\n",
      "/root/.local/lib/python3.8/site-packages/bs4/__init__.py:431: MarkupResemblesLocatorWarning: \"https://twitter.com/CNBCnow\" looks like a URL. Beautiful Soup is not an HTTP client. You should probably use an HTTP client like requests to get the document behind the URL, and feed that document to Beautiful Soup.\n",
      "  warnings.warn(\n",
      "/root/.local/lib/python3.8/site-packages/bs4/__init__.py:431: MarkupResemblesLocatorWarning: \"http://blogs.msdn.com/b/bharry/archive/2014/12/11/microsoft-acquires-hockeyapp.aspx\" looks like a URL. Beautiful Soup is not an HTTP client. You should probably use an HTTP client like requests to get the document behind the URL, and feed that document to Beautiful Soup.\n",
      "  warnings.warn(\n",
      "/root/.local/lib/python3.8/site-packages/bs4/__init__.py:431: MarkupResemblesLocatorWarning: \"http://recode.net/2014/12/11/microsoft-plans-january-21-event-to-talk-more-about-windows-10/\" looks like a URL. Beautiful Soup is not an HTTP client. You should probably use an HTTP client like requests to get the document behind the URL, and feed that document to Beautiful Soup.\n",
      "  warnings.warn(\n",
      "/root/.local/lib/python3.8/site-packages/bs4/__init__.py:431: MarkupResemblesLocatorWarning: \"http://blogs.microsoft.com/on-the-issues/2014/12/18/microsoft-takes-action-tech-support-scammers/\" looks like a URL. Beautiful Soup is not an HTTP client. You should probably use an HTTP client like requests to get the document behind the URL, and feed that document to Beautiful Soup.\n",
      "  warnings.warn(\n",
      "/root/.local/lib/python3.8/site-packages/bs4/__init__.py:431: MarkupResemblesLocatorWarning: \"https://www.seetheinterview.com/\" looks like a URL. Beautiful Soup is not an HTTP client. You should probably use an HTTP client like requests to get the document behind the URL, and feed that document to Beautiful Soup.\n",
      "  warnings.warn(\n",
      "/root/.local/lib/python3.8/site-packages/bs4/__init__.py:431: MarkupResemblesLocatorWarning: \"http://blogs.microsoft.com/blog/2015/01/13/registration-build-2015-opens-jan-22/\" looks like a URL. Beautiful Soup is not an HTTP client. You should probably use an HTTP client like requests to get the document behind the URL, and feed that document to Beautiful Soup.\n",
      "  warnings.warn(\n",
      "/root/.local/lib/python3.8/site-packages/bs4/__init__.py:431: MarkupResemblesLocatorWarning: \"http://blogs.windows.com/bloggingwindows/2015/01/14/live-webcast-details-for-our-windows-10-media-briefing-next-week/\" looks like a URL. Beautiful Soup is not an HTTP client. You should probably use an HTTP client like requests to get the document behind the URL, and feed that document to Beautiful Soup.\n",
      "  warnings.warn(\n",
      "/root/.local/lib/python3.8/site-packages/bs4/__init__.py:431: MarkupResemblesLocatorWarning: \"https://twitter.com/twitter\" looks like a URL. Beautiful Soup is not an HTTP client. You should probably use an HTTP client like requests to get the document behind the URL, and feed that document to Beautiful Soup.\n",
      "  warnings.warn(\n",
      "/root/.local/lib/python3.8/site-packages/bs4/__init__.py:431: MarkupResemblesLocatorWarning: \"http://blogs.microsoft.com/on-the-issues/2015/02/09/update-samsung-microsoft-contract-dispute/\" looks like a URL. Beautiful Soup is not an HTTP client. You should probably use an HTTP client like requests to get the document behind the URL, and feed that document to Beautiful Soup.\n",
      "  warnings.warn(\n",
      "/root/.local/lib/python3.8/site-packages/bs4/__init__.py:431: MarkupResemblesLocatorWarning: \"http://www.bizjournals.com/phoenix/news/2015/02/20/microsoft-could-land-big-data-center-in-phoenix.html\" looks like a URL. Beautiful Soup is not an HTTP client. You should probably use an HTTP client like requests to get the document behind the URL, and feed that document to Beautiful Soup.\n",
      "  warnings.warn(\n",
      "/root/.local/lib/python3.8/site-packages/bs4/__init__.py:431: MarkupResemblesLocatorWarning: \"http://www.digitimes.com/news/a20150226PD204.html\" looks like a URL. Beautiful Soup is not an HTTP client. You should probably use an HTTP client like requests to get the document behind the URL, and feed that document to Beautiful Soup.\n",
      "  warnings.warn(\n",
      "/root/.local/lib/python3.8/site-packages/bs4/__init__.py:431: MarkupResemblesLocatorWarning: \"http://www.reuters.com/article/2015/03/07/microsoft-kyocera-lawsuit-idUSL1N0W903D20150307\" looks like a URL. Beautiful Soup is not an HTTP client. You should probably use an HTTP client like requests to get the document behind the URL, and feed that document to Beautiful Soup.\n",
      "  warnings.warn(\n",
      "/root/.local/lib/python3.8/site-packages/bs4/__init__.py:431: MarkupResemblesLocatorWarning: \"http://www.idc.com/getdoc.jsp?containerId=prUS25480015&pageType=PRINTFRIENDLY\" looks like a URL. Beautiful Soup is not an HTTP client. You should probably use an HTTP client like requests to get the document behind the URL, and feed that document to Beautiful Soup.\n",
      "  warnings.warn(\n",
      "/root/.local/lib/python3.8/site-packages/bs4/__init__.py:431: MarkupResemblesLocatorWarning: \"http://www.idc.com/getdoc.jsp?containerId=prUS25500515&pageType=PRINTFRIENDLY\" looks like a URL. Beautiful Soup is not an HTTP client. You should probably use an HTTP client like requests to get the document behind the URL, and feed that document to Beautiful Soup.\n",
      "  warnings.warn(\n",
      "/root/.local/lib/python3.8/site-packages/bs4/__init__.py:431: MarkupResemblesLocatorWarning: \"http://microsoft-news.com/microsoft-updates-outlook-for-android-and-ios/\n",
      "http://microsoft-news.com/microsoft-office-lens-app-comes-to-iphone-and-android/\" looks like a URL. Beautiful Soup is not an HTTP client. You should probably use an HTTP client like requests to get the document behind the URL, and feed that document to Beautiful Soup.\n",
      "  warnings.warn(\n",
      "/root/.local/lib/python3.8/site-packages/bs4/__init__.py:431: MarkupResemblesLocatorWarning: \"http://blogs.microsoft.com/blog/2015/04/14/microsoft-acquires-mobile-business-intelligence-leader-datazen/\" looks like a URL. Beautiful Soup is not an HTTP client. You should probably use an HTTP client like requests to get the document behind the URL, and feed that document to Beautiful Soup.\n",
      "  warnings.warn(\n",
      "/root/.local/lib/python3.8/site-packages/bs4/__init__.py:431: MarkupResemblesLocatorWarning: \"https://www.fireeye.com/blog/threat-research/2015/04/probable_apt28_useo.html\" looks like a URL. Beautiful Soup is not an HTTP client. You should probably use an HTTP client like requests to get the document behind the URL, and feed that document to Beautiful Soup.\n",
      "  warnings.warn(\n",
      "/root/.local/lib/python3.8/site-packages/bs4/__init__.py:431: MarkupResemblesLocatorWarning: \"http://indianexpress.com/article/technology/social/exclusive-skype-to-roll-out-made-for-india-app/\" looks like a URL. Beautiful Soup is not an HTTP client. You should probably use an HTTP client like requests to get the document behind the URL, and feed that document to Beautiful Soup.\n",
      "  warnings.warn(\n",
      "/root/.local/lib/python3.8/site-packages/bs4/__init__.py:431: MarkupResemblesLocatorWarning: \"http://tech.firstpost.com/news-analysis/viber-users-surpass-40-million-users-here-making-india-its-biggest-market-264538.html\" looks like a URL. Beautiful Soup is not an HTTP client. You should probably use an HTTP client like requests to get the document behind the URL, and feed that document to Beautiful Soup.\n",
      "  warnings.warn(\n",
      "/root/.local/lib/python3.8/site-packages/bs4/__init__.py:431: MarkupResemblesLocatorWarning: \"http://www.digitimes.com/news/a20150507PD205.html\" looks like a URL. Beautiful Soup is not an HTTP client. You should probably use an HTTP client like requests to get the document behind the URL, and feed that document to Beautiful Soup.\n",
      "  warnings.warn(\n",
      "/root/.local/lib/python3.8/site-packages/bs4/__init__.py:431: MarkupResemblesLocatorWarning: \"http://bgr.com/2015/05/11/microsoft-surface-hub-release-date/\" looks like a URL. Beautiful Soup is not an HTTP client. You should probably use an HTTP client like requests to get the document behind the URL, and feed that document to Beautiful Soup.\n",
      "  warnings.warn(\n",
      "/root/.local/lib/python3.8/site-packages/bs4/__init__.py:431: MarkupResemblesLocatorWarning: \"http://www.digitimes.com/news/a20150521PD213.html\" looks like a URL. Beautiful Soup is not an HTTP client. You should probably use an HTTP client like requests to get the document behind the URL, and feed that document to Beautiful Soup.\n",
      "  warnings.warn(\n",
      "/root/.local/lib/python3.8/site-packages/bs4/__init__.py:431: MarkupResemblesLocatorWarning: \"http://www.idc.com/getdoc.jsp?containerId=prUS25643015&pageType=PRINTFRIENDLY\" looks like a URL. Beautiful Soup is not an HTTP client. You should probably use an HTTP client like requests to get the document behind the URL, and feed that document to Beautiful Soup.\n",
      "  warnings.warn(\n",
      "/root/.local/lib/python3.8/site-packages/bs4/__init__.py:431: MarkupResemblesLocatorWarning: \"http://www.digitimes.com/news/a20150622PD211.html\" looks like a URL. Beautiful Soup is not an HTTP client. You should probably use an HTTP client like requests to get the document behind the URL, and feed that document to Beautiful Soup.\n",
      "  warnings.warn(\n",
      "/root/.local/lib/python3.8/site-packages/bs4/__init__.py:431: MarkupResemblesLocatorWarning: \"http://www.phonearena.com/news/Sizzling-hot-rumor-Microsoft-dropping-Windows-Phone-for-Android_id70972\" looks like a URL. Beautiful Soup is not an HTTP client. You should probably use an HTTP client like requests to get the document behind the URL, and feed that document to Beautiful Soup.\n",
      "  warnings.warn(\n",
      "/root/.local/lib/python3.8/site-packages/bs4/__init__.py:431: MarkupResemblesLocatorWarning: \"http://www.nytimes.com/2015/07/09/technology/major-job-cuts-expected-at-microsoft.html\" looks like a URL. Beautiful Soup is not an HTTP client. You should probably use an HTTP client like requests to get the document behind the URL, and feed that document to Beautiful Soup.\n",
      "  warnings.warn(\n",
      "/root/.local/lib/python3.8/site-packages/bs4/__init__.py:431: MarkupResemblesLocatorWarning: \"https://news.microsoft.com/2015/07/08/microsoft-announces-restructuring-of-phone-hardware-business/\" looks like a URL. Beautiful Soup is not an HTTP client. You should probably use an HTTP client like requests to get the document behind the URL, and feed that document to Beautiful Soup.\n",
      "  warnings.warn(\n",
      "/root/.local/lib/python3.8/site-packages/bs4/__init__.py:431: MarkupResemblesLocatorWarning: \"http://www.digitimes.com/news/a20150714PD204.html\" looks like a URL. Beautiful Soup is not an HTTP client. You should probably use an HTTP client like requests to get the document behind the URL, and feed that document to Beautiful Soup.\n",
      "  warnings.warn(\n",
      "/root/.local/lib/python3.8/site-packages/bs4/__init__.py:431: MarkupResemblesLocatorWarning: \"http://www.digitimes.com/news/a20150714VL202.html\" looks like a URL. Beautiful Soup is not an HTTP client. You should probably use an HTTP client like requests to get the document behind the URL, and feed that document to Beautiful Soup.\n",
      "  warnings.warn(\n",
      "/root/.local/lib/python3.8/site-packages/bs4/__init__.py:431: MarkupResemblesLocatorWarning: \"http://www.digitimes.com/news/a20150716PD202.html\" looks like a URL. Beautiful Soup is not an HTTP client. You should probably use an HTTP client like requests to get the document behind the URL, and feed that document to Beautiful Soup.\n",
      "  warnings.warn(\n",
      "/root/.local/lib/python3.8/site-packages/bs4/__init__.py:431: MarkupResemblesLocatorWarning: \"https://blogs.microsoft.com/blog/2015/07/16/microsoft-acquires-fieldone-global-provider-of-field-service-management-solutions-for-the-enterprise/\" looks like a URL. Beautiful Soup is not an HTTP client. You should probably use an HTTP client like requests to get the document behind the URL, and feed that document to Beautiful Soup.\n",
      "  warnings.warn(\n",
      "/root/.local/lib/python3.8/site-packages/bs4/__init__.py:431: MarkupResemblesLocatorWarning: \"http://www.globes.co.il/en/article-microsoft-buys-israeli-cloud-security-co-adallom-for-320m-1001054306\" looks like a URL. Beautiful Soup is not an HTTP client. You should probably use an HTTP client like requests to get the document behind the URL, and feed that document to Beautiful Soup.\n",
      "  warnings.warn(\n",
      "/root/.local/lib/python3.8/site-packages/bs4/__init__.py:431: MarkupResemblesLocatorWarning: \"http://www.digitimes.com/news/a20150731PR201.html\" looks like a URL. Beautiful Soup is not an HTTP client. You should probably use an HTTP client like requests to get the document behind the URL, and feed that document to Beautiful Soup.\n",
      "  warnings.warn(\n",
      "/root/.local/lib/python3.8/site-packages/bs4/__init__.py:431: MarkupResemblesLocatorWarning: \"http://blogs.windows.com/bloggingwindows/2015/08/24/cortana-now-available-on-android-in-public-beta/\" looks like a URL. Beautiful Soup is not an HTTP client. You should probably use an HTTP client like requests to get the document behind the URL, and feed that document to Beautiful Soup.\n",
      "  warnings.warn(\n",
      "/root/.local/lib/python3.8/site-packages/bs4/__init__.py:431: MarkupResemblesLocatorWarning: \"http://blogs.windows.com/bloggingwindows/2015/08/26/windows-10-now-on-75-million-devices/\" looks like a URL. Beautiful Soup is not an HTTP client. You should probably use an HTTP client like requests to get the document behind the URL, and feed that document to Beautiful Soup.\n",
      "  warnings.warn(\n",
      "/root/.local/lib/python3.8/site-packages/bs4/__init__.py:431: MarkupResemblesLocatorWarning: \"http://www.digitimes.com/news/a20150826PD207.html\" looks like a URL. Beautiful Soup is not an HTTP client. You should probably use an HTTP client like requests to get the document behind the URL, and feed that document to Beautiful Soup.\n",
      "  warnings.warn(\n",
      "/root/.local/lib/python3.8/site-packages/bs4/__init__.py:431: MarkupResemblesLocatorWarning: \"http://www.fudzilla.com/news/graphics/38725-microsoft-interested-to-acquire-amd\" looks like a URL. Beautiful Soup is not an HTTP client. You should probably use an HTTP client like requests to get the document behind the URL, and feed that document to Beautiful Soup.\n",
      "  warnings.warn(\n",
      "/root/.local/lib/python3.8/site-packages/bs4/__init__.py:431: MarkupResemblesLocatorWarning: \"http://www.digitimes.com/news/a20150915PD208.html\" looks like a URL. Beautiful Soup is not an HTTP client. You should probably use an HTTP client like requests to get the document behind the URL, and feed that document to Beautiful Soup.\n",
      "  warnings.warn(\n",
      "/root/.local/lib/python3.8/site-packages/bs4/__init__.py:431: MarkupResemblesLocatorWarning: \"http://www.digitimes.com/news/a20150921PD200.html\" looks like a URL. Beautiful Soup is not an HTTP client. You should probably use an HTTP client like requests to get the document behind the URL, and feed that document to Beautiful Soup.\n",
      "  warnings.warn(\n",
      "/root/.local/lib/python3.8/site-packages/bs4/__init__.py:431: MarkupResemblesLocatorWarning: \"http://heartbeat.skype.com/2015/09/skype_presence_issues.html\" looks like a URL. Beautiful Soup is not an HTTP client. You should probably use an HTTP client like requests to get the document behind the URL, and feed that document to Beautiful Soup.\n",
      "  warnings.warn(\n",
      "/root/.local/lib/python3.8/site-packages/bs4/__init__.py:431: MarkupResemblesLocatorWarning: \"https://blogs.microsoft.com/blog/2015/10/02/havok-to-join-microsoft/\" looks like a URL. Beautiful Soup is not an HTTP client. You should probably use an HTTP client like requests to get the document behind the URL, and feed that document to Beautiful Soup.\n",
      "  warnings.warn(\n",
      "/root/.local/lib/python3.8/site-packages/bs4/__init__.py:431: MarkupResemblesLocatorWarning: \"http://blogs.microsoft.com/blog/2015/11/05/microsoft-acquires-mobile-data-labs-to-advance-intelligent-productivity-solutions-for-the-mobile-workforce/\" looks like a URL. Beautiful Soup is not an HTTP client. You should probably use an HTTP client like requests to get the document behind the URL, and feed that document to Beautiful Soup.\n",
      "  warnings.warn(\n",
      "/root/.local/lib/python3.8/site-packages/bs4/__init__.py:431: MarkupResemblesLocatorWarning: \"http://www.digitimes.com/news/a20151207PD202.html\" looks like a URL. Beautiful Soup is not an HTTP client. You should probably use an HTTP client like requests to get the document behind the URL, and feed that document to Beautiful Soup.\n",
      "  warnings.warn(\n",
      "/root/.local/lib/python3.8/site-packages/bs4/__init__.py:431: MarkupResemblesLocatorWarning: \"http://www.digitimes.com/news/a20151210PD203.html\" looks like a URL. Beautiful Soup is not an HTTP client. You should probably use an HTTP client like requests to get the document behind the URL, and feed that document to Beautiful Soup.\n",
      "  warnings.warn(\n",
      "/root/.local/lib/python3.8/site-packages/bs4/__init__.py:431: MarkupResemblesLocatorWarning: \"https://blogs.microsoft.com/blog/2015/12/18/microsoft-acquires-metanautix-to-help-customers-connect-data-for-business-insights/\" looks like a URL. Beautiful Soup is not an HTTP client. You should probably use an HTTP client like requests to get the document behind the URL, and feed that document to Beautiful Soup.\n",
      "  warnings.warn(\n",
      "/root/.local/lib/python3.8/site-packages/bs4/__init__.py:431: MarkupResemblesLocatorWarning: \"http://www.talko.com/\" looks like a URL. Beautiful Soup is not an HTTP client. You should probably use an HTTP client like requests to get the document behind the URL, and feed that document to Beautiful Soup.\n",
      "  warnings.warn(\n",
      "/root/.local/lib/python3.8/site-packages/bs4/__init__.py:431: MarkupResemblesLocatorWarning: \"http://www.digitimes.com/news/a20160113PR200.html\" looks like a URL. Beautiful Soup is not an HTTP client. You should probably use an HTTP client like requests to get the document behind the URL, and feed that document to Beautiful Soup.\n",
      "  warnings.warn(\n",
      "/root/.local/lib/python3.8/site-packages/bs4/__init__.py:431: MarkupResemblesLocatorWarning: \"https://blogs.microsoft.com/blog/2016/01/13/microsoft-acquires-management-reporting-and-analytics-technology-from-event-zero-to-enhance-skype-for-business-online/\" looks like a URL. Beautiful Soup is not an HTTP client. You should probably use an HTTP client like requests to get the document behind the URL, and feed that document to Beautiful Soup.\n",
      "  warnings.warn(\n",
      "/root/.local/lib/python3.8/site-packages/bs4/__init__.py:431: MarkupResemblesLocatorWarning: \"http://www.digitimes.com/news/a20160203PD202.html\" looks like a URL. Beautiful Soup is not an HTTP client. You should probably use an HTTP client like requests to get the document behind the URL, and feed that document to Beautiful Soup.\n",
      "  warnings.warn(\n",
      "/root/.local/lib/python3.8/site-packages/bs4/__init__.py:431: MarkupResemblesLocatorWarning: \"https://blog.swiftkey.com/microsoft-acquires-swiftkey/\" looks like a URL. Beautiful Soup is not an HTTP client. You should probably use an HTTP client like requests to get the document behind the URL, and feed that document to Beautiful Soup.\n",
      "  warnings.warn(\n",
      "/root/.local/lib/python3.8/site-packages/bs4/__init__.py:431: MarkupResemblesLocatorWarning: \"https://blogs.windows.com/blog/2016/02/15/available-today-hulu-on-windows-10/\" looks like a URL. Beautiful Soup is not an HTTP client. You should probably use an HTTP client like requests to get the document behind the URL, and feed that document to Beautiful Soup.\n",
      "  warnings.warn(\n",
      "/root/.local/lib/python3.8/site-packages/bs4/__init__.py:431: MarkupResemblesLocatorWarning: \"http://techcrunch.com/2016/03/04/source-microsoft-mulled-an-8-billion-bid-for-slack-will-focus-on-skype-instead/\" looks like a URL. Beautiful Soup is not an HTTP client. You should probably use an HTTP client like requests to get the document behind the URL, and feed that document to Beautiful Soup.\n",
      "  warnings.warn(\n",
      "/root/.local/lib/python3.8/site-packages/bs4/__init__.py:431: MarkupResemblesLocatorWarning: \"http://www.digitimes.com/news/a20160309PD205.html\" looks like a URL. Beautiful Soup is not an HTTP client. You should probably use an HTTP client like requests to get the document behind the URL, and feed that document to Beautiful Soup.\n",
      "  warnings.warn(\n",
      "/root/.local/lib/python3.8/site-packages/bs4/__init__.py:431: MarkupResemblesLocatorWarning: \"http://fortune.com/2016/03/21/xbox-digital-game-trades/\" looks like a URL. Beautiful Soup is not an HTTP client. You should probably use an HTTP client like requests to get the document behind the URL, and feed that document to Beautiful Soup.\n",
      "  warnings.warn(\n",
      "/root/.local/lib/python3.8/site-packages/bs4/__init__.py:431: MarkupResemblesLocatorWarning: \"http://www.digitimes.com/news/a20160328PD202.html\" looks like a URL. Beautiful Soup is not an HTTP client. You should probably use an HTTP client like requests to get the document behind the URL, and feed that document to Beautiful Soup.\n",
      "  warnings.warn(\n",
      "/root/.local/lib/python3.8/site-packages/bs4/__init__.py:431: MarkupResemblesLocatorWarning: \"https://blogs.microsoft.com/transform/2016/03/31/bmw-launches-new-digital-mobility-experience-based-on-the-open-mobility-cloud-using-microsoft-azure/?utm_medium=bitly&utm_source=Twitter&utm_campaign=Build#sm.0000wnhlvul83e85rs52c6so1veak\" looks like a URL. Beautiful Soup is not an HTTP client. You should probably use an HTTP client like requests to get the document behind the URL, and feed that document to Beautiful Soup.\n",
      "  warnings.warn(\n",
      "/root/.local/lib/python3.8/site-packages/bs4/__init__.py:431: MarkupResemblesLocatorWarning: \"http://news.xbox.com/2016/04/20/xbox-360-celebrating-10-years/\" looks like a URL. Beautiful Soup is not an HTTP client. You should probably use an HTTP client like requests to get the document behind the URL, and feed that document to Beautiful Soup.\n",
      "  warnings.warn(\n",
      "/root/.local/lib/python3.8/site-packages/bs4/__init__.py:431: MarkupResemblesLocatorWarning: \"http://blogs.microsoft.com/blog/2016/05/03/do-not-delete-april-28/#sm.00009tpuboh1ydutqvy1mxg9f1yut\" looks like a URL. Beautiful Soup is not an HTTP client. You should probably use an HTTP client like requests to get the document behind the URL, and feed that document to Beautiful Soup.\n",
      "  warnings.warn(\n",
      "/root/.local/lib/python3.8/site-packages/bs4/__init__.py:431: MarkupResemblesLocatorWarning: \"http://www.theverge.com/2016/5/18/11699660/microsoft-foxconn-feature-phone-sale\" looks like a URL. Beautiful Soup is not an HTTP client. You should probably use an HTTP client like requests to get the document behind the URL, and feed that document to Beautiful Soup.\n",
      "  warnings.warn(\n",
      "/root/.local/lib/python3.8/site-packages/bs4/__init__.py:431: MarkupResemblesLocatorWarning: \"https://blogs.microsoft.com/blog/2016/06/01/windows-veteran-dona-sarkar-is-new-head-of-windows-insider-program/\" looks like a URL. Beautiful Soup is not an HTTP client. You should probably use an HTTP client like requests to get the document behind the URL, and feed that document to Beautiful Soup.\n",
      "  warnings.warn(\n",
      "/root/.local/lib/python3.8/site-packages/bs4/__init__.py:431: MarkupResemblesLocatorWarning: \"http://blogs.microsoft.com/firehose/2016/06/13/microsoft-to-acquire-linkedin/#sm.0000taywzssg5dmfy8214badi4vc9\" looks like a URL. Beautiful Soup is not an HTTP client. You should probably use an HTTP client like requests to get the document behind the URL, and feed that document to Beautiful Soup.\n",
      "  warnings.warn(\n",
      "/root/.local/lib/python3.8/site-packages/bs4/__init__.py:431: MarkupResemblesLocatorWarning: \"http://news.microsoft.com/#sm.00009tpuboh1ydutqvy1mxg9f1yut\" looks like a URL. Beautiful Soup is not an HTTP client. You should probably use an HTTP client like requests to get the document behind the URL, and feed that document to Beautiful Soup.\n",
      "  warnings.warn(\n",
      "/root/.local/lib/python3.8/site-packages/bs4/__init__.py:431: MarkupResemblesLocatorWarning: \"https://blogs.microsoft.com/blog/2016/06/16/microsoft-acquires-wand-labs-to-accelerate-innovation-in-bing-intelligence-and-conversation-as-a-platform/#sm.0015m8du313mqfqdwkh1h29gz02vv\" looks like a URL. Beautiful Soup is not an HTTP client. You should probably use an HTTP client like requests to get the document behind the URL, and feed that document to Beautiful Soup.\n",
      "  warnings.warn(\n",
      "/root/.local/lib/python3.8/site-packages/bs4/__init__.py:431: MarkupResemblesLocatorWarning: \"https://www.theinformation.com/for-salesforce-its-eat-or-be-eaten\" looks like a URL. Beautiful Soup is not an HTTP client. You should probably use an HTTP client like requests to get the document behind the URL, and feed that document to Beautiful Soup.\n",
      "  warnings.warn(\n",
      "/root/.local/lib/python3.8/site-packages/bs4/__init__.py:431: MarkupResemblesLocatorWarning: \"http://www.digitimes.com/news/a20160630PD203.html\" looks like a URL. Beautiful Soup is not an HTTP client. You should probably use an HTTP client like requests to get the document behind the URL, and feed that document to Beautiful Soup.\n",
      "  warnings.warn(\n",
      "/root/.local/lib/python3.8/site-packages/bs4/__init__.py:431: MarkupResemblesLocatorWarning: \"http://blogs.microsoft.com/blog/2016/07/12/microsoft-announces-technology-innovations-at-worldwide-partner-conference-opening-up-new-opportunities-for-partners/#sm.00009tpuboh1ydutqvy1mxg9f1yut\" looks like a URL. Beautiful Soup is not an HTTP client. You should probably use an HTTP client like requests to get the document behind the URL, and feed that document to Beautiful Soup.\n",
      "  warnings.warn(\n",
      "/root/.local/lib/python3.8/site-packages/bs4/__init__.py:431: MarkupResemblesLocatorWarning: \"http://ctfn.news/microsoft-file-ec-approval-linkedin-acquisition-shortly/\" looks like a URL. Beautiful Soup is not an HTTP client. You should probably use an HTTP client like requests to get the document behind the URL, and feed that document to Beautiful Soup.\n",
      "  warnings.warn(\n"
     ]
    }
   ],
   "source": [
    "df_benzinga[\"body\"] = df_benzinga[\"body\"].apply(clean_text)"
   ]
  },
  {
   "cell_type": "code",
   "execution_count": 15,
   "metadata": {},
   "outputs": [],
   "source": [
    "df_benzinga[\"body\"] = df_benzinga[\"body\"].replace(np.nan, \"\")"
   ]
  },
  {
   "cell_type": "code",
   "execution_count": 16,
   "metadata": {},
   "outputs": [],
   "source": [
    "df_benzinga[\"text\"] = df_benzinga[\"title\"] + \" \" + df_benzinga[\"body\"]"
   ]
  },
  {
   "cell_type": "code",
   "execution_count": 17,
   "metadata": {},
   "outputs": [],
   "source": [
    "df_benzinga['date'] = pd.to_datetime(df_benzinga['date'])"
   ]
  },
  {
   "cell_type": "code",
   "execution_count": 18,
   "metadata": {},
   "outputs": [],
   "source": [
    "df_benzinga.set_index(\"date\", inplace=True)"
   ]
  },
  {
   "cell_type": "code",
   "execution_count": 19,
   "metadata": {},
   "outputs": [],
   "source": [
    "df_benzinga = df_benzinga[[\"text\"]]"
   ]
  },
  {
   "cell_type": "code",
   "execution_count": 20,
   "metadata": {},
   "outputs": [],
   "source": [
    "def remove_ticker(text):\n",
    "\n",
    "    clean_text1 = re.sub(r'\\(NASDAQ\\s?:\\s?\\w+\\)', ' ', text, flags=re.MULTILINE)\n",
    "\n",
    "    clean_text2 = re.sub(r'\\(NYSE\\s?:\\s?\\w+\\)', ' ', clean_text1, flags=re.MULTILINE)\n",
    "\n",
    "    return clean_text2\n"
   ]
  },
  {
   "cell_type": "code",
   "execution_count": 21,
   "metadata": {},
   "outputs": [
    {
     "data": {
      "text/plain": [
       "True"
      ]
     },
     "execution_count": 21,
     "metadata": {},
     "output_type": "execute_result"
    }
   ],
   "source": [
    "df_benzinga[\"text\"].isnull().any()"
   ]
  },
  {
   "cell_type": "code",
   "execution_count": 22,
   "metadata": {},
   "outputs": [],
   "source": [
    "df_benzinga[\"text\"].fillna(\"\", inplace=True)"
   ]
  },
  {
   "cell_type": "code",
   "execution_count": 23,
   "metadata": {},
   "outputs": [],
   "source": [
    "df_benzinga[\"text\"] = df_benzinga[\"text\"].apply(remove_ticker)"
   ]
  },
  {
   "cell_type": "code",
   "execution_count": 24,
   "metadata": {},
   "outputs": [],
   "source": [
    "benzinga_csv_out_path = \"/app/StockPricePredictions/data/benzinga/msft_non_dupes_text_only.csv\""
   ]
  },
  {
   "cell_type": "code",
   "execution_count": 25,
   "metadata": {},
   "outputs": [],
   "source": [
    "df_benzinga.to_csv(benzinga_csv_out_path)\n",
    "df_benzinga2 = pd.read_csv(benzinga_csv_out_path)\n"
   ]
  },
  {
   "cell_type": "code",
   "execution_count": 26,
   "metadata": {},
   "outputs": [
    {
     "data": {
      "text/html": [
       "<div>\n",
       "<style scoped>\n",
       "    .dataframe tbody tr th:only-of-type {\n",
       "        vertical-align: middle;\n",
       "    }\n",
       "\n",
       "    .dataframe tbody tr th {\n",
       "        vertical-align: top;\n",
       "    }\n",
       "\n",
       "    .dataframe thead th {\n",
       "        text-align: right;\n",
       "    }\n",
       "</style>\n",
       "<table border=\"1\" class=\"dataframe\">\n",
       "  <thead>\n",
       "    <tr style=\"text-align: right;\">\n",
       "      <th></th>\n",
       "      <th>date</th>\n",
       "      <th>text</th>\n",
       "    </tr>\n",
       "  </thead>\n",
       "  <tbody>\n",
       "    <tr>\n",
       "      <th>0</th>\n",
       "      <td>2010-01-04</td>\n",
       "      <td>Stock Market News for January 04, 2010 - Market News U.S. stocks fell broadly on the last trading day of an otherwise great year for equities as a better-than-estimated report on initial jobless claims stoked investors’ concern that the Federal Reserve would soon begin winding up stimulus measures.  The Dow Jones industrial average lost 120.46 points, or 1.1%, to 10,428.05 as 29 of its 30 components ended in the red in a thinly traded session.  The broader S&amp;P 500 index slid more than 11 points, or 1%, to 1,115.1 points, narrowing its 2009 gain to 23%.  The tech-laden Nasdaq closed down 22.13 points, or about 1%, at 2,269.15.  This morning’s stock futures suggest Wall Street is headed for a higher opening on 2010’s first trading day.  Dow Jones industrial average futures are up 58 points, or 0.6%, to 10,423.  Standard &amp; Poor's 500 index futures are up 6.60 points, or 0.6%, to 1,117.30, while Nasdaq 100 index futures are up 21.75, or 1.2%, to 1,880.50. During the year, the S&amp;P 500 gained 23.4%, fed by recovery hopes.  The DJIA finished the year up 18.8%, or 1652 points, for its best run since 2003, led by a flamboyant 118.4% jump over the year in American Express  , a 56.8% surge in Microsoft  , and a 55.5% gain in IBM  .  Nasdaq, helped by strength in its technology components, jumped 44% and recorded a 6.9% fourth-quarter gain.  Technology stocks were the leading gainers among the S&amp;P 500 industry sectors, surging 60% as a group, followed by a 45% rise in raw-materials producers and an almost 40% surge in consumer-related companies.   The upcoming week witnesses increased activity on the Fed front, with the Wednesday FOMC minutes commanding the most attention.  Yesterday Lockhart, Kohn and Bernanke took to the podium; today Lockhart and Duke are slated to speak; on Tuesday Hoenig would take to the podium; Bullard is slated on Friday.               Of note is the recent advance in Treasury yields, as the US government funds the rising deficit.  The 10-year yield has climbed about 65 basis points in December to 3.85%, rising to a multi-month high of 3.91% Thursday, as investors grew concerned that Fed would slowly raise interest rate due to the improved economic data, which in turn engendered less safe-haven buying.Zacks Investment Research</td>\n",
       "    </tr>\n",
       "    <tr>\n",
       "      <th>1</th>\n",
       "      <td>2010-01-04</td>\n",
       "      <td>Credit Suisse AG Embroiled In A $24 Billion Lawsuit (MSFT, CS) According to a Reuters report, Credit Suisse AG   has been sued by property owners for a whooping $24 billion in damages. The class action lawsuit filed in Boise, Idaho has real estate consultants Cushman &amp; Wakefield as co defendants.     The alleged losses relate to Yellowstone resort, Lake Las Vegas resort, and Tamarack resort amongst others. According to the complaint, Credit Suisse violated federal racketeering laws by devising a \"loan to own\" scheme which inflated the value of resorts and burdened the resorts and purchasers of homes there with too much debt. The appraisal methodology devised by Cushman &amp; Wakefield allowed Credit Suisse to win ‘enormous fees’ and take control of resorts well below market value.    Yellowstone, which counted Microsoft Corp   founder Bill Gates amongst its patrons, had pleaded for bankruptcy last May and the judge had castigated Credit Suisse for ‘predatory lending practices’. Judge Ralph Rischer who oversaw the bankruptcy proceedings went so far as to state ‘The naked greed in this case shocks the conscience of this court’.</td>\n",
       "    </tr>\n",
       "    <tr>\n",
       "      <th>2</th>\n",
       "      <td>2010-01-04</td>\n",
       "      <td>Technology Stocks To Outperform In 2010 (STX, 3PAR, EMC, IBM, MSFT, AAPL) With companies starting to devote much more resources to technology to enhance productivity of existing workers, GDP growth of 2-3% should lead to an IT spending rebound of 5%+ in 2010, according to Hapolim Securities. In 2009, the HDD (hard disk drive) sub segment posted returns of 41.2% versus a NASDAQ gain of 17.5% while Storage systems were a close second with 34.5% return.     Strong expected PC demand and continued tight capacity will be the main success drivers in 2010 for HDD, a segment where stocks are still at fairly low valuations. PC unit growth will fuel revenue while low inventory and tight capacity conditions will lead to strong margins, while the threat from storage systems is limited. Seagate   is the top pick in this segment with very strong margins. Seagate also has an expected upside to current revenue and earnings estimate.    In the case of Storage systems, utilizations are very high across the industry, hence the maintenance repurchases will be robust in 2010. Key triggers for this segment will be customer focus on total cost of ownership, shift from tape back-up to de-duplication inspired capacity optimized storage and gradual ramp up of cloud computing. 3PAR   is the top pick in this segment due to its unique high-end storage system and being a major supplier to providers of external cloud services (expected).     Companies like Hitachi   seem to be stuck with outdated technology and this is the opportunity for 3PAR to snatch market share from the likes of EMC  , IBM  , etc.    In the PC/Server centric segment, growth is expected to be in the 12-15% range with PC unit sales recovering substantially in 2010, driven by strong emerging markets growth and onset of Windows 7   driven upgrade cycle. Revenue growth will however be in the range of 1-2% due to the trend towards lower ASP devices. Smart books like Apple tablet   will give strong competition to existing ‘Net books’. Dell   is the best pick amongst this rather uninspiring segment from a value perspective, though even Dell is trying to shift the business model upward through venture into services and enterprise storage.    Apple is the top pick in the phone/consumer centric segment through its continued success with the iPhone and the much hyped Apple tablet, though the segment will be marred due to unemployment and a tendency to spend on other consumer technologies. In the networking centric segment, competition is likely to heat up with HP   going after Cisco’s   core market.</td>\n",
       "    </tr>\n",
       "    <tr>\n",
       "      <th>3</th>\n",
       "      <td>2010-01-04</td>\n",
       "      <td>Top 10 Tech Hits Of 2010 (AAPL, GOOG, MSFT, VZ, CRM) Erick Schonfeld, writing on Techcrunch, has predicted what he believes will be the top ten technology hits in 2010.     First on the list, a product that has almost attained mythical status – the tablet alias iSlate from Apple  . Schonfeld expects the tablet to be the incarnation of the Web in device form, a device that will also masquerade as a superior e-book reader.     Second on the list is an application called Geo - in other words, geo-location. He expects geo-location to emerge as a necessary feature in any killer app. Twitter and Facebook are expected to be frontrunners in this endeavor.     The battle for internet search will evolve into a race for optimizing the third technology in this list – namely real-time search. Expect Google   and Microsoft   to unleash armies of geeks, nerds and others of the ilk in establishing superiority in this field.     Fourth on the list is Google’s latest salvo at the Microsoft empire – the Chrome Operating System. Google might even release a Chrome netbook to show the world the potential of a Web OS.     Fifth on the list is a technology termed HTML5. Most of the internet is built on HTML (Hyper Text Markup Language). HTML5 is a superior extension to this. Firefox and Chrome browsers are already compatible with HTML5, and Schonfeld expects a lot of websites to shift to the same.     The advent of 4G and the beefing up of 3G networks would make the mobile video ubiquitous, which is his sixth prediction. Staying with mobile telephony, usage of augmented reality apps is expected to be widespread in 2010, thus accounting for the seventh on the list. Mobile transactions come eighth in the list. Your mobile phone will morph into a point of sale, and you will be able to use it to make payments and undertake financial transactions.     The penultimate ‘hit’ is the Android-powered phone. Verizon   is expected to come out with Droid while Google introduces Nexus. Lastly we will see the emergence of social CRM tools like salesforce.com   offering Chatter.</td>\n",
       "    </tr>\n",
       "    <tr>\n",
       "      <th>4</th>\n",
       "      <td>2010-01-05</td>\n",
       "      <td>Barron's Expects PCs To Rebound, Intel (INTC) And Micron (MU) To Advance The year 2010 is expected to be a good year for PCs. The sector is likely to witness double-digit unit growth. However, revenue growth will remain slower due to falling prices.     According to Barron's Avian Securities Research Chief Avi Cohen, the mainstream forecast for PC unit sales may be too low. A leading market research firm, IDC  , has pegged the PC growth rate at 10% for the year 2010. However, Avi Cohen has predicted 13-15% normalized growth, and has further stated that OS upgrades released by Microsoft   may lead to even further increases in growth rate.     He favored micro-processor, disk-drive and memory chip stocks. Avi Cohen listed Intel  , Marvell  , Micron  , Advanced Micro Devices   and Western Digital Corp.   as his favorites. He also liked Seagate Technology  .     He gave a number of reasons for his optimism for Intel, Marvell, Micron, Advanced Micro Devices, Western Digital and Seagate. According to him, pricing will be the main demand driver. With the decline in PC prices, more and more people are able to afford computers and hence the higher demand.     He also said that positive reviews for Windows 7 will also help in driving up the PC demand. Improvement in the economy is also likely to increase job creation and increase corporate tech spending. These factors will be crucial for the demand curve. He blamed conservatism for the occasional supply shortage of PC components such as LCDs, disk-drives and graphics cards.</td>\n",
       "    </tr>\n",
       "  </tbody>\n",
       "</table>\n",
       "</div>"
      ],
      "text/plain": [
       "         date  \\\n",
       "0  2010-01-04   \n",
       "1  2010-01-04   \n",
       "2  2010-01-04   \n",
       "3  2010-01-04   \n",
       "4  2010-01-05   \n",
       "\n",
       "                                                                                                                                                                                                                                                                                                                                                                                                                                                                                                                                                                                                                                                                                                                                                                                                                                                                                                                                                                                                                                                                                                                                                                                                                                                                                                                                                                                                                                                                                                                                                                                                                                                                                                                                                                                                                                                                                                                                                                                                                                                                                                                                                                                                                                                                                                                                                                                                                                                                                                                                                                                                                                                                             text  \n",
       "0  Stock Market News for January 04, 2010 - Market News U.S. stocks fell broadly on the last trading day of an otherwise great year for equities as a better-than-estimated report on initial jobless claims stoked investors’ concern that the Federal Reserve would soon begin winding up stimulus measures.  The Dow Jones industrial average lost 120.46 points, or 1.1%, to 10,428.05 as 29 of its 30 components ended in the red in a thinly traded session.  The broader S&P 500 index slid more than 11 points, or 1%, to 1,115.1 points, narrowing its 2009 gain to 23%.  The tech-laden Nasdaq closed down 22.13 points, or about 1%, at 2,269.15.  This morning’s stock futures suggest Wall Street is headed for a higher opening on 2010’s first trading day.  Dow Jones industrial average futures are up 58 points, or 0.6%, to 10,423.  Standard & Poor's 500 index futures are up 6.60 points, or 0.6%, to 1,117.30, while Nasdaq 100 index futures are up 21.75, or 1.2%, to 1,880.50. During the year, the S&P 500 gained 23.4%, fed by recovery hopes.  The DJIA finished the year up 18.8%, or 1652 points, for its best run since 2003, led by a flamboyant 118.4% jump over the year in American Express  , a 56.8% surge in Microsoft  , and a 55.5% gain in IBM  .  Nasdaq, helped by strength in its technology components, jumped 44% and recorded a 6.9% fourth-quarter gain.  Technology stocks were the leading gainers among the S&P 500 industry sectors, surging 60% as a group, followed by a 45% rise in raw-materials producers and an almost 40% surge in consumer-related companies.   The upcoming week witnesses increased activity on the Fed front, with the Wednesday FOMC minutes commanding the most attention.  Yesterday Lockhart, Kohn and Bernanke took to the podium; today Lockhart and Duke are slated to speak; on Tuesday Hoenig would take to the podium; Bullard is slated on Friday.               Of note is the recent advance in Treasury yields, as the US government funds the rising deficit.  The 10-year yield has climbed about 65 basis points in December to 3.85%, rising to a multi-month high of 3.91% Thursday, as investors grew concerned that Fed would slowly raise interest rate due to the improved economic data, which in turn engendered less safe-haven buying.Zacks Investment Research                                                                                                                                                                                                                                                                                                         \n",
       "1  Credit Suisse AG Embroiled In A $24 Billion Lawsuit (MSFT, CS) According to a Reuters report, Credit Suisse AG   has been sued by property owners for a whooping $24 billion in damages. The class action lawsuit filed in Boise, Idaho has real estate consultants Cushman & Wakefield as co defendants.     The alleged losses relate to Yellowstone resort, Lake Las Vegas resort, and Tamarack resort amongst others. According to the complaint, Credit Suisse violated federal racketeering laws by devising a \"loan to own\" scheme which inflated the value of resorts and burdened the resorts and purchasers of homes there with too much debt. The appraisal methodology devised by Cushman & Wakefield allowed Credit Suisse to win ‘enormous fees’ and take control of resorts well below market value.    Yellowstone, which counted Microsoft Corp   founder Bill Gates amongst its patrons, had pleaded for bankruptcy last May and the judge had castigated Credit Suisse for ‘predatory lending practices’. Judge Ralph Rischer who oversaw the bankruptcy proceedings went so far as to state ‘The naked greed in this case shocks the conscience of this court’.                                                                                                                                                                                                                                                                                                                                                                                                                                                                                                                                                                                                                                                                                                                                                                                                                                                                                                                                                                                                                                                                                                                                                                                                                                                                                                                                                                                                                                                                                             \n",
       "2  Technology Stocks To Outperform In 2010 (STX, 3PAR, EMC, IBM, MSFT, AAPL) With companies starting to devote much more resources to technology to enhance productivity of existing workers, GDP growth of 2-3% should lead to an IT spending rebound of 5%+ in 2010, according to Hapolim Securities. In 2009, the HDD (hard disk drive) sub segment posted returns of 41.2% versus a NASDAQ gain of 17.5% while Storage systems were a close second with 34.5% return.     Strong expected PC demand and continued tight capacity will be the main success drivers in 2010 for HDD, a segment where stocks are still at fairly low valuations. PC unit growth will fuel revenue while low inventory and tight capacity conditions will lead to strong margins, while the threat from storage systems is limited. Seagate   is the top pick in this segment with very strong margins. Seagate also has an expected upside to current revenue and earnings estimate.    In the case of Storage systems, utilizations are very high across the industry, hence the maintenance repurchases will be robust in 2010. Key triggers for this segment will be customer focus on total cost of ownership, shift from tape back-up to de-duplication inspired capacity optimized storage and gradual ramp up of cloud computing. 3PAR   is the top pick in this segment due to its unique high-end storage system and being a major supplier to providers of external cloud services (expected).     Companies like Hitachi   seem to be stuck with outdated technology and this is the opportunity for 3PAR to snatch market share from the likes of EMC  , IBM  , etc.    In the PC/Server centric segment, growth is expected to be in the 12-15% range with PC unit sales recovering substantially in 2010, driven by strong emerging markets growth and onset of Windows 7   driven upgrade cycle. Revenue growth will however be in the range of 1-2% due to the trend towards lower ASP devices. Smart books like Apple tablet   will give strong competition to existing ‘Net books’. Dell   is the best pick amongst this rather uninspiring segment from a value perspective, though even Dell is trying to shift the business model upward through venture into services and enterprise storage.    Apple is the top pick in the phone/consumer centric segment through its continued success with the iPhone and the much hyped Apple tablet, though the segment will be marred due to unemployment and a tendency to spend on other consumer technologies. In the networking centric segment, competition is likely to heat up with HP   going after Cisco’s   core market.  \n",
       "3  Top 10 Tech Hits Of 2010 (AAPL, GOOG, MSFT, VZ, CRM) Erick Schonfeld, writing on Techcrunch, has predicted what he believes will be the top ten technology hits in 2010.     First on the list, a product that has almost attained mythical status – the tablet alias iSlate from Apple  . Schonfeld expects the tablet to be the incarnation of the Web in device form, a device that will also masquerade as a superior e-book reader.     Second on the list is an application called Geo - in other words, geo-location. He expects geo-location to emerge as a necessary feature in any killer app. Twitter and Facebook are expected to be frontrunners in this endeavor.     The battle for internet search will evolve into a race for optimizing the third technology in this list – namely real-time search. Expect Google   and Microsoft   to unleash armies of geeks, nerds and others of the ilk in establishing superiority in this field.     Fourth on the list is Google’s latest salvo at the Microsoft empire – the Chrome Operating System. Google might even release a Chrome netbook to show the world the potential of a Web OS.     Fifth on the list is a technology termed HTML5. Most of the internet is built on HTML (Hyper Text Markup Language). HTML5 is a superior extension to this. Firefox and Chrome browsers are already compatible with HTML5, and Schonfeld expects a lot of websites to shift to the same.     The advent of 4G and the beefing up of 3G networks would make the mobile video ubiquitous, which is his sixth prediction. Staying with mobile telephony, usage of augmented reality apps is expected to be widespread in 2010, thus accounting for the seventh on the list. Mobile transactions come eighth in the list. Your mobile phone will morph into a point of sale, and you will be able to use it to make payments and undertake financial transactions.     The penultimate ‘hit’ is the Android-powered phone. Verizon   is expected to come out with Droid while Google introduces Nexus. Lastly we will see the emergence of social CRM tools like salesforce.com   offering Chatter.                                                                                                                                                                                                                                                                                                                                                                                                                                                                                                                     \n",
       "4  Barron's Expects PCs To Rebound, Intel (INTC) And Micron (MU) To Advance The year 2010 is expected to be a good year for PCs. The sector is likely to witness double-digit unit growth. However, revenue growth will remain slower due to falling prices.     According to Barron's Avian Securities Research Chief Avi Cohen, the mainstream forecast for PC unit sales may be too low. A leading market research firm, IDC  , has pegged the PC growth rate at 10% for the year 2010. However, Avi Cohen has predicted 13-15% normalized growth, and has further stated that OS upgrades released by Microsoft   may lead to even further increases in growth rate.     He favored micro-processor, disk-drive and memory chip stocks. Avi Cohen listed Intel  , Marvell  , Micron  , Advanced Micro Devices   and Western Digital Corp.   as his favorites. He also liked Seagate Technology  .     He gave a number of reasons for his optimism for Intel, Marvell, Micron, Advanced Micro Devices, Western Digital and Seagate. According to him, pricing will be the main demand driver. With the decline in PC prices, more and more people are able to afford computers and hence the higher demand.     He also said that positive reviews for Windows 7 will also help in driving up the PC demand. Improvement in the economy is also likely to increase job creation and increase corporate tech spending. These factors will be crucial for the demand curve. He blamed conservatism for the occasional supply shortage of PC components such as LCDs, disk-drives and graphics cards.                                                                                                                                                                                                                                                                                                                                                                                                                                                                                                                                                                                                                                                                                                                                                                                                                                                                                                                                                                                                                                                                             "
      ]
     },
     "execution_count": 26,
     "metadata": {},
     "output_type": "execute_result"
    }
   ],
   "source": [
    "df_benzinga2.head()"
   ]
  },
  {
   "cell_type": "code",
   "execution_count": 27,
   "metadata": {},
   "outputs": [],
   "source": [
    "# import spacy"
   ]
  },
  {
   "cell_type": "code",
   "execution_count": 28,
   "metadata": {},
   "outputs": [],
   "source": [
    "# nlp = spacy.load('en_core_web_md')\n",
    "# myvals = df_benzinga['text'].values.tolist()"
   ]
  },
  {
   "cell_type": "code",
   "execution_count": 29,
   "metadata": {},
   "outputs": [],
   "source": [
    "# df_benzinga['len'] = df_benzinga['text'].str.split().str.len()"
   ]
  },
  {
   "cell_type": "code",
   "execution_count": 30,
   "metadata": {},
   "outputs": [],
   "source": [
    "# df_benzinga.describe()"
   ]
  }
 ],
 "metadata": {
  "interpreter": {
   "hash": "d4d1e4263499bec80672ea0156c357c1ee493ec2b1c70f0acce89fc37c4a6abe"
  },
  "kernelspec": {
   "display_name": "Python 3",
   "language": "python",
   "name": "python3"
  },
  "orig_nbformat": 4
 },
 "nbformat": 4,
 "nbformat_minor": 2
}
