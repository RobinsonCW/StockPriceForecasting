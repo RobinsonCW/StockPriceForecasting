{
 "cells": [
  {
   "cell_type": "markdown",
   "metadata": {},
   "source": [
    "https://docs.benzinga.io/benzinga/newsfeed-v2.html"
   ]
  },
  {
   "cell_type": "code",
   "execution_count": 1,
   "metadata": {},
   "outputs": [],
   "source": [
    "import pandas as pd\n",
    "import numpy as np\n",
    "import os\n",
    "import pathlib\n",
    "import time\n",
    "import json"
   ]
  },
  {
   "cell_type": "code",
   "execution_count": 2,
   "metadata": {},
   "outputs": [],
   "source": [
    "from datetime import date, datetime, timedelta\n",
    "\n",
    "def date_range(start_date, end_date):\n",
    "    delta = end_date - start_date  # as timedelta\n",
    "    days = [(start_date + timedelta(days=i)).strftime(\"%Y-%m-%d\") for i in range(delta.days + 1)]\n",
    "    return days # YYYY-MM-DD\n"
   ]
  },
  {
   "cell_type": "code",
   "execution_count": 3,
   "metadata": {},
   "outputs": [],
   "source": [
    "ticker = \"AAPL,MSFT,AMZN,FB,GOOG,GOOGL,TSLA,NVDA,PYPL,ASML,INTC,CMCSA,NFLX,ADBE,CSCO,PEP,AVGO,TXN,TMUS\""
   ]
  },
  {
   "cell_type": "code",
   "execution_count": 4,
   "metadata": {},
   "outputs": [],
   "source": [
    "p = pathlib.Path.cwd().glob(\"**/*.jsonXYZ\")\n",
    "files = [x for x in p if x.is_file()]\n",
    "\n",
    "files.sort()  # sort the files by year"
   ]
  },
  {
   "cell_type": "code",
   "execution_count": 5,
   "metadata": {},
   "outputs": [
    {
     "data": {
      "text/plain": [
       "[]"
      ]
     },
     "execution_count": 5,
     "metadata": {},
     "output_type": "execute_result"
    }
   ],
   "source": [
    "files"
   ]
  },
  {
   "cell_type": "code",
   "execution_count": 6,
   "metadata": {},
   "outputs": [],
   "source": [
    "all_dfs = []\n",
    "\n",
    "for f in files:\n",
    "    start_date = date(int(f.stem), 1, 1)\n",
    "    end_date = date(int(f.stem), 12, 31)\n",
    "\n",
    "    if int(f.stem) == 2022:\n",
    "        end_date = date(int(f.stem), 2, 14)\n",
    "\n",
    "    date_list = date_range(start_date, end_date)\n",
    "    print(start_date)\n",
    "    \n",
    "    # Opening JSON file\n",
    "    with open(f) as json_file:\n",
    "        data = json.load(json_file)\n",
    "        for i in date_list:\n",
    "            df_x = pd.DataFrame(data[i])\n",
    "            df_x[\"date\"] = datetime.strptime(i, \"%Y-%m-%d\")\n",
    "            all_dfs.append(df_x)"
   ]
  },
  {
   "cell_type": "code",
   "execution_count": 7,
   "metadata": {},
   "outputs": [],
   "source": [
    "# df_combined = pd.concat(all_dfs, ignore_index=True)"
   ]
  },
  {
   "cell_type": "code",
   "execution_count": 8,
   "metadata": {},
   "outputs": [],
   "source": [
    "# df_combined = df_combined.set_index(\"id\")"
   ]
  },
  {
   "cell_type": "code",
   "execution_count": 9,
   "metadata": {},
   "outputs": [],
   "source": [
    "# df_combined.index"
   ]
  },
  {
   "cell_type": "code",
   "execution_count": 10,
   "metadata": {},
   "outputs": [],
   "source": [
    "# df = pd.read_csv(\"./20100101_to_20220214.csv\", low_memory=False, index_col=\"id\")"
   ]
  }
 ],
 "metadata": {
  "interpreter": {
   "hash": "06613e16dc1aebd810c16422b73f886b4ff4ce8e102b88d0006f6672eb35e8f7"
  },
  "kernelspec": {
   "display_name": "Python 3.9.9 64-bit ('servicenow': venv)",
   "language": "python",
   "name": "python3"
  },
  "language_info": {
   "codemirror_mode": {
    "name": "ipython",
    "version": 3
   },
   "file_extension": ".py",
   "mimetype": "text/x-python",
   "name": "python",
   "nbconvert_exporter": "python",
   "pygments_lexer": "ipython3",
   "version": "3.9.9"
  },
  "orig_nbformat": 4
 },
 "nbformat": 4,
 "nbformat_minor": 2
}
