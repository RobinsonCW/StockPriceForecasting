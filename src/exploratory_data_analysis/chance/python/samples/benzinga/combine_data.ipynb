{
 "cells": [
  {
   "cell_type": "markdown",
   "metadata": {},
   "source": [
    "https://docs.benzinga.io/benzinga/newsfeed-v2.html"
   ]
  },
  {
   "cell_type": "code",
   "execution_count": 19,
   "metadata": {},
   "outputs": [],
   "source": [
    "import pandas as pd\n",
    "import numpy as np\n",
    "import os\n",
    "import pathlib\n",
    "import time\n",
    "import json"
   ]
  },
  {
   "cell_type": "code",
   "execution_count": 20,
   "metadata": {},
   "outputs": [],
   "source": [
    "json_path = \"../../../../../../data/benzinga/\""
   ]
  },
  {
   "cell_type": "code",
   "execution_count": 21,
   "metadata": {},
   "outputs": [],
   "source": [
    "from datetime import date, datetime, timedelta\n",
    "\n",
    "def date_range(start_date, end_date):\n",
    "    delta = end_date - start_date  # as timedelta\n",
    "    days = [(start_date + timedelta(days=i)).strftime(\"%Y-%m-%d\") for i in range(delta.days + 1)]\n",
    "    return days # YYYY-MM-DD\n"
   ]
  },
  {
   "cell_type": "code",
   "execution_count": 22,
   "metadata": {},
   "outputs": [],
   "source": [
    "ticker = \"AAPL,MSFT,AMZN,FB,GOOG,GOOGL,TSLA,NVDA,PYPL,ASML,INTC,CMCSA,NFLX,ADBE,CSCO,PEP,AVGO,TXN,TMUS\""
   ]
  },
  {
   "cell_type": "code",
   "execution_count": 23,
   "metadata": {},
   "outputs": [],
   "source": [
    "p = pathlib.Path.cwd().glob(\"../../../../../../data/benzinga/*.json\")\n",
    "files = [x for x in p if x.is_file()]\n",
    "\n",
    "files.sort()  # sort the files by year"
   ]
  },
  {
   "cell_type": "code",
   "execution_count": 24,
   "metadata": {},
   "outputs": [
    {
     "data": {
      "text/plain": [
       "[PosixPath('/app/StockPricePredictions/src/exploratory_data_analysis/chance/python/samples/benzinga/../../../../../../data/benzinga/2010.json'),\n",
       " PosixPath('/app/StockPricePredictions/src/exploratory_data_analysis/chance/python/samples/benzinga/../../../../../../data/benzinga/2011.json'),\n",
       " PosixPath('/app/StockPricePredictions/src/exploratory_data_analysis/chance/python/samples/benzinga/../../../../../../data/benzinga/2012.json'),\n",
       " PosixPath('/app/StockPricePredictions/src/exploratory_data_analysis/chance/python/samples/benzinga/../../../../../../data/benzinga/2013.json'),\n",
       " PosixPath('/app/StockPricePredictions/src/exploratory_data_analysis/chance/python/samples/benzinga/../../../../../../data/benzinga/2014.json'),\n",
       " PosixPath('/app/StockPricePredictions/src/exploratory_data_analysis/chance/python/samples/benzinga/../../../../../../data/benzinga/2015.json'),\n",
       " PosixPath('/app/StockPricePredictions/src/exploratory_data_analysis/chance/python/samples/benzinga/../../../../../../data/benzinga/2016.json'),\n",
       " PosixPath('/app/StockPricePredictions/src/exploratory_data_analysis/chance/python/samples/benzinga/../../../../../../data/benzinga/2017.json'),\n",
       " PosixPath('/app/StockPricePredictions/src/exploratory_data_analysis/chance/python/samples/benzinga/../../../../../../data/benzinga/2018.json'),\n",
       " PosixPath('/app/StockPricePredictions/src/exploratory_data_analysis/chance/python/samples/benzinga/../../../../../../data/benzinga/2019.json'),\n",
       " PosixPath('/app/StockPricePredictions/src/exploratory_data_analysis/chance/python/samples/benzinga/../../../../../../data/benzinga/2020.json'),\n",
       " PosixPath('/app/StockPricePredictions/src/exploratory_data_analysis/chance/python/samples/benzinga/../../../../../../data/benzinga/2021.json'),\n",
       " PosixPath('/app/StockPricePredictions/src/exploratory_data_analysis/chance/python/samples/benzinga/../../../../../../data/benzinga/2022.json')]"
      ]
     },
     "execution_count": 24,
     "metadata": {},
     "output_type": "execute_result"
    }
   ],
   "source": [
    "files"
   ]
  },
  {
   "cell_type": "code",
   "execution_count": 25,
   "metadata": {},
   "outputs": [
    {
     "name": "stdout",
     "output_type": "stream",
     "text": [
      "2010-01-01\n",
      "2011-01-01\n",
      "2012-01-01\n",
      "2013-01-01\n",
      "2014-01-01\n",
      "2015-01-01\n",
      "2016-01-01\n",
      "2017-01-01\n",
      "2018-01-01\n",
      "2019-01-01\n",
      "2020-01-01\n",
      "2021-01-01\n",
      "2022-01-01\n"
     ]
    }
   ],
   "source": [
    "all_dfs = []\n",
    "\n",
    "for f in files:\n",
    "    start_date = date(int(f.stem), 1, 1)\n",
    "    end_date = date(int(f.stem), 12, 31)\n",
    "\n",
    "    if int(f.stem) == 2022:\n",
    "        end_date = date(int(f.stem), 3, 4)\n",
    "\n",
    "    date_list = date_range(start_date, end_date)\n",
    "    print(start_date)\n",
    "    \n",
    "    # Opening JSON file\n",
    "    with open(f) as json_file:\n",
    "        data = json.load(json_file)\n",
    "        for i in date_list:\n",
    "            df_x = pd.DataFrame(data[i])\n",
    "            df_x[\"date\"] = datetime.strptime(i, \"%Y-%m-%d\")\n",
    "            all_dfs.append(df_x)"
   ]
  },
  {
   "cell_type": "code",
   "execution_count": 26,
   "metadata": {},
   "outputs": [],
   "source": [
    "df_combined = pd.concat(all_dfs, ignore_index=True)"
   ]
  },
  {
   "cell_type": "code",
   "execution_count": 27,
   "metadata": {},
   "outputs": [],
   "source": [
    "df_combined = df_combined.set_index(\"id\")"
   ]
  },
  {
   "cell_type": "code",
   "execution_count": 28,
   "metadata": {},
   "outputs": [
    {
     "data": {
      "text/plain": [
       "Float64Index([   74371.0,    74385.0,    74402.0,    74419.0,    74963.0,\n",
       "                 74901.0,    74991.0,    75010.0,    74734.0,    74742.0,\n",
       "              ...\n",
       "              26000818.0, 25993406.0, 25994641.0, 25996136.0, 25978627.0,\n",
       "              26001545.0, 25999924.0, 26002401.0, 25994316.0, 25984470.0],\n",
       "             dtype='float64', name='id', length=183577)"
      ]
     },
     "execution_count": 28,
     "metadata": {},
     "output_type": "execute_result"
    }
   ],
   "source": [
    "df_combined.index"
   ]
  },
  {
   "cell_type": "code",
   "execution_count": 31,
   "metadata": {},
   "outputs": [],
   "source": [
    "# df_combined.to_csv(\"../../../../../../data/benzinga/20100101_to_20220304.csv\")\n",
    "df = pd.read_csv(\"../../../../../../data/benzinga/20100101_to_20220304.csv\", low_memory=False, index_col=\"id\")"
   ]
  },
  {
   "cell_type": "code",
   "execution_count": 34,
   "metadata": {},
   "outputs": [
    {
     "data": {
      "text/html": [
       "<div>\n",
       "<style scoped>\n",
       "    .dataframe tbody tr th:only-of-type {\n",
       "        vertical-align: middle;\n",
       "    }\n",
       "\n",
       "    .dataframe tbody tr th {\n",
       "        vertical-align: top;\n",
       "    }\n",
       "\n",
       "    .dataframe thead th {\n",
       "        text-align: right;\n",
       "    }\n",
       "</style>\n",
       "<table border=\"1\" class=\"dataframe\">\n",
       "  <thead>\n",
       "    <tr style=\"text-align: right;\">\n",
       "      <th></th>\n",
       "      <th>date</th>\n",
       "      <th>author</th>\n",
       "      <th>created</th>\n",
       "      <th>updated</th>\n",
       "      <th>title</th>\n",
       "      <th>teaser</th>\n",
       "      <th>body</th>\n",
       "      <th>url</th>\n",
       "      <th>image</th>\n",
       "      <th>channels</th>\n",
       "      <th>stocks</th>\n",
       "      <th>tags</th>\n",
       "    </tr>\n",
       "    <tr>\n",
       "      <th>id</th>\n",
       "      <th></th>\n",
       "      <th></th>\n",
       "      <th></th>\n",
       "      <th></th>\n",
       "      <th></th>\n",
       "      <th></th>\n",
       "      <th></th>\n",
       "      <th></th>\n",
       "      <th></th>\n",
       "      <th></th>\n",
       "      <th></th>\n",
       "      <th></th>\n",
       "    </tr>\n",
       "  </thead>\n",
       "  <tbody>\n",
       "    <tr>\n",
       "      <th>26001545.0</th>\n",
       "      <td>2022-03-04</td>\n",
       "      <td>Benzinga Newsdesk</td>\n",
       "      <td>Fri, 04 Mar 2022 16:51:01 -0400</td>\n",
       "      <td>Fri, 04 Mar 2022 16:51:02 -0400</td>\n",
       "      <td>NY Pension Chief Sends Letter To McDonald's, P...</td>\n",
       "      <td>-Reuters</td>\n",
       "      <td>&lt;p&gt;-Reuters&lt;/p&gt;</td>\n",
       "      <td>https://www.benzinga.com/news/22/03/26001545/n...</td>\n",
       "      <td>[]</td>\n",
       "      <td>[{'name': 'News'}, {'name': 'Rumors'}]</td>\n",
       "      <td>[{'name': 'EL'}, {'name': 'MCD'}, {'name': 'PE...</td>\n",
       "      <td>[]</td>\n",
       "    </tr>\n",
       "    <tr>\n",
       "      <th>25999924.0</th>\n",
       "      <td>2022-03-04</td>\n",
       "      <td>Chris Katje</td>\n",
       "      <td>Fri, 04 Mar 2022 17:22:37 -0400</td>\n",
       "      <td>Fri, 04 Mar 2022 17:22:37 -0400</td>\n",
       "      <td>The Next Jeopardy Or Wordle? Netflix Launching...</td>\n",
       "      <td>Fans of Wordle or those who miss the daily liv...</td>\n",
       "      <td>&lt;p&gt;Fans of &lt;strong&gt;Wordle&lt;/strong&gt; or those wh...</td>\n",
       "      <td>https://www.benzinga.com/general/entertainment...</td>\n",
       "      <td>[{'size': 'thumb', 'url': 'https://cdn.benzing...</td>\n",
       "      <td>[{'name': 'Entertainment'}, {'name': 'News'}, ...</td>\n",
       "      <td>[{'name': 'NFLX'}, {'name': 'NYT'}]</td>\n",
       "      <td>[{'name': 'HQ Trivia'}, {'name': 'Mobile Games...</td>\n",
       "    </tr>\n",
       "    <tr>\n",
       "      <th>26002401.0</th>\n",
       "      <td>2022-03-04</td>\n",
       "      <td>Henry Khederian</td>\n",
       "      <td>Fri, 04 Mar 2022 17:29:52 -0400</td>\n",
       "      <td>Fri, 04 Mar 2022 17:29:52 -0400</td>\n",
       "      <td>Markets Close Lower As Russia-Ukraine War Esca...</td>\n",
       "      <td>U.S. indices traded lower after Russian forces...</td>\n",
       "      <td>&lt;p&gt;U.S. indices traded lower after Russian for...</td>\n",
       "      <td>https://www.benzinga.com/markets/cryptocurrenc...</td>\n",
       "      <td>[{'size': 'thumb', 'url': 'https://cdn.benzing...</td>\n",
       "      <td>[{'name': 'News'}, {'name': 'After-Hours Cente...</td>\n",
       "      <td>[{'name': 'APTV'}, {'name': 'COST'}, {'name': ...</td>\n",
       "      <td>[]</td>\n",
       "    </tr>\n",
       "    <tr>\n",
       "      <th>25994316.0</th>\n",
       "      <td>2022-03-04</td>\n",
       "      <td>Chris Katje</td>\n",
       "      <td>Fri, 04 Mar 2022 18:05:42 -0400</td>\n",
       "      <td>Fri, 04 Mar 2022 18:05:43 -0400</td>\n",
       "      <td>Here's How Much $100 In Dogecoin Could Be Wort...</td>\n",
       "      <td>One of the most popular cryptocurrencies took ...</td>\n",
       "      <td>&lt;p&gt;One of the most popular cryptocurrencies to...</td>\n",
       "      <td>https://www.benzinga.com/markets/cryptocurrenc...</td>\n",
       "      <td>[{'size': 'thumb', 'url': 'https://cdn.benzing...</td>\n",
       "      <td>[{'name': 'Cryptocurrency'}, {'name': 'Markets...</td>\n",
       "      <td>[{'name': '$DOGE'}, {'name': 'CMCSA'}, {'name'...</td>\n",
       "      <td>[{'name': 'Doge'}, {'name': 'dogecoin'}, {'nam...</td>\n",
       "    </tr>\n",
       "    <tr>\n",
       "      <th>25984470.0</th>\n",
       "      <td>2022-03-04</td>\n",
       "      <td>Samyuktha Sriram</td>\n",
       "      <td>Fri, 04 Mar 2022 09:35:03 -0400</td>\n",
       "      <td>Sat, 05 Mar 2022 10:37:38 -0400</td>\n",
       "      <td>Dogecoin Wallet Released For iOS, DOGE Co-Crea...</td>\n",
       "      <td>A self-custodian Dogecoin (CRYPTO: DOGE) walle...</td>\n",
       "      <td>&lt;p&gt;A self-custodian &lt;strong&gt;Dogecoin &lt;/strong&gt;...</td>\n",
       "      <td>https://www.benzinga.com/markets/cryptocurrenc...</td>\n",
       "      <td>[{'size': 'thumb', 'url': 'https://cdn.benzing...</td>\n",
       "      <td>[{'name': 'Cryptocurrency'}, {'name': 'News'},...</td>\n",
       "      <td>[{'name': '$DOGE'}, {'name': 'AAPL'}, {'name':...</td>\n",
       "      <td>[{'name': 'App Store'}, {'name': 'Apple App St...</td>\n",
       "    </tr>\n",
       "  </tbody>\n",
       "</table>\n",
       "</div>"
      ],
      "text/plain": [
       "                  date             author                          created  \\\n",
       "id                                                                           \n",
       "26001545.0  2022-03-04  Benzinga Newsdesk  Fri, 04 Mar 2022 16:51:01 -0400   \n",
       "25999924.0  2022-03-04        Chris Katje  Fri, 04 Mar 2022 17:22:37 -0400   \n",
       "26002401.0  2022-03-04    Henry Khederian  Fri, 04 Mar 2022 17:29:52 -0400   \n",
       "25994316.0  2022-03-04        Chris Katje  Fri, 04 Mar 2022 18:05:42 -0400   \n",
       "25984470.0  2022-03-04   Samyuktha Sriram  Fri, 04 Mar 2022 09:35:03 -0400   \n",
       "\n",
       "                                    updated  \\\n",
       "id                                            \n",
       "26001545.0  Fri, 04 Mar 2022 16:51:02 -0400   \n",
       "25999924.0  Fri, 04 Mar 2022 17:22:37 -0400   \n",
       "26002401.0  Fri, 04 Mar 2022 17:29:52 -0400   \n",
       "25994316.0  Fri, 04 Mar 2022 18:05:43 -0400   \n",
       "25984470.0  Sat, 05 Mar 2022 10:37:38 -0400   \n",
       "\n",
       "                                                        title  \\\n",
       "id                                                              \n",
       "26001545.0  NY Pension Chief Sends Letter To McDonald's, P...   \n",
       "25999924.0  The Next Jeopardy Or Wordle? Netflix Launching...   \n",
       "26002401.0  Markets Close Lower As Russia-Ukraine War Esca...   \n",
       "25994316.0  Here's How Much $100 In Dogecoin Could Be Wort...   \n",
       "25984470.0  Dogecoin Wallet Released For iOS, DOGE Co-Crea...   \n",
       "\n",
       "                                                       teaser  \\\n",
       "id                                                              \n",
       "26001545.0                                           -Reuters   \n",
       "25999924.0  Fans of Wordle or those who miss the daily liv...   \n",
       "26002401.0  U.S. indices traded lower after Russian forces...   \n",
       "25994316.0  One of the most popular cryptocurrencies took ...   \n",
       "25984470.0  A self-custodian Dogecoin (CRYPTO: DOGE) walle...   \n",
       "\n",
       "                                                         body  \\\n",
       "id                                                              \n",
       "26001545.0                                    <p>-Reuters</p>   \n",
       "25999924.0  <p>Fans of <strong>Wordle</strong> or those wh...   \n",
       "26002401.0  <p>U.S. indices traded lower after Russian for...   \n",
       "25994316.0  <p>One of the most popular cryptocurrencies to...   \n",
       "25984470.0  <p>A self-custodian <strong>Dogecoin </strong>...   \n",
       "\n",
       "                                                          url  \\\n",
       "id                                                              \n",
       "26001545.0  https://www.benzinga.com/news/22/03/26001545/n...   \n",
       "25999924.0  https://www.benzinga.com/general/entertainment...   \n",
       "26002401.0  https://www.benzinga.com/markets/cryptocurrenc...   \n",
       "25994316.0  https://www.benzinga.com/markets/cryptocurrenc...   \n",
       "25984470.0  https://www.benzinga.com/markets/cryptocurrenc...   \n",
       "\n",
       "                                                        image  \\\n",
       "id                                                              \n",
       "26001545.0                                                 []   \n",
       "25999924.0  [{'size': 'thumb', 'url': 'https://cdn.benzing...   \n",
       "26002401.0  [{'size': 'thumb', 'url': 'https://cdn.benzing...   \n",
       "25994316.0  [{'size': 'thumb', 'url': 'https://cdn.benzing...   \n",
       "25984470.0  [{'size': 'thumb', 'url': 'https://cdn.benzing...   \n",
       "\n",
       "                                                     channels  \\\n",
       "id                                                              \n",
       "26001545.0             [{'name': 'News'}, {'name': 'Rumors'}]   \n",
       "25999924.0  [{'name': 'Entertainment'}, {'name': 'News'}, ...   \n",
       "26002401.0  [{'name': 'News'}, {'name': 'After-Hours Cente...   \n",
       "25994316.0  [{'name': 'Cryptocurrency'}, {'name': 'Markets...   \n",
       "25984470.0  [{'name': 'Cryptocurrency'}, {'name': 'News'},...   \n",
       "\n",
       "                                                       stocks  \\\n",
       "id                                                              \n",
       "26001545.0  [{'name': 'EL'}, {'name': 'MCD'}, {'name': 'PE...   \n",
       "25999924.0                [{'name': 'NFLX'}, {'name': 'NYT'}]   \n",
       "26002401.0  [{'name': 'APTV'}, {'name': 'COST'}, {'name': ...   \n",
       "25994316.0  [{'name': '$DOGE'}, {'name': 'CMCSA'}, {'name'...   \n",
       "25984470.0  [{'name': '$DOGE'}, {'name': 'AAPL'}, {'name':...   \n",
       "\n",
       "                                                         tags  \n",
       "id                                                             \n",
       "26001545.0                                                 []  \n",
       "25999924.0  [{'name': 'HQ Trivia'}, {'name': 'Mobile Games...  \n",
       "26002401.0                                                 []  \n",
       "25994316.0  [{'name': 'Doge'}, {'name': 'dogecoin'}, {'nam...  \n",
       "25984470.0  [{'name': 'App Store'}, {'name': 'Apple App St...  "
      ]
     },
     "execution_count": 34,
     "metadata": {},
     "output_type": "execute_result"
    }
   ],
   "source": [
    "df.tail()"
   ]
  }
 ],
 "metadata": {
  "interpreter": {
   "hash": "06613e16dc1aebd810c16422b73f886b4ff4ce8e102b88d0006f6672eb35e8f7"
  },
  "kernelspec": {
   "display_name": "Python 3",
   "language": "python",
   "name": "python3"
  },
  "language_info": {
   "codemirror_mode": {
    "name": "ipython",
    "version": 3
   },
   "file_extension": ".py",
   "mimetype": "text/x-python",
   "name": "python",
   "nbconvert_exporter": "python",
   "pygments_lexer": "ipython3",
   "version": "3.8.10"
  },
  "orig_nbformat": 4
 },
 "nbformat": 4,
 "nbformat_minor": 2
}
