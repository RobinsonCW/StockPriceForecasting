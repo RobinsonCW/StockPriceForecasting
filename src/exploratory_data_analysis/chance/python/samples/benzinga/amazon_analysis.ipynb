{
 "cells": [
  {
   "cell_type": "code",
   "execution_count": 1,
   "metadata": {},
   "outputs": [
    {
     "name": "stderr",
     "output_type": "stream",
     "text": [
      "/usr/lib/python3/dist-packages/requests/__init__.py:89: RequestsDependencyWarning: urllib3 (1.26.9) or chardet (3.0.4) doesn't match a supported version!\n",
      "  warnings.warn(\"urllib3 ({}) or chardet ({}) doesn't match a supported \"\n"
     ]
    }
   ],
   "source": [
    "%matplotlib inline\n",
    "\n",
    "import os\n",
    "import datetime\n",
    "\n",
    "import IPython\n",
    "import IPython.display\n",
    "import matplotlib as mpl\n",
    "import matplotlib.pyplot as plt\n",
    "import numpy as np\n",
    "import pandas as pd\n",
    "import seaborn as sns\n",
    "import tensorflow as tf\n",
    "\n",
    "import re\n",
    "from html.parser import HTMLParser\n",
    "from bs4 import BeautifulSoup\n",
    "\n",
    "\n",
    "mpl.rcParams['figure.figsize'] = (8, 6)\n",
    "mpl.rcParams['axes.grid'] = False"
   ]
  },
  {
   "cell_type": "code",
   "execution_count": 2,
   "metadata": {},
   "outputs": [],
   "source": [
    "pd. set_option('display.max_columns', 500)\n",
    "pd.set_option('display.max_colwidth', 0)"
   ]
  },
  {
   "cell_type": "code",
   "execution_count": 3,
   "metadata": {},
   "outputs": [],
   "source": [
    "alphavantage_csv_path = \"/app/StockPricePredictions/data/alphavantage/time_series_daily_adjusted/AMZN.csv\""
   ]
  },
  {
   "cell_type": "code",
   "execution_count": 4,
   "metadata": {},
   "outputs": [],
   "source": [
    "df = pd.read_csv(alphavantage_csv_path, low_memory=False)\n",
    "df.sort_values(by=[\"date\"], ascending=True, inplace=True)\n",
    "\n",
    "df = df[df[\"date\"]>='2010-01-01']\n",
    "\n",
    "df[\"date\"] = pd.to_datetime(df['date'])\n",
    "\n",
    "df.set_index(\"date\", inplace=True)"
   ]
  },
  {
   "cell_type": "code",
   "execution_count": 5,
   "metadata": {},
   "outputs": [
    {
     "data": {
      "text/plain": [
       "3064"
      ]
     },
     "execution_count": 5,
     "metadata": {},
     "output_type": "execute_result"
    }
   ],
   "source": [
    "df.shape[0]"
   ]
  },
  {
   "cell_type": "code",
   "execution_count": 6,
   "metadata": {},
   "outputs": [
    {
     "name": "stdout",
     "output_type": "stream",
     "text": [
      "<class 'pandas.core.frame.DataFrame'>\n",
      "DatetimeIndex: 3064 entries, 2010-01-04 to 2022-03-04\n",
      "Data columns (total 8 columns):\n",
      " #   Column                Non-Null Count  Dtype  \n",
      "---  ------                --------------  -----  \n",
      " 0   1. open               3064 non-null   float64\n",
      " 1   2. high               3064 non-null   float64\n",
      " 2   3. low                3064 non-null   float64\n",
      " 3   4. close              3064 non-null   float64\n",
      " 4   5. adjusted close     3064 non-null   float64\n",
      " 5   6. volume             3064 non-null   float64\n",
      " 6   7. dividend amount    3064 non-null   float64\n",
      " 7   8. split coefficient  3064 non-null   float64\n",
      "dtypes: float64(8)\n",
      "memory usage: 215.4 KB\n"
     ]
    }
   ],
   "source": [
    "df.info()"
   ]
  },
  {
   "cell_type": "code",
   "execution_count": 7,
   "metadata": {},
   "outputs": [
    {
     "data": {
      "text/html": [
       "<div>\n",
       "<style scoped>\n",
       "    .dataframe tbody tr th:only-of-type {\n",
       "        vertical-align: middle;\n",
       "    }\n",
       "\n",
       "    .dataframe tbody tr th {\n",
       "        vertical-align: top;\n",
       "    }\n",
       "\n",
       "    .dataframe thead th {\n",
       "        text-align: right;\n",
       "    }\n",
       "</style>\n",
       "<table border=\"1\" class=\"dataframe\">\n",
       "  <thead>\n",
       "    <tr style=\"text-align: right;\">\n",
       "      <th></th>\n",
       "      <th>1. open</th>\n",
       "      <th>2. high</th>\n",
       "      <th>3. low</th>\n",
       "      <th>4. close</th>\n",
       "      <th>5. adjusted close</th>\n",
       "      <th>6. volume</th>\n",
       "      <th>7. dividend amount</th>\n",
       "      <th>8. split coefficient</th>\n",
       "    </tr>\n",
       "    <tr>\n",
       "      <th>date</th>\n",
       "      <th></th>\n",
       "      <th></th>\n",
       "      <th></th>\n",
       "      <th></th>\n",
       "      <th></th>\n",
       "      <th></th>\n",
       "      <th></th>\n",
       "      <th></th>\n",
       "    </tr>\n",
       "  </thead>\n",
       "  <tbody>\n",
       "    <tr>\n",
       "      <th>2010-01-04</th>\n",
       "      <td>136.25</td>\n",
       "      <td>136.61</td>\n",
       "      <td>133.14</td>\n",
       "      <td>133.9</td>\n",
       "      <td>133.9</td>\n",
       "      <td>7599900.0</td>\n",
       "      <td>0.0</td>\n",
       "      <td>1.0</td>\n",
       "    </tr>\n",
       "  </tbody>\n",
       "</table>\n",
       "</div>"
      ],
      "text/plain": [
       "            1. open  2. high  3. low  4. close  5. adjusted close  6. volume  \\\n",
       "date                                                                           \n",
       "2010-01-04  136.25   136.61   133.14  133.9     133.9              7599900.0   \n",
       "\n",
       "            7. dividend amount  8. split coefficient  \n",
       "date                                                  \n",
       "2010-01-04  0.0                 1.0                   "
      ]
     },
     "execution_count": 7,
     "metadata": {},
     "output_type": "execute_result"
    }
   ],
   "source": [
    "df.head(1)"
   ]
  },
  {
   "cell_type": "code",
   "execution_count": 8,
   "metadata": {},
   "outputs": [],
   "source": [
    "benzinga_csv_path = \"/app/StockPricePredictions/data/benzinga/amzn_non_dupes.csv\""
   ]
  },
  {
   "cell_type": "code",
   "execution_count": 9,
   "metadata": {},
   "outputs": [],
   "source": [
    "df_benzinga = pd.read_csv(benzinga_csv_path, low_memory=False)"
   ]
  },
  {
   "cell_type": "code",
   "execution_count": 10,
   "metadata": {},
   "outputs": [
    {
     "name": "stdout",
     "output_type": "stream",
     "text": [
      "<class 'pandas.core.frame.DataFrame'>\n",
      "RangeIndex: 12394 entries, 0 to 12393\n",
      "Data columns (total 19 columns):\n",
      " #   Column    Non-Null Count  Dtype \n",
      "---  ------    --------------  ----- \n",
      " 0   date      12394 non-null  object\n",
      " 1   author    12394 non-null  object\n",
      " 2   created   12394 non-null  object\n",
      " 3   updated   12394 non-null  object\n",
      " 4   title     12394 non-null  object\n",
      " 5   teaser    3464 non-null   object\n",
      " 6   body      10367 non-null  object\n",
      " 7   url       12394 non-null  object\n",
      " 8   image     12394 non-null  object\n",
      " 9   channels  12394 non-null  object\n",
      " 10  stocks    12394 non-null  object\n",
      " 11  tags      12394 non-null  object\n",
      " 12  AAPL      12394 non-null  bool  \n",
      " 13  MSFT      12394 non-null  bool  \n",
      " 14  AMZN      12394 non-null  bool  \n",
      " 15  FB        12394 non-null  bool  \n",
      " 16  NVDA      12394 non-null  bool  \n",
      " 17  INTC      12394 non-null  bool  \n",
      " 18  NFLX      12394 non-null  bool  \n",
      "dtypes: bool(7), object(12)\n",
      "memory usage: 1.2+ MB\n"
     ]
    }
   ],
   "source": [
    "df_benzinga.info()"
   ]
  },
  {
   "cell_type": "code",
   "execution_count": 11,
   "metadata": {},
   "outputs": [
    {
     "data": {
      "text/html": [
       "<div>\n",
       "<style scoped>\n",
       "    .dataframe tbody tr th:only-of-type {\n",
       "        vertical-align: middle;\n",
       "    }\n",
       "\n",
       "    .dataframe tbody tr th {\n",
       "        vertical-align: top;\n",
       "    }\n",
       "\n",
       "    .dataframe thead th {\n",
       "        text-align: right;\n",
       "    }\n",
       "</style>\n",
       "<table border=\"1\" class=\"dataframe\">\n",
       "  <thead>\n",
       "    <tr style=\"text-align: right;\">\n",
       "      <th></th>\n",
       "      <th>date</th>\n",
       "      <th>author</th>\n",
       "      <th>created</th>\n",
       "      <th>updated</th>\n",
       "      <th>title</th>\n",
       "      <th>teaser</th>\n",
       "      <th>body</th>\n",
       "      <th>url</th>\n",
       "      <th>image</th>\n",
       "      <th>channels</th>\n",
       "      <th>stocks</th>\n",
       "      <th>tags</th>\n",
       "      <th>AAPL</th>\n",
       "      <th>MSFT</th>\n",
       "      <th>AMZN</th>\n",
       "      <th>FB</th>\n",
       "      <th>NVDA</th>\n",
       "      <th>INTC</th>\n",
       "      <th>NFLX</th>\n",
       "    </tr>\n",
       "  </thead>\n",
       "  <tbody>\n",
       "    <tr>\n",
       "      <th>0</th>\n",
       "      <td>2010-01-28</td>\n",
       "      <td>Benzinga</td>\n",
       "      <td>Thu, 28 Jan 2010 15:29:57 -0400</td>\n",
       "      <td>Thu, 28 Jan 2010 15:29:57 -0400</td>\n",
       "      <td>Benzinga’s Volume Movers (FFBC, NFLX, GNTX, ALGN, UTHR)</td>\n",
       "      <td>NaN</td>\n",
       "      <td>First Financial Bancorp (NASDAQ: &lt;a class=\"ticker\" href=\"/stock/ffbc#NASDAQ\"&gt;FFBC&lt;/a&gt;) shares gained 6.94% to $16.19. The volume of FFBC shares traded was 1311% higher than normal. FFBC has entered into an underwriting agreement for the sale of about 85 million common shares.\\r\\n\\r\\nNetflix Inc (NASDAQ: &lt;a class=\"ticker\" href=\"/stock/nflx#NASDAQ\"&gt;NFLX&lt;/a&gt;) shares jumped 22.48% to $62.43. The volume of NFLX shares traded was 804% higher than normal. NFLX has hinted at expanding its operations to overseas markets.\\r\\n\\r\\nGentex Corporation (NASDAQ: &lt;a class=\"ticker\" href=\"/stock/gntx#NASDAQ\"&gt;GNTX&lt;/a&gt;) shares climbed 8.02% to $18.85. The volume of GNTX shares traded was 372% higher than normal. Robert W Baird has upgraded GNTX from “neutral” to “outperform.”\\r\\n\\r\\nAlign Technology Inc (NASDAQ: &lt;a class=\"ticker\" href=\"/stock/algn#NASDAQ\"&gt;ALGN&lt;/a&gt;) shares rose 11.44% to $18.60. The volume of ALGN shares traded was 355% higher than normal. GNTX has posted a 45% increase in its net sales for Q4.\\r\\n\\r\\nUnited Therapeutics Corporation (NASDAQ: &lt;a class=\"ticker\" href=\"/stock/uthr#NASDAQ\"&gt;UTHR&lt;/a&gt;) shares moved up 2.90% to $59.23. The volume of UTHR shares traded was 350% higher than normal. UTHR’s shares have surpassed their ten-day moving average of $58.23.\\r\\n\\r\\nRead more &lt;a href=\"http://www.benzinga.com/markets\"&gt;from Benzinga's Markets.&lt;/a&gt;</td>\n",
       "      <td>https://www.benzinga.com/node/103495</td>\n",
       "      <td>[]</td>\n",
       "      <td>[{'name': 'Long Ideas'}, {'name': 'News'}, {'name': 'Intraday Update'}, {'name': 'Markets'}, {'name': 'Movers'}, {'name': 'Trading Ideas'}]</td>\n",
       "      <td>[{'name': 'ALGN'}, {'name': 'FFBC'}, {'name': 'GNTX'}, {'name': 'NFLX'}, {'name': 'UTHR'}]</td>\n",
       "      <td>[{'name': 'Auto Parts &amp; Equipment'}, {'name': 'Biotechnology'}, {'name': 'Consumer Discretionary'}, {'name': 'Financials'}, {'name': 'Health Care'}, {'name': 'Health Care Supplies'}, {'name': 'Internet Retail'}, {'name': 'Regional Banks'}, {'name': 'volume movers'}]</td>\n",
       "      <td>False</td>\n",
       "      <td>False</td>\n",
       "      <td>False</td>\n",
       "      <td>True</td>\n",
       "      <td>False</td>\n",
       "      <td>False</td>\n",
       "      <td>True</td>\n",
       "    </tr>\n",
       "    <tr>\n",
       "      <th>1</th>\n",
       "      <td>2010-03-10</td>\n",
       "      <td>Benzinga</td>\n",
       "      <td>Wed, 10 Mar 2010 15:03:42 -0400</td>\n",
       "      <td>Wed, 10 Mar 2010 15:24:17 -0400</td>\n",
       "      <td>Benzinga's Top ETF Gainers (FBT, FAS, USD, KBE)</td>\n",
       "      <td>NaN</td>\n",
       "      <td>Biotech stocks are having a good trading session today. InterMune, Inc. (NASDAQ: &lt;a class=\"ticker\" href=\"/stock/itmn#NASDAQ\"&gt;ITMN&lt;/a&gt;) spiked 63% after the company won approval of an advisory panel to launch a new drug. InterMune (&lt;a class=\"ticker\" href=\"/stock/itmn#\"&gt;ITMN&lt;/a&gt;) is one of the holdings of First Trust NYSE Arca Biotechnology(&lt;a class=\"ticker\" href=\"/stock/etf#\"&gt;ETF&lt;/a&gt;) (NYSE: &lt;a class=\"ticker\" href=\"/stock/fbt#NYSE\"&gt;FBT&lt;/a&gt;). FBT is trading 3.31% up, and its last transaction was made at $37.16.\\r\\n\\r\\nDirexion Daily Financial Bull 3X Shares(&lt;a class=\"ticker\" href=\"/stock/etf#\"&gt;ETF&lt;/a&gt;) (NYSE: &lt;a class=\"ticker\" href=\"/stock/fas#NYSE\"&gt;FAS&lt;/a&gt;) is also trading in the positive territory. FAS is 3% up, along with Bank of America Corporation (NYSE: &lt;a class=\"ticker\" href=\"/stock/bac#NYSE\"&gt;BAC&lt;/a&gt;) and Wells Fargo &amp; Company (NYSE: &lt;a class=\"ticker\" href=\"/stock/wfc#NYSE\"&gt;WFC&lt;/a&gt;). Bank of america (&lt;a class=\"ticker\" href=\"/stock/bac#\"&gt;BAC&lt;/a&gt;) trades with a gain of 2.32%  and Wells Fargo (&lt;a class=\"ticker\" href=\"/stock/wfc#\"&gt;WFC&lt;/a&gt;) added 2.17% on the upside.\\r\\n\\r\\nIntel Corporation (NASDAQ: &lt;a class=\"ticker\" href=\"/stock/intc#NASDAQ\"&gt;INTC&lt;/a&gt;) and Texas Instruments Incorporated (NYSE: &lt;a class=\"ticker\" href=\"/stock/txn#NYSE\"&gt;TXN&lt;/a&gt;) are trading in the positive territory, just as ProShares Ultra Semiconductors (&lt;a class=\"ticker\" href=\"/stock/etf#\"&gt;ETF&lt;/a&gt;) (NYSE: &lt;a class=\"ticker\" href=\"/stock/usd#NYSE\"&gt;USD&lt;/a&gt;). USD added 2.87% so far, while Intel (&lt;a class=\"ticker\" href=\"/stock/intc#\"&gt;INTC&lt;/a&gt;) and Texas Instruments (&lt;a class=\"ticker\" href=\"/stock/txn#\"&gt;TXN&lt;/a&gt;) gained 0.96% and 1.49% respectively.\\r\\n\\r\\nSPDR KBW Bank (&lt;a class=\"ticker\" href=\"/stock/etf#\"&gt;ETF&lt;/a&gt;) (NYSE: &lt;a class=\"ticker\" href=\"/stock/kbe#NYSE\"&gt;KBE&lt;/a&gt;) is another financial ETF that is trading on the upside today. Citigroup Inc. (NYSE: &lt;a class=\"ticker\" href=\"/stock/c#NYSE\"&gt;C&lt;/a&gt;) is one of its holdings and it gained 3.4% so far.      \\r\\n\\r\\n      \\r\\n</td>\n",
       "      <td>https://www.benzinga.com/node/167290</td>\n",
       "      <td>[]</td>\n",
       "      <td>[{'name': 'Sector ETFs'}, {'name': 'ETFs'}]</td>\n",
       "      <td>[{'name': 'BAC'}, {'name': 'C'}, {'name': 'ETF'}, {'name': 'FAS'}, {'name': 'FBT'}, {'name': 'INTC'}, {'name': 'ITMN'}, {'name': 'KBE'}, {'name': 'TXN'}, {'name': 'USD'}, {'name': 'WFC'}]</td>\n",
       "      <td>[]</td>\n",
       "      <td>False</td>\n",
       "      <td>False</td>\n",
       "      <td>False</td>\n",
       "      <td>True</td>\n",
       "      <td>False</td>\n",
       "      <td>True</td>\n",
       "      <td>False</td>\n",
       "    </tr>\n",
       "  </tbody>\n",
       "</table>\n",
       "</div>"
      ],
      "text/plain": [
       "         date    author                          created  \\\n",
       "0  2010-01-28  Benzinga  Thu, 28 Jan 2010 15:29:57 -0400   \n",
       "1  2010-03-10  Benzinga  Wed, 10 Mar 2010 15:03:42 -0400   \n",
       "\n",
       "                           updated  \\\n",
       "0  Thu, 28 Jan 2010 15:29:57 -0400   \n",
       "1  Wed, 10 Mar 2010 15:24:17 -0400   \n",
       "\n",
       "                                                     title teaser  \\\n",
       "0  Benzinga’s Volume Movers (FFBC, NFLX, GNTX, ALGN, UTHR)  NaN     \n",
       "1  Benzinga's Top ETF Gainers (FBT, FAS, USD, KBE)          NaN     \n",
       "\n",
       "                                                                                                                                                                                                                                                                                                                                                                                                                                                                                                                                                                                                                                                                                                                                                                                                                                                                                                                                                                                                                                                                                                                                                                                                                                                                                                                                                                                                                                                                                                                                                                                                                                                                                                                                                                                                                                                                                                                                                                                                                                             body  \\\n",
       "0  First Financial Bancorp (NASDAQ: <a class=\"ticker\" href=\"/stock/ffbc#NASDAQ\">FFBC</a>) shares gained 6.94% to $16.19. The volume of FFBC shares traded was 1311% higher than normal. FFBC has entered into an underwriting agreement for the sale of about 85 million common shares.\\r\\n\\r\\nNetflix Inc (NASDAQ: <a class=\"ticker\" href=\"/stock/nflx#NASDAQ\">NFLX</a>) shares jumped 22.48% to $62.43. The volume of NFLX shares traded was 804% higher than normal. NFLX has hinted at expanding its operations to overseas markets.\\r\\n\\r\\nGentex Corporation (NASDAQ: <a class=\"ticker\" href=\"/stock/gntx#NASDAQ\">GNTX</a>) shares climbed 8.02% to $18.85. The volume of GNTX shares traded was 372% higher than normal. Robert W Baird has upgraded GNTX from “neutral” to “outperform.”\\r\\n\\r\\nAlign Technology Inc (NASDAQ: <a class=\"ticker\" href=\"/stock/algn#NASDAQ\">ALGN</a>) shares rose 11.44% to $18.60. The volume of ALGN shares traded was 355% higher than normal. GNTX has posted a 45% increase in its net sales for Q4.\\r\\n\\r\\nUnited Therapeutics Corporation (NASDAQ: <a class=\"ticker\" href=\"/stock/uthr#NASDAQ\">UTHR</a>) shares moved up 2.90% to $59.23. The volume of UTHR shares traded was 350% higher than normal. UTHR’s shares have surpassed their ten-day moving average of $58.23.\\r\\n\\r\\nRead more <a href=\"http://www.benzinga.com/markets\">from Benzinga's Markets.</a>                                                                                                                                                                                                                                                                                                                                                                                                                                                                                                                                                                                                                                   \n",
       "1  Biotech stocks are having a good trading session today. InterMune, Inc. (NASDAQ: <a class=\"ticker\" href=\"/stock/itmn#NASDAQ\">ITMN</a>) spiked 63% after the company won approval of an advisory panel to launch a new drug. InterMune (<a class=\"ticker\" href=\"/stock/itmn#\">ITMN</a>) is one of the holdings of First Trust NYSE Arca Biotechnology(<a class=\"ticker\" href=\"/stock/etf#\">ETF</a>) (NYSE: <a class=\"ticker\" href=\"/stock/fbt#NYSE\">FBT</a>). FBT is trading 3.31% up, and its last transaction was made at $37.16.\\r\\n\\r\\nDirexion Daily Financial Bull 3X Shares(<a class=\"ticker\" href=\"/stock/etf#\">ETF</a>) (NYSE: <a class=\"ticker\" href=\"/stock/fas#NYSE\">FAS</a>) is also trading in the positive territory. FAS is 3% up, along with Bank of America Corporation (NYSE: <a class=\"ticker\" href=\"/stock/bac#NYSE\">BAC</a>) and Wells Fargo & Company (NYSE: <a class=\"ticker\" href=\"/stock/wfc#NYSE\">WFC</a>). Bank of america (<a class=\"ticker\" href=\"/stock/bac#\">BAC</a>) trades with a gain of 2.32%  and Wells Fargo (<a class=\"ticker\" href=\"/stock/wfc#\">WFC</a>) added 2.17% on the upside.\\r\\n\\r\\nIntel Corporation (NASDAQ: <a class=\"ticker\" href=\"/stock/intc#NASDAQ\">INTC</a>) and Texas Instruments Incorporated (NYSE: <a class=\"ticker\" href=\"/stock/txn#NYSE\">TXN</a>) are trading in the positive territory, just as ProShares Ultra Semiconductors (<a class=\"ticker\" href=\"/stock/etf#\">ETF</a>) (NYSE: <a class=\"ticker\" href=\"/stock/usd#NYSE\">USD</a>). USD added 2.87% so far, while Intel (<a class=\"ticker\" href=\"/stock/intc#\">INTC</a>) and Texas Instruments (<a class=\"ticker\" href=\"/stock/txn#\">TXN</a>) gained 0.96% and 1.49% respectively.\\r\\n\\r\\nSPDR KBW Bank (<a class=\"ticker\" href=\"/stock/etf#\">ETF</a>) (NYSE: <a class=\"ticker\" href=\"/stock/kbe#NYSE\">KBE</a>) is another financial ETF that is trading on the upside today. Citigroup Inc. (NYSE: <a class=\"ticker\" href=\"/stock/c#NYSE\">C</a>) is one of its holdings and it gained 3.4% so far.      \\r\\n\\r\\n      \\r\\n   \n",
       "\n",
       "                                    url image  \\\n",
       "0  https://www.benzinga.com/node/103495  []     \n",
       "1  https://www.benzinga.com/node/167290  []     \n",
       "\n",
       "                                                                                                                                      channels  \\\n",
       "0  [{'name': 'Long Ideas'}, {'name': 'News'}, {'name': 'Intraday Update'}, {'name': 'Markets'}, {'name': 'Movers'}, {'name': 'Trading Ideas'}]   \n",
       "1  [{'name': 'Sector ETFs'}, {'name': 'ETFs'}]                                                                                                   \n",
       "\n",
       "                                                                                                                                                                                        stocks  \\\n",
       "0  [{'name': 'ALGN'}, {'name': 'FFBC'}, {'name': 'GNTX'}, {'name': 'NFLX'}, {'name': 'UTHR'}]                                                                                                    \n",
       "1  [{'name': 'BAC'}, {'name': 'C'}, {'name': 'ETF'}, {'name': 'FAS'}, {'name': 'FBT'}, {'name': 'INTC'}, {'name': 'ITMN'}, {'name': 'KBE'}, {'name': 'TXN'}, {'name': 'USD'}, {'name': 'WFC'}]   \n",
       "\n",
       "                                                                                                                                                                                                                                                                         tags  \\\n",
       "0  [{'name': 'Auto Parts & Equipment'}, {'name': 'Biotechnology'}, {'name': 'Consumer Discretionary'}, {'name': 'Financials'}, {'name': 'Health Care'}, {'name': 'Health Care Supplies'}, {'name': 'Internet Retail'}, {'name': 'Regional Banks'}, {'name': 'volume movers'}]   \n",
       "1  []                                                                                                                                                                                                                                                                           \n",
       "\n",
       "    AAPL   MSFT   AMZN    FB   NVDA   INTC   NFLX  \n",
       "0  False  False  False  True  False  False  True   \n",
       "1  False  False  False  True  False  True   False  "
      ]
     },
     "execution_count": 11,
     "metadata": {},
     "output_type": "execute_result"
    }
   ],
   "source": [
    "df_benzinga.head(2)"
   ]
  },
  {
   "cell_type": "code",
   "execution_count": 12,
   "metadata": {},
   "outputs": [],
   "source": [
    "df_benzinga[\"body\"] = df_benzinga[\"body\"].replace(np.nan, \"\")"
   ]
  },
  {
   "cell_type": "code",
   "execution_count": 13,
   "metadata": {},
   "outputs": [],
   "source": [
    "def clean_text(text):\n",
    "    soup = BeautifulSoup(text)\n",
    "\n",
    "    # remove HTML tables\n",
    "    for table in soup.find_all(\"table\"):\n",
    "        table.extract()\n",
    "\n",
    "    text_without_tables = soup.text\n",
    "\n",
    "    pattern1 = re.compile(r\"\\s\")\n",
    "\n",
    "    clean_text1 = re.sub(pattern1, \" \", text_without_tables)\n",
    "\n",
    "    pattern2 = re.compile(r\"\\\\r|\\\\+n\")\n",
    "\n",
    "    clean_text2 = re.sub(pattern1, \" \", clean_text1)\n",
    "\n",
    "    clean_text3 = re.sub(r'^https?:\\/\\/.*[\\r\\n]*', '', clean_text2, flags=re.MULTILINE)\n",
    "\n",
    "    return clean_text3\n",
    "\n",
    "    \n",
    "    "
   ]
  },
  {
   "cell_type": "code",
   "execution_count": 14,
   "metadata": {},
   "outputs": [
    {
     "name": "stderr",
     "output_type": "stream",
     "text": [
      "/root/.local/lib/python3.8/site-packages/bs4/__init__.py:431: MarkupResemblesLocatorWarning: \"http://www.ifixit.com/Teardown/Oculus+Rift+Teardown/13682\" looks like a URL. Beautiful Soup is not an HTTP client. You should probably use an HTTP client like requests to get the document behind the URL, and feed that document to Beautiful Soup.\n",
      "  warnings.warn(\n",
      "/root/.local/lib/python3.8/site-packages/bs4/__init__.py:431: MarkupResemblesLocatorWarning: \"http://www.ftc.gov/news-events/press-releases/2014/04/ftc-notifies-facebook-whatsapp-privacy-obligations-light-proposed\" looks like a URL. Beautiful Soup is not an HTTP client. You should probably use an HTTP client like requests to get the document behind the URL, and feed that document to Beautiful Soup.\n",
      "  warnings.warn(\n",
      "/root/.local/lib/python3.8/site-packages/bs4/__init__.py:431: MarkupResemblesLocatorWarning: \"https://www.moves-app.com/press\" looks like a URL. Beautiful Soup is not an HTTP client. You should probably use an HTTP client like requests to get the document behind the URL, and feed that document to Beautiful Soup.\n",
      "  warnings.warn(\n",
      "/root/.local/lib/python3.8/site-packages/bs4/__init__.py:431: MarkupResemblesLocatorWarning: \"https://www.facebook.com/business/news/New-Ways-for-Marketers-to-Build-Their-Brands-on-Facebook\" looks like a URL. Beautiful Soup is not an HTTP client. You should probably use an HTTP client like requests to get the document behind the URL, and feed that document to Beautiful Soup.\n",
      "  warnings.warn(\n",
      "/root/.local/lib/python3.8/site-packages/bs4/__init__.py:431: MarkupResemblesLocatorWarning: \"http://www.oculusvr.com/blog/\" looks like a URL. Beautiful Soup is not an HTTP client. You should probably use an HTTP client like requests to get the document behind the URL, and feed that document to Beautiful Soup.\n",
      "  warnings.warn(\n",
      "/root/.local/lib/python3.8/site-packages/bs4/__init__.py:431: MarkupResemblesLocatorWarning: \"https://www.theinformation.com/Facebook-Assault-on-Google-s-DoubleClick-Coming-This-Fall\" looks like a URL. Beautiful Soup is not an HTTP client. You should probably use an HTTP client like requests to get the document behind the URL, and feed that document to Beautiful Soup.\n",
      "  warnings.warn(\n",
      "/root/.local/lib/python3.8/site-packages/bs4/__init__.py:431: MarkupResemblesLocatorWarning: \"http://www.wantchinatimes.com/news-subclass-cnt.aspx?id=20141105000089&cid=1101\" looks like a URL. Beautiful Soup is not an HTTP client. You should probably use an HTTP client like requests to get the document behind the URL, and feed that document to Beautiful Soup.\n",
      "  warnings.warn(\n",
      "/root/.local/lib/python3.8/site-packages/bs4/__init__.py:431: MarkupResemblesLocatorWarning: \"http://newsroom.fb.com/news/2014/11/messenger-reaches-500-million-2/\" looks like a URL. Beautiful Soup is not an HTTP client. You should probably use an HTTP client like requests to get the document behind the URL, and feed that document to Beautiful Soup.\n",
      "  warnings.warn(\n",
      "/root/.local/lib/python3.8/site-packages/bs4/__init__.py:431: MarkupResemblesLocatorWarning: \"http://newsroom.fb.com/news/2014/11/news-feed-fyi-reducing-overly-promotional-page-posts-in-news-feed/\" looks like a URL. Beautiful Soup is not an HTTP client. You should probably use an HTTP client like requests to get the document behind the URL, and feed that document to Beautiful Soup.\n",
      "  warnings.warn(\n",
      "/root/.local/lib/python3.8/site-packages/bs4/__init__.py:431: MarkupResemblesLocatorWarning: \"http://www.cnbc.com/id/102189101#.\" looks like a URL. Beautiful Soup is not an HTTP client. You should probably use an HTTP client like requests to get the document behind the URL, and feed that document to Beautiful Soup.\n",
      "  warnings.warn(\n",
      "/root/.local/lib/python3.8/site-packages/bs4/__init__.py:431: MarkupResemblesLocatorWarning: \"http://recode.net/2014/11/20/facebooks-building-out-its-drone-team/\" looks like a URL. Beautiful Soup is not an HTTP client. You should probably use an HTTP client like requests to get the document behind the URL, and feed that document to Beautiful Soup.\n",
      "  warnings.warn(\n",
      "/root/.local/lib/python3.8/site-packages/bs4/__init__.py:431: MarkupResemblesLocatorWarning: \"https://www.facebook.com/business/news/mobile-app-install-updates\" looks like a URL. Beautiful Soup is not an HTTP client. You should probably use an HTTP client like requests to get the document behind the URL, and feed that document to Beautiful Soup.\n",
      "  warnings.warn(\n",
      "/root/.local/lib/python3.8/site-packages/bs4/__init__.py:431: MarkupResemblesLocatorWarning: \"http://newsroom.fb.com/news/2014/12/updates-to-trending/\" looks like a URL. Beautiful Soup is not an HTTP client. You should probably use an HTTP client like requests to get the document behind the URL, and feed that document to Beautiful Soup.\n",
      "  warnings.warn(\n",
      "/root/.local/lib/python3.8/site-packages/bs4/__init__.py:431: MarkupResemblesLocatorWarning: \"https://twitter.com/CNBC\" looks like a URL. Beautiful Soup is not an HTTP client. You should probably use an HTTP client like requests to get the document behind the URL, and feed that document to Beautiful Soup.\n",
      "  warnings.warn(\n",
      "/root/.local/lib/python3.8/site-packages/bs4/__init__.py:431: MarkupResemblesLocatorWarning: \"https://www.theinformation.com/Facebook-s-Path-to-China\" looks like a URL. Beautiful Soup is not an HTTP client. You should probably use an HTTP client like requests to get the document behind the URL, and feed that document to Beautiful Soup.\n",
      "  warnings.warn(\n",
      "/root/.local/lib/python3.8/site-packages/bs4/__init__.py:431: MarkupResemblesLocatorWarning: \"https://wit.ai/blog\" looks like a URL. Beautiful Soup is not an HTTP client. You should probably use an HTTP client like requests to get the document behind the URL, and feed that document to Beautiful Soup.\n",
      "  warnings.warn(\n",
      "/root/.local/lib/python3.8/site-packages/bs4/__init__.py:431: MarkupResemblesLocatorWarning: \"http://recode.net/2015/01/07/facebook-reminds-video-makers-that-facebook-video-is-really-big/\" looks like a URL. Beautiful Soup is not an HTTP client. You should probably use an HTTP client like requests to get the document behind the URL, and feed that document to Beautiful Soup.\n",
      "  warnings.warn(\n",
      "/root/.local/lib/python3.8/site-packages/bs4/__init__.py:431: MarkupResemblesLocatorWarning: \"http://newsroom.fb.com/news/2015/01/introducing-amber-alerts-on-facebook/\" looks like a URL. Beautiful Soup is not an HTTP client. You should probably use an HTTP client like requests to get the document behind the URL, and feed that document to Beautiful Soup.\n",
      "  warnings.warn(\n",
      "/root/.local/lib/python3.8/site-packages/bs4/__init__.py:431: MarkupResemblesLocatorWarning: \"https://www.facebook.com/photo.php?fbid=10155150801660195&set=p.10155150801660195&type=1&theater\" looks like a URL. Beautiful Soup is not an HTTP client. You should probably use an HTTP client like requests to get the document behind the URL, and feed that document to Beautiful Soup.\n",
      "  warnings.warn(\n",
      "/root/.local/lib/python3.8/site-packages/bs4/__init__.py:431: MarkupResemblesLocatorWarning: \"http://newsroom.fb.com/news/2015/01/news-feed-fyi-showing-fewer-hoaxes/\" looks like a URL. Beautiful Soup is not an HTTP client. You should probably use an HTTP client like requests to get the document behind the URL, and feed that document to Beautiful Soup.\n",
      "  warnings.warn(\n",
      "/root/.local/lib/python3.8/site-packages/bs4/__init__.py:431: MarkupResemblesLocatorWarning: \"http://www.digitimes.com/news/a20150202PD205.html\" looks like a URL. Beautiful Soup is not an HTTP client. You should probably use an HTTP client like requests to get the document behind the URL, and feed that document to Beautiful Soup.\n",
      "  warnings.warn(\n",
      "/root/.local/lib/python3.8/site-packages/bs4/__init__.py:431: MarkupResemblesLocatorWarning: \"http://news.delta.com/index.php?s=20295&item=124722\" looks like a URL. Beautiful Soup is not an HTTP client. You should probably use an HTTP client like requests to get the document behind the URL, and feed that document to Beautiful Soup.\n",
      "  warnings.warn(\n",
      "/root/.local/lib/python3.8/site-packages/bs4/__init__.py:431: MarkupResemblesLocatorWarning: \"https://www.facebook.com/business/news/product-ads\" looks like a URL. Beautiful Soup is not an HTTP client. You should probably use an HTTP client like requests to get the document behind the URL, and feed that document to Beautiful Soup.\n",
      "  warnings.warn(\n",
      "/root/.local/lib/python3.8/site-packages/bs4/__init__.py:431: MarkupResemblesLocatorWarning: \"https://www.facebook.com/business/news\" looks like a URL. Beautiful Soup is not an HTTP client. You should probably use an HTTP client like requests to get the document behind the URL, and feed that document to Beautiful Soup.\n",
      "  warnings.warn(\n",
      "/root/.local/lib/python3.8/site-packages/bs4/__init__.py:431: MarkupResemblesLocatorWarning: \"http://www.bloomberg.com/news/articles/2015-03-06/apple-s-secret-lab-lets-facebook-fine-tune-apps-before-the-watch-s-debut\" looks like a URL. Beautiful Soup is not an HTTP client. You should probably use an HTTP client like requests to get the document behind the URL, and feed that document to Beautiful Soup.\n",
      "  warnings.warn(\n",
      "/root/.local/lib/python3.8/site-packages/bs4/__init__.py:431: MarkupResemblesLocatorWarning: \"http://newsroom.fb.com/news/2015/04/riff-make-videos-with-friends/\" looks like a URL. Beautiful Soup is not an HTTP client. You should probably use an HTTP client like requests to get the document behind the URL, and feed that document to Beautiful Soup.\n",
      "  warnings.warn(\n",
      "/root/.local/lib/python3.8/site-packages/bs4/__init__.py:431: MarkupResemblesLocatorWarning: \"http://www.wpp.com/wpp/press/2015/apr/07/data-alliance-facebook-alliance/\" looks like a URL. Beautiful Soup is not an HTTP client. You should probably use an HTTP client like requests to get the document behind the URL, and feed that document to Beautiful Soup.\n",
      "  warnings.warn(\n",
      "/root/.local/lib/python3.8/site-packages/bs4/__init__.py:431: MarkupResemblesLocatorWarning: \"http://www.reuters.com/article/2015/04/22/british-land-facebook-idUSFWN0XI06T20150422\" looks like a URL. Beautiful Soup is not an HTTP client. You should probably use an HTTP client like requests to get the document behind the URL, and feed that document to Beautiful Soup.\n",
      "  warnings.warn(\n",
      "/root/.local/lib/python3.8/site-packages/bs4/__init__.py:431: MarkupResemblesLocatorWarning: \"http://tech.firstpost.com/news-analysis/viber-users-surpass-40-million-users-here-making-india-its-biggest-market-264538.html\" looks like a URL. Beautiful Soup is not an HTTP client. You should probably use an HTTP client like requests to get the document behind the URL, and feed that document to Beautiful Soup.\n",
      "  warnings.warn(\n",
      "/root/.local/lib/python3.8/site-packages/bs4/__init__.py:431: MarkupResemblesLocatorWarning: \"http://www.polygon.com/2015/5/6/8557893/retail-oculus-rift-coming-in-first-quarter-of-2016\" looks like a URL. Beautiful Soup is not an HTTP client. You should probably use an HTTP client like requests to get the document behind the URL, and feed that document to Beautiful Soup.\n",
      "  warnings.warn(\n",
      "/root/.local/lib/python3.8/site-packages/bs4/__init__.py:431: MarkupResemblesLocatorWarning: \"http://recode.net/2015/05/08/twitter-communications-director-departs-for-facebook/\" looks like a URL. Beautiful Soup is not an HTTP client. You should probably use an HTTP client like requests to get the document behind the URL, and feed that document to Beautiful Soup.\n",
      "  warnings.warn(\n",
      "/root/.local/lib/python3.8/site-packages/bs4/__init__.py:431: MarkupResemblesLocatorWarning: \"http://mashable.com/2015/05/18/facebook-events-upcoming-features/\" looks like a URL. Beautiful Soup is not an HTTP client. You should probably use an HTTP client like requests to get the document behind the URL, and feed that document to Beautiful Soup.\n",
      "  warnings.warn(\n",
      "/root/.local/lib/python3.8/site-packages/bs4/__init__.py:431: MarkupResemblesLocatorWarning: \"http://www.theguardian.com/world/2015/may/22/russia-will-block-google-twitter-and-facebook-if-they-withhold-blogger-data\" looks like a URL. Beautiful Soup is not an HTTP client. You should probably use an HTTP client like requests to get the document behind the URL, and feed that document to Beautiful Soup.\n",
      "  warnings.warn(\n",
      "/root/.local/lib/python3.8/site-packages/bs4/__init__.py:431: MarkupResemblesLocatorWarning: \"http://www.saic.gov.cn/ywdt/gsyw/zyxwbysj/201504/t20150402_154795.html\" looks like a URL. Beautiful Soup is not an HTTP client. You should probably use an HTTP client like requests to get the document behind the URL, and feed that document to Beautiful Soup.\n",
      "  warnings.warn(\n",
      "/root/.local/lib/python3.8/site-packages/bs4/__init__.py:431: MarkupResemblesLocatorWarning: \"https://www.facebook.com/security\" looks like a URL. Beautiful Soup is not an HTTP client. You should probably use an HTTP client like requests to get the document behind the URL, and feed that document to Beautiful Soup.\n",
      "  warnings.warn(\n",
      "/root/.local/lib/python3.8/site-packages/bs4/__init__.py:431: MarkupResemblesLocatorWarning: \"https://www.facebook.com/alex.stamos/timeline/story?ut=32&wstart=-2051193600&wend=2147483647&hash=10153403673942929&pagefilter=3&ustart=1&pnref=story\" looks like a URL. Beautiful Soup is not an HTTP client. You should probably use an HTTP client like requests to get the document behind the URL, and feed that document to Beautiful Soup.\n",
      "  warnings.warn(\n",
      "/root/.local/lib/python3.8/site-packages/bs4/__init__.py:431: MarkupResemblesLocatorWarning: \"http://newsroom.fb.com/news/2015/07/updated-controls-for-news-feed/\" looks like a URL. Beautiful Soup is not an HTTP client. You should probably use an HTTP client like requests to get the document behind the URL, and feed that document to Beautiful Soup.\n",
      "  warnings.warn(\n",
      "/root/.local/lib/python3.8/site-packages/bs4/__init__.py:431: MarkupResemblesLocatorWarning: \"http://www.theverge.com/2015/7/9/8922415/facebook-music-streaming-nope\" looks like a URL. Beautiful Soup is not an HTTP client. You should probably use an HTTP client like requests to get the document behind the URL, and feed that document to Beautiful Soup.\n",
      "  warnings.warn(\n",
      "/root/.local/lib/python3.8/site-packages/bs4/__init__.py:431: MarkupResemblesLocatorWarning: \"http://www.nytimes.com/2015/07/10/business/media/facebook-said-to-seek-music-video-licensing-deals.html?_r=0\" looks like a URL. Beautiful Soup is not an HTTP client. You should probably use an HTTP client like requests to get the document behind the URL, and feed that document to Beautiful Soup.\n",
      "  warnings.warn(\n",
      "/root/.local/lib/python3.8/site-packages/bs4/__init__.py:431: MarkupResemblesLocatorWarning: \"http://www.digitimes.com/news/a20150731PR201.html\" looks like a URL. Beautiful Soup is not an HTTP client. You should probably use an HTTP client like requests to get the document behind the URL, and feed that document to Beautiful Soup.\n",
      "  warnings.warn(\n",
      "/root/.local/lib/python3.8/site-packages/bs4/__init__.py:431: MarkupResemblesLocatorWarning: \"http://newsroom.fb.com/news/2015/08/connect-with-public-figures-through-live/\" looks like a URL. Beautiful Soup is not an HTTP client. You should probably use an HTTP client like requests to get the document behind the URL, and feed that document to Beautiful Soup.\n",
      "  warnings.warn(\n",
      "/root/.local/lib/python3.8/site-packages/bs4/__init__.py:431: MarkupResemblesLocatorWarning: \"https://www.techinasia.com/flipkart-launches-ping/\" looks like a URL. Beautiful Soup is not an HTTP client. You should probably use an HTTP client like requests to get the document behind the URL, and feed that document to Beautiful Soup.\n",
      "  warnings.warn(\n",
      "/root/.local/lib/python3.8/site-packages/bs4/__init__.py:431: MarkupResemblesLocatorWarning: \"https://www.facebook.com/business/news/100-in-view-impressions-and-moat-partnership\" looks like a URL. Beautiful Soup is not an HTTP client. You should probably use an HTTP client like requests to get the document behind the URL, and feed that document to Beautiful Soup.\n",
      "  warnings.warn(\n",
      "/root/.local/lib/python3.8/site-packages/bs4/__init__.py:431: MarkupResemblesLocatorWarning: \"https://twitter.com/KurtWagner8\" looks like a URL. Beautiful Soup is not an HTTP client. You should probably use an HTTP client like requests to get the document behind the URL, and feed that document to Beautiful Soup.\n",
      "  warnings.warn(\n",
      "/root/.local/lib/python3.8/site-packages/bs4/__init__.py:431: MarkupResemblesLocatorWarning: \"http://www.wantchinatimes.com/news/content?id=20150930000113&cid=1101\" looks like a URL. Beautiful Soup is not an HTTP client. You should probably use an HTTP client like requests to get the document behind the URL, and feed that document to Beautiful Soup.\n",
      "  warnings.warn(\n",
      "/root/.local/lib/python3.8/site-packages/bs4/__init__.py:431: MarkupResemblesLocatorWarning: \"https://twitter.com/CNBCnow\" looks like a URL. Beautiful Soup is not an HTTP client. You should probably use an HTTP client like requests to get the document behind the URL, and feed that document to Beautiful Soup.\n",
      "  warnings.warn(\n",
      "/root/.local/lib/python3.8/site-packages/bs4/__init__.py:431: MarkupResemblesLocatorWarning: \"http://newsroom.fb.com/news/2015/10/news-feed-fyi-building-for-all-connectivity/\" looks like a URL. Beautiful Soup is not an HTTP client. You should probably use an HTTP client like requests to get the document behind the URL, and feed that document to Beautiful Soup.\n",
      "  warnings.warn(\n",
      "/root/.local/lib/python3.8/site-packages/bs4/__init__.py:431: MarkupResemblesLocatorWarning: \"http://newsroom.fb.com/news/2015/10/testing-new-video-experiences/\" looks like a URL. Beautiful Soup is not an HTTP client. You should probably use an HTTP client like requests to get the document behind the URL, and feed that document to Beautiful Soup.\n",
      "  warnings.warn(\n",
      "/root/.local/lib/python3.8/site-packages/bs4/__init__.py:431: MarkupResemblesLocatorWarning: \"http://www.ft.com/cms/s/0/f9c268cc-79a3-11e5-a95a-27d368e1ddf7.html?ftcamp=traffic/partner/feed_headline/us_yahoo/auddev#axzz3pf1LEQWA\" looks like a URL. Beautiful Soup is not an HTTP client. You should probably use an HTTP client like requests to get the document behind the URL, and feed that document to Beautiful Soup.\n",
      "  warnings.warn(\n",
      "/root/.local/lib/python3.8/site-packages/bs4/__init__.py:431: MarkupResemblesLocatorWarning: \"http://jnfeconsulting.com/\" looks like a URL. Beautiful Soup is not an HTTP client. You should probably use an HTTP client like requests to get the document behind the URL, and feed that document to Beautiful Soup.\n",
      "  warnings.warn(\n",
      "/root/.local/lib/python3.8/site-packages/bs4/__init__.py:431: MarkupResemblesLocatorWarning: \"http://venturebeat.com/2015/10/28/facebook-sick-of-all-those-candy-crush-invites-we-got-you-covered/\" looks like a URL. Beautiful Soup is not an HTTP client. You should probably use an HTTP client like requests to get the document behind the URL, and feed that document to Beautiful Soup.\n",
      "  warnings.warn(\n",
      "/root/.local/lib/python3.8/site-packages/bs4/__init__.py:431: MarkupResemblesLocatorWarning: \"http://newsroom.fb.com/news/2015/11/introducing-notify-a-notifications-app-from-facebook/\" looks like a URL. Beautiful Soup is not an HTTP client. You should probably use an HTTP client like requests to get the document behind the URL, and feed that document to Beautiful Soup.\n",
      "  warnings.warn(\n",
      "/root/.local/lib/python3.8/site-packages/bs4/__init__.py:431: MarkupResemblesLocatorWarning: \"http://www.youngchinabiz.com/en/internet-facebook-eyeing-china-from-taiwan/#more-24765\" looks like a URL. Beautiful Soup is not an HTTP client. You should probably use an HTTP client like requests to get the document behind the URL, and feed that document to Beautiful Soup.\n",
      "  warnings.warn(\n",
      "/root/.local/lib/python3.8/site-packages/bs4/__init__.py:431: MarkupResemblesLocatorWarning: \"http://www.ft.com/fastft/2015/12/14/under-16s-face-social-media-restriction-under-eu-rules/\" looks like a URL. Beautiful Soup is not an HTTP client. You should probably use an HTTP client like requests to get the document behind the URL, and feed that document to Beautiful Soup.\n",
      "  warnings.warn(\n",
      "/root/.local/lib/python3.8/site-packages/bs4/__init__.py:431: MarkupResemblesLocatorWarning: \"http://newsroom.fb.com/news/2015/12/community-support-fyi-improving-the-names-process-on-facebook/\" looks like a URL. Beautiful Soup is not an HTTP client. You should probably use an HTTP client like requests to get the document behind the URL, and feed that document to Beautiful Soup.\n",
      "  warnings.warn(\n",
      "/root/.local/lib/python3.8/site-packages/bs4/__init__.py:431: MarkupResemblesLocatorWarning: \"http://newsroom.fb.com/news/2015/12/introducing-transportation-on-messenger/\" looks like a URL. Beautiful Soup is not an HTTP client. You should probably use an HTTP client like requests to get the document behind the URL, and feed that document to Beautiful Soup.\n",
      "  warnings.warn(\n",
      "/root/.local/lib/python3.8/site-packages/bs4/__init__.py:431: MarkupResemblesLocatorWarning: \"https://media.fb.com/2015/12/17/live-for-verified-pages/\" looks like a URL. Beautiful Soup is not an HTTP client. You should probably use an HTTP client like requests to get the document behind the URL, and feed that document to Beautiful Soup.\n",
      "  warnings.warn(\n",
      "/root/.local/lib/python3.8/site-packages/bs4/__init__.py:431: MarkupResemblesLocatorWarning: \"http://blogs.timesofindia.indiatimes.com/toi-edit-page/free-basics-protects-net-neutrality/\" looks like a URL. Beautiful Soup is not an HTTP client. You should probably use an HTTP client like requests to get the document behind the URL, and feed that document to Beautiful Soup.\n",
      "  warnings.warn(\n",
      "/root/.local/lib/python3.8/site-packages/bs4/__init__.py:431: MarkupResemblesLocatorWarning: \"https://www.oculus.com/en-us/blog/update-on-oculus-touch-ship-date/\" looks like a URL. Beautiful Soup is not an HTTP client. You should probably use an HTTP client like requests to get the document behind the URL, and feed that document to Beautiful Soup.\n",
      "  warnings.warn(\n",
      "/root/.local/lib/python3.8/site-packages/bs4/__init__.py:431: MarkupResemblesLocatorWarning: \"http://venturebeat.com/2016/01/18/whatsapp-is-ditching-its-annual-dollar-subscription-fee/\" looks like a URL. Beautiful Soup is not an HTTP client. You should probably use an HTTP client like requests to get the document behind the URL, and feed that document to Beautiful Soup.\n",
      "  warnings.warn(\n",
      "/root/.local/lib/python3.8/site-packages/bs4/__init__.py:431: MarkupResemblesLocatorWarning: \"http://newsroom.fb.com/news/2016/02/reactions-now-available-globally/\" looks like a URL. Beautiful Soup is not an HTTP client. You should probably use an HTTP client like requests to get the document behind the URL, and feed that document to Beautiful Soup.\n",
      "  warnings.warn(\n",
      "/root/.local/lib/python3.8/site-packages/bs4/__init__.py:431: MarkupResemblesLocatorWarning: \"http://newsroom.fb.com/news/\" looks like a URL. Beautiful Soup is not an HTTP client. You should probably use an HTTP client like requests to get the document behind the URL, and feed that document to Beautiful Soup.\n",
      "  warnings.warn(\n",
      "/root/.local/lib/python3.8/site-packages/bs4/__init__.py:431: MarkupResemblesLocatorWarning: \"https://www.theinformation.com/facebook-to-ramp-up-commerce-on-messenger\" looks like a URL. Beautiful Soup is not an HTTP client. You should probably use an HTTP client like requests to get the document behind the URL, and feed that document to Beautiful Soup.\n",
      "  warnings.warn(\n",
      "/root/.local/lib/python3.8/site-packages/bs4/__init__.py:431: MarkupResemblesLocatorWarning: \"https://www.facebook.com/zuck/videos/10102695812287361/\" looks like a URL. Beautiful Soup is not an HTTP client. You should probably use an HTTP client like requests to get the document behind the URL, and feed that document to Beautiful Soup.\n",
      "  warnings.warn(\n",
      "/root/.local/lib/python3.8/site-packages/bs4/__init__.py:431: MarkupResemblesLocatorWarning: \"http://nypost.com/2016/03/08/zuckerberg-plans-to-deliver-internet-to-the-third-world-by-using-drones/\" looks like a URL. Beautiful Soup is not an HTTP client. You should probably use an HTTP client like requests to get the document behind the URL, and feed that document to Beautiful Soup.\n",
      "  warnings.warn(\n",
      "/root/.local/lib/python3.8/site-packages/bs4/__init__.py:431: MarkupResemblesLocatorWarning: \"http://www.nytimes.com/2016/03/13/us/politics/whatsapp-encryption-said-to-stymie-wiretap-order.html?smid=tw-nytimes&smtyp=cur&_r=0\" looks like a URL. Beautiful Soup is not an HTTP client. You should probably use an HTTP client like requests to get the document behind the URL, and feed that document to Beautiful Soup.\n",
      "  warnings.warn(\n",
      "/root/.local/lib/python3.8/site-packages/bs4/__init__.py:431: MarkupResemblesLocatorWarning: \"http://nypost.com/2016/03/17/facebook-and-twitter-in-race-to-acquire-rights-to-stream-live-tv/\" looks like a URL. Beautiful Soup is not an HTTP client. You should probably use an HTTP client like requests to get the document behind the URL, and feed that document to Beautiful Soup.\n",
      "  warnings.warn(\n",
      "/root/.local/lib/python3.8/site-packages/bs4/__init__.py:431: MarkupResemblesLocatorWarning: \"http://www.nytimes.com/2016/03/24/technology/square-teams-up-with-facebook-to-offer-ads-that-can-be-gauged.html?_r=3\" looks like a URL. Beautiful Soup is not an HTTP client. You should probably use an HTTP client like requests to get the document behind the URL, and feed that document to Beautiful Soup.\n",
      "  warnings.warn(\n",
      "/root/.local/lib/python3.8/site-packages/bs4/__init__.py:431: MarkupResemblesLocatorWarning: \"https://www.theinformation.com/facebook-messenger-prepares-in-store-purchase-service\" looks like a URL. Beautiful Soup is not an HTTP client. You should probably use an HTTP client like requests to get the document behind the URL, and feed that document to Beautiful Soup.\n",
      "  warnings.warn(\n",
      "/root/.local/lib/python3.8/site-packages/bs4/__init__.py:431: MarkupResemblesLocatorWarning: \"https://twitter.com/kevinweil\" looks like a URL. Beautiful Soup is not an HTTP client. You should probably use an HTTP client like requests to get the document behind the URL, and feed that document to Beautiful Soup.\n",
      "  warnings.warn(\n",
      "/root/.local/lib/python3.8/site-packages/bs4/__init__.py:431: MarkupResemblesLocatorWarning: \"http://blog.instagram.com/\" looks like a URL. Beautiful Soup is not an HTTP client. You should probably use an HTTP client like requests to get the document behind the URL, and feed that document to Beautiful Soup.\n",
      "  warnings.warn(\n",
      "/root/.local/lib/python3.8/site-packages/bs4/__init__.py:431: MarkupResemblesLocatorWarning: \"http://www.reuters.com/article/us-facebook-egypt-idUSKCN0WY3JZ\" looks like a URL. Beautiful Soup is not an HTTP client. You should probably use an HTTP client like requests to get the document behind the URL, and feed that document to Beautiful Soup.\n",
      "  warnings.warn(\n",
      "/root/.local/lib/python3.8/site-packages/bs4/__init__.py:431: MarkupResemblesLocatorWarning: \"http://adage.com/article/digital/facebook-adds-video-tab-feature-live-video/303428/\" looks like a URL. Beautiful Soup is not an HTTP client. You should probably use an HTTP client like requests to get the document behind the URL, and feed that document to Beautiful Soup.\n",
      "  warnings.warn(\n",
      "/root/.local/lib/python3.8/site-packages/bs4/__init__.py:431: MarkupResemblesLocatorWarning: \"http://www.digitimes.com/news/a20160420PD207.html\" looks like a URL. Beautiful Soup is not an HTTP client. You should probably use an HTTP client like requests to get the document behind the URL, and feed that document to Beautiful Soup.\n",
      "  warnings.warn(\n",
      "/root/.local/lib/python3.8/site-packages/bs4/__init__.py:431: MarkupResemblesLocatorWarning: \"http://www1.folha.uol.com.br/mercado/2016/05/1766869-justica-determina-bloqueio-do-whatsapp-em-todo-o-brasil-por-72-horas.shtml?cmpid=twfolha\" looks like a URL. Beautiful Soup is not an HTTP client. You should probably use an HTTP client like requests to get the document behind the URL, and feed that document to Beautiful Soup.\n",
      "  warnings.warn(\n",
      "/root/.local/lib/python3.8/site-packages/bs4/__init__.py:431: MarkupResemblesLocatorWarning: \"https://www.oculus.com/en-us/blog/oculus-rift-retail-experience-kicks-off-at-best-buy-locations-may-7/\" looks like a URL. Beautiful Soup is not an HTTP client. You should probably use an HTTP client like requests to get the document behind the URL, and feed that document to Beautiful Soup.\n",
      "  warnings.warn(\n",
      "/root/.local/lib/python3.8/site-packages/bs4/__init__.py:431: MarkupResemblesLocatorWarning: \"http://nypost.com/2016/05/15/facebook-looks-at-youtube-for-new-music-ideas/\" looks like a URL. Beautiful Soup is not an HTTP client. You should probably use an HTTP client like requests to get the document behind the URL, and feed that document to Beautiful Soup.\n",
      "  warnings.warn(\n",
      "/root/.local/lib/python3.8/site-packages/bs4/__init__.py:431: MarkupResemblesLocatorWarning: \"http://www.bloomberg.com/news/articles/2016-07-06/facebook-hires-tesla-s-rich-heley-for-building-8-innovation-lab\" looks like a URL. Beautiful Soup is not an HTTP client. You should probably use an HTTP client like requests to get the document behind the URL, and feed that document to Beautiful Soup.\n",
      "  warnings.warn(\n",
      "/root/.local/lib/python3.8/site-packages/bs4/__init__.py:431: MarkupResemblesLocatorWarning: \"http://www.digitimes.com/news/a20160722PB200.html\" looks like a URL. Beautiful Soup is not an HTTP client. You should probably use an HTTP client like requests to get the document behind the URL, and feed that document to Beautiful Soup.\n",
      "  warnings.warn(\n",
      "/root/.local/lib/python3.8/site-packages/bs4/__init__.py:431: MarkupResemblesLocatorWarning: \"http://newsroom.fb.com/news/2016/08/a-new-way-to-control-the-ads-you-see-on-facebook-and-an-update-on-ad-blocking/\" looks like a URL. Beautiful Soup is not an HTTP client. You should probably use an HTTP client like requests to get the document behind the URL, and feed that document to Beautiful Soup.\n",
      "  warnings.warn(\n",
      "/root/.local/lib/python3.8/site-packages/bs4/__init__.py:431: MarkupResemblesLocatorWarning: \"https://new.theinformation.com/facebooks-rival-to-slack-yammer-coming-next-month\" looks like a URL. Beautiful Soup is not an HTTP client. You should probably use an HTTP client like requests to get the document behind the URL, and feed that document to Beautiful Soup.\n",
      "  warnings.warn(\n",
      "/root/.local/lib/python3.8/site-packages/bs4/__init__.py:431: MarkupResemblesLocatorWarning: \"https://www.reuters.com/article/instant-article/idUSL1N2LE0UP#:~:text=SINGAPORE%2FBEIJING%20(Reuters)%20%2D,media%20rivals%20such%20as%20Facebook.\" looks like a URL. Beautiful Soup is not an HTTP client. You should probably use an HTTP client like requests to get the document behind the URL, and feed that document to Beautiful Soup.\n",
      "  warnings.warn(\n"
     ]
    }
   ],
   "source": [
    "df_benzinga[\"body\"] = df_benzinga[\"body\"].apply(clean_text)"
   ]
  },
  {
   "cell_type": "code",
   "execution_count": 15,
   "metadata": {},
   "outputs": [],
   "source": [
    "df_benzinga[\"body\"] = df_benzinga[\"body\"].replace(np.nan, \"\")"
   ]
  },
  {
   "cell_type": "code",
   "execution_count": 16,
   "metadata": {},
   "outputs": [],
   "source": [
    "df_benzinga[\"text\"] = df_benzinga[\"title\"] + \" \" + df_benzinga[\"body\"]"
   ]
  },
  {
   "cell_type": "code",
   "execution_count": 17,
   "metadata": {},
   "outputs": [],
   "source": [
    "df_benzinga['date'] = pd.to_datetime(df_benzinga['date'])"
   ]
  },
  {
   "cell_type": "code",
   "execution_count": 18,
   "metadata": {},
   "outputs": [],
   "source": [
    "df_benzinga.set_index(\"date\", inplace=True)"
   ]
  },
  {
   "cell_type": "code",
   "execution_count": 19,
   "metadata": {},
   "outputs": [],
   "source": [
    "df_benzinga = df_benzinga[[\"text\"]]"
   ]
  },
  {
   "cell_type": "code",
   "execution_count": 20,
   "metadata": {},
   "outputs": [],
   "source": [
    "def remove_ticker(text):\n",
    "\n",
    "    clean_text1 = re.sub(r'\\(NASDAQ\\s?:\\s?\\w+\\)', '', text, flags=re.MULTILINE)\n",
    "\n",
    "    clean_text2 = re.sub(r'\\(NYSE\\s?:\\s?\\w+\\)', '', clean_text1, flags=re.MULTILINE)\n",
    "\n",
    "    return clean_text2\n"
   ]
  },
  {
   "cell_type": "code",
   "execution_count": 21,
   "metadata": {},
   "outputs": [],
   "source": [
    "df_benzinga[\"text\"] = df_benzinga[\"text\"].apply(remove_ticker)"
   ]
  },
  {
   "cell_type": "code",
   "execution_count": 22,
   "metadata": {},
   "outputs": [],
   "source": [
    "benzinga_csv_out_path = \"/app/StockPricePredictions/data/benzinga/amzn_non_dupes_text_only.csv\""
   ]
  },
  {
   "cell_type": "code",
   "execution_count": 24,
   "metadata": {},
   "outputs": [],
   "source": [
    "# df_benzinga.to_csv(benzinga_csv_out_path)\n",
    "df_benzinga2 = pd.read_csv(benzinga_csv_out_path)\n"
   ]
  },
  {
   "cell_type": "code",
   "execution_count": 25,
   "metadata": {},
   "outputs": [
    {
     "data": {
      "text/html": [
       "<div>\n",
       "<style scoped>\n",
       "    .dataframe tbody tr th:only-of-type {\n",
       "        vertical-align: middle;\n",
       "    }\n",
       "\n",
       "    .dataframe tbody tr th {\n",
       "        vertical-align: top;\n",
       "    }\n",
       "\n",
       "    .dataframe thead th {\n",
       "        text-align: right;\n",
       "    }\n",
       "</style>\n",
       "<table border=\"1\" class=\"dataframe\">\n",
       "  <thead>\n",
       "    <tr style=\"text-align: right;\">\n",
       "      <th></th>\n",
       "      <th>date</th>\n",
       "      <th>text</th>\n",
       "    </tr>\n",
       "  </thead>\n",
       "  <tbody>\n",
       "    <tr>\n",
       "      <th>0</th>\n",
       "      <td>2010-01-28</td>\n",
       "      <td>Benzinga’s Volume Movers (FFBC, NFLX, GNTX, ALGN, UTHR) First Financial Bancorp  shares gained 6.94% to $16.19. The volume of FFBC shares traded was 1311% higher than normal. FFBC has entered into an underwriting agreement for the sale of about 85 million common shares.    Netflix Inc  shares jumped 22.48% to $62.43. The volume of NFLX shares traded was 804% higher than normal. NFLX has hinted at expanding its operations to overseas markets.    Gentex Corporation  shares climbed 8.02% to $18.85. The volume of GNTX shares traded was 372% higher than normal. Robert W Baird has upgraded GNTX from “neutral” to “outperform.”    Align Technology Inc  shares rose 11.44% to $18.60. The volume of ALGN shares traded was 355% higher than normal. GNTX has posted a 45% increase in its net sales for Q4.    United Therapeutics Corporation  shares moved up 2.90% to $59.23. The volume of UTHR shares traded was 350% higher than normal. UTHR’s shares have surpassed their ten-day moving average of $58.23.    Read more from Benzinga's Markets.</td>\n",
       "    </tr>\n",
       "    <tr>\n",
       "      <th>1</th>\n",
       "      <td>2010-03-10</td>\n",
       "      <td>Benzinga's Top ETF Gainers (FBT, FAS, USD, KBE) Biotech stocks are having a good trading session today. InterMune, Inc.  spiked 63% after the company won approval of an advisory panel to launch a new drug. InterMune (ITMN) is one of the holdings of First Trust NYSE Arca Biotechnology(ETF) . FBT is trading 3.31% up, and its last transaction was made at $37.16.    Direxion Daily Financial Bull 3X Shares(ETF)  is also trading in the positive territory. FAS is 3% up, along with Bank of America Corporation  and Wells Fargo &amp; Company . Bank of america (BAC) trades with a gain of 2.32%  and Wells Fargo (WFC) added 2.17% on the upside.    Intel Corporation  and Texas Instruments Incorporated  are trading in the positive territory, just as ProShares Ultra Semiconductors (ETF) . USD added 2.87% so far, while Intel (INTC) and Texas Instruments (TXN) gained 0.96% and 1.49% respectively.    SPDR KBW Bank (ETF)  is another financial ETF that is trading on the upside today. Citigroup Inc.  is one of its holdings and it gained 3.4% so far.</td>\n",
       "    </tr>\n",
       "    <tr>\n",
       "      <th>2</th>\n",
       "      <td>2010-03-29</td>\n",
       "      <td>Bookkeeping: Weekly Changes to Fund Positions Year 3, Week 34 Year 3, Week 34 Major Position Changes  To see historic weekly fund changes click here OR the label at the bottom of this entry entitled 'fund positions'.  Cash: 76.0% (v 71.6% last week) 17 long bias: 17.8% (v 19.3% last week) 3 short bias: 6.3% (v 9.1% last week) [Includes 1 'long dollar' position]   20 positions (vs 23 last week)   Weekly thoughts  This is getting repetitious.  Last week the market went up.  We are overdue for a pullback of at least 1%.  Which has not happened in about 6 weeks.  It will happen someday.  Each of the past 3 weeks I predicted this will be the week. Each week I was (am) wrong.  Rinse.  Wash.  Repeat.  The monotonous, emotion less market continues ever upward.  Last Thursday there was an actual reversal but all it did was turn us from +1% to 0% for the day.  It simply has a feel of computers trading day in and day out, on light volume, happy to collect their rebates for creating liquidity.  Only when volume picks up (what I assume is when humans actually get involved in some manner) does the market have a chance to drop.  But volume only picks up for hours at a time.   We've been pointing to this Friday's job report the past few weeks as an event the market seems to be anticipating.  The thought here is a 300Kish type number of \"job gains\" .... sprinkle 100K+ census jobs, plus 75K+ \"weather related\" gains from February, plus our always reliable 100K jobs from the birth/death model ... which will be revised away next March - and presto magic, you have a jobs recovery.  This has all the smell of the \"housing recovery\" the bulls were frothing at the mouth to tell us about spring 2009.  You know the one - where people are amazed home sales in May are higher than February, and sales in June are higher than March.  Especially when bribed with $8000.  Now we will be amazed that a million plus census workers being hired causes job gains.   As long as we don't look under the surface, amazement is a very easy achievement, and it since market analysis is done in 10 seconds or less the jobs figure headline is all that matters.  The *only* wildcard is the data is going to be released Friday when the market is closed - allowing people to stand in awe of the figure for a full 3 days.  We shall rejoice. (and be surprised)  To the indexes - last week the S&amp;P 500 looked like this... we said the index was in a white noise area between 1150 and 1170.   After the healthcare bill passed the premarket futures were down sharply but a rampage of buying caused the market to surge, and almost the entire (white noise) range was hit Monday alone.  Then the break over 1170 happened in the last hours of Tuesday, at which point you could see the vertical move up as the computers took over.   The market sort of hung around Wednesday, made another surge up Thursday for no specific reason other than the market needs to go up, but a late day reversal (a rarity) caused the S&amp;P 500 to turn from +1% to 0%. (which nowadays is considered a negative day).  And Friday we just hung around.  So we are going nowhere fast in particular but betting against the market remains nearly impossible.  Now the chart looks like this and we remain between 1170 and 1150.   I remain reluctant to actively short the index for more than a few hours at a time, unless S&amp;P 500 level 1150 is broken as it's been a losing trade.  Eventually it will be a winner but we're all dead eventually.   Downside targets remains (a) 1124 and (b) 1078.  The latter is 3.6% downside and the latter 8%.  Since this move up has been unrelenting, yet glacial (most days +0.3%, 0.4%) with sideways moves consolidating each stair step up, the moving averages are coming along and the underlying index price is not moving too fast ahead of the moving averages.  Interesting.  The NASDAQ had a similar journey, although slightly stronger with its top end of the white noise being 2400.  The 3 sectors leading this chart: XLI (Industrials), XLY (Consumer Discretionary), XLF (Financials) continued to lead last week.  One area of weakness / under performance is XLE (Energy).....    The dollar broke out as bailout planet continued in Europe, and bonds acted a bit naughty late in the week but without any auctions this week that might be put on the back burner for now.    And that about summarizes the action - its slow, many days very boring, and except for mini bursts in premarket, the first 30 minutes of the day, or last 30 minutes, much of the day is sideways churning - certainly not much of a traders market the past month.  China remains range bound and listless, and many other emerging markets are blah.  ---------------------------------------------------   The economic data has not been squat the past few weeks, as all news is good news as long as Ben Bernanke promises us free money for an extended period of time.  Which he did yet again last week in Congressional testimony after the Fed meeting.  Which means (wink wink) we can push out any tightening another 6 weeks and the language at the next meeting will be identical to the one we just saw.  Even the flailing housing numbers have been completely ignored.  Just as we did a year ago, we'll clap like seals the next 4 months as housing figures improve (as they do every April - July), then I guess as we did last year ignore them when they falter the following 8 months.  This week:  Monday: Personal Outlays &amp; Income Tuesday: A consumer confidence report Wednesday: Chicago PMI, Factory Outlays Thursday: ISM Mfg, Construction Spending Friday (holiday): Employment  The only data point above that I could see derailing things is ISM Manufacturing, the data point is roughly at 56 consensus and the flood of global stimulus has pushed companies to rebuild inventories.  If the private sector does not take over from the government sector, at some point inventories will stack up and the nascent recovery ends.  But it's impossible to see what is going on under the surface with so much governmental money flooding in from every crevice.  The consensus for jobs is +200K with a range of 75K to 300K.  I don't know what world the guy at 75K is living on as the birth death model (where the US has been creating fictional small business jobs the entire recession) and census workers alone will get us way over that point.   There should be another 600-800K census jobs coming in the months to follow so until the market fully discounts this, good cheer shall continue.  Of course at some point the market must discount all these jobs extinguished in the fall as well.  So the only interesting data point is how traders square up their books knowing they won't have access to the casino within milliseconds of the monthly jobs report and must wait until Monday to be surprised by a better than expected react to the jobs data.   One other interesting thing is economists estimate the workweek to shoot up to 33.9 hours which would be the highest we've seen in a long while.  --------------------------------------------------------  For the portfolio cash went up because (a) I am having a hard time applying money to the 3 hot sectors, when so many of those stocks are up 50-70% in 6 weeks and (b) the market is taking away almost any and all short positions within days of when I put them on.   Frankly when I am looking *this* hard for individual long positions that has always marked a time the market pulled back at least modestly.  But I've been looking hard for 2 weeks, and the market does not go down - again, my historical experience means little with the way this market behaves.  Many people I've been reading for years on the intertubes have been expressing the same opinions for most of the past month.   On the long side I began a position in NetLogic Microsystems (NETL) simply due to error - the stock split 2:1 and the simulator I run my portfolio in did not compensate so my long standing limit buy order executed - it was a small order so no big deal.  Within 48 hours after splitting the company did an offering, at which point I bought more shares, to make the position a moderate size.   I started a position in Massey Energy (MEE) - within hours the company announced a stock offering (notice a theme?), which hurt the stock - but in the George Costanza market, stocks now rally when they company diluted shareholders.  I closed a large position in Google (GOOG) for a smallish loss as it broke support and continued to sell off on the same news from China....  which appears to have set the bottom in the stock.  Later in the week someone bought $530M worth of shares in one fell swoop - mind boggling.  Since I sold the stock jumped right back over support.    EnerNOC (ENOC) a position held since last fall was closed out, as it has been unable to move for many weeks on end.  On the short (i.e. loser!) side - I reshorted Athenahealth (ATHN) which has been good to us; we won again as I quickly covered for a 3% gain.  That might sound like peanuts but 3% down in this market is like 15% down in a normal market.   AsiaInfo Holdings (ASIA) was shorted as it broke support and eyed a large gap in its chart - still holding.  I covered a multi week short in True Religion (TRLG) for only a 1% loss and consider it a major victory as the stock went nowhere for 2-3 weeks as its sector was the hottest in the market.  The stock still has not broken to the upside but I became nervous once the S&amp;P 500 broke over 1170 and the unstoppable market seemed ready to take away my candy.   Exact same logic in Maidenform Brands (MFB) - the strength of the market simply hit my stop loss and I could not stay in.   I covered our modest allocation in iShares Barclays 20+ Year Bond (TLT) as bonds swooned mid week.  If something goes awry in the bond market we'll jump back in, but generally this is slow money and since this has been range bound for months on end, I would not expect a \"breakdown\". (yet)  We played some index positions this week but went nowhere with them as we were chasing our tail most of the time - unless a sustained move in 1 direction happens they don't generally give good results and we did not get that this week.   It's one of those weeks where the only person who got rich were the brokers.</td>\n",
       "    </tr>\n",
       "    <tr>\n",
       "      <th>3</th>\n",
       "      <td>2010-04-01</td>\n",
       "      <td>2010 Fund Performance Period 3 The mutual fund is now on schedule for a summer 2010 launch. If, after reading the blog content you might have an interest in participation, please consider reading why this blog exists.  [Jan 2008: Reader Pledges Toward Mutual Fund Launch] [May 2008: Frequently Asked Questions] Our story in Barron's [A New Kind of Fund Manager] [November 2009: General Updates, Questions]   Or if you are just here for daily market / economic commentary or stock trades to follow on your own, consider supporting the blog via donation (paypal buttons can be found on the upper right margin of the blog) ---------------------------------------------------------------------------   For those who read the content of the website via email or RSS reader, you can come to the website at any time and click on 'Performance/Portfolio' tab in the menu bar to get updated positions (weekly) and performance.  Total Portfolio Value, as maintained by 3rd party, can be checked here each day with 20 minute delay vs real time (starting value $1,000,000 or $10.00 NAV) I will post an update of performance versus Russell 1000 every 4 weeks; we moved to a new tracking system in 2009 (Investopedia.com) as the old system would not allow shorting of individual stocks, among other \"technical issues\" that often came up.  Hence while the website and portfolio began in August 2007, we \"began anew\" in terms of performance with portfolio \"B\" as of early 2009.  Detailed history on latter 2007 and 2008, as well as 2009, [Jan 7, 2010: 2009 Final Performance Metrics]  can be found on the above mentioned tab.  For 2010 our third 4 week period is now complete. (Data is through last Friday's closing prices)   (click to enlarge)     Period 3 was simple to describe - up or sideways.... but mostly up.  A remarkable period with no pullbacks of any sort; as the period ended the S&amp;P 500 had gone 7 weeks without a 1% correction.  The Russell 2000 at one point had been up 15 of 17 sessions, with shorter but similar streaks in NYSE and S&amp;P 500.  The \"negative\" days were almost all of the -0.2% variety.  All news was good news as Greece was finally backstopped by the EU/IMF and investors looked ahead to a census laden jobs report at the beginning of April.  Housing data was weak but ignored. Consumer discretionary, financials, and industrials dominated as did niche sectors like insurance, restaurants, airliner production, and autos. Major emerging markets did not do as well with China and Brazil in particular struggling.   I was unable to pull another +8.7% period which would of been nice, as I was trying to put together 13 in a row - Bernie style.    For the third \"four week\" period of 2010 the fund returned +8.3%, versus the market's +5.7%, so an outperformance of +2.6%.On a cumulative basis the return is +27.9%, versus the Russell 1000's+4.9%, so an outperformance of +23.0% for the year to date. (thus far 12 weeks)  Period 3 achieved both absolute performance (making money) and relative performance (outperforming the market).  The yearly goal of beating the index by 15% has been achieved.  ------------------------------------------------------------------------------------   *** Long/Short Fund Discussion below   Overview:  The chart for period 3 says it all - rally, followed by rally, followed by rally.  Much of it came (yet again) in premarket as many days were full of almost no movement between 10 AM and 3:30 PM as the computers churned the market.  It feels very emotionless and aside from a few breakouts in the indexes there were not many trading opportunities since so much of the movement came overnight. The only weakness of any sort came in the last week and even that was minor.  This is the hardest type of market to keep up with with our sort of strategy, versus the easiest for the typical mutual fund crowd.    Week 1: The market was just finishing 2 weeks of a bounce off the 200 day moving average and was running into \"resistance\" (a funny word in retrospect) around the 50 day on the S&amp;P 500 the previous week.  After breaking over that level this week, there was no turning back for the entire period.  Of course we did not know that in advance so we were heavily hedged at 12% long, 7% short, and the remainder in cash (much of the short was simply \"long US dollars\").   We sold the last of our month long (held) dollar calls early in the week for a sizeable gain which helped us keep pace with the frantic market.   I was looking for a stock that was near support but had not joined the party early in the week so I expanded our position in Rackspace Hosting (RAX)... unfortunately the stock did nothing all week despite a market going ballistic.    Assured Guaranty (AGO) was sold completely out as it was not participating in the rally; it also did nothing the rest of the week.    Added some Ultra Silver (AGQ) as the precious metals charts started to shape up... this one did \"pan out\" (would of been funnier if I had bought gold).   I cut back DragonWave (DRWI) mid week as the stock not only was a non participant in the festitivies but broke support; in retrospect that worked out in the near term.    F5 Networks (FFIV) has gone up 20% in a short amount of time, so I took 70% off the table.     Then I did the unthinkable - I shorted some stocks...  using Greenhill &amp; Co (GHL), American Superconductor (AMSC) and AthenaHealth (ATHN).     Week 2: With the market bouncing smartly off the 50 day moving average I went much more heavy to the long side - including some index positions.  Cash was drawn down to 66%, longs up to 22% and shorts up to 12%.  The largest positions  Profits were taken in Las Vegas Sands (LVS) both early in the week, and later as the stock shot up. (consumer discretionary)  This was the best stock of the period by a mile. I restarted positions in Google (GOOG), Braskem (BAK) &amp; Riverbed Technology (RVBD) DragonWave (DRWI) was also closed out, (but surely must be due for a dead cat bounce) and Seagate Technology (STX) after breaking support (50 day moving average), was cut back by 40%.  My largest short at the time Greenhill &amp; Co (GHL) was stopped out.   Week 3: At this point with yet another \"V\" shaped bounce, I began thinking the market was overdue for at least a moderate pullback (2%? 4%?)  Not so much.  I did not add to any shorts however as the strength of the market was too powerful - long exposure was 19%, short 8% (as always some of this being long US dollar), and cash 73%.  This was not much different from the previous week but I did a lot of adjusting to new names.  The largest % gain for the fund happened this week when we caught a 16 point S&amp;P move with SPY calls and levered index ETFs On the long side we had a trade in TQNT:  Early in the week a limit purchase order hit for TriQuint Semiconductor (TQNT) after it pulled back to the 50 day moving average; that position was sold right back out after a 8% gain within days as TQNT raised guidance.   The stock immediately fell after I sold, so I got the position back - this company gets no respect despite a steady stream of good news, so I have to trade it.    The big move of the week was an index play where after thinking I might get 16 points on the downside Monday (if S&amp;P 1140 was to break), instead I grabbed 16 points on the upside with a move from 1154 to 1170ish.  Half my index positions (SPY calls, and TNA ETF) were sold just under 1170, and another half sold once 1165 was broken.   Late in the week I restarted coal player Alpha Natural Resources (ANR) [sacrifice to the gods so that they would bring us a real selloff] with a 1% position, and healthcare e-records name Quality Systems (QSII) as a potential breakout candidate - which it was doing Friday, but the \"down\" market slowed it.   Friday, I closed lagging Seagate Technologies (STX).  On the short side:  I attempted to short True Religion (TRLG).   I had less than 24 hours in shorts of Vulcan Materials (VMC) and Cemex (CX) - they stopped out very quickly.   For the sport of it, I shorted the stock which went 1 full month without 1 down session - Maidenform Brands (MFB).   I thought a break of S&amp;P 1160 Friday would lead to more damage so attempted some downside index plays (SPY puts, short TNA) but only squeezed out a few measly points as the market smashed shorts who attempted this \"breakdown\" play with a quick rally to finish off the week.     Week 4: The relentless move up, as the S&amp;P was over 1150 and not looking back.  Entered the week 19% long, 9% short and 72% cash. It was difficult to apply cash at this point to the long side because most of the names I like were up tremendously since the Feb lows with almost no pullback.  Index plays this week were losers as most of the market move was in premarket and some choppy action had us constantly stopping out.  On the long side  I began a position in NetLogic Microsystems (NETL) simply due to error - the stock split 2:1 and the simulator I run my portfolio in did not compensate so my long standing limit buy order executed - it was a small order so no big deal.  Within 48 hours after splitting the company did an offering, at which point I bought more shares, to make the position a moderate size.    I started a position in Massey Energy (MEE) - within hours the company announced a stock offering (notice a theme?), which hurt the stock - but in the George Costanza market, stocks now rally when they company diluted shareholders.   I closed a large position in Google (GOOG) for a smallish loss as it broke support and continued to sell off on the same news from China....  which appears to have set the bottom in the stock.   EnerNOC (ENOC) a position held since last fall was closed out, as it has been unable to move for many weeks on end.  On the short side - I reshorted Athenahealth (ATHN) which has been good to us; we won again as I quickly covered for a 3% gain.  That might sound like peanuts but 3% down in this market is like 15% down in a normal market.   AsiaInfo Holdings (ASIA) was shorted as it broke support and eyed a large gap in its chart.   I covered a multi week short in True Religion (TRLG) for only a 1% loss and consider it a major victory as the stock went nowhere for 2-3 weeks as its sector was the hottest in the market. Exact same logic in Maidenform Brands (MFB) - the strength of the market simply hit my stop loss and I could not stay in.    I covered our modest allocation in iShares Barclays 20+ Year Bond (TLT) as bonds swooned mid week.    [Mar 2, 2010: 2010 Fund Performance Period 2]  [Feb 2, 2010: 2010 Fund Performance Period 1] [Jan 7, 2010: 2009 Fund Performance - Final Edition]   For previous years please see tab 'Performance / Portfolio' (we were using other tracking mechanisms at the time)</td>\n",
       "    </tr>\n",
       "    <tr>\n",
       "      <th>4</th>\n",
       "      <td>2010-05-17</td>\n",
       "      <td>Greenlight Capital's Newest 13-F (ABX, EMC, CIT, BJS, BSX, FBC, MSFT) Greenlight Capital has released their latest 13-F filing, highlighting changes in the fund's long positions between 12/31/09 and 3/31/10. Greenlight is run by noted value investor David Einhorn.     During the latest quarter, Einhorn sold out of a small position in shares of Barrick Gold . He also liquidated another small position in BJ Services .     Notably, Einhorn sold his entire position in shares of Boston Scientific , which has been beset by problems. Year-to-date, BSX has lost over 24% of its market cap. Greenlight had a position worth more than $294 million in the stock as of 12/31/09, all of which his latest 13-F indicates he sold this quarter.     The hedge fund also added 4,269,507 shares of CIT Group  and 1,750,00 shares of EMC .     Among the other notable additions was a 33,000,000 share position in shares of Flagstar Bancorp . Currently, FBC shares are trading at $0.56 and the company has a market cap of only 858.36 million.     Greenlight also added 3,399,200 shares of Microsoft  this quarter. Year to date, MSFT shares have fallen 5.05% and closed today's trading session at $28.94.      Learn how to find the best stocks to trade each day in our 70 page E-Book and 90 minute online video for free.</td>\n",
       "    </tr>\n",
       "  </tbody>\n",
       "</table>\n",
       "</div>"
      ],
      "text/plain": [
       "         date  \\\n",
       "0  2010-01-28   \n",
       "1  2010-03-10   \n",
       "2  2010-03-29   \n",
       "3  2010-04-01   \n",
       "4  2010-05-17   \n",
       "\n",
       "                                                                                                                                                                                                                                                                                                                                                                                                                                                                                                                                                                                                                                                                                                                                                                                                                                                                                                                                                                                                                                                                                                                                                                                                                                                                                                                                                                                                                                                                                                                                                                                                                                                                                                                                                                                                                                                                                                                                                                                                                                                                                                                                                                                                                                                                                                                                                                                                                                                                                                                                                                                                                                                                                                                                                                                                                                                                                                                                                                                                                                                                                                                                                                                                                                                                                                                                                                                                                                                                                                                                                                                                                                                                                                                                                                                                                                                                                                                                                                                                                                                                                                                                                                                                                                                                                                                                                                                                                                                                                                                                                                                                                                                                                                                                                                                                                                                                                                                                                                                                                                                                                                                                                                                                                                                                                                                                                                                                                                                                                                                                                                                                                                                                                                                                                                                                                                                                                                                                                                                                                                                                                                                                                                                                                                                                                                                                                                                                                                                                                                                                                                                                                                                                                                                                                                                                                                                                                                                                                                                                                                                                                                                                                                                                                                                                                                                                                                                                                                                                                                                                                                                                                                                                                                                                                                                                                                                                                                                                                                                                                                                                                                                                                                                                                                                                                                                                                                                                                                                                                                                                                                                                                                                                                                                                                                                                                                                                                                                                                                                                                                                                                                                                                                                                                                                                                                                                                                                                                                                                                                                                                                                                                                                                                                                                                                                                                                                                                                                                                                                                                                                                                                                                                                                                                                                                                                                                                                                                                                                                                                                                                                                                                                                                                                                                                                                                                                                                                                                                                                                                                                                                                                                                                                                                          text  \n",
       "0  Benzinga’s Volume Movers (FFBC, NFLX, GNTX, ALGN, UTHR) First Financial Bancorp  shares gained 6.94% to $16.19. The volume of FFBC shares traded was 1311% higher than normal. FFBC has entered into an underwriting agreement for the sale of about 85 million common shares.    Netflix Inc  shares jumped 22.48% to $62.43. The volume of NFLX shares traded was 804% higher than normal. NFLX has hinted at expanding its operations to overseas markets.    Gentex Corporation  shares climbed 8.02% to $18.85. The volume of GNTX shares traded was 372% higher than normal. Robert W Baird has upgraded GNTX from “neutral” to “outperform.”    Align Technology Inc  shares rose 11.44% to $18.60. The volume of ALGN shares traded was 355% higher than normal. GNTX has posted a 45% increase in its net sales for Q4.    United Therapeutics Corporation  shares moved up 2.90% to $59.23. The volume of UTHR shares traded was 350% higher than normal. UTHR’s shares have surpassed their ten-day moving average of $58.23.    Read more from Benzinga's Markets.                                                                                                                                                                                                                                                                                                                                                                                                                                                                                                                                                                                                                                                                                                                                                                                                                                                                                                                                                                                                                                                                                                                                                                                                                                                                                                                                                                                                                                                                                                                                                                                                                                                                                                                                                                                                                                                                                                                                                                                                                                                                                                                                                                                                                                                                                                                                                                                                                                                                                                                                                                                                                                                                                                                                                                                                                                                                                                                                                                                                                                                                                                                                                                                                                                                                                                                                                                                                                                                                                                                                                                                                                                                                                                                                                                                                                                                                                                                                                                                                                                                                                                                                                                                                                                                                                                                                                                                                                                                                                                                                                                                                                                                                                                                                                                                                                                                                                                                                                                                                                                                                                                                                                                                                                                                                                                                                                                                                                                                                                                                                                                                                                                                                                                                                                                                                                                                                                                                                                                                                                                                                                                                                                                                                                                                                                                                                                                                                                                                                                                                                                                                                                                                                                                                                                                                                                                                                                                                                                                                                                                                                                                                                                                                                                                                                                                                                                                                                                                                                                                                                                                                                                                                                                                                                                                                                                                                                                                                                                                                                                                                                                                                                                                                                                                                                                                                                                                                                                                                                                                                                                                                                                                                                                                                                                                                                                                                                                                                                                                                                                                                                                                                                                                                                                                                                                                                                                                                                                                                                                                                                                                                                                                                                                                                                                                                                                                                                                                                                                                                                                                                                                                                               \n",
       "1  Benzinga's Top ETF Gainers (FBT, FAS, USD, KBE) Biotech stocks are having a good trading session today. InterMune, Inc.  spiked 63% after the company won approval of an advisory panel to launch a new drug. InterMune (ITMN) is one of the holdings of First Trust NYSE Arca Biotechnology(ETF) . FBT is trading 3.31% up, and its last transaction was made at $37.16.    Direxion Daily Financial Bull 3X Shares(ETF)  is also trading in the positive territory. FAS is 3% up, along with Bank of America Corporation  and Wells Fargo & Company . Bank of america (BAC) trades with a gain of 2.32%  and Wells Fargo (WFC) added 2.17% on the upside.    Intel Corporation  and Texas Instruments Incorporated  are trading in the positive territory, just as ProShares Ultra Semiconductors (ETF) . USD added 2.87% so far, while Intel (INTC) and Texas Instruments (TXN) gained 0.96% and 1.49% respectively.    SPDR KBW Bank (ETF)  is another financial ETF that is trading on the upside today. Citigroup Inc.  is one of its holdings and it gained 3.4% so far.                                                                                                                                                                                                                                                                                                                                                                                                                                                                                                                                                                                                                                                                                                                                                                                                                                                                                                                                                                                                                                                                                                                                                                                                                                                                                                                                                                                                                                                                                                                                                                                                                                                                                                                                                                                                                                                                                                                                                                                                                                                                                                                                                                                                                                                                                                                                                                                                                                                                                                                                                                                                                                                                                                                                                                                                                                                                                                                                                                                                                                                                                                                                                                                                                                                                                                                                                                                                                                                                                                                                                                                                                                                                                                                                                                                                                                                                                                                                                                                                                                                                                                                                                                                                                                                                                                                                                                                                                                                                                                                                                                                                                                                                                                                                                                                                                                                                                                                                                                                                                                                                                                                                                                                                                                                                                                                                                                                                                                                                                                                                                                                                                                                                                                                                                                                                                                                                                                                                                                                                                                                                                                                                                                                                                                                                                                                                                                                                                                                                                                                                                                                                                                                                                                                                                                                                                                                                                                                                                                                                                                                                                                                                                                                                                                                                                                                                                                                                                                                                                                                                                                                                                                                                                                                                                                                                                                                                                                                                                                                                                                                                                                                                                                                                                                                                                                                                                                                                                                                                                                                                                                                                                                                                                                                                                                                                                                                                                                                                                                                                                                                                                                                                                                                                                                                                                                                                                                                                                                                                                                                                                                                                                                                                                                                                                                                                                                                                                                                                                                                                                                                                                                                              \n",
       "2  Bookkeeping: Weekly Changes to Fund Positions Year 3, Week 34 Year 3, Week 34 Major Position Changes  To see historic weekly fund changes click here OR the label at the bottom of this entry entitled 'fund positions'.  Cash: 76.0% (v 71.6% last week) 17 long bias: 17.8% (v 19.3% last week) 3 short bias: 6.3% (v 9.1% last week) [Includes 1 'long dollar' position]   20 positions (vs 23 last week)   Weekly thoughts  This is getting repetitious.  Last week the market went up.  We are overdue for a pullback of at least 1%.  Which has not happened in about 6 weeks.  It will happen someday.  Each of the past 3 weeks I predicted this will be the week. Each week I was (am) wrong.  Rinse.  Wash.  Repeat.  The monotonous, emotion less market continues ever upward.  Last Thursday there was an actual reversal but all it did was turn us from +1% to 0% for the day.  It simply has a feel of computers trading day in and day out, on light volume, happy to collect their rebates for creating liquidity.  Only when volume picks up (what I assume is when humans actually get involved in some manner) does the market have a chance to drop.  But volume only picks up for hours at a time.   We've been pointing to this Friday's job report the past few weeks as an event the market seems to be anticipating.  The thought here is a 300Kish type number of \"job gains\" .... sprinkle 100K+ census jobs, plus 75K+ \"weather related\" gains from February, plus our always reliable 100K jobs from the birth/death model ... which will be revised away next March - and presto magic, you have a jobs recovery.  This has all the smell of the \"housing recovery\" the bulls were frothing at the mouth to tell us about spring 2009.  You know the one - where people are amazed home sales in May are higher than February, and sales in June are higher than March.  Especially when bribed with $8000.  Now we will be amazed that a million plus census workers being hired causes job gains.   As long as we don't look under the surface, amazement is a very easy achievement, and it since market analysis is done in 10 seconds or less the jobs figure headline is all that matters.  The *only* wildcard is the data is going to be released Friday when the market is closed - allowing people to stand in awe of the figure for a full 3 days.  We shall rejoice. (and be surprised)  To the indexes - last week the S&P 500 looked like this... we said the index was in a white noise area between 1150 and 1170.   After the healthcare bill passed the premarket futures were down sharply but a rampage of buying caused the market to surge, and almost the entire (white noise) range was hit Monday alone.  Then the break over 1170 happened in the last hours of Tuesday, at which point you could see the vertical move up as the computers took over.   The market sort of hung around Wednesday, made another surge up Thursday for no specific reason other than the market needs to go up, but a late day reversal (a rarity) caused the S&P 500 to turn from +1% to 0%. (which nowadays is considered a negative day).  And Friday we just hung around.  So we are going nowhere fast in particular but betting against the market remains nearly impossible.  Now the chart looks like this and we remain between 1170 and 1150.   I remain reluctant to actively short the index for more than a few hours at a time, unless S&P 500 level 1150 is broken as it's been a losing trade.  Eventually it will be a winner but we're all dead eventually.   Downside targets remains (a) 1124 and (b) 1078.  The latter is 3.6% downside and the latter 8%.  Since this move up has been unrelenting, yet glacial (most days +0.3%, 0.4%) with sideways moves consolidating each stair step up, the moving averages are coming along and the underlying index price is not moving too fast ahead of the moving averages.  Interesting.  The NASDAQ had a similar journey, although slightly stronger with its top end of the white noise being 2400.  The 3 sectors leading this chart: XLI (Industrials), XLY (Consumer Discretionary), XLF (Financials) continued to lead last week.  One area of weakness / under performance is XLE (Energy).....    The dollar broke out as bailout planet continued in Europe, and bonds acted a bit naughty late in the week but without any auctions this week that might be put on the back burner for now.    And that about summarizes the action - its slow, many days very boring, and except for mini bursts in premarket, the first 30 minutes of the day, or last 30 minutes, much of the day is sideways churning - certainly not much of a traders market the past month.  China remains range bound and listless, and many other emerging markets are blah.  ---------------------------------------------------   The economic data has not been squat the past few weeks, as all news is good news as long as Ben Bernanke promises us free money for an extended period of time.  Which he did yet again last week in Congressional testimony after the Fed meeting.  Which means (wink wink) we can push out any tightening another 6 weeks and the language at the next meeting will be identical to the one we just saw.  Even the flailing housing numbers have been completely ignored.  Just as we did a year ago, we'll clap like seals the next 4 months as housing figures improve (as they do every April - July), then I guess as we did last year ignore them when they falter the following 8 months.  This week:  Monday: Personal Outlays & Income Tuesday: A consumer confidence report Wednesday: Chicago PMI, Factory Outlays Thursday: ISM Mfg, Construction Spending Friday (holiday): Employment  The only data point above that I could see derailing things is ISM Manufacturing, the data point is roughly at 56 consensus and the flood of global stimulus has pushed companies to rebuild inventories.  If the private sector does not take over from the government sector, at some point inventories will stack up and the nascent recovery ends.  But it's impossible to see what is going on under the surface with so much governmental money flooding in from every crevice.  The consensus for jobs is +200K with a range of 75K to 300K.  I don't know what world the guy at 75K is living on as the birth death model (where the US has been creating fictional small business jobs the entire recession) and census workers alone will get us way over that point.   There should be another 600-800K census jobs coming in the months to follow so until the market fully discounts this, good cheer shall continue.  Of course at some point the market must discount all these jobs extinguished in the fall as well.  So the only interesting data point is how traders square up their books knowing they won't have access to the casino within milliseconds of the monthly jobs report and must wait until Monday to be surprised by a better than expected react to the jobs data.   One other interesting thing is economists estimate the workweek to shoot up to 33.9 hours which would be the highest we've seen in a long while.  --------------------------------------------------------  For the portfolio cash went up because (a) I am having a hard time applying money to the 3 hot sectors, when so many of those stocks are up 50-70% in 6 weeks and (b) the market is taking away almost any and all short positions within days of when I put them on.   Frankly when I am looking *this* hard for individual long positions that has always marked a time the market pulled back at least modestly.  But I've been looking hard for 2 weeks, and the market does not go down - again, my historical experience means little with the way this market behaves.  Many people I've been reading for years on the intertubes have been expressing the same opinions for most of the past month.   On the long side I began a position in NetLogic Microsystems (NETL) simply due to error - the stock split 2:1 and the simulator I run my portfolio in did not compensate so my long standing limit buy order executed - it was a small order so no big deal.  Within 48 hours after splitting the company did an offering, at which point I bought more shares, to make the position a moderate size.   I started a position in Massey Energy (MEE) - within hours the company announced a stock offering (notice a theme?), which hurt the stock - but in the George Costanza market, stocks now rally when they company diluted shareholders.  I closed a large position in Google (GOOG) for a smallish loss as it broke support and continued to sell off on the same news from China....  which appears to have set the bottom in the stock.  Later in the week someone bought $530M worth of shares in one fell swoop - mind boggling.  Since I sold the stock jumped right back over support.    EnerNOC (ENOC) a position held since last fall was closed out, as it has been unable to move for many weeks on end.  On the short (i.e. loser!) side - I reshorted Athenahealth (ATHN) which has been good to us; we won again as I quickly covered for a 3% gain.  That might sound like peanuts but 3% down in this market is like 15% down in a normal market.   AsiaInfo Holdings (ASIA) was shorted as it broke support and eyed a large gap in its chart - still holding.  I covered a multi week short in True Religion (TRLG) for only a 1% loss and consider it a major victory as the stock went nowhere for 2-3 weeks as its sector was the hottest in the market.  The stock still has not broken to the upside but I became nervous once the S&P 500 broke over 1170 and the unstoppable market seemed ready to take away my candy.   Exact same logic in Maidenform Brands (MFB) - the strength of the market simply hit my stop loss and I could not stay in.   I covered our modest allocation in iShares Barclays 20+ Year Bond (TLT) as bonds swooned mid week.  If something goes awry in the bond market we'll jump back in, but generally this is slow money and since this has been range bound for months on end, I would not expect a \"breakdown\". (yet)  We played some index positions this week but went nowhere with them as we were chasing our tail most of the time - unless a sustained move in 1 direction happens they don't generally give good results and we did not get that this week.   It's one of those weeks where the only person who got rich were the brokers.                                                                                                                                                                                                                                                                                                                                                                                                                                                                                                           \n",
       "3  2010 Fund Performance Period 3 The mutual fund is now on schedule for a summer 2010 launch. If, after reading the blog content you might have an interest in participation, please consider reading why this blog exists.  [Jan 2008: Reader Pledges Toward Mutual Fund Launch] [May 2008: Frequently Asked Questions] Our story in Barron's [A New Kind of Fund Manager] [November 2009: General Updates, Questions]   Or if you are just here for daily market / economic commentary or stock trades to follow on your own, consider supporting the blog via donation (paypal buttons can be found on the upper right margin of the blog) ---------------------------------------------------------------------------   For those who read the content of the website via email or RSS reader, you can come to the website at any time and click on 'Performance/Portfolio' tab in the menu bar to get updated positions (weekly) and performance.  Total Portfolio Value, as maintained by 3rd party, can be checked here each day with 20 minute delay vs real time (starting value $1,000,000 or $10.00 NAV) I will post an update of performance versus Russell 1000 every 4 weeks; we moved to a new tracking system in 2009 (Investopedia.com) as the old system would not allow shorting of individual stocks, among other \"technical issues\" that often came up.  Hence while the website and portfolio began in August 2007, we \"began anew\" in terms of performance with portfolio \"B\" as of early 2009.  Detailed history on latter 2007 and 2008, as well as 2009, [Jan 7, 2010: 2009 Final Performance Metrics]  can be found on the above mentioned tab.  For 2010 our third 4 week period is now complete. (Data is through last Friday's closing prices)   (click to enlarge)     Period 3 was simple to describe - up or sideways.... but mostly up.  A remarkable period with no pullbacks of any sort; as the period ended the S&P 500 had gone 7 weeks without a 1% correction.  The Russell 2000 at one point had been up 15 of 17 sessions, with shorter but similar streaks in NYSE and S&P 500.  The \"negative\" days were almost all of the -0.2% variety.  All news was good news as Greece was finally backstopped by the EU/IMF and investors looked ahead to a census laden jobs report at the beginning of April.  Housing data was weak but ignored. Consumer discretionary, financials, and industrials dominated as did niche sectors like insurance, restaurants, airliner production, and autos. Major emerging markets did not do as well with China and Brazil in particular struggling.   I was unable to pull another +8.7% period which would of been nice, as I was trying to put together 13 in a row - Bernie style.    For the third \"four week\" period of 2010 the fund returned +8.3%, versus the market's +5.7%, so an outperformance of +2.6%.On a cumulative basis the return is +27.9%, versus the Russell 1000's+4.9%, so an outperformance of +23.0% for the year to date. (thus far 12 weeks)  Period 3 achieved both absolute performance (making money) and relative performance (outperforming the market).  The yearly goal of beating the index by 15% has been achieved.  ------------------------------------------------------------------------------------   *** Long/Short Fund Discussion below   Overview:  The chart for period 3 says it all - rally, followed by rally, followed by rally.  Much of it came (yet again) in premarket as many days were full of almost no movement between 10 AM and 3:30 PM as the computers churned the market.  It feels very emotionless and aside from a few breakouts in the indexes there were not many trading opportunities since so much of the movement came overnight. The only weakness of any sort came in the last week and even that was minor.  This is the hardest type of market to keep up with with our sort of strategy, versus the easiest for the typical mutual fund crowd.    Week 1: The market was just finishing 2 weeks of a bounce off the 200 day moving average and was running into \"resistance\" (a funny word in retrospect) around the 50 day on the S&P 500 the previous week.  After breaking over that level this week, there was no turning back for the entire period.  Of course we did not know that in advance so we were heavily hedged at 12% long, 7% short, and the remainder in cash (much of the short was simply \"long US dollars\").   We sold the last of our month long (held) dollar calls early in the week for a sizeable gain which helped us keep pace with the frantic market.   I was looking for a stock that was near support but had not joined the party early in the week so I expanded our position in Rackspace Hosting (RAX)... unfortunately the stock did nothing all week despite a market going ballistic.    Assured Guaranty (AGO) was sold completely out as it was not participating in the rally; it also did nothing the rest of the week.    Added some Ultra Silver (AGQ) as the precious metals charts started to shape up... this one did \"pan out\" (would of been funnier if I had bought gold).   I cut back DragonWave (DRWI) mid week as the stock not only was a non participant in the festitivies but broke support; in retrospect that worked out in the near term.    F5 Networks (FFIV) has gone up 20% in a short amount of time, so I took 70% off the table.     Then I did the unthinkable - I shorted some stocks...  using Greenhill & Co (GHL), American Superconductor (AMSC) and AthenaHealth (ATHN).     Week 2: With the market bouncing smartly off the 50 day moving average I went much more heavy to the long side - including some index positions.  Cash was drawn down to 66%, longs up to 22% and shorts up to 12%.  The largest positions  Profits were taken in Las Vegas Sands (LVS) both early in the week, and later as the stock shot up. (consumer discretionary)  This was the best stock of the period by a mile. I restarted positions in Google (GOOG), Braskem (BAK) & Riverbed Technology (RVBD) DragonWave (DRWI) was also closed out, (but surely must be due for a dead cat bounce) and Seagate Technology (STX) after breaking support (50 day moving average), was cut back by 40%.  My largest short at the time Greenhill & Co (GHL) was stopped out.   Week 3: At this point with yet another \"V\" shaped bounce, I began thinking the market was overdue for at least a moderate pullback (2%? 4%?)  Not so much.  I did not add to any shorts however as the strength of the market was too powerful - long exposure was 19%, short 8% (as always some of this being long US dollar), and cash 73%.  This was not much different from the previous week but I did a lot of adjusting to new names.  The largest % gain for the fund happened this week when we caught a 16 point S&P move with SPY calls and levered index ETFs On the long side we had a trade in TQNT:  Early in the week a limit purchase order hit for TriQuint Semiconductor (TQNT) after it pulled back to the 50 day moving average; that position was sold right back out after a 8% gain within days as TQNT raised guidance.   The stock immediately fell after I sold, so I got the position back - this company gets no respect despite a steady stream of good news, so I have to trade it.    The big move of the week was an index play where after thinking I might get 16 points on the downside Monday (if S&P 1140 was to break), instead I grabbed 16 points on the upside with a move from 1154 to 1170ish.  Half my index positions (SPY calls, and TNA ETF) were sold just under 1170, and another half sold once 1165 was broken.   Late in the week I restarted coal player Alpha Natural Resources (ANR) [sacrifice to the gods so that they would bring us a real selloff] with a 1% position, and healthcare e-records name Quality Systems (QSII) as a potential breakout candidate - which it was doing Friday, but the \"down\" market slowed it.   Friday, I closed lagging Seagate Technologies (STX).  On the short side:  I attempted to short True Religion (TRLG).   I had less than 24 hours in shorts of Vulcan Materials (VMC) and Cemex (CX) - they stopped out very quickly.   For the sport of it, I shorted the stock which went 1 full month without 1 down session - Maidenform Brands (MFB).   I thought a break of S&P 1160 Friday would lead to more damage so attempted some downside index plays (SPY puts, short TNA) but only squeezed out a few measly points as the market smashed shorts who attempted this \"breakdown\" play with a quick rally to finish off the week.     Week 4: The relentless move up, as the S&P was over 1150 and not looking back.  Entered the week 19% long, 9% short and 72% cash. It was difficult to apply cash at this point to the long side because most of the names I like were up tremendously since the Feb lows with almost no pullback.  Index plays this week were losers as most of the market move was in premarket and some choppy action had us constantly stopping out.  On the long side  I began a position in NetLogic Microsystems (NETL) simply due to error - the stock split 2:1 and the simulator I run my portfolio in did not compensate so my long standing limit buy order executed - it was a small order so no big deal.  Within 48 hours after splitting the company did an offering, at which point I bought more shares, to make the position a moderate size.    I started a position in Massey Energy (MEE) - within hours the company announced a stock offering (notice a theme?), which hurt the stock - but in the George Costanza market, stocks now rally when they company diluted shareholders.   I closed a large position in Google (GOOG) for a smallish loss as it broke support and continued to sell off on the same news from China....  which appears to have set the bottom in the stock.   EnerNOC (ENOC) a position held since last fall was closed out, as it has been unable to move for many weeks on end.  On the short side - I reshorted Athenahealth (ATHN) which has been good to us; we won again as I quickly covered for a 3% gain.  That might sound like peanuts but 3% down in this market is like 15% down in a normal market.   AsiaInfo Holdings (ASIA) was shorted as it broke support and eyed a large gap in its chart.   I covered a multi week short in True Religion (TRLG) for only a 1% loss and consider it a major victory as the stock went nowhere for 2-3 weeks as its sector was the hottest in the market. Exact same logic in Maidenform Brands (MFB) - the strength of the market simply hit my stop loss and I could not stay in.    I covered our modest allocation in iShares Barclays 20+ Year Bond (TLT) as bonds swooned mid week.    [Mar 2, 2010: 2010 Fund Performance Period 2]  [Feb 2, 2010: 2010 Fund Performance Period 1] [Jan 7, 2010: 2009 Fund Performance - Final Edition]   For previous years please see tab 'Performance / Portfolio' (we were using other tracking mechanisms at the time)        \n",
       "4  Greenlight Capital's Newest 13-F (ABX, EMC, CIT, BJS, BSX, FBC, MSFT) Greenlight Capital has released their latest 13-F filing, highlighting changes in the fund's long positions between 12/31/09 and 3/31/10. Greenlight is run by noted value investor David Einhorn.     During the latest quarter, Einhorn sold out of a small position in shares of Barrick Gold . He also liquidated another small position in BJ Services .     Notably, Einhorn sold his entire position in shares of Boston Scientific , which has been beset by problems. Year-to-date, BSX has lost over 24% of its market cap. Greenlight had a position worth more than $294 million in the stock as of 12/31/09, all of which his latest 13-F indicates he sold this quarter.     The hedge fund also added 4,269,507 shares of CIT Group  and 1,750,00 shares of EMC .     Among the other notable additions was a 33,000,000 share position in shares of Flagstar Bancorp . Currently, FBC shares are trading at $0.56 and the company has a market cap of only 858.36 million.     Greenlight also added 3,399,200 shares of Microsoft  this quarter. Year to date, MSFT shares have fallen 5.05% and closed today's trading session at $28.94.      Learn how to find the best stocks to trade each day in our 70 page E-Book and 90 minute online video for free.                                                                                                                                                                                                                                                                                                                                                                                                                                                                                                                                                                                                                                                                                                                                                                                                                                                                                                                                                                                                                                                                                                                                                                                                                                                                                                                                                                                                                                                                                                                                                                                                                                                                                                                                                                                                                                                                                                                                                                                                                                                                                                                                                                                                                                                                                                                                                                                                                                                                                                                                                                                                                                                                                                                                                                                                                                                                                                                                                                                                                                                                                                                                                                                                                                                                                                                                                                                                                                                                                                                                                                                                                                                                                                                                                                                                                                                                                                                                                                                                                                                                                                                                                                                                                                                                                                                                                                                                                                                                                                                                                                                                                                                                                                                                                                                                                                                                                                                                                                                                                                                                                                                                                                                                                                                                                                                                                                                                                                                                                                                                                                                                                                                                                                                                                                                                                                                                                                                                                                                                                                                                                                                                                                                                                                                                                                                                                                                                                                                                                                                                                                                                                                                                                                                                                                                                                                                                                                                                                                                                                                                                                                                                                                                                                                                                                                                                                                                                                                                                                                                                                                                                                                                                                                                                                                                                                                                                                                                                                                                                                                                                                                                                                                                                                                                                                                                                                                                                                                                                                                                                                                                                                                                                                                                                                                                                                                                                                                                                                                                                                                                                                                                                                                                                                                                                                                                                                                                                                                                                                                                                                                                                                                                                                                                                                                                                                                                        "
      ]
     },
     "execution_count": 25,
     "metadata": {},
     "output_type": "execute_result"
    }
   ],
   "source": [
    "df_benzinga2.head()"
   ]
  },
  {
   "cell_type": "code",
   "execution_count": 643,
   "metadata": {},
   "outputs": [],
   "source": [
    "# import spacy"
   ]
  },
  {
   "cell_type": "code",
   "execution_count": 644,
   "metadata": {},
   "outputs": [],
   "source": [
    "# nlp = spacy.load('en_core_web_md')\n",
    "# myvals = df_benzinga['text'].values.tolist()"
   ]
  },
  {
   "cell_type": "code",
   "execution_count": 645,
   "metadata": {},
   "outputs": [],
   "source": [
    "# df_benzinga['len'] = df_benzinga['text'].str.split().str.len()"
   ]
  },
  {
   "cell_type": "code",
   "execution_count": 646,
   "metadata": {},
   "outputs": [],
   "source": [
    "# df_benzinga.describe()"
   ]
  }
 ],
 "metadata": {
  "kernelspec": {
   "display_name": "Python 3",
   "language": "python",
   "name": "python3"
  },
  "orig_nbformat": 4
 },
 "nbformat": 4,
 "nbformat_minor": 2
}
