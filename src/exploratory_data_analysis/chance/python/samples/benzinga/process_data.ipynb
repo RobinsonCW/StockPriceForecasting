{
 "cells": [
  {
   "cell_type": "code",
   "execution_count": 1,
   "id": "8653ae2c-0a31-450e-859b-735fa380f4f9",
   "metadata": {},
   "outputs": [],
   "source": [
    "%matplotlib inline\n",
    "\n",
    "import pandas as pd\n",
    "import numpy as np\n",
    "\n",
    "import matplotlib.pyplot as plt\n",
    "import seaborn as sns\n",
    "\n",
    "sns.set_style('whitegrid')\n",
    "np.random.seed(42)\n",
    "\n",
    "pd.set_option('display.max_rows', 500)\n"
   ]
  },
  {
   "cell_type": "code",
   "execution_count": 2,
   "id": "df0507bd",
   "metadata": {},
   "outputs": [],
   "source": [
    "csv_path = \"../../../../../../data/benzinga/\""
   ]
  },
  {
   "cell_type": "code",
   "execution_count": 3,
   "id": "efd34eb2-73cf-4cce-8283-e776f7009463",
   "metadata": {},
   "outputs": [],
   "source": [
    "df = pd.read_csv(csv_path + \"20100101_to_20220304.csv\", low_memory=False, index_col=\"id\")"
   ]
  },
  {
   "cell_type": "code",
   "execution_count": 4,
   "id": "544b243d",
   "metadata": {},
   "outputs": [
    {
     "data": {
      "text/html": [
       "<div>\n",
       "<style scoped>\n",
       "    .dataframe tbody tr th:only-of-type {\n",
       "        vertical-align: middle;\n",
       "    }\n",
       "\n",
       "    .dataframe tbody tr th {\n",
       "        vertical-align: top;\n",
       "    }\n",
       "\n",
       "    .dataframe thead th {\n",
       "        text-align: right;\n",
       "    }\n",
       "</style>\n",
       "<table border=\"1\" class=\"dataframe\">\n",
       "  <thead>\n",
       "    <tr style=\"text-align: right;\">\n",
       "      <th></th>\n",
       "      <th>date</th>\n",
       "      <th>author</th>\n",
       "      <th>created</th>\n",
       "      <th>updated</th>\n",
       "      <th>title</th>\n",
       "      <th>teaser</th>\n",
       "      <th>body</th>\n",
       "      <th>url</th>\n",
       "      <th>image</th>\n",
       "      <th>channels</th>\n",
       "      <th>stocks</th>\n",
       "      <th>tags</th>\n",
       "    </tr>\n",
       "    <tr>\n",
       "      <th>id</th>\n",
       "      <th></th>\n",
       "      <th></th>\n",
       "      <th></th>\n",
       "      <th></th>\n",
       "      <th></th>\n",
       "      <th></th>\n",
       "      <th></th>\n",
       "      <th></th>\n",
       "      <th></th>\n",
       "      <th></th>\n",
       "      <th></th>\n",
       "      <th></th>\n",
       "    </tr>\n",
       "  </thead>\n",
       "  <tbody>\n",
       "    <tr>\n",
       "      <th>26001545.0</th>\n",
       "      <td>2022-03-04</td>\n",
       "      <td>Benzinga Newsdesk</td>\n",
       "      <td>Fri, 04 Mar 2022 16:51:01 -0400</td>\n",
       "      <td>Fri, 04 Mar 2022 16:51:02 -0400</td>\n",
       "      <td>NY Pension Chief Sends Letter To McDonald's, P...</td>\n",
       "      <td>-Reuters</td>\n",
       "      <td>&lt;p&gt;-Reuters&lt;/p&gt;</td>\n",
       "      <td>https://www.benzinga.com/news/22/03/26001545/n...</td>\n",
       "      <td>[]</td>\n",
       "      <td>[{'name': 'News'}, {'name': 'Rumors'}]</td>\n",
       "      <td>[{'name': 'EL'}, {'name': 'MCD'}, {'name': 'PE...</td>\n",
       "      <td>[]</td>\n",
       "    </tr>\n",
       "    <tr>\n",
       "      <th>25999924.0</th>\n",
       "      <td>2022-03-04</td>\n",
       "      <td>Chris Katje</td>\n",
       "      <td>Fri, 04 Mar 2022 17:22:37 -0400</td>\n",
       "      <td>Fri, 04 Mar 2022 17:22:37 -0400</td>\n",
       "      <td>The Next Jeopardy Or Wordle? Netflix Launching...</td>\n",
       "      <td>Fans of Wordle or those who miss the daily liv...</td>\n",
       "      <td>&lt;p&gt;Fans of &lt;strong&gt;Wordle&lt;/strong&gt; or those wh...</td>\n",
       "      <td>https://www.benzinga.com/general/entertainment...</td>\n",
       "      <td>[{'size': 'thumb', 'url': 'https://cdn.benzing...</td>\n",
       "      <td>[{'name': 'Entertainment'}, {'name': 'News'}, ...</td>\n",
       "      <td>[{'name': 'NFLX'}, {'name': 'NYT'}]</td>\n",
       "      <td>[{'name': 'HQ Trivia'}, {'name': 'Mobile Games...</td>\n",
       "    </tr>\n",
       "    <tr>\n",
       "      <th>26002401.0</th>\n",
       "      <td>2022-03-04</td>\n",
       "      <td>Henry Khederian</td>\n",
       "      <td>Fri, 04 Mar 2022 17:29:52 -0400</td>\n",
       "      <td>Fri, 04 Mar 2022 17:29:52 -0400</td>\n",
       "      <td>Markets Close Lower As Russia-Ukraine War Esca...</td>\n",
       "      <td>U.S. indices traded lower after Russian forces...</td>\n",
       "      <td>&lt;p&gt;U.S. indices traded lower after Russian for...</td>\n",
       "      <td>https://www.benzinga.com/markets/cryptocurrenc...</td>\n",
       "      <td>[{'size': 'thumb', 'url': 'https://cdn.benzing...</td>\n",
       "      <td>[{'name': 'News'}, {'name': 'After-Hours Cente...</td>\n",
       "      <td>[{'name': 'APTV'}, {'name': 'COST'}, {'name': ...</td>\n",
       "      <td>[]</td>\n",
       "    </tr>\n",
       "    <tr>\n",
       "      <th>25994316.0</th>\n",
       "      <td>2022-03-04</td>\n",
       "      <td>Chris Katje</td>\n",
       "      <td>Fri, 04 Mar 2022 18:05:42 -0400</td>\n",
       "      <td>Fri, 04 Mar 2022 18:05:43 -0400</td>\n",
       "      <td>Here's How Much $100 In Dogecoin Could Be Wort...</td>\n",
       "      <td>One of the most popular cryptocurrencies took ...</td>\n",
       "      <td>&lt;p&gt;One of the most popular cryptocurrencies to...</td>\n",
       "      <td>https://www.benzinga.com/markets/cryptocurrenc...</td>\n",
       "      <td>[{'size': 'thumb', 'url': 'https://cdn.benzing...</td>\n",
       "      <td>[{'name': 'Cryptocurrency'}, {'name': 'Markets...</td>\n",
       "      <td>[{'name': '$DOGE'}, {'name': 'CMCSA'}, {'name'...</td>\n",
       "      <td>[{'name': 'Doge'}, {'name': 'dogecoin'}, {'nam...</td>\n",
       "    </tr>\n",
       "    <tr>\n",
       "      <th>25984470.0</th>\n",
       "      <td>2022-03-04</td>\n",
       "      <td>Samyuktha Sriram</td>\n",
       "      <td>Fri, 04 Mar 2022 09:35:03 -0400</td>\n",
       "      <td>Sat, 05 Mar 2022 10:37:38 -0400</td>\n",
       "      <td>Dogecoin Wallet Released For iOS, DOGE Co-Crea...</td>\n",
       "      <td>A self-custodian Dogecoin (CRYPTO: DOGE) walle...</td>\n",
       "      <td>&lt;p&gt;A self-custodian &lt;strong&gt;Dogecoin &lt;/strong&gt;...</td>\n",
       "      <td>https://www.benzinga.com/markets/cryptocurrenc...</td>\n",
       "      <td>[{'size': 'thumb', 'url': 'https://cdn.benzing...</td>\n",
       "      <td>[{'name': 'Cryptocurrency'}, {'name': 'News'},...</td>\n",
       "      <td>[{'name': '$DOGE'}, {'name': 'AAPL'}, {'name':...</td>\n",
       "      <td>[{'name': 'App Store'}, {'name': 'Apple App St...</td>\n",
       "    </tr>\n",
       "  </tbody>\n",
       "</table>\n",
       "</div>"
      ],
      "text/plain": [
       "                  date             author                          created  \\\n",
       "id                                                                           \n",
       "26001545.0  2022-03-04  Benzinga Newsdesk  Fri, 04 Mar 2022 16:51:01 -0400   \n",
       "25999924.0  2022-03-04        Chris Katje  Fri, 04 Mar 2022 17:22:37 -0400   \n",
       "26002401.0  2022-03-04    Henry Khederian  Fri, 04 Mar 2022 17:29:52 -0400   \n",
       "25994316.0  2022-03-04        Chris Katje  Fri, 04 Mar 2022 18:05:42 -0400   \n",
       "25984470.0  2022-03-04   Samyuktha Sriram  Fri, 04 Mar 2022 09:35:03 -0400   \n",
       "\n",
       "                                    updated  \\\n",
       "id                                            \n",
       "26001545.0  Fri, 04 Mar 2022 16:51:02 -0400   \n",
       "25999924.0  Fri, 04 Mar 2022 17:22:37 -0400   \n",
       "26002401.0  Fri, 04 Mar 2022 17:29:52 -0400   \n",
       "25994316.0  Fri, 04 Mar 2022 18:05:43 -0400   \n",
       "25984470.0  Sat, 05 Mar 2022 10:37:38 -0400   \n",
       "\n",
       "                                                        title  \\\n",
       "id                                                              \n",
       "26001545.0  NY Pension Chief Sends Letter To McDonald's, P...   \n",
       "25999924.0  The Next Jeopardy Or Wordle? Netflix Launching...   \n",
       "26002401.0  Markets Close Lower As Russia-Ukraine War Esca...   \n",
       "25994316.0  Here's How Much $100 In Dogecoin Could Be Wort...   \n",
       "25984470.0  Dogecoin Wallet Released For iOS, DOGE Co-Crea...   \n",
       "\n",
       "                                                       teaser  \\\n",
       "id                                                              \n",
       "26001545.0                                           -Reuters   \n",
       "25999924.0  Fans of Wordle or those who miss the daily liv...   \n",
       "26002401.0  U.S. indices traded lower after Russian forces...   \n",
       "25994316.0  One of the most popular cryptocurrencies took ...   \n",
       "25984470.0  A self-custodian Dogecoin (CRYPTO: DOGE) walle...   \n",
       "\n",
       "                                                         body  \\\n",
       "id                                                              \n",
       "26001545.0                                    <p>-Reuters</p>   \n",
       "25999924.0  <p>Fans of <strong>Wordle</strong> or those wh...   \n",
       "26002401.0  <p>U.S. indices traded lower after Russian for...   \n",
       "25994316.0  <p>One of the most popular cryptocurrencies to...   \n",
       "25984470.0  <p>A self-custodian <strong>Dogecoin </strong>...   \n",
       "\n",
       "                                                          url  \\\n",
       "id                                                              \n",
       "26001545.0  https://www.benzinga.com/news/22/03/26001545/n...   \n",
       "25999924.0  https://www.benzinga.com/general/entertainment...   \n",
       "26002401.0  https://www.benzinga.com/markets/cryptocurrenc...   \n",
       "25994316.0  https://www.benzinga.com/markets/cryptocurrenc...   \n",
       "25984470.0  https://www.benzinga.com/markets/cryptocurrenc...   \n",
       "\n",
       "                                                        image  \\\n",
       "id                                                              \n",
       "26001545.0                                                 []   \n",
       "25999924.0  [{'size': 'thumb', 'url': 'https://cdn.benzing...   \n",
       "26002401.0  [{'size': 'thumb', 'url': 'https://cdn.benzing...   \n",
       "25994316.0  [{'size': 'thumb', 'url': 'https://cdn.benzing...   \n",
       "25984470.0  [{'size': 'thumb', 'url': 'https://cdn.benzing...   \n",
       "\n",
       "                                                     channels  \\\n",
       "id                                                              \n",
       "26001545.0             [{'name': 'News'}, {'name': 'Rumors'}]   \n",
       "25999924.0  [{'name': 'Entertainment'}, {'name': 'News'}, ...   \n",
       "26002401.0  [{'name': 'News'}, {'name': 'After-Hours Cente...   \n",
       "25994316.0  [{'name': 'Cryptocurrency'}, {'name': 'Markets...   \n",
       "25984470.0  [{'name': 'Cryptocurrency'}, {'name': 'News'},...   \n",
       "\n",
       "                                                       stocks  \\\n",
       "id                                                              \n",
       "26001545.0  [{'name': 'EL'}, {'name': 'MCD'}, {'name': 'PE...   \n",
       "25999924.0                [{'name': 'NFLX'}, {'name': 'NYT'}]   \n",
       "26002401.0  [{'name': 'APTV'}, {'name': 'COST'}, {'name': ...   \n",
       "25994316.0  [{'name': '$DOGE'}, {'name': 'CMCSA'}, {'name'...   \n",
       "25984470.0  [{'name': '$DOGE'}, {'name': 'AAPL'}, {'name':...   \n",
       "\n",
       "                                                         tags  \n",
       "id                                                             \n",
       "26001545.0                                                 []  \n",
       "25999924.0  [{'name': 'HQ Trivia'}, {'name': 'Mobile Games...  \n",
       "26002401.0                                                 []  \n",
       "25994316.0  [{'name': 'Doge'}, {'name': 'dogecoin'}, {'nam...  \n",
       "25984470.0  [{'name': 'App Store'}, {'name': 'Apple App St...  "
      ]
     },
     "execution_count": 4,
     "metadata": {},
     "output_type": "execute_result"
    }
   ],
   "source": [
    "df.tail()"
   ]
  },
  {
   "cell_type": "code",
   "execution_count": 5,
   "id": "e9a28dcc-df52-45a9-9777-6800cd289821",
   "metadata": {},
   "outputs": [
    {
     "name": "stdout",
     "output_type": "stream",
     "text": [
      "<class 'pandas.core.frame.DataFrame'>\n",
      "Float64Index: 183667 entries, 74371.0 to 25984470.0\n",
      "Data columns (total 12 columns):\n",
      " #   Column    Non-Null Count   Dtype \n",
      "---  ------    --------------   ----- \n",
      " 0   date      183577 non-null  object\n",
      " 1   author    183657 non-null  object\n",
      " 2   created   183667 non-null  object\n",
      " 3   updated   183667 non-null  object\n",
      " 4   title     183655 non-null  object\n",
      " 5   teaser    25425 non-null   object\n",
      " 6   body      147535 non-null  object\n",
      " 7   url       183487 non-null  object\n",
      " 8   image     183487 non-null  object\n",
      " 9   channels  183487 non-null  object\n",
      " 10  stocks    183487 non-null  object\n",
      " 11  tags      183487 non-null  object\n",
      "dtypes: object(12)\n",
      "memory usage: 18.2+ MB\n"
     ]
    }
   ],
   "source": [
    "df.info()"
   ]
  },
  {
   "cell_type": "code",
   "execution_count": 6,
   "id": "eba718b2",
   "metadata": {},
   "outputs": [],
   "source": [
    "def has_ticker(stocks, ticker):\n",
    "    answer = False\n",
    "    \n",
    "    if ticker in stocks:\n",
    "        answer = True\n",
    "\n",
    "    return answer"
   ]
  },
  {
   "cell_type": "code",
   "execution_count": 7,
   "id": "198ae273",
   "metadata": {},
   "outputs": [],
   "source": [
    "data = [{\n",
    "    \"id\": 745326,\n",
    "    \"author\": \"Benzinga\",\n",
    "    \"created\": \"Mon, 03 Jan 2011 07:30:00 -0400\",\n",
    "    \"updated\": \"Mon, 03 Jan 2011 07:39:48 -0400\",\n",
    "    \"title\": \"Fidelity's Biggest Stock Picks Going Into 2011\",\n",
    "    \"teaser\": \"\",\n",
    "    \"body\": \"Included are Apple and Google. Absent are Netflix and F5 Networks.\",\n",
    "    \"url\": \"https://www.benzinga.com/node/745326\",\n",
    "    \"image\": [],\n",
    "    \"channels\": [],\n",
    "    \"stocks\": [\n",
    "        {\"name\": \"AAPL\"},\n",
    "        {\"name\": \"BRCM\"},\n",
    "        {\"name\": \"CRM\"},\n",
    "        {\"name\": \"EBAY\"},\n",
    "        {\"name\": \"GOOG\"},\n",
    "        {\"name\": \"ORCL\"},\n",
    "    ],\n",
    "    \"tags\": [],\n",
    "},\n",
    "{\n",
    "    \"id\": 745431,\n",
    "    \"author\": \"Benzinga\",\n",
    "    \"created\": \"Mon, 03 Jan 2011 08:00:00 -0400\",\n",
    "    \"updated\": \"Mon, 03 Jan 2011 08:12:23 -0400\",\n",
    "    \"title\": \"Even CEOs Need to Eat at CES\",\n",
    "    \"teaser\": \"\",\n",
    "    \"body\": \"Whether to woo clients or take a breather, Las Vegas has all the dining options you'll need during CES.\",\n",
    "    \"url\": \"https://www.benzinga.com/node/745431\",\n",
    "    \"image\": [],\n",
    "    \"channels\": [],\n",
    "    \"stocks\": [\n",
    "        {\"name\": \"LVS\"},\n",
    "        {\"name\": \"MGM\"},\n",
    "        {\"name\": \"MSFT\"},\n",
    "        {\"name\": \"NFLX\"},\n",
    "        {\"name\": \"WYNN\"},\n",
    "    ],\n",
    "    \"tags\": [],\n",
    "}]"
   ]
  },
  {
   "cell_type": "code",
   "execution_count": 8,
   "id": "d376ce7e",
   "metadata": {},
   "outputs": [],
   "source": [
    "df_test = pd.DataFrame(data).set_index(\"id\")"
   ]
  },
  {
   "cell_type": "code",
   "execution_count": 9,
   "id": "2e0c91b8",
   "metadata": {},
   "outputs": [],
   "source": [
    "df_test[\"AAPL\"] = df_test.apply(lambda x: has_ticker(str(x['stocks']), \"AAPL\"), axis=1)"
   ]
  },
  {
   "cell_type": "code",
   "execution_count": 10,
   "id": "45030009",
   "metadata": {},
   "outputs": [
    {
     "data": {
      "text/html": [
       "<div>\n",
       "<style scoped>\n",
       "    .dataframe tbody tr th:only-of-type {\n",
       "        vertical-align: middle;\n",
       "    }\n",
       "\n",
       "    .dataframe tbody tr th {\n",
       "        vertical-align: top;\n",
       "    }\n",
       "\n",
       "    .dataframe thead th {\n",
       "        text-align: right;\n",
       "    }\n",
       "</style>\n",
       "<table border=\"1\" class=\"dataframe\">\n",
       "  <thead>\n",
       "    <tr style=\"text-align: right;\">\n",
       "      <th></th>\n",
       "      <th>author</th>\n",
       "      <th>created</th>\n",
       "      <th>updated</th>\n",
       "      <th>title</th>\n",
       "      <th>teaser</th>\n",
       "      <th>body</th>\n",
       "      <th>url</th>\n",
       "      <th>image</th>\n",
       "      <th>channels</th>\n",
       "      <th>stocks</th>\n",
       "      <th>tags</th>\n",
       "      <th>AAPL</th>\n",
       "    </tr>\n",
       "    <tr>\n",
       "      <th>id</th>\n",
       "      <th></th>\n",
       "      <th></th>\n",
       "      <th></th>\n",
       "      <th></th>\n",
       "      <th></th>\n",
       "      <th></th>\n",
       "      <th></th>\n",
       "      <th></th>\n",
       "      <th></th>\n",
       "      <th></th>\n",
       "      <th></th>\n",
       "      <th></th>\n",
       "    </tr>\n",
       "  </thead>\n",
       "  <tbody>\n",
       "    <tr>\n",
       "      <th>745326</th>\n",
       "      <td>Benzinga</td>\n",
       "      <td>Mon, 03 Jan 2011 07:30:00 -0400</td>\n",
       "      <td>Mon, 03 Jan 2011 07:39:48 -0400</td>\n",
       "      <td>Fidelity's Biggest Stock Picks Going Into 2011</td>\n",
       "      <td></td>\n",
       "      <td>Included are Apple and Google. Absent are Netf...</td>\n",
       "      <td>https://www.benzinga.com/node/745326</td>\n",
       "      <td>[]</td>\n",
       "      <td>[]</td>\n",
       "      <td>[{'name': 'AAPL'}, {'name': 'BRCM'}, {'name': ...</td>\n",
       "      <td>[]</td>\n",
       "      <td>True</td>\n",
       "    </tr>\n",
       "    <tr>\n",
       "      <th>745431</th>\n",
       "      <td>Benzinga</td>\n",
       "      <td>Mon, 03 Jan 2011 08:00:00 -0400</td>\n",
       "      <td>Mon, 03 Jan 2011 08:12:23 -0400</td>\n",
       "      <td>Even CEOs Need to Eat at CES</td>\n",
       "      <td></td>\n",
       "      <td>Whether to woo clients or take a breather, Las...</td>\n",
       "      <td>https://www.benzinga.com/node/745431</td>\n",
       "      <td>[]</td>\n",
       "      <td>[]</td>\n",
       "      <td>[{'name': 'LVS'}, {'name': 'MGM'}, {'name': 'M...</td>\n",
       "      <td>[]</td>\n",
       "      <td>False</td>\n",
       "    </tr>\n",
       "  </tbody>\n",
       "</table>\n",
       "</div>"
      ],
      "text/plain": [
       "          author                          created  \\\n",
       "id                                                  \n",
       "745326  Benzinga  Mon, 03 Jan 2011 07:30:00 -0400   \n",
       "745431  Benzinga  Mon, 03 Jan 2011 08:00:00 -0400   \n",
       "\n",
       "                                updated  \\\n",
       "id                                        \n",
       "745326  Mon, 03 Jan 2011 07:39:48 -0400   \n",
       "745431  Mon, 03 Jan 2011 08:12:23 -0400   \n",
       "\n",
       "                                                 title teaser  \\\n",
       "id                                                              \n",
       "745326  Fidelity's Biggest Stock Picks Going Into 2011          \n",
       "745431                    Even CEOs Need to Eat at CES          \n",
       "\n",
       "                                                     body  \\\n",
       "id                                                          \n",
       "745326  Included are Apple and Google. Absent are Netf...   \n",
       "745431  Whether to woo clients or take a breather, Las...   \n",
       "\n",
       "                                         url image channels  \\\n",
       "id                                                            \n",
       "745326  https://www.benzinga.com/node/745326    []       []   \n",
       "745431  https://www.benzinga.com/node/745431    []       []   \n",
       "\n",
       "                                                   stocks tags   AAPL  \n",
       "id                                                                     \n",
       "745326  [{'name': 'AAPL'}, {'name': 'BRCM'}, {'name': ...   []   True  \n",
       "745431  [{'name': 'LVS'}, {'name': 'MGM'}, {'name': 'M...   []  False  "
      ]
     },
     "execution_count": 10,
     "metadata": {},
     "output_type": "execute_result"
    }
   ],
   "source": [
    "df_test.head()"
   ]
  },
  {
   "cell_type": "code",
   "execution_count": 11,
   "id": "a6b85347",
   "metadata": {},
   "outputs": [],
   "source": [
    "df[\"AAPL\"] = df.apply(lambda x: has_ticker(str(x['stocks']), \"AAPL\"), axis=1)\n",
    "df[\"MSFT\"] = df.apply(lambda x: has_ticker(str(x['stocks']), \"MSFT\"), axis=1)\n",
    "df[\"AMZN\"] = df.apply(lambda x: has_ticker(str(x['stocks']), \"AMZN\"), axis=1)\n",
    "df[\"FB\"] = df.apply(lambda x: has_ticker(str(x['stocks']), \"FB\"), axis=1)\n",
    "df[\"NVDA\"] = df.apply(lambda x: has_ticker(str(x['stocks']), \"NVDA\"), axis=1)\n",
    "df[\"INTC\"] = df.apply(lambda x: has_ticker(str(x['stocks']), \"INTC\"), axis=1)\n",
    "df[\"NFLX\"] = df.apply(lambda x: has_ticker(str(x['stocks']), \"NFLX\"), axis=1)"
   ]
  },
  {
   "cell_type": "code",
   "execution_count": 12,
   "id": "36148470",
   "metadata": {},
   "outputs": [
    {
     "data": {
      "text/plain": [
       "54582"
      ]
     },
     "execution_count": 12,
     "metadata": {},
     "output_type": "execute_result"
    }
   ],
   "source": [
    "df[df[\"AAPL\"]==True].shape[0]"
   ]
  },
  {
   "cell_type": "code",
   "execution_count": 13,
   "id": "37b9648b",
   "metadata": {},
   "outputs": [],
   "source": [
    "df_aapl = df[df[\"AAPL\"]==True]\n",
    "df_msft = df[df[\"MSFT\"]==True]\n",
    "df_amzn = df[df[\"AMZN\"]==True]\n",
    "df_fb = df[df[\"FB\"]==True]\n",
    "df_nvda = df[df[\"NVDA\"]==True]\n",
    "df_intc = df[df[\"INTC\"]==True]\n",
    "df_nflx = df[df[\"NFLX\"]==True]"
   ]
  },
  {
   "cell_type": "code",
   "execution_count": 14,
   "id": "977a2e50-ab73-49eb-9dba-e9383421ce4e",
   "metadata": {},
   "outputs": [
    {
     "data": {
      "text/plain": [
       "25505"
      ]
     },
     "execution_count": 14,
     "metadata": {},
     "output_type": "execute_result"
    }
   ],
   "source": [
    "df_aapl[df_aapl.index.duplicated(keep=\"first\")].shape[0]"
   ]
  },
  {
   "cell_type": "code",
   "execution_count": 15,
   "id": "074b2cc9",
   "metadata": {},
   "outputs": [
    {
     "data": {
      "text/plain": [
       "19677"
      ]
     },
     "execution_count": 15,
     "metadata": {},
     "output_type": "execute_result"
    }
   ],
   "source": [
    "df_aapl[~df_aapl.index.duplicated(keep=False)].shape[0]"
   ]
  },
  {
   "cell_type": "code",
   "execution_count": 16,
   "id": "b932af0d-0da8-4637-ba0b-87839c69f83c",
   "metadata": {},
   "outputs": [],
   "source": [
    "df_aapl_duplicates = df_aapl[df_aapl.index.duplicated(keep=False)].sort_index()"
   ]
  },
  {
   "cell_type": "code",
   "execution_count": 17,
   "id": "4aef444c-4e42-4efa-a121-5be789130817",
   "metadata": {},
   "outputs": [
    {
     "data": {
      "text/html": [
       "<div>\n",
       "<style scoped>\n",
       "    .dataframe tbody tr th:only-of-type {\n",
       "        vertical-align: middle;\n",
       "    }\n",
       "\n",
       "    .dataframe tbody tr th {\n",
       "        vertical-align: top;\n",
       "    }\n",
       "\n",
       "    .dataframe thead th {\n",
       "        text-align: right;\n",
       "    }\n",
       "</style>\n",
       "<table border=\"1\" class=\"dataframe\">\n",
       "  <thead>\n",
       "    <tr style=\"text-align: right;\">\n",
       "      <th></th>\n",
       "      <th>date</th>\n",
       "      <th>author</th>\n",
       "      <th>created</th>\n",
       "      <th>updated</th>\n",
       "      <th>title</th>\n",
       "      <th>teaser</th>\n",
       "      <th>body</th>\n",
       "      <th>url</th>\n",
       "      <th>image</th>\n",
       "      <th>channels</th>\n",
       "      <th>stocks</th>\n",
       "      <th>tags</th>\n",
       "      <th>AAPL</th>\n",
       "      <th>MSFT</th>\n",
       "      <th>AMZN</th>\n",
       "      <th>FB</th>\n",
       "      <th>NVDA</th>\n",
       "      <th>INTC</th>\n",
       "      <th>NFLX</th>\n",
       "    </tr>\n",
       "    <tr>\n",
       "      <th>id</th>\n",
       "      <th></th>\n",
       "      <th></th>\n",
       "      <th></th>\n",
       "      <th></th>\n",
       "      <th></th>\n",
       "      <th></th>\n",
       "      <th></th>\n",
       "      <th></th>\n",
       "      <th></th>\n",
       "      <th></th>\n",
       "      <th></th>\n",
       "      <th></th>\n",
       "      <th></th>\n",
       "      <th></th>\n",
       "      <th></th>\n",
       "      <th></th>\n",
       "      <th></th>\n",
       "      <th></th>\n",
       "      <th></th>\n",
       "    </tr>\n",
       "  </thead>\n",
       "  <tbody>\n",
       "    <tr>\n",
       "      <th>928138.0</th>\n",
       "      <td>2011-03-15</td>\n",
       "      <td>Benzinga</td>\n",
       "      <td>Tue, 15 Mar 2011 15:37:55 -0400</td>\n",
       "      <td>Tue, 15 Mar 2011 15:37:55 -0400</td>\n",
       "      <td>4 Enterprising Consumer Tech Gadgets</td>\n",
       "      <td>NaN</td>\n",
       "      <td>&lt;p&gt;(TheStreet) -- As smartphones and media-ric...</td>\n",
       "      <td>https://www.benzinga.com/node/928138</td>\n",
       "      <td>[]</td>\n",
       "      <td>[{'name': 'Entrepreneurship'}, {'name': 'Tech'...</td>\n",
       "      <td>[{'name': 'AAPL'}, {'name': 'SAP'}]</td>\n",
       "      <td>[{'name': 'Application Software'}, {'name': 'C...</td>\n",
       "      <td>True</td>\n",
       "      <td>False</td>\n",
       "      <td>False</td>\n",
       "      <td>False</td>\n",
       "      <td>False</td>\n",
       "      <td>False</td>\n",
       "      <td>False</td>\n",
       "    </tr>\n",
       "    <tr>\n",
       "      <th>928138.0</th>\n",
       "      <td>2011-03-15</td>\n",
       "      <td>Benzinga Staff</td>\n",
       "      <td>Tue, 15 Mar 2011 15:37:55 -0400</td>\n",
       "      <td>Mon, 29 Apr 2019 11:44:36 -0400</td>\n",
       "      <td>4 Enterprising Consumer Tech Gadgets</td>\n",
       "      <td>NaN</td>\n",
       "      <td>&lt;p&gt;(TheStreet) -- As smartphones and media-ric...</td>\n",
       "      <td>https://www.benzinga.com/node/928138</td>\n",
       "      <td>[]</td>\n",
       "      <td>[{'name': 'Entrepreneurship'}, {'name': 'Tech'...</td>\n",
       "      <td>[{'name': 'AAPL'}, {'name': 'SAP'}]</td>\n",
       "      <td>[]</td>\n",
       "      <td>True</td>\n",
       "      <td>False</td>\n",
       "      <td>False</td>\n",
       "      <td>False</td>\n",
       "      <td>False</td>\n",
       "      <td>False</td>\n",
       "      <td>False</td>\n",
       "    </tr>\n",
       "  </tbody>\n",
       "</table>\n",
       "</div>"
      ],
      "text/plain": [
       "                date          author                          created  \\\n",
       "id                                                                      \n",
       "928138.0  2011-03-15        Benzinga  Tue, 15 Mar 2011 15:37:55 -0400   \n",
       "928138.0  2011-03-15  Benzinga Staff  Tue, 15 Mar 2011 15:37:55 -0400   \n",
       "\n",
       "                                  updated  \\\n",
       "id                                          \n",
       "928138.0  Tue, 15 Mar 2011 15:37:55 -0400   \n",
       "928138.0  Mon, 29 Apr 2019 11:44:36 -0400   \n",
       "\n",
       "                                          title teaser  \\\n",
       "id                                                       \n",
       "928138.0  4 Enterprising Consumer Tech Gadgets     NaN   \n",
       "928138.0   4 Enterprising Consumer Tech Gadgets    NaN   \n",
       "\n",
       "                                                       body  \\\n",
       "id                                                            \n",
       "928138.0  <p>(TheStreet) -- As smartphones and media-ric...   \n",
       "928138.0  <p>(TheStreet) -- As smartphones and media-ric...   \n",
       "\n",
       "                                           url image  \\\n",
       "id                                                     \n",
       "928138.0  https://www.benzinga.com/node/928138    []   \n",
       "928138.0  https://www.benzinga.com/node/928138    []   \n",
       "\n",
       "                                                   channels  \\\n",
       "id                                                            \n",
       "928138.0  [{'name': 'Entrepreneurship'}, {'name': 'Tech'...   \n",
       "928138.0  [{'name': 'Entrepreneurship'}, {'name': 'Tech'...   \n",
       "\n",
       "                                       stocks  \\\n",
       "id                                              \n",
       "928138.0  [{'name': 'AAPL'}, {'name': 'SAP'}]   \n",
       "928138.0  [{'name': 'AAPL'}, {'name': 'SAP'}]   \n",
       "\n",
       "                                                       tags  AAPL   MSFT  \\\n",
       "id                                                                         \n",
       "928138.0  [{'name': 'Application Software'}, {'name': 'C...  True  False   \n",
       "928138.0                                                 []  True  False   \n",
       "\n",
       "           AMZN     FB   NVDA   INTC   NFLX  \n",
       "id                                           \n",
       "928138.0  False  False  False  False  False  \n",
       "928138.0  False  False  False  False  False  "
      ]
     },
     "execution_count": 17,
     "metadata": {},
     "output_type": "execute_result"
    }
   ],
   "source": [
    "df_aapl_duplicates.head(2)"
   ]
  },
  {
   "cell_type": "code",
   "execution_count": 18,
   "id": "4d50958b-94bf-4a47-9874-7d490f0d1779",
   "metadata": {},
   "outputs": [],
   "source": [
    "df_aapl_non_dupes = df_aapl[~df_aapl.index.duplicated(keep='first')].sort_index()\n",
    "df_msft_non_dupes = df_msft[~df_msft.index.duplicated(keep='first')].sort_index()\n",
    "df_amzn_non_dupes = df_amzn[~df_amzn.index.duplicated(keep='first')].sort_index()\n",
    "df_fb_non_dupes = df_fb[~df_fb.index.duplicated(keep='first')].sort_index()\n",
    "df_nvda_non_dupes = df_nvda[~df_nvda.index.duplicated(keep='first')].sort_index()\n",
    "df_intc_non_dupes = df_intc[~df_intc.index.duplicated(keep='first')].sort_index()\n",
    "df_nflx_non_dupes = df_nflx[~df_nflx.index.duplicated(keep='first')].sort_index()\n"
   ]
  },
  {
   "cell_type": "code",
   "execution_count": 19,
   "id": "09178e1c",
   "metadata": {},
   "outputs": [
    {
     "data": {
      "text/plain": [
       "True"
      ]
     },
     "execution_count": 19,
     "metadata": {},
     "output_type": "execute_result"
    }
   ],
   "source": [
    "df_aapl_non_dupes.index.is_unique"
   ]
  },
  {
   "cell_type": "code",
   "execution_count": 20,
   "id": "5f05bd8e",
   "metadata": {},
   "outputs": [
    {
     "data": {
      "text/plain": [
       "(29077, 19)"
      ]
     },
     "execution_count": 20,
     "metadata": {},
     "output_type": "execute_result"
    }
   ],
   "source": [
    "df_aapl_non_dupes.shape"
   ]
  },
  {
   "cell_type": "markdown",
   "id": "5f2da9fc",
   "metadata": {},
   "source": [
    "# Apple"
   ]
  },
  {
   "cell_type": "code",
   "execution_count": 21,
   "id": "943b911c",
   "metadata": {},
   "outputs": [],
   "source": [
    "df_aapl_groupedby_date = df_aapl_non_dupes.groupby('date').count()\n",
    "df_aapl_groupedby_date.reset_index(inplace=True)\n",
    "df_aapl_groupedby_date.set_index(\"date\", inplace=True)\n",
    "df_aapl_groupedby_date = df_aapl_groupedby_date[[\"AAPL\"]]"
   ]
  },
  {
   "cell_type": "code",
   "execution_count": 22,
   "id": "e802fa91",
   "metadata": {},
   "outputs": [
    {
     "data": {
      "text/html": [
       "<div>\n",
       "<style scoped>\n",
       "    .dataframe tbody tr th:only-of-type {\n",
       "        vertical-align: middle;\n",
       "    }\n",
       "\n",
       "    .dataframe tbody tr th {\n",
       "        vertical-align: top;\n",
       "    }\n",
       "\n",
       "    .dataframe thead th {\n",
       "        text-align: right;\n",
       "    }\n",
       "</style>\n",
       "<table border=\"1\" class=\"dataframe\">\n",
       "  <thead>\n",
       "    <tr style=\"text-align: right;\">\n",
       "      <th></th>\n",
       "      <th>AAPL</th>\n",
       "    </tr>\n",
       "  </thead>\n",
       "  <tbody>\n",
       "    <tr>\n",
       "      <th>count</th>\n",
       "      <td>3846.000000</td>\n",
       "    </tr>\n",
       "    <tr>\n",
       "      <th>mean</th>\n",
       "      <td>7.560322</td>\n",
       "    </tr>\n",
       "    <tr>\n",
       "      <th>std</th>\n",
       "      <td>7.054894</td>\n",
       "    </tr>\n",
       "    <tr>\n",
       "      <th>min</th>\n",
       "      <td>1.000000</td>\n",
       "    </tr>\n",
       "    <tr>\n",
       "      <th>25%</th>\n",
       "      <td>3.000000</td>\n",
       "    </tr>\n",
       "    <tr>\n",
       "      <th>50%</th>\n",
       "      <td>6.000000</td>\n",
       "    </tr>\n",
       "    <tr>\n",
       "      <th>75%</th>\n",
       "      <td>10.000000</td>\n",
       "    </tr>\n",
       "    <tr>\n",
       "      <th>max</th>\n",
       "      <td>85.000000</td>\n",
       "    </tr>\n",
       "  </tbody>\n",
       "</table>\n",
       "</div>"
      ],
      "text/plain": [
       "              AAPL\n",
       "count  3846.000000\n",
       "mean      7.560322\n",
       "std       7.054894\n",
       "min       1.000000\n",
       "25%       3.000000\n",
       "50%       6.000000\n",
       "75%      10.000000\n",
       "max      85.000000"
      ]
     },
     "execution_count": 22,
     "metadata": {},
     "output_type": "execute_result"
    }
   ],
   "source": [
    "df_aapl_groupedby_date.describe()"
   ]
  },
  {
   "cell_type": "code",
   "execution_count": 23,
   "id": "5a16cbb9",
   "metadata": {},
   "outputs": [
    {
     "data": {
      "image/png": "[encoded data removed]",
      "text/plain": [
       "<Figure size 1008x288 with 1 Axes>"
      ]
     },
     "metadata": {},
     "output_type": "display_data"
    }
   ],
   "source": [
    "ax = df_aapl_groupedby_date[\"AAPL\"].plot(title='Benzinga (AAPL)',\n",
    "           legend=True,\n",
    "           figsize=(14, 4),\n",
    "           rot=0)\n",
    "ax.set_xlabel('')\n",
    "ax.set_xticklabels(ax.get_xticklabels(),rotation = 45)\n",
    "sns.despine()"
   ]
  },
  {
   "cell_type": "markdown",
   "id": "f31175af",
   "metadata": {},
   "source": [
    "# Microsoft"
   ]
  },
  {
   "cell_type": "code",
   "execution_count": 24,
   "id": "943b911c",
   "metadata": {},
   "outputs": [],
   "source": [
    "df_msft_groupedby_date = df_msft_non_dupes.groupby('date').count()\n",
    "df_msft_groupedby_date.reset_index(inplace=True)\n",
    "df_msft_groupedby_date.set_index(\"date\", inplace=True)\n",
    "df_msft_groupedby_date = df_msft_groupedby_date[[\"MSFT\"]]"
   ]
  },
  {
   "cell_type": "code",
   "execution_count": 25,
   "id": "e8e18766",
   "metadata": {},
   "outputs": [
    {
     "data": {
      "text/html": [
       "<div>\n",
       "<style scoped>\n",
       "    .dataframe tbody tr th:only-of-type {\n",
       "        vertical-align: middle;\n",
       "    }\n",
       "\n",
       "    .dataframe tbody tr th {\n",
       "        vertical-align: top;\n",
       "    }\n",
       "\n",
       "    .dataframe thead th {\n",
       "        text-align: right;\n",
       "    }\n",
       "</style>\n",
       "<table border=\"1\" class=\"dataframe\">\n",
       "  <thead>\n",
       "    <tr style=\"text-align: right;\">\n",
       "      <th></th>\n",
       "      <th>MSFT</th>\n",
       "    </tr>\n",
       "  </thead>\n",
       "  <tbody>\n",
       "    <tr>\n",
       "      <th>count</th>\n",
       "      <td>3105.000000</td>\n",
       "    </tr>\n",
       "    <tr>\n",
       "      <th>mean</th>\n",
       "      <td>3.577134</td>\n",
       "    </tr>\n",
       "    <tr>\n",
       "      <th>std</th>\n",
       "      <td>3.258305</td>\n",
       "    </tr>\n",
       "    <tr>\n",
       "      <th>min</th>\n",
       "      <td>1.000000</td>\n",
       "    </tr>\n",
       "    <tr>\n",
       "      <th>25%</th>\n",
       "      <td>1.000000</td>\n",
       "    </tr>\n",
       "    <tr>\n",
       "      <th>50%</th>\n",
       "      <td>3.000000</td>\n",
       "    </tr>\n",
       "    <tr>\n",
       "      <th>75%</th>\n",
       "      <td>5.000000</td>\n",
       "    </tr>\n",
       "    <tr>\n",
       "      <th>max</th>\n",
       "      <td>32.000000</td>\n",
       "    </tr>\n",
       "  </tbody>\n",
       "</table>\n",
       "</div>"
      ],
      "text/plain": [
       "              MSFT\n",
       "count  3105.000000\n",
       "mean      3.577134\n",
       "std       3.258305\n",
       "min       1.000000\n",
       "25%       1.000000\n",
       "50%       3.000000\n",
       "75%       5.000000\n",
       "max      32.000000"
      ]
     },
     "execution_count": 25,
     "metadata": {},
     "output_type": "execute_result"
    }
   ],
   "source": [
    "df_msft_groupedby_date.describe()"
   ]
  },
  {
   "cell_type": "code",
   "execution_count": 26,
   "id": "6ab6b548",
   "metadata": {},
   "outputs": [
    {
     "data": {
      "image/png": "[encoded data removed]",
      "text/plain": [
       "<Figure size 1008x288 with 1 Axes>"
      ]
     },
     "metadata": {},
     "output_type": "display_data"
    }
   ],
   "source": [
    "ax = df_msft_groupedby_date[\"MSFT\"].plot(title='Benzinga (MSFT)',\n",
    "           legend=True,\n",
    "           figsize=(14, 4),\n",
    "           rot=0)\n",
    "ax.set_xlabel('')\n",
    "ax.set_xticklabels(ax.get_xticklabels(),rotation = 45)\n",
    "sns.despine()"
   ]
  },
  {
   "cell_type": "markdown",
   "id": "82b8c225",
   "metadata": {},
   "source": [
    "# Amazon"
   ]
  },
  {
   "cell_type": "code",
   "execution_count": 27,
   "id": "e04cc1ef",
   "metadata": {},
   "outputs": [],
   "source": [
    "df_amzn_groupedby_date = df_amzn_non_dupes.groupby('date').count()\n",
    "df_amzn_groupedby_date.reset_index(inplace=True)\n",
    "df_amzn_groupedby_date.set_index(\"date\", inplace=True)\n",
    "df_amzn_groupedby_date = df_amzn_groupedby_date[[\"AMZN\"]]"
   ]
  },
  {
   "cell_type": "code",
   "execution_count": 28,
   "id": "7997ad9d",
   "metadata": {},
   "outputs": [
    {
     "data": {
      "text/html": [
       "<div>\n",
       "<style scoped>\n",
       "    .dataframe tbody tr th:only-of-type {\n",
       "        vertical-align: middle;\n",
       "    }\n",
       "\n",
       "    .dataframe tbody tr th {\n",
       "        vertical-align: top;\n",
       "    }\n",
       "\n",
       "    .dataframe thead th {\n",
       "        text-align: right;\n",
       "    }\n",
       "</style>\n",
       "<table border=\"1\" class=\"dataframe\">\n",
       "  <thead>\n",
       "    <tr style=\"text-align: right;\">\n",
       "      <th></th>\n",
       "      <th>AMZN</th>\n",
       "    </tr>\n",
       "  </thead>\n",
       "  <tbody>\n",
       "    <tr>\n",
       "      <th>count</th>\n",
       "      <td>3376.000000</td>\n",
       "    </tr>\n",
       "    <tr>\n",
       "      <th>mean</th>\n",
       "      <td>4.724526</td>\n",
       "    </tr>\n",
       "    <tr>\n",
       "      <th>std</th>\n",
       "      <td>4.330351</td>\n",
       "    </tr>\n",
       "    <tr>\n",
       "      <th>min</th>\n",
       "      <td>1.000000</td>\n",
       "    </tr>\n",
       "    <tr>\n",
       "      <th>25%</th>\n",
       "      <td>2.000000</td>\n",
       "    </tr>\n",
       "    <tr>\n",
       "      <th>50%</th>\n",
       "      <td>4.000000</td>\n",
       "    </tr>\n",
       "    <tr>\n",
       "      <th>75%</th>\n",
       "      <td>6.000000</td>\n",
       "    </tr>\n",
       "    <tr>\n",
       "      <th>max</th>\n",
       "      <td>46.000000</td>\n",
       "    </tr>\n",
       "  </tbody>\n",
       "</table>\n",
       "</div>"
      ],
      "text/plain": [
       "              AMZN\n",
       "count  3376.000000\n",
       "mean      4.724526\n",
       "std       4.330351\n",
       "min       1.000000\n",
       "25%       2.000000\n",
       "50%       4.000000\n",
       "75%       6.000000\n",
       "max      46.000000"
      ]
     },
     "execution_count": 28,
     "metadata": {},
     "output_type": "execute_result"
    }
   ],
   "source": [
    "df_amzn_groupedby_date.describe()"
   ]
  },
  {
   "cell_type": "code",
   "execution_count": 29,
   "id": "00bca9cf",
   "metadata": {},
   "outputs": [
    {
     "data": {
      "image/png": "[encoded data removed]",
      "text/plain": [
       "<Figure size 1008x288 with 1 Axes>"
      ]
     },
     "metadata": {},
     "output_type": "display_data"
    }
   ],
   "source": [
    "ax = df_amzn_groupedby_date[\"AMZN\"].plot(title='Benzinga (AMZN)',\n",
    "           legend=True,\n",
    "           figsize=(14, 4),\n",
    "           rot=0)\n",
    "ax.set_xlabel('')\n",
    "ax.set_xticklabels(ax.get_xticklabels(),rotation = 45)\n",
    "sns.despine()"
   ]
  },
  {
   "cell_type": "markdown",
   "id": "d62bd207",
   "metadata": {},
   "source": [
    "# Facebook"
   ]
  },
  {
   "cell_type": "code",
   "execution_count": 30,
   "id": "1ce17389",
   "metadata": {},
   "outputs": [],
   "source": [
    "df_fb_groupedby_date = df_fb_non_dupes.groupby('date').count()\n",
    "df_fb_groupedby_date.reset_index(inplace=True)\n",
    "df_fb_groupedby_date.set_index(\"date\", inplace=True)\n",
    "df_fb_groupedby_date = df_fb_groupedby_date[[\"FB\"]]"
   ]
  },
  {
   "cell_type": "code",
   "execution_count": 31,
   "id": "ddc6187b",
   "metadata": {},
   "outputs": [
    {
     "data": {
      "text/html": [
       "<div>\n",
       "<style scoped>\n",
       "    .dataframe tbody tr th:only-of-type {\n",
       "        vertical-align: middle;\n",
       "    }\n",
       "\n",
       "    .dataframe tbody tr th {\n",
       "        vertical-align: top;\n",
       "    }\n",
       "\n",
       "    .dataframe thead th {\n",
       "        text-align: right;\n",
       "    }\n",
       "</style>\n",
       "<table border=\"1\" class=\"dataframe\">\n",
       "  <thead>\n",
       "    <tr style=\"text-align: right;\">\n",
       "      <th></th>\n",
       "      <th>FB</th>\n",
       "    </tr>\n",
       "  </thead>\n",
       "  <tbody>\n",
       "    <tr>\n",
       "      <th>count</th>\n",
       "      <td>2782.000000</td>\n",
       "    </tr>\n",
       "    <tr>\n",
       "      <th>mean</th>\n",
       "      <td>4.455068</td>\n",
       "    </tr>\n",
       "    <tr>\n",
       "      <th>std</th>\n",
       "      <td>4.597651</td>\n",
       "    </tr>\n",
       "    <tr>\n",
       "      <th>min</th>\n",
       "      <td>1.000000</td>\n",
       "    </tr>\n",
       "    <tr>\n",
       "      <th>25%</th>\n",
       "      <td>2.000000</td>\n",
       "    </tr>\n",
       "    <tr>\n",
       "      <th>50%</th>\n",
       "      <td>3.000000</td>\n",
       "    </tr>\n",
       "    <tr>\n",
       "      <th>75%</th>\n",
       "      <td>6.000000</td>\n",
       "    </tr>\n",
       "    <tr>\n",
       "      <th>max</th>\n",
       "      <td>65.000000</td>\n",
       "    </tr>\n",
       "  </tbody>\n",
       "</table>\n",
       "</div>"
      ],
      "text/plain": [
       "                FB\n",
       "count  2782.000000\n",
       "mean      4.455068\n",
       "std       4.597651\n",
       "min       1.000000\n",
       "25%       2.000000\n",
       "50%       3.000000\n",
       "75%       6.000000\n",
       "max      65.000000"
      ]
     },
     "execution_count": 31,
     "metadata": {},
     "output_type": "execute_result"
    }
   ],
   "source": [
    "df_fb_groupedby_date.describe()"
   ]
  },
  {
   "cell_type": "code",
   "execution_count": 32,
   "id": "9edde36e",
   "metadata": {},
   "outputs": [
    {
     "data": {
      "image/png": "[encoded data removed]",
      "text/plain": [
       "<Figure size 1008x288 with 1 Axes>"
      ]
     },
     "metadata": {},
     "output_type": "display_data"
    }
   ],
   "source": [
    "ax = df_fb_groupedby_date[\"FB\"].plot(title='Benzinga (Facebook)',\n",
    "           legend=True,\n",
    "           figsize=(14, 4),\n",
    "           rot=0)\n",
    "ax.set_xlabel('')\n",
    "ax.set_xticklabels(ax.get_xticklabels(),rotation = 45)\n",
    "sns.despine()"
   ]
  },
  {
   "cell_type": "markdown",
   "id": "b5110b8d",
   "metadata": {},
   "source": [
    "# NVIDIA"
   ]
  },
  {
   "cell_type": "code",
   "execution_count": 33,
   "id": "373cbefd",
   "metadata": {},
   "outputs": [],
   "source": [
    "df_nvda_groupedby_date = df_nvda_non_dupes.groupby('date').count()\n",
    "df_nvda_groupedby_date.reset_index(inplace=True)\n",
    "df_nvda_groupedby_date.set_index(\"date\", inplace=True)\n",
    "df_nvda_groupedby_date = df_nvda_groupedby_date[[\"NVDA\"]]"
   ]
  },
  {
   "cell_type": "code",
   "execution_count": 34,
   "id": "3cd88857",
   "metadata": {},
   "outputs": [
    {
     "data": {
      "text/html": [
       "<div>\n",
       "<style scoped>\n",
       "    .dataframe tbody tr th:only-of-type {\n",
       "        vertical-align: middle;\n",
       "    }\n",
       "\n",
       "    .dataframe tbody tr th {\n",
       "        vertical-align: top;\n",
       "    }\n",
       "\n",
       "    .dataframe thead th {\n",
       "        text-align: right;\n",
       "    }\n",
       "</style>\n",
       "<table border=\"1\" class=\"dataframe\">\n",
       "  <thead>\n",
       "    <tr style=\"text-align: right;\">\n",
       "      <th></th>\n",
       "      <th>NVDA</th>\n",
       "    </tr>\n",
       "  </thead>\n",
       "  <tbody>\n",
       "    <tr>\n",
       "      <th>count</th>\n",
       "      <td>1721.000000</td>\n",
       "    </tr>\n",
       "    <tr>\n",
       "      <th>mean</th>\n",
       "      <td>2.904126</td>\n",
       "    </tr>\n",
       "    <tr>\n",
       "      <th>std</th>\n",
       "      <td>3.326006</td>\n",
       "    </tr>\n",
       "    <tr>\n",
       "      <th>min</th>\n",
       "      <td>1.000000</td>\n",
       "    </tr>\n",
       "    <tr>\n",
       "      <th>25%</th>\n",
       "      <td>1.000000</td>\n",
       "    </tr>\n",
       "    <tr>\n",
       "      <th>50%</th>\n",
       "      <td>2.000000</td>\n",
       "    </tr>\n",
       "    <tr>\n",
       "      <th>75%</th>\n",
       "      <td>3.000000</td>\n",
       "    </tr>\n",
       "    <tr>\n",
       "      <th>max</th>\n",
       "      <td>33.000000</td>\n",
       "    </tr>\n",
       "  </tbody>\n",
       "</table>\n",
       "</div>"
      ],
      "text/plain": [
       "              NVDA\n",
       "count  1721.000000\n",
       "mean      2.904126\n",
       "std       3.326006\n",
       "min       1.000000\n",
       "25%       1.000000\n",
       "50%       2.000000\n",
       "75%       3.000000\n",
       "max      33.000000"
      ]
     },
     "execution_count": 34,
     "metadata": {},
     "output_type": "execute_result"
    }
   ],
   "source": [
    "df_nvda_groupedby_date.describe()"
   ]
  },
  {
   "cell_type": "code",
   "execution_count": 35,
   "id": "60b75c4b",
   "metadata": {},
   "outputs": [
    {
     "data": {
      "image/png": "[encoded data removed]",
      "text/plain": [
       "<Figure size 1008x288 with 1 Axes>"
      ]
     },
     "metadata": {},
     "output_type": "display_data"
    }
   ],
   "source": [
    "ax = df_nvda_groupedby_date[\"NVDA\"].plot(title='Benzinga (NVIDIA)',\n",
    "           legend=True,\n",
    "           figsize=(14, 4),\n",
    "           rot=0)\n",
    "ax.set_xlabel('')\n",
    "ax.set_xticklabels(ax.get_xticklabels(),rotation = 45)\n",
    "sns.despine()"
   ]
  },
  {
   "cell_type": "markdown",
   "id": "2544917f",
   "metadata": {},
   "source": [
    "# Intel"
   ]
  },
  {
   "cell_type": "code",
   "execution_count": 36,
   "id": "a5605d07",
   "metadata": {},
   "outputs": [],
   "source": [
    "df_intc_groupedby_date = df_intc_non_dupes.groupby('date').count()\n",
    "df_intc_groupedby_date.reset_index(inplace=True)\n",
    "df_intc_groupedby_date.set_index(\"date\", inplace=True)\n",
    "df_intc_groupedby_date = df_intc_groupedby_date[[\"INTC\"]]"
   ]
  },
  {
   "cell_type": "code",
   "execution_count": 37,
   "id": "3875150c",
   "metadata": {},
   "outputs": [
    {
     "data": {
      "text/html": [
       "<div>\n",
       "<style scoped>\n",
       "    .dataframe tbody tr th:only-of-type {\n",
       "        vertical-align: middle;\n",
       "    }\n",
       "\n",
       "    .dataframe tbody tr th {\n",
       "        vertical-align: top;\n",
       "    }\n",
       "\n",
       "    .dataframe thead th {\n",
       "        text-align: right;\n",
       "    }\n",
       "</style>\n",
       "<table border=\"1\" class=\"dataframe\">\n",
       "  <thead>\n",
       "    <tr style=\"text-align: right;\">\n",
       "      <th></th>\n",
       "      <th>INTC</th>\n",
       "    </tr>\n",
       "  </thead>\n",
       "  <tbody>\n",
       "    <tr>\n",
       "      <th>count</th>\n",
       "      <td>2359.000000</td>\n",
       "    </tr>\n",
       "    <tr>\n",
       "      <th>mean</th>\n",
       "      <td>2.759220</td>\n",
       "    </tr>\n",
       "    <tr>\n",
       "      <th>std</th>\n",
       "      <td>3.343574</td>\n",
       "    </tr>\n",
       "    <tr>\n",
       "      <th>min</th>\n",
       "      <td>1.000000</td>\n",
       "    </tr>\n",
       "    <tr>\n",
       "      <th>25%</th>\n",
       "      <td>1.000000</td>\n",
       "    </tr>\n",
       "    <tr>\n",
       "      <th>50%</th>\n",
       "      <td>2.000000</td>\n",
       "    </tr>\n",
       "    <tr>\n",
       "      <th>75%</th>\n",
       "      <td>3.000000</td>\n",
       "    </tr>\n",
       "    <tr>\n",
       "      <th>max</th>\n",
       "      <td>42.000000</td>\n",
       "    </tr>\n",
       "  </tbody>\n",
       "</table>\n",
       "</div>"
      ],
      "text/plain": [
       "              INTC\n",
       "count  2359.000000\n",
       "mean      2.759220\n",
       "std       3.343574\n",
       "min       1.000000\n",
       "25%       1.000000\n",
       "50%       2.000000\n",
       "75%       3.000000\n",
       "max      42.000000"
      ]
     },
     "execution_count": 37,
     "metadata": {},
     "output_type": "execute_result"
    }
   ],
   "source": [
    "df_intc_groupedby_date.describe()"
   ]
  },
  {
   "cell_type": "code",
   "execution_count": 38,
   "id": "9c302d3e",
   "metadata": {},
   "outputs": [
    {
     "data": {
      "image/png": "[encoded data removed]",
      "text/plain": [
       "<Figure size 1008x288 with 1 Axes>"
      ]
     },
     "metadata": {},
     "output_type": "display_data"
    }
   ],
   "source": [
    "ax = df_intc_groupedby_date[\"INTC\"].plot(title='Benzinga (Intel)',\n",
    "           legend=True,\n",
    "           figsize=(14, 4),\n",
    "           rot=0)\n",
    "ax.set_xlabel('')\n",
    "ax.set_xticklabels(ax.get_xticklabels(),rotation = 45)\n",
    "sns.despine()"
   ]
  },
  {
   "cell_type": "code",
   "execution_count": 44,
   "id": "c84ca08e",
   "metadata": {},
   "outputs": [],
   "source": [
    "df_aapl_non_dupes.to_csv(csv_path + \"aapl_non_dupes.csv\", index=False)"
   ]
  },
  {
   "cell_type": "code",
   "execution_count": 48,
   "id": "7512d552",
   "metadata": {},
   "outputs": [],
   "source": [
    "df_aapl_non_dupes_test = pd.read_csv(csv_path + \"aapl_non_dupes.csv\", low_memory=False)"
   ]
  },
  {
   "cell_type": "code",
   "execution_count": 50,
   "id": "8b535e17",
   "metadata": {},
   "outputs": [
    {
     "data": {
      "text/html": [
       "<div>\n",
       "<style scoped>\n",
       "    .dataframe tbody tr th:only-of-type {\n",
       "        vertical-align: middle;\n",
       "    }\n",
       "\n",
       "    .dataframe tbody tr th {\n",
       "        vertical-align: top;\n",
       "    }\n",
       "\n",
       "    .dataframe thead th {\n",
       "        text-align: right;\n",
       "    }\n",
       "</style>\n",
       "<table border=\"1\" class=\"dataframe\">\n",
       "  <thead>\n",
       "    <tr style=\"text-align: right;\">\n",
       "      <th></th>\n",
       "      <th>date</th>\n",
       "      <th>author</th>\n",
       "      <th>created</th>\n",
       "      <th>updated</th>\n",
       "      <th>title</th>\n",
       "      <th>teaser</th>\n",
       "      <th>body</th>\n",
       "      <th>url</th>\n",
       "      <th>image</th>\n",
       "      <th>channels</th>\n",
       "      <th>stocks</th>\n",
       "      <th>tags</th>\n",
       "      <th>AAPL</th>\n",
       "      <th>MSFT</th>\n",
       "      <th>AMZN</th>\n",
       "      <th>FB</th>\n",
       "      <th>NVDA</th>\n",
       "      <th>INTC</th>\n",
       "      <th>NFLX</th>\n",
       "    </tr>\n",
       "  </thead>\n",
       "  <tbody>\n",
       "    <tr>\n",
       "      <th>0</th>\n",
       "      <td>2010-01-02</td>\n",
       "      <td>Benzinga</td>\n",
       "      <td>Sat, 02 Jan 2010 22:47:49 -0400</td>\n",
       "      <td>Mon, 04 Jan 2010 17:23:32 -0400</td>\n",
       "      <td>Time to Sell Apple Puts</td>\n",
       "      <td>NaN</td>\n",
       "      <td>In case you missed the meteoric run in Apple (...</td>\n",
       "      <td>https://www.benzinga.com/node/74385</td>\n",
       "      <td>[]</td>\n",
       "      <td>[{'name': 'Long Ideas'}, {'name': 'Upgrades'},...</td>\n",
       "      <td>[{'name': 'AAPL'}]</td>\n",
       "      <td>[{'name': 'Steve Jobs'}]</td>\n",
       "      <td>True</td>\n",
       "      <td>False</td>\n",
       "      <td>False</td>\n",
       "      <td>False</td>\n",
       "      <td>False</td>\n",
       "      <td>False</td>\n",
       "      <td>False</td>\n",
       "    </tr>\n",
       "    <tr>\n",
       "      <th>1</th>\n",
       "      <td>2010-01-04</td>\n",
       "      <td>Benzinga</td>\n",
       "      <td>Mon, 04 Jan 2010 09:45:06 -0400</td>\n",
       "      <td>Mon, 04 Jan 2010 12:31:34 -0400</td>\n",
       "      <td>Nexus – Will It Change Telecom Industry Dynami...</td>\n",
       "      <td>NaN</td>\n",
       "      <td>Google’s (NASDAQ: &lt;a class=\"ticker\" href=\"/sto...</td>\n",
       "      <td>https://www.benzinga.com/node/74734</td>\n",
       "      <td>[]</td>\n",
       "      <td>[{'name': 'Earnings'}, {'name': 'News'}, {'nam...</td>\n",
       "      <td>[{'name': 'AAPL'}, {'name': 'GOOG'}, {'name': ...</td>\n",
       "      <td>[]</td>\n",
       "      <td>True</td>\n",
       "      <td>False</td>\n",
       "      <td>False</td>\n",
       "      <td>False</td>\n",
       "      <td>False</td>\n",
       "      <td>False</td>\n",
       "      <td>False</td>\n",
       "    </tr>\n",
       "    <tr>\n",
       "      <th>2</th>\n",
       "      <td>2010-01-04</td>\n",
       "      <td>Benzinga</td>\n",
       "      <td>Mon, 04 Jan 2010 10:07:48 -0400</td>\n",
       "      <td>Tue, 05 Jan 2010 10:02:03 -0400</td>\n",
       "      <td>Company News for January 04, 2010 - Corporate ...</td>\n",
       "      <td>NaN</td>\n",
       "      <td>&lt;p align=\"justify\"&gt;• European shares are up on...</td>\n",
       "      <td>https://www.benzinga.com/node/74823</td>\n",
       "      <td>[]</td>\n",
       "      <td>[]</td>\n",
       "      <td>[{'name': 'AAPL'}, {'name': 'ACL'}, {'name': '...</td>\n",
       "      <td>[{'name': 'Broadcasting &amp; Cable TV'}, {'name':...</td>\n",
       "      <td>True</td>\n",
       "      <td>False</td>\n",
       "      <td>False</td>\n",
       "      <td>False</td>\n",
       "      <td>False</td>\n",
       "      <td>False</td>\n",
       "      <td>False</td>\n",
       "    </tr>\n",
       "    <tr>\n",
       "      <th>3</th>\n",
       "      <td>2010-01-04</td>\n",
       "      <td>Benzinga</td>\n",
       "      <td>Mon, 04 Jan 2010 11:03:20 -0400</td>\n",
       "      <td>Mon, 04 Jan 2010 11:46:49 -0400</td>\n",
       "      <td>Technology Industry Update (DELL, AAPL, AMD, I...</td>\n",
       "      <td>NaN</td>\n",
       "      <td>Oppenheimer has released its latest report on ...</td>\n",
       "      <td>https://www.benzinga.com/node/74901</td>\n",
       "      <td>[]</td>\n",
       "      <td>[{'name': 'News'}, {'name': 'Markets'}, {'name...</td>\n",
       "      <td>[{'name': 'AAPL'}, {'name': 'AMD'}, {'name': '...</td>\n",
       "      <td>[{'name': 'Oppenheimer'}]</td>\n",
       "      <td>True</td>\n",
       "      <td>False</td>\n",
       "      <td>False</td>\n",
       "      <td>False</td>\n",
       "      <td>False</td>\n",
       "      <td>True</td>\n",
       "      <td>False</td>\n",
       "    </tr>\n",
       "    <tr>\n",
       "      <th>4</th>\n",
       "      <td>2010-01-04</td>\n",
       "      <td>Benzinga</td>\n",
       "      <td>Mon, 04 Jan 2010 11:40:28 -0400</td>\n",
       "      <td>Mon, 04 Jan 2010 17:21:30 -0400</td>\n",
       "      <td>Apple Defies Gravity</td>\n",
       "      <td>NaN</td>\n",
       "      <td>Apple (NASDAQ: AAPL) aficionados have been wai...</td>\n",
       "      <td>https://www.benzinga.com/node/74945</td>\n",
       "      <td>[]</td>\n",
       "      <td>[{'name': 'Options'}, {'name': 'Markets'}, {'n...</td>\n",
       "      <td>[{'name': 'AAPL'}]</td>\n",
       "      <td>[]</td>\n",
       "      <td>True</td>\n",
       "      <td>False</td>\n",
       "      <td>False</td>\n",
       "      <td>False</td>\n",
       "      <td>False</td>\n",
       "      <td>False</td>\n",
       "      <td>False</td>\n",
       "    </tr>\n",
       "  </tbody>\n",
       "</table>\n",
       "</div>"
      ],
      "text/plain": [
       "         date    author                          created  \\\n",
       "0  2010-01-02  Benzinga  Sat, 02 Jan 2010 22:47:49 -0400   \n",
       "1  2010-01-04  Benzinga  Mon, 04 Jan 2010 09:45:06 -0400   \n",
       "2  2010-01-04  Benzinga  Mon, 04 Jan 2010 10:07:48 -0400   \n",
       "3  2010-01-04  Benzinga  Mon, 04 Jan 2010 11:03:20 -0400   \n",
       "4  2010-01-04  Benzinga  Mon, 04 Jan 2010 11:40:28 -0400   \n",
       "\n",
       "                           updated  \\\n",
       "0  Mon, 04 Jan 2010 17:23:32 -0400   \n",
       "1  Mon, 04 Jan 2010 12:31:34 -0400   \n",
       "2  Tue, 05 Jan 2010 10:02:03 -0400   \n",
       "3  Mon, 04 Jan 2010 11:46:49 -0400   \n",
       "4  Mon, 04 Jan 2010 17:21:30 -0400   \n",
       "\n",
       "                                               title teaser  \\\n",
       "0                            Time to Sell Apple Puts    NaN   \n",
       "1  Nexus – Will It Change Telecom Industry Dynami...    NaN   \n",
       "2  Company News for January 04, 2010 - Corporate ...    NaN   \n",
       "3  Technology Industry Update (DELL, AAPL, AMD, I...    NaN   \n",
       "4                               Apple Defies Gravity    NaN   \n",
       "\n",
       "                                                body  \\\n",
       "0  In case you missed the meteoric run in Apple (...   \n",
       "1  Google’s (NASDAQ: <a class=\"ticker\" href=\"/sto...   \n",
       "2  <p align=\"justify\">• European shares are up on...   \n",
       "3  Oppenheimer has released its latest report on ...   \n",
       "4  Apple (NASDAQ: AAPL) aficionados have been wai...   \n",
       "\n",
       "                                   url image  \\\n",
       "0  https://www.benzinga.com/node/74385    []   \n",
       "1  https://www.benzinga.com/node/74734    []   \n",
       "2  https://www.benzinga.com/node/74823    []   \n",
       "3  https://www.benzinga.com/node/74901    []   \n",
       "4  https://www.benzinga.com/node/74945    []   \n",
       "\n",
       "                                            channels  \\\n",
       "0  [{'name': 'Long Ideas'}, {'name': 'Upgrades'},...   \n",
       "1  [{'name': 'Earnings'}, {'name': 'News'}, {'nam...   \n",
       "2                                                 []   \n",
       "3  [{'name': 'News'}, {'name': 'Markets'}, {'name...   \n",
       "4  [{'name': 'Options'}, {'name': 'Markets'}, {'n...   \n",
       "\n",
       "                                              stocks  \\\n",
       "0                                 [{'name': 'AAPL'}]   \n",
       "1  [{'name': 'AAPL'}, {'name': 'GOOG'}, {'name': ...   \n",
       "2  [{'name': 'AAPL'}, {'name': 'ACL'}, {'name': '...   \n",
       "3  [{'name': 'AAPL'}, {'name': 'AMD'}, {'name': '...   \n",
       "4                                 [{'name': 'AAPL'}]   \n",
       "\n",
       "                                                tags  AAPL   MSFT   AMZN  \\\n",
       "0                           [{'name': 'Steve Jobs'}]  True  False  False   \n",
       "1                                                 []  True  False  False   \n",
       "2  [{'name': 'Broadcasting & Cable TV'}, {'name':...  True  False  False   \n",
       "3                          [{'name': 'Oppenheimer'}]  True  False  False   \n",
       "4                                                 []  True  False  False   \n",
       "\n",
       "      FB   NVDA   INTC   NFLX  \n",
       "0  False  False  False  False  \n",
       "1  False  False  False  False  \n",
       "2  False  False  False  False  \n",
       "3  False  False   True  False  \n",
       "4  False  False  False  False  "
      ]
     },
     "execution_count": 50,
     "metadata": {},
     "output_type": "execute_result"
    }
   ],
   "source": [
    "df_aapl_non_dupes_test.head()"
   ]
  },
  {
   "cell_type": "code",
   "execution_count": 43,
   "id": "8189d3a6",
   "metadata": {},
   "outputs": [
    {
     "name": "stdout",
     "output_type": "stream",
     "text": [
      "<class 'pandas.core.frame.DataFrame'>\n",
      "Float64Index: 29077 entries, 74385.0 to 25998517.0\n",
      "Data columns (total 19 columns):\n",
      " #   Column    Non-Null Count  Dtype \n",
      "---  ------    --------------  ----- \n",
      " 0   date      29077 non-null  object\n",
      " 1   author    29077 non-null  object\n",
      " 2   created   29077 non-null  object\n",
      " 3   updated   29077 non-null  object\n",
      " 4   title     29077 non-null  object\n",
      " 5   teaser    4824 non-null   object\n",
      " 6   body      23916 non-null  object\n",
      " 7   url       29077 non-null  object\n",
      " 8   image     29077 non-null  object\n",
      " 9   channels  29077 non-null  object\n",
      " 10  stocks    29077 non-null  object\n",
      " 11  tags      29077 non-null  object\n",
      " 12  AAPL      29077 non-null  bool  \n",
      " 13  MSFT      29077 non-null  bool  \n",
      " 14  AMZN      29077 non-null  bool  \n",
      " 15  FB        29077 non-null  bool  \n",
      " 16  NVDA      29077 non-null  bool  \n",
      " 17  INTC      29077 non-null  bool  \n",
      " 18  NFLX      29077 non-null  bool  \n",
      "dtypes: bool(7), object(12)\n",
      "memory usage: 4.1+ MB\n"
     ]
    }
   ],
   "source": [
    "df_aapl_non_dupes.info()"
   ]
  },
  {
   "cell_type": "code",
   "execution_count": 40,
   "id": "bcdc78cf",
   "metadata": {},
   "outputs": [
    {
     "data": {
      "text/plain": [
       "'Apple Inc. (AAPL) Maintains A Buy Rating'"
      ]
     },
     "execution_count": 40,
     "metadata": {},
     "output_type": "execute_result"
    }
   ],
   "source": [
    "df_aapl_non_dupes.iloc[5][\"title\"]"
   ]
  },
  {
   "cell_type": "code",
   "execution_count": 41,
   "id": "ae8ed850",
   "metadata": {},
   "outputs": [
    {
     "data": {
      "text/plain": [
       "'Analysts at CLSA Asia-Pacific Markets have maintained a Buy rating for Apple Inc. (NASDAQ: <a class=\"ticker\" href=\"/stock/aapl#NASDAQ\">AAPL</a>). Analysts have set a 12 month price target of $260 for Apple. \\r\\n\\r\\nApple shares have rallied 10% over the past two weeks on the anticipation of a major product announcement. Analysts feel that the rally is impressive considering the facts that, one, Google Inc. (NASDAQ: <a class=\"ticker\" href=\"/stock/goog#NASDAQ\">GOOG</a>) is planning its own branded phone, two, potential revamp of the iTunes business model and three, a brief wireless network interruptions resulting in rising data usage rates.\\r\\n\\r\\nAnalysts believe that this week’s Consumer Electronic Show will be a test for Apple as competitors would take advantage of Apple’s absence with announcements of new products. Analysts have not included the announcement of the much anticipated tablet product in their estimates. However analysts feel that the anticipation of a product announcement will further build into the stock price over the next few weeks. \\r\\n\\r\\nAnalysts at CLSA estimate that every 1 million units of a new tablet product could initially be worth at least $0.20-$0.25 to annualized EPS.'"
      ]
     },
     "execution_count": 41,
     "metadata": {},
     "output_type": "execute_result"
    }
   ],
   "source": [
    "df_aapl_non_dupes.iloc[5][\"body\"]"
   ]
  }
 ],
 "metadata": {
  "kernelspec": {
   "display_name": "Python 3",
   "language": "python",
   "name": "python3"
  }
 },
 "nbformat": 4,
 "nbformat_minor": 5
}
