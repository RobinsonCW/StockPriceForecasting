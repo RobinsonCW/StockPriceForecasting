{
 "cells": [
  {
   "cell_type": "markdown",
   "metadata": {},
   "source": [
    "https://docs.benzinga.io/benzinga/newsfeed-v2.html"
   ]
  },
  {
   "cell_type": "code",
   "execution_count": 3,
   "metadata": {},
   "outputs": [],
   "source": [
    "import os\n",
    "import pathlib\n",
    "import time\n",
    "import json\n",
    "from dotenv import load_dotenv\n",
    "load_dotenv()  # take environment variables from .env\n",
    "\n",
    "from benzinga import news_data"
   ]
  },
  {
   "cell_type": "code",
   "execution_count": 4,
   "metadata": {},
   "outputs": [],
   "source": [
    "from datetime import date, timedelta\n",
    "\n",
    "def date_range(start_date, end_date):\n",
    "    delta = end_date - start_date  # as timedelta\n",
    "    days = [(start_date + timedelta(days=i)).strftime(\"%Y-%m-%d\") for i in range(delta.days + 1)]\n",
    "    return days # YYYY-MM-DD\n",
    "\n",
    "start_date = date(2022, 1, 1)\n",
    "end_date = date(2022, 2, 14)\n"
   ]
  },
  {
   "cell_type": "code",
   "execution_count": 5,
   "metadata": {},
   "outputs": [],
   "source": [
    "date_list = date_range(start_date, end_date)"
   ]
  },
  {
   "cell_type": "code",
   "execution_count": 7,
   "metadata": {},
   "outputs": [
    {
     "data": {
      "text/plain": [
       "'2022-02-14'"
      ]
     },
     "execution_count": 7,
     "metadata": {},
     "output_type": "execute_result"
    }
   ],
   "source": [
    "date_list[-1]"
   ]
  },
  {
   "cell_type": "markdown",
   "metadata": {},
   "source": [
    "# Configuration"
   ]
  },
  {
   "cell_type": "code",
   "execution_count": 8,
   "metadata": {},
   "outputs": [],
   "source": [
    "config = {\n",
    "    \"benzinga\": {\n",
    "        \"key\": os.environ.get(\"API_KEY\"), # Claim your free API key here: https://www.alphavantage.co/support/#api-key\n",
    "    }\n",
    "}"
   ]
  },
  {
   "cell_type": "code",
   "execution_count": 9,
   "metadata": {},
   "outputs": [],
   "source": [
    "ticker = \"AAPL,MSFT,AMZN,FB,GOOG,GOOGL,TSLA,NVDA,PYPL,ASML,INTC,CMCSA,NFLX,ADBE,CSCO,PEP,AVGO,TXN,TMUS\"\n",
    "displayOutput = [\"headline\", \"abstract\", \"full\"]\n",
    "date = \"2022-02-14\" # YYYY-MM-DD\n",
    "pagesize = 1000"
   ]
  },
  {
   "cell_type": "code",
   "execution_count": 10,
   "metadata": {},
   "outputs": [],
   "source": [
    "paper = news_data.News(config[\"benzinga\"][\"key\"])"
   ]
  },
  {
   "cell_type": "code",
   "execution_count": 22,
   "metadata": {},
   "outputs": [],
   "source": [
    "# stories = paper.news(company_tickers=ticker, display_output=displayOutput[2], base_date=date, pagesize=pagesize)"
   ]
  },
  {
   "cell_type": "code",
   "execution_count": 12,
   "metadata": {},
   "outputs": [
    {
     "name": "stdout",
     "output_type": "stream",
     "text": [
      "77\n"
     ]
    }
   ],
   "source": [
    "print(len(stories))"
   ]
  },
  {
   "cell_type": "code",
   "execution_count": 18,
   "metadata": {},
   "outputs": [
    {
     "data": {
      "text/plain": [
       "{'id': 25591959,\n",
       " 'author': 'Rachit Vats',\n",
       " 'created': 'Mon, 14 Feb 2022 04:58:21 -0400',\n",
       " 'updated': 'Mon, 14 Feb 2022 04:58:22 -0400',\n",
       " 'title': 'Warren Buffett-Backed BYD Follows Nio, Xpeng In Filing For Metaverse Trademark: Report',\n",
       " 'teaser': 'BYD Co (OTC: BYDDY),\\xa0backed by veteran investor Warren\\xa0Buffett,\\xa0has filed for the Metaverse trademark, cnEVpost reported&lt;',\n",
       " 'body': '<p><strong>BYD</strong> <strong>Co</strong> (OTC:<a class=\"ticker\" href=\"https://www.benzinga.com/stock/BYDDY#OTC\">BYDDY</a>),&nbsp;backed by veteran investor <strong>Warren</strong>&nbsp;<strong>Buffett,</strong>&nbsp;has filed for the <strong>Metaverse</strong> trademark, cnEVpost <a href=\"https://cnevpost.com/2022/02/14/byd-files-for-metaverse-trademark/\" style=\"text-decoration:none\">reported</a> on Monday.</p>\\r\\n\\r\\n<p><strong>What Happened:</strong> The Shenzhen, China-headquartered BYD has applied for the &quot;BYD Metaverse&quot; close on the heels of local rivals such as <strong>Nio</strong> <strong>Inc</strong> (NYSE:<a class=\"ticker\" href=\"https://www.benzinga.com/stock/NIO#NYSE\">NIO</a>), <strong>Xpeng</strong> <strong>Inc</strong> (NYSE XPEV) and <strong>Li</strong> <strong>Auto</strong> (NASDAQ:<a class=\"ticker\" href=\"https://www.benzinga.com/stock/LI#NASDAQ\">LI</a>) filing for their own multiple Metaverse trademarks.&nbsp;</p>\\r\\n\\r\\n<p>BYD applied for the trademark on Dec. 27, 2021, and is awaiting confirmation.</p>\\r\\n\\r\\n<p><strong>Why It Matters:&nbsp;</strong>Metaverse is drawing increased attention, especially with tech giant Facebook&rsquo;s recent name change to <strong>Meta</strong> <strong>Platforms</strong> <strong>Inc</strong> (NASDAQ:<a class=\"ticker\" href=\"https://www.benzinga.com/stock/FB#NASDAQ\">FB</a>) in a bid to highlight its focus on metaverse.</p>\\r\\n\\r\\n<p><em>See Also: <a href=\"https://www.benzinga.com/money/what-is-the-metaverse/\">How To Invest In The Metaverse</a></em></p>\\r\\n\\r\\n<p>The term metaverse was coined in the 1992 science fiction novel &quot;Snow Crash&quot; by <strong>Neal Stephenson</strong>. The term represents a meeting of the physical world with augmented and virtual reality.&nbsp;<br />\\r\\nThe popularity of Metaverse as a concept comes in the aftermath of the rise of non fungible tokens (NFTs) and Web 3.0, enabled by blockchain platforms such as&nbsp;<strong>Ethereum</strong> (CRYPTO: <a class=\"ticker\" href=\"https://www.benzinga.com/quote/eth/usd\">ETH</a>).</p>\\r\\n\\r\\n<p>Buffett, who backs BYD,&nbsp;has been an outspoken critic of <a href=\"https://www.benzinga.com/money/best-cryptocurrency/\">cryptocurrencies</a>,&nbsp;over the years, once calling <strong>Bitcoin </strong>(CRYTPO: BTC) &ldquo;probably rat poison squared.&rdquo;</p>\\r\\n\\r\\n<p><strong>Price Action: </strong>BYD shares closed 4.3% lower at $58.4 a share on Friday.</p>\\r\\n   ',\n",
       " 'url': 'https://www.benzinga.com/markets/cryptocurrency/22/02/25591959/warren-buffett-backed-byd-follows-nio-xpeng-in-filing-for-metaverse-trademark-report',\n",
       " 'image': [{'size': 'large',\n",
       "   'url': 'https://cdn.benzinga.com/files/imagecache/2048x1536xUP/images/story/2012/richard-horvath-ocxxgxyucho-unsplash.jpg'},\n",
       "  {'size': 'thumb',\n",
       "   'url': 'https://cdn.benzinga.com/files/imagecache/250x187xUP/images/story/2012/richard-horvath-ocxxgxyucho-unsplash.jpg'},\n",
       "  {'size': 'small',\n",
       "   'url': 'https://cdn.benzinga.com/files/imagecache/1024x768xUP/images/story/2012/richard-horvath-ocxxgxyucho-unsplash.jpg'}],\n",
       " 'channels': [{'name': 'Cryptocurrency'},\n",
       "  {'name': 'News'},\n",
       "  {'name': 'Markets'},\n",
       "  {'name': 'Tech'},\n",
       "  {'name': 'Media'}],\n",
       " 'stocks': [{'name': '$ETH'},\n",
       "  {'name': 'BYDDY'},\n",
       "  {'name': 'NIO'},\n",
       "  {'name': 'XPEV'},\n",
       "  {'name': 'LI'},\n",
       "  {'name': 'FB'}],\n",
       " 'tags': [{'name': 'electric vehicles'},\n",
       "  {'name': 'EVs'},\n",
       "  {'name': 'metaverse'},\n",
       "  {'name': 'NFTs'},\n",
       "  {'name': 'Warren Buffett'},\n",
       "  {'name': 'Web 3.0'}]}"
      ]
     },
     "execution_count": 18,
     "metadata": {},
     "output_type": "execute_result"
    }
   ],
   "source": [
    "stories[5]"
   ]
  },
  {
   "cell_type": "code",
   "execution_count": 19,
   "metadata": {},
   "outputs": [],
   "source": [
    "# all_stories = {}\n",
    "# for i in date_list:\n",
    "#     stories = paper.news(company_tickers=ticker, display_output=displayOutput[2], base_date=i, pagesize=pagesize)\n",
    "#     all_stories.update({i: stories})\n",
    "#     time.sleep(3) # Sleep for 3 seconds"
   ]
  },
  {
   "cell_type": "code",
   "execution_count": 20,
   "metadata": {},
   "outputs": [],
   "source": [
    "# len(all_stories)"
   ]
  },
  {
   "cell_type": "code",
   "execution_count": 21,
   "metadata": {},
   "outputs": [],
   "source": [
    "# path = pathlib.Path.cwd() / '2022.json'\n",
    "# path.write_text(json.dumps(all_stories))"
   ]
  }
 ],
 "metadata": {
  "interpreter": {
   "hash": "06613e16dc1aebd810c16422b73f886b4ff4ce8e102b88d0006f6672eb35e8f7"
  },
  "kernelspec": {
   "display_name": "Python 3.9.9 64-bit ('servicenow': venv)",
   "language": "python",
   "name": "python3"
  },
  "language_info": {
   "codemirror_mode": {
    "name": "ipython",
    "version": 3
   },
   "file_extension": ".py",
   "mimetype": "text/x-python",
   "name": "python",
   "nbconvert_exporter": "python",
   "pygments_lexer": "ipython3",
   "version": "3.9.9"
  },
  "orig_nbformat": 4
 },
 "nbformat": 4,
 "nbformat_minor": 2
}
