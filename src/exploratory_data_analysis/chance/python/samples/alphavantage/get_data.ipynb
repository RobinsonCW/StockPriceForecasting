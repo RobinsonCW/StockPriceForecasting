{
 "cells": [
  {
   "cell_type": "code",
   "execution_count": 2,
   "metadata": {},
   "outputs": [
    {
     "data": {
      "text/plain": [
       "True"
      ]
     },
     "execution_count": 2,
     "metadata": {},
     "output_type": "execute_result"
    }
   ],
   "source": [
    "import pandas as pd\n",
    "import numpy as np\n",
    "\n",
    "from alpha_vantage.timeseries import TimeSeries \n",
    "\n",
    "import os\n",
    "from dotenv import load_dotenv\n",
    "load_dotenv()  # take environment variables from .env"
   ]
  },
  {
   "cell_type": "markdown",
   "metadata": {},
   "source": [
    "### Configuration"
   ]
  },
  {
   "cell_type": "code",
   "execution_count": 3,
   "metadata": {},
   "outputs": [],
   "source": [
    "config = {\n",
    "    \"alpha_vantage\": {\n",
    "        \"key\": os.environ.get(\"API_KEY\"), # Claim your free API key here: https://www.alphavantage.co/support/#api-key\n",
    "        \"symbol\": \"AAPL\",\n",
    "        \"outputsize\": \"full\",\n",
    "        \"datatype\": \"csv\",\n",
    "    },\n",
    "}"
   ]
  },
  {
   "cell_type": "markdown",
   "metadata": {},
   "source": [
    "### Sample JSON Output"
   ]
  },
  {
   "cell_type": "code",
   "execution_count": 4,
   "metadata": {},
   "outputs": [
    {
     "data": {
      "text/plain": [
       "{'Meta Data': {'1. Information': 'Daily Time Series with Splits and Dividend Events',\n",
       "  '2. Symbol': 'IBM',\n",
       "  '3. Last Refreshed': '2022-02-03',\n",
       "  '4. Output Size': 'Full size',\n",
       "  '5. Time Zone': 'US/Eastern'},\n",
       " 'Time Series (Daily)': {'2022-02-03': {'1. open': '137.0',\n",
       "   '2. high': '138.76',\n",
       "   '3. low': '135.831',\n",
       "   '4. close': '137.78',\n",
       "   '5. adjusted close': '137.78',\n",
       "   '6. volume': '6100777',\n",
       "   '7. dividend amount': '0.0000',\n",
       "   '8. split coefficient': '1.0'}}}"
      ]
     },
     "execution_count": 4,
     "metadata": {},
     "output_type": "execute_result"
    }
   ],
   "source": [
    "{\n",
    "    \"Meta Data\": {\n",
    "        \"1. Information\": \"Daily Time Series with Splits and Dividend Events\",\n",
    "        \"2. Symbol\": \"IBM\",\n",
    "        \"3. Last Refreshed\": \"2022-02-03\",\n",
    "        \"4. Output Size\": \"Full size\",\n",
    "        \"5. Time Zone\": \"US/Eastern\"\n",
    "    },\n",
    "    \"Time Series (Daily)\": {\n",
    "        \"2022-02-03\": {\n",
    "            \"1. open\": \"137.0\",\n",
    "            \"2. high\": \"138.76\",\n",
    "            \"3. low\": \"135.831\",\n",
    "            \"4. close\": \"137.78\",\n",
    "            \"5. adjusted close\": \"137.78\",\n",
    "            \"6. volume\": \"6100777\",\n",
    "            \"7. dividend amount\": \"0.0000\",\n",
    "            \"8. split coefficient\": \"1.0\"\n",
    "        },\n",
    "    }\n",
    "}"
   ]
  },
  {
   "cell_type": "code",
   "execution_count": 9,
   "metadata": {},
   "outputs": [],
   "source": [
    "def download_data(config):\n",
    "    ts = TimeSeries(key=config[\"alpha_vantage\"][\"key\"], output_format='pandas')\n",
    "    data, meta_data = ts.get_daily_adjusted(config[\"alpha_vantage\"][\"symbol\"], outputsize=config[\"alpha_vantage\"][\"outputsize\"])\n",
    "\n",
    "    num_data_points = len(data)\n",
    "    print(\"Number data points\", num_data_points)\n",
    "\n",
    "    return data, meta_data"
   ]
  },
  {
   "cell_type": "code",
   "execution_count": 6,
   "metadata": {},
   "outputs": [
    {
     "name": "stdout",
     "output_type": "stream",
     "text": [
      "Number data points 5602\n"
     ]
    }
   ],
   "source": [
    "data, meta_data = download_data(config)"
   ]
  },
  {
   "cell_type": "code",
   "execution_count": 7,
   "metadata": {},
   "outputs": [
    {
     "name": "stdout",
     "output_type": "stream",
     "text": [
      "<class 'pandas.core.frame.DataFrame'>\n",
      "DatetimeIndex: 5602 entries, 2022-02-03 to 1999-11-01\n",
      "Data columns (total 8 columns):\n",
      " #   Column                Non-Null Count  Dtype  \n",
      "---  ------                --------------  -----  \n",
      " 0   1. open               5602 non-null   float64\n",
      " 1   2. high               5602 non-null   float64\n",
      " 2   3. low                5602 non-null   float64\n",
      " 3   4. close              5602 non-null   float64\n",
      " 4   5. adjusted close     5602 non-null   float64\n",
      " 5   6. volume             5602 non-null   float64\n",
      " 6   7. dividend amount    5602 non-null   float64\n",
      " 7   8. split coefficient  5602 non-null   float64\n",
      "dtypes: float64(8)\n",
      "memory usage: 393.9 KB\n"
     ]
    }
   ],
   "source": [
    "data.info()"
   ]
  },
  {
   "cell_type": "code",
   "execution_count": 8,
   "metadata": {},
   "outputs": [
    {
     "data": {
      "text/html": [
       "<div>\n",
       "<style scoped>\n",
       "    .dataframe tbody tr th:only-of-type {\n",
       "        vertical-align: middle;\n",
       "    }\n",
       "\n",
       "    .dataframe tbody tr th {\n",
       "        vertical-align: top;\n",
       "    }\n",
       "\n",
       "    .dataframe thead th {\n",
       "        text-align: right;\n",
       "    }\n",
       "</style>\n",
       "<table border=\"1\" class=\"dataframe\">\n",
       "  <thead>\n",
       "    <tr style=\"text-align: right;\">\n",
       "      <th></th>\n",
       "      <th>1. open</th>\n",
       "      <th>2. high</th>\n",
       "      <th>3. low</th>\n",
       "      <th>4. close</th>\n",
       "      <th>5. adjusted close</th>\n",
       "      <th>6. volume</th>\n",
       "      <th>7. dividend amount</th>\n",
       "      <th>8. split coefficient</th>\n",
       "    </tr>\n",
       "    <tr>\n",
       "      <th>date</th>\n",
       "      <th></th>\n",
       "      <th></th>\n",
       "      <th></th>\n",
       "      <th></th>\n",
       "      <th></th>\n",
       "      <th></th>\n",
       "      <th></th>\n",
       "      <th></th>\n",
       "    </tr>\n",
       "  </thead>\n",
       "  <tbody>\n",
       "    <tr>\n",
       "      <th>2022-02-03</th>\n",
       "      <td>174.480</td>\n",
       "      <td>176.2399</td>\n",
       "      <td>172.12</td>\n",
       "      <td>172.90</td>\n",
       "      <td>172.90</td>\n",
       "      <td>89418074.0</td>\n",
       "      <td>0.0</td>\n",
       "      <td>1.0</td>\n",
       "    </tr>\n",
       "    <tr>\n",
       "      <th>2022-02-02</th>\n",
       "      <td>174.745</td>\n",
       "      <td>175.8800</td>\n",
       "      <td>173.33</td>\n",
       "      <td>175.84</td>\n",
       "      <td>175.84</td>\n",
       "      <td>84914256.0</td>\n",
       "      <td>0.0</td>\n",
       "      <td>1.0</td>\n",
       "    </tr>\n",
       "    <tr>\n",
       "      <th>2022-02-01</th>\n",
       "      <td>174.010</td>\n",
       "      <td>174.8400</td>\n",
       "      <td>172.31</td>\n",
       "      <td>174.61</td>\n",
       "      <td>174.61</td>\n",
       "      <td>86213911.0</td>\n",
       "      <td>0.0</td>\n",
       "      <td>1.0</td>\n",
       "    </tr>\n",
       "    <tr>\n",
       "      <th>2022-01-31</th>\n",
       "      <td>170.160</td>\n",
       "      <td>175.0000</td>\n",
       "      <td>169.51</td>\n",
       "      <td>174.78</td>\n",
       "      <td>174.78</td>\n",
       "      <td>115541590.0</td>\n",
       "      <td>0.0</td>\n",
       "      <td>1.0</td>\n",
       "    </tr>\n",
       "    <tr>\n",
       "      <th>2022-01-28</th>\n",
       "      <td>165.710</td>\n",
       "      <td>170.3500</td>\n",
       "      <td>162.80</td>\n",
       "      <td>170.33</td>\n",
       "      <td>170.33</td>\n",
       "      <td>179935660.0</td>\n",
       "      <td>0.0</td>\n",
       "      <td>1.0</td>\n",
       "    </tr>\n",
       "  </tbody>\n",
       "</table>\n",
       "</div>"
      ],
      "text/plain": [
       "            1. open   2. high  3. low  4. close  5. adjusted close  \\\n",
       "date                                                                 \n",
       "2022-02-03  174.480  176.2399  172.12    172.90             172.90   \n",
       "2022-02-02  174.745  175.8800  173.33    175.84             175.84   \n",
       "2022-02-01  174.010  174.8400  172.31    174.61             174.61   \n",
       "2022-01-31  170.160  175.0000  169.51    174.78             174.78   \n",
       "2022-01-28  165.710  170.3500  162.80    170.33             170.33   \n",
       "\n",
       "              6. volume  7. dividend amount  8. split coefficient  \n",
       "date                                                               \n",
       "2022-02-03   89418074.0                 0.0                   1.0  \n",
       "2022-02-02   84914256.0                 0.0                   1.0  \n",
       "2022-02-01   86213911.0                 0.0                   1.0  \n",
       "2022-01-31  115541590.0                 0.0                   1.0  \n",
       "2022-01-28  179935660.0                 0.0                   1.0  "
      ]
     },
     "execution_count": 8,
     "metadata": {},
     "output_type": "execute_result"
    }
   ],
   "source": [
    "data.head()"
   ]
  },
  {
   "cell_type": "code",
   "execution_count": 11,
   "metadata": {},
   "outputs": [],
   "source": [
    "# data.to_csv(\"./data/APPL.csv\")"
   ]
  }
 ],
 "metadata": {
  "interpreter": {
   "hash": "d4d1e4263499bec80672ea0156c357c1ee493ec2b1c70f0acce89fc37c4a6abe"
  },
  "kernelspec": {
   "display_name": "Python 3.7.12 64-bit ('base': conda)",
   "language": "python",
   "name": "python3"
  },
  "language_info": {
   "codemirror_mode": {
    "name": "ipython",
    "version": 3
   },
   "file_extension": ".py",
   "mimetype": "text/x-python",
   "name": "python",
   "nbconvert_exporter": "python",
   "pygments_lexer": "ipython3",
   "version": "3.7.12"
  },
  "orig_nbformat": 4
 },
 "nbformat": 4,
 "nbformat_minor": 2
}
