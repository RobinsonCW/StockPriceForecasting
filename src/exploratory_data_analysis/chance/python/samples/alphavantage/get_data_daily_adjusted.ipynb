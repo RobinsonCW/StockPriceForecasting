{
 "cells": [
  {
   "cell_type": "code",
   "execution_count": 1,
   "metadata": {},
   "outputs": [
    {
     "name": "stderr",
     "output_type": "stream",
     "text": [
      "/usr/lib/python3/dist-packages/requests/__init__.py:89: RequestsDependencyWarning: urllib3 (1.26.9) or chardet (3.0.4) doesn't match a supported version!\n",
      "  warnings.warn(\"urllib3 ({}) or chardet ({}) doesn't match a supported \"\n"
     ]
    },
    {
     "data": {
      "text/plain": [
       "True"
      ]
     },
     "execution_count": 1,
     "metadata": {},
     "output_type": "execute_result"
    }
   ],
   "source": [
    "import pandas as pd\n",
    "import numpy as np\n",
    "\n",
    "from alpha_vantage.timeseries import TimeSeries \n",
    "\n",
    "import os\n",
    "from dotenv import load_dotenv\n",
    "load_dotenv()  # take environment variables from .env"
   ]
  },
  {
   "cell_type": "code",
   "execution_count": 2,
   "metadata": {},
   "outputs": [],
   "source": [
    "symbols = [\n",
    "    # \"AAPL\",\n",
    "    \"MSFT\",\n",
    "    # \"AMZN\",\n",
    "    # \"FB\",\n",
    "    # \"GOOG\",\n",
    "    # \"GOOGL\",\n",
    "    # \"TSLA\",\n",
    "    # \"NVDA\",\n",
    "    # \"PYPL\",\n",
    "    # \"ASML\",\n",
    "    # \"INTC\",\n",
    "    # \"CMCSA\",\n",
    "    # \"NFLX\",\n",
    "    # \"ADBE\",\n",
    "    # \"CSCO\",\n",
    "    # \"PEP\",\n",
    "    # \"AVGO\",\n",
    "    # \"TXN\",\n",
    "    # \"TMUS\",\n",
    "]"
   ]
  },
  {
   "cell_type": "markdown",
   "metadata": {},
   "source": [
    "### Configuration"
   ]
  },
  {
   "cell_type": "code",
   "execution_count": 3,
   "metadata": {},
   "outputs": [],
   "source": [
    "config = {\n",
    "    \"alpha_vantage\": {\n",
    "        \"key\": os.environ.get(\"API_KEY\"), # Claim your free API key here: https://www.alphavantage.co/support/#api-key\n",
    "        \"symbol\": None,\n",
    "        \"outputsize\": \"full\",\n",
    "        \"datatype\": \"csv\",\n",
    "    },\n",
    "}"
   ]
  },
  {
   "cell_type": "markdown",
   "metadata": {},
   "source": [
    "### Sample JSON Output"
   ]
  },
  {
   "cell_type": "code",
   "execution_count": 6,
   "metadata": {},
   "outputs": [
    {
     "data": {
      "text/plain": [
       "{'Meta Data': {'1. Information': 'Daily Time Series with Splits and Dividend Events',\n",
       "  '2. Symbol': 'IBM',\n",
       "  '3. Last Refreshed': '2022-02-03',\n",
       "  '4. Output Size': 'Full size',\n",
       "  '5. Time Zone': 'US/Eastern'},\n",
       " 'Time Series (Daily)': {'2022-02-03': {'1. open': '137.0',\n",
       "   '2. high': '138.76',\n",
       "   '3. low': '135.831',\n",
       "   '4. close': '137.78',\n",
       "   '5. adjusted close': '137.78',\n",
       "   '6. volume': '6100777',\n",
       "   '7. dividend amount': '0.0000',\n",
       "   '8. split coefficient': '1.0'}}}"
      ]
     },
     "execution_count": 6,
     "metadata": {},
     "output_type": "execute_result"
    }
   ],
   "source": [
    "{\n",
    "    \"Meta Data\": {\n",
    "        \"1. Information\": \"Daily Time Series with Splits and Dividend Events\",\n",
    "        \"2. Symbol\": \"IBM\",\n",
    "        \"3. Last Refreshed\": \"2022-02-03\",\n",
    "        \"4. Output Size\": \"Full size\",\n",
    "        \"5. Time Zone\": \"US/Eastern\"\n",
    "    },\n",
    "    \"Time Series (Daily)\": {\n",
    "        \"2022-02-03\": {\n",
    "            \"1. open\": \"137.0\",\n",
    "            \"2. high\": \"138.76\",\n",
    "            \"3. low\": \"135.831\",\n",
    "            \"4. close\": \"137.78\",\n",
    "            \"5. adjusted close\": \"137.78\",\n",
    "            \"6. volume\": \"6100777\",\n",
    "            \"7. dividend amount\": \"0.0000\",\n",
    "            \"8. split coefficient\": \"1.0\"\n",
    "        },\n",
    "    }\n",
    "}"
   ]
  },
  {
   "cell_type": "code",
   "execution_count": 5,
   "metadata": {},
   "outputs": [],
   "source": [
    "def download_data(config, symbol):\n",
    "    ts = TimeSeries(key=config[\"alpha_vantage\"][\"key\"], output_format='pandas')\n",
    "    data, meta_data = ts.get_daily_adjusted(symbol, outputsize=config[\"alpha_vantage\"][\"outputsize\"])\n",
    "\n",
    "    num_data_points = len(data)\n",
    "    print(f\"{symbol}: number data points\", num_data_points)\n",
    "\n",
    "    return data, meta_data"
   ]
  },
  {
   "cell_type": "code",
   "execution_count": 6,
   "metadata": {},
   "outputs": [
    {
     "name": "stdout",
     "output_type": "stream",
     "text": [
      "MSFT: number data points 5695\n"
     ]
    }
   ],
   "source": [
    "for symbol in symbols:\n",
    "    data, meta_data = download_data(config, symbol)\n",
    "    data.to_csv(f\"./data/{symbol}.csv\")"
   ]
  },
  {
   "cell_type": "code",
   "execution_count": 7,
   "metadata": {},
   "outputs": [
    {
     "name": "stdout",
     "output_type": "stream",
     "text": [
      "<class 'pandas.core.frame.DataFrame'>\n",
      "DatetimeIndex: 5695 entries, 2022-06-17 to 1999-11-01\n",
      "Data columns (total 8 columns):\n",
      " #   Column                Non-Null Count  Dtype  \n",
      "---  ------                --------------  -----  \n",
      " 0   1. open               5695 non-null   float64\n",
      " 1   2. high               5695 non-null   float64\n",
      " 2   3. low                5695 non-null   float64\n",
      " 3   4. close              5695 non-null   float64\n",
      " 4   5. adjusted close     5695 non-null   float64\n",
      " 5   6. volume             5695 non-null   float64\n",
      " 6   7. dividend amount    5695 non-null   float64\n",
      " 7   8. split coefficient  5695 non-null   float64\n",
      "dtypes: float64(8)\n",
      "memory usage: 400.4 KB\n"
     ]
    }
   ],
   "source": [
    "data.info()"
   ]
  },
  {
   "cell_type": "code",
   "execution_count": 17,
   "metadata": {},
   "outputs": [],
   "source": [
    "data.loc['2022-03-07'].to_csv(f\"./data/{symbol}.csv\")"
   ]
  }
 ],
 "metadata": {
  "interpreter": {
   "hash": "d4d1e4263499bec80672ea0156c357c1ee493ec2b1c70f0acce89fc37c4a6abe"
  },
  "kernelspec": {
   "display_name": "Python 3",
   "language": "python",
   "name": "python3"
  },
  "orig_nbformat": 4
 },
 "nbformat": 4,
 "nbformat_minor": 2
}
