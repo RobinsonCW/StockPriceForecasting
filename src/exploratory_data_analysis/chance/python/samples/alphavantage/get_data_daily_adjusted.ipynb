{
 "cells": [
  {
   "cell_type": "code",
   "execution_count": 3,
   "metadata": {},
   "outputs": [
    {
     "data": {
      "text/plain": [
       "True"
      ]
     },
     "execution_count": 3,
     "metadata": {},
     "output_type": "execute_result"
    }
   ],
   "source": [
    "import pandas as pd\n",
    "import numpy as np\n",
    "\n",
    "from alpha_vantage.timeseries import TimeSeries \n",
    "\n",
    "import os\n",
    "from dotenv import load_dotenv\n",
    "load_dotenv()  # take environment variables from .env"
   ]
  },
  {
   "cell_type": "code",
   "execution_count": 4,
   "metadata": {},
   "outputs": [],
   "source": [
    "symbols = [\n",
    "    \"AAPL\",\n",
    "    \"MSFT\",\n",
    "    \"AMZN\",\n",
    "    \"FB\",\n",
    "    \"GOOG\",\n",
    "    \"GOOGL\",\n",
    "    \"TSLA\",\n",
    "    \"NVDA\",\n",
    "    \"PYPL\",\n",
    "    \"ASML\",\n",
    "    \"INTC\",\n",
    "    \"CMCSA\",\n",
    "    \"NFLX\",\n",
    "    \"ADBE\",\n",
    "    \"CSCO\",\n",
    "    \"PEP\",\n",
    "    \"AVGO\",\n",
    "    \"TXN\",\n",
    "    \"TMUS\",\n",
    "]"
   ]
  },
  {
   "cell_type": "markdown",
   "metadata": {},
   "source": [
    "### Configuration"
   ]
  },
  {
   "cell_type": "code",
   "execution_count": 5,
   "metadata": {},
   "outputs": [],
   "source": [
    "config = {\n",
    "    \"alpha_vantage\": {\n",
    "        \"key\": os.environ.get(\"API_KEY\"), # Claim your free API key here: https://www.alphavantage.co/support/#api-key\n",
    "        \"symbol\": None,\n",
    "        \"outputsize\": \"full\",\n",
    "        \"datatype\": \"csv\",\n",
    "    },\n",
    "}"
   ]
  },
  {
   "cell_type": "markdown",
   "metadata": {},
   "source": [
    "### Sample JSON Output"
   ]
  },
  {
   "cell_type": "code",
   "execution_count": 6,
   "metadata": {},
   "outputs": [
    {
     "data": {
      "text/plain": [
       "{'Meta Data': {'1. Information': 'Daily Time Series with Splits and Dividend Events',\n",
       "  '2. Symbol': 'IBM',\n",
       "  '3. Last Refreshed': '2022-02-03',\n",
       "  '4. Output Size': 'Full size',\n",
       "  '5. Time Zone': 'US/Eastern'},\n",
       " 'Time Series (Daily)': {'2022-02-03': {'1. open': '137.0',\n",
       "   '2. high': '138.76',\n",
       "   '3. low': '135.831',\n",
       "   '4. close': '137.78',\n",
       "   '5. adjusted close': '137.78',\n",
       "   '6. volume': '6100777',\n",
       "   '7. dividend amount': '0.0000',\n",
       "   '8. split coefficient': '1.0'}}}"
      ]
     },
     "execution_count": 6,
     "metadata": {},
     "output_type": "execute_result"
    }
   ],
   "source": [
    "{\n",
    "    \"Meta Data\": {\n",
    "        \"1. Information\": \"Daily Time Series with Splits and Dividend Events\",\n",
    "        \"2. Symbol\": \"IBM\",\n",
    "        \"3. Last Refreshed\": \"2022-02-03\",\n",
    "        \"4. Output Size\": \"Full size\",\n",
    "        \"5. Time Zone\": \"US/Eastern\"\n",
    "    },\n",
    "    \"Time Series (Daily)\": {\n",
    "        \"2022-02-03\": {\n",
    "            \"1. open\": \"137.0\",\n",
    "            \"2. high\": \"138.76\",\n",
    "            \"3. low\": \"135.831\",\n",
    "            \"4. close\": \"137.78\",\n",
    "            \"5. adjusted close\": \"137.78\",\n",
    "            \"6. volume\": \"6100777\",\n",
    "            \"7. dividend amount\": \"0.0000\",\n",
    "            \"8. split coefficient\": \"1.0\"\n",
    "        },\n",
    "    }\n",
    "}"
   ]
  },
  {
   "cell_type": "code",
   "execution_count": 7,
   "metadata": {},
   "outputs": [],
   "source": [
    "def download_data(config, symbol):\n",
    "    ts = TimeSeries(key=config[\"alpha_vantage\"][\"key\"], output_format='pandas')\n",
    "    data, meta_data = ts.get_daily_adjusted(symbol, outputsize=config[\"alpha_vantage\"][\"outputsize\"])\n",
    "\n",
    "    num_data_points = len(data)\n",
    "    print(f\"{symbol}: number data points\", num_data_points)\n",
    "\n",
    "    return data, meta_data"
   ]
  },
  {
   "cell_type": "code",
   "execution_count": 8,
   "metadata": {},
   "outputs": [
    {
     "name": "stdout",
     "output_type": "stream",
     "text": [
      "AAPL: number data points 5622\n",
      "MSFT: number data points 5622\n",
      "AMZN: number data points 5622\n",
      "FB: number data points 2465\n",
      "GOOG: number data points 2000\n",
      "GOOGL: number data points 4417\n",
      "TSLA: number data points 2942\n",
      "NVDA: number data points 5622\n",
      "PYPL: number data points 1670\n",
      "ASML: number data points 5622\n",
      "INTC: number data points 5622\n",
      "CMCSA: number data points 5622\n",
      "NFLX: number data points 4981\n",
      "ADBE: number data points 5622\n",
      "CSCO: number data points 5622\n",
      "PEP: number data points 5622\n",
      "AVGO: number data points 3167\n",
      "TXN: number data points 5622\n",
      "TMUS: number data points 3747\n"
     ]
    }
   ],
   "source": [
    "for symbol in symbols:\n",
    "    data, meta_data = download_data(config, symbol)\n",
    "    data.to_csv(f\"./data/{symbol}.csv\")"
   ]
  },
  {
   "cell_type": "code",
   "execution_count": 9,
   "metadata": {},
   "outputs": [
    {
     "name": "stdout",
     "output_type": "stream",
     "text": [
      "<class 'pandas.core.frame.DataFrame'>\n",
      "DatetimeIndex: 3747 entries, 2022-03-04 to 2007-04-19\n",
      "Data columns (total 8 columns):\n",
      " #   Column                Non-Null Count  Dtype  \n",
      "---  ------                --------------  -----  \n",
      " 0   1. open               3747 non-null   float64\n",
      " 1   2. high               3747 non-null   float64\n",
      " 2   3. low                3747 non-null   float64\n",
      " 3   4. close              3747 non-null   float64\n",
      " 4   5. adjusted close     3747 non-null   float64\n",
      " 5   6. volume             3747 non-null   float64\n",
      " 6   7. dividend amount    3747 non-null   float64\n",
      " 7   8. split coefficient  3747 non-null   float64\n",
      "dtypes: float64(8)\n",
      "memory usage: 263.5 KB\n"
     ]
    }
   ],
   "source": [
    "data.info()"
   ]
  },
  {
   "cell_type": "code",
   "execution_count": 10,
   "metadata": {},
   "outputs": [
    {
     "data": {
      "text/html": [
       "<div>\n",
       "<style scoped>\n",
       "    .dataframe tbody tr th:only-of-type {\n",
       "        vertical-align: middle;\n",
       "    }\n",
       "\n",
       "    .dataframe tbody tr th {\n",
       "        vertical-align: top;\n",
       "    }\n",
       "\n",
       "    .dataframe thead th {\n",
       "        text-align: right;\n",
       "    }\n",
       "</style>\n",
       "<table border=\"1\" class=\"dataframe\">\n",
       "  <thead>\n",
       "    <tr style=\"text-align: right;\">\n",
       "      <th></th>\n",
       "      <th>1. open</th>\n",
       "      <th>2. high</th>\n",
       "      <th>3. low</th>\n",
       "      <th>4. close</th>\n",
       "      <th>5. adjusted close</th>\n",
       "      <th>6. volume</th>\n",
       "      <th>7. dividend amount</th>\n",
       "      <th>8. split coefficient</th>\n",
       "    </tr>\n",
       "    <tr>\n",
       "      <th>date</th>\n",
       "      <th></th>\n",
       "      <th></th>\n",
       "      <th></th>\n",
       "      <th></th>\n",
       "      <th></th>\n",
       "      <th></th>\n",
       "      <th></th>\n",
       "      <th></th>\n",
       "    </tr>\n",
       "  </thead>\n",
       "  <tbody>\n",
       "    <tr>\n",
       "      <th>2022-03-04</th>\n",
       "      <td>123.55</td>\n",
       "      <td>124.775</td>\n",
       "      <td>122.43</td>\n",
       "      <td>123.23</td>\n",
       "      <td>123.23</td>\n",
       "      <td>5086450.0</td>\n",
       "      <td>0.0</td>\n",
       "      <td>1.0</td>\n",
       "    </tr>\n",
       "    <tr>\n",
       "      <th>2022-03-03</th>\n",
       "      <td>126.54</td>\n",
       "      <td>127.200</td>\n",
       "      <td>123.63</td>\n",
       "      <td>123.92</td>\n",
       "      <td>123.92</td>\n",
       "      <td>4718782.0</td>\n",
       "      <td>0.0</td>\n",
       "      <td>1.0</td>\n",
       "    </tr>\n",
       "    <tr>\n",
       "      <th>2022-03-02</th>\n",
       "      <td>123.90</td>\n",
       "      <td>126.310</td>\n",
       "      <td>123.16</td>\n",
       "      <td>125.61</td>\n",
       "      <td>125.61</td>\n",
       "      <td>4177692.0</td>\n",
       "      <td>0.0</td>\n",
       "      <td>1.0</td>\n",
       "    </tr>\n",
       "    <tr>\n",
       "      <th>2022-03-01</th>\n",
       "      <td>121.91</td>\n",
       "      <td>124.030</td>\n",
       "      <td>121.63</td>\n",
       "      <td>123.13</td>\n",
       "      <td>123.13</td>\n",
       "      <td>4326066.0</td>\n",
       "      <td>0.0</td>\n",
       "      <td>1.0</td>\n",
       "    </tr>\n",
       "    <tr>\n",
       "      <th>2022-02-28</th>\n",
       "      <td>121.47</td>\n",
       "      <td>123.470</td>\n",
       "      <td>121.18</td>\n",
       "      <td>123.21</td>\n",
       "      <td>123.21</td>\n",
       "      <td>5167743.0</td>\n",
       "      <td>0.0</td>\n",
       "      <td>1.0</td>\n",
       "    </tr>\n",
       "  </tbody>\n",
       "</table>\n",
       "</div>"
      ],
      "text/plain": [
       "            1. open  2. high  3. low  4. close  5. adjusted close  6. volume  \\\n",
       "date                                                                           \n",
       "2022-03-04   123.55  124.775  122.43    123.23             123.23  5086450.0   \n",
       "2022-03-03   126.54  127.200  123.63    123.92             123.92  4718782.0   \n",
       "2022-03-02   123.90  126.310  123.16    125.61             125.61  4177692.0   \n",
       "2022-03-01   121.91  124.030  121.63    123.13             123.13  4326066.0   \n",
       "2022-02-28   121.47  123.470  121.18    123.21             123.21  5167743.0   \n",
       "\n",
       "            7. dividend amount  8. split coefficient  \n",
       "date                                                  \n",
       "2022-03-04                 0.0                   1.0  \n",
       "2022-03-03                 0.0                   1.0  \n",
       "2022-03-02                 0.0                   1.0  \n",
       "2022-03-01                 0.0                   1.0  \n",
       "2022-02-28                 0.0                   1.0  "
      ]
     },
     "execution_count": 10,
     "metadata": {},
     "output_type": "execute_result"
    }
   ],
   "source": [
    "data.head()"
   ]
  }
 ],
 "metadata": {
  "interpreter": {
   "hash": "d4d1e4263499bec80672ea0156c357c1ee493ec2b1c70f0acce89fc37c4a6abe"
  },
  "kernelspec": {
   "display_name": "Python 3",
   "language": "python",
   "name": "python3"
  },
  "orig_nbformat": 4
 },
 "nbformat": 4,
 "nbformat_minor": 2
}
