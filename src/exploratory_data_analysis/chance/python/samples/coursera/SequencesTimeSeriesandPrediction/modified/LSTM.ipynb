{
  "cells": [
    {
      "cell_type": "markdown",
      "metadata": {
        "colab_type": "text",
        "id": "view-in-github"
      },
      "source": [
        "<a href=\"https://colab.research.google.com/github/https-deeplearning-ai/tensorflow-1-public/blob/adding_C4/C4/W3/ungraded_labs/C4_W3_Lab_2_LSTM.ipynb\" target=\"_parent\"><img src=\"https://colab.research.google.com/assets/colab-badge.svg\" alt=\"Open In Colab\"/></a>"
      ]
    },
    {
      "cell_type": "code",
      "execution_count": 1,
      "metadata": {
        "id": "zX4Kg8DUTKWO"
      },
      "outputs": [],
      "source": [
        "#@title Licensed under the Apache License, Version 2.0 (the \"License\");\n",
        "# you may not use this file except in compliance with the License.\n",
        "# You may obtain a copy of the License at\n",
        "#\n",
        "# https://www.apache.org/licenses/LICENSE-2.0\n",
        "#\n",
        "# Unless required by applicable law or agreed to in writing, software\n",
        "# distributed under the License is distributed on an \"AS IS\" BASIS,\n",
        "# WITHOUT WARRANTIES OR CONDITIONS OF ANY KIND, either express or implied.\n",
        "# See the License for the specific language governing permissions and\n",
        "# limitations under the License."
      ]
    },
    {
      "cell_type": "markdown",
      "metadata": {
        "id": "L-U2ulrvAH-3"
      },
      "source": [
        "**Note:** This notebook can run using TensorFlow 2.5.0"
      ]
    },
    {
      "cell_type": "code",
      "execution_count": 2,
      "metadata": {
        "id": "D1J15Vh_1Jih"
      },
      "outputs": [],
      "source": [
        "#!pip install tensorflow==2.5.0"
      ]
    },
    {
      "cell_type": "code",
      "execution_count": 3,
      "metadata": {
        "id": "BOjujz601HcS"
      },
      "outputs": [
        {
          "name": "stdout",
          "output_type": "stream",
          "text": [
            "2.8.0\n"
          ]
        }
      ],
      "source": [
        "import tensorflow as tf\n",
        "import numpy as np\n",
        "import matplotlib.pyplot as plt\n",
        "import pandas as pd\n",
        "print(tf.__version__)"
      ]
    },
    {
      "cell_type": "code",
      "execution_count": 4,
      "metadata": {},
      "outputs": [],
      "source": [
        "%matplotlib inline"
      ]
    },
    {
      "cell_type": "code",
      "execution_count": 5,
      "metadata": {},
      "outputs": [
        {
          "name": "stdout",
          "output_type": "stream",
          "text": [
            "GPU is available\n"
          ]
        }
      ],
      "source": [
        "print(\"GPU is\", \"available\" if tf.config.experimental.list_physical_devices(\"GPU\") else \"NOT AVAILABLE\")"
      ]
    },
    {
      "cell_type": "code",
      "execution_count": 6,
      "metadata": {},
      "outputs": [],
      "source": [
        "df = pd.read_csv(\"../../../../../../../../data/APPL.csv\", low_memory=False)"
      ]
    },
    {
      "cell_type": "code",
      "execution_count": 7,
      "metadata": {},
      "outputs": [
        {
          "name": "stdout",
          "output_type": "stream",
          "text": [
            "<class 'pandas.core.frame.DataFrame'>\n",
            "RangeIndex: 5602 entries, 0 to 5601\n",
            "Data columns (total 9 columns):\n",
            " #   Column                Non-Null Count  Dtype  \n",
            "---  ------                --------------  -----  \n",
            " 0   date                  5602 non-null   object \n",
            " 1   1. open               5602 non-null   float64\n",
            " 2   2. high               5602 non-null   float64\n",
            " 3   3. low                5602 non-null   float64\n",
            " 4   4. close              5602 non-null   float64\n",
            " 5   5. adjusted close     5602 non-null   float64\n",
            " 6   6. volume             5602 non-null   float64\n",
            " 7   7. dividend amount    5602 non-null   float64\n",
            " 8   8. split coefficient  5602 non-null   float64\n",
            "dtypes: float64(8), object(1)\n",
            "memory usage: 394.0+ KB\n"
          ]
        }
      ],
      "source": [
        "df.info()"
      ]
    },
    {
      "cell_type": "code",
      "execution_count": 8,
      "metadata": {},
      "outputs": [],
      "source": [
        "df.sort_values(by=[\"date\"], inplace=True)"
      ]
    },
    {
      "cell_type": "code",
      "execution_count": 9,
      "metadata": {},
      "outputs": [
        {
          "data": {
            "text/html": [
              "<div>\n",
              "<style scoped>\n",
              "    .dataframe tbody tr th:only-of-type {\n",
              "        vertical-align: middle;\n",
              "    }\n",
              "\n",
              "    .dataframe tbody tr th {\n",
              "        vertical-align: top;\n",
              "    }\n",
              "\n",
              "    .dataframe thead th {\n",
              "        text-align: right;\n",
              "    }\n",
              "</style>\n",
              "<table border=\"1\" class=\"dataframe\">\n",
              "  <thead>\n",
              "    <tr style=\"text-align: right;\">\n",
              "      <th></th>\n",
              "      <th>date</th>\n",
              "      <th>1. open</th>\n",
              "      <th>2. high</th>\n",
              "      <th>3. low</th>\n",
              "      <th>4. close</th>\n",
              "      <th>5. adjusted close</th>\n",
              "      <th>6. volume</th>\n",
              "      <th>7. dividend amount</th>\n",
              "      <th>8. split coefficient</th>\n",
              "    </tr>\n",
              "  </thead>\n",
              "  <tbody>\n",
              "    <tr>\n",
              "      <th>5601</th>\n",
              "      <td>1999-11-01</td>\n",
              "      <td>80.00</td>\n",
              "      <td>80.69</td>\n",
              "      <td>77.37</td>\n",
              "      <td>77.62</td>\n",
              "      <td>0.594112</td>\n",
              "      <td>2487300.0</td>\n",
              "      <td>0.0</td>\n",
              "      <td>1.0</td>\n",
              "    </tr>\n",
              "    <tr>\n",
              "      <th>5600</th>\n",
              "      <td>1999-11-02</td>\n",
              "      <td>78.00</td>\n",
              "      <td>81.69</td>\n",
              "      <td>77.31</td>\n",
              "      <td>80.25</td>\n",
              "      <td>0.614243</td>\n",
              "      <td>3564600.0</td>\n",
              "      <td>0.0</td>\n",
              "      <td>1.0</td>\n",
              "    </tr>\n",
              "    <tr>\n",
              "      <th>5599</th>\n",
              "      <td>1999-11-03</td>\n",
              "      <td>81.62</td>\n",
              "      <td>83.25</td>\n",
              "      <td>81.00</td>\n",
              "      <td>81.50</td>\n",
              "      <td>0.623810</td>\n",
              "      <td>2932700.0</td>\n",
              "      <td>0.0</td>\n",
              "      <td>1.0</td>\n",
              "    </tr>\n",
              "    <tr>\n",
              "      <th>5598</th>\n",
              "      <td>1999-11-04</td>\n",
              "      <td>82.06</td>\n",
              "      <td>85.37</td>\n",
              "      <td>80.62</td>\n",
              "      <td>83.62</td>\n",
              "      <td>0.640037</td>\n",
              "      <td>3384700.0</td>\n",
              "      <td>0.0</td>\n",
              "      <td>1.0</td>\n",
              "    </tr>\n",
              "    <tr>\n",
              "      <th>5597</th>\n",
              "      <td>1999-11-05</td>\n",
              "      <td>84.62</td>\n",
              "      <td>88.37</td>\n",
              "      <td>84.00</td>\n",
              "      <td>88.31</td>\n",
              "      <td>0.675935</td>\n",
              "      <td>3721500.0</td>\n",
              "      <td>0.0</td>\n",
              "      <td>1.0</td>\n",
              "    </tr>\n",
              "  </tbody>\n",
              "</table>\n",
              "</div>"
            ],
            "text/plain": [
              "            date  1. open  2. high  3. low  4. close  5. adjusted close  \\\n",
              "5601  1999-11-01    80.00    80.69   77.37     77.62           0.594112   \n",
              "5600  1999-11-02    78.00    81.69   77.31     80.25           0.614243   \n",
              "5599  1999-11-03    81.62    83.25   81.00     81.50           0.623810   \n",
              "5598  1999-11-04    82.06    85.37   80.62     83.62           0.640037   \n",
              "5597  1999-11-05    84.62    88.37   84.00     88.31           0.675935   \n",
              "\n",
              "      6. volume  7. dividend amount  8. split coefficient  \n",
              "5601  2487300.0                 0.0                   1.0  \n",
              "5600  3564600.0                 0.0                   1.0  \n",
              "5599  2932700.0                 0.0                   1.0  \n",
              "5598  3384700.0                 0.0                   1.0  \n",
              "5597  3721500.0                 0.0                   1.0  "
            ]
          },
          "execution_count": 9,
          "metadata": {},
          "output_type": "execute_result"
        }
      ],
      "source": [
        "df.head()"
      ]
    },
    {
      "cell_type": "code",
      "execution_count": 10,
      "metadata": {},
      "outputs": [
        {
          "data": {
            "text/plain": [
              "4481"
            ]
          },
          "execution_count": 10,
          "metadata": {},
          "output_type": "execute_result"
        }
      ],
      "source": [
        "int(len(df) * .8)"
      ]
    },
    {
      "cell_type": "code",
      "execution_count": 11,
      "metadata": {},
      "outputs": [
        {
          "data": {
            "text/plain": [
              "array([0.000e+00, 1.000e+00, 2.000e+00, ..., 5.599e+03, 5.600e+03,\n",
              "       5.601e+03], dtype=float32)"
            ]
          },
          "execution_count": 11,
          "metadata": {},
          "output_type": "execute_result"
        }
      ],
      "source": [
        "time = np.arange(len(df), dtype=\"float32\")\n",
        "time"
      ]
    },
    {
      "cell_type": "code",
      "execution_count": 12,
      "metadata": {
        "id": "Zswl7jRtGzkk"
      },
      "outputs": [],
      "source": [
        "def plot_series(time, series, format=\"-\", start=0, end=None):\n",
        "    plt.plot(time[start:end], series[start:end], format)\n",
        "    plt.xlabel(\"Time\")\n",
        "    plt.ylabel(\"Value\")\n",
        "    plt.grid(True)\n",
        "\n",
        "# def trend(time, slope=0):\n",
        "#     return slope * time\n",
        "\n",
        "# def seasonal_pattern(season_time):\n",
        "#     \"\"\"Just an arbitrary pattern, you can change it if you wish\"\"\"\n",
        "#     return np.where(season_time < 0.4,\n",
        "#                     np.cos(season_time * 2 * np.pi),\n",
        "#                     1 / np.exp(3 * season_time))\n",
        "\n",
        "# def seasonality(time, period, amplitude=1, phase=0):\n",
        "#     \"\"\"Repeats the same pattern at each period\"\"\"\n",
        "#     season_time = ((time + phase) % period) / period\n",
        "#     return amplitude * seasonal_pattern(season_time)\n",
        "\n",
        "# def noise(time, noise_level=1, seed=None):\n",
        "#     rnd = np.random.RandomState(seed)\n",
        "#     return rnd.randn(len(time)) * noise_level\n",
        "\n",
        "# time = np.arange(4 * 365 + 1, dtype=\"float32\")\n",
        "# baseline = 10\n",
        "# series = trend(time, 0.1)  \n",
        "# baseline = 10\n",
        "# amplitude = 40\n",
        "# slope = 0.05\n",
        "# noise_level = 5\n",
        "\n",
        "# # Create the series\n",
        "# series = baseline + trend(time, slope) + seasonality(time, period=365, amplitude=amplitude)\n",
        "# # Update with noise\n",
        "# series += noise(time, noise_level, seed=42)\n",
        "\n",
        "\n",
        "# df.set_index(\"date\", inplace=True)\n",
        "# df = df[[\"5. adjusted close\"]]\n",
        "\n",
        "# df.sort_values(by=[\"date\"], ascending=True, inplace=True)\n",
        "\n",
        "df.reset_index(inplace=True)\n",
        "\n",
        "series = df[\"5. adjusted close\"].to_numpy()\n",
        "\n",
        "time = np.arange(len(df), dtype=\"float32\")\n",
        "\n",
        "\n",
        "split_time = int(len(series) * .8)\n",
        "time_train = time[:split_time]\n",
        "x_train = series[:split_time]\n",
        "time_valid = time[split_time:]\n",
        "x_valid = series[split_time:]\n",
        "\n",
        "window_size = 20\n",
        "batch_size = 32\n",
        "shuffle_buffer_size = split_time"
      ]
    },
    {
      "cell_type": "code",
      "execution_count": 13,
      "metadata": {
        "id": "4sTTIOCbyShY"
      },
      "outputs": [],
      "source": [
        "def windowed_dataset(series, window_size, batch_size, shuffle_buffer):\n",
        "  dataset = tf.data.Dataset.from_tensor_slices(series)\n",
        "  dataset = dataset.window(window_size + 1, shift=1, drop_remainder=True)\n",
        "  dataset = dataset.flat_map(lambda window: window.batch(window_size + 1))\n",
        "  dataset = dataset.shuffle(shuffle_buffer).map(lambda window: (window[:-1], window[-1]))\n",
        "  dataset = dataset.batch(batch_size).prefetch(1)\n",
        "  return dataset"
      ]
    },
    {
      "cell_type": "code",
      "execution_count": 14,
      "metadata": {
        "id": "A1Hl39rklkLm"
      },
      "outputs": [
        {
          "name": "stdout",
          "output_type": "stream",
          "text": [
            "Epoch 1/30\n",
            "140/140 [==============================] - 12s 31ms/step - loss: 3.0287 - mae: 3.5110 - lr: 1.0000e-08\n",
            "Epoch 2/30\n",
            "140/140 [==============================] - 5s 27ms/step - loss: 2.8542 - mae: 3.3345 - lr: 1.1220e-08\n",
            "Epoch 3/30\n",
            "140/140 [==============================] - 5s 30ms/step - loss: 2.6828 - mae: 3.1611 - lr: 1.2589e-08\n",
            "Epoch 4/30\n",
            "140/140 [==============================] - 5s 30ms/step - loss: 2.5111 - mae: 2.9873 - lr: 1.4125e-08\n",
            "Epoch 5/30\n",
            "140/140 [==============================] - 5s 30ms/step - loss: 2.3421 - mae: 2.8115 - lr: 1.5849e-08\n",
            "Epoch 6/30\n",
            "140/140 [==============================] - 5s 29ms/step - loss: 2.1801 - mae: 2.6325 - lr: 1.7783e-08\n",
            "Epoch 7/30\n",
            "140/140 [==============================] - 5s 29ms/step - loss: 2.0307 - mae: 2.4585 - lr: 1.9953e-08\n",
            "Epoch 8/30\n",
            "140/140 [==============================] - 9s 57ms/step - loss: 1.8964 - mae: 2.3027 - lr: 2.2387e-08\n",
            "Epoch 9/30\n",
            "140/140 [==============================] - 6s 36ms/step - loss: 1.7786 - mae: 2.1690 - lr: 2.5119e-08\n",
            "Epoch 10/30\n",
            "140/140 [==============================] - 5s 31ms/step - loss: 1.6768 - mae: 2.0593 - lr: 2.8184e-08\n",
            "Epoch 11/30\n",
            "140/140 [==============================] - 5s 29ms/step - loss: 1.5861 - mae: 1.9659 - lr: 3.1623e-08\n",
            "Epoch 12/30\n",
            "140/140 [==============================] - 5s 30ms/step - loss: 1.5021 - mae: 1.8843 - lr: 3.5481e-08\n",
            "Epoch 13/30\n",
            "140/140 [==============================] - 5s 30ms/step - loss: 1.4189 - mae: 1.7996 - lr: 3.9811e-08\n",
            "Epoch 14/30\n",
            "140/140 [==============================] - 5s 30ms/step - loss: 1.3316 - mae: 1.7084 - lr: 4.4668e-08\n",
            "Epoch 15/30\n",
            "140/140 [==============================] - 5s 31ms/step - loss: 1.2358 - mae: 1.6067 - lr: 5.0119e-08\n",
            "Epoch 16/30\n",
            "140/140 [==============================] - 5s 30ms/step - loss: 1.1298 - mae: 1.4960 - lr: 5.6234e-08\n",
            "Epoch 17/30\n",
            "140/140 [==============================] - 7s 42ms/step - loss: 1.0165 - mae: 1.3750 - lr: 6.3096e-08\n",
            "Epoch 18/30\n",
            "140/140 [==============================] - 5s 31ms/step - loss: 0.9115 - mae: 1.2595 - lr: 7.0795e-08\n",
            "Epoch 19/30\n",
            "140/140 [==============================] - 5s 28ms/step - loss: 0.8215 - mae: 1.1622 - lr: 7.9433e-08\n",
            "Epoch 20/30\n",
            "140/140 [==============================] - 5s 29ms/step - loss: 0.7383 - mae: 1.0707 - lr: 8.9125e-08\n",
            "Epoch 21/30\n",
            "140/140 [==============================] - 5s 28ms/step - loss: 0.6449 - mae: 0.9674 - lr: 1.0000e-07\n",
            "Epoch 22/30\n",
            "140/140 [==============================] - 5s 29ms/step - loss: 0.5499 - mae: 0.8565 - lr: 1.1220e-07\n",
            "Epoch 23/30\n",
            "140/140 [==============================] - 5s 29ms/step - loss: 0.4883 - mae: 0.7833 - lr: 1.2589e-07\n",
            "Epoch 24/30\n",
            "140/140 [==============================] - 5s 29ms/step - loss: 0.4451 - mae: 0.7379 - lr: 1.4125e-07\n",
            "Epoch 25/30\n",
            "140/140 [==============================] - 5s 27ms/step - loss: 0.4218 - mae: 0.7194 - lr: 1.5849e-07\n",
            "Epoch 26/30\n",
            "140/140 [==============================] - 5s 28ms/step - loss: 0.4048 - mae: 0.7054 - lr: 1.7783e-07\n",
            "Epoch 27/30\n",
            "140/140 [==============================] - 5s 29ms/step - loss: 0.3965 - mae: 0.7003 - lr: 1.9953e-07\n",
            "Epoch 28/30\n",
            "140/140 [==============================] - 5s 29ms/step - loss: 0.3773 - mae: 0.6814 - lr: 2.2387e-07\n",
            "Epoch 29/30\n",
            "140/140 [==============================] - 5s 28ms/step - loss: 0.3565 - mae: 0.6599 - lr: 2.5119e-07\n",
            "Epoch 30/30\n",
            "140/140 [==============================] - 5s 29ms/step - loss: 0.3295 - mae: 0.6327 - lr: 2.8184e-07\n"
          ]
        }
      ],
      "source": [
        "tf.keras.backend.clear_session()\n",
        "tf.random.set_seed(51)\n",
        "np.random.seed(51)\n",
        "\n",
        "tf.keras.backend.clear_session()\n",
        "dataset = windowed_dataset(x_train, window_size, batch_size, shuffle_buffer_size)\n",
        "\n",
        "model = tf.keras.models.Sequential([\n",
        "  tf.keras.layers.Lambda(lambda x: tf.expand_dims(x, axis=-1),\n",
        "                      input_shape=[None]),\n",
        "    tf.keras.layers.Bidirectional(tf.keras.layers.LSTM(32, return_sequences=True)),\n",
        "  tf.keras.layers.Bidirectional(tf.keras.layers.LSTM(32)),\n",
        "  tf.keras.layers.Dense(1),\n",
        "  tf.keras.layers.Lambda(lambda x: x * 100.0)\n",
        "])\n",
        "\n",
        "lr_schedule = tf.keras.callbacks.LearningRateScheduler(\n",
        "    lambda epoch: 1e-8 * 10**(epoch / 20))\n",
        "optimizer = tf.keras.optimizers.SGD(learning_rate=1e-8, momentum=0.9)\n",
        "model.compile(loss=tf.keras.losses.Huber(),\n",
        "              optimizer=optimizer,\n",
        "              metrics=[\"mae\"])\n",
        "history = model.fit(dataset, epochs=30, callbacks=[lr_schedule])"
      ]
    },
    {
      "cell_type": "code",
      "execution_count": 16,
      "metadata": {
        "id": "AkBsrsXMzoWR"
      },
      "outputs": [
        {
          "data": {
            "text/plain": [
              "(1e-08, 1e-06, 0.0, 5.0)"
            ]
          },
          "execution_count": 16,
          "metadata": {},
          "output_type": "execute_result"
        },
        {
          "data": {
            "image/png": "[encoded data removed]",
            "text/plain": [
              "<Figure size 432x288 with 1 Axes>"
            ]
          },
          "metadata": {
            "needs_background": "light"
          },
          "output_type": "display_data"
        }
      ],
      "source": [
        "plt.semilogx(history.history[\"lr\"], history.history[\"loss\"])\n",
        "plt.axis([1e-8, 1e-6, 0, 5])"
      ]
    },
    {
      "cell_type": "code",
      "execution_count": 133,
      "metadata": {
        "id": "4uh-97bpLZCA"
      },
      "outputs": [],
      "source": [
        "# This code block will take some time to run.\n",
        "# But it will run in the background, without displaying/printing \n",
        "# the information about the number of epochs.\n",
        "\n",
        "\n",
        "# tf.keras.backend.clear_session()\n",
        "# tf.random.set_seed(51)\n",
        "# np.random.seed(51)\n",
        "\n",
        "# tf.keras.backend.clear_session()\n",
        "# dataset = windowed_dataset(x_train, window_size, batch_size, shuffle_buffer_size)\n",
        "\n",
        "# model = tf.keras.models.Sequential([\n",
        "#   tf.keras.layers.Lambda(lambda x: tf.expand_dims(x, axis=-1),\n",
        "#                       input_shape=[None]),\n",
        "#    tf.keras.layers.Bidirectional(tf.keras.layers.LSTM(32, return_sequences=True)),\n",
        "#   tf.keras.layers.Bidirectional(tf.keras.layers.LSTM(32)),\n",
        "#   tf.keras.layers.Dense(1),\n",
        "#   tf.keras.layers.Lambda(lambda x: x * 100.0)\n",
        "# ])\n",
        "\n",
        "\n",
        "# model.compile(loss=\"mse\", optimizer=tf.keras.optimizers.SGD(learning_rate=1e-5, momentum=0.9),metrics=[\"mae\"])\n",
        "# history = model.fit(dataset,epochs=50,verbose=0)"
      ]
    },
    {
      "cell_type": "code",
      "execution_count": 17,
      "metadata": {
        "id": "icGDaND7z0ne"
      },
      "outputs": [
        {
          "data": {
            "image/png": "[encoded data removed]",
            "text/plain": [
              "<Figure size 720x432 with 1 Axes>"
            ]
          },
          "metadata": {
            "needs_background": "light"
          },
          "output_type": "display_data"
        }
      ],
      "source": [
        "forecast = []\n",
        "results = []\n",
        "for time in range(len(series) - window_size):\n",
        "  forecast.append(model.predict(series[time:time + window_size][np.newaxis]))\n",
        "\n",
        "forecast = forecast[split_time-window_size:]\n",
        "results = np.array(forecast)[:, 0, 0]\n",
        "\n",
        "\n",
        "plt.figure(figsize=(10, 6))\n",
        "\n",
        "plot_series(time_valid, x_valid)\n",
        "plot_series(time_valid, results)"
      ]
    },
    {
      "cell_type": "code",
      "execution_count": 18,
      "metadata": {
        "id": "KfPeqI7rz4LD"
      },
      "outputs": [
        {
          "data": {
            "text/plain": [
              "44.575188"
            ]
          },
          "execution_count": 18,
          "metadata": {},
          "output_type": "execute_result"
        }
      ],
      "source": [
        "tf.keras.metrics.mean_absolute_error(x_valid, results).numpy()"
      ]
    },
    {
      "cell_type": "markdown",
      "metadata": {},
      "source": []
    },
    {
      "cell_type": "code",
      "execution_count": 19,
      "metadata": {
        "id": "JUsdZB_tzDLe"
      },
      "outputs": [
        {
          "data": {
            "text/plain": [
              "<Figure size 432x288 with 0 Axes>"
            ]
          },
          "execution_count": 19,
          "metadata": {},
          "output_type": "execute_result"
        },
        {
          "data": {
            "image/png": "[encoded data removed]",
            "text/plain": [
              "<Figure size 432x288 with 1 Axes>"
            ]
          },
          "metadata": {
            "needs_background": "light"
          },
          "output_type": "display_data"
        },
        {
          "data": {
            "image/png": "[encoded data removed]",
            "text/plain": [
              "<Figure size 432x288 with 1 Axes>"
            ]
          },
          "metadata": {
            "needs_background": "light"
          },
          "output_type": "display_data"
        },
        {
          "data": {
            "text/plain": [
              "<Figure size 432x288 with 0 Axes>"
            ]
          },
          "metadata": {},
          "output_type": "display_data"
        }
      ],
      "source": [
        "import matplotlib.image  as mpimg\n",
        "import matplotlib.pyplot as plt\n",
        "\n",
        "#-----------------------------------------------------------\n",
        "# Retrieve a list of list results on training and test data\n",
        "# sets for each training epoch\n",
        "#-----------------------------------------------------------\n",
        "mae=history.history['mae']\n",
        "loss=history.history['loss']\n",
        "\n",
        "epochs=range(len(loss)) # Get number of epochs\n",
        "\n",
        "#------------------------------------------------\n",
        "# Plot MAE and Loss\n",
        "#------------------------------------------------\n",
        "plt.plot(epochs, mae, 'r')\n",
        "plt.plot(epochs, loss, 'b')\n",
        "plt.title('MAE and Loss')\n",
        "plt.xlabel(\"Epochs\")\n",
        "plt.ylabel(\"Accuracy\")\n",
        "plt.legend([\"MAE\", \"Loss\"])\n",
        "\n",
        "plt.figure()\n",
        "\n",
        "epochs_zoom = epochs[200:]\n",
        "mae_zoom = mae[200:]\n",
        "loss_zoom = loss[200:]\n",
        "\n",
        "#------------------------------------------------\n",
        "# Plot Zoomed MAE and Loss\n",
        "#------------------------------------------------\n",
        "plt.plot(epochs_zoom, mae_zoom, 'r')\n",
        "plt.plot(epochs_zoom, loss_zoom, 'b')\n",
        "plt.title('MAE and Loss')\n",
        "plt.xlabel(\"Epochs\")\n",
        "plt.ylabel(\"Accuracy\")\n",
        "plt.legend([\"MAE\", \"Loss\"])\n",
        "\n",
        "plt.figure()"
      ]
    },
    {
      "cell_type": "code",
      "execution_count": 20,
      "metadata": {
        "id": "3CGaYFxXNEAK"
      },
      "outputs": [],
      "source": [
        "# This code block will take some time to run.\n",
        "# But it will run in the background, without displaying/printing \n",
        "# the information about the number of epochs.\n",
        "\n",
        "# tf.keras.backend.clear_session()\n",
        "# dataset = windowed_dataset(x_train, window_size, batch_size, shuffle_buffer_size)\n",
        "\n",
        "# model = tf.keras.models.Sequential([\n",
        "#   tf.keras.layers.Lambda(lambda x: tf.expand_dims(x, axis=-1), input_shape=[None]),\n",
        "#   tf.keras.layers.Bidirectional(tf.keras.layers.LSTM(32, return_sequences=True)),\n",
        "#   tf.keras.layers.Bidirectional(tf.keras.layers.LSTM(32)),\n",
        "#   tf.keras.layers.Dense(1)\n",
        "#   tf.keras.layers.Lambda(lambda x: x * 100.0)\n",
        "# ])\n",
        "\n",
        "\n",
        "# model.compile(loss=\"mse\", optimizer=tf.keras.optimizers.SGD(learning_rate=1e-6, momentum=0.9))\n",
        "# model.fit(dataset,epochs=10, verbose=0)"
      ]
    },
    {
      "cell_type": "code",
      "execution_count": null,
      "metadata": {
        "id": "FJ3R8ysauz9e"
      },
      "outputs": [],
      "source": [
        "# tf.keras.backend.clear_session()\n",
        "# dataset = windowed_dataset(x_train, window_size, batch_size, shuffle_buffer_size)\n",
        "\n",
        "# model = tf.keras.models.Sequential([\n",
        "#   tf.keras.layers.Lambda(lambda x: tf.expand_dims(x, axis=-1),\n",
        "#                       input_shape=[None]),\n",
        "#   tf.keras.layers.Bidirectional(tf.keras.layers.LSTM(32, return_sequences=True)),\n",
        "#   tf.keras.layers.Bidirectional(tf.keras.layers.LSTM(32, return_sequences=True)),\n",
        "#   tf.keras.layers.Bidirectional(tf.keras.layers.LSTM(32)),\n",
        "#   tf.keras.layers.Dense(1),\n",
        "#   tf.keras.layers.Lambda(lambda x: x * 100.0)\n",
        "# ])\n",
        "\n",
        "\n",
        "# model.compile(loss=\"mse\", optimizer=tf.keras.optimizers.SGD(learning_rate=1e-6, momentum=0.9))\n",
        "# model.fit(dataset,epochs=100)"
      ]
    }
  ],
  "metadata": {
    "accelerator": "GPU",
    "colab": {
      "collapsed_sections": [],
      "include_colab_link": true,
      "name": "C4_W3_Lab_2_LSTM.ipynb",
      "provenance": [],
      "toc_visible": true
    },
    "kernelspec": {
      "display_name": "Python 3",
      "language": "python",
      "name": "python3"
    }
  },
  "nbformat": 4,
  "nbformat_minor": 0
}
