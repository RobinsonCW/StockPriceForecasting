{
 "cells": [
  {
   "cell_type": "markdown",
   "metadata": {
    "pycharm": {}
   },
   "source": [
    "# Recurrent Neural Networks"
   ]
  },
  {
   "cell_type": "markdown",
   "metadata": {
    "pycharm": {}
   },
   "source": [
    "## Univariate Time Series Regression"
   ]
  },
  {
   "cell_type": "markdown",
   "metadata": {
    "pycharm": {}
   },
   "source": [
    "This notebook demonstrates how to forecast the S&P 500 index using a Recurrent Neural Network."
   ]
  },
  {
   "cell_type": "markdown",
   "metadata": {
    "pycharm": {}
   },
   "source": [
    "## Imports & Settings"
   ]
  },
  {
   "cell_type": "code",
   "execution_count": 1,
   "metadata": {
    "ExecuteTime": {
     "end_time": "2021-02-23T06:36:30.844209Z",
     "start_time": "2021-02-23T06:36:30.842448Z"
    }
   },
   "outputs": [],
   "source": [
    "import warnings\n",
    "warnings.filterwarnings('ignore')"
   ]
  },
  {
   "cell_type": "code",
   "execution_count": 2,
   "metadata": {
    "ExecuteTime": {
     "end_time": "2021-02-23T06:36:30.861089Z",
     "start_time": "2021-02-23T06:36:30.848187Z"
    },
    "pycharm": {}
   },
   "outputs": [],
   "source": [
    "%matplotlib inline\n",
    "\n",
    "from pathlib import Path\n",
    "\n",
    "import numpy as np\n",
    "import pandas as pd\n",
    "import pandas_datareader.data as web\n",
    "from scipy.stats import spearmanr\n",
    "\n",
    "from sklearn.metrics import mean_squared_error\n",
    "from sklearn.preprocessing import MinMaxScaler\n",
    "\n",
    "import tensorflow as tf\n",
    "from tensorflow.keras.callbacks import ModelCheckpoint, EarlyStopping\n",
    "from tensorflow.keras.models import Sequential\n",
    "from tensorflow.keras.layers import Dense, LSTM\n",
    "from tensorflow import keras\n",
    "\n",
    "import matplotlib.pyplot as plt\n",
    "import seaborn as sns"
   ]
  },
  {
   "cell_type": "code",
   "execution_count": 3,
   "metadata": {
    "ExecuteTime": {
     "end_time": "2021-02-23T06:36:30.871046Z",
     "start_time": "2021-02-23T06:36:30.862297Z"
    }
   },
   "outputs": [
    {
     "name": "stdout",
     "output_type": "stream",
     "text": [
      "Using GPU\n"
     ]
    }
   ],
   "source": [
    "gpu_devices = tf.config.experimental.list_physical_devices('GPU')\n",
    "if gpu_devices:\n",
    "    print('Using GPU')\n",
    "    tf.config.experimental.set_memory_growth(gpu_devices[0], True)\n",
    "else:\n",
    "    print('Using CPU')"
   ]
  },
  {
   "cell_type": "code",
   "execution_count": 4,
   "metadata": {
    "ExecuteTime": {
     "end_time": "2021-02-23T06:36:30.878498Z",
     "start_time": "2021-02-23T06:36:30.872701Z"
    },
    "pycharm": {}
   },
   "outputs": [],
   "source": [
    "sns.set_style('whitegrid')\n",
    "np.random.seed(42)"
   ]
  },
  {
   "cell_type": "code",
   "execution_count": 5,
   "metadata": {
    "ExecuteTime": {
     "end_time": "2021-02-23T06:36:30.886656Z",
     "start_time": "2021-02-23T06:36:30.880270Z"
    }
   },
   "outputs": [],
   "source": [
    "results_path = Path('results', 'univariate_time_series')\n",
    "if not results_path.exists():\n",
    "    results_path.mkdir(parents=True)"
   ]
  },
  {
   "cell_type": "markdown",
   "metadata": {
    "pycharm": {}
   },
   "source": [
    "## Get Data"
   ]
  },
  {
   "cell_type": "markdown",
   "metadata": {
    "pycharm": {}
   },
   "source": [
    "We obtain data for 2010-2018 from the Federal Reserve Bank’s Data Service [FRED](https://fred.stlouisfed.org/) using the [pandas_datareader](https://pandas-datareader.readthedocs.io/) library in introduced in [Chapter 2 on Market and Fundamental Data](../02_market_and_fundamental_data)."
   ]
  },
  {
   "cell_type": "code",
   "execution_count": 6,
   "metadata": {
    "ExecuteTime": {
     "end_time": "2021-02-23T06:36:31.318516Z",
     "start_time": "2021-02-23T06:36:30.888059Z"
    },
    "pycharm": {}
   },
   "outputs": [
    {
     "data": {
      "image/png": "[encoded data removed]",
      "text/plain": [
       "<Figure size 1008x288 with 1 Axes>"
      ]
     },
     "metadata": {},
     "output_type": "display_data"
    }
   ],
   "source": [
    "# sp500 = web.DataReader('SP500', 'fred', start='2010', end='2020').dropna()\n",
    "\n",
    "sp500 = pd.read_csv(\"../../../../../../../data/APPL.csv\", low_memory=False)\n",
    "\n",
    "sp500.set_index(\"date\", inplace=True)\n",
    "sp500 = sp500[[\"5. adjusted close\"]]\n",
    "\n",
    "sp500.sort_values(by=[\"date\"], ascending=True, inplace=True)\n",
    "\n",
    "\n",
    "ax = sp500[\"5. adjusted close\"].plot(title='Nasdaq (AAPL)',\n",
    "           legend=False,\n",
    "           figsize=(14, 4),\n",
    "           rot=0)\n",
    "ax.set_xlabel('')\n",
    "sns.despine()"
   ]
  },
  {
   "cell_type": "code",
   "execution_count": 7,
   "metadata": {},
   "outputs": [
    {
     "data": {
      "text/plain": [
       "(5602, 1)"
      ]
     },
     "execution_count": 7,
     "metadata": {},
     "output_type": "execute_result"
    }
   ],
   "source": [
    "sp500.shape"
   ]
  },
  {
   "cell_type": "code",
   "execution_count": 8,
   "metadata": {},
   "outputs": [
    {
     "data": {
      "text/html": [
       "<div>\n",
       "<style scoped>\n",
       "    .dataframe tbody tr th:only-of-type {\n",
       "        vertical-align: middle;\n",
       "    }\n",
       "\n",
       "    .dataframe tbody tr th {\n",
       "        vertical-align: top;\n",
       "    }\n",
       "\n",
       "    .dataframe thead th {\n",
       "        text-align: right;\n",
       "    }\n",
       "</style>\n",
       "<table border=\"1\" class=\"dataframe\">\n",
       "  <thead>\n",
       "    <tr style=\"text-align: right;\">\n",
       "      <th></th>\n",
       "      <th>5. adjusted close</th>\n",
       "    </tr>\n",
       "    <tr>\n",
       "      <th>date</th>\n",
       "      <th></th>\n",
       "    </tr>\n",
       "  </thead>\n",
       "  <tbody>\n",
       "    <tr>\n",
       "      <th>1999-11-01</th>\n",
       "      <td>0.594112</td>\n",
       "    </tr>\n",
       "    <tr>\n",
       "      <th>1999-11-02</th>\n",
       "      <td>0.614243</td>\n",
       "    </tr>\n",
       "    <tr>\n",
       "      <th>1999-11-03</th>\n",
       "      <td>0.623810</td>\n",
       "    </tr>\n",
       "    <tr>\n",
       "      <th>1999-11-04</th>\n",
       "      <td>0.640037</td>\n",
       "    </tr>\n",
       "    <tr>\n",
       "      <th>1999-11-05</th>\n",
       "      <td>0.675935</td>\n",
       "    </tr>\n",
       "    <tr>\n",
       "      <th>...</th>\n",
       "      <td>...</td>\n",
       "    </tr>\n",
       "    <tr>\n",
       "      <th>2022-01-28</th>\n",
       "      <td>170.330000</td>\n",
       "    </tr>\n",
       "    <tr>\n",
       "      <th>2022-01-31</th>\n",
       "      <td>174.780000</td>\n",
       "    </tr>\n",
       "    <tr>\n",
       "      <th>2022-02-01</th>\n",
       "      <td>174.610000</td>\n",
       "    </tr>\n",
       "    <tr>\n",
       "      <th>2022-02-02</th>\n",
       "      <td>175.840000</td>\n",
       "    </tr>\n",
       "    <tr>\n",
       "      <th>2022-02-03</th>\n",
       "      <td>172.900000</td>\n",
       "    </tr>\n",
       "  </tbody>\n",
       "</table>\n",
       "<p>5602 rows × 1 columns</p>\n",
       "</div>"
      ],
      "text/plain": [
       "            5. adjusted close\n",
       "date                         \n",
       "1999-11-01           0.594112\n",
       "1999-11-02           0.614243\n",
       "1999-11-03           0.623810\n",
       "1999-11-04           0.640037\n",
       "1999-11-05           0.675935\n",
       "...                       ...\n",
       "2022-01-28         170.330000\n",
       "2022-01-31         174.780000\n",
       "2022-02-01         174.610000\n",
       "2022-02-02         175.840000\n",
       "2022-02-03         172.900000\n",
       "\n",
       "[5602 rows x 1 columns]"
      ]
     },
     "execution_count": 8,
     "metadata": {},
     "output_type": "execute_result"
    }
   ],
   "source": [
    "sp500"
   ]
  },
  {
   "cell_type": "markdown",
   "metadata": {
    "pycharm": {}
   },
   "source": [
    "## Preprocessing"
   ]
  },
  {
   "cell_type": "code",
   "execution_count": 9,
   "metadata": {
    "ExecuteTime": {
     "end_time": "2021-02-23T06:36:31.322036Z",
     "start_time": "2021-02-23T06:36:31.319768Z"
    }
   },
   "outputs": [],
   "source": [
    "scaler = MinMaxScaler()"
   ]
  },
  {
   "cell_type": "code",
   "execution_count": 10,
   "metadata": {
    "ExecuteTime": {
     "end_time": "2021-02-23T06:36:31.337265Z",
     "start_time": "2021-02-23T06:36:31.323341Z"
    },
    "pycharm": {}
   },
   "outputs": [
    {
     "data": {
      "text/plain": [
       "count    5602.000000\n",
       "mean        0.128925\n",
       "std         0.196245\n",
       "min         0.000000\n",
       "25%         0.005819\n",
       "50%         0.052973\n",
       "75%         0.151525\n",
       "max         1.000000\n",
       "dtype: float64"
      ]
     },
     "execution_count": 10,
     "metadata": {},
     "output_type": "execute_result"
    }
   ],
   "source": [
    "sp500_scaled = pd.Series(scaler.fit_transform(sp500).squeeze(), \n",
    "                         index=sp500.index)\n",
    "sp500_scaled.describe()"
   ]
  },
  {
   "cell_type": "markdown",
   "metadata": {
    "pycharm": {}
   },
   "source": [
    "## Generating recurrent sequences from our time series\n",
    "\n",
    "Our time series is a sequence of numbers indexed by time:\n",
    "\n",
    "$$x_{0},x_{1},x_{2},...,x_{T}$$\n",
    "\n",
    "where $\\{x_t\\}$ is the numerical value in period $t$ and  $T$ is the total length of the series. \n",
    "\n",
    "To apply a RNN for regression of classification, we use a sliding window to construct a rolling set of input/output pairs for our model to learn from as animated below.\n",
    "\n",
    "<img src=\"../assets/timeseries_windowing.gif\" width=600 height=600/>"
   ]
  },
  {
   "cell_type": "markdown",
   "metadata": {
    "pycharm": {}
   },
   "source": [
    "We will generate sequences of 63 trading days, approximately three months, and use a single LSTM layer with 20 hidden units to predict the index value one timestep ahead. \n",
    "The input to every LSTM layer must have three dimensions, namely:\n",
    "- **Samples**: One sequence is one sample. A batch contains one or more samples.\n",
    "- **Time Steps**: One time step is one point of observation in the sample.\n",
    "- **Features**: One feature is one observation at a time step.\n",
    "\n",
    "Our S&P 500 sample has 2,264 observations or time steps. We will create overlapping sequences using a window of 63 observations each.\n",
    "For a simpler window of size T = 5, we obtain input-output pairs as shown in the following table:"
   ]
  },
  {
   "cell_type": "markdown",
   "metadata": {
    "pycharm": {}
   },
   "source": [
    "$$\\begin{array}{c|c}\n",
    "\\text{Input} & \\text{Output}\\\\\n",
    "\\hline  {\\langle x_1,x_2,x_3,x_4,x_5\\rangle} & { x_6} \\\\\n",
    "\\ {\\langle x_{2},x_{3},x_{4},x_{5},x_{6} \\rangle } & {x_{7} } \\\\\n",
    "  {\\vdots} & {\\vdots}\\\\\n",
    " { \\langle x_{T-5},x_{T-4},x_{T-3},x_{T-2},x_{T-1} \\rangle } &  {x_{T}}\n",
    "\\end{array}$$"
   ]
  },
  {
   "cell_type": "markdown",
   "metadata": {
    "pycharm": {}
   },
   "source": [
    "Generally speaking, for window size S, the relationship takes the form \n",
    "\n",
    "$$x_t = f( x_{t-1}, x_{t-2}, ..., x_{t-S}) \\quad\\forall t=S, S+1, ..., T$$\n",
    "\n",
    "Each of the $T-S$ lagged input sequence or vector is of length S with a corresponding scalar output."
   ]
  },
  {
   "cell_type": "markdown",
   "metadata": {
    "pycharm": {}
   },
   "source": [
    "We can use the function create_univariate_rnn_data() to stack sequences selected using a rolling windows:"
   ]
  },
  {
   "cell_type": "code",
   "execution_count": 11,
   "metadata": {
    "ExecuteTime": {
     "end_time": "2021-02-23T06:36:31.343430Z",
     "start_time": "2021-02-23T06:36:31.338826Z"
    },
    "pycharm": {}
   },
   "outputs": [],
   "source": [
    "def create_univariate_rnn_data(data, window_size):\n",
    "    n = len(data)\n",
    "    y = data[window_size:]\n",
    "    data = data.values.reshape(-1, 1) # make 2D\n",
    "    X = np.hstack(tuple([data[i: n-j, :] for i, j in enumerate(range(window_size, 0, -1))]))\n",
    "    return pd.DataFrame(X, index=y.index), y"
   ]
  },
  {
   "cell_type": "markdown",
   "metadata": {
    "pycharm": {}
   },
   "source": [
    "We apply this function to the rescaled stock index for a window_size=63 to obtain a two-dimensional dataset of shape number of samples x number of timesteps:"
   ]
  },
  {
   "cell_type": "code",
   "execution_count": 12,
   "metadata": {
    "ExecuteTime": {
     "end_time": "2021-02-23T06:36:31.351064Z",
     "start_time": "2021-02-23T06:36:31.344858Z"
    },
    "pycharm": {}
   },
   "outputs": [],
   "source": [
    "window_size = 63"
   ]
  },
  {
   "cell_type": "code",
   "execution_count": 13,
   "metadata": {
    "ExecuteTime": {
     "end_time": "2021-02-23T06:36:31.364327Z",
     "start_time": "2021-02-23T06:36:31.352204Z"
    },
    "pycharm": {}
   },
   "outputs": [],
   "source": [
    "X, y = create_univariate_rnn_data(sp500_scaled, window_size=window_size)"
   ]
  },
  {
   "cell_type": "code",
   "execution_count": 14,
   "metadata": {
    "ExecuteTime": {
     "end_time": "2021-02-23T06:36:31.386219Z",
     "start_time": "2021-02-23T06:36:31.365399Z"
    },
    "pycharm": {}
   },
   "outputs": [
    {
     "data": {
      "text/html": [
       "<div>\n",
       "<style scoped>\n",
       "    .dataframe tbody tr th:only-of-type {\n",
       "        vertical-align: middle;\n",
       "    }\n",
       "\n",
       "    .dataframe tbody tr th {\n",
       "        vertical-align: top;\n",
       "    }\n",
       "\n",
       "    .dataframe thead th {\n",
       "        text-align: right;\n",
       "    }\n",
       "</style>\n",
       "<table border=\"1\" class=\"dataframe\">\n",
       "  <thead>\n",
       "    <tr style=\"text-align: right;\">\n",
       "      <th></th>\n",
       "      <th>0</th>\n",
       "      <th>1</th>\n",
       "      <th>2</th>\n",
       "      <th>3</th>\n",
       "      <th>4</th>\n",
       "      <th>5</th>\n",
       "      <th>6</th>\n",
       "      <th>7</th>\n",
       "      <th>8</th>\n",
       "      <th>9</th>\n",
       "      <th>...</th>\n",
       "      <th>53</th>\n",
       "      <th>54</th>\n",
       "      <th>55</th>\n",
       "      <th>56</th>\n",
       "      <th>57</th>\n",
       "      <th>58</th>\n",
       "      <th>59</th>\n",
       "      <th>60</th>\n",
       "      <th>61</th>\n",
       "      <th>62</th>\n",
       "    </tr>\n",
       "    <tr>\n",
       "      <th>date</th>\n",
       "      <th></th>\n",
       "      <th></th>\n",
       "      <th></th>\n",
       "      <th></th>\n",
       "      <th></th>\n",
       "      <th></th>\n",
       "      <th></th>\n",
       "      <th></th>\n",
       "      <th></th>\n",
       "      <th></th>\n",
       "      <th></th>\n",
       "      <th></th>\n",
       "      <th></th>\n",
       "      <th></th>\n",
       "      <th></th>\n",
       "      <th></th>\n",
       "      <th></th>\n",
       "      <th></th>\n",
       "      <th></th>\n",
       "      <th></th>\n",
       "      <th></th>\n",
       "    </tr>\n",
       "  </thead>\n",
       "  <tbody>\n",
       "    <tr>\n",
       "      <th>2000-02-01</th>\n",
       "      <td>0.002163</td>\n",
       "      <td>0.002274</td>\n",
       "      <td>0.002326</td>\n",
       "      <td>0.002416</td>\n",
       "      <td>0.002613</td>\n",
       "      <td>0.002952</td>\n",
       "      <td>0.002668</td>\n",
       "      <td>0.002745</td>\n",
       "      <td>0.002779</td>\n",
       "      <td>0.002710</td>\n",
       "      <td>...</td>\n",
       "      <td>0.003271</td>\n",
       "      <td>0.003381</td>\n",
       "      <td>0.003674</td>\n",
       "      <td>0.003581</td>\n",
       "      <td>0.003368</td>\n",
       "      <td>0.003621</td>\n",
       "      <td>0.003534</td>\n",
       "      <td>0.003526</td>\n",
       "      <td>0.003173</td>\n",
       "      <td>0.003263</td>\n",
       "    </tr>\n",
       "    <tr>\n",
       "      <th>2000-02-02</th>\n",
       "      <td>0.002274</td>\n",
       "      <td>0.002326</td>\n",
       "      <td>0.002416</td>\n",
       "      <td>0.002613</td>\n",
       "      <td>0.002952</td>\n",
       "      <td>0.002668</td>\n",
       "      <td>0.002745</td>\n",
       "      <td>0.002779</td>\n",
       "      <td>0.002710</td>\n",
       "      <td>0.002661</td>\n",
       "      <td>...</td>\n",
       "      <td>0.003381</td>\n",
       "      <td>0.003674</td>\n",
       "      <td>0.003581</td>\n",
       "      <td>0.003368</td>\n",
       "      <td>0.003621</td>\n",
       "      <td>0.003534</td>\n",
       "      <td>0.003526</td>\n",
       "      <td>0.003173</td>\n",
       "      <td>0.003263</td>\n",
       "      <td>0.003116</td>\n",
       "    </tr>\n",
       "    <tr>\n",
       "      <th>2000-02-03</th>\n",
       "      <td>0.002326</td>\n",
       "      <td>0.002416</td>\n",
       "      <td>0.002613</td>\n",
       "      <td>0.002952</td>\n",
       "      <td>0.002668</td>\n",
       "      <td>0.002745</td>\n",
       "      <td>0.002779</td>\n",
       "      <td>0.002710</td>\n",
       "      <td>0.002661</td>\n",
       "      <td>0.002734</td>\n",
       "      <td>...</td>\n",
       "      <td>0.003674</td>\n",
       "      <td>0.003581</td>\n",
       "      <td>0.003368</td>\n",
       "      <td>0.003621</td>\n",
       "      <td>0.003534</td>\n",
       "      <td>0.003526</td>\n",
       "      <td>0.003173</td>\n",
       "      <td>0.003263</td>\n",
       "      <td>0.003116</td>\n",
       "      <td>0.003055</td>\n",
       "    </tr>\n",
       "    <tr>\n",
       "      <th>2000-02-04</th>\n",
       "      <td>0.002416</td>\n",
       "      <td>0.002613</td>\n",
       "      <td>0.002952</td>\n",
       "      <td>0.002668</td>\n",
       "      <td>0.002745</td>\n",
       "      <td>0.002779</td>\n",
       "      <td>0.002710</td>\n",
       "      <td>0.002661</td>\n",
       "      <td>0.002734</td>\n",
       "      <td>0.002695</td>\n",
       "      <td>...</td>\n",
       "      <td>0.003581</td>\n",
       "      <td>0.003368</td>\n",
       "      <td>0.003621</td>\n",
       "      <td>0.003534</td>\n",
       "      <td>0.003526</td>\n",
       "      <td>0.003173</td>\n",
       "      <td>0.003263</td>\n",
       "      <td>0.003116</td>\n",
       "      <td>0.003055</td>\n",
       "      <td>0.003245</td>\n",
       "    </tr>\n",
       "    <tr>\n",
       "      <th>2000-02-07</th>\n",
       "      <td>0.002613</td>\n",
       "      <td>0.002952</td>\n",
       "      <td>0.002668</td>\n",
       "      <td>0.002745</td>\n",
       "      <td>0.002779</td>\n",
       "      <td>0.002710</td>\n",
       "      <td>0.002661</td>\n",
       "      <td>0.002734</td>\n",
       "      <td>0.002695</td>\n",
       "      <td>0.002668</td>\n",
       "      <td>...</td>\n",
       "      <td>0.003368</td>\n",
       "      <td>0.003621</td>\n",
       "      <td>0.003534</td>\n",
       "      <td>0.003526</td>\n",
       "      <td>0.003173</td>\n",
       "      <td>0.003263</td>\n",
       "      <td>0.003116</td>\n",
       "      <td>0.003055</td>\n",
       "      <td>0.003245</td>\n",
       "      <td>0.003442</td>\n",
       "    </tr>\n",
       "  </tbody>\n",
       "</table>\n",
       "<p>5 rows × 63 columns</p>\n",
       "</div>"
      ],
      "text/plain": [
       "                  0         1         2         3         4         5   \\\n",
       "date                                                                     \n",
       "2000-02-01  0.002163  0.002274  0.002326  0.002416  0.002613  0.002952   \n",
       "2000-02-02  0.002274  0.002326  0.002416  0.002613  0.002952  0.002668   \n",
       "2000-02-03  0.002326  0.002416  0.002613  0.002952  0.002668  0.002745   \n",
       "2000-02-04  0.002416  0.002613  0.002952  0.002668  0.002745  0.002779   \n",
       "2000-02-07  0.002613  0.002952  0.002668  0.002745  0.002779  0.002710   \n",
       "\n",
       "                  6         7         8         9   ...        53        54  \\\n",
       "date                                                ...                       \n",
       "2000-02-01  0.002668  0.002745  0.002779  0.002710  ...  0.003271  0.003381   \n",
       "2000-02-02  0.002745  0.002779  0.002710  0.002661  ...  0.003381  0.003674   \n",
       "2000-02-03  0.002779  0.002710  0.002661  0.002734  ...  0.003674  0.003581   \n",
       "2000-02-04  0.002710  0.002661  0.002734  0.002695  ...  0.003581  0.003368   \n",
       "2000-02-07  0.002661  0.002734  0.002695  0.002668  ...  0.003368  0.003621   \n",
       "\n",
       "                  55        56        57        58        59        60  \\\n",
       "date                                                                     \n",
       "2000-02-01  0.003674  0.003581  0.003368  0.003621  0.003534  0.003526   \n",
       "2000-02-02  0.003581  0.003368  0.003621  0.003534  0.003526  0.003173   \n",
       "2000-02-03  0.003368  0.003621  0.003534  0.003526  0.003173  0.003263   \n",
       "2000-02-04  0.003621  0.003534  0.003526  0.003173  0.003263  0.003116   \n",
       "2000-02-07  0.003534  0.003526  0.003173  0.003263  0.003116  0.003055   \n",
       "\n",
       "                  61        62  \n",
       "date                            \n",
       "2000-02-01  0.003173  0.003263  \n",
       "2000-02-02  0.003263  0.003116  \n",
       "2000-02-03  0.003116  0.003055  \n",
       "2000-02-04  0.003055  0.003245  \n",
       "2000-02-07  0.003245  0.003442  \n",
       "\n",
       "[5 rows x 63 columns]"
      ]
     },
     "execution_count": 14,
     "metadata": {},
     "output_type": "execute_result"
    }
   ],
   "source": [
    "X.head()"
   ]
  },
  {
   "cell_type": "code",
   "execution_count": 15,
   "metadata": {
    "ExecuteTime": {
     "end_time": "2021-02-23T06:36:31.390988Z",
     "start_time": "2021-02-23T06:36:31.387303Z"
    },
    "pycharm": {}
   },
   "outputs": [
    {
     "data": {
      "text/plain": [
       "date\n",
       "2000-02-01    0.003116\n",
       "2000-02-02    0.003055\n",
       "2000-02-03    0.003245\n",
       "2000-02-04    0.003442\n",
       "2000-02-07    0.003697\n",
       "dtype: float64"
      ]
     },
     "execution_count": 15,
     "metadata": {},
     "output_type": "execute_result"
    }
   ],
   "source": [
    "y.head()"
   ]
  },
  {
   "cell_type": "code",
   "execution_count": 16,
   "metadata": {
    "ExecuteTime": {
     "end_time": "2021-02-23T06:36:31.399459Z",
     "start_time": "2021-02-23T06:36:31.392960Z"
    },
    "pycharm": {}
   },
   "outputs": [
    {
     "data": {
      "text/plain": [
       "(5539, 63)"
      ]
     },
     "execution_count": 16,
     "metadata": {},
     "output_type": "execute_result"
    }
   ],
   "source": [
    "X.shape"
   ]
  },
  {
   "cell_type": "code",
   "execution_count": 17,
   "metadata": {},
   "outputs": [
    {
     "data": {
      "text/plain": [
       "(5539,)"
      ]
     },
     "execution_count": 17,
     "metadata": {},
     "output_type": "execute_result"
    }
   ],
   "source": [
    "y.shape"
   ]
  },
  {
   "cell_type": "code",
   "execution_count": 18,
   "metadata": {},
   "outputs": [
    {
     "data": {
      "text/plain": [
       "5539"
      ]
     },
     "execution_count": 18,
     "metadata": {},
     "output_type": "execute_result"
    }
   ],
   "source": [
    "5602 - 63"
   ]
  },
  {
   "cell_type": "markdown",
   "metadata": {
    "pycharm": {}
   },
   "source": [
    "## Train-test split\n",
    "\n",
    "To respect the time series nature of the data, we set aside the data at the end of the sample as hold-out or test set. More specifically, we'll use the data for 2018."
   ]
  },
  {
   "cell_type": "code",
   "execution_count": 19,
   "metadata": {
    "ExecuteTime": {
     "end_time": "2021-02-23T06:36:31.649966Z",
     "start_time": "2021-02-23T06:36:31.400418Z"
    },
    "pycharm": {}
   },
   "outputs": [
    {
     "data": {
      "image/png": "[encoded data removed]",
      "text/plain": [
       "<Figure size 1008x288 with 1 Axes>"
      ]
     },
     "metadata": {},
     "output_type": "display_data"
    }
   ],
   "source": [
    "ax = sp500_scaled.plot(lw=2, figsize=(14, 4), rot=0)\n",
    "ax.set_xlabel('')\n",
    "sns.despine()"
   ]
  },
  {
   "cell_type": "code",
   "execution_count": 20,
   "metadata": {
    "ExecuteTime": {
     "end_time": "2021-02-23T06:36:31.658244Z",
     "start_time": "2021-02-23T06:36:31.651319Z"
    },
    "pycharm": {}
   },
   "outputs": [],
   "source": [
    "split_time = int(len(X) * .8)\n",
    "\n",
    "X_train = X[:split_time].values.reshape(-1, window_size, 1)\n",
    "y_train = y[:split_time]\n",
    "X_test = X[split_time:].values.reshape(-1, window_size, 1)\n",
    "y_test = y[split_time:]"
   ]
  },
  {
   "cell_type": "code",
   "execution_count": 21,
   "metadata": {},
   "outputs": [],
   "source": [
    "### this code was taken from the Coursera coure on Sequences, Time Series and Prediction\n",
    "time = np.arange(len(sp500_scaled), dtype=\"float32\")  \n",
    "time_train = time[:split_time]\n",
    "time_test = time[split_time:]"
   ]
  },
  {
   "cell_type": "code",
   "execution_count": 22,
   "metadata": {
    "ExecuteTime": {
     "end_time": "2021-02-23T06:36:31.664101Z",
     "start_time": "2021-02-23T06:36:31.659546Z"
    },
    "pycharm": {}
   },
   "outputs": [
    {
     "data": {
      "text/plain": [
       "(4431, 63, 1)"
      ]
     },
     "execution_count": 22,
     "metadata": {},
     "output_type": "execute_result"
    }
   ],
   "source": [
    "n_obs, window_size, n_features = X_train.shape\n",
    "n_obs, window_size, n_features"
   ]
  },
  {
   "cell_type": "code",
   "execution_count": 23,
   "metadata": {},
   "outputs": [
    {
     "data": {
      "text/plain": [
       "0.0031157998834417263"
      ]
     },
     "execution_count": 23,
     "metadata": {},
     "output_type": "execute_result"
    }
   ],
   "source": [
    "y_train[0]"
   ]
  },
  {
   "cell_type": "code",
   "execution_count": 24,
   "metadata": {
    "ExecuteTime": {
     "end_time": "2021-02-23T06:36:31.674631Z",
     "start_time": "2021-02-23T06:36:31.665281Z"
    },
    "pycharm": {}
   },
   "outputs": [
    {
     "data": {
      "text/plain": [
       "(4431,)"
      ]
     },
     "execution_count": 24,
     "metadata": {},
     "output_type": "execute_result"
    }
   ],
   "source": [
    "y_train.shape"
   ]
  },
  {
   "cell_type": "code",
   "execution_count": 25,
   "metadata": {},
   "outputs": [
    {
     "data": {
      "text/plain": [
       "5539"
      ]
     },
     "execution_count": 25,
     "metadata": {},
     "output_type": "execute_result"
    }
   ],
   "source": [
    "len(X)"
   ]
  },
  {
   "cell_type": "markdown",
   "metadata": {
    "pycharm": {}
   },
   "source": [
    "## Keras LSTM Layer"
   ]
  },
  {
   "cell_type": "markdown",
   "metadata": {
    "pycharm": {}
   },
   "source": [
    "Keras has several built-in RNN layers with various configuration options described in detail in the [documentation](https://keras.io/layers/recurrent/)."
   ]
  },
  {
   "cell_type": "markdown",
   "metadata": {
    "ExecuteTime": {
     "end_time": "2020-03-23T18:41:32.906454Z",
     "start_time": "2020-03-23T18:41:32.655189Z"
    },
    "pycharm": {}
   },
   "source": [
    "```\n",
    "LSTM(units,\n",
    "     activation='tanh',\n",
    "     recurrent_activation='hard_sigmoid',\n",
    "     use_bias=True,\n",
    "     kernel_initializer='glorot_uniform',\n",
    "     recurrent_initializer='orthogonal',\n",
    "     bias_initializer='zeros',\n",
    "     unit_forget_bias=True,\n",
    "     kernel_regularizer=None,\n",
    "     recurrent_regularizer=None,\n",
    "     bias_regularizer=None,\n",
    "     activity_regularizer=None,\n",
    "     kernel_constraint=None,\n",
    "     recurrent_constraint=None,\n",
    "     bias_constraint=None,\n",
    "     dropout=0.0,\n",
    "     recurrent_dropout=0.0,\n",
    "     implementation=1,\n",
    "     return_sequences=False,\n",
    "     return_state=False,\n",
    "     go_backwards=False,\n",
    "     stateful=False,\n",
    "     unroll=False)\n",
    " ```"
   ]
  },
  {
   "cell_type": "markdown",
   "metadata": {
    "pycharm": {}
   },
   "source": [
    "##  Define the Model Architecture\n",
    "\n",
    "Having created input/output pairs out of our time series and cut this into training/testing sets, we can now begin setting up our RNN.  We use Keras to quickly build a two hidden layer RNN of the following specifications\n",
    "\n",
    "- layer 1 uses an LSTM module with 20 hidden units (note here the input_shape = (window_size,1))\n",
    "- layer 2 uses a fully connected module with one unit\n",
    "- the 'mean_squared_error' loss should be used (remember: we are performing regression here)\n",
    "\n",
    "This can be constructed using just a few lines - see e.g., the [general Keras documentation](https://keras.io/getting-started/sequential-model-guide/) and the [LSTM documentation in particular](https://keras.io/layers/recurrent/) for examples of how to quickly use Keras to build neural network models.  Make sure you are initializing your optimizer given the [keras-recommended approach for RNNs](https://keras.io/optimizers/) "
   ]
  },
  {
   "cell_type": "code",
   "execution_count": 26,
   "metadata": {
    "ExecuteTime": {
     "end_time": "2021-02-23T06:36:31.921646Z",
     "start_time": "2021-02-23T06:36:31.676694Z"
    },
    "pycharm": {}
   },
   "outputs": [],
   "source": [
    "rnn = Sequential([\n",
    "    LSTM(units=10, \n",
    "         input_shape=(window_size, n_features), name='LSTM'),\n",
    "    Dense(1, name='Output')\n",
    "])"
   ]
  },
  {
   "cell_type": "markdown",
   "metadata": {
    "pycharm": {}
   },
   "source": [
    "The summary shows that the model has 1,781 parameters:"
   ]
  },
  {
   "cell_type": "code",
   "execution_count": 27,
   "metadata": {
    "ExecuteTime": {
     "end_time": "2021-02-23T06:36:31.927298Z",
     "start_time": "2021-02-23T06:36:31.922780Z"
    },
    "pycharm": {},
    "scrolled": true
   },
   "outputs": [
    {
     "name": "stdout",
     "output_type": "stream",
     "text": [
      "Model: \"sequential\"\n",
      "_________________________________________________________________\n",
      " Layer (type)                Output Shape              Param #   \n",
      "=================================================================\n",
      " LSTM (LSTM)                 (None, 10)                480       \n",
      "                                                                 \n",
      " Output (Dense)              (None, 1)                 11        \n",
      "                                                                 \n",
      "=================================================================\n",
      "Total params: 491\n",
      "Trainable params: 491\n",
      "Non-trainable params: 0\n",
      "_________________________________________________________________\n"
     ]
    }
   ],
   "source": [
    "rnn.summary()"
   ]
  },
  {
   "cell_type": "markdown",
   "metadata": {
    "pycharm": {}
   },
   "source": [
    "## Train the Model"
   ]
  },
  {
   "cell_type": "markdown",
   "metadata": {
    "pycharm": {}
   },
   "source": [
    "We train the model using the RMSProp optimizer recommended for RNN with default settings and compile the model with mean squared error for this regression problem:"
   ]
  },
  {
   "cell_type": "code",
   "execution_count": 28,
   "metadata": {
    "ExecuteTime": {
     "end_time": "2021-02-23T06:36:31.936019Z",
     "start_time": "2021-02-23T06:36:31.928473Z"
    },
    "pycharm": {}
   },
   "outputs": [],
   "source": [
    "optimizer = keras.optimizers.RMSprop(lr=0.001,\n",
    "                                     rho=0.9,\n",
    "                                     epsilon=1e-08,\n",
    "                                     decay=0.0)"
   ]
  },
  {
   "cell_type": "code",
   "execution_count": 29,
   "metadata": {
    "ExecuteTime": {
     "end_time": "2021-02-23T06:36:31.948987Z",
     "start_time": "2021-02-23T06:36:31.937213Z"
    },
    "pycharm": {}
   },
   "outputs": [],
   "source": [
    "rnn.compile(loss='mean_squared_error', \n",
    "            optimizer=optimizer)"
   ]
  },
  {
   "cell_type": "markdown",
   "metadata": {
    "pycharm": {}
   },
   "source": [
    "We define an EarlyStopping callback and train the model for up to 100 episodes. "
   ]
  },
  {
   "cell_type": "code",
   "execution_count": 30,
   "metadata": {
    "ExecuteTime": {
     "end_time": "2021-02-23T06:36:31.956938Z",
     "start_time": "2021-02-23T06:36:31.949937Z"
    }
   },
   "outputs": [],
   "source": [
    "rnn_path = (results_path / 'rnn.h5').as_posix()\n",
    "checkpointer = ModelCheckpoint(filepath=rnn_path,\n",
    "                               verbose=1,\n",
    "                               monitor='val_loss',\n",
    "                               save_best_only=True)"
   ]
  },
  {
   "cell_type": "code",
   "execution_count": 31,
   "metadata": {
    "ExecuteTime": {
     "end_time": "2021-02-23T06:36:31.964790Z",
     "start_time": "2021-02-23T06:36:31.960370Z"
    },
    "pycharm": {}
   },
   "outputs": [],
   "source": [
    "early_stopping = EarlyStopping(monitor='val_loss', \n",
    "                              patience=20,\n",
    "                              restore_best_weights=True)"
   ]
  },
  {
   "cell_type": "code",
   "execution_count": 27,
   "metadata": {
    "ExecuteTime": {
     "end_time": "2021-02-23T06:38:24.570692Z",
     "start_time": "2021-02-23T06:36:31.966149Z"
    },
    "pycharm": {},
    "scrolled": false
   },
   "outputs": [
    {
     "name": "stdout",
     "output_type": "stream",
     "text": [
      "Epoch 1/150\n",
      "219/222 [============================>.] - ETA: 0s - loss: 0.0012\n",
      "Epoch 1: val_loss improved from inf to 0.01058, saving model to results/univariate_time_series/rnn.h5\n",
      "222/222 [==============================] - 7s 18ms/step - loss: 0.0012 - val_loss: 0.0106\n",
      "Epoch 2/150\n",
      "222/222 [==============================] - ETA: 0s - loss: 3.5407e-05\n",
      "Epoch 2: val_loss did not improve from 0.01058\n",
      "222/222 [==============================] - 3s 15ms/step - loss: 3.5407e-05 - val_loss: 0.0108\n",
      "Epoch 3/150\n",
      "221/222 [============================>.] - ETA: 0s - loss: 2.5811e-05\n",
      "Epoch 3: val_loss improved from 0.01058 to 0.00634, saving model to results/univariate_time_series/rnn.h5\n",
      "222/222 [==============================] - 3s 15ms/step - loss: 2.5785e-05 - val_loss: 0.0063\n",
      "Epoch 4/150\n",
      "221/222 [============================>.] - ETA: 0s - loss: 2.0267e-05\n",
      "Epoch 4: val_loss improved from 0.00634 to 0.00186, saving model to results/univariate_time_series/rnn.h5\n",
      "222/222 [==============================] - 3s 16ms/step - loss: 2.0282e-05 - val_loss: 0.0019\n",
      "Epoch 5/150\n",
      "220/222 [============================>.] - ETA: 0s - loss: 1.7079e-05\n",
      "Epoch 5: val_loss did not improve from 0.00186\n",
      "222/222 [==============================] - 3s 16ms/step - loss: 1.7035e-05 - val_loss: 0.0020\n",
      "Epoch 6/150\n",
      "222/222 [==============================] - ETA: 0s - loss: 1.5358e-05\n",
      "Epoch 6: val_loss improved from 0.00186 to 0.00158, saving model to results/univariate_time_series/rnn.h5\n",
      "222/222 [==============================] - 3s 16ms/step - loss: 1.5358e-05 - val_loss: 0.0016\n",
      "Epoch 7/150\n",
      "221/222 [============================>.] - ETA: 0s - loss: 1.3425e-05\n",
      "Epoch 7: val_loss improved from 0.00158 to 0.00057, saving model to results/univariate_time_series/rnn.h5\n",
      "222/222 [==============================] - 4s 16ms/step - loss: 1.3399e-05 - val_loss: 5.6567e-04\n",
      "Epoch 8/150\n",
      "222/222 [==============================] - ETA: 0s - loss: 1.2746e-05\n",
      "Epoch 8: val_loss did not improve from 0.00057\n",
      "222/222 [==============================] - 4s 16ms/step - loss: 1.2746e-05 - val_loss: 7.7014e-04\n",
      "Epoch 9/150\n",
      "219/222 [============================>.] - ETA: 0s - loss: 1.1698e-05\n",
      "Epoch 9: val_loss improved from 0.00057 to 0.00040, saving model to results/univariate_time_series/rnn.h5\n",
      "222/222 [==============================] - 3s 15ms/step - loss: 1.1690e-05 - val_loss: 4.0419e-04\n",
      "Epoch 10/150\n",
      "222/222 [==============================] - ETA: 0s - loss: 1.0816e-05\n",
      "Epoch 10: val_loss improved from 0.00040 to 0.00017, saving model to results/univariate_time_series/rnn.h5\n",
      "222/222 [==============================] - 3s 15ms/step - loss: 1.0816e-05 - val_loss: 1.6771e-04\n",
      "Epoch 11/150\n",
      "219/222 [============================>.] - ETA: 0s - loss: 1.0156e-05\n",
      "Epoch 11: val_loss did not improve from 0.00017\n",
      "222/222 [==============================] - 4s 16ms/step - loss: 1.0116e-05 - val_loss: 2.6500e-04\n",
      "Epoch 12/150\n",
      "219/222 [============================>.] - ETA: 0s - loss: 9.1853e-06\n",
      "Epoch 12: val_loss did not improve from 0.00017\n",
      "222/222 [==============================] - 3s 15ms/step - loss: 9.2425e-06 - val_loss: 1.8467e-04\n",
      "Epoch 13/150\n",
      "220/222 [============================>.] - ETA: 0s - loss: 9.0442e-06\n",
      "Epoch 13: val_loss did not improve from 0.00017\n",
      "222/222 [==============================] - 4s 17ms/step - loss: 8.9892e-06 - val_loss: 1.7414e-04\n",
      "Epoch 14/150\n",
      "221/222 [============================>.] - ETA: 0s - loss: 8.5488e-06\n",
      "Epoch 14: val_loss did not improve from 0.00017\n",
      "222/222 [==============================] - 4s 16ms/step - loss: 8.5487e-06 - val_loss: 1.7641e-04\n",
      "Epoch 15/150\n",
      "222/222 [==============================] - ETA: 0s - loss: 7.7543e-06\n",
      "Epoch 15: val_loss did not improve from 0.00017\n",
      "222/222 [==============================] - 4s 17ms/step - loss: 7.7543e-06 - val_loss: 1.8699e-04\n",
      "Epoch 16/150\n",
      "221/222 [============================>.] - ETA: 0s - loss: 7.5605e-06\n",
      "Epoch 16: val_loss improved from 0.00017 to 0.00015, saving model to results/univariate_time_series/rnn.h5\n",
      "222/222 [==============================] - 4s 18ms/step - loss: 7.5448e-06 - val_loss: 1.5194e-04\n",
      "Epoch 17/150\n",
      "222/222 [==============================] - ETA: 0s - loss: 7.2720e-06\n",
      "Epoch 17: val_loss improved from 0.00015 to 0.00013, saving model to results/univariate_time_series/rnn.h5\n",
      "222/222 [==============================] - 4s 20ms/step - loss: 7.2720e-06 - val_loss: 1.2995e-04\n",
      "Epoch 18/150\n",
      "222/222 [==============================] - ETA: 0s - loss: 6.9697e-06\n",
      "Epoch 18: val_loss did not improve from 0.00013\n",
      "222/222 [==============================] - 4s 18ms/step - loss: 6.9697e-06 - val_loss: 1.5521e-04\n",
      "Epoch 19/150\n",
      "221/222 [============================>.] - ETA: 0s - loss: 6.9230e-06\n",
      "Epoch 19: val_loss did not improve from 0.00013\n",
      "222/222 [==============================] - 4s 18ms/step - loss: 6.9182e-06 - val_loss: 1.3573e-04\n",
      "Epoch 20/150\n",
      "220/222 [============================>.] - ETA: 0s - loss: 6.5314e-06\n",
      "Epoch 20: val_loss improved from 0.00013 to 0.00013, saving model to results/univariate_time_series/rnn.h5\n",
      "222/222 [==============================] - 4s 20ms/step - loss: 6.5007e-06 - val_loss: 1.2855e-04\n",
      "Epoch 21/150\n",
      "222/222 [==============================] - ETA: 0s - loss: 6.3669e-06\n",
      "Epoch 21: val_loss did not improve from 0.00013\n",
      "222/222 [==============================] - 4s 18ms/step - loss: 6.3669e-06 - val_loss: 1.4491e-04\n",
      "Epoch 22/150\n",
      "220/222 [============================>.] - ETA: 0s - loss: 6.0525e-06\n",
      "Epoch 22: val_loss did not improve from 0.00013\n",
      "222/222 [==============================] - 4s 17ms/step - loss: 6.0151e-06 - val_loss: 1.3821e-04\n",
      "Epoch 23/150\n",
      "220/222 [============================>.] - ETA: 0s - loss: 5.8443e-06\n",
      "Epoch 23: val_loss did not improve from 0.00013\n",
      "222/222 [==============================] - 4s 17ms/step - loss: 5.8564e-06 - val_loss: 2.3381e-04\n",
      "Epoch 24/150\n",
      "222/222 [==============================] - ETA: 0s - loss: 5.9749e-06\n",
      "Epoch 24: val_loss did not improve from 0.00013\n",
      "222/222 [==============================] - 4s 17ms/step - loss: 5.9749e-06 - val_loss: 2.8397e-04\n",
      "Epoch 25/150\n",
      "220/222 [============================>.] - ETA: 0s - loss: 5.6865e-06\n",
      "Epoch 25: val_loss did not improve from 0.00013\n",
      "222/222 [==============================] - 4s 16ms/step - loss: 5.6934e-06 - val_loss: 1.5772e-04\n",
      "Epoch 26/150\n",
      "221/222 [============================>.] - ETA: 0s - loss: 5.3927e-06\n",
      "Epoch 26: val_loss did not improve from 0.00013\n",
      "222/222 [==============================] - 4s 17ms/step - loss: 5.4034e-06 - val_loss: 1.6539e-04\n",
      "Epoch 27/150\n",
      "219/222 [============================>.] - ETA: 0s - loss: 5.5759e-06\n",
      "Epoch 27: val_loss did not improve from 0.00013\n",
      "222/222 [==============================] - 4s 16ms/step - loss: 5.5596e-06 - val_loss: 2.1118e-04\n",
      "Epoch 28/150\n",
      "220/222 [============================>.] - ETA: 0s - loss: 5.4784e-06\n",
      "Epoch 28: val_loss did not improve from 0.00013\n",
      "222/222 [==============================] - 4s 17ms/step - loss: 5.4731e-06 - val_loss: 2.6231e-04\n",
      "Epoch 29/150\n",
      "220/222 [============================>.] - ETA: 0s - loss: 5.2817e-06\n",
      "Epoch 29: val_loss did not improve from 0.00013\n",
      "222/222 [==============================] - 4s 17ms/step - loss: 5.2949e-06 - val_loss: 2.0839e-04\n",
      "Epoch 30/150\n",
      "222/222 [==============================] - ETA: 0s - loss: 5.0415e-06\n",
      "Epoch 30: val_loss did not improve from 0.00013\n",
      "222/222 [==============================] - 4s 17ms/step - loss: 5.0415e-06 - val_loss: 2.9996e-04\n",
      "Epoch 31/150\n",
      "221/222 [============================>.] - ETA: 0s - loss: 4.9613e-06\n",
      "Epoch 31: val_loss did not improve from 0.00013\n",
      "222/222 [==============================] - 4s 17ms/step - loss: 4.9718e-06 - val_loss: 3.9389e-04\n",
      "Epoch 32/150\n",
      "219/222 [============================>.] - ETA: 0s - loss: 4.8207e-06\n",
      "Epoch 32: val_loss did not improve from 0.00013\n",
      "222/222 [==============================] - 4s 17ms/step - loss: 4.8108e-06 - val_loss: 1.3630e-04\n",
      "Epoch 33/150\n",
      "219/222 [============================>.] - ETA: 0s - loss: 4.7754e-06\n",
      "Epoch 33: val_loss improved from 0.00013 to 0.00012, saving model to results/univariate_time_series/rnn.h5\n",
      "222/222 [==============================] - 4s 16ms/step - loss: 4.7424e-06 - val_loss: 1.2095e-04\n",
      "Epoch 34/150\n",
      "221/222 [============================>.] - ETA: 0s - loss: 4.7587e-06\n",
      "Epoch 34: val_loss did not improve from 0.00012\n",
      "222/222 [==============================] - 4s 18ms/step - loss: 4.7542e-06 - val_loss: 1.5613e-04\n",
      "Epoch 35/150\n",
      "220/222 [============================>.] - ETA: 0s - loss: 4.4466e-06\n",
      "Epoch 35: val_loss did not improve from 0.00012\n",
      "222/222 [==============================] - 4s 17ms/step - loss: 4.4857e-06 - val_loss: 2.8471e-04\n",
      "Epoch 36/150\n",
      "222/222 [==============================] - ETA: 0s - loss: 4.4445e-06\n",
      "Epoch 36: val_loss improved from 0.00012 to 0.00011, saving model to results/univariate_time_series/rnn.h5\n",
      "222/222 [==============================] - 4s 17ms/step - loss: 4.4445e-06 - val_loss: 1.0957e-04\n",
      "Epoch 37/150\n",
      "220/222 [============================>.] - ETA: 0s - loss: 4.5975e-06\n",
      "Epoch 37: val_loss did not improve from 0.00011\n",
      "222/222 [==============================] - 4s 17ms/step - loss: 4.5810e-06 - val_loss: 1.4195e-04\n",
      "Epoch 38/150\n",
      "222/222 [==============================] - ETA: 0s - loss: 4.2964e-06\n",
      "Epoch 38: val_loss did not improve from 0.00011\n",
      "222/222 [==============================] - 4s 17ms/step - loss: 4.2964e-06 - val_loss: 1.3313e-04\n",
      "Epoch 39/150\n",
      "220/222 [============================>.] - ETA: 0s - loss: 4.3364e-06\n",
      "Epoch 39: val_loss improved from 0.00011 to 0.00011, saving model to results/univariate_time_series/rnn.h5\n",
      "222/222 [==============================] - 4s 17ms/step - loss: 4.3574e-06 - val_loss: 1.0941e-04\n",
      "Epoch 40/150\n",
      "222/222 [==============================] - ETA: 0s - loss: 4.1811e-06\n",
      "Epoch 40: val_loss did not improve from 0.00011\n",
      "222/222 [==============================] - 4s 17ms/step - loss: 4.1811e-06 - val_loss: 1.2261e-04\n",
      "Epoch 41/150\n",
      "222/222 [==============================] - ETA: 0s - loss: 4.2400e-06\n",
      "Epoch 41: val_loss improved from 0.00011 to 0.00010, saving model to results/univariate_time_series/rnn.h5\n",
      "222/222 [==============================] - 4s 17ms/step - loss: 4.2400e-06 - val_loss: 1.0320e-04\n",
      "Epoch 42/150\n",
      "220/222 [============================>.] - ETA: 0s - loss: 4.1418e-06\n",
      "Epoch 42: val_loss did not improve from 0.00010\n",
      "222/222 [==============================] - 4s 16ms/step - loss: 4.1462e-06 - val_loss: 2.4502e-04\n",
      "Epoch 43/150\n",
      "220/222 [============================>.] - ETA: 0s - loss: 4.0141e-06\n",
      "Epoch 43: val_loss did not improve from 0.00010\n",
      "222/222 [==============================] - 4s 17ms/step - loss: 3.9985e-06 - val_loss: 1.1638e-04\n",
      "Epoch 44/150\n",
      "221/222 [============================>.] - ETA: 0s - loss: 4.1272e-06\n",
      "Epoch 44: val_loss did not improve from 0.00010\n",
      "222/222 [==============================] - 4s 16ms/step - loss: 4.1221e-06 - val_loss: 1.2479e-04\n",
      "Epoch 45/150\n",
      "222/222 [==============================] - ETA: 0s - loss: 4.0519e-06\n",
      "Epoch 45: val_loss did not improve from 0.00010\n",
      "222/222 [==============================] - 4s 17ms/step - loss: 4.0519e-06 - val_loss: 1.8184e-04\n",
      "Epoch 46/150\n",
      "222/222 [==============================] - ETA: 0s - loss: 3.9086e-06\n",
      "Epoch 46: val_loss did not improve from 0.00010\n",
      "222/222 [==============================] - 4s 17ms/step - loss: 3.9086e-06 - val_loss: 1.3157e-04\n",
      "Epoch 47/150\n",
      "220/222 [============================>.] - ETA: 0s - loss: 3.9326e-06\n",
      "Epoch 47: val_loss did not improve from 0.00010\n",
      "222/222 [==============================] - 4s 17ms/step - loss: 3.9327e-06 - val_loss: 1.0336e-04\n",
      "Epoch 48/150\n",
      "220/222 [============================>.] - ETA: 0s - loss: 3.8646e-06\n",
      "Epoch 48: val_loss did not improve from 0.00010\n",
      "222/222 [==============================] - 4s 16ms/step - loss: 3.8694e-06 - val_loss: 1.0629e-04\n",
      "Epoch 49/150\n",
      "221/222 [============================>.] - ETA: 0s - loss: 3.8260e-06\n",
      "Epoch 49: val_loss improved from 0.00010 to 0.00010, saving model to results/univariate_time_series/rnn.h5\n",
      "222/222 [==============================] - 4s 17ms/step - loss: 3.8183e-06 - val_loss: 1.0116e-04\n",
      "Epoch 50/150\n",
      "221/222 [============================>.] - ETA: 0s - loss: 3.8270e-06\n",
      "Epoch 50: val_loss did not improve from 0.00010\n",
      "222/222 [==============================] - 4s 17ms/step - loss: 3.8227e-06 - val_loss: 1.0790e-04\n",
      "Epoch 51/150\n",
      "219/222 [============================>.] - ETA: 0s - loss: 3.8191e-06\n",
      "Epoch 51: val_loss did not improve from 0.00010\n",
      "222/222 [==============================] - 4s 18ms/step - loss: 3.8169e-06 - val_loss: 3.4633e-04\n",
      "Epoch 52/150\n",
      "221/222 [============================>.] - ETA: 0s - loss: 3.8065e-06\n",
      "Epoch 52: val_loss did not improve from 0.00010\n",
      "222/222 [==============================] - 4s 17ms/step - loss: 3.7986e-06 - val_loss: 1.2356e-04\n",
      "Epoch 53/150\n",
      "221/222 [============================>.] - ETA: 0s - loss: 3.7174e-06\n",
      "Epoch 53: val_loss did not improve from 0.00010\n",
      "222/222 [==============================] - 4s 17ms/step - loss: 3.7285e-06 - val_loss: 1.1037e-04\n",
      "Epoch 54/150\n",
      "221/222 [============================>.] - ETA: 0s - loss: 3.7011e-06\n",
      "Epoch 54: val_loss did not improve from 0.00010\n",
      "222/222 [==============================] - 4s 17ms/step - loss: 3.7020e-06 - val_loss: 2.0134e-04\n",
      "Epoch 55/150\n",
      "221/222 [============================>.] - ETA: 0s - loss: 3.6887e-06\n",
      "Epoch 55: val_loss did not improve from 0.00010\n",
      "222/222 [==============================] - 4s 17ms/step - loss: 3.6855e-06 - val_loss: 1.1109e-04\n",
      "Epoch 56/150\n",
      "220/222 [============================>.] - ETA: 0s - loss: 3.7333e-06\n",
      "Epoch 56: val_loss did not improve from 0.00010\n",
      "222/222 [==============================] - 4s 17ms/step - loss: 3.7283e-06 - val_loss: 1.0819e-04\n",
      "Epoch 57/150\n",
      "220/222 [============================>.] - ETA: 0s - loss: 3.6116e-06\n",
      "Epoch 57: val_loss did not improve from 0.00010\n",
      "222/222 [==============================] - 4s 16ms/step - loss: 3.6309e-06 - val_loss: 1.0780e-04\n",
      "Epoch 58/150\n",
      "221/222 [============================>.] - ETA: 0s - loss: 3.5843e-06\n",
      "Epoch 58: val_loss did not improve from 0.00010\n",
      "222/222 [==============================] - 4s 17ms/step - loss: 3.5841e-06 - val_loss: 1.2450e-04\n",
      "Epoch 59/150\n",
      "219/222 [============================>.] - ETA: 0s - loss: 3.4832e-06\n",
      "Epoch 59: val_loss did not improve from 0.00010\n",
      "222/222 [==============================] - 4s 16ms/step - loss: 3.5048e-06 - val_loss: 1.4203e-04\n",
      "Epoch 60/150\n",
      "221/222 [============================>.] - ETA: 0s - loss: 3.5229e-06\n",
      "Epoch 60: val_loss did not improve from 0.00010\n",
      "222/222 [==============================] - 4s 17ms/step - loss: 3.5202e-06 - val_loss: 1.7774e-04\n",
      "Epoch 61/150\n",
      "221/222 [============================>.] - ETA: 0s - loss: 3.5883e-06\n",
      "Epoch 61: val_loss did not improve from 0.00010\n",
      "222/222 [==============================] - 4s 16ms/step - loss: 3.5942e-06 - val_loss: 1.4208e-04\n",
      "Epoch 62/150\n",
      "222/222 [==============================] - ETA: 0s - loss: 3.6220e-06\n",
      "Epoch 62: val_loss did not improve from 0.00010\n",
      "222/222 [==============================] - 4s 16ms/step - loss: 3.6220e-06 - val_loss: 1.4612e-04\n",
      "Epoch 63/150\n",
      "222/222 [==============================] - ETA: 0s - loss: 3.5022e-06\n",
      "Epoch 63: val_loss did not improve from 0.00010\n",
      "222/222 [==============================] - 4s 16ms/step - loss: 3.5022e-06 - val_loss: 1.8057e-04\n",
      "Epoch 64/150\n",
      "220/222 [============================>.] - ETA: 0s - loss: 3.5588e-06\n",
      "Epoch 64: val_loss did not improve from 0.00010\n",
      "222/222 [==============================] - 4s 17ms/step - loss: 3.5723e-06 - val_loss: 1.2549e-04\n",
      "Epoch 65/150\n",
      "222/222 [==============================] - ETA: 0s - loss: 3.4738e-06\n",
      "Epoch 65: val_loss did not improve from 0.00010\n",
      "222/222 [==============================] - 4s 16ms/step - loss: 3.4738e-06 - val_loss: 1.1642e-04\n",
      "Epoch 66/150\n",
      "219/222 [============================>.] - ETA: 0s - loss: 3.4432e-06\n",
      "Epoch 66: val_loss did not improve from 0.00010\n",
      "222/222 [==============================] - 4s 17ms/step - loss: 3.4333e-06 - val_loss: 1.7639e-04\n",
      "Epoch 67/150\n",
      "222/222 [==============================] - ETA: 0s - loss: 3.5060e-06\n",
      "Epoch 67: val_loss did not improve from 0.00010\n",
      "222/222 [==============================] - 4s 17ms/step - loss: 3.5060e-06 - val_loss: 2.2228e-04\n",
      "Epoch 68/150\n",
      "219/222 [============================>.] - ETA: 0s - loss: 3.5559e-06\n",
      "Epoch 68: val_loss did not improve from 0.00010\n",
      "222/222 [==============================] - 4s 18ms/step - loss: 3.5607e-06 - val_loss: 1.8842e-04\n",
      "Epoch 69/150\n",
      "221/222 [============================>.] - ETA: 0s - loss: 3.3970e-06\n",
      "Epoch 69: val_loss did not improve from 0.00010\n",
      "222/222 [==============================] - 4s 17ms/step - loss: 3.4041e-06 - val_loss: 2.5225e-04\n"
     ]
    }
   ],
   "source": [
    "lstm_training = rnn.fit(X_train,\n",
    "                        y_train,\n",
    "                        epochs=150,\n",
    "                        batch_size=20,\n",
    "                        shuffle=True,\n",
    "                        validation_data=(X_test, y_test),\n",
    "                        callbacks=[early_stopping, checkpointer],\n",
    "                        verbose=1)"
   ]
  },
  {
   "cell_type": "markdown",
   "metadata": {
    "pycharm": {}
   },
   "source": [
    "Training stops after 51 epochs; the `early_stopping` callback restores the weights for the best model (after 41 epochs)"
   ]
  },
  {
   "cell_type": "markdown",
   "metadata": {
    "pycharm": {}
   },
   "source": [
    "## Evaluate model performance"
   ]
  },
  {
   "cell_type": "code",
   "execution_count": 28,
   "metadata": {
    "ExecuteTime": {
     "end_time": "2021-02-23T06:38:25.321655Z",
     "start_time": "2021-02-23T06:38:24.572172Z"
    },
    "pycharm": {}
   },
   "outputs": [
    {
     "data": {
      "image/png": "[encoded data removed]",
      "text/plain": [
       "<Figure size 864x288 with 1 Axes>"
      ]
     },
     "metadata": {},
     "output_type": "display_data"
    }
   ],
   "source": [
    "fig, ax = plt.subplots(figsize=(12, 4))\n",
    "\n",
    "loss_history = pd.DataFrame(lstm_training.history).pow(.5)\n",
    "loss_history.index += 1\n",
    "best_rmse = loss_history.val_loss.min()\n",
    "\n",
    "best_epoch = loss_history.val_loss.idxmin()\n",
    "\n",
    "title = f'5-Epoch Rolling RMSE (Best Validation RMSE: {best_rmse:.4%})'\n",
    "loss_history.columns=['Training RMSE', 'Validation RMSE']\n",
    "loss_history.rolling(5).mean().plot(logy=True, lw=2, title=title, ax=ax)\n",
    "\n",
    "ax.axvline(best_epoch, ls='--', lw=1, c='k')\n",
    "\n",
    "sns.despine()\n",
    "fig.tight_layout()\n",
    "fig.savefig(results_path / 'rnn_sp500_error', dpi=300);"
   ]
  },
  {
   "cell_type": "code",
   "execution_count": 112,
   "metadata": {},
   "outputs": [],
   "source": [
    "# forecast = []\n",
    "# results = []\n",
    "# for time in range(len(X) - window_size):\n",
    "#   forecast.append(rnn.predict(X[time:time + window_size][np.newaxis]))\n",
    "\n",
    "# forecast = forecast[split_time-window_size:]\n",
    "# results = np.array(forecast)[:, 0, 0]\n",
    "\n",
    "\n",
    "# plt.figure(figsize=(10, 6))\n",
    "\n",
    "# plot_series(time_test, X_train)\n",
    "# plot_series(time_test, results)"
   ]
  },
  {
   "cell_type": "code",
   "execution_count": 32,
   "metadata": {},
   "outputs": [],
   "source": [
    "# Create a new model instance\n",
    "# model = create_model()\n",
    "\n",
    "# Restore the weights\n",
    "rnn.load_weights('../results/univariate_time_series/rnn.h5')\n",
    " #!pwd"
   ]
  },
  {
   "cell_type": "code",
   "execution_count": 33,
   "metadata": {
    "ExecuteTime": {
     "end_time": "2021-02-23T06:38:25.532463Z",
     "start_time": "2021-02-23T06:38:25.322584Z"
    },
    "pycharm": {}
   },
   "outputs": [
    {
     "name": "stdout",
     "output_type": "stream",
     "text": [
      "Train RMSE: 0.0018 | Test RMSE: 0.0098\n"
     ]
    }
   ],
   "source": [
    "train_rmse_scaled = np.sqrt(rnn.evaluate(X_train, y_train, verbose=0))\n",
    "test_rmse_scaled = np.sqrt(rnn.evaluate(X_test, y_test, verbose=0))\n",
    "print(f'Train RMSE: {train_rmse_scaled:.4f} | Test RMSE: {test_rmse_scaled:.4f}')"
   ]
  },
  {
   "cell_type": "code",
   "execution_count": 34,
   "metadata": {
    "ExecuteTime": {
     "end_time": "2021-02-23T06:38:25.963989Z",
     "start_time": "2021-02-23T06:38:25.533710Z"
    }
   },
   "outputs": [],
   "source": [
    "train_predict_scaled = rnn.predict(X_train)\n",
    "test_predict_scaled = rnn.predict(X_test)"
   ]
  },
  {
   "cell_type": "code",
   "execution_count": 35,
   "metadata": {
    "ExecuteTime": {
     "end_time": "2021-02-23T06:38:25.971051Z",
     "start_time": "2021-02-23T06:38:25.964993Z"
    }
   },
   "outputs": [
    {
     "name": "stdout",
     "output_type": "stream",
     "text": [
      "Train IC: 0.9997 | Test IC: 0.9981\n"
     ]
    }
   ],
   "source": [
    "train_ic = spearmanr(y_train, train_predict_scaled)[0]\n",
    "test_ic = spearmanr(y_test, test_predict_scaled)[0]\n",
    "print(f'Train IC: {train_ic:.4f} | Test IC: {test_ic:.4f}')"
   ]
  },
  {
   "cell_type": "markdown",
   "metadata": {},
   "source": [
    "### Rescale predictions"
   ]
  },
  {
   "cell_type": "code",
   "execution_count": 36,
   "metadata": {
    "ExecuteTime": {
     "end_time": "2021-02-23T06:38:25.979481Z",
     "start_time": "2021-02-23T06:38:25.972762Z"
    }
   },
   "outputs": [],
   "source": [
    "train_predict = pd.Series(scaler.inverse_transform(train_predict_scaled).squeeze(), index=y_train.index)\n",
    "test_predict = (pd.Series(scaler.inverse_transform(test_predict_scaled)\n",
    "                          .squeeze(), \n",
    "                          index=y_test.index))"
   ]
  },
  {
   "cell_type": "code",
   "execution_count": 37,
   "metadata": {},
   "outputs": [
    {
     "data": {
      "text/html": [
       "<div>\n",
       "<style scoped>\n",
       "    .dataframe tbody tr th:only-of-type {\n",
       "        vertical-align: middle;\n",
       "    }\n",
       "\n",
       "    .dataframe tbody tr th {\n",
       "        vertical-align: top;\n",
       "    }\n",
       "\n",
       "    .dataframe thead th {\n",
       "        text-align: right;\n",
       "    }\n",
       "</style>\n",
       "<table border=\"1\" class=\"dataframe\">\n",
       "  <thead>\n",
       "    <tr style=\"text-align: right;\">\n",
       "      <th></th>\n",
       "      <th>5. adjusted close</th>\n",
       "    </tr>\n",
       "    <tr>\n",
       "      <th>date</th>\n",
       "      <th></th>\n",
       "    </tr>\n",
       "  </thead>\n",
       "  <tbody>\n",
       "    <tr>\n",
       "      <th>2022-01-28</th>\n",
       "      <td>170.33</td>\n",
       "    </tr>\n",
       "    <tr>\n",
       "      <th>2022-01-31</th>\n",
       "      <td>174.78</td>\n",
       "    </tr>\n",
       "    <tr>\n",
       "      <th>2022-02-01</th>\n",
       "      <td>174.61</td>\n",
       "    </tr>\n",
       "    <tr>\n",
       "      <th>2022-02-02</th>\n",
       "      <td>175.84</td>\n",
       "    </tr>\n",
       "    <tr>\n",
       "      <th>2022-02-03</th>\n",
       "      <td>172.90</td>\n",
       "    </tr>\n",
       "  </tbody>\n",
       "</table>\n",
       "</div>"
      ],
      "text/plain": [
       "            5. adjusted close\n",
       "date                         \n",
       "2022-01-28             170.33\n",
       "2022-01-31             174.78\n",
       "2022-02-01             174.61\n",
       "2022-02-02             175.84\n",
       "2022-02-03             172.90"
      ]
     },
     "execution_count": 37,
     "metadata": {},
     "output_type": "execute_result"
    }
   ],
   "source": [
    "sp500.tail()"
   ]
  },
  {
   "cell_type": "code",
   "execution_count": 38,
   "metadata": {},
   "outputs": [
    {
     "data": {
      "text/plain": [
       "1.4537998843262019"
      ]
     },
     "execution_count": 38,
     "metadata": {},
     "output_type": "execute_result"
    }
   ],
   "source": [
    "# 175.413620\n",
    "# test_predict\n",
    "\n",
    "(175.413620 - 172.90) / 172.90 * 100"
   ]
  },
  {
   "cell_type": "code",
   "execution_count": 39,
   "metadata": {
    "ExecuteTime": {
     "end_time": "2021-02-23T06:38:25.991927Z",
     "start_time": "2021-02-23T06:38:25.981050Z"
    }
   },
   "outputs": [],
   "source": [
    "y_train_rescaled = scaler.inverse_transform(y_train.to_frame()).squeeze()\n",
    "y_test_rescaled = scaler.inverse_transform(y_test.to_frame()).squeeze()"
   ]
  },
  {
   "cell_type": "code",
   "execution_count": 40,
   "metadata": {
    "ExecuteTime": {
     "end_time": "2021-02-23T06:38:26.008431Z",
     "start_time": "2021-02-23T06:38:26.002713Z"
    }
   },
   "outputs": [
    {
     "data": {
      "text/plain": [
       "'Train RMSE: 0.32 | Test RMSE: 1.78'"
      ]
     },
     "execution_count": 40,
     "metadata": {},
     "output_type": "execute_result"
    }
   ],
   "source": [
    "train_rmse = np.sqrt(mean_squared_error(train_predict, y_train_rescaled))\n",
    "test_rmse = np.sqrt(mean_squared_error(test_predict, y_test_rescaled))\n",
    "f'Train RMSE: {train_rmse:.2f} | Test RMSE: {test_rmse:.2f}'"
   ]
  },
  {
   "cell_type": "code",
   "execution_count": 41,
   "metadata": {
    "ExecuteTime": {
     "end_time": "2021-02-23T06:38:26.024417Z",
     "start_time": "2021-02-23T06:38:26.010162Z"
    }
   },
   "outputs": [],
   "source": [
    "sp500['Train Predictions'] = train_predict\n",
    "sp500['Test Predictions'] = test_predict\n",
    "sp500 = sp500.join(train_predict.to_frame('predictions').assign(data='Train')\n",
    "                        .append(test_predict.to_frame('predictions').assign(data='Test')))"
   ]
  },
  {
   "cell_type": "markdown",
   "metadata": {},
   "source": [
    "### Plot Results"
   ]
  },
  {
   "cell_type": "code",
   "execution_count": 42,
   "metadata": {
    "ExecuteTime": {
     "end_time": "2021-02-23T06:38:27.512613Z",
     "start_time": "2021-02-23T06:38:26.026008Z"
    },
    "pycharm": {},
    "scrolled": false
   },
   "outputs": [
    {
     "data": {
      "image/png": "[encoded data removed]",
      "text/plain": [
       "<Figure size 1008x504 with 4 Axes>"
      ]
     },
     "metadata": {},
     "output_type": "display_data"
    }
   ],
   "source": [
    "fig=plt.figure(figsize=(14,7))\n",
    "ax1 = plt.subplot(221)\n",
    "\n",
    "sp500.loc['1999-11-01':, '5. adjusted close'].plot(lw=4, ax=ax1, c='k')\n",
    "sp500.loc['1999-11-01':, ['Test Predictions', 'Train Predictions']].plot(lw=1, ax=ax1, ls='--')\n",
    "ax1.set_title('In- and Out-of-sample Predictions')\n",
    "\n",
    "\n",
    "with sns.axes_style(\"white\"):\n",
    "    ax3 = plt.subplot(223)\n",
    "    sns.scatterplot(x='5. adjusted close', y='predictions', data=sp500, hue='data', ax=ax3)\n",
    "    ax3.text(x=.02, y=.95, s=f'Test IC ={test_ic:.2%}', transform=ax3.transAxes)\n",
    "    ax3.text(x=.02, y=.87, s=f'Train IC={train_ic:.2%}', transform=ax3.transAxes)\n",
    "    ax3.set_title('Correlation')\n",
    "    ax3.legend(loc='lower right')\n",
    "    \n",
    "    ax2 = plt.subplot(222)\n",
    "    ax4 = plt.subplot(224, sharex = ax2, sharey=ax2)\n",
    "    sns.distplot(train_predict.squeeze()- y_train_rescaled, ax=ax2)\n",
    "    ax2.set_title('Train Error')\n",
    "    ax2.text(x=.03, y=.92, s=f'Train RMSE ={train_rmse:.4f}', transform=ax2.transAxes)\n",
    "    sns.distplot(test_predict.squeeze()-y_test_rescaled, ax=ax4)\n",
    "    ax4.set_title('Test Error')\n",
    "    ax4.text(x=.03, y=.92, s=f'Test RMSE ={test_rmse:.4f}', transform=ax4.transAxes)\n",
    "\n",
    "sns.despine()\n",
    "fig.tight_layout()\n",
    "fig.savefig(results_path / 'rnn_sp500_regression', dpi=300);"
   ]
  },
  {
   "cell_type": "markdown",
   "metadata": {},
   "source": [
    "# Prediction Step\n",
    "\n",
    "Get last `X_test` value, which contains the last n actual values based on the defined `window_size`"
   ]
  },
  {
   "cell_type": "code",
   "execution_count": 43,
   "metadata": {},
   "outputs": [
    {
     "data": {
      "text/plain": [
       "(1, 63, 1)"
      ]
     },
     "execution_count": 43,
     "metadata": {},
     "output_type": "execute_result"
    }
   ],
   "source": [
    "X_test[-1:].shape"
   ]
  },
  {
   "cell_type": "code",
   "execution_count": 44,
   "metadata": {},
   "outputs": [
    {
     "data": {
      "text/plain": [
       "array([[[0.83092169],\n",
       "        [0.82801078],\n",
       "        [0.83097661],\n",
       "        [0.82635638],\n",
       "        [0.82839148],\n",
       "        [0.81249569],\n",
       "        [0.81222068],\n",
       "        [0.82388126],\n",
       "        [0.82393626],\n",
       "        [0.82943653],\n",
       "        [0.84313221],\n",
       "        [0.86722341],\n",
       "        [0.88196414],\n",
       "        [0.88454927],\n",
       "        [0.88669438],\n",
       "        [0.88960952],\n",
       "        [0.86139312],\n",
       "        [0.88025906],\n",
       "        [0.90809044],\n",
       "        [0.90517529],\n",
       "        [0.89962002],\n",
       "        [0.88905949],\n",
       "        [0.90820044],\n",
       "        [0.94043204],\n",
       "        [0.96188311],\n",
       "        [0.95902297],\n",
       "        [0.9859193 ],\n",
       "        [0.96551329],\n",
       "        [0.9577579 ],\n",
       "        [0.98509426],\n",
       "        [0.94637234],\n",
       "        [0.94021203],\n",
       "        [0.93256665],\n",
       "        [0.95038754],\n",
       "        [0.96496326],\n",
       "        [0.96848344],\n",
       "        [0.99075954],\n",
       "        [0.98503926],\n",
       "        [0.98553428],\n",
       "        [0.97904396],\n",
       "        [0.97557879],\n",
       "        [1.        ],\n",
       "        [0.98729437],\n",
       "        [0.96100306],\n",
       "        [0.94494227],\n",
       "        [0.94587731],\n",
       "        [0.94598732],\n",
       "        [0.96188311],\n",
       "        [0.96435823],\n",
       "        [0.94598732],\n",
       "        [0.95082756],\n",
       "        [0.93284167],\n",
       "        [0.91320569],\n",
       "        [0.90374522],\n",
       "        [0.89219465],\n",
       "        [0.88784943],\n",
       "        [0.87772893],\n",
       "        [0.87723391],\n",
       "        [0.87464878],\n",
       "        [0.93575681],\n",
       "        [0.96023303],\n",
       "        [0.95929798],\n",
       "        [0.96606332]]])"
      ]
     },
     "execution_count": 44,
     "metadata": {},
     "output_type": "execute_result"
    }
   ],
   "source": [
    "X_test[-1:]"
   ]
  },
  {
   "cell_type": "code",
   "execution_count": 45,
   "metadata": {},
   "outputs": [],
   "source": [
    "valid_predict_scaled = rnn.predict(X_test[-1:])"
   ]
  },
  {
   "cell_type": "code",
   "execution_count": 46,
   "metadata": {},
   "outputs": [
    {
     "data": {
      "text/plain": [
       "array([[0.96371806]], dtype=float32)"
      ]
     },
     "execution_count": 46,
     "metadata": {},
     "output_type": "execute_result"
    }
   ],
   "source": [
    "valid_predict_scaled"
   ]
  },
  {
   "cell_type": "code",
   "execution_count": 47,
   "metadata": {},
   "outputs": [],
   "source": [
    "valid_predict = pd.Series(scaler.inverse_transform(valid_predict_scaled).squeeze())"
   ]
  },
  {
   "cell_type": "code",
   "execution_count": 48,
   "metadata": {},
   "outputs": [
    {
     "data": {
      "text/plain": [
       "0    175.41362\n",
       "dtype: object"
      ]
     },
     "execution_count": 48,
     "metadata": {},
     "output_type": "execute_result"
    }
   ],
   "source": [
    "valid_predict"
   ]
  },
  {
   "cell_type": "code",
   "execution_count": 52,
   "metadata": {},
   "outputs": [
    {
     "data": {
      "text/html": [
       "<div>\n",
       "<style scoped>\n",
       "    .dataframe tbody tr th:only-of-type {\n",
       "        vertical-align: middle;\n",
       "    }\n",
       "\n",
       "    .dataframe tbody tr th {\n",
       "        vertical-align: top;\n",
       "    }\n",
       "\n",
       "    .dataframe thead th {\n",
       "        text-align: right;\n",
       "    }\n",
       "</style>\n",
       "<table border=\"1\" class=\"dataframe\">\n",
       "  <thead>\n",
       "    <tr style=\"text-align: right;\">\n",
       "      <th></th>\n",
       "      <th>5. adjusted close</th>\n",
       "      <th>Train Predictions</th>\n",
       "      <th>Test Predictions</th>\n",
       "      <th>predictions</th>\n",
       "      <th>data</th>\n",
       "    </tr>\n",
       "    <tr>\n",
       "      <th>date</th>\n",
       "      <th></th>\n",
       "      <th></th>\n",
       "      <th></th>\n",
       "      <th></th>\n",
       "      <th></th>\n",
       "    </tr>\n",
       "  </thead>\n",
       "  <tbody>\n",
       "    <tr>\n",
       "      <th>2017-09-12</th>\n",
       "      <td>38.322391</td>\n",
       "      <td>NaN</td>\n",
       "      <td>38.173431</td>\n",
       "      <td>38.173431</td>\n",
       "      <td>Test</td>\n",
       "    </tr>\n",
       "    <tr>\n",
       "      <th>2017-09-13</th>\n",
       "      <td>38.034127</td>\n",
       "      <td>NaN</td>\n",
       "      <td>38.140888</td>\n",
       "      <td>38.140888</td>\n",
       "      <td>Test</td>\n",
       "    </tr>\n",
       "    <tr>\n",
       "      <th>2017-09-14</th>\n",
       "      <td>37.707746</td>\n",
       "      <td>NaN</td>\n",
       "      <td>37.893318</td>\n",
       "      <td>37.893318</td>\n",
       "      <td>Test</td>\n",
       "    </tr>\n",
       "    <tr>\n",
       "      <th>2017-09-15</th>\n",
       "      <td>38.088921</td>\n",
       "      <td>NaN</td>\n",
       "      <td>37.573990</td>\n",
       "      <td>37.573990</td>\n",
       "      <td>Test</td>\n",
       "    </tr>\n",
       "    <tr>\n",
       "      <th>2017-09-18</th>\n",
       "      <td>37.800658</td>\n",
       "      <td>NaN</td>\n",
       "      <td>37.839684</td>\n",
       "      <td>37.839684</td>\n",
       "      <td>Test</td>\n",
       "    </tr>\n",
       "    <tr>\n",
       "      <th>...</th>\n",
       "      <td>...</td>\n",
       "      <td>...</td>\n",
       "      <td>...</td>\n",
       "      <td>...</td>\n",
       "      <td>...</td>\n",
       "    </tr>\n",
       "    <tr>\n",
       "      <th>2022-01-28</th>\n",
       "      <td>170.330000</td>\n",
       "      <td>NaN</td>\n",
       "      <td>159.777283</td>\n",
       "      <td>159.777283</td>\n",
       "      <td>Test</td>\n",
       "    </tr>\n",
       "    <tr>\n",
       "      <th>2022-01-31</th>\n",
       "      <td>174.780000</td>\n",
       "      <td>NaN</td>\n",
       "      <td>170.726227</td>\n",
       "      <td>170.726227</td>\n",
       "      <td>Test</td>\n",
       "    </tr>\n",
       "    <tr>\n",
       "      <th>2022-02-01</th>\n",
       "      <td>174.610000</td>\n",
       "      <td>NaN</td>\n",
       "      <td>175.090576</td>\n",
       "      <td>175.090576</td>\n",
       "      <td>Test</td>\n",
       "    </tr>\n",
       "    <tr>\n",
       "      <th>2022-02-02</th>\n",
       "      <td>175.840000</td>\n",
       "      <td>NaN</td>\n",
       "      <td>174.444733</td>\n",
       "      <td>174.444733</td>\n",
       "      <td>Test</td>\n",
       "    </tr>\n",
       "    <tr>\n",
       "      <th>2022-02-03</th>\n",
       "      <td>172.900000</td>\n",
       "      <td>NaN</td>\n",
       "      <td>175.413620</td>\n",
       "      <td>175.413620</td>\n",
       "      <td>Test</td>\n",
       "    </tr>\n",
       "  </tbody>\n",
       "</table>\n",
       "<p>1108 rows × 5 columns</p>\n",
       "</div>"
      ],
      "text/plain": [
       "            5. adjusted close  Train Predictions  Test Predictions  \\\n",
       "date                                                                 \n",
       "2017-09-12          38.322391                NaN         38.173431   \n",
       "2017-09-13          38.034127                NaN         38.140888   \n",
       "2017-09-14          37.707746                NaN         37.893318   \n",
       "2017-09-15          38.088921                NaN         37.573990   \n",
       "2017-09-18          37.800658                NaN         37.839684   \n",
       "...                       ...                ...               ...   \n",
       "2022-01-28         170.330000                NaN        159.777283   \n",
       "2022-01-31         174.780000                NaN        170.726227   \n",
       "2022-02-01         174.610000                NaN        175.090576   \n",
       "2022-02-02         175.840000                NaN        174.444733   \n",
       "2022-02-03         172.900000                NaN        175.413620   \n",
       "\n",
       "            predictions  data  \n",
       "date                           \n",
       "2017-09-12    38.173431  Test  \n",
       "2017-09-13    38.140888  Test  \n",
       "2017-09-14    37.893318  Test  \n",
       "2017-09-15    37.573990  Test  \n",
       "2017-09-18    37.839684  Test  \n",
       "...                 ...   ...  \n",
       "2022-01-28   159.777283  Test  \n",
       "2022-01-31   170.726227  Test  \n",
       "2022-02-01   175.090576  Test  \n",
       "2022-02-02   174.444733  Test  \n",
       "2022-02-03   175.413620  Test  \n",
       "\n",
       "[1108 rows x 5 columns]"
      ]
     },
     "execution_count": 52,
     "metadata": {},
     "output_type": "execute_result"
    }
   ],
   "source": [
    "sp500[sp500[\"data\"]==\"Test\"]"
   ]
  },
  {
   "cell_type": "code",
   "execution_count": 53,
   "metadata": {},
   "outputs": [
    {
     "data": {
      "text/plain": [
       "<AxesSubplot:xlabel='date'>"
      ]
     },
     "execution_count": 53,
     "metadata": {},
     "output_type": "execute_result"
    },
    {
     "data": {
      "image/png": "[encoded data removed]",
      "text/plain": [
       "<Figure size 432x288 with 1 Axes>"
      ]
     },
     "metadata": {},
     "output_type": "display_data"
    }
   ],
   "source": [
    "sp500[sp500[\"data\"]==\"Test\"][\"5. adjusted close\"].plot()"
   ]
  },
  {
   "cell_type": "code",
   "execution_count": 62,
   "metadata": {},
   "outputs": [
    {
     "data": {
      "image/png": "[encoded data removed]",
      "text/plain": [
       "<Figure size 864x360 with 2 Axes>"
      ]
     },
     "metadata": {},
     "output_type": "display_data"
    }
   ],
   "source": [
    "plt.figure(figsize=(12,5))\n",
    "plt.xlabel('Apple\\'s Stock Price')\n",
    "\n",
    "ax1 = sp500[sp500[\"data\"]==\"Test\"][-63:][\"5. adjusted close\"].plot(color='blue', grid=True, secondary_y=False, label='Actual')\n",
    "ax2 = sp500[sp500[\"data\"]==\"Test\"][-63:][\"Test Predictions\"].plot(color='red', grid=True, secondary_y=True, label='Predicted')\n",
    "\n",
    "h1, l1 = ax1.get_legend_handles_labels()\n",
    "h2, l2 = ax2.get_legend_handles_labels()\n",
    "\n",
    "\n",
    "plt.legend(h1+h2, l1+l2, loc=2)\n",
    "plt.show()"
   ]
  },
  {
   "cell_type": "markdown",
   "metadata": {},
   "source": [
    "### Steps to predict next value\n",
    "\n"
   ]
  }
 ],
 "metadata": {
  "anaconda-cloud": {},
  "kernelspec": {
   "display_name": "Python 3",
   "language": "python",
   "name": "python3"
  },
  "toc": {
   "base_numbering": 1,
   "nav_menu": {},
   "number_sections": true,
   "sideBar": true,
   "skip_h1_title": true,
   "title_cell": "Table of Contents",
   "title_sidebar": "Contents",
   "toc_cell": false,
   "toc_position": {
    "height": "calc(100% - 180px)",
    "left": "10px",
    "top": "150px",
    "width": "318.55px"
   },
   "toc_section_display": true,
   "toc_window_display": true
  }
 },
 "nbformat": 4,
 "nbformat_minor": 4
}
