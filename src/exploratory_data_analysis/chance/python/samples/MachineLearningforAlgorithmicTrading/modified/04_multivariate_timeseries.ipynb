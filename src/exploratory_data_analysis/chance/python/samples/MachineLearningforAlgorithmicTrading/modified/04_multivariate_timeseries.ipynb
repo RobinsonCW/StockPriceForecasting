{
 "cells": [
  {
   "cell_type": "markdown",
   "metadata": {},
   "source": [
    "# Multivariate Time Series Regression"
   ]
  },
  {
   "cell_type": "markdown",
   "metadata": {},
   "source": [
    "So far, we have limited our modeling efforts to single time series. RNNs are naturally well suited to multivariate time series and represent a non-linear alternative to the Vector Autoregressive (VAR) models we covered in Chapter 8, Time Series Models. "
   ]
  },
  {
   "cell_type": "markdown",
   "metadata": {},
   "source": [
    "## Imports & Settings"
   ]
  },
  {
   "cell_type": "code",
   "execution_count": 182,
   "metadata": {
    "ExecuteTime": {
     "end_time": "2021-02-23T06:48:00.929646Z",
     "start_time": "2021-02-23T06:48:00.927063Z"
    },
    "vscode": {
     "languageId": "python"
    }
   },
   "outputs": [],
   "source": [
    "import warnings\n",
    "warnings.filterwarnings('ignore')"
   ]
  },
  {
   "cell_type": "code",
   "execution_count": 183,
   "metadata": {
    "ExecuteTime": {
     "end_time": "2021-02-23T06:48:03.488363Z",
     "start_time": "2021-02-23T06:48:01.087274Z"
    },
    "vscode": {
     "languageId": "python"
    }
   },
   "outputs": [],
   "source": [
    "%matplotlib inline\n",
    "\n",
    "from pathlib import Path\n",
    "import numpy as np\n",
    "import pandas as pd\n",
    "import pandas_datareader.data as web\n",
    "\n",
    "from sklearn.metrics import mean_absolute_error\n",
    "from sklearn.preprocessing import minmax_scale\n",
    "from sklearn.preprocessing import MinMaxScaler\n",
    "\n",
    "import tensorflow as tf\n",
    "from tensorflow.keras.callbacks import ModelCheckpoint, EarlyStopping\n",
    "from tensorflow.keras.models import Sequential, Model\n",
    "from tensorflow.keras.layers import Dense, LSTM, Bidirectional\n",
    "import tensorflow.keras.backend as K\n",
    "\n",
    "import matplotlib.pyplot as plt\n",
    "import seaborn as sns"
   ]
  },
  {
   "cell_type": "code",
   "execution_count": 184,
   "metadata": {
    "ExecuteTime": {
     "end_time": "2021-02-23T06:48:03.493600Z",
     "start_time": "2021-02-23T06:48:03.489755Z"
    },
    "vscode": {
     "languageId": "python"
    }
   },
   "outputs": [
    {
     "name": "stdout",
     "output_type": "stream",
     "text": [
      "Using GPU\n"
     ]
    }
   ],
   "source": [
    "gpu_devices = tf.config.experimental.list_physical_devices('GPU')\n",
    "if gpu_devices:\n",
    "    print('Using GPU')\n",
    "    tf.config.experimental.set_memory_growth(gpu_devices[0], True)\n",
    "else:\n",
    "    print('Using CPU')"
   ]
  },
  {
   "cell_type": "code",
   "execution_count": 185,
   "metadata": {
    "ExecuteTime": {
     "end_time": "2021-02-23T06:48:03.503989Z",
     "start_time": "2021-02-23T06:48:03.498066Z"
    },
    "vscode": {
     "languageId": "python"
    }
   },
   "outputs": [],
   "source": [
    "sns.set_style('whitegrid')\n",
    "np.random.seed(42)\n",
    "tf.random.set_seed(42)"
   ]
  },
  {
   "cell_type": "code",
   "execution_count": 186,
   "metadata": {
    "ExecuteTime": {
     "end_time": "2021-02-23T06:48:03.513670Z",
     "start_time": "2021-02-23T06:48:03.506274Z"
    },
    "vscode": {
     "languageId": "python"
    }
   },
   "outputs": [],
   "source": [
    "results_path = Path('results', 'multivariate_time_series')\n",
    "if not results_path.exists():\n",
    "    results_path.mkdir(parents=True)"
   ]
  },
  {
   "cell_type": "markdown",
   "metadata": {},
   "source": [
    "## Load Data"
   ]
  },
  {
   "cell_type": "markdown",
   "metadata": {},
   "source": [
    "For comparison, we illustrate the application of RNNs to modeling and forecasting several time series using the same dataset we used for the VAR example, monthly data on consumer sentiment, and industrial production from the Federal Reserve's FRED service in Chapter 8, Time Series Models:"
   ]
  },
  {
   "cell_type": "code",
   "execution_count": 187,
   "metadata": {
    "ExecuteTime": {
     "end_time": "2021-02-23T06:48:06.127210Z",
     "start_time": "2021-02-23T06:48:05.578358Z"
    },
    "vscode": {
     "languageId": "python"
    }
   },
   "outputs": [],
   "source": [
    "df = pd.read_csv(\"/app/StockPricePredictions/data/alphavantage/time_series_daily_adjusted/AAPL_WITH_TWINT_FINBERT_SA.csv\", lineterminator='\\n', low_memory=False)\n",
    "\n",
    "df.set_index(\"date\", inplace=True)\n",
    "# df = sp500[[\"5. adjusted close\"]]\n",
    "\n",
    "df.sort_values(by=[\"date\"], ascending=True, inplace=True)\n",
    "\n",
    "df = df[df.index>='2010-01-01']\n",
    "# df = sp500.copy()\n",
    "df[\"adjusted_close_shift\"] = df[\"5. adjusted close\"].shift(-1)"
   ]
  },
  {
   "cell_type": "code",
   "execution_count": 188,
   "metadata": {
    "vscode": {
     "languageId": "python"
    }
   },
   "outputs": [
    {
     "name": "stdout",
     "output_type": "stream",
     "text": [
      "<class 'pandas.core.frame.DataFrame'>\n",
      "Index: 3064 entries, 2010-01-04 to 2022-03-04\n",
      "Data columns (total 17 columns):\n",
      " #   Column                Non-Null Count  Dtype  \n",
      "---  ------                --------------  -----  \n",
      " 0   1. open               3064 non-null   float64\n",
      " 1   2. high               3064 non-null   float64\n",
      " 2   3. low                3064 non-null   float64\n",
      " 3   4. close              3064 non-null   float64\n",
      " 4   5. adjusted close     3064 non-null   float64\n",
      " 5   6. volume             3064 non-null   float64\n",
      " 6   7. dividend amount    3064 non-null   float64\n",
      " 7   8. split coefficient  3064 non-null   float64\n",
      " 8   date_time             3064 non-null   object \n",
      " 9   day_of_week           3064 non-null   int64  \n",
      " 10  adjusted_close_shift  3063 non-null   float64\n",
      " 11  percentage_change     3064 non-null   float64\n",
      " 12  increase              3064 non-null   int64  \n",
      " 13  negative              3064 non-null   float64\n",
      " 14  nuetral               3064 non-null   float64\n",
      " 15  positive              3064 non-null   float64\n",
      " 16  retweets              3064 non-null   float64\n",
      "dtypes: float64(14), int64(2), object(1)\n",
      "memory usage: 430.9+ KB\n"
     ]
    }
   ],
   "source": [
    "df.info()"
   ]
  },
  {
   "cell_type": "code",
   "execution_count": 189,
   "metadata": {
    "ExecuteTime": {
     "end_time": "2021-02-23T06:48:06.141239Z",
     "start_time": "2021-02-23T06:48:06.128947Z"
    },
    "vscode": {
     "languageId": "python"
    }
   },
   "outputs": [
    {
     "data": {
      "text/html": [
       "<div>\n",
       "<style scoped>\n",
       "    .dataframe tbody tr th:only-of-type {\n",
       "        vertical-align: middle;\n",
       "    }\n",
       "\n",
       "    .dataframe tbody tr th {\n",
       "        vertical-align: top;\n",
       "    }\n",
       "\n",
       "    .dataframe thead th {\n",
       "        text-align: right;\n",
       "    }\n",
       "</style>\n",
       "<table border=\"1\" class=\"dataframe\">\n",
       "  <thead>\n",
       "    <tr style=\"text-align: right;\">\n",
       "      <th></th>\n",
       "      <th>1. open</th>\n",
       "      <th>2. high</th>\n",
       "      <th>3. low</th>\n",
       "      <th>4. close</th>\n",
       "      <th>5. adjusted close</th>\n",
       "      <th>6. volume</th>\n",
       "      <th>7. dividend amount</th>\n",
       "      <th>8. split coefficient</th>\n",
       "      <th>date_time</th>\n",
       "      <th>day_of_week</th>\n",
       "      <th>adjusted_close_shift</th>\n",
       "      <th>percentage_change</th>\n",
       "      <th>increase</th>\n",
       "      <th>negative</th>\n",
       "      <th>nuetral</th>\n",
       "      <th>positive</th>\n",
       "      <th>retweets</th>\n",
       "    </tr>\n",
       "    <tr>\n",
       "      <th>date</th>\n",
       "      <th></th>\n",
       "      <th></th>\n",
       "      <th></th>\n",
       "      <th></th>\n",
       "      <th></th>\n",
       "      <th></th>\n",
       "      <th></th>\n",
       "      <th></th>\n",
       "      <th></th>\n",
       "      <th></th>\n",
       "      <th></th>\n",
       "      <th></th>\n",
       "      <th></th>\n",
       "      <th></th>\n",
       "      <th></th>\n",
       "      <th></th>\n",
       "      <th></th>\n",
       "    </tr>\n",
       "  </thead>\n",
       "  <tbody>\n",
       "    <tr>\n",
       "      <th>2010-01-04</th>\n",
       "      <td>213.43</td>\n",
       "      <td>214.50</td>\n",
       "      <td>212.38</td>\n",
       "      <td>214.01</td>\n",
       "      <td>6.543876</td>\n",
       "      <td>17633200.0</td>\n",
       "      <td>0.0</td>\n",
       "      <td>1.0</td>\n",
       "      <td>2010-01-04</td>\n",
       "      <td>0</td>\n",
       "      <td>6.555190</td>\n",
       "      <td>0.172889</td>\n",
       "      <td>1</td>\n",
       "      <td>0.000007</td>\n",
       "      <td>0.000010</td>\n",
       "      <td>0.999984</td>\n",
       "      <td>32.0</td>\n",
       "    </tr>\n",
       "    <tr>\n",
       "      <th>2010-01-05</th>\n",
       "      <td>214.60</td>\n",
       "      <td>215.59</td>\n",
       "      <td>213.25</td>\n",
       "      <td>214.38</td>\n",
       "      <td>6.555190</td>\n",
       "      <td>21496600.0</td>\n",
       "      <td>0.0</td>\n",
       "      <td>1.0</td>\n",
       "      <td>2010-01-05</td>\n",
       "      <td>1</td>\n",
       "      <td>6.450921</td>\n",
       "      <td>-1.590633</td>\n",
       "      <td>0</td>\n",
       "      <td>0.498715</td>\n",
       "      <td>0.001116</td>\n",
       "      <td>0.500169</td>\n",
       "      <td>11.0</td>\n",
       "    </tr>\n",
       "    <tr>\n",
       "      <th>2010-01-06</th>\n",
       "      <td>214.38</td>\n",
       "      <td>215.23</td>\n",
       "      <td>210.75</td>\n",
       "      <td>210.97</td>\n",
       "      <td>6.450921</td>\n",
       "      <td>19720000.0</td>\n",
       "      <td>0.0</td>\n",
       "      <td>1.0</td>\n",
       "      <td>2010-01-06</td>\n",
       "      <td>2</td>\n",
       "      <td>6.438996</td>\n",
       "      <td>-0.184860</td>\n",
       "      <td>0</td>\n",
       "      <td>0.000052</td>\n",
       "      <td>0.085701</td>\n",
       "      <td>0.914247</td>\n",
       "      <td>6.0</td>\n",
       "    </tr>\n",
       "    <tr>\n",
       "      <th>2010-01-07</th>\n",
       "      <td>211.75</td>\n",
       "      <td>212.00</td>\n",
       "      <td>209.05</td>\n",
       "      <td>210.58</td>\n",
       "      <td>6.438996</td>\n",
       "      <td>17040400.0</td>\n",
       "      <td>0.0</td>\n",
       "      <td>1.0</td>\n",
       "      <td>2010-01-07</td>\n",
       "      <td>3</td>\n",
       "      <td>6.481804</td>\n",
       "      <td>0.664830</td>\n",
       "      <td>1</td>\n",
       "      <td>0.457010</td>\n",
       "      <td>0.000224</td>\n",
       "      <td>0.542766</td>\n",
       "      <td>13.0</td>\n",
       "    </tr>\n",
       "    <tr>\n",
       "      <th>2010-01-08</th>\n",
       "      <td>210.30</td>\n",
       "      <td>212.00</td>\n",
       "      <td>209.06</td>\n",
       "      <td>211.98</td>\n",
       "      <td>6.481804</td>\n",
       "      <td>15986100.0</td>\n",
       "      <td>0.0</td>\n",
       "      <td>1.0</td>\n",
       "      <td>2010-01-08</td>\n",
       "      <td>4</td>\n",
       "      <td>6.424624</td>\n",
       "      <td>-0.882159</td>\n",
       "      <td>0</td>\n",
       "      <td>0.010157</td>\n",
       "      <td>0.000059</td>\n",
       "      <td>0.989783</td>\n",
       "      <td>19.0</td>\n",
       "    </tr>\n",
       "  </tbody>\n",
       "</table>\n",
       "</div>"
      ],
      "text/plain": [
       "            1. open  2. high  3. low  4. close  5. adjusted close   6. volume  \\\n",
       "date                                                                            \n",
       "2010-01-04   213.43   214.50  212.38    214.01           6.543876  17633200.0   \n",
       "2010-01-05   214.60   215.59  213.25    214.38           6.555190  21496600.0   \n",
       "2010-01-06   214.38   215.23  210.75    210.97           6.450921  19720000.0   \n",
       "2010-01-07   211.75   212.00  209.05    210.58           6.438996  17040400.0   \n",
       "2010-01-08   210.30   212.00  209.06    211.98           6.481804  15986100.0   \n",
       "\n",
       "            7. dividend amount  8. split coefficient   date_time  day_of_week  \\\n",
       "date                                                                            \n",
       "2010-01-04                 0.0                   1.0  2010-01-04            0   \n",
       "2010-01-05                 0.0                   1.0  2010-01-05            1   \n",
       "2010-01-06                 0.0                   1.0  2010-01-06            2   \n",
       "2010-01-07                 0.0                   1.0  2010-01-07            3   \n",
       "2010-01-08                 0.0                   1.0  2010-01-08            4   \n",
       "\n",
       "            adjusted_close_shift  percentage_change  increase  negative  \\\n",
       "date                                                                      \n",
       "2010-01-04              6.555190           0.172889         1  0.000007   \n",
       "2010-01-05              6.450921          -1.590633         0  0.498715   \n",
       "2010-01-06              6.438996          -0.184860         0  0.000052   \n",
       "2010-01-07              6.481804           0.664830         1  0.457010   \n",
       "2010-01-08              6.424624          -0.882159         0  0.010157   \n",
       "\n",
       "             nuetral  positive  retweets  \n",
       "date                                      \n",
       "2010-01-04  0.000010  0.999984      32.0  \n",
       "2010-01-05  0.001116  0.500169      11.0  \n",
       "2010-01-06  0.085701  0.914247       6.0  \n",
       "2010-01-07  0.000224  0.542766      13.0  \n",
       "2010-01-08  0.000059  0.989783      19.0  "
      ]
     },
     "execution_count": 189,
     "metadata": {},
     "output_type": "execute_result"
    }
   ],
   "source": [
    "df.head()"
   ]
  },
  {
   "cell_type": "markdown",
   "metadata": {},
   "source": [
    "## Prepare Data"
   ]
  },
  {
   "cell_type": "markdown",
   "metadata": {},
   "source": [
    "### Stationarity"
   ]
  },
  {
   "cell_type": "markdown",
   "metadata": {},
   "source": [
    "We apply the same transformation—annual difference for both series, prior log-transform for industrial production—to achieve stationarity that we used in Chapter 8 on Time Series Models:"
   ]
  },
  {
   "cell_type": "code",
   "execution_count": 190,
   "metadata": {
    "ExecuteTime": {
     "end_time": "2021-02-23T06:48:06.593041Z",
     "start_time": "2021-02-23T06:48:06.585035Z"
    },
    "vscode": {
     "languageId": "python"
    }
   },
   "outputs": [],
   "source": [
    "# df_transformed = (pd.DataFrame({'ip': np.log(df.ip).diff(12),\n",
    "#                                 'sentiment': df.sentiment.diff(12)})\n",
    "#                   .dropna())"
   ]
  },
  {
   "cell_type": "markdown",
   "metadata": {},
   "source": [
    "### Scaling"
   ]
  },
  {
   "cell_type": "markdown",
   "metadata": {},
   "source": [
    "Then we scale the transformed data to the [0,1] interval:"
   ]
  },
  {
   "cell_type": "code",
   "execution_count": 191,
   "metadata": {
    "ExecuteTime": {
     "end_time": "2021-02-23T06:48:09.268098Z",
     "start_time": "2021-02-23T06:48:09.252298Z"
    },
    "vscode": {
     "languageId": "python"
    }
   },
   "outputs": [
    {
     "data": {
      "text/html": [
       "<div>\n",
       "<style scoped>\n",
       "    .dataframe tbody tr th:only-of-type {\n",
       "        vertical-align: middle;\n",
       "    }\n",
       "\n",
       "    .dataframe tbody tr th {\n",
       "        vertical-align: top;\n",
       "    }\n",
       "\n",
       "    .dataframe thead th {\n",
       "        text-align: right;\n",
       "    }\n",
       "</style>\n",
       "<table border=\"1\" class=\"dataframe\">\n",
       "  <thead>\n",
       "    <tr style=\"text-align: right;\">\n",
       "      <th></th>\n",
       "      <th>2. high</th>\n",
       "      <th>3. low</th>\n",
       "      <th>5. adjusted close</th>\n",
       "      <th>positive</th>\n",
       "    </tr>\n",
       "  </thead>\n",
       "  <tbody>\n",
       "    <tr>\n",
       "      <th>count</th>\n",
       "      <td>3064.000000</td>\n",
       "      <td>3064.000000</td>\n",
       "      <td>3064.000000</td>\n",
       "      <td>3064.000000</td>\n",
       "    </tr>\n",
       "    <tr>\n",
       "      <th>mean</th>\n",
       "      <td>0.280173</td>\n",
       "      <td>0.275689</td>\n",
       "      <td>0.209567</td>\n",
       "      <td>0.752545</td>\n",
       "    </tr>\n",
       "    <tr>\n",
       "      <th>std</th>\n",
       "      <td>0.262130</td>\n",
       "      <td>0.258886</td>\n",
       "      <td>0.233957</td>\n",
       "      <td>0.169262</td>\n",
       "    </tr>\n",
       "    <tr>\n",
       "      <th>min</th>\n",
       "      <td>0.000000</td>\n",
       "      <td>0.000000</td>\n",
       "      <td>0.000000</td>\n",
       "      <td>0.000000</td>\n",
       "    </tr>\n",
       "    <tr>\n",
       "      <th>25%</th>\n",
       "      <td>0.063211</td>\n",
       "      <td>0.061683</td>\n",
       "      <td>0.059199</td>\n",
       "      <td>0.660844</td>\n",
       "    </tr>\n",
       "    <tr>\n",
       "      <th>50%</th>\n",
       "      <td>0.168677</td>\n",
       "      <td>0.166210</td>\n",
       "      <td>0.115963</td>\n",
       "      <td>0.765824</td>\n",
       "    </tr>\n",
       "    <tr>\n",
       "      <th>75%</th>\n",
       "      <td>0.453326</td>\n",
       "      <td>0.441260</td>\n",
       "      <td>0.242842</td>\n",
       "      <td>0.867454</td>\n",
       "    </tr>\n",
       "    <tr>\n",
       "      <th>max</th>\n",
       "      <td>1.000000</td>\n",
       "      <td>1.000000</td>\n",
       "      <td>1.000000</td>\n",
       "      <td>1.000000</td>\n",
       "    </tr>\n",
       "  </tbody>\n",
       "</table>\n",
       "</div>"
      ],
      "text/plain": [
       "           2. high       3. low  5. adjusted close     positive\n",
       "count  3064.000000  3064.000000        3064.000000  3064.000000\n",
       "mean      0.280173     0.275689           0.209567     0.752545\n",
       "std       0.262130     0.258886           0.233957     0.169262\n",
       "min       0.000000     0.000000           0.000000     0.000000\n",
       "25%       0.063211     0.061683           0.059199     0.660844\n",
       "50%       0.168677     0.166210           0.115963     0.765824\n",
       "75%       0.453326     0.441260           0.242842     0.867454\n",
       "max       1.000000     1.000000           1.000000     1.000000"
      ]
     },
     "execution_count": 191,
     "metadata": {},
     "output_type": "execute_result"
    }
   ],
   "source": [
    "df_transformed = df[[\"2. high\", \"3. low\", \"5. adjusted close\", \"positive\"]]\n",
    "\n",
    "df_transformed = df_transformed.apply(minmax_scale)\n",
    "# scaler = MinMaxScaler()\n",
    "# df_transformed = scaler.fit_transform(df_transformed)  pd.DataFrame(scaled_features, index=df.index, columns=df.columns)  \n",
    "df_transformed.describe()"
   ]
  },
  {
   "cell_type": "code",
   "execution_count": null,
   "metadata": {
    "vscode": {
     "languageId": "python"
    }
   },
   "outputs": [],
   "source": []
  },
  {
   "cell_type": "markdown",
   "metadata": {},
   "source": [
    "### Plot original and transformed series"
   ]
  },
  {
   "cell_type": "code",
   "execution_count": 192,
   "metadata": {
    "ExecuteTime": {
     "end_time": "2021-02-23T06:48:11.249754Z",
     "start_time": "2021-02-23T06:48:09.554213Z"
    },
    "vscode": {
     "languageId": "python"
    }
   },
   "outputs": [],
   "source": [
    "# fig, axes = plt.subplots(ncols=2, figsize=(14,4))\n",
    "# columns={'2. high': 'High', '3. low': 'Low', '5. adjusted close': 'adjusted close'}\n",
    "# df.rename(columns=columns).plot(ax=axes[0], title='Original Series')\n",
    "# df_transformed.rename(columns=columns).plot(ax=axes[1], title='Tansformed Series')\n",
    "# sns.despine()\n",
    "# fig.tight_layout()\n",
    "# fig.savefig(results_path / 'multi_rnn', dpi=300)"
   ]
  },
  {
   "cell_type": "markdown",
   "metadata": {},
   "source": [
    "### Reshape data into RNN format"
   ]
  },
  {
   "cell_type": "markdown",
   "metadata": {},
   "source": [
    "We can reshape directly to get non-overlapping series, i.e., one sample for each year (works only if the number of samples is divisible by window size):"
   ]
  },
  {
   "cell_type": "code",
   "execution_count": 193,
   "metadata": {
    "ExecuteTime": {
     "end_time": "2021-02-23T06:48:13.144650Z",
     "start_time": "2021-02-23T06:48:13.141342Z"
    },
    "vscode": {
     "languageId": "python"
    }
   },
   "outputs": [],
   "source": [
    "# df.values.reshape(-1, 12, 2).shape"
   ]
  },
  {
   "cell_type": "markdown",
   "metadata": {},
   "source": [
    "However, we want rolling, not non-overlapping lagged values. The create_multivariate_rnn_data function transforms a dataset of several time series into the shape required by the Keras RNN layers, namely `n_samples` x `window_size` x `n_series`, as follows:"
   ]
  },
  {
   "cell_type": "code",
   "execution_count": 194,
   "metadata": {
    "ExecuteTime": {
     "end_time": "2021-02-23T06:48:13.455841Z",
     "start_time": "2021-02-23T06:48:13.452960Z"
    },
    "vscode": {
     "languageId": "python"
    }
   },
   "outputs": [],
   "source": [
    "def create_multivariate_rnn_data(data, window_size):\n",
    "    y = data[window_size:]\n",
    "    n = data.shape[0]\n",
    "    X = np.stack([data[i: j] \n",
    "                  for i, j in enumerate(range(window_size, n))], axis=0)\n",
    "    return X, y"
   ]
  },
  {
   "cell_type": "markdown",
   "metadata": {},
   "source": [
    "We will use window_size of 24 months and obtain the desired inputs for our RNN model, as follows:"
   ]
  },
  {
   "cell_type": "code",
   "execution_count": 195,
   "metadata": {
    "ExecuteTime": {
     "end_time": "2021-02-23T06:48:13.761579Z",
     "start_time": "2021-02-23T06:48:13.759076Z"
    },
    "vscode": {
     "languageId": "python"
    }
   },
   "outputs": [],
   "source": [
    "window_size = 63"
   ]
  },
  {
   "cell_type": "code",
   "execution_count": 196,
   "metadata": {
    "ExecuteTime": {
     "end_time": "2021-02-23T06:48:13.963203Z",
     "start_time": "2021-02-23T06:48:13.915725Z"
    },
    "vscode": {
     "languageId": "python"
    }
   },
   "outputs": [],
   "source": [
    "X, y = create_multivariate_rnn_data(df_transformed, window_size=window_size)"
   ]
  },
  {
   "cell_type": "code",
   "execution_count": 197,
   "metadata": {
    "ExecuteTime": {
     "end_time": "2021-02-23T06:48:14.063646Z",
     "start_time": "2021-02-23T06:48:14.059953Z"
    },
    "vscode": {
     "languageId": "python"
    }
   },
   "outputs": [
    {
     "data": {
      "text/plain": [
       "((3001, 63, 4), (3001, 4))"
      ]
     },
     "execution_count": 197,
     "metadata": {},
     "output_type": "execute_result"
    }
   ],
   "source": [
    "X.shape, y.shape"
   ]
  },
  {
   "cell_type": "code",
   "execution_count": 198,
   "metadata": {
    "ExecuteTime": {
     "end_time": "2021-02-23T06:48:14.219349Z",
     "start_time": "2021-02-23T06:48:14.211554Z"
    },
    "vscode": {
     "languageId": "python"
    }
   },
   "outputs": [
    {
     "data": {
      "text/html": [
       "<div>\n",
       "<style scoped>\n",
       "    .dataframe tbody tr th:only-of-type {\n",
       "        vertical-align: middle;\n",
       "    }\n",
       "\n",
       "    .dataframe tbody tr th {\n",
       "        vertical-align: top;\n",
       "    }\n",
       "\n",
       "    .dataframe thead th {\n",
       "        text-align: right;\n",
       "    }\n",
       "</style>\n",
       "<table border=\"1\" class=\"dataframe\">\n",
       "  <thead>\n",
       "    <tr style=\"text-align: right;\">\n",
       "      <th></th>\n",
       "      <th>2. high</th>\n",
       "      <th>3. low</th>\n",
       "      <th>5. adjusted close</th>\n",
       "      <th>positive</th>\n",
       "    </tr>\n",
       "    <tr>\n",
       "      <th>date</th>\n",
       "      <th></th>\n",
       "      <th></th>\n",
       "      <th></th>\n",
       "      <th></th>\n",
       "    </tr>\n",
       "  </thead>\n",
       "  <tbody>\n",
       "    <tr>\n",
       "      <th>2010-01-04</th>\n",
       "      <td>0.201507</td>\n",
       "      <td>0.201459</td>\n",
       "      <td>0.003817</td>\n",
       "      <td>0.999985</td>\n",
       "    </tr>\n",
       "    <tr>\n",
       "      <th>2010-01-05</th>\n",
       "      <td>0.203281</td>\n",
       "      <td>0.202885</td>\n",
       "      <td>0.003882</td>\n",
       "      <td>0.500169</td>\n",
       "    </tr>\n",
       "    <tr>\n",
       "      <th>2010-01-06</th>\n",
       "      <td>0.202695</td>\n",
       "      <td>0.198787</td>\n",
       "      <td>0.003289</td>\n",
       "      <td>0.914248</td>\n",
       "    </tr>\n",
       "    <tr>\n",
       "      <th>2010-01-07</th>\n",
       "      <td>0.197438</td>\n",
       "      <td>0.196001</td>\n",
       "      <td>0.003221</td>\n",
       "      <td>0.542766</td>\n",
       "    </tr>\n",
       "    <tr>\n",
       "      <th>2010-01-08</th>\n",
       "      <td>0.197438</td>\n",
       "      <td>0.196017</td>\n",
       "      <td>0.003464</td>\n",
       "      <td>0.989785</td>\n",
       "    </tr>\n",
       "  </tbody>\n",
       "</table>\n",
       "</div>"
      ],
      "text/plain": [
       "             2. high    3. low  5. adjusted close  positive\n",
       "date                                                       \n",
       "2010-01-04  0.201507  0.201459           0.003817  0.999985\n",
       "2010-01-05  0.203281  0.202885           0.003882  0.500169\n",
       "2010-01-06  0.202695  0.198787           0.003289  0.914248\n",
       "2010-01-07  0.197438  0.196001           0.003221  0.542766\n",
       "2010-01-08  0.197438  0.196017           0.003464  0.989785"
      ]
     },
     "execution_count": 198,
     "metadata": {},
     "output_type": "execute_result"
    }
   ],
   "source": [
    "df_transformed.head()"
   ]
  },
  {
   "cell_type": "code",
   "execution_count": 199,
   "metadata": {
    "vscode": {
     "languageId": "python"
    }
   },
   "outputs": [
    {
     "data": {
      "text/html": [
       "<div>\n",
       "<style scoped>\n",
       "    .dataframe tbody tr th:only-of-type {\n",
       "        vertical-align: middle;\n",
       "    }\n",
       "\n",
       "    .dataframe tbody tr th {\n",
       "        vertical-align: top;\n",
       "    }\n",
       "\n",
       "    .dataframe thead th {\n",
       "        text-align: right;\n",
       "    }\n",
       "</style>\n",
       "<table border=\"1\" class=\"dataframe\">\n",
       "  <thead>\n",
       "    <tr style=\"text-align: right;\">\n",
       "      <th></th>\n",
       "      <th>2. high</th>\n",
       "      <th>3. low</th>\n",
       "      <th>5. adjusted close</th>\n",
       "      <th>positive</th>\n",
       "    </tr>\n",
       "    <tr>\n",
       "      <th>date</th>\n",
       "      <th></th>\n",
       "      <th></th>\n",
       "      <th></th>\n",
       "      <th></th>\n",
       "    </tr>\n",
       "  </thead>\n",
       "  <tbody>\n",
       "    <tr>\n",
       "      <th>2010-04-06</th>\n",
       "      <td>0.243404</td>\n",
       "      <td>0.241813</td>\n",
       "      <td>0.008255</td>\n",
       "      <td>0.666620</td>\n",
       "    </tr>\n",
       "    <tr>\n",
       "      <th>2010-04-07</th>\n",
       "      <td>0.246138</td>\n",
       "      <td>0.244534</td>\n",
       "      <td>0.008439</td>\n",
       "      <td>0.514642</td>\n",
       "    </tr>\n",
       "    <tr>\n",
       "      <th>2010-04-08</th>\n",
       "      <td>0.245520</td>\n",
       "      <td>0.243517</td>\n",
       "      <td>0.008326</td>\n",
       "      <td>0.999782</td>\n",
       "    </tr>\n",
       "    <tr>\n",
       "      <th>2010-04-09</th>\n",
       "      <td>0.246089</td>\n",
       "      <td>0.247484</td>\n",
       "      <td>0.008646</td>\n",
       "      <td>0.999181</td>\n",
       "    </tr>\n",
       "    <tr>\n",
       "      <th>2010-04-12</th>\n",
       "      <td>0.248010</td>\n",
       "      <td>0.249697</td>\n",
       "      <td>0.008733</td>\n",
       "      <td>0.999201</td>\n",
       "    </tr>\n",
       "  </tbody>\n",
       "</table>\n",
       "</div>"
      ],
      "text/plain": [
       "             2. high    3. low  5. adjusted close  positive\n",
       "date                                                       \n",
       "2010-04-06  0.243404  0.241813           0.008255  0.666620\n",
       "2010-04-07  0.246138  0.244534           0.008439  0.514642\n",
       "2010-04-08  0.245520  0.243517           0.008326  0.999782\n",
       "2010-04-09  0.246089  0.247484           0.008646  0.999181\n",
       "2010-04-12  0.248010  0.249697           0.008733  0.999201"
      ]
     },
     "execution_count": 199,
     "metadata": {},
     "output_type": "execute_result"
    }
   ],
   "source": [
    "y.head()"
   ]
  },
  {
   "cell_type": "code",
   "execution_count": 200,
   "metadata": {
    "vscode": {
     "languageId": "python"
    }
   },
   "outputs": [
    {
     "data": {
      "text/plain": [
       "numpy.ndarray"
      ]
     },
     "execution_count": 200,
     "metadata": {},
     "output_type": "execute_result"
    }
   ],
   "source": [
    "type(X)"
   ]
  },
  {
   "cell_type": "code",
   "execution_count": 201,
   "metadata": {
    "vscode": {
     "languageId": "python"
    }
   },
   "outputs": [],
   "source": [
    "y = y['5. adjusted close']"
   ]
  },
  {
   "cell_type": "code",
   "execution_count": 202,
   "metadata": {
    "vscode": {
     "languageId": "python"
    }
   },
   "outputs": [
    {
     "data": {
      "text/plain": [
       "pandas.core.series.Series"
      ]
     },
     "execution_count": 202,
     "metadata": {},
     "output_type": "execute_result"
    }
   ],
   "source": [
    "type(y)"
   ]
  },
  {
   "cell_type": "markdown",
   "metadata": {},
   "source": [
    "Finally, we split our data into a train and a test set, using the last 24 months to test the out-of-sample performance, as shown here:"
   ]
  },
  {
   "cell_type": "code",
   "execution_count": 203,
   "metadata": {
    "ExecuteTime": {
     "end_time": "2021-02-23T06:48:16.428668Z",
     "start_time": "2021-02-23T06:48:16.426564Z"
    },
    "vscode": {
     "languageId": "python"
    }
   },
   "outputs": [],
   "source": [
    "# test_size =24\n",
    "# train_size = X.shape[0]-test_size\n",
    "train_size = int(len(X) * .9)\n"
   ]
  },
  {
   "cell_type": "code",
   "execution_count": 204,
   "metadata": {
    "ExecuteTime": {
     "end_time": "2021-02-23T06:48:16.625590Z",
     "start_time": "2021-02-23T06:48:16.616996Z"
    },
    "vscode": {
     "languageId": "python"
    }
   },
   "outputs": [],
   "source": [
    "X_train, y_train = X[:train_size], y[:train_size]# ['5. adjusted close']\n",
    "X_test, y_test = X[train_size:], y[train_size:]# ['5. adjusted close']"
   ]
  },
  {
   "cell_type": "code",
   "execution_count": 205,
   "metadata": {
    "ExecuteTime": {
     "end_time": "2021-02-23T06:48:16.774725Z",
     "start_time": "2021-02-23T06:48:16.771731Z"
    },
    "vscode": {
     "languageId": "python"
    }
   },
   "outputs": [
    {
     "data": {
      "text/plain": [
       "((2700, 63, 4), (301, 63, 4))"
      ]
     },
     "execution_count": 205,
     "metadata": {},
     "output_type": "execute_result"
    }
   ],
   "source": [
    "X_train.shape, X_test.shape"
   ]
  },
  {
   "cell_type": "code",
   "execution_count": 206,
   "metadata": {
    "vscode": {
     "languageId": "python"
    }
   },
   "outputs": [
    {
     "data": {
      "text/plain": [
       "((2700,), (301,))"
      ]
     },
     "execution_count": 206,
     "metadata": {},
     "output_type": "execute_result"
    }
   ],
   "source": [
    "y_train.shape, y_test.shape"
   ]
  },
  {
   "cell_type": "markdown",
   "metadata": {},
   "source": [
    "## Define Model Architecture"
   ]
  },
  {
   "cell_type": "markdown",
   "metadata": {},
   "source": [
    "We use a similar architecture with two stacked LSTM layers with 12 and 6 units, respectively, followed by a fully-connected layer with 10 units. The output layer has two units, one for each time series. We compile them using mean absolute loss and the recommended RMSProp optimizer, as follows:"
   ]
  },
  {
   "cell_type": "code",
   "execution_count": 207,
   "metadata": {
    "ExecuteTime": {
     "end_time": "2021-02-23T06:48:17.259646Z",
     "start_time": "2021-02-23T06:48:17.255449Z"
    },
    "vscode": {
     "languageId": "python"
    }
   },
   "outputs": [],
   "source": [
    "K.clear_session()"
   ]
  },
  {
   "cell_type": "code",
   "execution_count": 208,
   "metadata": {
    "ExecuteTime": {
     "end_time": "2021-02-23T06:48:17.549799Z",
     "start_time": "2021-02-23T06:48:17.547640Z"
    },
    "vscode": {
     "languageId": "python"
    }
   },
   "outputs": [],
   "source": [
    "n_features = 4\n",
    "output_size = 1"
   ]
  },
  {
   "cell_type": "code",
   "execution_count": 209,
   "metadata": {
    "ExecuteTime": {
     "end_time": "2021-02-23T06:48:17.838826Z",
     "start_time": "2021-02-23T06:48:17.836719Z"
    },
    "vscode": {
     "languageId": "python"
    }
   },
   "outputs": [],
   "source": [
    "lstm_units = 63\n",
    "dense_units = 4"
   ]
  },
  {
   "cell_type": "code",
   "execution_count": 210,
   "metadata": {
    "ExecuteTime": {
     "end_time": "2021-02-23T06:48:18.232554Z",
     "start_time": "2021-02-23T06:48:18.007729Z"
    },
    "vscode": {
     "languageId": "python"
    }
   },
   "outputs": [],
   "source": [
    "# rnn = Sequential([\n",
    "#     LSTM(units=lstm_units,\n",
    "#          # dropout=.1,\n",
    "#          # recurrent_dropout=.1,\n",
    "#          input_shape=(window_size, n_features), name='LSTM',\n",
    "#          return_sequences=False),\n",
    "#     tf.keras.layers.Dropout(0.20),\n",
    "#     Dense(dense_units, name='FC'),\n",
    "#     Dense(output_size, name='Output')\n",
    "# ])\n",
    "\n",
    "# rnn = Sequential([\n",
    "#     Bidirectional(LSTM(units=lstm_units,\n",
    "#          # dropout=.1,\n",
    "#          # recurrent_dropout=.1,\n",
    "#          input_shape=(window_size, n_features), name='LSTM',\n",
    "#          return_sequences=True)),\n",
    "#     tf.keras.layers.Dropout(0.20),\n",
    "#     # Dense(dense_units, name='FC'),\n",
    "#     Dense(1, name='Output')\n",
    "# ])\n",
    "\n",
    "rnn = Sequential([\n",
    "   #  LSTM(units=63, \n",
    "   #       input_shape=(window_size, n_features), name='LSTM'),\n",
    "   Bidirectional(LSTM(lstm_units, return_sequences=True), name='LSTM1'),\n",
    "   tf.keras.layers.Dropout(0.20),\n",
    "# #    LSTM(units=63, \n",
    "# #           input_shape=(window_size, n_features), name='LSTM2'),\n",
    "   Dense(1, name='Output')\n",
    "])"
   ]
  },
  {
   "cell_type": "markdown",
   "metadata": {},
   "source": [
    "The model has 1,268 parameters, as shown here:"
   ]
  },
  {
   "cell_type": "markdown",
   "metadata": {},
   "source": [
    "## Train the Model"
   ]
  },
  {
   "cell_type": "markdown",
   "metadata": {},
   "source": [
    "We train for 50 epochs with a batch_size value of 20 using early stopping:"
   ]
  },
  {
   "cell_type": "code",
   "execution_count": 211,
   "metadata": {
    "ExecuteTime": {
     "end_time": "2021-02-23T06:48:20.477367Z",
     "start_time": "2021-02-23T06:48:20.470808Z"
    },
    "vscode": {
     "languageId": "python"
    }
   },
   "outputs": [],
   "source": [
    "lstm_path = (results_path / 'lstm.h5').as_posix()\n",
    "\n",
    "checkpointer = ModelCheckpoint(filepath=lstm_path,\n",
    "                               verbose=1,\n",
    "                               monitor='val_loss',\n",
    "                               mode='min',\n",
    "                               save_best_only=True)"
   ]
  },
  {
   "cell_type": "code",
   "execution_count": 212,
   "metadata": {
    "vscode": {
     "languageId": "python"
    }
   },
   "outputs": [],
   "source": [
    "optimizer = tf.keras.optimizers.RMSprop(learning_rate=0.001,\n",
    "                                     # learning_rate=lr_schedule,\n",
    "                                     rho=0.9,\n",
    "                                     epsilon=1e-08,\n",
    "                                     decay=0.0)"
   ]
  },
  {
   "cell_type": "code",
   "execution_count": 213,
   "metadata": {
    "ExecuteTime": {
     "end_time": "2021-02-23T06:48:20.622189Z",
     "start_time": "2021-02-23T06:48:20.617111Z"
    },
    "vscode": {
     "languageId": "python"
    }
   },
   "outputs": [],
   "source": [
    "early_stopping = EarlyStopping(monitor='val_loss', \n",
    "                              patience=10,\n",
    "                              restore_best_weights=True)"
   ]
  },
  {
   "cell_type": "code",
   "execution_count": 214,
   "metadata": {
    "vscode": {
     "languageId": "python"
    }
   },
   "outputs": [],
   "source": [
    "# rnn.compile(loss='mean_absolute_error', optimizer=optimizer)\n",
    "\n",
    "rnn.compile(loss=tf.losses.MeanSquaredError(),\n",
    "            optimizer=optimizer,\n",
    "            metrics=[tf.metrics.MeanAbsoluteError()])"
   ]
  },
  {
   "cell_type": "code",
   "execution_count": 215,
   "metadata": {
    "vscode": {
     "languageId": "python"
    }
   },
   "outputs": [],
   "source": [
    "# rnn.summary()"
   ]
  },
  {
   "cell_type": "code",
   "execution_count": 216,
   "metadata": {
    "ExecuteTime": {
     "end_time": "2021-02-23T06:48:30.587987Z",
     "start_time": "2021-02-23T06:48:20.771561Z"
    },
    "vscode": {
     "languageId": "python"
    }
   },
   "outputs": [
    {
     "name": "stdout",
     "output_type": "stream",
     "text": [
      "Epoch 1/100\n",
      "85/85 [==============================] - ETA: 0s - loss: 0.0054 - mean_absolute_error: 0.0542\n",
      "Epoch 1: val_loss improved from inf to 0.01269, saving model to results/multivariate_time_series/lstm.h5\n",
      "85/85 [==============================] - 14s 81ms/step - loss: 0.0054 - mean_absolute_error: 0.0542 - val_loss: 0.0127 - val_mean_absolute_error: 0.0827\n",
      "Epoch 2/100\n",
      "84/85 [============================>.] - ETA: 0s - loss: 0.0087 - mean_absolute_error: 0.0532\n",
      "Epoch 2: val_loss improved from 0.01269 to 0.01065, saving model to results/multivariate_time_series/lstm.h5\n",
      "85/85 [==============================] - 5s 60ms/step - loss: 0.0087 - mean_absolute_error: 0.0532 - val_loss: 0.0107 - val_mean_absolute_error: 0.0747\n",
      "Epoch 3/100\n",
      "85/85 [==============================] - ETA: 0s - loss: 0.0053 - mean_absolute_error: 0.0440\n",
      "Epoch 3: val_loss improved from 0.01065 to 0.00949, saving model to results/multivariate_time_series/lstm.h5\n",
      "85/85 [==============================] - 5s 61ms/step - loss: 0.0053 - mean_absolute_error: 0.0440 - val_loss: 0.0095 - val_mean_absolute_error: 0.0703\n",
      "Epoch 4/100\n",
      "85/85 [==============================] - ETA: 0s - loss: 0.0038 - mean_absolute_error: 0.0384\n",
      "Epoch 4: val_loss improved from 0.00949 to 0.00863, saving model to results/multivariate_time_series/lstm.h5\n",
      "85/85 [==============================] - 5s 57ms/step - loss: 0.0038 - mean_absolute_error: 0.0384 - val_loss: 0.0086 - val_mean_absolute_error: 0.0678\n",
      "Epoch 5/100\n",
      "84/85 [============================>.] - ETA: 0s - loss: 0.0027 - mean_absolute_error: 0.0331\n",
      "Epoch 5: val_loss improved from 0.00863 to 0.00810, saving model to results/multivariate_time_series/lstm.h5\n",
      "85/85 [==============================] - 5s 58ms/step - loss: 0.0028 - mean_absolute_error: 0.0332 - val_loss: 0.0081 - val_mean_absolute_error: 0.0649\n",
      "Epoch 6/100\n",
      "84/85 [============================>.] - ETA: 0s - loss: 0.0024 - mean_absolute_error: 0.0321\n",
      "Epoch 6: val_loss improved from 0.00810 to 0.00770, saving model to results/multivariate_time_series/lstm.h5\n",
      "85/85 [==============================] - 5s 61ms/step - loss: 0.0024 - mean_absolute_error: 0.0322 - val_loss: 0.0077 - val_mean_absolute_error: 0.0632\n",
      "Epoch 7/100\n",
      "85/85 [==============================] - ETA: 0s - loss: 0.0022 - mean_absolute_error: 0.0303\n",
      "Epoch 7: val_loss improved from 0.00770 to 0.00727, saving model to results/multivariate_time_series/lstm.h5\n",
      "85/85 [==============================] - 5s 56ms/step - loss: 0.0022 - mean_absolute_error: 0.0303 - val_loss: 0.0073 - val_mean_absolute_error: 0.0621\n",
      "Epoch 8/100\n",
      "84/85 [============================>.] - ETA: 0s - loss: 0.0020 - mean_absolute_error: 0.0290\n",
      "Epoch 8: val_loss improved from 0.00727 to 0.00694, saving model to results/multivariate_time_series/lstm.h5\n",
      "85/85 [==============================] - 5s 60ms/step - loss: 0.0020 - mean_absolute_error: 0.0291 - val_loss: 0.0069 - val_mean_absolute_error: 0.0605\n",
      "Epoch 9/100\n",
      "85/85 [==============================] - ETA: 0s - loss: 0.0019 - mean_absolute_error: 0.0280\n",
      "Epoch 9: val_loss improved from 0.00694 to 0.00665, saving model to results/multivariate_time_series/lstm.h5\n",
      "85/85 [==============================] - 5s 60ms/step - loss: 0.0019 - mean_absolute_error: 0.0280 - val_loss: 0.0067 - val_mean_absolute_error: 0.0592\n",
      "Epoch 10/100\n",
      "85/85 [==============================] - ETA: 0s - loss: 0.0017 - mean_absolute_error: 0.0269\n",
      "Epoch 10: val_loss improved from 0.00665 to 0.00639, saving model to results/multivariate_time_series/lstm.h5\n",
      "85/85 [==============================] - 5s 56ms/step - loss: 0.0017 - mean_absolute_error: 0.0269 - val_loss: 0.0064 - val_mean_absolute_error: 0.0582\n",
      "Epoch 11/100\n",
      "85/85 [==============================] - ETA: 0s - loss: 0.0016 - mean_absolute_error: 0.0262\n",
      "Epoch 11: val_loss improved from 0.00639 to 0.00618, saving model to results/multivariate_time_series/lstm.h5\n",
      "85/85 [==============================] - 4s 41ms/step - loss: 0.0016 - mean_absolute_error: 0.0262 - val_loss: 0.0062 - val_mean_absolute_error: 0.0574\n",
      "Epoch 12/100\n",
      "85/85 [==============================] - ETA: 0s - loss: 0.0015 - mean_absolute_error: 0.0255\n",
      "Epoch 12: val_loss improved from 0.00618 to 0.00600, saving model to results/multivariate_time_series/lstm.h5\n",
      "85/85 [==============================] - 4s 53ms/step - loss: 0.0015 - mean_absolute_error: 0.0255 - val_loss: 0.0060 - val_mean_absolute_error: 0.0567\n",
      "Epoch 13/100\n",
      "85/85 [==============================] - ETA: 0s - loss: 0.0015 - mean_absolute_error: 0.0248 \n",
      "Epoch 13: val_loss improved from 0.00600 to 0.00582, saving model to results/multivariate_time_series/lstm.h5\n",
      "85/85 [==============================] - 4s 46ms/step - loss: 0.0015 - mean_absolute_error: 0.0248 - val_loss: 0.0058 - val_mean_absolute_error: 0.0560\n",
      "Epoch 14/100\n",
      "84/85 [============================>.] - ETA: 0s - loss: 0.0014 - mean_absolute_error: 0.0243  \n",
      "Epoch 14: val_loss improved from 0.00582 to 0.00568, saving model to results/multivariate_time_series/lstm.h5\n",
      "85/85 [==============================] - 4s 46ms/step - loss: 0.0014 - mean_absolute_error: 0.0244 - val_loss: 0.0057 - val_mean_absolute_error: 0.0555\n",
      "Epoch 15/100\n",
      "85/85 [==============================] - ETA: 0s - loss: 0.0014 - mean_absolute_error: 0.0239  \n",
      "Epoch 15: val_loss improved from 0.00568 to 0.00556, saving model to results/multivariate_time_series/lstm.h5\n",
      "85/85 [==============================] - 4s 42ms/step - loss: 0.0014 - mean_absolute_error: 0.0239 - val_loss: 0.0056 - val_mean_absolute_error: 0.0549\n",
      "Epoch 16/100\n",
      "85/85 [==============================] - ETA: 0s - loss: 0.0013 - mean_absolute_error: 0.0234  \n",
      "Epoch 16: val_loss improved from 0.00556 to 0.00535, saving model to results/multivariate_time_series/lstm.h5\n",
      "85/85 [==============================] - 4s 48ms/step - loss: 0.0013 - mean_absolute_error: 0.0234 - val_loss: 0.0054 - val_mean_absolute_error: 0.0543\n",
      "Epoch 17/100\n",
      "85/85 [==============================] - ETA: 0s - loss: 0.0013 - mean_absolute_error: 0.0231  \n",
      "Epoch 17: val_loss improved from 0.00535 to 0.00532, saving model to results/multivariate_time_series/lstm.h5\n",
      "85/85 [==============================] - 4s 47ms/step - loss: 0.0013 - mean_absolute_error: 0.0231 - val_loss: 0.0053 - val_mean_absolute_error: 0.0541\n",
      "Epoch 18/100\n",
      "43/85 [==============>...............] - ETA: 1s - loss: 6.8349e-04 - mean_absolute_error: 0.0175"
     ]
    },
    {
     "ename": "KeyboardInterrupt",
     "evalue": "",
     "output_type": "error",
     "traceback": [
      "\u001b[0;31m---------------------------------------------------------------------------\u001b[0m",
      "\u001b[0;31mKeyboardInterrupt\u001b[0m                         Traceback (most recent call last)",
      "\u001b[1;32m/app/StockPricePredictions/src/exploratory_data_analysis/chance/python/samples/MachineLearningforAlgorithmicTrading/modified/04_multivariate_timeseries.ipynb Cell 57'\u001b[0m in \u001b[0;36m<module>\u001b[0;34m\u001b[0m\n\u001b[0;32m----> <a href='vscode-notebook-cell://attached-container%2B7b22636f6e7461696e65724e616d65223a222f7374757065666965645f6e65756d616e6e227d/app/StockPricePredictions/src/exploratory_data_analysis/chance/python/samples/MachineLearningforAlgorithmicTrading/modified/04_multivariate_timeseries.ipynb#ch0000052vscode-remote?line=0'>1</a>\u001b[0m result \u001b[39m=\u001b[39m rnn\u001b[39m.\u001b[39;49mfit(X_train,\n\u001b[1;32m      <a href='vscode-notebook-cell://attached-container%2B7b22636f6e7461696e65724e616d65223a222f7374757065666965645f6e65756d616e6e227d/app/StockPricePredictions/src/exploratory_data_analysis/chance/python/samples/MachineLearningforAlgorithmicTrading/modified/04_multivariate_timeseries.ipynb#ch0000052vscode-remote?line=1'>2</a>\u001b[0m                  y_train,\n\u001b[1;32m      <a href='vscode-notebook-cell://attached-container%2B7b22636f6e7461696e65724e616d65223a222f7374757065666965645f6e65756d616e6e227d/app/StockPricePredictions/src/exploratory_data_analysis/chance/python/samples/MachineLearningforAlgorithmicTrading/modified/04_multivariate_timeseries.ipynb#ch0000052vscode-remote?line=2'>3</a>\u001b[0m                  epochs\u001b[39m=\u001b[39;49m\u001b[39m100\u001b[39;49m,\n\u001b[1;32m      <a href='vscode-notebook-cell://attached-container%2B7b22636f6e7461696e65724e616d65223a222f7374757065666965645f6e65756d616e6e227d/app/StockPricePredictions/src/exploratory_data_analysis/chance/python/samples/MachineLearningforAlgorithmicTrading/modified/04_multivariate_timeseries.ipynb#ch0000052vscode-remote?line=3'>4</a>\u001b[0m                  batch_size\u001b[39m=\u001b[39;49m\u001b[39m32\u001b[39;49m,\n\u001b[1;32m      <a href='vscode-notebook-cell://attached-container%2B7b22636f6e7461696e65724e616d65223a222f7374757065666965645f6e65756d616e6e227d/app/StockPricePredictions/src/exploratory_data_analysis/chance/python/samples/MachineLearningforAlgorithmicTrading/modified/04_multivariate_timeseries.ipynb#ch0000052vscode-remote?line=4'>5</a>\u001b[0m                  shuffle\u001b[39m=\u001b[39;49m\u001b[39mFalse\u001b[39;49;00m,\n\u001b[1;32m      <a href='vscode-notebook-cell://attached-container%2B7b22636f6e7461696e65724e616d65223a222f7374757065666965645f6e65756d616e6e227d/app/StockPricePredictions/src/exploratory_data_analysis/chance/python/samples/MachineLearningforAlgorithmicTrading/modified/04_multivariate_timeseries.ipynb#ch0000052vscode-remote?line=5'>6</a>\u001b[0m                  validation_data\u001b[39m=\u001b[39;49m(X_test, y_test),\n\u001b[1;32m      <a href='vscode-notebook-cell://attached-container%2B7b22636f6e7461696e65724e616d65223a222f7374757065666965645f6e65756d616e6e227d/app/StockPricePredictions/src/exploratory_data_analysis/chance/python/samples/MachineLearningforAlgorithmicTrading/modified/04_multivariate_timeseries.ipynb#ch0000052vscode-remote?line=6'>7</a>\u001b[0m                  callbacks\u001b[39m=\u001b[39;49m[early_stopping, checkpointer],\n\u001b[1;32m      <a href='vscode-notebook-cell://attached-container%2B7b22636f6e7461696e65724e616d65223a222f7374757065666965645f6e65756d616e6e227d/app/StockPricePredictions/src/exploratory_data_analysis/chance/python/samples/MachineLearningforAlgorithmicTrading/modified/04_multivariate_timeseries.ipynb#ch0000052vscode-remote?line=7'>8</a>\u001b[0m                  verbose\u001b[39m=\u001b[39;49m\u001b[39m1\u001b[39;49m)\n",
      "File \u001b[0;32m/usr/local/lib/python3.8/dist-packages/keras/utils/traceback_utils.py:64\u001b[0m, in \u001b[0;36mfilter_traceback.<locals>.error_handler\u001b[0;34m(*args, **kwargs)\u001b[0m\n\u001b[1;32m     <a href='file:///usr/local/lib/python3.8/dist-packages/keras/utils/traceback_utils.py?line=61'>62</a>\u001b[0m filtered_tb \u001b[39m=\u001b[39m \u001b[39mNone\u001b[39;00m\n\u001b[1;32m     <a href='file:///usr/local/lib/python3.8/dist-packages/keras/utils/traceback_utils.py?line=62'>63</a>\u001b[0m \u001b[39mtry\u001b[39;00m:\n\u001b[0;32m---> <a href='file:///usr/local/lib/python3.8/dist-packages/keras/utils/traceback_utils.py?line=63'>64</a>\u001b[0m   \u001b[39mreturn\u001b[39;00m fn(\u001b[39m*\u001b[39;49margs, \u001b[39m*\u001b[39;49m\u001b[39m*\u001b[39;49mkwargs)\n\u001b[1;32m     <a href='file:///usr/local/lib/python3.8/dist-packages/keras/utils/traceback_utils.py?line=64'>65</a>\u001b[0m \u001b[39mexcept\u001b[39;00m \u001b[39mException\u001b[39;00m \u001b[39mas\u001b[39;00m e:  \u001b[39m# pylint: disable=broad-except\u001b[39;00m\n\u001b[1;32m     <a href='file:///usr/local/lib/python3.8/dist-packages/keras/utils/traceback_utils.py?line=65'>66</a>\u001b[0m   filtered_tb \u001b[39m=\u001b[39m _process_traceback_frames(e\u001b[39m.\u001b[39m__traceback__)\n",
      "File \u001b[0;32m/usr/local/lib/python3.8/dist-packages/keras/engine/training.py:1384\u001b[0m, in \u001b[0;36mModel.fit\u001b[0;34m(self, x, y, batch_size, epochs, verbose, callbacks, validation_split, validation_data, shuffle, class_weight, sample_weight, initial_epoch, steps_per_epoch, validation_steps, validation_batch_size, validation_freq, max_queue_size, workers, use_multiprocessing)\u001b[0m\n\u001b[1;32m   <a href='file:///usr/local/lib/python3.8/dist-packages/keras/engine/training.py?line=1376'>1377</a>\u001b[0m \u001b[39mwith\u001b[39;00m tf\u001b[39m.\u001b[39mprofiler\u001b[39m.\u001b[39mexperimental\u001b[39m.\u001b[39mTrace(\n\u001b[1;32m   <a href='file:///usr/local/lib/python3.8/dist-packages/keras/engine/training.py?line=1377'>1378</a>\u001b[0m     \u001b[39m'\u001b[39m\u001b[39mtrain\u001b[39m\u001b[39m'\u001b[39m,\n\u001b[1;32m   <a href='file:///usr/local/lib/python3.8/dist-packages/keras/engine/training.py?line=1378'>1379</a>\u001b[0m     epoch_num\u001b[39m=\u001b[39mepoch,\n\u001b[1;32m   <a href='file:///usr/local/lib/python3.8/dist-packages/keras/engine/training.py?line=1379'>1380</a>\u001b[0m     step_num\u001b[39m=\u001b[39mstep,\n\u001b[1;32m   <a href='file:///usr/local/lib/python3.8/dist-packages/keras/engine/training.py?line=1380'>1381</a>\u001b[0m     batch_size\u001b[39m=\u001b[39mbatch_size,\n\u001b[1;32m   <a href='file:///usr/local/lib/python3.8/dist-packages/keras/engine/training.py?line=1381'>1382</a>\u001b[0m     _r\u001b[39m=\u001b[39m\u001b[39m1\u001b[39m):\n\u001b[1;32m   <a href='file:///usr/local/lib/python3.8/dist-packages/keras/engine/training.py?line=1382'>1383</a>\u001b[0m   callbacks\u001b[39m.\u001b[39mon_train_batch_begin(step)\n\u001b[0;32m-> <a href='file:///usr/local/lib/python3.8/dist-packages/keras/engine/training.py?line=1383'>1384</a>\u001b[0m   tmp_logs \u001b[39m=\u001b[39m \u001b[39mself\u001b[39;49m\u001b[39m.\u001b[39;49mtrain_function(iterator)\n\u001b[1;32m   <a href='file:///usr/local/lib/python3.8/dist-packages/keras/engine/training.py?line=1384'>1385</a>\u001b[0m   \u001b[39mif\u001b[39;00m data_handler\u001b[39m.\u001b[39mshould_sync:\n\u001b[1;32m   <a href='file:///usr/local/lib/python3.8/dist-packages/keras/engine/training.py?line=1385'>1386</a>\u001b[0m     context\u001b[39m.\u001b[39masync_wait()\n",
      "File \u001b[0;32m/usr/local/lib/python3.8/dist-packages/tensorflow/python/util/traceback_utils.py:150\u001b[0m, in \u001b[0;36mfilter_traceback.<locals>.error_handler\u001b[0;34m(*args, **kwargs)\u001b[0m\n\u001b[1;32m    <a href='file:///usr/local/lib/python3.8/dist-packages/tensorflow/python/util/traceback_utils.py?line=147'>148</a>\u001b[0m filtered_tb \u001b[39m=\u001b[39m \u001b[39mNone\u001b[39;00m\n\u001b[1;32m    <a href='file:///usr/local/lib/python3.8/dist-packages/tensorflow/python/util/traceback_utils.py?line=148'>149</a>\u001b[0m \u001b[39mtry\u001b[39;00m:\n\u001b[0;32m--> <a href='file:///usr/local/lib/python3.8/dist-packages/tensorflow/python/util/traceback_utils.py?line=149'>150</a>\u001b[0m   \u001b[39mreturn\u001b[39;00m fn(\u001b[39m*\u001b[39;49margs, \u001b[39m*\u001b[39;49m\u001b[39m*\u001b[39;49mkwargs)\n\u001b[1;32m    <a href='file:///usr/local/lib/python3.8/dist-packages/tensorflow/python/util/traceback_utils.py?line=150'>151</a>\u001b[0m \u001b[39mexcept\u001b[39;00m \u001b[39mException\u001b[39;00m \u001b[39mas\u001b[39;00m e:\n\u001b[1;32m    <a href='file:///usr/local/lib/python3.8/dist-packages/tensorflow/python/util/traceback_utils.py?line=151'>152</a>\u001b[0m   filtered_tb \u001b[39m=\u001b[39m _process_traceback_frames(e\u001b[39m.\u001b[39m__traceback__)\n",
      "File \u001b[0;32m/usr/local/lib/python3.8/dist-packages/tensorflow/python/eager/def_function.py:915\u001b[0m, in \u001b[0;36mFunction.__call__\u001b[0;34m(self, *args, **kwds)\u001b[0m\n\u001b[1;32m    <a href='file:///usr/local/lib/python3.8/dist-packages/tensorflow/python/eager/def_function.py?line=911'>912</a>\u001b[0m compiler \u001b[39m=\u001b[39m \u001b[39m\"\u001b[39m\u001b[39mxla\u001b[39m\u001b[39m\"\u001b[39m \u001b[39mif\u001b[39;00m \u001b[39mself\u001b[39m\u001b[39m.\u001b[39m_jit_compile \u001b[39melse\u001b[39;00m \u001b[39m\"\u001b[39m\u001b[39mnonXla\u001b[39m\u001b[39m\"\u001b[39m\n\u001b[1;32m    <a href='file:///usr/local/lib/python3.8/dist-packages/tensorflow/python/eager/def_function.py?line=913'>914</a>\u001b[0m \u001b[39mwith\u001b[39;00m OptionalXlaContext(\u001b[39mself\u001b[39m\u001b[39m.\u001b[39m_jit_compile):\n\u001b[0;32m--> <a href='file:///usr/local/lib/python3.8/dist-packages/tensorflow/python/eager/def_function.py?line=914'>915</a>\u001b[0m   result \u001b[39m=\u001b[39m \u001b[39mself\u001b[39;49m\u001b[39m.\u001b[39;49m_call(\u001b[39m*\u001b[39;49margs, \u001b[39m*\u001b[39;49m\u001b[39m*\u001b[39;49mkwds)\n\u001b[1;32m    <a href='file:///usr/local/lib/python3.8/dist-packages/tensorflow/python/eager/def_function.py?line=916'>917</a>\u001b[0m new_tracing_count \u001b[39m=\u001b[39m \u001b[39mself\u001b[39m\u001b[39m.\u001b[39mexperimental_get_tracing_count()\n\u001b[1;32m    <a href='file:///usr/local/lib/python3.8/dist-packages/tensorflow/python/eager/def_function.py?line=917'>918</a>\u001b[0m without_tracing \u001b[39m=\u001b[39m (tracing_count \u001b[39m==\u001b[39m new_tracing_count)\n",
      "File \u001b[0;32m/usr/local/lib/python3.8/dist-packages/tensorflow/python/eager/def_function.py:947\u001b[0m, in \u001b[0;36mFunction._call\u001b[0;34m(self, *args, **kwds)\u001b[0m\n\u001b[1;32m    <a href='file:///usr/local/lib/python3.8/dist-packages/tensorflow/python/eager/def_function.py?line=943'>944</a>\u001b[0m   \u001b[39mself\u001b[39m\u001b[39m.\u001b[39m_lock\u001b[39m.\u001b[39mrelease()\n\u001b[1;32m    <a href='file:///usr/local/lib/python3.8/dist-packages/tensorflow/python/eager/def_function.py?line=944'>945</a>\u001b[0m   \u001b[39m# In this case we have created variables on the first call, so we run the\u001b[39;00m\n\u001b[1;32m    <a href='file:///usr/local/lib/python3.8/dist-packages/tensorflow/python/eager/def_function.py?line=945'>946</a>\u001b[0m   \u001b[39m# defunned version which is guaranteed to never create variables.\u001b[39;00m\n\u001b[0;32m--> <a href='file:///usr/local/lib/python3.8/dist-packages/tensorflow/python/eager/def_function.py?line=946'>947</a>\u001b[0m   \u001b[39mreturn\u001b[39;00m \u001b[39mself\u001b[39;49m\u001b[39m.\u001b[39;49m_stateless_fn(\u001b[39m*\u001b[39;49margs, \u001b[39m*\u001b[39;49m\u001b[39m*\u001b[39;49mkwds)  \u001b[39m# pylint: disable=not-callable\u001b[39;00m\n\u001b[1;32m    <a href='file:///usr/local/lib/python3.8/dist-packages/tensorflow/python/eager/def_function.py?line=947'>948</a>\u001b[0m \u001b[39melif\u001b[39;00m \u001b[39mself\u001b[39m\u001b[39m.\u001b[39m_stateful_fn \u001b[39mis\u001b[39;00m \u001b[39mnot\u001b[39;00m \u001b[39mNone\u001b[39;00m:\n\u001b[1;32m    <a href='file:///usr/local/lib/python3.8/dist-packages/tensorflow/python/eager/def_function.py?line=948'>949</a>\u001b[0m   \u001b[39m# Release the lock early so that multiple threads can perform the call\u001b[39;00m\n\u001b[1;32m    <a href='file:///usr/local/lib/python3.8/dist-packages/tensorflow/python/eager/def_function.py?line=949'>950</a>\u001b[0m   \u001b[39m# in parallel.\u001b[39;00m\n\u001b[1;32m    <a href='file:///usr/local/lib/python3.8/dist-packages/tensorflow/python/eager/def_function.py?line=950'>951</a>\u001b[0m   \u001b[39mself\u001b[39m\u001b[39m.\u001b[39m_lock\u001b[39m.\u001b[39mrelease()\n",
      "File \u001b[0;32m/usr/local/lib/python3.8/dist-packages/tensorflow/python/eager/function.py:2956\u001b[0m, in \u001b[0;36mFunction.__call__\u001b[0;34m(self, *args, **kwargs)\u001b[0m\n\u001b[1;32m   <a href='file:///usr/local/lib/python3.8/dist-packages/tensorflow/python/eager/function.py?line=2952'>2953</a>\u001b[0m \u001b[39mwith\u001b[39;00m \u001b[39mself\u001b[39m\u001b[39m.\u001b[39m_lock:\n\u001b[1;32m   <a href='file:///usr/local/lib/python3.8/dist-packages/tensorflow/python/eager/function.py?line=2953'>2954</a>\u001b[0m   (graph_function,\n\u001b[1;32m   <a href='file:///usr/local/lib/python3.8/dist-packages/tensorflow/python/eager/function.py?line=2954'>2955</a>\u001b[0m    filtered_flat_args) \u001b[39m=\u001b[39m \u001b[39mself\u001b[39m\u001b[39m.\u001b[39m_maybe_define_function(args, kwargs)\n\u001b[0;32m-> <a href='file:///usr/local/lib/python3.8/dist-packages/tensorflow/python/eager/function.py?line=2955'>2956</a>\u001b[0m \u001b[39mreturn\u001b[39;00m graph_function\u001b[39m.\u001b[39;49m_call_flat(\n\u001b[1;32m   <a href='file:///usr/local/lib/python3.8/dist-packages/tensorflow/python/eager/function.py?line=2956'>2957</a>\u001b[0m     filtered_flat_args, captured_inputs\u001b[39m=\u001b[39;49mgraph_function\u001b[39m.\u001b[39;49mcaptured_inputs)\n",
      "File \u001b[0;32m/usr/local/lib/python3.8/dist-packages/tensorflow/python/eager/function.py:1853\u001b[0m, in \u001b[0;36mConcreteFunction._call_flat\u001b[0;34m(self, args, captured_inputs, cancellation_manager)\u001b[0m\n\u001b[1;32m   <a href='file:///usr/local/lib/python3.8/dist-packages/tensorflow/python/eager/function.py?line=1848'>1849</a>\u001b[0m possible_gradient_type \u001b[39m=\u001b[39m gradients_util\u001b[39m.\u001b[39mPossibleTapeGradientTypes(args)\n\u001b[1;32m   <a href='file:///usr/local/lib/python3.8/dist-packages/tensorflow/python/eager/function.py?line=1849'>1850</a>\u001b[0m \u001b[39mif\u001b[39;00m (possible_gradient_type \u001b[39m==\u001b[39m gradients_util\u001b[39m.\u001b[39mPOSSIBLE_GRADIENT_TYPES_NONE\n\u001b[1;32m   <a href='file:///usr/local/lib/python3.8/dist-packages/tensorflow/python/eager/function.py?line=1850'>1851</a>\u001b[0m     \u001b[39mand\u001b[39;00m executing_eagerly):\n\u001b[1;32m   <a href='file:///usr/local/lib/python3.8/dist-packages/tensorflow/python/eager/function.py?line=1851'>1852</a>\u001b[0m   \u001b[39m# No tape is watching; skip to running the function.\u001b[39;00m\n\u001b[0;32m-> <a href='file:///usr/local/lib/python3.8/dist-packages/tensorflow/python/eager/function.py?line=1852'>1853</a>\u001b[0m   \u001b[39mreturn\u001b[39;00m \u001b[39mself\u001b[39m\u001b[39m.\u001b[39m_build_call_outputs(\u001b[39mself\u001b[39;49m\u001b[39m.\u001b[39;49m_inference_function\u001b[39m.\u001b[39;49mcall(\n\u001b[1;32m   <a href='file:///usr/local/lib/python3.8/dist-packages/tensorflow/python/eager/function.py?line=1853'>1854</a>\u001b[0m       ctx, args, cancellation_manager\u001b[39m=\u001b[39;49mcancellation_manager))\n\u001b[1;32m   <a href='file:///usr/local/lib/python3.8/dist-packages/tensorflow/python/eager/function.py?line=1854'>1855</a>\u001b[0m forward_backward \u001b[39m=\u001b[39m \u001b[39mself\u001b[39m\u001b[39m.\u001b[39m_select_forward_and_backward_functions(\n\u001b[1;32m   <a href='file:///usr/local/lib/python3.8/dist-packages/tensorflow/python/eager/function.py?line=1855'>1856</a>\u001b[0m     args,\n\u001b[1;32m   <a href='file:///usr/local/lib/python3.8/dist-packages/tensorflow/python/eager/function.py?line=1856'>1857</a>\u001b[0m     possible_gradient_type,\n\u001b[1;32m   <a href='file:///usr/local/lib/python3.8/dist-packages/tensorflow/python/eager/function.py?line=1857'>1858</a>\u001b[0m     executing_eagerly)\n\u001b[1;32m   <a href='file:///usr/local/lib/python3.8/dist-packages/tensorflow/python/eager/function.py?line=1858'>1859</a>\u001b[0m forward_function, args_with_tangents \u001b[39m=\u001b[39m forward_backward\u001b[39m.\u001b[39mforward()\n",
      "File \u001b[0;32m/usr/local/lib/python3.8/dist-packages/tensorflow/python/eager/function.py:499\u001b[0m, in \u001b[0;36m_EagerDefinedFunction.call\u001b[0;34m(self, ctx, args, cancellation_manager)\u001b[0m\n\u001b[1;32m    <a href='file:///usr/local/lib/python3.8/dist-packages/tensorflow/python/eager/function.py?line=496'>497</a>\u001b[0m \u001b[39mwith\u001b[39;00m _InterpolateFunctionError(\u001b[39mself\u001b[39m):\n\u001b[1;32m    <a href='file:///usr/local/lib/python3.8/dist-packages/tensorflow/python/eager/function.py?line=497'>498</a>\u001b[0m   \u001b[39mif\u001b[39;00m cancellation_manager \u001b[39mis\u001b[39;00m \u001b[39mNone\u001b[39;00m:\n\u001b[0;32m--> <a href='file:///usr/local/lib/python3.8/dist-packages/tensorflow/python/eager/function.py?line=498'>499</a>\u001b[0m     outputs \u001b[39m=\u001b[39m execute\u001b[39m.\u001b[39;49mexecute(\n\u001b[1;32m    <a href='file:///usr/local/lib/python3.8/dist-packages/tensorflow/python/eager/function.py?line=499'>500</a>\u001b[0m         \u001b[39mstr\u001b[39;49m(\u001b[39mself\u001b[39;49m\u001b[39m.\u001b[39;49msignature\u001b[39m.\u001b[39;49mname),\n\u001b[1;32m    <a href='file:///usr/local/lib/python3.8/dist-packages/tensorflow/python/eager/function.py?line=500'>501</a>\u001b[0m         num_outputs\u001b[39m=\u001b[39;49m\u001b[39mself\u001b[39;49m\u001b[39m.\u001b[39;49m_num_outputs,\n\u001b[1;32m    <a href='file:///usr/local/lib/python3.8/dist-packages/tensorflow/python/eager/function.py?line=501'>502</a>\u001b[0m         inputs\u001b[39m=\u001b[39;49margs,\n\u001b[1;32m    <a href='file:///usr/local/lib/python3.8/dist-packages/tensorflow/python/eager/function.py?line=502'>503</a>\u001b[0m         attrs\u001b[39m=\u001b[39;49mattrs,\n\u001b[1;32m    <a href='file:///usr/local/lib/python3.8/dist-packages/tensorflow/python/eager/function.py?line=503'>504</a>\u001b[0m         ctx\u001b[39m=\u001b[39;49mctx)\n\u001b[1;32m    <a href='file:///usr/local/lib/python3.8/dist-packages/tensorflow/python/eager/function.py?line=504'>505</a>\u001b[0m   \u001b[39melse\u001b[39;00m:\n\u001b[1;32m    <a href='file:///usr/local/lib/python3.8/dist-packages/tensorflow/python/eager/function.py?line=505'>506</a>\u001b[0m     outputs \u001b[39m=\u001b[39m execute\u001b[39m.\u001b[39mexecute_with_cancellation(\n\u001b[1;32m    <a href='file:///usr/local/lib/python3.8/dist-packages/tensorflow/python/eager/function.py?line=506'>507</a>\u001b[0m         \u001b[39mstr\u001b[39m(\u001b[39mself\u001b[39m\u001b[39m.\u001b[39msignature\u001b[39m.\u001b[39mname),\n\u001b[1;32m    <a href='file:///usr/local/lib/python3.8/dist-packages/tensorflow/python/eager/function.py?line=507'>508</a>\u001b[0m         num_outputs\u001b[39m=\u001b[39m\u001b[39mself\u001b[39m\u001b[39m.\u001b[39m_num_outputs,\n\u001b[0;32m   (...)\u001b[0m\n\u001b[1;32m    <a href='file:///usr/local/lib/python3.8/dist-packages/tensorflow/python/eager/function.py?line=510'>511</a>\u001b[0m         ctx\u001b[39m=\u001b[39mctx,\n\u001b[1;32m    <a href='file:///usr/local/lib/python3.8/dist-packages/tensorflow/python/eager/function.py?line=511'>512</a>\u001b[0m         cancellation_manager\u001b[39m=\u001b[39mcancellation_manager)\n",
      "File \u001b[0;32m/usr/local/lib/python3.8/dist-packages/tensorflow/python/eager/execute.py:54\u001b[0m, in \u001b[0;36mquick_execute\u001b[0;34m(op_name, num_outputs, inputs, attrs, ctx, name)\u001b[0m\n\u001b[1;32m     <a href='file:///usr/local/lib/python3.8/dist-packages/tensorflow/python/eager/execute.py?line=51'>52</a>\u001b[0m \u001b[39mtry\u001b[39;00m:\n\u001b[1;32m     <a href='file:///usr/local/lib/python3.8/dist-packages/tensorflow/python/eager/execute.py?line=52'>53</a>\u001b[0m   ctx\u001b[39m.\u001b[39mensure_initialized()\n\u001b[0;32m---> <a href='file:///usr/local/lib/python3.8/dist-packages/tensorflow/python/eager/execute.py?line=53'>54</a>\u001b[0m   tensors \u001b[39m=\u001b[39m pywrap_tfe\u001b[39m.\u001b[39;49mTFE_Py_Execute(ctx\u001b[39m.\u001b[39;49m_handle, device_name, op_name,\n\u001b[1;32m     <a href='file:///usr/local/lib/python3.8/dist-packages/tensorflow/python/eager/execute.py?line=54'>55</a>\u001b[0m                                       inputs, attrs, num_outputs)\n\u001b[1;32m     <a href='file:///usr/local/lib/python3.8/dist-packages/tensorflow/python/eager/execute.py?line=55'>56</a>\u001b[0m \u001b[39mexcept\u001b[39;00m core\u001b[39m.\u001b[39m_NotOkStatusException \u001b[39mas\u001b[39;00m e:\n\u001b[1;32m     <a href='file:///usr/local/lib/python3.8/dist-packages/tensorflow/python/eager/execute.py?line=56'>57</a>\u001b[0m   \u001b[39mif\u001b[39;00m name \u001b[39mis\u001b[39;00m \u001b[39mnot\u001b[39;00m \u001b[39mNone\u001b[39;00m:\n",
      "\u001b[0;31mKeyboardInterrupt\u001b[0m: "
     ]
    }
   ],
   "source": [
    "result = rnn.fit(X_train,\n",
    "                 y_train,\n",
    "                 epochs=100,\n",
    "                 batch_size=32,\n",
    "                 shuffle=False,\n",
    "                 validation_data=(X_test, y_test),\n",
    "                 callbacks=[early_stopping, checkpointer],\n",
    "                 verbose=1)"
   ]
  },
  {
   "cell_type": "markdown",
   "metadata": {},
   "source": [
    "## Evaluate the Results"
   ]
  },
  {
   "cell_type": "markdown",
   "metadata": {},
   "source": [
    "Training stops early after 22 epochs, yielding a test MAE of 1.71, which compares favorably to the test MAE for the VAR model of 1.91."
   ]
  },
  {
   "cell_type": "markdown",
   "metadata": {},
   "source": [
    "However, the two results are not fully comparable because the RNN model produces 24 one-step-ahead forecasts, whereas the VAR model uses its own predictions as input for its out-of-sample forecast. You may want to tweak the VAR setup to obtain comparable forecasts and compare their performance:"
   ]
  },
  {
   "cell_type": "code",
   "execution_count": null,
   "metadata": {
    "ExecuteTime": {
     "end_time": "2021-02-23T06:48:31.068422Z",
     "start_time": "2021-02-23T06:48:30.875040Z"
    },
    "vscode": {
     "languageId": "python"
    }
   },
   "outputs": [
    {
     "data": {
      "image/png": "[encoded data removed]",
      "text/plain": [
       "<Figure size 432x288 with 1 Axes>"
      ]
     },
     "metadata": {},
     "output_type": "display_data"
    }
   ],
   "source": [
    "pd.DataFrame(result.history).plot();"
   ]
  },
  {
   "cell_type": "code",
   "execution_count": null,
   "metadata": {
    "ExecuteTime": {
     "end_time": "2021-02-23T06:48:31.336932Z",
     "start_time": "2021-02-23T06:48:31.070644Z"
    },
    "vscode": {
     "languageId": "python"
    }
   },
   "outputs": [
    {
     "ename": "AttributeError",
     "evalue": "'Series' object has no attribute 'columns'",
     "output_type": "error",
     "traceback": [
      "\u001b[0;31m---------------------------------------------------------------------------\u001b[0m",
      "\u001b[0;31mAttributeError\u001b[0m                            Traceback (most recent call last)",
      "\u001b[1;32m/app/StockPricePredictions/src/exploratory_data_analysis/chance/python/samples/MachineLearningforAlgorithmicTrading/modified/04_multivariate_timeseries.ipynb Cell 59'\u001b[0m in \u001b[0;36m<module>\u001b[0;34m\u001b[0m\n\u001b[1;32m      <a href='vscode-notebook-cell://attached-container%2B7b22636f6e7461696e65724e616d65223a222f7374757065666965645f6e65756d616e6e227d/app/StockPricePredictions/src/exploratory_data_analysis/chance/python/samples/MachineLearningforAlgorithmicTrading/modified/04_multivariate_timeseries.ipynb#ch0000057vscode-remote?line=0'>1</a>\u001b[0m y_pred \u001b[39m=\u001b[39m pd\u001b[39m.\u001b[39mDataFrame(rnn\u001b[39m.\u001b[39mpredict(X_test), \n\u001b[0;32m----> <a href='vscode-notebook-cell://attached-container%2B7b22636f6e7461696e65724e616d65223a222f7374757065666965645f6e65756d616e6e227d/app/StockPricePredictions/src/exploratory_data_analysis/chance/python/samples/MachineLearningforAlgorithmicTrading/modified/04_multivariate_timeseries.ipynb#ch0000057vscode-remote?line=1'>2</a>\u001b[0m                       columns\u001b[39m=\u001b[39my_test\u001b[39m.\u001b[39;49mcolumns, \n\u001b[1;32m      <a href='vscode-notebook-cell://attached-container%2B7b22636f6e7461696e65724e616d65223a222f7374757065666965645f6e65756d616e6e227d/app/StockPricePredictions/src/exploratory_data_analysis/chance/python/samples/MachineLearningforAlgorithmicTrading/modified/04_multivariate_timeseries.ipynb#ch0000057vscode-remote?line=2'>3</a>\u001b[0m                       index\u001b[39m=\u001b[39my_test\u001b[39m.\u001b[39mindex)\n\u001b[1;32m      <a href='vscode-notebook-cell://attached-container%2B7b22636f6e7461696e65724e616d65223a222f7374757065666965645f6e65756d616e6e227d/app/StockPricePredictions/src/exploratory_data_analysis/chance/python/samples/MachineLearningforAlgorithmicTrading/modified/04_multivariate_timeseries.ipynb#ch0000057vscode-remote?line=3'>4</a>\u001b[0m y_pred\u001b[39m.\u001b[39minfo()\n",
      "File \u001b[0;32m/usr/local/lib/python3.8/dist-packages/pandas/core/generic.py:5583\u001b[0m, in \u001b[0;36mNDFrame.__getattr__\u001b[0;34m(self, name)\u001b[0m\n\u001b[1;32m   <a href='file:///usr/local/lib/python3.8/dist-packages/pandas/core/generic.py?line=5575'>5576</a>\u001b[0m \u001b[39mif\u001b[39;00m (\n\u001b[1;32m   <a href='file:///usr/local/lib/python3.8/dist-packages/pandas/core/generic.py?line=5576'>5577</a>\u001b[0m     name \u001b[39mnot\u001b[39;00m \u001b[39min\u001b[39;00m \u001b[39mself\u001b[39m\u001b[39m.\u001b[39m_internal_names_set\n\u001b[1;32m   <a href='file:///usr/local/lib/python3.8/dist-packages/pandas/core/generic.py?line=5577'>5578</a>\u001b[0m     \u001b[39mand\u001b[39;00m name \u001b[39mnot\u001b[39;00m \u001b[39min\u001b[39;00m \u001b[39mself\u001b[39m\u001b[39m.\u001b[39m_metadata\n\u001b[1;32m   <a href='file:///usr/local/lib/python3.8/dist-packages/pandas/core/generic.py?line=5578'>5579</a>\u001b[0m     \u001b[39mand\u001b[39;00m name \u001b[39mnot\u001b[39;00m \u001b[39min\u001b[39;00m \u001b[39mself\u001b[39m\u001b[39m.\u001b[39m_accessors\n\u001b[1;32m   <a href='file:///usr/local/lib/python3.8/dist-packages/pandas/core/generic.py?line=5579'>5580</a>\u001b[0m     \u001b[39mand\u001b[39;00m \u001b[39mself\u001b[39m\u001b[39m.\u001b[39m_info_axis\u001b[39m.\u001b[39m_can_hold_identifiers_and_holds_name(name)\n\u001b[1;32m   <a href='file:///usr/local/lib/python3.8/dist-packages/pandas/core/generic.py?line=5580'>5581</a>\u001b[0m ):\n\u001b[1;32m   <a href='file:///usr/local/lib/python3.8/dist-packages/pandas/core/generic.py?line=5581'>5582</a>\u001b[0m     \u001b[39mreturn\u001b[39;00m \u001b[39mself\u001b[39m[name]\n\u001b[0;32m-> <a href='file:///usr/local/lib/python3.8/dist-packages/pandas/core/generic.py?line=5582'>5583</a>\u001b[0m \u001b[39mreturn\u001b[39;00m \u001b[39mobject\u001b[39;49m\u001b[39m.\u001b[39;49m\u001b[39m__getattribute__\u001b[39;49m(\u001b[39mself\u001b[39;49m, name)\n",
      "\u001b[0;31mAttributeError\u001b[0m: 'Series' object has no attribute 'columns'"
     ]
    }
   ],
   "source": [
    "y_pred = pd.DataFrame(rnn.predict(X_test), \n",
    "                      columns=y_test.columns, \n",
    "                      index=y_test.index)\n",
    "y_pred.info()"
   ]
  },
  {
   "cell_type": "code",
   "execution_count": null,
   "metadata": {
    "vscode": {
     "languageId": "python"
    }
   },
   "outputs": [
    {
     "ename": "NameError",
     "evalue": "name 'y_pred' is not defined",
     "output_type": "error",
     "traceback": [
      "\u001b[0;31m---------------------------------------------------------------------------\u001b[0m",
      "\u001b[0;31mNameError\u001b[0m                                 Traceback (most recent call last)",
      "\u001b[1;32m/app/StockPricePredictions/src/exploratory_data_analysis/chance/python/samples/MachineLearningforAlgorithmicTrading/modified/04_multivariate_timeseries.ipynb Cell 58'\u001b[0m in \u001b[0;36m<module>\u001b[0;34m\u001b[0m\n\u001b[0;32m----> <a href='vscode-notebook-cell://attached-container%2B7b22636f6e7461696e65724e616d65223a222f7374757065666965645f6e65756d616e6e227d/app/StockPricePredictions/src/exploratory_data_analysis/chance/python/samples/MachineLearningforAlgorithmicTrading/modified/04_multivariate_timeseries.ipynb#ch0000056vscode-remote?line=0'>1</a>\u001b[0m y_pred\n",
      "\u001b[0;31mNameError\u001b[0m: name 'y_pred' is not defined"
     ]
    }
   ],
   "source": [
    "y_pred"
   ]
  },
  {
   "cell_type": "code",
   "execution_count": null,
   "metadata": {
    "ExecuteTime": {
     "end_time": "2021-02-23T06:48:34.325621Z",
     "start_time": "2021-02-23T06:48:34.318074Z"
    },
    "vscode": {
     "languageId": "python"
    }
   },
   "outputs": [
    {
     "ename": "NameError",
     "evalue": "name 'y_pred' is not defined",
     "output_type": "error",
     "traceback": [
      "\u001b[0;31m---------------------------------------------------------------------------\u001b[0m",
      "\u001b[0;31mNameError\u001b[0m                                 Traceback (most recent call last)",
      "\u001b[1;32m/app/StockPricePredictions/src/exploratory_data_analysis/chance/python/samples/MachineLearningforAlgorithmicTrading/modified/04_multivariate_timeseries.ipynb Cell 61'\u001b[0m in \u001b[0;36m<module>\u001b[0;34m\u001b[0m\n\u001b[0;32m----> <a href='vscode-notebook-cell://attached-container%2B7b22636f6e7461696e65724e616d65223a222f7374757065666965645f6e65756d616e6e227d/app/StockPricePredictions/src/exploratory_data_analysis/chance/python/samples/MachineLearningforAlgorithmicTrading/modified/04_multivariate_timeseries.ipynb#ch0000059vscode-remote?line=0'>1</a>\u001b[0m test_mae \u001b[39m=\u001b[39m mean_absolute_error(y_pred, y_test)\n",
      "\u001b[0;31mNameError\u001b[0m: name 'y_pred' is not defined"
     ]
    }
   ],
   "source": [
    "test_mae = mean_absolute_error(y_pred, y_test)"
   ]
  },
  {
   "cell_type": "code",
   "execution_count": null,
   "metadata": {
    "ExecuteTime": {
     "end_time": "2021-02-23T06:48:34.500788Z",
     "start_time": "2021-02-23T06:48:34.498065Z"
    },
    "vscode": {
     "languageId": "python"
    }
   },
   "outputs": [
    {
     "ename": "NameError",
     "evalue": "name 'test_mae' is not defined",
     "output_type": "error",
     "traceback": [
      "\u001b[0;31m---------------------------------------------------------------------------\u001b[0m",
      "\u001b[0;31mNameError\u001b[0m                                 Traceback (most recent call last)",
      "\u001b[1;32m/app/StockPricePredictions/src/exploratory_data_analysis/chance/python/samples/MachineLearningforAlgorithmicTrading/modified/04_multivariate_timeseries.ipynb Cell 62'\u001b[0m in \u001b[0;36m<module>\u001b[0;34m\u001b[0m\n\u001b[0;32m----> <a href='vscode-notebook-cell://attached-container%2B7b22636f6e7461696e65724e616d65223a222f7374757065666965645f6e65756d616e6e227d/app/StockPricePredictions/src/exploratory_data_analysis/chance/python/samples/MachineLearningforAlgorithmicTrading/modified/04_multivariate_timeseries.ipynb#ch0000060vscode-remote?line=0'>1</a>\u001b[0m \u001b[39mprint\u001b[39m(test_mae)\n",
      "\u001b[0;31mNameError\u001b[0m: name 'test_mae' is not defined"
     ]
    }
   ],
   "source": [
    "print(test_mae)"
   ]
  },
  {
   "cell_type": "code",
   "execution_count": null,
   "metadata": {
    "ExecuteTime": {
     "end_time": "2021-02-23T06:48:34.658841Z",
     "start_time": "2021-02-23T06:48:34.654632Z"
    },
    "vscode": {
     "languageId": "python"
    }
   },
   "outputs": [
    {
     "data": {
      "text/plain": [
       "Index(['2020-12-23', '2020-12-24', '2020-12-28', '2020-12-29', '2020-12-30',\n",
       "       '2020-12-31', '2021-01-04', '2021-01-05', '2021-01-06', '2021-01-07',\n",
       "       ...\n",
       "       '2022-02-18', '2022-02-22', '2022-02-23', '2022-02-24', '2022-02-25',\n",
       "       '2022-02-28', '2022-03-01', '2022-03-02', '2022-03-03', '2022-03-04'],\n",
       "      dtype='object', name='date', length=301)"
      ]
     },
     "execution_count": 35,
     "metadata": {},
     "output_type": "execute_result"
    }
   ],
   "source": [
    "y_test.index"
   ]
  },
  {
   "cell_type": "code",
   "execution_count": null,
   "metadata": {
    "ExecuteTime": {
     "end_time": "2021-02-23T06:48:37.198929Z",
     "start_time": "2021-02-23T06:48:35.206772Z"
    },
    "vscode": {
     "languageId": "python"
    }
   },
   "outputs": [
    {
     "ename": "AttributeError",
     "evalue": "'Series' object has no attribute 'columns'",
     "output_type": "error",
     "traceback": [
      "\u001b[0;31m---------------------------------------------------------------------------\u001b[0m",
      "\u001b[0;31mAttributeError\u001b[0m                            Traceback (most recent call last)",
      "\u001b[1;32m/app/StockPricePredictions/src/exploratory_data_analysis/chance/python/samples/MachineLearningforAlgorithmicTrading/modified/04_multivariate_timeseries.ipynb Cell 64'\u001b[0m in \u001b[0;36m<module>\u001b[0;34m\u001b[0m\n\u001b[1;32m      <a href='vscode-notebook-cell://attached-container%2B7b22636f6e7461696e65724e616d65223a222f7374757065666965645f6e65756d616e6e227d/app/StockPricePredictions/src/exploratory_data_analysis/chance/python/samples/MachineLearningforAlgorithmicTrading/modified/04_multivariate_timeseries.ipynb#ch0000062vscode-remote?line=5'>6</a>\u001b[0m \u001b[39m# col_dict = {'ip': 'Industrial Production', 'sentiment': 'Sentiment'}\u001b[39;00m\n\u001b[1;32m      <a href='vscode-notebook-cell://attached-container%2B7b22636f6e7461696e65724e616d65223a222f7374757065666965645f6e65756d616e6e227d/app/StockPricePredictions/src/exploratory_data_analysis/chance/python/samples/MachineLearningforAlgorithmicTrading/modified/04_multivariate_timeseries.ipynb#ch0000062vscode-remote?line=6'>7</a>\u001b[0m col_dict \u001b[39m=\u001b[39m {\u001b[39m'\u001b[39m\u001b[39m2. high\u001b[39m\u001b[39m'\u001b[39m: \u001b[39m'\u001b[39m\u001b[39mHigh\u001b[39m\u001b[39m'\u001b[39m, \u001b[39m'\u001b[39m\u001b[39m3. low\u001b[39m\u001b[39m'\u001b[39m: \u001b[39m'\u001b[39m\u001b[39mLow\u001b[39m\u001b[39m'\u001b[39m, \u001b[39m'\u001b[39m\u001b[39m5. adjusted close\u001b[39m\u001b[39m'\u001b[39m: \u001b[39m'\u001b[39m\u001b[39madjusted close\u001b[39m\u001b[39m'\u001b[39m}\n\u001b[0;32m----> <a href='vscode-notebook-cell://attached-container%2B7b22636f6e7461696e65724e616d65223a222f7374757065666965645f6e65756d616e6e227d/app/StockPricePredictions/src/exploratory_data_analysis/chance/python/samples/MachineLearningforAlgorithmicTrading/modified/04_multivariate_timeseries.ipynb#ch0000062vscode-remote?line=8'>9</a>\u001b[0m \u001b[39mfor\u001b[39;00m i, col \u001b[39min\u001b[39;00m \u001b[39menumerate\u001b[39m(y_test\u001b[39m.\u001b[39;49mcolumns, \u001b[39m1\u001b[39m):\n\u001b[1;32m     <a href='vscode-notebook-cell://attached-container%2B7b22636f6e7461696e65724e616d65223a222f7374757065666965645f6e65756d616e6e227d/app/StockPricePredictions/src/exploratory_data_analysis/chance/python/samples/MachineLearningforAlgorithmicTrading/modified/04_multivariate_timeseries.ipynb#ch0000062vscode-remote?line=9'>10</a>\u001b[0m     y_train\u001b[39m.\u001b[39mloc[\u001b[39m'\u001b[39m\u001b[39m2010\u001b[39m\u001b[39m'\u001b[39m:, col]\u001b[39m.\u001b[39mplot(ax\u001b[39m=\u001b[39maxes[i], label\u001b[39m=\u001b[39m\u001b[39m'\u001b[39m\u001b[39mtraining\u001b[39m\u001b[39m'\u001b[39m, title\u001b[39m=\u001b[39mcol_dict[col])\n\u001b[1;32m     <a href='vscode-notebook-cell://attached-container%2B7b22636f6e7461696e65724e616d65223a222f7374757065666965645f6e65756d616e6e227d/app/StockPricePredictions/src/exploratory_data_analysis/chance/python/samples/MachineLearningforAlgorithmicTrading/modified/04_multivariate_timeseries.ipynb#ch0000062vscode-remote?line=10'>11</a>\u001b[0m     y_test[col]\u001b[39m.\u001b[39mplot(ax\u001b[39m=\u001b[39maxes[i], label\u001b[39m=\u001b[39m\u001b[39m'\u001b[39m\u001b[39mout-of-sample\u001b[39m\u001b[39m'\u001b[39m)\n",
      "File \u001b[0;32m/usr/local/lib/python3.8/dist-packages/pandas/core/generic.py:5583\u001b[0m, in \u001b[0;36mNDFrame.__getattr__\u001b[0;34m(self, name)\u001b[0m\n\u001b[1;32m   <a href='file:///usr/local/lib/python3.8/dist-packages/pandas/core/generic.py?line=5575'>5576</a>\u001b[0m \u001b[39mif\u001b[39;00m (\n\u001b[1;32m   <a href='file:///usr/local/lib/python3.8/dist-packages/pandas/core/generic.py?line=5576'>5577</a>\u001b[0m     name \u001b[39mnot\u001b[39;00m \u001b[39min\u001b[39;00m \u001b[39mself\u001b[39m\u001b[39m.\u001b[39m_internal_names_set\n\u001b[1;32m   <a href='file:///usr/local/lib/python3.8/dist-packages/pandas/core/generic.py?line=5577'>5578</a>\u001b[0m     \u001b[39mand\u001b[39;00m name \u001b[39mnot\u001b[39;00m \u001b[39min\u001b[39;00m \u001b[39mself\u001b[39m\u001b[39m.\u001b[39m_metadata\n\u001b[1;32m   <a href='file:///usr/local/lib/python3.8/dist-packages/pandas/core/generic.py?line=5578'>5579</a>\u001b[0m     \u001b[39mand\u001b[39;00m name \u001b[39mnot\u001b[39;00m \u001b[39min\u001b[39;00m \u001b[39mself\u001b[39m\u001b[39m.\u001b[39m_accessors\n\u001b[1;32m   <a href='file:///usr/local/lib/python3.8/dist-packages/pandas/core/generic.py?line=5579'>5580</a>\u001b[0m     \u001b[39mand\u001b[39;00m \u001b[39mself\u001b[39m\u001b[39m.\u001b[39m_info_axis\u001b[39m.\u001b[39m_can_hold_identifiers_and_holds_name(name)\n\u001b[1;32m   <a href='file:///usr/local/lib/python3.8/dist-packages/pandas/core/generic.py?line=5580'>5581</a>\u001b[0m ):\n\u001b[1;32m   <a href='file:///usr/local/lib/python3.8/dist-packages/pandas/core/generic.py?line=5581'>5582</a>\u001b[0m     \u001b[39mreturn\u001b[39;00m \u001b[39mself\u001b[39m[name]\n\u001b[0;32m-> <a href='file:///usr/local/lib/python3.8/dist-packages/pandas/core/generic.py?line=5582'>5583</a>\u001b[0m \u001b[39mreturn\u001b[39;00m \u001b[39mobject\u001b[39;49m\u001b[39m.\u001b[39;49m\u001b[39m__getattribute__\u001b[39;49m(\u001b[39mself\u001b[39;49m, name)\n",
      "\u001b[0;31mAttributeError\u001b[0m: 'Series' object has no attribute 'columns'"
     ]
    },
    {
     "data": {
      "image/png": "[encoded data removed]",
      "text/plain": [
       "<Figure size 1224x288 with 3 Axes>"
      ]
     },
     "metadata": {},
     "output_type": "display_data"
    }
   ],
   "source": [
    "fig, axes = plt.subplots(ncols=3, figsize=(17, 4))\n",
    "pd.DataFrame(result.history).rename(columns={'loss': 'Training',\n",
    "                                              'val_loss': 'Validation'}).plot(ax=axes[0], title='Train & Validiation Error')\n",
    "axes[0].set_xlabel('Epoch')\n",
    "axes[0].set_ylabel('MAE')\n",
    "# col_dict = {'ip': 'Industrial Production', 'sentiment': 'Sentiment'}\n",
    "col_dict = {'2. high': 'High', '3. low': 'Low', '5. adjusted close': 'adjusted close'}\n",
    "\n",
    "for i, col in enumerate(y_test.columns, 1):\n",
    "    y_train.loc['2010':, col].plot(ax=axes[i], label='training', title=col_dict[col])\n",
    "    y_test[col].plot(ax=axes[i], label='out-of-sample')\n",
    "    y_pred[col].plot(ax=axes[i], label='prediction')\n",
    "    axes[i].set_xlabel('')\n",
    "\n",
    "axes[1].set_ylim(.5, .9)\n",
    "axes[1].fill_between(x=y_test.index, y1=0.5, y2=0.9, color='grey', alpha=.5)\n",
    "\n",
    "axes[2].set_ylim(.3, .9)\n",
    "axes[2].fill_between(x=y_test.index, y1=0.3, y2=0.9, color='grey', alpha=.5)\n",
    "\n",
    "plt.legend()\n",
    "fig.suptitle('Multivariate RNN - Results | Test MAE = {:.4f}'.format(test_mae), fontsize=14)\n",
    "sns.despine()\n",
    "fig.tight_layout()\n",
    "fig.subplots_adjust(top=.85)\n",
    "fig.savefig(results_path / 'multivariate_results', dpi=300);"
   ]
  }
 ],
 "metadata": {
  "kernelspec": {
   "display_name": "Python 3",
   "language": "python",
   "name": "python3"
  },
  "toc": {
   "base_numbering": 1,
   "nav_menu": {},
   "number_sections": true,
   "sideBar": true,
   "skip_h1_title": true,
   "title_cell": "Table of Contents",
   "title_sidebar": "Contents",
   "toc_cell": false,
   "toc_position": {},
   "toc_section_display": true,
   "toc_window_display": false
  }
 },
 "nbformat": 4,
 "nbformat_minor": 4
}
