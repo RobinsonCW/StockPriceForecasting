{
 "cells": [
  {
   "cell_type": "markdown",
   "metadata": {},
   "source": [
    "# Multivariate Time Series Regression"
   ]
  },
  {
   "cell_type": "markdown",
   "metadata": {},
   "source": [
    "So far, we have limited our modeling efforts to single time series. RNNs are naturally well suited to multivariate time series and represent a non-linear alternative to the Vector Autoregressive (VAR) models we covered in Chapter 8, Time Series Models. "
   ]
  },
  {
   "cell_type": "markdown",
   "metadata": {},
   "source": [
    "## Imports & Settings"
   ]
  },
  {
   "cell_type": "code",
   "execution_count": 181,
   "metadata": {
    "ExecuteTime": {
     "end_time": "2021-02-23T06:48:00.929646Z",
     "start_time": "2021-02-23T06:48:00.927063Z"
    },
    "vscode": {
     "languageId": "python"
    }
   },
   "outputs": [],
   "source": [
    "import warnings\n",
    "warnings.filterwarnings('ignore')"
   ]
  },
  {
   "cell_type": "code",
   "execution_count": 182,
   "metadata": {
    "ExecuteTime": {
     "end_time": "2021-02-23T06:48:03.488363Z",
     "start_time": "2021-02-23T06:48:01.087274Z"
    },
    "vscode": {
     "languageId": "python"
    }
   },
   "outputs": [],
   "source": [
    "%matplotlib inline\n",
    "\n",
    "from pathlib import Path\n",
    "import numpy as np\n",
    "import pandas as pd\n",
    "import pandas_datareader.data as web\n",
    "\n",
    "from sklearn.metrics import mean_absolute_error\n",
    "from sklearn.preprocessing import minmax_scale\n",
    "from sklearn.preprocessing import MinMaxScaler\n",
    "\n",
    "import tensorflow as tf\n",
    "from tensorflow.keras.callbacks import ModelCheckpoint, EarlyStopping\n",
    "from tensorflow.keras.models import Sequential, Model\n",
    "from tensorflow.keras.layers import Dense, LSTM, Bidirectional\n",
    "import tensorflow.keras.backend as K\n",
    "\n",
    "import matplotlib.pyplot as plt\n",
    "import seaborn as sns"
   ]
  },
  {
   "cell_type": "code",
   "execution_count": 183,
   "metadata": {
    "ExecuteTime": {
     "end_time": "2021-02-23T06:48:03.493600Z",
     "start_time": "2021-02-23T06:48:03.489755Z"
    },
    "vscode": {
     "languageId": "python"
    }
   },
   "outputs": [
    {
     "name": "stdout",
     "output_type": "stream",
     "text": [
      "Using GPU\n"
     ]
    }
   ],
   "source": [
    "gpu_devices = tf.config.experimental.list_physical_devices('GPU')\n",
    "if gpu_devices:\n",
    "    print('Using GPU')\n",
    "    tf.config.experimental.set_memory_growth(gpu_devices[0], True)\n",
    "else:\n",
    "    print('Using CPU')"
   ]
  },
  {
   "cell_type": "code",
   "execution_count": 184,
   "metadata": {
    "ExecuteTime": {
     "end_time": "2021-02-23T06:48:03.503989Z",
     "start_time": "2021-02-23T06:48:03.498066Z"
    },
    "vscode": {
     "languageId": "python"
    }
   },
   "outputs": [],
   "source": [
    "sns.set_style('whitegrid')\n",
    "np.random.seed(42)\n",
    "tf.random.set_seed(42)"
   ]
  },
  {
   "cell_type": "code",
   "execution_count": 185,
   "metadata": {
    "ExecuteTime": {
     "end_time": "2021-02-23T06:48:03.513670Z",
     "start_time": "2021-02-23T06:48:03.506274Z"
    },
    "vscode": {
     "languageId": "python"
    }
   },
   "outputs": [],
   "source": [
    "results_path = Path('results', 'multivariate_time_series')\n",
    "if not results_path.exists():\n",
    "    results_path.mkdir(parents=True)"
   ]
  },
  {
   "cell_type": "code",
   "execution_count": 186,
   "metadata": {
    "vscode": {
     "languageId": "python"
    }
   },
   "outputs": [],
   "source": [
    "csv_path = \"/app/StockPricePredictions/data/alphavantage/time_series_daily_adjusted/AAPL/AAPL_WITH_TWINT_FINBERT_SA.csv\""
   ]
  },
  {
   "cell_type": "markdown",
   "metadata": {},
   "source": [
    "## Load Data"
   ]
  },
  {
   "cell_type": "markdown",
   "metadata": {},
   "source": [
    "For comparison, we illustrate the application of RNNs to modeling and forecasting several time series using the same dataset we used for the VAR example, monthly data on consumer sentiment, and industrial production from the Federal Reserve's FRED service in Chapter 8, Time Series Models:"
   ]
  },
  {
   "cell_type": "code",
   "execution_count": 187,
   "metadata": {
    "ExecuteTime": {
     "end_time": "2021-02-23T06:48:06.127210Z",
     "start_time": "2021-02-23T06:48:05.578358Z"
    },
    "vscode": {
     "languageId": "python"
    }
   },
   "outputs": [],
   "source": [
    "df = pd.read_csv(csv_path, lineterminator='\\n', low_memory=False)\n",
    "\n",
    "df.set_index(\"date\", inplace=True)\n",
    "\n",
    "df.sort_values(by=[\"date\"], ascending=True, inplace=True)\n",
    "\n",
    "# df = df[df.index>='2010-01-01']\n"
   ]
  },
  {
   "cell_type": "code",
   "execution_count": 188,
   "metadata": {
    "vscode": {
     "languageId": "python"
    }
   },
   "outputs": [
    {
     "name": "stdout",
     "output_type": "stream",
     "text": [
      "<class 'pandas.core.frame.DataFrame'>\n",
      "Index: 3064 entries, 2010-01-04 to 2022-03-04\n",
      "Data columns (total 16 columns):\n",
      " #   Column                Non-Null Count  Dtype  \n",
      "---  ------                --------------  -----  \n",
      " 0   1. open               3064 non-null   float64\n",
      " 1   2. high               3064 non-null   float64\n",
      " 2   3. low                3064 non-null   float64\n",
      " 3   4. close              3064 non-null   float64\n",
      " 4   5. adjusted close     3064 non-null   float64\n",
      " 5   6. volume             3064 non-null   float64\n",
      " 6   7. dividend amount    3064 non-null   float64\n",
      " 7   8. split coefficient  3064 non-null   float64\n",
      " 8   date_time             3064 non-null   object \n",
      " 9   day_of_week           3064 non-null   int64  \n",
      " 10  return                3064 non-null   float64\n",
      " 11  increase              3064 non-null   float64\n",
      " 12  negative              3064 non-null   float64\n",
      " 13  nuetral               3064 non-null   float64\n",
      " 14  positive              3064 non-null   float64\n",
      " 15  log_return            3064 non-null   float64\n",
      "dtypes: float64(14), int64(1), object(1)\n",
      "memory usage: 406.9+ KB\n"
     ]
    }
   ],
   "source": [
    "df.info()"
   ]
  },
  {
   "cell_type": "code",
   "execution_count": 189,
   "metadata": {
    "ExecuteTime": {
     "end_time": "2021-02-23T06:48:06.141239Z",
     "start_time": "2021-02-23T06:48:06.128947Z"
    },
    "vscode": {
     "languageId": "python"
    }
   },
   "outputs": [
    {
     "data": {
      "text/html": [
       "<div>\n",
       "<style scoped>\n",
       "    .dataframe tbody tr th:only-of-type {\n",
       "        vertical-align: middle;\n",
       "    }\n",
       "\n",
       "    .dataframe tbody tr th {\n",
       "        vertical-align: top;\n",
       "    }\n",
       "\n",
       "    .dataframe thead th {\n",
       "        text-align: right;\n",
       "    }\n",
       "</style>\n",
       "<table border=\"1\" class=\"dataframe\">\n",
       "  <thead>\n",
       "    <tr style=\"text-align: right;\">\n",
       "      <th></th>\n",
       "      <th>1. open</th>\n",
       "      <th>2. high</th>\n",
       "      <th>3. low</th>\n",
       "      <th>4. close</th>\n",
       "      <th>5. adjusted close</th>\n",
       "      <th>6. volume</th>\n",
       "      <th>7. dividend amount</th>\n",
       "      <th>8. split coefficient</th>\n",
       "      <th>date_time</th>\n",
       "      <th>day_of_week</th>\n",
       "      <th>return</th>\n",
       "      <th>increase</th>\n",
       "      <th>negative</th>\n",
       "      <th>nuetral</th>\n",
       "      <th>positive</th>\n",
       "      <th>log_return</th>\n",
       "    </tr>\n",
       "    <tr>\n",
       "      <th>date</th>\n",
       "      <th></th>\n",
       "      <th></th>\n",
       "      <th></th>\n",
       "      <th></th>\n",
       "      <th></th>\n",
       "      <th></th>\n",
       "      <th></th>\n",
       "      <th></th>\n",
       "      <th></th>\n",
       "      <th></th>\n",
       "      <th></th>\n",
       "      <th></th>\n",
       "      <th></th>\n",
       "      <th></th>\n",
       "      <th></th>\n",
       "      <th></th>\n",
       "    </tr>\n",
       "  </thead>\n",
       "  <tbody>\n",
       "    <tr>\n",
       "      <th>2010-01-04</th>\n",
       "      <td>213.43</td>\n",
       "      <td>214.50</td>\n",
       "      <td>212.38</td>\n",
       "      <td>214.01</td>\n",
       "      <td>6.543876</td>\n",
       "      <td>17633200.0</td>\n",
       "      <td>0.0</td>\n",
       "      <td>1.0</td>\n",
       "      <td>2010-01-04</td>\n",
       "      <td>0</td>\n",
       "      <td>0.000000</td>\n",
       "      <td>0.0</td>\n",
       "      <td>0.000013</td>\n",
       "      <td>0.000009</td>\n",
       "      <td>0.999979</td>\n",
       "      <td>0.000000</td>\n",
       "    </tr>\n",
       "    <tr>\n",
       "      <th>2010-01-05</th>\n",
       "      <td>214.60</td>\n",
       "      <td>215.59</td>\n",
       "      <td>213.25</td>\n",
       "      <td>214.38</td>\n",
       "      <td>6.555190</td>\n",
       "      <td>21496600.0</td>\n",
       "      <td>0.0</td>\n",
       "      <td>1.0</td>\n",
       "      <td>2010-01-05</td>\n",
       "      <td>1</td>\n",
       "      <td>0.001729</td>\n",
       "      <td>1.0</td>\n",
       "      <td>0.498715</td>\n",
       "      <td>0.001116</td>\n",
       "      <td>0.500169</td>\n",
       "      <td>0.001727</td>\n",
       "    </tr>\n",
       "    <tr>\n",
       "      <th>2010-01-06</th>\n",
       "      <td>214.38</td>\n",
       "      <td>215.23</td>\n",
       "      <td>210.75</td>\n",
       "      <td>210.97</td>\n",
       "      <td>6.450921</td>\n",
       "      <td>19720000.0</td>\n",
       "      <td>0.0</td>\n",
       "      <td>1.0</td>\n",
       "      <td>2010-01-06</td>\n",
       "      <td>2</td>\n",
       "      <td>-0.015906</td>\n",
       "      <td>0.0</td>\n",
       "      <td>0.000052</td>\n",
       "      <td>0.085701</td>\n",
       "      <td>0.914247</td>\n",
       "      <td>-0.016034</td>\n",
       "    </tr>\n",
       "    <tr>\n",
       "      <th>2010-01-07</th>\n",
       "      <td>211.75</td>\n",
       "      <td>212.00</td>\n",
       "      <td>209.05</td>\n",
       "      <td>210.58</td>\n",
       "      <td>6.438996</td>\n",
       "      <td>17040400.0</td>\n",
       "      <td>0.0</td>\n",
       "      <td>1.0</td>\n",
       "      <td>2010-01-07</td>\n",
       "      <td>3</td>\n",
       "      <td>-0.001849</td>\n",
       "      <td>0.0</td>\n",
       "      <td>0.457010</td>\n",
       "      <td>0.000224</td>\n",
       "      <td>0.542766</td>\n",
       "      <td>-0.001850</td>\n",
       "    </tr>\n",
       "    <tr>\n",
       "      <th>2010-01-08</th>\n",
       "      <td>210.30</td>\n",
       "      <td>212.00</td>\n",
       "      <td>209.06</td>\n",
       "      <td>211.98</td>\n",
       "      <td>6.481804</td>\n",
       "      <td>15986100.0</td>\n",
       "      <td>0.0</td>\n",
       "      <td>1.0</td>\n",
       "      <td>2010-01-08</td>\n",
       "      <td>4</td>\n",
       "      <td>0.006648</td>\n",
       "      <td>1.0</td>\n",
       "      <td>0.010157</td>\n",
       "      <td>0.000059</td>\n",
       "      <td>0.989783</td>\n",
       "      <td>0.006626</td>\n",
       "    </tr>\n",
       "  </tbody>\n",
       "</table>\n",
       "</div>"
      ],
      "text/plain": [
       "            1. open  2. high  3. low  4. close  5. adjusted close   6. volume  \\\n",
       "date                                                                            \n",
       "2010-01-04   213.43   214.50  212.38    214.01           6.543876  17633200.0   \n",
       "2010-01-05   214.60   215.59  213.25    214.38           6.555190  21496600.0   \n",
       "2010-01-06   214.38   215.23  210.75    210.97           6.450921  19720000.0   \n",
       "2010-01-07   211.75   212.00  209.05    210.58           6.438996  17040400.0   \n",
       "2010-01-08   210.30   212.00  209.06    211.98           6.481804  15986100.0   \n",
       "\n",
       "            7. dividend amount  8. split coefficient   date_time  day_of_week  \\\n",
       "date                                                                            \n",
       "2010-01-04                 0.0                   1.0  2010-01-04            0   \n",
       "2010-01-05                 0.0                   1.0  2010-01-05            1   \n",
       "2010-01-06                 0.0                   1.0  2010-01-06            2   \n",
       "2010-01-07                 0.0                   1.0  2010-01-07            3   \n",
       "2010-01-08                 0.0                   1.0  2010-01-08            4   \n",
       "\n",
       "              return  increase  negative   nuetral  positive  log_return  \n",
       "date                                                                      \n",
       "2010-01-04  0.000000       0.0  0.000013  0.000009  0.999979    0.000000  \n",
       "2010-01-05  0.001729       1.0  0.498715  0.001116  0.500169    0.001727  \n",
       "2010-01-06 -0.015906       0.0  0.000052  0.085701  0.914247   -0.016034  \n",
       "2010-01-07 -0.001849       0.0  0.457010  0.000224  0.542766   -0.001850  \n",
       "2010-01-08  0.006648       1.0  0.010157  0.000059  0.989783    0.006626  "
      ]
     },
     "execution_count": 189,
     "metadata": {},
     "output_type": "execute_result"
    }
   ],
   "source": [
    "df.head()"
   ]
  },
  {
   "cell_type": "markdown",
   "metadata": {},
   "source": [
    "## Prepare Data"
   ]
  },
  {
   "cell_type": "markdown",
   "metadata": {},
   "source": [
    "### Stationarity"
   ]
  },
  {
   "cell_type": "markdown",
   "metadata": {},
   "source": [
    "We apply the same transformation—annual difference for both series, prior log-transform for industrial production—to achieve stationarity that we used in Chapter 8 on Time Series Models:"
   ]
  },
  {
   "cell_type": "code",
   "execution_count": 190,
   "metadata": {
    "ExecuteTime": {
     "end_time": "2021-02-23T06:48:06.593041Z",
     "start_time": "2021-02-23T06:48:06.585035Z"
    },
    "vscode": {
     "languageId": "python"
    }
   },
   "outputs": [
    {
     "data": {
      "text/html": [
       "<div>\n",
       "<style scoped>\n",
       "    .dataframe tbody tr th:only-of-type {\n",
       "        vertical-align: middle;\n",
       "    }\n",
       "\n",
       "    .dataframe tbody tr th {\n",
       "        vertical-align: top;\n",
       "    }\n",
       "\n",
       "    .dataframe thead th {\n",
       "        text-align: right;\n",
       "    }\n",
       "</style>\n",
       "<table border=\"1\" class=\"dataframe\">\n",
       "  <thead>\n",
       "    <tr style=\"text-align: right;\">\n",
       "      <th></th>\n",
       "      <th>1. open</th>\n",
       "      <th>2. high</th>\n",
       "      <th>3. low</th>\n",
       "      <th>4. close</th>\n",
       "      <th>5. adjusted close</th>\n",
       "      <th>6. volume</th>\n",
       "      <th>7. dividend amount</th>\n",
       "      <th>8. split coefficient</th>\n",
       "      <th>day_of_week</th>\n",
       "      <th>return</th>\n",
       "      <th>increase</th>\n",
       "      <th>negative</th>\n",
       "      <th>nuetral</th>\n",
       "      <th>positive</th>\n",
       "      <th>log_return</th>\n",
       "    </tr>\n",
       "  </thead>\n",
       "  <tbody>\n",
       "    <tr>\n",
       "      <th>count</th>\n",
       "      <td>3064.000000</td>\n",
       "      <td>3064.000000</td>\n",
       "      <td>3064.000000</td>\n",
       "      <td>3064.000000</td>\n",
       "      <td>3064.000000</td>\n",
       "      <td>3.064000e+03</td>\n",
       "      <td>3064.000000</td>\n",
       "      <td>3064.000000</td>\n",
       "      <td>3064.000000</td>\n",
       "      <td>3064.000000</td>\n",
       "      <td>3064.000000</td>\n",
       "      <td>3064.000000</td>\n",
       "      <td>3064.000000</td>\n",
       "      <td>3064.000000</td>\n",
       "      <td>3064.000000</td>\n",
       "    </tr>\n",
       "    <tr>\n",
       "      <th>mean</th>\n",
       "      <td>260.329399</td>\n",
       "      <td>262.829696</td>\n",
       "      <td>257.667717</td>\n",
       "      <td>260.335499</td>\n",
       "      <td>42.736360</td>\n",
       "      <td>3.829313e+07</td>\n",
       "      <td>0.013270</td>\n",
       "      <td>1.002937</td>\n",
       "      <td>2.022846</td>\n",
       "      <td>0.001207</td>\n",
       "      <td>0.529047</td>\n",
       "      <td>0.158588</td>\n",
       "      <td>0.090758</td>\n",
       "      <td>0.748042</td>\n",
       "      <td>0.001050</td>\n",
       "    </tr>\n",
       "    <tr>\n",
       "      <th>std</th>\n",
       "      <td>159.641209</td>\n",
       "      <td>161.044982</td>\n",
       "      <td>157.946296</td>\n",
       "      <td>159.521075</td>\n",
       "      <td>41.154337</td>\n",
       "      <td>3.233265e+07</td>\n",
       "      <td>0.160922</td>\n",
       "      <td>0.121173</td>\n",
       "      <td>1.399408</td>\n",
       "      <td>0.017675</td>\n",
       "      <td>0.499237</td>\n",
       "      <td>0.143203</td>\n",
       "      <td>0.123167</td>\n",
       "      <td>0.176529</td>\n",
       "      <td>0.017688</td>\n",
       "    </tr>\n",
       "    <tr>\n",
       "      <th>min</th>\n",
       "      <td>90.000000</td>\n",
       "      <td>90.700000</td>\n",
       "      <td>89.470000</td>\n",
       "      <td>90.280000</td>\n",
       "      <td>5.872396</td>\n",
       "      <td>5.624800e+06</td>\n",
       "      <td>0.000000</td>\n",
       "      <td>1.000000</td>\n",
       "      <td>0.000000</td>\n",
       "      <td>-0.128647</td>\n",
       "      <td>0.000000</td>\n",
       "      <td>0.000000</td>\n",
       "      <td>0.000000</td>\n",
       "      <td>0.000000</td>\n",
       "      <td>-0.137708</td>\n",
       "    </tr>\n",
       "    <tr>\n",
       "      <th>25%</th>\n",
       "      <td>128.377500</td>\n",
       "      <td>129.535000</td>\n",
       "      <td>127.102500</td>\n",
       "      <td>128.525000</td>\n",
       "      <td>16.285903</td>\n",
       "      <td>1.762402e+07</td>\n",
       "      <td>0.000000</td>\n",
       "      <td>1.000000</td>\n",
       "      <td>1.000000</td>\n",
       "      <td>-0.007140</td>\n",
       "      <td>0.000000</td>\n",
       "      <td>0.027276</td>\n",
       "      <td>0.000811</td>\n",
       "      <td>0.651903</td>\n",
       "      <td>-0.007166</td>\n",
       "    </tr>\n",
       "    <tr>\n",
       "      <th>50%</th>\n",
       "      <td>192.135000</td>\n",
       "      <td>194.330000</td>\n",
       "      <td>190.875000</td>\n",
       "      <td>192.255000</td>\n",
       "      <td>26.270965</td>\n",
       "      <td>2.763896e+07</td>\n",
       "      <td>0.000000</td>\n",
       "      <td>1.000000</td>\n",
       "      <td>2.000000</td>\n",
       "      <td>0.000942</td>\n",
       "      <td>1.000000</td>\n",
       "      <td>0.140013</td>\n",
       "      <td>0.050226</td>\n",
       "      <td>0.762676</td>\n",
       "      <td>0.000942</td>\n",
       "    </tr>\n",
       "    <tr>\n",
       "      <th>75%</th>\n",
       "      <td>364.102500</td>\n",
       "      <td>369.210000</td>\n",
       "      <td>358.682500</td>\n",
       "      <td>364.282500</td>\n",
       "      <td>48.589739</td>\n",
       "      <td>4.667886e+07</td>\n",
       "      <td>0.000000</td>\n",
       "      <td>1.000000</td>\n",
       "      <td>3.000000</td>\n",
       "      <td>0.010459</td>\n",
       "      <td>1.000000</td>\n",
       "      <td>0.242063</td>\n",
       "      <td>0.137521</td>\n",
       "      <td>0.865595</td>\n",
       "      <td>0.010404</td>\n",
       "    </tr>\n",
       "    <tr>\n",
       "      <th>max</th>\n",
       "      <td>702.410000</td>\n",
       "      <td>705.070000</td>\n",
       "      <td>699.570000</td>\n",
       "      <td>702.100000</td>\n",
       "      <td>181.778019</td>\n",
       "      <td>3.326072e+08</td>\n",
       "      <td>3.290000</td>\n",
       "      <td>7.000007</td>\n",
       "      <td>4.000000</td>\n",
       "      <td>0.119808</td>\n",
       "      <td>1.000000</td>\n",
       "      <td>1.000000</td>\n",
       "      <td>0.999997</td>\n",
       "      <td>0.999999</td>\n",
       "      <td>0.113157</td>\n",
       "    </tr>\n",
       "  </tbody>\n",
       "</table>\n",
       "</div>"
      ],
      "text/plain": [
       "           1. open      2. high       3. low     4. close  5. adjusted close  \\\n",
       "count  3064.000000  3064.000000  3064.000000  3064.000000        3064.000000   \n",
       "mean    260.329399   262.829696   257.667717   260.335499          42.736360   \n",
       "std     159.641209   161.044982   157.946296   159.521075          41.154337   \n",
       "min      90.000000    90.700000    89.470000    90.280000           5.872396   \n",
       "25%     128.377500   129.535000   127.102500   128.525000          16.285903   \n",
       "50%     192.135000   194.330000   190.875000   192.255000          26.270965   \n",
       "75%     364.102500   369.210000   358.682500   364.282500          48.589739   \n",
       "max     702.410000   705.070000   699.570000   702.100000         181.778019   \n",
       "\n",
       "          6. volume  7. dividend amount  8. split coefficient  day_of_week  \\\n",
       "count  3.064000e+03         3064.000000           3064.000000  3064.000000   \n",
       "mean   3.829313e+07            0.013270              1.002937     2.022846   \n",
       "std    3.233265e+07            0.160922              0.121173     1.399408   \n",
       "min    5.624800e+06            0.000000              1.000000     0.000000   \n",
       "25%    1.762402e+07            0.000000              1.000000     1.000000   \n",
       "50%    2.763896e+07            0.000000              1.000000     2.000000   \n",
       "75%    4.667886e+07            0.000000              1.000000     3.000000   \n",
       "max    3.326072e+08            3.290000              7.000007     4.000000   \n",
       "\n",
       "            return     increase     negative      nuetral     positive  \\\n",
       "count  3064.000000  3064.000000  3064.000000  3064.000000  3064.000000   \n",
       "mean      0.001207     0.529047     0.158588     0.090758     0.748042   \n",
       "std       0.017675     0.499237     0.143203     0.123167     0.176529   \n",
       "min      -0.128647     0.000000     0.000000     0.000000     0.000000   \n",
       "25%      -0.007140     0.000000     0.027276     0.000811     0.651903   \n",
       "50%       0.000942     1.000000     0.140013     0.050226     0.762676   \n",
       "75%       0.010459     1.000000     0.242063     0.137521     0.865595   \n",
       "max       0.119808     1.000000     1.000000     0.999997     0.999999   \n",
       "\n",
       "        log_return  \n",
       "count  3064.000000  \n",
       "mean      0.001050  \n",
       "std       0.017688  \n",
       "min      -0.137708  \n",
       "25%      -0.007166  \n",
       "50%       0.000942  \n",
       "75%       0.010404  \n",
       "max       0.113157  "
      ]
     },
     "execution_count": 190,
     "metadata": {},
     "output_type": "execute_result"
    }
   ],
   "source": [
    "df.describe()"
   ]
  },
  {
   "cell_type": "markdown",
   "metadata": {},
   "source": [
    "### Scaling"
   ]
  },
  {
   "cell_type": "markdown",
   "metadata": {},
   "source": [
    "Then we scale the transformed data to the [0,1] interval:"
   ]
  },
  {
   "cell_type": "code",
   "execution_count": 191,
   "metadata": {
    "ExecuteTime": {
     "end_time": "2021-02-23T06:48:09.268098Z",
     "start_time": "2021-02-23T06:48:09.252298Z"
    },
    "vscode": {
     "languageId": "python"
    }
   },
   "outputs": [],
   "source": [
    "# df_transformed = df[[\"2. high\", \"3. low\", \"5. adjusted close\", \"positive\"]]\n",
    "\n",
    "X = df[[\"5. adjusted close\", \"2. high\", \"3. low\", \"6. volume\", \"negative\", \"nuetral\", \"positive\", \"log_return\"]].values\n",
    "\n",
    "scaler = MinMaxScaler(feature_range=(0, 1)).fit(X)\n",
    "X_scaled = scaler.transform(X)"
   ]
  },
  {
   "cell_type": "code",
   "execution_count": null,
   "metadata": {
    "vscode": {
     "languageId": "python"
    }
   },
   "outputs": [],
   "source": []
  },
  {
   "cell_type": "markdown",
   "metadata": {},
   "source": [
    "### Plot original and transformed series"
   ]
  },
  {
   "cell_type": "code",
   "execution_count": 192,
   "metadata": {
    "ExecuteTime": {
     "end_time": "2021-02-23T06:48:11.249754Z",
     "start_time": "2021-02-23T06:48:09.554213Z"
    },
    "vscode": {
     "languageId": "python"
    }
   },
   "outputs": [],
   "source": [
    "# fig, axes = plt.subplots(ncols=2, figsize=(14,4))\n",
    "# columns={'2. high': 'High', '3. low': 'Low', '5. adjusted close': 'adjusted close'}\n",
    "# df.rename(columns=columns).plot(ax=axes[0], title='Original Series')\n",
    "# df_transformed.rename(columns=columns).plot(ax=axes[1], title='Tansformed Series')\n",
    "# sns.despine()\n",
    "# fig.tight_layout()\n",
    "# fig.savefig(results_path / 'multi_rnn', dpi=300)"
   ]
  },
  {
   "cell_type": "markdown",
   "metadata": {},
   "source": [
    "### Reshape data into RNN format"
   ]
  },
  {
   "cell_type": "markdown",
   "metadata": {},
   "source": [
    "We can reshape directly to get non-overlapping series, i.e., one sample for each year (works only if the number of samples is divisible by window size):"
   ]
  },
  {
   "cell_type": "code",
   "execution_count": 193,
   "metadata": {
    "ExecuteTime": {
     "end_time": "2021-02-23T06:48:13.144650Z",
     "start_time": "2021-02-23T06:48:13.141342Z"
    },
    "vscode": {
     "languageId": "python"
    }
   },
   "outputs": [],
   "source": [
    "# df.values.reshape(-1, 12, 2).shape"
   ]
  },
  {
   "cell_type": "markdown",
   "metadata": {},
   "source": [
    "However, we want rolling, not non-overlapping lagged values. The create_multivariate_rnn_data function transforms a dataset of several time series into the shape required by the Keras RNN layers, namely `n_samples` x `window_size` x `n_series`, as follows:"
   ]
  },
  {
   "cell_type": "code",
   "execution_count": 194,
   "metadata": {
    "ExecuteTime": {
     "end_time": "2021-02-23T06:48:13.455841Z",
     "start_time": "2021-02-23T06:48:13.452960Z"
    },
    "vscode": {
     "languageId": "python"
    }
   },
   "outputs": [],
   "source": [
    "def create_multivariate_rnn_data(data, window_size):\n",
    "    y = data[window_size:]\n",
    "    n = data.shape[0]\n",
    "    X = np.stack([data[i: j] \n",
    "                  for i, j in enumerate(range(window_size, n))], axis=0)\n",
    "    return X, y"
   ]
  },
  {
   "cell_type": "markdown",
   "metadata": {},
   "source": [
    "We will use window_size of 24 months and obtain the desired inputs for our RNN model, as follows:"
   ]
  },
  {
   "cell_type": "code",
   "execution_count": 195,
   "metadata": {
    "ExecuteTime": {
     "end_time": "2021-02-23T06:48:13.761579Z",
     "start_time": "2021-02-23T06:48:13.759076Z"
    },
    "vscode": {
     "languageId": "python"
    }
   },
   "outputs": [],
   "source": [
    "window_size = 63"
   ]
  },
  {
   "cell_type": "code",
   "execution_count": 213,
   "metadata": {
    "vscode": {
     "languageId": "python"
    }
   },
   "outputs": [
    {
     "data": {
      "text/plain": [
       "array([8.25512128e-03, 2.43403812e-01, 2.41812818e-01, 3.16228065e-02,\n",
       "       1.45712551e-01, 1.01614855e-04, 8.54186889e-01, 5.66443346e-01])"
      ]
     },
     "execution_count": 213,
     "metadata": {},
     "output_type": "execute_result"
    }
   ],
   "source": [
    "X_scaled[window_size:][0]"
   ]
  },
  {
   "cell_type": "code",
   "execution_count": 196,
   "metadata": {
    "ExecuteTime": {
     "end_time": "2021-02-23T06:48:13.963203Z",
     "start_time": "2021-02-23T06:48:13.915725Z"
    },
    "vscode": {
     "languageId": "python"
    }
   },
   "outputs": [],
   "source": [
    "X, y = create_multivariate_rnn_data(X_scaled, window_size=window_size)"
   ]
  },
  {
   "cell_type": "code",
   "execution_count": 197,
   "metadata": {
    "ExecuteTime": {
     "end_time": "2021-02-23T06:48:14.063646Z",
     "start_time": "2021-02-23T06:48:14.059953Z"
    },
    "vscode": {
     "languageId": "python"
    }
   },
   "outputs": [
    {
     "data": {
      "text/plain": [
       "((3001, 63, 8), (3001, 8))"
      ]
     },
     "execution_count": 197,
     "metadata": {},
     "output_type": "execute_result"
    }
   ],
   "source": [
    "X.shape, y.shape"
   ]
  },
  {
   "cell_type": "markdown",
   "metadata": {},
   "source": [
    "Finally, we split our data into a train and a test set, using the last 24 months to test the out-of-sample performance, as shown here:"
   ]
  },
  {
   "cell_type": "code",
   "execution_count": 198,
   "metadata": {
    "ExecuteTime": {
     "end_time": "2021-02-23T06:48:16.428668Z",
     "start_time": "2021-02-23T06:48:16.426564Z"
    },
    "vscode": {
     "languageId": "python"
    }
   },
   "outputs": [],
   "source": [
    "# test_size =24\n",
    "# train_size = X.shape[0]-test_size\n",
    "train_size = int(len(X) * .9)\n"
   ]
  },
  {
   "cell_type": "code",
   "execution_count": 199,
   "metadata": {
    "ExecuteTime": {
     "end_time": "2021-02-23T06:48:16.625590Z",
     "start_time": "2021-02-23T06:48:16.616996Z"
    },
    "vscode": {
     "languageId": "python"
    }
   },
   "outputs": [],
   "source": [
    "X_train, y_train = X[:train_size], y[:train_size]\n",
    "X_test, y_test = X[train_size:], y[train_size:]"
   ]
  },
  {
   "cell_type": "code",
   "execution_count": 200,
   "metadata": {
    "ExecuteTime": {
     "end_time": "2021-02-23T06:48:16.774725Z",
     "start_time": "2021-02-23T06:48:16.771731Z"
    },
    "vscode": {
     "languageId": "python"
    }
   },
   "outputs": [
    {
     "data": {
      "text/plain": [
       "((2700, 63, 8), (301, 63, 8))"
      ]
     },
     "execution_count": 200,
     "metadata": {},
     "output_type": "execute_result"
    }
   ],
   "source": [
    "X_train.shape, X_test.shape"
   ]
  },
  {
   "cell_type": "code",
   "execution_count": 201,
   "metadata": {
    "vscode": {
     "languageId": "python"
    }
   },
   "outputs": [
    {
     "data": {
      "text/plain": [
       "((2700, 8), (301, 8))"
      ]
     },
     "execution_count": 201,
     "metadata": {},
     "output_type": "execute_result"
    }
   ],
   "source": [
    "y_train.shape, y_test.shape"
   ]
  },
  {
   "cell_type": "markdown",
   "metadata": {},
   "source": [
    "## Define Model Architecture"
   ]
  },
  {
   "cell_type": "markdown",
   "metadata": {},
   "source": [
    "We use a similar architecture with two stacked LSTM layers with 12 and 6 units, respectively, followed by a fully-connected layer with 10 units. The output layer has two units, one for each time series. We compile them using mean absolute loss and the recommended RMSProp optimizer, as follows:"
   ]
  },
  {
   "cell_type": "code",
   "execution_count": 202,
   "metadata": {
    "ExecuteTime": {
     "end_time": "2021-02-23T06:48:17.259646Z",
     "start_time": "2021-02-23T06:48:17.255449Z"
    },
    "vscode": {
     "languageId": "python"
    }
   },
   "outputs": [],
   "source": [
    "K.clear_session()"
   ]
  },
  {
   "cell_type": "code",
   "execution_count": 203,
   "metadata": {
    "ExecuteTime": {
     "end_time": "2021-02-23T06:48:17.549799Z",
     "start_time": "2021-02-23T06:48:17.547640Z"
    },
    "vscode": {
     "languageId": "python"
    }
   },
   "outputs": [],
   "source": [
    "n_features = X_train.shape[2]\n",
    "output_size = 1"
   ]
  },
  {
   "cell_type": "code",
   "execution_count": 204,
   "metadata": {
    "ExecuteTime": {
     "end_time": "2021-02-23T06:48:17.838826Z",
     "start_time": "2021-02-23T06:48:17.836719Z"
    },
    "vscode": {
     "languageId": "python"
    }
   },
   "outputs": [],
   "source": [
    "lstm_units = 64\n",
    "dense_units = 4"
   ]
  },
  {
   "cell_type": "code",
   "execution_count": 205,
   "metadata": {
    "ExecuteTime": {
     "end_time": "2021-02-23T06:48:18.232554Z",
     "start_time": "2021-02-23T06:48:18.007729Z"
    },
    "vscode": {
     "languageId": "python"
    }
   },
   "outputs": [],
   "source": [
    "# rnn = Sequential([\n",
    "#     LSTM(units=lstm_units,\n",
    "#          # dropout=.1,\n",
    "#          # recurrent_dropout=.1,\n",
    "#          input_shape=(window_size, n_features), name='LSTM',\n",
    "#          return_sequences=False),\n",
    "#     tf.keras.layers.Dropout(0.20),\n",
    "#     Dense(dense_units, name='FC'),\n",
    "#     Dense(output_size, name='Output')\n",
    "# ])\n",
    "\n",
    "# rnn = Sequential([\n",
    "#     Bidirectional(LSTM(units=lstm_units,\n",
    "#          # dropout=.1,\n",
    "#          # recurrent_dropout=.1,\n",
    "#          input_shape=(window_size, n_features), name='LSTM',\n",
    "#          return_sequences=True)),\n",
    "#     tf.keras.layers.Dropout(0.20),\n",
    "#     # Dense(dense_units, name='FC'),\n",
    "#     Dense(1, name='Output')\n",
    "# ])\n",
    "\n",
    "rnn = Sequential([\n",
    "    LSTM(units=lstm_units, input_shape=(window_size, n_features), name='LSTM'),\n",
    "    tf.keras.layers.Dropout(0.20),\n",
    "# #    LSTM(units=63, \n",
    "# #           input_shape=(window_size, n_features), name='LSTM2'),\n",
    "   Dense(1, name='Output')\n",
    "])"
   ]
  },
  {
   "cell_type": "markdown",
   "metadata": {},
   "source": [
    "The model has 1,268 parameters, as shown here:"
   ]
  },
  {
   "cell_type": "markdown",
   "metadata": {},
   "source": [
    "## Train the Model"
   ]
  },
  {
   "cell_type": "markdown",
   "metadata": {},
   "source": [
    "We train for 50 epochs with a batch_size value of 20 using early stopping:"
   ]
  },
  {
   "cell_type": "code",
   "execution_count": 206,
   "metadata": {
    "ExecuteTime": {
     "end_time": "2021-02-23T06:48:20.477367Z",
     "start_time": "2021-02-23T06:48:20.470808Z"
    },
    "vscode": {
     "languageId": "python"
    }
   },
   "outputs": [],
   "source": [
    "lstm_path = (results_path / 'lstm.h5').as_posix()\n",
    "\n",
    "checkpointer = ModelCheckpoint(filepath=lstm_path,\n",
    "                               verbose=1,\n",
    "                               monitor='val_loss',\n",
    "                               mode='min',\n",
    "                               save_best_only=True)"
   ]
  },
  {
   "cell_type": "code",
   "execution_count": 207,
   "metadata": {
    "vscode": {
     "languageId": "python"
    }
   },
   "outputs": [],
   "source": [
    "optimizer = tf.keras.optimizers.RMSprop(learning_rate=0.001,\n",
    "                                     # learning_rate=lr_schedule,\n",
    "                                     rho=0.9,\n",
    "                                     epsilon=1e-08,\n",
    "                                     decay=0.0)"
   ]
  },
  {
   "cell_type": "code",
   "execution_count": 208,
   "metadata": {
    "ExecuteTime": {
     "end_time": "2021-02-23T06:48:20.622189Z",
     "start_time": "2021-02-23T06:48:20.617111Z"
    },
    "vscode": {
     "languageId": "python"
    }
   },
   "outputs": [],
   "source": [
    "early_stopping = EarlyStopping(monitor='val_loss', \n",
    "                              patience=30,\n",
    "                              restore_best_weights=True)"
   ]
  },
  {
   "cell_type": "code",
   "execution_count": 209,
   "metadata": {
    "vscode": {
     "languageId": "python"
    }
   },
   "outputs": [],
   "source": [
    "# rnn.compile(loss='mean_absolute_error', optimizer=optimizer)\n",
    "\n",
    "rnn.compile(loss=tf.losses.MeanSquaredError(),\n",
    "            optimizer=optimizer,\n",
    "            metrics=[tf.metrics.MeanAbsoluteError()])"
   ]
  },
  {
   "cell_type": "code",
   "execution_count": 210,
   "metadata": {
    "vscode": {
     "languageId": "python"
    }
   },
   "outputs": [],
   "source": [
    "# rnn.summary()"
   ]
  },
  {
   "cell_type": "code",
   "execution_count": 211,
   "metadata": {
    "ExecuteTime": {
     "end_time": "2021-02-23T06:48:30.587987Z",
     "start_time": "2021-02-23T06:48:20.771561Z"
    },
    "vscode": {
     "languageId": "python"
    }
   },
   "outputs": [
    {
     "name": "stdout",
     "output_type": "stream",
     "text": [
      "Epoch 1/100\n",
      "85/85 [==============================] - ETA: 0s - loss: 0.0799 - mean_absolute_error: 0.2370\n",
      "Epoch 1: val_loss improved from inf to 0.09299, saving model to results/multivariate_time_series/lstm.h5\n",
      "85/85 [==============================] - 4s 24ms/step - loss: 0.0799 - mean_absolute_error: 0.2370 - val_loss: 0.0930 - val_mean_absolute_error: 0.2704\n",
      "Epoch 2/100\n",
      "82/85 [===========================>..] - ETA: 0s - loss: 0.0772 - mean_absolute_error: 0.2357\n",
      "Epoch 2: val_loss improved from 0.09299 to 0.09241, saving model to results/multivariate_time_series/lstm.h5\n",
      "85/85 [==============================] - 2s 18ms/step - loss: 0.0769 - mean_absolute_error: 0.2351 - val_loss: 0.0924 - val_mean_absolute_error: 0.2735\n",
      "Epoch 3/100\n",
      "82/85 [===========================>..] - ETA: 0s - loss: 0.0764 - mean_absolute_error: 0.2348\n",
      "Epoch 3: val_loss did not improve from 0.09241\n",
      "85/85 [==============================] - 1s 16ms/step - loss: 0.0764 - mean_absolute_error: 0.2347 - val_loss: 0.0925 - val_mean_absolute_error: 0.2776\n",
      "Epoch 4/100\n",
      "84/85 [============================>.] - ETA: 0s - loss: 0.0762 - mean_absolute_error: 0.2344\n",
      "Epoch 4: val_loss did not improve from 0.09241\n",
      "85/85 [==============================] - 2s 19ms/step - loss: 0.0762 - mean_absolute_error: 0.2344 - val_loss: 0.0933 - val_mean_absolute_error: 0.2816\n",
      "Epoch 5/100\n",
      "85/85 [==============================] - ETA: 0s - loss: 0.0761 - mean_absolute_error: 0.2343\n",
      "Epoch 5: val_loss improved from 0.09241 to 0.09236, saving model to results/multivariate_time_series/lstm.h5\n",
      "85/85 [==============================] - 1s 17ms/step - loss: 0.0761 - mean_absolute_error: 0.2343 - val_loss: 0.0924 - val_mean_absolute_error: 0.2738\n",
      "Epoch 6/100\n",
      "84/85 [============================>.] - ETA: 0s - loss: 0.0760 - mean_absolute_error: 0.2344\n",
      "Epoch 6: val_loss did not improve from 0.09236\n",
      "85/85 [==============================] - 1s 17ms/step - loss: 0.0760 - mean_absolute_error: 0.2344 - val_loss: 0.0929 - val_mean_absolute_error: 0.2704\n",
      "Epoch 7/100\n",
      "85/85 [==============================] - ETA: 0s - loss: 0.0760 - mean_absolute_error: 0.2344\n",
      "Epoch 7: val_loss improved from 0.09236 to 0.09232, saving model to results/multivariate_time_series/lstm.h5\n",
      "85/85 [==============================] - 1s 16ms/step - loss: 0.0760 - mean_absolute_error: 0.2344 - val_loss: 0.0923 - val_mean_absolute_error: 0.2751\n",
      "Epoch 8/100\n",
      "85/85 [==============================] - ETA: 0s - loss: 0.0759 - mean_absolute_error: 0.2343\n",
      "Epoch 8: val_loss did not improve from 0.09232\n",
      "85/85 [==============================] - 2s 19ms/step - loss: 0.0759 - mean_absolute_error: 0.2343 - val_loss: 0.0929 - val_mean_absolute_error: 0.2803\n",
      "Epoch 9/100\n",
      "85/85 [==============================] - ETA: 0s - loss: 0.0758 - mean_absolute_error: 0.2342\n",
      "Epoch 9: val_loss did not improve from 0.09232\n",
      "85/85 [==============================] - 2s 18ms/step - loss: 0.0758 - mean_absolute_error: 0.2342 - val_loss: 0.0923 - val_mean_absolute_error: 0.2757\n",
      "Epoch 10/100\n",
      "82/85 [===========================>..] - ETA: 0s - loss: 0.0758 - mean_absolute_error: 0.2344\n",
      "Epoch 10: val_loss did not improve from 0.09232\n",
      "85/85 [==============================] - 1s 16ms/step - loss: 0.0758 - mean_absolute_error: 0.2343 - val_loss: 0.0923 - val_mean_absolute_error: 0.2745\n",
      "Epoch 11/100\n",
      "83/85 [============================>.] - ETA: 0s - loss: 0.0758 - mean_absolute_error: 0.2342\n",
      "Epoch 11: val_loss did not improve from 0.09232\n",
      "85/85 [==============================] - 2s 18ms/step - loss: 0.0758 - mean_absolute_error: 0.2341 - val_loss: 0.0924 - val_mean_absolute_error: 0.2766\n",
      "Epoch 12/100\n",
      "84/85 [============================>.] - ETA: 0s - loss: 0.0757 - mean_absolute_error: 0.2342\n",
      "Epoch 12: val_loss did not improve from 0.09232\n",
      "85/85 [==============================] - 1s 17ms/step - loss: 0.0757 - mean_absolute_error: 0.2342 - val_loss: 0.0923 - val_mean_absolute_error: 0.2745\n",
      "Epoch 13/100\n",
      "82/85 [===========================>..] - ETA: 0s - loss: 0.0757 - mean_absolute_error: 0.2342\n",
      "Epoch 13: val_loss did not improve from 0.09232\n",
      "85/85 [==============================] - 1s 17ms/step - loss: 0.0757 - mean_absolute_error: 0.2342 - val_loss: 0.0924 - val_mean_absolute_error: 0.2763\n",
      "Epoch 14/100\n",
      "82/85 [===========================>..] - ETA: 0s - loss: 0.0759 - mean_absolute_error: 0.2346\n",
      "Epoch 14: val_loss did not improve from 0.09232\n",
      "85/85 [==============================] - 1s 16ms/step - loss: 0.0757 - mean_absolute_error: 0.2343 - val_loss: 0.0923 - val_mean_absolute_error: 0.2745\n",
      "Epoch 15/100\n",
      "84/85 [============================>.] - ETA: 0s - loss: 0.0757 - mean_absolute_error: 0.2343\n",
      "Epoch 15: val_loss did not improve from 0.09232\n",
      "85/85 [==============================] - 2s 18ms/step - loss: 0.0757 - mean_absolute_error: 0.2343 - val_loss: 0.0924 - val_mean_absolute_error: 0.2733\n",
      "Epoch 16/100\n",
      "83/85 [============================>.] - ETA: 0s - loss: 0.0757 - mean_absolute_error: 0.2342\n",
      "Epoch 16: val_loss improved from 0.09232 to 0.09232, saving model to results/multivariate_time_series/lstm.h5\n",
      "85/85 [==============================] - 2s 18ms/step - loss: 0.0757 - mean_absolute_error: 0.2342 - val_loss: 0.0923 - val_mean_absolute_error: 0.2748\n",
      "Epoch 17/100\n",
      "85/85 [==============================] - ETA: 0s - loss: 0.0757 - mean_absolute_error: 0.2343\n",
      "Epoch 17: val_loss did not improve from 0.09232\n",
      "85/85 [==============================] - 2s 18ms/step - loss: 0.0757 - mean_absolute_error: 0.2343 - val_loss: 0.0924 - val_mean_absolute_error: 0.2767\n",
      "Epoch 18/100\n",
      "84/85 [============================>.] - ETA: 0s - loss: 0.0757 - mean_absolute_error: 0.2343\n",
      "Epoch 18: val_loss improved from 0.09232 to 0.09232, saving model to results/multivariate_time_series/lstm.h5\n",
      "85/85 [==============================] - 2s 19ms/step - loss: 0.0756 - mean_absolute_error: 0.2342 - val_loss: 0.0923 - val_mean_absolute_error: 0.2752\n",
      "Epoch 19/100\n",
      "84/85 [============================>.] - ETA: 0s - loss: 0.0756 - mean_absolute_error: 0.2341\n",
      "Epoch 19: val_loss did not improve from 0.09232\n",
      "85/85 [==============================] - 2s 20ms/step - loss: 0.0756 - mean_absolute_error: 0.2342 - val_loss: 0.0924 - val_mean_absolute_error: 0.2739\n",
      "Epoch 20/100\n",
      "84/85 [============================>.] - ETA: 0s - loss: 0.0756 - mean_absolute_error: 0.2343\n",
      "Epoch 20: val_loss did not improve from 0.09232\n",
      "85/85 [==============================] - 2s 19ms/step - loss: 0.0756 - mean_absolute_error: 0.2342 - val_loss: 0.0924 - val_mean_absolute_error: 0.2732\n",
      "Epoch 21/100\n",
      "83/85 [============================>.] - ETA: 0s - loss: 0.0756 - mean_absolute_error: 0.2343\n",
      "Epoch 21: val_loss did not improve from 0.09232\n",
      "85/85 [==============================] - 2s 21ms/step - loss: 0.0756 - mean_absolute_error: 0.2342 - val_loss: 0.0924 - val_mean_absolute_error: 0.2774\n",
      "Epoch 22/100\n",
      "83/85 [============================>.] - ETA: 0s - loss: 0.0754 - mean_absolute_error: 0.2339\n",
      "Epoch 22: val_loss did not improve from 0.09232\n",
      "85/85 [==============================] - 2s 22ms/step - loss: 0.0756 - mean_absolute_error: 0.2342 - val_loss: 0.0923 - val_mean_absolute_error: 0.2741\n",
      "Epoch 23/100\n",
      "82/85 [===========================>..] - ETA: 0s - loss: 0.0757 - mean_absolute_error: 0.2344\n",
      "Epoch 23: val_loss did not improve from 0.09232\n",
      "85/85 [==============================] - 2s 18ms/step - loss: 0.0756 - mean_absolute_error: 0.2342 - val_loss: 0.0925 - val_mean_absolute_error: 0.2779\n",
      "Epoch 24/100\n",
      "85/85 [==============================] - ETA: 0s - loss: 0.0756 - mean_absolute_error: 0.2342\n",
      "Epoch 24: val_loss did not improve from 0.09232\n",
      "85/85 [==============================] - 2s 20ms/step - loss: 0.0756 - mean_absolute_error: 0.2342 - val_loss: 0.0924 - val_mean_absolute_error: 0.2766\n",
      "Epoch 25/100\n",
      "85/85 [==============================] - ETA: 0s - loss: 0.0755 - mean_absolute_error: 0.2342\n",
      "Epoch 25: val_loss did not improve from 0.09232\n",
      "85/85 [==============================] - 2s 20ms/step - loss: 0.0755 - mean_absolute_error: 0.2342 - val_loss: 0.0923 - val_mean_absolute_error: 0.2757\n",
      "Epoch 26/100\n",
      "85/85 [==============================] - ETA: 0s - loss: 0.0755 - mean_absolute_error: 0.2343\n",
      "Epoch 26: val_loss did not improve from 0.09232\n",
      "85/85 [==============================] - 2s 18ms/step - loss: 0.0755 - mean_absolute_error: 0.2343 - val_loss: 0.0924 - val_mean_absolute_error: 0.2736\n",
      "Epoch 27/100\n",
      "84/85 [============================>.] - ETA: 0s - loss: 0.0755 - mean_absolute_error: 0.2341\n",
      "Epoch 27: val_loss did not improve from 0.09232\n",
      "85/85 [==============================] - 2s 21ms/step - loss: 0.0755 - mean_absolute_error: 0.2342 - val_loss: 0.0924 - val_mean_absolute_error: 0.2772\n",
      "Epoch 28/100\n",
      "84/85 [============================>.] - ETA: 0s - loss: 0.0756 - mean_absolute_error: 0.2343\n",
      "Epoch 28: val_loss did not improve from 0.09232\n",
      "85/85 [==============================] - 2s 20ms/step - loss: 0.0755 - mean_absolute_error: 0.2342 - val_loss: 0.0924 - val_mean_absolute_error: 0.2733\n",
      "Epoch 29/100\n",
      "85/85 [==============================] - ETA: 0s - loss: 0.0755 - mean_absolute_error: 0.2342\n",
      "Epoch 29: val_loss did not improve from 0.09232\n",
      "85/85 [==============================] - 2s 18ms/step - loss: 0.0755 - mean_absolute_error: 0.2342 - val_loss: 0.0923 - val_mean_absolute_error: 0.2742\n",
      "Epoch 30/100\n",
      "85/85 [==============================] - ETA: 0s - loss: 0.0755 - mean_absolute_error: 0.2343\n",
      "Epoch 30: val_loss did not improve from 0.09232\n",
      "85/85 [==============================] - 2s 22ms/step - loss: 0.0755 - mean_absolute_error: 0.2343 - val_loss: 0.0923 - val_mean_absolute_error: 0.2749\n",
      "Epoch 31/100\n",
      "68/85 [=======================>......] - ETA: 0s - loss: 0.0749 - mean_absolute_error: 0.2333"
     ]
    },
    {
     "ename": "KeyboardInterrupt",
     "evalue": "",
     "output_type": "error",
     "traceback": [
      "\u001b[0;31m---------------------------------------------------------------------------\u001b[0m",
      "\u001b[0;31mKeyboardInterrupt\u001b[0m                         Traceback (most recent call last)",
      "\u001b[1;32m/app/StockPricePredictions/src/exploratory_data_analysis/chance/python/samples/MachineLearningforAlgorithmicTrading/modified/04_multivariate_timeseries.ipynb Cell 53'\u001b[0m in \u001b[0;36m<module>\u001b[0;34m\u001b[0m\n\u001b[0;32m----> <a href='vscode-notebook-cell://attached-container%2B7b22636f6e7461696e65724e616d65223a222f7374757065666965645f6e65756d616e6e227d/app/StockPricePredictions/src/exploratory_data_analysis/chance/python/samples/MachineLearningforAlgorithmicTrading/modified/04_multivariate_timeseries.ipynb#ch0000056vscode-remote?line=0'>1</a>\u001b[0m result \u001b[39m=\u001b[39m rnn\u001b[39m.\u001b[39;49mfit(X_train,\n\u001b[1;32m      <a href='vscode-notebook-cell://attached-container%2B7b22636f6e7461696e65724e616d65223a222f7374757065666965645f6e65756d616e6e227d/app/StockPricePredictions/src/exploratory_data_analysis/chance/python/samples/MachineLearningforAlgorithmicTrading/modified/04_multivariate_timeseries.ipynb#ch0000056vscode-remote?line=1'>2</a>\u001b[0m                  y_train,\n\u001b[1;32m      <a href='vscode-notebook-cell://attached-container%2B7b22636f6e7461696e65724e616d65223a222f7374757065666965645f6e65756d616e6e227d/app/StockPricePredictions/src/exploratory_data_analysis/chance/python/samples/MachineLearningforAlgorithmicTrading/modified/04_multivariate_timeseries.ipynb#ch0000056vscode-remote?line=2'>3</a>\u001b[0m                  epochs\u001b[39m=\u001b[39;49m\u001b[39m100\u001b[39;49m,\n\u001b[1;32m      <a href='vscode-notebook-cell://attached-container%2B7b22636f6e7461696e65724e616d65223a222f7374757065666965645f6e65756d616e6e227d/app/StockPricePredictions/src/exploratory_data_analysis/chance/python/samples/MachineLearningforAlgorithmicTrading/modified/04_multivariate_timeseries.ipynb#ch0000056vscode-remote?line=3'>4</a>\u001b[0m                  batch_size\u001b[39m=\u001b[39;49m\u001b[39m32\u001b[39;49m,\n\u001b[1;32m      <a href='vscode-notebook-cell://attached-container%2B7b22636f6e7461696e65724e616d65223a222f7374757065666965645f6e65756d616e6e227d/app/StockPricePredictions/src/exploratory_data_analysis/chance/python/samples/MachineLearningforAlgorithmicTrading/modified/04_multivariate_timeseries.ipynb#ch0000056vscode-remote?line=4'>5</a>\u001b[0m                  shuffle\u001b[39m=\u001b[39;49m\u001b[39mTrue\u001b[39;49;00m,\n\u001b[1;32m      <a href='vscode-notebook-cell://attached-container%2B7b22636f6e7461696e65724e616d65223a222f7374757065666965645f6e65756d616e6e227d/app/StockPricePredictions/src/exploratory_data_analysis/chance/python/samples/MachineLearningforAlgorithmicTrading/modified/04_multivariate_timeseries.ipynb#ch0000056vscode-remote?line=5'>6</a>\u001b[0m                  validation_data\u001b[39m=\u001b[39;49m(X_test, y_test),\n\u001b[1;32m      <a href='vscode-notebook-cell://attached-container%2B7b22636f6e7461696e65724e616d65223a222f7374757065666965645f6e65756d616e6e227d/app/StockPricePredictions/src/exploratory_data_analysis/chance/python/samples/MachineLearningforAlgorithmicTrading/modified/04_multivariate_timeseries.ipynb#ch0000056vscode-remote?line=6'>7</a>\u001b[0m                  callbacks\u001b[39m=\u001b[39;49m[early_stopping, checkpointer],\n\u001b[1;32m      <a href='vscode-notebook-cell://attached-container%2B7b22636f6e7461696e65724e616d65223a222f7374757065666965645f6e65756d616e6e227d/app/StockPricePredictions/src/exploratory_data_analysis/chance/python/samples/MachineLearningforAlgorithmicTrading/modified/04_multivariate_timeseries.ipynb#ch0000056vscode-remote?line=7'>8</a>\u001b[0m                  verbose\u001b[39m=\u001b[39;49m\u001b[39m1\u001b[39;49m)\n",
      "File \u001b[0;32m/usr/local/lib/python3.8/dist-packages/keras/utils/traceback_utils.py:64\u001b[0m, in \u001b[0;36mfilter_traceback.<locals>.error_handler\u001b[0;34m(*args, **kwargs)\u001b[0m\n\u001b[1;32m     62\u001b[0m filtered_tb \u001b[39m=\u001b[39m \u001b[39mNone\u001b[39;00m\n\u001b[1;32m     63\u001b[0m \u001b[39mtry\u001b[39;00m:\n\u001b[0;32m---> 64\u001b[0m   \u001b[39mreturn\u001b[39;00m fn(\u001b[39m*\u001b[39;49margs, \u001b[39m*\u001b[39;49m\u001b[39m*\u001b[39;49mkwargs)\n\u001b[1;32m     65\u001b[0m \u001b[39mexcept\u001b[39;00m \u001b[39mException\u001b[39;00m \u001b[39mas\u001b[39;00m e:  \u001b[39m# pylint: disable=broad-except\u001b[39;00m\n\u001b[1;32m     66\u001b[0m   filtered_tb \u001b[39m=\u001b[39m _process_traceback_frames(e\u001b[39m.\u001b[39m__traceback__)\n",
      "File \u001b[0;32m/usr/local/lib/python3.8/dist-packages/keras/engine/training.py:1384\u001b[0m, in \u001b[0;36mModel.fit\u001b[0;34m(self, x, y, batch_size, epochs, verbose, callbacks, validation_split, validation_data, shuffle, class_weight, sample_weight, initial_epoch, steps_per_epoch, validation_steps, validation_batch_size, validation_freq, max_queue_size, workers, use_multiprocessing)\u001b[0m\n\u001b[1;32m   1377\u001b[0m \u001b[39mwith\u001b[39;00m tf\u001b[39m.\u001b[39mprofiler\u001b[39m.\u001b[39mexperimental\u001b[39m.\u001b[39mTrace(\n\u001b[1;32m   1378\u001b[0m     \u001b[39m'\u001b[39m\u001b[39mtrain\u001b[39m\u001b[39m'\u001b[39m,\n\u001b[1;32m   1379\u001b[0m     epoch_num\u001b[39m=\u001b[39mepoch,\n\u001b[1;32m   1380\u001b[0m     step_num\u001b[39m=\u001b[39mstep,\n\u001b[1;32m   1381\u001b[0m     batch_size\u001b[39m=\u001b[39mbatch_size,\n\u001b[1;32m   1382\u001b[0m     _r\u001b[39m=\u001b[39m\u001b[39m1\u001b[39m):\n\u001b[1;32m   1383\u001b[0m   callbacks\u001b[39m.\u001b[39mon_train_batch_begin(step)\n\u001b[0;32m-> 1384\u001b[0m   tmp_logs \u001b[39m=\u001b[39m \u001b[39mself\u001b[39;49m\u001b[39m.\u001b[39;49mtrain_function(iterator)\n\u001b[1;32m   1385\u001b[0m   \u001b[39mif\u001b[39;00m data_handler\u001b[39m.\u001b[39mshould_sync:\n\u001b[1;32m   1386\u001b[0m     context\u001b[39m.\u001b[39masync_wait()\n",
      "File \u001b[0;32m/usr/local/lib/python3.8/dist-packages/tensorflow/python/util/traceback_utils.py:150\u001b[0m, in \u001b[0;36mfilter_traceback.<locals>.error_handler\u001b[0;34m(*args, **kwargs)\u001b[0m\n\u001b[1;32m    148\u001b[0m filtered_tb \u001b[39m=\u001b[39m \u001b[39mNone\u001b[39;00m\n\u001b[1;32m    149\u001b[0m \u001b[39mtry\u001b[39;00m:\n\u001b[0;32m--> 150\u001b[0m   \u001b[39mreturn\u001b[39;00m fn(\u001b[39m*\u001b[39;49margs, \u001b[39m*\u001b[39;49m\u001b[39m*\u001b[39;49mkwargs)\n\u001b[1;32m    151\u001b[0m \u001b[39mexcept\u001b[39;00m \u001b[39mException\u001b[39;00m \u001b[39mas\u001b[39;00m e:\n\u001b[1;32m    152\u001b[0m   filtered_tb \u001b[39m=\u001b[39m _process_traceback_frames(e\u001b[39m.\u001b[39m__traceback__)\n",
      "File \u001b[0;32m/usr/local/lib/python3.8/dist-packages/tensorflow/python/eager/def_function.py:915\u001b[0m, in \u001b[0;36mFunction.__call__\u001b[0;34m(self, *args, **kwds)\u001b[0m\n\u001b[1;32m    912\u001b[0m compiler \u001b[39m=\u001b[39m \u001b[39m\"\u001b[39m\u001b[39mxla\u001b[39m\u001b[39m\"\u001b[39m \u001b[39mif\u001b[39;00m \u001b[39mself\u001b[39m\u001b[39m.\u001b[39m_jit_compile \u001b[39melse\u001b[39;00m \u001b[39m\"\u001b[39m\u001b[39mnonXla\u001b[39m\u001b[39m\"\u001b[39m\n\u001b[1;32m    914\u001b[0m \u001b[39mwith\u001b[39;00m OptionalXlaContext(\u001b[39mself\u001b[39m\u001b[39m.\u001b[39m_jit_compile):\n\u001b[0;32m--> 915\u001b[0m   result \u001b[39m=\u001b[39m \u001b[39mself\u001b[39;49m\u001b[39m.\u001b[39;49m_call(\u001b[39m*\u001b[39;49margs, \u001b[39m*\u001b[39;49m\u001b[39m*\u001b[39;49mkwds)\n\u001b[1;32m    917\u001b[0m new_tracing_count \u001b[39m=\u001b[39m \u001b[39mself\u001b[39m\u001b[39m.\u001b[39mexperimental_get_tracing_count()\n\u001b[1;32m    918\u001b[0m without_tracing \u001b[39m=\u001b[39m (tracing_count \u001b[39m==\u001b[39m new_tracing_count)\n",
      "File \u001b[0;32m/usr/local/lib/python3.8/dist-packages/tensorflow/python/eager/def_function.py:947\u001b[0m, in \u001b[0;36mFunction._call\u001b[0;34m(self, *args, **kwds)\u001b[0m\n\u001b[1;32m    944\u001b[0m   \u001b[39mself\u001b[39m\u001b[39m.\u001b[39m_lock\u001b[39m.\u001b[39mrelease()\n\u001b[1;32m    945\u001b[0m   \u001b[39m# In this case we have created variables on the first call, so we run the\u001b[39;00m\n\u001b[1;32m    946\u001b[0m   \u001b[39m# defunned version which is guaranteed to never create variables.\u001b[39;00m\n\u001b[0;32m--> 947\u001b[0m   \u001b[39mreturn\u001b[39;00m \u001b[39mself\u001b[39;49m\u001b[39m.\u001b[39;49m_stateless_fn(\u001b[39m*\u001b[39;49margs, \u001b[39m*\u001b[39;49m\u001b[39m*\u001b[39;49mkwds)  \u001b[39m# pylint: disable=not-callable\u001b[39;00m\n\u001b[1;32m    948\u001b[0m \u001b[39melif\u001b[39;00m \u001b[39mself\u001b[39m\u001b[39m.\u001b[39m_stateful_fn \u001b[39mis\u001b[39;00m \u001b[39mnot\u001b[39;00m \u001b[39mNone\u001b[39;00m:\n\u001b[1;32m    949\u001b[0m   \u001b[39m# Release the lock early so that multiple threads can perform the call\u001b[39;00m\n\u001b[1;32m    950\u001b[0m   \u001b[39m# in parallel.\u001b[39;00m\n\u001b[1;32m    951\u001b[0m   \u001b[39mself\u001b[39m\u001b[39m.\u001b[39m_lock\u001b[39m.\u001b[39mrelease()\n",
      "File \u001b[0;32m/usr/local/lib/python3.8/dist-packages/tensorflow/python/eager/function.py:2956\u001b[0m, in \u001b[0;36mFunction.__call__\u001b[0;34m(self, *args, **kwargs)\u001b[0m\n\u001b[1;32m   2953\u001b[0m \u001b[39mwith\u001b[39;00m \u001b[39mself\u001b[39m\u001b[39m.\u001b[39m_lock:\n\u001b[1;32m   2954\u001b[0m   (graph_function,\n\u001b[1;32m   2955\u001b[0m    filtered_flat_args) \u001b[39m=\u001b[39m \u001b[39mself\u001b[39m\u001b[39m.\u001b[39m_maybe_define_function(args, kwargs)\n\u001b[0;32m-> 2956\u001b[0m \u001b[39mreturn\u001b[39;00m graph_function\u001b[39m.\u001b[39;49m_call_flat(\n\u001b[1;32m   2957\u001b[0m     filtered_flat_args, captured_inputs\u001b[39m=\u001b[39;49mgraph_function\u001b[39m.\u001b[39;49mcaptured_inputs)\n",
      "File \u001b[0;32m/usr/local/lib/python3.8/dist-packages/tensorflow/python/eager/function.py:1853\u001b[0m, in \u001b[0;36mConcreteFunction._call_flat\u001b[0;34m(self, args, captured_inputs, cancellation_manager)\u001b[0m\n\u001b[1;32m   1849\u001b[0m possible_gradient_type \u001b[39m=\u001b[39m gradients_util\u001b[39m.\u001b[39mPossibleTapeGradientTypes(args)\n\u001b[1;32m   1850\u001b[0m \u001b[39mif\u001b[39;00m (possible_gradient_type \u001b[39m==\u001b[39m gradients_util\u001b[39m.\u001b[39mPOSSIBLE_GRADIENT_TYPES_NONE\n\u001b[1;32m   1851\u001b[0m     \u001b[39mand\u001b[39;00m executing_eagerly):\n\u001b[1;32m   1852\u001b[0m   \u001b[39m# No tape is watching; skip to running the function.\u001b[39;00m\n\u001b[0;32m-> 1853\u001b[0m   \u001b[39mreturn\u001b[39;00m \u001b[39mself\u001b[39m\u001b[39m.\u001b[39m_build_call_outputs(\u001b[39mself\u001b[39;49m\u001b[39m.\u001b[39;49m_inference_function\u001b[39m.\u001b[39;49mcall(\n\u001b[1;32m   1854\u001b[0m       ctx, args, cancellation_manager\u001b[39m=\u001b[39;49mcancellation_manager))\n\u001b[1;32m   1855\u001b[0m forward_backward \u001b[39m=\u001b[39m \u001b[39mself\u001b[39m\u001b[39m.\u001b[39m_select_forward_and_backward_functions(\n\u001b[1;32m   1856\u001b[0m     args,\n\u001b[1;32m   1857\u001b[0m     possible_gradient_type,\n\u001b[1;32m   1858\u001b[0m     executing_eagerly)\n\u001b[1;32m   1859\u001b[0m forward_function, args_with_tangents \u001b[39m=\u001b[39m forward_backward\u001b[39m.\u001b[39mforward()\n",
      "File \u001b[0;32m/usr/local/lib/python3.8/dist-packages/tensorflow/python/eager/function.py:499\u001b[0m, in \u001b[0;36m_EagerDefinedFunction.call\u001b[0;34m(self, ctx, args, cancellation_manager)\u001b[0m\n\u001b[1;32m    497\u001b[0m \u001b[39mwith\u001b[39;00m _InterpolateFunctionError(\u001b[39mself\u001b[39m):\n\u001b[1;32m    498\u001b[0m   \u001b[39mif\u001b[39;00m cancellation_manager \u001b[39mis\u001b[39;00m \u001b[39mNone\u001b[39;00m:\n\u001b[0;32m--> 499\u001b[0m     outputs \u001b[39m=\u001b[39m execute\u001b[39m.\u001b[39;49mexecute(\n\u001b[1;32m    500\u001b[0m         \u001b[39mstr\u001b[39;49m(\u001b[39mself\u001b[39;49m\u001b[39m.\u001b[39;49msignature\u001b[39m.\u001b[39;49mname),\n\u001b[1;32m    501\u001b[0m         num_outputs\u001b[39m=\u001b[39;49m\u001b[39mself\u001b[39;49m\u001b[39m.\u001b[39;49m_num_outputs,\n\u001b[1;32m    502\u001b[0m         inputs\u001b[39m=\u001b[39;49margs,\n\u001b[1;32m    503\u001b[0m         attrs\u001b[39m=\u001b[39;49mattrs,\n\u001b[1;32m    504\u001b[0m         ctx\u001b[39m=\u001b[39;49mctx)\n\u001b[1;32m    505\u001b[0m   \u001b[39melse\u001b[39;00m:\n\u001b[1;32m    506\u001b[0m     outputs \u001b[39m=\u001b[39m execute\u001b[39m.\u001b[39mexecute_with_cancellation(\n\u001b[1;32m    507\u001b[0m         \u001b[39mstr\u001b[39m(\u001b[39mself\u001b[39m\u001b[39m.\u001b[39msignature\u001b[39m.\u001b[39mname),\n\u001b[1;32m    508\u001b[0m         num_outputs\u001b[39m=\u001b[39m\u001b[39mself\u001b[39m\u001b[39m.\u001b[39m_num_outputs,\n\u001b[0;32m   (...)\u001b[0m\n\u001b[1;32m    511\u001b[0m         ctx\u001b[39m=\u001b[39mctx,\n\u001b[1;32m    512\u001b[0m         cancellation_manager\u001b[39m=\u001b[39mcancellation_manager)\n",
      "File \u001b[0;32m/usr/local/lib/python3.8/dist-packages/tensorflow/python/eager/execute.py:54\u001b[0m, in \u001b[0;36mquick_execute\u001b[0;34m(op_name, num_outputs, inputs, attrs, ctx, name)\u001b[0m\n\u001b[1;32m     52\u001b[0m \u001b[39mtry\u001b[39;00m:\n\u001b[1;32m     53\u001b[0m   ctx\u001b[39m.\u001b[39mensure_initialized()\n\u001b[0;32m---> 54\u001b[0m   tensors \u001b[39m=\u001b[39m pywrap_tfe\u001b[39m.\u001b[39;49mTFE_Py_Execute(ctx\u001b[39m.\u001b[39;49m_handle, device_name, op_name,\n\u001b[1;32m     55\u001b[0m                                       inputs, attrs, num_outputs)\n\u001b[1;32m     56\u001b[0m \u001b[39mexcept\u001b[39;00m core\u001b[39m.\u001b[39m_NotOkStatusException \u001b[39mas\u001b[39;00m e:\n\u001b[1;32m     57\u001b[0m   \u001b[39mif\u001b[39;00m name \u001b[39mis\u001b[39;00m \u001b[39mnot\u001b[39;00m \u001b[39mNone\u001b[39;00m:\n",
      "\u001b[0;31mKeyboardInterrupt\u001b[0m: "
     ]
    }
   ],
   "source": [
    "result = rnn.fit(X_train,\n",
    "                 y_train,\n",
    "                 epochs=100,\n",
    "                 batch_size=32,\n",
    "                 shuffle=True,\n",
    "                 validation_data=(X_test, y_test),\n",
    "                 callbacks=[early_stopping, checkpointer],\n",
    "                 verbose=1)"
   ]
  },
  {
   "cell_type": "markdown",
   "metadata": {},
   "source": [
    "## Evaluate the Results"
   ]
  },
  {
   "cell_type": "markdown",
   "metadata": {},
   "source": [
    "Training stops early after 22 epochs, yielding a test MAE of 1.71, which compares favorably to the test MAE for the VAR model of 1.91."
   ]
  },
  {
   "cell_type": "markdown",
   "metadata": {},
   "source": [
    "However, the two results are not fully comparable because the RNN model produces 24 one-step-ahead forecasts, whereas the VAR model uses its own predictions as input for its out-of-sample forecast. You may want to tweak the VAR setup to obtain comparable forecasts and compare their performance:"
   ]
  },
  {
   "cell_type": "code",
   "execution_count": null,
   "metadata": {
    "ExecuteTime": {
     "end_time": "2021-02-23T06:48:31.068422Z",
     "start_time": "2021-02-23T06:48:30.875040Z"
    },
    "vscode": {
     "languageId": "python"
    }
   },
   "outputs": [
    {
     "data": {
      "image/png": "[encoded data removed]",
      "text/plain": [
       "<Figure size 432x288 with 1 Axes>"
      ]
     },
     "metadata": {},
     "output_type": "display_data"
    }
   ],
   "source": [
    "pd.DataFrame(result.history).plot();"
   ]
  },
  {
   "cell_type": "code",
   "execution_count": null,
   "metadata": {
    "ExecuteTime": {
     "end_time": "2021-02-23T06:48:31.336932Z",
     "start_time": "2021-02-23T06:48:31.070644Z"
    },
    "vscode": {
     "languageId": "python"
    }
   },
   "outputs": [],
   "source": [
    "train_predict_scaled = rnn.predict(X_train).squeeze()\n",
    "\n",
    "test_predict_scaled = rnn.predict(X_test).squeeze()"
   ]
  },
  {
   "cell_type": "code",
   "execution_count": null,
   "metadata": {
    "vscode": {
     "languageId": "python"
    }
   },
   "outputs": [
    {
     "name": "stdout",
     "output_type": "stream",
     "text": [
      "2700\n",
      "301\n"
     ]
    }
   ],
   "source": [
    "print(len(train_predict_scaled))\n",
    "print(len(test_predict_scaled))"
   ]
  },
  {
   "cell_type": "code",
   "execution_count": null,
   "metadata": {
    "vscode": {
     "languageId": "python"
    }
   },
   "outputs": [
    {
     "data": {
      "text/plain": [
       "'Train MAE: 0.0245 | Test MAE: 0.0111'"
      ]
     },
     "execution_count": 99,
     "metadata": {},
     "output_type": "execute_result"
    }
   ],
   "source": [
    "train_mae = mean_absolute_error(df_transformed[:train_size]['5. adjusted close'], train_predict_scaled)\n",
    "test_mae = mean_absolute_error(df_transformed[train_size+window_size:]['5. adjusted close'], test_predict_scaled)\n",
    "f'Train MAE: {train_mae:.4f} | Test MAE: {test_mae:.4f}'"
   ]
  },
  {
   "cell_type": "code",
   "execution_count": 101,
   "metadata": {
    "vscode": {
     "languageId": "python"
    }
   },
   "outputs": [],
   "source": [
    "_ = np.array(train_predict_scaled)\n",
    "_ = np.c_[_, np.zeros(_.shape[0]), np.zeros(_.shape[0]), np.zeros(_.shape[0]), np.zeros(_.shape[0]), np.zeros(_.shape[0]), np.zeros(_.shape[0]), np.zeros(_.shape[0])]"
   ]
  },
  {
   "cell_type": "code",
   "execution_count": 102,
   "metadata": {
    "vscode": {
     "languageId": "python"
    }
   },
   "outputs": [
    {
     "ename": "NameError",
     "evalue": "name 'scaler' is not defined",
     "output_type": "error",
     "traceback": [
      "\u001b[0;31m---------------------------------------------------------------------------\u001b[0m",
      "\u001b[0;31mNameError\u001b[0m                                 Traceback (most recent call last)",
      "\u001b[1;32m/app/StockPricePredictions/src/exploratory_data_analysis/chance/python/samples/MachineLearningforAlgorithmicTrading/modified/04_multivariate_timeseries.ipynb Cell 67'\u001b[0m in \u001b[0;36m<module>\u001b[0;34m\u001b[0m\n\u001b[0;32m----> <a href='vscode-notebook-cell://attached-container%2B7b22636f6e7461696e65724e616d65223a222f7374757065666965645f6e65756d616e6e227d/app/StockPricePredictions/src/exploratory_data_analysis/chance/python/samples/MachineLearningforAlgorithmicTrading/modified/04_multivariate_timeseries.ipynb#ch0000066vscode-remote?line=0'>1</a>\u001b[0m _train_predict_scaled \u001b[39m=\u001b[39m scaler\u001b[39m.\u001b[39minverse_transform(_)\n",
      "\u001b[0;31mNameError\u001b[0m: name 'scaler' is not defined"
     ]
    }
   ],
   "source": [
    "_train_predict_scaled = scaler.inverse_transform(_)"
   ]
  }
 ],
 "metadata": {
  "kernelspec": {
   "display_name": "Python 3",
   "language": "python",
   "name": "python3"
  },
  "toc": {
   "base_numbering": 1,
   "nav_menu": {},
   "number_sections": true,
   "sideBar": true,
   "skip_h1_title": true,
   "title_cell": "Table of Contents",
   "title_sidebar": "Contents",
   "toc_cell": false,
   "toc_position": {},
   "toc_section_display": true,
   "toc_window_display": false
  }
 },
 "nbformat": 4,
 "nbformat_minor": 4
}
