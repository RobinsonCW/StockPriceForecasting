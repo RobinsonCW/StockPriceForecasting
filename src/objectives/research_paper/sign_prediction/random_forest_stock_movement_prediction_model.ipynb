{
 "cells": [
  {
   "cell_type": "code",
   "execution_count": 269,
   "metadata": {},
   "outputs": [],
   "source": [
    "%matplotlib inline\n",
    "\n",
    "\n",
    "# standard library\n",
    "import os\n",
    "import time\n",
    "from pathlib import Path\n",
    "\n",
    "# data munging\n",
    "import pandas as pd\n",
    "import numpy as np\n",
    "\n",
    "# model building\n",
    "from sklearn.ensemble import RandomForestClassifier\n",
    "\n",
    "# plotting\n",
    "import matplotlib as mpl\n",
    "import matplotlib.pyplot as plt\n",
    "import seaborn as sns\n",
    "\n",
    "mpl.rcParams['figure.figsize'] = (8, 6)\n",
    "mpl.rcParams['axes.grid'] = False\n",
    "\n",
    "np.random.seed(42)\n",
    "\n",
    "plt.style.use(style=\"seaborn\")\n",
    "# plt.rcParams['figure.dpi'] = 400\n",
    "sns.set_style('whitegrid')\n",
    "\n"
   ]
  },
  {
   "cell_type": "code",
   "execution_count": 270,
   "metadata": {},
   "outputs": [
    {
     "name": "stdout",
     "output_type": "stream",
     "text": [
      "Thu Jul 14 05:19:04 2022       \n",
      "+-----------------------------------------------------------------------------+\n",
      "| NVIDIA-SMI 515.48.07    Driver Version: 516.40       CUDA Version: 11.7     |\n",
      "|-------------------------------+----------------------+----------------------+\n",
      "| GPU  Name        Persistence-M| Bus-Id        Disp.A | Volatile Uncorr. ECC |\n",
      "| Fan  Temp  Perf  Pwr:Usage/Cap|         Memory-Usage | GPU-Util  Compute M. |\n",
      "|                               |                      |               MIG M. |\n",
      "|===============================+======================+======================|\n",
      "|   0  NVIDIA GeForce ...  On   | 00000000:01:00.0  On |                  N/A |\n",
      "|  0%   60C    P2    52W / 200W |   2847MiB /  4096MiB |      1%      Default |\n",
      "|                               |                      |                  N/A |\n",
      "+-------------------------------+----------------------+----------------------+\n",
      "                                                                               \n",
      "+-----------------------------------------------------------------------------+\n",
      "| Processes:                                                                  |\n",
      "|  GPU   GI   CI        PID   Type   Process name                  GPU Memory |\n",
      "|        ID   ID                                                   Usage      |\n",
      "|=============================================================================|\n",
      "|    0   N/A  N/A     10151      C   /python3.8                      N/A      |\n",
      "+-----------------------------------------------------------------------------+\n"
     ]
    }
   ],
   "source": [
    "!nvidia-smi"
   ]
  },
  {
   "cell_type": "code",
   "execution_count": 271,
   "metadata": {},
   "outputs": [
    {
     "name": "stdout",
     "output_type": "stream",
     "text": [
      "Ticker: AMZN\n",
      "Source: BENZINGA\n",
      "Model Type: RANDOM_FOREST\n",
      "Include Logged Returns: True\n"
     ]
    }
   ],
   "source": [
    "################################################\n",
    "\n",
    "ticker_list = [\"aapl\", \"amzn\", \"msft\"]\n",
    "\n",
    "ticker = ticker_list[1]\n",
    "\n",
    "ticker_upper = ticker.upper()\n",
    "\n",
    "print(\"Ticker:\", ticker_upper)\n",
    "\n",
    "################################################\n",
    "\n",
    "source_list = [\"BENZINGA\", \"TWINT\"]\n",
    "\n",
    "source = source_list[0]\n",
    "\n",
    "print(\"Source:\", source)\n",
    "\n",
    "################################################\n",
    "\n",
    "model_type_list = [\"random_forest\"]\n",
    "\n",
    "model_type = model_type_list[0]\n",
    "\n",
    "print(\"Model Type:\", model_type.upper())\n",
    "\n",
    "################################################\n",
    "\n",
    "include_logged_returns = True\n",
    "\n",
    "print(\"Include Logged Returns:\", include_logged_returns)\n",
    "\n",
    "################################################\n",
    "\n"
   ]
  },
  {
   "cell_type": "code",
   "execution_count": 272,
   "metadata": {},
   "outputs": [],
   "source": [
    "csv_path = f\"/app/StockPricePredictions/data/alphavantage/time_series_daily_adjusted/{ticker_upper}/{ticker_upper}_WITH_{source}_FINBERT_SA.csv\""
   ]
  },
  {
   "cell_type": "code",
   "execution_count": 273,
   "metadata": {},
   "outputs": [],
   "source": [
    "df = pd.read_csv(csv_path)\n",
    "df.sort_values(by=[\"date\"], ascending=True, inplace=True)\n",
    "df.reset_index(drop=True, inplace=True)\n",
    "\n",
    "date_time = pd.to_datetime(df.pop('date'))\n",
    "\n",
    "df.index = date_time"
   ]
  },
  {
   "cell_type": "code",
   "execution_count": 274,
   "metadata": {},
   "outputs": [
    {
     "name": "stdout",
     "output_type": "stream",
     "text": [
      "<class 'pandas.core.frame.DataFrame'>\n",
      "DatetimeIndex: 3064 entries, 2010-01-04 to 2022-03-04\n",
      "Data columns (total 16 columns):\n",
      " #   Column                Non-Null Count  Dtype  \n",
      "---  ------                --------------  -----  \n",
      " 0   1. open               3064 non-null   float64\n",
      " 1   2. high               3064 non-null   float64\n",
      " 2   3. low                3064 non-null   float64\n",
      " 3   4. close              3064 non-null   float64\n",
      " 4   5. adjusted close     3064 non-null   float64\n",
      " 5   6. volume             3064 non-null   float64\n",
      " 6   7. dividend amount    3064 non-null   float64\n",
      " 7   8. split coefficient  3064 non-null   float64\n",
      " 8   date_time             3064 non-null   object \n",
      " 9   day_of_week           3064 non-null   int64  \n",
      " 10  return                3064 non-null   float64\n",
      " 11  increase              3064 non-null   float64\n",
      " 12  log_return            3064 non-null   float64\n",
      " 13  negative              3064 non-null   float64\n",
      " 14  nuetral               3064 non-null   float64\n",
      " 15  positive              3064 non-null   float64\n",
      "dtypes: float64(14), int64(1), object(1)\n",
      "memory usage: 406.9+ KB\n"
     ]
    }
   ],
   "source": [
    "df.info()"
   ]
  },
  {
   "cell_type": "code",
   "execution_count": 275,
   "metadata": {},
   "outputs": [
    {
     "data": {
      "text/html": [
       "<div>\n",
       "<style scoped>\n",
       "    .dataframe tbody tr th:only-of-type {\n",
       "        vertical-align: middle;\n",
       "    }\n",
       "\n",
       "    .dataframe tbody tr th {\n",
       "        vertical-align: top;\n",
       "    }\n",
       "\n",
       "    .dataframe thead th {\n",
       "        text-align: right;\n",
       "    }\n",
       "</style>\n",
       "<table border=\"1\" class=\"dataframe\">\n",
       "  <thead>\n",
       "    <tr style=\"text-align: right;\">\n",
       "      <th></th>\n",
       "      <th>1. open</th>\n",
       "      <th>2. high</th>\n",
       "      <th>3. low</th>\n",
       "      <th>4. close</th>\n",
       "      <th>5. adjusted close</th>\n",
       "      <th>6. volume</th>\n",
       "      <th>7. dividend amount</th>\n",
       "      <th>8. split coefficient</th>\n",
       "      <th>date_time</th>\n",
       "      <th>day_of_week</th>\n",
       "      <th>return</th>\n",
       "      <th>increase</th>\n",
       "      <th>log_return</th>\n",
       "      <th>negative</th>\n",
       "      <th>nuetral</th>\n",
       "      <th>positive</th>\n",
       "    </tr>\n",
       "    <tr>\n",
       "      <th>date</th>\n",
       "      <th></th>\n",
       "      <th></th>\n",
       "      <th></th>\n",
       "      <th></th>\n",
       "      <th></th>\n",
       "      <th></th>\n",
       "      <th></th>\n",
       "      <th></th>\n",
       "      <th></th>\n",
       "      <th></th>\n",
       "      <th></th>\n",
       "      <th></th>\n",
       "      <th></th>\n",
       "      <th></th>\n",
       "      <th></th>\n",
       "      <th></th>\n",
       "    </tr>\n",
       "  </thead>\n",
       "  <tbody>\n",
       "    <tr>\n",
       "      <th>2010-01-04</th>\n",
       "      <td>136.25</td>\n",
       "      <td>136.610</td>\n",
       "      <td>133.14</td>\n",
       "      <td>133.90</td>\n",
       "      <td>133.90</td>\n",
       "      <td>7599900.0</td>\n",
       "      <td>0.0</td>\n",
       "      <td>1.0</td>\n",
       "      <td>2010-01-04</td>\n",
       "      <td>0</td>\n",
       "      <td>0.000000</td>\n",
       "      <td>0.0</td>\n",
       "      <td>0.000000</td>\n",
       "      <td>0.0</td>\n",
       "      <td>0.0</td>\n",
       "      <td>0.0</td>\n",
       "    </tr>\n",
       "    <tr>\n",
       "      <th>2010-01-05</th>\n",
       "      <td>133.43</td>\n",
       "      <td>135.479</td>\n",
       "      <td>131.81</td>\n",
       "      <td>134.69</td>\n",
       "      <td>134.69</td>\n",
       "      <td>8851900.0</td>\n",
       "      <td>0.0</td>\n",
       "      <td>1.0</td>\n",
       "      <td>2010-01-05</td>\n",
       "      <td>1</td>\n",
       "      <td>0.005900</td>\n",
       "      <td>1.0</td>\n",
       "      <td>0.005883</td>\n",
       "      <td>0.0</td>\n",
       "      <td>0.0</td>\n",
       "      <td>0.0</td>\n",
       "    </tr>\n",
       "    <tr>\n",
       "      <th>2010-01-06</th>\n",
       "      <td>134.60</td>\n",
       "      <td>134.730</td>\n",
       "      <td>131.65</td>\n",
       "      <td>132.25</td>\n",
       "      <td>132.25</td>\n",
       "      <td>7178800.0</td>\n",
       "      <td>0.0</td>\n",
       "      <td>1.0</td>\n",
       "      <td>2010-01-06</td>\n",
       "      <td>2</td>\n",
       "      <td>-0.018116</td>\n",
       "      <td>0.0</td>\n",
       "      <td>-0.018282</td>\n",
       "      <td>0.0</td>\n",
       "      <td>0.0</td>\n",
       "      <td>0.0</td>\n",
       "    </tr>\n",
       "    <tr>\n",
       "      <th>2010-01-07</th>\n",
       "      <td>132.01</td>\n",
       "      <td>132.320</td>\n",
       "      <td>128.80</td>\n",
       "      <td>130.00</td>\n",
       "      <td>130.00</td>\n",
       "      <td>11030200.0</td>\n",
       "      <td>0.0</td>\n",
       "      <td>1.0</td>\n",
       "      <td>2010-01-07</td>\n",
       "      <td>3</td>\n",
       "      <td>-0.017013</td>\n",
       "      <td>0.0</td>\n",
       "      <td>-0.017160</td>\n",
       "      <td>0.0</td>\n",
       "      <td>0.0</td>\n",
       "      <td>0.0</td>\n",
       "    </tr>\n",
       "    <tr>\n",
       "      <th>2010-01-08</th>\n",
       "      <td>130.56</td>\n",
       "      <td>133.680</td>\n",
       "      <td>129.03</td>\n",
       "      <td>133.52</td>\n",
       "      <td>133.52</td>\n",
       "      <td>9830500.0</td>\n",
       "      <td>0.0</td>\n",
       "      <td>1.0</td>\n",
       "      <td>2010-01-08</td>\n",
       "      <td>4</td>\n",
       "      <td>0.027077</td>\n",
       "      <td>1.0</td>\n",
       "      <td>0.026717</td>\n",
       "      <td>0.0</td>\n",
       "      <td>0.0</td>\n",
       "      <td>0.0</td>\n",
       "    </tr>\n",
       "  </tbody>\n",
       "</table>\n",
       "</div>"
      ],
      "text/plain": [
       "            1. open  2. high  3. low  4. close  5. adjusted close   6. volume  \\\n",
       "date                                                                            \n",
       "2010-01-04   136.25  136.610  133.14    133.90             133.90   7599900.0   \n",
       "2010-01-05   133.43  135.479  131.81    134.69             134.69   8851900.0   \n",
       "2010-01-06   134.60  134.730  131.65    132.25             132.25   7178800.0   \n",
       "2010-01-07   132.01  132.320  128.80    130.00             130.00  11030200.0   \n",
       "2010-01-08   130.56  133.680  129.03    133.52             133.52   9830500.0   \n",
       "\n",
       "            7. dividend amount  8. split coefficient   date_time  day_of_week  \\\n",
       "date                                                                            \n",
       "2010-01-04                 0.0                   1.0  2010-01-04            0   \n",
       "2010-01-05                 0.0                   1.0  2010-01-05            1   \n",
       "2010-01-06                 0.0                   1.0  2010-01-06            2   \n",
       "2010-01-07                 0.0                   1.0  2010-01-07            3   \n",
       "2010-01-08                 0.0                   1.0  2010-01-08            4   \n",
       "\n",
       "              return  increase  log_return  negative  nuetral  positive  \n",
       "date                                                                     \n",
       "2010-01-04  0.000000       0.0    0.000000       0.0      0.0       0.0  \n",
       "2010-01-05  0.005900       1.0    0.005883       0.0      0.0       0.0  \n",
       "2010-01-06 -0.018116       0.0   -0.018282       0.0      0.0       0.0  \n",
       "2010-01-07 -0.017013       0.0   -0.017160       0.0      0.0       0.0  \n",
       "2010-01-08  0.027077       1.0    0.026717       0.0      0.0       0.0  "
      ]
     },
     "execution_count": 275,
     "metadata": {},
     "output_type": "execute_result"
    }
   ],
   "source": [
    "df.head()"
   ]
  },
  {
   "cell_type": "code",
   "execution_count": 276,
   "metadata": {},
   "outputs": [
    {
     "data": {
      "text/html": [
       "<div>\n",
       "<style scoped>\n",
       "    .dataframe tbody tr th:only-of-type {\n",
       "        vertical-align: middle;\n",
       "    }\n",
       "\n",
       "    .dataframe tbody tr th {\n",
       "        vertical-align: top;\n",
       "    }\n",
       "\n",
       "    .dataframe thead th {\n",
       "        text-align: right;\n",
       "    }\n",
       "</style>\n",
       "<table border=\"1\" class=\"dataframe\">\n",
       "  <thead>\n",
       "    <tr style=\"text-align: right;\">\n",
       "      <th></th>\n",
       "      <th>1. open</th>\n",
       "      <th>2. high</th>\n",
       "      <th>3. low</th>\n",
       "      <th>4. close</th>\n",
       "      <th>5. adjusted close</th>\n",
       "      <th>6. volume</th>\n",
       "      <th>7. dividend amount</th>\n",
       "      <th>8. split coefficient</th>\n",
       "      <th>date_time</th>\n",
       "      <th>day_of_week</th>\n",
       "      <th>return</th>\n",
       "      <th>increase</th>\n",
       "      <th>log_return</th>\n",
       "      <th>negative</th>\n",
       "      <th>nuetral</th>\n",
       "      <th>positive</th>\n",
       "    </tr>\n",
       "    <tr>\n",
       "      <th>date</th>\n",
       "      <th></th>\n",
       "      <th></th>\n",
       "      <th></th>\n",
       "      <th></th>\n",
       "      <th></th>\n",
       "      <th></th>\n",
       "      <th></th>\n",
       "      <th></th>\n",
       "      <th></th>\n",
       "      <th></th>\n",
       "      <th></th>\n",
       "      <th></th>\n",
       "      <th></th>\n",
       "      <th></th>\n",
       "      <th></th>\n",
       "      <th></th>\n",
       "    </tr>\n",
       "  </thead>\n",
       "  <tbody>\n",
       "    <tr>\n",
       "      <th>2022-02-28</th>\n",
       "      <td>3048.50</td>\n",
       "      <td>3089.00</td>\n",
       "      <td>3017.00</td>\n",
       "      <td>3071.26</td>\n",
       "      <td>3071.26</td>\n",
       "      <td>2884171.0</td>\n",
       "      <td>0.0</td>\n",
       "      <td>1.0</td>\n",
       "      <td>2022-02-28</td>\n",
       "      <td>0</td>\n",
       "      <td>-0.001466</td>\n",
       "      <td>0.0</td>\n",
       "      <td>-0.001467</td>\n",
       "      <td>0.434618</td>\n",
       "      <td>0.451638</td>\n",
       "      <td>0.113744</td>\n",
       "    </tr>\n",
       "    <tr>\n",
       "      <th>2022-03-01</th>\n",
       "      <td>3054.65</td>\n",
       "      <td>3081.98</td>\n",
       "      <td>2999.54</td>\n",
       "      <td>3022.84</td>\n",
       "      <td>3022.84</td>\n",
       "      <td>2243679.0</td>\n",
       "      <td>0.0</td>\n",
       "      <td>1.0</td>\n",
       "      <td>2022-03-01</td>\n",
       "      <td>1</td>\n",
       "      <td>-0.015766</td>\n",
       "      <td>0.0</td>\n",
       "      <td>-0.015891</td>\n",
       "      <td>0.600509</td>\n",
       "      <td>0.265521</td>\n",
       "      <td>0.133970</td>\n",
       "    </tr>\n",
       "    <tr>\n",
       "      <th>2022-03-02</th>\n",
       "      <td>3016.98</td>\n",
       "      <td>3059.99</td>\n",
       "      <td>2975.00</td>\n",
       "      <td>3041.05</td>\n",
       "      <td>3041.05</td>\n",
       "      <td>2366736.0</td>\n",
       "      <td>0.0</td>\n",
       "      <td>1.0</td>\n",
       "      <td>2022-03-02</td>\n",
       "      <td>2</td>\n",
       "      <td>0.006024</td>\n",
       "      <td>1.0</td>\n",
       "      <td>0.006006</td>\n",
       "      <td>0.368508</td>\n",
       "      <td>0.540080</td>\n",
       "      <td>0.091412</td>\n",
       "    </tr>\n",
       "    <tr>\n",
       "      <th>2022-03-03</th>\n",
       "      <td>3070.63</td>\n",
       "      <td>3078.58</td>\n",
       "      <td>2937.12</td>\n",
       "      <td>2957.97</td>\n",
       "      <td>2957.97</td>\n",
       "      <td>3259860.0</td>\n",
       "      <td>0.0</td>\n",
       "      <td>1.0</td>\n",
       "      <td>2022-03-03</td>\n",
       "      <td>3</td>\n",
       "      <td>-0.027320</td>\n",
       "      <td>0.0</td>\n",
       "      <td>-0.027700</td>\n",
       "      <td>0.133283</td>\n",
       "      <td>0.630151</td>\n",
       "      <td>0.236567</td>\n",
       "    </tr>\n",
       "    <tr>\n",
       "      <th>2022-03-04</th>\n",
       "      <td>2943.18</td>\n",
       "      <td>2957.00</td>\n",
       "      <td>2876.14</td>\n",
       "      <td>2912.82</td>\n",
       "      <td>2912.82</td>\n",
       "      <td>3049156.0</td>\n",
       "      <td>0.0</td>\n",
       "      <td>1.0</td>\n",
       "      <td>2022-03-04</td>\n",
       "      <td>4</td>\n",
       "      <td>-0.015264</td>\n",
       "      <td>0.0</td>\n",
       "      <td>-0.015382</td>\n",
       "      <td>0.511864</td>\n",
       "      <td>0.461260</td>\n",
       "      <td>0.026875</td>\n",
       "    </tr>\n",
       "  </tbody>\n",
       "</table>\n",
       "</div>"
      ],
      "text/plain": [
       "            1. open  2. high   3. low  4. close  5. adjusted close  6. volume  \\\n",
       "date                                                                            \n",
       "2022-02-28  3048.50  3089.00  3017.00   3071.26            3071.26  2884171.0   \n",
       "2022-03-01  3054.65  3081.98  2999.54   3022.84            3022.84  2243679.0   \n",
       "2022-03-02  3016.98  3059.99  2975.00   3041.05            3041.05  2366736.0   \n",
       "2022-03-03  3070.63  3078.58  2937.12   2957.97            2957.97  3259860.0   \n",
       "2022-03-04  2943.18  2957.00  2876.14   2912.82            2912.82  3049156.0   \n",
       "\n",
       "            7. dividend amount  8. split coefficient   date_time  day_of_week  \\\n",
       "date                                                                            \n",
       "2022-02-28                 0.0                   1.0  2022-02-28            0   \n",
       "2022-03-01                 0.0                   1.0  2022-03-01            1   \n",
       "2022-03-02                 0.0                   1.0  2022-03-02            2   \n",
       "2022-03-03                 0.0                   1.0  2022-03-03            3   \n",
       "2022-03-04                 0.0                   1.0  2022-03-04            4   \n",
       "\n",
       "              return  increase  log_return  negative   nuetral  positive  \n",
       "date                                                                      \n",
       "2022-02-28 -0.001466       0.0   -0.001467  0.434618  0.451638  0.113744  \n",
       "2022-03-01 -0.015766       0.0   -0.015891  0.600509  0.265521  0.133970  \n",
       "2022-03-02  0.006024       1.0    0.006006  0.368508  0.540080  0.091412  \n",
       "2022-03-03 -0.027320       0.0   -0.027700  0.133283  0.630151  0.236567  \n",
       "2022-03-04 -0.015264       0.0   -0.015382  0.511864  0.461260  0.026875  "
      ]
     },
     "execution_count": 276,
     "metadata": {},
     "output_type": "execute_result"
    }
   ],
   "source": [
    "df.tail()"
   ]
  },
  {
   "cell_type": "code",
   "execution_count": 277,
   "metadata": {},
   "outputs": [],
   "source": [
    "df[\"return\"] = df[\"return\"].shift(-1)\n",
    "df[\"increase\"] = df[\"increase\"].shift(-1)"
   ]
  },
  {
   "cell_type": "code",
   "execution_count": 278,
   "metadata": {},
   "outputs": [
    {
     "data": {
      "text/html": [
       "<div>\n",
       "<style scoped>\n",
       "    .dataframe tbody tr th:only-of-type {\n",
       "        vertical-align: middle;\n",
       "    }\n",
       "\n",
       "    .dataframe tbody tr th {\n",
       "        vertical-align: top;\n",
       "    }\n",
       "\n",
       "    .dataframe thead th {\n",
       "        text-align: right;\n",
       "    }\n",
       "</style>\n",
       "<table border=\"1\" class=\"dataframe\">\n",
       "  <thead>\n",
       "    <tr style=\"text-align: right;\">\n",
       "      <th></th>\n",
       "      <th>1. open</th>\n",
       "      <th>2. high</th>\n",
       "      <th>3. low</th>\n",
       "      <th>4. close</th>\n",
       "      <th>5. adjusted close</th>\n",
       "      <th>6. volume</th>\n",
       "      <th>7. dividend amount</th>\n",
       "      <th>8. split coefficient</th>\n",
       "      <th>date_time</th>\n",
       "      <th>day_of_week</th>\n",
       "      <th>return</th>\n",
       "      <th>increase</th>\n",
       "      <th>log_return</th>\n",
       "      <th>negative</th>\n",
       "      <th>nuetral</th>\n",
       "      <th>positive</th>\n",
       "    </tr>\n",
       "    <tr>\n",
       "      <th>date</th>\n",
       "      <th></th>\n",
       "      <th></th>\n",
       "      <th></th>\n",
       "      <th></th>\n",
       "      <th></th>\n",
       "      <th></th>\n",
       "      <th></th>\n",
       "      <th></th>\n",
       "      <th></th>\n",
       "      <th></th>\n",
       "      <th></th>\n",
       "      <th></th>\n",
       "      <th></th>\n",
       "      <th></th>\n",
       "      <th></th>\n",
       "      <th></th>\n",
       "    </tr>\n",
       "  </thead>\n",
       "  <tbody>\n",
       "    <tr>\n",
       "      <th>2010-01-04</th>\n",
       "      <td>136.25</td>\n",
       "      <td>136.610</td>\n",
       "      <td>133.14</td>\n",
       "      <td>133.90</td>\n",
       "      <td>133.90</td>\n",
       "      <td>7599900.0</td>\n",
       "      <td>0.0</td>\n",
       "      <td>1.0</td>\n",
       "      <td>2010-01-04</td>\n",
       "      <td>0</td>\n",
       "      <td>0.005900</td>\n",
       "      <td>1.0</td>\n",
       "      <td>0.000000</td>\n",
       "      <td>0.0</td>\n",
       "      <td>0.0</td>\n",
       "      <td>0.0</td>\n",
       "    </tr>\n",
       "    <tr>\n",
       "      <th>2010-01-05</th>\n",
       "      <td>133.43</td>\n",
       "      <td>135.479</td>\n",
       "      <td>131.81</td>\n",
       "      <td>134.69</td>\n",
       "      <td>134.69</td>\n",
       "      <td>8851900.0</td>\n",
       "      <td>0.0</td>\n",
       "      <td>1.0</td>\n",
       "      <td>2010-01-05</td>\n",
       "      <td>1</td>\n",
       "      <td>-0.018116</td>\n",
       "      <td>0.0</td>\n",
       "      <td>0.005883</td>\n",
       "      <td>0.0</td>\n",
       "      <td>0.0</td>\n",
       "      <td>0.0</td>\n",
       "    </tr>\n",
       "    <tr>\n",
       "      <th>2010-01-06</th>\n",
       "      <td>134.60</td>\n",
       "      <td>134.730</td>\n",
       "      <td>131.65</td>\n",
       "      <td>132.25</td>\n",
       "      <td>132.25</td>\n",
       "      <td>7178800.0</td>\n",
       "      <td>0.0</td>\n",
       "      <td>1.0</td>\n",
       "      <td>2010-01-06</td>\n",
       "      <td>2</td>\n",
       "      <td>-0.017013</td>\n",
       "      <td>0.0</td>\n",
       "      <td>-0.018282</td>\n",
       "      <td>0.0</td>\n",
       "      <td>0.0</td>\n",
       "      <td>0.0</td>\n",
       "    </tr>\n",
       "    <tr>\n",
       "      <th>2010-01-07</th>\n",
       "      <td>132.01</td>\n",
       "      <td>132.320</td>\n",
       "      <td>128.80</td>\n",
       "      <td>130.00</td>\n",
       "      <td>130.00</td>\n",
       "      <td>11030200.0</td>\n",
       "      <td>0.0</td>\n",
       "      <td>1.0</td>\n",
       "      <td>2010-01-07</td>\n",
       "      <td>3</td>\n",
       "      <td>0.027077</td>\n",
       "      <td>1.0</td>\n",
       "      <td>-0.017160</td>\n",
       "      <td>0.0</td>\n",
       "      <td>0.0</td>\n",
       "      <td>0.0</td>\n",
       "    </tr>\n",
       "    <tr>\n",
       "      <th>2010-01-08</th>\n",
       "      <td>130.56</td>\n",
       "      <td>133.680</td>\n",
       "      <td>129.03</td>\n",
       "      <td>133.52</td>\n",
       "      <td>133.52</td>\n",
       "      <td>9830500.0</td>\n",
       "      <td>0.0</td>\n",
       "      <td>1.0</td>\n",
       "      <td>2010-01-08</td>\n",
       "      <td>4</td>\n",
       "      <td>-0.024056</td>\n",
       "      <td>0.0</td>\n",
       "      <td>0.026717</td>\n",
       "      <td>0.0</td>\n",
       "      <td>0.0</td>\n",
       "      <td>0.0</td>\n",
       "    </tr>\n",
       "  </tbody>\n",
       "</table>\n",
       "</div>"
      ],
      "text/plain": [
       "            1. open  2. high  3. low  4. close  5. adjusted close   6. volume  \\\n",
       "date                                                                            \n",
       "2010-01-04   136.25  136.610  133.14    133.90             133.90   7599900.0   \n",
       "2010-01-05   133.43  135.479  131.81    134.69             134.69   8851900.0   \n",
       "2010-01-06   134.60  134.730  131.65    132.25             132.25   7178800.0   \n",
       "2010-01-07   132.01  132.320  128.80    130.00             130.00  11030200.0   \n",
       "2010-01-08   130.56  133.680  129.03    133.52             133.52   9830500.0   \n",
       "\n",
       "            7. dividend amount  8. split coefficient   date_time  day_of_week  \\\n",
       "date                                                                            \n",
       "2010-01-04                 0.0                   1.0  2010-01-04            0   \n",
       "2010-01-05                 0.0                   1.0  2010-01-05            1   \n",
       "2010-01-06                 0.0                   1.0  2010-01-06            2   \n",
       "2010-01-07                 0.0                   1.0  2010-01-07            3   \n",
       "2010-01-08                 0.0                   1.0  2010-01-08            4   \n",
       "\n",
       "              return  increase  log_return  negative  nuetral  positive  \n",
       "date                                                                     \n",
       "2010-01-04  0.005900       1.0    0.000000       0.0      0.0       0.0  \n",
       "2010-01-05 -0.018116       0.0    0.005883       0.0      0.0       0.0  \n",
       "2010-01-06 -0.017013       0.0   -0.018282       0.0      0.0       0.0  \n",
       "2010-01-07  0.027077       1.0   -0.017160       0.0      0.0       0.0  \n",
       "2010-01-08 -0.024056       0.0    0.026717       0.0      0.0       0.0  "
      ]
     },
     "execution_count": 278,
     "metadata": {},
     "output_type": "execute_result"
    }
   ],
   "source": [
    "df.head()"
   ]
  },
  {
   "cell_type": "code",
   "execution_count": 279,
   "metadata": {},
   "outputs": [
    {
     "data": {
      "text/html": [
       "<div>\n",
       "<style scoped>\n",
       "    .dataframe tbody tr th:only-of-type {\n",
       "        vertical-align: middle;\n",
       "    }\n",
       "\n",
       "    .dataframe tbody tr th {\n",
       "        vertical-align: top;\n",
       "    }\n",
       "\n",
       "    .dataframe thead th {\n",
       "        text-align: right;\n",
       "    }\n",
       "</style>\n",
       "<table border=\"1\" class=\"dataframe\">\n",
       "  <thead>\n",
       "    <tr style=\"text-align: right;\">\n",
       "      <th></th>\n",
       "      <th>1. open</th>\n",
       "      <th>2. high</th>\n",
       "      <th>3. low</th>\n",
       "      <th>4. close</th>\n",
       "      <th>5. adjusted close</th>\n",
       "      <th>6. volume</th>\n",
       "      <th>7. dividend amount</th>\n",
       "      <th>8. split coefficient</th>\n",
       "      <th>date_time</th>\n",
       "      <th>day_of_week</th>\n",
       "      <th>return</th>\n",
       "      <th>increase</th>\n",
       "      <th>log_return</th>\n",
       "      <th>negative</th>\n",
       "      <th>nuetral</th>\n",
       "      <th>positive</th>\n",
       "    </tr>\n",
       "    <tr>\n",
       "      <th>date</th>\n",
       "      <th></th>\n",
       "      <th></th>\n",
       "      <th></th>\n",
       "      <th></th>\n",
       "      <th></th>\n",
       "      <th></th>\n",
       "      <th></th>\n",
       "      <th></th>\n",
       "      <th></th>\n",
       "      <th></th>\n",
       "      <th></th>\n",
       "      <th></th>\n",
       "      <th></th>\n",
       "      <th></th>\n",
       "      <th></th>\n",
       "      <th></th>\n",
       "    </tr>\n",
       "  </thead>\n",
       "  <tbody>\n",
       "    <tr>\n",
       "      <th>2022-02-28</th>\n",
       "      <td>3048.50</td>\n",
       "      <td>3089.00</td>\n",
       "      <td>3017.00</td>\n",
       "      <td>3071.26</td>\n",
       "      <td>3071.26</td>\n",
       "      <td>2884171.0</td>\n",
       "      <td>0.0</td>\n",
       "      <td>1.0</td>\n",
       "      <td>2022-02-28</td>\n",
       "      <td>0</td>\n",
       "      <td>-0.015766</td>\n",
       "      <td>0.0</td>\n",
       "      <td>-0.001467</td>\n",
       "      <td>0.434618</td>\n",
       "      <td>0.451638</td>\n",
       "      <td>0.113744</td>\n",
       "    </tr>\n",
       "    <tr>\n",
       "      <th>2022-03-01</th>\n",
       "      <td>3054.65</td>\n",
       "      <td>3081.98</td>\n",
       "      <td>2999.54</td>\n",
       "      <td>3022.84</td>\n",
       "      <td>3022.84</td>\n",
       "      <td>2243679.0</td>\n",
       "      <td>0.0</td>\n",
       "      <td>1.0</td>\n",
       "      <td>2022-03-01</td>\n",
       "      <td>1</td>\n",
       "      <td>0.006024</td>\n",
       "      <td>1.0</td>\n",
       "      <td>-0.015891</td>\n",
       "      <td>0.600509</td>\n",
       "      <td>0.265521</td>\n",
       "      <td>0.133970</td>\n",
       "    </tr>\n",
       "    <tr>\n",
       "      <th>2022-03-02</th>\n",
       "      <td>3016.98</td>\n",
       "      <td>3059.99</td>\n",
       "      <td>2975.00</td>\n",
       "      <td>3041.05</td>\n",
       "      <td>3041.05</td>\n",
       "      <td>2366736.0</td>\n",
       "      <td>0.0</td>\n",
       "      <td>1.0</td>\n",
       "      <td>2022-03-02</td>\n",
       "      <td>2</td>\n",
       "      <td>-0.027320</td>\n",
       "      <td>0.0</td>\n",
       "      <td>0.006006</td>\n",
       "      <td>0.368508</td>\n",
       "      <td>0.540080</td>\n",
       "      <td>0.091412</td>\n",
       "    </tr>\n",
       "    <tr>\n",
       "      <th>2022-03-03</th>\n",
       "      <td>3070.63</td>\n",
       "      <td>3078.58</td>\n",
       "      <td>2937.12</td>\n",
       "      <td>2957.97</td>\n",
       "      <td>2957.97</td>\n",
       "      <td>3259860.0</td>\n",
       "      <td>0.0</td>\n",
       "      <td>1.0</td>\n",
       "      <td>2022-03-03</td>\n",
       "      <td>3</td>\n",
       "      <td>-0.015264</td>\n",
       "      <td>0.0</td>\n",
       "      <td>-0.027700</td>\n",
       "      <td>0.133283</td>\n",
       "      <td>0.630151</td>\n",
       "      <td>0.236567</td>\n",
       "    </tr>\n",
       "    <tr>\n",
       "      <th>2022-03-04</th>\n",
       "      <td>2943.18</td>\n",
       "      <td>2957.00</td>\n",
       "      <td>2876.14</td>\n",
       "      <td>2912.82</td>\n",
       "      <td>2912.82</td>\n",
       "      <td>3049156.0</td>\n",
       "      <td>0.0</td>\n",
       "      <td>1.0</td>\n",
       "      <td>2022-03-04</td>\n",
       "      <td>4</td>\n",
       "      <td>NaN</td>\n",
       "      <td>NaN</td>\n",
       "      <td>-0.015382</td>\n",
       "      <td>0.511864</td>\n",
       "      <td>0.461260</td>\n",
       "      <td>0.026875</td>\n",
       "    </tr>\n",
       "  </tbody>\n",
       "</table>\n",
       "</div>"
      ],
      "text/plain": [
       "            1. open  2. high   3. low  4. close  5. adjusted close  6. volume  \\\n",
       "date                                                                            \n",
       "2022-02-28  3048.50  3089.00  3017.00   3071.26            3071.26  2884171.0   \n",
       "2022-03-01  3054.65  3081.98  2999.54   3022.84            3022.84  2243679.0   \n",
       "2022-03-02  3016.98  3059.99  2975.00   3041.05            3041.05  2366736.0   \n",
       "2022-03-03  3070.63  3078.58  2937.12   2957.97            2957.97  3259860.0   \n",
       "2022-03-04  2943.18  2957.00  2876.14   2912.82            2912.82  3049156.0   \n",
       "\n",
       "            7. dividend amount  8. split coefficient   date_time  day_of_week  \\\n",
       "date                                                                            \n",
       "2022-02-28                 0.0                   1.0  2022-02-28            0   \n",
       "2022-03-01                 0.0                   1.0  2022-03-01            1   \n",
       "2022-03-02                 0.0                   1.0  2022-03-02            2   \n",
       "2022-03-03                 0.0                   1.0  2022-03-03            3   \n",
       "2022-03-04                 0.0                   1.0  2022-03-04            4   \n",
       "\n",
       "              return  increase  log_return  negative   nuetral  positive  \n",
       "date                                                                      \n",
       "2022-02-28 -0.015766       0.0   -0.001467  0.434618  0.451638  0.113744  \n",
       "2022-03-01  0.006024       1.0   -0.015891  0.600509  0.265521  0.133970  \n",
       "2022-03-02 -0.027320       0.0    0.006006  0.368508  0.540080  0.091412  \n",
       "2022-03-03 -0.015264       0.0   -0.027700  0.133283  0.630151  0.236567  \n",
       "2022-03-04       NaN       NaN   -0.015382  0.511864  0.461260  0.026875  "
      ]
     },
     "execution_count": 279,
     "metadata": {},
     "output_type": "execute_result"
    }
   ],
   "source": [
    "df.tail()"
   ]
  },
  {
   "cell_type": "code",
   "execution_count": 280,
   "metadata": {},
   "outputs": [],
   "source": [
    "df.fillna(0.0, inplace=True)"
   ]
  },
  {
   "cell_type": "code",
   "execution_count": 281,
   "metadata": {},
   "outputs": [
    {
     "data": {
      "text/html": [
       "<div>\n",
       "<style scoped>\n",
       "    .dataframe tbody tr th:only-of-type {\n",
       "        vertical-align: middle;\n",
       "    }\n",
       "\n",
       "    .dataframe tbody tr th {\n",
       "        vertical-align: top;\n",
       "    }\n",
       "\n",
       "    .dataframe thead th {\n",
       "        text-align: right;\n",
       "    }\n",
       "</style>\n",
       "<table border=\"1\" class=\"dataframe\">\n",
       "  <thead>\n",
       "    <tr style=\"text-align: right;\">\n",
       "      <th></th>\n",
       "      <th>count</th>\n",
       "      <th>mean</th>\n",
       "      <th>std</th>\n",
       "      <th>min</th>\n",
       "      <th>25%</th>\n",
       "      <th>50%</th>\n",
       "      <th>75%</th>\n",
       "      <th>max</th>\n",
       "    </tr>\n",
       "  </thead>\n",
       "  <tbody>\n",
       "    <tr>\n",
       "      <th>1. open</th>\n",
       "      <td>3064.0</td>\n",
       "      <td>1.095358e+03</td>\n",
       "      <td>1.062551e+03</td>\n",
       "      <td>105.925000</td>\n",
       "      <td>2.587150e+02</td>\n",
       "      <td>6.171450e+02</td>\n",
       "      <td>1.770055e+03</td>\n",
       "      <td>3.744000e+03</td>\n",
       "    </tr>\n",
       "    <tr>\n",
       "      <th>2. high</th>\n",
       "      <td>3064.0</td>\n",
       "      <td>1.106956e+03</td>\n",
       "      <td>1.074210e+03</td>\n",
       "      <td>111.290000</td>\n",
       "      <td>2.614875e+02</td>\n",
       "      <td>6.251850e+02</td>\n",
       "      <td>1.786257e+03</td>\n",
       "      <td>3.773078e+03</td>\n",
       "    </tr>\n",
       "    <tr>\n",
       "      <th>3. low</th>\n",
       "      <td>3064.0</td>\n",
       "      <td>1.082360e+03</td>\n",
       "      <td>1.049357e+03</td>\n",
       "      <td>105.800000</td>\n",
       "      <td>2.565850e+02</td>\n",
       "      <td>6.057650e+02</td>\n",
       "      <td>1.749290e+03</td>\n",
       "      <td>3.696793e+03</td>\n",
       "    </tr>\n",
       "    <tr>\n",
       "      <th>4. close</th>\n",
       "      <td>3064.0</td>\n",
       "      <td>1.094912e+03</td>\n",
       "      <td>1.061586e+03</td>\n",
       "      <td>108.610000</td>\n",
       "      <td>2.590100e+02</td>\n",
       "      <td>6.169900e+02</td>\n",
       "      <td>1.768955e+03</td>\n",
       "      <td>3.731410e+03</td>\n",
       "    </tr>\n",
       "    <tr>\n",
       "      <th>5. adjusted close</th>\n",
       "      <td>3064.0</td>\n",
       "      <td>1.094912e+03</td>\n",
       "      <td>1.061586e+03</td>\n",
       "      <td>108.610000</td>\n",
       "      <td>2.590100e+02</td>\n",
       "      <td>6.169900e+02</td>\n",
       "      <td>1.768955e+03</td>\n",
       "      <td>3.731410e+03</td>\n",
       "    </tr>\n",
       "    <tr>\n",
       "      <th>6. volume</th>\n",
       "      <td>3064.0</td>\n",
       "      <td>4.453434e+06</td>\n",
       "      <td>2.702337e+06</td>\n",
       "      <td>881337.000000</td>\n",
       "      <td>2.807655e+06</td>\n",
       "      <td>3.760600e+06</td>\n",
       "      <td>5.240026e+06</td>\n",
       "      <td>4.242110e+07</td>\n",
       "    </tr>\n",
       "    <tr>\n",
       "      <th>7. dividend amount</th>\n",
       "      <td>3064.0</td>\n",
       "      <td>0.000000e+00</td>\n",
       "      <td>0.000000e+00</td>\n",
       "      <td>0.000000</td>\n",
       "      <td>0.000000e+00</td>\n",
       "      <td>0.000000e+00</td>\n",
       "      <td>0.000000e+00</td>\n",
       "      <td>0.000000e+00</td>\n",
       "    </tr>\n",
       "    <tr>\n",
       "      <th>8. split coefficient</th>\n",
       "      <td>3064.0</td>\n",
       "      <td>1.000000e+00</td>\n",
       "      <td>0.000000e+00</td>\n",
       "      <td>1.000000</td>\n",
       "      <td>1.000000e+00</td>\n",
       "      <td>1.000000e+00</td>\n",
       "      <td>1.000000e+00</td>\n",
       "      <td>1.000000e+00</td>\n",
       "    </tr>\n",
       "    <tr>\n",
       "      <th>day_of_week</th>\n",
       "      <td>3064.0</td>\n",
       "      <td>2.022846e+00</td>\n",
       "      <td>1.399408e+00</td>\n",
       "      <td>0.000000</td>\n",
       "      <td>1.000000e+00</td>\n",
       "      <td>2.000000e+00</td>\n",
       "      <td>3.000000e+00</td>\n",
       "      <td>4.000000e+00</td>\n",
       "    </tr>\n",
       "    <tr>\n",
       "      <th>return</th>\n",
       "      <td>3064.0</td>\n",
       "      <td>1.201895e-03</td>\n",
       "      <td>1.986214e-02</td>\n",
       "      <td>-0.126568</td>\n",
       "      <td>-8.492083e-03</td>\n",
       "      <td>1.009674e-03</td>\n",
       "      <td>1.130947e-02</td>\n",
       "      <td>1.574570e-01</td>\n",
       "    </tr>\n",
       "    <tr>\n",
       "      <th>increase</th>\n",
       "      <td>3064.0</td>\n",
       "      <td>5.296997e-01</td>\n",
       "      <td>4.991986e-01</td>\n",
       "      <td>0.000000</td>\n",
       "      <td>0.000000e+00</td>\n",
       "      <td>1.000000e+00</td>\n",
       "      <td>1.000000e+00</td>\n",
       "      <td>1.000000e+00</td>\n",
       "    </tr>\n",
       "    <tr>\n",
       "      <th>log_return</th>\n",
       "      <td>3064.0</td>\n",
       "      <td>1.005151e-03</td>\n",
       "      <td>1.979114e-02</td>\n",
       "      <td>-0.135325</td>\n",
       "      <td>-8.528346e-03</td>\n",
       "      <td>1.009164e-03</td>\n",
       "      <td>1.124600e-02</td>\n",
       "      <td>1.462254e-01</td>\n",
       "    </tr>\n",
       "    <tr>\n",
       "      <th>negative</th>\n",
       "      <td>3064.0</td>\n",
       "      <td>2.570456e-01</td>\n",
       "      <td>2.394514e-01</td>\n",
       "      <td>0.000000</td>\n",
       "      <td>2.742922e-02</td>\n",
       "      <td>2.237672e-01</td>\n",
       "      <td>4.176338e-01</td>\n",
       "      <td>9.742069e-01</td>\n",
       "    </tr>\n",
       "    <tr>\n",
       "      <th>nuetral</th>\n",
       "      <td>3064.0</td>\n",
       "      <td>3.854220e-01</td>\n",
       "      <td>2.701443e-01</td>\n",
       "      <td>0.000000</td>\n",
       "      <td>1.626311e-01</td>\n",
       "      <td>3.925918e-01</td>\n",
       "      <td>5.768798e-01</td>\n",
       "      <td>9.546924e-01</td>\n",
       "    </tr>\n",
       "    <tr>\n",
       "      <th>positive</th>\n",
       "      <td>3064.0</td>\n",
       "      <td>1.966316e-01</td>\n",
       "      <td>2.000932e-01</td>\n",
       "      <td>0.000000</td>\n",
       "      <td>3.717753e-02</td>\n",
       "      <td>1.366878e-01</td>\n",
       "      <td>3.007240e-01</td>\n",
       "      <td>9.560549e-01</td>\n",
       "    </tr>\n",
       "  </tbody>\n",
       "</table>\n",
       "</div>"
      ],
      "text/plain": [
       "                       count          mean           std            min  \\\n",
       "1. open               3064.0  1.095358e+03  1.062551e+03     105.925000   \n",
       "2. high               3064.0  1.106956e+03  1.074210e+03     111.290000   \n",
       "3. low                3064.0  1.082360e+03  1.049357e+03     105.800000   \n",
       "4. close              3064.0  1.094912e+03  1.061586e+03     108.610000   \n",
       "5. adjusted close     3064.0  1.094912e+03  1.061586e+03     108.610000   \n",
       "6. volume             3064.0  4.453434e+06  2.702337e+06  881337.000000   \n",
       "7. dividend amount    3064.0  0.000000e+00  0.000000e+00       0.000000   \n",
       "8. split coefficient  3064.0  1.000000e+00  0.000000e+00       1.000000   \n",
       "day_of_week           3064.0  2.022846e+00  1.399408e+00       0.000000   \n",
       "return                3064.0  1.201895e-03  1.986214e-02      -0.126568   \n",
       "increase              3064.0  5.296997e-01  4.991986e-01       0.000000   \n",
       "log_return            3064.0  1.005151e-03  1.979114e-02      -0.135325   \n",
       "negative              3064.0  2.570456e-01  2.394514e-01       0.000000   \n",
       "nuetral               3064.0  3.854220e-01  2.701443e-01       0.000000   \n",
       "positive              3064.0  1.966316e-01  2.000932e-01       0.000000   \n",
       "\n",
       "                               25%           50%           75%           max  \n",
       "1. open               2.587150e+02  6.171450e+02  1.770055e+03  3.744000e+03  \n",
       "2. high               2.614875e+02  6.251850e+02  1.786257e+03  3.773078e+03  \n",
       "3. low                2.565850e+02  6.057650e+02  1.749290e+03  3.696793e+03  \n",
       "4. close              2.590100e+02  6.169900e+02  1.768955e+03  3.731410e+03  \n",
       "5. adjusted close     2.590100e+02  6.169900e+02  1.768955e+03  3.731410e+03  \n",
       "6. volume             2.807655e+06  3.760600e+06  5.240026e+06  4.242110e+07  \n",
       "7. dividend amount    0.000000e+00  0.000000e+00  0.000000e+00  0.000000e+00  \n",
       "8. split coefficient  1.000000e+00  1.000000e+00  1.000000e+00  1.000000e+00  \n",
       "day_of_week           1.000000e+00  2.000000e+00  3.000000e+00  4.000000e+00  \n",
       "return               -8.492083e-03  1.009674e-03  1.130947e-02  1.574570e-01  \n",
       "increase              0.000000e+00  1.000000e+00  1.000000e+00  1.000000e+00  \n",
       "log_return           -8.528346e-03  1.009164e-03  1.124600e-02  1.462254e-01  \n",
       "negative              2.742922e-02  2.237672e-01  4.176338e-01  9.742069e-01  \n",
       "nuetral               1.626311e-01  3.925918e-01  5.768798e-01  9.546924e-01  \n",
       "positive              3.717753e-02  1.366878e-01  3.007240e-01  9.560549e-01  "
      ]
     },
     "execution_count": 281,
     "metadata": {},
     "output_type": "execute_result"
    }
   ],
   "source": [
    "df.describe().T"
   ]
  },
  {
   "cell_type": "code",
   "execution_count": 282,
   "metadata": {},
   "outputs": [
    {
     "data": {
      "text/plain": [
       "Text(0.5, 0, 'Date')"
      ]
     },
     "execution_count": 282,
     "metadata": {},
     "output_type": "execute_result"
    },
    {
     "data": {
      "image/png": "[encoded data removed]",
      "text/plain": [
       "<Figure size 576x396 with 1 Axes>"
      ]
     },
     "metadata": {},
     "output_type": "display_data"
    },
    {
     "data": {
      "image/png": "[encoded data removed]",
      "text/plain": [
       "<Figure size 576x396 with 1 Axes>"
      ]
     },
     "metadata": {},
     "output_type": "display_data"
    }
   ],
   "source": [
    "plot_cols = ['5. adjusted close']\n",
    "plot_features = df[plot_cols]\n",
    "plot_features.index = date_time\n",
    "_ = plot_features.plot(subplots=True)\n",
    "plt.xlabel('Date')\n",
    "\n",
    "plot_features = df[plot_cols][2757:]\n",
    "plot_features.index = date_time[2757:]\n",
    "_ = plot_features.plot(subplots=True)\n",
    "plt.xlabel('Date')"
   ]
  },
  {
   "cell_type": "code",
   "execution_count": 283,
   "metadata": {},
   "outputs": [
    {
     "data": {
      "text/plain": [
       "Text(0.5, 1.0, 'Logged Returns')"
      ]
     },
     "execution_count": 283,
     "metadata": {},
     "output_type": "execute_result"
    },
    {
     "data": {
      "image/png": "[encoded data removed]",
      "text/plain": [
       "<Figure size 1152x288 with 1 Axes>"
      ]
     },
     "metadata": {},
     "output_type": "display_data"
    }
   ],
   "source": [
    "plt.figure(1, figsize=(16, 4))\n",
    "plt.plot(df.log_return)\n",
    "plt.title(\"Logged Returns\")"
   ]
  },
  {
   "cell_type": "code",
   "execution_count": 284,
   "metadata": {},
   "outputs": [],
   "source": [
    "if model_type == \"random_forest\":\n",
    "    X = df[[\"log_return\", \"2. high\", \"3. low\", \"6. volume\", \"negative\", \"nuetral\", \"positive\"]]\n",
    "    y = df[\"increase\"]\n",
    "\n"
   ]
  },
  {
   "cell_type": "markdown",
   "metadata": {},
   "source": [
    "#### Train test split"
   ]
  },
  {
   "cell_type": "code",
   "execution_count": 285,
   "metadata": {},
   "outputs": [
    {
     "name": "stdout",
     "output_type": "stream",
     "text": [
      "2757\n"
     ]
    }
   ],
   "source": [
    "split = int(len(X) * 0.9)\n",
    "print(split)"
   ]
  },
  {
   "cell_type": "code",
   "execution_count": 286,
   "metadata": {},
   "outputs": [],
   "source": [
    "X_train = X[:split]\n",
    "X_test = X[split : len(X)]\n",
    "y_train = y[:split]\n",
    "y_test = y[split : len(y)]"
   ]
  },
  {
   "cell_type": "code",
   "execution_count": 287,
   "metadata": {},
   "outputs": [
    {
     "name": "stdout",
     "output_type": "stream",
     "text": [
      "2757\n",
      "307\n"
     ]
    }
   ],
   "source": [
    "print(len(X_train))\n",
    "print(len(X_test))"
   ]
  },
  {
   "cell_type": "code",
   "execution_count": 288,
   "metadata": {},
   "outputs": [],
   "source": [
    "assert len(X_train) == len(y_train)\n",
    "assert len(X_test) == len(y_test)"
   ]
  },
  {
   "cell_type": "code",
   "execution_count": 289,
   "metadata": {},
   "outputs": [
    {
     "data": {
      "text/plain": [
       "RandomForestClassifier(criterion='entropy', n_estimators=1000)"
      ]
     },
     "execution_count": 289,
     "metadata": {},
     "output_type": "execute_result"
    }
   ],
   "source": [
    "rfc = RandomForestClassifier(n_estimators=1000, criterion=\"entropy\")\n",
    "rfc.fit(X_train, y_train)"
   ]
  },
  {
   "cell_type": "code",
   "execution_count": 290,
   "metadata": {},
   "outputs": [],
   "source": [
    "preds = rfc.predict(X_test)"
   ]
  },
  {
   "cell_type": "code",
   "execution_count": 291,
   "metadata": {},
   "outputs": [],
   "source": [
    "from sklearn.metrics import classification_report, confusion_matrix, accuracy_score"
   ]
  },
  {
   "cell_type": "code",
   "execution_count": 292,
   "metadata": {},
   "outputs": [
    {
     "data": {
      "text/plain": [
       "array([[71, 52],\n",
       "       [63, 58]])"
      ]
     },
     "execution_count": 292,
     "metadata": {},
     "output_type": "execute_result"
    }
   ],
   "source": [
    "matrix = confusion_matrix(y_test[-244:], preds[-244:])\n",
    "matrix"
   ]
  },
  {
   "cell_type": "code",
   "execution_count": 293,
   "metadata": {},
   "outputs": [
    {
     "data": {
      "text/plain": [
       "0.5286885245901639"
      ]
     },
     "execution_count": 293,
     "metadata": {},
     "output_type": "execute_result"
    }
   ],
   "source": [
    "score = accuracy_score(y_test[-244:], preds[-244:])\n",
    "score"
   ]
  },
  {
   "cell_type": "code",
   "execution_count": 294,
   "metadata": {},
   "outputs": [
    {
     "name": "stdout",
     "output_type": "stream",
     "text": [
      "              precision    recall  f1-score   support\n",
      "\n",
      "         0.0       0.53      0.58      0.55       123\n",
      "         1.0       0.53      0.48      0.50       121\n",
      "\n",
      "    accuracy                           0.53       244\n",
      "   macro avg       0.53      0.53      0.53       244\n",
      "weighted avg       0.53      0.53      0.53       244\n",
      "\n"
     ]
    }
   ],
   "source": [
    "print(classification_report(y_test[-244:], preds[-244:]))"
   ]
  },
  {
   "cell_type": "code",
   "execution_count": 295,
   "metadata": {},
   "outputs": [
    {
     "data": {
      "text/plain": [
       "date\n",
       "2020-12-15    1.0\n",
       "2020-12-16    0.0\n",
       "2020-12-17    0.0\n",
       "2020-12-18    1.0\n",
       "2020-12-21    1.0\n",
       "Name: increase, dtype: float64"
      ]
     },
     "execution_count": 295,
     "metadata": {},
     "output_type": "execute_result"
    }
   ],
   "source": [
    "y_test.head()"
   ]
  },
  {
   "cell_type": "code",
   "execution_count": 296,
   "metadata": {},
   "outputs": [
    {
     "data": {
      "text/plain": [
       "307"
      ]
     },
     "execution_count": 296,
     "metadata": {},
     "output_type": "execute_result"
    }
   ],
   "source": [
    "len(preds)"
   ]
  },
  {
   "cell_type": "code",
   "execution_count": 297,
   "metadata": {},
   "outputs": [],
   "source": [
    "df_compare = pd.DataFrame({\"increase\":y_test[-244:].copy()})"
   ]
  },
  {
   "cell_type": "code",
   "execution_count": 298,
   "metadata": {},
   "outputs": [],
   "source": [
    "df_compare[\"pred_increase\"] = preds[-244:].copy()"
   ]
  },
  {
   "cell_type": "code",
   "execution_count": 299,
   "metadata": {},
   "outputs": [
    {
     "data": {
      "text/html": [
       "<div>\n",
       "<style scoped>\n",
       "    .dataframe tbody tr th:only-of-type {\n",
       "        vertical-align: middle;\n",
       "    }\n",
       "\n",
       "    .dataframe tbody tr th {\n",
       "        vertical-align: top;\n",
       "    }\n",
       "\n",
       "    .dataframe thead th {\n",
       "        text-align: right;\n",
       "    }\n",
       "</style>\n",
       "<table border=\"1\" class=\"dataframe\">\n",
       "  <thead>\n",
       "    <tr style=\"text-align: right;\">\n",
       "      <th></th>\n",
       "      <th>increase</th>\n",
       "      <th>pred_increase</th>\n",
       "    </tr>\n",
       "    <tr>\n",
       "      <th>date</th>\n",
       "      <th></th>\n",
       "      <th></th>\n",
       "    </tr>\n",
       "  </thead>\n",
       "  <tbody>\n",
       "    <tr>\n",
       "      <th>2021-03-18</th>\n",
       "      <td>1.0</td>\n",
       "      <td>1.0</td>\n",
       "    </tr>\n",
       "    <tr>\n",
       "      <th>2021-03-19</th>\n",
       "      <td>1.0</td>\n",
       "      <td>1.0</td>\n",
       "    </tr>\n",
       "    <tr>\n",
       "      <th>2021-03-22</th>\n",
       "      <td>1.0</td>\n",
       "      <td>1.0</td>\n",
       "    </tr>\n",
       "    <tr>\n",
       "      <th>2021-03-23</th>\n",
       "      <td>0.0</td>\n",
       "      <td>1.0</td>\n",
       "    </tr>\n",
       "    <tr>\n",
       "      <th>2021-03-24</th>\n",
       "      <td>0.0</td>\n",
       "      <td>0.0</td>\n",
       "    </tr>\n",
       "    <tr>\n",
       "      <th>...</th>\n",
       "      <td>...</td>\n",
       "      <td>...</td>\n",
       "    </tr>\n",
       "    <tr>\n",
       "      <th>2022-02-28</th>\n",
       "      <td>0.0</td>\n",
       "      <td>1.0</td>\n",
       "    </tr>\n",
       "    <tr>\n",
       "      <th>2022-03-01</th>\n",
       "      <td>1.0</td>\n",
       "      <td>1.0</td>\n",
       "    </tr>\n",
       "    <tr>\n",
       "      <th>2022-03-02</th>\n",
       "      <td>0.0</td>\n",
       "      <td>1.0</td>\n",
       "    </tr>\n",
       "    <tr>\n",
       "      <th>2022-03-03</th>\n",
       "      <td>0.0</td>\n",
       "      <td>1.0</td>\n",
       "    </tr>\n",
       "    <tr>\n",
       "      <th>2022-03-04</th>\n",
       "      <td>0.0</td>\n",
       "      <td>0.0</td>\n",
       "    </tr>\n",
       "  </tbody>\n",
       "</table>\n",
       "<p>244 rows × 2 columns</p>\n",
       "</div>"
      ],
      "text/plain": [
       "            increase  pred_increase\n",
       "date                               \n",
       "2021-03-18       1.0            1.0\n",
       "2021-03-19       1.0            1.0\n",
       "2021-03-22       1.0            1.0\n",
       "2021-03-23       0.0            1.0\n",
       "2021-03-24       0.0            0.0\n",
       "...              ...            ...\n",
       "2022-02-28       0.0            1.0\n",
       "2022-03-01       1.0            1.0\n",
       "2022-03-02       0.0            1.0\n",
       "2022-03-03       0.0            1.0\n",
       "2022-03-04       0.0            0.0\n",
       "\n",
       "[244 rows x 2 columns]"
      ]
     },
     "execution_count": 299,
     "metadata": {},
     "output_type": "execute_result"
    }
   ],
   "source": [
    "df_compare"
   ]
  },
  {
   "cell_type": "code",
   "execution_count": 300,
   "metadata": {},
   "outputs": [],
   "source": [
    "df_compare = df_compare.drop(\"2022-03-04\")\n"
   ]
  },
  {
   "cell_type": "markdown",
   "metadata": {},
   "source": [
    "### Postive Increase Prediction %"
   ]
  },
  {
   "cell_type": "code",
   "execution_count": 301,
   "metadata": {},
   "outputs": [
    {
     "data": {
      "text/plain": [
       "0.4793388429752066"
      ]
     },
     "execution_count": 301,
     "metadata": {},
     "output_type": "execute_result"
    }
   ],
   "source": [
    "df_compare[(df_compare[\"increase\"]==1) & (df_compare[\"pred_increase\"]==1)].shape[0] / df_compare[(df_compare[\"increase\"]==1)].shape[0]"
   ]
  },
  {
   "cell_type": "markdown",
   "metadata": {},
   "source": [
    "### Negative Increase Prediction %"
   ]
  },
  {
   "cell_type": "code",
   "execution_count": 302,
   "metadata": {},
   "outputs": [
    {
     "data": {
      "text/plain": [
       "0.5737704918032787"
      ]
     },
     "execution_count": 302,
     "metadata": {},
     "output_type": "execute_result"
    }
   ],
   "source": [
    "df_compare[(df_compare[\"increase\"]==0) & (df_compare[\"pred_increase\"]==0)].shape[0] / df_compare[(df_compare[\"increase\"]==0)].shape[0]"
   ]
  },
  {
   "cell_type": "markdown",
   "metadata": {},
   "source": [
    "### Overall Prediction Accuracy %"
   ]
  },
  {
   "cell_type": "code",
   "execution_count": 303,
   "metadata": {},
   "outputs": [
    {
     "data": {
      "text/plain": [
       "0.5267489711934157"
      ]
     },
     "execution_count": 303,
     "metadata": {},
     "output_type": "execute_result"
    }
   ],
   "source": [
    "df_compare[(df_compare[\"increase\"] == df_compare[\"pred_increase\"])].shape[0] / (df_compare.shape[0])"
   ]
  },
  {
   "cell_type": "markdown",
   "metadata": {},
   "source": [
    "### Actual Distribution of Increase (1) vs. Decrease (0)"
   ]
  },
  {
   "cell_type": "code",
   "execution_count": 304,
   "metadata": {},
   "outputs": [
    {
     "data": {
      "text/plain": [
       "0.0    122\n",
       "1.0    121\n",
       "Name: increase, dtype: int64"
      ]
     },
     "execution_count": 304,
     "metadata": {},
     "output_type": "execute_result"
    }
   ],
   "source": [
    "df_compare[\"increase\"].value_counts()"
   ]
  },
  {
   "cell_type": "code",
   "execution_count": 305,
   "metadata": {},
   "outputs": [
    {
     "data": {
      "text/plain": [
       "0.0    0.502058\n",
       "1.0    0.497942\n",
       "Name: increase, dtype: float64"
      ]
     },
     "execution_count": 305,
     "metadata": {},
     "output_type": "execute_result"
    }
   ],
   "source": [
    "df_compare[\"increase\"].value_counts(normalize=True)"
   ]
  },
  {
   "cell_type": "markdown",
   "metadata": {},
   "source": [
    "### Predicted Distribution of Increase (1) vs. Decrease (0)"
   ]
  },
  {
   "cell_type": "code",
   "execution_count": 306,
   "metadata": {},
   "outputs": [
    {
     "data": {
      "text/plain": [
       "0.0    133\n",
       "1.0    110\n",
       "Name: pred_increase, dtype: int64"
      ]
     },
     "execution_count": 306,
     "metadata": {},
     "output_type": "execute_result"
    }
   ],
   "source": [
    "df_compare[\"pred_increase\"].value_counts()"
   ]
  },
  {
   "cell_type": "code",
   "execution_count": 307,
   "metadata": {},
   "outputs": [
    {
     "data": {
      "text/plain": [
       "0.0    0.547325\n",
       "1.0    0.452675\n",
       "Name: pred_increase, dtype: float64"
      ]
     },
     "execution_count": 307,
     "metadata": {},
     "output_type": "execute_result"
    }
   ],
   "source": [
    "df_compare[\"pred_increase\"].value_counts(normalize=True)"
   ]
  },
  {
   "cell_type": "code",
   "execution_count": 308,
   "metadata": {},
   "outputs": [],
   "source": [
    "from sklearn.metrics import confusion_matrix, classification_report"
   ]
  },
  {
   "cell_type": "code",
   "execution_count": 309,
   "metadata": {},
   "outputs": [],
   "source": [
    "class_names = [\"Down\", \"Up\"]"
   ]
  },
  {
   "cell_type": "code",
   "execution_count": 310,
   "metadata": {},
   "outputs": [
    {
     "name": "stdout",
     "output_type": "stream",
     "text": [
      "              precision    recall  f1-score   support\n",
      "\n",
      "        Down     0.5263    0.5738    0.5490       122\n",
      "          Up     0.5273    0.4793    0.5022       121\n",
      "\n",
      "    accuracy                         0.5267       243\n",
      "   macro avg     0.5268    0.5266    0.5256       243\n",
      "weighted avg     0.5268    0.5267    0.5257       243\n",
      "\n"
     ]
    }
   ],
   "source": [
    "print(classification_report(df_compare[\"increase\"], df_compare[\"pred_increase\"], target_names=class_names, digits=4))"
   ]
  },
  {
   "cell_type": "code",
   "execution_count": 311,
   "metadata": {},
   "outputs": [
    {
     "data": {
      "image/png": "[encoded data removed]",
      "text/plain": [
       "<Figure size 3200x2200 with 2 Axes>"
      ]
     },
     "metadata": {},
     "output_type": "display_data"
    }
   ],
   "source": [
    "plt.rcParams['figure.dpi'] = 400\n",
    "\n",
    "def plot_confusion_matrix(confusion_matrix):\n",
    "  hm = sns.heatmap(confusion_matrix, annot=True, fmt=\"d\", cmap=\"Blues\")\n",
    "  hm.yaxis.set_ticklabels(hm.yaxis.get_ticklabels(), rotation=0, ha='right')\n",
    "  hm.xaxis.set_ticklabels(hm.xaxis.get_ticklabels(), rotation=30, ha='right')\n",
    "  plt.title(f'Confusion Matrix for {ticker_upper} Stock')\n",
    "  plt.ylabel('True Price Movement')\n",
    "  plt.xlabel('Predicted Price Movement');\n",
    "\n",
    "\n",
    "cm = confusion_matrix(df_compare[\"increase\"], df_compare[\"pred_increase\"])\n",
    "df_ = pd.DataFrame(cm, index=class_names, columns=class_names)\n",
    "plot_confusion_matrix(df_)"
   ]
  }
 ],
 "metadata": {
  "kernelspec": {
   "display_name": "Python 3",
   "language": "python",
   "name": "python3"
  },
  "language_info": {
   "codemirror_mode": {
    "name": "ipython",
    "version": 3
   },
   "file_extension": ".py",
   "mimetype": "text/x-python",
   "name": "python",
   "nbconvert_exporter": "python",
   "pygments_lexer": "ipython3",
   "version": "3.8.10"
  }
 },
 "nbformat": 4,
 "nbformat_minor": 4
}
