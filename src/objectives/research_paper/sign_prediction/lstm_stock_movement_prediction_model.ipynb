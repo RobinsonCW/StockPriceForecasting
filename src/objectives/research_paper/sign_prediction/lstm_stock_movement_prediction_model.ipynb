{
 "cells": [
  {
   "cell_type": "code",
   "execution_count": 1,
   "metadata": {},
   "outputs": [
    {
     "name": "stderr",
     "output_type": "stream",
     "text": [
      "/usr/lib/python3/dist-packages/requests/__init__.py:89: RequestsDependencyWarning: urllib3 (1.26.9) or chardet (3.0.4) doesn't match a supported version!\n",
      "  warnings.warn(\"urllib3 ({}) or chardet ({}) doesn't match a supported \"\n"
     ]
    }
   ],
   "source": [
    "%matplotlib inline\n",
    "\n",
    "\n",
    "# standard library\n",
    "import os\n",
    "import time\n",
    "from pathlib import Path\n",
    "\n",
    "# data munging\n",
    "import pandas as pd\n",
    "import numpy as np\n",
    "\n",
    "# model building\n",
    "import tensorflow as tf\n",
    "\n",
    "# plotting\n",
    "import matplotlib as mpl\n",
    "import matplotlib.pyplot as plt\n",
    "import seaborn as sns\n",
    "\n",
    "mpl.rcParams['figure.figsize'] = (8, 6)\n",
    "mpl.rcParams['axes.grid'] = False\n",
    "\n",
    "np.random.seed(42)\n",
    "tf.random.set_seed(42)\n",
    "\n",
    "plt.style.use(style=\"seaborn\")\n",
    "# plt.rcParams['figure.dpi'] = 400\n",
    "sns.set_style('whitegrid')\n",
    "\n"
   ]
  },
  {
   "cell_type": "code",
   "execution_count": 2,
   "metadata": {},
   "outputs": [
    {
     "name": "stdout",
     "output_type": "stream",
     "text": [
      "Using GPU\n"
     ]
    }
   ],
   "source": [
    "gpu_devices = tf.config.experimental.list_physical_devices('GPU')\n",
    "if gpu_devices:\n",
    "    print('Using GPU')\n",
    "    tf.config.experimental.set_memory_growth(gpu_devices[0], True)\n",
    "else:\n",
    "    print('Using CPU')"
   ]
  },
  {
   "cell_type": "code",
   "execution_count": 3,
   "metadata": {},
   "outputs": [
    {
     "name": "stdout",
     "output_type": "stream",
     "text": [
      "Thu Jul 14 05:20:58 2022       \n",
      "+-----------------------------------------------------------------------------+\n",
      "| NVIDIA-SMI 515.48.07    Driver Version: 516.40       CUDA Version: 11.7     |\n",
      "|-------------------------------+----------------------+----------------------+\n",
      "| GPU  Name        Persistence-M| Bus-Id        Disp.A | Volatile Uncorr. ECC |\n",
      "| Fan  Temp  Perf  Pwr:Usage/Cap|         Memory-Usage | GPU-Util  Compute M. |\n",
      "|                               |                      |               MIG M. |\n",
      "|===============================+======================+======================|\n",
      "|   0  NVIDIA GeForce ...  On   | 00000000:01:00.0  On |                  N/A |\n",
      "|  0%   56C    P2    52W / 200W |   2688MiB /  4096MiB |      1%      Default |\n",
      "|                               |                      |                  N/A |\n",
      "+-------------------------------+----------------------+----------------------+\n",
      "                                                                               \n",
      "+-----------------------------------------------------------------------------+\n",
      "| Processes:                                                                  |\n",
      "|  GPU   GI   CI        PID   Type   Process name                  GPU Memory |\n",
      "|        ID   ID                                                   Usage      |\n",
      "|=============================================================================|\n",
      "|    0   N/A  N/A     10151      C   /python3.8                      N/A      |\n",
      "+-----------------------------------------------------------------------------+\n"
     ]
    }
   ],
   "source": [
    "!nvidia-smi"
   ]
  },
  {
   "cell_type": "code",
   "execution_count": 4,
   "metadata": {},
   "outputs": [
    {
     "name": "stdout",
     "output_type": "stream",
     "text": [
      "Ticker: AAPL\n",
      "Source: TWINT\n",
      "Model Type: MULTIVARIATE_WITH_TWEET_SENTIMENT\n",
      "Include Logged Returns: True\n",
      "Max Epochs: 100\n",
      "Patience: 30\n"
     ]
    }
   ],
   "source": [
    "ticker_list = [\"aapl\", \"amzn\", \"msft\"]\n",
    "\n",
    "ticker = ticker_list[0]\n",
    "\n",
    "ticker_upper = ticker.upper()\n",
    "\n",
    "print(\"Ticker:\", ticker_upper)\n",
    "\n",
    "################################################\n",
    "\n",
    "source_list = [\"BENZINGA\", \"TWINT\"]\n",
    "\n",
    "source = source_list[1]\n",
    "\n",
    "print(\"Source:\", source)\n",
    "\n",
    "################################################\n",
    "\n",
    "model_type_list = [\"univariate\", \"multivariate\", \"multivariate_with_news_sentiment\", \"multivariate_with_tweet_sentiment\"]\n",
    "\n",
    "model_type = model_type_list[3]\n",
    "\n",
    "print(\"Model Type:\", model_type.upper())\n",
    "\n",
    "################################################\n",
    "\n",
    "include_logged_returns = True\n",
    "\n",
    "print(\"Include Logged Returns:\", include_logged_returns)\n",
    "\n",
    "################################################\n",
    "\n",
    "training_length_list = [\"low\", \"high\"]\n",
    "\n",
    "training_length = training_length_list[0]\n",
    "\n",
    "if training_length == \"low\":\n",
    "    MAX_EPOCHS = 100\n",
    "    patience=30\n",
    "elif training_length == \"high\":\n",
    "    MAX_EPOCHS = 500\n",
    "    patience=50\n",
    "\n",
    "print(\"Max Epochs:\", MAX_EPOCHS)\n",
    "print(\"Patience:\", patience)"
   ]
  },
  {
   "cell_type": "code",
   "execution_count": 5,
   "metadata": {},
   "outputs": [],
   "source": [
    "csv_path = f\"/app/StockPricePredictions/data/alphavantage/time_series_daily_adjusted/{ticker_upper}/{ticker_upper}_WITH_{source}_FINBERT_SA.csv\""
   ]
  },
  {
   "cell_type": "code",
   "execution_count": 6,
   "metadata": {},
   "outputs": [],
   "source": [
    "df = pd.read_csv(csv_path)\n",
    "df.sort_values(by=[\"date\"], ascending=True, inplace=True)\n",
    "df.reset_index(drop=True, inplace=True)\n",
    "\n",
    "date_time = pd.to_datetime(df.pop('date'))\n",
    "\n",
    "df.index = date_time"
   ]
  },
  {
   "cell_type": "code",
   "execution_count": 7,
   "metadata": {},
   "outputs": [
    {
     "name": "stdout",
     "output_type": "stream",
     "text": [
      "<class 'pandas.core.frame.DataFrame'>\n",
      "DatetimeIndex: 3064 entries, 2010-01-04 to 2022-03-04\n",
      "Data columns (total 16 columns):\n",
      " #   Column                Non-Null Count  Dtype  \n",
      "---  ------                --------------  -----  \n",
      " 0   1. open               3064 non-null   float64\n",
      " 1   2. high               3064 non-null   float64\n",
      " 2   3. low                3064 non-null   float64\n",
      " 3   4. close              3064 non-null   float64\n",
      " 4   5. adjusted close     3064 non-null   float64\n",
      " 5   6. volume             3064 non-null   float64\n",
      " 6   7. dividend amount    3064 non-null   float64\n",
      " 7   8. split coefficient  3064 non-null   float64\n",
      " 8   date_time             3064 non-null   object \n",
      " 9   day_of_week           3064 non-null   int64  \n",
      " 10  return                3064 non-null   float64\n",
      " 11  increase              3064 non-null   float64\n",
      " 12  log_return            3064 non-null   float64\n",
      " 13  negative              3064 non-null   float64\n",
      " 14  nuetral               3064 non-null   float64\n",
      " 15  positive              3064 non-null   float64\n",
      "dtypes: float64(14), int64(1), object(1)\n",
      "memory usage: 406.9+ KB\n"
     ]
    }
   ],
   "source": [
    "df.info()"
   ]
  },
  {
   "cell_type": "code",
   "execution_count": 8,
   "metadata": {},
   "outputs": [
    {
     "data": {
      "text/html": [
       "<div>\n",
       "<style scoped>\n",
       "    .dataframe tbody tr th:only-of-type {\n",
       "        vertical-align: middle;\n",
       "    }\n",
       "\n",
       "    .dataframe tbody tr th {\n",
       "        vertical-align: top;\n",
       "    }\n",
       "\n",
       "    .dataframe thead th {\n",
       "        text-align: right;\n",
       "    }\n",
       "</style>\n",
       "<table border=\"1\" class=\"dataframe\">\n",
       "  <thead>\n",
       "    <tr style=\"text-align: right;\">\n",
       "      <th></th>\n",
       "      <th>1. open</th>\n",
       "      <th>2. high</th>\n",
       "      <th>3. low</th>\n",
       "      <th>4. close</th>\n",
       "      <th>5. adjusted close</th>\n",
       "      <th>6. volume</th>\n",
       "      <th>7. dividend amount</th>\n",
       "      <th>8. split coefficient</th>\n",
       "      <th>day_of_week</th>\n",
       "      <th>return</th>\n",
       "      <th>increase</th>\n",
       "      <th>log_return</th>\n",
       "      <th>negative</th>\n",
       "      <th>nuetral</th>\n",
       "      <th>positive</th>\n",
       "    </tr>\n",
       "  </thead>\n",
       "  <tbody>\n",
       "    <tr>\n",
       "      <th>count</th>\n",
       "      <td>3064.000000</td>\n",
       "      <td>3064.000000</td>\n",
       "      <td>3064.000000</td>\n",
       "      <td>3064.000000</td>\n",
       "      <td>3064.000000</td>\n",
       "      <td>3.064000e+03</td>\n",
       "      <td>3064.000000</td>\n",
       "      <td>3064.000000</td>\n",
       "      <td>3064.000000</td>\n",
       "      <td>3064.000000</td>\n",
       "      <td>3064.000000</td>\n",
       "      <td>3064.000000</td>\n",
       "      <td>3064.000000</td>\n",
       "      <td>3064.000000</td>\n",
       "      <td>3064.000000</td>\n",
       "    </tr>\n",
       "    <tr>\n",
       "      <th>mean</th>\n",
       "      <td>260.329399</td>\n",
       "      <td>262.829696</td>\n",
       "      <td>257.667717</td>\n",
       "      <td>260.335499</td>\n",
       "      <td>42.736360</td>\n",
       "      <td>3.829313e+07</td>\n",
       "      <td>0.013270</td>\n",
       "      <td>1.002937</td>\n",
       "      <td>2.022846</td>\n",
       "      <td>0.001207</td>\n",
       "      <td>0.529047</td>\n",
       "      <td>0.001050</td>\n",
       "      <td>0.158588</td>\n",
       "      <td>0.090758</td>\n",
       "      <td>0.748042</td>\n",
       "    </tr>\n",
       "    <tr>\n",
       "      <th>std</th>\n",
       "      <td>159.641209</td>\n",
       "      <td>161.044982</td>\n",
       "      <td>157.946296</td>\n",
       "      <td>159.521075</td>\n",
       "      <td>41.154337</td>\n",
       "      <td>3.233265e+07</td>\n",
       "      <td>0.160922</td>\n",
       "      <td>0.121173</td>\n",
       "      <td>1.399408</td>\n",
       "      <td>0.017675</td>\n",
       "      <td>0.499237</td>\n",
       "      <td>0.017688</td>\n",
       "      <td>0.143203</td>\n",
       "      <td>0.123167</td>\n",
       "      <td>0.176529</td>\n",
       "    </tr>\n",
       "    <tr>\n",
       "      <th>min</th>\n",
       "      <td>90.000000</td>\n",
       "      <td>90.700000</td>\n",
       "      <td>89.470000</td>\n",
       "      <td>90.280000</td>\n",
       "      <td>5.872396</td>\n",
       "      <td>5.624800e+06</td>\n",
       "      <td>0.000000</td>\n",
       "      <td>1.000000</td>\n",
       "      <td>0.000000</td>\n",
       "      <td>-0.128647</td>\n",
       "      <td>0.000000</td>\n",
       "      <td>-0.137708</td>\n",
       "      <td>0.000000</td>\n",
       "      <td>0.000000</td>\n",
       "      <td>0.000000</td>\n",
       "    </tr>\n",
       "    <tr>\n",
       "      <th>25%</th>\n",
       "      <td>128.377500</td>\n",
       "      <td>129.535000</td>\n",
       "      <td>127.102500</td>\n",
       "      <td>128.525000</td>\n",
       "      <td>16.285903</td>\n",
       "      <td>1.762402e+07</td>\n",
       "      <td>0.000000</td>\n",
       "      <td>1.000000</td>\n",
       "      <td>1.000000</td>\n",
       "      <td>-0.007140</td>\n",
       "      <td>0.000000</td>\n",
       "      <td>-0.007166</td>\n",
       "      <td>0.027276</td>\n",
       "      <td>0.000811</td>\n",
       "      <td>0.651903</td>\n",
       "    </tr>\n",
       "    <tr>\n",
       "      <th>50%</th>\n",
       "      <td>192.135000</td>\n",
       "      <td>194.330000</td>\n",
       "      <td>190.875000</td>\n",
       "      <td>192.255000</td>\n",
       "      <td>26.270965</td>\n",
       "      <td>2.763896e+07</td>\n",
       "      <td>0.000000</td>\n",
       "      <td>1.000000</td>\n",
       "      <td>2.000000</td>\n",
       "      <td>0.000942</td>\n",
       "      <td>1.000000</td>\n",
       "      <td>0.000942</td>\n",
       "      <td>0.140013</td>\n",
       "      <td>0.050226</td>\n",
       "      <td>0.762676</td>\n",
       "    </tr>\n",
       "    <tr>\n",
       "      <th>75%</th>\n",
       "      <td>364.102500</td>\n",
       "      <td>369.210000</td>\n",
       "      <td>358.682500</td>\n",
       "      <td>364.282500</td>\n",
       "      <td>48.589739</td>\n",
       "      <td>4.667886e+07</td>\n",
       "      <td>0.000000</td>\n",
       "      <td>1.000000</td>\n",
       "      <td>3.000000</td>\n",
       "      <td>0.010459</td>\n",
       "      <td>1.000000</td>\n",
       "      <td>0.010404</td>\n",
       "      <td>0.242063</td>\n",
       "      <td>0.137521</td>\n",
       "      <td>0.865595</td>\n",
       "    </tr>\n",
       "    <tr>\n",
       "      <th>max</th>\n",
       "      <td>702.410000</td>\n",
       "      <td>705.070000</td>\n",
       "      <td>699.570000</td>\n",
       "      <td>702.100000</td>\n",
       "      <td>181.778019</td>\n",
       "      <td>3.326072e+08</td>\n",
       "      <td>3.290000</td>\n",
       "      <td>7.000007</td>\n",
       "      <td>4.000000</td>\n",
       "      <td>0.119808</td>\n",
       "      <td>1.000000</td>\n",
       "      <td>0.113157</td>\n",
       "      <td>1.000000</td>\n",
       "      <td>0.999997</td>\n",
       "      <td>0.999999</td>\n",
       "    </tr>\n",
       "  </tbody>\n",
       "</table>\n",
       "</div>"
      ],
      "text/plain": [
       "           1. open      2. high       3. low     4. close  5. adjusted close  \\\n",
       "count  3064.000000  3064.000000  3064.000000  3064.000000        3064.000000   \n",
       "mean    260.329399   262.829696   257.667717   260.335499          42.736360   \n",
       "std     159.641209   161.044982   157.946296   159.521075          41.154337   \n",
       "min      90.000000    90.700000    89.470000    90.280000           5.872396   \n",
       "25%     128.377500   129.535000   127.102500   128.525000          16.285903   \n",
       "50%     192.135000   194.330000   190.875000   192.255000          26.270965   \n",
       "75%     364.102500   369.210000   358.682500   364.282500          48.589739   \n",
       "max     702.410000   705.070000   699.570000   702.100000         181.778019   \n",
       "\n",
       "          6. volume  7. dividend amount  8. split coefficient  day_of_week  \\\n",
       "count  3.064000e+03         3064.000000           3064.000000  3064.000000   \n",
       "mean   3.829313e+07            0.013270              1.002937     2.022846   \n",
       "std    3.233265e+07            0.160922              0.121173     1.399408   \n",
       "min    5.624800e+06            0.000000              1.000000     0.000000   \n",
       "25%    1.762402e+07            0.000000              1.000000     1.000000   \n",
       "50%    2.763896e+07            0.000000              1.000000     2.000000   \n",
       "75%    4.667886e+07            0.000000              1.000000     3.000000   \n",
       "max    3.326072e+08            3.290000              7.000007     4.000000   \n",
       "\n",
       "            return     increase   log_return     negative      nuetral  \\\n",
       "count  3064.000000  3064.000000  3064.000000  3064.000000  3064.000000   \n",
       "mean      0.001207     0.529047     0.001050     0.158588     0.090758   \n",
       "std       0.017675     0.499237     0.017688     0.143203     0.123167   \n",
       "min      -0.128647     0.000000    -0.137708     0.000000     0.000000   \n",
       "25%      -0.007140     0.000000    -0.007166     0.027276     0.000811   \n",
       "50%       0.000942     1.000000     0.000942     0.140013     0.050226   \n",
       "75%       0.010459     1.000000     0.010404     0.242063     0.137521   \n",
       "max       0.119808     1.000000     0.113157     1.000000     0.999997   \n",
       "\n",
       "          positive  \n",
       "count  3064.000000  \n",
       "mean      0.748042  \n",
       "std       0.176529  \n",
       "min       0.000000  \n",
       "25%       0.651903  \n",
       "50%       0.762676  \n",
       "75%       0.865595  \n",
       "max       0.999999  "
      ]
     },
     "execution_count": 8,
     "metadata": {},
     "output_type": "execute_result"
    }
   ],
   "source": [
    "df.describe()"
   ]
  },
  {
   "cell_type": "code",
   "execution_count": 9,
   "metadata": {},
   "outputs": [
    {
     "data": {
      "text/plain": [
       "Text(0.5, 0, 'Date')"
      ]
     },
     "execution_count": 9,
     "metadata": {},
     "output_type": "execute_result"
    },
    {
     "data": {
      "image/png": "[encoded data removed]",
      "text/plain": [
       "<Figure size 576x396 with 1 Axes>"
      ]
     },
     "metadata": {},
     "output_type": "display_data"
    },
    {
     "data": {
      "image/png": "[encoded data removed]",
      "text/plain": [
       "<Figure size 576x396 with 1 Axes>"
      ]
     },
     "metadata": {},
     "output_type": "display_data"
    }
   ],
   "source": [
    "plot_cols = ['5. adjusted close']\n",
    "plot_features = df[plot_cols]\n",
    "plot_features.index = date_time\n",
    "_ = plot_features.plot(subplots=True)\n",
    "plt.xlabel('Date')\n",
    "\n",
    "plot_features = df[plot_cols][2757:]\n",
    "plot_features.index = date_time[2757:]\n",
    "_ = plot_features.plot(subplots=True)\n",
    "plt.xlabel('Date')"
   ]
  },
  {
   "cell_type": "code",
   "execution_count": 10,
   "metadata": {},
   "outputs": [
    {
     "data": {
      "text/plain": [
       "[<matplotlib.lines.Line2D at 0x7fc7b6f6c850>]"
      ]
     },
     "execution_count": 10,
     "metadata": {},
     "output_type": "execute_result"
    },
    {
     "data": {
      "image/png": "[encoded data removed]",
      "text/plain": [
       "<Figure size 1152x288 with 1 Axes>"
      ]
     },
     "metadata": {},
     "output_type": "display_data"
    }
   ],
   "source": [
    "plt.figure(1, figsize=(16, 4))\n",
    "plt.plot(df.log_return)\n",
    "plt.title(\"Logged Returns\")"
   ]
  },
  {
   "cell_type": "code",
   "execution_count": 11,
   "metadata": {},
   "outputs": [
    {
     "name": "stdout",
     "output_type": "stream",
     "text": [
      "<class 'pandas.core.frame.DataFrame'>\n",
      "DatetimeIndex: 3064 entries, 2010-01-04 to 2022-03-04\n",
      "Data columns (total 16 columns):\n",
      " #   Column                Non-Null Count  Dtype  \n",
      "---  ------                --------------  -----  \n",
      " 0   1. open               3064 non-null   float64\n",
      " 1   2. high               3064 non-null   float64\n",
      " 2   3. low                3064 non-null   float64\n",
      " 3   4. close              3064 non-null   float64\n",
      " 4   5. adjusted close     3064 non-null   float64\n",
      " 5   6. volume             3064 non-null   float64\n",
      " 6   7. dividend amount    3064 non-null   float64\n",
      " 7   8. split coefficient  3064 non-null   float64\n",
      " 8   date_time             3064 non-null   object \n",
      " 9   day_of_week           3064 non-null   int64  \n",
      " 10  return                3064 non-null   float64\n",
      " 11  increase              3064 non-null   float64\n",
      " 12  log_return            3064 non-null   float64\n",
      " 13  negative              3064 non-null   float64\n",
      " 14  nuetral               3064 non-null   float64\n",
      " 15  positive              3064 non-null   float64\n",
      "dtypes: float64(14), int64(1), object(1)\n",
      "memory usage: 406.9+ KB\n"
     ]
    }
   ],
   "source": [
    "df.info()"
   ]
  },
  {
   "cell_type": "code",
   "execution_count": 12,
   "metadata": {},
   "outputs": [
    {
     "data": {
      "text/html": [
       "<div>\n",
       "<style scoped>\n",
       "    .dataframe tbody tr th:only-of-type {\n",
       "        vertical-align: middle;\n",
       "    }\n",
       "\n",
       "    .dataframe tbody tr th {\n",
       "        vertical-align: top;\n",
       "    }\n",
       "\n",
       "    .dataframe thead th {\n",
       "        text-align: right;\n",
       "    }\n",
       "</style>\n",
       "<table border=\"1\" class=\"dataframe\">\n",
       "  <thead>\n",
       "    <tr style=\"text-align: right;\">\n",
       "      <th></th>\n",
       "      <th>1. open</th>\n",
       "      <th>2. high</th>\n",
       "      <th>3. low</th>\n",
       "      <th>4. close</th>\n",
       "      <th>5. adjusted close</th>\n",
       "      <th>6. volume</th>\n",
       "      <th>7. dividend amount</th>\n",
       "      <th>8. split coefficient</th>\n",
       "      <th>date_time</th>\n",
       "      <th>day_of_week</th>\n",
       "      <th>return</th>\n",
       "      <th>increase</th>\n",
       "      <th>log_return</th>\n",
       "      <th>negative</th>\n",
       "      <th>nuetral</th>\n",
       "      <th>positive</th>\n",
       "    </tr>\n",
       "    <tr>\n",
       "      <th>date</th>\n",
       "      <th></th>\n",
       "      <th></th>\n",
       "      <th></th>\n",
       "      <th></th>\n",
       "      <th></th>\n",
       "      <th></th>\n",
       "      <th></th>\n",
       "      <th></th>\n",
       "      <th></th>\n",
       "      <th></th>\n",
       "      <th></th>\n",
       "      <th></th>\n",
       "      <th></th>\n",
       "      <th></th>\n",
       "      <th></th>\n",
       "      <th></th>\n",
       "    </tr>\n",
       "  </thead>\n",
       "  <tbody>\n",
       "    <tr>\n",
       "      <th>2010-01-04</th>\n",
       "      <td>213.43</td>\n",
       "      <td>214.50</td>\n",
       "      <td>212.38</td>\n",
       "      <td>214.01</td>\n",
       "      <td>6.543876</td>\n",
       "      <td>17633200.0</td>\n",
       "      <td>0.0</td>\n",
       "      <td>1.0</td>\n",
       "      <td>2010-01-04</td>\n",
       "      <td>0</td>\n",
       "      <td>0.000000</td>\n",
       "      <td>0.0</td>\n",
       "      <td>0.000000</td>\n",
       "      <td>0.000013</td>\n",
       "      <td>0.000009</td>\n",
       "      <td>0.999979</td>\n",
       "    </tr>\n",
       "    <tr>\n",
       "      <th>2010-01-05</th>\n",
       "      <td>214.60</td>\n",
       "      <td>215.59</td>\n",
       "      <td>213.25</td>\n",
       "      <td>214.38</td>\n",
       "      <td>6.555190</td>\n",
       "      <td>21496600.0</td>\n",
       "      <td>0.0</td>\n",
       "      <td>1.0</td>\n",
       "      <td>2010-01-05</td>\n",
       "      <td>1</td>\n",
       "      <td>0.001729</td>\n",
       "      <td>1.0</td>\n",
       "      <td>0.001727</td>\n",
       "      <td>0.498715</td>\n",
       "      <td>0.001116</td>\n",
       "      <td>0.500169</td>\n",
       "    </tr>\n",
       "    <tr>\n",
       "      <th>2010-01-06</th>\n",
       "      <td>214.38</td>\n",
       "      <td>215.23</td>\n",
       "      <td>210.75</td>\n",
       "      <td>210.97</td>\n",
       "      <td>6.450921</td>\n",
       "      <td>19720000.0</td>\n",
       "      <td>0.0</td>\n",
       "      <td>1.0</td>\n",
       "      <td>2010-01-06</td>\n",
       "      <td>2</td>\n",
       "      <td>-0.015906</td>\n",
       "      <td>0.0</td>\n",
       "      <td>-0.016034</td>\n",
       "      <td>0.000052</td>\n",
       "      <td>0.085701</td>\n",
       "      <td>0.914247</td>\n",
       "    </tr>\n",
       "    <tr>\n",
       "      <th>2010-01-07</th>\n",
       "      <td>211.75</td>\n",
       "      <td>212.00</td>\n",
       "      <td>209.05</td>\n",
       "      <td>210.58</td>\n",
       "      <td>6.438996</td>\n",
       "      <td>17040400.0</td>\n",
       "      <td>0.0</td>\n",
       "      <td>1.0</td>\n",
       "      <td>2010-01-07</td>\n",
       "      <td>3</td>\n",
       "      <td>-0.001849</td>\n",
       "      <td>0.0</td>\n",
       "      <td>-0.001850</td>\n",
       "      <td>0.457010</td>\n",
       "      <td>0.000224</td>\n",
       "      <td>0.542766</td>\n",
       "    </tr>\n",
       "    <tr>\n",
       "      <th>2010-01-08</th>\n",
       "      <td>210.30</td>\n",
       "      <td>212.00</td>\n",
       "      <td>209.06</td>\n",
       "      <td>211.98</td>\n",
       "      <td>6.481804</td>\n",
       "      <td>15986100.0</td>\n",
       "      <td>0.0</td>\n",
       "      <td>1.0</td>\n",
       "      <td>2010-01-08</td>\n",
       "      <td>4</td>\n",
       "      <td>0.006648</td>\n",
       "      <td>1.0</td>\n",
       "      <td>0.006626</td>\n",
       "      <td>0.010157</td>\n",
       "      <td>0.000059</td>\n",
       "      <td>0.989783</td>\n",
       "    </tr>\n",
       "  </tbody>\n",
       "</table>\n",
       "</div>"
      ],
      "text/plain": [
       "            1. open  2. high  3. low  4. close  5. adjusted close   6. volume  \\\n",
       "date                                                                            \n",
       "2010-01-04   213.43   214.50  212.38    214.01           6.543876  17633200.0   \n",
       "2010-01-05   214.60   215.59  213.25    214.38           6.555190  21496600.0   \n",
       "2010-01-06   214.38   215.23  210.75    210.97           6.450921  19720000.0   \n",
       "2010-01-07   211.75   212.00  209.05    210.58           6.438996  17040400.0   \n",
       "2010-01-08   210.30   212.00  209.06    211.98           6.481804  15986100.0   \n",
       "\n",
       "            7. dividend amount  8. split coefficient   date_time  day_of_week  \\\n",
       "date                                                                            \n",
       "2010-01-04                 0.0                   1.0  2010-01-04            0   \n",
       "2010-01-05                 0.0                   1.0  2010-01-05            1   \n",
       "2010-01-06                 0.0                   1.0  2010-01-06            2   \n",
       "2010-01-07                 0.0                   1.0  2010-01-07            3   \n",
       "2010-01-08                 0.0                   1.0  2010-01-08            4   \n",
       "\n",
       "              return  increase  log_return  negative   nuetral  positive  \n",
       "date                                                                      \n",
       "2010-01-04  0.000000       0.0    0.000000  0.000013  0.000009  0.999979  \n",
       "2010-01-05  0.001729       1.0    0.001727  0.498715  0.001116  0.500169  \n",
       "2010-01-06 -0.015906       0.0   -0.016034  0.000052  0.085701  0.914247  \n",
       "2010-01-07 -0.001849       0.0   -0.001850  0.457010  0.000224  0.542766  \n",
       "2010-01-08  0.006648       1.0    0.006626  0.010157  0.000059  0.989783  "
      ]
     },
     "execution_count": 12,
     "metadata": {},
     "output_type": "execute_result"
    }
   ],
   "source": [
    "df.head()"
   ]
  },
  {
   "cell_type": "code",
   "execution_count": 13,
   "metadata": {},
   "outputs": [
    {
     "data": {
      "text/html": [
       "<div>\n",
       "<style scoped>\n",
       "    .dataframe tbody tr th:only-of-type {\n",
       "        vertical-align: middle;\n",
       "    }\n",
       "\n",
       "    .dataframe tbody tr th {\n",
       "        vertical-align: top;\n",
       "    }\n",
       "\n",
       "    .dataframe thead th {\n",
       "        text-align: right;\n",
       "    }\n",
       "</style>\n",
       "<table border=\"1\" class=\"dataframe\">\n",
       "  <thead>\n",
       "    <tr style=\"text-align: right;\">\n",
       "      <th></th>\n",
       "      <th>1. open</th>\n",
       "      <th>2. high</th>\n",
       "      <th>3. low</th>\n",
       "      <th>4. close</th>\n",
       "      <th>5. adjusted close</th>\n",
       "      <th>6. volume</th>\n",
       "      <th>7. dividend amount</th>\n",
       "      <th>8. split coefficient</th>\n",
       "      <th>date_time</th>\n",
       "      <th>day_of_week</th>\n",
       "      <th>return</th>\n",
       "      <th>increase</th>\n",
       "      <th>log_return</th>\n",
       "      <th>negative</th>\n",
       "      <th>nuetral</th>\n",
       "      <th>positive</th>\n",
       "    </tr>\n",
       "    <tr>\n",
       "      <th>date</th>\n",
       "      <th></th>\n",
       "      <th></th>\n",
       "      <th></th>\n",
       "      <th></th>\n",
       "      <th></th>\n",
       "      <th></th>\n",
       "      <th></th>\n",
       "      <th></th>\n",
       "      <th></th>\n",
       "      <th></th>\n",
       "      <th></th>\n",
       "      <th></th>\n",
       "      <th></th>\n",
       "      <th></th>\n",
       "      <th></th>\n",
       "      <th></th>\n",
       "    </tr>\n",
       "  </thead>\n",
       "  <tbody>\n",
       "    <tr>\n",
       "      <th>2022-02-28</th>\n",
       "      <td>163.060</td>\n",
       "      <td>165.42</td>\n",
       "      <td>162.43</td>\n",
       "      <td>165.12</td>\n",
       "      <td>165.12</td>\n",
       "      <td>95056629.0</td>\n",
       "      <td>0.0</td>\n",
       "      <td>1.0</td>\n",
       "      <td>2022-02-28</td>\n",
       "      <td>0</td>\n",
       "      <td>0.001638</td>\n",
       "      <td>1.0</td>\n",
       "      <td>0.001637</td>\n",
       "      <td>0.110022</td>\n",
       "      <td>0.022801</td>\n",
       "      <td>0.867177</td>\n",
       "    </tr>\n",
       "    <tr>\n",
       "      <th>2022-03-01</th>\n",
       "      <td>164.695</td>\n",
       "      <td>166.60</td>\n",
       "      <td>161.97</td>\n",
       "      <td>163.20</td>\n",
       "      <td>163.20</td>\n",
       "      <td>83474425.0</td>\n",
       "      <td>0.0</td>\n",
       "      <td>1.0</td>\n",
       "      <td>2022-03-01</td>\n",
       "      <td>1</td>\n",
       "      <td>-0.011628</td>\n",
       "      <td>0.0</td>\n",
       "      <td>-0.011696</td>\n",
       "      <td>0.083351</td>\n",
       "      <td>0.250679</td>\n",
       "      <td>0.665971</td>\n",
       "    </tr>\n",
       "    <tr>\n",
       "      <th>2022-03-02</th>\n",
       "      <td>164.390</td>\n",
       "      <td>167.36</td>\n",
       "      <td>162.95</td>\n",
       "      <td>166.56</td>\n",
       "      <td>166.56</td>\n",
       "      <td>79724750.0</td>\n",
       "      <td>0.0</td>\n",
       "      <td>1.0</td>\n",
       "      <td>2022-03-02</td>\n",
       "      <td>2</td>\n",
       "      <td>0.020588</td>\n",
       "      <td>1.0</td>\n",
       "      <td>0.020379</td>\n",
       "      <td>0.150388</td>\n",
       "      <td>0.000115</td>\n",
       "      <td>0.849497</td>\n",
       "    </tr>\n",
       "    <tr>\n",
       "      <th>2022-03-03</th>\n",
       "      <td>168.470</td>\n",
       "      <td>168.91</td>\n",
       "      <td>165.55</td>\n",
       "      <td>166.23</td>\n",
       "      <td>166.23</td>\n",
       "      <td>76678441.0</td>\n",
       "      <td>0.0</td>\n",
       "      <td>1.0</td>\n",
       "      <td>2022-03-03</td>\n",
       "      <td>3</td>\n",
       "      <td>-0.001981</td>\n",
       "      <td>0.0</td>\n",
       "      <td>-0.001983</td>\n",
       "      <td>0.132856</td>\n",
       "      <td>0.000441</td>\n",
       "      <td>0.866703</td>\n",
       "    </tr>\n",
       "    <tr>\n",
       "      <th>2022-03-04</th>\n",
       "      <td>164.490</td>\n",
       "      <td>165.55</td>\n",
       "      <td>162.10</td>\n",
       "      <td>163.17</td>\n",
       "      <td>163.17</td>\n",
       "      <td>83819592.0</td>\n",
       "      <td>0.0</td>\n",
       "      <td>1.0</td>\n",
       "      <td>2022-03-04</td>\n",
       "      <td>4</td>\n",
       "      <td>-0.018408</td>\n",
       "      <td>0.0</td>\n",
       "      <td>-0.018580</td>\n",
       "      <td>0.132856</td>\n",
       "      <td>0.000441</td>\n",
       "      <td>0.866703</td>\n",
       "    </tr>\n",
       "  </tbody>\n",
       "</table>\n",
       "</div>"
      ],
      "text/plain": [
       "            1. open  2. high  3. low  4. close  5. adjusted close   6. volume  \\\n",
       "date                                                                            \n",
       "2022-02-28  163.060   165.42  162.43    165.12             165.12  95056629.0   \n",
       "2022-03-01  164.695   166.60  161.97    163.20             163.20  83474425.0   \n",
       "2022-03-02  164.390   167.36  162.95    166.56             166.56  79724750.0   \n",
       "2022-03-03  168.470   168.91  165.55    166.23             166.23  76678441.0   \n",
       "2022-03-04  164.490   165.55  162.10    163.17             163.17  83819592.0   \n",
       "\n",
       "            7. dividend amount  8. split coefficient   date_time  day_of_week  \\\n",
       "date                                                                            \n",
       "2022-02-28                 0.0                   1.0  2022-02-28            0   \n",
       "2022-03-01                 0.0                   1.0  2022-03-01            1   \n",
       "2022-03-02                 0.0                   1.0  2022-03-02            2   \n",
       "2022-03-03                 0.0                   1.0  2022-03-03            3   \n",
       "2022-03-04                 0.0                   1.0  2022-03-04            4   \n",
       "\n",
       "              return  increase  log_return  negative   nuetral  positive  \n",
       "date                                                                      \n",
       "2022-02-28  0.001638       1.0    0.001637  0.110022  0.022801  0.867177  \n",
       "2022-03-01 -0.011628       0.0   -0.011696  0.083351  0.250679  0.665971  \n",
       "2022-03-02  0.020588       1.0    0.020379  0.150388  0.000115  0.849497  \n",
       "2022-03-03 -0.001981       0.0   -0.001983  0.132856  0.000441  0.866703  \n",
       "2022-03-04 -0.018408       0.0   -0.018580  0.132856  0.000441  0.866703  "
      ]
     },
     "execution_count": 13,
     "metadata": {},
     "output_type": "execute_result"
    }
   ],
   "source": [
    "df.tail()"
   ]
  },
  {
   "cell_type": "code",
   "execution_count": 14,
   "metadata": {},
   "outputs": [],
   "source": [
    "# df[\"increase\"] = df[\"increase\"].shift(1)\n",
    "# df[\"log_return\"] = df[\"log_return\"].shift(1)"
   ]
  },
  {
   "cell_type": "code",
   "execution_count": 15,
   "metadata": {},
   "outputs": [
    {
     "data": {
      "text/html": [
       "<div>\n",
       "<style scoped>\n",
       "    .dataframe tbody tr th:only-of-type {\n",
       "        vertical-align: middle;\n",
       "    }\n",
       "\n",
       "    .dataframe tbody tr th {\n",
       "        vertical-align: top;\n",
       "    }\n",
       "\n",
       "    .dataframe thead th {\n",
       "        text-align: right;\n",
       "    }\n",
       "</style>\n",
       "<table border=\"1\" class=\"dataframe\">\n",
       "  <thead>\n",
       "    <tr style=\"text-align: right;\">\n",
       "      <th></th>\n",
       "      <th>1. open</th>\n",
       "      <th>2. high</th>\n",
       "      <th>3. low</th>\n",
       "      <th>4. close</th>\n",
       "      <th>5. adjusted close</th>\n",
       "      <th>6. volume</th>\n",
       "      <th>7. dividend amount</th>\n",
       "      <th>8. split coefficient</th>\n",
       "      <th>date_time</th>\n",
       "      <th>day_of_week</th>\n",
       "      <th>return</th>\n",
       "      <th>increase</th>\n",
       "      <th>log_return</th>\n",
       "      <th>negative</th>\n",
       "      <th>nuetral</th>\n",
       "      <th>positive</th>\n",
       "    </tr>\n",
       "    <tr>\n",
       "      <th>date</th>\n",
       "      <th></th>\n",
       "      <th></th>\n",
       "      <th></th>\n",
       "      <th></th>\n",
       "      <th></th>\n",
       "      <th></th>\n",
       "      <th></th>\n",
       "      <th></th>\n",
       "      <th></th>\n",
       "      <th></th>\n",
       "      <th></th>\n",
       "      <th></th>\n",
       "      <th></th>\n",
       "      <th></th>\n",
       "      <th></th>\n",
       "      <th></th>\n",
       "    </tr>\n",
       "  </thead>\n",
       "  <tbody>\n",
       "    <tr>\n",
       "      <th>2010-01-04</th>\n",
       "      <td>213.43</td>\n",
       "      <td>214.50</td>\n",
       "      <td>212.38</td>\n",
       "      <td>214.01</td>\n",
       "      <td>6.543876</td>\n",
       "      <td>17633200.0</td>\n",
       "      <td>0.0</td>\n",
       "      <td>1.0</td>\n",
       "      <td>2010-01-04</td>\n",
       "      <td>0</td>\n",
       "      <td>0.000000</td>\n",
       "      <td>0.0</td>\n",
       "      <td>0.000000</td>\n",
       "      <td>0.000013</td>\n",
       "      <td>0.000009</td>\n",
       "      <td>0.999979</td>\n",
       "    </tr>\n",
       "    <tr>\n",
       "      <th>2010-01-05</th>\n",
       "      <td>214.60</td>\n",
       "      <td>215.59</td>\n",
       "      <td>213.25</td>\n",
       "      <td>214.38</td>\n",
       "      <td>6.555190</td>\n",
       "      <td>21496600.0</td>\n",
       "      <td>0.0</td>\n",
       "      <td>1.0</td>\n",
       "      <td>2010-01-05</td>\n",
       "      <td>1</td>\n",
       "      <td>0.001729</td>\n",
       "      <td>1.0</td>\n",
       "      <td>0.001727</td>\n",
       "      <td>0.498715</td>\n",
       "      <td>0.001116</td>\n",
       "      <td>0.500169</td>\n",
       "    </tr>\n",
       "    <tr>\n",
       "      <th>2010-01-06</th>\n",
       "      <td>214.38</td>\n",
       "      <td>215.23</td>\n",
       "      <td>210.75</td>\n",
       "      <td>210.97</td>\n",
       "      <td>6.450921</td>\n",
       "      <td>19720000.0</td>\n",
       "      <td>0.0</td>\n",
       "      <td>1.0</td>\n",
       "      <td>2010-01-06</td>\n",
       "      <td>2</td>\n",
       "      <td>-0.015906</td>\n",
       "      <td>0.0</td>\n",
       "      <td>-0.016034</td>\n",
       "      <td>0.000052</td>\n",
       "      <td>0.085701</td>\n",
       "      <td>0.914247</td>\n",
       "    </tr>\n",
       "    <tr>\n",
       "      <th>2010-01-07</th>\n",
       "      <td>211.75</td>\n",
       "      <td>212.00</td>\n",
       "      <td>209.05</td>\n",
       "      <td>210.58</td>\n",
       "      <td>6.438996</td>\n",
       "      <td>17040400.0</td>\n",
       "      <td>0.0</td>\n",
       "      <td>1.0</td>\n",
       "      <td>2010-01-07</td>\n",
       "      <td>3</td>\n",
       "      <td>-0.001849</td>\n",
       "      <td>0.0</td>\n",
       "      <td>-0.001850</td>\n",
       "      <td>0.457010</td>\n",
       "      <td>0.000224</td>\n",
       "      <td>0.542766</td>\n",
       "    </tr>\n",
       "    <tr>\n",
       "      <th>2010-01-08</th>\n",
       "      <td>210.30</td>\n",
       "      <td>212.00</td>\n",
       "      <td>209.06</td>\n",
       "      <td>211.98</td>\n",
       "      <td>6.481804</td>\n",
       "      <td>15986100.0</td>\n",
       "      <td>0.0</td>\n",
       "      <td>1.0</td>\n",
       "      <td>2010-01-08</td>\n",
       "      <td>4</td>\n",
       "      <td>0.006648</td>\n",
       "      <td>1.0</td>\n",
       "      <td>0.006626</td>\n",
       "      <td>0.010157</td>\n",
       "      <td>0.000059</td>\n",
       "      <td>0.989783</td>\n",
       "    </tr>\n",
       "  </tbody>\n",
       "</table>\n",
       "</div>"
      ],
      "text/plain": [
       "            1. open  2. high  3. low  4. close  5. adjusted close   6. volume  \\\n",
       "date                                                                            \n",
       "2010-01-04   213.43   214.50  212.38    214.01           6.543876  17633200.0   \n",
       "2010-01-05   214.60   215.59  213.25    214.38           6.555190  21496600.0   \n",
       "2010-01-06   214.38   215.23  210.75    210.97           6.450921  19720000.0   \n",
       "2010-01-07   211.75   212.00  209.05    210.58           6.438996  17040400.0   \n",
       "2010-01-08   210.30   212.00  209.06    211.98           6.481804  15986100.0   \n",
       "\n",
       "            7. dividend amount  8. split coefficient   date_time  day_of_week  \\\n",
       "date                                                                            \n",
       "2010-01-04                 0.0                   1.0  2010-01-04            0   \n",
       "2010-01-05                 0.0                   1.0  2010-01-05            1   \n",
       "2010-01-06                 0.0                   1.0  2010-01-06            2   \n",
       "2010-01-07                 0.0                   1.0  2010-01-07            3   \n",
       "2010-01-08                 0.0                   1.0  2010-01-08            4   \n",
       "\n",
       "              return  increase  log_return  negative   nuetral  positive  \n",
       "date                                                                      \n",
       "2010-01-04  0.000000       0.0    0.000000  0.000013  0.000009  0.999979  \n",
       "2010-01-05  0.001729       1.0    0.001727  0.498715  0.001116  0.500169  \n",
       "2010-01-06 -0.015906       0.0   -0.016034  0.000052  0.085701  0.914247  \n",
       "2010-01-07 -0.001849       0.0   -0.001850  0.457010  0.000224  0.542766  \n",
       "2010-01-08  0.006648       1.0    0.006626  0.010157  0.000059  0.989783  "
      ]
     },
     "execution_count": 15,
     "metadata": {},
     "output_type": "execute_result"
    }
   ],
   "source": [
    "df.head()"
   ]
  },
  {
   "cell_type": "code",
   "execution_count": 16,
   "metadata": {},
   "outputs": [
    {
     "data": {
      "text/html": [
       "<div>\n",
       "<style scoped>\n",
       "    .dataframe tbody tr th:only-of-type {\n",
       "        vertical-align: middle;\n",
       "    }\n",
       "\n",
       "    .dataframe tbody tr th {\n",
       "        vertical-align: top;\n",
       "    }\n",
       "\n",
       "    .dataframe thead th {\n",
       "        text-align: right;\n",
       "    }\n",
       "</style>\n",
       "<table border=\"1\" class=\"dataframe\">\n",
       "  <thead>\n",
       "    <tr style=\"text-align: right;\">\n",
       "      <th></th>\n",
       "      <th>1. open</th>\n",
       "      <th>2. high</th>\n",
       "      <th>3. low</th>\n",
       "      <th>4. close</th>\n",
       "      <th>5. adjusted close</th>\n",
       "      <th>6. volume</th>\n",
       "      <th>7. dividend amount</th>\n",
       "      <th>8. split coefficient</th>\n",
       "      <th>date_time</th>\n",
       "      <th>day_of_week</th>\n",
       "      <th>return</th>\n",
       "      <th>increase</th>\n",
       "      <th>log_return</th>\n",
       "      <th>negative</th>\n",
       "      <th>nuetral</th>\n",
       "      <th>positive</th>\n",
       "    </tr>\n",
       "    <tr>\n",
       "      <th>date</th>\n",
       "      <th></th>\n",
       "      <th></th>\n",
       "      <th></th>\n",
       "      <th></th>\n",
       "      <th></th>\n",
       "      <th></th>\n",
       "      <th></th>\n",
       "      <th></th>\n",
       "      <th></th>\n",
       "      <th></th>\n",
       "      <th></th>\n",
       "      <th></th>\n",
       "      <th></th>\n",
       "      <th></th>\n",
       "      <th></th>\n",
       "      <th></th>\n",
       "    </tr>\n",
       "  </thead>\n",
       "  <tbody>\n",
       "    <tr>\n",
       "      <th>2022-02-28</th>\n",
       "      <td>163.060</td>\n",
       "      <td>165.42</td>\n",
       "      <td>162.43</td>\n",
       "      <td>165.12</td>\n",
       "      <td>165.12</td>\n",
       "      <td>95056629.0</td>\n",
       "      <td>0.0</td>\n",
       "      <td>1.0</td>\n",
       "      <td>2022-02-28</td>\n",
       "      <td>0</td>\n",
       "      <td>0.001638</td>\n",
       "      <td>1.0</td>\n",
       "      <td>0.001637</td>\n",
       "      <td>0.110022</td>\n",
       "      <td>0.022801</td>\n",
       "      <td>0.867177</td>\n",
       "    </tr>\n",
       "    <tr>\n",
       "      <th>2022-03-01</th>\n",
       "      <td>164.695</td>\n",
       "      <td>166.60</td>\n",
       "      <td>161.97</td>\n",
       "      <td>163.20</td>\n",
       "      <td>163.20</td>\n",
       "      <td>83474425.0</td>\n",
       "      <td>0.0</td>\n",
       "      <td>1.0</td>\n",
       "      <td>2022-03-01</td>\n",
       "      <td>1</td>\n",
       "      <td>-0.011628</td>\n",
       "      <td>0.0</td>\n",
       "      <td>-0.011696</td>\n",
       "      <td>0.083351</td>\n",
       "      <td>0.250679</td>\n",
       "      <td>0.665971</td>\n",
       "    </tr>\n",
       "    <tr>\n",
       "      <th>2022-03-02</th>\n",
       "      <td>164.390</td>\n",
       "      <td>167.36</td>\n",
       "      <td>162.95</td>\n",
       "      <td>166.56</td>\n",
       "      <td>166.56</td>\n",
       "      <td>79724750.0</td>\n",
       "      <td>0.0</td>\n",
       "      <td>1.0</td>\n",
       "      <td>2022-03-02</td>\n",
       "      <td>2</td>\n",
       "      <td>0.020588</td>\n",
       "      <td>1.0</td>\n",
       "      <td>0.020379</td>\n",
       "      <td>0.150388</td>\n",
       "      <td>0.000115</td>\n",
       "      <td>0.849497</td>\n",
       "    </tr>\n",
       "    <tr>\n",
       "      <th>2022-03-03</th>\n",
       "      <td>168.470</td>\n",
       "      <td>168.91</td>\n",
       "      <td>165.55</td>\n",
       "      <td>166.23</td>\n",
       "      <td>166.23</td>\n",
       "      <td>76678441.0</td>\n",
       "      <td>0.0</td>\n",
       "      <td>1.0</td>\n",
       "      <td>2022-03-03</td>\n",
       "      <td>3</td>\n",
       "      <td>-0.001981</td>\n",
       "      <td>0.0</td>\n",
       "      <td>-0.001983</td>\n",
       "      <td>0.132856</td>\n",
       "      <td>0.000441</td>\n",
       "      <td>0.866703</td>\n",
       "    </tr>\n",
       "    <tr>\n",
       "      <th>2022-03-04</th>\n",
       "      <td>164.490</td>\n",
       "      <td>165.55</td>\n",
       "      <td>162.10</td>\n",
       "      <td>163.17</td>\n",
       "      <td>163.17</td>\n",
       "      <td>83819592.0</td>\n",
       "      <td>0.0</td>\n",
       "      <td>1.0</td>\n",
       "      <td>2022-03-04</td>\n",
       "      <td>4</td>\n",
       "      <td>-0.018408</td>\n",
       "      <td>0.0</td>\n",
       "      <td>-0.018580</td>\n",
       "      <td>0.132856</td>\n",
       "      <td>0.000441</td>\n",
       "      <td>0.866703</td>\n",
       "    </tr>\n",
       "  </tbody>\n",
       "</table>\n",
       "</div>"
      ],
      "text/plain": [
       "            1. open  2. high  3. low  4. close  5. adjusted close   6. volume  \\\n",
       "date                                                                            \n",
       "2022-02-28  163.060   165.42  162.43    165.12             165.12  95056629.0   \n",
       "2022-03-01  164.695   166.60  161.97    163.20             163.20  83474425.0   \n",
       "2022-03-02  164.390   167.36  162.95    166.56             166.56  79724750.0   \n",
       "2022-03-03  168.470   168.91  165.55    166.23             166.23  76678441.0   \n",
       "2022-03-04  164.490   165.55  162.10    163.17             163.17  83819592.0   \n",
       "\n",
       "            7. dividend amount  8. split coefficient   date_time  day_of_week  \\\n",
       "date                                                                            \n",
       "2022-02-28                 0.0                   1.0  2022-02-28            0   \n",
       "2022-03-01                 0.0                   1.0  2022-03-01            1   \n",
       "2022-03-02                 0.0                   1.0  2022-03-02            2   \n",
       "2022-03-03                 0.0                   1.0  2022-03-03            3   \n",
       "2022-03-04                 0.0                   1.0  2022-03-04            4   \n",
       "\n",
       "              return  increase  log_return  negative   nuetral  positive  \n",
       "date                                                                      \n",
       "2022-02-28  0.001638       1.0    0.001637  0.110022  0.022801  0.867177  \n",
       "2022-03-01 -0.011628       0.0   -0.011696  0.083351  0.250679  0.665971  \n",
       "2022-03-02  0.020588       1.0    0.020379  0.150388  0.000115  0.849497  \n",
       "2022-03-03 -0.001981       0.0   -0.001983  0.132856  0.000441  0.866703  \n",
       "2022-03-04 -0.018408       0.0   -0.018580  0.132856  0.000441  0.866703  "
      ]
     },
     "execution_count": 16,
     "metadata": {},
     "output_type": "execute_result"
    }
   ],
   "source": [
    "df.tail()"
   ]
  },
  {
   "cell_type": "code",
   "execution_count": 17,
   "metadata": {},
   "outputs": [],
   "source": [
    "df.fillna(0.0, inplace=True)"
   ]
  },
  {
   "cell_type": "code",
   "execution_count": 18,
   "metadata": {},
   "outputs": [
    {
     "data": {
      "text/html": [
       "<div>\n",
       "<style scoped>\n",
       "    .dataframe tbody tr th:only-of-type {\n",
       "        vertical-align: middle;\n",
       "    }\n",
       "\n",
       "    .dataframe tbody tr th {\n",
       "        vertical-align: top;\n",
       "    }\n",
       "\n",
       "    .dataframe thead th {\n",
       "        text-align: right;\n",
       "    }\n",
       "</style>\n",
       "<table border=\"1\" class=\"dataframe\">\n",
       "  <thead>\n",
       "    <tr style=\"text-align: right;\">\n",
       "      <th></th>\n",
       "      <th>count</th>\n",
       "      <th>mean</th>\n",
       "      <th>std</th>\n",
       "      <th>min</th>\n",
       "      <th>25%</th>\n",
       "      <th>50%</th>\n",
       "      <th>75%</th>\n",
       "      <th>max</th>\n",
       "    </tr>\n",
       "  </thead>\n",
       "  <tbody>\n",
       "    <tr>\n",
       "      <th>1. open</th>\n",
       "      <td>3064.0</td>\n",
       "      <td>2.603294e+02</td>\n",
       "      <td>1.596412e+02</td>\n",
       "      <td>9.000000e+01</td>\n",
       "      <td>1.283775e+02</td>\n",
       "      <td>1.921350e+02</td>\n",
       "      <td>3.641025e+02</td>\n",
       "      <td>7.024100e+02</td>\n",
       "    </tr>\n",
       "    <tr>\n",
       "      <th>2. high</th>\n",
       "      <td>3064.0</td>\n",
       "      <td>2.628297e+02</td>\n",
       "      <td>1.610450e+02</td>\n",
       "      <td>9.070000e+01</td>\n",
       "      <td>1.295350e+02</td>\n",
       "      <td>1.943300e+02</td>\n",
       "      <td>3.692100e+02</td>\n",
       "      <td>7.050700e+02</td>\n",
       "    </tr>\n",
       "    <tr>\n",
       "      <th>3. low</th>\n",
       "      <td>3064.0</td>\n",
       "      <td>2.576677e+02</td>\n",
       "      <td>1.579463e+02</td>\n",
       "      <td>8.947000e+01</td>\n",
       "      <td>1.271025e+02</td>\n",
       "      <td>1.908750e+02</td>\n",
       "      <td>3.586825e+02</td>\n",
       "      <td>6.995700e+02</td>\n",
       "    </tr>\n",
       "    <tr>\n",
       "      <th>4. close</th>\n",
       "      <td>3064.0</td>\n",
       "      <td>2.603355e+02</td>\n",
       "      <td>1.595211e+02</td>\n",
       "      <td>9.028000e+01</td>\n",
       "      <td>1.285250e+02</td>\n",
       "      <td>1.922550e+02</td>\n",
       "      <td>3.642825e+02</td>\n",
       "      <td>7.021000e+02</td>\n",
       "    </tr>\n",
       "    <tr>\n",
       "      <th>5. adjusted close</th>\n",
       "      <td>3064.0</td>\n",
       "      <td>4.273636e+01</td>\n",
       "      <td>4.115434e+01</td>\n",
       "      <td>5.872396e+00</td>\n",
       "      <td>1.628590e+01</td>\n",
       "      <td>2.627096e+01</td>\n",
       "      <td>4.858974e+01</td>\n",
       "      <td>1.817780e+02</td>\n",
       "    </tr>\n",
       "    <tr>\n",
       "      <th>6. volume</th>\n",
       "      <td>3064.0</td>\n",
       "      <td>3.829313e+07</td>\n",
       "      <td>3.233265e+07</td>\n",
       "      <td>5.624800e+06</td>\n",
       "      <td>1.762402e+07</td>\n",
       "      <td>2.763896e+07</td>\n",
       "      <td>4.667886e+07</td>\n",
       "      <td>3.326072e+08</td>\n",
       "    </tr>\n",
       "    <tr>\n",
       "      <th>7. dividend amount</th>\n",
       "      <td>3064.0</td>\n",
       "      <td>1.327023e-02</td>\n",
       "      <td>1.609221e-01</td>\n",
       "      <td>0.000000e+00</td>\n",
       "      <td>0.000000e+00</td>\n",
       "      <td>0.000000e+00</td>\n",
       "      <td>0.000000e+00</td>\n",
       "      <td>3.290000e+00</td>\n",
       "    </tr>\n",
       "    <tr>\n",
       "      <th>8. split coefficient</th>\n",
       "      <td>3064.0</td>\n",
       "      <td>1.002937e+00</td>\n",
       "      <td>1.211729e-01</td>\n",
       "      <td>1.000000e+00</td>\n",
       "      <td>1.000000e+00</td>\n",
       "      <td>1.000000e+00</td>\n",
       "      <td>1.000000e+00</td>\n",
       "      <td>7.000007e+00</td>\n",
       "    </tr>\n",
       "    <tr>\n",
       "      <th>day_of_week</th>\n",
       "      <td>3064.0</td>\n",
       "      <td>2.022846e+00</td>\n",
       "      <td>1.399408e+00</td>\n",
       "      <td>0.000000e+00</td>\n",
       "      <td>1.000000e+00</td>\n",
       "      <td>2.000000e+00</td>\n",
       "      <td>3.000000e+00</td>\n",
       "      <td>4.000000e+00</td>\n",
       "    </tr>\n",
       "    <tr>\n",
       "      <th>return</th>\n",
       "      <td>3064.0</td>\n",
       "      <td>1.206562e-03</td>\n",
       "      <td>1.767537e-02</td>\n",
       "      <td>-1.286470e-01</td>\n",
       "      <td>-7.140032e-03</td>\n",
       "      <td>9.419846e-04</td>\n",
       "      <td>1.045851e-02</td>\n",
       "      <td>1.198082e-01</td>\n",
       "    </tr>\n",
       "    <tr>\n",
       "      <th>increase</th>\n",
       "      <td>3064.0</td>\n",
       "      <td>5.290470e-01</td>\n",
       "      <td>4.992370e-01</td>\n",
       "      <td>0.000000e+00</td>\n",
       "      <td>0.000000e+00</td>\n",
       "      <td>1.000000e+00</td>\n",
       "      <td>1.000000e+00</td>\n",
       "      <td>1.000000e+00</td>\n",
       "    </tr>\n",
       "    <tr>\n",
       "      <th>log_return</th>\n",
       "      <td>3064.0</td>\n",
       "      <td>1.049694e-03</td>\n",
       "      <td>1.768795e-02</td>\n",
       "      <td>-1.377081e-01</td>\n",
       "      <td>-7.165644e-03</td>\n",
       "      <td>9.415412e-04</td>\n",
       "      <td>1.040419e-02</td>\n",
       "      <td>1.131575e-01</td>\n",
       "    </tr>\n",
       "    <tr>\n",
       "      <th>negative</th>\n",
       "      <td>3064.0</td>\n",
       "      <td>1.585881e-01</td>\n",
       "      <td>1.432034e-01</td>\n",
       "      <td>0.000000e+00</td>\n",
       "      <td>2.727574e-02</td>\n",
       "      <td>1.400125e-01</td>\n",
       "      <td>2.420628e-01</td>\n",
       "      <td>9.999998e-01</td>\n",
       "    </tr>\n",
       "    <tr>\n",
       "      <th>nuetral</th>\n",
       "      <td>3064.0</td>\n",
       "      <td>9.075848e-02</td>\n",
       "      <td>1.231674e-01</td>\n",
       "      <td>0.000000e+00</td>\n",
       "      <td>8.110894e-04</td>\n",
       "      <td>5.022574e-02</td>\n",
       "      <td>1.375212e-01</td>\n",
       "      <td>9.999969e-01</td>\n",
       "    </tr>\n",
       "    <tr>\n",
       "      <th>positive</th>\n",
       "      <td>3064.0</td>\n",
       "      <td>7.480425e-01</td>\n",
       "      <td>1.765295e-01</td>\n",
       "      <td>0.000000e+00</td>\n",
       "      <td>6.519028e-01</td>\n",
       "      <td>7.626756e-01</td>\n",
       "      <td>8.655955e-01</td>\n",
       "      <td>9.999988e-01</td>\n",
       "    </tr>\n",
       "  </tbody>\n",
       "</table>\n",
       "</div>"
      ],
      "text/plain": [
       "                       count          mean           std           min  \\\n",
       "1. open               3064.0  2.603294e+02  1.596412e+02  9.000000e+01   \n",
       "2. high               3064.0  2.628297e+02  1.610450e+02  9.070000e+01   \n",
       "3. low                3064.0  2.576677e+02  1.579463e+02  8.947000e+01   \n",
       "4. close              3064.0  2.603355e+02  1.595211e+02  9.028000e+01   \n",
       "5. adjusted close     3064.0  4.273636e+01  4.115434e+01  5.872396e+00   \n",
       "6. volume             3064.0  3.829313e+07  3.233265e+07  5.624800e+06   \n",
       "7. dividend amount    3064.0  1.327023e-02  1.609221e-01  0.000000e+00   \n",
       "8. split coefficient  3064.0  1.002937e+00  1.211729e-01  1.000000e+00   \n",
       "day_of_week           3064.0  2.022846e+00  1.399408e+00  0.000000e+00   \n",
       "return                3064.0  1.206562e-03  1.767537e-02 -1.286470e-01   \n",
       "increase              3064.0  5.290470e-01  4.992370e-01  0.000000e+00   \n",
       "log_return            3064.0  1.049694e-03  1.768795e-02 -1.377081e-01   \n",
       "negative              3064.0  1.585881e-01  1.432034e-01  0.000000e+00   \n",
       "nuetral               3064.0  9.075848e-02  1.231674e-01  0.000000e+00   \n",
       "positive              3064.0  7.480425e-01  1.765295e-01  0.000000e+00   \n",
       "\n",
       "                               25%           50%           75%           max  \n",
       "1. open               1.283775e+02  1.921350e+02  3.641025e+02  7.024100e+02  \n",
       "2. high               1.295350e+02  1.943300e+02  3.692100e+02  7.050700e+02  \n",
       "3. low                1.271025e+02  1.908750e+02  3.586825e+02  6.995700e+02  \n",
       "4. close              1.285250e+02  1.922550e+02  3.642825e+02  7.021000e+02  \n",
       "5. adjusted close     1.628590e+01  2.627096e+01  4.858974e+01  1.817780e+02  \n",
       "6. volume             1.762402e+07  2.763896e+07  4.667886e+07  3.326072e+08  \n",
       "7. dividend amount    0.000000e+00  0.000000e+00  0.000000e+00  3.290000e+00  \n",
       "8. split coefficient  1.000000e+00  1.000000e+00  1.000000e+00  7.000007e+00  \n",
       "day_of_week           1.000000e+00  2.000000e+00  3.000000e+00  4.000000e+00  \n",
       "return               -7.140032e-03  9.419846e-04  1.045851e-02  1.198082e-01  \n",
       "increase              0.000000e+00  1.000000e+00  1.000000e+00  1.000000e+00  \n",
       "log_return           -7.165644e-03  9.415412e-04  1.040419e-02  1.131575e-01  \n",
       "negative              2.727574e-02  1.400125e-01  2.420628e-01  9.999998e-01  \n",
       "nuetral               8.110894e-04  5.022574e-02  1.375212e-01  9.999969e-01  \n",
       "positive              6.519028e-01  7.626756e-01  8.655955e-01  9.999988e-01  "
      ]
     },
     "execution_count": 18,
     "metadata": {},
     "output_type": "execute_result"
    }
   ],
   "source": [
    "df.describe().T"
   ]
  },
  {
   "cell_type": "code",
   "execution_count": 19,
   "metadata": {},
   "outputs": [],
   "source": [
    "# if model_type == \"univariate\":\n",
    "#     if not include_logged_returns:\n",
    "#         feature_list = [\"5. adjusted close\"]\n",
    "#     else:\n",
    "#         feature_list = [\"5. adjusted close\", \"log_return\"]\n",
    "\n",
    "# elif model_type == \"multivariate\":\n",
    "#     if not include_logged_returns:\n",
    "#         feature_list = [\"5. adjusted close\", \"2. high\", \"3. low\", \"6. volume\"]\n",
    "#     else:\n",
    "#         feature_list = [\"5. adjusted close\", \"2. high\", \"3. low\", \"6. volume\", \"log_return\"]\n",
    "\n",
    "# elif model_type == \"multivariate_with_news_sentiment\" or model_type == \"multivariate_with_tweet_sentiment\":\n",
    "#     if not include_logged_returns:\n",
    "#         feature_list = [\"5. adjusted close\", \"2. high\", \"3. low\", \"6. volume\", \"negative\", \"nuetral\", \"positive\"]\n",
    "#     else:\n",
    "#         feature_list = [\"5. adjusted close\", \"2. high\", \"3. low\", \"6. volume\", \"negative\", \"nuetral\", \"positive\", \"log_return\"]\n",
    "\n",
    "\n",
    "feature_list = [\"increase\", \"log_return\", \"negative\", \"nuetral\", \"positive\"]\n",
    "\n",
    "\n",
    "X = df[feature_list].values\n"
   ]
  },
  {
   "cell_type": "code",
   "execution_count": 20,
   "metadata": {},
   "outputs": [],
   "source": [
    "from sklearn.preprocessing import MinMaxScaler"
   ]
  },
  {
   "cell_type": "code",
   "execution_count": 21,
   "metadata": {},
   "outputs": [],
   "source": [
    "scaler = MinMaxScaler(feature_range=(0, 1)).fit(X)\n",
    "X_scaled = scaler.transform(X)"
   ]
  },
  {
   "cell_type": "code",
   "execution_count": 22,
   "metadata": {},
   "outputs": [],
   "source": [
    "y = [x[0] for x in X_scaled]"
   ]
  },
  {
   "cell_type": "markdown",
   "metadata": {},
   "source": [
    "#### Train test split"
   ]
  },
  {
   "cell_type": "code",
   "execution_count": 23,
   "metadata": {},
   "outputs": [
    {
     "name": "stdout",
     "output_type": "stream",
     "text": [
      "2757\n"
     ]
    }
   ],
   "source": [
    "split = int(len(X_scaled) * 0.9)\n",
    "print(split)"
   ]
  },
  {
   "cell_type": "code",
   "execution_count": 24,
   "metadata": {},
   "outputs": [],
   "source": [
    "X_train = X_scaled[:split]\n",
    "X_test = X_scaled[split : len(X_scaled)]\n",
    "y_train = y[:split]\n",
    "y_test = y[split : len(y)]"
   ]
  },
  {
   "cell_type": "code",
   "execution_count": 25,
   "metadata": {},
   "outputs": [
    {
     "name": "stdout",
     "output_type": "stream",
     "text": [
      "2757\n",
      "307\n"
     ]
    }
   ],
   "source": [
    "print(len(X_train))\n",
    "print(len(X_test))"
   ]
  },
  {
   "cell_type": "code",
   "execution_count": 26,
   "metadata": {},
   "outputs": [],
   "source": [
    "assert len(X_train) == len(y_train)\n",
    "assert len(X_test) == len(y_test)"
   ]
  },
  {
   "cell_type": "markdown",
   "metadata": {},
   "source": [
    "#### Labeling\n",
    "\n",
    "We want to predict the stock price at a future time. We'll predict the stock price at time t + 1 relative to the stock price at time t."
   ]
  },
  {
   "cell_type": "markdown",
   "metadata": {},
   "source": [
    "As we're going to use an LSTM architecture, we know that it has memory and that it is maintained by setting the time step, basically how many steps in the past we want the LSTM to use.\n",
    "\n",
    "The time step  refers to how many steps in time we want the backpropagation algorithm to use when calculating gradients for weight updates during training.\n",
    "\n",
    "So we can use a method to create both the timestep and the output variable, the t + 1."
   ]
  },
  {
   "cell_type": "code",
   "execution_count": 27,
   "metadata": {},
   "outputs": [],
   "source": [
    "n = 63\n",
    "Xtrain = []\n",
    "ytrain = []\n",
    "Xtest = []\n",
    "ytest = []\n",
    "for i in range(n, len(X_train)):\n",
    "    Xtrain.append(X_train[i - n : i, : X_train.shape[1]])\n",
    "    ytrain.append(y_train[i])  # predict next record\n",
    "for i in range(n, len(X_test)):\n",
    "    Xtest.append(X_test[i - n : i, : X_test.shape[1]])\n",
    "    ytest.append(y_test[i])  # predict next record"
   ]
  },
  {
   "cell_type": "code",
   "execution_count": 28,
   "metadata": {},
   "outputs": [
    {
     "data": {
      "text/html": [
       "<div>\n",
       "<style scoped>\n",
       "    .dataframe tbody tr th:only-of-type {\n",
       "        vertical-align: middle;\n",
       "    }\n",
       "\n",
       "    .dataframe tbody tr th {\n",
       "        vertical-align: top;\n",
       "    }\n",
       "\n",
       "    .dataframe thead th {\n",
       "        text-align: right;\n",
       "    }\n",
       "</style>\n",
       "<table border=\"1\" class=\"dataframe\">\n",
       "  <thead>\n",
       "    <tr style=\"text-align: right;\">\n",
       "      <th></th>\n",
       "      <th>1. open</th>\n",
       "      <th>2. high</th>\n",
       "      <th>3. low</th>\n",
       "      <th>4. close</th>\n",
       "      <th>5. adjusted close</th>\n",
       "      <th>6. volume</th>\n",
       "      <th>7. dividend amount</th>\n",
       "      <th>8. split coefficient</th>\n",
       "      <th>date_time</th>\n",
       "      <th>day_of_week</th>\n",
       "      <th>return</th>\n",
       "      <th>increase</th>\n",
       "      <th>log_return</th>\n",
       "      <th>negative</th>\n",
       "      <th>nuetral</th>\n",
       "      <th>positive</th>\n",
       "    </tr>\n",
       "    <tr>\n",
       "      <th>date</th>\n",
       "      <th></th>\n",
       "      <th></th>\n",
       "      <th></th>\n",
       "      <th></th>\n",
       "      <th></th>\n",
       "      <th></th>\n",
       "      <th></th>\n",
       "      <th></th>\n",
       "      <th></th>\n",
       "      <th></th>\n",
       "      <th></th>\n",
       "      <th></th>\n",
       "      <th></th>\n",
       "      <th></th>\n",
       "      <th></th>\n",
       "      <th></th>\n",
       "    </tr>\n",
       "  </thead>\n",
       "  <tbody>\n",
       "    <tr>\n",
       "      <th>2010-01-04</th>\n",
       "      <td>213.43</td>\n",
       "      <td>214.50</td>\n",
       "      <td>212.38</td>\n",
       "      <td>214.01</td>\n",
       "      <td>6.543876</td>\n",
       "      <td>17633200.0</td>\n",
       "      <td>0.0</td>\n",
       "      <td>1.0</td>\n",
       "      <td>2010-01-04</td>\n",
       "      <td>0</td>\n",
       "      <td>0.000000</td>\n",
       "      <td>0.0</td>\n",
       "      <td>0.000000</td>\n",
       "      <td>0.000013</td>\n",
       "      <td>0.000009</td>\n",
       "      <td>0.999979</td>\n",
       "    </tr>\n",
       "    <tr>\n",
       "      <th>2010-01-05</th>\n",
       "      <td>214.60</td>\n",
       "      <td>215.59</td>\n",
       "      <td>213.25</td>\n",
       "      <td>214.38</td>\n",
       "      <td>6.555190</td>\n",
       "      <td>21496600.0</td>\n",
       "      <td>0.0</td>\n",
       "      <td>1.0</td>\n",
       "      <td>2010-01-05</td>\n",
       "      <td>1</td>\n",
       "      <td>0.001729</td>\n",
       "      <td>1.0</td>\n",
       "      <td>0.001727</td>\n",
       "      <td>0.498715</td>\n",
       "      <td>0.001116</td>\n",
       "      <td>0.500169</td>\n",
       "    </tr>\n",
       "    <tr>\n",
       "      <th>2010-01-06</th>\n",
       "      <td>214.38</td>\n",
       "      <td>215.23</td>\n",
       "      <td>210.75</td>\n",
       "      <td>210.97</td>\n",
       "      <td>6.450921</td>\n",
       "      <td>19720000.0</td>\n",
       "      <td>0.0</td>\n",
       "      <td>1.0</td>\n",
       "      <td>2010-01-06</td>\n",
       "      <td>2</td>\n",
       "      <td>-0.015906</td>\n",
       "      <td>0.0</td>\n",
       "      <td>-0.016034</td>\n",
       "      <td>0.000052</td>\n",
       "      <td>0.085701</td>\n",
       "      <td>0.914247</td>\n",
       "    </tr>\n",
       "    <tr>\n",
       "      <th>2010-01-07</th>\n",
       "      <td>211.75</td>\n",
       "      <td>212.00</td>\n",
       "      <td>209.05</td>\n",
       "      <td>210.58</td>\n",
       "      <td>6.438996</td>\n",
       "      <td>17040400.0</td>\n",
       "      <td>0.0</td>\n",
       "      <td>1.0</td>\n",
       "      <td>2010-01-07</td>\n",
       "      <td>3</td>\n",
       "      <td>-0.001849</td>\n",
       "      <td>0.0</td>\n",
       "      <td>-0.001850</td>\n",
       "      <td>0.457010</td>\n",
       "      <td>0.000224</td>\n",
       "      <td>0.542766</td>\n",
       "    </tr>\n",
       "    <tr>\n",
       "      <th>2010-01-08</th>\n",
       "      <td>210.30</td>\n",
       "      <td>212.00</td>\n",
       "      <td>209.06</td>\n",
       "      <td>211.98</td>\n",
       "      <td>6.481804</td>\n",
       "      <td>15986100.0</td>\n",
       "      <td>0.0</td>\n",
       "      <td>1.0</td>\n",
       "      <td>2010-01-08</td>\n",
       "      <td>4</td>\n",
       "      <td>0.006648</td>\n",
       "      <td>1.0</td>\n",
       "      <td>0.006626</td>\n",
       "      <td>0.010157</td>\n",
       "      <td>0.000059</td>\n",
       "      <td>0.989783</td>\n",
       "    </tr>\n",
       "  </tbody>\n",
       "</table>\n",
       "</div>"
      ],
      "text/plain": [
       "            1. open  2. high  3. low  4. close  5. adjusted close   6. volume  \\\n",
       "date                                                                            \n",
       "2010-01-04   213.43   214.50  212.38    214.01           6.543876  17633200.0   \n",
       "2010-01-05   214.60   215.59  213.25    214.38           6.555190  21496600.0   \n",
       "2010-01-06   214.38   215.23  210.75    210.97           6.450921  19720000.0   \n",
       "2010-01-07   211.75   212.00  209.05    210.58           6.438996  17040400.0   \n",
       "2010-01-08   210.30   212.00  209.06    211.98           6.481804  15986100.0   \n",
       "\n",
       "            7. dividend amount  8. split coefficient   date_time  day_of_week  \\\n",
       "date                                                                            \n",
       "2010-01-04                 0.0                   1.0  2010-01-04            0   \n",
       "2010-01-05                 0.0                   1.0  2010-01-05            1   \n",
       "2010-01-06                 0.0                   1.0  2010-01-06            2   \n",
       "2010-01-07                 0.0                   1.0  2010-01-07            3   \n",
       "2010-01-08                 0.0                   1.0  2010-01-08            4   \n",
       "\n",
       "              return  increase  log_return  negative   nuetral  positive  \n",
       "date                                                                      \n",
       "2010-01-04  0.000000       0.0    0.000000  0.000013  0.000009  0.999979  \n",
       "2010-01-05  0.001729       1.0    0.001727  0.498715  0.001116  0.500169  \n",
       "2010-01-06 -0.015906       0.0   -0.016034  0.000052  0.085701  0.914247  \n",
       "2010-01-07 -0.001849       0.0   -0.001850  0.457010  0.000224  0.542766  \n",
       "2010-01-08  0.006648       1.0    0.006626  0.010157  0.000059  0.989783  "
      ]
     },
     "execution_count": 28,
     "metadata": {},
     "output_type": "execute_result"
    }
   ],
   "source": [
    "df.head(5)"
   ]
  },
  {
   "cell_type": "code",
   "execution_count": 29,
   "metadata": {},
   "outputs": [
    {
     "data": {
      "text/plain": [
       "1.0"
      ]
     },
     "execution_count": 29,
     "metadata": {},
     "output_type": "execute_result"
    }
   ],
   "source": [
    "ytrain[0]"
   ]
  },
  {
   "cell_type": "code",
   "execution_count": 30,
   "metadata": {},
   "outputs": [
    {
     "data": {
      "text/plain": [
       "5"
      ]
     },
     "execution_count": 30,
     "metadata": {},
     "output_type": "execute_result"
    }
   ],
   "source": [
    "len(feature_list)"
   ]
  },
  {
   "cell_type": "code",
   "execution_count": 31,
   "metadata": {},
   "outputs": [],
   "source": [
    "_ = np.array(ytrain[0])\n",
    "\n",
    "if len(feature_list) == 1:\n",
    "    _ = np.c_[_]\n",
    "\n",
    "elif len(feature_list) == 2:\n",
    "    _ = np.c_[_, np.zeros(_.shape)]\n",
    "\n",
    "elif len(feature_list) == 3:\n",
    "    _ = np.c_[_, np.zeros(_.shape), np.zeros(_.shape)]\n",
    "\n",
    "elif len(feature_list) == 4:\n",
    "    _ = np.c_[_, np.zeros(_.shape), np.zeros(_.shape), np.zeros(_.shape)]\n",
    "\n",
    "elif len(feature_list) == 5:\n",
    "    _ = np.c_[_, np.zeros(_.shape), np.zeros(_.shape), np.zeros(_.shape), np.zeros(_.shape)]\n",
    "\n",
    "elif len(feature_list) == 6:\n",
    "    _ = np.c_[_, np.zeros(_.shape), np.zeros(_.shape), np.zeros(_.shape), np.zeros(_.shape), np.zeros(_.shape)]\n",
    "\n",
    "elif len(feature_list) == 7:\n",
    "    _ = np.c_[_, np.zeros(_.shape), np.zeros(_.shape), np.zeros(_.shape), np.zeros(_.shape), np.zeros(_.shape), np.zeros(_.shape)]    \n",
    "\n",
    "elif len(feature_list) == 8:\n",
    "    _ = np.c_[_, np.zeros(_.shape), np.zeros(_.shape), np.zeros(_.shape), np.zeros(_.shape), np.zeros(_.shape), np.zeros(_.shape), np.zeros(_.shape)]     "
   ]
  },
  {
   "cell_type": "code",
   "execution_count": 32,
   "metadata": {},
   "outputs": [
    {
     "data": {
      "text/plain": [
       "array([[ 1.        , -0.13770808,  0.        ,  0.        ,  0.        ]])"
      ]
     },
     "execution_count": 32,
     "metadata": {},
     "output_type": "execute_result"
    }
   ],
   "source": [
    "scaler.inverse_transform(_)"
   ]
  },
  {
   "cell_type": "markdown",
   "metadata": {},
   "source": [
    "In an LSTM network the input for each LSTM layer needs to contain the following information:\n",
    "- The number of observations\n",
    "- The time steps\n",
    "- The features\n",
    "\n",
    "Therefore we need to add a temporal dimension compared to a classical network:\n",
    "\n",
    "(number of observations, number of steps, number of features per step)"
   ]
  },
  {
   "cell_type": "code",
   "execution_count": 33,
   "metadata": {},
   "outputs": [],
   "source": [
    "Xtrain, ytrain = (np.array(Xtrain), np.array(ytrain))\n",
    "Xtrain = np.reshape(Xtrain, (Xtrain.shape[0], Xtrain.shape[1], Xtrain.shape[2]))\n",
    "\n",
    "Xtest, ytest = (np.array(Xtest), np.array(ytest))\n",
    "Xtest = np.reshape(Xtest, (Xtest.shape[0], Xtest.shape[1], Xtest.shape[2]))"
   ]
  },
  {
   "cell_type": "code",
   "execution_count": 34,
   "metadata": {
    "scrolled": true
   },
   "outputs": [
    {
     "name": "stdout",
     "output_type": "stream",
     "text": [
      "(2694, 63, 5)\n",
      "(2694,)\n",
      "---\n",
      "(244, 63, 5)\n",
      "(244,)\n"
     ]
    }
   ],
   "source": [
    "print(Xtrain.shape)\n",
    "print(ytrain.shape)\n",
    "print(\"---\")\n",
    "print(Xtest.shape)\n",
    "print(ytest.shape)"
   ]
  },
  {
   "cell_type": "markdown",
   "metadata": {},
   "source": [
    "#### LSTM Model"
   ]
  },
  {
   "cell_type": "code",
   "execution_count": 35,
   "metadata": {},
   "outputs": [],
   "source": [
    "from keras.models import Sequential\n",
    "from keras.layers import LSTM, Dense"
   ]
  },
  {
   "cell_type": "code",
   "execution_count": 36,
   "metadata": {},
   "outputs": [],
   "source": [
    "results_path = Path('results', 'lstm')\n",
    "if not results_path.exists():\n",
    "    results_path.mkdir(parents=True)"
   ]
  },
  {
   "cell_type": "code",
   "execution_count": 37,
   "metadata": {},
   "outputs": [],
   "source": [
    "# MAX_EPOCHS = 500\n",
    "MAX_EPOCHS = 100\n",
    "# patience=50\n",
    "patience=30\n",
    "\n",
    "lstm_path = (results_path / 'lstm.h5').as_posix()\n",
    "checkpointer = tf.keras.callbacks.ModelCheckpoint(filepath=lstm_path,\n",
    "                               verbose=1,\n",
    "                               monitor='val_loss',\n",
    "                               save_best_only=True)\n",
    "\n",
    "lr_schedule = tf.keras.optimizers.schedules.ExponentialDecay(\n",
    "    initial_learning_rate=1e-3,\n",
    "    decay_steps=10000,\n",
    "    decay_rate=0.9)\n",
    "\n",
    "optimizer = tf.keras.optimizers.RMSprop(learning_rate=0.01,\n",
    "                                     # learning_rate=lr_schedule,\n",
    "                                     rho=0.9,\n",
    "                                     epsilon=1e-08,\n",
    "                                     decay=0.0)\n",
    "\n",
    "# optimizer = tf.keras.optimizers.Adam()\n",
    "\n",
    "def compile_and_fit(model, patience=patience):\n",
    "  early_stopping = tf.keras.callbacks.EarlyStopping(monitor='val_loss',\n",
    "                                                    patience=patience,\n",
    "                                                    mode='min',  \n",
    "                                                    restore_best_weights=True)\n",
    "\n",
    "  model.compile(# loss=tf.losses.BinaryCrossentropy(from_logits=True),\n",
    "                loss=tf.losses.BinaryCrossentropy(),\n",
    "                optimizer=optimizer,\n",
    "                metrics=[tf.metrics.BinaryAccuracy()])\n",
    "\n",
    "  history = model.fit(Xtrain, ytrain, epochs=MAX_EPOCHS,\n",
    "                      validation_data=(Xtest, ytest),\n",
    "                      callbacks=[early_stopping, checkpointer],\n",
    "                      batch_size=32,\n",
    "                      shuffle=True,\n",
    "                      verbose=1)\n",
    "  return history\n"
   ]
  },
  {
   "cell_type": "code",
   "execution_count": 38,
   "metadata": {},
   "outputs": [],
   "source": [
    "from keras.layers import Dropout, Dense"
   ]
  },
  {
   "cell_type": "code",
   "execution_count": 39,
   "metadata": {
    "scrolled": true
   },
   "outputs": [],
   "source": [
    "model = Sequential([\n",
    "    LSTM(units=64, \n",
    "         return_sequences=False,\n",
    "         # Shape => [batch, time, features]\n",
    "         input_shape=(Xtrain.shape[1], Xtrain.shape[2]), \n",
    "         name='LSTM'),\n",
    "    # Dropout(0.20),\n",
    "    Dense(10, activation='relu'),\n",
    "    Dense(1, activation='sigmoid', name='Output')\n",
    "    # Dense(1, name='Output')\n",
    "])"
   ]
  },
  {
   "cell_type": "code",
   "execution_count": 40,
   "metadata": {},
   "outputs": [
    {
     "name": "stdout",
     "output_type": "stream",
     "text": [
      "Epoch 1/100\n",
      "83/85 [============================>.] - ETA: 0s - loss: 0.6954 - binary_accuracy: 0.5162\n",
      "Epoch 1: val_loss improved from inf to 0.69462, saving model to results/lstm/lstm.h5\n",
      "85/85 [==============================] - 7s 25ms/step - loss: 0.6953 - binary_accuracy: 0.5163 - val_loss: 0.6946 - val_binary_accuracy: 0.4754\n",
      "Epoch 2/100\n",
      "85/85 [==============================] - ETA: 0s - loss: 0.6965 - binary_accuracy: 0.5186\n",
      "Epoch 2: val_loss improved from 0.69462 to 0.69280, saving model to results/lstm/lstm.h5\n",
      "85/85 [==============================] - 2s 22ms/step - loss: 0.6965 - binary_accuracy: 0.5186 - val_loss: 0.6928 - val_binary_accuracy: 0.5246\n",
      "Epoch 3/100\n",
      "83/85 [============================>.] - ETA: 0s - loss: 0.6927 - binary_accuracy: 0.5271\n",
      "Epoch 3: val_loss improved from 0.69280 to 0.69195, saving model to results/lstm/lstm.h5\n",
      "85/85 [==============================] - 2s 20ms/step - loss: 0.6925 - binary_accuracy: 0.5293 - val_loss: 0.6919 - val_binary_accuracy: 0.5246\n",
      "Epoch 4/100\n",
      "83/85 [============================>.] - ETA: 0s - loss: 0.6944 - binary_accuracy: 0.5301\n",
      "Epoch 4: val_loss did not improve from 0.69195\n",
      "85/85 [==============================] - 2s 21ms/step - loss: 0.6946 - binary_accuracy: 0.5293 - val_loss: 0.6926 - val_binary_accuracy: 0.5246\n",
      "Epoch 5/100\n",
      "83/85 [============================>.] - ETA: 0s - loss: 0.6932 - binary_accuracy: 0.5279\n",
      "Epoch 5: val_loss improved from 0.69195 to 0.69172, saving model to results/lstm/lstm.h5\n",
      "85/85 [==============================] - 2s 23ms/step - loss: 0.6932 - binary_accuracy: 0.5282 - val_loss: 0.6917 - val_binary_accuracy: 0.5246\n",
      "Epoch 6/100\n",
      "83/85 [============================>.] - ETA: 0s - loss: 0.6920 - binary_accuracy: 0.5305\n",
      "Epoch 6: val_loss did not improve from 0.69172\n",
      "85/85 [==============================] - 2s 20ms/step - loss: 0.6921 - binary_accuracy: 0.5290 - val_loss: 0.6932 - val_binary_accuracy: 0.4877\n",
      "Epoch 7/100\n",
      "83/85 [============================>.] - ETA: 0s - loss: 0.6927 - binary_accuracy: 0.5211\n",
      "Epoch 7: val_loss improved from 0.69172 to 0.69159, saving model to results/lstm/lstm.h5\n",
      "85/85 [==============================] - 2s 20ms/step - loss: 0.6927 - binary_accuracy: 0.5226 - val_loss: 0.6916 - val_binary_accuracy: 0.5287\n",
      "Epoch 8/100\n",
      "84/85 [============================>.] - ETA: 0s - loss: 0.6954 - binary_accuracy: 0.5234\n",
      "Epoch 8: val_loss did not improve from 0.69159\n",
      "85/85 [==============================] - 2s 23ms/step - loss: 0.6954 - binary_accuracy: 0.5234 - val_loss: 0.6917 - val_binary_accuracy: 0.5246\n",
      "Epoch 9/100\n",
      "85/85 [==============================] - ETA: 0s - loss: 0.6910 - binary_accuracy: 0.5360\n",
      "Epoch 9: val_loss did not improve from 0.69159\n",
      "85/85 [==============================] - 2s 21ms/step - loss: 0.6910 - binary_accuracy: 0.5360 - val_loss: 0.6932 - val_binary_accuracy: 0.5205\n",
      "Epoch 10/100\n",
      "84/85 [============================>.] - ETA: 0s - loss: 0.6904 - binary_accuracy: 0.5357\n",
      "Epoch 10: val_loss did not improve from 0.69159\n",
      "85/85 [==============================] - 2s 22ms/step - loss: 0.6904 - binary_accuracy: 0.5360 - val_loss: 0.6927 - val_binary_accuracy: 0.5246\n",
      "Epoch 11/100\n",
      "85/85 [==============================] - ETA: 0s - loss: 0.6885 - binary_accuracy: 0.5401\n",
      "Epoch 11: val_loss did not improve from 0.69159\n",
      "85/85 [==============================] - 2s 23ms/step - loss: 0.6885 - binary_accuracy: 0.5401 - val_loss: 0.6928 - val_binary_accuracy: 0.5410\n",
      "Epoch 12/100\n",
      "83/85 [============================>.] - ETA: 0s - loss: 0.6876 - binary_accuracy: 0.5489\n",
      "Epoch 12: val_loss improved from 0.69159 to 0.69055, saving model to results/lstm/lstm.h5\n",
      "85/85 [==============================] - 2s 27ms/step - loss: 0.6880 - binary_accuracy: 0.5475 - val_loss: 0.6905 - val_binary_accuracy: 0.5164\n",
      "Epoch 13/100\n",
      "84/85 [============================>.] - ETA: 0s - loss: 0.6869 - binary_accuracy: 0.5417\n",
      "Epoch 13: val_loss did not improve from 0.69055\n",
      "85/85 [==============================] - 2s 23ms/step - loss: 0.6869 - binary_accuracy: 0.5419 - val_loss: 0.6931 - val_binary_accuracy: 0.5492\n",
      "Epoch 14/100\n",
      "84/85 [============================>.] - ETA: 0s - loss: 0.6850 - binary_accuracy: 0.5603\n",
      "Epoch 14: val_loss improved from 0.69055 to 0.68970, saving model to results/lstm/lstm.h5\n",
      "85/85 [==============================] - 2s 22ms/step - loss: 0.6848 - binary_accuracy: 0.5612 - val_loss: 0.6897 - val_binary_accuracy: 0.5615\n",
      "Epoch 15/100\n",
      "84/85 [============================>.] - ETA: 0s - loss: 0.6942 - binary_accuracy: 0.5316\n",
      "Epoch 15: val_loss did not improve from 0.68970\n",
      "85/85 [==============================] - 2s 23ms/step - loss: 0.6943 - binary_accuracy: 0.5312 - val_loss: 0.6942 - val_binary_accuracy: 0.5041\n",
      "Epoch 16/100\n",
      "82/85 [===========================>..] - ETA: 0s - loss: 0.6933 - binary_accuracy: 0.5137\n",
      "Epoch 16: val_loss did not improve from 0.68970\n",
      "85/85 [==============================] - 2s 20ms/step - loss: 0.6935 - binary_accuracy: 0.5152 - val_loss: 0.6989 - val_binary_accuracy: 0.5123\n",
      "Epoch 17/100\n",
      "85/85 [==============================] - ETA: 0s - loss: 0.6946 - binary_accuracy: 0.5111\n",
      "Epoch 17: val_loss did not improve from 0.68970\n",
      "85/85 [==============================] - 2s 19ms/step - loss: 0.6946 - binary_accuracy: 0.5111 - val_loss: 0.6922 - val_binary_accuracy: 0.5123\n",
      "Epoch 18/100\n",
      "84/85 [============================>.] - ETA: 0s - loss: 0.6946 - binary_accuracy: 0.5212\n",
      "Epoch 18: val_loss did not improve from 0.68970\n",
      "85/85 [==============================] - 2s 23ms/step - loss: 0.6946 - binary_accuracy: 0.5212 - val_loss: 0.6909 - val_binary_accuracy: 0.5246\n",
      "Epoch 19/100\n",
      "83/85 [============================>.] - ETA: 0s - loss: 0.6936 - binary_accuracy: 0.5192\n",
      "Epoch 19: val_loss did not improve from 0.68970\n",
      "85/85 [==============================] - 2s 21ms/step - loss: 0.6938 - binary_accuracy: 0.5197 - val_loss: 0.6932 - val_binary_accuracy: 0.5246\n",
      "Epoch 20/100\n",
      "84/85 [============================>.] - ETA: 0s - loss: 0.6934 - binary_accuracy: 0.5205\n",
      "Epoch 20: val_loss did not improve from 0.68970\n",
      "85/85 [==============================] - 2s 22ms/step - loss: 0.6934 - binary_accuracy: 0.5204 - val_loss: 0.6923 - val_binary_accuracy: 0.5205\n",
      "Epoch 21/100\n",
      "83/85 [============================>.] - ETA: 0s - loss: 0.6931 - binary_accuracy: 0.5305\n",
      "Epoch 21: val_loss did not improve from 0.68970\n",
      "85/85 [==============================] - 2s 22ms/step - loss: 0.6931 - binary_accuracy: 0.5293 - val_loss: 0.6937 - val_binary_accuracy: 0.5246\n",
      "Epoch 22/100\n",
      "83/85 [============================>.] - ETA: 0s - loss: 0.6918 - binary_accuracy: 0.5346\n",
      "Epoch 22: val_loss did not improve from 0.68970\n",
      "85/85 [==============================] - 2s 19ms/step - loss: 0.6921 - binary_accuracy: 0.5323 - val_loss: 0.6907 - val_binary_accuracy: 0.5656\n",
      "Epoch 23/100\n",
      "85/85 [==============================] - ETA: 0s - loss: 0.6924 - binary_accuracy: 0.5241\n",
      "Epoch 23: val_loss did not improve from 0.68970\n",
      "85/85 [==============================] - 2s 21ms/step - loss: 0.6924 - binary_accuracy: 0.5241 - val_loss: 0.6908 - val_binary_accuracy: 0.5246\n",
      "Epoch 24/100\n",
      "83/85 [============================>.] - ETA: 0s - loss: 0.6918 - binary_accuracy: 0.5294\n",
      "Epoch 24: val_loss did not improve from 0.68970\n",
      "85/85 [==============================] - 2s 24ms/step - loss: 0.6917 - binary_accuracy: 0.5293 - val_loss: 0.6933 - val_binary_accuracy: 0.5246\n",
      "Epoch 25/100\n",
      "84/85 [============================>.] - ETA: 0s - loss: 0.6927 - binary_accuracy: 0.5275\n",
      "Epoch 25: val_loss did not improve from 0.68970\n",
      "85/85 [==============================] - 2s 20ms/step - loss: 0.6926 - binary_accuracy: 0.5278 - val_loss: 0.6925 - val_binary_accuracy: 0.5246\n",
      "Epoch 26/100\n",
      "83/85 [============================>.] - ETA: 0s - loss: 0.6922 - binary_accuracy: 0.5282\n",
      "Epoch 26: val_loss did not improve from 0.68970\n",
      "85/85 [==============================] - 2s 22ms/step - loss: 0.6920 - binary_accuracy: 0.5293 - val_loss: 0.6921 - val_binary_accuracy: 0.5246\n",
      "Epoch 27/100\n",
      "84/85 [============================>.] - ETA: 0s - loss: 0.6921 - binary_accuracy: 0.5249\n",
      "Epoch 27: val_loss did not improve from 0.68970\n",
      "85/85 [==============================] - 2s 21ms/step - loss: 0.6920 - binary_accuracy: 0.5256 - val_loss: 0.6927 - val_binary_accuracy: 0.5246\n",
      "Epoch 28/100\n",
      "82/85 [===========================>..] - ETA: 0s - loss: 0.6920 - binary_accuracy: 0.5267\n",
      "Epoch 28: val_loss did not improve from 0.68970\n",
      "85/85 [==============================] - 2s 20ms/step - loss: 0.6918 - binary_accuracy: 0.5278 - val_loss: 0.6926 - val_binary_accuracy: 0.5246\n",
      "Epoch 29/100\n",
      "84/85 [============================>.] - ETA: 0s - loss: 0.6923 - binary_accuracy: 0.5301\n",
      "Epoch 29: val_loss did not improve from 0.68970\n",
      "85/85 [==============================] - 2s 21ms/step - loss: 0.6924 - binary_accuracy: 0.5290 - val_loss: 0.6932 - val_binary_accuracy: 0.5000\n",
      "Epoch 30/100\n",
      "83/85 [============================>.] - ETA: 0s - loss: 0.6923 - binary_accuracy: 0.5245\n",
      "Epoch 30: val_loss did not improve from 0.68970\n",
      "85/85 [==============================] - 2s 20ms/step - loss: 0.6922 - binary_accuracy: 0.5256 - val_loss: 0.6919 - val_binary_accuracy: 0.5246\n",
      "Epoch 31/100\n",
      "85/85 [==============================] - ETA: 0s - loss: 0.6917 - binary_accuracy: 0.5293\n",
      "Epoch 31: val_loss did not improve from 0.68970\n",
      "85/85 [==============================] - 2s 20ms/step - loss: 0.6917 - binary_accuracy: 0.5293 - val_loss: 0.6971 - val_binary_accuracy: 0.5246\n",
      "Epoch 32/100\n",
      "83/85 [============================>.] - ETA: 0s - loss: 0.6915 - binary_accuracy: 0.5264\n",
      "Epoch 32: val_loss did not improve from 0.68970\n",
      "85/85 [==============================] - 2s 22ms/step - loss: 0.6916 - binary_accuracy: 0.5260 - val_loss: 0.6911 - val_binary_accuracy: 0.5205\n",
      "Epoch 33/100\n",
      "85/85 [==============================] - ETA: 0s - loss: 0.6921 - binary_accuracy: 0.5252\n",
      "Epoch 33: val_loss did not improve from 0.68970\n",
      "85/85 [==============================] - 2s 20ms/step - loss: 0.6921 - binary_accuracy: 0.5252 - val_loss: 0.6919 - val_binary_accuracy: 0.5287\n",
      "Epoch 34/100\n",
      "85/85 [==============================] - ETA: 0s - loss: 0.6922 - binary_accuracy: 0.5219\n",
      "Epoch 34: val_loss did not improve from 0.68970\n",
      "85/85 [==============================] - 2s 21ms/step - loss: 0.6922 - binary_accuracy: 0.5219 - val_loss: 0.6927 - val_binary_accuracy: 0.5246\n",
      "Epoch 35/100\n",
      "85/85 [==============================] - ETA: 0s - loss: 0.6919 - binary_accuracy: 0.5304\n",
      "Epoch 35: val_loss did not improve from 0.68970\n",
      "85/85 [==============================] - 2s 27ms/step - loss: 0.6919 - binary_accuracy: 0.5304 - val_loss: 0.6934 - val_binary_accuracy: 0.5000\n",
      "Epoch 36/100\n",
      "83/85 [============================>.] - ETA: 0s - loss: 0.6918 - binary_accuracy: 0.5264\n",
      "Epoch 36: val_loss did not improve from 0.68970\n",
      "85/85 [==============================] - 2s 26ms/step - loss: 0.6917 - binary_accuracy: 0.5275 - val_loss: 0.6941 - val_binary_accuracy: 0.5123\n",
      "Epoch 37/100\n",
      "85/85 [==============================] - ETA: 0s - loss: 0.6924 - binary_accuracy: 0.5241\n",
      "Epoch 37: val_loss did not improve from 0.68970\n",
      "85/85 [==============================] - 2s 24ms/step - loss: 0.6924 - binary_accuracy: 0.5241 - val_loss: 0.6948 - val_binary_accuracy: 0.4959\n",
      "Epoch 38/100\n",
      "83/85 [============================>.] - ETA: 0s - loss: 0.6907 - binary_accuracy: 0.5237\n",
      "Epoch 38: val_loss improved from 0.68970 to 0.68799, saving model to results/lstm/lstm.h5\n",
      "85/85 [==============================] - 2s 22ms/step - loss: 0.6909 - binary_accuracy: 0.5238 - val_loss: 0.6880 - val_binary_accuracy: 0.5492\n",
      "Epoch 39/100\n",
      "84/85 [============================>.] - ETA: 0s - loss: 0.6931 - binary_accuracy: 0.5279\n",
      "Epoch 39: val_loss did not improve from 0.68799\n",
      "85/85 [==============================] - 2s 22ms/step - loss: 0.6930 - binary_accuracy: 0.5282 - val_loss: 0.6954 - val_binary_accuracy: 0.5164\n",
      "Epoch 40/100\n",
      "84/85 [============================>.] - ETA: 0s - loss: 0.6927 - binary_accuracy: 0.5272\n",
      "Epoch 40: val_loss did not improve from 0.68799\n",
      "85/85 [==============================] - 2s 22ms/step - loss: 0.6927 - binary_accuracy: 0.5271 - val_loss: 0.6923 - val_binary_accuracy: 0.5246\n",
      "Epoch 41/100\n",
      "84/85 [============================>.] - ETA: 0s - loss: 0.6915 - binary_accuracy: 0.5275\n",
      "Epoch 41: val_loss did not improve from 0.68799\n",
      "85/85 [==============================] - 2s 24ms/step - loss: 0.6916 - binary_accuracy: 0.5271 - val_loss: 0.6927 - val_binary_accuracy: 0.5246\n",
      "Epoch 42/100\n",
      "85/85 [==============================] - ETA: 0s - loss: 0.6920 - binary_accuracy: 0.5293\n",
      "Epoch 42: val_loss did not improve from 0.68799\n",
      "85/85 [==============================] - 2s 29ms/step - loss: 0.6920 - binary_accuracy: 0.5293 - val_loss: 0.6920 - val_binary_accuracy: 0.5246\n",
      "Epoch 43/100\n",
      "82/85 [===========================>..] - ETA: 0s - loss: 0.6915 - binary_accuracy: 0.5286\n",
      "Epoch 43: val_loss did not improve from 0.68799\n",
      "85/85 [==============================] - 2s 20ms/step - loss: 0.6917 - binary_accuracy: 0.5271 - val_loss: 0.6920 - val_binary_accuracy: 0.5246\n",
      "Epoch 44/100\n",
      "83/85 [============================>.] - ETA: 0s - loss: 0.6918 - binary_accuracy: 0.5290\n",
      "Epoch 44: val_loss did not improve from 0.68799\n",
      "85/85 [==============================] - 2s 21ms/step - loss: 0.6917 - binary_accuracy: 0.5293 - val_loss: 0.6921 - val_binary_accuracy: 0.5246\n",
      "Epoch 45/100\n",
      "85/85 [==============================] - ETA: 0s - loss: 0.6919 - binary_accuracy: 0.5293\n",
      "Epoch 45: val_loss did not improve from 0.68799\n",
      "85/85 [==============================] - 2s 20ms/step - loss: 0.6919 - binary_accuracy: 0.5293 - val_loss: 0.6919 - val_binary_accuracy: 0.5246\n",
      "Epoch 46/100\n",
      "85/85 [==============================] - ETA: 0s - loss: 0.6916 - binary_accuracy: 0.5293\n",
      "Epoch 46: val_loss did not improve from 0.68799\n",
      "85/85 [==============================] - 2s 23ms/step - loss: 0.6916 - binary_accuracy: 0.5293 - val_loss: 0.6920 - val_binary_accuracy: 0.5246\n",
      "Epoch 47/100\n",
      "83/85 [============================>.] - ETA: 0s - loss: 0.6917 - binary_accuracy: 0.5286\n",
      "Epoch 47: val_loss did not improve from 0.68799\n",
      "85/85 [==============================] - 2s 20ms/step - loss: 0.6916 - binary_accuracy: 0.5293 - val_loss: 0.6925 - val_binary_accuracy: 0.5246\n",
      "Epoch 48/100\n",
      "83/85 [============================>.] - ETA: 0s - loss: 0.6916 - binary_accuracy: 0.5312\n",
      "Epoch 48: val_loss did not improve from 0.68799\n",
      "85/85 [==============================] - 2s 20ms/step - loss: 0.6918 - binary_accuracy: 0.5293 - val_loss: 0.6920 - val_binary_accuracy: 0.5246\n",
      "Epoch 49/100\n",
      "85/85 [==============================] - ETA: 0s - loss: 0.6914 - binary_accuracy: 0.5293\n",
      "Epoch 49: val_loss did not improve from 0.68799\n",
      "85/85 [==============================] - 2s 19ms/step - loss: 0.6914 - binary_accuracy: 0.5293 - val_loss: 0.6923 - val_binary_accuracy: 0.5246\n",
      "Epoch 50/100\n",
      "84/85 [============================>.] - ETA: 0s - loss: 0.6919 - binary_accuracy: 0.5283\n",
      "Epoch 50: val_loss did not improve from 0.68799\n",
      "85/85 [==============================] - 2s 20ms/step - loss: 0.6918 - binary_accuracy: 0.5293 - val_loss: 0.6921 - val_binary_accuracy: 0.5246\n",
      "Epoch 51/100\n",
      "82/85 [===========================>..] - ETA: 0s - loss: 0.6915 - binary_accuracy: 0.5309\n",
      "Epoch 51: val_loss did not improve from 0.68799\n",
      "85/85 [==============================] - 2s 21ms/step - loss: 0.6916 - binary_accuracy: 0.5293 - val_loss: 0.6920 - val_binary_accuracy: 0.5246\n",
      "Epoch 52/100\n",
      "84/85 [============================>.] - ETA: 0s - loss: 0.6919 - binary_accuracy: 0.5286\n",
      "Epoch 52: val_loss did not improve from 0.68799\n",
      "85/85 [==============================] - 2s 19ms/step - loss: 0.6918 - binary_accuracy: 0.5293 - val_loss: 0.6921 - val_binary_accuracy: 0.5246\n",
      "Epoch 53/100\n",
      "84/85 [============================>.] - ETA: 0s - loss: 0.6918 - binary_accuracy: 0.5290\n",
      "Epoch 53: val_loss did not improve from 0.68799\n",
      "85/85 [==============================] - 2s 21ms/step - loss: 0.6917 - binary_accuracy: 0.5293 - val_loss: 0.6919 - val_binary_accuracy: 0.5246\n",
      "Epoch 54/100\n",
      "85/85 [==============================] - ETA: 0s - loss: 0.6916 - binary_accuracy: 0.5293\n",
      "Epoch 54: val_loss did not improve from 0.68799\n",
      "85/85 [==============================] - 2s 24ms/step - loss: 0.6916 - binary_accuracy: 0.5293 - val_loss: 0.6920 - val_binary_accuracy: 0.5246\n",
      "Epoch 55/100\n",
      "85/85 [==============================] - ETA: 0s - loss: 0.6917 - binary_accuracy: 0.5293\n",
      "Epoch 55: val_loss did not improve from 0.68799\n",
      "85/85 [==============================] - 2s 24ms/step - loss: 0.6917 - binary_accuracy: 0.5293 - val_loss: 0.6919 - val_binary_accuracy: 0.5246\n",
      "Epoch 56/100\n",
      "85/85 [==============================] - ETA: 0s - loss: 0.6918 - binary_accuracy: 0.5293\n",
      "Epoch 56: val_loss did not improve from 0.68799\n",
      "85/85 [==============================] - 2s 25ms/step - loss: 0.6918 - binary_accuracy: 0.5293 - val_loss: 0.6922 - val_binary_accuracy: 0.5246\n",
      "Epoch 57/100\n",
      "84/85 [============================>.] - ETA: 0s - loss: 0.6913 - binary_accuracy: 0.5301\n",
      "Epoch 57: val_loss did not improve from 0.68799\n",
      "85/85 [==============================] - 2s 20ms/step - loss: 0.6915 - binary_accuracy: 0.5293 - val_loss: 0.6923 - val_binary_accuracy: 0.5246\n",
      "Epoch 58/100\n",
      "83/85 [============================>.] - ETA: 0s - loss: 0.6916 - binary_accuracy: 0.5312\n",
      "Epoch 58: val_loss did not improve from 0.68799\n",
      "85/85 [==============================] - 2s 22ms/step - loss: 0.6918 - binary_accuracy: 0.5293 - val_loss: 0.6919 - val_binary_accuracy: 0.5246\n",
      "Epoch 59/100\n",
      "82/85 [===========================>..] - ETA: 0s - loss: 0.6921 - binary_accuracy: 0.5267\n",
      "Epoch 59: val_loss did not improve from 0.68799\n",
      "85/85 [==============================] - 2s 24ms/step - loss: 0.6919 - binary_accuracy: 0.5293 - val_loss: 0.6921 - val_binary_accuracy: 0.5246\n",
      "Epoch 60/100\n",
      "85/85 [==============================] - ETA: 0s - loss: 0.6916 - binary_accuracy: 0.5293\n",
      "Epoch 60: val_loss did not improve from 0.68799\n",
      "85/85 [==============================] - 2s 20ms/step - loss: 0.6916 - binary_accuracy: 0.5293 - val_loss: 0.6920 - val_binary_accuracy: 0.5246\n",
      "Epoch 61/100\n",
      "84/85 [============================>.] - ETA: 0s - loss: 0.6917 - binary_accuracy: 0.5290\n",
      "Epoch 61: val_loss did not improve from 0.68799\n",
      "85/85 [==============================] - 2s 28ms/step - loss: 0.6916 - binary_accuracy: 0.5293 - val_loss: 0.6923 - val_binary_accuracy: 0.5246\n",
      "Epoch 62/100\n",
      "83/85 [============================>.] - ETA: 0s - loss: 0.6919 - binary_accuracy: 0.5282\n",
      "Epoch 62: val_loss did not improve from 0.68799\n",
      "85/85 [==============================] - 3s 31ms/step - loss: 0.6917 - binary_accuracy: 0.5293 - val_loss: 0.6928 - val_binary_accuracy: 0.5246\n",
      "Epoch 63/100\n",
      "85/85 [==============================] - ETA: 0s - loss: 0.6913 - binary_accuracy: 0.5293\n",
      "Epoch 63: val_loss did not improve from 0.68799\n",
      "85/85 [==============================] - 3s 32ms/step - loss: 0.6913 - binary_accuracy: 0.5293 - val_loss: 0.6922 - val_binary_accuracy: 0.5246\n",
      "Epoch 64/100\n",
      "84/85 [============================>.] - ETA: 0s - loss: 0.6920 - binary_accuracy: 0.5301\n",
      "Epoch 64: val_loss did not improve from 0.68799\n",
      "85/85 [==============================] - 2s 24ms/step - loss: 0.6921 - binary_accuracy: 0.5293 - val_loss: 0.6919 - val_binary_accuracy: 0.5246\n",
      "Epoch 65/100\n",
      "84/85 [============================>.] - ETA: 0s - loss: 0.6916 - binary_accuracy: 0.5294\n",
      "Epoch 65: val_loss did not improve from 0.68799\n",
      "85/85 [==============================] - 2s 27ms/step - loss: 0.6916 - binary_accuracy: 0.5293 - val_loss: 0.6923 - val_binary_accuracy: 0.5246\n",
      "Epoch 66/100\n",
      "83/85 [============================>.] - ETA: 0s - loss: 0.6915 - binary_accuracy: 0.5320\n",
      "Epoch 66: val_loss did not improve from 0.68799\n",
      "85/85 [==============================] - 2s 21ms/step - loss: 0.6918 - binary_accuracy: 0.5293 - val_loss: 0.6920 - val_binary_accuracy: 0.5246\n",
      "Epoch 67/100\n",
      "84/85 [============================>.] - ETA: 0s - loss: 0.6918 - binary_accuracy: 0.5301\n",
      "Epoch 67: val_loss did not improve from 0.68799\n",
      "85/85 [==============================] - 2s 25ms/step - loss: 0.6919 - binary_accuracy: 0.5293 - val_loss: 0.6919 - val_binary_accuracy: 0.5246\n",
      "Epoch 68/100\n",
      "84/85 [============================>.] - ETA: 0s - loss: 0.6917 - binary_accuracy: 0.5294\n",
      "Epoch 68: val_loss did not improve from 0.68799\n",
      "85/85 [==============================] - 2s 24ms/step - loss: 0.6917 - binary_accuracy: 0.5293 - val_loss: 0.6921 - val_binary_accuracy: 0.5246\n"
     ]
    }
   ],
   "source": [
    "history = compile_and_fit(model)\n"
   ]
  },
  {
   "cell_type": "code",
   "execution_count": 41,
   "metadata": {},
   "outputs": [
    {
     "name": "stdout",
     "output_type": "stream",
     "text": [
      "Model: \"sequential\"\n",
      "_________________________________________________________________\n",
      " Layer (type)                Output Shape              Param #   \n",
      "=================================================================\n",
      " LSTM (LSTM)                 (None, 64)                17920     \n",
      "                                                                 \n",
      " dense (Dense)               (None, 10)                650       \n",
      "                                                                 \n",
      " Output (Dense)              (None, 1)                 11        \n",
      "                                                                 \n",
      "=================================================================\n",
      "Total params: 18,581\n",
      "Trainable params: 18,581\n",
      "Non-trainable params: 0\n",
      "_________________________________________________________________\n"
     ]
    }
   ],
   "source": [
    "model.summary()"
   ]
  },
  {
   "cell_type": "code",
   "execution_count": 42,
   "metadata": {},
   "outputs": [
    {
     "name": "stdout",
     "output_type": "stream",
     "text": [
      "2694\n",
      "244\n"
     ]
    }
   ],
   "source": [
    "train_predict_scaled = model.predict(Xtrain).squeeze()\n",
    "test_predict_scaled = model.predict(Xtest).squeeze()\n",
    "\n",
    "print(len(train_predict_scaled))\n",
    "print(len(test_predict_scaled))"
   ]
  },
  {
   "cell_type": "code",
   "execution_count": 43,
   "metadata": {},
   "outputs": [
    {
     "name": "stdout",
     "output_type": "stream",
     "text": [
      "85/85 [==============================] - 1s 11ms/step - loss: 0.6900 - binary_accuracy: 0.5338\n"
     ]
    },
    {
     "data": {
      "text/plain": [
       "[0.6900391578674316, 0.5337787866592407]"
      ]
     },
     "execution_count": 43,
     "metadata": {},
     "output_type": "execute_result"
    }
   ],
   "source": [
    "model.evaluate(Xtrain, ytrain)"
   ]
  },
  {
   "cell_type": "code",
   "execution_count": 44,
   "metadata": {},
   "outputs": [
    {
     "name": "stdout",
     "output_type": "stream",
     "text": [
      "8/8 [==============================] - 0s 10ms/step - loss: 0.6880 - binary_accuracy: 0.5492\n"
     ]
    },
    {
     "data": {
      "text/plain": [
       "[0.6879858374595642, 0.5491803288459778]"
      ]
     },
     "execution_count": 44,
     "metadata": {},
     "output_type": "execute_result"
    }
   ],
   "source": [
    "model.evaluate(Xtest, ytest)"
   ]
  },
  {
   "cell_type": "code",
   "execution_count": 45,
   "metadata": {},
   "outputs": [],
   "source": [
    "from sklearn.metrics import accuracy_score"
   ]
  },
  {
   "cell_type": "code",
   "execution_count": 46,
   "metadata": {},
   "outputs": [
    {
     "name": "stdout",
     "output_type": "stream",
     "text": [
      "Train Score: 0.5338 Accuracy\n",
      "Test Score: 0.5492 Accuracy\n"
     ]
    }
   ],
   "source": [
    "# calculate mean absolute error\n",
    "trainScore = accuracy_score(ytrain, train_predict_scaled.round())\n",
    "print(\"Train Score: %.4f Accuracy\" % (trainScore))\n",
    "\n",
    "testScore = accuracy_score(ytest, test_predict_scaled.round())\n",
    "print(\"Test Score: %.4f Accuracy\" % (testScore))"
   ]
  },
  {
   "cell_type": "code",
   "execution_count": 47,
   "metadata": {},
   "outputs": [],
   "source": [
    "_ = np.array(train_predict_scaled)\n",
    "\n",
    "\n",
    "if len(feature_list) == 1:\n",
    "    _ = np.c_[_]\n",
    "\n",
    "elif len(feature_list) == 2:\n",
    "    _ = np.c_[_, np.zeros(_.shape)]\n",
    "\n",
    "elif len(feature_list) == 3:\n",
    "    _ = np.c_[_, np.zeros(_.shape), np.zeros(_.shape)]\n",
    "\n",
    "elif len(feature_list) == 4:\n",
    "    _ = np.c_[_, np.zeros(_.shape), np.zeros(_.shape), np.zeros(_.shape)]\n",
    "\n",
    "elif len(feature_list) == 5:\n",
    "    _ = np.c_[_, np.zeros(_.shape), np.zeros(_.shape), np.zeros(_.shape), np.zeros(_.shape)]\n",
    "\n",
    "elif len(feature_list) == 6:\n",
    "    _ = np.c_[_, np.zeros(_.shape), np.zeros(_.shape), np.zeros(_.shape), np.zeros(_.shape), np.zeros(_.shape)]\n",
    "\n",
    "elif len(feature_list) == 7:\n",
    "    _ = np.c_[_, np.zeros(_.shape), np.zeros(_.shape), np.zeros(_.shape), np.zeros(_.shape), np.zeros(_.shape), np.zeros(_.shape)]    \n",
    "\n",
    "elif len(feature_list) == 8:\n",
    "    _ = np.c_[_, np.zeros(_.shape), np.zeros(_.shape), np.zeros(_.shape), np.zeros(_.shape), np.zeros(_.shape), np.zeros(_.shape), np.zeros(_.shape)]     "
   ]
  },
  {
   "cell_type": "code",
   "execution_count": 48,
   "metadata": {},
   "outputs": [],
   "source": [
    "_train_predict_scaled = scaler.inverse_transform(_)"
   ]
  },
  {
   "cell_type": "code",
   "execution_count": 49,
   "metadata": {},
   "outputs": [
    {
     "data": {
      "text/plain": [
       "0.5571150183677673"
      ]
     },
     "execution_count": 49,
     "metadata": {},
     "output_type": "execute_result"
    }
   ],
   "source": [
    "_train_predict_scaled[0][0]"
   ]
  },
  {
   "cell_type": "code",
   "execution_count": 50,
   "metadata": {},
   "outputs": [],
   "source": [
    "train_predict_rescaled = np.zeros([2694,], dtype='float32')"
   ]
  },
  {
   "cell_type": "code",
   "execution_count": 51,
   "metadata": {},
   "outputs": [],
   "source": [
    "for i, x in enumerate(_train_predict_scaled):\n",
    "    if x[0] > .5:\n",
    "        train_predict_rescaled[i] = 1\n",
    "    else:\n",
    "        train_predict_rescaled[i] = 0"
   ]
  },
  {
   "cell_type": "code",
   "execution_count": 52,
   "metadata": {},
   "outputs": [
    {
     "data": {
      "text/plain": [
       "1.0"
      ]
     },
     "execution_count": 52,
     "metadata": {},
     "output_type": "execute_result"
    }
   ],
   "source": [
    "train_predict_rescaled[0]"
   ]
  },
  {
   "cell_type": "code",
   "execution_count": 53,
   "metadata": {},
   "outputs": [],
   "source": [
    "train_predict_rescaled = pd.Series(train_predict_rescaled, index=df.iloc[63:split].index)\n"
   ]
  },
  {
   "cell_type": "code",
   "execution_count": 54,
   "metadata": {},
   "outputs": [],
   "source": [
    "_ = np.array(test_predict_scaled)\n",
    "\n",
    "\n",
    "if len(feature_list) == 1:\n",
    "    _ = np.c_[_]\n",
    "\n",
    "elif len(feature_list) == 2:\n",
    "    _ = np.c_[_, np.zeros(_.shape)]\n",
    "\n",
    "elif len(feature_list) == 3:\n",
    "    _ = np.c_[_, np.zeros(_.shape), np.zeros(_.shape)]\n",
    "\n",
    "elif len(feature_list) == 4:\n",
    "    _ = np.c_[_, np.zeros(_.shape), np.zeros(_.shape), np.zeros(_.shape)]\n",
    "\n",
    "elif len(feature_list) == 5:\n",
    "    _ = np.c_[_, np.zeros(_.shape), np.zeros(_.shape), np.zeros(_.shape), np.zeros(_.shape)]\n",
    "\n",
    "elif len(feature_list) == 6:\n",
    "    _ = np.c_[_, np.zeros(_.shape), np.zeros(_.shape), np.zeros(_.shape), np.zeros(_.shape), np.zeros(_.shape)]\n",
    "\n",
    "elif len(feature_list) == 7:\n",
    "    _ = np.c_[_, np.zeros(_.shape), np.zeros(_.shape), np.zeros(_.shape), np.zeros(_.shape), np.zeros(_.shape), np.zeros(_.shape)]    \n",
    "\n",
    "elif len(feature_list) == 8:\n",
    "    _ = np.c_[_, np.zeros(_.shape), np.zeros(_.shape), np.zeros(_.shape), np.zeros(_.shape), np.zeros(_.shape), np.zeros(_.shape), np.zeros(_.shape)]     "
   ]
  },
  {
   "cell_type": "code",
   "execution_count": 55,
   "metadata": {},
   "outputs": [],
   "source": [
    "_test_predict_scaled = scaler.inverse_transform(_)"
   ]
  },
  {
   "cell_type": "code",
   "execution_count": 56,
   "metadata": {},
   "outputs": [
    {
     "data": {
      "text/plain": [
       "0.5674586892127991"
      ]
     },
     "execution_count": 56,
     "metadata": {},
     "output_type": "execute_result"
    }
   ],
   "source": [
    "_test_predict_scaled[0][0]"
   ]
  },
  {
   "cell_type": "code",
   "execution_count": 57,
   "metadata": {},
   "outputs": [],
   "source": [
    "test_predict_rescaled = np.zeros([244,], dtype='float32')"
   ]
  },
  {
   "cell_type": "code",
   "execution_count": 58,
   "metadata": {},
   "outputs": [],
   "source": [
    "for i, x in enumerate(_test_predict_scaled):\n",
    "    if x[0] > .5:\n",
    "        test_predict_rescaled[i] = 1\n",
    "    else:\n",
    "        test_predict_rescaled[i] = 0"
   ]
  },
  {
   "cell_type": "code",
   "execution_count": 59,
   "metadata": {},
   "outputs": [],
   "source": [
    "test_predict_rescaled = pd.Series(test_predict_rescaled, index=df.iloc[split+63:].index)"
   ]
  },
  {
   "cell_type": "code",
   "execution_count": 60,
   "metadata": {},
   "outputs": [],
   "source": [
    "df_compare = df.iloc[-244:].copy()"
   ]
  },
  {
   "cell_type": "code",
   "execution_count": 61,
   "metadata": {},
   "outputs": [],
   "source": [
    "df_compare[\"preds\"] = test_predict_rescaled"
   ]
  },
  {
   "cell_type": "code",
   "execution_count": 62,
   "metadata": {},
   "outputs": [],
   "source": [
    "df_compare = df_compare[['5. adjusted close', 'preds', 'return', 'increase']].copy()"
   ]
  },
  {
   "cell_type": "code",
   "execution_count": 63,
   "metadata": {},
   "outputs": [
    {
     "data": {
      "text/plain": [
       "1.0    128\n",
       "0.0    116\n",
       "Name: increase, dtype: int64"
      ]
     },
     "execution_count": 63,
     "metadata": {},
     "output_type": "execute_result"
    }
   ],
   "source": [
    "df_compare.increase.value_counts()"
   ]
  },
  {
   "cell_type": "code",
   "execution_count": 64,
   "metadata": {},
   "outputs": [
    {
     "data": {
      "text/plain": [
       "1.0    0.52459\n",
       "0.0    0.47541\n",
       "Name: increase, dtype: float64"
      ]
     },
     "execution_count": 64,
     "metadata": {},
     "output_type": "execute_result"
    }
   ],
   "source": [
    "df_compare.increase.value_counts(normalize=True)"
   ]
  },
  {
   "cell_type": "code",
   "execution_count": 65,
   "metadata": {},
   "outputs": [
    {
     "data": {
      "text/plain": [
       "1.0    178\n",
       "0.0     66\n",
       "Name: preds, dtype: int64"
      ]
     },
     "execution_count": 65,
     "metadata": {},
     "output_type": "execute_result"
    }
   ],
   "source": [
    "df_compare.preds.value_counts()"
   ]
  },
  {
   "cell_type": "code",
   "execution_count": 66,
   "metadata": {},
   "outputs": [
    {
     "data": {
      "text/plain": [
       "1.0    0.729508\n",
       "0.0    0.270492\n",
       "Name: preds, dtype: float64"
      ]
     },
     "execution_count": 66,
     "metadata": {},
     "output_type": "execute_result"
    }
   ],
   "source": [
    "df_compare.preds.value_counts(normalize=True)"
   ]
  },
  {
   "cell_type": "code",
   "execution_count": 67,
   "metadata": {},
   "outputs": [
    {
     "name": "stdout",
     "output_type": "stream",
     "text": [
      "Test Score: 0.5492 Accuracy\n"
     ]
    }
   ],
   "source": [
    "testScore = accuracy_score(df_compare[\"increase\"].values, df_compare[\"preds\"].values)\n",
    "print(\"Test Score: %.4f Accuracy\" % (testScore))"
   ]
  },
  {
   "cell_type": "code",
   "execution_count": 68,
   "metadata": {},
   "outputs": [
    {
     "data": {
      "text/html": [
       "<div>\n",
       "<style scoped>\n",
       "    .dataframe tbody tr th:only-of-type {\n",
       "        vertical-align: middle;\n",
       "    }\n",
       "\n",
       "    .dataframe tbody tr th {\n",
       "        vertical-align: top;\n",
       "    }\n",
       "\n",
       "    .dataframe thead th {\n",
       "        text-align: right;\n",
       "    }\n",
       "</style>\n",
       "<table border=\"1\" class=\"dataframe\">\n",
       "  <thead>\n",
       "    <tr style=\"text-align: right;\">\n",
       "      <th></th>\n",
       "      <th>5. adjusted close</th>\n",
       "      <th>preds</th>\n",
       "      <th>return</th>\n",
       "      <th>increase</th>\n",
       "    </tr>\n",
       "    <tr>\n",
       "      <th>date</th>\n",
       "      <th></th>\n",
       "      <th></th>\n",
       "      <th></th>\n",
       "      <th></th>\n",
       "    </tr>\n",
       "  </thead>\n",
       "  <tbody>\n",
       "    <tr>\n",
       "      <th>2021-03-18</th>\n",
       "      <td>119.818452</td>\n",
       "      <td>1.0</td>\n",
       "      <td>-0.033905</td>\n",
       "      <td>0.0</td>\n",
       "    </tr>\n",
       "    <tr>\n",
       "      <th>2021-03-19</th>\n",
       "      <td>119.281640</td>\n",
       "      <td>1.0</td>\n",
       "      <td>-0.004480</td>\n",
       "      <td>0.0</td>\n",
       "    </tr>\n",
       "    <tr>\n",
       "      <th>2021-03-22</th>\n",
       "      <td>122.661568</td>\n",
       "      <td>1.0</td>\n",
       "      <td>0.028336</td>\n",
       "      <td>1.0</td>\n",
       "    </tr>\n",
       "    <tr>\n",
       "      <th>2021-03-23</th>\n",
       "      <td>121.816586</td>\n",
       "      <td>1.0</td>\n",
       "      <td>-0.006889</td>\n",
       "      <td>0.0</td>\n",
       "    </tr>\n",
       "    <tr>\n",
       "      <th>2021-03-24</th>\n",
       "      <td>119.381049</td>\n",
       "      <td>1.0</td>\n",
       "      <td>-0.019993</td>\n",
       "      <td>0.0</td>\n",
       "    </tr>\n",
       "  </tbody>\n",
       "</table>\n",
       "</div>"
      ],
      "text/plain": [
       "            5. adjusted close  preds    return  increase\n",
       "date                                                    \n",
       "2021-03-18         119.818452    1.0 -0.033905       0.0\n",
       "2021-03-19         119.281640    1.0 -0.004480       0.0\n",
       "2021-03-22         122.661568    1.0  0.028336       1.0\n",
       "2021-03-23         121.816586    1.0 -0.006889       0.0\n",
       "2021-03-24         119.381049    1.0 -0.019993       0.0"
      ]
     },
     "execution_count": 68,
     "metadata": {},
     "output_type": "execute_result"
    }
   ],
   "source": [
    "df_compare.head()"
   ]
  },
  {
   "cell_type": "code",
   "execution_count": 69,
   "metadata": {},
   "outputs": [
    {
     "data": {
      "text/html": [
       "<div>\n",
       "<style scoped>\n",
       "    .dataframe tbody tr th:only-of-type {\n",
       "        vertical-align: middle;\n",
       "    }\n",
       "\n",
       "    .dataframe tbody tr th {\n",
       "        vertical-align: top;\n",
       "    }\n",
       "\n",
       "    .dataframe thead th {\n",
       "        text-align: right;\n",
       "    }\n",
       "</style>\n",
       "<table border=\"1\" class=\"dataframe\">\n",
       "  <thead>\n",
       "    <tr style=\"text-align: right;\">\n",
       "      <th></th>\n",
       "      <th>5. adjusted close</th>\n",
       "      <th>preds</th>\n",
       "      <th>return</th>\n",
       "      <th>increase</th>\n",
       "    </tr>\n",
       "    <tr>\n",
       "      <th>date</th>\n",
       "      <th></th>\n",
       "      <th></th>\n",
       "      <th></th>\n",
       "      <th></th>\n",
       "    </tr>\n",
       "  </thead>\n",
       "  <tbody>\n",
       "    <tr>\n",
       "      <th>2022-02-28</th>\n",
       "      <td>165.12</td>\n",
       "      <td>1.0</td>\n",
       "      <td>0.001638</td>\n",
       "      <td>1.0</td>\n",
       "    </tr>\n",
       "    <tr>\n",
       "      <th>2022-03-01</th>\n",
       "      <td>163.20</td>\n",
       "      <td>0.0</td>\n",
       "      <td>-0.011628</td>\n",
       "      <td>0.0</td>\n",
       "    </tr>\n",
       "    <tr>\n",
       "      <th>2022-03-02</th>\n",
       "      <td>166.56</td>\n",
       "      <td>1.0</td>\n",
       "      <td>0.020588</td>\n",
       "      <td>1.0</td>\n",
       "    </tr>\n",
       "    <tr>\n",
       "      <th>2022-03-03</th>\n",
       "      <td>166.23</td>\n",
       "      <td>1.0</td>\n",
       "      <td>-0.001981</td>\n",
       "      <td>0.0</td>\n",
       "    </tr>\n",
       "    <tr>\n",
       "      <th>2022-03-04</th>\n",
       "      <td>163.17</td>\n",
       "      <td>1.0</td>\n",
       "      <td>-0.018408</td>\n",
       "      <td>0.0</td>\n",
       "    </tr>\n",
       "  </tbody>\n",
       "</table>\n",
       "</div>"
      ],
      "text/plain": [
       "            5. adjusted close  preds    return  increase\n",
       "date                                                    \n",
       "2022-02-28             165.12    1.0  0.001638       1.0\n",
       "2022-03-01             163.20    0.0 -0.011628       0.0\n",
       "2022-03-02             166.56    1.0  0.020588       1.0\n",
       "2022-03-03             166.23    1.0 -0.001981       0.0\n",
       "2022-03-04             163.17    1.0 -0.018408       0.0"
      ]
     },
     "execution_count": 69,
     "metadata": {},
     "output_type": "execute_result"
    }
   ],
   "source": [
    "df_compare.tail()"
   ]
  },
  {
   "cell_type": "code",
   "execution_count": 70,
   "metadata": {},
   "outputs": [],
   "source": [
    "df_compare[\"increase\"] = df_compare[\"increase\"].shift(-1)\n",
    "df_compare[\"return\"] = df_compare[\"return\"].shift(-1)\n",
    "df_compare[\"preds\"] = df_compare[\"preds\"].shift(-1)"
   ]
  },
  {
   "cell_type": "code",
   "execution_count": 71,
   "metadata": {},
   "outputs": [
    {
     "data": {
      "text/html": [
       "<div>\n",
       "<style scoped>\n",
       "    .dataframe tbody tr th:only-of-type {\n",
       "        vertical-align: middle;\n",
       "    }\n",
       "\n",
       "    .dataframe tbody tr th {\n",
       "        vertical-align: top;\n",
       "    }\n",
       "\n",
       "    .dataframe thead th {\n",
       "        text-align: right;\n",
       "    }\n",
       "</style>\n",
       "<table border=\"1\" class=\"dataframe\">\n",
       "  <thead>\n",
       "    <tr style=\"text-align: right;\">\n",
       "      <th></th>\n",
       "      <th>5. adjusted close</th>\n",
       "      <th>preds</th>\n",
       "      <th>return</th>\n",
       "      <th>increase</th>\n",
       "    </tr>\n",
       "    <tr>\n",
       "      <th>date</th>\n",
       "      <th></th>\n",
       "      <th></th>\n",
       "      <th></th>\n",
       "      <th></th>\n",
       "    </tr>\n",
       "  </thead>\n",
       "  <tbody>\n",
       "    <tr>\n",
       "      <th>2021-03-18</th>\n",
       "      <td>119.818452</td>\n",
       "      <td>1.0</td>\n",
       "      <td>-0.004480</td>\n",
       "      <td>0.0</td>\n",
       "    </tr>\n",
       "    <tr>\n",
       "      <th>2021-03-19</th>\n",
       "      <td>119.281640</td>\n",
       "      <td>1.0</td>\n",
       "      <td>0.028336</td>\n",
       "      <td>1.0</td>\n",
       "    </tr>\n",
       "    <tr>\n",
       "      <th>2021-03-22</th>\n",
       "      <td>122.661568</td>\n",
       "      <td>1.0</td>\n",
       "      <td>-0.006889</td>\n",
       "      <td>0.0</td>\n",
       "    </tr>\n",
       "    <tr>\n",
       "      <th>2021-03-23</th>\n",
       "      <td>121.816586</td>\n",
       "      <td>1.0</td>\n",
       "      <td>-0.019993</td>\n",
       "      <td>0.0</td>\n",
       "    </tr>\n",
       "    <tr>\n",
       "      <th>2021-03-24</th>\n",
       "      <td>119.381049</td>\n",
       "      <td>0.0</td>\n",
       "      <td>0.004164</td>\n",
       "      <td>1.0</td>\n",
       "    </tr>\n",
       "  </tbody>\n",
       "</table>\n",
       "</div>"
      ],
      "text/plain": [
       "            5. adjusted close  preds    return  increase\n",
       "date                                                    \n",
       "2021-03-18         119.818452    1.0 -0.004480       0.0\n",
       "2021-03-19         119.281640    1.0  0.028336       1.0\n",
       "2021-03-22         122.661568    1.0 -0.006889       0.0\n",
       "2021-03-23         121.816586    1.0 -0.019993       0.0\n",
       "2021-03-24         119.381049    0.0  0.004164       1.0"
      ]
     },
     "execution_count": 71,
     "metadata": {},
     "output_type": "execute_result"
    }
   ],
   "source": [
    "df_compare.head()"
   ]
  },
  {
   "cell_type": "code",
   "execution_count": 72,
   "metadata": {},
   "outputs": [
    {
     "data": {
      "text/html": [
       "<div>\n",
       "<style scoped>\n",
       "    .dataframe tbody tr th:only-of-type {\n",
       "        vertical-align: middle;\n",
       "    }\n",
       "\n",
       "    .dataframe tbody tr th {\n",
       "        vertical-align: top;\n",
       "    }\n",
       "\n",
       "    .dataframe thead th {\n",
       "        text-align: right;\n",
       "    }\n",
       "</style>\n",
       "<table border=\"1\" class=\"dataframe\">\n",
       "  <thead>\n",
       "    <tr style=\"text-align: right;\">\n",
       "      <th></th>\n",
       "      <th>5. adjusted close</th>\n",
       "      <th>preds</th>\n",
       "      <th>return</th>\n",
       "      <th>increase</th>\n",
       "    </tr>\n",
       "    <tr>\n",
       "      <th>date</th>\n",
       "      <th></th>\n",
       "      <th></th>\n",
       "      <th></th>\n",
       "      <th></th>\n",
       "    </tr>\n",
       "  </thead>\n",
       "  <tbody>\n",
       "    <tr>\n",
       "      <th>2022-02-28</th>\n",
       "      <td>165.12</td>\n",
       "      <td>0.0</td>\n",
       "      <td>-0.011628</td>\n",
       "      <td>0.0</td>\n",
       "    </tr>\n",
       "    <tr>\n",
       "      <th>2022-03-01</th>\n",
       "      <td>163.20</td>\n",
       "      <td>1.0</td>\n",
       "      <td>0.020588</td>\n",
       "      <td>1.0</td>\n",
       "    </tr>\n",
       "    <tr>\n",
       "      <th>2022-03-02</th>\n",
       "      <td>166.56</td>\n",
       "      <td>1.0</td>\n",
       "      <td>-0.001981</td>\n",
       "      <td>0.0</td>\n",
       "    </tr>\n",
       "    <tr>\n",
       "      <th>2022-03-03</th>\n",
       "      <td>166.23</td>\n",
       "      <td>1.0</td>\n",
       "      <td>-0.018408</td>\n",
       "      <td>0.0</td>\n",
       "    </tr>\n",
       "    <tr>\n",
       "      <th>2022-03-04</th>\n",
       "      <td>163.17</td>\n",
       "      <td>NaN</td>\n",
       "      <td>NaN</td>\n",
       "      <td>NaN</td>\n",
       "    </tr>\n",
       "  </tbody>\n",
       "</table>\n",
       "</div>"
      ],
      "text/plain": [
       "            5. adjusted close  preds    return  increase\n",
       "date                                                    \n",
       "2022-02-28             165.12    0.0 -0.011628       0.0\n",
       "2022-03-01             163.20    1.0  0.020588       1.0\n",
       "2022-03-02             166.56    1.0 -0.001981       0.0\n",
       "2022-03-03             166.23    1.0 -0.018408       0.0\n",
       "2022-03-04             163.17    NaN       NaN       NaN"
      ]
     },
     "execution_count": 72,
     "metadata": {},
     "output_type": "execute_result"
    }
   ],
   "source": [
    "df_compare.tail()"
   ]
  },
  {
   "cell_type": "code",
   "execution_count": 73,
   "metadata": {},
   "outputs": [],
   "source": [
    "df_compare = df_compare.drop(\"2021-03-18\")\n"
   ]
  },
  {
   "cell_type": "markdown",
   "metadata": {},
   "source": [
    "### Postive Increase Prediction %"
   ]
  },
  {
   "cell_type": "code",
   "execution_count": 74,
   "metadata": {},
   "outputs": [
    {
     "data": {
      "text/plain": [
       "0.765625"
      ]
     },
     "execution_count": 74,
     "metadata": {},
     "output_type": "execute_result"
    }
   ],
   "source": [
    "df_compare[(df_compare[\"increase\"]==1) & (df_compare[\"preds\"]==1)].shape[0] / df_compare[(df_compare[\"increase\"]==1)].shape[0]"
   ]
  },
  {
   "cell_type": "markdown",
   "metadata": {},
   "source": [
    "### Negative Increase Prediction %"
   ]
  },
  {
   "cell_type": "code",
   "execution_count": 75,
   "metadata": {},
   "outputs": [
    {
     "data": {
      "text/plain": [
       "0.3157894736842105"
      ]
     },
     "execution_count": 75,
     "metadata": {},
     "output_type": "execute_result"
    }
   ],
   "source": [
    "df_compare[(df_compare[\"increase\"]==0) & (df_compare[\"preds\"]==0)].shape[0] / df_compare[(df_compare[\"increase\"]==0)].shape[0]"
   ]
  },
  {
   "cell_type": "markdown",
   "metadata": {},
   "source": [
    "### Overall Prediction Accuracy %"
   ]
  },
  {
   "cell_type": "code",
   "execution_count": 76,
   "metadata": {},
   "outputs": [
    {
     "data": {
      "text/plain": [
       "0.551440329218107"
      ]
     },
     "execution_count": 76,
     "metadata": {},
     "output_type": "execute_result"
    }
   ],
   "source": [
    "df_compare[(df_compare[\"increase\"] == df_compare[\"preds\"])].shape[0] / (df_compare.shape[0])"
   ]
  },
  {
   "cell_type": "markdown",
   "metadata": {},
   "source": [
    "### Actual Distribution of Increase (1) vs. Decrease (0)"
   ]
  },
  {
   "cell_type": "code",
   "execution_count": 77,
   "metadata": {},
   "outputs": [
    {
     "data": {
      "text/plain": [
       "1.0    0.528926\n",
       "0.0    0.471074\n",
       "Name: increase, dtype: float64"
      ]
     },
     "execution_count": 77,
     "metadata": {},
     "output_type": "execute_result"
    }
   ],
   "source": [
    "df_compare[\"increase\"].value_counts(normalize=True)"
   ]
  },
  {
   "cell_type": "markdown",
   "metadata": {},
   "source": [
    "### Predicted Distribution of Increase (1) vs. Decrease (0)"
   ]
  },
  {
   "cell_type": "code",
   "execution_count": 78,
   "metadata": {},
   "outputs": [
    {
     "data": {
      "text/plain": [
       "1.0    176\n",
       "0.0     66\n",
       "Name: preds, dtype: int64"
      ]
     },
     "execution_count": 78,
     "metadata": {},
     "output_type": "execute_result"
    }
   ],
   "source": [
    "df_compare[\"preds\"].value_counts()"
   ]
  },
  {
   "cell_type": "code",
   "execution_count": 79,
   "metadata": {},
   "outputs": [
    {
     "data": {
      "text/plain": [
       "1.0    0.727273\n",
       "0.0    0.272727\n",
       "Name: preds, dtype: float64"
      ]
     },
     "execution_count": 79,
     "metadata": {},
     "output_type": "execute_result"
    }
   ],
   "source": [
    "df_compare[\"preds\"].value_counts(normalize=True)"
   ]
  }
 ],
 "metadata": {
  "kernelspec": {
   "display_name": "Python 3",
   "language": "python",
   "name": "python3"
  },
  "language_info": {
   "codemirror_mode": {
    "name": "ipython",
    "version": 3
   },
   "file_extension": ".py",
   "mimetype": "text/x-python",
   "name": "python",
   "nbconvert_exporter": "python",
   "pygments_lexer": "ipython3",
   "version": "3.8.10"
  }
 },
 "nbformat": 4,
 "nbformat_minor": 4
}
