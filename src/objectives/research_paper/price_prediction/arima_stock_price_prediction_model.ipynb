{
 "cells": [
  {
   "cell_type": "code",
   "execution_count": 1,
   "metadata": {},
   "outputs": [],
   "source": [
    "%matplotlib inline\n",
    "\n",
    "import pandas as pd\n",
    "import numpy as np\n",
    "import os\n",
    "import matplotlib.pyplot as plt\n",
    "import seaborn as sns\n",
    "import time\n",
    "\n",
    "plt.style.use(style=\"seaborn\")\n",
    "# plt.rcParams['figure.dpi'] = 400\n",
    "sns.set_style('whitegrid')\n"
   ]
  },
  {
   "cell_type": "code",
   "execution_count": 2,
   "metadata": {},
   "outputs": [
    {
     "name": "stdout",
     "output_type": "stream",
     "text": [
      "Ticker: MSFT\n",
      "Source: BENZINGA\n",
      "Model Type: ARIMA\n",
      "p: 12 \n",
      "d: 1 \n",
      "q: 13\n",
      "Scale Values: False\n"
     ]
    }
   ],
   "source": [
    "ticker_list = [\"aapl\", \"amzn\", \"msft\"]\n",
    "\n",
    "ticker = ticker_list[2]\n",
    "\n",
    "ticker_upper = ticker.upper()\n",
    "\n",
    "print(\"Ticker:\", ticker_upper)\n",
    "\n",
    "\n",
    "################################################\n",
    "\n",
    "\n",
    "source_list = [\"BENZINGA\", \"TWINT\"]\n",
    "\n",
    "source = source_list[0]\n",
    "\n",
    "print(\"Source:\", source)\n",
    "\n",
    "\n",
    "################################################\n",
    "\n",
    "\n",
    "model_type_list = [\"arima\"]\n",
    "\n",
    "model_type = model_type_list[0]\n",
    "\n",
    "print(\"Model Type:\", model_type.upper())\n",
    "\n",
    "\n",
    "################################################\n",
    "\n",
    "\n",
    "if ticker == \"aapl\":\n",
    "    p, d, q = 17,1,20\n",
    "\n",
    "elif ticker == \"amzn\":\n",
    "    p, d, q, = 9,1,9\n",
    "\n",
    "elif ticker == \"msft\":\n",
    "    p, d, q = 12,1,13\n",
    "\n",
    "\n",
    "################################################\n",
    "\n",
    "print(\"p:\", p, \"\\nd:\", d, \"\\nq:\", q)\n",
    "\n",
    "################################################\n",
    "\n",
    "scale_values = False\n",
    "\n",
    "print(\"Scale Values:\", scale_values)\n",
    "\n"
   ]
  },
  {
   "cell_type": "code",
   "execution_count": 3,
   "metadata": {},
   "outputs": [],
   "source": [
    "csv_path = f\"/app/StockPricePredictions/data/alphavantage/time_series_daily_adjusted/{ticker_upper}/{ticker_upper}_WITH_{source}_FINBERT_SA.csv\""
   ]
  },
  {
   "cell_type": "code",
   "execution_count": 4,
   "metadata": {},
   "outputs": [],
   "source": [
    "df = pd.read_csv(csv_path)\n",
    "df.sort_values(by=[\"date\"], ascending=True, inplace=True)\n",
    "df.reset_index(drop=True, inplace=True)\n",
    "\n",
    "date_time = pd.to_datetime(df.pop('date'))\n",
    "\n",
    "df = df[[\"5. adjusted close\"]].copy()\n",
    "\n",
    "df.index = date_time"
   ]
  },
  {
   "cell_type": "code",
   "execution_count": 5,
   "metadata": {},
   "outputs": [],
   "source": [
    " if scale_values:\n",
    "    \n",
    "    from sklearn.preprocessing import MinMaxScaler\n",
    "\n",
    "    X = df.values\n",
    "    scaler = MinMaxScaler(feature_range=(0, 1)).fit(X)\n",
    "    X_scaled = scaler.transform(X)\n",
    "    df[\"5. adjusted close\"] = [x[0] for x in X_scaled]"
   ]
  },
  {
   "cell_type": "code",
   "execution_count": 6,
   "metadata": {},
   "outputs": [
    {
     "name": "stdout",
     "output_type": "stream",
     "text": [
      "2757\n",
      "307\n"
     ]
    }
   ],
   "source": [
    "split_time = int(len(df) * .9)\n",
    "\n",
    "train_df = df[:split_time]\n",
    "test_df = df[split_time:]\n",
    "\n",
    "print(len(train_df))\n",
    "print(len(test_df))\n",
    "\n",
    "df = test_df[[\"5. adjusted close\"]].copy()"
   ]
  },
  {
   "cell_type": "code",
   "execution_count": 7,
   "metadata": {},
   "outputs": [
    {
     "data": {
      "text/html": [
       "<div>\n",
       "<style scoped>\n",
       "    .dataframe tbody tr th:only-of-type {\n",
       "        vertical-align: middle;\n",
       "    }\n",
       "\n",
       "    .dataframe tbody tr th {\n",
       "        vertical-align: top;\n",
       "    }\n",
       "\n",
       "    .dataframe thead th {\n",
       "        text-align: right;\n",
       "    }\n",
       "</style>\n",
       "<table border=\"1\" class=\"dataframe\">\n",
       "  <thead>\n",
       "    <tr style=\"text-align: right;\">\n",
       "      <th></th>\n",
       "      <th>5. adjusted close</th>\n",
       "    </tr>\n",
       "  </thead>\n",
       "  <tbody>\n",
       "    <tr>\n",
       "      <th>count</th>\n",
       "      <td>307.000000</td>\n",
       "    </tr>\n",
       "    <tr>\n",
       "      <th>mean</th>\n",
       "      <td>276.163919</td>\n",
       "    </tr>\n",
       "    <tr>\n",
       "      <th>std</th>\n",
       "      <td>37.300208</td>\n",
       "    </tr>\n",
       "    <tr>\n",
       "      <th>min</th>\n",
       "      <td>210.051892</td>\n",
       "    </tr>\n",
       "    <tr>\n",
       "      <th>25%</th>\n",
       "      <td>242.339020</td>\n",
       "    </tr>\n",
       "    <tr>\n",
       "      <th>50%</th>\n",
       "      <td>282.417959</td>\n",
       "    </tr>\n",
       "    <tr>\n",
       "      <th>75%</th>\n",
       "      <td>302.217360</td>\n",
       "    </tr>\n",
       "    <tr>\n",
       "      <th>max</th>\n",
       "      <td>342.401190</td>\n",
       "    </tr>\n",
       "  </tbody>\n",
       "</table>\n",
       "</div>"
      ],
      "text/plain": [
       "       5. adjusted close\n",
       "count         307.000000\n",
       "mean          276.163919\n",
       "std            37.300208\n",
       "min           210.051892\n",
       "25%           242.339020\n",
       "50%           282.417959\n",
       "75%           302.217360\n",
       "max           342.401190"
      ]
     },
     "execution_count": 7,
     "metadata": {},
     "output_type": "execute_result"
    }
   ],
   "source": [
    "df.describe()"
   ]
  },
  {
   "cell_type": "code",
   "execution_count": 8,
   "metadata": {},
   "outputs": [
    {
     "data": {
      "text/html": [
       "<div>\n",
       "<style scoped>\n",
       "    .dataframe tbody tr th:only-of-type {\n",
       "        vertical-align: middle;\n",
       "    }\n",
       "\n",
       "    .dataframe tbody tr th {\n",
       "        vertical-align: top;\n",
       "    }\n",
       "\n",
       "    .dataframe thead th {\n",
       "        text-align: right;\n",
       "    }\n",
       "</style>\n",
       "<table border=\"1\" class=\"dataframe\">\n",
       "  <thead>\n",
       "    <tr style=\"text-align: right;\">\n",
       "      <th></th>\n",
       "      <th>5. adjusted close</th>\n",
       "    </tr>\n",
       "    <tr>\n",
       "      <th>date</th>\n",
       "      <th></th>\n",
       "    </tr>\n",
       "  </thead>\n",
       "  <tbody>\n",
       "    <tr>\n",
       "      <th>2020-12-15</th>\n",
       "      <td>211.912422</td>\n",
       "    </tr>\n",
       "    <tr>\n",
       "      <th>2020-12-16</th>\n",
       "      <td>217.009088</td>\n",
       "    </tr>\n",
       "    <tr>\n",
       "      <th>2020-12-17</th>\n",
       "      <td>217.147638</td>\n",
       "    </tr>\n",
       "    <tr>\n",
       "      <th>2020-12-18</th>\n",
       "      <td>216.326234</td>\n",
       "    </tr>\n",
       "    <tr>\n",
       "      <th>2020-12-21</th>\n",
       "      <td>220.284809</td>\n",
       "    </tr>\n",
       "  </tbody>\n",
       "</table>\n",
       "</div>"
      ],
      "text/plain": [
       "            5. adjusted close\n",
       "date                         \n",
       "2020-12-15         211.912422\n",
       "2020-12-16         217.009088\n",
       "2020-12-17         217.147638\n",
       "2020-12-18         216.326234\n",
       "2020-12-21         220.284809"
      ]
     },
     "execution_count": 8,
     "metadata": {},
     "output_type": "execute_result"
    }
   ],
   "source": [
    "df.head()"
   ]
  },
  {
   "cell_type": "markdown",
   "metadata": {},
   "source": [
    "### Check if the time series is stationary"
   ]
  },
  {
   "cell_type": "code",
   "execution_count": 9,
   "metadata": {},
   "outputs": [
    {
     "name": "stdout",
     "output_type": "stream",
     "text": [
      "ADF Statistic: -1.6999661731484106\n",
      "p-value: 0.43112990556462827\n"
     ]
    }
   ],
   "source": [
    "from statsmodels.tsa.stattools import adfuller\n",
    "\n",
    "result = adfuller(df[\"5. adjusted close\"])\n",
    "print(f\"ADF Statistic: {result[0]}\")\n",
    "print(f\"p-value: {result[1]}\")"
   ]
  },
  {
   "cell_type": "markdown",
   "metadata": {},
   "source": [
    "#### Autocorrelation Function (ACF)"
   ]
  },
  {
   "cell_type": "code",
   "execution_count": 10,
   "metadata": {},
   "outputs": [],
   "source": [
    "from statsmodels.graphics.tsaplots import plot_acf"
   ]
  },
  {
   "cell_type": "code",
   "execution_count": 11,
   "metadata": {},
   "outputs": [
    {
     "data": {
      "image/png": "[encoded data removed]",
      "text/plain": [
       "<Figure size 1152x288 with 2 Axes>"
      ]
     },
     "metadata": {},
     "output_type": "display_data"
    }
   ],
   "source": [
    "fig, (ax1, ax2) = plt.subplots(1, 2, figsize=(16,4))\n",
    "\n",
    "ax1.plot(df[\"5. adjusted close\"])\n",
    "ax1.set_title(\"Original\")\n",
    "plot_acf(df[\"5. adjusted close\"], ax=ax2);"
   ]
  },
  {
   "cell_type": "code",
   "execution_count": 12,
   "metadata": {},
   "outputs": [
    {
     "data": {
      "image/png": "[encoded data removed]",
      "text/plain": [
       "<Figure size 1152x288 with 2 Axes>"
      ]
     },
     "metadata": {},
     "output_type": "display_data"
    }
   ],
   "source": [
    "diff = df[\"5. adjusted close\"].diff().dropna()\n",
    "\n",
    "fig, (ax1, ax2) = plt.subplots(1, 2, figsize=(16,4))\n",
    "\n",
    "ax1.plot(diff)\n",
    "ax1.set_title(\"Differenced Once\")\n",
    "plot_acf(diff, ax=ax2);"
   ]
  },
  {
   "cell_type": "code",
   "execution_count": 13,
   "metadata": {},
   "outputs": [],
   "source": [
    "# pip install pmdarima\n",
    "from pmdarima.arima.utils import ndiffs"
   ]
  },
  {
   "cell_type": "code",
   "execution_count": 14,
   "metadata": {},
   "outputs": [
    {
     "data": {
      "text/plain": [
       "1"
      ]
     },
     "execution_count": 14,
     "metadata": {},
     "output_type": "execute_result"
    }
   ],
   "source": [
    "ndiffs(df[\"5. adjusted close\"])"
   ]
  },
  {
   "cell_type": "markdown",
   "metadata": {},
   "source": [
    "__p__\n",
    "\n",
    "p is the order of the Auto Regressive (AR) term.  It refers to the number of lags to be used as predictors.\n",
    "\n",
    "We can find out the required number of AR terms by inspecting the Partial Autocorrelation (PACF) plot.\n",
    "\n",
    "The partial autocorrelation represents the correlation between the series and its lags."
   ]
  },
  {
   "cell_type": "code",
   "execution_count": 15,
   "metadata": {},
   "outputs": [],
   "source": [
    "from statsmodels.graphics.tsaplots import plot_pacf"
   ]
  },
  {
   "cell_type": "code",
   "execution_count": 16,
   "metadata": {},
   "outputs": [
    {
     "name": "stderr",
     "output_type": "stream",
     "text": [
      "/usr/local/lib/python3.8/dist-packages/statsmodels/graphics/tsaplots.py:348: FutureWarning: The default method 'yw' can produce PACF values outside of the [-1,1] interval. After 0.13, the default will change tounadjusted Yule-Walker ('ywm'). You can use this method now by setting method='ywm'.\n",
      "  warnings.warn(\n"
     ]
    },
    {
     "data": {
      "image/png": "[encoded data removed]",
      "text/plain": [
       "<Figure size 1152x288 with 2 Axes>"
      ]
     },
     "metadata": {},
     "output_type": "display_data"
    }
   ],
   "source": [
    "diff = df[\"5. adjusted close\"].diff().dropna()\n",
    "\n",
    "fig, (ax1, ax2) = plt.subplots(1, 2, figsize=(16,4))\n",
    "\n",
    "ax1.plot(diff)\n",
    "ax1.set_title(\"Differenced Once\")\n",
    "plot_pacf(diff, ax=ax2);"
   ]
  },
  {
   "cell_type": "markdown",
   "metadata": {},
   "source": [
    "__q__\n",
    "\n",
    "q is the order of the Moving Average (MA) term.  It refers to the number of lagged forecast errors that should go into the ARIMA Model.\n",
    "\n",
    "We can look at the ACF plot for the number of MA terms.\n",
    "\n"
   ]
  },
  {
   "cell_type": "code",
   "execution_count": 17,
   "metadata": {},
   "outputs": [
    {
     "data": {
      "image/png": "[encoded data removed]",
      "text/plain": [
       "<Figure size 1152x288 with 2 Axes>"
      ]
     },
     "metadata": {},
     "output_type": "display_data"
    }
   ],
   "source": [
    "diff = df[\"5. adjusted close\"].diff().dropna()\n",
    "\n",
    "fig, (ax1, ax2) = plt.subplots(1, 2, figsize=(16,4))\n",
    "\n",
    "ax1.plot(diff)\n",
    "ax1.set_title(\"Differenced Once\")\n",
    "plot_acf(diff, ax=ax2);"
   ]
  },
  {
   "cell_type": "markdown",
   "metadata": {},
   "source": [
    "#### Fitting the ARIMA Model"
   ]
  },
  {
   "cell_type": "code",
   "execution_count": 18,
   "metadata": {},
   "outputs": [
    {
     "name": "stderr",
     "output_type": "stream",
     "text": [
      "/usr/local/lib/python3.8/dist-packages/statsmodels/tsa/base/tsa_model.py:471: ValueWarning: A date index has been provided, but it has no associated frequency information and so will be ignored when e.g. forecasting.\n",
      "  self._init_dates(dates, freq)\n",
      "/usr/local/lib/python3.8/dist-packages/statsmodels/tsa/base/tsa_model.py:471: ValueWarning: A date index has been provided, but it has no associated frequency information and so will be ignored when e.g. forecasting.\n",
      "  self._init_dates(dates, freq)\n",
      "/usr/local/lib/python3.8/dist-packages/statsmodels/tsa/base/tsa_model.py:471: ValueWarning: A date index has been provided, but it has no associated frequency information and so will be ignored when e.g. forecasting.\n",
      "  self._init_dates(dates, freq)\n",
      "/usr/local/lib/python3.8/dist-packages/statsmodels/tsa/statespace/sarimax.py:966: UserWarning: Non-stationary starting autoregressive parameters found. Using zeros as starting parameters.\n",
      "  warn('Non-stationary starting autoregressive parameters'\n",
      "/usr/local/lib/python3.8/dist-packages/statsmodels/tsa/statespace/sarimax.py:978: UserWarning: Non-invertible starting MA parameters found. Using zeros as starting parameters.\n",
      "  warn('Non-invertible starting MA parameters found.'\n",
      "/usr/local/lib/python3.8/dist-packages/statsmodels/base/model.py:604: ConvergenceWarning: Maximum Likelihood optimization failed to converge. Check mle_retvals\n",
      "  warnings.warn(\"Maximum Likelihood optimization failed to \"\n"
     ]
    }
   ],
   "source": [
    "from statsmodels.tsa.arima.model import ARIMA\n",
    "# from statsmodels.tsa.arima_model import ARIMA\n",
    "\n",
    "model = ARIMA(df[\"5. adjusted close\"], order=(p, d, q))\n",
    "result = model.fit()\n"
   ]
  },
  {
   "cell_type": "code",
   "execution_count": 19,
   "metadata": {},
   "outputs": [
    {
     "data": {
      "text/html": [
       "<table class=\"simpletable\">\n",
       "<caption>SARIMAX Results</caption>\n",
       "<tr>\n",
       "  <th>Dep. Variable:</th>   <td>5. adjusted close</td> <th>  No. Observations:  </th>    <td>307</td>  \n",
       "</tr>\n",
       "<tr>\n",
       "  <th>Model:</th>           <td>ARIMA(12, 1, 13)</td>  <th>  Log Likelihood     </th> <td>-845.051</td>\n",
       "</tr>\n",
       "<tr>\n",
       "  <th>Date:</th>            <td>Thu, 14 Jul 2022</td>  <th>  AIC                </th> <td>1742.103</td>\n",
       "</tr>\n",
       "<tr>\n",
       "  <th>Time:</th>                <td>04:10:27</td>      <th>  BIC                </th> <td>1838.916</td>\n",
       "</tr>\n",
       "<tr>\n",
       "  <th>Sample:</th>                  <td>0</td>         <th>  HQIC               </th> <td>1780.822</td>\n",
       "</tr>\n",
       "<tr>\n",
       "  <th></th>                      <td> - 307</td>       <th>                     </th>     <td> </td>   \n",
       "</tr>\n",
       "<tr>\n",
       "  <th>Covariance Type:</th>        <td>opg</td>        <th>                     </th>     <td> </td>   \n",
       "</tr>\n",
       "</table>\n",
       "<table class=\"simpletable\">\n",
       "<tr>\n",
       "     <td></td>       <th>coef</th>     <th>std err</th>      <th>z</th>      <th>P>|z|</th>  <th>[0.025</th>    <th>0.975]</th>  \n",
       "</tr>\n",
       "<tr>\n",
       "  <th>ar.L1</th>  <td>   -0.6728</td> <td>    1.078</td> <td>   -0.624</td> <td> 0.532</td> <td>   -2.785</td> <td>    1.439</td>\n",
       "</tr>\n",
       "<tr>\n",
       "  <th>ar.L2</th>  <td>    0.0926</td> <td>    1.027</td> <td>    0.090</td> <td> 0.928</td> <td>   -1.920</td> <td>    2.105</td>\n",
       "</tr>\n",
       "<tr>\n",
       "  <th>ar.L3</th>  <td>   -0.0015</td> <td>    0.587</td> <td>   -0.003</td> <td> 0.998</td> <td>   -1.151</td> <td>    1.148</td>\n",
       "</tr>\n",
       "<tr>\n",
       "  <th>ar.L4</th>  <td>   -0.1343</td> <td>    0.564</td> <td>   -0.238</td> <td> 0.812</td> <td>   -1.241</td> <td>    0.972</td>\n",
       "</tr>\n",
       "<tr>\n",
       "  <th>ar.L5</th>  <td>    0.1011</td> <td>    0.503</td> <td>    0.201</td> <td> 0.841</td> <td>   -0.886</td> <td>    1.088</td>\n",
       "</tr>\n",
       "<tr>\n",
       "  <th>ar.L6</th>  <td>    0.0368</td> <td>    0.554</td> <td>    0.066</td> <td> 0.947</td> <td>   -1.049</td> <td>    1.123</td>\n",
       "</tr>\n",
       "<tr>\n",
       "  <th>ar.L7</th>  <td>   -0.1192</td> <td>    0.476</td> <td>   -0.250</td> <td> 0.802</td> <td>   -1.053</td> <td>    0.814</td>\n",
       "</tr>\n",
       "<tr>\n",
       "  <th>ar.L8</th>  <td>    0.0845</td> <td>    0.593</td> <td>    0.142</td> <td> 0.887</td> <td>   -1.078</td> <td>    1.247</td>\n",
       "</tr>\n",
       "<tr>\n",
       "  <th>ar.L9</th>  <td>   -0.0505</td> <td>    0.388</td> <td>   -0.130</td> <td> 0.896</td> <td>   -0.811</td> <td>    0.710</td>\n",
       "</tr>\n",
       "<tr>\n",
       "  <th>ar.L10</th> <td>   -0.4451</td> <td>    0.362</td> <td>   -1.228</td> <td> 0.219</td> <td>   -1.155</td> <td>    0.265</td>\n",
       "</tr>\n",
       "<tr>\n",
       "  <th>ar.L11</th> <td>   -0.4163</td> <td>    0.694</td> <td>   -0.600</td> <td> 0.548</td> <td>   -1.776</td> <td>    0.943</td>\n",
       "</tr>\n",
       "<tr>\n",
       "  <th>ar.L12</th> <td>   -0.3642</td> <td>    0.517</td> <td>   -0.704</td> <td> 0.482</td> <td>   -1.378</td> <td>    0.650</td>\n",
       "</tr>\n",
       "<tr>\n",
       "  <th>ma.L1</th>  <td>    0.6115</td> <td>    1.210</td> <td>    0.505</td> <td> 0.613</td> <td>   -1.761</td> <td>    2.984</td>\n",
       "</tr>\n",
       "<tr>\n",
       "  <th>ma.L2</th>  <td>   -0.0387</td> <td>    1.625</td> <td>   -0.024</td> <td> 0.981</td> <td>   -3.223</td> <td>    3.145</td>\n",
       "</tr>\n",
       "<tr>\n",
       "  <th>ma.L3</th>  <td>    0.0512</td> <td>    1.304</td> <td>    0.039</td> <td> 0.969</td> <td>   -2.506</td> <td>    2.608</td>\n",
       "</tr>\n",
       "<tr>\n",
       "  <th>ma.L4</th>  <td>    0.0385</td> <td>    0.965</td> <td>    0.040</td> <td> 0.968</td> <td>   -1.854</td> <td>    1.931</td>\n",
       "</tr>\n",
       "<tr>\n",
       "  <th>ma.L5</th>  <td>   -0.2075</td> <td>    0.901</td> <td>   -0.230</td> <td> 0.818</td> <td>   -1.973</td> <td>    1.558</td>\n",
       "</tr>\n",
       "<tr>\n",
       "  <th>ma.L6</th>  <td>   -0.0021</td> <td>    0.765</td> <td>   -0.003</td> <td> 0.998</td> <td>   -1.502</td> <td>    1.498</td>\n",
       "</tr>\n",
       "<tr>\n",
       "  <th>ma.L7</th>  <td>    0.3154</td> <td>    1.094</td> <td>    0.288</td> <td> 0.773</td> <td>   -1.828</td> <td>    2.459</td>\n",
       "</tr>\n",
       "<tr>\n",
       "  <th>ma.L8</th>  <td>   -0.0692</td> <td>    1.180</td> <td>   -0.059</td> <td> 0.953</td> <td>   -2.381</td> <td>    2.243</td>\n",
       "</tr>\n",
       "<tr>\n",
       "  <th>ma.L9</th>  <td>   -0.0136</td> <td>    1.310</td> <td>   -0.010</td> <td> 0.992</td> <td>   -2.581</td> <td>    2.553</td>\n",
       "</tr>\n",
       "<tr>\n",
       "  <th>ma.L10</th> <td>    0.5003</td> <td>    1.130</td> <td>    0.443</td> <td> 0.658</td> <td>   -1.714</td> <td>    2.715</td>\n",
       "</tr>\n",
       "<tr>\n",
       "  <th>ma.L11</th> <td>    0.5702</td> <td>    1.353</td> <td>    0.421</td> <td> 0.673</td> <td>   -2.082</td> <td>    3.222</td>\n",
       "</tr>\n",
       "<tr>\n",
       "  <th>ma.L12</th> <td>    0.5267</td> <td>    0.941</td> <td>    0.560</td> <td> 0.576</td> <td>   -1.317</td> <td>    2.371</td>\n",
       "</tr>\n",
       "<tr>\n",
       "  <th>ma.L13</th> <td>   -0.0582</td> <td>    0.177</td> <td>   -0.329</td> <td> 0.742</td> <td>   -0.405</td> <td>    0.288</td>\n",
       "</tr>\n",
       "<tr>\n",
       "  <th>sigma2</th> <td>   14.3991</td> <td>   15.500</td> <td>    0.929</td> <td> 0.353</td> <td>  -15.981</td> <td>   44.779</td>\n",
       "</tr>\n",
       "</table>\n",
       "<table class=\"simpletable\">\n",
       "<tr>\n",
       "  <th>Ljung-Box (L1) (Q):</th>     <td>0.01</td> <th>  Jarque-Bera (JB):  </th> <td>14.74</td>\n",
       "</tr>\n",
       "<tr>\n",
       "  <th>Prob(Q):</th>                <td>0.94</td> <th>  Prob(JB):          </th> <td>0.00</td> \n",
       "</tr>\n",
       "<tr>\n",
       "  <th>Heteroskedasticity (H):</th> <td>2.24</td> <th>  Skew:              </th> <td>-0.33</td>\n",
       "</tr>\n",
       "<tr>\n",
       "  <th>Prob(H) (two-sided):</th>    <td>0.00</td> <th>  Kurtosis:          </th> <td>3.85</td> \n",
       "</tr>\n",
       "</table><br/><br/>Warnings:<br/>[1] Covariance matrix calculated using the outer product of gradients (complex-step)."
      ],
      "text/plain": [
       "<class 'statsmodels.iolib.summary.Summary'>\n",
       "\"\"\"\n",
       "                               SARIMAX Results                                \n",
       "==============================================================================\n",
       "Dep. Variable:      5. adjusted close   No. Observations:                  307\n",
       "Model:               ARIMA(12, 1, 13)   Log Likelihood                -845.051\n",
       "Date:                Thu, 14 Jul 2022   AIC                           1742.103\n",
       "Time:                        04:10:27   BIC                           1838.916\n",
       "Sample:                             0   HQIC                          1780.822\n",
       "                                - 307                                         \n",
       "Covariance Type:                  opg                                         \n",
       "==============================================================================\n",
       "                 coef    std err          z      P>|z|      [0.025      0.975]\n",
       "------------------------------------------------------------------------------\n",
       "ar.L1         -0.6728      1.078     -0.624      0.532      -2.785       1.439\n",
       "ar.L2          0.0926      1.027      0.090      0.928      -1.920       2.105\n",
       "ar.L3         -0.0015      0.587     -0.003      0.998      -1.151       1.148\n",
       "ar.L4         -0.1343      0.564     -0.238      0.812      -1.241       0.972\n",
       "ar.L5          0.1011      0.503      0.201      0.841      -0.886       1.088\n",
       "ar.L6          0.0368      0.554      0.066      0.947      -1.049       1.123\n",
       "ar.L7         -0.1192      0.476     -0.250      0.802      -1.053       0.814\n",
       "ar.L8          0.0845      0.593      0.142      0.887      -1.078       1.247\n",
       "ar.L9         -0.0505      0.388     -0.130      0.896      -0.811       0.710\n",
       "ar.L10        -0.4451      0.362     -1.228      0.219      -1.155       0.265\n",
       "ar.L11        -0.4163      0.694     -0.600      0.548      -1.776       0.943\n",
       "ar.L12        -0.3642      0.517     -0.704      0.482      -1.378       0.650\n",
       "ma.L1          0.6115      1.210      0.505      0.613      -1.761       2.984\n",
       "ma.L2         -0.0387      1.625     -0.024      0.981      -3.223       3.145\n",
       "ma.L3          0.0512      1.304      0.039      0.969      -2.506       2.608\n",
       "ma.L4          0.0385      0.965      0.040      0.968      -1.854       1.931\n",
       "ma.L5         -0.2075      0.901     -0.230      0.818      -1.973       1.558\n",
       "ma.L6         -0.0021      0.765     -0.003      0.998      -1.502       1.498\n",
       "ma.L7          0.3154      1.094      0.288      0.773      -1.828       2.459\n",
       "ma.L8         -0.0692      1.180     -0.059      0.953      -2.381       2.243\n",
       "ma.L9         -0.0136      1.310     -0.010      0.992      -2.581       2.553\n",
       "ma.L10         0.5003      1.130      0.443      0.658      -1.714       2.715\n",
       "ma.L11         0.5702      1.353      0.421      0.673      -2.082       3.222\n",
       "ma.L12         0.5267      0.941      0.560      0.576      -1.317       2.371\n",
       "ma.L13        -0.0582      0.177     -0.329      0.742      -0.405       0.288\n",
       "sigma2        14.3991     15.500      0.929      0.353     -15.981      44.779\n",
       "===================================================================================\n",
       "Ljung-Box (L1) (Q):                   0.01   Jarque-Bera (JB):                14.74\n",
       "Prob(Q):                              0.94   Prob(JB):                         0.00\n",
       "Heteroskedasticity (H):               2.24   Skew:                            -0.33\n",
       "Prob(H) (two-sided):                  0.00   Kurtosis:                         3.85\n",
       "===================================================================================\n",
       "\n",
       "Warnings:\n",
       "[1] Covariance matrix calculated using the outer product of gradients (complex-step).\n",
       "\"\"\""
      ]
     },
     "execution_count": 19,
     "metadata": {},
     "output_type": "execute_result"
    }
   ],
   "source": [
    "result.summary()"
   ]
  },
  {
   "cell_type": "code",
   "execution_count": 20,
   "metadata": {},
   "outputs": [
    {
     "data": {
      "text/plain": [
       "307"
      ]
     },
     "execution_count": 20,
     "metadata": {},
     "output_type": "execute_result"
    }
   ],
   "source": [
    "# Actual vs. Fitted\n",
    "\n",
    "# result.plot_diagnostics()\n",
    "len(result.forecasts[0])"
   ]
  },
  {
   "cell_type": "code",
   "execution_count": 21,
   "metadata": {},
   "outputs": [],
   "source": [
    "df[\"preds\"] = result.forecasts[0]"
   ]
  },
  {
   "cell_type": "code",
   "execution_count": 22,
   "metadata": {},
   "outputs": [
    {
     "data": {
      "text/html": [
       "<div>\n",
       "<style scoped>\n",
       "    .dataframe tbody tr th:only-of-type {\n",
       "        vertical-align: middle;\n",
       "    }\n",
       "\n",
       "    .dataframe tbody tr th {\n",
       "        vertical-align: top;\n",
       "    }\n",
       "\n",
       "    .dataframe thead th {\n",
       "        text-align: right;\n",
       "    }\n",
       "</style>\n",
       "<table border=\"1\" class=\"dataframe\">\n",
       "  <thead>\n",
       "    <tr style=\"text-align: right;\">\n",
       "      <th></th>\n",
       "      <th>5. adjusted close</th>\n",
       "      <th>preds</th>\n",
       "    </tr>\n",
       "    <tr>\n",
       "      <th>date</th>\n",
       "      <th></th>\n",
       "      <th></th>\n",
       "    </tr>\n",
       "  </thead>\n",
       "  <tbody>\n",
       "    <tr>\n",
       "      <th>2020-12-15</th>\n",
       "      <td>211.912422</td>\n",
       "      <td>0.000000</td>\n",
       "    </tr>\n",
       "    <tr>\n",
       "      <th>2020-12-16</th>\n",
       "      <td>217.009088</td>\n",
       "      <td>211.912199</td>\n",
       "    </tr>\n",
       "    <tr>\n",
       "      <th>2020-12-17</th>\n",
       "      <td>217.147638</td>\n",
       "      <td>216.685390</td>\n",
       "    </tr>\n",
       "    <tr>\n",
       "      <th>2020-12-18</th>\n",
       "      <td>216.326234</td>\n",
       "      <td>217.454416</td>\n",
       "    </tr>\n",
       "    <tr>\n",
       "      <th>2020-12-21</th>\n",
       "      <td>220.284809</td>\n",
       "      <td>216.278558</td>\n",
       "    </tr>\n",
       "  </tbody>\n",
       "</table>\n",
       "</div>"
      ],
      "text/plain": [
       "            5. adjusted close       preds\n",
       "date                                     \n",
       "2020-12-15         211.912422    0.000000\n",
       "2020-12-16         217.009088  211.912199\n",
       "2020-12-17         217.147638  216.685390\n",
       "2020-12-18         216.326234  217.454416\n",
       "2020-12-21         220.284809  216.278558"
      ]
     },
     "execution_count": 22,
     "metadata": {},
     "output_type": "execute_result"
    }
   ],
   "source": [
    "df.head()"
   ]
  },
  {
   "cell_type": "code",
   "execution_count": 23,
   "metadata": {},
   "outputs": [
    {
     "data": {
      "text/plain": [
       "array([211.91219933, 216.68539016, 217.45441588, 216.27855828,\n",
       "       219.86531254, 221.81708913, 218.81531519, 220.66015789,\n",
       "       222.43982673, 221.75820153, 220.02126568, 220.26783158,\n",
       "       215.64367098, 215.29587837, 211.05640644, 215.72074372,\n",
       "       217.19568138, 215.43319977, 212.51078943, 213.72809197,\n",
       "       210.33517184, 210.68779289, 213.76296829, 221.0272006 ,\n",
       "       222.79851137, 223.48731147, 227.18688813, 229.24125623,\n",
       "       231.05068789, 236.98552615, 230.2536746 , 235.64170579,\n",
       "       239.05463466, 241.55965951, 240.87191623, 239.32618132,\n",
       "       239.07085936, 243.34071   , 240.64005902, 241.65184876,\n",
       "       241.49797155, 240.86811002, 243.8236971 , 240.37816419,\n",
       "       237.53829972, 232.40853083, 231.28757565, 232.80463172,\n",
       "       227.19648994, 228.73324859, 236.53377475, 231.72157688,\n",
       "       226.20407079, 224.17552707, 228.41635886, 228.66110648,\n",
       "       231.58260156, 229.87035267, 233.81356214, 234.76612262,\n",
       "       235.36770153, 233.88118502, 233.48769963, 230.08334107,\n",
       "       229.195928  , 233.83753923, 234.49144152, 234.61783154,\n",
       "       231.58271148, 233.42084857, 232.32139388, 231.42255834,\n",
       "       233.82117309, 240.23762565, 245.56669625, 247.74811354,\n",
       "       247.97660911, 249.48985173, 253.6665852 , 254.76142495,\n",
       "       257.85221129, 252.34463665, 256.69824796, 260.58431371,\n",
       "       259.17712741, 255.25350935, 257.65608875, 255.37473386,\n",
       "       261.67489788, 259.60444806, 257.63365787, 252.68902823,\n",
       "       250.6837276 , 250.81091943, 248.062555  , 244.69525412,\n",
       "       244.80616133, 247.54840988, 249.30253896, 246.04381969,\n",
       "       242.23997654, 238.08566366, 239.45979294, 247.22541719,\n",
       "       244.69822872, 240.13569345, 241.40502399, 245.07781812,\n",
       "       246.02489472, 249.83070238, 248.31850854, 249.57931072,\n",
       "       249.50810305, 248.98861043, 245.26013788, 244.11497535,\n",
       "       245.60091976, 250.07681629, 251.53011355, 250.46989376,\n",
       "       251.95628226, 256.2294462 , 256.95837236, 257.00372127,\n",
       "       256.86844021, 255.75275829, 260.10114934, 258.90580004,\n",
       "       260.78968658, 264.35694921, 264.45304501, 265.28236697,\n",
       "       264.10405103, 266.12543373, 271.06930566, 270.2549993 ,\n",
       "       269.15626451, 275.42211769, 275.47678268, 279.92689225,\n",
       "       275.6566591 , 274.31055514, 275.85625098, 280.64707626,\n",
       "       281.62946924, 279.04201269, 277.06607558, 277.59954001,\n",
       "       278.98626688, 279.44105329, 284.34570251, 286.92784415,\n",
       "       289.876483  , 284.11861701, 283.34877724, 284.45070058,\n",
       "       284.9032992 , 283.3755657 , 284.05582135, 283.39923518,\n",
       "       289.6183135 , 289.36649414, 285.23132973, 283.62304662,\n",
       "       284.85229355, 290.48097103, 290.96089435, 291.58384066,\n",
       "       291.13441423, 291.18093638, 295.58346382, 303.22610508,\n",
       "       302.33501074, 302.73289808, 300.60826998, 297.47592243,\n",
       "       299.44856671, 303.15424657, 301.77038448, 299.46132253,\n",
       "       299.62585738, 300.98110168, 300.48102551, 298.29103134,\n",
       "       295.50897404, 293.39417921, 296.76972442, 298.54875228,\n",
       "       302.44633415, 303.76966554, 298.90483821, 292.69353391,\n",
       "       292.43153386, 297.01673985, 300.22573584, 298.81386076,\n",
       "       291.87734523, 282.47290736, 283.44333466, 283.68464276,\n",
       "       286.97772147, 281.62933263, 286.56703775, 292.56906901,\n",
       "       294.95256481, 292.09677158, 291.49665578, 289.78587335,\n",
       "       295.63687131, 301.93675313, 302.05350225, 305.81817403,\n",
       "       307.44142387, 308.14288534, 309.39231595, 308.53783415,\n",
       "       307.41071404, 311.29946578, 322.27917201, 325.53842202,\n",
       "       330.03203407, 328.43240352, 331.06685148, 332.1347479 ,\n",
       "       336.35617693, 333.69162201, 335.00788061, 333.66557914,\n",
       "       330.68853066, 330.68587127, 334.63164879, 335.13321687,\n",
       "       338.70709748, 339.32490206, 339.31639844, 343.19769864,\n",
       "       340.09626496, 337.76532222, 335.86773049, 329.7632924 ,\n",
       "       336.23406196, 332.38113665, 327.75923453, 328.42981661,\n",
       "       322.59249275, 325.0501397 , 334.64442541, 332.08394695,\n",
       "       332.5037473 , 340.16870161, 338.03911748, 328.71923559,\n",
       "       331.27816562, 325.15327847, 323.48576804, 320.72138843,\n",
       "       327.39587136, 332.19905134, 336.51659289, 342.52721594,\n",
       "       340.15741258, 339.5833911 , 339.75188931, 336.73376132,\n",
       "       332.34623443, 328.48693089, 315.12278576, 314.43632195,\n",
       "       312.49908854, 313.64785799, 314.49688993, 316.95629471,\n",
       "       303.532778  , 307.41718328, 302.20120026, 302.73486409,\n",
       "       300.17444356, 293.96496241, 294.77538917, 289.37107018,\n",
       "       295.93774303, 299.24985141, 307.41783788, 309.77193888,\n",
       "       310.59893002, 308.78427925, 304.15905688, 303.71619161,\n",
       "       302.92643996, 303.68904327, 309.43670614, 305.41652693,\n",
       "       293.23688503, 294.78474097, 298.62248709, 301.88447469,\n",
       "       291.53926028, 284.18320558, 284.2911754 , 283.65511952,\n",
       "       294.85721847, 296.81457419, 293.19075753, 294.80874379,\n",
       "       302.57468385, 294.4160501 ])"
      ]
     },
     "execution_count": 23,
     "metadata": {},
     "output_type": "execute_result"
    }
   ],
   "source": [
    "result.forecasts[0][-306:]"
   ]
  },
  {
   "cell_type": "code",
   "execution_count": 24,
   "metadata": {},
   "outputs": [
    {
     "data": {
      "image/png": "[encoded data removed]",
      "text/plain": [
       "<Figure size 864x576 with 2 Axes>"
      ]
     },
     "metadata": {},
     "output_type": "display_data"
    }
   ],
   "source": [
    "plt.figure(figsize=(12,8))\n",
    "\n",
    "ax1 = df[\"5. adjusted close\"][-63:].plot(color='blue', grid=True, secondary_y=False, label='Actual', marker='.')\n",
    "ax2 = df[\"preds\"][-63:].plot(color='red', grid=True, secondary_y=True, label='Predicted', marker='.')\n",
    "\n",
    "if ticker == \"aapl\":\n",
    "    a, b = 155, 185\n",
    "elif ticker == \"amzn\":\n",
    "    a, b = 2700, 3550\n",
    "elif ticker == \"msft\":\n",
    "    a, b = 275, 345\n",
    "\n",
    "ax1.set_ylim(a,b)\n",
    "ax2.set_ylim(a,b)\n",
    "\n",
    "h1, l1 = ax1.get_legend_handles_labels()\n",
    "h2, l2 = ax2.get_legend_handles_labels()\n",
    "\n",
    "ax1.set_xlabel(\"Date\")\n",
    "plt.legend(h1+h2, l1+l2, loc=1)\n",
    "plt.show()"
   ]
  },
  {
   "cell_type": "code",
   "execution_count": 25,
   "metadata": {},
   "outputs": [
    {
     "name": "stdout",
     "output_type": "stream",
     "text": [
      "3.016636646722445\n"
     ]
    }
   ],
   "source": [
    "true = df[\"5. adjusted close\"][-244:]\n",
    "predicted = df[\"preds\"][-244:]\n",
    "\n",
    "def mae(y_true, predictions):\n",
    "    y_true, predictions = np.array(y_true), np.array(predictions)\n",
    "    return np.mean(np.abs(y_true - predictions))\n",
    "\n",
    "\n",
    "print(mae(true, predicted))"
   ]
  },
  {
   "cell_type": "code",
   "execution_count": 26,
   "metadata": {},
   "outputs": [
    {
     "data": {
      "text/html": [
       "<div>\n",
       "<style scoped>\n",
       "    .dataframe tbody tr th:only-of-type {\n",
       "        vertical-align: middle;\n",
       "    }\n",
       "\n",
       "    .dataframe tbody tr th {\n",
       "        vertical-align: top;\n",
       "    }\n",
       "\n",
       "    .dataframe thead th {\n",
       "        text-align: right;\n",
       "    }\n",
       "</style>\n",
       "<table border=\"1\" class=\"dataframe\">\n",
       "  <thead>\n",
       "    <tr style=\"text-align: right;\">\n",
       "      <th></th>\n",
       "      <th>5. adjusted close</th>\n",
       "      <th>preds</th>\n",
       "    </tr>\n",
       "    <tr>\n",
       "      <th>date</th>\n",
       "      <th></th>\n",
       "      <th></th>\n",
       "    </tr>\n",
       "  </thead>\n",
       "  <tbody>\n",
       "    <tr>\n",
       "      <th>2022-02-28</th>\n",
       "      <td>298.79</td>\n",
       "      <td>296.814574</td>\n",
       "    </tr>\n",
       "    <tr>\n",
       "      <th>2022-03-01</th>\n",
       "      <td>294.95</td>\n",
       "      <td>293.190758</td>\n",
       "    </tr>\n",
       "    <tr>\n",
       "      <th>2022-03-02</th>\n",
       "      <td>300.19</td>\n",
       "      <td>294.808744</td>\n",
       "    </tr>\n",
       "    <tr>\n",
       "      <th>2022-03-03</th>\n",
       "      <td>295.92</td>\n",
       "      <td>302.574684</td>\n",
       "    </tr>\n",
       "    <tr>\n",
       "      <th>2022-03-04</th>\n",
       "      <td>289.86</td>\n",
       "      <td>294.416050</td>\n",
       "    </tr>\n",
       "  </tbody>\n",
       "</table>\n",
       "</div>"
      ],
      "text/plain": [
       "            5. adjusted close       preds\n",
       "date                                     \n",
       "2022-02-28             298.79  296.814574\n",
       "2022-03-01             294.95  293.190758\n",
       "2022-03-02             300.19  294.808744\n",
       "2022-03-03             295.92  302.574684\n",
       "2022-03-04             289.86  294.416050"
      ]
     },
     "execution_count": 26,
     "metadata": {},
     "output_type": "execute_result"
    }
   ],
   "source": [
    "df.tail()"
   ]
  },
  {
   "cell_type": "code",
   "execution_count": 27,
   "metadata": {},
   "outputs": [],
   "source": [
    "df_compare = df[-244:].copy()\n",
    "\n",
    "true = df_compare[\"5. adjusted close\"][-244:]\n",
    "predicted = df_compare[\"preds\"][-244:]"
   ]
  },
  {
   "cell_type": "code",
   "execution_count": 28,
   "metadata": {},
   "outputs": [],
   "source": [
    "from sklearn.metrics import mean_absolute_error"
   ]
  },
  {
   "cell_type": "code",
   "execution_count": 29,
   "metadata": {},
   "outputs": [
    {
     "data": {
      "text/plain": [
       "'Test MAE: 3.0166'"
      ]
     },
     "execution_count": 29,
     "metadata": {},
     "output_type": "execute_result"
    }
   ],
   "source": [
    "test_mae = mean_absolute_error(true.to_numpy(), predicted)\n",
    "f'Test MAE: {test_mae:.4f}'"
   ]
  },
  {
   "cell_type": "code",
   "execution_count": 30,
   "metadata": {},
   "outputs": [
    {
     "data": {
      "text/html": [
       "<div>\n",
       "<style scoped>\n",
       "    .dataframe tbody tr th:only-of-type {\n",
       "        vertical-align: middle;\n",
       "    }\n",
       "\n",
       "    .dataframe tbody tr th {\n",
       "        vertical-align: top;\n",
       "    }\n",
       "\n",
       "    .dataframe thead th {\n",
       "        text-align: right;\n",
       "    }\n",
       "</style>\n",
       "<table border=\"1\" class=\"dataframe\">\n",
       "  <thead>\n",
       "    <tr style=\"text-align: right;\">\n",
       "      <th></th>\n",
       "      <th>5. adjusted close</th>\n",
       "      <th>preds</th>\n",
       "    </tr>\n",
       "    <tr>\n",
       "      <th>date</th>\n",
       "      <th></th>\n",
       "      <th></th>\n",
       "    </tr>\n",
       "  </thead>\n",
       "  <tbody>\n",
       "    <tr>\n",
       "      <th>2021-03-18</th>\n",
       "      <td>228.854221</td>\n",
       "      <td>233.487700</td>\n",
       "    </tr>\n",
       "    <tr>\n",
       "      <th>2021-03-19</th>\n",
       "      <td>228.487213</td>\n",
       "      <td>230.083341</td>\n",
       "    </tr>\n",
       "    <tr>\n",
       "      <th>2021-03-22</th>\n",
       "      <td>234.081604</td>\n",
       "      <td>229.195928</td>\n",
       "    </tr>\n",
       "    <tr>\n",
       "      <th>2021-03-23</th>\n",
       "      <td>235.658746</td>\n",
       "      <td>233.837539</td>\n",
       "    </tr>\n",
       "    <tr>\n",
       "      <th>2021-03-24</th>\n",
       "      <td>233.555890</td>\n",
       "      <td>234.491442</td>\n",
       "    </tr>\n",
       "  </tbody>\n",
       "</table>\n",
       "</div>"
      ],
      "text/plain": [
       "            5. adjusted close       preds\n",
       "date                                     \n",
       "2021-03-18         228.854221  233.487700\n",
       "2021-03-19         228.487213  230.083341\n",
       "2021-03-22         234.081604  229.195928\n",
       "2021-03-23         235.658746  233.837539\n",
       "2021-03-24         233.555890  234.491442"
      ]
     },
     "execution_count": 30,
     "metadata": {},
     "output_type": "execute_result"
    }
   ],
   "source": [
    "df_compare.head()"
   ]
  },
  {
   "cell_type": "code",
   "execution_count": 31,
   "metadata": {},
   "outputs": [
    {
     "data": {
      "text/html": [
       "<div>\n",
       "<style scoped>\n",
       "    .dataframe tbody tr th:only-of-type {\n",
       "        vertical-align: middle;\n",
       "    }\n",
       "\n",
       "    .dataframe tbody tr th {\n",
       "        vertical-align: top;\n",
       "    }\n",
       "\n",
       "    .dataframe thead th {\n",
       "        text-align: right;\n",
       "    }\n",
       "</style>\n",
       "<table border=\"1\" class=\"dataframe\">\n",
       "  <thead>\n",
       "    <tr style=\"text-align: right;\">\n",
       "      <th></th>\n",
       "      <th>5. adjusted close</th>\n",
       "      <th>preds</th>\n",
       "    </tr>\n",
       "    <tr>\n",
       "      <th>date</th>\n",
       "      <th></th>\n",
       "      <th></th>\n",
       "    </tr>\n",
       "  </thead>\n",
       "  <tbody>\n",
       "    <tr>\n",
       "      <th>2022-02-28</th>\n",
       "      <td>298.79</td>\n",
       "      <td>296.814574</td>\n",
       "    </tr>\n",
       "    <tr>\n",
       "      <th>2022-03-01</th>\n",
       "      <td>294.95</td>\n",
       "      <td>293.190758</td>\n",
       "    </tr>\n",
       "    <tr>\n",
       "      <th>2022-03-02</th>\n",
       "      <td>300.19</td>\n",
       "      <td>294.808744</td>\n",
       "    </tr>\n",
       "    <tr>\n",
       "      <th>2022-03-03</th>\n",
       "      <td>295.92</td>\n",
       "      <td>302.574684</td>\n",
       "    </tr>\n",
       "    <tr>\n",
       "      <th>2022-03-04</th>\n",
       "      <td>289.86</td>\n",
       "      <td>294.416050</td>\n",
       "    </tr>\n",
       "  </tbody>\n",
       "</table>\n",
       "</div>"
      ],
      "text/plain": [
       "            5. adjusted close       preds\n",
       "date                                     \n",
       "2022-02-28             298.79  296.814574\n",
       "2022-03-01             294.95  293.190758\n",
       "2022-03-02             300.19  294.808744\n",
       "2022-03-03             295.92  302.574684\n",
       "2022-03-04             289.86  294.416050"
      ]
     },
     "execution_count": 31,
     "metadata": {},
     "output_type": "execute_result"
    }
   ],
   "source": [
    "df_compare.tail()"
   ]
  },
  {
   "cell_type": "code",
   "execution_count": 32,
   "metadata": {},
   "outputs": [],
   "source": [
    "df_compare[\"percentage_change\"] = df_compare['5. adjusted close'].pct_change()\n",
    "df_compare[\"increase\"] = df_compare[\"percentage_change\"].apply(lambda x: 1 if x > 0 else 0)"
   ]
  },
  {
   "cell_type": "code",
   "execution_count": 33,
   "metadata": {},
   "outputs": [],
   "source": [
    "df_compare[\"percentage_change\"] = df_compare[\"percentage_change\"].shift(-1)\n",
    "df_compare[\"increase\"] = df_compare[\"increase\"].shift(-1)\n",
    "df_compare[\"preds\"] = df_compare[\"preds\"].shift(-1)"
   ]
  },
  {
   "cell_type": "code",
   "execution_count": 34,
   "metadata": {},
   "outputs": [
    {
     "data": {
      "text/html": [
       "<div>\n",
       "<style scoped>\n",
       "    .dataframe tbody tr th:only-of-type {\n",
       "        vertical-align: middle;\n",
       "    }\n",
       "\n",
       "    .dataframe tbody tr th {\n",
       "        vertical-align: top;\n",
       "    }\n",
       "\n",
       "    .dataframe thead th {\n",
       "        text-align: right;\n",
       "    }\n",
       "</style>\n",
       "<table border=\"1\" class=\"dataframe\">\n",
       "  <thead>\n",
       "    <tr style=\"text-align: right;\">\n",
       "      <th></th>\n",
       "      <th>5. adjusted close</th>\n",
       "      <th>preds</th>\n",
       "      <th>percentage_change</th>\n",
       "      <th>increase</th>\n",
       "    </tr>\n",
       "    <tr>\n",
       "      <th>date</th>\n",
       "      <th></th>\n",
       "      <th></th>\n",
       "      <th></th>\n",
       "      <th></th>\n",
       "    </tr>\n",
       "  </thead>\n",
       "  <tbody>\n",
       "    <tr>\n",
       "      <th>2021-03-18</th>\n",
       "      <td>228.854221</td>\n",
       "      <td>230.083341</td>\n",
       "      <td>-0.001604</td>\n",
       "      <td>0.0</td>\n",
       "    </tr>\n",
       "    <tr>\n",
       "      <th>2021-03-19</th>\n",
       "      <td>228.487213</td>\n",
       "      <td>229.195928</td>\n",
       "      <td>0.024484</td>\n",
       "      <td>1.0</td>\n",
       "    </tr>\n",
       "    <tr>\n",
       "      <th>2021-03-22</th>\n",
       "      <td>234.081604</td>\n",
       "      <td>233.837539</td>\n",
       "      <td>0.006738</td>\n",
       "      <td>1.0</td>\n",
       "    </tr>\n",
       "    <tr>\n",
       "      <th>2021-03-23</th>\n",
       "      <td>235.658746</td>\n",
       "      <td>234.491442</td>\n",
       "      <td>-0.008923</td>\n",
       "      <td>0.0</td>\n",
       "    </tr>\n",
       "    <tr>\n",
       "      <th>2021-03-24</th>\n",
       "      <td>233.555890</td>\n",
       "      <td>234.617832</td>\n",
       "      <td>-0.013251</td>\n",
       "      <td>0.0</td>\n",
       "    </tr>\n",
       "  </tbody>\n",
       "</table>\n",
       "</div>"
      ],
      "text/plain": [
       "            5. adjusted close       preds  percentage_change  increase\n",
       "date                                                                  \n",
       "2021-03-18         228.854221  230.083341          -0.001604       0.0\n",
       "2021-03-19         228.487213  229.195928           0.024484       1.0\n",
       "2021-03-22         234.081604  233.837539           0.006738       1.0\n",
       "2021-03-23         235.658746  234.491442          -0.008923       0.0\n",
       "2021-03-24         233.555890  234.617832          -0.013251       0.0"
      ]
     },
     "execution_count": 34,
     "metadata": {},
     "output_type": "execute_result"
    }
   ],
   "source": [
    "df_compare.head()"
   ]
  },
  {
   "cell_type": "code",
   "execution_count": 35,
   "metadata": {},
   "outputs": [
    {
     "data": {
      "text/html": [
       "<div>\n",
       "<style scoped>\n",
       "    .dataframe tbody tr th:only-of-type {\n",
       "        vertical-align: middle;\n",
       "    }\n",
       "\n",
       "    .dataframe tbody tr th {\n",
       "        vertical-align: top;\n",
       "    }\n",
       "\n",
       "    .dataframe thead th {\n",
       "        text-align: right;\n",
       "    }\n",
       "</style>\n",
       "<table border=\"1\" class=\"dataframe\">\n",
       "  <thead>\n",
       "    <tr style=\"text-align: right;\">\n",
       "      <th></th>\n",
       "      <th>5. adjusted close</th>\n",
       "      <th>preds</th>\n",
       "      <th>percentage_change</th>\n",
       "      <th>increase</th>\n",
       "    </tr>\n",
       "    <tr>\n",
       "      <th>date</th>\n",
       "      <th></th>\n",
       "      <th></th>\n",
       "      <th></th>\n",
       "      <th></th>\n",
       "    </tr>\n",
       "  </thead>\n",
       "  <tbody>\n",
       "    <tr>\n",
       "      <th>2022-02-28</th>\n",
       "      <td>298.79</td>\n",
       "      <td>293.190758</td>\n",
       "      <td>-0.012852</td>\n",
       "      <td>0.0</td>\n",
       "    </tr>\n",
       "    <tr>\n",
       "      <th>2022-03-01</th>\n",
       "      <td>294.95</td>\n",
       "      <td>294.808744</td>\n",
       "      <td>0.017766</td>\n",
       "      <td>1.0</td>\n",
       "    </tr>\n",
       "    <tr>\n",
       "      <th>2022-03-02</th>\n",
       "      <td>300.19</td>\n",
       "      <td>302.574684</td>\n",
       "      <td>-0.014224</td>\n",
       "      <td>0.0</td>\n",
       "    </tr>\n",
       "    <tr>\n",
       "      <th>2022-03-03</th>\n",
       "      <td>295.92</td>\n",
       "      <td>294.416050</td>\n",
       "      <td>-0.020479</td>\n",
       "      <td>0.0</td>\n",
       "    </tr>\n",
       "    <tr>\n",
       "      <th>2022-03-04</th>\n",
       "      <td>289.86</td>\n",
       "      <td>NaN</td>\n",
       "      <td>NaN</td>\n",
       "      <td>NaN</td>\n",
       "    </tr>\n",
       "  </tbody>\n",
       "</table>\n",
       "</div>"
      ],
      "text/plain": [
       "            5. adjusted close       preds  percentage_change  increase\n",
       "date                                                                  \n",
       "2022-02-28             298.79  293.190758          -0.012852       0.0\n",
       "2022-03-01             294.95  294.808744           0.017766       1.0\n",
       "2022-03-02             300.19  302.574684          -0.014224       0.0\n",
       "2022-03-03             295.92  294.416050          -0.020479       0.0\n",
       "2022-03-04             289.86         NaN                NaN       NaN"
      ]
     },
     "execution_count": 35,
     "metadata": {},
     "output_type": "execute_result"
    }
   ],
   "source": [
    "df_compare.tail()"
   ]
  },
  {
   "cell_type": "code",
   "execution_count": 36,
   "metadata": {},
   "outputs": [],
   "source": [
    "df_compare[\"pred_increase\"] = np.where(df_compare[\"preds\"] > df_compare[\"5. adjusted close\"], 1.0, 0.0)"
   ]
  },
  {
   "cell_type": "code",
   "execution_count": 37,
   "metadata": {},
   "outputs": [
    {
     "data": {
      "text/html": [
       "<div>\n",
       "<style scoped>\n",
       "    .dataframe tbody tr th:only-of-type {\n",
       "        vertical-align: middle;\n",
       "    }\n",
       "\n",
       "    .dataframe tbody tr th {\n",
       "        vertical-align: top;\n",
       "    }\n",
       "\n",
       "    .dataframe thead th {\n",
       "        text-align: right;\n",
       "    }\n",
       "</style>\n",
       "<table border=\"1\" class=\"dataframe\">\n",
       "  <thead>\n",
       "    <tr style=\"text-align: right;\">\n",
       "      <th></th>\n",
       "      <th>5. adjusted close</th>\n",
       "      <th>preds</th>\n",
       "      <th>percentage_change</th>\n",
       "      <th>increase</th>\n",
       "      <th>pred_increase</th>\n",
       "    </tr>\n",
       "    <tr>\n",
       "      <th>date</th>\n",
       "      <th></th>\n",
       "      <th></th>\n",
       "      <th></th>\n",
       "      <th></th>\n",
       "      <th></th>\n",
       "    </tr>\n",
       "  </thead>\n",
       "  <tbody>\n",
       "    <tr>\n",
       "      <th>2021-03-18</th>\n",
       "      <td>228.854221</td>\n",
       "      <td>230.083341</td>\n",
       "      <td>-0.001604</td>\n",
       "      <td>0.0</td>\n",
       "      <td>1.0</td>\n",
       "    </tr>\n",
       "    <tr>\n",
       "      <th>2021-03-19</th>\n",
       "      <td>228.487213</td>\n",
       "      <td>229.195928</td>\n",
       "      <td>0.024484</td>\n",
       "      <td>1.0</td>\n",
       "      <td>1.0</td>\n",
       "    </tr>\n",
       "    <tr>\n",
       "      <th>2021-03-22</th>\n",
       "      <td>234.081604</td>\n",
       "      <td>233.837539</td>\n",
       "      <td>0.006738</td>\n",
       "      <td>1.0</td>\n",
       "      <td>0.0</td>\n",
       "    </tr>\n",
       "    <tr>\n",
       "      <th>2021-03-23</th>\n",
       "      <td>235.658746</td>\n",
       "      <td>234.491442</td>\n",
       "      <td>-0.008923</td>\n",
       "      <td>0.0</td>\n",
       "      <td>0.0</td>\n",
       "    </tr>\n",
       "    <tr>\n",
       "      <th>2021-03-24</th>\n",
       "      <td>233.555890</td>\n",
       "      <td>234.617832</td>\n",
       "      <td>-0.013251</td>\n",
       "      <td>0.0</td>\n",
       "      <td>1.0</td>\n",
       "    </tr>\n",
       "  </tbody>\n",
       "</table>\n",
       "</div>"
      ],
      "text/plain": [
       "            5. adjusted close       preds  percentage_change  increase  \\\n",
       "date                                                                     \n",
       "2021-03-18         228.854221  230.083341          -0.001604       0.0   \n",
       "2021-03-19         228.487213  229.195928           0.024484       1.0   \n",
       "2021-03-22         234.081604  233.837539           0.006738       1.0   \n",
       "2021-03-23         235.658746  234.491442          -0.008923       0.0   \n",
       "2021-03-24         233.555890  234.617832          -0.013251       0.0   \n",
       "\n",
       "            pred_increase  \n",
       "date                       \n",
       "2021-03-18            1.0  \n",
       "2021-03-19            1.0  \n",
       "2021-03-22            0.0  \n",
       "2021-03-23            0.0  \n",
       "2021-03-24            1.0  "
      ]
     },
     "execution_count": 37,
     "metadata": {},
     "output_type": "execute_result"
    }
   ],
   "source": [
    "df_compare.head()"
   ]
  },
  {
   "cell_type": "code",
   "execution_count": 38,
   "metadata": {},
   "outputs": [
    {
     "data": {
      "text/html": [
       "<div>\n",
       "<style scoped>\n",
       "    .dataframe tbody tr th:only-of-type {\n",
       "        vertical-align: middle;\n",
       "    }\n",
       "\n",
       "    .dataframe tbody tr th {\n",
       "        vertical-align: top;\n",
       "    }\n",
       "\n",
       "    .dataframe thead th {\n",
       "        text-align: right;\n",
       "    }\n",
       "</style>\n",
       "<table border=\"1\" class=\"dataframe\">\n",
       "  <thead>\n",
       "    <tr style=\"text-align: right;\">\n",
       "      <th></th>\n",
       "      <th>5. adjusted close</th>\n",
       "      <th>preds</th>\n",
       "      <th>percentage_change</th>\n",
       "      <th>increase</th>\n",
       "      <th>pred_increase</th>\n",
       "    </tr>\n",
       "    <tr>\n",
       "      <th>date</th>\n",
       "      <th></th>\n",
       "      <th></th>\n",
       "      <th></th>\n",
       "      <th></th>\n",
       "      <th></th>\n",
       "    </tr>\n",
       "  </thead>\n",
       "  <tbody>\n",
       "    <tr>\n",
       "      <th>2022-02-28</th>\n",
       "      <td>298.79</td>\n",
       "      <td>293.190758</td>\n",
       "      <td>-0.012852</td>\n",
       "      <td>0.0</td>\n",
       "      <td>0.0</td>\n",
       "    </tr>\n",
       "    <tr>\n",
       "      <th>2022-03-01</th>\n",
       "      <td>294.95</td>\n",
       "      <td>294.808744</td>\n",
       "      <td>0.017766</td>\n",
       "      <td>1.0</td>\n",
       "      <td>0.0</td>\n",
       "    </tr>\n",
       "    <tr>\n",
       "      <th>2022-03-02</th>\n",
       "      <td>300.19</td>\n",
       "      <td>302.574684</td>\n",
       "      <td>-0.014224</td>\n",
       "      <td>0.0</td>\n",
       "      <td>1.0</td>\n",
       "    </tr>\n",
       "    <tr>\n",
       "      <th>2022-03-03</th>\n",
       "      <td>295.92</td>\n",
       "      <td>294.416050</td>\n",
       "      <td>-0.020479</td>\n",
       "      <td>0.0</td>\n",
       "      <td>0.0</td>\n",
       "    </tr>\n",
       "    <tr>\n",
       "      <th>2022-03-04</th>\n",
       "      <td>289.86</td>\n",
       "      <td>NaN</td>\n",
       "      <td>NaN</td>\n",
       "      <td>NaN</td>\n",
       "      <td>0.0</td>\n",
       "    </tr>\n",
       "  </tbody>\n",
       "</table>\n",
       "</div>"
      ],
      "text/plain": [
       "            5. adjusted close       preds  percentage_change  increase  \\\n",
       "date                                                                     \n",
       "2022-02-28             298.79  293.190758          -0.012852       0.0   \n",
       "2022-03-01             294.95  294.808744           0.017766       1.0   \n",
       "2022-03-02             300.19  302.574684          -0.014224       0.0   \n",
       "2022-03-03             295.92  294.416050          -0.020479       0.0   \n",
       "2022-03-04             289.86         NaN                NaN       NaN   \n",
       "\n",
       "            pred_increase  \n",
       "date                       \n",
       "2022-02-28            0.0  \n",
       "2022-03-01            0.0  \n",
       "2022-03-02            1.0  \n",
       "2022-03-03            0.0  \n",
       "2022-03-04            0.0  "
      ]
     },
     "execution_count": 38,
     "metadata": {},
     "output_type": "execute_result"
    }
   ],
   "source": [
    "df_compare.tail()"
   ]
  },
  {
   "cell_type": "code",
   "execution_count": 39,
   "metadata": {},
   "outputs": [],
   "source": [
    "df_compare = df_compare.drop(\"2022-03-04\")"
   ]
  },
  {
   "cell_type": "markdown",
   "metadata": {},
   "source": [
    "#### Postive Increase Prediction %"
   ]
  },
  {
   "cell_type": "code",
   "execution_count": 40,
   "metadata": {},
   "outputs": [
    {
     "data": {
      "text/plain": [
       "0.5476190476190477"
      ]
     },
     "execution_count": 40,
     "metadata": {},
     "output_type": "execute_result"
    }
   ],
   "source": [
    "df_compare[(df_compare[\"increase\"]==1) & (df_compare[\"pred_increase\"]==1)].shape[0] / df_compare[(df_compare[\"increase\"]==1)].shape[0]"
   ]
  },
  {
   "cell_type": "markdown",
   "metadata": {},
   "source": [
    "### Negative Increase Prediction %"
   ]
  },
  {
   "cell_type": "code",
   "execution_count": 41,
   "metadata": {},
   "outputs": [
    {
     "data": {
      "text/plain": [
       "0.5641025641025641"
      ]
     },
     "execution_count": 41,
     "metadata": {},
     "output_type": "execute_result"
    }
   ],
   "source": [
    "df_compare[(df_compare[\"increase\"]==0) & (df_compare[\"pred_increase\"]==0)].shape[0] / df_compare[(df_compare[\"increase\"]==0)].shape[0]"
   ]
  },
  {
   "cell_type": "markdown",
   "metadata": {},
   "source": [
    "#### Overall Prediction Accuracy %"
   ]
  },
  {
   "cell_type": "code",
   "execution_count": 42,
   "metadata": {},
   "outputs": [
    {
     "data": {
      "text/plain": [
       "0.5555555555555556"
      ]
     },
     "execution_count": 42,
     "metadata": {},
     "output_type": "execute_result"
    }
   ],
   "source": [
    "df_compare[(df_compare[\"increase\"] == df_compare[\"pred_increase\"])].shape[0] / (df_compare.shape[0])"
   ]
  },
  {
   "cell_type": "markdown",
   "metadata": {},
   "source": [
    "#### Actual Distribution of Increase (1) vs. Decrease (0)"
   ]
  },
  {
   "cell_type": "code",
   "execution_count": 43,
   "metadata": {},
   "outputs": [
    {
     "data": {
      "text/plain": [
       "1.0    126\n",
       "0.0    117\n",
       "Name: increase, dtype: int64"
      ]
     },
     "execution_count": 43,
     "metadata": {},
     "output_type": "execute_result"
    }
   ],
   "source": [
    "df_compare[\"increase\"].value_counts()"
   ]
  },
  {
   "cell_type": "code",
   "execution_count": 44,
   "metadata": {},
   "outputs": [
    {
     "data": {
      "text/plain": [
       "1.0    0.518519\n",
       "0.0    0.481481\n",
       "Name: increase, dtype: float64"
      ]
     },
     "execution_count": 44,
     "metadata": {},
     "output_type": "execute_result"
    }
   ],
   "source": [
    "df_compare[\"increase\"].value_counts(normalize=True)"
   ]
  },
  {
   "cell_type": "markdown",
   "metadata": {},
   "source": [
    "### Predicted Distribution of Increase (1) vs. Decrease (0)"
   ]
  },
  {
   "cell_type": "code",
   "execution_count": 45,
   "metadata": {},
   "outputs": [
    {
     "data": {
      "text/plain": [
       "0.0    123\n",
       "1.0    120\n",
       "Name: pred_increase, dtype: int64"
      ]
     },
     "execution_count": 45,
     "metadata": {},
     "output_type": "execute_result"
    }
   ],
   "source": [
    "df_compare[\"pred_increase\"].value_counts()"
   ]
  },
  {
   "cell_type": "code",
   "execution_count": 46,
   "metadata": {},
   "outputs": [
    {
     "data": {
      "text/plain": [
       "0.0    0.506173\n",
       "1.0    0.493827\n",
       "Name: pred_increase, dtype: float64"
      ]
     },
     "execution_count": 46,
     "metadata": {},
     "output_type": "execute_result"
    }
   ],
   "source": [
    "df_compare[\"pred_increase\"].value_counts(normalize=True)"
   ]
  },
  {
   "cell_type": "code",
   "execution_count": 47,
   "metadata": {},
   "outputs": [],
   "source": [
    "from sklearn.metrics import confusion_matrix, classification_report"
   ]
  },
  {
   "cell_type": "code",
   "execution_count": 48,
   "metadata": {},
   "outputs": [],
   "source": [
    "class_names = [\"Down\", \"Up\"]"
   ]
  },
  {
   "cell_type": "code",
   "execution_count": 53,
   "metadata": {},
   "outputs": [
    {
     "name": "stdout",
     "output_type": "stream",
     "text": [
      "              precision    recall  f1-score   support\n",
      "\n",
      "        Down     0.5366    0.5641    0.5500       117\n",
      "          Up     0.5750    0.5476    0.5610       126\n",
      "\n",
      "    accuracy                         0.5556       243\n",
      "   macro avg     0.5558    0.5559    0.5555       243\n",
      "weighted avg     0.5565    0.5556    0.5557       243\n",
      "\n"
     ]
    }
   ],
   "source": [
    "print(classification_report(df_compare[\"increase\"], df_compare[\"pred_increase\"], target_names=class_names, digits=4))"
   ]
  },
  {
   "cell_type": "code",
   "execution_count": 51,
   "metadata": {},
   "outputs": [
    {
     "data": {
      "image/png": "[encoded data removed]",
      "text/plain": [
       "<Figure size 576x396 with 2 Axes>"
      ]
     },
     "metadata": {},
     "output_type": "display_data"
    }
   ],
   "source": [
    "def plot_confusion_matrix(confusion_matrix):\n",
    "  hm = sns.heatmap(confusion_matrix, annot=True, fmt=\"d\", cmap=\"Blues\")\n",
    "  hm.yaxis.set_ticklabels(hm.yaxis.get_ticklabels(), rotation=0, ha='right')\n",
    "  hm.xaxis.set_ticklabels(hm.xaxis.get_ticklabels(), rotation=30, ha='right')\n",
    "  plt.ylabel('True Price Movement')\n",
    "  plt.xlabel('Predicted Price Movement');\n",
    "\n",
    "\n",
    "cm = confusion_matrix(df_compare[\"increase\"], df_compare[\"pred_increase\"])\n",
    "df_ = pd.DataFrame(cm, index=class_names, columns=class_names)\n",
    "plot_confusion_matrix(df_)"
   ]
  }
 ],
 "metadata": {
  "kernelspec": {
   "display_name": "Python 3",
   "language": "python",
   "name": "python3"
  },
  "language_info": {
   "codemirror_mode": {
    "name": "ipython",
    "version": 3
   },
   "file_extension": ".py",
   "mimetype": "text/x-python",
   "name": "python",
   "nbconvert_exporter": "python",
   "pygments_lexer": "ipython3",
   "version": "3.8.10"
  },
  "orig_nbformat": 4
 },
 "nbformat": 4,
 "nbformat_minor": 2
}
